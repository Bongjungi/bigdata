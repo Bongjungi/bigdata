{
 "cells": [
  {
   "cell_type": "code",
   "execution_count": null,
   "id": "b88c267c",
   "metadata": {
    "ExecuteTime": {
     "end_time": "2021-08-26T08:49:30.580212Z",
     "start_time": "2021-08-26T08:49:29.231252Z"
    }
   },
   "outputs": [],
   "source": [
    "from selenium import webdriver\n",
    "from bs4 import BeautifulSoup\n",
    "import time\n",
    "import pandas as pd\n",
    "from matplotlib import pyplot as plt\n",
    "%matplotlib inline\n",
    "%config InlineBackend.figure_format = 'retina'\n",
    "import warnings\n",
    "warnings.filterwarnings(action='ignore')\n",
    "import numpy as np\n",
    "plt.rc('font', family='Malgun Gothic') \n",
    "plt.rc('axes', unicode_minus=False)\n",
    "import matplotlib.font_manager as fm\n",
    "font_path = 'C:\\Windows\\Fonts\\HMFMPYUN.TTF'\n",
    "font_prop = fm.FontProperties(fname=font_path, size=20)\n",
    "import seaborn as sns"
   ]
  },
  {
   "cell_type": "code",
   "execution_count": null,
   "id": "1b7b2cfa",
   "metadata": {
    "ExecuteTime": {
     "end_time": "2021-08-26T08:51:51.610835Z",
     "start_time": "2021-08-26T08:49:56.456154Z"
    }
   },
   "outputs": [],
   "source": [
    "gu=['강남구','강동구','강북구','강서구','관악구','광진구','구로구','금천구','노원구','도봉구','동대문구','동작구','마포구','서대문구','서초구','성동구','성북구','송파구','양천구','영등포구','용산구','은평구','종로구','중구','중랑구']\n",
    "su=[]\n",
    "dv=webdriver.Chrome()\n",
    "dv.get('http://www.nsdi.go.kr/lxportal/?menuno=4085')\n",
    "elem = dv.find_element_by_name('shSido')\n",
    "elem.send_keys('서울특별시')\n",
    "for g in gu:\n",
    "    elem2 = dv.find_element_by_name('shSigungu')\n",
    "    elem2.send_keys(g)\n",
    "    button = dv.find_element_by_id('icon_btn_write')\n",
    "    button.click()\n",
    "    time.sleep(1)\n",
    "    soup = BeautifulSoup(dv.page_source, 'html.parser')\n",
    "    result= soup.select_one('p.allTxt > span')\n",
    "    su.append(result.text)"
   ]
  },
  {
   "cell_type": "code",
   "execution_count": null,
   "id": "f21b4dbf",
   "metadata": {
    "ExecuteTime": {
     "end_time": "2021-08-26T08:51:55.654486Z",
     "start_time": "2021-08-26T08:51:55.644490Z"
    }
   },
   "outputs": [],
   "source": [
    "df=pd.DataFrame({'지역':gu,'사무소 개수':su})"
   ]
  },
  {
   "cell_type": "code",
   "execution_count": null,
   "id": "a4956e39",
   "metadata": {
    "ExecuteTime": {
     "end_time": "2021-08-26T08:55:16.435955Z",
     "start_time": "2021-08-26T08:52:46.154320Z"
    }
   },
   "outputs": [],
   "source": [
    "gu=['강남구','강동구','강북구','강서구','관악구','광진구','구로구','금천구','노원구','도봉구','동대문구','동작구','마포구','서대문구','서초구','성동구','성북구','송파구','양천구','영등포구','용산구','은평구','종로구','중구','중랑구']\n",
    "su=[]\n",
    "dv=webdriver.Chrome()\n",
    "dv.get('http://www.nsdi.go.kr/lxportal/?menuno=4085')\n",
    "elem = dv.find_element_by_name('shSido')\n",
    "elem.send_keys('서울특별시')\n",
    "elem3 = dv.find_element_by_name('shSelect')\n",
    "elem3.send_keys('중개사/보조원')\n",
    "for g in gu:\n",
    "    elem2 = dv.find_element_by_name('shSigungu')\n",
    "    elem2.send_keys(g)\n",
    "    button = dv.find_element_by_id('icon_btn_write')\n",
    "    button.click()\n",
    "    time.sleep(2)\n",
    "    soup = BeautifulSoup(dv.page_source, 'html.parser')\n",
    "    result= soup.select_one('p.allTxt > span')\n",
    "    su.append(result.text)\n"
   ]
  },
  {
   "cell_type": "code",
   "execution_count": null,
   "id": "93050209",
   "metadata": {
    "ExecuteTime": {
     "end_time": "2021-08-26T08:55:38.068120Z",
     "start_time": "2021-08-26T08:55:38.050168Z"
    }
   },
   "outputs": [],
   "source": [
    "df1=pd.DataFrame({'지역':gu,'노동자 수':su})"
   ]
  },
  {
   "cell_type": "code",
   "execution_count": null,
   "id": "07384513",
   "metadata": {
    "ExecuteTime": {
     "end_time": "2021-08-26T08:56:23.482068Z",
     "start_time": "2021-08-26T08:56:23.424954Z"
    }
   },
   "outputs": [],
   "source": [
    "dv.close()"
   ]
  },
  {
   "cell_type": "code",
   "execution_count": null,
   "id": "b33efbdf",
   "metadata": {
    "ExecuteTime": {
     "end_time": "2021-08-26T08:56:57.492307Z",
     "start_time": "2021-08-26T08:56:57.483309Z"
    }
   },
   "outputs": [],
   "source": [
    "df['사무소 개수']=df['사무소 개수'].map(lambda x : int(x.replace(',','')))"
   ]
  },
  {
   "cell_type": "code",
   "execution_count": null,
   "id": "7d9fb6d6",
   "metadata": {
    "ExecuteTime": {
     "end_time": "2021-08-26T08:56:58.147530Z",
     "start_time": "2021-08-26T08:56:58.141559Z"
    }
   },
   "outputs": [],
   "source": [
    "df1['노동자 수']=df1['노동자 수'].map(lambda x : int(x.replace(',','')))"
   ]
  },
  {
   "cell_type": "code",
   "execution_count": null,
   "id": "171a886c",
   "metadata": {
    "ExecuteTime": {
     "end_time": "2021-08-26T08:56:59.280459Z",
     "start_time": "2021-08-26T08:56:59.272499Z"
    }
   },
   "outputs": [],
   "source": [
    "df.isna().sum()"
   ]
  },
  {
   "cell_type": "code",
   "execution_count": null,
   "id": "454b42d0",
   "metadata": {
    "ExecuteTime": {
     "end_time": "2021-08-26T08:56:59.930721Z",
     "start_time": "2021-08-26T08:56:59.915730Z"
    }
   },
   "outputs": [],
   "source": [
    "df1.isna().sum()"
   ]
  },
  {
   "cell_type": "code",
   "execution_count": null,
   "id": "719218f1",
   "metadata": {
    "ExecuteTime": {
     "end_time": "2021-08-26T08:57:04.863269Z",
     "start_time": "2021-08-26T08:57:04.843308Z"
    }
   },
   "outputs": [],
   "source": [
    "df_seoul = pd.merge(df,df1)"
   ]
  },
  {
   "cell_type": "code",
   "execution_count": null,
   "id": "1cc69807",
   "metadata": {
    "ExecuteTime": {
     "end_time": "2021-08-26T08:57:06.227981Z",
     "start_time": "2021-08-26T08:57:06.218003Z"
    }
   },
   "outputs": [],
   "source": [
    "df_seoul # 노동자 수 : 중개사 + 중개보조원"
   ]
  },
  {
   "cell_type": "code",
   "execution_count": null,
   "id": "ce0d5934",
   "metadata": {
    "ExecuteTime": {
     "end_time": "2021-08-24T09:43:22.119537Z",
     "start_time": "2021-08-24T09:43:22.097617Z"
    }
   },
   "outputs": [],
   "source": [
    "df_seoul.info()"
   ]
  },
  {
   "cell_type": "code",
   "execution_count": null,
   "id": "c21a0c27",
   "metadata": {
    "ExecuteTime": {
     "end_time": "2021-08-26T08:57:19.052241Z",
     "start_time": "2021-08-26T08:57:18.976535Z"
    }
   },
   "outputs": [],
   "source": [
    "df_seoul.to_csv(\"df_seoul.csv\",index=False) #08.26기준"
   ]
  },
  {
   "cell_type": "code",
   "execution_count": null,
   "id": "78c8f45e",
   "metadata": {
    "ExecuteTime": {
     "end_time": "2021-08-24T09:50:27.407388Z",
     "start_time": "2021-08-24T09:50:27.400413Z"
    }
   },
   "outputs": [],
   "source": [
    "#####################################경계선 ##################################################"
   ]
  },
  {
   "cell_type": "markdown",
   "id": "de506f10",
   "metadata": {},
   "source": [
    "# 여기부터 시작"
   ]
  },
  {
   "cell_type": "code",
   "execution_count": null,
   "id": "2cbd5104",
   "metadata": {},
   "outputs": [],
   "source": [
    "###########################################################"
   ]
  },
  {
   "cell_type": "code",
   "execution_count": null,
   "id": "2108c7cb",
   "metadata": {},
   "outputs": [],
   "source": [
    "################################################################################################"
   ]
  },
  {
   "cell_type": "code",
   "execution_count": 1,
   "id": "35a62a4b",
   "metadata": {
    "ExecuteTime": {
     "end_time": "2021-08-31T11:48:35.452327Z",
     "start_time": "2021-08-31T11:48:34.444040Z"
    }
   },
   "outputs": [],
   "source": [
    "import pandas as pd\n",
    "from matplotlib import pyplot as plt\n",
    "%matplotlib inline\n",
    "%config InlineBackend.figure_format = 'retina'\n",
    "import warnings\n",
    "warnings.filterwarnings(action='ignore')\n",
    "import numpy as np\n",
    "plt.rc('font', family='Malgun Gothic') \n",
    "plt.rc('axes', unicode_minus=False)\n",
    "import matplotlib.font_manager as fm\n",
    "font_path = 'C:\\Windows\\Fonts\\HMFMPYUN.TTF'\n",
    "font_prop = fm.FontProperties(fname=font_path, size=20)\n",
    "import seaborn as sns"
   ]
  },
  {
   "cell_type": "code",
   "execution_count": null,
   "id": "6bc00578",
   "metadata": {},
   "outputs": [],
   "source": []
  },
  {
   "cell_type": "code",
   "execution_count": null,
   "id": "38a6ee63",
   "metadata": {},
   "outputs": [],
   "source": []
  },
  {
   "cell_type": "code",
   "execution_count": 2,
   "id": "844fd726",
   "metadata": {
    "ExecuteTime": {
     "end_time": "2021-08-31T11:48:36.468005Z",
     "start_time": "2021-08-31T11:48:36.454014Z"
    }
   },
   "outputs": [],
   "source": [
    "df_seoul=pd.read_csv('df_seoul.csv')"
   ]
  },
  {
   "cell_type": "code",
   "execution_count": 3,
   "id": "7aa5ec03",
   "metadata": {
    "ExecuteTime": {
     "end_time": "2021-08-31T11:48:36.999446Z",
     "start_time": "2021-08-31T11:48:36.986454Z"
    }
   },
   "outputs": [
    {
     "data": {
      "text/plain": [
       "26646"
      ]
     },
     "execution_count": 3,
     "metadata": {},
     "output_type": "execute_result"
    }
   ],
   "source": [
    "df_seoul['사무소 개수'].sum()"
   ]
  },
  {
   "cell_type": "code",
   "execution_count": 4,
   "id": "cd9108fa",
   "metadata": {
    "ExecuteTime": {
     "end_time": "2021-08-31T11:48:37.436787Z",
     "start_time": "2021-08-31T11:48:37.421801Z"
    }
   },
   "outputs": [],
   "source": [
    "df_seoul.columns=['지역','사무소','근무자']"
   ]
  },
  {
   "cell_type": "code",
   "execution_count": 5,
   "id": "0919c22a",
   "metadata": {
    "ExecuteTime": {
     "end_time": "2021-08-31T11:48:38.204864Z",
     "start_time": "2021-08-31T11:48:37.823676Z"
    }
   },
   "outputs": [],
   "source": [
    "samuso=pd.read_excel('datata/시도별개업공인중개사등록현황.xlsx')"
   ]
  },
  {
   "cell_type": "code",
   "execution_count": 6,
   "id": "f9e71512",
   "metadata": {
    "ExecuteTime": {
     "end_time": "2021-08-31T11:48:38.718160Z",
     "start_time": "2021-08-31T11:48:38.705195Z"
    }
   },
   "outputs": [],
   "source": [
    "samuso.index=samuso['분기(Quarterly)']"
   ]
  },
  {
   "cell_type": "code",
   "execution_count": 29,
   "id": "afc3e7ec",
   "metadata": {
    "ExecuteTime": {
     "end_time": "2021-08-31T12:00:52.377450Z",
     "start_time": "2021-08-31T12:00:52.352517Z"
    }
   },
   "outputs": [
    {
     "data": {
      "text/html": [
       "<div>\n",
       "<style scoped>\n",
       "    .dataframe tbody tr th:only-of-type {\n",
       "        vertical-align: middle;\n",
       "    }\n",
       "\n",
       "    .dataframe tbody tr th {\n",
       "        vertical-align: top;\n",
       "    }\n",
       "\n",
       "    .dataframe thead th {\n",
       "        text-align: right;\n",
       "    }\n",
       "</style>\n",
       "<table border=\"1\" class=\"dataframe\">\n",
       "  <thead>\n",
       "    <tr style=\"text-align: right;\">\n",
       "      <th></th>\n",
       "      <th>분기(Quarterly)</th>\n",
       "      <th>구 분</th>\n",
       "      <th>계</th>\n",
       "      <th>공인중개사</th>\n",
       "      <th>중개인</th>\n",
       "      <th>중개법인</th>\n",
       "    </tr>\n",
       "    <tr>\n",
       "      <th>분기(Quarterly)</th>\n",
       "      <th></th>\n",
       "      <th></th>\n",
       "      <th></th>\n",
       "      <th></th>\n",
       "      <th></th>\n",
       "      <th></th>\n",
       "    </tr>\n",
       "  </thead>\n",
       "  <tbody>\n",
       "    <tr>\n",
       "      <th>2013/04</th>\n",
       "      <td>2013/04</td>\n",
       "      <td>서 울</td>\n",
       "      <td>21525</td>\n",
       "      <td>18907</td>\n",
       "      <td>2367</td>\n",
       "      <td>251</td>\n",
       "    </tr>\n",
       "    <tr>\n",
       "      <th>2014/01</th>\n",
       "      <td>2014/01</td>\n",
       "      <td>서 울</td>\n",
       "      <td>21645</td>\n",
       "      <td>19112</td>\n",
       "      <td>2266</td>\n",
       "      <td>267</td>\n",
       "    </tr>\n",
       "    <tr>\n",
       "      <th>2014/02</th>\n",
       "      <td>2014/02</td>\n",
       "      <td>서 울</td>\n",
       "      <td>21684</td>\n",
       "      <td>19203</td>\n",
       "      <td>2201</td>\n",
       "      <td>280</td>\n",
       "    </tr>\n",
       "    <tr>\n",
       "      <th>2014/03</th>\n",
       "      <td>2014/03</td>\n",
       "      <td>서 울</td>\n",
       "      <td>21799</td>\n",
       "      <td>19361</td>\n",
       "      <td>2146</td>\n",
       "      <td>292</td>\n",
       "    </tr>\n",
       "    <tr>\n",
       "      <th>2014/04</th>\n",
       "      <td>2014/04</td>\n",
       "      <td>서 울</td>\n",
       "      <td>21762</td>\n",
       "      <td>19386</td>\n",
       "      <td>2072</td>\n",
       "      <td>304</td>\n",
       "    </tr>\n",
       "    <tr>\n",
       "      <th>2015/01</th>\n",
       "      <td>2015/01</td>\n",
       "      <td>서 울</td>\n",
       "      <td>21840</td>\n",
       "      <td>19527</td>\n",
       "      <td>2001</td>\n",
       "      <td>312</td>\n",
       "    </tr>\n",
       "    <tr>\n",
       "      <th>2015/02</th>\n",
       "      <td>2015/02</td>\n",
       "      <td>서 울</td>\n",
       "      <td>21943</td>\n",
       "      <td>19712</td>\n",
       "      <td>1911</td>\n",
       "      <td>320</td>\n",
       "    </tr>\n",
       "    <tr>\n",
       "      <th>2015/03</th>\n",
       "      <td>2015/03</td>\n",
       "      <td>서 울</td>\n",
       "      <td>22058</td>\n",
       "      <td>19832</td>\n",
       "      <td>1898</td>\n",
       "      <td>328</td>\n",
       "    </tr>\n",
       "    <tr>\n",
       "      <th>2015/04</th>\n",
       "      <td>2015/04</td>\n",
       "      <td>서 울</td>\n",
       "      <td>22190</td>\n",
       "      <td>19993</td>\n",
       "      <td>1848</td>\n",
       "      <td>349</td>\n",
       "    </tr>\n",
       "    <tr>\n",
       "      <th>2016/01</th>\n",
       "      <td>2016/01</td>\n",
       "      <td>서 울</td>\n",
       "      <td>22411</td>\n",
       "      <td>20251</td>\n",
       "      <td>1771</td>\n",
       "      <td>389</td>\n",
       "    </tr>\n",
       "    <tr>\n",
       "      <th>2016/02</th>\n",
       "      <td>2016/02</td>\n",
       "      <td>서 울</td>\n",
       "      <td>22595</td>\n",
       "      <td>20480</td>\n",
       "      <td>1702</td>\n",
       "      <td>413</td>\n",
       "    </tr>\n",
       "    <tr>\n",
       "      <th>2016/03</th>\n",
       "      <td>2016/03</td>\n",
       "      <td>서 울</td>\n",
       "      <td>22806</td>\n",
       "      <td>20710</td>\n",
       "      <td>1656</td>\n",
       "      <td>440</td>\n",
       "    </tr>\n",
       "    <tr>\n",
       "      <th>2016/04</th>\n",
       "      <td>2016/04</td>\n",
       "      <td>서 울</td>\n",
       "      <td>23013</td>\n",
       "      <td>20936</td>\n",
       "      <td>1622</td>\n",
       "      <td>455</td>\n",
       "    </tr>\n",
       "    <tr>\n",
       "      <th>2017/01</th>\n",
       "      <td>2017/01</td>\n",
       "      <td>서 울</td>\n",
       "      <td>23428</td>\n",
       "      <td>21366</td>\n",
       "      <td>1582</td>\n",
       "      <td>480</td>\n",
       "    </tr>\n",
       "    <tr>\n",
       "      <th>2017/02</th>\n",
       "      <td>2017/02</td>\n",
       "      <td>서 울</td>\n",
       "      <td>23687</td>\n",
       "      <td>21646</td>\n",
       "      <td>1534</td>\n",
       "      <td>507</td>\n",
       "    </tr>\n",
       "    <tr>\n",
       "      <th>2017/03</th>\n",
       "      <td>2017/03</td>\n",
       "      <td>서 울</td>\n",
       "      <td>23880</td>\n",
       "      <td>21844</td>\n",
       "      <td>1507</td>\n",
       "      <td>529</td>\n",
       "    </tr>\n",
       "    <tr>\n",
       "      <th>2017/04</th>\n",
       "      <td>2017/04</td>\n",
       "      <td>서 울</td>\n",
       "      <td>23876</td>\n",
       "      <td>21871</td>\n",
       "      <td>1461</td>\n",
       "      <td>544</td>\n",
       "    </tr>\n",
       "    <tr>\n",
       "      <th>2018/01</th>\n",
       "      <td>2018/01</td>\n",
       "      <td>서 울</td>\n",
       "      <td>24308</td>\n",
       "      <td>22298</td>\n",
       "      <td>1423</td>\n",
       "      <td>587</td>\n",
       "    </tr>\n",
       "    <tr>\n",
       "      <th>2018/02</th>\n",
       "      <td>2018/02</td>\n",
       "      <td>서 울</td>\n",
       "      <td>24532</td>\n",
       "      <td>22534</td>\n",
       "      <td>1378</td>\n",
       "      <td>620</td>\n",
       "    </tr>\n",
       "    <tr>\n",
       "      <th>2018/03</th>\n",
       "      <td>2018/03</td>\n",
       "      <td>서 울</td>\n",
       "      <td>24594</td>\n",
       "      <td>22609</td>\n",
       "      <td>1352</td>\n",
       "      <td>633</td>\n",
       "    </tr>\n",
       "    <tr>\n",
       "      <th>2018/04</th>\n",
       "      <td>2018/04</td>\n",
       "      <td>서 울</td>\n",
       "      <td>24683</td>\n",
       "      <td>22719</td>\n",
       "      <td>1310</td>\n",
       "      <td>654</td>\n",
       "    </tr>\n",
       "    <tr>\n",
       "      <th>2019/01</th>\n",
       "      <td>2019/01</td>\n",
       "      <td>서 울</td>\n",
       "      <td>24922</td>\n",
       "      <td>22970</td>\n",
       "      <td>1282</td>\n",
       "      <td>670</td>\n",
       "    </tr>\n",
       "    <tr>\n",
       "      <th>2019/02</th>\n",
       "      <td>2019/02</td>\n",
       "      <td>서 울</td>\n",
       "      <td>24992</td>\n",
       "      <td>23090</td>\n",
       "      <td>1241</td>\n",
       "      <td>661</td>\n",
       "    </tr>\n",
       "    <tr>\n",
       "      <th>2019/03</th>\n",
       "      <td>2019/03</td>\n",
       "      <td>서 울</td>\n",
       "      <td>25110</td>\n",
       "      <td>23220</td>\n",
       "      <td>1204</td>\n",
       "      <td>686</td>\n",
       "    </tr>\n",
       "    <tr>\n",
       "      <th>2019/04</th>\n",
       "      <td>2019/04</td>\n",
       "      <td>서 울</td>\n",
       "      <td>25191</td>\n",
       "      <td>23309</td>\n",
       "      <td>1173</td>\n",
       "      <td>709</td>\n",
       "    </tr>\n",
       "    <tr>\n",
       "      <th>2020/01</th>\n",
       "      <td>2020/01</td>\n",
       "      <td>서 울</td>\n",
       "      <td>25539</td>\n",
       "      <td>23654</td>\n",
       "      <td>1123</td>\n",
       "      <td>762</td>\n",
       "    </tr>\n",
       "    <tr>\n",
       "      <th>2020/02</th>\n",
       "      <td>2020/02</td>\n",
       "      <td>서 울</td>\n",
       "      <td>25702</td>\n",
       "      <td>23857</td>\n",
       "      <td>1098</td>\n",
       "      <td>747</td>\n",
       "    </tr>\n",
       "    <tr>\n",
       "      <th>2020/03</th>\n",
       "      <td>2020/03</td>\n",
       "      <td>서 울</td>\n",
       "      <td>26052</td>\n",
       "      <td>24189</td>\n",
       "      <td>1096</td>\n",
       "      <td>767</td>\n",
       "    </tr>\n",
       "    <tr>\n",
       "      <th>2020/04</th>\n",
       "      <td>2020/04</td>\n",
       "      <td>서 울</td>\n",
       "      <td>26056</td>\n",
       "      <td>24193</td>\n",
       "      <td>1077</td>\n",
       "      <td>786</td>\n",
       "    </tr>\n",
       "    <tr>\n",
       "      <th>2021/01</th>\n",
       "      <td>2021/01</td>\n",
       "      <td>서 울</td>\n",
       "      <td>28936</td>\n",
       "      <td>26910</td>\n",
       "      <td>1167</td>\n",
       "      <td>859</td>\n",
       "    </tr>\n",
       "    <tr>\n",
       "      <th>2021/02</th>\n",
       "      <td>2021/02</td>\n",
       "      <td>서 울</td>\n",
       "      <td>29982</td>\n",
       "      <td>27891</td>\n",
       "      <td>1175</td>\n",
       "      <td>916</td>\n",
       "    </tr>\n",
       "  </tbody>\n",
       "</table>\n",
       "</div>"
      ],
      "text/plain": [
       "              분기(Quarterly)  구 분      계  공인중개사   중개인  중개법인\n",
       "분기(Quarterly)                                             \n",
       "2013/04             2013/04  서 울  21525  18907  2367   251\n",
       "2014/01             2014/01  서 울  21645  19112  2266   267\n",
       "2014/02             2014/02  서 울  21684  19203  2201   280\n",
       "2014/03             2014/03  서 울  21799  19361  2146   292\n",
       "2014/04             2014/04  서 울  21762  19386  2072   304\n",
       "2015/01             2015/01  서 울  21840  19527  2001   312\n",
       "2015/02             2015/02  서 울  21943  19712  1911   320\n",
       "2015/03             2015/03  서 울  22058  19832  1898   328\n",
       "2015/04             2015/04  서 울  22190  19993  1848   349\n",
       "2016/01             2016/01  서 울  22411  20251  1771   389\n",
       "2016/02             2016/02  서 울  22595  20480  1702   413\n",
       "2016/03             2016/03  서 울  22806  20710  1656   440\n",
       "2016/04             2016/04  서 울  23013  20936  1622   455\n",
       "2017/01             2017/01  서 울  23428  21366  1582   480\n",
       "2017/02             2017/02  서 울  23687  21646  1534   507\n",
       "2017/03             2017/03  서 울  23880  21844  1507   529\n",
       "2017/04             2017/04  서 울  23876  21871  1461   544\n",
       "2018/01             2018/01  서 울  24308  22298  1423   587\n",
       "2018/02             2018/02  서 울  24532  22534  1378   620\n",
       "2018/03             2018/03  서 울  24594  22609  1352   633\n",
       "2018/04             2018/04  서 울  24683  22719  1310   654\n",
       "2019/01             2019/01  서 울  24922  22970  1282   670\n",
       "2019/02             2019/02  서 울  24992  23090  1241   661\n",
       "2019/03             2019/03  서 울  25110  23220  1204   686\n",
       "2019/04             2019/04  서 울  25191  23309  1173   709\n",
       "2020/01             2020/01  서 울  25539  23654  1123   762\n",
       "2020/02             2020/02  서 울  25702  23857  1098   747\n",
       "2020/03             2020/03  서 울  26052  24189  1096   767\n",
       "2020/04             2020/04  서 울  26056  24193  1077   786\n",
       "2021/01             2021/01  서 울  28936  26910  1167   859\n",
       "2021/02             2021/02  서 울  29982  27891  1175   916"
      ]
     },
     "execution_count": 29,
     "metadata": {},
     "output_type": "execute_result"
    }
   ],
   "source": [
    "samuso[55:]"
   ]
  },
  {
   "cell_type": "code",
   "execution_count": 23,
   "id": "f49cd99f",
   "metadata": {
    "ExecuteTime": {
     "end_time": "2021-08-31T11:57:18.877282Z",
     "start_time": "2021-08-31T11:57:18.541978Z"
    }
   },
   "outputs": [
    {
     "data": {
      "image/png": "[encoded data removed]",
      "text/plain": [
       "<Figure size 864x720 with 1 Axes>"
      ]
     },
     "metadata": {
      "image/png": {
       "height": 645,
       "width": 745
      },
      "needs_background": "light"
     },
     "output_type": "display_data"
    }
   ],
   "source": [
    "samuso['공인중개사'].plot(figsize=(12,10),fontsize=20,xlabel='')\n",
    "plt.title('공인중개사(서울)', pad=30, fontsize=40)\n",
    "\n",
    "plt.annotate('(2013/04, 18907)',xytext=(45,15000),\n",
    "                xy=(55,18907), fontsize=20,\n",
    "                arrowprops= dict(arrowstyle='->',connectionstyle='angle3'))\n",
    "plt.savefig('data/서울시공인중개사.png')"
   ]
  },
  {
   "cell_type": "code",
   "execution_count": null,
   "id": "009200f4",
   "metadata": {
    "ExecuteTime": {
     "end_time": "2021-08-31T11:44:34.732157Z",
     "start_time": "2021-08-31T11:44:34.484785Z"
    },
    "scrolled": true
   },
   "outputs": [],
   "source": [
    "samuso['중개인'].plot(figsize=(12,10),fontsize=20,xlabel='')\n",
    "plt.title('중개인(서울)', pad=30, fontsize=40)\n",
    "#plt.savefig('data/서울시중개인.png')"
   ]
  },
  {
   "cell_type": "code",
   "execution_count": 31,
   "id": "e7267cb9",
   "metadata": {
    "ExecuteTime": {
     "end_time": "2021-08-31T12:09:09.599932Z",
     "start_time": "2021-08-31T12:09:09.235992Z"
    },
    "scrolled": true
   },
   "outputs": [
    {
     "data": {
      "image/png": "[encoded data removed]",
      "text/plain": [
       "<Figure size 864x720 with 1 Axes>"
      ]
     },
     "metadata": {
      "image/png": {
       "height": 645,
       "width": 723
      },
      "needs_background": "light"
     },
     "output_type": "display_data"
    }
   ],
   "source": [
    "samuso['중개법인'].plot(figsize=(12,10),fontsize=20,xlabel='')\n",
    "plt.title('중개법인(서울)', pad=30, fontsize=40)\n",
    "plt.annotate('(2013/04, 251)',xytext=(35,400),\n",
    "                xy=(55,251), fontsize=20,\n",
    "                arrowprops= dict(arrowstyle='->',connectionstyle='angle3'))\n",
    "plt.savefig('data/서울시중개법인.png')"
   ]
  },
  {
   "cell_type": "code",
   "execution_count": 28,
   "id": "8821a2f2",
   "metadata": {
    "ExecuteTime": {
     "end_time": "2021-08-31T12:00:21.753315Z",
     "start_time": "2021-08-31T12:00:21.383459Z"
    }
   },
   "outputs": [
    {
     "data": {
      "image/png": "[encoded data removed]",
      "text/plain": [
       "<Figure size 864x720 with 1 Axes>"
      ]
     },
     "metadata": {
      "image/png": {
       "height": 645,
       "width": 745
      },
      "needs_background": "light"
     },
     "output_type": "display_data"
    }
   ],
   "source": [
    "samuso['계'].plot(figsize=(12,10),fontsize=20,xlabel='',)\n",
    "plt.title('개업공인중개사(서울)', pad=30, fontsize=40)\n",
    "plt.annotate('(2013/04, 21525)',xytext=(45,18000),\n",
    "                xy=(55,21525), fontsize=20,\n",
    "                arrowprops= dict(arrowstyle='->',connectionstyle='angle3'))\n",
    "plt.savefig('data/서울시중개.png')"
   ]
  },
  {
   "cell_type": "code",
   "execution_count": null,
   "id": "d1e0a82d",
   "metadata": {
    "ExecuteTime": {
     "end_time": "2021-08-26T08:57:43.717493Z",
     "start_time": "2021-08-26T08:57:43.696529Z"
    }
   },
   "outputs": [],
   "source": [
    "df_seoul_melted=df_seoul.melt(id_vars='지역').copy()"
   ]
  },
  {
   "cell_type": "code",
   "execution_count": null,
   "id": "f909d78c",
   "metadata": {
    "ExecuteTime": {
     "end_time": "2021-08-26T06:44:32.932369Z",
     "start_time": "2021-08-26T06:44:32.919399Z"
    },
    "scrolled": true
   },
   "outputs": [],
   "source": [
    "samuso"
   ]
  },
  {
   "cell_type": "code",
   "execution_count": null,
   "id": "a72a83bf",
   "metadata": {
    "ExecuteTime": {
     "end_time": "2021-08-26T09:01:39.385411Z",
     "start_time": "2021-08-26T09:01:39.364488Z"
    },
    "scrolled": false
   },
   "outputs": [],
   "source": [
    "df_seoul.loc[13:]"
   ]
  },
  {
   "cell_type": "code",
   "execution_count": null,
   "id": "8579b71d",
   "metadata": {
    "ExecuteTime": {
     "end_time": "2021-08-26T08:58:31.130217Z",
     "start_time": "2021-08-26T08:58:31.103262Z"
    }
   },
   "outputs": [],
   "source": [
    "df_seoul_melted"
   ]
  },
  {
   "cell_type": "code",
   "execution_count": null,
   "id": "10afba62",
   "metadata": {
    "ExecuteTime": {
     "end_time": "2021-08-26T09:14:27.762125Z",
     "start_time": "2021-08-26T09:14:27.744206Z"
    }
   },
   "outputs": [],
   "source": [
    "samuso.drop(labels=['분기(Quarterly)','구 분'],axis=1).T"
   ]
  },
  {
   "cell_type": "code",
   "execution_count": null,
   "id": "02d2d8d3",
   "metadata": {
    "ExecuteTime": {
     "end_time": "2021-08-26T08:58:51.076046Z",
     "start_time": "2021-08-26T08:58:50.285337Z"
    }
   },
   "outputs": [],
   "source": [
    "plt.figure(figsize=(18,10))\n",
    "g=sns.barplot(data=df_seoul_melted,x='지역',y='value',hue='variable',)\n",
    "g.set_xticklabels(labels=df_seoul['지역'],rotation=30, size=15)\n",
    "g.legend(prop={'size': 16})\n",
    "a=g.get_yticks()\n",
    "a=[int(i) for i in a]\n",
    "g.set_yticklabels(labels=a, size = 15)\n",
    "g.set_xlabel(None) \n",
    "g.set_ylabel(None)\n",
    "plt.title('※ 근무자 : 개업공인중개사, 소속공인중개사, 중개보조원\\n※ 날짜 : 2021년 08월 26일', loc='right', fontsize=15)\n",
    "plt.suptitle('서울시 중개사무소 및 근무자 수',fontsize=27)\n",
    "plt.savefig('data/사무소근무자수.png')"
   ]
  },
  {
   "cell_type": "code",
   "execution_count": null,
   "id": "3281619b",
   "metadata": {},
   "outputs": [],
   "source": [
    "##################################################"
   ]
  },
  {
   "cell_type": "markdown",
   "id": "e223bc3f",
   "metadata": {},
   "source": [
    "# 여기부터 시작"
   ]
  },
  {
   "cell_type": "code",
   "execution_count": null,
   "id": "aa1e7baf",
   "metadata": {
    "ExecuteTime": {
     "end_time": "2021-08-27T02:50:39.355552Z",
     "start_time": "2021-08-27T02:50:39.349550Z"
    }
   },
   "outputs": [],
   "source": [
    "#######################################################"
   ]
  },
  {
   "cell_type": "code",
   "execution_count": null,
   "id": "de458aa9",
   "metadata": {
    "ExecuteTime": {
     "end_time": "2021-08-30T08:24:00.045011Z",
     "start_time": "2021-08-30T08:23:57.423147Z"
    }
   },
   "outputs": [],
   "source": [
    "apart200601=pd.read_csv('seoul_trade/2020/아파트(매매)__실거래가_20210827132657.csv',skiprows=15, encoding='cp949')\n",
    "apart2007=pd.read_csv('seoul_trade/2020/아파트(매매)__실거래가_20210827132639.csv',skiprows=15, encoding='cp949')\n",
    "apart2008=pd.read_csv('seoul_trade/2020/아파트(매매)__실거래가_20210827132613.csv',skiprows=15, encoding='cp949')\n",
    "apart2009=pd.read_csv('seoul_trade/2020/아파트(매매)__실거래가_20210827132550.csv',skiprows=15, encoding='cp949')\n",
    "apart2010=pd.read_csv('seoul_trade/2020/아파트(매매)__실거래가_20210827132527.csv',skiprows=15, encoding='cp949')\n",
    "apart2011=pd.read_csv('seoul_trade/2020/아파트(매매)__실거래가_20210827132324.csv',skiprows=15, encoding='cp949')\n",
    "apart2012=pd.read_csv('seoul_trade/2020/아파트(매매)__실거래가_20210827132256.csv',skiprows=15, encoding='cp949')\n",
    "apart2013=pd.read_csv('seoul_trade/2020/아파트(매매)__실거래가_20210827132237.csv',skiprows=15, encoding='cp949')\n",
    "apart2014=pd.read_csv('seoul_trade/2020/아파트(매매)__실거래가_20210827132214.csv',skiprows=15, encoding='cp949')\n",
    "apart2015=pd.read_csv('seoul_trade/2020/아파트(매매)__실거래가_20210827132147.csv',skiprows=15, encoding='cp949')\n",
    "apart2016=pd.read_csv('seoul_trade/2020/아파트(매매)__실거래가_20210827132114.csv',skiprows=15, encoding='cp949')\n",
    "apart2017=pd.read_csv('seoul_trade/2020/아파트(매매)__실거래가_20210827132047.csv',skiprows=15, encoding='cp949')\n",
    "apart2018=pd.read_csv('seoul_trade/2020/아파트(매매)__실거래가_20210827132019.csv',skiprows=15, encoding='cp949')\n",
    "apart2019=pd.read_csv('seoul_trade/2020/아파트(매매)__실거래가_20210827131953.csv',skiprows=15, encoding='cp949')\n",
    "apart2020=pd.read_csv('seoul_trade/2020/아파트(매매)__실거래가_20210827131929.csv',skiprows=15, encoding='cp949')\n",
    "apart202107=pd.read_csv('seoul_trade/2020/아파트(매매)__실거래가_20210827131901.csv',skiprows=15, encoding='cp949')"
   ]
  },
  {
   "cell_type": "code",
   "execution_count": null,
   "id": "3d8b972c",
   "metadata": {
    "ExecuteTime": {
     "end_time": "2021-08-30T08:24:00.811975Z",
     "start_time": "2021-08-30T08:24:00.780065Z"
    }
   },
   "outputs": [],
   "source": [
    "apart200601.info()"
   ]
  },
  {
   "cell_type": "code",
   "execution_count": null,
   "id": "d68df0a9",
   "metadata": {
    "ExecuteTime": {
     "end_time": "2021-08-30T08:24:05.583675Z",
     "start_time": "2021-08-30T08:24:05.544749Z"
    }
   },
   "outputs": [],
   "source": [
    "apart2007.info()"
   ]
  },
  {
   "cell_type": "code",
   "execution_count": null,
   "id": "d04da3eb",
   "metadata": {
    "ExecuteTime": {
     "end_time": "2021-08-30T08:24:05.962560Z",
     "start_time": "2021-08-30T08:24:05.923661Z"
    }
   },
   "outputs": [],
   "source": [
    "apart2008.info()"
   ]
  },
  {
   "cell_type": "code",
   "execution_count": null,
   "id": "8bcf5cd6",
   "metadata": {
    "ExecuteTime": {
     "end_time": "2021-08-30T08:24:06.342010Z",
     "start_time": "2021-08-30T08:24:06.318042Z"
    }
   },
   "outputs": [],
   "source": [
    "apart2009.info()"
   ]
  },
  {
   "cell_type": "code",
   "execution_count": null,
   "id": "c57f3344",
   "metadata": {
    "ExecuteTime": {
     "end_time": "2021-08-30T08:24:06.627374Z",
     "start_time": "2021-08-30T08:24:06.598431Z"
    }
   },
   "outputs": [],
   "source": [
    "apart2010.info()"
   ]
  },
  {
   "cell_type": "code",
   "execution_count": null,
   "id": "9b973a0c",
   "metadata": {
    "ExecuteTime": {
     "end_time": "2021-08-30T08:24:06.896791Z",
     "start_time": "2021-08-30T08:24:06.862861Z"
    }
   },
   "outputs": [],
   "source": [
    "apart2011.info()"
   ]
  },
  {
   "cell_type": "code",
   "execution_count": null,
   "id": "6ed40ccb",
   "metadata": {
    "ExecuteTime": {
     "end_time": "2021-08-30T08:24:07.149454Z",
     "start_time": "2021-08-30T08:24:07.115531Z"
    }
   },
   "outputs": [],
   "source": [
    "apart2012.info()"
   ]
  },
  {
   "cell_type": "code",
   "execution_count": null,
   "id": "2c749a6d",
   "metadata": {
    "ExecuteTime": {
     "end_time": "2021-08-30T08:24:07.636472Z",
     "start_time": "2021-08-30T08:24:07.601538Z"
    }
   },
   "outputs": [],
   "source": [
    "apart2013.info()"
   ]
  },
  {
   "cell_type": "code",
   "execution_count": null,
   "id": "f1158525",
   "metadata": {
    "ExecuteTime": {
     "end_time": "2021-08-30T08:24:08.076927Z",
     "start_time": "2021-08-30T08:24:08.040003Z"
    }
   },
   "outputs": [],
   "source": [
    "apart2014.info()"
   ]
  },
  {
   "cell_type": "code",
   "execution_count": null,
   "id": "418e49a0",
   "metadata": {
    "ExecuteTime": {
     "end_time": "2021-08-30T08:24:08.425556Z",
     "start_time": "2021-08-30T08:24:08.389653Z"
    }
   },
   "outputs": [],
   "source": [
    "apart2015.info()"
   ]
  },
  {
   "cell_type": "code",
   "execution_count": null,
   "id": "b23ef98b",
   "metadata": {
    "ExecuteTime": {
     "end_time": "2021-08-30T08:24:08.740897Z",
     "start_time": "2021-08-30T08:24:08.702002Z"
    }
   },
   "outputs": [],
   "source": [
    "apart2016.info()"
   ]
  },
  {
   "cell_type": "code",
   "execution_count": null,
   "id": "d1164890",
   "metadata": {
    "ExecuteTime": {
     "end_time": "2021-08-30T08:24:09.056796Z",
     "start_time": "2021-08-30T08:24:09.011888Z"
    }
   },
   "outputs": [],
   "source": [
    "apart2017.info()"
   ]
  },
  {
   "cell_type": "code",
   "execution_count": null,
   "id": "c0c1ba66",
   "metadata": {
    "ExecuteTime": {
     "end_time": "2021-08-30T08:24:09.657748Z",
     "start_time": "2021-08-30T08:24:09.618824Z"
    }
   },
   "outputs": [],
   "source": [
    "apart2018.info()"
   ]
  },
  {
   "cell_type": "code",
   "execution_count": null,
   "id": "9f930d40",
   "metadata": {
    "ExecuteTime": {
     "end_time": "2021-08-30T08:24:10.116568Z",
     "start_time": "2021-08-30T08:24:10.081661Z"
    }
   },
   "outputs": [],
   "source": [
    "apart2019.info()"
   ]
  },
  {
   "cell_type": "code",
   "execution_count": null,
   "id": "e324805c",
   "metadata": {
    "ExecuteTime": {
     "end_time": "2021-08-30T08:24:10.479506Z",
     "start_time": "2021-08-30T08:24:10.439606Z"
    }
   },
   "outputs": [],
   "source": [
    "apart2020.info()"
   ]
  },
  {
   "cell_type": "code",
   "execution_count": null,
   "id": "44552828",
   "metadata": {
    "ExecuteTime": {
     "end_time": "2021-08-30T08:24:10.797034Z",
     "start_time": "2021-08-30T08:24:10.775091Z"
    }
   },
   "outputs": [],
   "source": [
    "apart2020=apart2020[apart2020['해제사유발생일'].isna()]"
   ]
  },
  {
   "cell_type": "code",
   "execution_count": null,
   "id": "36a5362c",
   "metadata": {
    "ExecuteTime": {
     "end_time": "2021-08-30T08:24:13.030950Z",
     "start_time": "2021-08-30T08:24:13.000885Z"
    }
   },
   "outputs": [],
   "source": [
    "apart2020.info()"
   ]
  },
  {
   "cell_type": "code",
   "execution_count": null,
   "id": "582cc1e9",
   "metadata": {
    "ExecuteTime": {
     "end_time": "2021-08-30T08:24:14.077652Z",
     "start_time": "2021-08-30T08:24:14.050724Z"
    }
   },
   "outputs": [],
   "source": [
    "apart202107.info()"
   ]
  },
  {
   "cell_type": "code",
   "execution_count": null,
   "id": "8745bffc",
   "metadata": {
    "ExecuteTime": {
     "end_time": "2021-08-30T08:24:19.037660Z",
     "start_time": "2021-08-30T08:24:19.027657Z"
    }
   },
   "outputs": [],
   "source": [
    "apart202107=apart202107[apart202107['해제사유발생일'].isna()]"
   ]
  },
  {
   "cell_type": "code",
   "execution_count": null,
   "id": "c3d480c8",
   "metadata": {
    "ExecuteTime": {
     "end_time": "2021-08-30T08:24:20.017165Z",
     "start_time": "2021-08-30T08:24:19.981235Z"
    }
   },
   "outputs": [],
   "source": [
    "apart202107.info()"
   ]
  },
  {
   "cell_type": "code",
   "execution_count": null,
   "id": "0e4d8201",
   "metadata": {
    "ExecuteTime": {
     "end_time": "2021-08-30T08:24:23.348851Z",
     "start_time": "2021-08-30T08:24:23.341870Z"
    }
   },
   "outputs": [],
   "source": [
    "apart2020.index=range(apart2020.shape[0])\n",
    "apart202107.index=range(apart202107.shape[0])"
   ]
  },
  {
   "cell_type": "code",
   "execution_count": null,
   "id": "91889687",
   "metadata": {
    "ExecuteTime": {
     "end_time": "2021-08-30T08:24:24.245803Z",
     "start_time": "2021-08-30T08:24:24.043914Z"
    }
   },
   "outputs": [],
   "source": [
    "apart=pd.concat([apart200601,apart2007,apart2008,apart2009,apart2010,apart2011,apart2012,apart2013,apart2014,apart2015,apart2016,apart2017,apart2018,apart2019,apart2020,apart202107])\n",
    "apart"
   ]
  },
  {
   "cell_type": "code",
   "execution_count": null,
   "id": "0b9e0740",
   "metadata": {
    "ExecuteTime": {
     "end_time": "2021-08-30T08:24:27.517848Z",
     "start_time": "2021-08-30T08:24:27.507846Z"
    }
   },
   "outputs": [],
   "source": [
    "apart.index=range(apart.shape[0])"
   ]
  },
  {
   "cell_type": "code",
   "execution_count": null,
   "id": "8fe5a1fd",
   "metadata": {
    "ExecuteTime": {
     "end_time": "2021-08-30T08:24:27.865814Z",
     "start_time": "2021-08-30T08:24:27.832901Z"
    }
   },
   "outputs": [],
   "source": [
    "apart"
   ]
  },
  {
   "cell_type": "code",
   "execution_count": null,
   "id": "9aa12221",
   "metadata": {
    "ExecuteTime": {
     "end_time": "2021-08-30T08:24:30.572637Z",
     "start_time": "2021-08-30T08:24:30.545686Z"
    }
   },
   "outputs": [],
   "source": [
    "apart['계약날짜']=apart['계약년월']*100+apart['계약일']"
   ]
  },
  {
   "cell_type": "code",
   "execution_count": null,
   "id": "6c98a13f",
   "metadata": {
    "ExecuteTime": {
     "end_time": "2021-08-30T08:24:31.174401Z",
     "start_time": "2021-08-30T08:24:30.855481Z"
    }
   },
   "outputs": [],
   "source": [
    "apart['시군구']=apart['시군구'].map(lambda x : x[6:9])"
   ]
  },
  {
   "cell_type": "code",
   "execution_count": null,
   "id": "dcc958d3",
   "metadata": {
    "ExecuteTime": {
     "end_time": "2021-08-30T08:24:31.380217Z",
     "start_time": "2021-08-30T08:24:31.351068Z"
    }
   },
   "outputs": [],
   "source": [
    "apart"
   ]
  },
  {
   "cell_type": "code",
   "execution_count": null,
   "id": "aa2fda12",
   "metadata": {
    "ExecuteTime": {
     "end_time": "2021-08-30T08:24:34.844742Z",
     "start_time": "2021-08-30T08:24:34.181451Z"
    }
   },
   "outputs": [],
   "source": [
    "apart.groupby(['계약날짜','시군구']).count().sum()"
   ]
  },
  {
   "cell_type": "code",
   "execution_count": null,
   "id": "3280227f",
   "metadata": {
    "ExecuteTime": {
     "end_time": "2021-08-30T08:24:35.656097Z",
     "start_time": "2021-08-30T08:24:35.436243Z"
    }
   },
   "outputs": [],
   "source": [
    "apart1 = apart.groupby(['계약날짜','시군구'])['건축년도'].aggregate('count').unstack().copy()"
   ]
  },
  {
   "cell_type": "code",
   "execution_count": null,
   "id": "efd9e068",
   "metadata": {
    "ExecuteTime": {
     "end_time": "2021-08-30T08:24:37.255345Z",
     "start_time": "2021-08-30T08:24:37.212510Z"
    }
   },
   "outputs": [],
   "source": [
    "apart1"
   ]
  },
  {
   "cell_type": "code",
   "execution_count": null,
   "id": "4bdfa1cc",
   "metadata": {
    "ExecuteTime": {
     "end_time": "2021-08-30T08:24:44.554122Z",
     "start_time": "2021-08-30T08:24:44.535145Z"
    }
   },
   "outputs": [],
   "source": [
    "apart1.index"
   ]
  },
  {
   "cell_type": "code",
   "execution_count": null,
   "id": "1ca85e5e",
   "metadata": {
    "ExecuteTime": {
     "end_time": "2021-08-30T08:24:45.126831Z",
     "start_time": "2021-08-30T08:24:45.112841Z"
    }
   },
   "outputs": [],
   "source": [
    "apart1.columns"
   ]
  },
  {
   "cell_type": "code",
   "execution_count": null,
   "id": "36501ac4",
   "metadata": {
    "ExecuteTime": {
     "end_time": "2021-08-30T08:24:45.913588Z",
     "start_time": "2021-08-30T08:24:45.901611Z"
    }
   },
   "outputs": [],
   "source": [
    "apart1.info()"
   ]
  },
  {
   "cell_type": "code",
   "execution_count": null,
   "id": "589f8235",
   "metadata": {
    "ExecuteTime": {
     "end_time": "2021-08-30T08:24:50.715056Z",
     "start_time": "2021-08-30T08:24:50.703092Z"
    }
   },
   "outputs": [],
   "source": [
    "apart1=apart1.fillna(0)"
   ]
  },
  {
   "cell_type": "code",
   "execution_count": null,
   "id": "c0742c85",
   "metadata": {
    "ExecuteTime": {
     "end_time": "2021-08-30T08:24:51.713762Z",
     "start_time": "2021-08-30T08:24:51.693811Z"
    }
   },
   "outputs": [],
   "source": [
    "apart1.info()"
   ]
  },
  {
   "cell_type": "code",
   "execution_count": null,
   "id": "23705fa2",
   "metadata": {
    "ExecuteTime": {
     "end_time": "2021-08-30T08:24:56.828854Z",
     "start_time": "2021-08-30T08:24:56.820875Z"
    }
   },
   "outputs": [],
   "source": [
    "apart1['합계']=apart1.sum(axis=1)"
   ]
  },
  {
   "cell_type": "code",
   "execution_count": null,
   "id": "df935c33",
   "metadata": {
    "ExecuteTime": {
     "end_time": "2021-08-30T08:24:57.308940Z",
     "start_time": "2021-08-30T08:24:57.260027Z"
    }
   },
   "outputs": [],
   "source": [
    "apart1"
   ]
  },
  {
   "cell_type": "code",
   "execution_count": null,
   "id": "03317008",
   "metadata": {
    "ExecuteTime": {
     "end_time": "2021-08-30T08:25:01.025443Z",
     "start_time": "2021-08-30T08:25:00.993513Z"
    }
   },
   "outputs": [],
   "source": [
    "del apart200601,apart2007,apart2008,apart2009,apart2010,apart2011,apart2012,apart2013,apart2014,apart2015,apart2016,apart2017,apart2018,apart2019,apart2020,apart202107"
   ]
  },
  {
   "cell_type": "code",
   "execution_count": null,
   "id": "f57a7273",
   "metadata": {
    "ExecuteTime": {
     "end_time": "2021-08-30T08:25:02.418512Z",
     "start_time": "2021-08-30T08:25:02.410505Z"
    }
   },
   "outputs": [],
   "source": [
    "del apart"
   ]
  },
  {
   "cell_type": "code",
   "execution_count": null,
   "id": "590e9052",
   "metadata": {
    "ExecuteTime": {
     "end_time": "2021-08-30T08:25:02.919171Z",
     "start_time": "2021-08-30T08:25:02.880267Z"
    }
   },
   "outputs": [],
   "source": [
    "apart1"
   ]
  },
  {
   "cell_type": "code",
   "execution_count": null,
   "id": "868748e4",
   "metadata": {},
   "outputs": [],
   "source": [
    "###############         밑부분 제외 적용 x        ###################################"
   ]
  },
  {
   "cell_type": "code",
   "execution_count": null,
   "id": "8a785006",
   "metadata": {
    "ExecuteTime": {
     "end_time": "2021-08-27T05:23:16.496572Z",
     "start_time": "2021-08-27T05:23:16.487590Z"
    }
   },
   "outputs": [],
   "source": [
    "from datetime import datetime\n",
    "\n",
    "d1 = datetime.strptime(\"20060101\", \"%Y%m%d\")\n",
    "d2 = datetime.strptime(\"20210725\", \"%Y%m%d\")\n",
    "d3 = datetime.strptime(\"20060102\", \"%Y%m%d\")\n",
    "print(d2-d1)\n",
    "print(d3-d1)"
   ]
  },
  {
   "cell_type": "code",
   "execution_count": null,
   "id": "4004c143",
   "metadata": {
    "ExecuteTime": {
     "end_time": "2021-08-27T05:30:01.669547Z",
     "start_time": "2021-08-27T05:30:01.649581Z"
    }
   },
   "outputs": [],
   "source": [
    "check=apart1.reset_index()[['계약날짜','합계']]"
   ]
  },
  {
   "cell_type": "code",
   "execution_count": null,
   "id": "4ad4c59b",
   "metadata": {
    "ExecuteTime": {
     "end_time": "2021-08-27T05:33:14.800782Z",
     "start_time": "2021-08-27T05:33:14.787818Z"
    }
   },
   "outputs": [],
   "source": [
    "check['계약월']=check['계약날짜'].map(lambda x : str(x)[0:6])\n",
    "check['계약월'].value_counts()"
   ]
  },
  {
   "cell_type": "code",
   "execution_count": null,
   "id": "c211372c",
   "metadata": {
    "ExecuteTime": {
     "end_time": "2021-08-27T05:35:26.439027Z",
     "start_time": "2021-08-27T05:35:26.359241Z"
    }
   },
   "outputs": [],
   "source": [
    "apart1.loc[20100201:20100228,:]"
   ]
  },
  {
   "cell_type": "code",
   "execution_count": null,
   "id": "b53038af",
   "metadata": {
    "ExecuteTime": {
     "end_time": "2021-08-27T05:40:24.297133Z",
     "start_time": "2021-08-27T05:40:24.279171Z"
    }
   },
   "outputs": [],
   "source": [
    "apart1.loc[20100214]=[0]*apart1.shape[1]"
   ]
  },
  {
   "cell_type": "code",
   "execution_count": null,
   "id": "2d838aa8",
   "metadata": {
    "ExecuteTime": {
     "end_time": "2021-08-27T05:43:23.098532Z",
     "start_time": "2021-08-27T05:43:23.084591Z"
    }
   },
   "outputs": [],
   "source": [
    "apart1=apart1.sort_index()"
   ]
  },
  {
   "cell_type": "code",
   "execution_count": null,
   "id": "a8bbcbc1",
   "metadata": {
    "ExecuteTime": {
     "end_time": "2021-08-27T05:43:27.057097Z",
     "start_time": "2021-08-27T05:43:27.006625Z"
    }
   },
   "outputs": [],
   "source": [
    "apart1"
   ]
  },
  {
   "cell_type": "code",
   "execution_count": null,
   "id": "e325ad90",
   "metadata": {
    "ExecuteTime": {
     "end_time": "2021-08-27T05:43:35.997525Z",
     "start_time": "2021-08-27T05:43:35.902753Z"
    }
   },
   "outputs": [],
   "source": [
    "apart1.to_csv(\"apart1.csv\",index=False)"
   ]
  },
  {
   "cell_type": "code",
   "execution_count": null,
   "id": "fc8da718",
   "metadata": {
    "ExecuteTime": {
     "end_time": "2021-08-30T08:25:58.129315Z",
     "start_time": "2021-08-30T08:25:57.961933Z"
    }
   },
   "outputs": [],
   "source": [
    "apart1.to_csv(\"apart1.csv\")"
   ]
  },
  {
   "cell_type": "code",
   "execution_count": null,
   "id": "a8edb3d9",
   "metadata": {},
   "outputs": [],
   "source": []
  }
 ],
 "metadata": {
  "kernelspec": {
   "display_name": "Python 3",
   "language": "python",
   "name": "python3"
  },
  "language_info": {
   "codemirror_mode": {
    "name": "ipython",
    "version": 3
   },
   "file_extension": ".py",
   "mimetype": "text/x-python",
   "name": "python",
   "nbconvert_exporter": "python",
   "pygments_lexer": "ipython3",
   "version": "3.8.8"
  },
  "toc": {
   "base_numbering": 1,
   "nav_menu": {},
   "number_sections": false,
   "sideBar": true,
   "skip_h1_title": false,
   "title_cell": "Table of Contents",
   "title_sidebar": "Contents",
   "toc_cell": false,
   "toc_position": {
    "height": "calc(100% - 180px)",
    "left": "10px",
    "top": "150px",
    "width": "309.594px"
   },
   "toc_section_display": true,
   "toc_window_display": true
  },
  "varInspector": {
   "cols": {
    "lenName": 16,
    "lenType": 16,
    "lenVar": 40
   },
   "kernels_config": {
    "python": {
     "delete_cmd_postfix": "",
     "delete_cmd_prefix": "del ",
     "library": "var_list.py",
     "varRefreshCmd": "print(var_dic_list())"
    },
    "r": {
     "delete_cmd_postfix": ") ",
     "delete_cmd_prefix": "rm(",
     "library": "var_list.r",
     "varRefreshCmd": "cat(var_dic_list()) "
    }
   },
   "position": {
    "height": "321px",
    "left": "1178px",
    "right": "20px",
    "top": "120px",
    "width": "350px"
   },
   "types_to_exclude": [
    "module",
    "function",
    "builtin_function_or_method",
    "instance",
    "_Feature"
   ],
   "window_display": false
  }
 },
 "nbformat": 4,
 "nbformat_minor": 5
}
