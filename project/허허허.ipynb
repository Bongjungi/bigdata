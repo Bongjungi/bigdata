{
 "cells": [
  {
   "cell_type": "code",
   "execution_count": 74,
   "id": "b88c267c",
   "metadata": {
    "ExecuteTime": {
     "end_time": "2021-08-26T08:49:30.580212Z",
     "start_time": "2021-08-26T08:49:29.231252Z"
    }
   },
   "outputs": [],
   "source": [
    "from selenium import webdriver\n",
    "from bs4 import BeautifulSoup\n",
    "import time\n",
    "import pandas as pd\n",
    "from matplotlib import pyplot as plt\n",
    "%matplotlib inline\n",
    "%config InlineBackend.figure_format = 'retina'\n",
    "import warnings\n",
    "warnings.filterwarnings(action='ignore')\n",
    "import numpy as np\n",
    "plt.rc('font', family='Malgun Gothic') \n",
    "plt.rc('axes', unicode_minus=False)\n",
    "import matplotlib.font_manager as fm\n",
    "font_path = 'C:\\Windows\\Fonts\\HMFMPYUN.TTF'\n",
    "font_prop = fm.FontProperties(fname=font_path, size=20)\n",
    "import seaborn as sns"
   ]
  },
  {
   "cell_type": "code",
   "execution_count": 77,
   "id": "1b7b2cfa",
   "metadata": {
    "ExecuteTime": {
     "end_time": "2021-08-26T08:51:51.610835Z",
     "start_time": "2021-08-26T08:49:56.456154Z"
    }
   },
   "outputs": [],
   "source": [
    "gu=['강남구','강동구','강북구','강서구','관악구','광진구','구로구','금천구','노원구','도봉구','동대문구','동작구','마포구','서대문구','서초구','성동구','성북구','송파구','양천구','영등포구','용산구','은평구','종로구','중구','중랑구']\n",
    "su=[]\n",
    "dv=webdriver.Chrome()\n",
    "dv.get('http://www.nsdi.go.kr/lxportal/?menuno=4085')\n",
    "elem = dv.find_element_by_name('shSido')\n",
    "elem.send_keys('서울특별시')\n",
    "for g in gu:\n",
    "    elem2 = dv.find_element_by_name('shSigungu')\n",
    "    elem2.send_keys(g)\n",
    "    button = dv.find_element_by_id('icon_btn_write')\n",
    "    button.click()\n",
    "    time.sleep(1)\n",
    "    soup = BeautifulSoup(dv.page_source, 'html.parser')\n",
    "    result= soup.select_one('p.allTxt > span')\n",
    "    su.append(result.text)"
   ]
  },
  {
   "cell_type": "code",
   "execution_count": 78,
   "id": "f21b4dbf",
   "metadata": {
    "ExecuteTime": {
     "end_time": "2021-08-26T08:51:55.654486Z",
     "start_time": "2021-08-26T08:51:55.644490Z"
    }
   },
   "outputs": [],
   "source": [
    "df=pd.DataFrame({'지역':gu,'사무소 개수':su})"
   ]
  },
  {
   "cell_type": "code",
   "execution_count": 81,
   "id": "a4956e39",
   "metadata": {
    "ExecuteTime": {
     "end_time": "2021-08-26T08:55:16.435955Z",
     "start_time": "2021-08-26T08:52:46.154320Z"
    }
   },
   "outputs": [],
   "source": [
    "gu=['강남구','강동구','강북구','강서구','관악구','광진구','구로구','금천구','노원구','도봉구','동대문구','동작구','마포구','서대문구','서초구','성동구','성북구','송파구','양천구','영등포구','용산구','은평구','종로구','중구','중랑구']\n",
    "su=[]\n",
    "dv=webdriver.Chrome()\n",
    "dv.get('http://www.nsdi.go.kr/lxportal/?menuno=4085')\n",
    "elem = dv.find_element_by_name('shSido')\n",
    "elem.send_keys('서울특별시')\n",
    "elem3 = dv.find_element_by_name('shSelect')\n",
    "elem3.send_keys('중개사/보조원')\n",
    "for g in gu:\n",
    "    elem2 = dv.find_element_by_name('shSigungu')\n",
    "    elem2.send_keys(g)\n",
    "    button = dv.find_element_by_id('icon_btn_write')\n",
    "    button.click()\n",
    "    time.sleep(2)\n",
    "    soup = BeautifulSoup(dv.page_source, 'html.parser')\n",
    "    result= soup.select_one('p.allTxt > span')\n",
    "    su.append(result.text)\n"
   ]
  },
  {
   "cell_type": "code",
   "execution_count": 82,
   "id": "93050209",
   "metadata": {
    "ExecuteTime": {
     "end_time": "2021-08-26T08:55:38.068120Z",
     "start_time": "2021-08-26T08:55:38.050168Z"
    }
   },
   "outputs": [],
   "source": [
    "df1=pd.DataFrame({'지역':gu,'노동자 수':su})"
   ]
  },
  {
   "cell_type": "code",
   "execution_count": 84,
   "id": "07384513",
   "metadata": {
    "ExecuteTime": {
     "end_time": "2021-08-26T08:56:23.482068Z",
     "start_time": "2021-08-26T08:56:23.424954Z"
    }
   },
   "outputs": [],
   "source": [
    "dv.close()"
   ]
  },
  {
   "cell_type": "code",
   "execution_count": 87,
   "id": "b33efbdf",
   "metadata": {
    "ExecuteTime": {
     "end_time": "2021-08-26T08:56:57.492307Z",
     "start_time": "2021-08-26T08:56:57.483309Z"
    }
   },
   "outputs": [],
   "source": [
    "df['사무소 개수']=df['사무소 개수'].map(lambda x : int(x.replace(',','')))"
   ]
  },
  {
   "cell_type": "code",
   "execution_count": 88,
   "id": "7d9fb6d6",
   "metadata": {
    "ExecuteTime": {
     "end_time": "2021-08-26T08:56:58.147530Z",
     "start_time": "2021-08-26T08:56:58.141559Z"
    }
   },
   "outputs": [],
   "source": [
    "df1['노동자 수']=df1['노동자 수'].map(lambda x : int(x.replace(',','')))"
   ]
  },
  {
   "cell_type": "code",
   "execution_count": 89,
   "id": "171a886c",
   "metadata": {
    "ExecuteTime": {
     "end_time": "2021-08-26T08:56:59.280459Z",
     "start_time": "2021-08-26T08:56:59.272499Z"
    }
   },
   "outputs": [
    {
     "data": {
      "text/plain": [
       "지역        0\n",
       "사무소 개수    0\n",
       "dtype: int64"
      ]
     },
     "execution_count": 89,
     "metadata": {},
     "output_type": "execute_result"
    }
   ],
   "source": [
    "df.isna().sum()"
   ]
  },
  {
   "cell_type": "code",
   "execution_count": 90,
   "id": "454b42d0",
   "metadata": {
    "ExecuteTime": {
     "end_time": "2021-08-26T08:56:59.930721Z",
     "start_time": "2021-08-26T08:56:59.915730Z"
    }
   },
   "outputs": [
    {
     "data": {
      "text/plain": [
       "지역       0\n",
       "노동자 수    0\n",
       "dtype: int64"
      ]
     },
     "execution_count": 90,
     "metadata": {},
     "output_type": "execute_result"
    }
   ],
   "source": [
    "df1.isna().sum()"
   ]
  },
  {
   "cell_type": "code",
   "execution_count": 91,
   "id": "719218f1",
   "metadata": {
    "ExecuteTime": {
     "end_time": "2021-08-26T08:57:04.863269Z",
     "start_time": "2021-08-26T08:57:04.843308Z"
    }
   },
   "outputs": [],
   "source": [
    "df_seoul = pd.merge(df,df1)"
   ]
  },
  {
   "cell_type": "code",
   "execution_count": 92,
   "id": "1cc69807",
   "metadata": {
    "ExecuteTime": {
     "end_time": "2021-08-26T08:57:06.227981Z",
     "start_time": "2021-08-26T08:57:06.218003Z"
    }
   },
   "outputs": [
    {
     "data": {
      "text/html": [
       "<div>\n",
       "<style scoped>\n",
       "    .dataframe tbody tr th:only-of-type {\n",
       "        vertical-align: middle;\n",
       "    }\n",
       "\n",
       "    .dataframe tbody tr th {\n",
       "        vertical-align: top;\n",
       "    }\n",
       "\n",
       "    .dataframe thead th {\n",
       "        text-align: right;\n",
       "    }\n",
       "</style>\n",
       "<table border=\"1\" class=\"dataframe\">\n",
       "  <thead>\n",
       "    <tr style=\"text-align: right;\">\n",
       "      <th></th>\n",
       "      <th>지역</th>\n",
       "      <th>사무소 개수</th>\n",
       "      <th>노동자 수</th>\n",
       "    </tr>\n",
       "  </thead>\n",
       "  <tbody>\n",
       "    <tr>\n",
       "      <th>0</th>\n",
       "      <td>강남구</td>\n",
       "      <td>2844</td>\n",
       "      <td>7760</td>\n",
       "    </tr>\n",
       "    <tr>\n",
       "      <th>1</th>\n",
       "      <td>강동구</td>\n",
       "      <td>1276</td>\n",
       "      <td>2112</td>\n",
       "    </tr>\n",
       "    <tr>\n",
       "      <th>2</th>\n",
       "      <td>강북구</td>\n",
       "      <td>640</td>\n",
       "      <td>1084</td>\n",
       "    </tr>\n",
       "    <tr>\n",
       "      <th>3</th>\n",
       "      <td>강서구</td>\n",
       "      <td>1463</td>\n",
       "      <td>2957</td>\n",
       "    </tr>\n",
       "    <tr>\n",
       "      <th>4</th>\n",
       "      <td>관악구</td>\n",
       "      <td>1122</td>\n",
       "      <td>2832</td>\n",
       "    </tr>\n",
       "    <tr>\n",
       "      <th>5</th>\n",
       "      <td>광진구</td>\n",
       "      <td>917</td>\n",
       "      <td>1519</td>\n",
       "    </tr>\n",
       "    <tr>\n",
       "      <th>6</th>\n",
       "      <td>구로구</td>\n",
       "      <td>845</td>\n",
       "      <td>1432</td>\n",
       "    </tr>\n",
       "    <tr>\n",
       "      <th>7</th>\n",
       "      <td>금천구</td>\n",
       "      <td>665</td>\n",
       "      <td>1313</td>\n",
       "    </tr>\n",
       "    <tr>\n",
       "      <th>8</th>\n",
       "      <td>노원구</td>\n",
       "      <td>780</td>\n",
       "      <td>1264</td>\n",
       "    </tr>\n",
       "    <tr>\n",
       "      <th>9</th>\n",
       "      <td>도봉구</td>\n",
       "      <td>530</td>\n",
       "      <td>832</td>\n",
       "    </tr>\n",
       "    <tr>\n",
       "      <th>10</th>\n",
       "      <td>동대문구</td>\n",
       "      <td>911</td>\n",
       "      <td>1544</td>\n",
       "    </tr>\n",
       "    <tr>\n",
       "      <th>11</th>\n",
       "      <td>동작구</td>\n",
       "      <td>922</td>\n",
       "      <td>1645</td>\n",
       "    </tr>\n",
       "    <tr>\n",
       "      <th>12</th>\n",
       "      <td>마포구</td>\n",
       "      <td>1261</td>\n",
       "      <td>2261</td>\n",
       "    </tr>\n",
       "    <tr>\n",
       "      <th>13</th>\n",
       "      <td>서대문구</td>\n",
       "      <td>755</td>\n",
       "      <td>1260</td>\n",
       "    </tr>\n",
       "    <tr>\n",
       "      <th>14</th>\n",
       "      <td>서초구</td>\n",
       "      <td>1693</td>\n",
       "      <td>3735</td>\n",
       "    </tr>\n",
       "    <tr>\n",
       "      <th>15</th>\n",
       "      <td>성동구</td>\n",
       "      <td>871</td>\n",
       "      <td>1557</td>\n",
       "    </tr>\n",
       "    <tr>\n",
       "      <th>16</th>\n",
       "      <td>성북구</td>\n",
       "      <td>921</td>\n",
       "      <td>1413</td>\n",
       "    </tr>\n",
       "    <tr>\n",
       "      <th>17</th>\n",
       "      <td>송파구</td>\n",
       "      <td>1843</td>\n",
       "      <td>3491</td>\n",
       "    </tr>\n",
       "    <tr>\n",
       "      <th>18</th>\n",
       "      <td>양천구</td>\n",
       "      <td>981</td>\n",
       "      <td>1668</td>\n",
       "    </tr>\n",
       "    <tr>\n",
       "      <th>19</th>\n",
       "      <td>영등포구</td>\n",
       "      <td>1209</td>\n",
       "      <td>2233</td>\n",
       "    </tr>\n",
       "    <tr>\n",
       "      <th>20</th>\n",
       "      <td>용산구</td>\n",
       "      <td>918</td>\n",
       "      <td>1602</td>\n",
       "    </tr>\n",
       "    <tr>\n",
       "      <th>21</th>\n",
       "      <td>은평구</td>\n",
       "      <td>1276</td>\n",
       "      <td>2023</td>\n",
       "    </tr>\n",
       "    <tr>\n",
       "      <th>22</th>\n",
       "      <td>종로구</td>\n",
       "      <td>595</td>\n",
       "      <td>1079</td>\n",
       "    </tr>\n",
       "    <tr>\n",
       "      <th>23</th>\n",
       "      <td>중구</td>\n",
       "      <td>607</td>\n",
       "      <td>1053</td>\n",
       "    </tr>\n",
       "    <tr>\n",
       "      <th>24</th>\n",
       "      <td>중랑구</td>\n",
       "      <td>801</td>\n",
       "      <td>1322</td>\n",
       "    </tr>\n",
       "  </tbody>\n",
       "</table>\n",
       "</div>"
      ],
      "text/plain": [
       "      지역  사무소 개수  노동자 수\n",
       "0    강남구    2844   7760\n",
       "1    강동구    1276   2112\n",
       "2    강북구     640   1084\n",
       "3    강서구    1463   2957\n",
       "4    관악구    1122   2832\n",
       "5    광진구     917   1519\n",
       "6    구로구     845   1432\n",
       "7    금천구     665   1313\n",
       "8    노원구     780   1264\n",
       "9    도봉구     530    832\n",
       "10  동대문구     911   1544\n",
       "11   동작구     922   1645\n",
       "12   마포구    1261   2261\n",
       "13  서대문구     755   1260\n",
       "14   서초구    1693   3735\n",
       "15   성동구     871   1557\n",
       "16   성북구     921   1413\n",
       "17   송파구    1843   3491\n",
       "18   양천구     981   1668\n",
       "19  영등포구    1209   2233\n",
       "20   용산구     918   1602\n",
       "21   은평구    1276   2023\n",
       "22   종로구     595   1079\n",
       "23    중구     607   1053\n",
       "24   중랑구     801   1322"
      ]
     },
     "execution_count": 92,
     "metadata": {},
     "output_type": "execute_result"
    }
   ],
   "source": [
    "df_seoul # 노동자 수 : 중개사 + 중개보조원"
   ]
  },
  {
   "cell_type": "code",
   "execution_count": null,
   "id": "ce0d5934",
   "metadata": {
    "ExecuteTime": {
     "end_time": "2021-08-24T09:43:22.119537Z",
     "start_time": "2021-08-24T09:43:22.097617Z"
    }
   },
   "outputs": [],
   "source": [
    "df_seoul.info()"
   ]
  },
  {
   "cell_type": "code",
   "execution_count": 93,
   "id": "c21a0c27",
   "metadata": {
    "ExecuteTime": {
     "end_time": "2021-08-26T08:57:19.052241Z",
     "start_time": "2021-08-26T08:57:18.976535Z"
    }
   },
   "outputs": [],
   "source": [
    "df_seoul.to_csv(\"df_seoul.csv\",index=False) #08.26기준"
   ]
  },
  {
   "cell_type": "code",
   "execution_count": null,
   "id": "78c8f45e",
   "metadata": {
    "ExecuteTime": {
     "end_time": "2021-08-24T09:50:27.407388Z",
     "start_time": "2021-08-24T09:50:27.400413Z"
    }
   },
   "outputs": [],
   "source": [
    "#####################################경계선 ##################################################"
   ]
  },
  {
   "cell_type": "markdown",
   "id": "de506f10",
   "metadata": {},
   "source": [
    "# 여기부터 시작"
   ]
  },
  {
   "cell_type": "code",
   "execution_count": null,
   "id": "2cbd5104",
   "metadata": {},
   "outputs": [],
   "source": [
    "###########################################################"
   ]
  },
  {
   "cell_type": "code",
   "execution_count": null,
   "id": "2108c7cb",
   "metadata": {},
   "outputs": [],
   "source": [
    "################################################################################################"
   ]
  },
  {
   "cell_type": "code",
   "execution_count": 1,
   "id": "35a62a4b",
   "metadata": {
    "ExecuteTime": {
     "end_time": "2021-08-26T06:41:31.283504Z",
     "start_time": "2021-08-26T06:41:30.269417Z"
    }
   },
   "outputs": [],
   "source": [
    "import pandas as pd\n",
    "from matplotlib import pyplot as plt\n",
    "%matplotlib inline\n",
    "%config InlineBackend.figure_format = 'retina'\n",
    "import warnings\n",
    "warnings.filterwarnings(action='ignore')\n",
    "import numpy as np\n",
    "plt.rc('font', family='Malgun Gothic') \n",
    "plt.rc('axes', unicode_minus=False)\n",
    "import matplotlib.font_manager as fm\n",
    "font_path = 'C:\\Windows\\Fonts\\HMFMPYUN.TTF'\n",
    "font_prop = fm.FontProperties(fname=font_path, size=20)\n",
    "import seaborn as sns"
   ]
  },
  {
   "cell_type": "code",
   "execution_count": null,
   "id": "6bc00578",
   "metadata": {},
   "outputs": [],
   "source": []
  },
  {
   "cell_type": "code",
   "execution_count": null,
   "id": "38a6ee63",
   "metadata": {},
   "outputs": [],
   "source": []
  },
  {
   "cell_type": "code",
   "execution_count": 2,
   "id": "844fd726",
   "metadata": {
    "ExecuteTime": {
     "end_time": "2021-08-26T06:41:33.381795Z",
     "start_time": "2021-08-26T06:41:33.360861Z"
    }
   },
   "outputs": [],
   "source": [
    "df_seoul=pd.read_csv('df_seoul.csv')"
   ]
  },
  {
   "cell_type": "code",
   "execution_count": 94,
   "id": "7aa5ec03",
   "metadata": {
    "ExecuteTime": {
     "end_time": "2021-08-26T08:57:30.248017Z",
     "start_time": "2021-08-26T08:57:30.233063Z"
    }
   },
   "outputs": [
    {
     "data": {
      "text/plain": [
       "26646"
      ]
     },
     "execution_count": 94,
     "metadata": {},
     "output_type": "execute_result"
    }
   ],
   "source": [
    "df_seoul['사무소 개수'].sum()"
   ]
  },
  {
   "cell_type": "code",
   "execution_count": 95,
   "id": "cd9108fa",
   "metadata": {
    "ExecuteTime": {
     "end_time": "2021-08-26T08:57:35.000075Z",
     "start_time": "2021-08-26T08:57:34.996079Z"
    }
   },
   "outputs": [],
   "source": [
    "df_seoul.columns=['지역','사무소','근무자']"
   ]
  },
  {
   "cell_type": "code",
   "execution_count": 5,
   "id": "0919c22a",
   "metadata": {
    "ExecuteTime": {
     "end_time": "2021-08-26T06:41:34.890224Z",
     "start_time": "2021-08-26T06:41:34.456402Z"
    }
   },
   "outputs": [],
   "source": [
    "samuso=pd.read_excel('datata/시도별개업공인중개사등록현황.xlsx')"
   ]
  },
  {
   "cell_type": "code",
   "execution_count": 6,
   "id": "f9e71512",
   "metadata": {
    "ExecuteTime": {
     "end_time": "2021-08-26T06:41:34.936708Z",
     "start_time": "2021-08-26T06:41:34.923027Z"
    }
   },
   "outputs": [],
   "source": [
    "samuso.index=samuso['분기(Quarterly)']"
   ]
  },
  {
   "cell_type": "code",
   "execution_count": 105,
   "id": "37cc7441",
   "metadata": {
    "ExecuteTime": {
     "end_time": "2021-08-26T09:11:33.999415Z",
     "start_time": "2021-08-26T09:11:33.976489Z"
    }
   },
   "outputs": [
    {
     "data": {
      "text/html": [
       "<div>\n",
       "<style scoped>\n",
       "    .dataframe tbody tr th:only-of-type {\n",
       "        vertical-align: middle;\n",
       "    }\n",
       "\n",
       "    .dataframe tbody tr th {\n",
       "        vertical-align: top;\n",
       "    }\n",
       "\n",
       "    .dataframe thead th {\n",
       "        text-align: right;\n",
       "    }\n",
       "</style>\n",
       "<table border=\"1\" class=\"dataframe\">\n",
       "  <thead>\n",
       "    <tr style=\"text-align: right;\">\n",
       "      <th></th>\n",
       "      <th>분기(Quarterly)</th>\n",
       "      <th>구 분</th>\n",
       "      <th>계</th>\n",
       "      <th>공인중개사</th>\n",
       "      <th>중개인</th>\n",
       "      <th>중개법인</th>\n",
       "    </tr>\n",
       "    <tr>\n",
       "      <th>분기(Quarterly)</th>\n",
       "      <th></th>\n",
       "      <th></th>\n",
       "      <th></th>\n",
       "      <th></th>\n",
       "      <th></th>\n",
       "      <th></th>\n",
       "    </tr>\n",
       "  </thead>\n",
       "  <tbody>\n",
       "    <tr>\n",
       "      <th>2000/01</th>\n",
       "      <td>2000/01</td>\n",
       "      <td>서 울</td>\n",
       "      <td>15644</td>\n",
       "      <td>7164</td>\n",
       "      <td>8312</td>\n",
       "      <td>168</td>\n",
       "    </tr>\n",
       "    <tr>\n",
       "      <th>2000/02</th>\n",
       "      <td>2000/02</td>\n",
       "      <td>서 울</td>\n",
       "      <td>15815</td>\n",
       "      <td>7439</td>\n",
       "      <td>8191</td>\n",
       "      <td>185</td>\n",
       "    </tr>\n",
       "    <tr>\n",
       "      <th>2000/03</th>\n",
       "      <td>2000/03</td>\n",
       "      <td>서 울</td>\n",
       "      <td>15923</td>\n",
       "      <td>7613</td>\n",
       "      <td>8117</td>\n",
       "      <td>193</td>\n",
       "    </tr>\n",
       "    <tr>\n",
       "      <th>2000/04</th>\n",
       "      <td>2000/04</td>\n",
       "      <td>서 울</td>\n",
       "      <td>16170</td>\n",
       "      <td>7936</td>\n",
       "      <td>7993</td>\n",
       "      <td>241</td>\n",
       "    </tr>\n",
       "    <tr>\n",
       "      <th>2001/01</th>\n",
       "      <td>2001/01</td>\n",
       "      <td>서 울</td>\n",
       "      <td>16382</td>\n",
       "      <td>8276</td>\n",
       "      <td>7880</td>\n",
       "      <td>226</td>\n",
       "    </tr>\n",
       "    <tr>\n",
       "      <th>...</th>\n",
       "      <td>...</td>\n",
       "      <td>...</td>\n",
       "      <td>...</td>\n",
       "      <td>...</td>\n",
       "      <td>...</td>\n",
       "      <td>...</td>\n",
       "    </tr>\n",
       "    <tr>\n",
       "      <th>2020/02</th>\n",
       "      <td>2020/02</td>\n",
       "      <td>서 울</td>\n",
       "      <td>25702</td>\n",
       "      <td>23857</td>\n",
       "      <td>1098</td>\n",
       "      <td>747</td>\n",
       "    </tr>\n",
       "    <tr>\n",
       "      <th>2020/03</th>\n",
       "      <td>2020/03</td>\n",
       "      <td>서 울</td>\n",
       "      <td>26052</td>\n",
       "      <td>24189</td>\n",
       "      <td>1096</td>\n",
       "      <td>767</td>\n",
       "    </tr>\n",
       "    <tr>\n",
       "      <th>2020/04</th>\n",
       "      <td>2020/04</td>\n",
       "      <td>서 울</td>\n",
       "      <td>26056</td>\n",
       "      <td>24193</td>\n",
       "      <td>1077</td>\n",
       "      <td>786</td>\n",
       "    </tr>\n",
       "    <tr>\n",
       "      <th>2021/01</th>\n",
       "      <td>2021/01</td>\n",
       "      <td>서 울</td>\n",
       "      <td>28936</td>\n",
       "      <td>26910</td>\n",
       "      <td>1167</td>\n",
       "      <td>859</td>\n",
       "    </tr>\n",
       "    <tr>\n",
       "      <th>2021/02</th>\n",
       "      <td>2021/02</td>\n",
       "      <td>서 울</td>\n",
       "      <td>29982</td>\n",
       "      <td>27891</td>\n",
       "      <td>1175</td>\n",
       "      <td>916</td>\n",
       "    </tr>\n",
       "  </tbody>\n",
       "</table>\n",
       "<p>86 rows × 6 columns</p>\n",
       "</div>"
      ],
      "text/plain": [
       "              분기(Quarterly)  구 분      계  공인중개사   중개인  중개법인\n",
       "분기(Quarterly)                                             \n",
       "2000/01             2000/01  서 울  15644   7164  8312   168\n",
       "2000/02             2000/02  서 울  15815   7439  8191   185\n",
       "2000/03             2000/03  서 울  15923   7613  8117   193\n",
       "2000/04             2000/04  서 울  16170   7936  7993   241\n",
       "2001/01             2001/01  서 울  16382   8276  7880   226\n",
       "...                     ...  ...    ...    ...   ...   ...\n",
       "2020/02             2020/02  서 울  25702  23857  1098   747\n",
       "2020/03             2020/03  서 울  26052  24189  1096   767\n",
       "2020/04             2020/04  서 울  26056  24193  1077   786\n",
       "2021/01             2021/01  서 울  28936  26910  1167   859\n",
       "2021/02             2021/02  서 울  29982  27891  1175   916\n",
       "\n",
       "[86 rows x 6 columns]"
      ]
     },
     "execution_count": 105,
     "metadata": {},
     "output_type": "execute_result"
    }
   ],
   "source": [
    "samuso"
   ]
  },
  {
   "cell_type": "code",
   "execution_count": 69,
   "id": "f49cd99f",
   "metadata": {
    "ExecuteTime": {
     "end_time": "2021-08-26T08:06:15.046240Z",
     "start_time": "2021-08-26T08:06:14.751339Z"
    }
   },
   "outputs": [
    {
     "data": {
      "image/png": "[encoded data removed]",
      "text/plain": [
       "<Figure size 864x720 with 1 Axes>"
      ]
     },
     "metadata": {
      "image/png": {
       "height": 644,
       "width": 745
      },
      "needs_background": "light"
     },
     "output_type": "display_data"
    }
   ],
   "source": [
    "samuso['공인중개사'].plot(figsize=(12,10),fontsize=20,xlabel='')\n",
    "plt.title('공인중개사', pad=30, fontsize=40)\n",
    "plt.savefig('data/서울시공인중개사.png')"
   ]
  },
  {
   "cell_type": "code",
   "execution_count": 10,
   "id": "009200f4",
   "metadata": {
    "ExecuteTime": {
     "end_time": "2021-08-26T06:41:42.775175Z",
     "start_time": "2021-08-26T06:41:42.456659Z"
    },
    "scrolled": true
   },
   "outputs": [
    {
     "data": {
      "image/png": "[encoded data removed]",
      "text/plain": [
       "<Figure size 864x720 with 1 Axes>"
      ]
     },
     "metadata": {
      "image/png": {
       "height": 644,
       "width": 734
      },
      "needs_background": "light"
     },
     "output_type": "display_data"
    }
   ],
   "source": [
    "samuso['중개인'].plot(figsize=(12,10),fontsize=20,xlabel='')\n",
    "plt.title('중개인', pad=30, fontsize=40)\n",
    "plt.savefig('data/서울시중개인.png')"
   ]
  },
  {
   "cell_type": "code",
   "execution_count": 9,
   "id": "e7267cb9",
   "metadata": {
    "ExecuteTime": {
     "end_time": "2021-08-26T06:41:36.361632Z",
     "start_time": "2021-08-26T06:41:36.008574Z"
    },
    "scrolled": true
   },
   "outputs": [
    {
     "data": {
      "image/png": "[encoded data removed]",
      "text/plain": [
       "<Figure size 864x720 with 1 Axes>"
      ]
     },
     "metadata": {
      "image/png": {
       "height": 644,
       "width": 723
      },
      "needs_background": "light"
     },
     "output_type": "display_data"
    }
   ],
   "source": [
    "samuso['중개법인'].plot(figsize=(12,10),fontsize=20,xlabel='')\n",
    "plt.title('중개법인', pad=30, fontsize=40)\n",
    "plt.savefig('data/서울시중개법인.png')"
   ]
  },
  {
   "cell_type": "code",
   "execution_count": 67,
   "id": "8821a2f2",
   "metadata": {
    "ExecuteTime": {
     "end_time": "2021-08-26T08:02:42.890597Z",
     "start_time": "2021-08-26T08:02:42.422107Z"
    }
   },
   "outputs": [
    {
     "data": {
      "image/png": "[encoded data removed]",
      "text/plain": [
       "<Figure size 864x720 with 1 Axes>"
      ]
     },
     "metadata": {
      "image/png": {
       "height": 644,
       "width": 745
      },
      "needs_background": "light"
     },
     "output_type": "display_data"
    }
   ],
   "source": [
    "samuso['계'].plot(figsize=(12,10),fontsize=20,xlabel='')\n",
    "plt.title('서울 개업공인중개사 수', pad=30, fontsize=40)\n",
    "plt.savefig('data/서울시중개.png')"
   ]
  },
  {
   "cell_type": "code",
   "execution_count": 96,
   "id": "d1e0a82d",
   "metadata": {
    "ExecuteTime": {
     "end_time": "2021-08-26T08:57:43.717493Z",
     "start_time": "2021-08-26T08:57:43.696529Z"
    }
   },
   "outputs": [],
   "source": [
    "df_seoul_melted=df_seoul.melt(id_vars='지역').copy()"
   ]
  },
  {
   "cell_type": "code",
   "execution_count": 19,
   "id": "f909d78c",
   "metadata": {
    "ExecuteTime": {
     "end_time": "2021-08-26T06:44:32.932369Z",
     "start_time": "2021-08-26T06:44:32.919399Z"
    },
    "scrolled": true
   },
   "outputs": [
    {
     "data": {
      "text/html": [
       "<div>\n",
       "<style scoped>\n",
       "    .dataframe tbody tr th:only-of-type {\n",
       "        vertical-align: middle;\n",
       "    }\n",
       "\n",
       "    .dataframe tbody tr th {\n",
       "        vertical-align: top;\n",
       "    }\n",
       "\n",
       "    .dataframe thead th {\n",
       "        text-align: right;\n",
       "    }\n",
       "</style>\n",
       "<table border=\"1\" class=\"dataframe\">\n",
       "  <thead>\n",
       "    <tr style=\"text-align: right;\">\n",
       "      <th></th>\n",
       "      <th>분기(Quarterly)</th>\n",
       "      <th>구 분</th>\n",
       "      <th>계</th>\n",
       "      <th>공인중개사</th>\n",
       "      <th>중개인</th>\n",
       "      <th>중개법인</th>\n",
       "    </tr>\n",
       "    <tr>\n",
       "      <th>분기(Quarterly)</th>\n",
       "      <th></th>\n",
       "      <th></th>\n",
       "      <th></th>\n",
       "      <th></th>\n",
       "      <th></th>\n",
       "      <th></th>\n",
       "    </tr>\n",
       "  </thead>\n",
       "  <tbody>\n",
       "    <tr>\n",
       "      <th>2000/01</th>\n",
       "      <td>2000/01</td>\n",
       "      <td>서 울</td>\n",
       "      <td>15644</td>\n",
       "      <td>7164</td>\n",
       "      <td>8312</td>\n",
       "      <td>168</td>\n",
       "    </tr>\n",
       "    <tr>\n",
       "      <th>2000/02</th>\n",
       "      <td>2000/02</td>\n",
       "      <td>서 울</td>\n",
       "      <td>15815</td>\n",
       "      <td>7439</td>\n",
       "      <td>8191</td>\n",
       "      <td>185</td>\n",
       "    </tr>\n",
       "    <tr>\n",
       "      <th>2000/03</th>\n",
       "      <td>2000/03</td>\n",
       "      <td>서 울</td>\n",
       "      <td>15923</td>\n",
       "      <td>7613</td>\n",
       "      <td>8117</td>\n",
       "      <td>193</td>\n",
       "    </tr>\n",
       "    <tr>\n",
       "      <th>2000/04</th>\n",
       "      <td>2000/04</td>\n",
       "      <td>서 울</td>\n",
       "      <td>16170</td>\n",
       "      <td>7936</td>\n",
       "      <td>7993</td>\n",
       "      <td>241</td>\n",
       "    </tr>\n",
       "    <tr>\n",
       "      <th>2001/01</th>\n",
       "      <td>2001/01</td>\n",
       "      <td>서 울</td>\n",
       "      <td>16382</td>\n",
       "      <td>8276</td>\n",
       "      <td>7880</td>\n",
       "      <td>226</td>\n",
       "    </tr>\n",
       "    <tr>\n",
       "      <th>...</th>\n",
       "      <td>...</td>\n",
       "      <td>...</td>\n",
       "      <td>...</td>\n",
       "      <td>...</td>\n",
       "      <td>...</td>\n",
       "      <td>...</td>\n",
       "    </tr>\n",
       "    <tr>\n",
       "      <th>2020/02</th>\n",
       "      <td>2020/02</td>\n",
       "      <td>서 울</td>\n",
       "      <td>25702</td>\n",
       "      <td>23857</td>\n",
       "      <td>1098</td>\n",
       "      <td>747</td>\n",
       "    </tr>\n",
       "    <tr>\n",
       "      <th>2020/03</th>\n",
       "      <td>2020/03</td>\n",
       "      <td>서 울</td>\n",
       "      <td>26052</td>\n",
       "      <td>24189</td>\n",
       "      <td>1096</td>\n",
       "      <td>767</td>\n",
       "    </tr>\n",
       "    <tr>\n",
       "      <th>2020/04</th>\n",
       "      <td>2020/04</td>\n",
       "      <td>서 울</td>\n",
       "      <td>26056</td>\n",
       "      <td>24193</td>\n",
       "      <td>1077</td>\n",
       "      <td>786</td>\n",
       "    </tr>\n",
       "    <tr>\n",
       "      <th>2021/01</th>\n",
       "      <td>2021/01</td>\n",
       "      <td>서 울</td>\n",
       "      <td>28936</td>\n",
       "      <td>26910</td>\n",
       "      <td>1167</td>\n",
       "      <td>859</td>\n",
       "    </tr>\n",
       "    <tr>\n",
       "      <th>2021/02</th>\n",
       "      <td>2021/02</td>\n",
       "      <td>서 울</td>\n",
       "      <td>29982</td>\n",
       "      <td>27891</td>\n",
       "      <td>1175</td>\n",
       "      <td>916</td>\n",
       "    </tr>\n",
       "  </tbody>\n",
       "</table>\n",
       "<p>86 rows × 6 columns</p>\n",
       "</div>"
      ],
      "text/plain": [
       "              분기(Quarterly)  구 분      계  공인중개사   중개인  중개법인\n",
       "분기(Quarterly)                                             \n",
       "2000/01             2000/01  서 울  15644   7164  8312   168\n",
       "2000/02             2000/02  서 울  15815   7439  8191   185\n",
       "2000/03             2000/03  서 울  15923   7613  8117   193\n",
       "2000/04             2000/04  서 울  16170   7936  7993   241\n",
       "2001/01             2001/01  서 울  16382   8276  7880   226\n",
       "...                     ...  ...    ...    ...   ...   ...\n",
       "2020/02             2020/02  서 울  25702  23857  1098   747\n",
       "2020/03             2020/03  서 울  26052  24189  1096   767\n",
       "2020/04             2020/04  서 울  26056  24193  1077   786\n",
       "2021/01             2021/01  서 울  28936  26910  1167   859\n",
       "2021/02             2021/02  서 울  29982  27891  1175   916\n",
       "\n",
       "[86 rows x 6 columns]"
      ]
     },
     "execution_count": 19,
     "metadata": {},
     "output_type": "execute_result"
    }
   ],
   "source": [
    "samuso"
   ]
  },
  {
   "cell_type": "code",
   "execution_count": 103,
   "id": "a72a83bf",
   "metadata": {
    "ExecuteTime": {
     "end_time": "2021-08-26T09:01:39.385411Z",
     "start_time": "2021-08-26T09:01:39.364488Z"
    },
    "scrolled": false
   },
   "outputs": [
    {
     "data": {
      "text/html": [
       "<div>\n",
       "<style scoped>\n",
       "    .dataframe tbody tr th:only-of-type {\n",
       "        vertical-align: middle;\n",
       "    }\n",
       "\n",
       "    .dataframe tbody tr th {\n",
       "        vertical-align: top;\n",
       "    }\n",
       "\n",
       "    .dataframe thead th {\n",
       "        text-align: right;\n",
       "    }\n",
       "</style>\n",
       "<table border=\"1\" class=\"dataframe\">\n",
       "  <thead>\n",
       "    <tr style=\"text-align: right;\">\n",
       "      <th></th>\n",
       "      <th>지역</th>\n",
       "      <th>사무소</th>\n",
       "      <th>근무자</th>\n",
       "    </tr>\n",
       "  </thead>\n",
       "  <tbody>\n",
       "    <tr>\n",
       "      <th>13</th>\n",
       "      <td>서대문구</td>\n",
       "      <td>755</td>\n",
       "      <td>1260</td>\n",
       "    </tr>\n",
       "    <tr>\n",
       "      <th>14</th>\n",
       "      <td>서초구</td>\n",
       "      <td>1693</td>\n",
       "      <td>3735</td>\n",
       "    </tr>\n",
       "    <tr>\n",
       "      <th>15</th>\n",
       "      <td>성동구</td>\n",
       "      <td>871</td>\n",
       "      <td>1557</td>\n",
       "    </tr>\n",
       "    <tr>\n",
       "      <th>16</th>\n",
       "      <td>성북구</td>\n",
       "      <td>921</td>\n",
       "      <td>1413</td>\n",
       "    </tr>\n",
       "    <tr>\n",
       "      <th>17</th>\n",
       "      <td>송파구</td>\n",
       "      <td>1843</td>\n",
       "      <td>3491</td>\n",
       "    </tr>\n",
       "    <tr>\n",
       "      <th>18</th>\n",
       "      <td>양천구</td>\n",
       "      <td>981</td>\n",
       "      <td>1668</td>\n",
       "    </tr>\n",
       "    <tr>\n",
       "      <th>19</th>\n",
       "      <td>영등포구</td>\n",
       "      <td>1209</td>\n",
       "      <td>2233</td>\n",
       "    </tr>\n",
       "    <tr>\n",
       "      <th>20</th>\n",
       "      <td>용산구</td>\n",
       "      <td>918</td>\n",
       "      <td>1602</td>\n",
       "    </tr>\n",
       "    <tr>\n",
       "      <th>21</th>\n",
       "      <td>은평구</td>\n",
       "      <td>1276</td>\n",
       "      <td>2023</td>\n",
       "    </tr>\n",
       "    <tr>\n",
       "      <th>22</th>\n",
       "      <td>종로구</td>\n",
       "      <td>595</td>\n",
       "      <td>1079</td>\n",
       "    </tr>\n",
       "    <tr>\n",
       "      <th>23</th>\n",
       "      <td>중구</td>\n",
       "      <td>607</td>\n",
       "      <td>1053</td>\n",
       "    </tr>\n",
       "    <tr>\n",
       "      <th>24</th>\n",
       "      <td>중랑구</td>\n",
       "      <td>801</td>\n",
       "      <td>1322</td>\n",
       "    </tr>\n",
       "  </tbody>\n",
       "</table>\n",
       "</div>"
      ],
      "text/plain": [
       "      지역   사무소   근무자\n",
       "13  서대문구   755  1260\n",
       "14   서초구  1693  3735\n",
       "15   성동구   871  1557\n",
       "16   성북구   921  1413\n",
       "17   송파구  1843  3491\n",
       "18   양천구   981  1668\n",
       "19  영등포구  1209  2233\n",
       "20   용산구   918  1602\n",
       "21   은평구  1276  2023\n",
       "22   종로구   595  1079\n",
       "23    중구   607  1053\n",
       "24   중랑구   801  1322"
      ]
     },
     "execution_count": 103,
     "metadata": {},
     "output_type": "execute_result"
    }
   ],
   "source": [
    "df_seoul.loc[13:]"
   ]
  },
  {
   "cell_type": "code",
   "execution_count": 99,
   "id": "8579b71d",
   "metadata": {
    "ExecuteTime": {
     "end_time": "2021-08-26T08:58:31.130217Z",
     "start_time": "2021-08-26T08:58:31.103262Z"
    }
   },
   "outputs": [
    {
     "data": {
      "text/html": [
       "<div>\n",
       "<style scoped>\n",
       "    .dataframe tbody tr th:only-of-type {\n",
       "        vertical-align: middle;\n",
       "    }\n",
       "\n",
       "    .dataframe tbody tr th {\n",
       "        vertical-align: top;\n",
       "    }\n",
       "\n",
       "    .dataframe thead th {\n",
       "        text-align: right;\n",
       "    }\n",
       "</style>\n",
       "<table border=\"1\" class=\"dataframe\">\n",
       "  <thead>\n",
       "    <tr style=\"text-align: right;\">\n",
       "      <th></th>\n",
       "      <th>지역</th>\n",
       "      <th>variable</th>\n",
       "      <th>value</th>\n",
       "    </tr>\n",
       "  </thead>\n",
       "  <tbody>\n",
       "    <tr>\n",
       "      <th>0</th>\n",
       "      <td>강남구</td>\n",
       "      <td>사무소</td>\n",
       "      <td>2844</td>\n",
       "    </tr>\n",
       "    <tr>\n",
       "      <th>1</th>\n",
       "      <td>강동구</td>\n",
       "      <td>사무소</td>\n",
       "      <td>1276</td>\n",
       "    </tr>\n",
       "    <tr>\n",
       "      <th>2</th>\n",
       "      <td>강북구</td>\n",
       "      <td>사무소</td>\n",
       "      <td>640</td>\n",
       "    </tr>\n",
       "    <tr>\n",
       "      <th>3</th>\n",
       "      <td>강서구</td>\n",
       "      <td>사무소</td>\n",
       "      <td>1463</td>\n",
       "    </tr>\n",
       "    <tr>\n",
       "      <th>4</th>\n",
       "      <td>관악구</td>\n",
       "      <td>사무소</td>\n",
       "      <td>1122</td>\n",
       "    </tr>\n",
       "    <tr>\n",
       "      <th>5</th>\n",
       "      <td>광진구</td>\n",
       "      <td>사무소</td>\n",
       "      <td>917</td>\n",
       "    </tr>\n",
       "    <tr>\n",
       "      <th>6</th>\n",
       "      <td>구로구</td>\n",
       "      <td>사무소</td>\n",
       "      <td>845</td>\n",
       "    </tr>\n",
       "    <tr>\n",
       "      <th>7</th>\n",
       "      <td>금천구</td>\n",
       "      <td>사무소</td>\n",
       "      <td>665</td>\n",
       "    </tr>\n",
       "    <tr>\n",
       "      <th>8</th>\n",
       "      <td>노원구</td>\n",
       "      <td>사무소</td>\n",
       "      <td>780</td>\n",
       "    </tr>\n",
       "    <tr>\n",
       "      <th>9</th>\n",
       "      <td>도봉구</td>\n",
       "      <td>사무소</td>\n",
       "      <td>530</td>\n",
       "    </tr>\n",
       "    <tr>\n",
       "      <th>10</th>\n",
       "      <td>동대문구</td>\n",
       "      <td>사무소</td>\n",
       "      <td>911</td>\n",
       "    </tr>\n",
       "    <tr>\n",
       "      <th>11</th>\n",
       "      <td>동작구</td>\n",
       "      <td>사무소</td>\n",
       "      <td>922</td>\n",
       "    </tr>\n",
       "    <tr>\n",
       "      <th>12</th>\n",
       "      <td>마포구</td>\n",
       "      <td>사무소</td>\n",
       "      <td>1261</td>\n",
       "    </tr>\n",
       "    <tr>\n",
       "      <th>13</th>\n",
       "      <td>서대문구</td>\n",
       "      <td>사무소</td>\n",
       "      <td>755</td>\n",
       "    </tr>\n",
       "    <tr>\n",
       "      <th>14</th>\n",
       "      <td>서초구</td>\n",
       "      <td>사무소</td>\n",
       "      <td>1693</td>\n",
       "    </tr>\n",
       "    <tr>\n",
       "      <th>15</th>\n",
       "      <td>성동구</td>\n",
       "      <td>사무소</td>\n",
       "      <td>871</td>\n",
       "    </tr>\n",
       "    <tr>\n",
       "      <th>16</th>\n",
       "      <td>성북구</td>\n",
       "      <td>사무소</td>\n",
       "      <td>921</td>\n",
       "    </tr>\n",
       "    <tr>\n",
       "      <th>17</th>\n",
       "      <td>송파구</td>\n",
       "      <td>사무소</td>\n",
       "      <td>1843</td>\n",
       "    </tr>\n",
       "    <tr>\n",
       "      <th>18</th>\n",
       "      <td>양천구</td>\n",
       "      <td>사무소</td>\n",
       "      <td>981</td>\n",
       "    </tr>\n",
       "    <tr>\n",
       "      <th>19</th>\n",
       "      <td>영등포구</td>\n",
       "      <td>사무소</td>\n",
       "      <td>1209</td>\n",
       "    </tr>\n",
       "    <tr>\n",
       "      <th>20</th>\n",
       "      <td>용산구</td>\n",
       "      <td>사무소</td>\n",
       "      <td>918</td>\n",
       "    </tr>\n",
       "    <tr>\n",
       "      <th>21</th>\n",
       "      <td>은평구</td>\n",
       "      <td>사무소</td>\n",
       "      <td>1276</td>\n",
       "    </tr>\n",
       "    <tr>\n",
       "      <th>22</th>\n",
       "      <td>종로구</td>\n",
       "      <td>사무소</td>\n",
       "      <td>595</td>\n",
       "    </tr>\n",
       "    <tr>\n",
       "      <th>23</th>\n",
       "      <td>중구</td>\n",
       "      <td>사무소</td>\n",
       "      <td>607</td>\n",
       "    </tr>\n",
       "    <tr>\n",
       "      <th>24</th>\n",
       "      <td>중랑구</td>\n",
       "      <td>사무소</td>\n",
       "      <td>801</td>\n",
       "    </tr>\n",
       "    <tr>\n",
       "      <th>25</th>\n",
       "      <td>강남구</td>\n",
       "      <td>근무자</td>\n",
       "      <td>7760</td>\n",
       "    </tr>\n",
       "    <tr>\n",
       "      <th>26</th>\n",
       "      <td>강동구</td>\n",
       "      <td>근무자</td>\n",
       "      <td>2112</td>\n",
       "    </tr>\n",
       "    <tr>\n",
       "      <th>27</th>\n",
       "      <td>강북구</td>\n",
       "      <td>근무자</td>\n",
       "      <td>1084</td>\n",
       "    </tr>\n",
       "    <tr>\n",
       "      <th>28</th>\n",
       "      <td>강서구</td>\n",
       "      <td>근무자</td>\n",
       "      <td>2957</td>\n",
       "    </tr>\n",
       "    <tr>\n",
       "      <th>29</th>\n",
       "      <td>관악구</td>\n",
       "      <td>근무자</td>\n",
       "      <td>2832</td>\n",
       "    </tr>\n",
       "    <tr>\n",
       "      <th>30</th>\n",
       "      <td>광진구</td>\n",
       "      <td>근무자</td>\n",
       "      <td>1519</td>\n",
       "    </tr>\n",
       "    <tr>\n",
       "      <th>31</th>\n",
       "      <td>구로구</td>\n",
       "      <td>근무자</td>\n",
       "      <td>1432</td>\n",
       "    </tr>\n",
       "    <tr>\n",
       "      <th>32</th>\n",
       "      <td>금천구</td>\n",
       "      <td>근무자</td>\n",
       "      <td>1313</td>\n",
       "    </tr>\n",
       "    <tr>\n",
       "      <th>33</th>\n",
       "      <td>노원구</td>\n",
       "      <td>근무자</td>\n",
       "      <td>1264</td>\n",
       "    </tr>\n",
       "    <tr>\n",
       "      <th>34</th>\n",
       "      <td>도봉구</td>\n",
       "      <td>근무자</td>\n",
       "      <td>832</td>\n",
       "    </tr>\n",
       "    <tr>\n",
       "      <th>35</th>\n",
       "      <td>동대문구</td>\n",
       "      <td>근무자</td>\n",
       "      <td>1544</td>\n",
       "    </tr>\n",
       "    <tr>\n",
       "      <th>36</th>\n",
       "      <td>동작구</td>\n",
       "      <td>근무자</td>\n",
       "      <td>1645</td>\n",
       "    </tr>\n",
       "    <tr>\n",
       "      <th>37</th>\n",
       "      <td>마포구</td>\n",
       "      <td>근무자</td>\n",
       "      <td>2261</td>\n",
       "    </tr>\n",
       "    <tr>\n",
       "      <th>38</th>\n",
       "      <td>서대문구</td>\n",
       "      <td>근무자</td>\n",
       "      <td>1260</td>\n",
       "    </tr>\n",
       "    <tr>\n",
       "      <th>39</th>\n",
       "      <td>서초구</td>\n",
       "      <td>근무자</td>\n",
       "      <td>3735</td>\n",
       "    </tr>\n",
       "    <tr>\n",
       "      <th>40</th>\n",
       "      <td>성동구</td>\n",
       "      <td>근무자</td>\n",
       "      <td>1557</td>\n",
       "    </tr>\n",
       "    <tr>\n",
       "      <th>41</th>\n",
       "      <td>성북구</td>\n",
       "      <td>근무자</td>\n",
       "      <td>1413</td>\n",
       "    </tr>\n",
       "    <tr>\n",
       "      <th>42</th>\n",
       "      <td>송파구</td>\n",
       "      <td>근무자</td>\n",
       "      <td>3491</td>\n",
       "    </tr>\n",
       "    <tr>\n",
       "      <th>43</th>\n",
       "      <td>양천구</td>\n",
       "      <td>근무자</td>\n",
       "      <td>1668</td>\n",
       "    </tr>\n",
       "    <tr>\n",
       "      <th>44</th>\n",
       "      <td>영등포구</td>\n",
       "      <td>근무자</td>\n",
       "      <td>2233</td>\n",
       "    </tr>\n",
       "    <tr>\n",
       "      <th>45</th>\n",
       "      <td>용산구</td>\n",
       "      <td>근무자</td>\n",
       "      <td>1602</td>\n",
       "    </tr>\n",
       "    <tr>\n",
       "      <th>46</th>\n",
       "      <td>은평구</td>\n",
       "      <td>근무자</td>\n",
       "      <td>2023</td>\n",
       "    </tr>\n",
       "    <tr>\n",
       "      <th>47</th>\n",
       "      <td>종로구</td>\n",
       "      <td>근무자</td>\n",
       "      <td>1079</td>\n",
       "    </tr>\n",
       "    <tr>\n",
       "      <th>48</th>\n",
       "      <td>중구</td>\n",
       "      <td>근무자</td>\n",
       "      <td>1053</td>\n",
       "    </tr>\n",
       "    <tr>\n",
       "      <th>49</th>\n",
       "      <td>중랑구</td>\n",
       "      <td>근무자</td>\n",
       "      <td>1322</td>\n",
       "    </tr>\n",
       "  </tbody>\n",
       "</table>\n",
       "</div>"
      ],
      "text/plain": [
       "      지역 variable  value\n",
       "0    강남구      사무소   2844\n",
       "1    강동구      사무소   1276\n",
       "2    강북구      사무소    640\n",
       "3    강서구      사무소   1463\n",
       "4    관악구      사무소   1122\n",
       "5    광진구      사무소    917\n",
       "6    구로구      사무소    845\n",
       "7    금천구      사무소    665\n",
       "8    노원구      사무소    780\n",
       "9    도봉구      사무소    530\n",
       "10  동대문구      사무소    911\n",
       "11   동작구      사무소    922\n",
       "12   마포구      사무소   1261\n",
       "13  서대문구      사무소    755\n",
       "14   서초구      사무소   1693\n",
       "15   성동구      사무소    871\n",
       "16   성북구      사무소    921\n",
       "17   송파구      사무소   1843\n",
       "18   양천구      사무소    981\n",
       "19  영등포구      사무소   1209\n",
       "20   용산구      사무소    918\n",
       "21   은평구      사무소   1276\n",
       "22   종로구      사무소    595\n",
       "23    중구      사무소    607\n",
       "24   중랑구      사무소    801\n",
       "25   강남구      근무자   7760\n",
       "26   강동구      근무자   2112\n",
       "27   강북구      근무자   1084\n",
       "28   강서구      근무자   2957\n",
       "29   관악구      근무자   2832\n",
       "30   광진구      근무자   1519\n",
       "31   구로구      근무자   1432\n",
       "32   금천구      근무자   1313\n",
       "33   노원구      근무자   1264\n",
       "34   도봉구      근무자    832\n",
       "35  동대문구      근무자   1544\n",
       "36   동작구      근무자   1645\n",
       "37   마포구      근무자   2261\n",
       "38  서대문구      근무자   1260\n",
       "39   서초구      근무자   3735\n",
       "40   성동구      근무자   1557\n",
       "41   성북구      근무자   1413\n",
       "42   송파구      근무자   3491\n",
       "43   양천구      근무자   1668\n",
       "44  영등포구      근무자   2233\n",
       "45   용산구      근무자   1602\n",
       "46   은평구      근무자   2023\n",
       "47   종로구      근무자   1079\n",
       "48    중구      근무자   1053\n",
       "49   중랑구      근무자   1322"
      ]
     },
     "execution_count": 99,
     "metadata": {},
     "output_type": "execute_result"
    }
   ],
   "source": [
    "df_seoul_melted"
   ]
  },
  {
   "cell_type": "code",
   "execution_count": 111,
   "id": "10afba62",
   "metadata": {
    "ExecuteTime": {
     "end_time": "2021-08-26T09:14:27.762125Z",
     "start_time": "2021-08-26T09:14:27.744206Z"
    }
   },
   "outputs": [
    {
     "data": {
      "text/html": [
       "<div>\n",
       "<style scoped>\n",
       "    .dataframe tbody tr th:only-of-type {\n",
       "        vertical-align: middle;\n",
       "    }\n",
       "\n",
       "    .dataframe tbody tr th {\n",
       "        vertical-align: top;\n",
       "    }\n",
       "\n",
       "    .dataframe thead th {\n",
       "        text-align: right;\n",
       "    }\n",
       "</style>\n",
       "<table border=\"1\" class=\"dataframe\">\n",
       "  <thead>\n",
       "    <tr style=\"text-align: right;\">\n",
       "      <th>분기(Quarterly)</th>\n",
       "      <th>2000/01</th>\n",
       "      <th>2000/02</th>\n",
       "      <th>2000/03</th>\n",
       "      <th>2000/04</th>\n",
       "      <th>2001/01</th>\n",
       "      <th>2001/02</th>\n",
       "      <th>2001/03</th>\n",
       "      <th>2001/04</th>\n",
       "      <th>2002/01</th>\n",
       "      <th>2002/02</th>\n",
       "      <th>...</th>\n",
       "      <th>2019/01</th>\n",
       "      <th>2019/02</th>\n",
       "      <th>2019/03</th>\n",
       "      <th>2019/04</th>\n",
       "      <th>2020/01</th>\n",
       "      <th>2020/02</th>\n",
       "      <th>2020/03</th>\n",
       "      <th>2020/04</th>\n",
       "      <th>2021/01</th>\n",
       "      <th>2021/02</th>\n",
       "    </tr>\n",
       "  </thead>\n",
       "  <tbody>\n",
       "    <tr>\n",
       "      <th>계</th>\n",
       "      <td>15644</td>\n",
       "      <td>15815</td>\n",
       "      <td>15923</td>\n",
       "      <td>16170</td>\n",
       "      <td>16382</td>\n",
       "      <td>16646</td>\n",
       "      <td>16885</td>\n",
       "      <td>17267</td>\n",
       "      <td>18282</td>\n",
       "      <td>18751</td>\n",
       "      <td>...</td>\n",
       "      <td>24922</td>\n",
       "      <td>24992</td>\n",
       "      <td>25110</td>\n",
       "      <td>25191</td>\n",
       "      <td>25539</td>\n",
       "      <td>25702</td>\n",
       "      <td>26052</td>\n",
       "      <td>26056</td>\n",
       "      <td>28936</td>\n",
       "      <td>29982</td>\n",
       "    </tr>\n",
       "    <tr>\n",
       "      <th>공인중개사</th>\n",
       "      <td>7164</td>\n",
       "      <td>7439</td>\n",
       "      <td>7613</td>\n",
       "      <td>7936</td>\n",
       "      <td>8276</td>\n",
       "      <td>8705</td>\n",
       "      <td>9095</td>\n",
       "      <td>9583</td>\n",
       "      <td>10622</td>\n",
       "      <td>11258</td>\n",
       "      <td>...</td>\n",
       "      <td>22970</td>\n",
       "      <td>23090</td>\n",
       "      <td>23220</td>\n",
       "      <td>23309</td>\n",
       "      <td>23654</td>\n",
       "      <td>23857</td>\n",
       "      <td>24189</td>\n",
       "      <td>24193</td>\n",
       "      <td>26910</td>\n",
       "      <td>27891</td>\n",
       "    </tr>\n",
       "    <tr>\n",
       "      <th>중개인</th>\n",
       "      <td>8312</td>\n",
       "      <td>8191</td>\n",
       "      <td>8117</td>\n",
       "      <td>7993</td>\n",
       "      <td>7880</td>\n",
       "      <td>7705</td>\n",
       "      <td>7567</td>\n",
       "      <td>7462</td>\n",
       "      <td>7441</td>\n",
       "      <td>7275</td>\n",
       "      <td>...</td>\n",
       "      <td>1282</td>\n",
       "      <td>1241</td>\n",
       "      <td>1204</td>\n",
       "      <td>1173</td>\n",
       "      <td>1123</td>\n",
       "      <td>1098</td>\n",
       "      <td>1096</td>\n",
       "      <td>1077</td>\n",
       "      <td>1167</td>\n",
       "      <td>1175</td>\n",
       "    </tr>\n",
       "    <tr>\n",
       "      <th>중개법인</th>\n",
       "      <td>168</td>\n",
       "      <td>185</td>\n",
       "      <td>193</td>\n",
       "      <td>241</td>\n",
       "      <td>226</td>\n",
       "      <td>236</td>\n",
       "      <td>223</td>\n",
       "      <td>222</td>\n",
       "      <td>219</td>\n",
       "      <td>218</td>\n",
       "      <td>...</td>\n",
       "      <td>670</td>\n",
       "      <td>661</td>\n",
       "      <td>686</td>\n",
       "      <td>709</td>\n",
       "      <td>762</td>\n",
       "      <td>747</td>\n",
       "      <td>767</td>\n",
       "      <td>786</td>\n",
       "      <td>859</td>\n",
       "      <td>916</td>\n",
       "    </tr>\n",
       "  </tbody>\n",
       "</table>\n",
       "<p>4 rows × 86 columns</p>\n",
       "</div>"
      ],
      "text/plain": [
       "분기(Quarterly)  2000/01  2000/02  2000/03  2000/04  2001/01  2001/02  2001/03  \\\n",
       "계                15644    15815    15923    16170    16382    16646    16885   \n",
       "공인중개사             7164     7439     7613     7936     8276     8705     9095   \n",
       "중개인               8312     8191     8117     7993     7880     7705     7567   \n",
       "중개법인               168      185      193      241      226      236      223   \n",
       "\n",
       "분기(Quarterly)  2001/04  2002/01  2002/02  ...  2019/01  2019/02  2019/03  \\\n",
       "계                17267    18282    18751  ...    24922    24992    25110   \n",
       "공인중개사             9583    10622    11258  ...    22970    23090    23220   \n",
       "중개인               7462     7441     7275  ...     1282     1241     1204   \n",
       "중개법인               222      219      218  ...      670      661      686   \n",
       "\n",
       "분기(Quarterly)  2019/04  2020/01  2020/02  2020/03  2020/04  2021/01  2021/02  \n",
       "계                25191    25539    25702    26052    26056    28936    29982  \n",
       "공인중개사            23309    23654    23857    24189    24193    26910    27891  \n",
       "중개인               1173     1123     1098     1096     1077     1167     1175  \n",
       "중개법인               709      762      747      767      786      859      916  \n",
       "\n",
       "[4 rows x 86 columns]"
      ]
     },
     "execution_count": 111,
     "metadata": {},
     "output_type": "execute_result"
    }
   ],
   "source": [
    "samuso.drop(labels=['분기(Quarterly)','구 분'],axis=1).T"
   ]
  },
  {
   "cell_type": "code",
   "execution_count": 101,
   "id": "02d2d8d3",
   "metadata": {
    "ExecuteTime": {
     "end_time": "2021-08-26T08:58:51.076046Z",
     "start_time": "2021-08-26T08:58:50.285337Z"
    }
   },
   "outputs": [
    {
     "data": {
      "image/png": "[encoded data removed]",
      "text/plain": [
       "<Figure size 1296x720 with 1 Axes>"
      ]
     },
     "metadata": {
      "image/png": {
       "height": 679,
       "width": 1061
      },
      "needs_background": "light"
     },
     "output_type": "display_data"
    }
   ],
   "source": [
    "plt.figure(figsize=(18,10))\n",
    "g=sns.barplot(data=df_seoul_melted,x='지역',y='value',hue='variable',)\n",
    "g.set_xticklabels(labels=df_seoul['지역'],rotation=30, size=15)\n",
    "g.legend(prop={'size': 16})\n",
    "a=g.get_yticks()\n",
    "a=[int(i) for i in a]\n",
    "g.set_yticklabels(labels=a, size = 15)\n",
    "g.set_xlabel(None) \n",
    "g.set_ylabel(None)\n",
    "plt.title('※ 근무자 : 개업공인중개사, 소속공인중개사, 중개보조원\\n※ 날짜 : 2021년 08월 26일', loc='right', fontsize=15)\n",
    "plt.suptitle('서울시 중개사무소 및 근무자 수',fontsize=27)\n",
    "plt.savefig('data/사무소근무자수.png')"
   ]
  },
  {
   "cell_type": "code",
   "execution_count": null,
   "id": "3281619b",
   "metadata": {},
   "outputs": [],
   "source": [
    "##################################################"
   ]
  },
  {
   "cell_type": "markdown",
   "id": "e223bc3f",
   "metadata": {},
   "source": [
    "# 여기부터 시작"
   ]
  },
  {
   "cell_type": "code",
   "execution_count": 116,
   "id": "aa1e7baf",
   "metadata": {
    "ExecuteTime": {
     "end_time": "2021-08-26T11:03:13.120253Z",
     "start_time": "2021-08-26T11:03:13.105316Z"
    }
   },
   "outputs": [],
   "source": [
    "#######################################################"
   ]
  },
  {
   "cell_type": "code",
   "execution_count": 206,
   "id": "de458aa9",
   "metadata": {
    "ExecuteTime": {
     "end_time": "2021-08-26T12:00:24.706658Z",
     "start_time": "2021-08-26T12:00:23.053790Z"
    }
   },
   "outputs": [],
   "source": [
    "apart2011=pd.read_csv('seoul_trade/2020/아파트20110826.csv',skiprows=15, encoding='cp949')\n",
    "apart2012=pd.read_csv('seoul_trade/2020/아파트20120826.csv',skiprows=15, encoding='cp949')\n",
    "apart2013=pd.read_csv('seoul_trade/2020/아파트20130826.csv',skiprows=15, encoding='cp949')\n",
    "apart2014=pd.read_csv('seoul_trade/2020/아파트20140826.csv',skiprows=15, encoding='cp949')\n",
    "apart2015=pd.read_csv('seoul_trade/2020/아파트20150826.csv',skiprows=15, encoding='cp949')\n",
    "apart2016=pd.read_csv('seoul_trade/2020/아파트20160826.csv',skiprows=15, encoding='cp949')\n",
    "apart2017=pd.read_csv('seoul_trade/2020/아파트20170826.csv',skiprows=15, encoding='cp949')\n",
    "apart2018=pd.read_csv('seoul_trade/2020/아파트20180826.csv',skiprows=15, encoding='cp949')\n",
    "apart2019=pd.read_csv('seoul_trade/2020/아파트20190826.csv',skiprows=15, encoding='cp949')\n",
    "apart2020=pd.read_csv('seoul_trade/2020/아파트20200826.csv',skiprows=15, encoding='cp949')"
   ]
  },
  {
   "cell_type": "code",
   "execution_count": 207,
   "id": "9b973a0c",
   "metadata": {
    "ExecuteTime": {
     "end_time": "2021-08-26T12:00:25.369575Z",
     "start_time": "2021-08-26T12:00:25.338670Z"
    }
   },
   "outputs": [
    {
     "name": "stdout",
     "output_type": "stream",
     "text": [
      "<class 'pandas.core.frame.DataFrame'>\n",
      "RangeIndex: 38452 entries, 0 to 38451\n",
      "Data columns (total 13 columns):\n",
      " #   Column    Non-Null Count  Dtype  \n",
      "---  ------    --------------  -----  \n",
      " 0   시군구       38452 non-null  object \n",
      " 1   번지        38452 non-null  object \n",
      " 2   본번        38452 non-null  int64  \n",
      " 3   부번        38452 non-null  int64  \n",
      " 4   단지명       38452 non-null  object \n",
      " 5   전용면적(㎡)   38452 non-null  float64\n",
      " 6   계약년월      38452 non-null  int64  \n",
      " 7   계약일       38452 non-null  int64  \n",
      " 8   거래금액(만원)  38452 non-null  object \n",
      " 9   층         38452 non-null  int64  \n",
      " 10  건축년도      38452 non-null  int64  \n",
      " 11  도로명       38452 non-null  object \n",
      " 12  해제사유발생일   0 non-null      float64\n",
      "dtypes: float64(2), int64(6), object(5)\n",
      "memory usage: 3.8+ MB\n"
     ]
    }
   ],
   "source": [
    "apart2011.info()"
   ]
  },
  {
   "cell_type": "code",
   "execution_count": 208,
   "id": "6ed40ccb",
   "metadata": {
    "ExecuteTime": {
     "end_time": "2021-08-26T12:00:25.771153Z",
     "start_time": "2021-08-26T12:00:25.736253Z"
    }
   },
   "outputs": [
    {
     "name": "stdout",
     "output_type": "stream",
     "text": [
      "<class 'pandas.core.frame.DataFrame'>\n",
      "RangeIndex: 52217 entries, 0 to 52216\n",
      "Data columns (total 13 columns):\n",
      " #   Column    Non-Null Count  Dtype  \n",
      "---  ------    --------------  -----  \n",
      " 0   시군구       52217 non-null  object \n",
      " 1   번지        52217 non-null  object \n",
      " 2   본번        52217 non-null  int64  \n",
      " 3   부번        52217 non-null  int64  \n",
      " 4   단지명       52217 non-null  object \n",
      " 5   전용면적(㎡)   52217 non-null  float64\n",
      " 6   계약년월      52217 non-null  int64  \n",
      " 7   계약일       52217 non-null  int64  \n",
      " 8   거래금액(만원)  52217 non-null  object \n",
      " 9   층         52217 non-null  int64  \n",
      " 10  건축년도      52217 non-null  int64  \n",
      " 11  도로명       52217 non-null  object \n",
      " 12  해제사유발생일   0 non-null      float64\n",
      "dtypes: float64(2), int64(6), object(5)\n",
      "memory usage: 5.2+ MB\n"
     ]
    }
   ],
   "source": [
    "apart2012.info()"
   ]
  },
  {
   "cell_type": "code",
   "execution_count": 209,
   "id": "2c749a6d",
   "metadata": {
    "ExecuteTime": {
     "end_time": "2021-08-26T12:00:26.129311Z",
     "start_time": "2021-08-26T12:00:26.099338Z"
    }
   },
   "outputs": [
    {
     "name": "stdout",
     "output_type": "stream",
     "text": [
      "<class 'pandas.core.frame.DataFrame'>\n",
      "RangeIndex: 73252 entries, 0 to 73251\n",
      "Data columns (total 13 columns):\n",
      " #   Column    Non-Null Count  Dtype  \n",
      "---  ------    --------------  -----  \n",
      " 0   시군구       73252 non-null  object \n",
      " 1   번지        73252 non-null  object \n",
      " 2   본번        73252 non-null  int64  \n",
      " 3   부번        73252 non-null  int64  \n",
      " 4   단지명       73252 non-null  object \n",
      " 5   전용면적(㎡)   73252 non-null  float64\n",
      " 6   계약년월      73252 non-null  int64  \n",
      " 7   계약일       73252 non-null  int64  \n",
      " 8   거래금액(만원)  73252 non-null  object \n",
      " 9   층         73252 non-null  int64  \n",
      " 10  건축년도      73252 non-null  int64  \n",
      " 11  도로명       73252 non-null  object \n",
      " 12  해제사유발생일   0 non-null      float64\n",
      "dtypes: float64(2), int64(6), object(5)\n",
      "memory usage: 7.3+ MB\n"
     ]
    }
   ],
   "source": [
    "apart2013.info()"
   ]
  },
  {
   "cell_type": "code",
   "execution_count": 210,
   "id": "f1158525",
   "metadata": {
    "ExecuteTime": {
     "end_time": "2021-08-26T12:00:26.487379Z",
     "start_time": "2021-08-26T12:00:26.442491Z"
    }
   },
   "outputs": [
    {
     "name": "stdout",
     "output_type": "stream",
     "text": [
      "<class 'pandas.core.frame.DataFrame'>\n",
      "RangeIndex: 109595 entries, 0 to 109594\n",
      "Data columns (total 13 columns):\n",
      " #   Column    Non-Null Count   Dtype  \n",
      "---  ------    --------------   -----  \n",
      " 0   시군구       109595 non-null  object \n",
      " 1   번지        109589 non-null  object \n",
      " 2   본번        109590 non-null  float64\n",
      " 3   부번        109590 non-null  float64\n",
      " 4   단지명       109595 non-null  object \n",
      " 5   전용면적(㎡)   109595 non-null  float64\n",
      " 6   계약년월      109595 non-null  int64  \n",
      " 7   계약일       109595 non-null  int64  \n",
      " 8   거래금액(만원)  109595 non-null  object \n",
      " 9   층         109595 non-null  int64  \n",
      " 10  건축년도      109595 non-null  int64  \n",
      " 11  도로명       109595 non-null  object \n",
      " 12  해제사유발생일   0 non-null       float64\n",
      "dtypes: float64(4), int64(4), object(5)\n",
      "memory usage: 10.9+ MB\n"
     ]
    }
   ],
   "source": [
    "apart2014.info()"
   ]
  },
  {
   "cell_type": "code",
   "execution_count": 211,
   "id": "418e49a0",
   "metadata": {
    "ExecuteTime": {
     "end_time": "2021-08-26T12:00:26.827369Z",
     "start_time": "2021-08-26T12:00:26.798339Z"
    }
   },
   "outputs": [
    {
     "name": "stdout",
     "output_type": "stream",
     "text": [
      "<class 'pandas.core.frame.DataFrame'>\n",
      "RangeIndex: 98311 entries, 0 to 98310\n",
      "Data columns (total 13 columns):\n",
      " #   Column    Non-Null Count  Dtype  \n",
      "---  ------    --------------  -----  \n",
      " 0   시군구       98311 non-null  object \n",
      " 1   번지        98307 non-null  object \n",
      " 2   본번        98308 non-null  float64\n",
      " 3   부번        98308 non-null  float64\n",
      " 4   단지명       98311 non-null  object \n",
      " 5   전용면적(㎡)   98311 non-null  float64\n",
      " 6   계약년월      98311 non-null  int64  \n",
      " 7   계약일       98311 non-null  int64  \n",
      " 8   거래금액(만원)  98311 non-null  object \n",
      " 9   층         98311 non-null  int64  \n",
      " 10  건축년도      98311 non-null  int64  \n",
      " 11  도로명       98311 non-null  object \n",
      " 12  해제사유발생일   0 non-null      float64\n",
      "dtypes: float64(4), int64(4), object(5)\n",
      "memory usage: 9.8+ MB\n"
     ]
    }
   ],
   "source": [
    "apart2015.info()"
   ]
  },
  {
   "cell_type": "code",
   "execution_count": 212,
   "id": "b23ef98b",
   "metadata": {
    "ExecuteTime": {
     "end_time": "2021-08-26T12:00:27.185317Z",
     "start_time": "2021-08-26T12:00:27.155396Z"
    }
   },
   "outputs": [
    {
     "name": "stdout",
     "output_type": "stream",
     "text": [
      "<class 'pandas.core.frame.DataFrame'>\n",
      "RangeIndex: 102723 entries, 0 to 102722\n",
      "Data columns (total 13 columns):\n",
      " #   Column    Non-Null Count   Dtype  \n",
      "---  ------    --------------   -----  \n",
      " 0   시군구       102723 non-null  object \n",
      " 1   번지        102684 non-null  object \n",
      " 2   본번        102706 non-null  float64\n",
      " 3   부번        102706 non-null  float64\n",
      " 4   단지명       102723 non-null  object \n",
      " 5   전용면적(㎡)   102723 non-null  float64\n",
      " 6   계약년월      102723 non-null  int64  \n",
      " 7   계약일       102723 non-null  int64  \n",
      " 8   거래금액(만원)  102723 non-null  object \n",
      " 9   층         102723 non-null  int64  \n",
      " 10  건축년도      102723 non-null  int64  \n",
      " 11  도로명       102723 non-null  object \n",
      " 12  해제사유발생일   0 non-null       float64\n",
      "dtypes: float64(4), int64(4), object(5)\n",
      "memory usage: 10.2+ MB\n"
     ]
    }
   ],
   "source": [
    "apart2016.info()"
   ]
  },
  {
   "cell_type": "code",
   "execution_count": 213,
   "id": "d1164890",
   "metadata": {
    "ExecuteTime": {
     "end_time": "2021-08-26T12:00:27.526467Z",
     "start_time": "2021-08-26T12:00:27.497478Z"
    }
   },
   "outputs": [
    {
     "name": "stdout",
     "output_type": "stream",
     "text": [
      "<class 'pandas.core.frame.DataFrame'>\n",
      "RangeIndex: 81729 entries, 0 to 81728\n",
      "Data columns (total 13 columns):\n",
      " #   Column    Non-Null Count  Dtype  \n",
      "---  ------    --------------  -----  \n",
      " 0   시군구       81729 non-null  object \n",
      " 1   번지        81651 non-null  object \n",
      " 2   본번        81718 non-null  float64\n",
      " 3   부번        81718 non-null  float64\n",
      " 4   단지명       81729 non-null  object \n",
      " 5   전용면적(㎡)   81729 non-null  float64\n",
      " 6   계약년월      81729 non-null  int64  \n",
      " 7   계약일       81729 non-null  int64  \n",
      " 8   거래금액(만원)  81729 non-null  object \n",
      " 9   층         81729 non-null  int64  \n",
      " 10  건축년도      81729 non-null  int64  \n",
      " 11  도로명       81729 non-null  object \n",
      " 12  해제사유발생일   0 non-null      float64\n",
      "dtypes: float64(4), int64(4), object(5)\n",
      "memory usage: 8.1+ MB\n"
     ]
    }
   ],
   "source": [
    "apart2017.info()"
   ]
  },
  {
   "cell_type": "code",
   "execution_count": 214,
   "id": "c0c1ba66",
   "metadata": {
    "ExecuteTime": {
     "end_time": "2021-08-26T12:00:27.868244Z",
     "start_time": "2021-08-26T12:00:27.838323Z"
    }
   },
   "outputs": [
    {
     "name": "stdout",
     "output_type": "stream",
     "text": [
      "<class 'pandas.core.frame.DataFrame'>\n",
      "RangeIndex: 43538 entries, 0 to 43537\n",
      "Data columns (total 13 columns):\n",
      " #   Column    Non-Null Count  Dtype  \n",
      "---  ------    --------------  -----  \n",
      " 0   시군구       43538 non-null  object \n",
      " 1   번지        43525 non-null  object \n",
      " 2   본번        43529 non-null  float64\n",
      " 3   부번        43529 non-null  float64\n",
      " 4   단지명       43538 non-null  object \n",
      " 5   전용면적(㎡)   43538 non-null  float64\n",
      " 6   계약년월      43538 non-null  int64  \n",
      " 7   계약일       43538 non-null  int64  \n",
      " 8   거래금액(만원)  43538 non-null  object \n",
      " 9   층         43538 non-null  int64  \n",
      " 10  건축년도      43538 non-null  int64  \n",
      " 11  도로명       43538 non-null  object \n",
      " 12  해제사유발생일   0 non-null      float64\n",
      "dtypes: float64(4), int64(4), object(5)\n",
      "memory usage: 4.3+ MB\n"
     ]
    }
   ],
   "source": [
    "apart2018.info()"
   ]
  },
  {
   "cell_type": "code",
   "execution_count": 215,
   "id": "9f930d40",
   "metadata": {
    "ExecuteTime": {
     "end_time": "2021-08-26T12:00:28.770908Z",
     "start_time": "2021-08-26T12:00:28.732013Z"
    }
   },
   "outputs": [
    {
     "name": "stdout",
     "output_type": "stream",
     "text": [
      "<class 'pandas.core.frame.DataFrame'>\n",
      "RangeIndex: 96167 entries, 0 to 96166\n",
      "Data columns (total 13 columns):\n",
      " #   Column    Non-Null Count  Dtype  \n",
      "---  ------    --------------  -----  \n",
      " 0   시군구       96167 non-null  object \n",
      " 1   번지        96137 non-null  object \n",
      " 2   본번        96158 non-null  float64\n",
      " 3   부번        96158 non-null  float64\n",
      " 4   단지명       96167 non-null  object \n",
      " 5   전용면적(㎡)   96167 non-null  float64\n",
      " 6   계약년월      96167 non-null  int64  \n",
      " 7   계약일       96167 non-null  int64  \n",
      " 8   거래금액(만원)  96167 non-null  object \n",
      " 9   층         96167 non-null  int64  \n",
      " 10  건축년도      96167 non-null  int64  \n",
      " 11  도로명       96167 non-null  object \n",
      " 12  해제사유발생일   1961 non-null   float64\n",
      "dtypes: float64(4), int64(4), object(5)\n",
      "memory usage: 9.5+ MB\n"
     ]
    }
   ],
   "source": [
    "apart2019.info()"
   ]
  },
  {
   "cell_type": "code",
   "execution_count": 216,
   "id": "44552828",
   "metadata": {
    "ExecuteTime": {
     "end_time": "2021-08-26T12:00:29.496614Z",
     "start_time": "2021-08-26T12:00:29.481653Z"
    }
   },
   "outputs": [],
   "source": [
    "apart2019=apart2019[apart2019['해제사유발생일'].isna()]"
   ]
  },
  {
   "cell_type": "code",
   "execution_count": 217,
   "id": "36a5362c",
   "metadata": {
    "ExecuteTime": {
     "end_time": "2021-08-26T12:00:30.730039Z",
     "start_time": "2021-08-26T12:00:30.700120Z"
    }
   },
   "outputs": [
    {
     "name": "stdout",
     "output_type": "stream",
     "text": [
      "<class 'pandas.core.frame.DataFrame'>\n",
      "Int64Index: 94206 entries, 0 to 96166\n",
      "Data columns (total 13 columns):\n",
      " #   Column    Non-Null Count  Dtype  \n",
      "---  ------    --------------  -----  \n",
      " 0   시군구       94206 non-null  object \n",
      " 1   번지        94177 non-null  object \n",
      " 2   본번        94197 non-null  float64\n",
      " 3   부번        94197 non-null  float64\n",
      " 4   단지명       94206 non-null  object \n",
      " 5   전용면적(㎡)   94206 non-null  float64\n",
      " 6   계약년월      94206 non-null  int64  \n",
      " 7   계약일       94206 non-null  int64  \n",
      " 8   거래금액(만원)  94206 non-null  object \n",
      " 9   층         94206 non-null  int64  \n",
      " 10  건축년도      94206 non-null  int64  \n",
      " 11  도로명       94206 non-null  object \n",
      " 12  해제사유발생일   0 non-null      float64\n",
      "dtypes: float64(4), int64(4), object(5)\n",
      "memory usage: 10.1+ MB\n"
     ]
    }
   ],
   "source": [
    "apart2019.info()"
   ]
  },
  {
   "cell_type": "code",
   "execution_count": 218,
   "id": "8745bffc",
   "metadata": {
    "ExecuteTime": {
     "end_time": "2021-08-26T12:00:32.186301Z",
     "start_time": "2021-08-26T12:00:32.169338Z"
    }
   },
   "outputs": [],
   "source": [
    "apart2020=apart2020[apart2020['해제사유발생일'].isna()]"
   ]
  },
  {
   "cell_type": "code",
   "execution_count": 219,
   "id": "c3d480c8",
   "metadata": {
    "ExecuteTime": {
     "end_time": "2021-08-26T12:00:32.879883Z",
     "start_time": "2021-08-26T12:00:32.856945Z"
    }
   },
   "outputs": [
    {
     "name": "stdout",
     "output_type": "stream",
     "text": [
      "<class 'pandas.core.frame.DataFrame'>\n",
      "Int64Index: 52634 entries, 0 to 54264\n",
      "Data columns (total 13 columns):\n",
      " #   Column    Non-Null Count  Dtype  \n",
      "---  ------    --------------  -----  \n",
      " 0   시군구       52634 non-null  object \n",
      " 1   번지        52617 non-null  object \n",
      " 2   본번        52625 non-null  float64\n",
      " 3   부번        52625 non-null  float64\n",
      " 4   단지명       52634 non-null  object \n",
      " 5   전용면적(㎡)   52634 non-null  float64\n",
      " 6   계약년월      52634 non-null  int64  \n",
      " 7   계약일       52634 non-null  int64  \n",
      " 8   거래금액(만원)  52634 non-null  object \n",
      " 9   층         52634 non-null  int64  \n",
      " 10  건축년도      52634 non-null  int64  \n",
      " 11  도로명       52634 non-null  object \n",
      " 12  해제사유발생일   0 non-null      float64\n",
      "dtypes: float64(4), int64(4), object(5)\n",
      "memory usage: 5.6+ MB\n"
     ]
    }
   ],
   "source": [
    "apart2020.info()"
   ]
  },
  {
   "cell_type": "code",
   "execution_count": 220,
   "id": "0e4d8201",
   "metadata": {
    "ExecuteTime": {
     "end_time": "2021-08-26T12:00:36.690512Z",
     "start_time": "2021-08-26T12:00:36.677548Z"
    }
   },
   "outputs": [],
   "source": [
    "apart2020.index=range(apart2020.shape[0])\n",
    "apart2019.index=range(apart2019.shape[0])"
   ]
  },
  {
   "cell_type": "code",
   "execution_count": 221,
   "id": "91889687",
   "metadata": {
    "ExecuteTime": {
     "end_time": "2021-08-26T12:00:38.709310Z",
     "start_time": "2021-08-26T12:00:38.578487Z"
    }
   },
   "outputs": [
    {
     "data": {
      "text/html": [
       "<div>\n",
       "<style scoped>\n",
       "    .dataframe tbody tr th:only-of-type {\n",
       "        vertical-align: middle;\n",
       "    }\n",
       "\n",
       "    .dataframe tbody tr th {\n",
       "        vertical-align: top;\n",
       "    }\n",
       "\n",
       "    .dataframe thead th {\n",
       "        text-align: right;\n",
       "    }\n",
       "</style>\n",
       "<table border=\"1\" class=\"dataframe\">\n",
       "  <thead>\n",
       "    <tr style=\"text-align: right;\">\n",
       "      <th></th>\n",
       "      <th>시군구</th>\n",
       "      <th>번지</th>\n",
       "      <th>본번</th>\n",
       "      <th>부번</th>\n",
       "      <th>단지명</th>\n",
       "      <th>전용면적(㎡)</th>\n",
       "      <th>계약년월</th>\n",
       "      <th>계약일</th>\n",
       "      <th>거래금액(만원)</th>\n",
       "      <th>층</th>\n",
       "      <th>건축년도</th>\n",
       "      <th>도로명</th>\n",
       "      <th>해제사유발생일</th>\n",
       "    </tr>\n",
       "  </thead>\n",
       "  <tbody>\n",
       "    <tr>\n",
       "      <th>0</th>\n",
       "      <td>서울특별시 강남구 개포동</td>\n",
       "      <td>655-2</td>\n",
       "      <td>655.0</td>\n",
       "      <td>2.0</td>\n",
       "      <td>개포2차현대아파트(220)</td>\n",
       "      <td>77.75</td>\n",
       "      <td>201205</td>\n",
       "      <td>1</td>\n",
       "      <td>66,000</td>\n",
       "      <td>4</td>\n",
       "      <td>1988</td>\n",
       "      <td>언주로 103</td>\n",
       "      <td>NaN</td>\n",
       "    </tr>\n",
       "    <tr>\n",
       "      <th>1</th>\n",
       "      <td>서울특별시 강남구 개포동</td>\n",
       "      <td>655-2</td>\n",
       "      <td>655.0</td>\n",
       "      <td>2.0</td>\n",
       "      <td>개포2차현대아파트(220)</td>\n",
       "      <td>77.75</td>\n",
       "      <td>201207</td>\n",
       "      <td>9</td>\n",
       "      <td>58,000</td>\n",
       "      <td>2</td>\n",
       "      <td>1988</td>\n",
       "      <td>언주로 103</td>\n",
       "      <td>NaN</td>\n",
       "    </tr>\n",
       "    <tr>\n",
       "      <th>2</th>\n",
       "      <td>서울특별시 강남구 개포동</td>\n",
       "      <td>658-1</td>\n",
       "      <td>658.0</td>\n",
       "      <td>1.0</td>\n",
       "      <td>개포6차우성아파트1동~8동</td>\n",
       "      <td>79.97</td>\n",
       "      <td>201109</td>\n",
       "      <td>2</td>\n",
       "      <td>85,000</td>\n",
       "      <td>5</td>\n",
       "      <td>1987</td>\n",
       "      <td>언주로 3</td>\n",
       "      <td>NaN</td>\n",
       "    </tr>\n",
       "    <tr>\n",
       "      <th>3</th>\n",
       "      <td>서울특별시 강남구 개포동</td>\n",
       "      <td>658-1</td>\n",
       "      <td>658.0</td>\n",
       "      <td>1.0</td>\n",
       "      <td>개포6차우성아파트1동~8동</td>\n",
       "      <td>67.28</td>\n",
       "      <td>201112</td>\n",
       "      <td>17</td>\n",
       "      <td>68,000</td>\n",
       "      <td>1</td>\n",
       "      <td>1987</td>\n",
       "      <td>언주로 3</td>\n",
       "      <td>NaN</td>\n",
       "    </tr>\n",
       "    <tr>\n",
       "      <th>4</th>\n",
       "      <td>서울특별시 강남구 개포동</td>\n",
       "      <td>652</td>\n",
       "      <td>652.0</td>\n",
       "      <td>0.0</td>\n",
       "      <td>개포우성3차</td>\n",
       "      <td>133.46</td>\n",
       "      <td>201109</td>\n",
       "      <td>16</td>\n",
       "      <td>126,500</td>\n",
       "      <td>7</td>\n",
       "      <td>1984</td>\n",
       "      <td>개포로 307</td>\n",
       "      <td>NaN</td>\n",
       "    </tr>\n",
       "    <tr>\n",
       "      <th>...</th>\n",
       "      <td>...</td>\n",
       "      <td>...</td>\n",
       "      <td>...</td>\n",
       "      <td>...</td>\n",
       "      <td>...</td>\n",
       "      <td>...</td>\n",
       "      <td>...</td>\n",
       "      <td>...</td>\n",
       "      <td>...</td>\n",
       "      <td>...</td>\n",
       "      <td>...</td>\n",
       "      <td>...</td>\n",
       "      <td>...</td>\n",
       "    </tr>\n",
       "    <tr>\n",
       "      <th>52629</th>\n",
       "      <td>서울특별시 중랑구 중화동</td>\n",
       "      <td>274-51</td>\n",
       "      <td>274.0</td>\n",
       "      <td>51.0</td>\n",
       "      <td>한영(101)</td>\n",
       "      <td>57.66</td>\n",
       "      <td>202102</td>\n",
       "      <td>27</td>\n",
       "      <td>30,500</td>\n",
       "      <td>5</td>\n",
       "      <td>2003</td>\n",
       "      <td>동일로144길 74</td>\n",
       "      <td>NaN</td>\n",
       "    </tr>\n",
       "    <tr>\n",
       "      <th>52630</th>\n",
       "      <td>서울특별시 중랑구 중화동</td>\n",
       "      <td>274-75</td>\n",
       "      <td>274.0</td>\n",
       "      <td>75.0</td>\n",
       "      <td>한영(102)</td>\n",
       "      <td>72.22</td>\n",
       "      <td>202105</td>\n",
       "      <td>4</td>\n",
       "      <td>49,500</td>\n",
       "      <td>4</td>\n",
       "      <td>2003</td>\n",
       "      <td>동일로144길 74</td>\n",
       "      <td>NaN</td>\n",
       "    </tr>\n",
       "    <tr>\n",
       "      <th>52631</th>\n",
       "      <td>서울특별시 중랑구 중화동</td>\n",
       "      <td>274-76</td>\n",
       "      <td>274.0</td>\n",
       "      <td>76.0</td>\n",
       "      <td>한영(103)</td>\n",
       "      <td>58.46</td>\n",
       "      <td>202107</td>\n",
       "      <td>1</td>\n",
       "      <td>30,000</td>\n",
       "      <td>2</td>\n",
       "      <td>2003</td>\n",
       "      <td>동일로144길 74</td>\n",
       "      <td>NaN</td>\n",
       "    </tr>\n",
       "    <tr>\n",
       "      <th>52632</th>\n",
       "      <td>서울특별시 중랑구 중화동</td>\n",
       "      <td>11</td>\n",
       "      <td>11.0</td>\n",
       "      <td>0.0</td>\n",
       "      <td>현대휴앤미</td>\n",
       "      <td>100.17</td>\n",
       "      <td>202012</td>\n",
       "      <td>3</td>\n",
       "      <td>54,800</td>\n",
       "      <td>5</td>\n",
       "      <td>2007</td>\n",
       "      <td>봉화산로27가길 23</td>\n",
       "      <td>NaN</td>\n",
       "    </tr>\n",
       "    <tr>\n",
       "      <th>52633</th>\n",
       "      <td>서울특별시 중랑구 중화동</td>\n",
       "      <td>11-7</td>\n",
       "      <td>11.0</td>\n",
       "      <td>7.0</td>\n",
       "      <td>현대휴앤미(102동)</td>\n",
       "      <td>77.71</td>\n",
       "      <td>202009</td>\n",
       "      <td>28</td>\n",
       "      <td>40,000</td>\n",
       "      <td>5</td>\n",
       "      <td>2007</td>\n",
       "      <td>봉화산로27가길 19</td>\n",
       "      <td>NaN</td>\n",
       "    </tr>\n",
       "  </tbody>\n",
       "</table>\n",
       "<p>746657 rows × 13 columns</p>\n",
       "</div>"
      ],
      "text/plain": [
       "                 시군구      번지     본번    부번             단지명  전용면적(㎡)    계약년월  \\\n",
       "0      서울특별시 강남구 개포동   655-2  655.0   2.0  개포2차현대아파트(220)    77.75  201205   \n",
       "1      서울특별시 강남구 개포동   655-2  655.0   2.0  개포2차현대아파트(220)    77.75  201207   \n",
       "2      서울특별시 강남구 개포동   658-1  658.0   1.0  개포6차우성아파트1동~8동    79.97  201109   \n",
       "3      서울특별시 강남구 개포동   658-1  658.0   1.0  개포6차우성아파트1동~8동    67.28  201112   \n",
       "4      서울특별시 강남구 개포동     652  652.0   0.0          개포우성3차   133.46  201109   \n",
       "...              ...     ...    ...   ...             ...      ...     ...   \n",
       "52629  서울특별시 중랑구 중화동  274-51  274.0  51.0         한영(101)    57.66  202102   \n",
       "52630  서울특별시 중랑구 중화동  274-75  274.0  75.0         한영(102)    72.22  202105   \n",
       "52631  서울특별시 중랑구 중화동  274-76  274.0  76.0         한영(103)    58.46  202107   \n",
       "52632  서울특별시 중랑구 중화동      11   11.0   0.0           현대휴앤미   100.17  202012   \n",
       "52633  서울특별시 중랑구 중화동    11-7   11.0   7.0     현대휴앤미(102동)    77.71  202009   \n",
       "\n",
       "       계약일 거래금액(만원)  층  건축년도          도로명  해제사유발생일  \n",
       "0        1   66,000  4  1988      언주로 103      NaN  \n",
       "1        9   58,000  2  1988      언주로 103      NaN  \n",
       "2        2   85,000  5  1987        언주로 3      NaN  \n",
       "3       17   68,000  1  1987        언주로 3      NaN  \n",
       "4       16  126,500  7  1984      개포로 307      NaN  \n",
       "...    ...      ... ..   ...          ...      ...  \n",
       "52629   27   30,500  5  2003   동일로144길 74      NaN  \n",
       "52630    4   49,500  4  2003   동일로144길 74      NaN  \n",
       "52631    1   30,000  2  2003   동일로144길 74      NaN  \n",
       "52632    3   54,800  5  2007  봉화산로27가길 23      NaN  \n",
       "52633   28   40,000  5  2007  봉화산로27가길 19      NaN  \n",
       "\n",
       "[746657 rows x 13 columns]"
      ]
     },
     "execution_count": 221,
     "metadata": {},
     "output_type": "execute_result"
    }
   ],
   "source": [
    "apart=pd.concat([apart2011,apart2012,apart2013,apart2014,apart2015,apart2016,apart2017,apart2018,apart2019,apart2020])\n",
    "apart"
   ]
  },
  {
   "cell_type": "code",
   "execution_count": 222,
   "id": "0b9e0740",
   "metadata": {
    "ExecuteTime": {
     "end_time": "2021-08-26T12:01:38.199037Z",
     "start_time": "2021-08-26T12:01:38.182053Z"
    }
   },
   "outputs": [],
   "source": [
    "apart.index=range(apart.shape[0])"
   ]
  },
  {
   "cell_type": "code",
   "execution_count": 223,
   "id": "8fe5a1fd",
   "metadata": {
    "ExecuteTime": {
     "end_time": "2021-08-26T12:01:42.634656Z",
     "start_time": "2021-08-26T12:01:42.599723Z"
    }
   },
   "outputs": [
    {
     "data": {
      "text/html": [
       "<div>\n",
       "<style scoped>\n",
       "    .dataframe tbody tr th:only-of-type {\n",
       "        vertical-align: middle;\n",
       "    }\n",
       "\n",
       "    .dataframe tbody tr th {\n",
       "        vertical-align: top;\n",
       "    }\n",
       "\n",
       "    .dataframe thead th {\n",
       "        text-align: right;\n",
       "    }\n",
       "</style>\n",
       "<table border=\"1\" class=\"dataframe\">\n",
       "  <thead>\n",
       "    <tr style=\"text-align: right;\">\n",
       "      <th></th>\n",
       "      <th>시군구</th>\n",
       "      <th>번지</th>\n",
       "      <th>본번</th>\n",
       "      <th>부번</th>\n",
       "      <th>단지명</th>\n",
       "      <th>전용면적(㎡)</th>\n",
       "      <th>계약년월</th>\n",
       "      <th>계약일</th>\n",
       "      <th>거래금액(만원)</th>\n",
       "      <th>층</th>\n",
       "      <th>건축년도</th>\n",
       "      <th>도로명</th>\n",
       "      <th>해제사유발생일</th>\n",
       "    </tr>\n",
       "  </thead>\n",
       "  <tbody>\n",
       "    <tr>\n",
       "      <th>0</th>\n",
       "      <td>서울특별시 강남구 개포동</td>\n",
       "      <td>655-2</td>\n",
       "      <td>655.0</td>\n",
       "      <td>2.0</td>\n",
       "      <td>개포2차현대아파트(220)</td>\n",
       "      <td>77.75</td>\n",
       "      <td>201205</td>\n",
       "      <td>1</td>\n",
       "      <td>66,000</td>\n",
       "      <td>4</td>\n",
       "      <td>1988</td>\n",
       "      <td>언주로 103</td>\n",
       "      <td>NaN</td>\n",
       "    </tr>\n",
       "    <tr>\n",
       "      <th>1</th>\n",
       "      <td>서울특별시 강남구 개포동</td>\n",
       "      <td>655-2</td>\n",
       "      <td>655.0</td>\n",
       "      <td>2.0</td>\n",
       "      <td>개포2차현대아파트(220)</td>\n",
       "      <td>77.75</td>\n",
       "      <td>201207</td>\n",
       "      <td>9</td>\n",
       "      <td>58,000</td>\n",
       "      <td>2</td>\n",
       "      <td>1988</td>\n",
       "      <td>언주로 103</td>\n",
       "      <td>NaN</td>\n",
       "    </tr>\n",
       "    <tr>\n",
       "      <th>2</th>\n",
       "      <td>서울특별시 강남구 개포동</td>\n",
       "      <td>658-1</td>\n",
       "      <td>658.0</td>\n",
       "      <td>1.0</td>\n",
       "      <td>개포6차우성아파트1동~8동</td>\n",
       "      <td>79.97</td>\n",
       "      <td>201109</td>\n",
       "      <td>2</td>\n",
       "      <td>85,000</td>\n",
       "      <td>5</td>\n",
       "      <td>1987</td>\n",
       "      <td>언주로 3</td>\n",
       "      <td>NaN</td>\n",
       "    </tr>\n",
       "    <tr>\n",
       "      <th>3</th>\n",
       "      <td>서울특별시 강남구 개포동</td>\n",
       "      <td>658-1</td>\n",
       "      <td>658.0</td>\n",
       "      <td>1.0</td>\n",
       "      <td>개포6차우성아파트1동~8동</td>\n",
       "      <td>67.28</td>\n",
       "      <td>201112</td>\n",
       "      <td>17</td>\n",
       "      <td>68,000</td>\n",
       "      <td>1</td>\n",
       "      <td>1987</td>\n",
       "      <td>언주로 3</td>\n",
       "      <td>NaN</td>\n",
       "    </tr>\n",
       "    <tr>\n",
       "      <th>4</th>\n",
       "      <td>서울특별시 강남구 개포동</td>\n",
       "      <td>652</td>\n",
       "      <td>652.0</td>\n",
       "      <td>0.0</td>\n",
       "      <td>개포우성3차</td>\n",
       "      <td>133.46</td>\n",
       "      <td>201109</td>\n",
       "      <td>16</td>\n",
       "      <td>126,500</td>\n",
       "      <td>7</td>\n",
       "      <td>1984</td>\n",
       "      <td>개포로 307</td>\n",
       "      <td>NaN</td>\n",
       "    </tr>\n",
       "    <tr>\n",
       "      <th>...</th>\n",
       "      <td>...</td>\n",
       "      <td>...</td>\n",
       "      <td>...</td>\n",
       "      <td>...</td>\n",
       "      <td>...</td>\n",
       "      <td>...</td>\n",
       "      <td>...</td>\n",
       "      <td>...</td>\n",
       "      <td>...</td>\n",
       "      <td>...</td>\n",
       "      <td>...</td>\n",
       "      <td>...</td>\n",
       "      <td>...</td>\n",
       "    </tr>\n",
       "    <tr>\n",
       "      <th>746652</th>\n",
       "      <td>서울특별시 중랑구 중화동</td>\n",
       "      <td>274-51</td>\n",
       "      <td>274.0</td>\n",
       "      <td>51.0</td>\n",
       "      <td>한영(101)</td>\n",
       "      <td>57.66</td>\n",
       "      <td>202102</td>\n",
       "      <td>27</td>\n",
       "      <td>30,500</td>\n",
       "      <td>5</td>\n",
       "      <td>2003</td>\n",
       "      <td>동일로144길 74</td>\n",
       "      <td>NaN</td>\n",
       "    </tr>\n",
       "    <tr>\n",
       "      <th>746653</th>\n",
       "      <td>서울특별시 중랑구 중화동</td>\n",
       "      <td>274-75</td>\n",
       "      <td>274.0</td>\n",
       "      <td>75.0</td>\n",
       "      <td>한영(102)</td>\n",
       "      <td>72.22</td>\n",
       "      <td>202105</td>\n",
       "      <td>4</td>\n",
       "      <td>49,500</td>\n",
       "      <td>4</td>\n",
       "      <td>2003</td>\n",
       "      <td>동일로144길 74</td>\n",
       "      <td>NaN</td>\n",
       "    </tr>\n",
       "    <tr>\n",
       "      <th>746654</th>\n",
       "      <td>서울특별시 중랑구 중화동</td>\n",
       "      <td>274-76</td>\n",
       "      <td>274.0</td>\n",
       "      <td>76.0</td>\n",
       "      <td>한영(103)</td>\n",
       "      <td>58.46</td>\n",
       "      <td>202107</td>\n",
       "      <td>1</td>\n",
       "      <td>30,000</td>\n",
       "      <td>2</td>\n",
       "      <td>2003</td>\n",
       "      <td>동일로144길 74</td>\n",
       "      <td>NaN</td>\n",
       "    </tr>\n",
       "    <tr>\n",
       "      <th>746655</th>\n",
       "      <td>서울특별시 중랑구 중화동</td>\n",
       "      <td>11</td>\n",
       "      <td>11.0</td>\n",
       "      <td>0.0</td>\n",
       "      <td>현대휴앤미</td>\n",
       "      <td>100.17</td>\n",
       "      <td>202012</td>\n",
       "      <td>3</td>\n",
       "      <td>54,800</td>\n",
       "      <td>5</td>\n",
       "      <td>2007</td>\n",
       "      <td>봉화산로27가길 23</td>\n",
       "      <td>NaN</td>\n",
       "    </tr>\n",
       "    <tr>\n",
       "      <th>746656</th>\n",
       "      <td>서울특별시 중랑구 중화동</td>\n",
       "      <td>11-7</td>\n",
       "      <td>11.0</td>\n",
       "      <td>7.0</td>\n",
       "      <td>현대휴앤미(102동)</td>\n",
       "      <td>77.71</td>\n",
       "      <td>202009</td>\n",
       "      <td>28</td>\n",
       "      <td>40,000</td>\n",
       "      <td>5</td>\n",
       "      <td>2007</td>\n",
       "      <td>봉화산로27가길 19</td>\n",
       "      <td>NaN</td>\n",
       "    </tr>\n",
       "  </tbody>\n",
       "</table>\n",
       "<p>746657 rows × 13 columns</p>\n",
       "</div>"
      ],
      "text/plain": [
       "                  시군구      번지     본번    부번             단지명  전용면적(㎡)    계약년월  \\\n",
       "0       서울특별시 강남구 개포동   655-2  655.0   2.0  개포2차현대아파트(220)    77.75  201205   \n",
       "1       서울특별시 강남구 개포동   655-2  655.0   2.0  개포2차현대아파트(220)    77.75  201207   \n",
       "2       서울특별시 강남구 개포동   658-1  658.0   1.0  개포6차우성아파트1동~8동    79.97  201109   \n",
       "3       서울특별시 강남구 개포동   658-1  658.0   1.0  개포6차우성아파트1동~8동    67.28  201112   \n",
       "4       서울특별시 강남구 개포동     652  652.0   0.0          개포우성3차   133.46  201109   \n",
       "...               ...     ...    ...   ...             ...      ...     ...   \n",
       "746652  서울특별시 중랑구 중화동  274-51  274.0  51.0         한영(101)    57.66  202102   \n",
       "746653  서울특별시 중랑구 중화동  274-75  274.0  75.0         한영(102)    72.22  202105   \n",
       "746654  서울특별시 중랑구 중화동  274-76  274.0  76.0         한영(103)    58.46  202107   \n",
       "746655  서울특별시 중랑구 중화동      11   11.0   0.0           현대휴앤미   100.17  202012   \n",
       "746656  서울특별시 중랑구 중화동    11-7   11.0   7.0     현대휴앤미(102동)    77.71  202009   \n",
       "\n",
       "        계약일 거래금액(만원)  층  건축년도          도로명  해제사유발생일  \n",
       "0         1   66,000  4  1988      언주로 103      NaN  \n",
       "1         9   58,000  2  1988      언주로 103      NaN  \n",
       "2         2   85,000  5  1987        언주로 3      NaN  \n",
       "3        17   68,000  1  1987        언주로 3      NaN  \n",
       "4        16  126,500  7  1984      개포로 307      NaN  \n",
       "...     ...      ... ..   ...          ...      ...  \n",
       "746652   27   30,500  5  2003   동일로144길 74      NaN  \n",
       "746653    4   49,500  4  2003   동일로144길 74      NaN  \n",
       "746654    1   30,000  2  2003   동일로144길 74      NaN  \n",
       "746655    3   54,800  5  2007  봉화산로27가길 23      NaN  \n",
       "746656   28   40,000  5  2007  봉화산로27가길 19      NaN  \n",
       "\n",
       "[746657 rows x 13 columns]"
      ]
     },
     "execution_count": 223,
     "metadata": {},
     "output_type": "execute_result"
    }
   ],
   "source": [
    "apart"
   ]
  },
  {
   "cell_type": "code",
   "execution_count": 224,
   "id": "9aa12221",
   "metadata": {
    "ExecuteTime": {
     "end_time": "2021-08-26T12:02:18.264545Z",
     "start_time": "2021-08-26T12:02:18.236590Z"
    }
   },
   "outputs": [],
   "source": [
    "apart['계약날짜']=apart['계약년월']*100+apart['계약일']\n",
    "apart=apart['계약날짜']\n",
    "apart=apart.value_counts().to_frame().sort_index()"
   ]
  },
  {
   "cell_type": "code",
   "execution_count": 226,
   "id": "0336bfc5",
   "metadata": {
    "ExecuteTime": {
     "end_time": "2021-08-26T12:03:08.767627Z",
     "start_time": "2021-08-26T12:03:08.745686Z"
    }
   },
   "outputs": [
    {
     "data": {
      "text/html": [
       "<div>\n",
       "<style scoped>\n",
       "    .dataframe tbody tr th:only-of-type {\n",
       "        vertical-align: middle;\n",
       "    }\n",
       "\n",
       "    .dataframe tbody tr th {\n",
       "        vertical-align: top;\n",
       "    }\n",
       "\n",
       "    .dataframe thead th {\n",
       "        text-align: right;\n",
       "    }\n",
       "</style>\n",
       "<table border=\"1\" class=\"dataframe\">\n",
       "  <thead>\n",
       "    <tr style=\"text-align: right;\">\n",
       "      <th></th>\n",
       "      <th>거래량</th>\n",
       "    </tr>\n",
       "  </thead>\n",
       "  <tbody>\n",
       "    <tr>\n",
       "      <th>20110826</th>\n",
       "      <td>167</td>\n",
       "    </tr>\n",
       "    <tr>\n",
       "      <th>20110827</th>\n",
       "      <td>196</td>\n",
       "    </tr>\n",
       "    <tr>\n",
       "      <th>20110828</th>\n",
       "      <td>36</td>\n",
       "    </tr>\n",
       "    <tr>\n",
       "      <th>20110829</th>\n",
       "      <td>178</td>\n",
       "    </tr>\n",
       "    <tr>\n",
       "      <th>20110830</th>\n",
       "      <td>166</td>\n",
       "    </tr>\n",
       "    <tr>\n",
       "      <th>...</th>\n",
       "      <td>...</td>\n",
       "    </tr>\n",
       "    <tr>\n",
       "      <th>20210721</th>\n",
       "      <td>121</td>\n",
       "    </tr>\n",
       "    <tr>\n",
       "      <th>20210722</th>\n",
       "      <td>149</td>\n",
       "    </tr>\n",
       "    <tr>\n",
       "      <th>20210723</th>\n",
       "      <td>146</td>\n",
       "    </tr>\n",
       "    <tr>\n",
       "      <th>20210724</th>\n",
       "      <td>274</td>\n",
       "    </tr>\n",
       "    <tr>\n",
       "      <th>20210725</th>\n",
       "      <td>45</td>\n",
       "    </tr>\n",
       "  </tbody>\n",
       "</table>\n",
       "<p>3342 rows × 1 columns</p>\n",
       "</div>"
      ],
      "text/plain": [
       "          거래량\n",
       "20110826  167\n",
       "20110827  196\n",
       "20110828   36\n",
       "20110829  178\n",
       "20110830  166\n",
       "...       ...\n",
       "20210721  121\n",
       "20210722  149\n",
       "20210723  146\n",
       "20210724  274\n",
       "20210725   45\n",
       "\n",
       "[3342 rows x 1 columns]"
      ]
     },
     "execution_count": 226,
     "metadata": {},
     "output_type": "execute_result"
    }
   ],
   "source": [
    "apart.columns=['거래량']\n",
    "apart"
   ]
  },
  {
   "cell_type": "code",
   "execution_count": null,
   "id": "e325ad90",
   "metadata": {},
   "outputs": [],
   "source": []
  }
 ],
 "metadata": {
  "kernelspec": {
   "display_name": "Python 3",
   "language": "python",
   "name": "python3"
  },
  "language_info": {
   "codemirror_mode": {
    "name": "ipython",
    "version": 3
   },
   "file_extension": ".py",
   "mimetype": "text/x-python",
   "name": "python",
   "nbconvert_exporter": "python",
   "pygments_lexer": "ipython3",
   "version": "3.8.8"
  },
  "toc": {
   "base_numbering": 1,
   "nav_menu": {},
   "number_sections": false,
   "sideBar": true,
   "skip_h1_title": false,
   "title_cell": "Table of Contents",
   "title_sidebar": "Contents",
   "toc_cell": false,
   "toc_position": {
    "height": "calc(100% - 180px)",
    "left": "10px",
    "top": "150px",
    "width": "309.594px"
   },
   "toc_section_display": true,
   "toc_window_display": true
  },
  "varInspector": {
   "cols": {
    "lenName": 16,
    "lenType": 16,
    "lenVar": 40
   },
   "kernels_config": {
    "python": {
     "delete_cmd_postfix": "",
     "delete_cmd_prefix": "del ",
     "library": "var_list.py",
     "varRefreshCmd": "print(var_dic_list())"
    },
    "r": {
     "delete_cmd_postfix": ") ",
     "delete_cmd_prefix": "rm(",
     "library": "var_list.r",
     "varRefreshCmd": "cat(var_dic_list()) "
    }
   },
   "position": {
    "height": "321px",
    "left": "1178px",
    "right": "20px",
    "top": "120px",
    "width": "350px"
   },
   "types_to_exclude": [
    "module",
    "function",
    "builtin_function_or_method",
    "instance",
    "_Feature"
   ],
   "window_display": false
  }
 },
 "nbformat": 4,
 "nbformat_minor": 5
}
