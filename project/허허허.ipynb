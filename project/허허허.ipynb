{
 "cells": [
  {
   "cell_type": "code",
   "execution_count": null,
   "id": "b88c267c",
   "metadata": {},
   "outputs": [],
   "source": [
    "from selenium import webdriver\n",
    "from bs4 import BeautifulSoup\n",
    "import time"
   ]
  },
  {
   "cell_type": "code",
   "execution_count": null,
   "id": "1b7b2cfa",
   "metadata": {
    "ExecuteTime": {
     "end_time": "2021-08-24T07:49:24.405745Z",
     "start_time": "2021-08-24T07:47:06.575804Z"
    }
   },
   "outputs": [],
   "source": [
    "gu=['강남구','강동구','강북구','강서구','관악구','광진구','구로구','금천구','노원구','도봉구','동대문구','동작구','마포구','서대문구','서초구','성동구','성북구','송파구','양천구','영등포구','용산구','은평구','종로구','중구','중랑구']\n",
    "su=[]\n",
    "dv=webdriver.Chrome()\n",
    "dv.get('http://www.nsdi.go.kr/lxportal/?menuno=4085')\n",
    "elem = dv.find_element_by_name('shSido')\n",
    "elem.send_keys('서울특별시')\n",
    "for g in 지역:\n",
    "    elem2 = dv.find_element_by_name('shSigungu')\n",
    "    elem2.send_keys(g)\n",
    "    button = dv.find_element_by_id('icon_btn_write')\n",
    "    button.click()\n",
    "    time.sleep(1)\n",
    "    soup = BeautifulSoup(dv.page_source, 'html.parser')\n",
    "    result= soup.select_one('p.allTxt > span')\n",
    "    su.append(result.text)"
   ]
  },
  {
   "cell_type": "code",
   "execution_count": null,
   "id": "f21b4dbf",
   "metadata": {
    "ExecuteTime": {
     "end_time": "2021-08-24T07:51:28.256716Z",
     "start_time": "2021-08-24T07:51:28.240732Z"
    }
   },
   "outputs": [],
   "source": [
    "df=pd.DataFrame({'지역':gu,'사무소 개수':su})"
   ]
  },
  {
   "cell_type": "code",
   "execution_count": null,
   "id": "a4956e39",
   "metadata": {
    "ExecuteTime": {
     "end_time": "2021-08-24T07:58:20.279610Z",
     "start_time": "2021-08-24T07:55:24.746810Z"
    }
   },
   "outputs": [],
   "source": [
    "gu=['강남구','강동구','강북구','강서구','관악구','광진구','구로구','금천구','노원구','도봉구','동대문구','동작구','마포구','서대문구','서초구','성동구','성북구','송파구','양천구','영등포구','용산구','은평구','종로구','중구','중랑구']\n",
    "su=[]\n",
    "dv=webdriver.Chrome()\n",
    "dv.get('http://www.nsdi.go.kr/lxportal/?menuno=4085')\n",
    "elem = dv.find_element_by_name('shSido')\n",
    "elem.send_keys('서울특별시')\n",
    "elem3 = dv.find_element_by_name('shSelect')\n",
    "elem3.send_keys('중개사/보조원')\n",
    "for g in gu:\n",
    "    elem2 = dv.find_element_by_name('shSigungu')\n",
    "    elem2.send_keys(g)\n",
    "    button = dv.find_element_by_id('icon_btn_write')\n",
    "    button.click()\n",
    "    time.sleep(2)\n",
    "    soup = BeautifulSoup(dv.page_source, 'html.parser')\n",
    "    result= soup.select_one('p.allTxt > span')\n",
    "    su.append(result.text)\n"
   ]
  },
  {
   "cell_type": "code",
   "execution_count": null,
   "id": "07384513",
   "metadata": {
    "ExecuteTime": {
     "end_time": "2021-08-24T07:58:54.494628Z",
     "start_time": "2021-08-24T07:58:54.446753Z"
    }
   },
   "outputs": [],
   "source": [
    "dv.close()"
   ]
  },
  {
   "cell_type": "code",
   "execution_count": null,
   "id": "a3a2f164",
   "metadata": {},
   "outputs": [],
   "source": []
  },
  {
   "cell_type": "code",
   "execution_count": null,
   "id": "72f6ad03",
   "metadata": {
    "ExecuteTime": {
     "end_time": "2021-08-24T08:13:43.717911Z",
     "start_time": "2021-08-24T08:13:42.935035Z"
    }
   },
   "outputs": [],
   "source": [
    "import pandas as pd\n",
    "from matplotlib import pyplot as plt\n",
    "%matplotlib inline\n",
    "%config InlineBackend.figure_format = 'retina'\n",
    "import warnings\n",
    "warnings.filterwarnings(action='ignore')\n",
    "import numpy as np\n",
    "plt.rc('font', family='Malgun Gothic') \n",
    "plt.rc('axes', unicode_minus=False)\n",
    "import matplotlib.font_manager as fm\n",
    "font_path = 'C:\\Windows\\Fonts\\HMFMPYUN.TTF'\n",
    "font_prop = fm.FontProperties(fname=font_path, size=20)\n",
    "import seaborn as sns"
   ]
  },
  {
   "cell_type": "code",
   "execution_count": null,
   "id": "93050209",
   "metadata": {
    "ExecuteTime": {
     "end_time": "2021-08-24T08:00:47.096422Z",
     "start_time": "2021-08-24T08:00:47.069489Z"
    }
   },
   "outputs": [],
   "source": [
    "df1=pd.DataFrame({'지역':gu,'노동자 수':su})"
   ]
  },
  {
   "cell_type": "code",
   "execution_count": 58,
   "id": "b33efbdf",
   "metadata": {
    "ExecuteTime": {
     "end_time": "2021-08-24T08:20:21.876343Z",
     "start_time": "2021-08-24T08:20:21.861383Z"
    }
   },
   "outputs": [],
   "source": [
    "df['사무소 개수']=df['사무소 개수'].map(lambda x : int(x.replace(',','')))"
   ]
  },
  {
   "cell_type": "code",
   "execution_count": 61,
   "id": "7d9fb6d6",
   "metadata": {
    "ExecuteTime": {
     "end_time": "2021-08-24T08:21:06.123768Z",
     "start_time": "2021-08-24T08:21:06.109812Z"
    }
   },
   "outputs": [],
   "source": [
    "df1['노동자 수']=df1['노동자 수'].map(lambda x : int(x.replace(',','')))"
   ]
  },
  {
   "cell_type": "code",
   "execution_count": 139,
   "id": "171a886c",
   "metadata": {
    "ExecuteTime": {
     "end_time": "2021-08-24T09:30:16.841043Z",
     "start_time": "2021-08-24T09:30:16.825107Z"
    }
   },
   "outputs": [
    {
     "data": {
      "text/plain": [
       "지역        0\n",
       "사무소 개수    0\n",
       "dtype: int64"
      ]
     },
     "execution_count": 139,
     "metadata": {},
     "output_type": "execute_result"
    }
   ],
   "source": [
    "df.isna().sum()"
   ]
  },
  {
   "cell_type": "code",
   "execution_count": 140,
   "id": "454b42d0",
   "metadata": {
    "ExecuteTime": {
     "end_time": "2021-08-24T09:30:24.994691Z",
     "start_time": "2021-08-24T09:30:24.987718Z"
    }
   },
   "outputs": [
    {
     "data": {
      "text/plain": [
       "지역       0\n",
       "노동자 수    0\n",
       "dtype: int64"
      ]
     },
     "execution_count": 140,
     "metadata": {},
     "output_type": "execute_result"
    }
   ],
   "source": [
    "df1.isna().sum()"
   ]
  },
  {
   "cell_type": "code",
   "execution_count": 65,
   "id": "719218f1",
   "metadata": {
    "ExecuteTime": {
     "end_time": "2021-08-24T08:21:41.613323Z",
     "start_time": "2021-08-24T08:21:41.596369Z"
    }
   },
   "outputs": [],
   "source": [
    "df_seoul = pd.merge(df,df1)"
   ]
  },
  {
   "cell_type": "code",
   "execution_count": 142,
   "id": "1cc69807",
   "metadata": {
    "ExecuteTime": {
     "end_time": "2021-08-24T09:30:46.036583Z",
     "start_time": "2021-08-24T09:30:46.021596Z"
    }
   },
   "outputs": [
    {
     "data": {
      "text/html": [
       "<div>\n",
       "<style scoped>\n",
       "    .dataframe tbody tr th:only-of-type {\n",
       "        vertical-align: middle;\n",
       "    }\n",
       "\n",
       "    .dataframe tbody tr th {\n",
       "        vertical-align: top;\n",
       "    }\n",
       "\n",
       "    .dataframe thead th {\n",
       "        text-align: right;\n",
       "    }\n",
       "</style>\n",
       "<table border=\"1\" class=\"dataframe\">\n",
       "  <thead>\n",
       "    <tr style=\"text-align: right;\">\n",
       "      <th></th>\n",
       "      <th>지역</th>\n",
       "      <th>사무소 개수</th>\n",
       "      <th>노동자 수</th>\n",
       "    </tr>\n",
       "  </thead>\n",
       "  <tbody>\n",
       "    <tr>\n",
       "      <th>0</th>\n",
       "      <td>강남구</td>\n",
       "      <td>2841</td>\n",
       "      <td>7747</td>\n",
       "    </tr>\n",
       "    <tr>\n",
       "      <th>1</th>\n",
       "      <td>강동구</td>\n",
       "      <td>1276</td>\n",
       "      <td>2112</td>\n",
       "    </tr>\n",
       "    <tr>\n",
       "      <th>2</th>\n",
       "      <td>강북구</td>\n",
       "      <td>640</td>\n",
       "      <td>1083</td>\n",
       "    </tr>\n",
       "    <tr>\n",
       "      <th>3</th>\n",
       "      <td>강서구</td>\n",
       "      <td>1461</td>\n",
       "      <td>2948</td>\n",
       "    </tr>\n",
       "    <tr>\n",
       "      <th>4</th>\n",
       "      <td>관악구</td>\n",
       "      <td>1119</td>\n",
       "      <td>2801</td>\n",
       "    </tr>\n",
       "    <tr>\n",
       "      <th>5</th>\n",
       "      <td>광진구</td>\n",
       "      <td>917</td>\n",
       "      <td>1518</td>\n",
       "    </tr>\n",
       "    <tr>\n",
       "      <th>6</th>\n",
       "      <td>구로구</td>\n",
       "      <td>846</td>\n",
       "      <td>1443</td>\n",
       "    </tr>\n",
       "    <tr>\n",
       "      <th>7</th>\n",
       "      <td>금천구</td>\n",
       "      <td>666</td>\n",
       "      <td>1317</td>\n",
       "    </tr>\n",
       "    <tr>\n",
       "      <th>8</th>\n",
       "      <td>노원구</td>\n",
       "      <td>781</td>\n",
       "      <td>1266</td>\n",
       "    </tr>\n",
       "    <tr>\n",
       "      <th>9</th>\n",
       "      <td>도봉구</td>\n",
       "      <td>529</td>\n",
       "      <td>831</td>\n",
       "    </tr>\n",
       "    <tr>\n",
       "      <th>10</th>\n",
       "      <td>동대문구</td>\n",
       "      <td>911</td>\n",
       "      <td>1538</td>\n",
       "    </tr>\n",
       "    <tr>\n",
       "      <th>11</th>\n",
       "      <td>동작구</td>\n",
       "      <td>923</td>\n",
       "      <td>1650</td>\n",
       "    </tr>\n",
       "    <tr>\n",
       "      <th>12</th>\n",
       "      <td>마포구</td>\n",
       "      <td>1262</td>\n",
       "      <td>2261</td>\n",
       "    </tr>\n",
       "    <tr>\n",
       "      <th>13</th>\n",
       "      <td>서대문구</td>\n",
       "      <td>754</td>\n",
       "      <td>1258</td>\n",
       "    </tr>\n",
       "    <tr>\n",
       "      <th>14</th>\n",
       "      <td>서초구</td>\n",
       "      <td>1694</td>\n",
       "      <td>3745</td>\n",
       "    </tr>\n",
       "    <tr>\n",
       "      <th>15</th>\n",
       "      <td>성동구</td>\n",
       "      <td>870</td>\n",
       "      <td>1557</td>\n",
       "    </tr>\n",
       "    <tr>\n",
       "      <th>16</th>\n",
       "      <td>성북구</td>\n",
       "      <td>922</td>\n",
       "      <td>1416</td>\n",
       "    </tr>\n",
       "    <tr>\n",
       "      <th>17</th>\n",
       "      <td>송파구</td>\n",
       "      <td>1843</td>\n",
       "      <td>3493</td>\n",
       "    </tr>\n",
       "    <tr>\n",
       "      <th>18</th>\n",
       "      <td>양천구</td>\n",
       "      <td>981</td>\n",
       "      <td>1669</td>\n",
       "    </tr>\n",
       "    <tr>\n",
       "      <th>19</th>\n",
       "      <td>영등포구</td>\n",
       "      <td>1208</td>\n",
       "      <td>2227</td>\n",
       "    </tr>\n",
       "    <tr>\n",
       "      <th>20</th>\n",
       "      <td>용산구</td>\n",
       "      <td>918</td>\n",
       "      <td>1601</td>\n",
       "    </tr>\n",
       "    <tr>\n",
       "      <th>21</th>\n",
       "      <td>은평구</td>\n",
       "      <td>1271</td>\n",
       "      <td>2017</td>\n",
       "    </tr>\n",
       "    <tr>\n",
       "      <th>22</th>\n",
       "      <td>종로구</td>\n",
       "      <td>596</td>\n",
       "      <td>1081</td>\n",
       "    </tr>\n",
       "    <tr>\n",
       "      <th>23</th>\n",
       "      <td>중구</td>\n",
       "      <td>607</td>\n",
       "      <td>1053</td>\n",
       "    </tr>\n",
       "    <tr>\n",
       "      <th>24</th>\n",
       "      <td>중랑구</td>\n",
       "      <td>800</td>\n",
       "      <td>1313</td>\n",
       "    </tr>\n",
       "  </tbody>\n",
       "</table>\n",
       "</div>"
      ],
      "text/plain": [
       "      지역  사무소 개수  노동자 수\n",
       "0    강남구    2841   7747\n",
       "1    강동구    1276   2112\n",
       "2    강북구     640   1083\n",
       "3    강서구    1461   2948\n",
       "4    관악구    1119   2801\n",
       "5    광진구     917   1518\n",
       "6    구로구     846   1443\n",
       "7    금천구     666   1317\n",
       "8    노원구     781   1266\n",
       "9    도봉구     529    831\n",
       "10  동대문구     911   1538\n",
       "11   동작구     923   1650\n",
       "12   마포구    1262   2261\n",
       "13  서대문구     754   1258\n",
       "14   서초구    1694   3745\n",
       "15   성동구     870   1557\n",
       "16   성북구     922   1416\n",
       "17   송파구    1843   3493\n",
       "18   양천구     981   1669\n",
       "19  영등포구    1208   2227\n",
       "20   용산구     918   1601\n",
       "21   은평구    1271   2017\n",
       "22   종로구     596   1081\n",
       "23    중구     607   1053\n",
       "24   중랑구     800   1313"
      ]
     },
     "execution_count": 142,
     "metadata": {},
     "output_type": "execute_result"
    }
   ],
   "source": [
    "df_seoul # 노동자 수 : 중개사 + 중개보조원"
   ]
  },
  {
   "cell_type": "code",
   "execution_count": 154,
   "id": "ce0d5934",
   "metadata": {
    "ExecuteTime": {
     "end_time": "2021-08-24T09:43:22.119537Z",
     "start_time": "2021-08-24T09:43:22.097617Z"
    }
   },
   "outputs": [
    {
     "name": "stdout",
     "output_type": "stream",
     "text": [
      "<class 'pandas.core.frame.DataFrame'>\n",
      "Int64Index: 25 entries, 0 to 24\n",
      "Data columns (total 3 columns):\n",
      " #   Column  Non-Null Count  Dtype \n",
      "---  ------  --------------  ----- \n",
      " 0   지역      25 non-null     object\n",
      " 1   사무소 개수  25 non-null     int64 \n",
      " 2   노동자 수   25 non-null     int64 \n",
      "dtypes: int64(2), object(1)\n",
      "memory usage: 800.0+ bytes\n"
     ]
    }
   ],
   "source": [
    "df_seoul.info()"
   ]
  },
  {
   "cell_type": "code",
   "execution_count": 157,
   "id": "c21a0c27",
   "metadata": {
    "ExecuteTime": {
     "end_time": "2021-08-24T09:47:38.864846Z",
     "start_time": "2021-08-24T09:47:38.856842Z"
    }
   },
   "outputs": [],
   "source": [
    "df_seoul.to_csv(\"df_seoul.csv\",index=False) #08.24기준"
   ]
  },
  {
   "cell_type": "code",
   "execution_count": 161,
   "id": "78c8f45e",
   "metadata": {
    "ExecuteTime": {
     "end_time": "2021-08-24T09:50:27.407388Z",
     "start_time": "2021-08-24T09:50:27.400413Z"
    }
   },
   "outputs": [],
   "source": [
    "#####################################경계선 ##################################################"
   ]
  },
  {
   "cell_type": "markdown",
   "id": "de506f10",
   "metadata": {},
   "source": [
    "# 여기부터 시작"
   ]
  },
  {
   "cell_type": "code",
   "execution_count": null,
   "id": "2cbd5104",
   "metadata": {},
   "outputs": [],
   "source": [
    "###########################################################"
   ]
  },
  {
   "cell_type": "code",
   "execution_count": null,
   "id": "2108c7cb",
   "metadata": {},
   "outputs": [],
   "source": [
    "################################################################################################"
   ]
  },
  {
   "cell_type": "code",
   "execution_count": null,
   "id": "35a62a4b",
   "metadata": {},
   "outputs": [],
   "source": [
    "import pandas as pd\n",
    "from matplotlib import pyplot as plt\n",
    "%matplotlib inline\n",
    "%config InlineBackend.figure_format = 'retina'\n",
    "import warnings\n",
    "warnings.filterwarnings(action='ignore')\n",
    "import numpy as np\n",
    "plt.rc('font', family='Malgun Gothic') \n",
    "plt.rc('axes', unicode_minus=False)\n",
    "import matplotlib.font_manager as fm\n",
    "font_path = 'C:\\Windows\\Fonts\\HMFMPYUN.TTF'\n",
    "font_prop = fm.FontProperties(fname=font_path, size=20)\n",
    "import seaborn as sns"
   ]
  },
  {
   "cell_type": "code",
   "execution_count": null,
   "id": "6bc00578",
   "metadata": {},
   "outputs": [],
   "source": []
  },
  {
   "cell_type": "code",
   "execution_count": null,
   "id": "38a6ee63",
   "metadata": {},
   "outputs": [],
   "source": []
  },
  {
   "cell_type": "code",
   "execution_count": 159,
   "id": "844fd726",
   "metadata": {
    "ExecuteTime": {
     "end_time": "2021-08-24T09:50:02.862899Z",
     "start_time": "2021-08-24T09:50:02.837937Z"
    }
   },
   "outputs": [
    {
     "data": {
      "text/html": [
       "<div>\n",
       "<style scoped>\n",
       "    .dataframe tbody tr th:only-of-type {\n",
       "        vertical-align: middle;\n",
       "    }\n",
       "\n",
       "    .dataframe tbody tr th {\n",
       "        vertical-align: top;\n",
       "    }\n",
       "\n",
       "    .dataframe thead th {\n",
       "        text-align: right;\n",
       "    }\n",
       "</style>\n",
       "<table border=\"1\" class=\"dataframe\">\n",
       "  <thead>\n",
       "    <tr style=\"text-align: right;\">\n",
       "      <th></th>\n",
       "      <th>지역</th>\n",
       "      <th>사무소 개수</th>\n",
       "      <th>노동자 수</th>\n",
       "    </tr>\n",
       "  </thead>\n",
       "  <tbody>\n",
       "    <tr>\n",
       "      <th>0</th>\n",
       "      <td>강남구</td>\n",
       "      <td>2841</td>\n",
       "      <td>7747</td>\n",
       "    </tr>\n",
       "    <tr>\n",
       "      <th>1</th>\n",
       "      <td>강동구</td>\n",
       "      <td>1276</td>\n",
       "      <td>2112</td>\n",
       "    </tr>\n",
       "    <tr>\n",
       "      <th>2</th>\n",
       "      <td>강북구</td>\n",
       "      <td>640</td>\n",
       "      <td>1083</td>\n",
       "    </tr>\n",
       "    <tr>\n",
       "      <th>3</th>\n",
       "      <td>강서구</td>\n",
       "      <td>1461</td>\n",
       "      <td>2948</td>\n",
       "    </tr>\n",
       "    <tr>\n",
       "      <th>4</th>\n",
       "      <td>관악구</td>\n",
       "      <td>1119</td>\n",
       "      <td>2801</td>\n",
       "    </tr>\n",
       "    <tr>\n",
       "      <th>5</th>\n",
       "      <td>광진구</td>\n",
       "      <td>917</td>\n",
       "      <td>1518</td>\n",
       "    </tr>\n",
       "    <tr>\n",
       "      <th>6</th>\n",
       "      <td>구로구</td>\n",
       "      <td>846</td>\n",
       "      <td>1443</td>\n",
       "    </tr>\n",
       "    <tr>\n",
       "      <th>7</th>\n",
       "      <td>금천구</td>\n",
       "      <td>666</td>\n",
       "      <td>1317</td>\n",
       "    </tr>\n",
       "    <tr>\n",
       "      <th>8</th>\n",
       "      <td>노원구</td>\n",
       "      <td>781</td>\n",
       "      <td>1266</td>\n",
       "    </tr>\n",
       "    <tr>\n",
       "      <th>9</th>\n",
       "      <td>도봉구</td>\n",
       "      <td>529</td>\n",
       "      <td>831</td>\n",
       "    </tr>\n",
       "    <tr>\n",
       "      <th>10</th>\n",
       "      <td>동대문구</td>\n",
       "      <td>911</td>\n",
       "      <td>1538</td>\n",
       "    </tr>\n",
       "    <tr>\n",
       "      <th>11</th>\n",
       "      <td>동작구</td>\n",
       "      <td>923</td>\n",
       "      <td>1650</td>\n",
       "    </tr>\n",
       "    <tr>\n",
       "      <th>12</th>\n",
       "      <td>마포구</td>\n",
       "      <td>1262</td>\n",
       "      <td>2261</td>\n",
       "    </tr>\n",
       "    <tr>\n",
       "      <th>13</th>\n",
       "      <td>서대문구</td>\n",
       "      <td>754</td>\n",
       "      <td>1258</td>\n",
       "    </tr>\n",
       "    <tr>\n",
       "      <th>14</th>\n",
       "      <td>서초구</td>\n",
       "      <td>1694</td>\n",
       "      <td>3745</td>\n",
       "    </tr>\n",
       "    <tr>\n",
       "      <th>15</th>\n",
       "      <td>성동구</td>\n",
       "      <td>870</td>\n",
       "      <td>1557</td>\n",
       "    </tr>\n",
       "    <tr>\n",
       "      <th>16</th>\n",
       "      <td>성북구</td>\n",
       "      <td>922</td>\n",
       "      <td>1416</td>\n",
       "    </tr>\n",
       "    <tr>\n",
       "      <th>17</th>\n",
       "      <td>송파구</td>\n",
       "      <td>1843</td>\n",
       "      <td>3493</td>\n",
       "    </tr>\n",
       "    <tr>\n",
       "      <th>18</th>\n",
       "      <td>양천구</td>\n",
       "      <td>981</td>\n",
       "      <td>1669</td>\n",
       "    </tr>\n",
       "    <tr>\n",
       "      <th>19</th>\n",
       "      <td>영등포구</td>\n",
       "      <td>1208</td>\n",
       "      <td>2227</td>\n",
       "    </tr>\n",
       "    <tr>\n",
       "      <th>20</th>\n",
       "      <td>용산구</td>\n",
       "      <td>918</td>\n",
       "      <td>1601</td>\n",
       "    </tr>\n",
       "    <tr>\n",
       "      <th>21</th>\n",
       "      <td>은평구</td>\n",
       "      <td>1271</td>\n",
       "      <td>2017</td>\n",
       "    </tr>\n",
       "    <tr>\n",
       "      <th>22</th>\n",
       "      <td>종로구</td>\n",
       "      <td>596</td>\n",
       "      <td>1081</td>\n",
       "    </tr>\n",
       "    <tr>\n",
       "      <th>23</th>\n",
       "      <td>중구</td>\n",
       "      <td>607</td>\n",
       "      <td>1053</td>\n",
       "    </tr>\n",
       "    <tr>\n",
       "      <th>24</th>\n",
       "      <td>중랑구</td>\n",
       "      <td>800</td>\n",
       "      <td>1313</td>\n",
       "    </tr>\n",
       "  </tbody>\n",
       "</table>\n",
       "</div>"
      ],
      "text/plain": [
       "      지역  사무소 개수  노동자 수\n",
       "0    강남구    2841   7747\n",
       "1    강동구    1276   2112\n",
       "2    강북구     640   1083\n",
       "3    강서구    1461   2948\n",
       "4    관악구    1119   2801\n",
       "5    광진구     917   1518\n",
       "6    구로구     846   1443\n",
       "7    금천구     666   1317\n",
       "8    노원구     781   1266\n",
       "9    도봉구     529    831\n",
       "10  동대문구     911   1538\n",
       "11   동작구     923   1650\n",
       "12   마포구    1262   2261\n",
       "13  서대문구     754   1258\n",
       "14   서초구    1694   3745\n",
       "15   성동구     870   1557\n",
       "16   성북구     922   1416\n",
       "17   송파구    1843   3493\n",
       "18   양천구     981   1669\n",
       "19  영등포구    1208   2227\n",
       "20   용산구     918   1601\n",
       "21   은평구    1271   2017\n",
       "22   종로구     596   1081\n",
       "23    중구     607   1053\n",
       "24   중랑구     800   1313"
      ]
     },
     "execution_count": 159,
     "metadata": {},
     "output_type": "execute_result"
    }
   ],
   "source": [
    "pd.read_csv('df_seoul.csv',)"
   ]
  },
  {
   "cell_type": "code",
   "execution_count": null,
   "id": "cd9108fa",
   "metadata": {},
   "outputs": [],
   "source": []
  },
  {
   "cell_type": "code",
   "execution_count": 75,
   "id": "62b8aefc",
   "metadata": {
    "ExecuteTime": {
     "end_time": "2021-08-24T08:38:21.452370Z",
     "start_time": "2021-08-24T08:34:34.126175Z"
    }
   },
   "outputs": [],
   "source": [
    "# 11자료\n",
    "dandok_dagagu_maemae_202008=pd.read_excel('seoul_trade/202008-20210731/단독다가구(매매)_실거래가_20210823174924.xlsx', header=16, thousands=',')\n",
    "dandok_dagagu_junwol_202008=pd.read_excel('seoul_trade/202008-20210731/단독다가구(전월세)_실거래가_20210823175307.xlsx', header=16, thousands=',')\n",
    "bunyang_202008 = pd.read_excel('seoul_trade/202008-20210731/분양권_실거래가_20210823.xlsx', header=16, thousands=',')\n",
    "sangeop_eopmu_202008 = pd.read_excel('seoul_trade/202008-20210731/상업업무용(매매)_실거래가_20210823.xlsx', header=16, thousands=',')\n",
    "apart_maemae_202008 = pd.read_excel('seoul_trade/202008-20210731/아파트(매매)_실거래가_20210823174744.xlsx', header=16, thousands=',')\n",
    "apart_junwol_202008 = pd.read_excel('seoul_trade/202008-20210731/아파트(전월세)_실거래가_20210823175036.xlsx', header=16, thousands=',')\n",
    "yeonrip_maemae_202008 = pd.read_excel('seoul_trade/202008-20210731/연립다세대(매매)_실거래가_20210823174836.xlsx', header=16, thousands=',')\n",
    "yeonrip_junwol_202008 = pd.read_excel('seoul_trade/202008-20210731/연립다세대(전월세)_실거래가_20210823175131.xlsx', header=16, thousands=',')\n",
    "office_maemae_202008 = pd.read_excel('seoul_trade/202008-20210731/오피스텔(매매)_실거래가_20210823.xlsx', header=16, thousands=',')\n",
    "office_junwol_202008 = pd.read_excel('seoul_trade/202008-20210731/오피스텔(전월세)_실거래가_20210823.xlsx', header=16, thousands=',')\n",
    "toji_maemae_202008 = pd.read_excel('seoul_trade/202008-20210731/토지(매매)_실거래가_20210823.xlsx', header=16, thousands=',')"
   ]
  },
  {
   "cell_type": "code",
   "execution_count": 117,
   "id": "8250f5b5",
   "metadata": {
    "ExecuteTime": {
     "end_time": "2021-08-24T09:04:34.870010Z",
     "start_time": "2021-08-24T09:04:34.859037Z"
    }
   },
   "outputs": [],
   "source": [
    "tempindex=dandok_dagagu_maemae_202008[~dandok_dagagu_maemae_202008['해제사유발생일'].isna()].index\n",
    "dandok_dagagu_maemae_202008=dandok_dagagu_maemae_202008.drop(tempindex)\n",
    "dandok_dagagu_maemae_202008=dandok_dagagu_maemae_202008.drop(labels=['번지','도로조건','건축년도','도로명','해제사유발생일'], axis=1)"
   ]
  },
  {
   "cell_type": "code",
   "execution_count": 153,
   "id": "147b0ca6",
   "metadata": {
    "ExecuteTime": {
     "end_time": "2021-08-24T09:37:38.441545Z",
     "start_time": "2021-08-24T09:37:38.418607Z"
    }
   },
   "outputs": [
    {
     "data": {
      "text/html": [
       "<div>\n",
       "<style scoped>\n",
       "    .dataframe tbody tr th:only-of-type {\n",
       "        vertical-align: middle;\n",
       "    }\n",
       "\n",
       "    .dataframe tbody tr th {\n",
       "        vertical-align: top;\n",
       "    }\n",
       "\n",
       "    .dataframe thead th {\n",
       "        text-align: right;\n",
       "    }\n",
       "</style>\n",
       "<table border=\"1\" class=\"dataframe\">\n",
       "  <thead>\n",
       "    <tr style=\"text-align: right;\">\n",
       "      <th></th>\n",
       "      <th>시군구</th>\n",
       "      <th>주택유형</th>\n",
       "      <th>연면적(㎡)</th>\n",
       "      <th>대지면적(㎡)</th>\n",
       "      <th>계약년월</th>\n",
       "      <th>계약일</th>\n",
       "      <th>거래금액(만원)</th>\n",
       "    </tr>\n",
       "  </thead>\n",
       "  <tbody>\n",
       "    <tr>\n",
       "      <th>0</th>\n",
       "      <td>서울특별시 강남구 개포동</td>\n",
       "      <td>다가구</td>\n",
       "      <td>477.74</td>\n",
       "      <td>219.6</td>\n",
       "      <td>202011</td>\n",
       "      <td>21</td>\n",
       "      <td>385000</td>\n",
       "    </tr>\n",
       "    <tr>\n",
       "      <th>1</th>\n",
       "      <td>서울특별시 강남구 개포동</td>\n",
       "      <td>단독</td>\n",
       "      <td>246.78</td>\n",
       "      <td>168.9</td>\n",
       "      <td>202107</td>\n",
       "      <td>12</td>\n",
       "      <td>258000</td>\n",
       "    </tr>\n",
       "    <tr>\n",
       "      <th>2</th>\n",
       "      <td>서울특별시 강남구 개포동</td>\n",
       "      <td>단독</td>\n",
       "      <td>248.10</td>\n",
       "      <td>169.0</td>\n",
       "      <td>202107</td>\n",
       "      <td>12</td>\n",
       "      <td>258160</td>\n",
       "    </tr>\n",
       "    <tr>\n",
       "      <th>3</th>\n",
       "      <td>서울특별시 강남구 개포동</td>\n",
       "      <td>단독</td>\n",
       "      <td>248.85</td>\n",
       "      <td>172.6</td>\n",
       "      <td>202107</td>\n",
       "      <td>26</td>\n",
       "      <td>203000</td>\n",
       "    </tr>\n",
       "    <tr>\n",
       "      <th>4</th>\n",
       "      <td>서울특별시 강남구 개포동</td>\n",
       "      <td>단독</td>\n",
       "      <td>248.00</td>\n",
       "      <td>189.0</td>\n",
       "      <td>202106</td>\n",
       "      <td>9</td>\n",
       "      <td>303000</td>\n",
       "    </tr>\n",
       "    <tr>\n",
       "      <th>...</th>\n",
       "      <td>...</td>\n",
       "      <td>...</td>\n",
       "      <td>...</td>\n",
       "      <td>...</td>\n",
       "      <td>...</td>\n",
       "      <td>...</td>\n",
       "      <td>...</td>\n",
       "    </tr>\n",
       "    <tr>\n",
       "      <th>278</th>\n",
       "      <td>서울특별시 강남구 청담동</td>\n",
       "      <td>단독</td>\n",
       "      <td>1281.30</td>\n",
       "      <td>326.8</td>\n",
       "      <td>202103</td>\n",
       "      <td>31</td>\n",
       "      <td>1400000</td>\n",
       "    </tr>\n",
       "    <tr>\n",
       "      <th>279</th>\n",
       "      <td>서울특별시 강남구 청담동</td>\n",
       "      <td>단독</td>\n",
       "      <td>970.82</td>\n",
       "      <td>358.9</td>\n",
       "      <td>202101</td>\n",
       "      <td>26</td>\n",
       "      <td>1340000</td>\n",
       "    </tr>\n",
       "    <tr>\n",
       "      <th>280</th>\n",
       "      <td>서울특별시 강남구 청담동</td>\n",
       "      <td>단독</td>\n",
       "      <td>882.21</td>\n",
       "      <td>385.2</td>\n",
       "      <td>202107</td>\n",
       "      <td>7</td>\n",
       "      <td>1800000</td>\n",
       "    </tr>\n",
       "    <tr>\n",
       "      <th>281</th>\n",
       "      <td>서울특별시 강남구 청담동</td>\n",
       "      <td>단독</td>\n",
       "      <td>329.53</td>\n",
       "      <td>520.0</td>\n",
       "      <td>202103</td>\n",
       "      <td>26</td>\n",
       "      <td>1630000</td>\n",
       "    </tr>\n",
       "    <tr>\n",
       "      <th>282</th>\n",
       "      <td>서울특별시 강남구 청담동</td>\n",
       "      <td>단독</td>\n",
       "      <td>2053.55</td>\n",
       "      <td>642.4</td>\n",
       "      <td>202012</td>\n",
       "      <td>11</td>\n",
       "      <td>1820000</td>\n",
       "    </tr>\n",
       "  </tbody>\n",
       "</table>\n",
       "<p>258 rows × 7 columns</p>\n",
       "</div>"
      ],
      "text/plain": [
       "               시군구 주택유형   연면적(㎡)  대지면적(㎡)    계약년월  계약일  거래금액(만원)\n",
       "0    서울특별시 강남구 개포동  다가구   477.74    219.6  202011   21    385000\n",
       "1    서울특별시 강남구 개포동   단독   246.78    168.9  202107   12    258000\n",
       "2    서울특별시 강남구 개포동   단독   248.10    169.0  202107   12    258160\n",
       "3    서울특별시 강남구 개포동   단독   248.85    172.6  202107   26    203000\n",
       "4    서울특별시 강남구 개포동   단독   248.00    189.0  202106    9    303000\n",
       "..             ...  ...      ...      ...     ...  ...       ...\n",
       "278  서울특별시 강남구 청담동   단독  1281.30    326.8  202103   31   1400000\n",
       "279  서울특별시 강남구 청담동   단독   970.82    358.9  202101   26   1340000\n",
       "280  서울특별시 강남구 청담동   단독   882.21    385.2  202107    7   1800000\n",
       "281  서울특별시 강남구 청담동   단독   329.53    520.0  202103   26   1630000\n",
       "282  서울특별시 강남구 청담동   단독  2053.55    642.4  202012   11   1820000\n",
       "\n",
       "[258 rows x 7 columns]"
      ]
     },
     "execution_count": 153,
     "metadata": {},
     "output_type": "execute_result"
    }
   ],
   "source": [
    "dandok_dagagu_maemae_202008[dandok_dagagu_maemae_202008['시군구'].map(lambda x : x.find('강남구')!=-1)]\n",
    "dandok_dagagu_maemae_202008[dandok_dagagu_maemae_202008['시군구'].map(lambda x : x.find('강남구')!=-1)]"
   ]
  },
  {
   "cell_type": "code",
   "execution_count": 135,
   "id": "40e02b79",
   "metadata": {
    "ExecuteTime": {
     "end_time": "2021-08-24T09:18:51.003438Z",
     "start_time": "2021-08-24T09:18:50.991471Z"
    }
   },
   "outputs": [
    {
     "data": {
      "text/plain": [
       "-1"
      ]
     },
     "execution_count": 135,
     "metadata": {},
     "output_type": "execute_result"
    }
   ],
   "source": [
    "'서울시 강남구'.find('중랑구')"
   ]
  },
  {
   "cell_type": "code",
   "execution_count": 144,
   "id": "5978a4bb",
   "metadata": {
    "ExecuteTime": {
     "end_time": "2021-08-24T09:31:12.524582Z",
     "start_time": "2021-08-24T09:31:12.511595Z"
    }
   },
   "outputs": [
    {
     "ename": "AttributeError",
     "evalue": "'str' object has no attribute 'search'",
     "output_type": "error",
     "traceback": [
      "\u001b[1;31m---------------------------------------------------------------------------\u001b[0m",
      "\u001b[1;31mAttributeError\u001b[0m                            Traceback (most recent call last)",
      "\u001b[1;32m<ipython-input-144-cbca87274719>\u001b[0m in \u001b[0;36m<module>\u001b[1;34m\u001b[0m\n\u001b[1;32m----> 1\u001b[1;33m \u001b[1;34m'서울시 강남구'\u001b[0m\u001b[1;33m.\u001b[0m\u001b[0msearch\u001b[0m\u001b[1;33m(\u001b[0m\u001b[1;34m'중랑구'\u001b[0m\u001b[1;33m)\u001b[0m\u001b[1;33m\u001b[0m\u001b[1;33m\u001b[0m\u001b[0m\n\u001b[0m",
      "\u001b[1;31mAttributeError\u001b[0m: 'str' object has no attribute 'search'"
     ]
    }
   ],
   "source": [
    "'서울시 강남구'.search('중랑구')"
   ]
  },
  {
   "cell_type": "code",
   "execution_count": 146,
   "id": "34b8bd8b",
   "metadata": {
    "ExecuteTime": {
     "end_time": "2021-08-24T09:32:09.212049Z",
     "start_time": "2021-08-24T09:32:09.205066Z"
    }
   },
   "outputs": [
    {
     "data": {
      "text/plain": [
       "False"
      ]
     },
     "execution_count": 146,
     "metadata": {},
     "output_type": "execute_result"
    }
   ],
   "source": [
    "'중랑구' in '서울시 강남구'"
   ]
  },
  {
   "cell_type": "code",
   "execution_count": null,
   "id": "d239594d",
   "metadata": {},
   "outputs": [],
   "source": []
  }
 ],
 "metadata": {
  "kernelspec": {
   "display_name": "Python 3",
   "language": "python",
   "name": "python3"
  },
  "language_info": {
   "codemirror_mode": {
    "name": "ipython",
    "version": 3
   },
   "file_extension": ".py",
   "mimetype": "text/x-python",
   "name": "python",
   "nbconvert_exporter": "python",
   "pygments_lexer": "ipython3",
   "version": "3.8.8"
  },
  "toc": {
   "base_numbering": 1,
   "nav_menu": {},
   "number_sections": false,
   "sideBar": true,
   "skip_h1_title": false,
   "title_cell": "Table of Contents",
   "title_sidebar": "Contents",
   "toc_cell": false,
   "toc_position": {},
   "toc_section_display": true,
   "toc_window_display": true
  },
  "varInspector": {
   "cols": {
    "lenName": 16,
    "lenType": 16,
    "lenVar": 40
   },
   "kernels_config": {
    "python": {
     "delete_cmd_postfix": "",
     "delete_cmd_prefix": "del ",
     "library": "var_list.py",
     "varRefreshCmd": "print(var_dic_list())"
    },
    "r": {
     "delete_cmd_postfix": ") ",
     "delete_cmd_prefix": "rm(",
     "library": "var_list.r",
     "varRefreshCmd": "cat(var_dic_list()) "
    }
   },
   "types_to_exclude": [
    "module",
    "function",
    "builtin_function_or_method",
    "instance",
    "_Feature"
   ],
   "window_display": false
  }
 },
 "nbformat": 4,
 "nbformat_minor": 5
}
