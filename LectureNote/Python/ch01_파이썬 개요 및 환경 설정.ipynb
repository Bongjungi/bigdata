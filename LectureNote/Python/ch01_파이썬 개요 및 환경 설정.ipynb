{
 "cells": [
  {
   "cell_type": "markdown",
   "id": "696d4d74",
   "metadata": {},
   "source": [
    "<b>ch01. 파이썬 개요 및 환경설정<b>"
   ]
  },
  {
   "cell_type": "markdown",
   "id": "9547399a",
   "metadata": {},
   "source": [
    "# 1. 주피터 노트북 사용법(# 하나 = 큰 제목)\n",
    "* shift+Enter : 포커스된 셀이 실행되고 커서가 다음 셀로 이동\n",
    "* Enter키를 누르면 다시 편집 상태로 돌아옴\n",
    "* alt+Enter : 포커스된 셀이 실행되고 다음 셀이 생성된 후 해당 셀로 이동\n",
    "* ctrl+Enter : 실행"
   ]
  },
  {
   "cell_type": "code",
   "execution_count": null,
   "id": "297aba93",
   "metadata": {
    "ExecuteTime": {
     "end_time": "2021-07-19T02:45:32.958012Z",
     "start_time": "2021-07-19T02:45:32.954022Z"
    }
   },
   "outputs": [],
   "source": [
    "print(\"Hello, World\")"
   ]
  },
  {
   "cell_type": "markdown",
   "id": "2ab8b235",
   "metadata": {},
   "source": [
    "# ESC 키를 누르고(핫키)\n",
    "* dd 셀 삭제\n",
    "* a : 윗셀 추가\n",
    "* b : 아랫셀 추가\n",
    "* m : 마크다운 셀로 변경\n",
    "* y : 코드 셀(소스셀)로 변경\n",
    "* h : 핫키 안내"
   ]
  },
  {
   "cell_type": "code",
   "execution_count": null,
   "id": "9a1fba93",
   "metadata": {
    "ExecuteTime": {
     "end_time": "2021-07-19T02:52:37.479431Z",
     "start_time": "2021-07-19T02:52:37.469459Z"
    }
   },
   "outputs": [],
   "source": [
    "a=1\n",
    "b=\"2\"\n",
    "a+int(b)\n",
    "#View > Toggle Line Numbers 선택\n"
   ]
  },
  {
   "cell_type": "code",
   "execution_count": null,
   "id": "ca3e721f",
   "metadata": {
    "ExecuteTime": {
     "end_time": "2021-07-19T02:56:42.613637Z",
     "start_time": "2021-07-19T02:56:12.050352Z"
    },
    "code_folding": []
   },
   "outputs": [],
   "source": [
    "for i in range(1000000000000000):\n",
    "    print(i)\n",
    "# stop 기능\n",
    "# kernel > 다양한 restart 기능"
   ]
  },
  {
   "cell_type": "code",
   "execution_count": 4,
   "id": "0d4e67de",
   "metadata": {
    "ExecuteTime": {
     "end_time": "2021-07-19T02:58:02.742277Z",
     "start_time": "2021-07-19T02:58:02.724324Z"
    }
   },
   "outputs": [],
   "source": [
    "print=10\n",
    "#실수로 할당된 print 변수 삭제 del print\n",
    "# kernel 재시작"
   ]
  },
  {
   "cell_type": "markdown",
   "id": "838bc564",
   "metadata": {
    "ExecuteTime": {
     "end_time": "2021-07-19T03:00:47.524713Z",
     "start_time": "2021-07-19T03:00:47.514755Z"
    }
   },
   "source": [
    "# 3. 마크다운이란\n",
    "* 코드와 함께 `문서화`를 할 수 있습니다.\n",
    "* 다양한 문서화 문법이 있습니다.\n",
    "여러 줄의 설명을 줄바꿈으로 할 수 없습니다.\n",
    "```\n",
    "여러 줄의 설명을 줄바꿈으로\n",
    "할 수 있습니다.\n",
    "```"
   ]
  },
  {
   "cell_type": "code",
   "execution_count": null,
   "id": "8304712a",
   "metadata": {},
   "outputs": [],
   "source": []
  },
  {
   "cell_type": "code",
   "execution_count": null,
   "id": "c5e44102",
   "metadata": {},
   "outputs": [],
   "source": []
  }
 ],
 "metadata": {
  "kernelspec": {
   "display_name": "Python 3",
   "language": "python",
   "name": "python3"
  },
  "language_info": {
   "codemirror_mode": {
    "name": "ipython",
    "version": 3
   },
   "file_extension": ".py",
   "mimetype": "text/x-python",
   "name": "python",
   "nbconvert_exporter": "python",
   "pygments_lexer": "ipython3",
   "version": "3.8.8"
  },
  "toc": {
   "base_numbering": 1,
   "nav_menu": {},
   "number_sections": false,
   "sideBar": true,
   "skip_h1_title": false,
   "title_cell": "Table of Contents",
   "title_sidebar": "Contents",
   "toc_cell": false,
   "toc_position": {},
   "toc_section_display": true,
   "toc_window_display": true
  },
  "varInspector": {
   "cols": {
    "lenName": 16,
    "lenType": 16,
    "lenVar": 40
   },
   "kernels_config": {
    "python": {
     "delete_cmd_postfix": "",
     "delete_cmd_prefix": "del ",
     "library": "var_list.py",
     "varRefreshCmd": "print(var_dic_list())"
    },
    "r": {
     "delete_cmd_postfix": ") ",
     "delete_cmd_prefix": "rm(",
     "library": "var_list.r",
     "varRefreshCmd": "cat(var_dic_list()) "
    }
   },
   "types_to_exclude": [
    "module",
    "function",
    "builtin_function_or_method",
    "instance",
    "_Feature"
   ],
   "window_display": false
  }
 },
 "nbformat": 4,
 "nbformat_minor": 5
}
