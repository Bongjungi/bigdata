{
 "cells": [
  {
   "cell_type": "markdown",
   "id": "efe49b44",
   "metadata": {},
   "source": [
    "# <b>ch02. 자료형과 연산자 </b>"
   ]
  },
  {
   "cell_type": "markdown",
   "id": "617cb888",
   "metadata": {},
   "source": [
    "## 1절. 변수"
   ]
  },
  {
   "cell_type": "markdown",
   "id": "286963e3",
   "metadata": {},
   "source": [
    "## 1.1 변수 선언\n",
    "* 값을 저장할 수 있는 변수를 만드는 것.\n",
    "* 파이썬은 변수 선언을 위한 타입이 없고 별도의 선언 과정이 없음"
   ]
  },
  {
   "cell_type": "markdown",
   "id": "25aaaeb6",
   "metadata": {
    "ExecuteTime": {
     "end_time": "2021-07-19T04:07:53.128561Z",
     "start_time": "2021-07-19T04:07:53.112624Z"
    }
   },
   "source": [
    "## 1.2 변수 할당\n",
    "* 어떤 값이 이름을 갖도록 하는 과정\n",
    "* 할당연산자(=)을 이용"
   ]
  },
  {
   "cell_type": "code",
   "execution_count": null,
   "id": "bbf34a38",
   "metadata": {
    "ExecuteTime": {
     "end_time": "2021-07-19T04:09:35.275630Z",
     "start_time": "2021-07-19T04:09:35.262686Z"
    }
   },
   "outputs": [],
   "source": [
    "r=5\n",
    "area=3.14*r*r\n",
    "print('계산된 넓이는 ',area)"
   ]
  },
  {
   "cell_type": "code",
   "execution_count": null,
   "id": "62399b0c",
   "metadata": {
    "ExecuteTime": {
     "end_time": "2021-07-19T04:12:15.404105Z",
     "start_time": "2021-07-19T04:12:15.390131Z"
    }
   },
   "outputs": [],
   "source": [
    "import numpy as np #numpy라는 패키지를 mp라는 이름 사용\n",
    "r=5\n",
    "area = np.pi*r*r\n",
    "print(area)"
   ]
  },
  {
   "cell_type": "code",
   "execution_count": null,
   "id": "9279b58c",
   "metadata": {
    "ExecuteTime": {
     "end_time": "2021-07-19T04:13:26.754404Z",
     "start_time": "2021-07-19T04:13:26.748442Z"
    }
   },
   "outputs": [],
   "source": [
    "a=10"
   ]
  },
  {
   "cell_type": "code",
   "execution_count": null,
   "id": "e9d46785",
   "metadata": {
    "ExecuteTime": {
     "end_time": "2021-07-19T04:13:29.109270Z",
     "start_time": "2021-07-19T04:13:29.098298Z"
    }
   },
   "outputs": [],
   "source": [
    "print(id(a)) # a변수의 주소\n",
    "print(type(a)) # a 변수의 타입"
   ]
  },
  {
   "cell_type": "code",
   "execution_count": null,
   "id": "a83056c7",
   "metadata": {
    "ExecuteTime": {
     "end_time": "2021-07-19T04:14:16.215503Z",
     "start_time": "2021-07-19T04:14:16.196530Z"
    }
   },
   "outputs": [],
   "source": [
    "a='파이썬'\n",
    "print(id(a))\n",
    "print(type(a))"
   ]
  },
  {
   "cell_type": "markdown",
   "id": "c15b9bb9",
   "metadata": {},
   "source": [
    "## 1.3 변수 이름 규칙\n",
    "- 문자로 시작.\n",
    "- 문자, 숫자, _로 변수명 작성\n",
    "- 파이썬에서 제공되는 기본 함수명은 피한다.\n",
    "- 파이썬 예약어는 변수명 불가"
   ]
  },
  {
   "cell_type": "code",
   "execution_count": null,
   "id": "ada0b193",
   "metadata": {
    "ExecuteTime": {
     "end_time": "2021-07-19T04:17:04.955471Z",
     "start_time": "2021-07-19T04:17:04.934527Z"
    }
   },
   "outputs": [],
   "source": [
    "print_=5\n",
    "print_"
   ]
  },
  {
   "cell_type": "code",
   "execution_count": null,
   "id": "03242e74",
   "metadata": {
    "ExecuteTime": {
     "end_time": "2021-07-19T04:16:35.411541Z",
     "start_time": "2021-07-19T04:16:35.390595Z"
    }
   },
   "outputs": [],
   "source": [
    "불용어=\"북한\"\n",
    "불용어"
   ]
  },
  {
   "cell_type": "code",
   "execution_count": null,
   "id": "78473ad8",
   "metadata": {
    "ExecuteTime": {
     "end_time": "2021-07-19T04:17:57.287480Z",
     "start_time": "2021-07-19T04:17:57.268510Z"
    },
    "scrolled": true
   },
   "outputs": [],
   "source": [
    "if= 5"
   ]
  },
  {
   "cell_type": "code",
   "execution_count": null,
   "id": "4bca48f0",
   "metadata": {
    "ExecuteTime": {
     "end_time": "2021-07-19T04:18:20.116821Z",
     "start_time": "2021-07-19T04:18:20.108821Z"
    }
   },
   "outputs": [],
   "source": [
    "print=5"
   ]
  },
  {
   "cell_type": "code",
   "execution_count": null,
   "id": "4bfb34d1",
   "metadata": {
    "ExecuteTime": {
     "end_time": "2021-07-19T04:18:36.252983Z",
     "start_time": "2021-07-19T04:18:36.242012Z"
    }
   },
   "outputs": [],
   "source": [
    "del print"
   ]
  },
  {
   "cell_type": "code",
   "execution_count": null,
   "id": "b43b6987",
   "metadata": {
    "ExecuteTime": {
     "end_time": "2021-07-19T04:18:50.816625Z",
     "start_time": "2021-07-19T04:18:50.811660Z"
    }
   },
   "outputs": [],
   "source": [
    "print(\"HELLO WORLD\")"
   ]
  },
  {
   "cell_type": "code",
   "execution_count": null,
   "id": "7c7edc71",
   "metadata": {
    "ExecuteTime": {
     "end_time": "2021-07-19T04:21:15.166562Z",
     "start_time": "2021-07-19T04:21:15.155592Z"
    }
   },
   "outputs": [],
   "source": [
    "i=3+5j\n",
    "type(i)"
   ]
  },
  {
   "cell_type": "code",
   "execution_count": null,
   "id": "f78291de",
   "metadata": {
    "ExecuteTime": {
     "end_time": "2021-07-19T04:21:55.152987Z",
     "start_time": "2021-07-19T04:21:55.143018Z"
    }
   },
   "outputs": [],
   "source": [
    "#자동완성 (Tab키)\n",
    "isinstance(i, complex) # 변수가 complex 타입인지 여부 반환"
   ]
  },
  {
   "cell_type": "code",
   "execution_count": null,
   "id": "dec57afd",
   "metadata": {
    "ExecuteTime": {
     "end_time": "2021-07-19T05:39:54.343951Z",
     "start_time": "2021-07-19T05:39:54.335972Z"
    }
   },
   "outputs": [],
   "source": [
    "a,b=10,20\n",
    "a,b"
   ]
  },
  {
   "cell_type": "code",
   "execution_count": null,
   "id": "d8282a93",
   "metadata": {
    "ExecuteTime": {
     "end_time": "2021-07-19T05:39:56.090781Z",
     "start_time": "2021-07-19T05:39:56.083794Z"
    }
   },
   "outputs": [],
   "source": [
    "a,b=b,a+b #다중 변수 할당시 순차적 할당이 아니고 일괄할당\n",
    "a,b"
   ]
  },
  {
   "cell_type": "markdown",
   "id": "ba1f6107",
   "metadata": {},
   "source": [
    "## 1.4 도움말"
   ]
  },
  {
   "cell_type": "code",
   "execution_count": null,
   "id": "23dc5f8f",
   "metadata": {
    "ExecuteTime": {
     "end_time": "2021-07-19T05:40:34.487691Z",
     "start_time": "2021-07-19T05:40:34.474713Z"
    }
   },
   "outputs": [],
   "source": [
    "help(print)"
   ]
  },
  {
   "cell_type": "code",
   "execution_count": null,
   "id": "9ad88a46",
   "metadata": {},
   "outputs": [],
   "source": [
    "help()"
   ]
  },
  {
   "cell_type": "code",
   "execution_count": null,
   "id": "315364f6",
   "metadata": {},
   "outputs": [],
   "source": [
    "#도움말 기능 : shift+ tab\n",
    "print()"
   ]
  },
  {
   "cell_type": "code",
   "execution_count": 1,
   "id": "363f18ff",
   "metadata": {
    "ExecuteTime": {
     "end_time": "2021-07-19T05:45:40.063176Z",
     "start_time": "2021-07-19T05:45:40.048216Z"
    }
   },
   "outputs": [],
   "source": [
    "def add(x=0,y=0):\n",
    "    return 10*x+y"
   ]
  },
  {
   "cell_type": "code",
   "execution_count": 2,
   "id": "c8b9bc0e",
   "metadata": {
    "ExecuteTime": {
     "end_time": "2021-07-19T05:46:05.245529Z",
     "start_time": "2021-07-19T05:46:05.224559Z"
    }
   },
   "outputs": [
    {
     "data": {
      "text/plain": [
       "50"
      ]
     },
     "execution_count": 2,
     "metadata": {},
     "output_type": "execute_result"
    }
   ],
   "source": [
    "add(5)"
   ]
  },
  {
   "cell_type": "markdown",
   "id": "aa926685",
   "metadata": {},
   "source": [
    "## 1.5 변수 삭제"
   ]
  },
  {
   "cell_type": "code",
   "execution_count": 5,
   "id": "dd869730",
   "metadata": {
    "ExecuteTime": {
     "end_time": "2021-07-19T05:48:42.701406Z",
     "start_time": "2021-07-19T05:48:42.683426Z"
    }
   },
   "outputs": [],
   "source": [
    "a=10\n",
    "b=20\n",
    "c=a+b"
   ]
  },
  {
   "cell_type": "code",
   "execution_count": 6,
   "id": "465a9a10",
   "metadata": {
    "ExecuteTime": {
     "end_time": "2021-07-19T05:48:51.313254Z",
     "start_time": "2021-07-19T05:48:51.306273Z"
    }
   },
   "outputs": [],
   "source": [
    "del b"
   ]
  },
  {
   "cell_type": "code",
   "execution_count": 7,
   "id": "ca2ce46b",
   "metadata": {
    "ExecuteTime": {
     "end_time": "2021-07-19T05:48:57.345999Z",
     "start_time": "2021-07-19T05:48:57.338023Z"
    }
   },
   "outputs": [],
   "source": [
    "del(c)"
   ]
  },
  {
   "cell_type": "code",
   "execution_count": 8,
   "id": "aff80611",
   "metadata": {
    "ExecuteTime": {
     "end_time": "2021-07-19T05:49:26.543083Z",
     "start_time": "2021-07-19T05:49:26.529132Z"
    }
   },
   "outputs": [
    {
     "name": "stdout",
     "output_type": "stream",
     "text": [
      "Variable          Type                          Data/Info\n",
      "---------------------------------------------------------\n",
      "NamespaceMagics   MetaHasTraits                 <class 'IPython.core.magi<...>mespace.NamespaceMagics'>\n",
      "a                 int                           10\n",
      "autopep8          module                        <module 'autopep8' from '<...>e-packages\\\\autopep8.py'>\n",
      "get_ipython       function                      <function get_ipython at 0x000002001AF83550>\n",
      "getsizeof         builtin_function_or_method    <built-in function getsizeof>\n",
      "json              module                        <module 'json' from 'C:\\\\<...>\\lib\\\\json\\\\__init__.py'>\n",
      "np                module                        <module 'numpy' from 'C:\\<...>ges\\\\numpy\\\\__init__.py'>\n",
      "var_dic_list      function                      <function var_dic_list at 0x000002001F14BCA0>\n",
      "yapf_reformat     function                      <function yapf_reformat at 0x000002001EC43940>\n"
     ]
    }
   ],
   "source": [
    "whos"
   ]
  },
  {
   "cell_type": "markdown",
   "id": "56ca8e9e",
   "metadata": {},
   "source": [
    "# 2절. 화면i/o"
   ]
  },
  {
   "cell_type": "code",
   "execution_count": 10,
   "id": "0af98fa4",
   "metadata": {
    "ExecuteTime": {
     "end_time": "2021-07-19T05:50:59.396054Z",
     "start_time": "2021-07-19T05:50:55.094860Z"
    }
   },
   "outputs": [
    {
     "name": "stdout",
     "output_type": "stream",
     "text": [
      "첫번째 숫자는? 10\n",
      "두번째 숫자는? 20\n"
     ]
    }
   ],
   "source": [
    "first=input(\"첫번째 숫자는? \")\n",
    "second=input(\"두번째 숫자는? \")"
   ]
  },
  {
   "cell_type": "code",
   "execution_count": 12,
   "id": "3bc2b204",
   "metadata": {
    "ExecuteTime": {
     "end_time": "2021-07-19T05:51:53.206008Z",
     "start_time": "2021-07-19T05:51:53.186062Z"
    }
   },
   "outputs": [
    {
     "data": {
      "text/plain": [
       "30"
      ]
     },
     "execution_count": 12,
     "metadata": {},
     "output_type": "execute_result"
    }
   ],
   "source": [
    "int(first)+int(second)"
   ]
  },
  {
   "cell_type": "code",
   "execution_count": 13,
   "id": "ff870316",
   "metadata": {
    "ExecuteTime": {
     "end_time": "2021-07-19T05:52:58.164648Z",
     "start_time": "2021-07-19T05:52:55.243687Z"
    }
   },
   "outputs": [
    {
     "name": "stdout",
     "output_type": "stream",
     "text": [
      "첫번째 숫자는? 10\n",
      "두번째 숫자는? 20\n"
     ]
    }
   ],
   "source": [
    "first=int(input(\"첫번째 숫자는? \"))\n",
    "second=int(input(\"두번째 숫자는? \"))"
   ]
  },
  {
   "cell_type": "code",
   "execution_count": 15,
   "id": "42730b97",
   "metadata": {
    "ExecuteTime": {
     "end_time": "2021-07-19T05:54:05.859734Z",
     "start_time": "2021-07-19T05:54:05.841788Z"
    }
   },
   "outputs": [
    {
     "name": "stdout",
     "output_type": "stream",
     "text": [
      "두수의 합은 30\n"
     ]
    }
   ],
   "source": [
    "print(\"두수의 합은\",first+second)"
   ]
  },
  {
   "cell_type": "code",
   "execution_count": 17,
   "id": "a3f48e47",
   "metadata": {
    "ExecuteTime": {
     "end_time": "2021-07-19T05:56:11.209816Z",
     "start_time": "2021-07-19T05:56:11.199821Z"
    }
   },
   "outputs": [
    {
     "name": "stdout",
     "output_type": "stream",
     "text": [
      "Hello ~ World\tHello/Hadoop\n"
     ]
    }
   ],
   "source": [
    "print(\"Hello\",\"World\",sep=\" ~ \",end=\"\\t\")\n",
    "print(\"Hello\", \"Hadoop\", sep=\"/\",end=\"\\n\")"
   ]
  },
  {
   "cell_type": "markdown",
   "id": "b08a2097",
   "metadata": {},
   "source": [
    "# 3절 기본 자료형\n",
    "- 숫자(정수, 실수, 복소수), 문자, 논리형(T,F)"
   ]
  },
  {
   "cell_type": "markdown",
   "id": "61320a8c",
   "metadata": {},
   "source": [
    "# 3.1 숫자형"
   ]
  },
  {
   "cell_type": "code",
   "execution_count": 18,
   "id": "5b7490f6",
   "metadata": {
    "ExecuteTime": {
     "end_time": "2021-07-19T06:01:53.261338Z",
     "start_time": "2021-07-19T06:01:53.246387Z"
    }
   },
   "outputs": [
    {
     "name": "stdout",
     "output_type": "stream",
     "text": [
      "9223372036854775807\n"
     ]
    }
   ],
   "source": [
    "import sys\n",
    "print(sys.maxsize) #정수의 최대수 2^63-1"
   ]
  },
  {
   "cell_type": "code",
   "execution_count": 19,
   "id": "2f23c10c",
   "metadata": {
    "ExecuteTime": {
     "end_time": "2021-07-19T06:02:35.824777Z",
     "start_time": "2021-07-19T06:02:35.805826Z"
    }
   },
   "outputs": [
    {
     "name": "stdout",
     "output_type": "stream",
     "text": [
      "<class 'int'>\n",
      "9223372036854776807\n"
     ]
    }
   ],
   "source": [
    "i=9223372036854775807+1000\n",
    "print(type(i))\n",
    "print(i)"
   ]
  },
  {
   "cell_type": "code",
   "execution_count": 20,
   "id": "9a28350f",
   "metadata": {
    "ExecuteTime": {
     "end_time": "2021-07-19T06:03:13.655381Z",
     "start_time": "2021-07-19T06:03:13.639425Z"
    }
   },
   "outputs": [
    {
     "data": {
      "text/plain": [
       "float"
      ]
     },
     "execution_count": 20,
     "metadata": {},
     "output_type": "execute_result"
    }
   ],
   "source": [
    "f=3.0\n",
    "type(f)"
   ]
  },
  {
   "cell_type": "code",
   "execution_count": 22,
   "id": "30e6217c",
   "metadata": {
    "ExecuteTime": {
     "end_time": "2021-07-19T06:04:13.457057Z",
     "start_time": "2021-07-19T06:04:13.443100Z"
    }
   },
   "outputs": [
    {
     "name": "stdout",
     "output_type": "stream",
     "text": [
      "1.5\n"
     ]
    }
   ],
   "source": [
    "f=3/2 #정수/정수는 무조건 실수\n",
    "print(f)"
   ]
  },
  {
   "cell_type": "code",
   "execution_count": 23,
   "id": "e907f365",
   "metadata": {
    "ExecuteTime": {
     "end_time": "2021-07-19T06:04:23.803471Z",
     "start_time": "2021-07-19T06:04:23.790507Z"
    }
   },
   "outputs": [
    {
     "name": "stdout",
     "output_type": "stream",
     "text": [
      "1.0\n"
     ]
    }
   ],
   "source": [
    "f=2/2\n",
    "print(f)"
   ]
  },
  {
   "cell_type": "code",
   "execution_count": 24,
   "id": "bc83938f",
   "metadata": {
    "ExecuteTime": {
     "end_time": "2021-07-19T06:05:31.791716Z",
     "start_time": "2021-07-19T06:05:31.772776Z"
    }
   },
   "outputs": [
    {
     "name": "stdout",
     "output_type": "stream",
     "text": [
      "1\n",
      "1\n"
     ]
    }
   ],
   "source": [
    "# 자바처럼 하고 싶으면 (정수/정수를 정수로)\n",
    "f=int(3/2)\n",
    "print(f)\n",
    "f=3//2\n",
    "print(f)"
   ]
  },
  {
   "cell_type": "code",
   "execution_count": 25,
   "id": "9783560d",
   "metadata": {
    "ExecuteTime": {
     "end_time": "2021-07-19T06:06:24.371692Z",
     "start_time": "2021-07-19T06:06:24.354758Z"
    }
   },
   "outputs": [
    {
     "name": "stdout",
     "output_type": "stream",
     "text": [
      "(-1+0j)\n"
     ]
    }
   ],
   "source": [
    "b=1j\n",
    "print(b**2) #b의 제곱"
   ]
  },
  {
   "cell_type": "code",
   "execution_count": 29,
   "id": "f92895b9",
   "metadata": {
    "ExecuteTime": {
     "end_time": "2021-07-19T06:08:02.600518Z",
     "start_time": "2021-07-19T06:08:02.586547Z"
    }
   },
   "outputs": [
    {
     "name": "stdout",
     "output_type": "stream",
     "text": [
      "1.12e-12\n"
     ]
    },
    {
     "data": {
      "text/plain": [
       "11200000000.0"
      ]
     },
     "execution_count": 29,
     "metadata": {},
     "output_type": "execute_result"
    }
   ],
   "source": [
    "f=1.12e-12 #1.12*10^-12\n",
    "print(f)\n",
    "f=1.12e10\n",
    "f"
   ]
  },
  {
   "cell_type": "markdown",
   "id": "577fdef3",
   "metadata": {},
   "source": [
    "## 3.2 문자형"
   ]
  },
  {
   "cell_type": "code",
   "execution_count": 31,
   "id": "093b0964",
   "metadata": {
    "ExecuteTime": {
     "end_time": "2021-07-19T06:10:06.527332Z",
     "start_time": "2021-07-19T06:10:06.508404Z"
    }
   },
   "outputs": [
    {
     "name": "stdout",
     "output_type": "stream",
     "text": [
      "홍'길'동 서울시 \"마포구 노고산동\n"
     ]
    }
   ],
   "source": [
    "name=\"홍'길'동\"\n",
    "address=\"서울시 \\\"마포구 노고산동\"\n",
    "print(name,address)"
   ]
  },
  {
   "cell_type": "code",
   "execution_count": 36,
   "id": "6c0c9af6",
   "metadata": {
    "ExecuteTime": {
     "end_time": "2021-07-19T06:12:57.952896Z",
     "start_time": "2021-07-19T06:12:57.935955Z"
    }
   },
   "outputs": [
    {
     "name": "stdout",
     "output_type": "stream",
     "text": [
      "이렇게 작성하면 \n",
      "줄 바꿈도 그대로 적용해서 여러 줄의 문자를\n",
      "입력할 수 있습니다.\n"
     ]
    }
   ],
   "source": [
    "text='''이렇게 작성하면 \n",
    "줄 바꿈도 그대로 적용해서 여러 줄의 문자를\n",
    "입력할 수 있습니다.'''\n",
    "print(text)"
   ]
  },
  {
   "cell_type": "code",
   "execution_count": 35,
   "id": "3555fa34",
   "metadata": {
    "ExecuteTime": {
     "end_time": "2021-07-19T06:12:29.963460Z",
     "start_time": "2021-07-19T06:12:29.946503Z"
    }
   },
   "outputs": [
    {
     "data": {
      "text/plain": [
       "'여러 줄 주석\\n2021.7.19 마지막 오프라인 수업일'"
      ]
     },
     "execution_count": 35,
     "metadata": {},
     "output_type": "execute_result"
    }
   ],
   "source": [
    "'''여러 줄 주석\n",
    "2021.7.19 마지막 오프라인 수업일'''"
   ]
  },
  {
   "cell_type": "code",
   "execution_count": 37,
   "id": "dc35f371",
   "metadata": {
    "ExecuteTime": {
     "end_time": "2021-07-19T06:13:43.314561Z",
     "start_time": "2021-07-19T06:13:43.299601Z"
    }
   },
   "outputs": [
    {
     "name": "stdout",
     "output_type": "stream",
     "text": [
      "Hello\n",
      "World\n"
     ]
    }
   ],
   "source": [
    "# raw 데이터 처리\n",
    "print(\"Hello\\nWorld\")"
   ]
  },
  {
   "cell_type": "code",
   "execution_count": 38,
   "id": "13411308",
   "metadata": {
    "ExecuteTime": {
     "end_time": "2021-07-19T06:14:03.882166Z",
     "start_time": "2021-07-19T06:14:03.864182Z"
    }
   },
   "outputs": [
    {
     "name": "stdout",
     "output_type": "stream",
     "text": [
      "Hello\\nWorld\n"
     ]
    }
   ],
   "source": [
    "print(r\"Hello\\nWorld\")"
   ]
  },
  {
   "cell_type": "code",
   "execution_count": 39,
   "id": "8b32c05f",
   "metadata": {
    "ExecuteTime": {
     "end_time": "2021-07-19T06:17:37.950493Z",
     "start_time": "2021-07-19T06:17:37.942523Z"
    }
   },
   "outputs": [
    {
     "name": "stdout",
     "output_type": "stream",
     "text": [
      "이름:홍길동, 주소:서울시 마포구, 전화:02-716-1006, 특징:동해번쩍 서해번쩍, 혈액형:B\n"
     ]
    }
   ],
   "source": [
    "#raw 데이터를 이용할 때 ex. 정규표현식 이용\n",
    "import re\n",
    "data = \"이름:홍길동, 주소:서울시 마포구, 전화:02-716-1006, 특징:동해번쩍 서해번쩍, \\\n",
    "혈액형:B\"\n",
    "print(data)"
   ]
  },
  {
   "cell_type": "code",
   "execution_count": 41,
   "id": "f30278ad",
   "metadata": {
    "ExecuteTime": {
     "end_time": "2021-07-19T06:23:12.325782Z",
     "start_time": "2021-07-19T06:23:12.318803Z"
    }
   },
   "outputs": [
    {
     "name": "stdout",
     "output_type": "stream",
     "text": [
      "['02-716-1006']\n"
     ]
    }
   ],
   "source": [
    "phone_pattern = r'[\\d]{2,3}-[\\d]{3,4}-[\\d]{4}'\n",
    "#phone_pattern = '[\\\\d]{2,3}-[\\\\d]{3,4}-[\\\\d]{4}'\n",
    "phone=re.findall(phone_pattern, data)\n",
    "print(phone)"
   ]
  },
  {
   "cell_type": "code",
   "execution_count": 42,
   "id": "d6988164",
   "metadata": {
    "ExecuteTime": {
     "end_time": "2021-07-19T06:23:33.394580Z",
     "start_time": "2021-07-19T06:23:33.388574Z"
    }
   },
   "outputs": [],
   "source": [
    "file=r'D:\\Bigdata\\src\\Python'"
   ]
  },
  {
   "cell_type": "code",
   "execution_count": 46,
   "id": "a568e3b2",
   "metadata": {
    "ExecuteTime": {
     "end_time": "2021-07-19T07:15:35.626107Z",
     "start_time": "2021-07-19T07:15:35.619101Z"
    }
   },
   "outputs": [
    {
     "data": {
      "text/plain": [
       "<re.Match object; span=(23, 34), match='02-716-1006'>"
      ]
     },
     "execution_count": 46,
     "metadata": {},
     "output_type": "execute_result"
    }
   ],
   "source": [
    "phone =re.search(phone_pattern, data)\n",
    "phone"
   ]
  },
  {
   "cell_type": "code",
   "execution_count": 45,
   "id": "e6f724b1",
   "metadata": {
    "ExecuteTime": {
     "end_time": "2021-07-19T07:14:22.925196Z",
     "start_time": "2021-07-19T07:14:22.917255Z"
    }
   },
   "outputs": [
    {
     "data": {
      "text/plain": [
       "'02-716-1006'"
      ]
     },
     "execution_count": 45,
     "metadata": {},
     "output_type": "execute_result"
    }
   ],
   "source": [
    "data[23:34]"
   ]
  },
  {
   "cell_type": "code",
   "execution_count": null,
   "id": "074feec6",
   "metadata": {},
   "outputs": [],
   "source": [
    "#문자열 슬라이싱"
   ]
  },
  {
   "cell_type": "code",
   "execution_count": 47,
   "id": "2bff4f27",
   "metadata": {
    "ExecuteTime": {
     "end_time": "2021-07-19T07:16:41.863344Z",
     "start_time": "2021-07-19T07:16:41.844397Z"
    }
   },
   "outputs": [
    {
     "data": {
      "text/plain": [
       "'0123456789'"
      ]
     },
     "execution_count": 47,
     "metadata": {},
     "output_type": "execute_result"
    }
   ],
   "source": [
    "str_=\"0123456789\"\n",
    "str_"
   ]
  },
  {
   "cell_type": "code",
   "execution_count": 48,
   "id": "ba8e5ac5",
   "metadata": {
    "ExecuteTime": {
     "end_time": "2021-07-19T07:16:52.108161Z",
     "start_time": "2021-07-19T07:16:52.091206Z"
    }
   },
   "outputs": [
    {
     "data": {
      "text/plain": [
       "'012'"
      ]
     },
     "execution_count": 48,
     "metadata": {},
     "output_type": "execute_result"
    }
   ],
   "source": [
    "str_[0:3]"
   ]
  },
  {
   "cell_type": "code",
   "execution_count": 49,
   "id": "b59b9311",
   "metadata": {
    "ExecuteTime": {
     "end_time": "2021-07-19T07:19:07.368938Z",
     "start_time": "2021-07-19T07:19:07.355981Z"
    }
   },
   "outputs": [
    {
     "data": {
      "text/plain": [
       "'8'"
      ]
     },
     "execution_count": 49,
     "metadata": {},
     "output_type": "execute_result"
    }
   ],
   "source": [
    "str_[-2] #음수인덱스는 뒤에서부터"
   ]
  },
  {
   "cell_type": "code",
   "execution_count": 51,
   "id": "c2cfa813",
   "metadata": {
    "ExecuteTime": {
     "end_time": "2021-07-19T07:20:08.938352Z",
     "start_time": "2021-07-19T07:20:08.931356Z"
    }
   },
   "outputs": [
    {
     "data": {
      "text/plain": [
       "'5678'"
      ]
     },
     "execution_count": 51,
     "metadata": {},
     "output_type": "execute_result"
    }
   ],
   "source": [
    "str_[-5:-1] #뒤에서 -1번째 앞까지"
   ]
  },
  {
   "cell_type": "code",
   "execution_count": 52,
   "id": "9fd0285e",
   "metadata": {
    "ExecuteTime": {
     "end_time": "2021-07-19T07:20:20.135148Z",
     "start_time": "2021-07-19T07:20:20.126173Z"
    }
   },
   "outputs": [
    {
     "data": {
      "text/plain": [
       "'56789'"
      ]
     },
     "execution_count": 52,
     "metadata": {},
     "output_type": "execute_result"
    }
   ],
   "source": [
    "str_[5:]"
   ]
  },
  {
   "cell_type": "code",
   "execution_count": 53,
   "id": "bb273db3",
   "metadata": {
    "ExecuteTime": {
     "end_time": "2021-07-19T07:21:19.525692Z",
     "start_time": "2021-07-19T07:21:19.513716Z"
    }
   },
   "outputs": [
    {
     "data": {
      "text/plain": [
       "'01234'"
      ]
     },
     "execution_count": 53,
     "metadata": {},
     "output_type": "execute_result"
    }
   ],
   "source": [
    "str_[:-5] # 처음부터 뒤에서부터 5번째 앞까지"
   ]
  },
  {
   "cell_type": "code",
   "execution_count": 54,
   "id": "6928663a",
   "metadata": {
    "ExecuteTime": {
     "end_time": "2021-07-19T07:21:31.320310Z",
     "start_time": "2021-07-19T07:21:31.311356Z"
    }
   },
   "outputs": [
    {
     "data": {
      "text/plain": [
       "'0123456789'"
      ]
     },
     "execution_count": 54,
     "metadata": {},
     "output_type": "execute_result"
    }
   ],
   "source": [
    "str_[:]"
   ]
  },
  {
   "cell_type": "code",
   "execution_count": 57,
   "id": "69e87c59",
   "metadata": {
    "ExecuteTime": {
     "end_time": "2021-07-19T07:23:00.383787Z",
     "start_time": "2021-07-19T07:23:00.371819Z"
    }
   },
   "outputs": [
    {
     "data": {
      "text/plain": [
       "'56789'"
      ]
     },
     "execution_count": 57,
     "metadata": {},
     "output_type": "execute_result"
    }
   ],
   "source": [
    "#str_[19] #없는 인덱스 에러\n",
    "str_[5:19]"
   ]
  },
  {
   "cell_type": "code",
   "execution_count": 58,
   "id": "e6709faf",
   "metadata": {
    "ExecuteTime": {
     "end_time": "2021-07-19T07:44:58.509321Z",
     "start_time": "2021-07-19T07:44:58.503336Z"
    }
   },
   "outputs": [
    {
     "name": "stdout",
     "output_type": "stream",
     "text": [
      "02468\n",
      "02468\n"
     ]
    }
   ],
   "source": [
    "#str_[from:to:by]\n",
    "print(str_[0:9:2]) # 0번째부터 2씩 증가해서 9번째 앞까지 0,2,4,6,8번째 인덱스\n",
    "print(str_[::2]) #처음부터 끝까지 2씩 인덱스 증가해서 0 2 4 6 8번째 인덱스"
   ]
  },
  {
   "cell_type": "code",
   "execution_count": 66,
   "id": "b5f279a4",
   "metadata": {
    "ExecuteTime": {
     "end_time": "2021-07-19T07:49:02.448410Z",
     "start_time": "2021-07-19T07:49:02.435416Z"
    }
   },
   "outputs": [
    {
     "name": "stdout",
     "output_type": "stream",
     "text": [
      "987654321\n",
      "9876543210\n",
      "987654321\n",
      "9876543210\n"
     ]
    }
   ],
   "source": [
    "#끝부터 처음까지(거꾸로)\n",
    "print(str_[9:0:-1])\n",
    "print(str_[9::-1])\n",
    "print(str_[:0:-1])\n",
    "print(str_[::-1])"
   ]
  },
  {
   "cell_type": "markdown",
   "id": "b4b224e9",
   "metadata": {},
   "source": [
    "## 3.3 논리형(True, False) "
   ]
  },
  {
   "cell_type": "code",
   "execution_count": 67,
   "id": "827f9d0a",
   "metadata": {
    "ExecuteTime": {
     "end_time": "2021-07-19T07:50:07.300938Z",
     "start_time": "2021-07-19T07:50:07.295957Z"
    }
   },
   "outputs": [
    {
     "name": "stdout",
     "output_type": "stream",
     "text": [
      "True\n",
      "<class 'bool'>\n",
      "True\n"
     ]
    }
   ],
   "source": [
    "a=True\n",
    "print(a)\n",
    "print(type(a))\n",
    "print(isinstance(a,bool))"
   ]
  },
  {
   "cell_type": "code",
   "execution_count": null,
   "id": "92d00f8b",
   "metadata": {},
   "outputs": [],
   "source": [
    "# False로 간주되는 것 : 0, None, \"\"(빈스트링), [], (), {}\n",
    "# True로 간주되는 것 : ' ', '\\0' (널문자)"
   ]
  },
  {
   "cell_type": "code",
   "execution_count": 68,
   "id": "621b37bf",
   "metadata": {
    "ExecuteTime": {
     "end_time": "2021-07-19T07:53:51.029593Z",
     "start_time": "2021-07-19T07:53:51.016649Z"
    }
   },
   "outputs": [
    {
     "name": "stdout",
     "output_type": "stream",
     "text": [
      "빈스트링은 False다\n"
     ]
    }
   ],
   "source": [
    "if \"\":\n",
    "    print('빈스트링은 True다')\n",
    "else : \n",
    "    print('빈스트링은 False다')"
   ]
  },
  {
   "cell_type": "markdown",
   "id": "c17b52f4",
   "metadata": {},
   "source": [
    "## 3.4 자료형 확인 및 변환"
   ]
  },
  {
   "cell_type": "markdown",
   "id": "8c25d60a",
   "metadata": {},
   "source": [
    "- type() : 자료형 확인\n",
    "- int() : 정수형 변환\n",
    "- float() : 실수형 변환\n",
    "- str() : 문자형 변환\n",
    "- bool() : 논리형 변환"
   ]
  },
  {
   "cell_type": "code",
   "execution_count": 69,
   "id": "e527f095",
   "metadata": {
    "ExecuteTime": {
     "end_time": "2021-07-19T07:58:20.384961Z",
     "start_time": "2021-07-19T07:58:20.376970Z"
    }
   },
   "outputs": [
    {
     "data": {
      "text/plain": [
       "12345"
      ]
     },
     "execution_count": 69,
     "metadata": {},
     "output_type": "execute_result"
    }
   ],
   "source": [
    "int(\"12345\")"
   ]
  },
  {
   "cell_type": "code",
   "execution_count": 70,
   "id": "40c2d4b8",
   "metadata": {
    "ExecuteTime": {
     "end_time": "2021-07-19T07:58:28.182329Z",
     "start_time": "2021-07-19T07:58:28.164377Z"
    }
   },
   "outputs": [
    {
     "data": {
      "text/plain": [
       "123"
      ]
     },
     "execution_count": 70,
     "metadata": {},
     "output_type": "execute_result"
    }
   ],
   "source": [
    "int(123.45)"
   ]
  },
  {
   "cell_type": "code",
   "execution_count": 71,
   "id": "f472cf08",
   "metadata": {
    "ExecuteTime": {
     "end_time": "2021-07-19T07:58:37.608190Z",
     "start_time": "2021-07-19T07:58:37.589247Z"
    }
   },
   "outputs": [
    {
     "ename": "ValueError",
     "evalue": "invalid literal for int() with base 10: ''",
     "output_type": "error",
     "traceback": [
      "\u001b[1;31m---------------------------------------------------------------------------\u001b[0m",
      "\u001b[1;31mValueError\u001b[0m                                Traceback (most recent call last)",
      "\u001b[1;32m<ipython-input-71-e4f84bb32d50>\u001b[0m in \u001b[0;36m<module>\u001b[1;34m\u001b[0m\n\u001b[1;32m----> 1\u001b[1;33m \u001b[0mint\u001b[0m\u001b[1;33m(\u001b[0m\u001b[1;34m''\u001b[0m\u001b[1;33m)\u001b[0m\u001b[1;33m\u001b[0m\u001b[1;33m\u001b[0m\u001b[0m\n\u001b[0m",
      "\u001b[1;31mValueError\u001b[0m: invalid literal for int() with base 10: ''"
     ]
    }
   ],
   "source": [
    "int('')"
   ]
  },
  {
   "cell_type": "raw",
   "id": "37fe4976",
   "metadata": {
    "ExecuteTime": {
     "end_time": "2021-07-19T08:00:30.345324Z",
     "start_time": "2021-07-19T08:00:30.328349Z"
    }
   },
   "source": [
    "int('123.45')"
   ]
  },
  {
   "cell_type": "code",
   "execution_count": 73,
   "id": "9540dcef",
   "metadata": {
    "ExecuteTime": {
     "end_time": "2021-07-19T08:01:17.342230Z",
     "start_time": "2021-07-19T08:01:17.327242Z"
    }
   },
   "outputs": [
    {
     "data": {
      "text/plain": [
       "1"
      ]
     },
     "execution_count": 73,
     "metadata": {},
     "output_type": "execute_result"
    }
   ],
   "source": [
    "int(True)"
   ]
  },
  {
   "cell_type": "code",
   "execution_count": 75,
   "id": "6fa32af3",
   "metadata": {
    "ExecuteTime": {
     "end_time": "2021-07-19T08:02:19.397189Z",
     "start_time": "2021-07-19T08:02:19.380235Z"
    }
   },
   "outputs": [
    {
     "data": {
      "text/plain": [
       "'12300.0'"
      ]
     },
     "execution_count": 75,
     "metadata": {},
     "output_type": "execute_result"
    }
   ],
   "source": [
    "str(1.23e4)"
   ]
  },
  {
   "cell_type": "markdown",
   "id": "48b577fa",
   "metadata": {},
   "source": [
    "파이썬 기본 자료형\n",
    "<ol>\n",
    "    <li>숫자 - int, float,complex</li>\n",
    "    <li>문자 - str</li>\n",
    "    <li>논리 - bool</li>\n",
    "</ol>\n",
    "* 파이썬은 변수 할당시 타입이 정해짐<br>\n",
    "* 이스케이프 문자(\\n, \\t, \\r)<br>\n",
    "* row 문자열<br>\n",
    "    r'[\\d]{2,3}'<br>\n",
    "* 논리형의 경우 False 판별 경우"
   ]
  },
  {
   "cell_type": "code",
   "execution_count": null,
   "id": "2f8d5a48",
   "metadata": {},
   "outputs": [],
   "source": []
  },
  {
   "cell_type": "code",
   "execution_count": null,
   "id": "1a255a4a",
   "metadata": {},
   "outputs": [],
   "source": []
  },
  {
   "cell_type": "code",
   "execution_count": null,
   "id": "d577cabb",
   "metadata": {},
   "outputs": [],
   "source": []
  },
  {
   "cell_type": "code",
   "execution_count": null,
   "id": "83fc1ffa",
   "metadata": {},
   "outputs": [],
   "source": []
  },
  {
   "cell_type": "code",
   "execution_count": null,
   "id": "a049a6e0",
   "metadata": {},
   "outputs": [],
   "source": []
  },
  {
   "cell_type": "code",
   "execution_count": null,
   "id": "dfa627d4",
   "metadata": {},
   "outputs": [],
   "source": []
  },
  {
   "cell_type": "code",
   "execution_count": null,
   "id": "0b26607f",
   "metadata": {},
   "outputs": [],
   "source": []
  },
  {
   "cell_type": "code",
   "execution_count": null,
   "id": "362bf5f0",
   "metadata": {},
   "outputs": [],
   "source": []
  }
 ],
 "metadata": {
  "kernelspec": {
   "display_name": "Python 3",
   "language": "python",
   "name": "python3"
  },
  "language_info": {
   "codemirror_mode": {
    "name": "ipython",
    "version": 3
   },
   "file_extension": ".py",
   "mimetype": "text/x-python",
   "name": "python",
   "nbconvert_exporter": "python",
   "pygments_lexer": "ipython3",
   "version": "3.8.8"
  },
  "toc": {
   "base_numbering": 1,
   "nav_menu": {},
   "number_sections": false,
   "sideBar": true,
   "skip_h1_title": false,
   "title_cell": "Table of Contents",
   "title_sidebar": "Contents",
   "toc_cell": false,
   "toc_position": {},
   "toc_section_display": true,
   "toc_window_display": true
  },
  "varInspector": {
   "cols": {
    "lenName": 16,
    "lenType": 16,
    "lenVar": 40
   },
   "kernels_config": {
    "python": {
     "delete_cmd_postfix": "",
     "delete_cmd_prefix": "del ",
     "library": "var_list.py",
     "varRefreshCmd": "print(var_dic_list())"
    },
    "r": {
     "delete_cmd_postfix": ") ",
     "delete_cmd_prefix": "rm(",
     "library": "var_list.r",
     "varRefreshCmd": "cat(var_dic_list()) "
    }
   },
   "types_to_exclude": [
    "module",
    "function",
    "builtin_function_or_method",
    "instance",
    "_Feature"
   ],
   "window_display": false
  }
 },
 "nbformat": 4,
 "nbformat_minor": 5
}
