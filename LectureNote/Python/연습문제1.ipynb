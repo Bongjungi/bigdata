{
 "cells": [
  {
   "cell_type": "markdown",
   "id": "fb7d034d",
   "metadata": {},
   "source": [
    "### 1번"
   ]
  },
  {
   "cell_type": "code",
   "execution_count": 64,
   "id": "278ff800",
   "metadata": {
    "ExecuteTime": {
     "end_time": "2021-07-20T05:04:10.600127Z",
     "start_time": "2021-07-20T05:04:10.593145Z"
    }
   },
   "outputs": [
    {
     "name": "stdout",
     "output_type": "stream",
     "text": [
      "홍길동님의 나이는 23살입니다.\n"
     ]
    }
   ],
   "source": [
    "name=\"홍길동\"\n",
    "age=23\n",
    "print(\"{}님의 나이는 {}살입니다.\".format(name,age))"
   ]
  },
  {
   "cell_type": "markdown",
   "id": "a72845c1",
   "metadata": {},
   "source": [
    "### 2번"
   ]
  },
  {
   "cell_type": "code",
   "execution_count": 65,
   "id": "1ebc6c9c",
   "metadata": {
    "ExecuteTime": {
     "end_time": "2021-07-20T05:04:14.531721Z",
     "start_time": "2021-07-20T05:04:11.751143Z"
    }
   },
   "outputs": [
    {
     "name": "stdout",
     "output_type": "stream",
     "text": [
      "정수1 : 5\n",
      "정수2 : 3\n",
      "8\n",
      "2\n",
      "15\n",
      "1.6666666666666667\n",
      "1\n",
      "2\n"
     ]
    }
   ],
   "source": [
    "a=int(input(\"정수1 : \"))\n",
    "b=int(input(\"정수2 : \"))\n",
    "print(a+b)\n",
    "print(a-b)\n",
    "print(a*b)\n",
    "print(a/b)\n",
    "print(a//b)\n",
    "print(a%b)"
   ]
  },
  {
   "cell_type": "markdown",
   "id": "249d9485",
   "metadata": {},
   "source": [
    "### 3번"
   ]
  },
  {
   "cell_type": "code",
   "execution_count": 66,
   "id": "3de89d41",
   "metadata": {
    "ExecuteTime": {
     "end_time": "2021-07-20T05:04:16.385513Z",
     "start_time": "2021-07-20T05:04:16.379530Z"
    }
   },
   "outputs": [
    {
     "data": {
      "text/plain": [
       "'World Hello'"
      ]
     },
     "execution_count": 66,
     "metadata": {},
     "output_type": "execute_result"
    }
   ],
   "source": [
    "a=\"Hello World\"\n",
    "a.split()[1]+\" \"+a.split()[0]"
   ]
  },
  {
   "cell_type": "markdown",
   "id": "b1ba0f51",
   "metadata": {},
   "source": [
    "### 4번"
   ]
  },
  {
   "cell_type": "code",
   "execution_count": 67,
   "id": "3b6f0f81",
   "metadata": {
    "ExecuteTime": {
     "end_time": "2021-07-20T05:04:17.598667Z",
     "start_time": "2021-07-20T05:04:17.586699Z"
    }
   },
   "outputs": [
    {
     "data": {
      "text/plain": [
       "'bcdefa'"
      ]
     },
     "execution_count": 67,
     "metadata": {},
     "output_type": "execute_result"
    }
   ],
   "source": [
    "x='abcdef'\n",
    "x[1:]+x[0]"
   ]
  },
  {
   "cell_type": "markdown",
   "id": "56058401",
   "metadata": {},
   "source": [
    "### 5번"
   ]
  },
  {
   "cell_type": "code",
   "execution_count": 68,
   "id": "5092a5cd",
   "metadata": {
    "ExecuteTime": {
     "end_time": "2021-07-20T05:04:21.131232Z",
     "start_time": "2021-07-20T05:04:21.117251Z"
    }
   },
   "outputs": [
    {
     "data": {
      "text/plain": [
       "'fedcba'"
      ]
     },
     "execution_count": 68,
     "metadata": {},
     "output_type": "execute_result"
    }
   ],
   "source": [
    "x='abcdef'\n",
    "x[-1::-1]"
   ]
  },
  {
   "cell_type": "markdown",
   "id": "17a98c0e",
   "metadata": {},
   "source": [
    "### 6번 "
   ]
  },
  {
   "cell_type": "code",
   "execution_count": 69,
   "id": "6f375b1d",
   "metadata": {
    "ExecuteTime": {
     "end_time": "2021-07-20T05:04:25.455728Z",
     "start_time": "2021-07-20T05:04:22.440711Z"
    }
   },
   "outputs": [
    {
     "name": "stdout",
     "output_type": "stream",
     "text": [
      "오늘의 온도(섭씨) : 32\n",
      "C: 32.00,F: 89.60\n"
     ]
    }
   ],
   "source": [
    "C=int(input(\"오늘의 온도(섭씨) : \"))\n",
    "F=(C*1.8)+32\n",
    "print(\"C: {0:.2f},F: {1:.2f}\".format(C,F))"
   ]
  },
  {
   "cell_type": "markdown",
   "id": "178b42ed",
   "metadata": {},
   "source": [
    "### 7번  답 : 1, 2, 3"
   ]
  },
  {
   "cell_type": "code",
   "execution_count": 70,
   "id": "b9768be0",
   "metadata": {
    "ExecuteTime": {
     "end_time": "2021-07-20T05:04:27.999643Z",
     "start_time": "2021-07-20T05:04:27.994665Z"
    }
   },
   "outputs": [],
   "source": [
    "#for=1 invalid syntax 에러\n",
    "#10th=1 invalid syntax 에러\n",
    "#Student.name=1  name 'Student' is not defined 에러\n",
    "_1234=1"
   ]
  },
  {
   "cell_type": "markdown",
   "id": "69373d23",
   "metadata": {},
   "source": [
    "### 8번 답 : SeounSeoul"
   ]
  },
  {
   "cell_type": "code",
   "execution_count": 71,
   "id": "5f8fb1d9",
   "metadata": {
    "ExecuteTime": {
     "end_time": "2021-07-20T05:04:28.734136Z",
     "start_time": "2021-07-20T05:04:28.721185Z"
    }
   },
   "outputs": [
    {
     "name": "stdout",
     "output_type": "stream",
     "text": [
      "SeounSeoul\n"
     ]
    }
   ],
   "source": [
    "text=\"Seoul A001 - programming with python\"\n",
    "print(text[:4]+text[-1]+text.split()[0])"
   ]
  },
  {
   "cell_type": "markdown",
   "id": "655865a4",
   "metadata": {},
   "source": [
    "### 9번 답 : 2"
   ]
  },
  {
   "cell_type": "code",
   "execution_count": 72,
   "id": "879835b0",
   "metadata": {
    "ExecuteTime": {
     "end_time": "2021-07-20T05:04:29.758277Z",
     "start_time": "2021-07-20T05:04:29.748283Z"
    }
   },
   "outputs": [
    {
     "name": "stdout",
     "output_type": "stream",
     "text": [
      "4\n",
      "4.0\n",
      "64\n"
     ]
    }
   ],
   "source": [
    "print(8//2)\n",
    "print(8/2)\n",
    "print(8**2)"
   ]
  }
 ],
 "metadata": {
  "kernelspec": {
   "display_name": "Python 3",
   "language": "python",
   "name": "python3"
  },
  "language_info": {
   "codemirror_mode": {
    "name": "ipython",
    "version": 3
   },
   "file_extension": ".py",
   "mimetype": "text/x-python",
   "name": "python",
   "nbconvert_exporter": "python",
   "pygments_lexer": "ipython3",
   "version": "3.8.8"
  },
  "toc": {
   "base_numbering": 1,
   "nav_menu": {},
   "number_sections": false,
   "sideBar": true,
   "skip_h1_title": false,
   "title_cell": "Table of Contents",
   "title_sidebar": "Contents",
   "toc_cell": false,
   "toc_position": {},
   "toc_section_display": true,
   "toc_window_display": true
  },
  "varInspector": {
   "cols": {
    "lenName": 16,
    "lenType": 16,
    "lenVar": 40
   },
   "kernels_config": {
    "python": {
     "delete_cmd_postfix": "",
     "delete_cmd_prefix": "del ",
     "library": "var_list.py",
     "varRefreshCmd": "print(var_dic_list())"
    },
    "r": {
     "delete_cmd_postfix": ") ",
     "delete_cmd_prefix": "rm(",
     "library": "var_list.r",
     "varRefreshCmd": "cat(var_dic_list()) "
    }
   },
   "types_to_exclude": [
    "module",
    "function",
    "builtin_function_or_method",
    "instance",
    "_Feature"
   ],
   "window_display": false
  }
 },
 "nbformat": 4,
 "nbformat_minor": 5
}
