{
 "cells": [
  {
   "cell_type": "markdown",
   "id": "31f63274",
   "metadata": {},
   "source": [
    "# ch02. 자료형과 연산자"
   ]
  },
  {
   "cell_type": "markdown",
   "id": "be24262e",
   "metadata": {},
   "source": [
    "## 6절 문자열 다루기"
   ]
  },
  {
   "cell_type": "markdown",
   "id": "ed0b5caf",
   "metadata": {},
   "source": [
    "- 문자열 슬라이싱 문자변수[from:to:by]\n",
    "- len(문자열)\n",
    "- upper() 대문자로\n",
    "- lower() 소문자로\n",
    "- title() 각 단어의 앞 글자만 대문자로\n",
    "- capitalize() 첫 문자만 대문자로, 그 외는 소문자로\n",
    "- count('찾을 문자열') '찾을 문자열'이 몇개 들어 있는지 갯수 반환\n",
    "- find('찾을 문자열') '찾을 문자열'이 왼쪽부터 시작하여 몇번째 index에 있는지 반환\n",
    "- rfind('찾을 문자열') '찾을 문자열'이 오른쪽부터 시작하여 몇번째 index에 있는지 반환('찾을 문자열'이 없으면 -1을 반환)\n",
    "- startswith('특정 문자열') '특정 문자열'로 시작하는지 여부 반환\n",
    "- endswith('특정 문자열') '특정 문자열'로 끝나는지 여부 반환\n",
    "- strip() 좌우 공백 제거(trim)\n",
    "- lstrip(), rstrip()\n",
    "- split() 문자열을 공백이나 다른 문자 기준으로 나누어 리스트로 반환\n",
    "- isdigit() 문자열이 숫자 문자열인지 반환\n",
    "- islower() 문자열이 소문자인지 여부 반환\n",
    "- isupper() 문자열이 대문자인지 여부 반환\n",
    "- replace(oldStr, newStr) 모든 oldStr을 newStr로 변경"
   ]
  },
  {
   "cell_type": "code",
   "execution_count": null,
   "id": "a913ef84",
   "metadata": {
    "ExecuteTime": {
     "end_time": "2021-07-20T03:01:32.190567Z",
     "start_time": "2021-07-20T03:01:32.175628Z"
    }
   },
   "outputs": [],
   "source": [
    "temp='Python is easy. Python is smart. python'\n",
    "#      123456789012345678901234567890123456789\n",
    "temp, len(temp)"
   ]
  },
  {
   "cell_type": "code",
   "execution_count": null,
   "id": "22a65992",
   "metadata": {
    "ExecuteTime": {
     "end_time": "2021-07-20T02:57:47.176037Z",
     "start_time": "2021-07-20T02:57:47.160078Z"
    }
   },
   "outputs": [],
   "source": [
    "print('첫 글자 {} , 마지막 글자 {} '.format(temp[0],temp[-1]))"
   ]
  },
  {
   "cell_type": "code",
   "execution_count": null,
   "id": "5802e613",
   "metadata": {
    "ExecuteTime": {
     "end_time": "2021-07-20T03:12:23.423341Z",
     "start_time": "2021-07-20T03:12:23.411372Z"
    }
   },
   "outputs": [],
   "source": [
    "print(temp.upper())\n",
    "print(temp.lower())\n",
    "print(temp.title())\n",
    "print(temp.capitalize())\n",
    "print(temp.count('python'))\n",
    "print(temp.lower().count('python'))\n",
    "print(temp.find('Python')) #Python이 처음 나오는 위치\n",
    "print(temp.rfind('Python'))#Python이 마지막으로 나오는 위치\n",
    "print(temp.startswith('Python')) #Python으로 시작하는 문자열인지 여부\n",
    "print(temp.endswith('Python')) #Python으로 끝나는 문자열인지 여부\n",
    "print(temp.replace('Python','R')) # 모든 Python을 R로 변경"
   ]
  },
  {
   "cell_type": "code",
   "execution_count": null,
   "id": "c642e2b3",
   "metadata": {
    "ExecuteTime": {
     "end_time": "2021-07-20T03:15:19.295891Z",
     "start_time": "2021-07-20T03:15:19.286916Z"
    }
   },
   "outputs": [],
   "source": [
    "temp=\"    Python is easy    \"\n",
    "print(temp.strip())\n",
    "print(\"[{}]\".format(temp.strip()))\n",
    "print(\"[{}]\".format(temp.lstrip()))\n",
    "print(\"[{}]\".format(temp.rstrip()))"
   ]
  },
  {
   "cell_type": "code",
   "execution_count": null,
   "id": "1a9d81d8",
   "metadata": {
    "ExecuteTime": {
     "end_time": "2021-07-20T03:17:48.259133Z",
     "start_time": "2021-07-20T03:17:48.241181Z"
    }
   },
   "outputs": [],
   "source": [
    "print(temp.split()) # space 단위로 분리\n",
    "print(\"2021-07-20\".split('-')) # - 단위로 분리"
   ]
  },
  {
   "cell_type": "code",
   "execution_count": null,
   "id": "9b34c2df",
   "metadata": {
    "ExecuteTime": {
     "end_time": "2021-07-20T03:39:33.032211Z",
     "start_time": "2021-07-20T03:39:33.028243Z"
    }
   },
   "outputs": [],
   "source": [
    "temp=\"Python - Java - R - C\"\n",
    "splited_temp = temp.split('-')\n",
    "print(splited_temp)\n",
    "join_temp='/'.join(splited_temp)\n",
    "print(join_temp)"
   ]
  },
  {
   "cell_type": "code",
   "execution_count": null,
   "id": "230c5b32",
   "metadata": {
    "ExecuteTime": {
     "end_time": "2021-07-20T03:42:12.013692Z",
     "start_time": "2021-07-20T03:42:12.008705Z"
    }
   },
   "outputs": [],
   "source": [
    "num='100'\n",
    "print(num.isdigit())\n",
    "temp='PYTHON'\n",
    "print(temp.isupper())"
   ]
  },
  {
   "cell_type": "code",
   "execution_count": null,
   "id": "c601e9f5",
   "metadata": {
    "ExecuteTime": {
     "end_time": "2021-07-20T03:44:02.828749Z",
     "start_time": "2021-07-20T03:44:02.818819Z"
    }
   },
   "outputs": [],
   "source": [
    "print('ABCD'.find('C'))\n",
    "print('ABCD'.index('C'))\n",
    "print('ABCD'.find('Z'))\n",
    "#print('ABCD'.index('Z'))"
   ]
  },
  {
   "cell_type": "code",
   "execution_count": null,
   "id": "9a08778d",
   "metadata": {
    "ExecuteTime": {
     "end_time": "2021-07-20T03:47:25.940319Z",
     "start_time": "2021-07-20T03:47:25.928351Z"
    }
   },
   "outputs": [],
   "source": [
    "str_='ABC'\n",
    "print(str_)\n",
    "for s in str_:\n",
    "    print(s)\n",
    "str_list=['A','B','C']\n",
    "print(str_list)\n",
    "for s in str_list:\n",
    "    print(s)"
   ]
  },
  {
   "cell_type": "code",
   "execution_count": null,
   "id": "38c1297b",
   "metadata": {
    "ExecuteTime": {
     "end_time": "2021-07-20T03:49:36.704829Z",
     "start_time": "2021-07-20T03:49:36.697847Z"
    }
   },
   "outputs": [],
   "source": [
    "#문자열을 다룰 수 있는 함수들의 목록\n",
    "dir(str)"
   ]
  },
  {
   "cell_type": "code",
   "execution_count": null,
   "id": "7bea5006",
   "metadata": {
    "ExecuteTime": {
     "end_time": "2021-07-20T03:49:43.327767Z",
     "start_time": "2021-07-20T03:49:43.311809Z"
    }
   },
   "outputs": [],
   "source": [
    "\"ASD\".__add__(\"asd\")"
   ]
  },
  {
   "cell_type": "markdown",
   "id": "8a41921a",
   "metadata": {},
   "source": [
    "# 7절. 날짜 다루기"
   ]
  },
  {
   "cell_type": "markdown",
   "id": "3b788794",
   "metadata": {},
   "source": [
    "## 7.1 날짜"
   ]
  },
  {
   "cell_type": "code",
   "execution_count": null,
   "id": "6e463a11",
   "metadata": {
    "ExecuteTime": {
     "end_time": "2021-07-20T03:52:09.220997Z",
     "start_time": "2021-07-20T03:52:09.210027Z"
    }
   },
   "outputs": [],
   "source": [
    "from datetime import date\n",
    "someday = date(2021,7,20)\n",
    "someday"
   ]
  },
  {
   "cell_type": "code",
   "execution_count": null,
   "id": "6d6fc098",
   "metadata": {
    "ExecuteTime": {
     "end_time": "2021-07-20T03:52:44.975130Z",
     "start_time": "2021-07-20T03:52:44.957199Z"
    }
   },
   "outputs": [],
   "source": [
    "print(\"{}\".format(someday))"
   ]
  },
  {
   "cell_type": "code",
   "execution_count": null,
   "id": "4741a74a",
   "metadata": {
    "ExecuteTime": {
     "end_time": "2021-07-20T03:54:38.230598Z",
     "start_time": "2021-07-20T03:54:38.221626Z"
    }
   },
   "outputs": [],
   "source": [
    "today= date.today() #오늘\n",
    "today"
   ]
  },
  {
   "cell_type": "markdown",
   "id": "519dd2a3",
   "metadata": {},
   "source": [
    "## 7.2 시간"
   ]
  },
  {
   "cell_type": "code",
   "execution_count": null,
   "id": "2b57540d",
   "metadata": {
    "ExecuteTime": {
     "end_time": "2021-07-20T04:00:10.382641Z",
     "start_time": "2021-07-20T04:00:10.376635Z"
    }
   },
   "outputs": [],
   "source": [
    "from datetime import time\n",
    "t= time(13)\n",
    "print(t)\n",
    "print(\"{:%Y년 %m월 %d일 %H:%m:%S}\".format(t))\n",
    "t2=time(13,20,5)\n",
    "print(t2)\n",
    "t3=time(18,20,1,100)\n",
    "print(t3)"
   ]
  },
  {
   "cell_type": "code",
   "execution_count": null,
   "id": "d8f29b04",
   "metadata": {},
   "outputs": [],
   "source": []
  },
  {
   "cell_type": "code",
   "execution_count": null,
   "id": "a41519ef",
   "metadata": {},
   "outputs": [],
   "source": []
  }
 ],
 "metadata": {
  "kernelspec": {
   "display_name": "Python 3",
   "language": "python",
   "name": "python3"
  },
  "language_info": {
   "codemirror_mode": {
    "name": "ipython",
    "version": 3
   },
   "file_extension": ".py",
   "mimetype": "text/x-python",
   "name": "python",
   "nbconvert_exporter": "python",
   "pygments_lexer": "ipython3",
   "version": "3.8.8"
  },
  "toc": {
   "base_numbering": 1,
   "nav_menu": {},
   "number_sections": false,
   "sideBar": true,
   "skip_h1_title": false,
   "title_cell": "Table of Contents",
   "title_sidebar": "Contents",
   "toc_cell": false,
   "toc_position": {},
   "toc_section_display": true,
   "toc_window_display": true
  },
  "varInspector": {
   "cols": {
    "lenName": 16,
    "lenType": 16,
    "lenVar": 40
   },
   "kernels_config": {
    "python": {
     "delete_cmd_postfix": "",
     "delete_cmd_prefix": "del ",
     "library": "var_list.py",
     "varRefreshCmd": "print(var_dic_list())"
    },
    "r": {
     "delete_cmd_postfix": ") ",
     "delete_cmd_prefix": "rm(",
     "library": "var_list.r",
     "varRefreshCmd": "cat(var_dic_list()) "
    }
   },
   "types_to_exclude": [
    "module",
    "function",
    "builtin_function_or_method",
    "instance",
    "_Feature"
   ],
   "window_display": false
  }
 },
 "nbformat": 4,
 "nbformat_minor": 5
}
