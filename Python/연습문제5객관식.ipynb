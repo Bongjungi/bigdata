{
 "cells": [
  {
   "cell_type": "markdown",
   "id": "fa8ca9e9",
   "metadata": {},
   "source": [
    "1. 1"
   ]
  },
  {
   "cell_type": "markdown",
   "id": "694fcd0e",
   "metadata": {
    "ExecuteTime": {
     "end_time": "2021-07-26T01:48:50.547815Z",
     "start_time": "2021-07-26T01:48:50.543819Z"
    }
   },
   "source": [
    "2. 2"
   ]
  },
  {
   "cell_type": "markdown",
   "id": "4b0eef8c",
   "metadata": {
    "ExecuteTime": {
     "end_time": "2021-07-26T01:49:57.298209Z",
     "start_time": "2021-07-26T01:49:57.281238Z"
    }
   },
   "source": [
    "3. 4"
   ]
  },
  {
   "cell_type": "markdown",
   "id": "141843d6",
   "metadata": {},
   "source": [
    "4. 1"
   ]
  },
  {
   "cell_type": "markdown",
   "id": "831888b0",
   "metadata": {},
   "source": [
    "5. 2"
   ]
  },
  {
   "cell_type": "markdown",
   "id": "2f816849",
   "metadata": {},
   "source": [
    "6. 3"
   ]
  },
  {
   "cell_type": "markdown",
   "id": "3de99f34",
   "metadata": {
    "ExecuteTime": {
     "end_time": "2021-07-26T01:52:05.580343Z",
     "start_time": "2021-07-26T01:52:05.564517Z"
    }
   },
   "source": [
    "7."
   ]
  },
  {
   "cell_type": "code",
   "execution_count": 10,
   "id": "c06161b0",
   "metadata": {
    "ExecuteTime": {
     "end_time": "2021-07-26T01:52:48.912243Z",
     "start_time": "2021-07-26T01:52:48.893312Z"
    }
   },
   "outputs": [],
   "source": [
    "class SomeClass:\n",
    "    def method_a(self):\n",
    "        print(\"method_a\")\n",
    "    @classmethod\n",
    "    def method_b(cls):\n",
    "        print(\"method_b\")"
   ]
  },
  {
   "cell_type": "code",
   "execution_count": 11,
   "id": "e07bad09",
   "metadata": {
    "ExecuteTime": {
     "end_time": "2021-07-26T01:53:01.806163Z",
     "start_time": "2021-07-26T01:53:01.788184Z"
    }
   },
   "outputs": [],
   "source": [
    "obj=SomeClass()"
   ]
  },
  {
   "cell_type": "code",
   "execution_count": 13,
   "id": "2a4f37ae",
   "metadata": {
    "ExecuteTime": {
     "end_time": "2021-07-26T01:53:42.393023Z",
     "start_time": "2021-07-26T01:53:42.377400Z"
    }
   },
   "outputs": [
    {
     "name": "stdout",
     "output_type": "stream",
     "text": [
      "method_a\n",
      "method_b\n",
      "method_b\n"
     ]
    }
   ],
   "source": [
    "obj.method_a()\n",
    "obj.method_b()\n",
    "#SomeClass.method_a()\n",
    "SomeClass.method_b()"
   ]
  },
  {
   "cell_type": "markdown",
   "id": "bfcbc190",
   "metadata": {},
   "source": [
    "8."
   ]
  },
  {
   "cell_type": "code",
   "execution_count": 14,
   "id": "e52db11d",
   "metadata": {
    "ExecuteTime": {
     "end_time": "2021-07-26T01:54:23.790071Z",
     "start_time": "2021-07-26T01:54:23.772089Z"
    }
   },
   "outputs": [],
   "source": [
    "class Super:\n",
    "    def do_(self, a):\n",
    "        print(\"super.do_\")"
   ]
  },
  {
   "cell_type": "code",
   "execution_count": 15,
   "id": "68da4a73",
   "metadata": {
    "ExecuteTime": {
     "end_time": "2021-07-26T01:56:53.287337Z",
     "start_time": "2021-07-26T01:56:53.280359Z"
    }
   },
   "outputs": [],
   "source": [
    "class Sub(Super):\n",
    "    def do_(self, a):\n",
    "        super().do_(a)\n",
    "        print(\"sub.do_\")"
   ]
  },
  {
   "cell_type": "code",
   "execution_count": 16,
   "id": "99a7298f",
   "metadata": {
    "ExecuteTime": {
     "end_time": "2021-07-26T01:57:11.938724Z",
     "start_time": "2021-07-26T01:57:11.931744Z"
    }
   },
   "outputs": [
    {
     "name": "stdout",
     "output_type": "stream",
     "text": [
      "super.do_\n",
      "sub.do_\n"
     ]
    }
   ],
   "source": [
    "s1=Sub()\n",
    "s1.do_(10)"
   ]
  },
  {
   "cell_type": "markdown",
   "id": "14da4001",
   "metadata": {},
   "source": [
    "9. 2"
   ]
  }
 ],
 "metadata": {
  "kernelspec": {
   "display_name": "Python 3",
   "language": "python",
   "name": "python3"
  },
  "language_info": {
   "codemirror_mode": {
    "name": "ipython",
    "version": 3
   },
   "file_extension": ".py",
   "mimetype": "text/x-python",
   "name": "python",
   "nbconvert_exporter": "python",
   "pygments_lexer": "ipython3",
   "version": "3.8.8"
  },
  "toc": {
   "base_numbering": 1,
   "nav_menu": {},
   "number_sections": true,
   "sideBar": true,
   "skip_h1_title": false,
   "title_cell": "Table of Contents",
   "title_sidebar": "Contents",
   "toc_cell": false,
   "toc_position": {},
   "toc_section_display": true,
   "toc_window_display": false
  },
  "varInspector": {
   "cols": {
    "lenName": 16,
    "lenType": 16,
    "lenVar": 40
   },
   "kernels_config": {
    "python": {
     "delete_cmd_postfix": "",
     "delete_cmd_prefix": "del ",
     "library": "var_list.py",
     "varRefreshCmd": "print(var_dic_list())"
    },
    "r": {
     "delete_cmd_postfix": ") ",
     "delete_cmd_prefix": "rm(",
     "library": "var_list.r",
     "varRefreshCmd": "cat(var_dic_list()) "
    }
   },
   "types_to_exclude": [
    "module",
    "function",
    "builtin_function_or_method",
    "instance",
    "_Feature"
   ],
   "window_display": false
  }
 },
 "nbformat": 4,
 "nbformat_minor": 5
}
