{
 "cells": [
  {
   "cell_type": "markdown",
   "id": "2db8a2a4",
   "metadata": {},
   "source": [
    "# 연습문제(서술형)"
   ]
  },
  {
   "cell_type": "markdown",
   "id": "0aa10d94",
   "metadata": {},
   "source": [
    "## 1."
   ]
  },
  {
   "cell_type": "code",
   "execution_count": 65,
   "id": "82bd2982",
   "metadata": {
    "ExecuteTime": {
     "end_time": "2021-07-22T08:02:04.555725Z",
     "start_time": "2021-07-22T08:02:04.535787Z"
    }
   },
   "outputs": [
    {
     "name": "stdout",
     "output_type": "stream",
     "text": [
      "9 0 2 "
     ]
    }
   ],
   "source": [
    "def mapping(addr):\n",
    "    table = [1,2,5,9,6,4,0,3,8,7]\n",
    "    return table [addr//SIZE]\n",
    "SIZE = 20\n",
    "group = [9,8,7,6,5,4,3,2,1,0]\n",
    "loc = [127, 64, 188]\n",
    "for a, b in enumerate(loc):\n",
    "    print(group[mapping(loc[a])], end= ' ')"
   ]
  },
  {
   "cell_type": "markdown",
   "id": "e947096c",
   "metadata": {},
   "source": [
    "## 2."
   ]
  },
  {
   "cell_type": "code",
   "execution_count": 66,
   "id": "e755a2a4",
   "metadata": {
    "ExecuteTime": {
     "end_time": "2021-07-22T08:02:05.349377Z",
     "start_time": "2021-07-22T08:02:05.332401Z"
    }
   },
   "outputs": [
    {
     "name": "stdout",
     "output_type": "stream",
     "text": [
      "612613"
     ]
    }
   ],
   "source": [
    "a=10\n",
    "def sub():\n",
    "    global a\n",
    "    a+=1\n",
    "    print(a, end='')\n",
    "def func():\n",
    "    for i in range(2):\n",
    "        a=5\n",
    "        a+=1\n",
    "        print(a, end='')\n",
    "        sub()\n",
    "a+=1\n",
    "func()\n",
    "\n"
   ]
  },
  {
   "cell_type": "markdown",
   "id": "e6a12696",
   "metadata": {},
   "source": [
    "## 3."
   ]
  },
  {
   "cell_type": "code",
   "execution_count": 67,
   "id": "84db3465",
   "metadata": {
    "ExecuteTime": {
     "end_time": "2021-07-22T08:02:05.818054Z",
     "start_time": "2021-07-22T08:02:05.804101Z"
    }
   },
   "outputs": [
    {
     "name": "stdout",
     "output_type": "stream",
     "text": [
      "100\n"
     ]
    }
   ],
   "source": [
    "var = 100\n",
    "def func(var):\n",
    "    var = 200\n",
    "func(var)\n",
    "print(var)"
   ]
  },
  {
   "cell_type": "markdown",
   "id": "ebf60eb7",
   "metadata": {},
   "source": [
    "## 4."
   ]
  },
  {
   "cell_type": "code",
   "execution_count": 68,
   "id": "08513057",
   "metadata": {
    "ExecuteTime": {
     "end_time": "2021-07-22T08:02:06.175217Z",
     "start_time": "2021-07-22T08:02:06.162281Z"
    }
   },
   "outputs": [
    {
     "data": {
      "text/plain": [
       "5"
      ]
     },
     "execution_count": 68,
     "metadata": {},
     "output_type": "execute_result"
    }
   ],
   "source": [
    "def my_func(func, *args):\n",
    "    return func(*args)\n",
    "import numpy as np\n",
    "my_func(np.add, 2, 3)"
   ]
  },
  {
   "cell_type": "markdown",
   "id": "69e8c5d0",
   "metadata": {},
   "source": [
    "## 5."
   ]
  },
  {
   "cell_type": "code",
   "execution_count": 69,
   "id": "fc55d12c",
   "metadata": {
    "ExecuteTime": {
     "end_time": "2021-07-22T08:02:06.520686Z",
     "start_time": "2021-07-22T08:02:06.501752Z"
    }
   },
   "outputs": [
    {
     "data": {
      "text/plain": [
       "9"
      ]
     },
     "execution_count": 69,
     "metadata": {},
     "output_type": "execute_result"
    }
   ],
   "source": [
    "def my_func(func, *args):\n",
    "    return func(*args)\n",
    "my_func(lambda a, b : a**b, 3, 2)"
   ]
  },
  {
   "cell_type": "markdown",
   "id": "d1f7cad7",
   "metadata": {},
   "source": [
    "## 6.  답 : 1번"
   ]
  },
  {
   "cell_type": "markdown",
   "id": "93377a8e",
   "metadata": {
    "ExecuteTime": {
     "end_time": "2021-07-22T07:03:12.151378Z",
     "start_time": "2021-07-22T07:03:12.136390Z"
    }
   },
   "source": [
    "## 7."
   ]
  },
  {
   "cell_type": "code",
   "execution_count": 70,
   "id": "30d490a1",
   "metadata": {
    "ExecuteTime": {
     "end_time": "2021-07-22T08:02:06.987347Z",
     "start_time": "2021-07-22T08:02:06.977395Z"
    }
   },
   "outputs": [
    {
     "name": "stdout",
     "output_type": "stream",
     "text": [
      "[10]\n",
      "[10, 20]\n",
      "[30]\n"
     ]
    }
   ],
   "source": [
    "list_=[]\n",
    "def func(a, L=None):\n",
    "    if L is None:\n",
    "        L=[]\n",
    "    L.append(a)\n",
    "    return L\n",
    "print(func(10,list_))\n",
    "print(func(20,L=list_))\n",
    "print(func(a=30))\n",
    "#func([],a=40)"
   ]
  },
  {
   "cell_type": "markdown",
   "id": "1389dd3b",
   "metadata": {},
   "source": [
    "## 8.  답 : lambda"
   ]
  },
  {
   "cell_type": "markdown",
   "id": "fe1e8aa9",
   "metadata": {},
   "source": [
    "## 9."
   ]
  },
  {
   "cell_type": "code",
   "execution_count": 71,
   "id": "52ac4c4b",
   "metadata": {
    "ExecuteTime": {
     "end_time": "2021-07-22T08:02:07.469809Z",
     "start_time": "2021-07-22T08:02:07.451856Z"
    }
   },
   "outputs": [
    {
     "data": {
      "text/plain": [
       "[(4, 'a'), (3, 'b'), (2, 'c'), (1, 'd')]"
      ]
     },
     "execution_count": 71,
     "metadata": {},
     "output_type": "execute_result"
    }
   ],
   "source": [
    "pairs = [(1,'d'),(2,'c'),(3,'b'),(4,'a')]\n",
    "pairs.sort(key= lambda pair : pair[1])\n",
    "pairs"
   ]
  },
  {
   "cell_type": "markdown",
   "id": "5f1305cd",
   "metadata": {},
   "source": [
    "# 연습문제(실습형)"
   ]
  },
  {
   "cell_type": "markdown",
   "id": "231107a7",
   "metadata": {},
   "source": [
    "## 1."
   ]
  },
  {
   "cell_type": "code",
   "execution_count": 89,
   "id": "26449837",
   "metadata": {
    "ExecuteTime": {
     "end_time": "2021-07-22T08:03:54.120962Z",
     "start_time": "2021-07-22T08:03:54.111986Z"
    }
   },
   "outputs": [],
   "source": [
    "def get_max_min(data_list):\n",
    "    a=max(data_list)\n",
    "    b=min(data_list)\n",
    "    print(\"최대값 : {}, 최소값 : {}\".format(a,b))"
   ]
  },
  {
   "cell_type": "code",
   "execution_count": 90,
   "id": "df5930ae",
   "metadata": {
    "ExecuteTime": {
     "end_time": "2021-07-22T08:04:04.043298Z",
     "start_time": "2021-07-22T08:04:04.024350Z"
    }
   },
   "outputs": [
    {
     "name": "stdout",
     "output_type": "stream",
     "text": [
      "최대값 : 5, 최소값 : 1\n"
     ]
    }
   ],
   "source": [
    "get_max_min([1,2,3,4,5])"
   ]
  },
  {
   "cell_type": "markdown",
   "id": "f297d2bc",
   "metadata": {
    "ExecuteTime": {
     "end_time": "2021-07-22T07:17:37.638557Z",
     "start_time": "2021-07-22T07:17:37.633580Z"
    }
   },
   "source": [
    "## 2."
   ]
  },
  {
   "cell_type": "code",
   "execution_count": 91,
   "id": "51eb35fd",
   "metadata": {
    "ExecuteTime": {
     "end_time": "2021-07-22T08:04:06.890667Z",
     "start_time": "2021-07-22T08:04:06.883706Z"
    }
   },
   "outputs": [],
   "source": [
    "def func(kg, m):\n",
    "    bmi=kg/(m**2)\n",
    "    if bmi<18.5:\n",
    "        return \"마른체형\"\n",
    "    elif bmi<25.0:\n",
    "        return \"표준\"\n",
    "    elif bmi<30.0:\n",
    "        return \"비만\"\n",
    "    else:\n",
    "        return \"고도 비만\""
   ]
  },
  {
   "cell_type": "code",
   "execution_count": 93,
   "id": "55f6d50b",
   "metadata": {
    "ExecuteTime": {
     "end_time": "2021-07-22T08:04:22.956365Z",
     "start_time": "2021-07-22T08:04:22.937388Z"
    }
   },
   "outputs": [
    {
     "data": {
      "text/plain": [
       "'비만'"
      ]
     },
     "execution_count": 93,
     "metadata": {},
     "output_type": "execute_result"
    }
   ],
   "source": [
    "func(90,1.8)"
   ]
  },
  {
   "cell_type": "markdown",
   "id": "60925256",
   "metadata": {
    "ExecuteTime": {
     "end_time": "2021-07-22T07:21:42.729009Z",
     "start_time": "2021-07-22T07:21:42.723025Z"
    }
   },
   "source": [
    "## 3."
   ]
  },
  {
   "cell_type": "code",
   "execution_count": 94,
   "id": "ae33ae29",
   "metadata": {
    "ExecuteTime": {
     "end_time": "2021-07-22T08:04:27.037139Z",
     "start_time": "2021-07-22T08:04:27.027175Z"
    }
   },
   "outputs": [],
   "source": [
    "import math\n",
    "def get_triangle(width, height):\n",
    "    s=width*height\n",
    "    c=width+height+math.sqrt(width**2+height**2)\n",
    "    return s,c   "
   ]
  },
  {
   "cell_type": "code",
   "execution_count": 95,
   "id": "11e203fc",
   "metadata": {
    "ExecuteTime": {
     "end_time": "2021-07-22T08:04:37.436448Z",
     "start_time": "2021-07-22T08:04:37.420933Z"
    }
   },
   "outputs": [
    {
     "data": {
      "text/plain": [
       "(12, 12.0)"
      ]
     },
     "execution_count": 95,
     "metadata": {},
     "output_type": "execute_result"
    }
   ],
   "source": [
    "get_triangle(3,4)"
   ]
  },
  {
   "cell_type": "markdown",
   "id": "8b418040",
   "metadata": {},
   "source": [
    "## 4."
   ]
  },
  {
   "cell_type": "code",
   "execution_count": 96,
   "id": "f130e15d",
   "metadata": {
    "ExecuteTime": {
     "end_time": "2021-07-22T08:04:39.892247Z",
     "start_time": "2021-07-22T08:04:39.888266Z"
    }
   },
   "outputs": [],
   "source": [
    "def mysum(frOm, end):\n",
    "    sum=0\n",
    "    for i in range(frOm,end+1,1):\n",
    "        sum+=i\n",
    "    return sum"
   ]
  },
  {
   "cell_type": "code",
   "execution_count": 97,
   "id": "13005819",
   "metadata": {
    "ExecuteTime": {
     "end_time": "2021-07-22T08:04:45.908616Z",
     "start_time": "2021-07-22T08:04:45.895651Z"
    }
   },
   "outputs": [
    {
     "data": {
      "text/plain": [
       "55"
      ]
     },
     "execution_count": 97,
     "metadata": {},
     "output_type": "execute_result"
    }
   ],
   "source": [
    "mysum(1,10)"
   ]
  },
  {
   "cell_type": "markdown",
   "id": "b63bf91f",
   "metadata": {},
   "source": [
    "## 5."
   ]
  },
  {
   "cell_type": "code",
   "execution_count": 98,
   "id": "3da1550c",
   "metadata": {
    "ExecuteTime": {
     "end_time": "2021-07-22T08:04:47.962220Z",
     "start_time": "2021-07-22T08:04:47.953265Z"
    }
   },
   "outputs": [],
   "source": [
    "def get_abbrs(list):\n",
    "    L=[]\n",
    "    for i in list:\n",
    "        L.append(i[0:3])\n",
    "    return L"
   ]
  },
  {
   "cell_type": "code",
   "execution_count": 99,
   "id": "870f6ba3",
   "metadata": {
    "ExecuteTime": {
     "end_time": "2021-07-22T08:05:06.298149Z",
     "start_time": "2021-07-22T08:05:06.292165Z"
    }
   },
   "outputs": [
    {
     "data": {
      "text/plain": [
       "['Seo', 'Bus']"
      ]
     },
     "execution_count": 99,
     "metadata": {},
     "output_type": "execute_result"
    }
   ],
   "source": [
    "get_abbrs([\"Seoul\",\"Busan\"])"
   ]
  },
  {
   "cell_type": "markdown",
   "id": "5d702ce7",
   "metadata": {},
   "source": [
    "## 6."
   ]
  },
  {
   "cell_type": "code",
   "execution_count": 100,
   "id": "1bc22dda",
   "metadata": {
    "ExecuteTime": {
     "end_time": "2021-07-22T08:05:11.592084Z",
     "start_time": "2021-07-22T08:05:11.586100Z"
    }
   },
   "outputs": [
    {
     "data": {
      "text/plain": [
       "<function __main__.<lambda>(x, y)>"
      ]
     },
     "execution_count": 100,
     "metadata": {},
     "output_type": "execute_result"
    }
   ],
   "source": [
    "lambda x,y : x**y"
   ]
  },
  {
   "cell_type": "markdown",
   "id": "3fcd5c9c",
   "metadata": {},
   "source": [
    "## 7."
   ]
  },
  {
   "cell_type": "code",
   "execution_count": 78,
   "id": "2d24b491",
   "metadata": {
    "ExecuteTime": {
     "end_time": "2021-07-22T08:02:09.921233Z",
     "start_time": "2021-07-22T08:02:09.902264Z"
    }
   },
   "outputs": [
    {
     "data": {
      "text/plain": [
       "[1, 4, 9, 16, 25]"
      ]
     },
     "execution_count": 78,
     "metadata": {},
     "output_type": "execute_result"
    }
   ],
   "source": [
    "ex=[1,2,3,4,5]\n",
    "list(map(lambda x: x**2,ex))"
   ]
  },
  {
   "cell_type": "code",
   "execution_count": 79,
   "id": "a0015ce9",
   "metadata": {
    "ExecuteTime": {
     "end_time": "2021-07-22T08:02:10.079540Z",
     "start_time": "2021-07-22T08:02:10.071561Z"
    }
   },
   "outputs": [
    {
     "data": {
      "text/plain": [
       "[1, 4, 9, 16, 25]"
      ]
     },
     "execution_count": 79,
     "metadata": {},
     "output_type": "execute_result"
    }
   ],
   "source": [
    "ex=[1,2,3,4,5]\n",
    "[x**2 for x in ex]"
   ]
  },
  {
   "cell_type": "markdown",
   "id": "854f880e",
   "metadata": {},
   "source": [
    "## 8. 답 : 언패킹"
   ]
  },
  {
   "cell_type": "markdown",
   "id": "3fe22132",
   "metadata": {},
   "source": [
    "## 9."
   ]
  },
  {
   "cell_type": "code",
   "execution_count": 80,
   "id": "9f96ea9a",
   "metadata": {
    "ExecuteTime": {
     "end_time": "2021-07-22T08:02:10.610660Z",
     "start_time": "2021-07-22T08:02:10.596698Z"
    }
   },
   "outputs": [
    {
     "data": {
      "text/plain": [
       "'2019-9-6'"
      ]
     },
     "execution_count": 80,
     "metadata": {},
     "output_type": "execute_result"
    }
   ],
   "source": [
    "date_info={'year':\"2019\", 'month':\"9\",'day':\"6\"}\n",
    "result = \"{year}-{month}-{day}\".format(**date_info)\n",
    "result"
   ]
  },
  {
   "cell_type": "markdown",
   "id": "82977369",
   "metadata": {},
   "source": [
    "## 10."
   ]
  },
  {
   "cell_type": "code",
   "execution_count": 84,
   "id": "df5bac75",
   "metadata": {
    "ExecuteTime": {
     "end_time": "2021-07-22T08:02:41.075582Z",
     "start_time": "2021-07-22T08:02:41.058626Z"
    }
   },
   "outputs": [],
   "source": [
    "def vector_size_check(*vector_var):\n",
    "    return all([len(x)==len(vector_var[0]) for x in vector_var])"
   ]
  },
  {
   "cell_type": "code",
   "execution_count": 85,
   "id": "ad034391",
   "metadata": {
    "ExecuteTime": {
     "end_time": "2021-07-22T08:02:42.325392Z",
     "start_time": "2021-07-22T08:02:42.306430Z"
    }
   },
   "outputs": [
    {
     "data": {
      "text/plain": [
       "False"
      ]
     },
     "execution_count": 85,
     "metadata": {},
     "output_type": "execute_result"
    }
   ],
   "source": [
    "vector_size_check((1,2,3),{1,3})"
   ]
  },
  {
   "cell_type": "markdown",
   "id": "a8951c2a",
   "metadata": {},
   "source": [
    "## 11."
   ]
  },
  {
   "cell_type": "code",
   "execution_count": 5,
   "id": "624c0a78",
   "metadata": {
    "ExecuteTime": {
     "end_time": "2021-07-22T08:58:48.035995Z",
     "start_time": "2021-07-22T08:58:48.029990Z"
    }
   },
   "outputs": [],
   "source": [
    "def scalar_vector_product(alpha, vector_var):\n",
    "    return type(vector_var)([alpha*x for x in vector_var])"
   ]
  },
  {
   "cell_type": "code",
   "execution_count": 8,
   "id": "727b073d",
   "metadata": {
    "ExecuteTime": {
     "end_time": "2021-07-22T08:59:08.500855Z",
     "start_time": "2021-07-22T08:59:08.492898Z"
    }
   },
   "outputs": [
    {
     "data": {
      "text/plain": [
       "{5, 10, 15, 20}"
      ]
     },
     "execution_count": 8,
     "metadata": {},
     "output_type": "execute_result"
    }
   ],
   "source": [
    "scalar_vector_product(5,{1,2,3,4})"
   ]
  }
 ],
 "metadata": {
  "kernelspec": {
   "display_name": "Python 3",
   "language": "python",
   "name": "python3"
  },
  "language_info": {
   "codemirror_mode": {
    "name": "ipython",
    "version": 3
   },
   "file_extension": ".py",
   "mimetype": "text/x-python",
   "name": "python",
   "nbconvert_exporter": "python",
   "pygments_lexer": "ipython3",
   "version": "3.8.8"
  },
  "toc": {
   "base_numbering": 1,
   "nav_menu": {},
   "number_sections": false,
   "sideBar": true,
   "skip_h1_title": false,
   "title_cell": "Table of Contents",
   "title_sidebar": "Contents",
   "toc_cell": false,
   "toc_position": {},
   "toc_section_display": true,
   "toc_window_display": true
  },
  "varInspector": {
   "cols": {
    "lenName": 16,
    "lenType": 16,
    "lenVar": 40
   },
   "kernels_config": {
    "python": {
     "delete_cmd_postfix": "",
     "delete_cmd_prefix": "del ",
     "library": "var_list.py",
     "varRefreshCmd": "print(var_dic_list())"
    },
    "r": {
     "delete_cmd_postfix": ") ",
     "delete_cmd_prefix": "rm(",
     "library": "var_list.r",
     "varRefreshCmd": "cat(var_dic_list()) "
    }
   },
   "types_to_exclude": [
    "module",
    "function",
    "builtin_function_or_method",
    "instance",
    "_Feature"
   ],
   "window_display": false
  }
 },
 "nbformat": 4,
 "nbformat_minor": 5
}
