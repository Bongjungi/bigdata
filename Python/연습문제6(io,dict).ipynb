{
 "cells": [
  {
   "cell_type": "code",
   "execution_count": 1,
   "id": "2facfdcf",
   "metadata": {
    "ExecuteTime": {
     "end_time": "2021-07-27T08:22:21.702296Z",
     "start_time": "2021-07-27T08:22:21.689340Z"
    }
   },
   "outputs": [],
   "source": [
    "class Customer:\n",
    "    \"고객 데이터 저장\"\n",
    "    def __init__(self, name, phone, email, age, grade, etc):\n",
    "        self.name=name\n",
    "        self.phone=phone\n",
    "        self.email=email\n",
    "        self.age=age\n",
    "        self.grade=grade\n",
    "        self.etc=etc\n",
    "    def as_dic(self): #객체를 딕셔너리로 반환 (csv파일 저장시)\n",
    "        return {'name':self.name, 'phone':self.phone, 'email':self.email, 'age':self.age, 'grade':self.grade, 'etc':self.etc}\n",
    "    def as_list(self): #객체를 \"홍길동 010-9999-9999 e@e.com 20 3 까칠\"\n",
    "        return [self.name, self.phone, self.email, self.age, self.grade, self.etc]\n",
    "    def __str__(self): # *** 홍길동 010-9999-9999 e@e.com 20 까칠\n",
    "        return \"{:>5}\\t{:3}\\t{:15}\\t{:15}\\t{:3}\\t{}\".format('*'*self.grade, self.name, self.phone, self.email, self.age, self.etc)        "
   ]
  },
  {
   "cell_type": "code",
   "execution_count": 2,
   "id": "ff4577a1",
   "metadata": {
    "ExecuteTime": {
     "end_time": "2021-07-27T08:22:21.923255Z",
     "start_time": "2021-07-27T08:22:21.905300Z"
    }
   },
   "outputs": [],
   "source": [
    "## txt파일 내용 : \"홍길동 010-9999-9999 e@e.com 20 3 까칠\"\n",
    "def to_customer(row):\n",
    "    data=row.strip().split(' ')\n",
    "    name = data[0]\n",
    "    phone = data[1]\n",
    "    email = data[2]\n",
    "    age = int(data[3])\n",
    "    grade =int(data[4])\n",
    "    etc = data[5]\n",
    "    return Customer(name, phone, email, age, grade, etc)"
   ]
  },
  {
   "cell_type": "code",
   "execution_count": 3,
   "id": "680f6a1e",
   "metadata": {
    "ExecuteTime": {
     "end_time": "2021-07-27T08:22:22.143311Z",
     "start_time": "2021-07-27T08:22:22.125359Z"
    }
   },
   "outputs": [],
   "source": [
    "#0. 실행하면 customers.txt 파일의 내용을 load(Customer_list)\n",
    "#            customers.txt 파일이 존재하지 않으면 빈 customers.txt파일을 생성하고 데이터는 customer_list=[]\n",
    "def load_customers():\n",
    "    customer_list=[]\n",
    "    #파일의 내용을 customer_list에 append\n",
    "    #파일이 없으면 빈 파일 생성하고 내용은 ''추가\n",
    "    try:\n",
    "        with open('data/ch09_customers.txt','r', encoding='utf-8') as f:\n",
    "            lines=f.readlines()\n",
    "            for line in lines:\n",
    "                customer = to_customer(line)\n",
    "                customer_list.append(customer)\n",
    "        print(\"데이터가 로드 되었습니다.\")\n",
    "    except :\n",
    "        print('데이터 파일이 없어 초기화합니다.')\n",
    "        with open('data/ch09_customers.txt','w', encoding='utf-8') as f:\n",
    "            f.write('')\n",
    "    return customer_list"
   ]
  },
  {
   "cell_type": "code",
   "execution_count": 4,
   "id": "7b4fc4d4",
   "metadata": {
    "ExecuteTime": {
     "end_time": "2021-07-27T08:22:22.361576Z",
     "start_time": "2021-07-27T08:22:22.346607Z"
    }
   },
   "outputs": [],
   "source": [
    "#1. 입력\n",
    "def fn1_insert_customer_info():\n",
    "    #사용자로부터 이름, 전화번호, 이메일, 나이, 등급, etc를 받아 customer형 객체 return\n",
    "    name=input(\"이름 : \")\n",
    "    phone=input(\"전화번호 : \")\n",
    "    email = input(\"이메일 : \")\n",
    "    age=int(input(\"나이 : \"))\n",
    "    grade=int(input(\"고객등급(1~5) : \"))\n",
    "    etc=input(\"기타 정보 : \")\n",
    "    customer_list.append(Customer(name, phone, email, age, grade, etc))\n",
    "    pass"
   ]
  },
  {
   "cell_type": "code",
   "execution_count": 5,
   "id": "ce5ee566",
   "metadata": {
    "ExecuteTime": {
     "end_time": "2021-07-27T08:22:22.625498Z",
     "start_time": "2021-07-27T08:22:22.610537Z"
    }
   },
   "outputs": [],
   "source": [
    "#2. 전체 출력\n",
    "def fn2_print_customers(customer_list):\n",
    "    #customer_list를 전체 출력(*** 홍길동 001-9999-9999 e@e.com 20 까칠)\n",
    "    print(\"==================================================\")\n",
    "    print(\"\\t고객 정보\\t\")\n",
    "    print(\"--------------------------------------------------\")\n",
    "    print(\"GRADE\\t이름\\t전화\\t\\t메일\\t나이\\t기타\")\n",
    "    print(\"==================================================\")\n",
    "    for list in customer_list:\n",
    "        print(list)\n",
    "    pass"
   ]
  },
  {
   "cell_type": "code",
   "execution_count": 6,
   "id": "fda2104d",
   "metadata": {
    "ExecuteTime": {
     "end_time": "2021-07-27T08:22:23.235963Z",
     "start_time": "2021-07-27T08:22:23.218011Z"
    }
   },
   "outputs": [],
   "source": [
    "#3. 삭제\n",
    "def fn3_delete_customers(customer_list):\n",
    "    #삭제하고자 하는 고객이름을 받아 customer_list에서 삭제\n",
    "    name=input(\"이름 : \")\n",
    "    for list in customer_list:\n",
    "        if list.as_dic()['name']==name:\n",
    "            customer_list.remove(list)\n",
    "    pass"
   ]
  },
  {
   "cell_type": "code",
   "execution_count": 7,
   "id": "2f73ee54",
   "metadata": {
    "ExecuteTime": {
     "end_time": "2021-07-27T08:22:23.561323Z",
     "start_time": "2021-07-27T08:22:23.545386Z"
    }
   },
   "outputs": [],
   "source": [
    "#4. 이름찾기\n",
    "def fn4_search_customers(customer_list):\n",
    "    #찾고자하는 고객이름을 받아 찾는 고객 정보를 출력\n",
    "    name=input(\"이름 : \")\n",
    "    for list in customer_list:\n",
    "        if list.as_dic()['name']==name:\n",
    "            print(list)\n",
    "    pass"
   ]
  },
  {
   "cell_type": "code",
   "execution_count": 8,
   "id": "775f31d0",
   "metadata": {
    "ExecuteTime": {
     "end_time": "2021-07-27T08:22:23.953695Z",
     "start_time": "2021-07-27T08:22:23.934743Z"
    }
   },
   "outputs": [],
   "source": [
    "#5. 내보내기\n",
    "def fn5_save_customer_csv(customer_list):\n",
    "    #저장할 파일명을 입력 받아 data 폴더 밑에 해당 파일명으로, customer_list를 csv 파일에 저장\n",
    "    import csv\n",
    "    filename=input(\"파일명 : \")\n",
    "    with open(filename,\"w\", encoding=\"utf-8\", newline=\"\") as f:\n",
    "        dict_writer = csv.DictWriter(f, fieldnames=['name', 'phone', 'email', 'age', 'grade', 'etc'])\n",
    "        #dict_writer = csv.DictWriter(f, fieldnames=list(customer_list[0].as_dic().keys())) 없을 수도..\n",
    "        dict_writer.writeheader()\n",
    "        for customer in customer_list:\n",
    "            dict_writer.writerow(customer.as_dic())\n",
    "    pass"
   ]
  },
  {
   "cell_type": "code",
   "execution_count": 9,
   "id": "a8ac59ab",
   "metadata": {
    "ExecuteTime": {
     "end_time": "2021-07-27T08:22:24.424593Z",
     "start_time": "2021-07-27T08:22:24.414590Z"
    }
   },
   "outputs": [],
   "source": [
    "#9. 종료하기(종료하기 전 customer_list를 txt파일에 저장하고 종료)\n",
    "def fn9_save_customer_txt(customer_list):\n",
    "    #customer_list의 내용을 data/ch09_customers.txt에 저장\n",
    "    with open('data/ch09_customers.txt','w', encoding='utf-8') as f:\n",
    "        for list in customer_list:\n",
    "            temp=list.as_list()\n",
    "            f.write(\"{} {} {} {} {} {}\".format(temp[0],temp[1],temp[2],temp[3],temp[4],temp[5]))\n",
    "            f.write(\"\\n\")\n",
    "    pass"
   ]
  },
  {
   "cell_type": "code",
   "execution_count": 10,
   "id": "3b777356",
   "metadata": {
    "ExecuteTime": {
     "end_time": "2021-07-27T08:22:25.235349Z",
     "start_time": "2021-07-27T08:22:25.224359Z"
    }
   },
   "outputs": [],
   "source": [
    "def main():\n",
    "    global customer_list\n",
    "    customer_list= load_customers()\n",
    "    while True:\n",
    "        print(\"1:입력|2:전체출력|3:삭제|4:이름찾기|5:내보내기(CSV)|9:종료\")\n",
    "        try:\n",
    "            fn=int(input('메뉴 선택 : '))\n",
    "        except Exception:\n",
    "            print(\"숫자 1,2,3,4,5,9 중에 하나를 입력하시오\")\n",
    "            continue\n",
    "        if fn==1:\n",
    "            fn1_insert_customer_info() #입력받은 내용으로 customer객체를 반환\n",
    "        elif fn==2:\n",
    "            fn2_print_customers(customer_list)\n",
    "        elif fn==3:\n",
    "            fn3_delete_customers(customer_list)\n",
    "        elif fn==4:\n",
    "            fn4_search_customers(customer_list)\n",
    "        elif fn==5:\n",
    "            fn5_save_customer_csv(customer_list)\n",
    "        elif fn==9:\n",
    "            fn9_save_customer_txt(customer_list)\n",
    "            break"
   ]
  },
  {
   "cell_type": "code",
   "execution_count": 11,
   "id": "ea673689",
   "metadata": {
    "ExecuteTime": {
     "end_time": "2021-07-27T08:24:07.216963Z",
     "start_time": "2021-07-27T08:22:25.769277Z"
    }
   },
   "outputs": [
    {
     "name": "stdout",
     "output_type": "stream",
     "text": [
      "데이터가 로드 되었습니다.\n",
      "1:입력|2:전체출력|3:삭제|4:이름찾기|5:내보내기(CSV)|9:종료\n",
      "메뉴 선택 : 2\n",
      "==================================================\n",
      "\t고객 정보\t\n",
      "--------------------------------------------------\n",
      "GRADE\t이름\t전화\t\t메일\t나이\t기타\n",
      "==================================================\n",
      "   **\t유길동\t010-8888-8888  \tasd@naver.com  \t 21\tasd\n",
      "*****\t홍길동\t010-5555-5555  \tasg@naver.com  \t 24\tasg\n",
      "1:입력|2:전체출력|3:삭제|4:이름찾기|5:내보내기(CSV)|9:종료\n",
      "메뉴 선택 : 5\n",
      "파일명 : data/asdfg.csv\n",
      "1:입력|2:전체출력|3:삭제|4:이름찾기|5:내보내기(CSV)|9:종료\n",
      "메뉴 선택 : 9\n"
     ]
    }
   ],
   "source": [
    "if __name__==\"__main__\":\n",
    "    main()"
   ]
  },
  {
   "cell_type": "code",
   "execution_count": null,
   "id": "1d2459ed",
   "metadata": {},
   "outputs": [],
   "source": []
  }
 ],
 "metadata": {
  "kernelspec": {
   "display_name": "Python 3",
   "language": "python",
   "name": "python3"
  },
  "language_info": {
   "codemirror_mode": {
    "name": "ipython",
    "version": 3
   },
   "file_extension": ".py",
   "mimetype": "text/x-python",
   "name": "python",
   "nbconvert_exporter": "python",
   "pygments_lexer": "ipython3",
   "version": "3.8.8"
  },
  "toc": {
   "base_numbering": 1,
   "nav_menu": {},
   "number_sections": true,
   "sideBar": true,
   "skip_h1_title": false,
   "title_cell": "Table of Contents",
   "title_sidebar": "Contents",
   "toc_cell": false,
   "toc_position": {},
   "toc_section_display": true,
   "toc_window_display": false
  },
  "varInspector": {
   "cols": {
    "lenName": 16,
    "lenType": 16,
    "lenVar": 40
   },
   "kernels_config": {
    "python": {
     "delete_cmd_postfix": "",
     "delete_cmd_prefix": "del ",
     "library": "var_list.py",
     "varRefreshCmd": "print(var_dic_list())"
    },
    "r": {
     "delete_cmd_postfix": ") ",
     "delete_cmd_prefix": "rm(",
     "library": "var_list.r",
     "varRefreshCmd": "cat(var_dic_list()) "
    }
   },
   "position": {
    "height": "129px",
    "left": "779px",
    "right": "20px",
    "top": "114px",
    "width": "444px"
   },
   "types_to_exclude": [
    "module",
    "function",
    "builtin_function_or_method",
    "instance",
    "_Feature"
   ],
   "window_display": false
  }
 },
 "nbformat": 4,
 "nbformat_minor": 5
}
