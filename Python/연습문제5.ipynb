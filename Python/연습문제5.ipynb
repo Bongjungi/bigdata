{
 "cells": [
  {
   "cell_type": "code",
   "execution_count": 12,
   "id": "208a453d",
   "metadata": {
    "ExecuteTime": {
     "end_time": "2021-07-26T02:57:33.899489Z",
     "start_time": "2021-07-26T02:57:33.884860Z"
    }
   },
   "outputs": [],
   "source": [
    "class Shape:\n",
    "    __count=0\n",
    "    def __init__(self,x=0,y=0):\n",
    "        Shape._Shape__count+=1\n",
    "        self.x = x\n",
    "        self.y = y\n",
    "    def move(self, x, y):\n",
    "        self.x = x\n",
    "        self.y = y\n",
    "    def __del__(self):\n",
    "        Shape._Shape__count-=1\n",
    "    def __str__(self):\n",
    "        return \" x:{}, y:{} \".format(self.x, self.y)\n",
    "    def cacl_area(self):\n",
    "        raise Exception(\"이 메소드는 반드시 구현되어야 합니다.\")\n",
    "    @staticmethod\n",
    "    def count_():\n",
    "        print(\"Shape의 수 : {}\".format(Shape._Shape__count))"
   ]
  },
  {
   "cell_type": "code",
   "execution_count": 13,
   "id": "351e67ed",
   "metadata": {
    "ExecuteTime": {
     "end_time": "2021-07-26T02:57:34.195788Z",
     "start_time": "2021-07-26T02:57:34.178856Z"
    }
   },
   "outputs": [],
   "source": [
    "class Triangle(Shape):\n",
    "    __count=0\n",
    "    def __init__(self,width,height,x=0,y=0):\n",
    "        Triangle._Triangle__count +=1\n",
    "        super().__init__(x,y)\n",
    "        self.width=width\n",
    "        self.height=height\n",
    "    def __del__(self):\n",
    "        super().__del__()\n",
    "        Triangle._Triangle__count -=1\n",
    "    def cacl_area(self):\n",
    "        return self.width*self.height*0.5\n",
    "    def __str__(self):\n",
    "        return super().__str__() + \", width : {}, height : {}, area: {}\".format(self.width, self.height,self.cacl_area())\n",
    "    @classmethod\n",
    "    def get_count(cls):\n",
    "        print(\"Triangle의 수 : {}\".format(Triangle._Triangle__count))\n",
    "    \n",
    "        "
   ]
  },
  {
   "cell_type": "code",
   "execution_count": 14,
   "id": "dbad8a4f",
   "metadata": {
    "ExecuteTime": {
     "end_time": "2021-07-26T02:57:34.651139Z",
     "start_time": "2021-07-26T02:57:34.638188Z"
    },
    "scrolled": true
   },
   "outputs": [
    {
     "name": "stdout",
     "output_type": "stream",
     "text": [
      "Shape의 수 : 0\n",
      "Triangle의 수 : 0\n"
     ]
    }
   ],
   "source": [
    "Shape.count_()\n",
    "Triangle.get_count()"
   ]
  },
  {
   "cell_type": "code",
   "execution_count": null,
   "id": "ecc5c5f8",
   "metadata": {},
   "outputs": [],
   "source": []
  },
  {
   "cell_type": "code",
   "execution_count": 15,
   "id": "d8d75e82",
   "metadata": {
    "ExecuteTime": {
     "end_time": "2021-07-26T02:57:37.245286Z",
     "start_time": "2021-07-26T02:57:37.237287Z"
    }
   },
   "outputs": [
    {
     "name": "stdout",
     "output_type": "stream",
     "text": [
      " x:1, y:2 , width : 3, height : 4, area: 6.0\n",
      "6.0\n"
     ]
    }
   ],
   "source": [
    "t1=Triangle(3,4)\n",
    "t1.move(1,2)\n",
    "print(t1)\n",
    "print(t1.cacl_area())"
   ]
  },
  {
   "cell_type": "code",
   "execution_count": 16,
   "id": "fd0228b7",
   "metadata": {
    "ExecuteTime": {
     "end_time": "2021-07-26T02:57:38.891711Z",
     "start_time": "2021-07-26T02:57:38.875747Z"
    }
   },
   "outputs": [
    {
     "name": "stdout",
     "output_type": "stream",
     "text": [
      " x:2, y:4 , width : 6, height : 8, area: 24.0\n",
      "24.0\n"
     ]
    }
   ],
   "source": [
    "t2=Triangle(6,8)\n",
    "t2.move(2,4)\n",
    "print(t2)\n",
    "print(t2.cacl_area())"
   ]
  },
  {
   "cell_type": "code",
   "execution_count": 17,
   "id": "50f67976",
   "metadata": {
    "ExecuteTime": {
     "end_time": "2021-07-26T02:57:39.864720Z",
     "start_time": "2021-07-26T02:57:39.858749Z"
    }
   },
   "outputs": [
    {
     "name": "stdout",
     "output_type": "stream",
     "text": [
      "Shape의 수 : 2\n",
      "Triangle의 수 : 2\n"
     ]
    }
   ],
   "source": [
    "Shape.count_()\n",
    "Triangle.get_count()"
   ]
  },
  {
   "cell_type": "code",
   "execution_count": 18,
   "id": "6ed2d26f",
   "metadata": {
    "ExecuteTime": {
     "end_time": "2021-07-26T02:57:40.302618Z",
     "start_time": "2021-07-26T02:57:40.297631Z"
    }
   },
   "outputs": [],
   "source": [
    "del t1,t2"
   ]
  },
  {
   "cell_type": "code",
   "execution_count": 20,
   "id": "4017caea",
   "metadata": {
    "ExecuteTime": {
     "end_time": "2021-07-26T02:10:24.767382Z",
     "start_time": "2021-07-26T02:10:24.760380Z"
    }
   },
   "outputs": [
    {
     "name": "stdout",
     "output_type": "stream",
     "text": [
      "Shape의 수 : 0\n",
      "Triangle의 수 : 0\n"
     ]
    }
   ],
   "source": [
    "Shape.count_()\n",
    "Triangle.get_count()"
   ]
  },
  {
   "cell_type": "code",
   "execution_count": null,
   "id": "008a543b",
   "metadata": {},
   "outputs": [],
   "source": []
  }
 ],
 "metadata": {
  "kernelspec": {
   "display_name": "Python 3",
   "language": "python",
   "name": "python3"
  },
  "language_info": {
   "codemirror_mode": {
    "name": "ipython",
    "version": 3
   },
   "file_extension": ".py",
   "mimetype": "text/x-python",
   "name": "python",
   "nbconvert_exporter": "python",
   "pygments_lexer": "ipython3",
   "version": "3.8.8"
  },
  "toc": {
   "base_numbering": 1,
   "nav_menu": {},
   "number_sections": true,
   "sideBar": true,
   "skip_h1_title": false,
   "title_cell": "Table of Contents",
   "title_sidebar": "Contents",
   "toc_cell": false,
   "toc_position": {},
   "toc_section_display": true,
   "toc_window_display": false
  },
  "varInspector": {
   "cols": {
    "lenName": 16,
    "lenType": 16,
    "lenVar": 40
   },
   "kernels_config": {
    "python": {
     "delete_cmd_postfix": "",
     "delete_cmd_prefix": "del ",
     "library": "var_list.py",
     "varRefreshCmd": "print(var_dic_list())"
    },
    "r": {
     "delete_cmd_postfix": ") ",
     "delete_cmd_prefix": "rm(",
     "library": "var_list.r",
     "varRefreshCmd": "cat(var_dic_list()) "
    }
   },
   "types_to_exclude": [
    "module",
    "function",
    "builtin_function_or_method",
    "instance",
    "_Feature"
   ],
   "window_display": false
  }
 },
 "nbformat": 4,
 "nbformat_minor": 5
}
