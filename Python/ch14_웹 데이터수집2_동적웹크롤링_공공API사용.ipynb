{
 "cells": [
  {
   "cell_type": "markdown",
   "id": "0b3400a5",
   "metadata": {},
   "source": [
    "# ch14.웹데이터 수집"
   ]
  },
  {
   "cell_type": "markdown",
   "id": "60da9cc2",
   "metadata": {},
   "source": [
    "## 3절. Selenium을 이용한 웹 데이터 수집\n",
    "[Selenium](https://selenium-python.readthedocs.io/index.html)\n",
    "\n",
    "*pip install selenium"
   ]
  },
  {
   "cell_type": "code",
   "execution_count": 34,
   "id": "5de1f321",
   "metadata": {
    "ExecuteTime": {
     "end_time": "2021-08-11T06:26:29.099711Z",
     "start_time": "2021-08-11T06:26:27.636263Z"
    }
   },
   "outputs": [],
   "source": [
    "from selenium import webdriver\n",
    "#dv=webdriver.Chrome('D:\\Bigdata\\download\\chromedriver\\chromedriver.exe')\n",
    "dv=webdriver.Chrome()"
   ]
  },
  {
   "cell_type": "code",
   "execution_count": 35,
   "id": "c03c181e",
   "metadata": {
    "ExecuteTime": {
     "end_time": "2021-08-11T06:26:32.589423Z",
     "start_time": "2021-08-11T06:26:30.727847Z"
    }
   },
   "outputs": [],
   "source": [
    "dv.get('http://python.org')"
   ]
  },
  {
   "cell_type": "code",
   "execution_count": 36,
   "id": "3c26b1a2",
   "metadata": {
    "ExecuteTime": {
     "end_time": "2021-08-11T06:26:32.919681Z",
     "start_time": "2021-08-11T06:26:32.815356Z"
    }
   },
   "outputs": [],
   "source": [
    "elem = dv.find_element_by_name('q')\n",
    "elem.clear()\n",
    "elem.send_keys('pycon')"
   ]
  },
  {
   "cell_type": "code",
   "execution_count": 37,
   "id": "12cc52da",
   "metadata": {
    "ExecuteTime": {
     "end_time": "2021-08-11T06:26:35.931492Z",
     "start_time": "2021-08-11T06:26:35.146118Z"
    }
   },
   "outputs": [],
   "source": [
    "from selenium.webdriver.common.keys import Keys\n",
    "elem.send_keys(Keys.RETURN) #Enter키 입력"
   ]
  },
  {
   "cell_type": "code",
   "execution_count": 38,
   "id": "6ccc7095",
   "metadata": {
    "ExecuteTime": {
     "end_time": "2021-08-11T06:26:37.154663Z",
     "start_time": "2021-08-11T06:26:36.914255Z"
    }
   },
   "outputs": [
    {
     "data": {
      "text/plain": [
       "['PSF PyCon Trademark Usage Policy',\n",
       " 'Conferences and Workshops',\n",
       " 'PyCon Italia 2016 (PyCon Sette)',\n",
       " '2008-04-14 PSF Board Meeting Minutes',\n",
       " '2012-07-16 PSF Board Meeting Minutes',\n",
       " 'PyCon Home at python.org',\n",
       " '2013-02-06 PSF Board Meeting Minutes',\n",
       " 'PyCon Australia 2013',\n",
       " 'PyCon AU 2019',\n",
       " 'PyCon Australia 2014',\n",
       " 'PyCon Ireland 2012',\n",
       " 'PyCon Ireland 2016',\n",
       " 'PyCon AU 2018',\n",
       " 'PyCon Ireland 2015',\n",
       " 'PyCon AU 2015',\n",
       " 'PyCon PL 2014',\n",
       " 'PyCon MY 2015',\n",
       " 'PyCon Australia 2016',\n",
       " 'PyCon MY 2014',\n",
       " 'PyCon Ireland 2014']"
      ]
     },
     "execution_count": 38,
     "metadata": {},
     "output_type": "execute_result"
    }
   ],
   "source": [
    "result_list= dv.find_elements_by_css_selector('li > h3 > a')\n",
    "[r.text for r in result_list]"
   ]
  },
  {
   "cell_type": "code",
   "execution_count": 39,
   "id": "5e619251",
   "metadata": {
    "ExecuteTime": {
     "end_time": "2021-08-11T06:26:41.028638Z",
     "start_time": "2021-08-11T06:26:40.797257Z"
    }
   },
   "outputs": [
    {
     "name": "stdout",
     "output_type": "stream",
     "text": [
      "PSF PyCon Trademark Usage Policy - https://www.python.org/psf/trademarks/pycon\n",
      "Conferences and Workshops - https://www.python.org/community/workshops\n",
      "PyCon Italia 2016 (PyCon Sette) - https://www.python.org/events/python-events/378/\n",
      "2008-04-14 PSF Board Meeting Minutes - https://www.python.org/psf/records/board/minutes/2008-04-14\n",
      "2012-07-16 PSF Board Meeting Minutes - https://www.python.org/psf/records/board/minutes/2012-07-16\n",
      "PyCon Home at python.org - https://www.python.org/community/pycon\n",
      "2013-02-06 PSF Board Meeting Minutes - https://www.python.org/psf/records/board/minutes/2013-02-06\n",
      "PyCon Australia 2013 - https://www.python.org/events/python-events/57/\n",
      "PyCon AU 2019 - https://www.python.org/events/python-events/776/\n",
      "PyCon Australia 2014 - https://www.python.org/events/python-events/10/\n",
      "PyCon Ireland 2012 - https://www.python.org/events/python-events/76/\n",
      "PyCon Ireland 2016 - https://www.python.org/events/python-events/429/\n",
      "PyCon AU 2018 - https://www.python.org/events/python-events/696/\n",
      "PyCon Ireland 2015 - https://www.python.org/events/python-events/333/\n",
      "PyCon AU 2015 - https://www.python.org/events/python-events/273/\n",
      "PyCon PL 2014 - https://www.python.org/events/python-events/191/\n",
      "PyCon MY 2015 - https://www.python.org/events/python-events/313/\n",
      "PyCon Australia 2016 - https://www.python.org/events/python-events/357/\n",
      "PyCon MY 2014 - https://www.python.org/events/python-events/151/\n",
      "PyCon Ireland 2014 - https://www.python.org/events/python-events/149/\n"
     ]
    }
   ],
   "source": [
    "result_list= dv.find_elements_by_css_selector('li > h3 > a')\n",
    "for result in result_list:\n",
    "    print(\"%s - %s\" % (result.text, result.get_attribute('href')))"
   ]
  },
  {
   "cell_type": "code",
   "execution_count": 22,
   "id": "84a05f8e",
   "metadata": {
    "ExecuteTime": {
     "end_time": "2021-08-11T06:11:46.133925Z",
     "start_time": "2021-08-11T06:11:46.073357Z"
    }
   },
   "outputs": [
    {
     "data": {
      "text/plain": [
       "['PSF PyCon Trademark Usage Policy - http://python.org/psf/trademarks/pycon',\n",
       " 'Conferences and Workshops - http://python.org/community/workshops',\n",
       " 'PyCon Italia 2016 (PyCon Sette) - http://python.org/events/python-events/378/',\n",
       " '2008-04-14 PSF Board Meeting Minutes - http://python.org/psf/records/board/minutes/2008-04-14',\n",
       " '2012-07-16 PSF Board Meeting Minutes - http://python.org/psf/records/board/minutes/2012-07-16',\n",
       " 'PyCon Home at python.org - http://python.org/community/pycon',\n",
       " '2013-02-06 PSF Board Meeting Minutes - http://python.org/psf/records/board/minutes/2013-02-06',\n",
       " 'PyCon Australia 2013 - http://python.org/events/python-events/57/',\n",
       " 'PyCon AU 2019 - http://python.org/events/python-events/776/',\n",
       " 'PyCon Australia 2014 - http://python.org/events/python-events/10/',\n",
       " 'PyCon Ireland 2012 - http://python.org/events/python-events/76/',\n",
       " 'PyCon Ireland 2016 - http://python.org/events/python-events/429/',\n",
       " 'PyCon AU 2018 - http://python.org/events/python-events/696/',\n",
       " 'PyCon Ireland 2015 - http://python.org/events/python-events/333/',\n",
       " 'PyCon AU 2015 - http://python.org/events/python-events/273/',\n",
       " 'PyCon PL 2014 - http://python.org/events/python-events/191/',\n",
       " 'PyCon MY 2015 - http://python.org/events/python-events/313/',\n",
       " 'PyCon Australia 2016 - http://python.org/events/python-events/357/',\n",
       " 'PyCon MY 2014 - http://python.org/events/python-events/151/',\n",
       " 'PyCon Ireland 2014 - http://python.org/events/python-events/149/']"
      ]
     },
     "execution_count": 22,
     "metadata": {},
     "output_type": "execute_result"
    }
   ],
   "source": [
    "from bs4 import BeautifulSoup\n",
    "soup = BeautifulSoup(dv.page_source, 'html.parser')\n",
    "result_list = soup.select('li > h3 > a')\n",
    "[\"%s - %s\"%(result.text, 'http://python.org'+result.attrs['href']) for result in result_list]"
   ]
  },
  {
   "cell_type": "code",
   "execution_count": 73,
   "id": "037836c0",
   "metadata": {
    "ExecuteTime": {
     "end_time": "2021-08-11T07:02:40.836524Z",
     "start_time": "2021-08-11T07:02:40.678110Z"
    }
   },
   "outputs": [],
   "source": [
    "#브라우저 종료\n",
    "dv.close()"
   ]
  },
  {
   "cell_type": "markdown",
   "id": "a019c696",
   "metadata": {},
   "source": [
    "### 맞춤법 검사기 (네이버 맞춤법 검사기 이용)"
   ]
  },
  {
   "cell_type": "code",
   "execution_count": 27,
   "id": "d9b2e11b",
   "metadata": {
    "ExecuteTime": {
     "end_time": "2021-08-11T06:18:58.173324Z",
     "start_time": "2021-08-11T06:18:58.157375Z"
    }
   },
   "outputs": [],
   "source": [
    "from selenium import webdriver\n",
    "from selenium.webdriver.common.keys import Keys\n",
    "from bs4 import BeautifulSoup\n",
    "import time"
   ]
  },
  {
   "cell_type": "code",
   "execution_count": 81,
   "id": "126212fd",
   "metadata": {
    "ExecuteTime": {
     "end_time": "2021-08-11T07:09:24.381544Z",
     "start_time": "2021-08-11T07:09:07.685042Z"
    }
   },
   "outputs": [
    {
     "name": "stdout",
     "output_type": "stream",
     "text": [
      "샨의 겨울밧다의 태양\n"
     ]
    }
   ],
   "source": [
    "dv=webdriver.Chrome()\n",
    "dv.get('http://www.naver.com')\n",
    "elem = dv.find_element_by_name('query')\n",
    "elem.clear()\n",
    "elem.send_keys('맞춤법검사기')\n",
    "elem.send_keys(Keys.RETURN)\n",
    "time.sleep(3)\n",
    "txtarea = dv.find_element_by_class_name('txt_gray')\n",
    "txtarea.clear()\n",
    "txtarea.send_keys('샨의겨울\\n밧다의 태양')\n",
    "button = dv.find_element_by_class_name('btn_check')\n",
    "button.click()\n",
    "time.sleep(3)\n",
    "soup=BeautifulSoup(dv.page_source, 'html.parser')\n",
    "result= soup.select_one('p._result_text.stand_txt').text\n",
    "print(result)\n",
    "dv.close()"
   ]
  },
  {
   "cell_type": "code",
   "execution_count": 91,
   "id": "fa8b88bf",
   "metadata": {
    "ExecuteTime": {
     "end_time": "2021-08-11T07:39:36.691737Z",
     "start_time": "2021-08-11T07:38:41.807217Z"
    }
   },
   "outputs": [],
   "source": [
    "# 맞춤법검사가 안된 text 파일을 맞춤법 검사\n",
    "with open('data/ch14.txt','r',encoding='utf-8') as f:\n",
    "    ftext = f.read()\n",
    "ready_list=[]\n",
    "while len(ftext) > 500:\n",
    "    temp_str = ftext[:500]\n",
    "    last_space_idx = temp_str.rfind(' ')\n",
    "    ready_list.append(ftext[:last_space_idx])\n",
    "    ftext = ftext[last_space_idx:]\n",
    "ready_list.append(ftext)\n",
    "\n",
    "dv=webdriver.Chrome()\n",
    "dv.get('http://www.naver.com')\n",
    "elem = dv.find_element_by_name('query')\n",
    "elem.clear()\n",
    "elem.send_keys('맞춤법검사기')\n",
    "elem.send_keys(Keys.RETURN)\n",
    "time.sleep(3)\n",
    "txtarea = dv.find_element_by_class_name('txt_gray')\n",
    "results=\"\"\n",
    "for ready in ready_list:\n",
    "    #txtarea.clear()\n",
    "    txtarea.send_keys(Keys.CONTROL,'a')\n",
    "    txtarea.send_keys(ready)\n",
    "    button = dv.find_element_by_class_name('btn_check')\n",
    "    button.click()\n",
    "    time.sleep(3)\n",
    "    soup=BeautifulSoup(dv.page_source, 'html.parser')\n",
    "    result= soup.select_one('p._result_text.stand_txt').text\n",
    "    results+=result\n",
    "with open('data/ch14_chked.txt','w', encoding='utf-8') as f:\n",
    "    f.write(results)\n",
    "dv.close()"
   ]
  },
  {
   "cell_type": "markdown",
   "id": "45651986",
   "metadata": {},
   "source": [
    "## 4절. Open API(특정 프로그램을 만들기 위해 제공되는 모듈)를 활용한 공공 DB 수집"
   ]
  },
  {
   "cell_type": "markdown",
   "id": "477d77fd",
   "metadata": {},
   "source": [
    "서울시 버스 정보와 버스 위치 정보를 공공데이터 포털 사이트에서 받아옵니다.\n",
    "활용신청 -> 인증키발부 -> 도큐먼트를 참조하여 xml파일을 받아옵니다."
   ]
  },
  {
   "cell_type": "code",
   "execution_count": 2,
   "id": "afe76c99",
   "metadata": {
    "ExecuteTime": {
     "end_time": "2021-08-12T02:28:21.864745Z",
     "start_time": "2021-08-12T02:28:21.703143Z"
    }
   },
   "outputs": [
    {
     "name": "stdout",
     "output_type": "stream",
     "text": [
      "http://ws.bus.go.kr/api/rest/busRouteInfo/getBusRouteList?serviceKey=kasZruwCt2RyBtjKWOKm13Izo5b2XgXKksk5FX1Btgohwl%2BDTDvemMkrPI1bIA%2BOxHCjBU94GP4DA%2B6SgL%2BuGQ%3D%3D&strSrch=702\n",
      "['100100104', '100100105']\n",
      "['702A서오릉', '702B용두초교']\n"
     ]
    }
   ],
   "source": [
    "from bs4 import BeautifulSoup\n",
    "import urllib.request as req\n",
    "import re\n",
    "busNum = '702'\n",
    "#일반인증키\n",
    "key = 'kasZruwCt2RyBtjKWOKm13Izo5b2XgXKksk5FX1Btgohwl%2BDTDvemMkrPI1bIA%2BOxHCjBU94GP4DA%2B6SgL%2BuGQ%3D%3D'\n",
    "url1='http://ws.bus.go.kr/api/rest/busRouteInfo/getBusRouteList?serviceKey='+key+'&strSrch='+busNum\n",
    "print(url1)\n",
    "savefilename=\"D:\\Bigdata\\src/1_businfo.xml\"\n",
    "req.urlretrieve(url1, savefilename)\n",
    "\n",
    "xml = open(savefilename, 'r', encoding='utf-8').read()\n",
    "soup = BeautifulSoup(xml, 'xml')\n",
    "busRouteIdset = []\n",
    "busRouteNmset = []\n",
    "for itemList in soup.find_all('itemList'):\n",
    "    busRouteNm=itemList.find('busRouteNm').text\n",
    "    if (re.compile(busNum+r'(\\d)').match(busRouteNm) is None)|(re.findall(busNum+'-'+r'(\\d)', busRouteNm)!=[]) :\n",
    "        tempbusRouteId = itemList.find('busRouteId').text\n",
    "        busRouteIdset.append(tempbusRouteId)\n",
    "        busRouteNmset.append(busRouteNm)\n",
    "print(busRouteIdset)\n",
    "print(busRouteNmset)"
   ]
  },
  {
   "cell_type": "code",
   "execution_count": 63,
   "id": "166b2a8e",
   "metadata": {
    "ExecuteTime": {
     "end_time": "2021-08-12T02:24:25.918373Z",
     "start_time": "2021-08-12T02:24:25.824921Z"
    }
   },
   "outputs": [
    {
     "name": "stdout",
     "output_type": "stream",
     "text": [
      "http://ws.bus.go.kr/api/rest/busRouteInfo/getStaionByRoute?serviceKey=kasZruwCt2RyBtjKWOKm13Izo5b2XgXKksk5FX1Btgohwl%2BDTDvemMkrPI1bIA%2BOxHCjBU94GP4DA%2B6SgL%2BuGQ%3D%3D&busRouteId=100100104\n",
      "702A서오릉 70 개\n"
     ]
    }
   ],
   "source": [
    "#버스 노선을 노선목록 출력(busRouteId, Key)\n",
    "url1='http://ws.bus.go.kr/api/rest/busRouteInfo/getStaionByRoute?serviceKey='+key+'&busRouteId='+busRouteIdset[0]\n",
    "print(url1)\n",
    "savefilename=\"D:\\Bigdata\\src/2_station.xml\"\n",
    "req.urlretrieve(url1, savefilename)\n",
    "xml=open(savefilename, 'r', encoding='utf-8').read()\n",
    "soup=BeautifulSoup(xml,'xml')\n",
    "busStation=[]\n",
    "for itemList in soup.find_all('itemList'):\n",
    "    stationNm=itemList.find('stationNm').text\n",
    "    gpsX = itemList.find('gpsX').text\n",
    "    gpsY = itemList.find('gpsY').text\n",
    "    busStation.append((stationNm,gpsX,gpsY))\n",
    "print(busRouteNmset[0],len(busStation),'개')\n",
    "#print(busStation)"
   ]
  },
  {
   "cell_type": "code",
   "execution_count": 64,
   "id": "d8a1974c",
   "metadata": {
    "ExecuteTime": {
     "end_time": "2021-08-12T02:25:09.770754Z",
     "start_time": "2021-08-12T02:25:09.622038Z"
    }
   },
   "outputs": [
    {
     "name": "stdout",
     "output_type": "stream",
     "text": [
      "http://ws.bus.go.kr/api/rest/busRouteInfo/getStaionByRoute?serviceKey=kasZruwCt2RyBtjKWOKm13Izo5b2XgXKksk5FX1Btgohwl%2BDTDvemMkrPI1bIA%2BOxHCjBU94GP4DA%2B6SgL%2BuGQ%3D%3D&busRouteId=100100104\n",
      "702A서오릉 70 개\n",
      "http://ws.bus.go.kr/api/rest/busRouteInfo/getStaionByRoute?serviceKey=kasZruwCt2RyBtjKWOKm13Izo5b2XgXKksk5FX1Btgohwl%2BDTDvemMkrPI1bIA%2BOxHCjBU94GP4DA%2B6SgL%2BuGQ%3D%3D&busRouteId=100100105\n",
      "702B용두초교 72 개\n"
     ]
    }
   ],
   "source": [
    "for i in range(len(busRouteIdset)):\n",
    "    url1='http://ws.bus.go.kr/api/rest/busRouteInfo/getStaionByRoute?serviceKey='+key+'&busRouteId='+busRouteIdset[i]\n",
    "    print(url1)\n",
    "    savefilename=\"D:\\Bigdata\\src/2_station.xml\"\n",
    "    req.urlretrieve(url1, savefilename)\n",
    "    xml=open(savefilename, 'r', encoding='utf-8').read()\n",
    "    soup=BeautifulSoup(xml,'xml')\n",
    "    busStation=[]\n",
    "    for itemList in soup.find_all('itemList'):\n",
    "        stationNm=itemList.find('stationNm').text\n",
    "        gpsX = itemList.find('gpsX').text\n",
    "        gpsY = itemList.find('gpsY').text\n",
    "        busStation.append((stationNm,gpsX,gpsY))\n",
    "    print(busRouteNmset[i],len(busStation),'개')"
   ]
  },
  {
   "cell_type": "code",
   "execution_count": 62,
   "id": "c1b1ea84",
   "metadata": {
    "ExecuteTime": {
     "end_time": "2021-08-12T02:23:48.368185Z",
     "start_time": "2021-08-12T02:23:48.258028Z"
    }
   },
   "outputs": [
    {
     "name": "stdout",
     "output_type": "stream",
     "text": [
      "http://ws.bus.go.kr/api/rest/buspos/getBusPosByRtid?serviceKey=kasZruwCt2RyBtjKWOKm13Izo5b2XgXKksk5FX1Btgohwl%2BDTDvemMkrPI1bIA%2BOxHCjBU94GP4DA%2B6SgL%2BuGQ%3D%3D&busRouteId=100100104\n",
      "702A서오릉 17 대 운행중\n"
     ]
    }
   ],
   "source": [
    "#버스 위치 정보 조회 서비스(인증키, 버스id)\n",
    "key = 'kasZruwCt2RyBtjKWOKm13Izo5b2XgXKksk5FX1Btgohwl%2BDTDvemMkrPI1bIA%2BOxHCjBU94GP4DA%2B6SgL%2BuGQ%3D%3D'\n",
    "url1 = 'http://ws.bus.go.kr/api/rest/buspos/getBusPosByRtid?serviceKey='+key+'&busRouteId='+busRouteIdset[0]\n",
    "print(url1)\n",
    "savefilename='D:\\Bigdata\\src/3_busPosition.xml'\n",
    "req.urlretrieve(url1, savefilename)\n",
    "xml=open(savefilename, 'r', encoding='utf-8').read()\n",
    "soup=BeautifulSoup(xml,'xml')\n",
    "busPos=[]\n",
    "for itemList in soup.find_all('itemList'):\n",
    "    plainNo = itemList.find('plainNo').text\n",
    "    gpsX = itemList.find('gpsX').text\n",
    "    gpsY = itemList.find('gpsY').text\n",
    "    isFullFlag = itemList.find('isFullFlag').text\n",
    "    busPos.append((plainNo,gpsY,gpsX,isFullFlag))\n",
    "print(busRouteNmset[0], len(busPos),'대 운행중')\n"
   ]
  },
  {
   "cell_type": "code",
   "execution_count": null,
   "id": "65d772f2",
   "metadata": {},
   "outputs": [],
   "source": []
  }
 ],
 "metadata": {
  "kernelspec": {
   "display_name": "Python 3",
   "language": "python",
   "name": "python3"
  },
  "language_info": {
   "codemirror_mode": {
    "name": "ipython",
    "version": 3
   },
   "file_extension": ".py",
   "mimetype": "text/x-python",
   "name": "python",
   "nbconvert_exporter": "python",
   "pygments_lexer": "ipython3",
   "version": "3.8.8"
  },
  "toc": {
   "base_numbering": 1,
   "nav_menu": {},
   "number_sections": false,
   "sideBar": true,
   "skip_h1_title": false,
   "title_cell": "Table of Contents",
   "title_sidebar": "Contents",
   "toc_cell": false,
   "toc_position": {},
   "toc_section_display": true,
   "toc_window_display": true
  },
  "varInspector": {
   "cols": {
    "lenName": 16,
    "lenType": 16,
    "lenVar": 40
   },
   "kernels_config": {
    "python": {
     "delete_cmd_postfix": "",
     "delete_cmd_prefix": "del ",
     "library": "var_list.py",
     "varRefreshCmd": "print(var_dic_list())"
    },
    "r": {
     "delete_cmd_postfix": ") ",
     "delete_cmd_prefix": "rm(",
     "library": "var_list.r",
     "varRefreshCmd": "cat(var_dic_list()) "
    }
   },
   "types_to_exclude": [
    "module",
    "function",
    "builtin_function_or_method",
    "instance",
    "_Feature"
   ],
   "window_display": false
  }
 },
 "nbformat": 4,
 "nbformat_minor": 5
}
