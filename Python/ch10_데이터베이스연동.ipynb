{
 "cells": [
  {
   "cell_type": "markdown",
   "id": "9c37d548",
   "metadata": {},
   "source": [
    "# ch10. 데이터베이스 연동"
   ]
  },
  {
   "cell_type": "markdown",
   "id": "4426d492",
   "metadata": {},
   "source": [
    "## 1절. SQLite 데이터베이스연결\n",
    "\n",
    "- SQLite 데이터베이스는 별도의 DBMS 없이 SQL을 이용하여 DB 액세스할 수 있도록 만든 **간단한 디스크기반의 데이터베이스를 제공**하는 C 라이브러리\n",
    "- SQLite는 프로토타입(시제품이 나오기 전까지의 제품)을 만들때 사용. 정식 제품은 오라클이나 다른 DBMS를 이식\n",
    "- [DB browser for SQLite](http://sqlitebrowser.org/dl)"
   ]
  },
  {
   "cell_type": "markdown",
   "id": "73a7919d",
   "metadata": {},
   "source": [
    "### 1.1 SQLite browser 설치 및 sqlite3 패키지 load"
   ]
  },
  {
   "cell_type": "code",
   "execution_count": 132,
   "id": "63a1c7aa",
   "metadata": {
    "ExecuteTime": {
     "end_time": "2021-07-28T05:24:52.787905Z",
     "start_time": "2021-07-28T05:24:52.769956Z"
    }
   },
   "outputs": [
    {
     "data": {
      "text/plain": [
       "'3.35.4'"
      ]
     },
     "execution_count": 132,
     "metadata": {},
     "output_type": "execute_result"
    }
   ],
   "source": [
    "import sqlite3\n",
    "sqlite3.sqlite_version"
   ]
  },
  {
   "cell_type": "code",
   "execution_count": 133,
   "id": "3db19295",
   "metadata": {
    "ExecuteTime": {
     "end_time": "2021-07-28T05:24:53.356569Z",
     "start_time": "2021-07-28T05:24:53.337592Z"
    }
   },
   "outputs": [
    {
     "data": {
      "text/plain": [
       "'1.2.4'"
      ]
     },
     "execution_count": 133,
     "metadata": {},
     "output_type": "execute_result"
    }
   ],
   "source": [
    "import pandas as pd\n",
    "pd.__version__"
   ]
  },
  {
   "cell_type": "markdown",
   "id": "948b3ad7",
   "metadata": {},
   "source": [
    "### 1.2 데이터베이스 연결"
   ]
  },
  {
   "cell_type": "code",
   "execution_count": 134,
   "id": "3f393e1c",
   "metadata": {
    "ExecuteTime": {
     "end_time": "2021-07-28T05:24:54.637559Z",
     "start_time": "2021-07-28T05:24:54.608608Z"
    }
   },
   "outputs": [
    {
     "data": {
      "text/plain": [
       "<sqlite3.Connection at 0x1be8b61fd50>"
      ]
     },
     "execution_count": 134,
     "metadata": {},
     "output_type": "execute_result"
    }
   ],
   "source": [
    "# DB 연결 생성시, 파일이 없으면 그 파일 연결. 파일이 없으면 빈 파일을 생성\n",
    "conn=sqlite3.connect('data/ch10_example.db')\n",
    "conn"
   ]
  },
  {
   "cell_type": "code",
   "execution_count": 135,
   "id": "51f5a04c",
   "metadata": {
    "ExecuteTime": {
     "end_time": "2021-07-28T05:24:55.080012Z",
     "start_time": "2021-07-28T05:24:55.065032Z"
    }
   },
   "outputs": [
    {
     "data": {
      "text/plain": [
       "<sqlite3.Cursor at 0x1be91624dc0>"
      ]
     },
     "execution_count": 135,
     "metadata": {},
     "output_type": "execute_result"
    }
   ],
   "source": [
    "#커서 객체 반환. 커서는 SQL문 실행시키고 결과데이터(SELECT)를 조회하는데 사용하는 객체\n",
    "cursor = conn.cursor()\n",
    "cursor"
   ]
  },
  {
   "cell_type": "code",
   "execution_count": 136,
   "id": "90b0b49c",
   "metadata": {
    "ExecuteTime": {
     "end_time": "2021-07-28T05:24:57.102963Z",
     "start_time": "2021-07-28T05:24:57.080009Z"
    }
   },
   "outputs": [
    {
     "ename": "OperationalError",
     "evalue": "table MEMBER already exists",
     "output_type": "error",
     "traceback": [
      "\u001b[1;31m---------------------------------------------------------------------------\u001b[0m",
      "\u001b[1;31mOperationalError\u001b[0m                          Traceback (most recent call last)",
      "\u001b[1;32m<ipython-input-136-655d80e443c7>\u001b[0m in \u001b[0;36m<module>\u001b[1;34m\u001b[0m\n\u001b[1;32m----> 1\u001b[1;33m cursor.execute(\"\"\"\n\u001b[0m\u001b[0;32m      2\u001b[0m     CREATE TABLE MEMBER(\n\u001b[0;32m      3\u001b[0m         \u001b[0mNAME\u001b[0m \u001b[0mTEXT\u001b[0m\u001b[1;33m,\u001b[0m\u001b[1;33m\u001b[0m\u001b[1;33m\u001b[0m\u001b[0m\n\u001b[0;32m      4\u001b[0m         \u001b[0mAGE\u001b[0m \u001b[0mINT\u001b[0m\u001b[1;33m,\u001b[0m\u001b[1;33m\u001b[0m\u001b[1;33m\u001b[0m\u001b[0m\n\u001b[0;32m      5\u001b[0m         \u001b[0mEMAIL\u001b[0m \u001b[0mTEXT\u001b[0m\u001b[1;33m\u001b[0m\u001b[1;33m\u001b[0m\u001b[0m\n",
      "\u001b[1;31mOperationalError\u001b[0m: table MEMBER already exists"
     ]
    }
   ],
   "source": [
    "cursor.execute(\"\"\"\n",
    "    CREATE TABLE MEMBER(\n",
    "        NAME TEXT,\n",
    "        AGE INT,\n",
    "        EMAIL TEXT\n",
    "    )\n",
    "\"\"\")"
   ]
  },
  {
   "cell_type": "code",
   "execution_count": 137,
   "id": "d904670b",
   "metadata": {
    "ExecuteTime": {
     "end_time": "2021-07-28T05:25:03.267992Z",
     "start_time": "2021-07-28T05:25:03.059219Z"
    }
   },
   "outputs": [
    {
     "data": {
      "text/plain": [
       "<sqlite3.Cursor at 0x1be91624dc0>"
      ]
     },
     "execution_count": 137,
     "metadata": {},
     "output_type": "execute_result"
    }
   ],
   "source": [
    "cursor.execute(\"\"\"\n",
    "    DROP TABLE MEMBER\n",
    "\"\"\")"
   ]
  },
  {
   "cell_type": "code",
   "execution_count": 138,
   "id": "213e6e18",
   "metadata": {
    "ExecuteTime": {
     "end_time": "2021-07-28T05:25:04.126469Z",
     "start_time": "2021-07-28T05:25:03.932160Z"
    }
   },
   "outputs": [
    {
     "data": {
      "text/plain": [
       "<sqlite3.Cursor at 0x1be91624dc0>"
      ]
     },
     "execution_count": 138,
     "metadata": {},
     "output_type": "execute_result"
    }
   ],
   "source": [
    "cursor.execute(\"\"\"\n",
    "    CREATE TABLE MEMBER(\n",
    "        NAME TEXT,\n",
    "        AGE INT,\n",
    "        EMAIL TEXT\n",
    "    )\n",
    "\"\"\")"
   ]
  },
  {
   "cell_type": "code",
   "execution_count": 139,
   "id": "04f54c31",
   "metadata": {
    "ExecuteTime": {
     "end_time": "2021-07-28T05:25:04.935348Z",
     "start_time": "2021-07-28T05:25:04.751420Z"
    }
   },
   "outputs": [],
   "source": [
    "cursor.execute(\"INSERT INTO MEMBER VALUES ('홍길동', 20 , 'H@H.COM')\")\n",
    "cursor.execute(\"INSERT INTO MEMBER VALUES (\\'홍길동\\', 20 , \\'H@H.COM\\')\")\n",
    "cursor.execute(\"INSERT INTO MEMBER VALUES ('홍길동', 20 , 'H@H.COM')\")\n",
    "conn.commit() # 反 conn.rollback() #DML에서만 사용"
   ]
  },
  {
   "cell_type": "code",
   "execution_count": 140,
   "id": "1719a907",
   "metadata": {
    "ExecuteTime": {
     "end_time": "2021-07-28T05:25:05.484194Z",
     "start_time": "2021-07-28T05:25:05.477217Z"
    }
   },
   "outputs": [],
   "source": [
    "cursor.arraysize\n",
    "conn.rollback()"
   ]
  },
  {
   "cell_type": "code",
   "execution_count": 141,
   "id": "cb0908f5",
   "metadata": {
    "ExecuteTime": {
     "end_time": "2021-07-28T05:25:06.599767Z",
     "start_time": "2021-07-28T05:25:06.582788Z"
    }
   },
   "outputs": [
    {
     "data": {
      "text/plain": [
       "<sqlite3.Cursor at 0x1be91624dc0>"
      ]
     },
     "execution_count": 141,
     "metadata": {},
     "output_type": "execute_result"
    }
   ],
   "source": [
    "# select 실행결과는 cursor가 가리킴\n",
    "cursor.execute('SELECT * FROM MEMBER')"
   ]
  },
  {
   "cell_type": "code",
   "execution_count": 142,
   "id": "8784b115",
   "metadata": {
    "ExecuteTime": {
     "end_time": "2021-07-28T05:25:07.523655Z",
     "start_time": "2021-07-28T05:25:07.505706Z"
    }
   },
   "outputs": [
    {
     "data": {
      "text/plain": [
       "1"
      ]
     },
     "execution_count": 142,
     "metadata": {},
     "output_type": "execute_result"
    }
   ],
   "source": [
    "cursor.arraysize"
   ]
  },
  {
   "cell_type": "code",
   "execution_count": 143,
   "id": "ad8a97c1",
   "metadata": {
    "ExecuteTime": {
     "end_time": "2021-07-28T05:25:09.008883Z",
     "start_time": "2021-07-28T05:25:08.993909Z"
    }
   },
   "outputs": [
    {
     "name": "stdout",
     "output_type": "stream",
     "text": [
      "[('홍길동', 20, 'H@H.COM'), ('홍길동', 20, 'H@H.COM'), ('홍길동', 20, 'H@H.COM')]\n"
     ]
    }
   ],
   "source": [
    "# select 문의 결과를 받는 함수\n",
    "## fetchall() - 결과를 모두 받을 때(튜플 list)\n",
    "## fetchone() - 결과를 한행씩 받을 때(튜플)\n",
    "## fetchmany(n) - 결과를 n행 받을 때\n",
    "print(cursor.fetchall()) #한번 소요된 cursor객체는 다시 fetch할 수 없음."
   ]
  },
  {
   "cell_type": "code",
   "execution_count": 144,
   "id": "a3b324dc",
   "metadata": {
    "ExecuteTime": {
     "end_time": "2021-07-28T05:25:13.635260Z",
     "start_time": "2021-07-28T05:25:13.629254Z"
    }
   },
   "outputs": [],
   "source": [
    "#그래서 변수로 담아 놓음\n",
    "cursor.execute('SELECT * FROM MEMBER')\n",
    "members = cursor.fetchall()"
   ]
  },
  {
   "cell_type": "code",
   "execution_count": 145,
   "id": "0135606a",
   "metadata": {
    "ExecuteTime": {
     "end_time": "2021-07-28T05:25:14.474819Z",
     "start_time": "2021-07-28T05:25:14.466848Z"
    }
   },
   "outputs": [
    {
     "name": "stdout",
     "output_type": "stream",
     "text": [
      "('홍길동', 20, 'H@H.COM')\n",
      "('홍길동', 20, 'H@H.COM')\n",
      "('홍길동', 20, 'H@H.COM')\n"
     ]
    }
   ],
   "source": [
    "for member in members:\n",
    "    print(member)"
   ]
  },
  {
   "cell_type": "code",
   "execution_count": 146,
   "id": "dc54a39f",
   "metadata": {
    "ExecuteTime": {
     "end_time": "2021-07-28T05:25:15.070590Z",
     "start_time": "2021-07-28T05:25:15.064606Z"
    }
   },
   "outputs": [
    {
     "name": "stdout",
     "output_type": "stream",
     "text": [
      "[{'name': '홍길동', 'age': 20, 'email': 'H@H.COM'}, {'name': '홍길동', 'age': 20, 'email': 'H@H.COM'}, {'name': '홍길동', 'age': 20, 'email': 'H@H.COM'}]\n"
     ]
    }
   ],
   "source": [
    "cursor.execute('SELECT * FROM MEMBER')\n",
    "member_list=[]\n",
    "while True:\n",
    "    member = cursor.fetchone()\n",
    "    if member is None:\n",
    "        break\n",
    "    member_list.append({'name':member[0],'age':member[1],'email':member[2]})\n",
    "print(member_list)"
   ]
  },
  {
   "cell_type": "code",
   "execution_count": 147,
   "id": "d2cf7e2c",
   "metadata": {
    "ExecuteTime": {
     "end_time": "2021-07-28T05:25:15.667463Z",
     "start_time": "2021-07-28T05:25:15.661457Z"
    }
   },
   "outputs": [
    {
     "name": "stdout",
     "output_type": "stream",
     "text": [
      "('홍길동', 20, 'H@H.COM')\n",
      "('홍길동', 20, 'H@H.COM')\n"
     ]
    }
   ],
   "source": [
    "cursor.execute('SELECT * FROM MEMBER ORDER BY AGE DESC')\n",
    "for member in cursor.fetchmany(2):\n",
    "    print(member)"
   ]
  },
  {
   "cell_type": "code",
   "execution_count": 148,
   "id": "7acd8e6d",
   "metadata": {
    "ExecuteTime": {
     "end_time": "2021-07-28T05:25:16.559224Z",
     "start_time": "2021-07-28T05:25:16.542245Z"
    }
   },
   "outputs": [
    {
     "name": "stdout",
     "output_type": "stream",
     "text": [
      "[('홍길동', 20, 'H@H.COM')]\n"
     ]
    }
   ],
   "source": [
    "print(cursor.fetchmany(size=cursor.arraysize))"
   ]
  },
  {
   "cell_type": "code",
   "execution_count": 149,
   "id": "28c78e7c",
   "metadata": {
    "ExecuteTime": {
     "end_time": "2021-07-28T05:25:17.331196Z",
     "start_time": "2021-07-28T05:25:17.324236Z"
    }
   },
   "outputs": [],
   "source": [
    "cursor.close() #cursor.close는 생략 가능\n",
    "conn.close()"
   ]
  },
  {
   "cell_type": "markdown",
   "id": "39a08bb9",
   "metadata": {},
   "source": [
    "### 1.3 SQL 구문에 파라미터 사용하기\n",
    "- qmark, named(추천) 방법"
   ]
  },
  {
   "cell_type": "code",
   "execution_count": 150,
   "id": "40812202",
   "metadata": {
    "ExecuteTime": {
     "end_time": "2021-07-28T05:25:18.647938Z",
     "start_time": "2021-07-28T05:25:18.623005Z"
    }
   },
   "outputs": [
    {
     "data": {
      "text/plain": [
       "[('홍길동', 20, 'H@H.COM'), ('홍길동', 20, 'H@H.COM'), ('홍길동', 20, 'H@H.COM')]"
      ]
     },
     "execution_count": 150,
     "metadata": {},
     "output_type": "execute_result"
    }
   ],
   "source": [
    "\n",
    "conn = sqlite3.connect('data/ch10_example.db')\n",
    "cursor=conn.cursor()\n",
    "cursor.execute('SELECT * FROM MEMBER')\n",
    "cursor.fetchmany(size=6)"
   ]
  },
  {
   "cell_type": "code",
   "execution_count": 152,
   "id": "a65947d5",
   "metadata": {
    "ExecuteTime": {
     "end_time": "2021-07-28T05:25:31.667545Z",
     "start_time": "2021-07-28T05:25:27.431775Z"
    }
   },
   "outputs": [
    {
     "name": "stdout",
     "output_type": "stream",
     "text": [
      "검색할 이름1:ㅁ\n",
      "검색할 이름2:ㅁ\n",
      "[]\n",
      "[]\n"
     ]
    }
   ],
   "source": [
    "#파라미터 사용하기 : qmark 방법 이용\n",
    "name1=input(\"검색할 이름1:\")\n",
    "name2=input(\"검색할 이름2:\")\n",
    "names=[name1, name2] #튜플이나 리스트형 변수\n",
    "cursor.execute('SELECT * FROM MEMBER WHERE NAME IN (?,?)',(name1,name2))\n",
    "print(cursor.fetchall())\n",
    "cursor.execute('SELECT * FROM MEMBER WHERE NAME IN (?,?)',names)\n",
    "print(cursor.fetchall())"
   ]
  },
  {
   "cell_type": "code",
   "execution_count": 153,
   "id": "ee9f217a",
   "metadata": {
    "ExecuteTime": {
     "end_time": "2021-07-28T05:25:39.315768Z",
     "start_time": "2021-07-28T05:25:34.450295Z"
    }
   },
   "outputs": [
    {
     "name": "stdout",
     "output_type": "stream",
     "text": [
      "검색할 이름은 : 홍길동\n"
     ]
    }
   ],
   "source": [
    "# 파라미터 사용하기 : named 방법 이용\n",
    "name1 = input('검색할 이름은 : ')\n",
    "cursor.execute('SELECT * FROM MEMBER WHERE NAME = :name',{'name':name1} )\n",
    "members_list=cursor.fetchall()"
   ]
  },
  {
   "cell_type": "code",
   "execution_count": 89,
   "id": "6ce9667a",
   "metadata": {
    "ExecuteTime": {
     "end_time": "2021-07-28T02:37:26.292778Z",
     "start_time": "2021-07-28T02:37:11.686122Z"
    }
   },
   "outputs": [
    {
     "name": "stdout",
     "output_type": "stream",
     "text": [
      "이름 : 무무\n",
      "나이 : ㅂ\n",
      "유효x\n",
      "이메일 : H@.com\n"
     ]
    }
   ],
   "source": [
    "#member 테이블에 입력(사용자로부터 이름, 나이, 메일을 입력받아 DB에 insert하는 프로그램 수행)\n",
    "try:    \n",
    "    name=input('이름 : ')\n",
    "    age=int(input('나이 : '))\n",
    "    email=input('이메일 : ')\n",
    "except:\n",
    "    print(\"유효x\")\n",
    "    age=10\n",
    "    email=input('이메일 : ')\n",
    "data={'name':name,'age':age,'email':email}\n",
    "cursor.execute('INSERT INTO MEMBER VALUES (:name, :age, :email)',data)\n",
    "conn.commit()"
   ]
  },
  {
   "cell_type": "code",
   "execution_count": 93,
   "id": "5ed5263e",
   "metadata": {
    "ExecuteTime": {
     "end_time": "2021-07-28T02:45:26.324922Z",
     "start_time": "2021-07-28T02:45:26.304956Z"
    }
   },
   "outputs": [
    {
     "data": {
      "text/plain": [
       "[('홍길동', 20, 'H@H.COM'),\n",
       " ('홍길동', 20, 'H@H.COM'),\n",
       " ('홍길동', 20, 'H@H.COM'),\n",
       " ('홍길동', 20, 'H@H.COM'),\n",
       " ('홍길동', 20, 'H@H.COM'),\n",
       " ('홍길동', 20, 'H@H.COM'),\n",
       " ('k', 33, 'd'),\n",
       " ('홍길동', 20, 'H@H.COM'),\n",
       " ('홍길동', 20, 'H@H.COM'),\n",
       " ('이길동', 21, 'H@H.com'),\n",
       " ('무무', 10, 'H@.com'),\n",
       " ('홍길동', 20, 'A@A.com')]"
      ]
     },
     "execution_count": 93,
     "metadata": {},
     "output_type": "execute_result"
    }
   ],
   "source": [
    "cursor.execute('SELECT * FROM MEMBER')\n",
    "cursor.fetchall()"
   ]
  },
  {
   "cell_type": "code",
   "execution_count": 78,
   "id": "b06c05ac",
   "metadata": {
    "ExecuteTime": {
     "end_time": "2021-07-28T02:24:24.618691Z",
     "start_time": "2021-07-28T02:24:24.606745Z"
    }
   },
   "outputs": [
    {
     "data": {
      "text/plain": [
       "[('홍길동', 20, 'H@H.COM'),\n",
       " ('홍길동', 20, 'H@H.COM'),\n",
       " ('홍길동', 20, 'H@H.COM'),\n",
       " ('홍길동', 20, 'H@H.COM'),\n",
       " ('홍길동', 20, 'H@H.COM'),\n",
       " ('홍길동', 20, 'H@H.COM')]"
      ]
     },
     "execution_count": 78,
     "metadata": {},
     "output_type": "execute_result"
    }
   ],
   "source": [
    "members"
   ]
  },
  {
   "cell_type": "code",
   "execution_count": 91,
   "id": "a77a927c",
   "metadata": {
    "ExecuteTime": {
     "end_time": "2021-07-28T02:38:58.323714Z",
     "start_time": "2021-07-28T02:38:58.316712Z"
    }
   },
   "outputs": [
    {
     "data": {
      "text/plain": [
       "[{'name': '홍길동', 'age': 20, 'email': 'H@H.COM'},\n",
       " {'name': '홍길동', 'age': 20, 'email': 'H@H.COM'},\n",
       " {'name': '홍길동', 'age': 20, 'email': 'H@H.COM'},\n",
       " {'name': '홍길동', 'age': 20, 'email': 'H@H.COM'},\n",
       " {'name': '홍길동', 'age': 20, 'email': 'H@H.COM'},\n",
       " {'name': '홍길동', 'age': 20, 'email': 'H@H.COM'}]"
      ]
     },
     "execution_count": 91,
     "metadata": {},
     "output_type": "execute_result"
    }
   ],
   "source": [
    "member_list"
   ]
  },
  {
   "cell_type": "code",
   "execution_count": 162,
   "id": "814b5532",
   "metadata": {
    "ExecuteTime": {
     "end_time": "2021-07-28T05:27:00.104261Z",
     "start_time": "2021-07-28T05:26:58.380203Z"
    }
   },
   "outputs": [
    {
     "name": "stdout",
     "output_type": "stream",
     "text": [
      "이름 : 3\n",
      "나이 : 3\n",
      "이메일 : 3\n"
     ]
    }
   ],
   "source": [
    "class User:\n",
    "    \"이름, 나이, 메일이 있는 class\"\n",
    "    def __init__(self, name, age, email):\n",
    "        self.name=name\n",
    "        self.age=age\n",
    "        self.email=email\n",
    "    def __str__(self):\n",
    "        return \"{:4} {:3} {}\".format(self.name, self.age, self.email)\n",
    "    def as_dict(self):\n",
    "        return {'name':self.name, 'age':self.age, 'email':email}\n",
    "name = input('이름 : ')\n",
    "age = int(input('나이 : '))\n",
    "email = input('이메일 : ')\n",
    "user=User(name,age,email)\n",
    "cursor.execute(\"INSERT INTO MEMBER VALUES (:name, :age, :email)\", user.as_dict())\n",
    "conn.commit()"
   ]
  },
  {
   "cell_type": "code",
   "execution_count": 97,
   "id": "0e627390",
   "metadata": {
    "ExecuteTime": {
     "end_time": "2021-07-28T02:57:22.478953Z",
     "start_time": "2021-07-28T02:57:22.461998Z"
    }
   },
   "outputs": [],
   "source": [
    "cursor.close()\n",
    "conn.close()"
   ]
  },
  {
   "cell_type": "code",
   "execution_count": 82,
   "id": "86f5d8b1",
   "metadata": {
    "ExecuteTime": {
     "end_time": "2021-07-28T02:26:19.105062Z",
     "start_time": "2021-07-28T02:26:19.098064Z"
    }
   },
   "outputs": [],
   "source": [
    "import csv\n",
    "try:\n",
    "    with open(\"data/ch10_ex.csv\",\"w\", encoding=\"utf-8\", newline=\"\") as f:\n",
    "        dict_writer = csv.DictWriter(f, fieldnames=['name','age','email'], quoting=csv.QUOTE_NONNUMERIC)\n",
    "        dict_writer.writeheader()\n",
    "        dict_writer.writerows(member_list)\n",
    "except FileNotFoundError as e:\n",
    "    print(e)"
   ]
  },
  {
   "cell_type": "code",
   "execution_count": 80,
   "id": "f98ffe21",
   "metadata": {
    "ExecuteTime": {
     "end_time": "2021-07-28T02:25:50.297394Z",
     "start_time": "2021-07-28T02:25:50.282458Z"
    }
   },
   "outputs": [],
   "source": [
    "with open('data/ch10_ex.csv','w', encoding=\"utf-8\", newline=\"\") as f:\n",
    "    writer = csv.writer(f, quoting=csv.QUOTE_NONNUMERIC)\n",
    "    writer.writerows(members)\n",
    "    "
   ]
  },
  {
   "cell_type": "markdown",
   "id": "1f660d6a",
   "metadata": {},
   "source": [
    "## 2절. 오라클 데이터베이스 연결"
   ]
  },
  {
   "cell_type": "code",
   "execution_count": 98,
   "id": "8df57d89",
   "metadata": {
    "ExecuteTime": {
     "end_time": "2021-07-28T03:19:01.131774Z",
     "start_time": "2021-07-28T03:19:01.118801Z"
    }
   },
   "outputs": [],
   "source": [
    "#colap같은것은  ! pip install cx_Oracle # ! <-- 이거 쓰면 cmd명령어사용가능"
   ]
  },
  {
   "cell_type": "code",
   "execution_count": 99,
   "id": "45758dcd",
   "metadata": {
    "ExecuteTime": {
     "end_time": "2021-07-28T03:20:51.517700Z",
     "start_time": "2021-07-28T03:20:51.497775Z"
    }
   },
   "outputs": [
    {
     "data": {
      "text/plain": [
       "'(DESCRIPTION=(ADDRESS=(PROTOCOL=TCP)(HOST=localhost)(PORT=1521))(CONNECT_DATA=(SID=xe)))'"
      ]
     },
     "execution_count": 99,
     "metadata": {},
     "output_type": "execute_result"
    }
   ],
   "source": [
    "import cx_Oracle\n",
    "oracle_dsn= cx_Oracle.makedsn(host=\"localhost\", port=1521, sid=\"xe\")\n",
    "oracle_dsn"
   ]
  },
  {
   "cell_type": "code",
   "execution_count": 111,
   "id": "585f3ee4",
   "metadata": {
    "ExecuteTime": {
     "end_time": "2021-07-28T04:03:30.040546Z",
     "start_time": "2021-07-28T04:03:30.007656Z"
    }
   },
   "outputs": [
    {
     "data": {
      "text/plain": [
       "<cx_Oracle.Connection to scott@(DESCRIPTION=(ADDRESS=(PROTOCOL=TCP)(HOST=localhost)(PORT=1521))(CONNECT_DATA=(SID=xe)))>"
      ]
     },
     "execution_count": 111,
     "metadata": {},
     "output_type": "execute_result"
    }
   ],
   "source": [
    "# conn 얻어오는 방법 1\n",
    "conn=cx_Oracle.connect(user=\"scott\",password=\"tiger\", dsn=oracle_dsn)\n",
    "conn\n",
    "#여기서 에러날 시에 VX_redist.x64.exe 인스톨"
   ]
  },
  {
   "cell_type": "code",
   "execution_count": 108,
   "id": "270c4306",
   "metadata": {
    "ExecuteTime": {
     "end_time": "2021-07-28T03:49:00.604928Z",
     "start_time": "2021-07-28T03:49:00.443372Z"
    }
   },
   "outputs": [
    {
     "data": {
      "text/plain": [
       "<cx_Oracle.Connection to scott@localhost:1521/xe>"
      ]
     },
     "execution_count": 108,
     "metadata": {},
     "output_type": "execute_result"
    }
   ],
   "source": [
    "# conn 얻어오는 방법 2\n",
    "conn=cx_Oracle.connect(\"scott\",\"tiger\",\"localhost:1521/xe\")\n",
    "conn"
   ]
  },
  {
   "cell_type": "code",
   "execution_count": 112,
   "id": "140c5992",
   "metadata": {
    "ExecuteTime": {
     "end_time": "2021-07-28T04:03:33.078743Z",
     "start_time": "2021-07-28T04:03:33.062759Z"
    }
   },
   "outputs": [],
   "source": [
    "# cursor 얻어오기\n",
    "cursor=conn.cursor()"
   ]
  },
  {
   "cell_type": "code",
   "execution_count": 114,
   "id": "5f11fbce",
   "metadata": {
    "ExecuteTime": {
     "end_time": "2021-07-28T04:03:42.259683Z",
     "start_time": "2021-07-28T04:03:42.245721Z"
    }
   },
   "outputs": [],
   "source": [
    "emps=cursor.execute(\"SELECT * FROM EMP\")"
   ]
  },
  {
   "cell_type": "code",
   "execution_count": 115,
   "id": "2a40632a",
   "metadata": {
    "ExecuteTime": {
     "end_time": "2021-07-28T04:03:42.512178Z",
     "start_time": "2021-07-28T04:03:42.505171Z"
    }
   },
   "outputs": [
    {
     "name": "stdout",
     "output_type": "stream",
     "text": [
      "(7369, 'SMITH', 'CLERK', 7902, datetime.datetime(1980, 12, 17, 0, 0), 800.0, None, 20)\n",
      "(7499, 'ALLEN', 'SALESMAN', 7698, datetime.datetime(1981, 2, 20, 0, 0), 1600.0, 300.0, 30)\n",
      "(7521, 'WARD', 'SALESMAN', 7698, datetime.datetime(1981, 2, 22, 0, 0), 1250.0, 500.0, 30)\n",
      "(7566, 'JONES', 'MANAGER', 7839, datetime.datetime(1981, 4, 2, 0, 0), 2975.0, None, 20)\n",
      "(7654, 'MARTIN', 'SALESMAN', 7698, datetime.datetime(1981, 9, 28, 0, 0), 1250.0, 1400.0, 30)\n",
      "(7698, 'BLAKE', 'MANAGER', 7839, datetime.datetime(1981, 5, 1, 0, 0), 2850.0, None, 30)\n",
      "(7782, 'CLARK', 'MANAGER', 7839, datetime.datetime(1981, 6, 9, 0, 0), 2450.0, None, 10)\n",
      "(7788, 'SCOTT', 'ANALYST', 7566, datetime.datetime(1982, 12, 9, 0, 0), 3000.0, None, 20)\n",
      "(7839, 'KING', 'PRESIDENT', None, datetime.datetime(1981, 11, 17, 0, 0), 5000.0, None, 10)\n",
      "(7844, 'TURNER', 'SALESMAN', 7698, datetime.datetime(1981, 9, 8, 0, 0), 1500.0, 0.0, 30)\n",
      "(7876, 'ADAMS', 'CLERK', 7788, datetime.datetime(1983, 1, 12, 0, 0), 1100.0, None, 20)\n",
      "(7900, 'JAMES', 'CLERK', 7698, datetime.datetime(1981, 12, 3, 0, 0), 950.0, None, 30)\n",
      "(7902, 'FORD', 'ANALYST', 7566, datetime.datetime(1981, 12, 3, 0, 0), 3000.0, None, 20)\n",
      "(7934, 'MILLER', 'CLERK', 7782, datetime.datetime(1982, 1, 23, 0, 0), 1300.0, None, 10)\n"
     ]
    }
   ],
   "source": [
    "for emp in emps:\n",
    "    print(emp)"
   ]
  },
  {
   "cell_type": "code",
   "execution_count": 116,
   "id": "134c04b9",
   "metadata": {
    "ExecuteTime": {
     "end_time": "2021-07-28T04:06:42.245489Z",
     "start_time": "2021-07-28T04:06:36.588956Z"
    }
   },
   "outputs": [
    {
     "name": "stdout",
     "output_type": "stream",
     "text": [
      "검색할 이름 : SMITH\n",
      "(7369, 'SMITH', 'CLERK', 7902, datetime.datetime(1980, 12, 17, 0, 0), 800.0, None, 20)\n"
     ]
    }
   ],
   "source": [
    "sql = \"SELECT * FROM EMP WHERE ENAME=:ename\"\n",
    "ename=input(\"검색할 이름 : \")\n",
    "cursor.execute(sql,{'ename':ename})\n",
    "emp=cursor.fetchall()\n",
    "if len(emp)==0:\n",
    "    print('입력하신 이름의 데이터는 없습ㄴ디ㅏ.')\n",
    "else:\n",
    "    for e in emp:\n",
    "        print(e)"
   ]
  },
  {
   "cell_type": "code",
   "execution_count": 119,
   "id": "715dc20c",
   "metadata": {
    "ExecuteTime": {
     "end_time": "2021-07-28T04:12:47.491123Z",
     "start_time": "2021-07-28T04:12:47.476144Z"
    }
   },
   "outputs": [
    {
     "data": {
      "text/plain": [
       "[('EMPNO', <cx_Oracle.DbType DB_TYPE_NUMBER>, 5, None, 4, 0, 0),\n",
       " ('ENAME', <cx_Oracle.DbType DB_TYPE_VARCHAR>, 10, 10, None, None, 1),\n",
       " ('JOB', <cx_Oracle.DbType DB_TYPE_VARCHAR>, 9, 9, None, None, 1),\n",
       " ('MGR', <cx_Oracle.DbType DB_TYPE_NUMBER>, 5, None, 4, 0, 1),\n",
       " ('HIREDATE', <cx_Oracle.DbType DB_TYPE_DATE>, 23, None, None, None, 1),\n",
       " ('SAL', <cx_Oracle.DbType DB_TYPE_NUMBER>, 11, None, 7, 2, 1),\n",
       " ('COMM', <cx_Oracle.DbType DB_TYPE_NUMBER>, 11, None, 7, 2, 1),\n",
       " ('DEPTNO', <cx_Oracle.DbType DB_TYPE_NUMBER>, 3, None, 2, 0, 1)]"
      ]
     },
     "execution_count": 119,
     "metadata": {},
     "output_type": "execute_result"
    }
   ],
   "source": [
    "cursor.description"
   ]
  },
  {
   "cell_type": "code",
   "execution_count": 121,
   "id": "5f015a91",
   "metadata": {
    "ExecuteTime": {
     "end_time": "2021-07-28T04:15:32.882134Z",
     "start_time": "2021-07-28T04:15:32.863158Z"
    }
   },
   "outputs": [
    {
     "data": {
      "text/plain": [
       "['EMPNO', 'ENAME', 'JOB', 'MGR', 'HIREDATE', 'SAL', 'COMM', 'DEPTNO']"
      ]
     },
     "execution_count": 121,
     "metadata": {},
     "output_type": "execute_result"
    }
   ],
   "source": [
    "[row[0] for row in cursor.description]"
   ]
  },
  {
   "cell_type": "code",
   "execution_count": 125,
   "id": "ec072de1",
   "metadata": {
    "ExecuteTime": {
     "end_time": "2021-07-28T04:17:30.643822Z",
     "start_time": "2021-07-28T04:17:30.635844Z"
    }
   },
   "outputs": [
    {
     "data": {
      "text/plain": [
       "RangeIndex(start=0, stop=8, step=1)"
      ]
     },
     "execution_count": 125,
     "metadata": {},
     "output_type": "execute_result"
    }
   ],
   "source": [
    "data_df.columns"
   ]
  },
  {
   "cell_type": "code",
   "execution_count": 126,
   "id": "6d1f6c61",
   "metadata": {
    "ExecuteTime": {
     "end_time": "2021-07-28T04:17:41.977274Z",
     "start_time": "2021-07-28T04:17:41.954336Z"
    }
   },
   "outputs": [
    {
     "data": {
      "text/html": [
       "<div>\n",
       "<style scoped>\n",
       "    .dataframe tbody tr th:only-of-type {\n",
       "        vertical-align: middle;\n",
       "    }\n",
       "\n",
       "    .dataframe tbody tr th {\n",
       "        vertical-align: top;\n",
       "    }\n",
       "\n",
       "    .dataframe thead th {\n",
       "        text-align: right;\n",
       "    }\n",
       "</style>\n",
       "<table border=\"1\" class=\"dataframe\">\n",
       "  <thead>\n",
       "    <tr style=\"text-align: right;\">\n",
       "      <th></th>\n",
       "      <th>EMPNO</th>\n",
       "      <th>ENAME</th>\n",
       "      <th>JOB</th>\n",
       "      <th>MGR</th>\n",
       "      <th>HIREDATE</th>\n",
       "      <th>SAL</th>\n",
       "      <th>COMM</th>\n",
       "      <th>DEPTNO</th>\n",
       "    </tr>\n",
       "  </thead>\n",
       "  <tbody>\n",
       "    <tr>\n",
       "      <th>0</th>\n",
       "      <td>7369</td>\n",
       "      <td>SMITH</td>\n",
       "      <td>CLERK</td>\n",
       "      <td>7902.0</td>\n",
       "      <td>1980-12-17</td>\n",
       "      <td>800.0</td>\n",
       "      <td>NaN</td>\n",
       "      <td>20</td>\n",
       "    </tr>\n",
       "    <tr>\n",
       "      <th>1</th>\n",
       "      <td>7499</td>\n",
       "      <td>ALLEN</td>\n",
       "      <td>SALESMAN</td>\n",
       "      <td>7698.0</td>\n",
       "      <td>1981-02-20</td>\n",
       "      <td>1600.0</td>\n",
       "      <td>300.0</td>\n",
       "      <td>30</td>\n",
       "    </tr>\n",
       "    <tr>\n",
       "      <th>2</th>\n",
       "      <td>7521</td>\n",
       "      <td>WARD</td>\n",
       "      <td>SALESMAN</td>\n",
       "      <td>7698.0</td>\n",
       "      <td>1981-02-22</td>\n",
       "      <td>1250.0</td>\n",
       "      <td>500.0</td>\n",
       "      <td>30</td>\n",
       "    </tr>\n",
       "    <tr>\n",
       "      <th>3</th>\n",
       "      <td>7566</td>\n",
       "      <td>JONES</td>\n",
       "      <td>MANAGER</td>\n",
       "      <td>7839.0</td>\n",
       "      <td>1981-04-02</td>\n",
       "      <td>2975.0</td>\n",
       "      <td>NaN</td>\n",
       "      <td>20</td>\n",
       "    </tr>\n",
       "    <tr>\n",
       "      <th>4</th>\n",
       "      <td>7654</td>\n",
       "      <td>MARTIN</td>\n",
       "      <td>SALESMAN</td>\n",
       "      <td>7698.0</td>\n",
       "      <td>1981-09-28</td>\n",
       "      <td>1250.0</td>\n",
       "      <td>1400.0</td>\n",
       "      <td>30</td>\n",
       "    </tr>\n",
       "    <tr>\n",
       "      <th>5</th>\n",
       "      <td>7698</td>\n",
       "      <td>BLAKE</td>\n",
       "      <td>MANAGER</td>\n",
       "      <td>7839.0</td>\n",
       "      <td>1981-05-01</td>\n",
       "      <td>2850.0</td>\n",
       "      <td>NaN</td>\n",
       "      <td>30</td>\n",
       "    </tr>\n",
       "    <tr>\n",
       "      <th>6</th>\n",
       "      <td>7782</td>\n",
       "      <td>CLARK</td>\n",
       "      <td>MANAGER</td>\n",
       "      <td>7839.0</td>\n",
       "      <td>1981-06-09</td>\n",
       "      <td>2450.0</td>\n",
       "      <td>NaN</td>\n",
       "      <td>10</td>\n",
       "    </tr>\n",
       "    <tr>\n",
       "      <th>7</th>\n",
       "      <td>7788</td>\n",
       "      <td>SCOTT</td>\n",
       "      <td>ANALYST</td>\n",
       "      <td>7566.0</td>\n",
       "      <td>1982-12-09</td>\n",
       "      <td>3000.0</td>\n",
       "      <td>NaN</td>\n",
       "      <td>20</td>\n",
       "    </tr>\n",
       "    <tr>\n",
       "      <th>8</th>\n",
       "      <td>7839</td>\n",
       "      <td>KING</td>\n",
       "      <td>PRESIDENT</td>\n",
       "      <td>NaN</td>\n",
       "      <td>1981-11-17</td>\n",
       "      <td>5000.0</td>\n",
       "      <td>NaN</td>\n",
       "      <td>10</td>\n",
       "    </tr>\n",
       "    <tr>\n",
       "      <th>9</th>\n",
       "      <td>7844</td>\n",
       "      <td>TURNER</td>\n",
       "      <td>SALESMAN</td>\n",
       "      <td>7698.0</td>\n",
       "      <td>1981-09-08</td>\n",
       "      <td>1500.0</td>\n",
       "      <td>0.0</td>\n",
       "      <td>30</td>\n",
       "    </tr>\n",
       "    <tr>\n",
       "      <th>10</th>\n",
       "      <td>7876</td>\n",
       "      <td>ADAMS</td>\n",
       "      <td>CLERK</td>\n",
       "      <td>7788.0</td>\n",
       "      <td>1983-01-12</td>\n",
       "      <td>1100.0</td>\n",
       "      <td>NaN</td>\n",
       "      <td>20</td>\n",
       "    </tr>\n",
       "    <tr>\n",
       "      <th>11</th>\n",
       "      <td>7900</td>\n",
       "      <td>JAMES</td>\n",
       "      <td>CLERK</td>\n",
       "      <td>7698.0</td>\n",
       "      <td>1981-12-03</td>\n",
       "      <td>950.0</td>\n",
       "      <td>NaN</td>\n",
       "      <td>30</td>\n",
       "    </tr>\n",
       "    <tr>\n",
       "      <th>12</th>\n",
       "      <td>7902</td>\n",
       "      <td>FORD</td>\n",
       "      <td>ANALYST</td>\n",
       "      <td>7566.0</td>\n",
       "      <td>1981-12-03</td>\n",
       "      <td>3000.0</td>\n",
       "      <td>NaN</td>\n",
       "      <td>20</td>\n",
       "    </tr>\n",
       "    <tr>\n",
       "      <th>13</th>\n",
       "      <td>7934</td>\n",
       "      <td>MILLER</td>\n",
       "      <td>CLERK</td>\n",
       "      <td>7782.0</td>\n",
       "      <td>1982-01-23</td>\n",
       "      <td>1300.0</td>\n",
       "      <td>NaN</td>\n",
       "      <td>10</td>\n",
       "    </tr>\n",
       "  </tbody>\n",
       "</table>\n",
       "</div>"
      ],
      "text/plain": [
       "    EMPNO   ENAME        JOB     MGR   HIREDATE     SAL    COMM  DEPTNO\n",
       "0    7369   SMITH      CLERK  7902.0 1980-12-17   800.0     NaN      20\n",
       "1    7499   ALLEN   SALESMAN  7698.0 1981-02-20  1600.0   300.0      30\n",
       "2    7521    WARD   SALESMAN  7698.0 1981-02-22  1250.0   500.0      30\n",
       "3    7566   JONES    MANAGER  7839.0 1981-04-02  2975.0     NaN      20\n",
       "4    7654  MARTIN   SALESMAN  7698.0 1981-09-28  1250.0  1400.0      30\n",
       "5    7698   BLAKE    MANAGER  7839.0 1981-05-01  2850.0     NaN      30\n",
       "6    7782   CLARK    MANAGER  7839.0 1981-06-09  2450.0     NaN      10\n",
       "7    7788   SCOTT    ANALYST  7566.0 1982-12-09  3000.0     NaN      20\n",
       "8    7839    KING  PRESIDENT     NaN 1981-11-17  5000.0     NaN      10\n",
       "9    7844  TURNER   SALESMAN  7698.0 1981-09-08  1500.0     0.0      30\n",
       "10   7876   ADAMS      CLERK  7788.0 1983-01-12  1100.0     NaN      20\n",
       "11   7900   JAMES      CLERK  7698.0 1981-12-03   950.0     NaN      30\n",
       "12   7902    FORD    ANALYST  7566.0 1981-12-03  3000.0     NaN      20\n",
       "13   7934  MILLER      CLERK  7782.0 1982-01-23  1300.0     NaN      10"
      ]
     },
     "execution_count": 126,
     "metadata": {},
     "output_type": "execute_result"
    }
   ],
   "source": [
    "#데이터베이스 검색 결과를 DataFrame으로\n",
    "import pandas as pd\n",
    "cursor.execute('SELECT * FROM EMP')\n",
    "data=cursor.fetchall()\n",
    "data_df=pd.DataFrame(data)\n",
    "data_df.columns=[row[0] for row in cursor.description]\n",
    "data_df"
   ]
  },
  {
   "cell_type": "code",
   "execution_count": 110,
   "id": "d2c20f21",
   "metadata": {
    "ExecuteTime": {
     "end_time": "2021-07-28T03:49:42.822252Z",
     "start_time": "2021-07-28T03:49:42.816260Z"
    }
   },
   "outputs": [],
   "source": [
    "cursor.close()\n",
    "conn.close()"
   ]
  },
  {
   "cell_type": "markdown",
   "id": "ccc98355",
   "metadata": {},
   "source": [
    "conn.close()해도 \n",
    "cursor 작동은 하는 듯.. 근데 conn사용 못함. 당연 commit도 안됌."
   ]
  }
 ],
 "metadata": {
  "kernelspec": {
   "display_name": "Python 3",
   "language": "python",
   "name": "python3"
  },
  "language_info": {
   "codemirror_mode": {
    "name": "ipython",
    "version": 3
   },
   "file_extension": ".py",
   "mimetype": "text/x-python",
   "name": "python",
   "nbconvert_exporter": "python",
   "pygments_lexer": "ipython3",
   "version": "3.8.8"
  },
  "toc": {
   "base_numbering": 1,
   "nav_menu": {},
   "number_sections": false,
   "sideBar": true,
   "skip_h1_title": false,
   "title_cell": "Table of Contents",
   "title_sidebar": "Contents",
   "toc_cell": false,
   "toc_position": {},
   "toc_section_display": true,
   "toc_window_display": true
  },
  "varInspector": {
   "cols": {
    "lenName": 16,
    "lenType": 16,
    "lenVar": 40
   },
   "kernels_config": {
    "python": {
     "delete_cmd_postfix": "",
     "delete_cmd_prefix": "del ",
     "library": "var_list.py",
     "varRefreshCmd": "print(var_dic_list())"
    },
    "r": {
     "delete_cmd_postfix": ") ",
     "delete_cmd_prefix": "rm(",
     "library": "var_list.r",
     "varRefreshCmd": "cat(var_dic_list()) "
    }
   },
   "types_to_exclude": [
    "module",
    "function",
    "builtin_function_or_method",
    "instance",
    "_Feature"
   ],
   "window_display": false
  }
 },
 "nbformat": 4,
 "nbformat_minor": 5
}
