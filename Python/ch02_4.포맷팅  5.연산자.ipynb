{
 "cells": [
  {
   "cell_type": "markdown",
   "id": "9d645f04",
   "metadata": {},
   "source": [
    "# ch02. 자료형과 연산자\n",
    "<b><font color='red'>ch02</font><b>"
   ]
  },
  {
   "cell_type": "markdown",
   "id": "12ba3042",
   "metadata": {},
   "source": [
    "## 4절 포맷팅\n",
    "* 포맷팅이란, 출력할 문자, 숫자, 날짜 데이터의 형식을 지정하는 것.\n",
    "* 변수와 텍스트를 결합해서 보기 좋은 형식의 새로운 텍스트를 만들때 사용"
   ]
  },
  {
   "cell_type": "markdown",
   "id": "440ad382",
   "metadata": {},
   "source": [
    "## 4.1 문자열에 형식 지정"
   ]
  },
  {
   "cell_type": "code",
   "execution_count": 1,
   "id": "211680ec",
   "metadata": {
    "ExecuteTime": {
     "end_time": "2021-07-20T03:53:54.008617Z",
     "start_time": "2021-07-20T03:53:53.993657Z"
    }
   },
   "outputs": [
    {
     "name": "stdout",
     "output_type": "stream",
     "text": [
      "홍길동님의 나이는 30살입니다.\n",
      "Hello,$$$$$$$$$$$$$$$$$홍길동. you are 30 years old\n",
      "Hello, $$$$$$$$$$$$$$$$$홍길동. You are 30 years old\n",
      "Hello, 홍길동. You are 30 years old\n",
      "Hello, 홍길동. You are 30 years old\n"
     ]
    }
   ],
   "source": [
    "name=\"홍길동\"\n",
    "age=30\n",
    "print(name, '님의 나이는 ', age, '살입니다.', sep=\"\")\n",
    "# 변수와 텍스트를 번갈아 사용해서 가독성 떨어져서 포맷팅 사용\n",
    "print(\"Hello,{:$>20s}. you are {} years old\".format(name,age))\n",
    "print(\"Hello, {:$>20s}. You are {} years old\".format(name, age))\n",
    "print(\"Hello, %s. You are %d years old\" % (name, age))\n",
    "print(f'Hello, {name}. You are {age} years old')"
   ]
  },
  {
   "cell_type": "code",
   "execution_count": null,
   "id": "7e9a0df7",
   "metadata": {
    "ExecuteTime": {
     "end_time": "2021-07-19T08:22:24.508096Z",
     "start_time": "2021-07-19T08:22:24.488150Z"
    }
   },
   "outputs": [],
   "source": [
    "# 이전 스타일\n",
    "# %s문자, %d숫자, %f:실수\n",
    "\"%s님의 나이는 %d살입니다.\"%(\"홍길동\",30)"
   ]
  },
  {
   "cell_type": "code",
   "execution_count": null,
   "id": "9a781845",
   "metadata": {
    "ExecuteTime": {
     "end_time": "2021-07-19T08:25:11.871094Z",
     "start_time": "2021-07-19T08:25:11.854139Z"
    }
   },
   "outputs": [],
   "source": [
    "# 새로운 스타일\n",
    "\"{}님의 나이는 {}살입니다.\".format(\"홍길동\",30)"
   ]
  },
  {
   "cell_type": "code",
   "execution_count": null,
   "id": "c2aa9dea",
   "metadata": {
    "ExecuteTime": {
     "end_time": "2021-07-19T08:40:53.313789Z",
     "start_time": "2021-07-19T08:40:53.308801Z"
    }
   },
   "outputs": [],
   "source": [
    "print(\"{1}님의 나이는 {0}살입니다.\".format(30,\"홍길동\"))"
   ]
  },
  {
   "cell_type": "markdown",
   "id": "0aa41260",
   "metadata": {},
   "source": [
    "## 4.2 format()함수 문법"
   ]
  },
  {
   "cell_type": "code",
   "execution_count": null,
   "id": "8c81ab0b",
   "metadata": {},
   "outputs": [],
   "source": [
    "#\"{[인덱스]:[공백][정렬방법][자릿수][타입]}\".format(변수명...)"
   ]
  },
  {
   "cell_type": "code",
   "execution_count": null,
   "id": "395a7d21",
   "metadata": {
    "ExecuteTime": {
     "end_time": "2021-07-19T08:46:31.764832Z",
     "start_time": "2021-07-19T08:46:31.748876Z"
    }
   },
   "outputs": [],
   "source": [
    "#인덱스 : format함수 안의 인수의 순서\n",
    "#정렬방법 -   <기호: 왼쪽 정렬,  >기호 : 오른쪽정렬,  ^기호: 가운데 정렬\n",
    "#자릿수 : 출력할 자릿수 지정, 변수보다 적은 자릿수가 지정되면 자리수 무시\n",
    "#타입 : d(10진수), o(8진수), b(3진수), f(실수) s(문자) x(16진수)"
   ]
  },
  {
   "cell_type": "code",
   "execution_count": null,
   "id": "c6083ab7",
   "metadata": {
    "ExecuteTime": {
     "end_time": "2021-07-19T08:49:48.973676Z",
     "start_time": "2021-07-19T08:49:42.112314Z"
    }
   },
   "outputs": [],
   "source": [
    "name=input(\"이름은 ?\")\n",
    "age=int(input(\"나이는 ?\"))\n",
    "print(\"{1}살 {0}님은 {1}살이 참 좋은 나이라는 걸 알려나\".format(name,age))"
   ]
  },
  {
   "cell_type": "code",
   "execution_count": 1,
   "id": "3d585cef",
   "metadata": {
    "ExecuteTime": {
     "end_time": "2021-07-20T00:47:32.229261Z",
     "start_time": "2021-07-20T00:47:32.207315Z"
    }
   },
   "outputs": [
    {
     "name": "stdout",
     "output_type": "stream",
     "text": [
      "출력 : [12345],[     12345],[12345]\n",
      "출력 : [Hello],[Hello     ],[Hello]\n"
     ]
    }
   ],
   "source": [
    "# 숫자의 경우 출력할 변수보다 큰 자릿수를 지정하면 오른쪽 정렬(기본값)\n",
    "# 문자의 경우 출력할 변수보다 큰 자릿수를 지정하면 왼쪽 정렬(기본값)\n",
    "# 변수보다 작은 자릿수를 지정하면 자릿수 지정이 무시되고 다 출력\n",
    "a=12345\n",
    "s=\"Hello\"\n",
    "print(\"출력 : [{}],[{:10}],[{:3}]\".format(a,a,a))\n",
    "print(\"출력 : [{}],[{:10}],[{:3}]\".format(s,s,s))"
   ]
  },
  {
   "cell_type": "code",
   "execution_count": null,
   "id": "78e3b42e",
   "metadata": {
    "ExecuteTime": {
     "end_time": "2021-07-19T09:01:14.701993Z",
     "start_time": "2021-07-19T09:01:14.695021Z"
    }
   },
   "outputs": [],
   "source": [
    "# 정렬방법 > < ^\n",
    "a, b, c = 10, 20, 3\n",
    "print(\"출력 : [{:<6}],[{:>6}],[{:^6}]\".format(a,b,c))\n",
    "print(\"출력 : [{:<6x}],[{:>6d}],[{:^6d}]\".format(a,b,c))"
   ]
  },
  {
   "cell_type": "code",
   "execution_count": null,
   "id": "c1483133",
   "metadata": {
    "ExecuteTime": {
     "end_time": "2021-07-19T09:03:40.819493Z",
     "start_time": "2021-07-19T09:03:40.810518Z"
    }
   },
   "outputs": [],
   "source": [
    "# \"인덱스:공백대체문자 정렬방법 자릿수 타입\".format()\n",
    "a=10\n",
    "s=\"Hello\"\n",
    "print(\"출력 : [{0:$>10}], [{1:*<20}], [{1:_<10.3}]\".format(a,s)) #10.3 전체 10자리 중 3자리 출력"
   ]
  },
  {
   "cell_type": "code",
   "execution_count": null,
   "id": "a7306b1c",
   "metadata": {
    "ExecuteTime": {
     "end_time": "2021-07-19T09:08:11.543014Z",
     "start_time": "2021-07-19T09:08:11.529027Z"
    }
   },
   "outputs": [],
   "source": [
    "# 공백대체문자를 지정할 때는 반드시 정렬방법을 표현해야 합니다.(주의점)\n",
    "print(\"{:$^10}/{:*>20}\".format(a,s)) \n",
    "#print(\"{:$10}/{:*>20}\".format(a,s)) 에러"
   ]
  },
  {
   "cell_type": "code",
   "execution_count": 3,
   "id": "ab8cf84a",
   "metadata": {
    "ExecuteTime": {
     "end_time": "2021-07-20T00:52:00.486120Z",
     "start_time": "2021-07-20T00:52:00.467192Z"
    }
   },
   "outputs": [
    {
     "name": "stdout",
     "output_type": "stream",
     "text": [
      "[      -123], [      +123], [       123]\n",
      "[-      123], [       123], [       123]\n",
      "[-      123], [+      123], [       123]\n",
      "[-      123], [+      123], [+000000123]\n",
      "[$$$$$$-123], [+______123], [+$$$$$$123]\n"
     ]
    }
   ],
   "source": [
    "#자리수 앞에 +를 붙이면 양수의 경우도 부호를 붙여줌\n",
    "#자리수 앞에 =을 붙이면 부호가 자릿수의 맨앞에 표시됨(음수의 경우만)\n",
    "#자리수 앞에 =+을 붙이면 부호가 자릿수의 맨앞에 표시됨(양수, 음수 모두)\n",
    "#자리수 앞에 0을 채우면 빈자리에 0을 채움\n",
    "#공백대체문자는 = 앞에\n",
    "#공백대체문자와 자리수 앞의 0을 모두 쓰면     자리수앞의 0이 의미가 없다.\n",
    "\n",
    "\n",
    "a,b =123,-123\n",
    "print(\"[{:+10}], [{:+10}], [{:10}]\".format(b,a,a))\n",
    "print(\"[{:=10}], [{:=10}], [{:10}]\".format(b,a,a))\n",
    "print(\"[{:=10}], [{:=+10}], [{:10}]\".format(b,a,a))\n",
    "print(\"[{:=10}], [{:=+10}], [{:+010}]\".format(b,a,a))\n",
    "print(\"[{:$>10}], [{:_=+10}], [{:$=+010}]\".format(b,a,a))\n",
    "\n",
    "\n",
    "\n",
    "\n",
    "\n"
   ]
  },
  {
   "cell_type": "code",
   "execution_count": null,
   "id": "0ebb3079",
   "metadata": {},
   "outputs": [],
   "source": [
    "print(\"[{:}]\".format(123))"
   ]
  },
  {
   "cell_type": "code",
   "execution_count": 4,
   "id": "c8782ff4",
   "metadata": {
    "ExecuteTime": {
     "end_time": "2021-07-20T00:52:53.815300Z",
     "start_time": "2021-07-20T00:52:53.798345Z"
    }
   },
   "outputs": [
    {
     "name": "stdout",
     "output_type": "stream",
     "text": [
      "a=[       2.8]\n",
      "a=[      2.76]\n"
     ]
    }
   ],
   "source": [
    "#전체자릿수.표현될자리수\n",
    "a=2.758\n",
    "s=\"Hello\"\n",
    "print(\"a=[{:10.2}]\".format(a)) #2.8\n",
    "print(\"a=[{:>10.2f}]\".format(a)) #2.76"
   ]
  },
  {
   "cell_type": "code",
   "execution_count": 6,
   "id": "186a3d3a",
   "metadata": {
    "ExecuteTime": {
     "end_time": "2021-07-20T00:55:40.066747Z",
     "start_time": "2021-07-20T00:55:40.057749Z"
    }
   },
   "outputs": [
    {
     "name": "stdout",
     "output_type": "stream",
     "text": [
      "[01234567]\n",
      "10진수 : [      15]\n",
      "8진수 : [      17]\n",
      "16진수 : [       f]\n",
      "2진수 : [    1111]\n"
     ]
    }
   ],
   "source": [
    "a=15\n",
    "print(\"[01234567]\")\n",
    "print(\"10진수 : [{:8d}]\".format(a))\n",
    "print(\"8진수 : [{:8o}]\".format(a))\n",
    "print(\"16진수 : [{:8x}]\".format(a))\n",
    "print(\"2진수 : [{:8b}]\".format(a))"
   ]
  },
  {
   "cell_type": "code",
   "execution_count": 9,
   "id": "820d7232",
   "metadata": {
    "ExecuteTime": {
     "end_time": "2021-07-20T01:00:19.663580Z",
     "start_time": "2021-07-20T01:00:19.647602Z"
    }
   },
   "outputs": [
    {
     "name": "stdout",
     "output_type": "stream",
     "text": [
      "출력 : [     +2.79]\n",
      "출력 : [     +2.79]\n",
      "출력 : [     +2.79]\n"
     ]
    }
   ],
   "source": [
    "a=2.785\n",
    "print(\"출력 : [{:>+10.3}]\".format(a))\n",
    "print(\"출력 : [{:{}{}{}.{}}]\".format(a,'>','+',10,3))\n",
    "print(\"출력 : [{:{dir}{sign}{width}.{precision}}]\".format(a,dir='>',sign='+',width=10,precision=3))"
   ]
  },
  {
   "cell_type": "markdown",
   "id": "a5b81a22",
   "metadata": {},
   "source": [
    "## 4.3 날짜 출력"
   ]
  },
  {
   "cell_type": "code",
   "execution_count": 2,
   "id": "8a485d8d",
   "metadata": {
    "ExecuteTime": {
     "end_time": "2021-07-20T01:34:57.827309Z",
     "start_time": "2021-07-20T01:34:57.808351Z"
    }
   },
   "outputs": [
    {
     "data": {
      "text/plain": [
       "datetime.datetime(2021, 7, 20, 13, 4)"
      ]
     },
     "execution_count": 2,
     "metadata": {},
     "output_type": "execute_result"
    }
   ],
   "source": [
    "# format 함수 이용\n",
    "from datetime import datetime   #datetime이라는 모듈 안에 datetime이라는 함수 적용\n",
    "thatday = datetime(2021, 7, 20, 13, 4, 0)\n",
    "thatday"
   ]
  },
  {
   "cell_type": "code",
   "execution_count": 18,
   "id": "9b444d58",
   "metadata": {
    "ExecuteTime": {
     "end_time": "2021-07-20T01:08:02.655853Z",
     "start_time": "2021-07-20T01:08:02.644861Z"
    }
   },
   "outputs": [
    {
     "name": "stdout",
     "output_type": "stream",
     "text": [
      "2021-07-20 13:04:00\n",
      "2021년 07월 20일 13시 04분 00초\n",
      "2021년 07월 20일 PM 01시 04분 00초\n"
     ]
    }
   ],
   "source": [
    "print(\"{}\".format(thatday))\n",
    "print(\"{:%Y년 %m월 %d일 %H시 %M분 %S초}\".format(thatday))\n",
    "print(\"{:%Y년 %m월 %d일 %p %I시 %M분 %S초}\".format(thatday))"
   ]
  },
  {
   "cell_type": "code",
   "execution_count": 6,
   "id": "0a1e68d4",
   "metadata": {
    "ExecuteTime": {
     "end_time": "2021-07-20T01:35:17.797194Z",
     "start_time": "2021-07-20T01:35:17.789202Z"
    }
   },
   "outputs": [
    {
     "data": {
      "text/plain": [
       "'2021년 07월 20일 10시 35분 17초'"
      ]
     },
     "execution_count": 6,
     "metadata": {},
     "output_type": "execute_result"
    }
   ],
   "source": [
    "#날짜를 문자열로 출력하기 위해 format보다 strftime() 함수 이용\n",
    "from time import strftime   #time 모듈 안의 strtime 함수 적용\n",
    "strftime(\"%Y년 %m월 %d일 %H시 %M분 %S초\".format(thatday))"
   ]
  },
  {
   "cell_type": "code",
   "execution_count": 4,
   "id": "b85b2737",
   "metadata": {
    "ExecuteTime": {
     "end_time": "2021-07-20T01:35:07.763226Z",
     "start_time": "2021-07-20T01:35:07.745273Z"
    }
   },
   "outputs": [
    {
     "data": {
      "text/plain": [
       "time.struct_time(tm_year=2021, tm_mon=7, tm_mday=20, tm_hour=10, tm_min=35, tm_sec=7, tm_wday=1, tm_yday=201, tm_isdst=0)"
      ]
     },
     "execution_count": 4,
     "metadata": {},
     "output_type": "execute_result"
    }
   ],
   "source": [
    "from time import localtime\n",
    "now = localtime() #현재의 날짜와 시간\n",
    "now"
   ]
  },
  {
   "cell_type": "code",
   "execution_count": 20,
   "id": "072c2e3c",
   "metadata": {
    "ExecuteTime": {
     "end_time": "2021-07-20T01:13:58.583857Z",
     "start_time": "2021-07-20T01:13:58.577876Z"
    }
   },
   "outputs": [
    {
     "data": {
      "text/plain": [
       "['D:\\\\Bigdata\\\\src\\\\Python\\\\Lecture',\n",
       " 'C:\\\\Users\\\\tjoeun\\\\anaconda3\\\\python38.zip',\n",
       " 'C:\\\\Users\\\\tjoeun\\\\anaconda3\\\\DLLs',\n",
       " 'C:\\\\Users\\\\tjoeun\\\\anaconda3\\\\lib',\n",
       " 'C:\\\\Users\\\\tjoeun\\\\anaconda3',\n",
       " '',\n",
       " 'C:\\\\Users\\\\tjoeun\\\\anaconda3\\\\lib\\\\site-packages',\n",
       " 'C:\\\\Users\\\\tjoeun\\\\anaconda3\\\\lib\\\\site-packages\\\\locket-0.2.1-py3.8.egg',\n",
       " 'C:\\\\Users\\\\tjoeun\\\\anaconda3\\\\lib\\\\site-packages\\\\win32',\n",
       " 'C:\\\\Users\\\\tjoeun\\\\anaconda3\\\\lib\\\\site-packages\\\\win32\\\\lib',\n",
       " 'C:\\\\Users\\\\tjoeun\\\\anaconda3\\\\lib\\\\site-packages\\\\Pythonwin',\n",
       " 'C:\\\\Users\\\\tjoeun\\\\anaconda3\\\\lib\\\\site-packages\\\\IPython\\\\extensions',\n",
       " 'C:\\\\Users\\\\tjoeun\\\\.ipython']"
      ]
     },
     "execution_count": 20,
     "metadata": {},
     "output_type": "execute_result"
    }
   ],
   "source": [
    "import sys\n",
    "sys.path"
   ]
  },
  {
   "cell_type": "code",
   "execution_count": 7,
   "id": "22e556ef",
   "metadata": {
    "ExecuteTime": {
     "end_time": "2021-07-20T01:35:20.376314Z",
     "start_time": "2021-07-20T01:35:20.358341Z"
    }
   },
   "outputs": [
    {
     "data": {
      "text/plain": [
       "'2021년 07월 20일 10시 35분 20초'"
      ]
     },
     "execution_count": 7,
     "metadata": {},
     "output_type": "execute_result"
    }
   ],
   "source": [
    "# print(\"{:%Y년 %m월 %d일 %H시 %M분 %S초}\".format(now)) #에러\n",
    "strftime(\"%Y년 %m월 %d일 %H시 %M분 %S초\".format(now))"
   ]
  },
  {
   "cell_type": "markdown",
   "id": "7f442e21",
   "metadata": {},
   "source": [
    "# 5절. 연산자"
   ]
  },
  {
   "cell_type": "markdown",
   "id": "871f27e2",
   "metadata": {
    "ExecuteTime": {
     "end_time": "2021-07-20T01:38:15.260677Z",
     "start_time": "2021-07-20T01:38:15.242703Z"
    }
   },
   "source": [
    "## 5.1 산술연산자 + - * /    //(몫) %(나머지) **(제곱)"
   ]
  },
  {
   "cell_type": "markdown",
   "id": "56a6aa90",
   "metadata": {},
   "source": [
    "## 5.2 할당연산자 =  +=  -=  //= ,..."
   ]
  },
  {
   "cell_type": "markdown",
   "id": "3fdc4e8e",
   "metadata": {},
   "source": [
    "## 5.3 논리연산자  * & | and or not"
   ]
  },
  {
   "cell_type": "code",
   "execution_count": 11,
   "id": "10eb2c6a",
   "metadata": {
    "ExecuteTime": {
     "end_time": "2021-07-20T01:45:01.721122Z",
     "start_time": "2021-07-20T01:45:01.708165Z"
    }
   },
   "outputs": [
    {
     "name": "stdout",
     "output_type": "stream",
     "text": [
      "True\n",
      "4\n",
      "True\n"
     ]
    }
   ],
   "source": [
    "print((10>3)&(10>5))\n",
    "print(12&5) # 비트 연산자 1100&0101\n",
    "print(5<8<10<12<16<40)"
   ]
  },
  {
   "cell_type": "code",
   "execution_count": 14,
   "id": "7bd66a95",
   "metadata": {
    "ExecuteTime": {
     "end_time": "2021-07-20T01:50:05.190736Z",
     "start_time": "2021-07-20T01:50:05.174800Z"
    }
   },
   "outputs": [
    {
     "name": "stdout",
     "output_type": "stream",
     "text": [
      "10\n",
      "0\n",
      "True\n"
     ]
    }
   ],
   "source": [
    "# and 연산자 : 거짓으로 판별되는 첫번째 항의 결과 반환\n",
    "#              모든 항이 참이면 마지막 항의 결과 반환\n",
    "print(True and 3 and 10)\n",
    "print(True & 3 & 10)\n",
    "print((1<2) & (2>1) &(8>6))"
   ]
  },
  {
   "cell_type": "code",
   "execution_count": 16,
   "id": "88535322",
   "metadata": {
    "ExecuteTime": {
     "end_time": "2021-07-20T01:51:22.036225Z",
     "start_time": "2021-07-20T01:51:22.018245Z"
    }
   },
   "outputs": [
    {
     "name": "stdout",
     "output_type": "stream",
     "text": [
      "0.0\n"
     ]
    }
   ],
   "source": [
    "# or 연산자 : 참으로 판별되는 첫번째 항의 결과 반환\n",
    "#             모든 항이 거짓이면 마자막 항의 결과 반환\n",
    "result = False or 0 or \"\" or 0.0\n",
    "print(result)"
   ]
  },
  {
   "cell_type": "code",
   "execution_count": 19,
   "id": "d8098aba",
   "metadata": {
    "ExecuteTime": {
     "end_time": "2021-07-20T01:53:33.631623Z",
     "start_time": "2021-07-20T01:53:33.624619Z"
    }
   },
   "outputs": [
    {
     "name": "stdout",
     "output_type": "stream",
     "text": [
      "3\n",
      "11\n",
      "11\n"
     ]
    }
   ],
   "source": [
    "result = False or 3 or 10\n",
    "print(result) #3\n",
    "result = False | 3| 10  #3|10\n",
    "print(result)\n",
    "result =3|False|10\n",
    "print(result)"
   ]
  },
  {
   "cell_type": "code",
   "execution_count": 22,
   "id": "629b7c40",
   "metadata": {
    "ExecuteTime": {
     "end_time": "2021-07-20T01:59:30.302675Z",
     "start_time": "2021-07-20T01:59:30.286724Z"
    }
   },
   "outputs": [
    {
     "name": "stdout",
     "output_type": "stream",
     "text": [
      "False\n",
      "True\n"
     ]
    }
   ],
   "source": [
    "print(10>3&10>5) #비교연산자보다 논리연산자가 우선순위가 높음 # 10>2>5\n",
    "print(10>15&7>5) #10>7>5"
   ]
  },
  {
   "cell_type": "code",
   "execution_count": 23,
   "id": "661f98a6",
   "metadata": {
    "ExecuteTime": {
     "end_time": "2021-07-20T02:00:36.548975Z",
     "start_time": "2021-07-20T02:00:36.531024Z"
    }
   },
   "outputs": [
    {
     "name": "stdout",
     "output_type": "stream",
     "text": [
      "빈스트링은 False\n"
     ]
    }
   ],
   "source": [
    "if '':\n",
    "    print('빈스트링은 True')\n",
    "else:\n",
    "    print('빈스트링은 False')"
   ]
  },
  {
   "cell_type": "code",
   "execution_count": 25,
   "id": "f2e3b49a",
   "metadata": {
    "ExecuteTime": {
     "end_time": "2021-07-20T02:01:22.963630Z",
     "start_time": "2021-07-20T02:01:22.944682Z"
    }
   },
   "outputs": [
    {
     "data": {
      "text/plain": [
       "True"
      ]
     },
     "execution_count": 25,
     "metadata": {},
     "output_type": "execute_result"
    }
   ],
   "source": [
    "#논리연산자에 문자열이 오면 에러\n",
    "# True | ''  에러\n",
    "True | bool('')"
   ]
  },
  {
   "cell_type": "code",
   "execution_count": 26,
   "id": "2e5e594f",
   "metadata": {
    "ExecuteTime": {
     "end_time": "2021-07-20T02:02:07.265194Z",
     "start_time": "2021-07-20T02:02:07.126094Z"
    }
   },
   "outputs": [
    {
     "name": "stdout",
     "output_type": "stream",
     "text": [
      " D 드라이브의 볼륨: 학생방\n",
      " 볼륨 일련 번호: C23A-A0CB\n",
      "\n",
      " D:\\Bigdata\\src\\Python\\Lecture 디렉터리\n",
      "\n",
      "2021-07-20  오전 11:00    <DIR>          .\n",
      "2021-07-20  오전 11:00    <DIR>          ..\n",
      "2021-07-20  오전 09:44    <DIR>          .ipynb_checkpoints\n",
      "2021-07-19  오후 06:27             4,562 ch01_파이썬 개요 및 환경 설정.ipynb\n",
      "2021-07-19  오후 06:27            35,101 ch02_1.변수  2.화면io  3.기본자료형.ipynb\n",
      "2021-07-20  오전 11:00            21,167 ch02_4.포맷팅  5.연산자.ipynb\n",
      "               3개 파일              60,830 바이트\n",
      "               3개 디렉터리  201,349,230,592 바이트 남음\n"
     ]
    }
   ],
   "source": [
    "#주피터노트북에서 ! 는 명령행을 실행시킬 수 있습니다.\n",
    "!dir"
   ]
  },
  {
   "cell_type": "code",
   "execution_count": 30,
   "id": "69b3f8d2",
   "metadata": {
    "ExecuteTime": {
     "end_time": "2021-07-20T02:04:38.777589Z",
     "start_time": "2021-07-20T02:04:38.765623Z"
    }
   },
   "outputs": [
    {
     "name": "stdout",
     "output_type": "stream",
     "text": [
      "False\n",
      "True\n"
     ]
    }
   ],
   "source": [
    "# 논리 반전은 ! 아니고 not\n",
    "print(not True)\n",
    "print(not False)"
   ]
  },
  {
   "cell_type": "code",
   "execution_count": 31,
   "id": "37fe9460",
   "metadata": {
    "ExecuteTime": {
     "end_time": "2021-07-20T02:05:06.780352Z",
     "start_time": "2021-07-20T02:05:06.773372Z"
    }
   },
   "outputs": [
    {
     "name": "stdout",
     "output_type": "stream",
     "text": [
      "a!=b\n"
     ]
    }
   ],
   "source": [
    "a,b=15,16\n",
    "if a!=b:\n",
    "    print(\"a!=b\")"
   ]
  },
  {
   "cell_type": "markdown",
   "id": "c1481607",
   "metadata": {
    "ExecuteTime": {
     "end_time": "2021-07-20T02:05:41.295342Z",
     "start_time": "2021-07-20T02:05:41.282376Z"
    }
   },
   "source": [
    "## 5.4 비교연산자 ==  !=  >= ......."
   ]
  },
  {
   "cell_type": "code",
   "execution_count": 34,
   "id": "0a408473",
   "metadata": {
    "ExecuteTime": {
     "end_time": "2021-07-20T02:08:26.202772Z",
     "start_time": "2021-07-20T02:08:26.191801Z"
    }
   },
   "outputs": [
    {
     "data": {
      "text/plain": [
       "True"
      ]
     },
     "execution_count": 34,
     "metadata": {},
     "output_type": "execute_result"
    }
   ],
   "source": [
    "#문자는 ASCII코드 순으로 비교 : 특수문자< 숫자문자 < 대문자 < 소문자\n",
    "'*'<'1'<'A'<'a'<'아'<'하'"
   ]
  },
  {
   "cell_type": "markdown",
   "id": "0e990643",
   "metadata": {},
   "source": [
    "## 5.5 비트연산자"
   ]
  },
  {
   "cell_type": "code",
   "execution_count": null,
   "id": "3baedab5",
   "metadata": {},
   "outputs": [],
   "source": [
    "a='''\n",
    "x y x&y x|y   x^y(XOR)\n",
    "0 0  0   0       0\n",
    "0 1  0   1       1\n",
    "1 0  0   1       1\n",
    "1 1  1   1       0\n",
    "'''"
   ]
  },
  {
   "cell_type": "code",
   "execution_count": 43,
   "id": "45dc7985",
   "metadata": {
    "ExecuteTime": {
     "end_time": "2021-07-20T02:37:31.130889Z",
     "start_time": "2021-07-20T02:37:31.115939Z"
    }
   },
   "outputs": [
    {
     "name": "stdout",
     "output_type": "stream",
     "text": [
      "00001111,15\n",
      "      10, 2\n",
      "00001111,15\n",
      "      10, 2\n",
      "00001101,13\n"
     ]
    }
   ],
   "source": [
    "a= 15\n",
    "b= 2\n",
    "print(\"{0:08b},{0}\".format(a)) # 00001111, 15\n",
    "print(\"{0:8b}, {0}\".format(b)) #10, 2\n",
    "print(\"{0:08b},{0}\".format(a|b)) # 00001111, 15\n",
    "print(\"{0:8b}, {0}\".format(a&b)) #10, 2\n",
    "print(\"{0:08b},{0}\".format(a^b)) # 00001111, 15"
   ]
  },
  {
   "cell_type": "code",
   "execution_count": 45,
   "id": "ad74b93a",
   "metadata": {
    "ExecuteTime": {
     "end_time": "2021-07-20T02:40:16.063653Z",
     "start_time": "2021-07-20T02:40:16.059684Z"
    }
   },
   "outputs": [
    {
     "name": "stdout",
     "output_type": "stream",
     "text": [
      "-16\n",
      "-0010000,-16\n"
     ]
    }
   ],
   "source": [
    "# not의 비트 연산자 : ~\n",
    "a=15            #00000000 00001111\n",
    "print(~a)       #11111111 11110000\n",
    "print(\"{0:08b},{0}\".format(~a))"
   ]
  },
  {
   "cell_type": "code",
   "execution_count": 46,
   "id": "360a817f",
   "metadata": {
    "ExecuteTime": {
     "end_time": "2021-07-20T02:43:21.257923Z",
     "start_time": "2021-07-20T02:43:21.242964Z"
    }
   },
   "outputs": [
    {
     "data": {
      "text/plain": [
       "False"
      ]
     },
     "execution_count": 46,
     "metadata": {},
     "output_type": "execute_result"
    }
   ],
   "source": [
    "isinstance(a, float)"
   ]
  },
  {
   "cell_type": "code",
   "execution_count": null,
   "id": "a18d4ef9",
   "metadata": {},
   "outputs": [],
   "source": []
  }
 ],
 "metadata": {
  "kernelspec": {
   "display_name": "Python 3",
   "language": "python",
   "name": "python3"
  },
  "language_info": {
   "codemirror_mode": {
    "name": "ipython",
    "version": 3
   },
   "file_extension": ".py",
   "mimetype": "text/x-python",
   "name": "python",
   "nbconvert_exporter": "python",
   "pygments_lexer": "ipython3",
   "version": "3.8.8"
  },
  "toc": {
   "base_numbering": "4",
   "nav_menu": {},
   "number_sections": false,
   "sideBar": true,
   "skip_h1_title": false,
   "title_cell": "Table of Contents",
   "title_sidebar": "Contents",
   "toc_cell": false,
   "toc_position": {},
   "toc_section_display": true,
   "toc_window_display": true
  },
  "varInspector": {
   "cols": {
    "lenName": 16,
    "lenType": 16,
    "lenVar": 40
   },
   "kernels_config": {
    "python": {
     "delete_cmd_postfix": "",
     "delete_cmd_prefix": "del ",
     "library": "var_list.py",
     "varRefreshCmd": "print(var_dic_list())"
    },
    "r": {
     "delete_cmd_postfix": ") ",
     "delete_cmd_prefix": "rm(",
     "library": "var_list.r",
     "varRefreshCmd": "cat(var_dic_list()) "
    }
   },
   "types_to_exclude": [
    "module",
    "function",
    "builtin_function_or_method",
    "instance",
    "_Feature"
   ],
   "window_display": false
  }
 },
 "nbformat": 4,
 "nbformat_minor": 5
}
