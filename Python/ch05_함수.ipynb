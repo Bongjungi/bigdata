{
 "cells": [
  {
   "cell_type": "markdown",
   "id": "f7b6b027",
   "metadata": {},
   "source": [
    "# ch05_함수\n",
    "- 반복해서 사용할 코드를 묶어 놓고 그것에 이름을 붙인 것.\n",
    "- 오버로딩이 불가\n",
    "- 반복해서 사용할 코드는 함수를 이용하면 훨씬 구조적이고 간결한 코드를 작성\n",
    "- 함수의 정의\n",
    "```\n",
    "def 함수명([매개변수1, 매개변수2, ...]):\n",
    "    명령어1\n",
    "    명령어2\n",
    "```"
   ]
  },
  {
   "cell_type": "markdown",
   "id": "dc6bcd3e",
   "metadata": {},
   "source": [
    "## 1절. 함수의 정의 및 사용"
   ]
  },
  {
   "cell_type": "code",
   "execution_count": null,
   "id": "388443cb",
   "metadata": {
    "ExecuteTime": {
     "end_time": "2021-07-21T06:49:07.550689Z",
     "start_time": "2021-07-21T06:49:07.542683Z"
    }
   },
   "outputs": [],
   "source": [
    "def my_hello():\n",
    "    print('Hello, World')\n",
    "    print('Hello, Python')"
   ]
  },
  {
   "cell_type": "code",
   "execution_count": null,
   "id": "eeb497f0",
   "metadata": {
    "ExecuteTime": {
     "end_time": "2021-07-21T06:43:12.266857Z",
     "start_time": "2021-07-21T06:43:12.253869Z"
    }
   },
   "outputs": [],
   "source": [
    "def my_hello(x):\n",
    "    for i in range(x):\n",
    "        print(i,\"Hello, Python\")"
   ]
  },
  {
   "cell_type": "code",
   "execution_count": null,
   "id": "f1534ca7",
   "metadata": {
    "ExecuteTime": {
     "end_time": "2021-07-21T06:44:41.658996Z",
     "start_time": "2021-07-21T06:44:41.653987Z"
    }
   },
   "outputs": [],
   "source": [
    "my_hello(5)\n",
    "# my_hello() #에러 overloading 안됨"
   ]
  },
  {
   "cell_type": "code",
   "execution_count": null,
   "id": "b5628e61",
   "metadata": {
    "ExecuteTime": {
     "end_time": "2021-07-21T06:45:16.456514Z",
     "start_time": "2021-07-21T06:45:16.446560Z"
    }
   },
   "outputs": [],
   "source": [
    "my_hello=10\n",
    "# my_hello(5) #에러 my_hello=10"
   ]
  },
  {
   "cell_type": "code",
   "execution_count": null,
   "id": "66d564d2",
   "metadata": {
    "ExecuteTime": {
     "end_time": "2021-07-21T06:49:29.019540Z",
     "start_time": "2021-07-21T06:49:29.008569Z"
    }
   },
   "outputs": [],
   "source": [
    "def my_hello():\n",
    "    print('Hello, World')\n",
    "    print('Hello, Python')"
   ]
  },
  {
   "cell_type": "code",
   "execution_count": null,
   "id": "bf737536",
   "metadata": {
    "ExecuteTime": {
     "end_time": "2021-07-21T06:49:29.428806Z",
     "start_time": "2021-07-21T06:49:29.419827Z"
    }
   },
   "outputs": [],
   "source": [
    "__name__"
   ]
  },
  {
   "cell_type": "code",
   "execution_count": null,
   "id": "23aa1426",
   "metadata": {
    "ExecuteTime": {
     "end_time": "2021-07-21T06:50:15.829121Z",
     "start_time": "2021-07-21T06:50:15.814163Z"
    }
   },
   "outputs": [],
   "source": [
    "type(my_hello)"
   ]
  },
  {
   "cell_type": "code",
   "execution_count": null,
   "id": "95eb4cce",
   "metadata": {
    "ExecuteTime": {
     "end_time": "2021-07-21T06:54:43.053460Z",
     "start_time": "2021-07-21T06:54:43.044463Z"
    }
   },
   "outputs": [],
   "source": [
    "if __name__=='__main__':\n",
    "    my_hello()"
   ]
  },
  {
   "cell_type": "code",
   "execution_count": null,
   "id": "6b9707fd",
   "metadata": {
    "ExecuteTime": {
     "end_time": "2021-07-21T06:59:21.719501Z",
     "start_time": "2021-07-21T06:59:21.706536Z"
    }
   },
   "outputs": [],
   "source": [
    "import a #a.py가 해석되어 메모리에 로드"
   ]
  },
  {
   "cell_type": "code",
   "execution_count": null,
   "id": "1d7c8f7f",
   "metadata": {
    "ExecuteTime": {
     "end_time": "2021-07-21T06:59:22.514171Z",
     "start_time": "2021-07-21T06:59:22.511172Z"
    }
   },
   "outputs": [],
   "source": [
    "a.test()"
   ]
  },
  {
   "cell_type": "code",
   "execution_count": null,
   "id": "113a3c24",
   "metadata": {
    "ExecuteTime": {
     "end_time": "2021-07-21T07:04:27.509227Z",
     "start_time": "2021-07-21T07:04:27.491247Z"
    }
   },
   "outputs": [],
   "source": [
    "def my_add(num1, num2, num3=0): #기본값을 갖는 매개변수는 뒤에 작성\n",
    "    return num1+num2+num3\n",
    "print(my_add(20,30,40))\n",
    "print(my_add(20,30))"
   ]
  },
  {
   "cell_type": "markdown",
   "id": "4877c36b",
   "metadata": {},
   "source": [
    "### 1.1 docstring"
   ]
  },
  {
   "cell_type": "code",
   "execution_count": null,
   "id": "7e4c64e1",
   "metadata": {
    "ExecuteTime": {
     "end_time": "2021-07-21T07:08:08.770605Z",
     "start_time": "2021-07-21T07:08:08.759636Z"
    }
   },
   "outputs": [],
   "source": [
    "def my_function():\n",
    "    '''\n",
    "        함수의 첫 라인에 독스트링을 포함시킬 수 있습니다.\n",
    "        함수의 설명서. 주석보다 많은 기능\n",
    "    '''"
   ]
  },
  {
   "cell_type": "code",
   "execution_count": null,
   "id": "bfc74d48",
   "metadata": {
    "ExecuteTime": {
     "end_time": "2021-07-21T07:08:25.411843Z",
     "start_time": "2021-07-21T07:08:25.406845Z"
    }
   },
   "outputs": [],
   "source": [
    "print(my_function.__doc__)"
   ]
  },
  {
   "cell_type": "code",
   "execution_count": null,
   "id": "cad7e24c",
   "metadata": {
    "ExecuteTime": {
     "end_time": "2021-07-21T08:09:15.716092Z",
     "start_time": "2021-07-21T08:09:15.706118Z"
    }
   },
   "outputs": [],
   "source": [
    "def fibonacci(n):\n",
    "    '''\n",
    "        매개변수로 들어온 n값 미만의 피보나치 수열을 출력합니다.\n",
    "        ex. 매개변수로 10 : 0,1,1,2,3,5,8\n",
    "        ex. 매개변수로  5 : 0,1,1,2,3\n",
    "    '''\n",
    "    a,b = 0,1\n",
    "    while a < n:\n",
    "        print(a, end='. ')\n",
    "        a,b=b,a+b"
   ]
  },
  {
   "cell_type": "code",
   "execution_count": null,
   "id": "fb2b387b",
   "metadata": {
    "ExecuteTime": {
     "end_time": "2021-07-21T07:27:19.448456Z",
     "start_time": "2021-07-21T07:27:19.439480Z"
    }
   },
   "outputs": [],
   "source": [
    "fibonacci(100)"
   ]
  },
  {
   "cell_type": "code",
   "execution_count": null,
   "id": "d7df4bce",
   "metadata": {
    "ExecuteTime": {
     "end_time": "2021-07-21T07:27:19.654871Z",
     "start_time": "2021-07-21T07:27:19.643890Z"
    }
   },
   "outputs": [],
   "source": [
    "import a"
   ]
  },
  {
   "cell_type": "code",
   "execution_count": null,
   "id": "c840708f",
   "metadata": {
    "ExecuteTime": {
     "end_time": "2021-07-21T07:27:20.189977Z",
     "start_time": "2021-07-21T07:27:20.174042Z"
    }
   },
   "outputs": [],
   "source": [
    "if __name__=='__main__':\n",
    "    fibonacci(5)\n",
    "print(\"TEST\")"
   ]
  },
  {
   "cell_type": "markdown",
   "id": "7e99360e",
   "metadata": {},
   "source": [
    "## 1.2 지역변수(local var)와 전역변수(global var)"
   ]
  },
  {
   "cell_type": "code",
   "execution_count": null,
   "id": "4c48a423",
   "metadata": {
    "ExecuteTime": {
     "end_time": "2021-07-21T07:32:48.106186Z",
     "start_time": "2021-07-21T07:32:48.088207Z"
    }
   },
   "outputs": [],
   "source": [
    "global_var = 100\n",
    "def func1():\n",
    "    print(global_var)\n",
    "func1()"
   ]
  },
  {
   "cell_type": "code",
   "execution_count": null,
   "id": "87f50c7d",
   "metadata": {
    "ExecuteTime": {
     "end_time": "2021-07-21T07:34:47.537043Z",
     "start_time": "2021-07-21T07:34:47.518094Z"
    }
   },
   "outputs": [],
   "source": [
    "def func2():\n",
    "    local_var = 200\n",
    "    print(local_var)\n",
    "func2()\n",
    "##local_var 지역변수"
   ]
  },
  {
   "cell_type": "code",
   "execution_count": null,
   "id": "1403878a",
   "metadata": {
    "ExecuteTime": {
     "end_time": "2021-07-21T07:35:53.428258Z",
     "start_time": "2021-07-21T07:35:53.424254Z"
    }
   },
   "outputs": [],
   "source": [
    "g_var = 100 #전역변수\n",
    "def func3():\n",
    "    g_var = 200 #지역변수\n",
    "    print(g_var)\n",
    "func3()\n",
    "print('전역변수: ', g_var)"
   ]
  },
  {
   "cell_type": "code",
   "execution_count": null,
   "id": "72779e25",
   "metadata": {
    "ExecuteTime": {
     "end_time": "2021-07-21T07:45:22.835774Z",
     "start_time": "2021-07-21T07:45:22.816820Z"
    }
   },
   "outputs": [],
   "source": [
    "#렉시컬 특성\n",
    "g_var=100\n",
    "def func3(): \n",
    "    global g_var   #지역변수g_var = 200가 func3()에 저장되어 있다. 그래서 전역변수가 작동하지 않는다. 그래서 before의 gvar에 넣을 것이 없다.\n",
    "    print('before : ',g_var)\n",
    "    g_var = 200\n",
    "    print('after : ',g_var)\n",
    "func3()"
   ]
  },
  {
   "cell_type": "markdown",
   "id": "d81a3845",
   "metadata": {},
   "source": [
    "## 1.3 값에 의한 호출\n",
    "- 함수에 인수로 전달되는 변수가 스칼라 변수(숫자, 문자, 논리)일 경우"
   ]
  },
  {
   "cell_type": "code",
   "execution_count": null,
   "id": "5b3459d3",
   "metadata": {
    "ExecuteTime": {
     "end_time": "2021-07-21T08:03:58.691529Z",
     "start_time": "2021-07-21T08:03:58.683550Z"
    }
   },
   "outputs": [],
   "source": [
    "foo=\"a\"\n",
    "def func1(foo):\n",
    "    print('Before : ', id(foo))\n",
    "    foo = foo*3\n",
    "    print('After : ', id(foo))\n",
    "func1(foo)"
   ]
  },
  {
   "cell_type": "code",
   "execution_count": null,
   "id": "3cc0aca9",
   "metadata": {
    "ExecuteTime": {
     "end_time": "2021-07-21T08:04:40.663473Z",
     "start_time": "2021-07-21T08:04:40.656469Z"
    }
   },
   "outputs": [],
   "source": [
    "fid=\"a\"\n",
    "print(id(fid))\n",
    "fid=\"b\"\n",
    "print(id(fid))"
   ]
  },
  {
   "cell_type": "markdown",
   "id": "bc43e7eb",
   "metadata": {},
   "source": [
    "## 1.4 참조에 의한 호출\n",
    "- 함수에 인수로 전달되는 변수가 리스트, 딕셔너리, 셋 ... 일 경우"
   ]
  },
  {
   "cell_type": "code",
   "execution_count": null,
   "id": "18b72ef7",
   "metadata": {
    "ExecuteTime": {
     "end_time": "2021-07-21T08:46:37.067687Z",
     "start_time": "2021-07-21T08:46:37.049730Z"
    }
   },
   "outputs": [],
   "source": [
    "L=[1,2,3,4,5]\n",
    "print(id(L))  # L에 2787839239808이, 2787839239808에 값이 있다.\n",
    "L"
   ]
  },
  {
   "cell_type": "code",
   "execution_count": null,
   "id": "5c80ac6f",
   "metadata": {
    "ExecuteTime": {
     "end_time": "2021-07-21T08:03:15.706902Z",
     "start_time": "2021-07-21T08:03:15.693937Z"
    }
   },
   "outputs": [],
   "source": [
    "def func2(f): #매개변수는 지역변수\n",
    "    print('before : ', f, '의 주소는 ', id(f))\n",
    "    f.append(6)\n",
    "    print('after : ', f, '의 주소는 ', id(f))\n",
    "func2(L)"
   ]
  },
  {
   "cell_type": "markdown",
   "id": "82f06a68",
   "metadata": {},
   "source": [
    "## 1.5 함수의 이름 변경\n",
    "- python : 함수형 언어, 객체 지향 언어"
   ]
  },
  {
   "cell_type": "code",
   "execution_count": null,
   "id": "86926115",
   "metadata": {
    "ExecuteTime": {
     "end_time": "2021-07-21T08:10:50.217711Z",
     "start_time": "2021-07-21T08:10:50.202751Z"
    }
   },
   "outputs": [],
   "source": [
    "fibo=fibonacci\n",
    "fibo(6)"
   ]
  },
  {
   "cell_type": "markdown",
   "id": "9ec9b235",
   "metadata": {},
   "source": [
    "# 2절. 함수의 실행결과를 반환하는 return"
   ]
  },
  {
   "cell_type": "code",
   "execution_count": null,
   "id": "a6a3719f",
   "metadata": {
    "ExecuteTime": {
     "end_time": "2021-07-21T08:16:11.196472Z",
     "start_time": "2021-07-21T08:16:11.182483Z"
    }
   },
   "outputs": [],
   "source": [
    "def fibonacci_print(n):\n",
    "    \"\"\"매개변수 n값 미만의 피보나치 수열을 출력\"\"\"\n",
    "    a,b=0,1\n",
    "    while a<n:\n",
    "        print(a, end=' ')\n",
    "        a,b= b,a+b\n",
    "    print()\n",
    "def fibonacci(n):\n",
    "    \"n값 미만의 피보나치 수열(list)을 return\"\n",
    "    result = []\n",
    "    a,b=0,1\n",
    "    while a<n:\n",
    "        result.append(a)\n",
    "        a,b= b,a+b\n",
    "    print(result)"
   ]
  },
  {
   "cell_type": "code",
   "execution_count": null,
   "id": "14f7f92d",
   "metadata": {
    "ExecuteTime": {
     "end_time": "2021-07-21T08:19:27.691634Z",
     "start_time": "2021-07-21T08:19:27.677683Z"
    }
   },
   "outputs": [],
   "source": [
    "x=fibonacci_print(10)\n",
    "print(x)\n",
    "print(type(x))\n",
    "x=fibonacci(10)\n",
    "print(x)\n",
    "print(type(x))"
   ]
  },
  {
   "cell_type": "markdown",
   "id": "f13cc6d5",
   "metadata": {},
   "source": [
    "## 2.1 여러개의 값 반환"
   ]
  },
  {
   "cell_type": "code",
   "execution_count": null,
   "id": "5092894b",
   "metadata": {
    "ExecuteTime": {
     "end_time": "2021-07-21T08:20:17.256111Z",
     "start_time": "2021-07-21T08:20:17.241152Z"
    }
   },
   "outputs": [],
   "source": [
    "def swap(a, b):\n",
    "    return b, a"
   ]
  },
  {
   "cell_type": "code",
   "execution_count": null,
   "id": "81467973",
   "metadata": {
    "ExecuteTime": {
     "end_time": "2021-07-21T08:38:59.480994Z",
     "start_time": "2021-07-21T08:38:59.464004Z"
    }
   },
   "outputs": [],
   "source": [
    "x,y=5,10\n",
    "print('함수 실행전', x, y)\n",
    "x,y = swap(x,y)\n",
    "print('함수 실행후', x, y)"
   ]
  },
  {
   "cell_type": "code",
   "execution_count": null,
   "id": "d79010ec",
   "metadata": {
    "ExecuteTime": {
     "end_time": "2021-07-21T08:39:38.044305Z",
     "start_time": "2021-07-21T08:39:38.036327Z"
    }
   },
   "outputs": [],
   "source": [
    "a = swap(x,y)\n",
    "print(type(a))\n",
    "print(a)"
   ]
  },
  {
   "cell_type": "markdown",
   "id": "e04fddfe",
   "metadata": {},
   "source": [
    "# 3절. 함수의 매개변수"
   ]
  },
  {
   "cell_type": "markdown",
   "id": "d7b6bc06",
   "metadata": {},
   "source": [
    "## 3.1 기본값을 갖는 매개변수"
   ]
  },
  {
   "cell_type": "code",
   "execution_count": null,
   "id": "dc4dc6b6",
   "metadata": {
    "ExecuteTime": {
     "end_time": "2021-07-22T00:56:47.322244Z",
     "start_time": "2021-07-22T00:56:47.307262Z"
    }
   },
   "outputs": [],
   "source": [
    "def make_url(ip, port=80):\n",
    "    return \"http://{}:{}\".format(ip,port)"
   ]
  },
  {
   "cell_type": "code",
   "execution_count": null,
   "id": "5d93b96d",
   "metadata": {
    "ExecuteTime": {
     "end_time": "2021-07-22T00:57:31.807020Z",
     "start_time": "2021-07-22T00:57:31.798059Z"
    }
   },
   "outputs": [],
   "source": [
    "print(make_url('localhost',9090))\n",
    "print(make_url(port=9090, ip=\"www.naver.com\"))\n",
    "print(make_url(\"localhost\"))"
   ]
  },
  {
   "cell_type": "markdown",
   "id": "7ff683ff",
   "metadata": {},
   "source": [
    "## 3.2 기본 변수를 갖는 매개변수"
   ]
  },
  {
   "cell_type": "code",
   "execution_count": null,
   "id": "7a3b610a",
   "metadata": {
    "ExecuteTime": {
     "end_time": "2021-07-21T09:16:39.872062Z",
     "start_time": "2021-07-21T09:16:39.857123Z"
    }
   },
   "outputs": [],
   "source": [
    "i=5\n",
    "# 기본 변수가 스칼라변수(문자,숫자,논리)일 때 : \n",
    "        # arg의 기본값은 함수가 정의되는 지점에서의 한번만 평가됨.\n",
    "def func2(arg = i):\n",
    "    print(arg)\n",
    "    return(arg)"
   ]
  },
  {
   "cell_type": "code",
   "execution_count": null,
   "id": "1bb06a4c",
   "metadata": {
    "ExecuteTime": {
     "end_time": "2021-07-21T09:13:57.903451Z",
     "start_time": "2021-07-21T09:13:57.890477Z"
    }
   },
   "outputs": [],
   "source": [
    "i=3\n",
    "func2()\n",
    "print(func2(10))\n",
    "print(func2())\n",
    "type(func2())"
   ]
  },
  {
   "cell_type": "code",
   "execution_count": null,
   "id": "00ac9488",
   "metadata": {
    "ExecuteTime": {
     "end_time": "2021-07-22T00:43:11.152645Z",
     "start_time": "2021-07-22T00:43:11.133696Z"
    }
   },
   "outputs": [],
   "source": [
    "# 기본변수가 리스트, 셋, 딕셔너리 또는 객체일 때\n",
    "list_=[]\n",
    "def func3(a, L=list_):\n",
    "    L.append(a)\n",
    "    return L\n",
    "type(func3(1))\n",
    "print(func3(1))\n",
    "print(list_)\n",
    "type(func3(1))"
   ]
  },
  {
   "cell_type": "code",
   "execution_count": null,
   "id": "3eef92c6",
   "metadata": {
    "ExecuteTime": {
     "end_time": "2021-07-22T00:44:57.703534Z",
     "start_time": "2021-07-22T00:44:57.686557Z"
    }
   },
   "outputs": [],
   "source": [
    "print(id(list_))\n",
    "print(id(func3(1)))"
   ]
  },
  {
   "cell_type": "code",
   "execution_count": null,
   "id": "b9174237",
   "metadata": {
    "ExecuteTime": {
     "end_time": "2021-07-21T09:06:06.689553Z",
     "start_time": "2021-07-21T09:06:06.679585Z"
    }
   },
   "outputs": [],
   "source": [
    "type(func3(1))"
   ]
  },
  {
   "cell_type": "code",
   "execution_count": null,
   "id": "03eacfd1",
   "metadata": {
    "ExecuteTime": {
     "end_time": "2021-07-21T09:11:14.263456Z",
     "start_time": "2021-07-21T09:11:14.256484Z"
    }
   },
   "outputs": [],
   "source": [
    "def func4(a, L=[]):\n",
    "    L.append(a)\n",
    "    return L\n",
    "result=func4(1)\n",
    "print(result)"
   ]
  },
  {
   "cell_type": "markdown",
   "id": "75872486",
   "metadata": {},
   "source": [
    "## 3.3 순서 인수, 키워드 인수\n",
    "- 순서인수, 키워드인수(기본값 갖는 인수)가 같이 올 때는 키워드 인수가 반드시 뒤에 온다.\n",
    " (키워드 인수가 앞에 오게 되면 정의할 때부터 에러 발생)\n",
    "<pre>\n",
    "def function명(변수명1, 변수명2, 변수명3=기본값):\n",
    "    \n",
    "<pre>\n",
    " "
   ]
  },
  {
   "cell_type": "code",
   "execution_count": null,
   "id": "39df2ed1",
   "metadata": {
    "ExecuteTime": {
     "end_time": "2021-07-22T00:48:50.817946Z",
     "start_time": "2021-07-22T00:48:50.804981Z"
    }
   },
   "outputs": [],
   "source": [
    "def func5(a,L=None):\n",
    "    if L is None:\n",
    "        L = []\n",
    "    L.append(a)\n",
    "    return L\n",
    "func5(1)"
   ]
  },
  {
   "cell_type": "code",
   "execution_count": null,
   "id": "94b2a9f4",
   "metadata": {
    "ExecuteTime": {
     "end_time": "2021-07-22T00:49:31.009727Z",
     "start_time": "2021-07-22T00:49:31.003743Z"
    }
   },
   "outputs": [],
   "source": [
    "list_=[]\n",
    "func5(L=list_, a=2)"
   ]
  },
  {
   "cell_type": "code",
   "execution_count": null,
   "id": "4d5d9f84",
   "metadata": {
    "ExecuteTime": {
     "end_time": "2021-07-22T00:52:58.391016Z",
     "start_time": "2021-07-22T00:52:58.364090Z"
    }
   },
   "outputs": [],
   "source": [
    "func5(list_,a=3) #a에 list_를 넣는다."
   ]
  },
  {
   "cell_type": "markdown",
   "id": "5ba2ab77",
   "metadata": {},
   "source": [
    "## 3.4 튜플 매개변수를 이용한 가변인수 설정\n",
    "- 튜플인수는 하나만"
   ]
  },
  {
   "cell_type": "code",
   "execution_count": null,
   "id": "1b632654",
   "metadata": {
    "ExecuteTime": {
     "end_time": "2021-07-22T01:01:36.717406Z",
     "start_time": "2021-07-22T01:01:36.707446Z"
    }
   },
   "outputs": [],
   "source": [
    "def add(*args):\n",
    "    sum=0\n",
    "    for num in args:\n",
    "        sum += num\n",
    "    return sum"
   ]
  },
  {
   "cell_type": "code",
   "execution_count": null,
   "id": "fd5cd457",
   "metadata": {
    "ExecuteTime": {
     "end_time": "2021-07-22T01:01:37.520243Z",
     "start_time": "2021-07-22T01:01:37.505648Z"
    }
   },
   "outputs": [],
   "source": [
    "print(add(1,2))"
   ]
  },
  {
   "cell_type": "code",
   "execution_count": null,
   "id": "3fbb1f76",
   "metadata": {
    "ExecuteTime": {
     "end_time": "2021-07-22T01:04:03.570107Z",
     "start_time": "2021-07-22T01:04:03.559116Z"
    }
   },
   "outputs": [],
   "source": [
    "city = ('서울', '부산')\n",
    "'-'.join(city)"
   ]
  },
  {
   "cell_type": "code",
   "execution_count": null,
   "id": "6b2d67ae",
   "metadata": {
    "ExecuteTime": {
     "end_time": "2021-07-22T01:07:40.643199Z",
     "start_time": "2021-07-22T01:07:40.624229Z"
    }
   },
   "outputs": [],
   "source": [
    "def concat(*args, sep):\n",
    "    return sep.join(args)"
   ]
  },
  {
   "cell_type": "code",
   "execution_count": null,
   "id": "5cffdf54",
   "metadata": {
    "ExecuteTime": {
     "end_time": "2021-07-22T01:09:22.435287Z",
     "start_time": "2021-07-22T01:09:22.419301Z"
    }
   },
   "outputs": [],
   "source": [
    "concat('a','x','d',sep=\"-\")"
   ]
  },
  {
   "cell_type": "code",
   "execution_count": null,
   "id": "242a0503",
   "metadata": {
    "ExecuteTime": {
     "end_time": "2021-07-22T01:09:49.247169Z",
     "start_time": "2021-07-22T01:09:49.230214Z"
    }
   },
   "outputs": [],
   "source": [
    "def concat(sep, *args):\n",
    "    return sep.join(args)"
   ]
  },
  {
   "cell_type": "code",
   "execution_count": null,
   "id": "3511fe38",
   "metadata": {
    "ExecuteTime": {
     "end_time": "2021-07-22T01:10:02.106247Z",
     "start_time": "2021-07-22T01:10:02.097251Z"
    }
   },
   "outputs": [],
   "source": [
    "concat('-','a','x','d')"
   ]
  },
  {
   "cell_type": "code",
   "execution_count": null,
   "id": "566ab500",
   "metadata": {
    "ExecuteTime": {
     "end_time": "2021-07-22T01:41:48.065864Z",
     "start_time": "2021-07-22T01:41:48.057885Z"
    }
   },
   "outputs": [],
   "source": [
    "def concat(*args, sep=\"\"): # 순서인수, 튜플인수, 키워드인수(기본값O)\n",
    "    return sep.join(args)\n",
    "concat('a','x','d',sep=\"-\")"
   ]
  },
  {
   "cell_type": "code",
   "execution_count": null,
   "id": "1fb57ecd",
   "metadata": {
    "ExecuteTime": {
     "end_time": "2021-07-22T01:09:11.292049Z",
     "start_time": "2021-07-22T01:09:11.283053Z"
    }
   },
   "outputs": [],
   "source": [
    "concat('a','x','d')"
   ]
  },
  {
   "cell_type": "markdown",
   "id": "dceb054a",
   "metadata": {},
   "source": [
    "## 3.5 딕셔너리 매개변수\n",
    "- 순서인수, 튜플인수, 키워드인수, 딕셔너리 인수 등은 같이 사용될 수 있음. 순서를 유의해서 사용"
   ]
  },
  {
   "cell_type": "code",
   "execution_count": null,
   "id": "36f455c2",
   "metadata": {
    "ExecuteTime": {
     "end_time": "2021-07-22T01:38:26.729666Z",
     "start_time": "2021-07-22T01:38:26.711719Z"
    }
   },
   "outputs": [],
   "source": [
    "def func6(**args): #args가 딕셔너리로 전달\n",
    "    for key, value in args.items():\n",
    "        print(\"{} : {}\".format(key, value))\n",
    "func6(name=\"홍길동\", age=20)"
   ]
  },
  {
   "cell_type": "code",
   "execution_count": null,
   "id": "9159840f",
   "metadata": {
    "ExecuteTime": {
     "end_time": "2021-07-22T01:40:45.011586Z",
     "start_time": "2021-07-22T01:40:45.005601Z"
    }
   },
   "outputs": [],
   "source": [
    "#순서인수, 튜플인수, 딕셔너리인수\n",
    "def func7(a, *b, **c):\n",
    "    print('a = ', a)\n",
    "    print('b = ', b)\n",
    "    print('c = ', c)\n",
    "func7(10,10,20,name='kim',age=30)"
   ]
  },
  {
   "cell_type": "code",
   "execution_count": null,
   "id": "f3e692c7",
   "metadata": {
    "ExecuteTime": {
     "end_time": "2021-07-22T02:22:24.866291Z",
     "start_time": "2021-07-22T02:22:24.852307Z"
    }
   },
   "outputs": [],
   "source": [
    "def func8(a,*b,d=\"-\",**c):\n",
    "    print('a = ', a)\n",
    "    print('b = ', b)\n",
    "    print('c = ', c)\n",
    "    print('d = ', d)\n",
    "func8(10,10,20,d=\":\",name='kim',age=30)"
   ]
  },
  {
   "cell_type": "markdown",
   "id": "609f89cf",
   "metadata": {},
   "source": [
    "## 3.6 함수 정의 시 매개변수의 순서\n",
    "- 순서인수 -> 튜플인수 -> 키워드인수 ->딕셔너리인수"
   ]
  },
  {
   "cell_type": "code",
   "execution_count": null,
   "id": "3d55375e",
   "metadata": {
    "ExecuteTime": {
     "end_time": "2021-07-22T01:50:58.544557Z",
     "start_time": "2021-07-22T01:50:58.528907Z"
    }
   },
   "outputs": [],
   "source": [
    "def func(a,b,c,*d, e=10,**f):\n",
    "    print('a = ',a)\n",
    "    print('b = ',b)\n",
    "    print('c = ',c)\n",
    "    print('d = ',d)\n",
    "    print('e = ',e)\n",
    "    print('f = ',f)"
   ]
  },
  {
   "cell_type": "code",
   "execution_count": null,
   "id": "6cf4ff3c",
   "metadata": {
    "ExecuteTime": {
     "end_time": "2021-07-22T01:50:58.778102Z",
     "start_time": "2021-07-22T01:50:58.760127Z"
    }
   },
   "outputs": [],
   "source": [
    "func(10,20,30,1,2,3,4,5,6,7,e=100, name=\"kim\",age=30)"
   ]
  },
  {
   "cell_type": "markdown",
   "id": "c2310ee2",
   "metadata": {},
   "source": [
    "## 3.7 인수의 언패킹 *tuple * *dict"
   ]
  },
  {
   "cell_type": "markdown",
   "id": "2329c102",
   "metadata": {},
   "source": [
    "### 튜플인수 언패킹\n",
    "- *args"
   ]
  },
  {
   "cell_type": "code",
   "execution_count": null,
   "id": "dbdead92",
   "metadata": {
    "ExecuteTime": {
     "end_time": "2021-07-22T01:52:06.524153Z",
     "start_time": "2021-07-22T01:52:06.511187Z"
    }
   },
   "outputs": [],
   "source": [
    "def add(*args):\n",
    "    sum=0\n",
    "    for num in args:\n",
    "        sum+=num\n",
    "    return sum"
   ]
  },
  {
   "cell_type": "code",
   "execution_count": null,
   "id": "e2e61c36",
   "metadata": {
    "ExecuteTime": {
     "end_time": "2021-07-22T01:58:10.908641Z",
     "start_time": "2021-07-22T01:58:10.893122Z"
    }
   },
   "outputs": [],
   "source": [
    "numbers = (1,2,3,4,5,6,7,8,9)\n",
    "add(1,2,3,4,5,6,7,8,9)\n",
    "add(*numbers) #튜플 언패킹\n",
    "add(*tuple(range(0,10,2)))"
   ]
  },
  {
   "cell_type": "code",
   "execution_count": null,
   "id": "08ad1d73",
   "metadata": {
    "ExecuteTime": {
     "end_time": "2021-07-22T02:19:45.122610Z",
     "start_time": "2021-07-22T02:19:45.106651Z"
    }
   },
   "outputs": [],
   "source": [
    "#예제:\n",
    "def range2(*args, L=None):\n",
    "    if L is None:\n",
    "        L=[]\n",
    "    length = len(args)\n",
    "    if length==0:\n",
    "        raise Exception(\"매개변수가 하나 이상 있어야 합니다.\")\n",
    "    elif length==1:\n",
    "        for i in range(args[0]+1):\n",
    "            L.append(i)\n",
    "    elif length==2:\n",
    "        for i in range(args[0],args[1]+1):\n",
    "            L.append(i)\n",
    "    elif length==3:\n",
    "        for i in range(args[0],args[1]+1,args[2]):\n",
    "            L.append(i)\n",
    "    else:\n",
    "        return \"숫자 3개 이하\"\n",
    "    return L\n",
    "\n",
    "try:\n",
    "    range2()\n",
    "except Exception as e:\n",
    "    print(e)\n",
    "try:\n",
    "    range2()\n",
    "except Exception:\n",
    "    print(\"오류\")\n",
    "print(range2(10))\n",
    "print(range2(5,10))\n",
    "print(range2(5,10,2))\n",
    "print(range2(1,1,1,1,1,1))"
   ]
  },
  {
   "cell_type": "markdown",
   "id": "6e28239e",
   "metadata": {
    "ExecuteTime": {
     "end_time": "2021-07-22T02:17:39.888443Z",
     "start_time": "2021-07-22T02:17:39.866478Z"
    }
   },
   "source": [
    " ### 딕셔너리 인수 언패킹\n",
    " - **args"
   ]
  },
  {
   "cell_type": "code",
   "execution_count": 64,
   "id": "3d9e91a9",
   "metadata": {
    "ExecuteTime": {
     "end_time": "2021-07-22T07:39:29.848026Z",
     "start_time": "2021-07-22T07:39:29.838064Z"
    }
   },
   "outputs": [
    {
     "name": "stdout",
     "output_type": "stream",
     "text": [
      "('height', 100)\n",
      "('width', 200)\n",
      "('shape', 'rect')\n"
     ]
    }
   ],
   "source": [
    "def func(**data):\n",
    "    for item in data.items():\n",
    "        print(item)\n",
    "func(height=100, width=200, shape=\"rect\")"
   ]
  },
  {
   "cell_type": "code",
   "execution_count": 65,
   "id": "6e19b11e",
   "metadata": {
    "ExecuteTime": {
     "end_time": "2021-07-22T07:39:30.067008Z",
     "start_time": "2021-07-22T07:39:30.051050Z"
    }
   },
   "outputs": [
    {
     "name": "stdout",
     "output_type": "stream",
     "text": [
      "('height', 100)\n",
      "('width', 200)\n",
      "('shape', 'rect')\n"
     ]
    }
   ],
   "source": [
    "info = {'height' : 100, 'width' : 200, 'shape' : 'rect'}\n",
    "func(**info)"
   ]
  },
  {
   "cell_type": "markdown",
   "id": "56536c76",
   "metadata": {},
   "source": [
    "# 4절. 람다식 : return 한 줄짜리 작은 익명함수 filter map\n",
    "- 람다식은 작은 익명함수를 의미함\n",
    "- 실행할 문장을 한 문장만 작성할 수 있음\n",
    "- return 구문이 없어도 statement 결과를 반환함\n",
    "- 리스트 컴프리헨션과 같이 참조해서 학습 추천\n",
    "- filter(), map() 함수 같이 참조해서 학습 추천"
   ]
  },
  {
   "cell_type": "code",
   "execution_count": null,
   "id": "92ae359b",
   "metadata": {
    "ExecuteTime": {
     "end_time": "2021-07-22T02:55:13.516199Z",
     "start_time": "2021-07-22T02:55:13.502216Z"
    }
   },
   "outputs": [],
   "source": [
    "def add(a,b):\n",
    "    return a+b\n",
    "add(3,5)"
   ]
  },
  {
   "cell_type": "code",
   "execution_count": null,
   "id": "26ae62c4",
   "metadata": {
    "ExecuteTime": {
     "end_time": "2021-07-22T02:59:19.553981Z",
     "start_time": "2021-07-22T02:59:19.536023Z"
    }
   },
   "outputs": [],
   "source": [
    "ad=add\n",
    "print(ad(2,5))\n",
    "print(type(ad(2,5)),type(ad),type(add))"
   ]
  },
  {
   "cell_type": "code",
   "execution_count": null,
   "id": "c28d56aa",
   "metadata": {
    "ExecuteTime": {
     "end_time": "2021-07-22T03:00:06.773979Z",
     "start_time": "2021-07-22T03:00:06.770000Z"
    }
   },
   "outputs": [],
   "source": [
    "add = lambda a,b : a + b"
   ]
  },
  {
   "cell_type": "code",
   "execution_count": null,
   "id": "9ae21ea9",
   "metadata": {
    "ExecuteTime": {
     "end_time": "2021-07-22T03:00:11.923997Z",
     "start_time": "2021-07-22T03:00:11.913027Z"
    }
   },
   "outputs": [],
   "source": [
    "add(3,5)"
   ]
  },
  {
   "cell_type": "code",
   "execution_count": null,
   "id": "fb0cb716",
   "metadata": {
    "ExecuteTime": {
     "end_time": "2021-07-22T03:01:14.347246Z",
     "start_time": "2021-07-22T03:01:14.328296Z"
    }
   },
   "outputs": [],
   "source": [
    "(lambda a,b : a+b)(10,2)"
   ]
  },
  {
   "cell_type": "markdown",
   "id": "89f86222",
   "metadata": {},
   "source": [
    "## 4.1 함수의 매개변수(인수)에 람다식 사용( map : 구성을 변경, filter : 원하는 것 추출)"
   ]
  },
  {
   "cell_type": "code",
   "execution_count": 33,
   "id": "a78c98a9",
   "metadata": {
    "ExecuteTime": {
     "end_time": "2021-07-22T06:21:58.476976Z",
     "start_time": "2021-07-22T06:21:58.463003Z"
    }
   },
   "outputs": [],
   "source": [
    "def map_template(func, L=None):\n",
    "    if L is None:\n",
    "        L=[]\n",
    "    result = []\n",
    "    for item in L:\n",
    "        result.append(func(item))\n",
    "    return result"
   ]
  },
  {
   "cell_type": "code",
   "execution_count": 34,
   "id": "ee661467",
   "metadata": {
    "ExecuteTime": {
     "end_time": "2021-07-22T06:21:58.728343Z",
     "start_time": "2021-07-22T06:21:58.713350Z"
    },
    "scrolled": true
   },
   "outputs": [
    {
     "data": {
      "text/plain": [
       "[2, 4, 6, 8, 10, 12, 14, 16, 18]"
      ]
     },
     "execution_count": 34,
     "metadata": {},
     "output_type": "execute_result"
    }
   ],
   "source": [
    "list_data=list(range(1,10))\n",
    "def x_2(x):\n",
    "    return x*2\n",
    "map_template(x_2, list_data)"
   ]
  },
  {
   "cell_type": "code",
   "execution_count": 36,
   "id": "0c7fc7bb",
   "metadata": {
    "ExecuteTime": {
     "end_time": "2021-07-22T06:22:02.735855Z",
     "start_time": "2021-07-22T06:22:02.721891Z"
    }
   },
   "outputs": [
    {
     "data": {
      "text/plain": [
       "[2, 4, 6, 8, 10, 12, 14, 16, 18]"
      ]
     },
     "execution_count": 36,
     "metadata": {},
     "output_type": "execute_result"
    }
   ],
   "source": [
    "map_template(lambda x: x*2, list_data)"
   ]
  },
  {
   "cell_type": "code",
   "execution_count": 37,
   "id": "505b45ef",
   "metadata": {
    "ExecuteTime": {
     "end_time": "2021-07-22T06:22:09.832516Z",
     "start_time": "2021-07-22T06:22:09.826525Z"
    }
   },
   "outputs": [
    {
     "data": {
      "text/plain": [
       "[2, 4, 6, 8, 10, 12, 14, 16, 18]"
      ]
     },
     "execution_count": 37,
     "metadata": {},
     "output_type": "execute_result"
    }
   ],
   "source": [
    "list(map(lambda x : x*2, list_data))"
   ]
  },
  {
   "cell_type": "code",
   "execution_count": null,
   "id": "6f5cf2bf",
   "metadata": {
    "ExecuteTime": {
     "end_time": "2021-07-22T03:15:01.701928Z",
     "start_time": "2021-07-22T03:15:01.692952Z"
    }
   },
   "outputs": [],
   "source": [
    "[x*2 for x in list_data]"
   ]
  },
  {
   "cell_type": "code",
   "execution_count": null,
   "id": "49881cfd",
   "metadata": {
    "ExecuteTime": {
     "end_time": "2021-07-22T03:42:29.482317Z",
     "start_time": "2021-07-22T03:42:29.464336Z"
    }
   },
   "outputs": [],
   "source": [
    "def filter_template(func, L=None):\n",
    "    if L is None:\n",
    "        L=[]\n",
    "    result = []\n",
    "    for item in L:\n",
    "        if func(item):\n",
    "            result.append(item)\n",
    "    return result"
   ]
  },
  {
   "cell_type": "code",
   "execution_count": null,
   "id": "4c66b204",
   "metadata": {
    "ExecuteTime": {
     "end_time": "2021-07-22T03:42:29.922359Z",
     "start_time": "2021-07-22T03:42:29.915355Z"
    }
   },
   "outputs": [],
   "source": [
    "list_data=[1,2,3,4,5,]\n",
    "def evenChk(x):\n",
    "    return x%2==0\n",
    "filter_template(evenChk, list_data)"
   ]
  },
  {
   "cell_type": "code",
   "execution_count": null,
   "id": "207bdaee",
   "metadata": {
    "ExecuteTime": {
     "end_time": "2021-07-22T03:42:32.991937Z",
     "start_time": "2021-07-22T03:42:32.983950Z"
    }
   },
   "outputs": [],
   "source": [
    "filter_template(lambda x : x%2==0, list_data)"
   ]
  },
  {
   "cell_type": "code",
   "execution_count": null,
   "id": "b0c177e8",
   "metadata": {
    "ExecuteTime": {
     "end_time": "2021-07-22T03:43:45.717696Z",
     "start_time": "2021-07-22T03:43:45.711751Z"
    }
   },
   "outputs": [],
   "source": [
    "[x for x in list_data if x%2==1]"
   ]
  },
  {
   "cell_type": "code",
   "execution_count": null,
   "id": "539d3475",
   "metadata": {
    "ExecuteTime": {
     "end_time": "2021-07-22T03:49:14.148141Z",
     "start_time": "2021-07-22T03:49:14.132151Z"
    }
   },
   "outputs": [],
   "source": [
    "# 문제 : 다음 리스트에서 정수만 추출 ( 힌트. filter함수, 람다식 이용/리스트컴프리헨션)\n",
    "L = [1, 1.2, 1.5, 2, 3, 10.5, 100]"
   ]
  },
  {
   "cell_type": "code",
   "execution_count": null,
   "id": "c1bc4be8",
   "metadata": {
    "ExecuteTime": {
     "end_time": "2021-07-22T03:54:10.906944Z",
     "start_time": "2021-07-22T03:54:10.899966Z"
    }
   },
   "outputs": [],
   "source": [
    "[x for x in L if x==round(x)]\n",
    "list(filter(lambda x : x==round(x), L))"
   ]
  },
  {
   "cell_type": "markdown",
   "id": "06469e51",
   "metadata": {},
   "source": [
    "** 람다식은 함수가 실행할 문장이 한 문장일 경우만 사용** <br>\n",
    "** 람다식이 가장 많이 사용되는 곳은 함수의 인수로 전달할 때나 함수를 return할 때**"
   ]
  },
  {
   "cell_type": "code",
   "execution_count": null,
   "id": "9810a76b",
   "metadata": {
    "ExecuteTime": {
     "end_time": "2021-07-22T03:57:01.569830Z",
     "start_time": "2021-07-22T03:57:01.550862Z"
    }
   },
   "outputs": [],
   "source": [
    "p = [10,3,5,7,0]\n",
    "p.sort()\n",
    "p"
   ]
  },
  {
   "cell_type": "code",
   "execution_count": null,
   "id": "e6c15a6f",
   "metadata": {
    "ExecuteTime": {
     "end_time": "2021-07-22T03:59:30.551602Z",
     "start_time": "2021-07-22T03:59:30.533627Z"
    }
   },
   "outputs": [],
   "source": [
    "pairs = [(1, 'one'),(4,'four'),(2, 'two'),(3, 'three')]\n",
    "pairs.sort() # 첫번째 요소들만 비교해서 sort\n",
    "pairs"
   ]
  },
  {
   "cell_type": "code",
   "execution_count": null,
   "id": "880593b0",
   "metadata": {
    "ExecuteTime": {
     "end_time": "2021-07-22T04:04:51.634877Z",
     "start_time": "2021-07-22T04:04:51.616902Z"
    }
   },
   "outputs": [],
   "source": [
    "pairs.sort(key = lambda x : x[1])\n",
    "pairs"
   ]
  },
  {
   "cell_type": "code",
   "execution_count": null,
   "id": "add6f876",
   "metadata": {},
   "outputs": [],
   "source": [
    "pairs.sort"
   ]
  },
  {
   "cell_type": "code",
   "execution_count": null,
   "id": "99c25bc5",
   "metadata": {
    "ExecuteTime": {
     "end_time": "2021-07-22T04:03:58.652005Z",
     "start_time": "2021-07-22T04:03:58.643029Z"
    }
   },
   "outputs": [],
   "source": [
    "(lambda x : x[1])((1,'one'))"
   ]
  },
  {
   "cell_type": "code",
   "execution_count": null,
   "id": "d8b90430",
   "metadata": {
    "ExecuteTime": {
     "end_time": "2021-07-22T04:07:37.522995Z",
     "start_time": "2021-07-22T04:07:37.511018Z"
    }
   },
   "outputs": [],
   "source": [
    "def apply(data, func=None):\n",
    "    if func == None:\n",
    "        return data\n",
    "    else : \n",
    "        return func(data)\n",
    "apply(100)"
   ]
  },
  {
   "cell_type": "code",
   "execution_count": null,
   "id": "0cf3f9e5",
   "metadata": {
    "ExecuteTime": {
     "end_time": "2021-07-22T04:07:59.658175Z",
     "start_time": "2021-07-22T04:07:59.651171Z"
    }
   },
   "outputs": [],
   "source": [
    "apply(3,lambda x: x**3)"
   ]
  },
  {
   "cell_type": "markdown",
   "id": "b2471948",
   "metadata": {},
   "source": [
    "## 4.2 리턴문에 람다식 이용"
   ]
  },
  {
   "cell_type": "code",
   "execution_count": 75,
   "id": "a1ea83f1",
   "metadata": {
    "ExecuteTime": {
     "end_time": "2021-07-22T08:15:38.378926Z",
     "start_time": "2021-07-22T08:15:38.359947Z"
    }
   },
   "outputs": [],
   "source": [
    "# 함수를 return 하는 함수\n",
    "'''\n",
    "make_box((2,)) => 1차원 2열 list를 만드는 함수를 리턴\n",
    "    fun = make_box((2,))\n",
    "    fun(10) => [10,10]\n",
    "make_box((3,4) => 2차원 3행4열 list를 만든 함수를 리턴\n",
    "    fun = make_box((3,4))\n",
    "    fun(5) => [[5,5,5,5],[5,5,5,5],[5,5,5,5]]\n",
    "'''\n",
    "def make_box1(shape):\n",
    "        if len(shape)==1 :\n",
    "            return lambda init_value : [init_value]*shape[0]\n",
    "        elif len(shape)==2 :\n",
    "            return lambda init_value : [[init_value]*shape[1]]*shape[0]\n",
    "def make_box(shape):\n",
    "    def box(init_value):\n",
    "        L=[init_value]*shape[len(shape)-1]\n",
    "        for i in range(len(shape)-2,-1,-1):\n",
    "            L=[L]*shape[i]\n",
    "        return L\n",
    "    return box"
   ]
  },
  {
   "cell_type": "code",
   "execution_count": 78,
   "id": "a31820b9",
   "metadata": {
    "ExecuteTime": {
     "end_time": "2021-07-22T08:16:05.736576Z",
     "start_time": "2021-07-22T08:16:05.729594Z"
    }
   },
   "outputs": [],
   "source": [
    "fon=make_box((3,4))"
   ]
  },
  {
   "cell_type": "code",
   "execution_count": 79,
   "id": "a3d1a1be",
   "metadata": {
    "ExecuteTime": {
     "end_time": "2021-07-22T08:16:06.618085Z",
     "start_time": "2021-07-22T08:16:06.599146Z"
    }
   },
   "outputs": [
    {
     "data": {
      "text/plain": [
       "[[3, 3, 3, 3], [3, 3, 3, 3], [3, 3, 3, 3]]"
      ]
     },
     "execution_count": 79,
     "metadata": {},
     "output_type": "execute_result"
    }
   ],
   "source": [
    "fon(3)"
   ]
  },
  {
   "cell_type": "code",
   "execution_count": 20,
   "id": "996bc646",
   "metadata": {
    "ExecuteTime": {
     "end_time": "2021-07-22T05:52:17.961139Z",
     "start_time": "2021-07-22T05:52:17.943159Z"
    }
   },
   "outputs": [],
   "source": [
    "line=make_box1([3])"
   ]
  },
  {
   "cell_type": "code",
   "execution_count": 80,
   "id": "31f78c3e",
   "metadata": {
    "ExecuteTime": {
     "end_time": "2021-07-22T08:18:29.957360Z",
     "start_time": "2021-07-22T08:18:29.949381Z"
    }
   },
   "outputs": [
    {
     "data": {
      "text/plain": [
       "[7, 7, 7]"
      ]
     },
     "execution_count": 80,
     "metadata": {},
     "output_type": "execute_result"
    }
   ],
   "source": [
    "line(7)"
   ]
  },
  {
   "cell_type": "code",
   "execution_count": 22,
   "id": "610575bc",
   "metadata": {
    "ExecuteTime": {
     "end_time": "2021-07-22T05:56:25.279898Z",
     "start_time": "2021-07-22T05:56:25.261934Z"
    }
   },
   "outputs": [
    {
     "data": {
      "text/plain": [
       "'홀수'"
      ]
     },
     "execution_count": 22,
     "metadata": {},
     "output_type": "execute_result"
    }
   ],
   "source": [
    "def even_odd(num):\n",
    "    if num%2==0:\n",
    "        return \"짝수\"\n",
    "    else:\n",
    "        return \"홀수\"\n",
    "even_odd_chk = lambda num : \"짝수\" if num%2==0 else \"홀수\"\n",
    "even_odd_chk(7)"
   ]
  },
  {
   "cell_type": "code",
   "execution_count": 24,
   "id": "2175bd77",
   "metadata": {
    "ExecuteTime": {
     "end_time": "2021-07-22T06:07:33.917571Z",
     "start_time": "2021-07-22T06:07:33.912583Z"
    }
   },
   "outputs": [],
   "source": [
    "score_grade_chk= lambda score : \"A\" if 90<=score<=100 else \\\n",
    "                    (\"B\" if 80<=score<90 else \\\n",
    "                     (\"C\" if 70<=score<80 else \\\n",
    "                      (\"D\" if 60<=score<70 else \"F\")))"
   ]
  },
  {
   "cell_type": "code",
   "execution_count": 28,
   "id": "040de9c2",
   "metadata": {
    "ExecuteTime": {
     "end_time": "2021-07-22T06:08:03.265132Z",
     "start_time": "2021-07-22T06:08:03.249488Z"
    }
   },
   "outputs": [
    {
     "data": {
      "text/plain": [
       "'B'"
      ]
     },
     "execution_count": 28,
     "metadata": {},
     "output_type": "execute_result"
    }
   ],
   "source": [
    "score_grade_chk(88)"
   ]
  },
  {
   "cell_type": "code",
   "execution_count": 40,
   "id": "303910ef",
   "metadata": {
    "ExecuteTime": {
     "end_time": "2021-07-22T06:36:07.761574Z",
     "start_time": "2021-07-22T06:36:07.742597Z"
    },
    "scrolled": true
   },
   "outputs": [
    {
     "name": "stdout",
     "output_type": "stream",
     "text": [
      "{'n': 3, 'L': [0], 'i': 0}\n"
     ]
    },
    {
     "data": {
      "text/plain": [
       "[0]"
      ]
     },
     "execution_count": 40,
     "metadata": {},
     "output_type": "execute_result"
    }
   ],
   "source": [
    "def abc(n):\n",
    "    L=[]\n",
    "    for i in range(n):\n",
    "        L.append(i)\n",
    "        print(locals()) #locals #지역변수들\n",
    "        return L\n",
    "abc(3)"
   ]
  },
  {
   "cell_type": "code",
   "execution_count": 41,
   "id": "9686dcb4",
   "metadata": {
    "ExecuteTime": {
     "end_time": "2021-07-22T06:37:41.074617Z",
     "start_time": "2021-07-22T06:37:41.036718Z"
    }
   },
   "outputs": [
    {
     "data": {
      "text/plain": [
       "{'__name__': '__main__',\n",
       " '__doc__': '\\nmake_box((2,)) => 1차원 2열 list를 만드는 함수를 리턴\\n    fun = make_box((2,))\\n    fun(10) => [10,10]\\nmake_box((3,4) => 2차원 3행4열 list를 만든 함수를 리턴\\n    fun = make_box((3,4))\\n    fun(5) => [[5,5,5,5],[5,5,5,5],[5,5,5,5]]\\n',\n",
       " '__package__': None,\n",
       " '__loader__': None,\n",
       " '__spec__': None,\n",
       " '__builtin__': <module 'builtins' (built-in)>,\n",
       " '__builtins__': <module 'builtins' (built-in)>,\n",
       " '_ih': ['',\n",
       "  \"# 함수를 return 하는 함수\\n'''\\nmake_box((2,)) => 1차원 2열 list를 만드는 함수를 리턴\\n    fun = make_box((2,))\\n    fun(10) => [10,10]\\nmake_box((3,4) => 2차원 3행4열 list를 만든 함수를 리턴\\n    fun = make_box((3,4))\\n    fun(5) => [[5,5,5,5],[5,5,5,5],[5,5,5,5]]\\n'''\\ndef make_box(shape):\\n    def box(init_value):\\n        if len(shape) == 1 :\\n            return [init_value]*shape[0]\\n        if len(shape) == 2 :\\n            return [[init_value]*shape[1]]*shape[0]\",\n",
       "  'fun=make_box((5,))',\n",
       "  'type(fun)',\n",
       "  \"# 함수를 return 하는 함수\\n'''\\nmake_box((2,)) => 1차원 2열 list를 만드는 함수를 리턴\\n    fun = make_box((2,))\\n    fun(10) => [10,10]\\nmake_box((3,4) => 2차원 3행4열 list를 만든 함수를 리턴\\n    fun = make_box((3,4))\\n    fun(5) => [[5,5,5,5],[5,5,5,5],[5,5,5,5]]\\n'''\\ndef make_box(shape):\\n    def box(init_value):\\n        if len(shape) == 1 :\\n            return [init_value]*shape[0]\\n        if len(shape) == 2 :\\n            return [[init_value]*shape[1]]*shape[0]\\n    return box\",\n",
       "  'fun=make_box((5,))',\n",
       "  'type(fun)',\n",
       "  'fun(10)',\n",
       "  'fun(10,20)',\n",
       "  'fun=make_box(10,20)',\n",
       "  'fun=make_box((10,20))',\n",
       "  'fun(5)',\n",
       "  \"# 함수를 return 하는 함수\\n'''\\nmake_box((2,)) => 1차원 2열 list를 만드는 함수를 리턴\\n    fun = make_box((2,))\\n    fun(10) => [10,10]\\nmake_box((3,4) => 2차원 3행4열 list를 만든 함수를 리턴\\n    fun = make_box((3,4))\\n    fun(5) => [[5,5,5,5],[5,5,5,5],[5,5,5,5]]\\n'''\\ndef make_box(shape):\\n    def box(init_value):\\n        if len(shape) == 1 :\\n            return [init_value]*shape[0]\\n        elif len(shape) == 2 :\\n            return [[init_value]*shape[1]]*shape[0]\\n        elif len(shape) == 3 :\\n            return [[[init_value]*shape[2]]*shape[1]]*shape[0]\\n    return box\",\n",
       "  'fun=make_box((5,))',\n",
       "  'type(fun)',\n",
       "  'fun=make_box((10,20))',\n",
       "  'fun(5)',\n",
       "  'fun=make_box((2,2,2))\\nfun(5)',\n",
       "  \"# 함수를 return 하는 함수\\n'''\\nmake_box((2,)) => 1차원 2열 list를 만드는 함수를 리턴\\n    fun = make_box((2,))\\n    fun(10) => [10,10]\\nmake_box((3,4) => 2차원 3행4열 list를 만든 함수를 리턴\\n    fun = make_box((3,4))\\n    fun(5) => [[5,5,5,5],[5,5,5,5],[5,5,5,5]]\\n'''\\ndef make_box(shape):\\n    def box(init_value):\\n        if len(shape) == 1 :\\n            return [init_value]*shape[0]\\n        elif len(shape) == 2 :\\n            return [[init_value]*shape[1]]*shape[0]\\n        elif len(shape) == 3 :\\n            return [[[init_value]*shape[2]]*shape[1]]*shape[0]\\n    return box\\ndef make_box1(shape):\\n        if len(shape)==1 :\\n            return lambda init_value : [init_value]*shape[0]\\n        elif len(shape)==2 :\\n            return lambda init_value : [[init_value]*shape[1]]*shape[0]\",\n",
       "  'line(7)',\n",
       "  'line=make_box1([3])',\n",
       "  'line(7)',\n",
       "  'def even_odd(num):\\n    if num%2==0:\\n        return \"짝수\"\\n    else:\\n        return \"홀수\"\\neven_odd_chk = lambda num : \"짝수\" if num%2==0 else \"홀수\"\\neven_odd_chk(7)',\n",
       "  'score_grade_chk= lambda score : \"A\" if 90<=score<=100 else \\\\\\n                    (\"B\" if 80<=score<90 else \\\\\\n                     (\"C\" if 70<=score<80 else \\\\\\n                      (\"D\" if 60<=score<70 else \"F\"))',\n",
       "  'score_grade_chk= lambda score : \"A\" if 90<=score<=100 else \\\\\\n                    (\"B\" if 80<=score<90 else \\\\\\n                     (\"C\" if 70<=score<80 else \\\\\\n                      (\"D\" if 60<=score<70 else \"F\")))',\n",
       "  'score_grade_chk(100)',\n",
       "  'score_grade_chk(90)',\n",
       "  'score_grade_chk(50)',\n",
       "  'score_grade_chk(88)',\n",
       "  '1:3',\n",
       "  '[1:3]',\n",
       "  'def countdown(n):\\n    if n == 0:\\n        print(\"Blastoff!\")\\n    else:\\n        print(n)\\n        countdown(n-1)',\n",
       "  'def countdown(n):\\n    if n == 0:\\n        print(\"Blastoff!\")\\n    else:\\n        print(n)\\n        countdown(n-1)\\ncountdown(4)',\n",
       "  'def map_template(func, L=None):\\n    if L is None:\\n        L=[]\\n    result = []\\n    for item in L:\\n        result.append(func(item))\\n    return result',\n",
       "  'list_data=list(range(1,10))\\ndef x_2(x):\\n    return x*2\\nmap_template(x_2, list_data)',\n",
       "  'map_template(lambda x: x*2, list_data)',\n",
       "  'map_template(lambda x: x*2, list_data)',\n",
       "  'list(map(lambda x : x*2, list_data))',\n",
       "  'def abc(n):\\n    L=[]\\n    for i in range(n):\\n        L.append(i)\\n    print(locals())',\n",
       "  'def abc(n):\\n    L=[]\\n    for i in range(n):\\n        L.append(i)\\n        print(locals())\\n        return L',\n",
       "  'def abc(n):\\n    L=[]\\n    for i in range(n):\\n        L.append(i)\\n        print(locals())\\n        return L\\nabc(3)',\n",
       "  'globals()'],\n",
       " '_oh': {3: NoneType,\n",
       "  6: function,\n",
       "  7: [10, 10, 10, 10, 10],\n",
       "  11: [[5, 5, 5, 5, 5, 5, 5, 5, 5, 5, 5, 5, 5, 5, 5, 5, 5, 5, 5, 5],\n",
       "   [5, 5, 5, 5, 5, 5, 5, 5, 5, 5, 5, 5, 5, 5, 5, 5, 5, 5, 5, 5],\n",
       "   [5, 5, 5, 5, 5, 5, 5, 5, 5, 5, 5, 5, 5, 5, 5, 5, 5, 5, 5, 5],\n",
       "   [5, 5, 5, 5, 5, 5, 5, 5, 5, 5, 5, 5, 5, 5, 5, 5, 5, 5, 5, 5],\n",
       "   [5, 5, 5, 5, 5, 5, 5, 5, 5, 5, 5, 5, 5, 5, 5, 5, 5, 5, 5, 5],\n",
       "   [5, 5, 5, 5, 5, 5, 5, 5, 5, 5, 5, 5, 5, 5, 5, 5, 5, 5, 5, 5],\n",
       "   [5, 5, 5, 5, 5, 5, 5, 5, 5, 5, 5, 5, 5, 5, 5, 5, 5, 5, 5, 5],\n",
       "   [5, 5, 5, 5, 5, 5, 5, 5, 5, 5, 5, 5, 5, 5, 5, 5, 5, 5, 5, 5],\n",
       "   [5, 5, 5, 5, 5, 5, 5, 5, 5, 5, 5, 5, 5, 5, 5, 5, 5, 5, 5, 5],\n",
       "   [5, 5, 5, 5, 5, 5, 5, 5, 5, 5, 5, 5, 5, 5, 5, 5, 5, 5, 5, 5]],\n",
       "  14: function,\n",
       "  16: [[5, 5, 5, 5, 5, 5, 5, 5, 5, 5, 5, 5, 5, 5, 5, 5, 5, 5, 5, 5],\n",
       "   [5, 5, 5, 5, 5, 5, 5, 5, 5, 5, 5, 5, 5, 5, 5, 5, 5, 5, 5, 5],\n",
       "   [5, 5, 5, 5, 5, 5, 5, 5, 5, 5, 5, 5, 5, 5, 5, 5, 5, 5, 5, 5],\n",
       "   [5, 5, 5, 5, 5, 5, 5, 5, 5, 5, 5, 5, 5, 5, 5, 5, 5, 5, 5, 5],\n",
       "   [5, 5, 5, 5, 5, 5, 5, 5, 5, 5, 5, 5, 5, 5, 5, 5, 5, 5, 5, 5],\n",
       "   [5, 5, 5, 5, 5, 5, 5, 5, 5, 5, 5, 5, 5, 5, 5, 5, 5, 5, 5, 5],\n",
       "   [5, 5, 5, 5, 5, 5, 5, 5, 5, 5, 5, 5, 5, 5, 5, 5, 5, 5, 5, 5],\n",
       "   [5, 5, 5, 5, 5, 5, 5, 5, 5, 5, 5, 5, 5, 5, 5, 5, 5, 5, 5, 5],\n",
       "   [5, 5, 5, 5, 5, 5, 5, 5, 5, 5, 5, 5, 5, 5, 5, 5, 5, 5, 5, 5],\n",
       "   [5, 5, 5, 5, 5, 5, 5, 5, 5, 5, 5, 5, 5, 5, 5, 5, 5, 5, 5, 5]],\n",
       "  17: [[[5, 5], [5, 5]], [[5, 5], [5, 5]]],\n",
       "  21: [7, 7, 7],\n",
       "  22: '홀수',\n",
       "  25: 'A',\n",
       "  26: 'A',\n",
       "  27: 'F',\n",
       "  28: 'B',\n",
       "  34: [2, 4, 6, 8, 10, 12, 14, 16, 18],\n",
       "  35: [2, 4, 6, 8, 10, 12, 14, 16, 18],\n",
       "  36: [2, 4, 6, 8, 10, 12, 14, 16, 18],\n",
       "  37: [2, 4, 6, 8, 10, 12, 14, 16, 18],\n",
       "  40: [0]},\n",
       " '_dh': ['D:\\\\Bigdata\\\\src\\\\Python'],\n",
       " 'In': ['',\n",
       "  \"# 함수를 return 하는 함수\\n'''\\nmake_box((2,)) => 1차원 2열 list를 만드는 함수를 리턴\\n    fun = make_box((2,))\\n    fun(10) => [10,10]\\nmake_box((3,4) => 2차원 3행4열 list를 만든 함수를 리턴\\n    fun = make_box((3,4))\\n    fun(5) => [[5,5,5,5],[5,5,5,5],[5,5,5,5]]\\n'''\\ndef make_box(shape):\\n    def box(init_value):\\n        if len(shape) == 1 :\\n            return [init_value]*shape[0]\\n        if len(shape) == 2 :\\n            return [[init_value]*shape[1]]*shape[0]\",\n",
       "  'fun=make_box((5,))',\n",
       "  'type(fun)',\n",
       "  \"# 함수를 return 하는 함수\\n'''\\nmake_box((2,)) => 1차원 2열 list를 만드는 함수를 리턴\\n    fun = make_box((2,))\\n    fun(10) => [10,10]\\nmake_box((3,4) => 2차원 3행4열 list를 만든 함수를 리턴\\n    fun = make_box((3,4))\\n    fun(5) => [[5,5,5,5],[5,5,5,5],[5,5,5,5]]\\n'''\\ndef make_box(shape):\\n    def box(init_value):\\n        if len(shape) == 1 :\\n            return [init_value]*shape[0]\\n        if len(shape) == 2 :\\n            return [[init_value]*shape[1]]*shape[0]\\n    return box\",\n",
       "  'fun=make_box((5,))',\n",
       "  'type(fun)',\n",
       "  'fun(10)',\n",
       "  'fun(10,20)',\n",
       "  'fun=make_box(10,20)',\n",
       "  'fun=make_box((10,20))',\n",
       "  'fun(5)',\n",
       "  \"# 함수를 return 하는 함수\\n'''\\nmake_box((2,)) => 1차원 2열 list를 만드는 함수를 리턴\\n    fun = make_box((2,))\\n    fun(10) => [10,10]\\nmake_box((3,4) => 2차원 3행4열 list를 만든 함수를 리턴\\n    fun = make_box((3,4))\\n    fun(5) => [[5,5,5,5],[5,5,5,5],[5,5,5,5]]\\n'''\\ndef make_box(shape):\\n    def box(init_value):\\n        if len(shape) == 1 :\\n            return [init_value]*shape[0]\\n        elif len(shape) == 2 :\\n            return [[init_value]*shape[1]]*shape[0]\\n        elif len(shape) == 3 :\\n            return [[[init_value]*shape[2]]*shape[1]]*shape[0]\\n    return box\",\n",
       "  'fun=make_box((5,))',\n",
       "  'type(fun)',\n",
       "  'fun=make_box((10,20))',\n",
       "  'fun(5)',\n",
       "  'fun=make_box((2,2,2))\\nfun(5)',\n",
       "  \"# 함수를 return 하는 함수\\n'''\\nmake_box((2,)) => 1차원 2열 list를 만드는 함수를 리턴\\n    fun = make_box((2,))\\n    fun(10) => [10,10]\\nmake_box((3,4) => 2차원 3행4열 list를 만든 함수를 리턴\\n    fun = make_box((3,4))\\n    fun(5) => [[5,5,5,5],[5,5,5,5],[5,5,5,5]]\\n'''\\ndef make_box(shape):\\n    def box(init_value):\\n        if len(shape) == 1 :\\n            return [init_value]*shape[0]\\n        elif len(shape) == 2 :\\n            return [[init_value]*shape[1]]*shape[0]\\n        elif len(shape) == 3 :\\n            return [[[init_value]*shape[2]]*shape[1]]*shape[0]\\n    return box\\ndef make_box1(shape):\\n        if len(shape)==1 :\\n            return lambda init_value : [init_value]*shape[0]\\n        elif len(shape)==2 :\\n            return lambda init_value : [[init_value]*shape[1]]*shape[0]\",\n",
       "  'line(7)',\n",
       "  'line=make_box1([3])',\n",
       "  'line(7)',\n",
       "  'def even_odd(num):\\n    if num%2==0:\\n        return \"짝수\"\\n    else:\\n        return \"홀수\"\\neven_odd_chk = lambda num : \"짝수\" if num%2==0 else \"홀수\"\\neven_odd_chk(7)',\n",
       "  'score_grade_chk= lambda score : \"A\" if 90<=score<=100 else \\\\\\n                    (\"B\" if 80<=score<90 else \\\\\\n                     (\"C\" if 70<=score<80 else \\\\\\n                      (\"D\" if 60<=score<70 else \"F\"))',\n",
       "  'score_grade_chk= lambda score : \"A\" if 90<=score<=100 else \\\\\\n                    (\"B\" if 80<=score<90 else \\\\\\n                     (\"C\" if 70<=score<80 else \\\\\\n                      (\"D\" if 60<=score<70 else \"F\")))',\n",
       "  'score_grade_chk(100)',\n",
       "  'score_grade_chk(90)',\n",
       "  'score_grade_chk(50)',\n",
       "  'score_grade_chk(88)',\n",
       "  '1:3',\n",
       "  '[1:3]',\n",
       "  'def countdown(n):\\n    if n == 0:\\n        print(\"Blastoff!\")\\n    else:\\n        print(n)\\n        countdown(n-1)',\n",
       "  'def countdown(n):\\n    if n == 0:\\n        print(\"Blastoff!\")\\n    else:\\n        print(n)\\n        countdown(n-1)\\ncountdown(4)',\n",
       "  'def map_template(func, L=None):\\n    if L is None:\\n        L=[]\\n    result = []\\n    for item in L:\\n        result.append(func(item))\\n    return result',\n",
       "  'list_data=list(range(1,10))\\ndef x_2(x):\\n    return x*2\\nmap_template(x_2, list_data)',\n",
       "  'map_template(lambda x: x*2, list_data)',\n",
       "  'map_template(lambda x: x*2, list_data)',\n",
       "  'list(map(lambda x : x*2, list_data))',\n",
       "  'def abc(n):\\n    L=[]\\n    for i in range(n):\\n        L.append(i)\\n    print(locals())',\n",
       "  'def abc(n):\\n    L=[]\\n    for i in range(n):\\n        L.append(i)\\n        print(locals())\\n        return L',\n",
       "  'def abc(n):\\n    L=[]\\n    for i in range(n):\\n        L.append(i)\\n        print(locals())\\n        return L\\nabc(3)',\n",
       "  'globals()'],\n",
       " 'Out': {3: NoneType,\n",
       "  6: function,\n",
       "  7: [10, 10, 10, 10, 10],\n",
       "  11: [[5, 5, 5, 5, 5, 5, 5, 5, 5, 5, 5, 5, 5, 5, 5, 5, 5, 5, 5, 5],\n",
       "   [5, 5, 5, 5, 5, 5, 5, 5, 5, 5, 5, 5, 5, 5, 5, 5, 5, 5, 5, 5],\n",
       "   [5, 5, 5, 5, 5, 5, 5, 5, 5, 5, 5, 5, 5, 5, 5, 5, 5, 5, 5, 5],\n",
       "   [5, 5, 5, 5, 5, 5, 5, 5, 5, 5, 5, 5, 5, 5, 5, 5, 5, 5, 5, 5],\n",
       "   [5, 5, 5, 5, 5, 5, 5, 5, 5, 5, 5, 5, 5, 5, 5, 5, 5, 5, 5, 5],\n",
       "   [5, 5, 5, 5, 5, 5, 5, 5, 5, 5, 5, 5, 5, 5, 5, 5, 5, 5, 5, 5],\n",
       "   [5, 5, 5, 5, 5, 5, 5, 5, 5, 5, 5, 5, 5, 5, 5, 5, 5, 5, 5, 5],\n",
       "   [5, 5, 5, 5, 5, 5, 5, 5, 5, 5, 5, 5, 5, 5, 5, 5, 5, 5, 5, 5],\n",
       "   [5, 5, 5, 5, 5, 5, 5, 5, 5, 5, 5, 5, 5, 5, 5, 5, 5, 5, 5, 5],\n",
       "   [5, 5, 5, 5, 5, 5, 5, 5, 5, 5, 5, 5, 5, 5, 5, 5, 5, 5, 5, 5]],\n",
       "  14: function,\n",
       "  16: [[5, 5, 5, 5, 5, 5, 5, 5, 5, 5, 5, 5, 5, 5, 5, 5, 5, 5, 5, 5],\n",
       "   [5, 5, 5, 5, 5, 5, 5, 5, 5, 5, 5, 5, 5, 5, 5, 5, 5, 5, 5, 5],\n",
       "   [5, 5, 5, 5, 5, 5, 5, 5, 5, 5, 5, 5, 5, 5, 5, 5, 5, 5, 5, 5],\n",
       "   [5, 5, 5, 5, 5, 5, 5, 5, 5, 5, 5, 5, 5, 5, 5, 5, 5, 5, 5, 5],\n",
       "   [5, 5, 5, 5, 5, 5, 5, 5, 5, 5, 5, 5, 5, 5, 5, 5, 5, 5, 5, 5],\n",
       "   [5, 5, 5, 5, 5, 5, 5, 5, 5, 5, 5, 5, 5, 5, 5, 5, 5, 5, 5, 5],\n",
       "   [5, 5, 5, 5, 5, 5, 5, 5, 5, 5, 5, 5, 5, 5, 5, 5, 5, 5, 5, 5],\n",
       "   [5, 5, 5, 5, 5, 5, 5, 5, 5, 5, 5, 5, 5, 5, 5, 5, 5, 5, 5, 5],\n",
       "   [5, 5, 5, 5, 5, 5, 5, 5, 5, 5, 5, 5, 5, 5, 5, 5, 5, 5, 5, 5],\n",
       "   [5, 5, 5, 5, 5, 5, 5, 5, 5, 5, 5, 5, 5, 5, 5, 5, 5, 5, 5, 5]],\n",
       "  17: [[[5, 5], [5, 5]], [[5, 5], [5, 5]]],\n",
       "  21: [7, 7, 7],\n",
       "  22: '홀수',\n",
       "  25: 'A',\n",
       "  26: 'A',\n",
       "  27: 'F',\n",
       "  28: 'B',\n",
       "  34: [2, 4, 6, 8, 10, 12, 14, 16, 18],\n",
       "  35: [2, 4, 6, 8, 10, 12, 14, 16, 18],\n",
       "  36: [2, 4, 6, 8, 10, 12, 14, 16, 18],\n",
       "  37: [2, 4, 6, 8, 10, 12, 14, 16, 18],\n",
       "  40: [0]},\n",
       " 'get_ipython': <function IPython.core.getipython.get_ipython()>,\n",
       " 'exit': <IPython.core.autocall.ZMQExitAutocall at 0x13b2fe26520>,\n",
       " 'quit': <IPython.core.autocall.ZMQExitAutocall at 0x13b2fe26520>,\n",
       " '_': [0],\n",
       " '__': [2, 4, 6, 8, 10, 12, 14, 16, 18],\n",
       " '___': [2, 4, 6, 8, 10, 12, 14, 16, 18],\n",
       " 'json': <module 'json' from 'C:\\\\Users\\\\tjoeun\\\\anaconda3\\\\lib\\\\json\\\\__init__.py'>,\n",
       " 'yapf_reformat': <function __main__.yapf_reformat(cell_text)>,\n",
       " 'autopep8': <module 'autopep8' from 'C:\\\\Users\\\\tjoeun\\\\anaconda3\\\\lib\\\\site-packages\\\\autopep8.py'>,\n",
       " 'getsizeof': <function sys.getsizeof>,\n",
       " 'NamespaceMagics': IPython.core.magics.namespace.NamespaceMagics,\n",
       " '_nms': <IPython.core.magics.namespace.NamespaceMagics at 0x13b2ff343a0>,\n",
       " '_Jupyter': <ipykernel.zmqshell.ZMQInteractiveShell at 0x13b2fdb2820>,\n",
       " 'np': <module 'numpy' from 'C:\\\\Users\\\\tjoeun\\\\anaconda3\\\\lib\\\\site-packages\\\\numpy\\\\__init__.py'>,\n",
       " '_getsizeof': <function __main__._getsizeof(x)>,\n",
       " '_getshapeof': <function __main__._getshapeof(x)>,\n",
       " 'var_dic_list': <function __main__.var_dic_list()>,\n",
       " '_i': 'def abc(n):\\n    L=[]\\n    for i in range(n):\\n        L.append(i)\\n        print(locals())\\n        return L\\nabc(3)',\n",
       " '_ii': 'def abc(n):\\n    L=[]\\n    for i in range(n):\\n        L.append(i)\\n        print(locals())\\n        return L',\n",
       " '_iii': 'def abc(n):\\n    L=[]\\n    for i in range(n):\\n        L.append(i)\\n    print(locals())',\n",
       " '_i1': \"# 함수를 return 하는 함수\\n'''\\nmake_box((2,)) => 1차원 2열 list를 만드는 함수를 리턴\\n    fun = make_box((2,))\\n    fun(10) => [10,10]\\nmake_box((3,4) => 2차원 3행4열 list를 만든 함수를 리턴\\n    fun = make_box((3,4))\\n    fun(5) => [[5,5,5,5],[5,5,5,5],[5,5,5,5]]\\n'''\\ndef make_box(shape):\\n    def box(init_value):\\n        if len(shape) == 1 :\\n            return [init_value]*shape[0]\\n        if len(shape) == 2 :\\n            return [[init_value]*shape[1]]*shape[0]\",\n",
       " 'make_box': <function __main__.make_box(shape)>,\n",
       " '_i2': 'fun=make_box((5,))',\n",
       " 'fun': <function __main__.make_box.<locals>.box(init_value)>,\n",
       " '_i3': 'type(fun)',\n",
       " '_3': NoneType,\n",
       " '_i4': \"# 함수를 return 하는 함수\\n'''\\nmake_box((2,)) => 1차원 2열 list를 만드는 함수를 리턴\\n    fun = make_box((2,))\\n    fun(10) => [10,10]\\nmake_box((3,4) => 2차원 3행4열 list를 만든 함수를 리턴\\n    fun = make_box((3,4))\\n    fun(5) => [[5,5,5,5],[5,5,5,5],[5,5,5,5]]\\n'''\\ndef make_box(shape):\\n    def box(init_value):\\n        if len(shape) == 1 :\\n            return [init_value]*shape[0]\\n        if len(shape) == 2 :\\n            return [[init_value]*shape[1]]*shape[0]\\n    return box\",\n",
       " '_i5': 'fun=make_box((5,))',\n",
       " '_i6': 'type(fun)',\n",
       " '_6': function,\n",
       " '_i7': 'fun(10)',\n",
       " '_7': [10, 10, 10, 10, 10],\n",
       " '_i8': 'fun(10,20)',\n",
       " '_i9': 'fun=make_box(10,20)',\n",
       " '_i10': 'fun=make_box((10,20))',\n",
       " '_i11': 'fun(5)',\n",
       " '_11': [[5, 5, 5, 5, 5, 5, 5, 5, 5, 5, 5, 5, 5, 5, 5, 5, 5, 5, 5, 5],\n",
       "  [5, 5, 5, 5, 5, 5, 5, 5, 5, 5, 5, 5, 5, 5, 5, 5, 5, 5, 5, 5],\n",
       "  [5, 5, 5, 5, 5, 5, 5, 5, 5, 5, 5, 5, 5, 5, 5, 5, 5, 5, 5, 5],\n",
       "  [5, 5, 5, 5, 5, 5, 5, 5, 5, 5, 5, 5, 5, 5, 5, 5, 5, 5, 5, 5],\n",
       "  [5, 5, 5, 5, 5, 5, 5, 5, 5, 5, 5, 5, 5, 5, 5, 5, 5, 5, 5, 5],\n",
       "  [5, 5, 5, 5, 5, 5, 5, 5, 5, 5, 5, 5, 5, 5, 5, 5, 5, 5, 5, 5],\n",
       "  [5, 5, 5, 5, 5, 5, 5, 5, 5, 5, 5, 5, 5, 5, 5, 5, 5, 5, 5, 5],\n",
       "  [5, 5, 5, 5, 5, 5, 5, 5, 5, 5, 5, 5, 5, 5, 5, 5, 5, 5, 5, 5],\n",
       "  [5, 5, 5, 5, 5, 5, 5, 5, 5, 5, 5, 5, 5, 5, 5, 5, 5, 5, 5, 5],\n",
       "  [5, 5, 5, 5, 5, 5, 5, 5, 5, 5, 5, 5, 5, 5, 5, 5, 5, 5, 5, 5]],\n",
       " '_i12': \"# 함수를 return 하는 함수\\n'''\\nmake_box((2,)) => 1차원 2열 list를 만드는 함수를 리턴\\n    fun = make_box((2,))\\n    fun(10) => [10,10]\\nmake_box((3,4) => 2차원 3행4열 list를 만든 함수를 리턴\\n    fun = make_box((3,4))\\n    fun(5) => [[5,5,5,5],[5,5,5,5],[5,5,5,5]]\\n'''\\ndef make_box(shape):\\n    def box(init_value):\\n        if len(shape) == 1 :\\n            return [init_value]*shape[0]\\n        elif len(shape) == 2 :\\n            return [[init_value]*shape[1]]*shape[0]\\n        elif len(shape) == 3 :\\n            return [[[init_value]*shape[2]]*shape[1]]*shape[0]\\n    return box\",\n",
       " '_i13': 'fun=make_box((5,))',\n",
       " '_i14': 'type(fun)',\n",
       " '_14': function,\n",
       " '_i15': 'fun=make_box((10,20))',\n",
       " '_i16': 'fun(5)',\n",
       " '_16': [[5, 5, 5, 5, 5, 5, 5, 5, 5, 5, 5, 5, 5, 5, 5, 5, 5, 5, 5, 5],\n",
       "  [5, 5, 5, 5, 5, 5, 5, 5, 5, 5, 5, 5, 5, 5, 5, 5, 5, 5, 5, 5],\n",
       "  [5, 5, 5, 5, 5, 5, 5, 5, 5, 5, 5, 5, 5, 5, 5, 5, 5, 5, 5, 5],\n",
       "  [5, 5, 5, 5, 5, 5, 5, 5, 5, 5, 5, 5, 5, 5, 5, 5, 5, 5, 5, 5],\n",
       "  [5, 5, 5, 5, 5, 5, 5, 5, 5, 5, 5, 5, 5, 5, 5, 5, 5, 5, 5, 5],\n",
       "  [5, 5, 5, 5, 5, 5, 5, 5, 5, 5, 5, 5, 5, 5, 5, 5, 5, 5, 5, 5],\n",
       "  [5, 5, 5, 5, 5, 5, 5, 5, 5, 5, 5, 5, 5, 5, 5, 5, 5, 5, 5, 5],\n",
       "  [5, 5, 5, 5, 5, 5, 5, 5, 5, 5, 5, 5, 5, 5, 5, 5, 5, 5, 5, 5],\n",
       "  [5, 5, 5, 5, 5, 5, 5, 5, 5, 5, 5, 5, 5, 5, 5, 5, 5, 5, 5, 5],\n",
       "  [5, 5, 5, 5, 5, 5, 5, 5, 5, 5, 5, 5, 5, 5, 5, 5, 5, 5, 5, 5]],\n",
       " '_i17': 'fun=make_box((2,2,2))\\nfun(5)',\n",
       " '_17': [[[5, 5], [5, 5]], [[5, 5], [5, 5]]],\n",
       " '_i18': \"# 함수를 return 하는 함수\\n'''\\nmake_box((2,)) => 1차원 2열 list를 만드는 함수를 리턴\\n    fun = make_box((2,))\\n    fun(10) => [10,10]\\nmake_box((3,4) => 2차원 3행4열 list를 만든 함수를 리턴\\n    fun = make_box((3,4))\\n    fun(5) => [[5,5,5,5],[5,5,5,5],[5,5,5,5]]\\n'''\\ndef make_box(shape):\\n    def box(init_value):\\n        if len(shape) == 1 :\\n            return [init_value]*shape[0]\\n        elif len(shape) == 2 :\\n            return [[init_value]*shape[1]]*shape[0]\\n        elif len(shape) == 3 :\\n            return [[[init_value]*shape[2]]*shape[1]]*shape[0]\\n    return box\\ndef make_box1(shape):\\n        if len(shape)==1 :\\n            return lambda init_value : [init_value]*shape[0]\\n        elif len(shape)==2 :\\n            return lambda init_value : [[init_value]*shape[1]]*shape[0]\",\n",
       " 'make_box1': <function __main__.make_box1(shape)>,\n",
       " '_i19': 'line(7)',\n",
       " '_i20': 'line=make_box1([3])',\n",
       " 'line': <function __main__.make_box1.<locals>.<lambda>(init_value)>,\n",
       " '_i21': 'line(7)',\n",
       " '_21': [7, 7, 7],\n",
       " '_i22': 'def even_odd(num):\\n    if num%2==0:\\n        return \"짝수\"\\n    else:\\n        return \"홀수\"\\neven_odd_chk = lambda num : \"짝수\" if num%2==0 else \"홀수\"\\neven_odd_chk(7)',\n",
       " 'even_odd': <function __main__.even_odd(num)>,\n",
       " 'even_odd_chk': <function __main__.<lambda>(num)>,\n",
       " '_22': '홀수',\n",
       " '_i23': 'score_grade_chk= lambda score : \"A\" if 90<=score<=100 else \\\\\\n                    (\"B\" if 80<=score<90 else \\\\\\n                     (\"C\" if 70<=score<80 else \\\\\\n                      (\"D\" if 60<=score<70 else \"F\"))',\n",
       " '_i24': 'score_grade_chk= lambda score : \"A\" if 90<=score<=100 else \\\\\\n                    (\"B\" if 80<=score<90 else \\\\\\n                     (\"C\" if 70<=score<80 else \\\\\\n                      (\"D\" if 60<=score<70 else \"F\")))',\n",
       " 'score_grade_chk': <function __main__.<lambda>(score)>,\n",
       " '_i25': 'score_grade_chk(100)',\n",
       " '_25': 'A',\n",
       " '_i26': 'score_grade_chk(90)',\n",
       " '_26': 'A',\n",
       " '_i27': 'score_grade_chk(50)',\n",
       " '_27': 'F',\n",
       " '_i28': 'score_grade_chk(88)',\n",
       " '_28': 'B',\n",
       " '_i29': '1:3',\n",
       " '_i30': '[1:3]',\n",
       " '_i31': 'def countdown(n):\\n    if n == 0:\\n        print(\"Blastoff!\")\\n    else:\\n        print(n)\\n        countdown(n-1)',\n",
       " 'countdown': <function __main__.countdown(n)>,\n",
       " '_i32': 'def countdown(n):\\n    if n == 0:\\n        print(\"Blastoff!\")\\n    else:\\n        print(n)\\n        countdown(n-1)\\ncountdown(4)',\n",
       " '_i33': 'def map_template(func, L=None):\\n    if L is None:\\n        L=[]\\n    result = []\\n    for item in L:\\n        result.append(func(item))\\n    return result',\n",
       " 'map_template': <function __main__.map_template(func, L=None)>,\n",
       " '_i34': 'list_data=list(range(1,10))\\ndef x_2(x):\\n    return x*2\\nmap_template(x_2, list_data)',\n",
       " 'list_data': [1, 2, 3, 4, 5, 6, 7, 8, 9],\n",
       " 'x_2': <function __main__.x_2(x)>,\n",
       " '_34': [2, 4, 6, 8, 10, 12, 14, 16, 18],\n",
       " '_i35': 'map_template(lambda x: x*2, list_data)',\n",
       " '_35': [2, 4, 6, 8, 10, 12, 14, 16, 18],\n",
       " '_i36': 'map_template(lambda x: x*2, list_data)',\n",
       " '_36': [2, 4, 6, 8, 10, 12, 14, 16, 18],\n",
       " '_i37': 'list(map(lambda x : x*2, list_data))',\n",
       " '_37': [2, 4, 6, 8, 10, 12, 14, 16, 18],\n",
       " '_i38': 'def abc(n):\\n    L=[]\\n    for i in range(n):\\n        L.append(i)\\n    print(locals())',\n",
       " 'abc': <function __main__.abc(n)>,\n",
       " '_i39': 'def abc(n):\\n    L=[]\\n    for i in range(n):\\n        L.append(i)\\n        print(locals())\\n        return L',\n",
       " '_i40': 'def abc(n):\\n    L=[]\\n    for i in range(n):\\n        L.append(i)\\n        print(locals())\\n        return L\\nabc(3)',\n",
       " '_40': [0],\n",
       " '_i41': 'globals()'}"
      ]
     },
     "execution_count": 41,
     "metadata": {},
     "output_type": "execute_result"
    }
   ],
   "source": [
    "globals() #전역변수들"
   ]
  },
  {
   "cell_type": "code",
   "execution_count": 42,
   "id": "0ed5aa20",
   "metadata": {
    "ExecuteTime": {
     "end_time": "2021-07-22T06:37:56.648226Z",
     "start_time": "2021-07-22T06:37:56.616954Z"
    }
   },
   "outputs": [
    {
     "data": {
      "text/plain": [
       "True"
      ]
     },
     "execution_count": 42,
     "metadata": {},
     "output_type": "execute_result"
    }
   ],
   "source": [
    "isinstance(3.5, float)"
   ]
  },
  {
   "cell_type": "code",
   "execution_count": 44,
   "id": "5ba68f2c",
   "metadata": {
    "ExecuteTime": {
     "end_time": "2021-07-22T06:43:53.709884Z",
     "start_time": "2021-07-22T06:43:53.693925Z"
    }
   },
   "outputs": [],
   "source": [
    "# class Test{\n",
    "#     private int a;\n",
    "#     private int b;\n",
    "#     public Test(int a, int b){\n",
    "#         this.a = a;\n",
    "#         this.b = b;\n",
    "#     }\n",
    "#     public void print_info(){\n",
    "#         sysout(a,b)\n",
    "#     }\n",
    "# }\n",
    "class Test:\n",
    "    def __init__(self, a, b):\n",
    "        self.a = a\n",
    "        self.b = b\n",
    "    def print_info(self):\n",
    "        print(\"a = {}, b = {}\".format(self.a, self.b))"
   ]
  },
  {
   "cell_type": "code",
   "execution_count": 51,
   "id": "219b1549",
   "metadata": {
    "ExecuteTime": {
     "end_time": "2021-07-22T06:45:43.261025Z",
     "start_time": "2021-07-22T06:45:43.244039Z"
    }
   },
   "outputs": [
    {
     "data": {
      "text/plain": [
       "(10, 20)"
      ]
     },
     "execution_count": 51,
     "metadata": {},
     "output_type": "execute_result"
    }
   ],
   "source": [
    "test = Test(10,20)\n",
    "test.a, test.b"
   ]
  },
  {
   "cell_type": "code",
   "execution_count": 52,
   "id": "f3f4cd61",
   "metadata": {
    "ExecuteTime": {
     "end_time": "2021-07-22T06:45:43.526698Z",
     "start_time": "2021-07-22T06:45:43.514730Z"
    }
   },
   "outputs": [
    {
     "name": "stdout",
     "output_type": "stream",
     "text": [
      "a = 10, b = 20\n"
     ]
    }
   ],
   "source": [
    "test.print_info()"
   ]
  },
  {
   "cell_type": "code",
   "execution_count": 55,
   "id": "fd1e4cd5",
   "metadata": {
    "ExecuteTime": {
     "end_time": "2021-07-22T06:46:17.321930Z",
     "start_time": "2021-07-22T06:46:17.310949Z"
    }
   },
   "outputs": [
    {
     "data": {
      "text/plain": [
       "['__class__',\n",
       " '__delattr__',\n",
       " '__dict__',\n",
       " '__dir__',\n",
       " '__doc__',\n",
       " '__eq__',\n",
       " '__format__',\n",
       " '__ge__',\n",
       " '__getattribute__',\n",
       " '__gt__',\n",
       " '__hash__',\n",
       " '__init__',\n",
       " '__init_subclass__',\n",
       " '__le__',\n",
       " '__lt__',\n",
       " '__module__',\n",
       " '__ne__',\n",
       " '__new__',\n",
       " '__reduce__',\n",
       " '__reduce_ex__',\n",
       " '__repr__',\n",
       " '__setattr__',\n",
       " '__sizeof__',\n",
       " '__str__',\n",
       " '__subclasshook__',\n",
       " '__weakref__',\n",
       " 'a',\n",
       " 'b',\n",
       " 'print_info']"
      ]
     },
     "execution_count": 55,
     "metadata": {},
     "output_type": "execute_result"
    }
   ],
   "source": [
    "dir(test) #test 안에 있는 것들"
   ]
  },
  {
   "cell_type": "code",
   "execution_count": 57,
   "id": "6e470fe3",
   "metadata": {
    "ExecuteTime": {
     "end_time": "2021-07-22T06:47:32.033240Z",
     "start_time": "2021-07-22T06:47:32.015268Z"
    }
   },
   "outputs": [
    {
     "data": {
      "text/plain": [
       "[(0, 10), (1, 20), (2, 30)]"
      ]
     },
     "execution_count": 57,
     "metadata": {},
     "output_type": "execute_result"
    }
   ],
   "source": [
    "list(enumerate([10,20,30]))"
   ]
  },
  {
   "cell_type": "code",
   "execution_count": 58,
   "id": "46f28c7e",
   "metadata": {
    "ExecuteTime": {
     "end_time": "2021-07-22T06:47:50.804879Z",
     "start_time": "2021-07-22T06:47:50.797898Z"
    }
   },
   "outputs": [
    {
     "data": {
      "text/plain": [
       "False"
      ]
     },
     "execution_count": 58,
     "metadata": {},
     "output_type": "execute_result"
    }
   ],
   "source": [
    "all([True, True, True,\"\"])"
   ]
  },
  {
   "cell_type": "code",
   "execution_count": 59,
   "id": "a111cf58",
   "metadata": {
    "ExecuteTime": {
     "end_time": "2021-07-22T06:48:41.782665Z",
     "start_time": "2021-07-22T06:48:41.770677Z"
    }
   },
   "outputs": [
    {
     "data": {
      "text/plain": [
       "True"
      ]
     },
     "execution_count": 59,
     "metadata": {},
     "output_type": "execute_result"
    }
   ],
   "source": [
    "any([True, False])"
   ]
  },
  {
   "cell_type": "code",
   "execution_count": 61,
   "id": "1a0c978e",
   "metadata": {
    "ExecuteTime": {
     "end_time": "2021-07-22T06:50:33.944010Z",
     "start_time": "2021-07-22T06:50:33.937994Z"
    }
   },
   "outputs": [
    {
     "data": {
      "text/plain": [
       "(4, 3.9)"
      ]
     },
     "execution_count": 61,
     "metadata": {},
     "output_type": "execute_result"
    }
   ],
   "source": [
    "round(3.86),round(3.86,1)"
   ]
  },
  {
   "cell_type": "code",
   "execution_count": 62,
   "id": "cfdfc4fa",
   "metadata": {
    "ExecuteTime": {
     "end_time": "2021-07-22T06:50:59.501497Z",
     "start_time": "2021-07-22T06:50:59.485854Z"
    }
   },
   "outputs": [
    {
     "data": {
      "text/plain": [
       "(3.0, 4.0)"
      ]
     },
     "execution_count": 62,
     "metadata": {},
     "output_type": "execute_result"
    }
   ],
   "source": [
    "import numpy\n",
    "numpy.floor(3.86), numpy.ceil(3.86)"
   ]
  },
  {
   "cell_type": "code",
   "execution_count": null,
   "id": "cffb05f2",
   "metadata": {},
   "outputs": [],
   "source": []
  }
 ],
 "metadata": {
  "kernelspec": {
   "display_name": "Python 3",
   "language": "python",
   "name": "python3"
  },
  "language_info": {
   "codemirror_mode": {
    "name": "ipython",
    "version": 3
   },
   "file_extension": ".py",
   "mimetype": "text/x-python",
   "name": "python",
   "nbconvert_exporter": "python",
   "pygments_lexer": "ipython3",
   "version": "3.8.8"
  },
  "toc": {
   "base_numbering": 1,
   "nav_menu": {},
   "number_sections": false,
   "sideBar": true,
   "skip_h1_title": false,
   "title_cell": "Table of Contents",
   "title_sidebar": "Contents",
   "toc_cell": false,
   "toc_position": {},
   "toc_section_display": true,
   "toc_window_display": true
  },
  "varInspector": {
   "cols": {
    "lenName": 16,
    "lenType": 16,
    "lenVar": 40
   },
   "kernels_config": {
    "python": {
     "delete_cmd_postfix": "",
     "delete_cmd_prefix": "del ",
     "library": "var_list.py",
     "varRefreshCmd": "print(var_dic_list())"
    },
    "r": {
     "delete_cmd_postfix": ") ",
     "delete_cmd_prefix": "rm(",
     "library": "var_list.r",
     "varRefreshCmd": "cat(var_dic_list()) "
    }
   },
   "types_to_exclude": [
    "module",
    "function",
    "builtin_function_or_method",
    "instance",
    "_Feature"
   ],
   "window_display": false
  }
 },
 "nbformat": 4,
 "nbformat_minor": 5
}
