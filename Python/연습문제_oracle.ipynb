{
 "cells": [
  {
   "cell_type": "code",
   "execution_count": null,
   "id": "2facfdcf",
   "metadata": {
    "ExecuteTime": {
     "end_time": "2021-07-28T08:00:59.852152Z",
     "start_time": "2021-07-28T08:00:59.841192Z"
    }
   },
   "outputs": [],
   "source": [
    "class Member:\n",
    "    def __init__(self, name, phone, email, age, grade, etc):\n",
    "        self.name=name\n",
    "        self.phone=phone\n",
    "        self.email=email\n",
    "        self.age=age\n",
    "        self.grade=grade\n",
    "        self.etc=etc\n",
    "    def as_dic(self): #객체를 딕셔너리로 반환 (csv파일 저장시)\n",
    "        return {'name':self.name, 'phone':self.phone, 'email':self.email, 'age':self.age, 'grade':self.grade, 'etc':self.etc}\n",
    "    def as_list(self): #객체를 \"홍길동 010-9999-9999 e@e.com 20 3 까칠\"\n",
    "        return [self.name, self.phone, self.email, self.age, self.grade, self.etc]\n",
    "    def __str__(self): # *** 홍길동 010-9999-9999 e@e.com 20 까칠\n",
    "        return \"{:>5}\\t{:3}\\t{:15}\\t{:15}\\t{:3}\\t{}\".format('*'*self.grade, self.name, self.phone, self.email, self.age, self.etc)        "
   ]
  },
  {
   "cell_type": "code",
   "execution_count": 16,
   "id": "5a8cd135",
   "metadata": {
    "ExecuteTime": {
     "end_time": "2021-07-28T08:32:18.743603Z",
     "start_time": "2021-07-28T08:32:18.705531Z"
    }
   },
   "outputs": [],
   "source": [
    "import cx_Oracle\n",
    "oracle_dsn= cx_Oracle.makedsn(host=\"localhost\", port=1521, sid=\"xe\")\n",
    "conn=cx_Oracle.connect(user=\"scott\",password=\"tiger\", dsn=oracle_dsn)\n",
    "cursor=conn.cursor()"
   ]
  },
  {
   "cell_type": "code",
   "execution_count": null,
   "id": "6d73bd14",
   "metadata": {
    "ExecuteTime": {
     "end_time": "2021-07-28T08:01:00.367191Z",
     "start_time": "2021-07-28T08:01:00.231644Z"
    }
   },
   "outputs": [],
   "source": [
    "try:\n",
    "    cursor.execute(\"DROP TABLE MEMBER\")\n",
    "except:\n",
    "    pass\n",
    "cursor.execute(\"\"\"\n",
    "    CREATE TABLE MEMBER(\n",
    "        name VARCHAR2(20),\n",
    "        phone VARCHAR2(30),\n",
    "        email VARCHAR2(100),\n",
    "        age NUMBER(3),\n",
    "        grade NUMBER(1),\n",
    "        etc VARCHAR(100)\n",
    "    )\n",
    "\"\"\")"
   ]
  },
  {
   "cell_type": "code",
   "execution_count": 7,
   "id": "f84ecbbc",
   "metadata": {
    "ExecuteTime": {
     "end_time": "2021-07-28T08:31:13.253417Z",
     "start_time": "2021-07-28T08:31:13.235450Z"
    }
   },
   "outputs": [],
   "source": [
    "#1. 입력\n",
    "def insert_member():\n",
    "    cursor=conn.cursor()\n",
    "    name=input(\"이름 : \")\n",
    "    phone=input(\"전화번호 : \")\n",
    "    email = input(\"이메일 : \")\n",
    "    age=int(input(\"나이 : \"))\n",
    "    grade=int(input(\"고객등급(1~5) : \"))\n",
    "    etc=input(\"기타 정보 : \")\n",
    "    member=Member(name,phone,email,age,grade,etc)\n",
    "    cursor.execute(\"INSERT INTO MEMBER VALUES (:name, :phone, :email, :age, :grade, :etc)\",member.as_dic())\n",
    "    conn.commit()\n",
    "    cursor.close()\n",
    "    pass"
   ]
  },
  {
   "cell_type": "code",
   "execution_count": 8,
   "id": "c031c318",
   "metadata": {
    "ExecuteTime": {
     "end_time": "2021-07-28T08:31:13.487864Z",
     "start_time": "2021-07-28T08:31:13.468912Z"
    }
   },
   "outputs": [],
   "source": [
    "#2. 전체 출력\n",
    "def select_all():\n",
    "    import pandas as pd\n",
    "    cursor=conn.cursor()\n",
    "    cursor.execute(\"SELECT * FROM MEMBER\")\n",
    "    #members=cursor.fetchall() #왜 cussor.fetchall()만 하면 안 되지????\n",
    "    data=cursor.fetchall()\n",
    "    data_df=pd.DataFrame(data)\n",
    "    data_df.columns=[row[0] for row in cursor.description]\n",
    "    print(data_df)\n",
    "    cursor.close()\n",
    "    pass"
   ]
  },
  {
   "cell_type": "code",
   "execution_count": 9,
   "id": "fa3afe04",
   "metadata": {
    "ExecuteTime": {
     "end_time": "2021-07-28T08:31:13.707667Z",
     "start_time": "2021-07-28T08:31:13.693712Z"
    }
   },
   "outputs": [],
   "source": [
    "#3. 이름찾기\n",
    "def select_name():\n",
    "    cursor=conn.cursor()\n",
    "    name=input(\"이름 : \")\n",
    "    cursor.execute(\"SELECT * FROM MEMBER WHERE NAME = :name\",{'name':name})\n",
    "    members=cursor.fetchall() #왜 cussor.fetchall()만 하면 안 되지????\n",
    "    for i in members:\n",
    "        print(i)\n",
    "    cursor.close()\n",
    "    pass"
   ]
  },
  {
   "cell_type": "code",
   "execution_count": 10,
   "id": "a17b9e97",
   "metadata": {
    "ExecuteTime": {
     "end_time": "2021-07-28T08:31:14.273358Z",
     "start_time": "2021-07-28T08:31:14.266377Z"
    }
   },
   "outputs": [],
   "source": [
    "#4. 메일 삭제 (했으면 했다,안했으면 안했다.)\n",
    "def delete_member():\n",
    "    cursor=conn.cursor()\n",
    "    email=input(\"이메일 : \")\n",
    "    cursor.execute(\"SELECT * FROM MEMBER WHERE EMAIL = :email\",{'email':email})\n",
    "    members=cursor.fetchall()\n",
    "    if len(members)==0:\n",
    "        print(\"그런 이메일 없다\")\n",
    "    else :\n",
    "        print(\"해당 이메일 보유자 삭제 완료\")\n",
    "    cursor.execute(\"DELETE FROM MEMBER WHERE EMAIL= :email\",{'email':email})\n",
    "    conn.commit()\n",
    "    cursor.close()\n",
    "    pass"
   ]
  },
  {
   "cell_type": "code",
   "execution_count": 11,
   "id": "9cb465f9",
   "metadata": {
    "ExecuteTime": {
     "end_time": "2021-07-28T08:31:14.496369Z",
     "start_time": "2021-07-28T08:31:14.480388Z"
    }
   },
   "outputs": [],
   "source": [
    "#5. 내보내기 (csv 헤더 포함)\n",
    "def save_csv():\n",
    "    import csv\n",
    "    cursor=conn.cursor()\n",
    "    filename=input(\"파일명 : \")\n",
    "    members_list=[]\n",
    "    cursor.execute(\"SELECT * FROM MEMBER\")\n",
    "    members=cursor.fetchall()\n",
    "    fnames=[]\n",
    "    for nm in [row[0] for row in cursor.description]:\n",
    "        fnames.append(nm.lower())\n",
    "    for i in members:\n",
    "        member=Member(i[0],i[1],i[2],i[3],i[4],i[5])\n",
    "        members_list.append(member)\n",
    "    with open(filename,\"w\", encoding=\"utf-8\", newline=\"\") as f:\n",
    "        dict_writer = csv.DictWriter(f, fieldnames=fnames)\n",
    "        dict_writer.writeheader()\n",
    "        for m in members_list:\n",
    "            dict_writer.writerow(m.as_dic())\n",
    "    cursor.close()\n",
    "    pass"
   ]
  },
  {
   "cell_type": "code",
   "execution_count": 12,
   "id": "cab08fbe",
   "metadata": {
    "ExecuteTime": {
     "end_time": "2021-07-28T08:31:15.339529Z",
     "start_time": "2021-07-28T08:31:15.323571Z"
    }
   },
   "outputs": [],
   "source": [
    "#0. 종료하기\n",
    "def close_sql():\n",
    "    conn.close()\n",
    "    pass"
   ]
  },
  {
   "cell_type": "code",
   "execution_count": 13,
   "id": "3b777356",
   "metadata": {
    "ExecuteTime": {
     "end_time": "2021-07-28T08:31:16.232391Z",
     "start_time": "2021-07-28T08:31:16.217424Z"
    }
   },
   "outputs": [],
   "source": [
    "def main():\n",
    "    while True:\n",
    "        print(\"1:입력|2:전체조회|3:이름찾기|4:메일삭제|5:내보내기(CSV)|0:종료\")\n",
    "        try:\n",
    "            fn=int(input('메뉴 선택 : '))\n",
    "        except Exception:\n",
    "            print(\"숫자 1,2,3,4,5,0 중에 하나를 입력하시오\")\n",
    "            continue\n",
    "        if fn==1:\n",
    "            insert_member()\n",
    "        elif fn==2:\n",
    "            select_all()\n",
    "        elif fn==3:\n",
    "            select_name()\n",
    "        elif fn==4:\n",
    "            delete_member()\n",
    "        elif fn==5:\n",
    "            save_csv()\n",
    "        elif fn==0:\n",
    "            close_sql()\n",
    "            break"
   ]
  },
  {
   "cell_type": "code",
   "execution_count": 23,
   "id": "0eda186f",
   "metadata": {
    "ExecuteTime": {
     "end_time": "2021-07-28T08:32:42.628082Z",
     "start_time": "2021-07-28T08:32:41.707815Z"
    }
   },
   "outputs": [
    {
     "name": "stdout",
     "output_type": "stream",
     "text": [
      "1:입력|2:전체조회|3:이름찾기|4:메일삭제|5:내보내기(CSV)|0:종료\n",
      "메뉴 선택 : 0\n"
     ]
    }
   ],
   "source": [
    "if __name__==\"__main__\":\n",
    "    import cx_Oracle\n",
    "    oracle_dsn= cx_Oracle.makedsn(host=\"localhost\", port=1521, sid=\"xe\")\n",
    "    global conn\n",
    "    conn=cx_Oracle.connect(user=\"scott\",password=\"tiger\", dsn=oracle_dsn)\n",
    "    main()"
   ]
  },
  {
   "cell_type": "code",
   "execution_count": 24,
   "id": "28bfc829",
   "metadata": {
    "ExecuteTime": {
     "end_time": "2021-07-28T08:32:43.673329Z",
     "start_time": "2021-07-28T08:32:43.666360Z"
    }
   },
   "outputs": [],
   "source": [
    "cursor.execute(\"INSERT INTO MEMBER VALUES ('홍길동','010-9999','emememem', :age, 3, '홍길동')\",age=20)"
   ]
  },
  {
   "cell_type": "code",
   "execution_count": 25,
   "id": "4d3b758f",
   "metadata": {
    "ExecuteTime": {
     "end_time": "2021-07-28T08:32:44.341155Z",
     "start_time": "2021-07-28T08:32:44.326176Z"
    }
   },
   "outputs": [
    {
     "data": {
      "text/plain": [
       "[('홍길동', '010-9999', 'emememem', 20, 3, '홍길동'),\n",
       " ('3', '3', '3', 3, 3, '3'),\n",
       " ('홍길동', '010-9999', 'emememem', 20, 3, '홍길동'),\n",
       " ('홍길동', '010-9999', 'emememem', 20, 3, '홍길동'),\n",
       " ('홍길동', '010-9999', 'emememem', 20, 3, '홍길동')]"
      ]
     },
     "execution_count": 25,
     "metadata": {},
     "output_type": "execute_result"
    }
   ],
   "source": [
    "cursor.execute(\"SELECT * FROM MEMBER\")\n",
    "cursor.fetchall()"
   ]
  },
  {
   "cell_type": "code",
   "execution_count": 26,
   "id": "8d8bd1ed",
   "metadata": {
    "ExecuteTime": {
     "end_time": "2021-07-28T08:32:46.206777Z",
     "start_time": "2021-07-28T08:32:46.185176Z"
    }
   },
   "outputs": [
    {
     "ename": "InterfaceError",
     "evalue": "not connected",
     "output_type": "error",
     "traceback": [
      "\u001b[1;31m---------------------------------------------------------------------------\u001b[0m",
      "\u001b[1;31mInterfaceError\u001b[0m                            Traceback (most recent call last)",
      "\u001b[1;32m<ipython-input-26-e2f59a37941c>\u001b[0m in \u001b[0;36m<module>\u001b[1;34m\u001b[0m\n\u001b[1;32m----> 1\u001b[1;33m \u001b[0mconn\u001b[0m\u001b[1;33m.\u001b[0m\u001b[0mcommit\u001b[0m\u001b[1;33m(\u001b[0m\u001b[1;33m)\u001b[0m\u001b[1;33m\u001b[0m\u001b[1;33m\u001b[0m\u001b[0m\n\u001b[0m",
      "\u001b[1;31mInterfaceError\u001b[0m: not connected"
     ]
    }
   ],
   "source": [
    "conn.commit()"
   ]
  },
  {
   "cell_type": "code",
   "execution_count": null,
   "id": "0701e54d",
   "metadata": {},
   "outputs": [],
   "source": []
  }
 ],
 "metadata": {
  "kernelspec": {
   "display_name": "Python 3",
   "language": "python",
   "name": "python3"
  },
  "language_info": {
   "codemirror_mode": {
    "name": "ipython",
    "version": 3
   },
   "file_extension": ".py",
   "mimetype": "text/x-python",
   "name": "python",
   "nbconvert_exporter": "python",
   "pygments_lexer": "ipython3",
   "version": "3.8.8"
  },
  "toc": {
   "base_numbering": 1,
   "nav_menu": {},
   "number_sections": true,
   "sideBar": true,
   "skip_h1_title": false,
   "title_cell": "Table of Contents",
   "title_sidebar": "Contents",
   "toc_cell": false,
   "toc_position": {},
   "toc_section_display": true,
   "toc_window_display": false
  },
  "varInspector": {
   "cols": {
    "lenName": 16,
    "lenType": 16,
    "lenVar": 40
   },
   "kernels_config": {
    "python": {
     "delete_cmd_postfix": "",
     "delete_cmd_prefix": "del ",
     "library": "var_list.py",
     "varRefreshCmd": "print(var_dic_list())"
    },
    "r": {
     "delete_cmd_postfix": ") ",
     "delete_cmd_prefix": "rm(",
     "library": "var_list.r",
     "varRefreshCmd": "cat(var_dic_list()) "
    }
   },
   "position": {
    "height": "129px",
    "left": "779px",
    "right": "20px",
    "top": "114px",
    "width": "444px"
   },
   "types_to_exclude": [
    "module",
    "function",
    "builtin_function_or_method",
    "instance",
    "_Feature"
   ],
   "window_display": false
  }
 },
 "nbformat": 4,
 "nbformat_minor": 5
}
