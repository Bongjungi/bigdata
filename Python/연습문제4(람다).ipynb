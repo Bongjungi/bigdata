{
 "cells": [
  {
   "cell_type": "code",
   "execution_count": 1,
   "id": "b522774f",
   "metadata": {
    "ExecuteTime": {
     "end_time": "2021-07-22T08:39:14.971452Z",
     "start_time": "2021-07-22T08:39:14.958135Z"
    }
   },
   "outputs": [
    {
     "data": {
      "text/plain": [
       "<function __main__.<lambda>(x, y)>"
      ]
     },
     "execution_count": 1,
     "metadata": {},
     "output_type": "execute_result"
    }
   ],
   "source": [
    "lambda x,y : x**y"
   ]
  },
  {
   "cell_type": "code",
   "execution_count": 2,
   "id": "81fba4ae",
   "metadata": {
    "ExecuteTime": {
     "end_time": "2021-07-22T08:40:32.086515Z",
     "start_time": "2021-07-22T08:40:32.070750Z"
    }
   },
   "outputs": [
    {
     "data": {
      "text/plain": [
       "[1, 4, 9, 16, 25]"
      ]
     },
     "execution_count": 2,
     "metadata": {},
     "output_type": "execute_result"
    }
   ],
   "source": [
    "ex=[1,2,3,4,5]\n",
    "list(map(lambda x: x**2, ex))"
   ]
  },
  {
   "cell_type": "code",
   "execution_count": 3,
   "id": "8419554d",
   "metadata": {
    "ExecuteTime": {
     "end_time": "2021-07-22T08:41:18.541055Z",
     "start_time": "2021-07-22T08:41:18.532064Z"
    }
   },
   "outputs": [
    {
     "name": "stdout",
     "output_type": "stream",
     "text": [
      "1 2 3\n"
     ]
    }
   ],
   "source": [
    "a=[1,2,3]\n",
    "print(*a) # print(a[0], a[1], a[2])"
   ]
  },
  {
   "cell_type": "code",
   "execution_count": 5,
   "id": "7c94fa25",
   "metadata": {
    "ExecuteTime": {
     "end_time": "2021-07-22T08:43:26.737154Z",
     "start_time": "2021-07-22T08:43:26.726162Z"
    }
   },
   "outputs": [
    {
     "data": {
      "text/plain": [
       "[(1, 2, 3), (4, 5, 6), (7, 8, 9)]"
      ]
     },
     "execution_count": 5,
     "metadata": {},
     "output_type": "execute_result"
    }
   ],
   "source": [
    "def transpose_list(two_dimensional_list):\n",
    "    return [row for row in zip(*two_dimensional_list)]\n",
    "transpose_list([[1,4,7],[2,5,8],[3,6,9]])"
   ]
  },
  {
   "cell_type": "code",
   "execution_count": 8,
   "id": "86b03ef2",
   "metadata": {
    "ExecuteTime": {
     "end_time": "2021-07-22T08:45:22.762236Z",
     "start_time": "2021-07-22T08:45:22.730832Z"
    }
   },
   "outputs": [
    {
     "data": {
      "text/plain": [
       "[(1, 4), (2, 5), (3, 6)]"
      ]
     },
     "execution_count": 8,
     "metadata": {},
     "output_type": "execute_result"
    }
   ],
   "source": [
    "list(zip([1,2,3],[4,5,6]))"
   ]
  },
  {
   "cell_type": "code",
   "execution_count": 15,
   "id": "cd4562b0",
   "metadata": {
    "ExecuteTime": {
     "end_time": "2021-07-22T08:50:23.790029Z",
     "start_time": "2021-07-22T08:50:23.785041Z"
    }
   },
   "outputs": [
    {
     "name": "stdout",
     "output_type": "stream",
     "text": [
      "2019-9-6\n",
      "2019-9-6\n"
     ]
    }
   ],
   "source": [
    "date_info = {'year':\"2019\", 'month':\"9\",'day':\"6\"}\n",
    "result = \"{year}-{month}-{day}\".format(**date_info)\n",
    "print(result)\n",
    "result1 = \"{year}-{month}-{day}\".format(year=\"2019\", month=\"9\",day=\"6\")\n",
    "print(result1)"
   ]
  },
  {
   "cell_type": "code",
   "execution_count": 20,
   "id": "d77e69ae",
   "metadata": {
    "ExecuteTime": {
     "end_time": "2021-07-22T08:54:03.061062Z",
     "start_time": "2021-07-22T08:54:03.055078Z"
    }
   },
   "outputs": [
    {
     "data": {
      "text/plain": [
       "False"
      ]
     },
     "execution_count": 20,
     "metadata": {},
     "output_type": "execute_result"
    }
   ],
   "source": [
    "def same_len_vec(*a):\n",
    "    return all([len(x)==len(a[0]) for x in a])"
   ]
  },
  {
   "cell_type": "code",
   "execution_count": 24,
   "id": "44fb2255",
   "metadata": {
    "ExecuteTime": {
     "end_time": "2021-07-22T09:01:32.739186Z",
     "start_time": "2021-07-22T09:01:32.721246Z"
    }
   },
   "outputs": [],
   "source": [
    "def scalar_vector_product(alpha, vector_var):\n",
    "    return type(vector_var)([alpha*x for x in vector_var])"
   ]
  },
  {
   "cell_type": "code",
   "execution_count": 25,
   "id": "0a8db4eb",
   "metadata": {
    "ExecuteTime": {
     "end_time": "2021-07-22T09:01:33.005821Z",
     "start_time": "2021-07-22T09:01:32.994824Z"
    }
   },
   "outputs": [
    {
     "data": {
      "text/plain": [
       "{5, 10, 15, 20}"
      ]
     },
     "execution_count": 25,
     "metadata": {},
     "output_type": "execute_result"
    }
   ],
   "source": [
    "scalar_vector_product(5,{1,2,3,4})"
   ]
  },
  {
   "cell_type": "code",
   "execution_count": null,
   "id": "1fb7ac2f",
   "metadata": {},
   "outputs": [],
   "source": []
  }
 ],
 "metadata": {
  "kernelspec": {
   "display_name": "Python 3",
   "language": "python",
   "name": "python3"
  },
  "language_info": {
   "codemirror_mode": {
    "name": "ipython",
    "version": 3
   },
   "file_extension": ".py",
   "mimetype": "text/x-python",
   "name": "python",
   "nbconvert_exporter": "python",
   "pygments_lexer": "ipython3",
   "version": "3.8.8"
  },
  "toc": {
   "base_numbering": 1,
   "nav_menu": {},
   "number_sections": true,
   "sideBar": true,
   "skip_h1_title": false,
   "title_cell": "Table of Contents",
   "title_sidebar": "Contents",
   "toc_cell": false,
   "toc_position": {},
   "toc_section_display": true,
   "toc_window_display": false
  },
  "varInspector": {
   "cols": {
    "lenName": 16,
    "lenType": 16,
    "lenVar": 40
   },
   "kernels_config": {
    "python": {
     "delete_cmd_postfix": "",
     "delete_cmd_prefix": "del ",
     "library": "var_list.py",
     "varRefreshCmd": "print(var_dic_list())"
    },
    "r": {
     "delete_cmd_postfix": ") ",
     "delete_cmd_prefix": "rm(",
     "library": "var_list.r",
     "varRefreshCmd": "cat(var_dic_list()) "
    }
   },
   "types_to_exclude": [
    "module",
    "function",
    "builtin_function_or_method",
    "instance",
    "_Feature"
   ],
   "window_display": false
  }
 },
 "nbformat": 4,
 "nbformat_minor": 5
}
