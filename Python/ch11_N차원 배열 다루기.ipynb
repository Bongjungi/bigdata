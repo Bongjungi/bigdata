{
 "cells": [
  {
   "cell_type": "markdown",
   "id": "27922962",
   "metadata": {},
   "source": [
    "# ch11. N차원 배열 다루기\n",
    "- N차원 배열 객체\n",
    "- 2차원 배열은 행렬개념으로 이해\n",
    "- 패키지 Numpy 이용(C언어로 구현된 고성능 수치계산 패키지)\n",
    "- C/C++, 포트란 코드의 통합도구"
   ]
  },
  {
   "cell_type": "markdown",
   "id": "15efc301",
   "metadata": {},
   "source": [
    "## 1절. 넘파이 패키지"
   ]
  },
  {
   "cell_type": "code",
   "execution_count": 1,
   "id": "9cc87ea6",
   "metadata": {
    "ExecuteTime": {
     "end_time": "2021-08-02T05:07:24.475329Z",
     "start_time": "2021-08-02T05:07:24.457347Z"
    }
   },
   "outputs": [
    {
     "data": {
      "text/plain": [
       "'1.19.5'"
      ]
     },
     "execution_count": 1,
     "metadata": {},
     "output_type": "execute_result"
    }
   ],
   "source": [
    "import numpy as np\n",
    "np.__version__"
   ]
  },
  {
   "cell_type": "code",
   "execution_count": 2,
   "id": "01626b51",
   "metadata": {
    "ExecuteTime": {
     "end_time": "2021-08-02T05:07:24.743031Z",
     "start_time": "2021-08-02T05:07:24.735032Z"
    }
   },
   "outputs": [
    {
     "data": {
      "text/plain": [
       "array([ 0,  1,  2,  3,  4,  5,  6,  7,  8,  9, 10, 11, 12, 13, 14])"
      ]
     },
     "execution_count": 2,
     "metadata": {},
     "output_type": "execute_result"
    }
   ],
   "source": [
    "a=np.arange(15)\n",
    "a"
   ]
  },
  {
   "cell_type": "code",
   "execution_count": 3,
   "id": "c942b0aa",
   "metadata": {
    "ExecuteTime": {
     "end_time": "2021-08-02T05:07:25.383984Z",
     "start_time": "2021-08-02T05:07:25.376026Z"
    }
   },
   "outputs": [
    {
     "data": {
      "text/plain": [
       "array([[ 0,  1,  2,  3,  4],\n",
       "       [ 5,  6,  7,  8,  9],\n",
       "       [10, 11, 12, 13, 14]])"
      ]
     },
     "execution_count": 3,
     "metadata": {},
     "output_type": "execute_result"
    }
   ],
   "source": [
    "from numpy import arange\n",
    "a = arange(15).reshape(3,5) # 3행 5열짜리 2차원\n",
    "a"
   ]
  },
  {
   "cell_type": "code",
   "execution_count": 4,
   "id": "3dd3f6c6",
   "metadata": {
    "ExecuteTime": {
     "end_time": "2021-08-02T05:07:26.359467Z",
     "start_time": "2021-08-02T05:07:26.343952Z"
    }
   },
   "outputs": [
    {
     "data": {
      "text/plain": [
       "numpy.ndarray"
      ]
     },
     "execution_count": 4,
     "metadata": {},
     "output_type": "execute_result"
    }
   ],
   "source": [
    "type(a)"
   ]
  },
  {
   "cell_type": "code",
   "execution_count": 5,
   "id": "71c6ad76",
   "metadata": {
    "ExecuteTime": {
     "end_time": "2021-08-02T05:07:27.375128Z",
     "start_time": "2021-08-02T05:07:27.361139Z"
    }
   },
   "outputs": [
    {
     "data": {
      "text/plain": [
       "dtype('int32')"
      ]
     },
     "execution_count": 5,
     "metadata": {},
     "output_type": "execute_result"
    }
   ],
   "source": [
    "a.dtype"
   ]
  },
  {
   "cell_type": "code",
   "execution_count": 6,
   "id": "7a9b52c7",
   "metadata": {
    "ExecuteTime": {
     "end_time": "2021-08-02T05:07:30.920446Z",
     "start_time": "2021-08-02T05:07:30.908457Z"
    }
   },
   "outputs": [
    {
     "data": {
      "text/plain": [
       "'int32'"
      ]
     },
     "execution_count": 6,
     "metadata": {},
     "output_type": "execute_result"
    }
   ],
   "source": [
    "a.dtype.name # a 배열변수의 요소들의 type"
   ]
  },
  {
   "cell_type": "code",
   "execution_count": 7,
   "id": "163d2674",
   "metadata": {
    "ExecuteTime": {
     "end_time": "2021-08-02T05:07:32.174915Z",
     "start_time": "2021-08-02T05:07:32.166937Z"
    }
   },
   "outputs": [
    {
     "data": {
      "text/plain": [
       "4"
      ]
     },
     "execution_count": 7,
     "metadata": {},
     "output_type": "execute_result"
    }
   ],
   "source": [
    "a.itemsize # a 배열변수의 한 요소의 byte size (int32의 경우 4byte)"
   ]
  },
  {
   "cell_type": "code",
   "execution_count": 8,
   "id": "5e94838c",
   "metadata": {
    "ExecuteTime": {
     "end_time": "2021-08-02T05:07:32.725399Z",
     "start_time": "2021-08-02T05:07:32.706421Z"
    }
   },
   "outputs": [
    {
     "data": {
      "text/plain": [
       "2"
      ]
     },
     "execution_count": 8,
     "metadata": {},
     "output_type": "execute_result"
    }
   ],
   "source": [
    "a.ndim #축수(차원수)"
   ]
  },
  {
   "cell_type": "code",
   "execution_count": null,
   "id": "f91758bd",
   "metadata": {
    "ExecuteTime": {
     "end_time": "2021-07-29T06:04:47.174844Z",
     "start_time": "2021-07-29T06:04:47.164871Z"
    }
   },
   "outputs": [],
   "source": [
    "a.size #배열의 구조(3행5열)"
   ]
  },
  {
   "cell_type": "code",
   "execution_count": null,
   "id": "cf51fe05",
   "metadata": {
    "ExecuteTime": {
     "end_time": "2021-07-29T06:11:18.112225Z",
     "start_time": "2021-07-29T06:11:18.095264Z"
    }
   },
   "outputs": [],
   "source": [
    "a.shape = (5,3)\n",
    "print(a)\n",
    "a.shape=(3,5)\n",
    "print(a)"
   ]
  },
  {
   "cell_type": "code",
   "execution_count": null,
   "id": "48a10846",
   "metadata": {
    "ExecuteTime": {
     "end_time": "2021-07-29T06:12:14.865070Z",
     "start_time": "2021-07-29T06:12:14.850103Z"
    }
   },
   "outputs": [],
   "source": [
    "#dtype 속성을 바꾸면\n",
    "a=np.arange(12).reshape(3,4)\n",
    "a"
   ]
  },
  {
   "cell_type": "code",
   "execution_count": null,
   "id": "e1e1036d",
   "metadata": {
    "ExecuteTime": {
     "end_time": "2021-07-29T06:12:21.449155Z",
     "start_time": "2021-07-29T06:12:21.437193Z"
    }
   },
   "outputs": [],
   "source": [
    "a.size"
   ]
  },
  {
   "cell_type": "code",
   "execution_count": null,
   "id": "c74361f8",
   "metadata": {
    "ExecuteTime": {
     "end_time": "2021-07-29T06:12:24.604498Z",
     "start_time": "2021-07-29T06:12:24.590536Z"
    }
   },
   "outputs": [],
   "source": [
    "a.dtype"
   ]
  },
  {
   "cell_type": "code",
   "execution_count": null,
   "id": "2b104af6",
   "metadata": {
    "ExecuteTime": {
     "end_time": "2021-07-29T06:13:37.691712Z",
     "start_time": "2021-07-29T06:13:37.683733Z"
    }
   },
   "outputs": [],
   "source": [
    "a.dtype = np.int64"
   ]
  },
  {
   "cell_type": "code",
   "execution_count": null,
   "id": "9f301bbd",
   "metadata": {
    "ExecuteTime": {
     "end_time": "2021-07-29T06:17:20.870430Z",
     "start_time": "2021-07-29T06:17:20.862459Z"
    }
   },
   "outputs": [],
   "source": [
    "print(a.dtype)\n",
    "a # [[ 16^8*1, 16^8*3+16^0*2],[16^8*5+16^0*4, 16^8*7+16^0*6],[16^8*9+16^0*8, 16^8*11+16^0*12]]"
   ]
  },
  {
   "cell_type": "code",
   "execution_count": null,
   "id": "174993b8",
   "metadata": {
    "ExecuteTime": {
     "end_time": "2021-07-29T06:18:48.613390Z",
     "start_time": "2021-07-29T06:18:48.599471Z"
    }
   },
   "outputs": [],
   "source": [
    "print(a.size)\n",
    "print(a.shape)"
   ]
  },
  {
   "cell_type": "markdown",
   "id": "3b75a4aa",
   "metadata": {},
   "source": [
    "## 2절. 넘파이 배열\n",
    "- array()함수를 이용한 다른 파이썬 구조(벡터 구조)를 넘파이 배열로 변환\n",
    "- 넘파이 배열을 생성하는 기타 함수들 : arange, ones, zeros, empty\n",
    "- 특수 라이브러리 함수 (ex.random) 이용\n",
    "- [넘파이 doc](http://numpy.org/doc/stable/index.html)"
   ]
  },
  {
   "cell_type": "markdown",
   "id": "ddab9f6b",
   "metadata": {},
   "source": [
    "### 2.1 array()함수로 넘파이 배열 만들기"
   ]
  },
  {
   "cell_type": "code",
   "execution_count": 315,
   "id": "08982750",
   "metadata": {
    "ExecuteTime": {
     "end_time": "2021-07-30T07:28:10.547339Z",
     "start_time": "2021-07-30T07:28:10.529356Z"
    }
   },
   "outputs": [
    {
     "data": {
      "text/plain": [
       "array([2, 4, 6], dtype=int16)"
      ]
     },
     "execution_count": 315,
     "metadata": {},
     "output_type": "execute_result"
    }
   ],
   "source": [
    "import numpy as np\n",
    "a=np.array([2,4,6], dtype=np.int16) #정수의 기본 타입은 int32\n",
    "a"
   ]
  },
  {
   "cell_type": "code",
   "execution_count": 316,
   "id": "aed62136",
   "metadata": {
    "ExecuteTime": {
     "end_time": "2021-07-30T07:28:10.944574Z",
     "start_time": "2021-07-30T07:28:10.934581Z"
    }
   },
   "outputs": [
    {
     "data": {
      "text/plain": [
       "2"
      ]
     },
     "execution_count": 316,
     "metadata": {},
     "output_type": "execute_result"
    }
   ],
   "source": [
    "a[0]"
   ]
  },
  {
   "cell_type": "code",
   "execution_count": 317,
   "id": "5e30b314",
   "metadata": {
    "ExecuteTime": {
     "end_time": "2021-07-30T07:28:11.541361Z",
     "start_time": "2021-07-30T07:28:11.534381Z"
    }
   },
   "outputs": [
    {
     "name": "stdout",
     "output_type": "stream",
     "text": [
      "2\t4\t6\t"
     ]
    }
   ],
   "source": [
    "for i in a:\n",
    "    print(i, end='\\t')"
   ]
  },
  {
   "cell_type": "code",
   "execution_count": 318,
   "id": "1c37ea2a",
   "metadata": {
    "ExecuteTime": {
     "end_time": "2021-07-30T07:28:11.826709Z",
     "start_time": "2021-07-30T07:28:11.816735Z"
    }
   },
   "outputs": [
    {
     "data": {
      "text/plain": [
       "dtype('int16')"
      ]
     },
     "execution_count": 318,
     "metadata": {},
     "output_type": "execute_result"
    }
   ],
   "source": [
    "a.dtype"
   ]
  },
  {
   "cell_type": "code",
   "execution_count": 319,
   "id": "923413f7",
   "metadata": {
    "ExecuteTime": {
     "end_time": "2021-07-30T07:28:12.127632Z",
     "start_time": "2021-07-30T07:28:12.122646Z"
    }
   },
   "outputs": [
    {
     "data": {
      "text/plain": [
       "array([[1.5, 2.3],\n",
       "       [4. , 5. ]])"
      ]
     },
     "execution_count": 319,
     "metadata": {},
     "output_type": "execute_result"
    }
   ],
   "source": [
    "b=np.array([(1.5, 2.3),(4,5)]) # 자동 dtype 세팅 (float64형). shape 자동 세팅\n",
    "b"
   ]
  },
  {
   "cell_type": "code",
   "execution_count": 321,
   "id": "9083313e",
   "metadata": {
    "ExecuteTime": {
     "end_time": "2021-07-30T07:28:27.525286Z",
     "start_time": "2021-07-30T07:28:27.516310Z"
    }
   },
   "outputs": [
    {
     "data": {
      "text/plain": [
       "array([[1. , 2. ],\n",
       "       [3. , 4.1]], dtype=float32)"
      ]
     },
     "execution_count": 321,
     "metadata": {},
     "output_type": "execute_result"
    }
   ],
   "source": [
    "a=np.array([1,2,3,4.1], dtype=np.float32).reshape(2,2) # 2행2열짜리 2차원 배열 #float32\n",
    "a"
   ]
  },
  {
   "cell_type": "code",
   "execution_count": 322,
   "id": "e678bdc2",
   "metadata": {
    "ExecuteTime": {
     "end_time": "2021-07-30T07:28:28.094742Z",
     "start_time": "2021-07-30T07:28:28.088772Z"
    }
   },
   "outputs": [
    {
     "data": {
      "text/plain": [
       "dtype('int32')"
      ]
     },
     "execution_count": 322,
     "metadata": {},
     "output_type": "execute_result"
    }
   ],
   "source": [
    "#b.dtype = np.int32 안 됨\n",
    "b=b.astype(np.int32)         #타입변경\n",
    "b.dtype"
   ]
  },
  {
   "cell_type": "code",
   "execution_count": 323,
   "id": "0e182fee",
   "metadata": {
    "ExecuteTime": {
     "end_time": "2021-07-30T07:28:28.697458Z",
     "start_time": "2021-07-30T07:28:28.684482Z"
    }
   },
   "outputs": [
    {
     "data": {
      "text/plain": [
       "[[1, 2, 3], [4, 5, 6]]"
      ]
     },
     "execution_count": 323,
     "metadata": {},
     "output_type": "execute_result"
    }
   ],
   "source": [
    "list_=[[1,2,3],[4,5,6]]\n",
    "list_"
   ]
  },
  {
   "cell_type": "code",
   "execution_count": 324,
   "id": "8d431c3d",
   "metadata": {
    "ExecuteTime": {
     "end_time": "2021-07-30T07:28:45.838275Z",
     "start_time": "2021-07-30T07:28:45.829345Z"
    }
   },
   "outputs": [
    {
     "name": "stdout",
     "output_type": "stream",
     "text": [
      "1\t2\t3\t\n",
      "4\t5\t6\t\n"
     ]
    }
   ],
   "source": [
    "for row in list_:\n",
    "    for data in row:\n",
    "        print(data, end=\"\\t\")\n",
    "    print()"
   ]
  },
  {
   "cell_type": "code",
   "execution_count": 325,
   "id": "e1684211",
   "metadata": {
    "ExecuteTime": {
     "end_time": "2021-07-30T07:28:46.170779Z",
     "start_time": "2021-07-30T07:28:46.152836Z"
    }
   },
   "outputs": [
    {
     "name": "stdout",
     "output_type": "stream",
     "text": [
      "0행0열 : 1\t0행1열 : 2\t0행2열 : 3\t\n",
      "1행0열 : 4\t1행1열 : 5\t1행2열 : 6\t\n"
     ]
    }
   ],
   "source": [
    "for i, row in enumerate(list_):\n",
    "    for j, data in enumerate(row):\n",
    "        print(\"{}행{}열 : {}\".format(i, j, data), end='\\t')\n",
    "    print()"
   ]
  },
  {
   "cell_type": "code",
   "execution_count": 326,
   "id": "fcb3b402",
   "metadata": {
    "ExecuteTime": {
     "end_time": "2021-07-30T07:28:46.600116Z",
     "start_time": "2021-07-30T07:28:46.587152Z"
    }
   },
   "outputs": [
    {
     "name": "stdout",
     "output_type": "stream",
     "text": [
      "[1, 2, 3]\n",
      "3\n"
     ]
    }
   ],
   "source": [
    "#list_[0][5]  #에러\n",
    "print(list_[0][0:5])\n",
    "print(list_[0][2])"
   ]
  },
  {
   "cell_type": "code",
   "execution_count": 327,
   "id": "b5ef8dbc",
   "metadata": {
    "ExecuteTime": {
     "end_time": "2021-07-30T07:31:12.568775Z",
     "start_time": "2021-07-30T07:31:12.552786Z"
    }
   },
   "outputs": [
    {
     "data": {
      "text/plain": [
       "array([[1, 2, 3],\n",
       "       [4, 5, 6]], dtype=int16)"
      ]
     },
     "execution_count": 327,
     "metadata": {},
     "output_type": "execute_result"
    }
   ],
   "source": [
    "# 2차원 배열\n",
    "b=np.array([[1,2,3],[4,5,6]], dtype=np.int16)\n",
    "b"
   ]
  },
  {
   "cell_type": "code",
   "execution_count": 328,
   "id": "3eaf84fe",
   "metadata": {
    "ExecuteTime": {
     "end_time": "2021-07-30T07:31:12.871052Z",
     "start_time": "2021-07-30T07:31:12.854098Z"
    }
   },
   "outputs": [
    {
     "name": "stdout",
     "output_type": "stream",
     "text": [
      "1\t2\t3\t\n",
      "4\t5\t6\t\n"
     ]
    }
   ],
   "source": [
    "for row in b:\n",
    "    for item in row:\n",
    "        print(item, end=\"\\t\")\n",
    "    print()"
   ]
  },
  {
   "cell_type": "code",
   "execution_count": 329,
   "id": "2914c113",
   "metadata": {
    "ExecuteTime": {
     "end_time": "2021-07-30T07:31:13.376087Z",
     "start_time": "2021-07-30T07:31:13.357105Z"
    }
   },
   "outputs": [
    {
     "name": "stdout",
     "output_type": "stream",
     "text": [
      "0행0열 : 1\t0행1열 : 2\t0행2열 : 3\t\n",
      "1행0열 : 4\t1행1열 : 5\t1행2열 : 6\t\n"
     ]
    }
   ],
   "source": [
    "for i, row in enumerate(b):\n",
    "    for j, data in enumerate(row):\n",
    "        print(\"{}행{}열 : {}\".format(i, j, data), end='\\t')\n",
    "    print()"
   ]
  },
  {
   "cell_type": "code",
   "execution_count": 330,
   "id": "9a1f51cc",
   "metadata": {
    "ExecuteTime": {
     "end_time": "2021-07-30T07:31:14.127845Z",
     "start_time": "2021-07-30T07:31:14.110862Z"
    }
   },
   "outputs": [
    {
     "data": {
      "text/plain": [
       "(2, 3)"
      ]
     },
     "execution_count": 330,
     "metadata": {},
     "output_type": "execute_result"
    }
   ],
   "source": [
    "b[0][1], b[0,2] #넘파이 배열에서의 인덱싱"
   ]
  },
  {
   "cell_type": "code",
   "execution_count": 331,
   "id": "57516cf7",
   "metadata": {
    "ExecuteTime": {
     "end_time": "2021-07-30T07:31:14.747732Z",
     "start_time": "2021-07-30T07:31:14.740750Z"
    }
   },
   "outputs": [
    {
     "data": {
      "text/plain": [
       "array([1, 2, 3], dtype=int16)"
      ]
     },
     "execution_count": 331,
     "metadata": {},
     "output_type": "execute_result"
    }
   ],
   "source": [
    "b[0, 0:6]"
   ]
  },
  {
   "cell_type": "code",
   "execution_count": 332,
   "id": "a473ceb8",
   "metadata": {
    "ExecuteTime": {
     "end_time": "2021-07-30T07:31:19.885658Z",
     "start_time": "2021-07-30T07:31:19.880662Z"
    }
   },
   "outputs": [
    {
     "data": {
      "text/plain": [
       "array([[1.+0.j, 2.+0.j],\n",
       "       [3.+0.j, 4.+0.j]])"
      ]
     },
     "execution_count": 332,
     "metadata": {},
     "output_type": "execute_result"
    }
   ],
   "source": [
    "c= np.array([[1,2],[3,4]], dtype=complex) #dtype이 복소수\n",
    "c"
   ]
  },
  {
   "cell_type": "code",
   "execution_count": 333,
   "id": "62f5498e",
   "metadata": {
    "ExecuteTime": {
     "end_time": "2021-07-30T07:31:20.376910Z",
     "start_time": "2021-07-30T07:31:20.361973Z"
    }
   },
   "outputs": [
    {
     "name": "stdout",
     "output_type": "stream",
     "text": [
      "10\n"
     ]
    }
   ],
   "source": [
    "a=10\n",
    "b=a\n",
    "a=9\n",
    "print(b)"
   ]
  },
  {
   "cell_type": "code",
   "execution_count": 334,
   "id": "54da9d87",
   "metadata": {
    "ExecuteTime": {
     "end_time": "2021-07-30T07:31:21.506742Z",
     "start_time": "2021-07-30T07:31:21.492748Z"
    }
   },
   "outputs": [
    {
     "name": "stdout",
     "output_type": "stream",
     "text": [
      "c=\n",
      "[[1 2]\n",
      " [3 4]]\n",
      "d=\n",
      "[[1 2]\n",
      " [3 4]]\n"
     ]
    }
   ],
   "source": [
    "#numpy 배열\n",
    "c=np.array([[1,2],[3,4]])\n",
    "d=np.array(c, copy=False) # d=c,  id(d)=id(c)\n",
    "print(\"c=\",c,sep=\"\\n\")\n",
    "print(\"d=\",d,sep=\"\\n\")"
   ]
  },
  {
   "cell_type": "code",
   "execution_count": 335,
   "id": "951a2e6f",
   "metadata": {
    "ExecuteTime": {
     "end_time": "2021-07-30T07:31:22.231600Z",
     "start_time": "2021-07-30T07:31:22.222625Z"
    }
   },
   "outputs": [
    {
     "name": "stdout",
     "output_type": "stream",
     "text": [
      "c=\n",
      "[[999   2]\n",
      " [  3   4]]\n",
      "d=\n",
      "[[1 2]\n",
      " [3 4]]\n"
     ]
    }
   ],
   "source": [
    "#numpy 배열변수 복사\n",
    "c=np.array([[1,2,],[3,4]], dtype=np.int32)\n",
    "d=np.array(c, copy=True)\n",
    "c[0,0]=999\n",
    "print(\"c=\",c,sep=\"\\n\")\n",
    "print(\"d=\",d,sep=\"\\n\")"
   ]
  },
  {
   "cell_type": "code",
   "execution_count": 336,
   "id": "4ebc1d74",
   "metadata": {
    "ExecuteTime": {
     "end_time": "2021-07-30T07:31:22.893364Z",
     "start_time": "2021-07-30T07:31:22.886383Z"
    }
   },
   "outputs": [
    {
     "name": "stdout",
     "output_type": "stream",
     "text": [
      "c=\n",
      "[[999   2]\n",
      " [  3   4]]\n",
      "d=\n",
      "[[1 2]\n",
      " [3 4]]\n"
     ]
    }
   ],
   "source": [
    "#numpy 배열변수 복사\n",
    "c=np.array([[1,2,],[3,4]], dtype=np.int32)\n",
    "d=np.array(c, copy=False, dtype=np.int16) # copy=False이더라도 dtype이 바뀌면 깊은 복사\n",
    "c[0,0]=999\n",
    "print(\"c=\",c,sep=\"\\n\")\n",
    "print(\"d=\",d,sep=\"\\n\")"
   ]
  },
  {
   "cell_type": "markdown",
   "id": "967f4d92",
   "metadata": {},
   "source": [
    "### 2.2 기본값이 있는 배열 만들기\n",
    "    - np.zeros(tup) : 요소들이 다 0 #즉, 요소들이 0.0\n",
    "    - np.ones(tup) : 요소들이 다 1 #즉, 요소들이 다 1.0\n",
    "    - np.empty(tup) : 초기 내용은 임의값인 배열(메모리 상태에 따라 달라짐)\n",
    "\n",
    "    * 이렇게 생성된 배열은 기본 dtype이 float64. dtype 속성을 따로 지정할 수 있음."
   ]
  },
  {
   "cell_type": "code",
   "execution_count": 337,
   "id": "a6bc2a8c",
   "metadata": {
    "ExecuteTime": {
     "end_time": "2021-07-30T07:31:24.972385Z",
     "start_time": "2021-07-30T07:31:24.955419Z"
    }
   },
   "outputs": [
    {
     "data": {
      "text/plain": [
       "array([[0., 0., 0., 0.],\n",
       "       [0., 0., 0., 0.],\n",
       "       [0., 0., 0., 0.]])"
      ]
     },
     "execution_count": 337,
     "metadata": {},
     "output_type": "execute_result"
    }
   ],
   "source": [
    "np.zeros((3,4))"
   ]
  },
  {
   "cell_type": "code",
   "execution_count": 338,
   "id": "c8928c3a",
   "metadata": {
    "ExecuteTime": {
     "end_time": "2021-07-30T07:31:25.291610Z",
     "start_time": "2021-07-30T07:31:25.277648Z"
    }
   },
   "outputs": [
    {
     "name": "stdout",
     "output_type": "stream",
     "text": [
      "True\n",
      "True\n"
     ]
    }
   ],
   "source": [
    "print(id(np.zeros((3,4)))==id(np.array([[0,0,0,0],[0,0,0,0.0],[0,0,0,0]])))\n",
    "print(id(np.zeros((3,4)))==id(np.array([[0,0,0,0],[0,0,0,0],[0,0,0,0]])))"
   ]
  },
  {
   "cell_type": "code",
   "execution_count": 339,
   "id": "1ed8dab8",
   "metadata": {
    "ExecuteTime": {
     "end_time": "2021-07-30T07:31:25.497976Z",
     "start_time": "2021-07-30T07:31:25.484014Z"
    }
   },
   "outputs": [
    {
     "name": "stdout",
     "output_type": "stream",
     "text": [
      "[[0 0 0 0 0]\n",
      " [0 0 0 0 0]\n",
      " [0 0 0 0 0]]\n",
      "int16\n",
      "2 byte\n"
     ]
    }
   ],
   "source": [
    "x=np.zeros((3,5), dtype=np.int16)\n",
    "print(x)\n",
    "print(x.dtype)\n",
    "print(x.itemsize, \"byte\")"
   ]
  },
  {
   "cell_type": "code",
   "execution_count": 340,
   "id": "1d61fa8f",
   "metadata": {
    "ExecuteTime": {
     "end_time": "2021-07-30T07:31:25.688495Z",
     "start_time": "2021-07-30T07:31:25.678523Z"
    },
    "scrolled": true
   },
   "outputs": [
    {
     "data": {
      "text/plain": [
       "array([[1, 1, 1, 1, 1],\n",
       "       [1, 1, 1, 1, 1]], dtype=int8)"
      ]
     },
     "execution_count": 340,
     "metadata": {},
     "output_type": "execute_result"
    }
   ],
   "source": [
    "np.ones((2,5),dtype=np.int8)"
   ]
  },
  {
   "cell_type": "code",
   "execution_count": 341,
   "id": "74992892",
   "metadata": {
    "ExecuteTime": {
     "end_time": "2021-07-30T07:31:25.910872Z",
     "start_time": "2021-07-30T07:31:25.896910Z"
    }
   },
   "outputs": [
    {
     "data": {
      "text/plain": [
       "array([[ 0.89217919,  2.46445317, -2.08922888],\n",
       "       [ 0.61842849,  0.59747448,  0.12691384]])"
      ]
     },
     "execution_count": 341,
     "metadata": {},
     "output_type": "execute_result"
    }
   ],
   "source": [
    "np.empty((2,3))"
   ]
  },
  {
   "cell_type": "markdown",
   "id": "1b8e8ed3",
   "metadata": {},
   "source": [
    "### 2.3 연속된 값을 갖는 배열 만들기\n",
    "- np.arange(from, to ,by, dtype=None) : from 부터 to 앞까지 by씩 건너뛴 값(to 미포함)을 목록으로 N차원 배열 만듦. from 생략시 0, by 생략시 1\n",
    "- np.linspace(from, to, num) : from 부터 to까지 num개 숫자들을 N차원 배열로 만듦"
   ]
  },
  {
   "cell_type": "code",
   "execution_count": 342,
   "id": "57d125ae",
   "metadata": {
    "ExecuteTime": {
     "end_time": "2021-07-30T07:31:26.245010Z",
     "start_time": "2021-07-30T07:31:26.228024Z"
    }
   },
   "outputs": [
    {
     "data": {
      "text/plain": [
       "array([10., 15., 20., 25.], dtype=float32)"
      ]
     },
     "execution_count": 342,
     "metadata": {},
     "output_type": "execute_result"
    }
   ],
   "source": [
    "np.arange(10,30,5,dtype=np.float32)"
   ]
  },
  {
   "cell_type": "code",
   "execution_count": 343,
   "id": "665a7b57",
   "metadata": {
    "ExecuteTime": {
     "end_time": "2021-07-30T07:31:26.404584Z",
     "start_time": "2021-07-30T07:31:26.353704Z"
    }
   },
   "outputs": [
    {
     "data": {
      "text/plain": [
       "array([0. , 0.3, 0.6, 0.9, 1.2, 1.5, 1.8])"
      ]
     },
     "execution_count": 343,
     "metadata": {},
     "output_type": "execute_result"
    }
   ],
   "source": [
    "np.arange(0,2,0.3)"
   ]
  },
  {
   "cell_type": "code",
   "execution_count": 344,
   "id": "5437dbc7",
   "metadata": {
    "ExecuteTime": {
     "end_time": "2021-07-30T07:31:26.610000Z",
     "start_time": "2021-07-30T07:31:26.595043Z"
    }
   },
   "outputs": [
    {
     "data": {
      "text/plain": [
       "array([[0.        , 0.10526316, 0.21052632, 0.31578947, 0.42105263],\n",
       "       [0.52631579, 0.63157895, 0.73684211, 0.84210526, 0.94736842],\n",
       "       [1.05263158, 1.15789474, 1.26315789, 1.36842105, 1.47368421],\n",
       "       [1.57894737, 1.68421053, 1.78947368, 1.89473684, 2.        ]])"
      ]
     },
     "execution_count": 344,
     "metadata": {},
     "output_type": "execute_result"
    }
   ],
   "source": [
    "from numpy import linspace\n",
    "linspace(0,2,20).reshape(4,5)"
   ]
  },
  {
   "cell_type": "code",
   "execution_count": 345,
   "id": "116ea363",
   "metadata": {
    "ExecuteTime": {
     "end_time": "2021-07-30T07:31:26.705744Z",
     "start_time": "2021-07-30T07:31:26.684802Z"
    }
   },
   "outputs": [
    {
     "data": {
      "text/plain": [
       "array([ 0.00000000e+00,  6.34239197e-02,  1.26592454e-01,  1.89251244e-01,\n",
       "        2.51147987e-01,  3.12033446e-01,  3.71662456e-01,  4.29794912e-01,\n",
       "        4.86196736e-01,  5.40640817e-01,  5.92907929e-01,  6.42787610e-01,\n",
       "        6.90079011e-01,  7.34591709e-01,  7.76146464e-01,  8.14575952e-01,\n",
       "        8.49725430e-01,  8.81453363e-01,  9.09631995e-01,  9.34147860e-01,\n",
       "        9.54902241e-01,  9.71811568e-01,  9.84807753e-01,  9.93838464e-01,\n",
       "        9.98867339e-01,  9.99874128e-01,  9.96854776e-01,  9.89821442e-01,\n",
       "        9.78802446e-01,  9.63842159e-01,  9.45000819e-01,  9.22354294e-01,\n",
       "        8.95993774e-01,  8.66025404e-01,  8.32569855e-01,  7.95761841e-01,\n",
       "        7.55749574e-01,  7.12694171e-01,  6.66769001e-01,  6.18158986e-01,\n",
       "        5.67059864e-01,  5.13677392e-01,  4.58226522e-01,  4.00930535e-01,\n",
       "        3.42020143e-01,  2.81732557e-01,  2.20310533e-01,  1.58001396e-01,\n",
       "        9.50560433e-02,  3.17279335e-02, -3.17279335e-02, -9.50560433e-02,\n",
       "       -1.58001396e-01, -2.20310533e-01, -2.81732557e-01, -3.42020143e-01,\n",
       "       -4.00930535e-01, -4.58226522e-01, -5.13677392e-01, -5.67059864e-01,\n",
       "       -6.18158986e-01, -6.66769001e-01, -7.12694171e-01, -7.55749574e-01,\n",
       "       -7.95761841e-01, -8.32569855e-01, -8.66025404e-01, -8.95993774e-01,\n",
       "       -9.22354294e-01, -9.45000819e-01, -9.63842159e-01, -9.78802446e-01,\n",
       "       -9.89821442e-01, -9.96854776e-01, -9.99874128e-01, -9.98867339e-01,\n",
       "       -9.93838464e-01, -9.84807753e-01, -9.71811568e-01, -9.54902241e-01,\n",
       "       -9.34147860e-01, -9.09631995e-01, -8.81453363e-01, -8.49725430e-01,\n",
       "       -8.14575952e-01, -7.76146464e-01, -7.34591709e-01, -6.90079011e-01,\n",
       "       -6.42787610e-01, -5.92907929e-01, -5.40640817e-01, -4.86196736e-01,\n",
       "       -4.29794912e-01, -3.71662456e-01, -3.12033446e-01, -2.51147987e-01,\n",
       "       -1.89251244e-01, -1.26592454e-01, -6.34239197e-02, -2.44929360e-16])"
      ]
     },
     "execution_count": 345,
     "metadata": {},
     "output_type": "execute_result"
    }
   ],
   "source": [
    "# 많은 수의 점들을 생성할 때 유용 : linspace\n",
    "from numpy import pi\n",
    "x=linspace(0,2*pi,100)\n",
    "f=np.sin(x)\n",
    "f"
   ]
  },
  {
   "cell_type": "code",
   "execution_count": 257,
   "id": "c44a9d6b",
   "metadata": {
    "ExecuteTime": {
     "end_time": "2021-07-30T06:18:20.159052Z",
     "start_time": "2021-07-30T06:18:20.146089Z"
    }
   },
   "outputs": [
    {
     "data": {
      "text/plain": [
       "(0.0634239196565645, 0.12659245357374926)"
      ]
     },
     "execution_count": 257,
     "metadata": {},
     "output_type": "execute_result"
    }
   ],
   "source": [
    "np.sin(2*pi/99),np.sin(4*pi/99)"
   ]
  },
  {
   "cell_type": "code",
   "execution_count": null,
   "id": "f0d63620",
   "metadata": {
    "ExecuteTime": {
     "end_time": "2021-07-29T07:53:27.200887Z",
     "start_time": "2021-07-29T07:53:27.050692Z"
    }
   },
   "outputs": [],
   "source": [
    "import matplotlib.pyplot as plt\n",
    "plt.plot(x,f)\n",
    "plt.show()"
   ]
  },
  {
   "cell_type": "code",
   "execution_count": null,
   "id": "6778065a",
   "metadata": {
    "ExecuteTime": {
     "end_time": "2021-07-29T07:49:53.383276Z",
     "start_time": "2021-07-29T07:49:53.232683Z"
    }
   },
   "outputs": [],
   "source": [
    "a=plt.plot(x,f)\n",
    "print(a)"
   ]
  },
  {
   "cell_type": "code",
   "execution_count": null,
   "id": "b6f7ac53",
   "metadata": {
    "ExecuteTime": {
     "end_time": "2021-07-29T08:23:22.221503Z",
     "start_time": "2021-07-29T08:23:22.212542Z"
    }
   },
   "outputs": [],
   "source": [
    "print(id(3))"
   ]
  },
  {
   "cell_type": "code",
   "execution_count": null,
   "id": "b1806367",
   "metadata": {
    "ExecuteTime": {
     "end_time": "2021-07-29T07:51:33.238334Z",
     "start_time": "2021-07-29T07:51:33.229337Z"
    }
   },
   "outputs": [],
   "source": [
    "import math\n",
    "math.sin(2*pi)"
   ]
  },
  {
   "cell_type": "code",
   "execution_count": null,
   "id": "e1aa9d98",
   "metadata": {
    "ExecuteTime": {
     "end_time": "2021-07-29T07:54:34.401950Z",
     "start_time": "2021-07-29T07:54:34.272292Z"
    }
   },
   "outputs": [],
   "source": [
    "#np.random.seed(12)\n",
    "x= np.random.normal(0,1,100) #평균0, 표준편차가 1인 수 100개 배열\n",
    "plt.hist(x)"
   ]
  },
  {
   "cell_type": "markdown",
   "id": "c76f59cf",
   "metadata": {},
   "source": [
    "### 2.4 배열의 차원변경하기"
   ]
  },
  {
   "cell_type": "code",
   "execution_count": null,
   "id": "c2a3d792",
   "metadata": {
    "ExecuteTime": {
     "end_time": "2021-07-29T07:57:50.152381Z",
     "start_time": "2021-07-29T07:57:50.131431Z"
    }
   },
   "outputs": [],
   "source": [
    "t=np.random.random((2,3))\n",
    "t"
   ]
  },
  {
   "cell_type": "code",
   "execution_count": null,
   "id": "83f551c4",
   "metadata": {
    "ExecuteTime": {
     "end_time": "2021-07-29T08:24:33.556674Z",
     "start_time": "2021-07-29T08:24:33.549692Z"
    }
   },
   "outputs": [],
   "source": [
    "a=np.floor(t*10)\n",
    "a"
   ]
  },
  {
   "cell_type": "code",
   "execution_count": null,
   "id": "596a755f",
   "metadata": {
    "ExecuteTime": {
     "end_time": "2021-07-29T07:58:19.842904Z",
     "start_time": "2021-07-29T07:58:19.827940Z"
    }
   },
   "outputs": [],
   "source": [
    "a.shape"
   ]
  },
  {
   "cell_type": "code",
   "execution_count": null,
   "id": "27e7d282",
   "metadata": {
    "ExecuteTime": {
     "end_time": "2021-07-29T07:58:39.053796Z",
     "start_time": "2021-07-29T07:58:39.039812Z"
    }
   },
   "outputs": [],
   "source": [
    "a.ravel() # 차원이 풀린 배열을 반환(a가 바뀌는 것은 아님)"
   ]
  },
  {
   "cell_type": "code",
   "execution_count": null,
   "id": "6c0e992a",
   "metadata": {
    "ExecuteTime": {
     "end_time": "2021-07-29T08:24:26.652980Z",
     "start_time": "2021-07-29T08:24:26.633046Z"
    }
   },
   "outputs": [],
   "source": [
    "a+1"
   ]
  },
  {
   "cell_type": "code",
   "execution_count": null,
   "id": "ba6e39b8",
   "metadata": {
    "ExecuteTime": {
     "end_time": "2021-07-29T07:59:05.117775Z",
     "start_time": "2021-07-29T07:59:05.106806Z"
    }
   },
   "outputs": [],
   "source": [
    "a.reshape(3,2) #shape가 수정된 배열을 반환(a는 그대로)"
   ]
  },
  {
   "cell_type": "code",
   "execution_count": null,
   "id": "2fd9a067",
   "metadata": {
    "ExecuteTime": {
     "end_time": "2021-07-29T08:01:58.587417Z",
     "start_time": "2021-07-29T08:01:58.568468Z"
    }
   },
   "outputs": [],
   "source": [
    "a.T==a.transpose() # a는 그대로"
   ]
  },
  {
   "cell_type": "code",
   "execution_count": null,
   "id": "c14e5864",
   "metadata": {
    "ExecuteTime": {
     "end_time": "2021-07-29T08:25:19.651808Z",
     "start_time": "2021-07-29T08:25:19.643830Z"
    }
   },
   "outputs": [],
   "source": [
    "np.ones((2,3))+a"
   ]
  },
  {
   "cell_type": "code",
   "execution_count": null,
   "id": "bb4983c8",
   "metadata": {
    "ExecuteTime": {
     "end_time": "2021-07-29T08:25:55.031679Z",
     "start_time": "2021-07-29T08:25:55.014711Z"
    }
   },
   "outputs": [],
   "source": [
    "np.zeros((2,3))*a"
   ]
  },
  {
   "cell_type": "code",
   "execution_count": null,
   "id": "43c8b81b",
   "metadata": {
    "ExecuteTime": {
     "end_time": "2021-07-29T08:24:16.927433Z",
     "start_time": "2021-07-29T08:24:16.908484Z"
    }
   },
   "outputs": [],
   "source": [
    "a"
   ]
  },
  {
   "cell_type": "code",
   "execution_count": null,
   "id": "6096de63",
   "metadata": {
    "ExecuteTime": {
     "end_time": "2021-07-29T08:03:18.668053Z",
     "start_time": "2021-07-29T08:03:18.652096Z"
    }
   },
   "outputs": [],
   "source": [
    "a.reshape(3,-1) # -1로 주어지면 해당 차원의 크기가 자동 계산"
   ]
  },
  {
   "cell_type": "code",
   "execution_count": null,
   "id": "b7f47b47",
   "metadata": {
    "ExecuteTime": {
     "end_time": "2021-07-29T08:03:43.952361Z",
     "start_time": "2021-07-29T08:03:43.941368Z"
    }
   },
   "outputs": [],
   "source": [
    "a.reshape(-1,2) # -1은 자동 계산"
   ]
  },
  {
   "cell_type": "code",
   "execution_count": null,
   "id": "a9bb0c81",
   "metadata": {
    "ExecuteTime": {
     "end_time": "2021-07-29T08:05:04.740018Z",
     "start_time": "2021-07-29T08:05:04.725037Z"
    }
   },
   "outputs": [],
   "source": [
    "#a의 shape를 실제로 바꾸려면\n",
    "#a.shape=(2,3) 또는\n",
    "a.resize((1,6)) # -1 못씀\n",
    "print(a)\n",
    "a.resize(2,3) # 가장 많이 쓰는 거 : a=a.reshape(2,3)\n",
    "print(a)"
   ]
  },
  {
   "cell_type": "code",
   "execution_count": null,
   "id": "6c36b924",
   "metadata": {
    "ExecuteTime": {
     "end_time": "2021-07-29T08:31:46.926849Z",
     "start_time": "2021-07-29T08:31:46.917853Z"
    }
   },
   "outputs": [],
   "source": [
    "# 로또번호 6개(1~45)를 구해서 sort하여 1차원 배열에 넣고 출력하기\n",
    "a=np.floor(np.random.random(6)*45)+1\n",
    "a.sort()\n",
    "print(a)"
   ]
  },
  {
   "cell_type": "code",
   "execution_count": null,
   "id": "9aa7cc8b",
   "metadata": {
    "ExecuteTime": {
     "end_time": "2021-07-30T02:22:20.862024Z",
     "start_time": "2021-07-30T02:22:20.846036Z"
    }
   },
   "outputs": [],
   "source": [
    "a=np.floor(np.random.random(6)*45)+1\n",
    "a.sort()\n",
    "b=a.sort()\n",
    "print(a)\n",
    "print(b)"
   ]
  },
  {
   "cell_type": "code",
   "execution_count": 80,
   "id": "eca98ac3",
   "metadata": {
    "ExecuteTime": {
     "end_time": "2021-07-30T03:23:55.360076Z",
     "start_time": "2021-07-30T03:23:55.344120Z"
    }
   },
   "outputs": [],
   "source": [
    "def lotto():\n",
    "    import numpy as np\n",
    "    while True:\n",
    "        a=np.floor(np.random.random(6)*45)+1\n",
    "        if all([len(a[a==x])==1 for x in a]):\n",
    "            return a\n",
    "    \n"
   ]
  },
  {
   "cell_type": "code",
   "execution_count": 82,
   "id": "740b1dff",
   "metadata": {
    "ExecuteTime": {
     "end_time": "2021-07-30T03:23:57.209601Z",
     "start_time": "2021-07-30T03:23:57.197605Z"
    }
   },
   "outputs": [
    {
     "data": {
      "text/plain": [
       "array([38., 29., 44., 24., 20., 39.])"
      ]
     },
     "execution_count": 82,
     "metadata": {},
     "output_type": "execute_result"
    }
   ],
   "source": [
    "lotto()"
   ]
  },
  {
   "cell_type": "code",
   "execution_count": 88,
   "id": "afcdeeed",
   "metadata": {
    "ExecuteTime": {
     "end_time": "2021-07-30T03:28:13.271205Z",
     "start_time": "2021-07-30T03:28:10.935359Z"
    }
   },
   "outputs": [
    {
     "name": "stdout",
     "output_type": "stream",
     "text": [
      "peak memory: 2352.47 MiB, increment: 0.01 MiB\n",
      "Wall time: 2.32 s\n"
     ]
    }
   ],
   "source": [
    "%%time\n",
    "%memit lotto()"
   ]
  },
  {
   "cell_type": "code",
   "execution_count": 90,
   "id": "6dd0493b",
   "metadata": {
    "ExecuteTime": {
     "end_time": "2021-07-30T03:29:22.279286Z",
     "start_time": "2021-07-30T03:29:18.636996Z"
    }
   },
   "outputs": [
    {
     "name": "stdout",
     "output_type": "stream",
     "text": [
      "peak memory: 2352.48 MiB, increment: 0.00 MiB\n",
      "[ 4.  6. 11. 22. 23. 26.]\n",
      "Wall time: 3.63 s\n"
     ]
    }
   ],
   "source": [
    "%%time\n",
    "%memit\n",
    "while True:\n",
    "    a=np.floor(np.random.random(6)*45)+1\n",
    "    a.sort()\n",
    "    k=1\n",
    "    for i in a:\n",
    "        if i==a[5] or i==a[k]:\n",
    "            break\n",
    "        k+=1\n",
    "    if k==6:\n",
    "        break\n",
    "print(a)\n",
    "        "
   ]
  },
  {
   "cell_type": "markdown",
   "id": "842dec61",
   "metadata": {
    "ExecuteTime": {
     "end_time": "2021-07-29T08:18:18.967677Z",
     "start_time": "2021-07-29T08:18:18.953693Z"
    }
   },
   "source": [
    "### 2.5 배열 인쇄"
   ]
  },
  {
   "cell_type": "code",
   "execution_count": null,
   "id": "e2a15030",
   "metadata": {
    "ExecuteTime": {
     "end_time": "2021-07-29T08:19:27.268579Z",
     "start_time": "2021-07-29T08:19:27.260599Z"
    }
   },
   "outputs": [],
   "source": [
    "# 배열이 너무 커서 인쇄할 수 없는 경우\n",
    "print(np.arange(10000))"
   ]
  },
  {
   "cell_type": "code",
   "execution_count": null,
   "id": "bee50021",
   "metadata": {
    "ExecuteTime": {
     "end_time": "2021-07-29T08:19:44.306288Z",
     "start_time": "2021-07-29T08:19:44.291307Z"
    }
   },
   "outputs": [],
   "source": [
    "print(np.arange(10000).reshape(10,1000))"
   ]
  },
  {
   "cell_type": "code",
   "execution_count": null,
   "id": "824f4d89",
   "metadata": {
    "ExecuteTime": {
     "end_time": "2021-07-29T08:36:15.755236Z",
     "start_time": "2021-07-29T08:36:15.749252Z"
    }
   },
   "outputs": [],
   "source": [
    "# 배열이 너무 커서 인쇄할 수 없는 경우는 자동으로 건너뛰고 모서리만 출력\n",
    "# 이 동작을 비활성화하고 넘파이 배열 전체가 출력되도록 하려면\n",
    "# 인쇄 옵션 변경 threshold 값 큰값으로 조정\n",
    "import sys\n",
    "np.set_printoptions(threshold=10000)\n",
    "np.set_printoptions(threshold=sys.maxsize)\n",
    "np.set_printoptions(threshold=np.inf)\n",
    "# 커널 재시작시 다시 원상 복귀"
   ]
  },
  {
   "cell_type": "code",
   "execution_count": null,
   "id": "2b9fc7e2",
   "metadata": {
    "ExecuteTime": {
     "end_time": "2021-07-29T08:36:22.595846Z",
     "start_time": "2021-07-29T08:36:22.403002Z"
    }
   },
   "outputs": [],
   "source": [
    "print(np.arange(100000).reshape(100,1000))"
   ]
  },
  {
   "cell_type": "markdown",
   "id": "99eee51c",
   "metadata": {},
   "source": [
    "### 2.6 기본 연산동작"
   ]
  },
  {
   "cell_type": "markdown",
   "id": "20563c29",
   "metadata": {},
   "source": [
    "#### 1) 배열의 요소별 연산"
   ]
  },
  {
   "cell_type": "code",
   "execution_count": null,
   "id": "6b209156",
   "metadata": {
    "ExecuteTime": {
     "end_time": "2021-07-29T08:39:12.941033Z",
     "start_time": "2021-07-29T08:39:12.931047Z"
    }
   },
   "outputs": [],
   "source": [
    "a=np.array([20,30,40,50])\n",
    "b=np.arange(4)\n",
    "print(a)\n",
    "print(b)"
   ]
  },
  {
   "cell_type": "code",
   "execution_count": null,
   "id": "922fedd7",
   "metadata": {
    "ExecuteTime": {
     "end_time": "2021-07-29T08:40:10.080043Z",
     "start_time": "2021-07-29T08:40:10.062080Z"
    }
   },
   "outputs": [],
   "source": [
    "[a+b,a-b,a*b,a<35]"
   ]
  },
  {
   "cell_type": "code",
   "execution_count": null,
   "id": "2e204565",
   "metadata": {
    "ExecuteTime": {
     "end_time": "2021-07-29T08:40:54.611408Z",
     "start_time": "2021-07-29T08:40:54.602433Z"
    }
   },
   "outputs": [],
   "source": [
    "# a배열에서 35보다 큰 데이터만 추출\n",
    "[a[a>35]]"
   ]
  },
  {
   "cell_type": "markdown",
   "id": "7d338134",
   "metadata": {},
   "source": [
    "#### 2) 행렬의 곱(@) cf. *(요소별 곱)"
   ]
  },
  {
   "cell_type": "code",
   "execution_count": 353,
   "id": "a66c7e97",
   "metadata": {
    "ExecuteTime": {
     "end_time": "2021-07-30T07:37:03.727679Z",
     "start_time": "2021-07-30T07:37:03.637942Z"
    }
   },
   "outputs": [],
   "source": [
    "A=np.array([[1,0],[0,1]])\n",
    "B=np.array([[2,0],[3,4]])"
   ]
  },
  {
   "cell_type": "code",
   "execution_count": 354,
   "id": "0780816e",
   "metadata": {
    "ExecuteTime": {
     "end_time": "2021-07-30T07:37:04.469399Z",
     "start_time": "2021-07-30T07:37:04.455404Z"
    }
   },
   "outputs": [
    {
     "data": {
      "text/plain": [
       "(array([[1, 0],\n",
       "        [0, 1]]),\n",
       " array([[2, 0],\n",
       "        [3, 4]]))"
      ]
     },
     "execution_count": 354,
     "metadata": {},
     "output_type": "execute_result"
    }
   ],
   "source": [
    "A,B"
   ]
  },
  {
   "cell_type": "code",
   "execution_count": 355,
   "id": "03496d19",
   "metadata": {
    "ExecuteTime": {
     "end_time": "2021-07-30T07:37:05.084472Z",
     "start_time": "2021-07-30T07:37:05.068537Z"
    }
   },
   "outputs": [
    {
     "name": "stdout",
     "output_type": "stream",
     "text": [
      "요소별 곱 A*B = \n",
      "[[2 0]\n",
      " [0 4]]\n",
      "요소별 곱 A@B = \n",
      "[[2 0]\n",
      " [3 4]]\n",
      "요소별 곱 A.dot(B) = \n",
      "[[2 0]\n",
      " [3 4]]\n"
     ]
    }
   ],
   "source": [
    "print('요소별 곱 A*B = ', A*B, sep='\\n')\n",
    "print('요소별 곱 A@B = ', A@B, sep='\\n')\n",
    "print('요소별 곱 A.dot(B) = ', A.dot(B), sep='\\n')"
   ]
  },
  {
   "cell_type": "markdown",
   "id": "67c0190a",
   "metadata": {},
   "source": [
    "#### 3) 복합 대입 연산자 사용 (+=, -=, *=, ...)"
   ]
  },
  {
   "cell_type": "code",
   "execution_count": null,
   "id": "3a603a38",
   "metadata": {
    "ExecuteTime": {
     "end_time": "2021-07-29T08:50:09.394651Z",
     "start_time": "2021-07-29T08:50:09.383682Z"
    }
   },
   "outputs": [],
   "source": [
    "a=np.ones((2,3), dtype=int) #2차원 2행3열짜리 배열(dtype=int32)\n",
    "a"
   ]
  },
  {
   "cell_type": "code",
   "execution_count": null,
   "id": "0dd60bc3",
   "metadata": {
    "ExecuteTime": {
     "end_time": "2021-07-29T08:48:39.218869Z",
     "start_time": "2021-07-29T08:48:39.202910Z"
    }
   },
   "outputs": [],
   "source": [
    "b=np.random.random((2,3)) #2차원 2행3열짜리 배열(dtype=float64)\n",
    "b"
   ]
  },
  {
   "cell_type": "code",
   "execution_count": null,
   "id": "0d69e222",
   "metadata": {
    "ExecuteTime": {
     "end_time": "2021-07-29T08:50:54.443865Z",
     "start_time": "2021-07-29T08:50:54.433872Z"
    }
   },
   "outputs": [],
   "source": [
    "b+=a\n",
    "b"
   ]
  },
  {
   "cell_type": "code",
   "execution_count": null,
   "id": "065a1f57",
   "metadata": {
    "ExecuteTime": {
     "end_time": "2021-07-29T08:50:57.701465Z",
     "start_time": "2021-07-29T08:50:57.688477Z"
    }
   },
   "outputs": [],
   "source": [
    "# a+=b  #에러 int32에 float64를 넣을수는 없다."
   ]
  },
  {
   "cell_type": "code",
   "execution_count": null,
   "id": "af3fceae",
   "metadata": {
    "ExecuteTime": {
     "end_time": "2021-07-29T08:54:22.471811Z",
     "start_time": "2021-07-29T08:54:22.452851Z"
    }
   },
   "outputs": [],
   "source": [
    "a= np.ones(3, dtype=np.int16)\n",
    "b=np.linspace(0,np.pi,3) # float64\n",
    "print(a)\n",
    "print(b)"
   ]
  },
  {
   "cell_type": "code",
   "execution_count": null,
   "id": "dd27f7f3",
   "metadata": {
    "ExecuteTime": {
     "end_time": "2021-07-29T08:55:13.536794Z",
     "start_time": "2021-07-29T08:55:13.526822Z"
    }
   },
   "outputs": [],
   "source": [
    "c=a+b\n",
    "print(c)\n",
    "print(c.dtype)"
   ]
  },
  {
   "cell_type": "code",
   "execution_count": null,
   "id": "775cf761",
   "metadata": {
    "ExecuteTime": {
     "end_time": "2021-07-29T08:55:40.603473Z",
     "start_time": "2021-07-29T08:55:40.587486Z"
    }
   },
   "outputs": [],
   "source": [
    "c= a+b*1j\n",
    "print(c.dtype)"
   ]
  },
  {
   "cell_type": "markdown",
   "id": "c6676515",
   "metadata": {},
   "source": [
    "#### 4) 배열 요소별 집계 : 배열요소 전체를 sum, min, ..."
   ]
  },
  {
   "cell_type": "code",
   "execution_count": 9,
   "id": "46c29407",
   "metadata": {
    "ExecuteTime": {
     "end_time": "2021-08-02T05:13:11.743591Z",
     "start_time": "2021-08-02T05:13:11.735614Z"
    }
   },
   "outputs": [
    {
     "data": {
      "text/plain": [
       "array([[2, 2, 2, 4],\n",
       "       [4, 3, 2, 1]])"
      ]
     },
     "execution_count": 9,
     "metadata": {},
     "output_type": "execute_result"
    }
   ],
   "source": [
    "a=np.array([[2,2,2,4],[4,3,2,1]])\n",
    "a"
   ]
  },
  {
   "cell_type": "code",
   "execution_count": 10,
   "id": "f91f98f1",
   "metadata": {
    "ExecuteTime": {
     "end_time": "2021-08-02T05:13:12.030143Z",
     "start_time": "2021-08-02T05:13:12.013189Z"
    }
   },
   "outputs": [
    {
     "name": "stdout",
     "output_type": "stream",
     "text": [
      "[[2 2 2 4]\n",
      " [4 3 2 1]]\n",
      "전체 합 :  20\n",
      "전체 평균 :  2.5\n",
      "전체 최소값 :  1\n",
      "전체 최대값 :  4\n",
      "전체 분산 :  1.0\n",
      "전체 표준편차 :  1.0\n"
     ]
    }
   ],
   "source": [
    "print(a)\n",
    "print(\"전체 합 : \", a.sum())\n",
    "print(\"전체 평균 : \", a.mean())\n",
    "print(\"전체 최소값 : \", a.min())\n",
    "print(\"전체 최대값 : \", a.max())\n",
    "print(\"전체 분산 : \", a.var())\n",
    "print(\"전체 표준편차 : \", a.std())"
   ]
  },
  {
   "cell_type": "markdown",
   "id": "707490d6",
   "metadata": {},
   "source": [
    "#### 5) 배열 측별 집계 : 행별 sum, min, ... 열별 sum, min, ..."
   ]
  },
  {
   "cell_type": "code",
   "execution_count": 3,
   "id": "db8f9e80",
   "metadata": {
    "ExecuteTime": {
     "end_time": "2021-08-02T07:38:00.426888Z",
     "start_time": "2021-08-02T07:38:00.409906Z"
    }
   },
   "outputs": [
    {
     "data": {
      "text/plain": [
       "array([[[ 0,  1,  2,  3,  4],\n",
       "        [ 5,  6,  7,  8,  9],\n",
       "        [10, 11, 12, 13, 14],\n",
       "        [15, 16, 17, 18, 19]],\n",
       "\n",
       "       [[20, 21, 22, 23, 24],\n",
       "        [25, 26, 27, 28, 29],\n",
       "        [30, 31, 32, 33, 34],\n",
       "        [35, 36, 37, 38, 39]],\n",
       "\n",
       "       [[40, 41, 42, 43, 44],\n",
       "        [45, 46, 47, 48, 49],\n",
       "        [50, 51, 52, 53, 54],\n",
       "        [55, 56, 57, 58, 59]]])"
      ]
     },
     "execution_count": 3,
     "metadata": {},
     "output_type": "execute_result"
    }
   ],
   "source": [
    "a=np.array([[2,2,2,4],[4,3,2,1]])\n",
    "a\n",
    "b=np.arange(60).reshape(3,4,5)\n",
    "b"
   ]
  },
  {
   "cell_type": "code",
   "execution_count": 4,
   "id": "c4d9b78a",
   "metadata": {
    "ExecuteTime": {
     "end_time": "2021-08-02T07:38:20.841545Z",
     "start_time": "2021-08-02T07:38:20.829556Z"
    }
   },
   "outputs": [
    {
     "name": "stdout",
     "output_type": "stream",
     "text": [
      "[[ 60  63  66  69  72]\n",
      " [ 75  78  81  84  87]\n",
      " [ 90  93  96  99 102]\n",
      " [105 108 111 114 117]]\n",
      "[[ 30  34  38  42  46]\n",
      " [110 114 118 122 126]\n",
      " [190 194 198 202 206]]\n",
      "[[ 10  35  60  85]\n",
      " [110 135 160 185]\n",
      " [210 235 260 285]]\n"
     ]
    }
   ],
   "source": [
    "print(b.sum(axis=0))\n",
    "print(b.sum(axis=1))\n",
    "print(b.sum(axis=2))"
   ]
  },
  {
   "cell_type": "code",
   "execution_count": 16,
   "id": "65f10e4e",
   "metadata": {
    "ExecuteTime": {
     "end_time": "2021-08-02T05:20:48.004421Z",
     "start_time": "2021-08-02T05:20:47.984464Z"
    }
   },
   "outputs": [
    {
     "name": "stdout",
     "output_type": "stream",
     "text": [
      "[[2 2 2 4]\n",
      " [4 3 2 1]]\n",
      "a 배열의 행별 합(결과는 2열짜리 배열) :  [10 10]\n",
      "a 배열의 열별 합(결과는 4열짜리 배열) :  [6 5 4 5]\n",
      "a 배열의 행별 최대값(결과는 2열짜리 배열) :  [4 4]\n",
      "a 배열의 열별 최대값(결과는 4열짜리 배열) :  [4 3 2 4]\n"
     ]
    }
   ],
   "source": [
    "print(a)\n",
    "print(\"a 배열의 행별 합(결과는 2열짜리 배열) : \", a.sum(axis=1))\n",
    "print(\"a 배열의 열별 합(결과는 4열짜리 배열) : \", a.sum(axis=0))\n",
    "print(\"a 배열의 행별 최대값(결과는 2열짜리 배열) : \", a.max(axis=1))\n",
    "print(\"a 배열의 열별 최대값(결과는 4열짜리 배열) : \", a.max(axis=0))"
   ]
  },
  {
   "cell_type": "code",
   "execution_count": 17,
   "id": "0a9bb1b8",
   "metadata": {
    "ExecuteTime": {
     "end_time": "2021-08-02T05:25:10.082542Z",
     "start_time": "2021-08-02T05:25:10.070596Z"
    }
   },
   "outputs": [
    {
     "name": "stdout",
     "output_type": "stream",
     "text": [
      "a 배열의 행별 최대값이 있는 index(결과는 2열짜리 배열) :  [3 0]\n",
      "a 배열의 열별 최대값이 있는 index(결과는 4열짜리 배열) :  [1 1 0 0]\n"
     ]
    }
   ],
   "source": [
    "print(\"a 배열의 행별 최대값이 있는 index(결과는 2열짜리 배열) : \", a.argmax(axis=1))\n",
    "print(\"a 배열의 열별 최대값이 있는 index(결과는 4열짜리 배열) : \", a.argmax(axis=0))"
   ]
  },
  {
   "cell_type": "code",
   "execution_count": null,
   "id": "9a131ca1",
   "metadata": {
    "ExecuteTime": {
     "end_time": "2021-07-29T09:12:03.042649Z",
     "start_time": "2021-07-29T09:12:03.022678Z"
    }
   },
   "outputs": [],
   "source": [
    "#누적합\n",
    "print(a)\n",
    "print(a.cumsum(axis=1)) #행별 누적합\n",
    "print(a.cumsum(axis=0)) #열별 누적합"
   ]
  },
  {
   "cell_type": "code",
   "execution_count": null,
   "id": "268b6db6",
   "metadata": {
    "ExecuteTime": {
     "end_time": "2021-07-29T09:16:49.556711Z",
     "start_time": "2021-07-29T09:16:49.542749Z"
    }
   },
   "outputs": [],
   "source": [
    "b=np.arange(24).reshape(2,3,4)\n",
    "b"
   ]
  },
  {
   "cell_type": "code",
   "execution_count": null,
   "id": "cc2b445c",
   "metadata": {
    "ExecuteTime": {
     "end_time": "2021-07-29T09:24:45.672204Z",
     "start_time": "2021-07-29T09:24:45.656247Z"
    }
   },
   "outputs": [],
   "source": [
    "b.sum(), b.max(), b.var(), b.std() #배열전체에 대한"
   ]
  },
  {
   "cell_type": "code",
   "execution_count": null,
   "id": "3a788c35",
   "metadata": {
    "ExecuteTime": {
     "end_time": "2021-07-29T09:25:07.896505Z",
     "start_time": "2021-07-29T09:25:07.887525Z"
    }
   },
   "outputs": [],
   "source": [
    "import math\n",
    "math.sqrt(b.var())"
   ]
  },
  {
   "cell_type": "code",
   "execution_count": null,
   "id": "2177badb",
   "metadata": {
    "ExecuteTime": {
     "end_time": "2021-07-29T09:25:08.614750Z",
     "start_time": "2021-07-29T09:25:08.597796Z"
    }
   },
   "outputs": [],
   "source": [
    "np.sqrt(b.var()) #np.sqrt() 매개변수에 스칼라값, 배열"
   ]
  },
  {
   "cell_type": "code",
   "execution_count": null,
   "id": "b6e3d2d7",
   "metadata": {
    "ExecuteTime": {
     "end_time": "2021-07-29T09:26:29.160190Z",
     "start_time": "2021-07-29T09:26:29.150196Z"
    }
   },
   "outputs": [],
   "source": [
    "print(b) #2면 3행 4열\n",
    "b.sum(axis=0)\n",
    "#행과 열이 같은 것을 더한다."
   ]
  },
  {
   "cell_type": "code",
   "execution_count": null,
   "id": "4d2a1e63",
   "metadata": {
    "ExecuteTime": {
     "end_time": "2021-07-29T09:26:48.772001Z",
     "start_time": "2021-07-29T09:26:48.757009Z"
    }
   },
   "outputs": [],
   "source": [
    "print(b)\n",
    "b.sum(axis=1)\n",
    "#면과 열이 같은 것을 더한다."
   ]
  },
  {
   "cell_type": "code",
   "execution_count": null,
   "id": "57ee3051",
   "metadata": {
    "ExecuteTime": {
     "end_time": "2021-07-29T09:33:08.295110Z",
     "start_time": "2021-07-29T09:33:08.284140Z"
    }
   },
   "outputs": [],
   "source": [
    "print(b)\n",
    "print(b.sum(axis=2))\n",
    "print(b.max(axis=2))\n",
    "#면과 행이 같은 것을 더한다."
   ]
  },
  {
   "cell_type": "markdown",
   "id": "ff892c7b",
   "metadata": {},
   "source": [
    "### 2.7 그 외 함수들 (난수발생:1차원 배열)"
   ]
  },
  {
   "cell_type": "code",
   "execution_count": 96,
   "id": "8ad5a834",
   "metadata": {
    "ExecuteTime": {
     "end_time": "2021-07-30T03:36:55.618264Z",
     "start_time": "2021-07-30T03:36:55.605270Z"
    }
   },
   "outputs": [
    {
     "data": {
      "text/plain": [
       "array([[0.54661512, 0.72194473, 0.00521309],\n",
       "       [0.72855934, 0.98447711, 0.20734919]])"
      ]
     },
     "execution_count": 96,
     "metadata": {},
     "output_type": "execute_result"
    }
   ],
   "source": [
    "import numpy as np\n",
    "np.random.random((2,3))"
   ]
  },
  {
   "cell_type": "code",
   "execution_count": null,
   "id": "bf6118aa",
   "metadata": {
    "ExecuteTime": {
     "end_time": "2021-07-30T00:44:20.993423Z",
     "start_time": "2021-07-30T00:44:20.973467Z"
    }
   },
   "outputs": [],
   "source": [
    "a=np.arange(3)\n",
    "b=np.array([10,11,12])\n",
    "a+b"
   ]
  },
  {
   "cell_type": "code",
   "execution_count": null,
   "id": "c6789be2",
   "metadata": {
    "ExecuteTime": {
     "end_time": "2021-07-30T00:48:09.417109Z",
     "start_time": "2021-07-30T00:48:09.398154Z"
    }
   },
   "outputs": [],
   "source": [
    "np.add(a,b)"
   ]
  },
  {
   "cell_type": "code",
   "execution_count": null,
   "id": "4191f571",
   "metadata": {
    "ExecuteTime": {
     "end_time": "2021-07-30T00:53:58.046345Z",
     "start_time": "2021-07-30T00:53:58.029391Z"
    }
   },
   "outputs": [],
   "source": [
    "np.random.rand(5) # 0 ~ 1미만의 난수 5개 발생(균일분포에서 난수)"
   ]
  },
  {
   "cell_type": "code",
   "execution_count": null,
   "id": "efe3ee68",
   "metadata": {
    "ExecuteTime": {
     "end_time": "2021-07-30T00:56:51.689762Z",
     "start_time": "2021-07-30T00:56:51.009515Z"
    }
   },
   "outputs": [],
   "source": [
    "#rand() 균일분포에서 난수 발생 확인\n",
    "import matplotlib.pyplot as plt\n",
    "x= np.random.rand(1000)\n",
    "plt.hist(x)"
   ]
  },
  {
   "cell_type": "code",
   "execution_count": null,
   "id": "db9e3d2c",
   "metadata": {
    "ExecuteTime": {
     "end_time": "2021-07-30T00:57:50.053806Z",
     "start_time": "2021-07-30T00:57:50.048841Z"
    }
   },
   "outputs": [],
   "source": [
    "np.random.randn(5) # 평균 0이고 표준편차가 1인 정규분포(표준정규분포)에서 난수 5개 발생"
   ]
  },
  {
   "cell_type": "code",
   "execution_count": null,
   "id": "b512fc32",
   "metadata": {
    "ExecuteTime": {
     "end_time": "2021-07-30T01:09:00.170640Z",
     "start_time": "2021-07-30T01:08:58.762770Z"
    }
   },
   "outputs": [],
   "source": [
    "#randn() 표준정규분포 내의 난수 발생\n",
    "x=np.random.randn(1000)\n",
    "plt.hist(x,bins=1000) #bins 막대개수, x축은 값 y축은 개수"
   ]
  },
  {
   "cell_type": "code",
   "execution_count": 260,
   "id": "cef98d01",
   "metadata": {
    "ExecuteTime": {
     "end_time": "2021-07-30T06:33:40.013922Z",
     "start_time": "2021-07-30T06:33:39.983991Z"
    }
   },
   "outputs": [
    {
     "data": {
      "text/plain": [
       "0"
      ]
     },
     "execution_count": 260,
     "metadata": {},
     "output_type": "execute_result"
    }
   ],
   "source": [
    "np.random.randint(5) # 0부터 5미만의 정수 난수 발생"
   ]
  },
  {
   "cell_type": "code",
   "execution_count": 261,
   "id": "b7d34364",
   "metadata": {
    "ExecuteTime": {
     "end_time": "2021-07-30T06:33:43.594856Z",
     "start_time": "2021-07-30T06:33:43.576896Z"
    }
   },
   "outputs": [
    {
     "name": "stdout",
     "output_type": "stream",
     "text": [
      "The memory_profiler extension is already loaded. To reload it, use:\n",
      "  %reload_ext memory_profiler\n"
     ]
    }
   ],
   "source": [
    "%load_ext memory_profiler "
   ]
  },
  {
   "cell_type": "code",
   "execution_count": 262,
   "id": "68d4e6da",
   "metadata": {
    "ExecuteTime": {
     "end_time": "2021-07-30T06:33:52.589799Z",
     "start_time": "2021-07-30T06:33:44.556279Z"
    }
   },
   "outputs": [],
   "source": [
    "# 메모리 사용량과 속도 측정(메모리 프로파일러)를 로드하고,\n",
    "# 임의의 데이터생성 후 + , np.add 비교\n",
    "# 아나콘다 프롬프트에서 memory_profiler 패키지 install\n",
    "\n",
    "A= np.random.randn(100000000)\n",
    "B= np.random.randn(100000000)\n",
    "C= np.random.randn(100000000)"
   ]
  },
  {
   "cell_type": "code",
   "execution_count": null,
   "id": "999558e9",
   "metadata": {
    "ExecuteTime": {
     "end_time": "2021-07-30T01:09:54.198101Z",
     "start_time": "2021-07-30T01:09:54.195129Z"
    }
   },
   "outputs": [],
   "source": [
    "# %%time : 셀을 실행할 때 소요 시간 출력\n",
    "# %memit : 메모리 사용량 출력"
   ]
  },
  {
   "cell_type": "code",
   "execution_count": 263,
   "id": "2f188998",
   "metadata": {
    "ExecuteTime": {
     "end_time": "2021-07-30T06:33:56.182881Z",
     "start_time": "2021-07-30T06:33:54.859433Z"
    }
   },
   "outputs": [
    {
     "name": "stdout",
     "output_type": "stream",
     "text": [
      "peak memory: 3761.04 MiB, increment: 1383.20 MiB\n",
      "[ 0.89217919  2.46445317 -2.08922888 ...  0.61842849  0.59747448\n",
      "  0.12691384]\n",
      "Wall time: 1.32 s\n"
     ]
    }
   ],
   "source": [
    "%%time\n",
    "%memit G = A*B+C\n",
    "print(G)"
   ]
  },
  {
   "cell_type": "code",
   "execution_count": null,
   "id": "3f645784",
   "metadata": {},
   "outputs": [],
   "source": [
    "#np.add()의 경우, 배열 요소별 연산을 할 경우 메모리 절약\n",
    "#np.add(G,C,G) #G = C+G"
   ]
  },
  {
   "cell_type": "code",
   "execution_count": 264,
   "id": "c291f87b",
   "metadata": {
    "ExecuteTime": {
     "end_time": "2021-07-30T06:33:59.708458Z",
     "start_time": "2021-07-30T06:33:58.533105Z"
    }
   },
   "outputs": [
    {
     "name": "stdout",
     "output_type": "stream",
     "text": [
      "peak memory: 3822.40 MiB, increment: 681.62 MiB\n",
      "[ 0.89217919  2.46445317 -2.08922888 ...  0.61842849  0.59747448\n",
      "  0.12691384]\n",
      "Wall time: 1.16 s\n"
     ]
    }
   ],
   "source": [
    "%%time\n",
    "%memit G=A*B; np.add(G,C,G)\n",
    "print(G)"
   ]
  },
  {
   "cell_type": "markdown",
   "id": "606d7d7b",
   "metadata": {},
   "source": [
    "### 2.8 브로드 캐스팅"
   ]
  },
  {
   "cell_type": "code",
   "execution_count": null,
   "id": "6366d4ec",
   "metadata": {
    "ExecuteTime": {
     "end_time": "2021-07-30T01:41:22.365325Z",
     "start_time": "2021-07-30T01:41:22.345349Z"
    }
   },
   "outputs": [],
   "source": [
    "# 1차원 배열인 경우\n",
    "a = np.array([1,2,3])\n",
    "b = 10\n",
    "np.add(a,b)"
   ]
  },
  {
   "cell_type": "code",
   "execution_count": null,
   "id": "3ed60fb7",
   "metadata": {
    "ExecuteTime": {
     "end_time": "2021-07-30T01:42:58.069891Z",
     "start_time": "2021-07-30T01:42:58.052915Z"
    }
   },
   "outputs": [],
   "source": [
    "# 2차원 배열인 경우\n",
    "a = np.array([[0,0,0],[10,10,10],[20,20,20],[30,30,30]])\n",
    "b = np.array([5,5,5])\n",
    "np.multiply(a,b)"
   ]
  },
  {
   "cell_type": "code",
   "execution_count": null,
   "id": "d02d83bf",
   "metadata": {
    "ExecuteTime": {
     "end_time": "2021-07-30T01:51:55.792544Z",
     "start_time": "2021-07-30T01:51:55.777598Z"
    }
   },
   "outputs": [],
   "source": [
    "a=np.array([0,10,20,30]) #1행4열\n",
    "a\n",
    "#newaxis 연산자를 이용하여 배열에 새로운 축을 추가해서 2차원인 4행1열 변환"
   ]
  },
  {
   "cell_type": "code",
   "execution_count": null,
   "id": "4bff9cea",
   "metadata": {
    "ExecuteTime": {
     "end_time": "2021-07-30T01:51:49.199643Z",
     "start_time": "2021-07-30T01:51:49.181692Z"
    }
   },
   "outputs": [],
   "source": [
    "a=a[:, np.newaxis]\n",
    "a"
   ]
  },
  {
   "cell_type": "code",
   "execution_count": null,
   "id": "63b07388",
   "metadata": {
    "ExecuteTime": {
     "end_time": "2021-07-30T01:51:40.560521Z",
     "start_time": "2021-07-30T01:51:40.549528Z"
    }
   },
   "outputs": [],
   "source": [
    "b=np.array([1,2,3])\n",
    "b"
   ]
  },
  {
   "cell_type": "code",
   "execution_count": null,
   "id": "0db5d0ce",
   "metadata": {
    "ExecuteTime": {
     "end_time": "2021-07-30T01:51:40.940199Z",
     "start_time": "2021-07-30T01:51:40.933238Z"
    }
   },
   "outputs": [],
   "source": [
    "result= np.add(a,b)\n",
    "result"
   ]
  },
  {
   "cell_type": "code",
   "execution_count": null,
   "id": "cd3cca14",
   "metadata": {
    "ExecuteTime": {
     "end_time": "2021-07-30T01:52:44.243892Z",
     "start_time": "2021-07-30T01:52:44.237886Z"
    }
   },
   "outputs": [],
   "source": [
    "result[1,2] == a[1]+b[2]"
   ]
  },
  {
   "cell_type": "markdown",
   "id": "8ad447b9",
   "metadata": {},
   "source": [
    "## 3절. 배열 합치기 / 분할하기"
   ]
  },
  {
   "cell_type": "markdown",
   "id": "719b0f79",
   "metadata": {},
   "source": [
    "### 3.1 인덱싱과 슬라이싱"
   ]
  },
  {
   "cell_type": "code",
   "execution_count": null,
   "id": "bda09ff3",
   "metadata": {
    "ExecuteTime": {
     "end_time": "2021-07-30T01:58:16.317635Z",
     "start_time": "2021-07-30T01:58:16.303681Z"
    }
   },
   "outputs": [],
   "source": [
    "# 1) 인덱싱\n",
    "a=np.arange(0,30,3)\n",
    "print(a[2],a[-1])"
   ]
  },
  {
   "cell_type": "code",
   "execution_count": null,
   "id": "f78da7d0",
   "metadata": {
    "ExecuteTime": {
     "end_time": "2021-07-30T01:58:56.488050Z",
     "start_time": "2021-07-30T01:58:56.476061Z"
    }
   },
   "outputs": [],
   "source": [
    "# 2)슬라이싱\n",
    "a[2:5] #2번째부터 5번째 앞까지"
   ]
  },
  {
   "cell_type": "code",
   "execution_count": null,
   "id": "6b5a0f1d",
   "metadata": {
    "ExecuteTime": {
     "end_time": "2021-07-30T01:59:07.213520Z",
     "start_time": "2021-07-30T01:59:07.199537Z"
    }
   },
   "outputs": [],
   "source": [
    "a[0:100:2]"
   ]
  },
  {
   "cell_type": "code",
   "execution_count": null,
   "id": "60bc3714",
   "metadata": {
    "ExecuteTime": {
     "end_time": "2021-07-30T02:00:00.636962Z",
     "start_time": "2021-07-30T02:00:00.623006Z"
    }
   },
   "outputs": [],
   "source": [
    "a[:6:2]=-99\n",
    "a"
   ]
  },
  {
   "cell_type": "markdown",
   "id": "bf74e667",
   "metadata": {},
   "source": [
    "도움말 문서들\n",
    "- 인덱싱 : https://docs.scipy.org/doc/numpy/user/basics.indexing.html\n",
    "- 배열 인덱싱 : https://docs.scipy.org/doc/numpy/reference/arrays.indexing.html\n",
    "- newaxis : https://docs.scipy.org/doc/numpy/reference/constants.html#numpy.newaxis"
   ]
  },
  {
   "cell_type": "code",
   "execution_count": null,
   "id": "ea5c2adc",
   "metadata": {
    "ExecuteTime": {
     "end_time": "2021-07-30T02:09:00.142780Z",
     "start_time": "2021-07-30T02:09:00.123808Z"
    }
   },
   "outputs": [],
   "source": [
    "# 3) 다차원 배열의 인덱싱과 슬라이싱\n",
    "a=np.arange(20).reshape(5,4)\n",
    "a"
   ]
  },
  {
   "cell_type": "code",
   "execution_count": null,
   "id": "f4d83f22",
   "metadata": {
    "ExecuteTime": {
     "end_time": "2021-07-30T02:14:00.239703Z",
     "start_time": "2021-07-30T02:14:00.227735Z"
    }
   },
   "outputs": [],
   "source": [
    "a[2,3]"
   ]
  },
  {
   "cell_type": "code",
   "execution_count": null,
   "id": "83d63b9e",
   "metadata": {
    "ExecuteTime": {
     "end_time": "2021-07-30T02:16:38.924801Z",
     "start_time": "2021-07-30T02:16:38.906829Z"
    }
   },
   "outputs": [],
   "source": [
    "a[2,-1]"
   ]
  },
  {
   "cell_type": "code",
   "execution_count": null,
   "id": "5d2ff8d6",
   "metadata": {
    "ExecuteTime": {
     "end_time": "2021-07-30T02:16:50.147605Z",
     "start_time": "2021-07-30T02:16:50.133611Z"
    }
   },
   "outputs": [],
   "source": [
    "a[0:2,1:3]"
   ]
  },
  {
   "cell_type": "code",
   "execution_count": null,
   "id": "4f00a43f",
   "metadata": {
    "ExecuteTime": {
     "end_time": "2021-07-30T02:05:17.701128Z",
     "start_time": "2021-07-30T02:05:17.689131Z"
    }
   },
   "outputs": [],
   "source": [
    "a[:,-1]"
   ]
  },
  {
   "cell_type": "code",
   "execution_count": null,
   "id": "4cf981a8",
   "metadata": {
    "ExecuteTime": {
     "end_time": "2021-07-30T02:05:49.085812Z",
     "start_time": "2021-07-30T02:05:49.074842Z"
    }
   },
   "outputs": [],
   "source": [
    "a[0:3,-1]"
   ]
  },
  {
   "cell_type": "code",
   "execution_count": null,
   "id": "2e5d74bc",
   "metadata": {
    "ExecuteTime": {
     "end_time": "2021-07-30T02:14:49.085590Z",
     "start_time": "2021-07-30T02:14:49.067619Z"
    }
   },
   "outputs": [],
   "source": [
    "# 모든 행의 마지막 열을 제외한 데이터 추출\n",
    "a[:,:-1]"
   ]
  },
  {
   "cell_type": "code",
   "execution_count": null,
   "id": "f44312ba",
   "metadata": {
    "ExecuteTime": {
     "end_time": "2021-07-30T02:15:43.325002Z",
     "start_time": "2021-07-30T02:15:43.315049Z"
    }
   },
   "outputs": [],
   "source": [
    "a[:,:3] # a[0,1,2,3:0,1,2]"
   ]
  },
  {
   "cell_type": "code",
   "execution_count": null,
   "id": "428f1d6b",
   "metadata": {
    "ExecuteTime": {
     "end_time": "2021-07-30T02:08:31.972005Z",
     "start_time": "2021-07-30T02:08:31.955038Z"
    }
   },
   "outputs": [],
   "source": [
    "a[:-1]"
   ]
  },
  {
   "cell_type": "code",
   "execution_count": null,
   "id": "01a619a4",
   "metadata": {
    "ExecuteTime": {
     "end_time": "2021-07-30T02:10:20.311052Z",
     "start_time": "2021-07-30T02:10:20.298060Z"
    }
   },
   "outputs": [],
   "source": [
    "a[0:3]"
   ]
  },
  {
   "cell_type": "code",
   "execution_count": null,
   "id": "d5c7a5ad",
   "metadata": {
    "ExecuteTime": {
     "end_time": "2021-07-30T02:10:25.628669Z",
     "start_time": "2021-07-30T02:10:25.613714Z"
    }
   },
   "outputs": [],
   "source": [
    "a[0:3,...]"
   ]
  },
  {
   "cell_type": "code",
   "execution_count": null,
   "id": "1a59d0f9",
   "metadata": {
    "ExecuteTime": {
     "end_time": "2021-07-30T02:10:34.414948Z",
     "start_time": "2021-07-30T02:10:34.398004Z"
    }
   },
   "outputs": [],
   "source": [
    "a[...,-1]"
   ]
  },
  {
   "cell_type": "code",
   "execution_count": null,
   "id": "32e14203",
   "metadata": {
    "ExecuteTime": {
     "end_time": "2021-07-30T02:12:23.093211Z",
     "start_time": "2021-07-30T02:12:23.088228Z"
    }
   },
   "outputs": [],
   "source": [
    "#모든 행의 마지막 열, 마지막 전열\n",
    "a[:,-1:-3:-1]"
   ]
  },
  {
   "cell_type": "markdown",
   "id": "5f7e1d5d",
   "metadata": {},
   "source": [
    "### 3.2 두 배열을 쌓아 합치기\n",
    "**- vstack(tup) : 아래에 추가하는 방식으로 쌓아 합침.**\n",
    "**- hstack(tup) : 옆으로 추가하는 방식으로 합침.**\n",
    "**- dstack(tup) : 마지막 축(열)을 쌓아 합침.**"
   ]
  },
  {
   "cell_type": "code",
   "execution_count": 27,
   "id": "9f7ada25",
   "metadata": {
    "ExecuteTime": {
     "end_time": "2021-08-02T05:28:23.603472Z",
     "start_time": "2021-08-02T05:28:23.595472Z"
    }
   },
   "outputs": [
    {
     "data": {
      "text/plain": [
       "array([[[ 0,  1,  2,  3],\n",
       "        [ 4,  5,  6,  7],\n",
       "        [ 8,  9, 10, 11]],\n",
       "\n",
       "       [[12, 13, 14, 15],\n",
       "        [16, 17, 18, 19],\n",
       "        [20, 21, 22, 23]]])"
      ]
     },
     "execution_count": 27,
     "metadata": {},
     "output_type": "execute_result"
    }
   ],
   "source": [
    "a=np.arange(24).reshape(2,3,4)\n",
    "a"
   ]
  },
  {
   "cell_type": "code",
   "execution_count": 23,
   "id": "74bc4600",
   "metadata": {
    "ExecuteTime": {
     "end_time": "2021-08-02T05:28:01.067241Z",
     "start_time": "2021-08-02T05:28:01.058246Z"
    }
   },
   "outputs": [
    {
     "data": {
      "text/plain": [
       "array([ True,  True,  True,  True])"
      ]
     },
     "execution_count": 23,
     "metadata": {},
     "output_type": "execute_result"
    }
   ],
   "source": [
    "a[1,2]==a[1,2,:]"
   ]
  },
  {
   "cell_type": "code",
   "execution_count": 28,
   "id": "3ef9cee4",
   "metadata": {
    "ExecuteTime": {
     "end_time": "2021-08-02T05:28:26.216139Z",
     "start_time": "2021-08-02T05:28:26.205169Z"
    }
   },
   "outputs": [
    {
     "data": {
      "text/plain": [
       "(array([[ 0,  1,  2,  3],\n",
       "        [ 4,  5,  6,  7],\n",
       "        [ 8,  9, 10, 11]]),\n",
       " array([[12, 13, 14, 15],\n",
       "        [16, 17, 18, 19],\n",
       "        [20, 21, 22, 23]]))"
      ]
     },
     "execution_count": 28,
     "metadata": {},
     "output_type": "execute_result"
    }
   ],
   "source": [
    "a,b=a[0],a[1]\n",
    "a,b"
   ]
  },
  {
   "cell_type": "code",
   "execution_count": 29,
   "id": "acb40a74",
   "metadata": {
    "ExecuteTime": {
     "end_time": "2021-08-02T05:28:30.860285Z",
     "start_time": "2021-08-02T05:28:30.841312Z"
    }
   },
   "outputs": [
    {
     "data": {
      "text/plain": [
       "array([[ 0,  1,  2,  3],\n",
       "       [ 4,  5,  6,  7],\n",
       "       [ 8,  9, 10, 11],\n",
       "       [12, 13, 14, 15],\n",
       "       [16, 17, 18, 19],\n",
       "       [20, 21, 22, 23]])"
      ]
     },
     "execution_count": 29,
     "metadata": {},
     "output_type": "execute_result"
    }
   ],
   "source": [
    "np.vstack((a,b))"
   ]
  },
  {
   "cell_type": "code",
   "execution_count": 13,
   "id": "c1b74aa2",
   "metadata": {
    "ExecuteTime": {
     "end_time": "2021-07-30T02:35:26.093394Z",
     "start_time": "2021-07-30T02:35:26.083420Z"
    }
   },
   "outputs": [
    {
     "data": {
      "text/plain": [
       "array([[ 0,  1,  2,  3, 12, 13, 14, 15],\n",
       "       [ 4,  5,  6,  7, 16, 17, 18, 19],\n",
       "       [ 8,  9, 10, 11, 20, 21, 22, 23]])"
      ]
     },
     "execution_count": 13,
     "metadata": {},
     "output_type": "execute_result"
    }
   ],
   "source": [
    "np.hstack((a,b))"
   ]
  },
  {
   "cell_type": "code",
   "execution_count": 16,
   "id": "91127cb5",
   "metadata": {
    "ExecuteTime": {
     "end_time": "2021-07-30T02:39:12.595625Z",
     "start_time": "2021-07-30T02:39:12.590639Z"
    }
   },
   "outputs": [
    {
     "data": {
      "text/plain": [
       "array([[[ 0, 12],\n",
       "        [ 1, 13],\n",
       "        [ 2, 14],\n",
       "        [ 3, 15]],\n",
       "\n",
       "       [[ 4, 16],\n",
       "        [ 5, 17],\n",
       "        [ 6, 18],\n",
       "        [ 7, 19]],\n",
       "\n",
       "       [[ 8, 20],\n",
       "        [ 9, 21],\n",
       "        [10, 22],\n",
       "        [11, 23]]])"
      ]
     },
     "execution_count": 16,
     "metadata": {},
     "output_type": "execute_result"
    }
   ],
   "source": [
    "np.dstack((a,b))"
   ]
  },
  {
   "cell_type": "code",
   "execution_count": 20,
   "id": "9df23f94",
   "metadata": {
    "ExecuteTime": {
     "end_time": "2021-07-30T02:42:35.849336Z",
     "start_time": "2021-07-30T02:42:35.830393Z"
    }
   },
   "outputs": [],
   "source": [
    "#column_stack(tup) : 1차원 배열을 열단위로 배열하여 2차원 배열로 합침\n",
    "a=np.array([1,2,3,4])\n",
    "b=np.array([5,6,7,8])\n",
    "c=np.array([9,10,11,12])"
   ]
  },
  {
   "cell_type": "code",
   "execution_count": 26,
   "id": "823dc3f4",
   "metadata": {
    "ExecuteTime": {
     "end_time": "2021-07-30T02:44:25.163961Z",
     "start_time": "2021-07-30T02:44:25.154986Z"
    }
   },
   "outputs": [
    {
     "data": {
      "text/plain": [
       "array([[ 1,  5,  9],\n",
       "       [ 2,  6, 10],\n",
       "       [ 3,  7, 11],\n",
       "       [ 4,  8, 12]])"
      ]
     },
     "execution_count": 26,
     "metadata": {},
     "output_type": "execute_result"
    }
   ],
   "source": [
    "np.hstack((a[:,np.newaxis],b[:,np.newaxis],c[:,np.newaxis]))"
   ]
  },
  {
   "cell_type": "code",
   "execution_count": 19,
   "id": "5a2270c9",
   "metadata": {
    "ExecuteTime": {
     "end_time": "2021-07-30T02:42:10.672431Z",
     "start_time": "2021-07-30T02:42:10.658469Z"
    }
   },
   "outputs": [
    {
     "data": {
      "text/plain": [
       "array([[ 1,  5,  9],\n",
       "       [ 2,  6, 10],\n",
       "       [ 3,  7, 11],\n",
       "       [ 4,  8, 12]])"
      ]
     },
     "execution_count": 19,
     "metadata": {},
     "output_type": "execute_result"
    }
   ],
   "source": [
    "np.column_stack((a,b,c))"
   ]
  },
  {
   "cell_type": "code",
   "execution_count": 27,
   "id": "eda2d79a",
   "metadata": {
    "ExecuteTime": {
     "end_time": "2021-07-30T02:44:55.076166Z",
     "start_time": "2021-07-30T02:44:55.058216Z"
    }
   },
   "outputs": [
    {
     "data": {
      "text/plain": [
       "array([[ 1,  2,  3,  4],\n",
       "       [ 5,  6,  7,  8],\n",
       "       [ 9, 10, 11, 12]])"
      ]
     },
     "execution_count": 27,
     "metadata": {},
     "output_type": "execute_result"
    }
   ],
   "source": [
    "np.row_stack((a,b,c))"
   ]
  },
  {
   "cell_type": "markdown",
   "id": "5e748a56",
   "metadata": {},
   "source": [
    "- stack(tup, axis=n) : axis 속성에 따라 배열을 합침\n",
    "    * axis = 0 : 첫번째 차원, axis=-1이면 마지막 차원"
   ]
  },
  {
   "cell_type": "code",
   "execution_count": 36,
   "id": "e11e1f2d",
   "metadata": {
    "ExecuteTime": {
     "end_time": "2021-07-30T02:50:38.876386Z",
     "start_time": "2021-07-30T02:50:38.857410Z"
    }
   },
   "outputs": [
    {
     "name": "stdout",
     "output_type": "stream",
     "text": [
      "[[ 0  1  2  3]\n",
      " [ 4  5  6  7]\n",
      " [ 8  9 10 11]]\n",
      "[[12 13 14 15]\n",
      " [16 17 18 19]\n",
      " [20 21 22 23]]\n"
     ]
    }
   ],
   "source": [
    "a = np.arange(12).reshape(3,4)\n",
    "b = np.arange(12,24).reshape(3,4)\n",
    "print(a)\n",
    "print(b)"
   ]
  },
  {
   "cell_type": "code",
   "execution_count": 35,
   "id": "bc8e3f2d",
   "metadata": {
    "ExecuteTime": {
     "end_time": "2021-07-30T02:50:19.704352Z",
     "start_time": "2021-07-30T02:50:19.687398Z"
    }
   },
   "outputs": [
    {
     "data": {
      "text/plain": [
       "array([[[ 0,  1,  2,  3],\n",
       "        [ 4,  5,  6,  7],\n",
       "        [ 8,  9, 10, 11]],\n",
       "\n",
       "       [[12, 13, 14, 15],\n",
       "        [16, 17, 18, 19],\n",
       "        [20, 21, 22, 23]]])"
      ]
     },
     "execution_count": 35,
     "metadata": {},
     "output_type": "execute_result"
    }
   ],
   "source": [
    "np.stack((a,b), axis=0) # 2 3 4"
   ]
  },
  {
   "cell_type": "code",
   "execution_count": 37,
   "id": "e7d25b8e",
   "metadata": {
    "ExecuteTime": {
     "end_time": "2021-07-30T02:51:02.486196Z",
     "start_time": "2021-07-30T02:51:02.467247Z"
    }
   },
   "outputs": [
    {
     "data": {
      "text/plain": [
       "array([[[ 0,  1,  2,  3],\n",
       "        [12, 13, 14, 15]],\n",
       "\n",
       "       [[ 4,  5,  6,  7],\n",
       "        [16, 17, 18, 19]],\n",
       "\n",
       "       [[ 8,  9, 10, 11],\n",
       "        [20, 21, 22, 23]]])"
      ]
     },
     "execution_count": 37,
     "metadata": {},
     "output_type": "execute_result"
    }
   ],
   "source": [
    "np.stack((a,b), axis=1) # 3 2 4"
   ]
  },
  {
   "cell_type": "code",
   "execution_count": 38,
   "id": "e8790248",
   "metadata": {
    "ExecuteTime": {
     "end_time": "2021-07-30T02:53:05.666899Z",
     "start_time": "2021-07-30T02:53:05.648947Z"
    }
   },
   "outputs": [
    {
     "data": {
      "text/plain": [
       "array([[[ 0, 12],\n",
       "        [ 1, 13],\n",
       "        [ 2, 14],\n",
       "        [ 3, 15]],\n",
       "\n",
       "       [[ 4, 16],\n",
       "        [ 5, 17],\n",
       "        [ 6, 18],\n",
       "        [ 7, 19]],\n",
       "\n",
       "       [[ 8, 20],\n",
       "        [ 9, 21],\n",
       "        [10, 22],\n",
       "        [11, 23]]])"
      ]
     },
     "execution_count": 38,
     "metadata": {},
     "output_type": "execute_result"
    }
   ],
   "source": [
    "np.stack((a,b), axis=2) # 3 4 2"
   ]
  },
  {
   "cell_type": "markdown",
   "id": "0965f809",
   "metadata": {},
   "source": [
    "### 3.3 r_, c_"
   ]
  },
  {
   "cell_type": "code",
   "execution_count": 40,
   "id": "3fc853fb",
   "metadata": {
    "ExecuteTime": {
     "end_time": "2021-07-30T02:57:49.043825Z",
     "start_time": "2021-07-30T02:57:49.035831Z"
    }
   },
   "outputs": [],
   "source": [
    "a=np.array([1,2,3,4])\n",
    "b=np.array([5,6,7,8])\n",
    "c=np.array([9,10,11,12])"
   ]
  },
  {
   "cell_type": "code",
   "execution_count": 41,
   "id": "3a76ba30",
   "metadata": {
    "ExecuteTime": {
     "end_time": "2021-07-30T02:57:59.530887Z",
     "start_time": "2021-07-30T02:57:59.519899Z"
    }
   },
   "outputs": [
    {
     "data": {
      "text/plain": [
       "array([ 1,  2,  3,  4,  5,  6,  7,  8,  9, 10, 11, 12])"
      ]
     },
     "execution_count": 41,
     "metadata": {},
     "output_type": "execute_result"
    }
   ],
   "source": [
    "np.r_[a,b,c]"
   ]
  },
  {
   "cell_type": "code",
   "execution_count": 42,
   "id": "b24215de",
   "metadata": {
    "ExecuteTime": {
     "end_time": "2021-07-30T02:58:18.661718Z",
     "start_time": "2021-07-30T02:58:18.650727Z"
    }
   },
   "outputs": [
    {
     "data": {
      "text/plain": [
       "array([[ 1,  2,  3,  4],\n",
       "       [ 5,  6,  7,  8],\n",
       "       [ 9, 10, 11, 12]])"
      ]
     },
     "execution_count": 42,
     "metadata": {},
     "output_type": "execute_result"
    }
   ],
   "source": [
    "np.r_[[a],[b],[c]]"
   ]
  },
  {
   "cell_type": "code",
   "execution_count": 43,
   "id": "c072ca90",
   "metadata": {
    "ExecuteTime": {
     "end_time": "2021-07-30T02:58:46.986433Z",
     "start_time": "2021-07-30T02:58:46.978455Z"
    }
   },
   "outputs": [
    {
     "data": {
      "text/plain": [
       "array([[ 1,  5,  9],\n",
       "       [ 2,  6, 10],\n",
       "       [ 3,  7, 11],\n",
       "       [ 4,  8, 12]])"
      ]
     },
     "execution_count": 43,
     "metadata": {},
     "output_type": "execute_result"
    }
   ],
   "source": [
    "np.c_[a,b,c]"
   ]
  },
  {
   "cell_type": "code",
   "execution_count": 44,
   "id": "1fae3e3d",
   "metadata": {
    "ExecuteTime": {
     "end_time": "2021-07-30T02:59:06.731818Z",
     "start_time": "2021-07-30T02:59:06.725830Z"
    }
   },
   "outputs": [
    {
     "data": {
      "text/plain": [
       "array([[ 1,  2,  3,  4,  5,  6,  7,  8,  9, 10, 11, 12]])"
      ]
     },
     "execution_count": 44,
     "metadata": {},
     "output_type": "execute_result"
    }
   ],
   "source": [
    "np.c_[[a],[b],[c]]"
   ]
  },
  {
   "cell_type": "markdown",
   "id": "e2dae182",
   "metadata": {},
   "source": [
    "### 3.4 하나의 배열을 여러개 작은 배열로 분할하기\n",
    "**-vsplit(ary, indices_or_sections) : 첫번쨰 축(2차원의 경우 가로축)을 따라 분할**<br/>\n",
    "**-hsplit(ary, indices_or_sections) : 두번쨰 축(2차원의 경우 가로축)을 따라 분할**<br/>\n",
    "**-dsplit(ary, indices_or_sections) : 3번쨰 차원을 나눔**<br/>\n",
    "    * indices_or_sections : 정수 n (n개의 section으로 나눔)<br/>\n",
    "    [3,6] (3번과 6번 인덱스 기점으로 나눔)\n",
    "**- split(ary, indices_or_sections, axis=?)**\n",
    "    * axis가 0이면 vsplit()\n",
    "    * axis가 1이면 hsplit()\n",
    "    * axis가 2이면 3차원 이상에서 동작하며 dsplit()"
   ]
  },
  {
   "cell_type": "code",
   "execution_count": 61,
   "id": "9eb92110",
   "metadata": {
    "ExecuteTime": {
     "end_time": "2021-07-30T03:11:22.809705Z",
     "start_time": "2021-07-30T03:11:22.792760Z"
    }
   },
   "outputs": [
    {
     "data": {
      "text/plain": [
       "array([[ 0,  1,  2,  3],\n",
       "       [ 4,  5,  6,  7],\n",
       "       [ 8,  9, 10, 11]])"
      ]
     },
     "execution_count": 61,
     "metadata": {},
     "output_type": "execute_result"
    }
   ],
   "source": [
    "a=np.arange(12).reshape(3,4)\n",
    "a"
   ]
  },
  {
   "cell_type": "code",
   "execution_count": 62,
   "id": "011b4e97",
   "metadata": {
    "ExecuteTime": {
     "end_time": "2021-07-30T03:11:54.023317Z",
     "start_time": "2021-07-30T03:11:54.015330Z"
    }
   },
   "outputs": [
    {
     "data": {
      "text/plain": [
       "[array([[0, 1, 2, 3]]), array([[4, 5, 6, 7]]), array([[ 8,  9, 10, 11]])]"
      ]
     },
     "execution_count": 62,
     "metadata": {},
     "output_type": "execute_result"
    }
   ],
   "source": [
    "a_vsplit = np.vsplit(a,3) #가로축을 따라 3개의 배열로 분할\n",
    "a_vsplit"
   ]
  },
  {
   "cell_type": "code",
   "execution_count": 63,
   "id": "e15ce6e4",
   "metadata": {
    "ExecuteTime": {
     "end_time": "2021-07-30T03:12:59.489589Z",
     "start_time": "2021-07-30T03:12:59.478635Z"
    }
   },
   "outputs": [
    {
     "data": {
      "text/plain": [
       "[array([[0, 1, 2, 3],\n",
       "        [4, 5, 6, 7]]),\n",
       " array([[ 8,  9, 10, 11]])]"
      ]
     },
     "execution_count": 63,
     "metadata": {},
     "output_type": "execute_result"
    }
   ],
   "source": [
    "np.vsplit(a,[2])"
   ]
  },
  {
   "cell_type": "code",
   "execution_count": 64,
   "id": "07bf0734",
   "metadata": {
    "ExecuteTime": {
     "end_time": "2021-07-30T03:14:43.347629Z",
     "start_time": "2021-07-30T03:14:43.330642Z"
    }
   },
   "outputs": [
    {
     "data": {
      "text/plain": [
       "[array([[0, 1, 2, 3]]), array([[4, 5, 6, 7]]), array([[ 8,  9, 10, 11]])]"
      ]
     },
     "execution_count": 64,
     "metadata": {},
     "output_type": "execute_result"
    }
   ],
   "source": [
    "np.vsplit(a,[1,2])"
   ]
  },
  {
   "cell_type": "code",
   "execution_count": 67,
   "id": "b1bcea28",
   "metadata": {
    "ExecuteTime": {
     "end_time": "2021-07-30T03:15:32.090272Z",
     "start_time": "2021-07-30T03:15:32.078273Z"
    }
   },
   "outputs": [
    {
     "data": {
      "text/plain": [
       "[array([[0],\n",
       "        [4],\n",
       "        [8]]),\n",
       " array([[1],\n",
       "        [5],\n",
       "        [9]]),\n",
       " array([[ 2],\n",
       "        [ 6],\n",
       "        [10]]),\n",
       " array([[ 3],\n",
       "        [ 7],\n",
       "        [11]])]"
      ]
     },
     "execution_count": 67,
     "metadata": {},
     "output_type": "execute_result"
    }
   ],
   "source": [
    "np.hsplit(a,4)"
   ]
  },
  {
   "cell_type": "code",
   "execution_count": 76,
   "id": "3546dabd",
   "metadata": {
    "ExecuteTime": {
     "end_time": "2021-07-30T03:22:00.410672Z",
     "start_time": "2021-07-30T03:22:00.399681Z"
    }
   },
   "outputs": [
    {
     "data": {
      "text/plain": [
       "array([[ 0,  1,  2,  3,  4,  5,  6,  7],\n",
       "       [ 8,  9, 10, 11, 12, 13, 14, 15],\n",
       "       [16, 17, 18, 19, 20, 21, 22, 23]])"
      ]
     },
     "execution_count": 76,
     "metadata": {},
     "output_type": "execute_result"
    }
   ],
   "source": [
    "A=np.arange(24).reshape(3,8)\n",
    "A"
   ]
  },
  {
   "cell_type": "code",
   "execution_count": 78,
   "id": "28dc8fb3",
   "metadata": {
    "ExecuteTime": {
     "end_time": "2021-07-30T03:22:39.153325Z",
     "start_time": "2021-07-30T03:22:39.139333Z"
    }
   },
   "outputs": [
    {
     "data": {
      "text/plain": [
       "array([[ 2,  4],\n",
       "       [10, 12],\n",
       "       [18, 20]])"
      ]
     },
     "execution_count": 78,
     "metadata": {},
     "output_type": "execute_result"
    }
   ],
   "source": [
    "A[:,[2,4]]"
   ]
  },
  {
   "cell_type": "code",
   "execution_count": 79,
   "id": "41aec4ef",
   "metadata": {
    "ExecuteTime": {
     "end_time": "2021-07-30T03:23:09.159970Z",
     "start_time": "2021-07-30T03:23:09.146998Z"
    }
   },
   "outputs": [
    {
     "data": {
      "text/plain": [
       "[array([[ 0,  1],\n",
       "        [ 8,  9],\n",
       "        [16, 17]]),\n",
       " array([[ 2,  3,  4],\n",
       "        [10, 11, 12],\n",
       "        [18, 19, 20]]),\n",
       " array([[ 5],\n",
       "        [13],\n",
       "        [21]]),\n",
       " array([[ 6,  7],\n",
       "        [14, 15],\n",
       "        [22, 23]])]"
      ]
     },
     "execution_count": 79,
     "metadata": {},
     "output_type": "execute_result"
    }
   ],
   "source": [
    "np.hsplit(A,(2,5,6))"
   ]
  },
  {
   "cell_type": "code",
   "execution_count": 99,
   "id": "796d8dd1",
   "metadata": {
    "ExecuteTime": {
     "end_time": "2021-07-30T03:37:24.594673Z",
     "start_time": "2021-07-30T03:37:24.578716Z"
    }
   },
   "outputs": [
    {
     "data": {
      "text/plain": [
       "array([[[ 0,  1,  2,  3],\n",
       "        [ 4,  5,  6,  7]],\n",
       "\n",
       "       [[ 8,  9, 10, 11],\n",
       "        [12, 13, 14, 15]],\n",
       "\n",
       "       [[16, 17, 18, 19],\n",
       "        [20, 21, 22, 23]]])"
      ]
     },
     "execution_count": 99,
     "metadata": {},
     "output_type": "execute_result"
    }
   ],
   "source": [
    "B=np.arange(24).reshape(3,2,4)\n",
    "B"
   ]
  },
  {
   "cell_type": "code",
   "execution_count": 100,
   "id": "764eeed4",
   "metadata": {
    "ExecuteTime": {
     "end_time": "2021-07-30T03:37:30.975655Z",
     "start_time": "2021-07-30T03:37:30.960695Z"
    }
   },
   "outputs": [
    {
     "data": {
      "text/plain": [
       "[array([[[ 0,  1],\n",
       "         [ 4,  5]],\n",
       " \n",
       "        [[ 8,  9],\n",
       "         [12, 13]],\n",
       " \n",
       "        [[16, 17],\n",
       "         [20, 21]]]),\n",
       " array([[[ 2,  3],\n",
       "         [ 6,  7]],\n",
       " \n",
       "        [[10, 11],\n",
       "         [14, 15]],\n",
       " \n",
       "        [[18, 19],\n",
       "         [22, 23]]])]"
      ]
     },
     "execution_count": 100,
     "metadata": {},
     "output_type": "execute_result"
    }
   ],
   "source": [
    "np.dsplit(B,2)"
   ]
  },
  {
   "cell_type": "code",
   "execution_count": 105,
   "id": "3eb8ed27",
   "metadata": {
    "ExecuteTime": {
     "end_time": "2021-07-30T03:38:52.286658Z",
     "start_time": "2021-07-30T03:38:52.273693Z"
    }
   },
   "outputs": [
    {
     "data": {
      "text/plain": [
       "[array([[[ 0,  1],\n",
       "         [ 4,  5]],\n",
       " \n",
       "        [[ 8,  9],\n",
       "         [12, 13]],\n",
       " \n",
       "        [[16, 17],\n",
       "         [20, 21]]]),\n",
       " array([[[ 2,  3],\n",
       "         [ 6,  7]],\n",
       " \n",
       "        [[10, 11],\n",
       "         [14, 15]],\n",
       " \n",
       "        [[18, 19],\n",
       "         [22, 23]]])]"
      ]
     },
     "execution_count": 105,
     "metadata": {},
     "output_type": "execute_result"
    }
   ],
   "source": [
    "np.dsplit(B,[2])"
   ]
  },
  {
   "cell_type": "code",
   "execution_count": 106,
   "id": "e263c44d",
   "metadata": {
    "ExecuteTime": {
     "end_time": "2021-07-30T03:43:38.676200Z",
     "start_time": "2021-07-30T03:43:38.671214Z"
    }
   },
   "outputs": [
    {
     "data": {
      "text/plain": [
       "array([[ 0,  1,  2,  3,  4,  5,  6,  7,  8,  9],\n",
       "       [10, 11, 12, 13, 14, 15, 16, 17, 18, 19]])"
      ]
     },
     "execution_count": 106,
     "metadata": {},
     "output_type": "execute_result"
    }
   ],
   "source": [
    "a=np.arange(20).reshape(2,10)\n",
    "a"
   ]
  },
  {
   "cell_type": "code",
   "execution_count": 107,
   "id": "a89cdf29",
   "metadata": {
    "ExecuteTime": {
     "end_time": "2021-07-30T03:43:57.722920Z",
     "start_time": "2021-07-30T03:43:57.708957Z"
    }
   },
   "outputs": [
    {
     "data": {
      "text/plain": [
       "[array([[0, 1, 2, 3, 4, 5, 6, 7, 8, 9]]),\n",
       " array([[10, 11, 12, 13, 14, 15, 16, 17, 18, 19]])]"
      ]
     },
     "execution_count": 107,
     "metadata": {},
     "output_type": "execute_result"
    }
   ],
   "source": [
    "np.split(a,2,axis=0) #vsplit과 동일"
   ]
  },
  {
   "cell_type": "code",
   "execution_count": 108,
   "id": "4023a6a9",
   "metadata": {
    "ExecuteTime": {
     "end_time": "2021-07-30T03:44:18.094636Z",
     "start_time": "2021-07-30T03:44:18.079676Z"
    }
   },
   "outputs": [
    {
     "data": {
      "text/plain": [
       "[array([[ 0,  1,  2,  3,  4],\n",
       "        [10, 11, 12, 13, 14]]),\n",
       " array([[ 5,  6,  7,  8,  9],\n",
       "        [15, 16, 17, 18, 19]])]"
      ]
     },
     "execution_count": 108,
     "metadata": {},
     "output_type": "execute_result"
    }
   ],
   "source": [
    "np.split(a,2,axis=1) #hsplit과 동일"
   ]
  },
  {
   "cell_type": "markdown",
   "id": "7702bd71",
   "metadata": {},
   "source": [
    " **- array_split(ary, indices_or_sections, axis=?)**\n",
    "     * split()과 차이점은 나눠지지 않는 정수로도 사용 가능\n",
    "    "
   ]
  },
  {
   "cell_type": "code",
   "execution_count": 110,
   "id": "ec518f73",
   "metadata": {
    "ExecuteTime": {
     "end_time": "2021-07-30T03:47:01.577512Z",
     "start_time": "2021-07-30T03:47:01.571556Z"
    }
   },
   "outputs": [
    {
     "data": {
      "text/plain": [
       "[array([[ 0,  1,  2,  3,  4],\n",
       "        [10, 11, 12, 13, 14]]),\n",
       " array([[ 5,  6,  7,  8,  9],\n",
       "        [15, 16, 17, 18, 19]])]"
      ]
     },
     "execution_count": 110,
     "metadata": {},
     "output_type": "execute_result"
    }
   ],
   "source": [
    "np.array_split(a,2,axis=1)"
   ]
  },
  {
   "cell_type": "markdown",
   "id": "df13a348",
   "metadata": {},
   "source": [
    "## 4절. 복사와 뷰"
   ]
  },
  {
   "cell_type": "markdown",
   "id": "d103c165",
   "metadata": {},
   "source": [
    "### 4.1 할당시 복사 안 함(스칼라 변수만 제외)"
   ]
  },
  {
   "cell_type": "code",
   "execution_count": 134,
   "id": "a9451df5",
   "metadata": {
    "ExecuteTime": {
     "end_time": "2021-07-30T04:11:45.174420Z",
     "start_time": "2021-07-30T04:11:45.155477Z"
    }
   },
   "outputs": [],
   "source": [
    "#스칼라 변수.     a에 10의 주소가 있다.\n",
    "a=10\n",
    "b=\"hello\"\n",
    "c= 1.2"
   ]
  },
  {
   "cell_type": "code",
   "execution_count": 135,
   "id": "b41e5d1c",
   "metadata": {
    "ExecuteTime": {
     "end_time": "2021-07-30T04:11:45.522271Z",
     "start_time": "2021-07-30T04:11:45.511302Z"
    }
   },
   "outputs": [
    {
     "name": "stdout",
     "output_type": "stream",
     "text": [
      "140733636225104 140733636225104\n",
      "140733636225104 140733636227664\n"
     ]
    }
   ],
   "source": [
    "a1=a\n",
    "print(id(a1),id(a))\n",
    "a=90\n",
    "print(id(a1),id(a))"
   ]
  },
  {
   "cell_type": "code",
   "execution_count": 136,
   "id": "21a47a0c",
   "metadata": {
    "ExecuteTime": {
     "end_time": "2021-07-30T04:11:46.120627Z",
     "start_time": "2021-07-30T04:11:46.110654Z"
    }
   },
   "outputs": [
    {
     "data": {
      "text/plain": [
       "array([ 0,  1,  2,  3,  4,  5,  6,  7,  8,  9, 10, 11])"
      ]
     },
     "execution_count": 136,
     "metadata": {},
     "output_type": "execute_result"
    }
   ],
   "source": [
    "#배열일 경우\n",
    "a=np.arange(12)\n",
    "a"
   ]
  },
  {
   "cell_type": "code",
   "execution_count": 137,
   "id": "f5a36fb7",
   "metadata": {
    "ExecuteTime": {
     "end_time": "2021-07-30T04:11:46.579904Z",
     "start_time": "2021-07-30T04:11:46.574938Z"
    }
   },
   "outputs": [
    {
     "data": {
      "text/plain": [
       "True"
      ]
     },
     "execution_count": 137,
     "metadata": {},
     "output_type": "execute_result"
    }
   ],
   "source": [
    "b = a\n",
    "b is a #주소가 같은지"
   ]
  },
  {
   "cell_type": "code",
   "execution_count": 138,
   "id": "fec42fe7",
   "metadata": {
    "ExecuteTime": {
     "end_time": "2021-07-30T04:11:47.164965Z",
     "start_time": "2021-07-30T04:11:47.145995Z"
    }
   },
   "outputs": [
    {
     "data": {
      "text/plain": [
       "array([ True,  True,  True,  True,  True,  True,  True,  True,  True,\n",
       "        True,  True,  True])"
      ]
     },
     "execution_count": 138,
     "metadata": {},
     "output_type": "execute_result"
    }
   ],
   "source": [
    "b==a #값이 같은지"
   ]
  },
  {
   "cell_type": "code",
   "execution_count": 139,
   "id": "bc3410a6",
   "metadata": {
    "ExecuteTime": {
     "end_time": "2021-07-30T04:11:47.761941Z",
     "start_time": "2021-07-30T04:11:47.744986Z"
    }
   },
   "outputs": [],
   "source": [
    "b.shape=3,4"
   ]
  },
  {
   "cell_type": "code",
   "execution_count": 140,
   "id": "1a699daa",
   "metadata": {
    "ExecuteTime": {
     "end_time": "2021-07-30T04:11:48.576873Z",
     "start_time": "2021-07-30T04:11:48.567898Z"
    }
   },
   "outputs": [
    {
     "data": {
      "text/plain": [
       "array([[ 0,  1,  2,  3],\n",
       "       [ 4,  5,  6,  7],\n",
       "       [ 8,  9, 10, 11]])"
      ]
     },
     "execution_count": 140,
     "metadata": {},
     "output_type": "execute_result"
    }
   ],
   "source": [
    "a"
   ]
  },
  {
   "cell_type": "markdown",
   "id": "a9e5c182",
   "metadata": {},
   "source": [
    "### 4.2 얕은 복사 : 뷰(view)"
   ]
  },
  {
   "cell_type": "code",
   "execution_count": 141,
   "id": "0c60066a",
   "metadata": {
    "ExecuteTime": {
     "end_time": "2021-07-30T04:11:49.519690Z",
     "start_time": "2021-07-30T04:11:49.506706Z"
    }
   },
   "outputs": [
    {
     "data": {
      "text/plain": [
       "array([[ 0,  1,  2,  3],\n",
       "       [ 4,  5,  6,  7],\n",
       "       [ 8,  9, 10, 11]])"
      ]
     },
     "execution_count": 141,
     "metadata": {},
     "output_type": "execute_result"
    }
   ],
   "source": [
    "a"
   ]
  },
  {
   "cell_type": "code",
   "execution_count": 142,
   "id": "297bfa0f",
   "metadata": {
    "ExecuteTime": {
     "end_time": "2021-07-30T04:11:50.130590Z",
     "start_time": "2021-07-30T04:11:50.122612Z"
    }
   },
   "outputs": [
    {
     "name": "stdout",
     "output_type": "stream",
     "text": [
      "[[ 0  1  2  3]\n",
      " [ 4  5  6  7]\n",
      " [ 8  9 10 11]]\n",
      "False\n",
      "[[ True  True  True  True]\n",
      " [ True  True  True  True]\n",
      " [ True  True  True  True]]\n",
      "False\n"
     ]
    },
    {
     "data": {
      "text/plain": [
       "True"
      ]
     },
     "execution_count": 142,
     "metadata": {},
     "output_type": "execute_result"
    }
   ],
   "source": [
    "c=a.view()\n",
    "print(c)\n",
    "print(c is a)\n",
    "print(c==a)\n",
    "print(id(c)==id(a))\n",
    "np.all(c==a)"
   ]
  },
  {
   "cell_type": "code",
   "execution_count": 143,
   "id": "1eb87012",
   "metadata": {
    "ExecuteTime": {
     "end_time": "2021-07-30T04:11:50.716526Z",
     "start_time": "2021-07-30T04:11:50.700539Z"
    }
   },
   "outputs": [
    {
     "data": {
      "text/plain": [
       "False"
      ]
     },
     "execution_count": 143,
     "metadata": {},
     "output_type": "execute_result"
    }
   ],
   "source": [
    "c.flags.owndata # c가 메모리를 독자적으로 직접 소유하지는 않음"
   ]
  },
  {
   "cell_type": "code",
   "execution_count": 144,
   "id": "446b6ea0",
   "metadata": {
    "ExecuteTime": {
     "end_time": "2021-07-30T04:11:51.593815Z",
     "start_time": "2021-07-30T04:11:51.577827Z"
    }
   },
   "outputs": [
    {
     "data": {
      "text/plain": [
       "True"
      ]
     },
     "execution_count": 144,
     "metadata": {},
     "output_type": "execute_result"
    }
   ],
   "source": [
    "a.flags.owndata # a가 메모리를 독자적으로 직접 소유함"
   ]
  },
  {
   "cell_type": "code",
   "execution_count": 145,
   "id": "c7d5332f",
   "metadata": {
    "ExecuteTime": {
     "end_time": "2021-07-30T04:12:05.596076Z",
     "start_time": "2021-07-30T04:12:05.586103Z"
    }
   },
   "outputs": [
    {
     "data": {
      "text/plain": [
       "array([[ 0,  1,  2,  3],\n",
       "       [ 4,  5,  6,  7],\n",
       "       [ 8,  9, 10, 11]])"
      ]
     },
     "execution_count": 145,
     "metadata": {},
     "output_type": "execute_result"
    }
   ],
   "source": [
    "a"
   ]
  },
  {
   "cell_type": "code",
   "execution_count": 146,
   "id": "bd20bb1a",
   "metadata": {
    "ExecuteTime": {
     "end_time": "2021-07-30T04:12:06.536924Z",
     "start_time": "2021-07-30T04:12:06.527970Z"
    }
   },
   "outputs": [
    {
     "data": {
      "text/plain": [
       "array([[ 0,  1,  2,  3],\n",
       "       [ 4,  5,  6,  7],\n",
       "       [ 8,  9, 10, 11]])"
      ]
     },
     "execution_count": 146,
     "metadata": {},
     "output_type": "execute_result"
    }
   ],
   "source": [
    "c"
   ]
  },
  {
   "cell_type": "code",
   "execution_count": 147,
   "id": "913b2c8f",
   "metadata": {
    "ExecuteTime": {
     "end_time": "2021-07-30T04:12:18.146498Z",
     "start_time": "2021-07-30T04:12:18.131540Z"
    }
   },
   "outputs": [],
   "source": [
    "c[:,2]=999"
   ]
  },
  {
   "cell_type": "code",
   "execution_count": 148,
   "id": "7ea59e92",
   "metadata": {
    "ExecuteTime": {
     "end_time": "2021-07-30T04:12:19.241995Z",
     "start_time": "2021-07-30T04:12:19.233005Z"
    }
   },
   "outputs": [
    {
     "data": {
      "text/plain": [
       "array([[  0,   1, 999,   3],\n",
       "       [  4,   5, 999,   7],\n",
       "       [  8,   9, 999,  11]])"
      ]
     },
     "execution_count": 148,
     "metadata": {},
     "output_type": "execute_result"
    }
   ],
   "source": [
    "c"
   ]
  },
  {
   "cell_type": "code",
   "execution_count": 149,
   "id": "155ba498",
   "metadata": {
    "ExecuteTime": {
     "end_time": "2021-07-30T04:12:20.289149Z",
     "start_time": "2021-07-30T04:12:20.272195Z"
    }
   },
   "outputs": [
    {
     "data": {
      "text/plain": [
       "array([[  0,   1, 999,   3],\n",
       "       [  4,   5, 999,   7],\n",
       "       [  8,   9, 999,  11]])"
      ]
     },
     "execution_count": 149,
     "metadata": {},
     "output_type": "execute_result"
    }
   ],
   "source": [
    "a"
   ]
  },
  {
   "cell_type": "code",
   "execution_count": 155,
   "id": "f56408eb",
   "metadata": {
    "ExecuteTime": {
     "end_time": "2021-07-30T04:18:19.000424Z",
     "start_time": "2021-07-30T04:18:18.995437Z"
    }
   },
   "outputs": [
    {
     "name": "stdout",
     "output_type": "stream",
     "text": [
      "[[ 2  1  9 50]\n",
      " [ 7  5  7 80]\n",
      " [17  6  7 90]]\n",
      "[[ 2  1  9]\n",
      " [ 7  5  7]\n",
      " [17  6  7]]\n",
      "2010842171408\n",
      "2010842172272\n"
     ]
    }
   ],
   "source": [
    "# 슬라이싱이 될 때 뷰가 반환됨\n",
    "a = np.array([[2,1,9,50],[7,5,7,80],[17,6,7,90]])\n",
    "x = a[:,:-1] #슬라이싱될 때 뷰가 반환\n",
    "print(a)\n",
    "print(x)\n",
    "print(id(a))\n",
    "print(id(x))"
   ]
  },
  {
   "cell_type": "code",
   "execution_count": 152,
   "id": "268bf77d",
   "metadata": {
    "ExecuteTime": {
     "end_time": "2021-07-30T04:16:34.766818Z",
     "start_time": "2021-07-30T04:16:34.758863Z"
    }
   },
   "outputs": [],
   "source": [
    "x[:,0]=808"
   ]
  },
  {
   "cell_type": "code",
   "execution_count": 153,
   "id": "add8a201",
   "metadata": {
    "ExecuteTime": {
     "end_time": "2021-07-30T04:16:37.477369Z",
     "start_time": "2021-07-30T04:16:37.468394Z"
    }
   },
   "outputs": [
    {
     "data": {
      "text/plain": [
       "array([[808,   1,   9,  50],\n",
       "       [808,   5,   7,  80],\n",
       "       [808,   6,   7,  90]])"
      ]
     },
     "execution_count": 153,
     "metadata": {},
     "output_type": "execute_result"
    }
   ],
   "source": [
    "a"
   ]
  },
  {
   "cell_type": "markdown",
   "id": "81f810cc",
   "metadata": {},
   "source": [
    "### 4.3 깊은 복사 : copy()"
   ]
  },
  {
   "cell_type": "code",
   "execution_count": 156,
   "id": "fea3e87c",
   "metadata": {
    "ExecuteTime": {
     "end_time": "2021-07-30T05:38:10.379291Z",
     "start_time": "2021-07-30T05:38:10.371312Z"
    }
   },
   "outputs": [
    {
     "data": {
      "text/plain": [
       "array([[ 0,  1,  2,  3],\n",
       "       [ 4,  5,  6,  7],\n",
       "       [ 8,  9, 10, 11]])"
      ]
     },
     "execution_count": 156,
     "metadata": {},
     "output_type": "execute_result"
    }
   ],
   "source": [
    "a = np.arange(12).reshape(-1,4)\n",
    "d=a.copy()\n",
    "a"
   ]
  },
  {
   "cell_type": "code",
   "execution_count": 157,
   "id": "b40624a0",
   "metadata": {
    "ExecuteTime": {
     "end_time": "2021-07-30T05:38:18.282897Z",
     "start_time": "2021-07-30T05:38:18.264925Z"
    }
   },
   "outputs": [
    {
     "data": {
      "text/plain": [
       "False"
      ]
     },
     "execution_count": 157,
     "metadata": {},
     "output_type": "execute_result"
    }
   ],
   "source": [
    "d is a"
   ]
  },
  {
   "cell_type": "code",
   "execution_count": 158,
   "id": "d193a9d5",
   "metadata": {
    "ExecuteTime": {
     "end_time": "2021-07-30T05:38:28.893381Z",
     "start_time": "2021-07-30T05:38:28.880416Z"
    }
   },
   "outputs": [
    {
     "data": {
      "text/plain": [
       "True"
      ]
     },
     "execution_count": 158,
     "metadata": {},
     "output_type": "execute_result"
    }
   ],
   "source": [
    "np.all(d==a)"
   ]
  },
  {
   "cell_type": "code",
   "execution_count": 160,
   "id": "365c67f7",
   "metadata": {
    "ExecuteTime": {
     "end_time": "2021-07-30T05:39:10.493917Z",
     "start_time": "2021-07-30T05:39:10.483923Z"
    }
   },
   "outputs": [
    {
     "data": {
      "text/plain": [
       "array([[99,  1,  2,  3],\n",
       "       [99,  5,  6,  7],\n",
       "       [99,  9, 10, 11]])"
      ]
     },
     "execution_count": 160,
     "metadata": {},
     "output_type": "execute_result"
    }
   ],
   "source": [
    "a[:,0]=99\n",
    "a"
   ]
  },
  {
   "cell_type": "code",
   "execution_count": 161,
   "id": "9d21f53a",
   "metadata": {
    "ExecuteTime": {
     "end_time": "2021-07-30T05:40:48.628034Z",
     "start_time": "2021-07-30T05:40:48.609054Z"
    }
   },
   "outputs": [
    {
     "name": "stdout",
     "output_type": "stream",
     "text": [
      "[[ 2  1  9 50]\n",
      " [ 7  5  7 80]\n",
      " [17  6  7 90]]\n",
      "[[ 2  1  9]\n",
      " [ 7  5  7]\n",
      " [17  6  7]]\n"
     ]
    }
   ],
   "source": [
    "#슬라이싱이 될 때 뷰가 반환됨\n",
    "a = np.array([[2,1,9,50],[7,5,7,80],[17,6,7,90]])\n",
    "x = a[ : , :-1].copy()\n",
    "print(a)\n",
    "print(x)"
   ]
  },
  {
   "cell_type": "code",
   "execution_count": 165,
   "id": "833739ed",
   "metadata": {
    "ExecuteTime": {
     "end_time": "2021-07-30T05:41:51.447734Z",
     "start_time": "2021-07-30T05:41:51.436763Z"
    }
   },
   "outputs": [
    {
     "name": "stdout",
     "output_type": "stream",
     "text": [
      "[[999 999 999]\n",
      " [  7   5   7]\n",
      " [ 17   6   7]]\n",
      "[[ 2  1  9 50]\n",
      " [ 7  5  7 80]\n",
      " [17  6  7 90]]\n"
     ]
    }
   ],
   "source": [
    "x[0, ...]=999\n",
    "print(x)\n",
    "print(a)"
   ]
  },
  {
   "cell_type": "markdown",
   "id": "3b1ac62e",
   "metadata": {},
   "source": [
    "## 5절. 고급인덱싱"
   ]
  },
  {
   "cell_type": "markdown",
   "id": "9c8ccdeb",
   "metadata": {
    "ExecuteTime": {
     "end_time": "2021-07-30T05:42:47.149032Z",
     "start_time": "2021-07-30T05:42:47.133096Z"
    }
   },
   "source": [
    "### 5.1 인덱스 배열로 인덱싱"
   ]
  },
  {
   "cell_type": "code",
   "execution_count": 167,
   "id": "22b5b5e2",
   "metadata": {
    "ExecuteTime": {
     "end_time": "2021-07-30T05:43:06.108290Z",
     "start_time": "2021-07-30T05:43:06.094142Z"
    }
   },
   "outputs": [
    {
     "data": {
      "text/plain": [
       "array([  0,   1,   4,   9,  16,  25,  36,  49,  64,  81, 100, 121],\n",
       "      dtype=int32)"
      ]
     },
     "execution_count": 167,
     "metadata": {},
     "output_type": "execute_result"
    }
   ],
   "source": [
    "a = np.arange(12)**2\n",
    "a"
   ]
  },
  {
   "cell_type": "code",
   "execution_count": 170,
   "id": "c69e7103",
   "metadata": {
    "ExecuteTime": {
     "end_time": "2021-07-30T05:46:43.105058Z",
     "start_time": "2021-07-30T05:46:43.096080Z"
    }
   },
   "outputs": [],
   "source": [
    "i = np.array([1,1,3,8,5])"
   ]
  },
  {
   "cell_type": "code",
   "execution_count": 171,
   "id": "c78189b6",
   "metadata": {
    "ExecuteTime": {
     "end_time": "2021-07-30T05:46:47.050904Z",
     "start_time": "2021-07-30T05:46:47.031927Z"
    }
   },
   "outputs": [
    {
     "data": {
      "text/plain": [
       "array([ 1,  1,  9, 64, 25], dtype=int32)"
      ]
     },
     "execution_count": 171,
     "metadata": {},
     "output_type": "execute_result"
    }
   ],
   "source": [
    "a[i]"
   ]
  },
  {
   "cell_type": "code",
   "execution_count": 172,
   "id": "b56b1d98",
   "metadata": {
    "ExecuteTime": {
     "end_time": "2021-07-30T05:46:49.703085Z",
     "start_time": "2021-07-30T05:46:49.685127Z"
    }
   },
   "outputs": [],
   "source": [
    "j = np.array([[3,4],[9,7]])"
   ]
  },
  {
   "cell_type": "code",
   "execution_count": 173,
   "id": "4fd5f742",
   "metadata": {
    "ExecuteTime": {
     "end_time": "2021-07-30T05:47:09.293261Z",
     "start_time": "2021-07-30T05:47:09.281295Z"
    }
   },
   "outputs": [
    {
     "data": {
      "text/plain": [
       "array([[ 9, 16],\n",
       "       [81, 49]], dtype=int32)"
      ]
     },
     "execution_count": 173,
     "metadata": {},
     "output_type": "execute_result"
    }
   ],
   "source": [
    "a[j]"
   ]
  },
  {
   "cell_type": "code",
   "execution_count": 174,
   "id": "7553871e",
   "metadata": {
    "ExecuteTime": {
     "end_time": "2021-07-30T05:48:20.202642Z",
     "start_time": "2021-07-30T05:48:20.180701Z"
    }
   },
   "outputs": [
    {
     "name": "stderr",
     "output_type": "stream",
     "text": [
      "<ipython-input-174-3c78bd140363>:1: FutureWarning: Using a non-tuple sequence for multidimensional indexing is deprecated; use `arr[tuple(seq)]` instead of `arr[seq]`. In the future this will be interpreted as an array index, `arr[np.array(seq)]`, which will result either in an error or a different result.\n",
      "  a[[[3,4],[9,7]]]\n"
     ]
    },
    {
     "ename": "IndexError",
     "evalue": "too many indices for array: array is 1-dimensional, but 2 were indexed",
     "output_type": "error",
     "traceback": [
      "\u001b[1;31m---------------------------------------------------------------------------\u001b[0m",
      "\u001b[1;31mIndexError\u001b[0m                                Traceback (most recent call last)",
      "\u001b[1;32m<ipython-input-174-3c78bd140363>\u001b[0m in \u001b[0;36m<module>\u001b[1;34m\u001b[0m\n\u001b[1;32m----> 1\u001b[1;33m \u001b[0ma\u001b[0m\u001b[1;33m[\u001b[0m\u001b[1;33m[\u001b[0m\u001b[1;33m[\u001b[0m\u001b[1;36m3\u001b[0m\u001b[1;33m,\u001b[0m\u001b[1;36m4\u001b[0m\u001b[1;33m]\u001b[0m\u001b[1;33m,\u001b[0m\u001b[1;33m[\u001b[0m\u001b[1;36m9\u001b[0m\u001b[1;33m,\u001b[0m\u001b[1;36m7\u001b[0m\u001b[1;33m]\u001b[0m\u001b[1;33m]\u001b[0m\u001b[1;33m]\u001b[0m\u001b[1;33m\u001b[0m\u001b[1;33m\u001b[0m\u001b[0m\n\u001b[0m",
      "\u001b[1;31mIndexError\u001b[0m: too many indices for array: array is 1-dimensional, but 2 were indexed"
     ]
    }
   ],
   "source": [
    "#a[[[3,4],[9,7]]]"
   ]
  },
  {
   "cell_type": "code",
   "execution_count": 176,
   "id": "e0c61845",
   "metadata": {
    "ExecuteTime": {
     "end_time": "2021-07-30T05:52:51.391707Z",
     "start_time": "2021-07-30T05:52:51.372780Z"
    }
   },
   "outputs": [
    {
     "data": {
      "text/plain": [
       "array([[  0,   0,   0],\n",
       "       [255,   0,   0],\n",
       "       [  0, 255,   0],\n",
       "       [  0,   0, 255],\n",
       "       [255, 255, 255]])"
      ]
     },
     "execution_count": 176,
     "metadata": {},
     "output_type": "execute_result"
    }
   ],
   "source": [
    "#np.array([[R,G,B])\n",
    "palette = np.array([[0,0,0], #black\n",
    "                    [255,0,0], #red\n",
    "                    [0,255,0], #green\n",
    "                    [0,0,255], #blue\n",
    "                    [255,255,255] #white\n",
    "                   ])\n",
    "palette"
   ]
  },
  {
   "cell_type": "code",
   "execution_count": 243,
   "id": "f495eb5b",
   "metadata": {
    "ExecuteTime": {
     "end_time": "2021-07-30T06:09:28.038150Z",
     "start_time": "2021-07-30T06:09:28.024188Z"
    }
   },
   "outputs": [],
   "source": [
    "image_index = np.array([[4,4,4,0,0,0,0,0,0,0,4,4,4],\n",
    "                        [4,4,0,1,1,1,1,1,1,1,0,4,4],\n",
    "                        [4,0,1,1,3,1,1,1,3,1,1,0,4],\n",
    "                        [0,1,1,1,3,3,1,3,3,1,1,1,0],\n",
    "                        [0,1,1,1,3,1,3,1,3,1,1,1,0],\n",
    "                        [0,1,1,1,1,1,2,1,1,1,1,1,0],\n",
    "                        [0,2,2,2,2,2,2,2,2,2,2,2,0],\n",
    "                        [0,4,4,4,4,4,2,4,4,4,4,4,0],\n",
    "                        [0,4,4,4,4,4,4,4,4,4,4,4,0],\n",
    "                        [0,4,4,4,4,4,4,4,4,4,4,4,0],\n",
    "                        [4,0,4,4,4,4,4,4,4,4,4,0,4],\n",
    "                        [4,4,0,4,4,4,4,4,4,4,0,4,4],\n",
    "                        [4,4,4,0,0,0,0,0,0,0,4,4,4]])"
   ]
  },
  {
   "cell_type": "code",
   "execution_count": 244,
   "id": "1cf827df",
   "metadata": {
    "ExecuteTime": {
     "end_time": "2021-07-30T06:09:28.212239Z",
     "start_time": "2021-07-30T06:09:28.205258Z"
    }
   },
   "outputs": [],
   "source": [
    "image_data = palette[image_index]"
   ]
  },
  {
   "cell_type": "code",
   "execution_count": 245,
   "id": "6a65b1cc",
   "metadata": {
    "ExecuteTime": {
     "end_time": "2021-07-30T06:09:28.432987Z",
     "start_time": "2021-07-30T06:09:28.415003Z"
    }
   },
   "outputs": [],
   "source": [
    "#예전 버전의 주피터노트북에서 실행한 브라우저"
   ]
  },
  {
   "cell_type": "code",
   "execution_count": 246,
   "id": "448e1e98",
   "metadata": {
    "ExecuteTime": {
     "end_time": "2021-07-30T06:09:28.953934Z",
     "start_time": "2021-07-30T06:09:28.813380Z"
    }
   },
   "outputs": [
    {
     "data": {
      "image/png": "[encoded data removed]",
      "text/plain": [
       "<Figure size 432x288 with 1 Axes>"
      ]
     },
     "metadata": {
      "needs_background": "light"
     },
     "output_type": "display_data"
    }
   ],
   "source": [
    "from matplotlib import pyplot as plt\n",
    "%matplotlib inline\n",
    "plt.imshow(image_data, interpolation='nearest')\n",
    "plt.show()"
   ]
  },
  {
   "cell_type": "code",
   "execution_count": 265,
   "id": "a4e4fef7",
   "metadata": {
    "ExecuteTime": {
     "end_time": "2021-07-30T06:34:35.531242Z",
     "start_time": "2021-07-30T06:34:32.268111Z"
    }
   },
   "outputs": [
    {
     "data": {
      "text/plain": [
       "'2.5.0'"
      ]
     },
     "execution_count": 265,
     "metadata": {},
     "output_type": "execute_result"
    }
   ],
   "source": [
    "# 아나콘다 프롬프트에서 tensorflow 패키지 install\n",
    "import tensorflow as tf\n",
    "tf.__version__"
   ]
  },
  {
   "cell_type": "code",
   "execution_count": 268,
   "id": "e0ebf8b7",
   "metadata": {
    "ExecuteTime": {
     "end_time": "2021-07-30T06:37:01.168320Z",
     "start_time": "2021-07-30T06:37:00.887043Z"
    }
   },
   "outputs": [
    {
     "data": {
      "text/plain": [
       "((array([[[0, 0, 0, ..., 0, 0, 0],\n",
       "          [0, 0, 0, ..., 0, 0, 0],\n",
       "          [0, 0, 0, ..., 0, 0, 0],\n",
       "          ...,\n",
       "          [0, 0, 0, ..., 0, 0, 0],\n",
       "          [0, 0, 0, ..., 0, 0, 0],\n",
       "          [0, 0, 0, ..., 0, 0, 0]],\n",
       "  \n",
       "         [[0, 0, 0, ..., 0, 0, 0],\n",
       "          [0, 0, 0, ..., 0, 0, 0],\n",
       "          [0, 0, 0, ..., 0, 0, 0],\n",
       "          ...,\n",
       "          [0, 0, 0, ..., 0, 0, 0],\n",
       "          [0, 0, 0, ..., 0, 0, 0],\n",
       "          [0, 0, 0, ..., 0, 0, 0]],\n",
       "  \n",
       "         [[0, 0, 0, ..., 0, 0, 0],\n",
       "          [0, 0, 0, ..., 0, 0, 0],\n",
       "          [0, 0, 0, ..., 0, 0, 0],\n",
       "          ...,\n",
       "          [0, 0, 0, ..., 0, 0, 0],\n",
       "          [0, 0, 0, ..., 0, 0, 0],\n",
       "          [0, 0, 0, ..., 0, 0, 0]],\n",
       "  \n",
       "         ...,\n",
       "  \n",
       "         [[0, 0, 0, ..., 0, 0, 0],\n",
       "          [0, 0, 0, ..., 0, 0, 0],\n",
       "          [0, 0, 0, ..., 0, 0, 0],\n",
       "          ...,\n",
       "          [0, 0, 0, ..., 0, 0, 0],\n",
       "          [0, 0, 0, ..., 0, 0, 0],\n",
       "          [0, 0, 0, ..., 0, 0, 0]],\n",
       "  \n",
       "         [[0, 0, 0, ..., 0, 0, 0],\n",
       "          [0, 0, 0, ..., 0, 0, 0],\n",
       "          [0, 0, 0, ..., 0, 0, 0],\n",
       "          ...,\n",
       "          [0, 0, 0, ..., 0, 0, 0],\n",
       "          [0, 0, 0, ..., 0, 0, 0],\n",
       "          [0, 0, 0, ..., 0, 0, 0]],\n",
       "  \n",
       "         [[0, 0, 0, ..., 0, 0, 0],\n",
       "          [0, 0, 0, ..., 0, 0, 0],\n",
       "          [0, 0, 0, ..., 0, 0, 0],\n",
       "          ...,\n",
       "          [0, 0, 0, ..., 0, 0, 0],\n",
       "          [0, 0, 0, ..., 0, 0, 0],\n",
       "          [0, 0, 0, ..., 0, 0, 0]]], dtype=uint8),\n",
       "  array([5, 0, 4, ..., 5, 6, 8], dtype=uint8)),\n",
       " (array([[[0, 0, 0, ..., 0, 0, 0],\n",
       "          [0, 0, 0, ..., 0, 0, 0],\n",
       "          [0, 0, 0, ..., 0, 0, 0],\n",
       "          ...,\n",
       "          [0, 0, 0, ..., 0, 0, 0],\n",
       "          [0, 0, 0, ..., 0, 0, 0],\n",
       "          [0, 0, 0, ..., 0, 0, 0]],\n",
       "  \n",
       "         [[0, 0, 0, ..., 0, 0, 0],\n",
       "          [0, 0, 0, ..., 0, 0, 0],\n",
       "          [0, 0, 0, ..., 0, 0, 0],\n",
       "          ...,\n",
       "          [0, 0, 0, ..., 0, 0, 0],\n",
       "          [0, 0, 0, ..., 0, 0, 0],\n",
       "          [0, 0, 0, ..., 0, 0, 0]],\n",
       "  \n",
       "         [[0, 0, 0, ..., 0, 0, 0],\n",
       "          [0, 0, 0, ..., 0, 0, 0],\n",
       "          [0, 0, 0, ..., 0, 0, 0],\n",
       "          ...,\n",
       "          [0, 0, 0, ..., 0, 0, 0],\n",
       "          [0, 0, 0, ..., 0, 0, 0],\n",
       "          [0, 0, 0, ..., 0, 0, 0]],\n",
       "  \n",
       "         ...,\n",
       "  \n",
       "         [[0, 0, 0, ..., 0, 0, 0],\n",
       "          [0, 0, 0, ..., 0, 0, 0],\n",
       "          [0, 0, 0, ..., 0, 0, 0],\n",
       "          ...,\n",
       "          [0, 0, 0, ..., 0, 0, 0],\n",
       "          [0, 0, 0, ..., 0, 0, 0],\n",
       "          [0, 0, 0, ..., 0, 0, 0]],\n",
       "  \n",
       "         [[0, 0, 0, ..., 0, 0, 0],\n",
       "          [0, 0, 0, ..., 0, 0, 0],\n",
       "          [0, 0, 0, ..., 0, 0, 0],\n",
       "          ...,\n",
       "          [0, 0, 0, ..., 0, 0, 0],\n",
       "          [0, 0, 0, ..., 0, 0, 0],\n",
       "          [0, 0, 0, ..., 0, 0, 0]],\n",
       "  \n",
       "         [[0, 0, 0, ..., 0, 0, 0],\n",
       "          [0, 0, 0, ..., 0, 0, 0],\n",
       "          [0, 0, 0, ..., 0, 0, 0],\n",
       "          ...,\n",
       "          [0, 0, 0, ..., 0, 0, 0],\n",
       "          [0, 0, 0, ..., 0, 0, 0],\n",
       "          [0, 0, 0, ..., 0, 0, 0]]], dtype=uint8),\n",
       "  array([7, 2, 1, ..., 4, 5, 6], dtype=uint8)))"
      ]
     },
     "execution_count": 268,
     "metadata": {},
     "output_type": "execute_result"
    }
   ],
   "source": [
    "import tensorflow.keras.datasets.mnist as mnist\n",
    "mnist = mnist.load_data()\n",
    "mnist"
   ]
  },
  {
   "cell_type": "code",
   "execution_count": 269,
   "id": "b6beb90c",
   "metadata": {
    "ExecuteTime": {
     "end_time": "2021-07-30T06:37:38.740339Z",
     "start_time": "2021-07-30T06:37:38.732339Z"
    }
   },
   "outputs": [
    {
     "data": {
      "text/plain": [
       "(60000, 28, 28)"
      ]
     },
     "execution_count": 269,
     "metadata": {},
     "output_type": "execute_result"
    }
   ],
   "source": [
    "mnist[0][0].shape #독립변수(학습셋 = 훈련셋)"
   ]
  },
  {
   "cell_type": "code",
   "execution_count": 270,
   "id": "c9b52e00",
   "metadata": {
    "ExecuteTime": {
     "end_time": "2021-07-30T06:38:24.875641Z",
     "start_time": "2021-07-30T06:38:24.870655Z"
    }
   },
   "outputs": [
    {
     "data": {
      "text/plain": [
       "(60000,)"
      ]
     },
     "execution_count": 270,
     "metadata": {},
     "output_type": "execute_result"
    }
   ],
   "source": [
    "mnist[0][1].shape #종속변수(학습셋 = 훈련셋)"
   ]
  },
  {
   "cell_type": "code",
   "execution_count": 271,
   "id": "3313d5a4",
   "metadata": {
    "ExecuteTime": {
     "end_time": "2021-07-30T06:41:55.461460Z",
     "start_time": "2021-07-30T06:41:55.442478Z"
    }
   },
   "outputs": [
    {
     "data": {
      "text/plain": [
       "(10000, 28, 28)"
      ]
     },
     "execution_count": 271,
     "metadata": {},
     "output_type": "execute_result"
    }
   ],
   "source": [
    "mnist[1][0].shape #독립변수(테스트셋)"
   ]
  },
  {
   "cell_type": "code",
   "execution_count": 272,
   "id": "f6e28ea6",
   "metadata": {
    "ExecuteTime": {
     "end_time": "2021-07-30T06:43:25.941745Z",
     "start_time": "2021-07-30T06:43:25.922775Z"
    }
   },
   "outputs": [
    {
     "data": {
      "text/plain": [
       "(10000,)"
      ]
     },
     "execution_count": 272,
     "metadata": {},
     "output_type": "execute_result"
    }
   ],
   "source": [
    "mnist[1][1].shape #종속변수"
   ]
  },
  {
   "cell_type": "code",
   "execution_count": 280,
   "id": "b1b3869c",
   "metadata": {
    "ExecuteTime": {
     "end_time": "2021-07-30T06:48:39.715852Z",
     "start_time": "2021-07-30T06:48:39.708870Z"
    }
   },
   "outputs": [],
   "source": [
    "X = mnist[0][0]\n",
    "Y = mnist[0][1]"
   ]
  },
  {
   "cell_type": "code",
   "execution_count": 281,
   "id": "036ba914",
   "metadata": {
    "ExecuteTime": {
     "end_time": "2021-07-30T06:48:46.538655Z",
     "start_time": "2021-07-30T06:48:46.412000Z"
    }
   },
   "outputs": [
    {
     "data": {
      "image/png": "[encoded data removed]",
      "text/plain": [
       "<Figure size 432x288 with 1 Axes>"
      ]
     },
     "metadata": {
      "needs_background": "light"
     },
     "output_type": "display_data"
    },
    {
     "name": "stdout",
     "output_type": "stream",
     "text": [
      "3\n"
     ]
    }
   ],
   "source": [
    "import matplotlib.pyplot as plt\n",
    "plt.imshow(X[10])\n",
    "plt.show()\n",
    "print(Y[10])"
   ]
  },
  {
   "cell_type": "markdown",
   "id": "34672c54",
   "metadata": {
    "ExecuteTime": {
     "end_time": "2021-07-30T06:50:19.523788Z",
     "start_time": "2021-07-30T06:50:19.518815Z"
    }
   },
   "source": [
    "### 5.2 다차원인덱싱"
   ]
  },
  {
   "cell_type": "code",
   "execution_count": 283,
   "id": "d612c92b",
   "metadata": {
    "ExecuteTime": {
     "end_time": "2021-07-30T06:50:49.837089Z",
     "start_time": "2021-07-30T06:50:49.829111Z"
    }
   },
   "outputs": [
    {
     "data": {
      "text/plain": [
       "array([[ 0,  1,  2,  3],\n",
       "       [ 4,  5,  6,  7],\n",
       "       [ 8,  9, 10, 11]])"
      ]
     },
     "execution_count": 283,
     "metadata": {},
     "output_type": "execute_result"
    }
   ],
   "source": [
    "a = np.arange(12).reshape(3,4)\n",
    "a"
   ]
  },
  {
   "cell_type": "code",
   "execution_count": 285,
   "id": "a442a21b",
   "metadata": {
    "ExecuteTime": {
     "end_time": "2021-07-30T06:52:37.351898Z",
     "start_time": "2021-07-30T06:52:37.339908Z"
    }
   },
   "outputs": [
    {
     "data": {
      "text/plain": [
       "array([[ 2,  5],\n",
       "       [ 7, 11]])"
      ]
     },
     "execution_count": 285,
     "metadata": {},
     "output_type": "execute_result"
    }
   ],
   "source": [
    "i = np.array([[0,1],\n",
    "              [1,2]]) #행\n",
    "j = np.array([[2,1],\n",
    "              [3,3]]) #열\n",
    "a[i,j]"
   ]
  },
  {
   "cell_type": "code",
   "execution_count": 286,
   "id": "9c66db65",
   "metadata": {
    "ExecuteTime": {
     "end_time": "2021-07-30T06:53:58.396303Z",
     "start_time": "2021-07-30T06:53:58.377324Z"
    }
   },
   "outputs": [
    {
     "data": {
      "text/plain": [
       "array([2, 7])"
      ]
     },
     "execution_count": 286,
     "metadata": {},
     "output_type": "execute_result"
    }
   ],
   "source": [
    "i = np.array([0,1])\n",
    "j = np.array([2,3])\n",
    "a[i,j]"
   ]
  },
  {
   "cell_type": "markdown",
   "id": "4f399683",
   "metadata": {},
   "source": [
    "### 5.3 argmax : 최대값이 있는 곳의 인덱스"
   ]
  },
  {
   "cell_type": "code",
   "execution_count": 287,
   "id": "345a81e0",
   "metadata": {
    "ExecuteTime": {
     "end_time": "2021-07-30T06:58:35.752073Z",
     "start_time": "2021-07-30T06:58:35.746089Z"
    }
   },
   "outputs": [
    {
     "data": {
      "text/plain": [
       "array([[ 0.        ,  0.84147098,  0.90929743,  0.14112001],\n",
       "       [-0.7568025 , -0.95892427, -0.2794155 ,  0.6569866 ],\n",
       "       [ 0.98935825,  0.41211849, -0.54402111, -0.99999021],\n",
       "       [-0.53657292,  0.42016704,  0.99060736,  0.65028784],\n",
       "       [-0.28790332, -0.96139749, -0.75098725,  0.14987721]])"
      ]
     },
     "execution_count": 287,
     "metadata": {},
     "output_type": "execute_result"
    }
   ],
   "source": [
    "data = np.sin(np.arange(20).reshape(5,4))\n",
    "data"
   ]
  },
  {
   "cell_type": "code",
   "execution_count": 289,
   "id": "9721dca6",
   "metadata": {
    "ExecuteTime": {
     "end_time": "2021-07-30T07:02:28.951046Z",
     "start_time": "2021-07-30T07:02:28.940076Z"
    }
   },
   "outputs": [
    {
     "data": {
      "text/plain": [
       "array([2, 0, 3, 1], dtype=int64)"
      ]
     },
     "execution_count": 289,
     "metadata": {},
     "output_type": "execute_result"
    }
   ],
   "source": [
    "ind = data.argmax(axis=0) # 각 열별 큰 값이 있는 index\n",
    "ind"
   ]
  },
  {
   "cell_type": "code",
   "execution_count": 295,
   "id": "c90c8d35",
   "metadata": {
    "ExecuteTime": {
     "end_time": "2021-07-30T07:04:51.593338Z",
     "start_time": "2021-07-30T07:04:51.588342Z"
    }
   },
   "outputs": [
    {
     "data": {
      "text/plain": [
       "(0.9893582466233818, 0.8414709848078965)"
      ]
     },
     "execution_count": 295,
     "metadata": {},
     "output_type": "execute_result"
    }
   ],
   "source": [
    "# 0열에서 최대값, 1열에서 최대값\n",
    "data[ind[0],0],data[ind[1],1]"
   ]
  },
  {
   "cell_type": "code",
   "execution_count": 296,
   "id": "055991cc",
   "metadata": {
    "ExecuteTime": {
     "end_time": "2021-07-30T07:06:39.549716Z",
     "start_time": "2021-07-30T07:06:39.537749Z"
    }
   },
   "outputs": [
    {
     "data": {
      "text/plain": [
       "array([0.98935825, 0.84147098, 0.99060736, 0.6569866 ])"
      ]
     },
     "execution_count": 296,
     "metadata": {},
     "output_type": "execute_result"
    }
   ],
   "source": [
    "# data_col_max = data[ind, range(4)]\n",
    "data_col_max = data[ind, range(data.shape[1])]\n",
    "data_col_max"
   ]
  },
  {
   "cell_type": "code",
   "execution_count": 297,
   "id": "1168be1c",
   "metadata": {
    "ExecuteTime": {
     "end_time": "2021-07-30T07:07:20.862492Z",
     "start_time": "2021-07-30T07:07:20.856513Z"
    }
   },
   "outputs": [
    {
     "name": "stdout",
     "output_type": "stream",
     "text": [
      "0열의 최대값은 0.9893582466233818\n",
      "1열의 최대값은 0.8414709848078965\n",
      "2열의 최대값은 0.9906073556948704\n",
      "3열의 최대값은 0.6569865987187891\n"
     ]
    }
   ],
   "source": [
    "for i, item in enumerate(data_col_max):\n",
    "    print(\"{}열의 최대값은 {}\".format(i, item))"
   ]
  },
  {
   "cell_type": "code",
   "execution_count": 299,
   "id": "9f82bd1a",
   "metadata": {
    "ExecuteTime": {
     "end_time": "2021-07-30T07:08:10.919711Z",
     "start_time": "2021-07-30T07:08:10.903749Z"
    }
   },
   "outputs": [
    {
     "data": {
      "text/plain": [
       "True"
      ]
     },
     "execution_count": 299,
     "metadata": {},
     "output_type": "execute_result"
    }
   ],
   "source": [
    "np.all(data.max(axis=0)==data_col_max)"
   ]
  },
  {
   "cell_type": "code",
   "execution_count": 300,
   "id": "fb822355",
   "metadata": {
    "ExecuteTime": {
     "end_time": "2021-07-30T07:09:00.877064Z",
     "start_time": "2021-07-30T07:09:00.868076Z"
    }
   },
   "outputs": [],
   "source": [
    "# 행별 최대값을 출력하기(argmax 함수를 이용한 최대값 출력, np.all을 이용하여 max() 결과와 비교)"
   ]
  },
  {
   "cell_type": "code",
   "execution_count": 301,
   "id": "6b0e8e07",
   "metadata": {
    "ExecuteTime": {
     "end_time": "2021-07-30T07:09:40.173328Z",
     "start_time": "2021-07-30T07:09:40.157394Z"
    }
   },
   "outputs": [
    {
     "data": {
      "text/plain": [
       "array([[ 0.        ,  0.84147098,  0.90929743,  0.14112001],\n",
       "       [-0.7568025 , -0.95892427, -0.2794155 ,  0.6569866 ],\n",
       "       [ 0.98935825,  0.41211849, -0.54402111, -0.99999021],\n",
       "       [-0.53657292,  0.42016704,  0.99060736,  0.65028784],\n",
       "       [-0.28790332, -0.96139749, -0.75098725,  0.14987721]])"
      ]
     },
     "execution_count": 301,
     "metadata": {},
     "output_type": "execute_result"
    }
   ],
   "source": [
    "data"
   ]
  },
  {
   "cell_type": "code",
   "execution_count": 311,
   "id": "79094b9c",
   "metadata": {
    "ExecuteTime": {
     "end_time": "2021-07-30T07:13:28.906319Z",
     "start_time": "2021-07-30T07:13:28.889340Z"
    }
   },
   "outputs": [
    {
     "data": {
      "text/plain": [
       "array([0.90929743, 0.6569866 , 0.98935825, 0.99060736, 0.14987721])"
      ]
     },
     "execution_count": 311,
     "metadata": {},
     "output_type": "execute_result"
    }
   ],
   "source": [
    "inr=data.argmax(axis=1)\n",
    "data_row_max = data[range(data.shape[0]),inr]\n",
    "data_row_max"
   ]
  },
  {
   "cell_type": "code",
   "execution_count": 308,
   "id": "7fb51b42",
   "metadata": {
    "ExecuteTime": {
     "end_time": "2021-07-30T07:12:39.776757Z",
     "start_time": "2021-07-30T07:12:39.761769Z"
    }
   },
   "outputs": [
    {
     "data": {
      "text/plain": [
       "array([0.90929743, 0.6569866 , 0.98935825, 0.99060736, 0.14987721])"
      ]
     },
     "execution_count": 308,
     "metadata": {},
     "output_type": "execute_result"
    }
   ],
   "source": [
    "data.max(axis=1)"
   ]
  },
  {
   "cell_type": "markdown",
   "id": "546b779f",
   "metadata": {},
   "source": [
    "### 5.4 논리 배열을 이용한 인덱싱"
   ]
  },
  {
   "cell_type": "code",
   "execution_count": 312,
   "id": "08194929",
   "metadata": {
    "ExecuteTime": {
     "end_time": "2021-07-30T07:18:59.260975Z",
     "start_time": "2021-07-30T07:18:59.248033Z"
    }
   },
   "outputs": [
    {
     "data": {
      "text/plain": [
       "array([[ 0,  1,  2,  3,  4,  5,  6,  7,  8,  9],\n",
       "       [10, 11, 12, 13, 14, 15, 16, 17, 18, 19]])"
      ]
     },
     "execution_count": 312,
     "metadata": {},
     "output_type": "execute_result"
    }
   ],
   "source": [
    "a = np.arange(20).reshape(2,10)\n",
    "a"
   ]
  },
  {
   "cell_type": "code",
   "execution_count": 313,
   "id": "a875ae79",
   "metadata": {
    "ExecuteTime": {
     "end_time": "2021-07-30T07:19:40.743731Z",
     "start_time": "2021-07-30T07:19:40.728771Z"
    }
   },
   "outputs": [
    {
     "data": {
      "text/plain": [
       "array([[ True, False,  True, False,  True, False,  True, False,  True,\n",
       "        False],\n",
       "       [ True, False,  True, False,  True, False,  True, False,  True,\n",
       "        False]])"
      ]
     },
     "execution_count": 313,
     "metadata": {},
     "output_type": "execute_result"
    }
   ],
   "source": [
    "b = a%2==0\n",
    "b"
   ]
  },
  {
   "cell_type": "code",
   "execution_count": 314,
   "id": "ddcf319b",
   "metadata": {
    "ExecuteTime": {
     "end_time": "2021-07-30T07:19:45.124484Z",
     "start_time": "2021-07-30T07:19:45.115487Z"
    }
   },
   "outputs": [
    {
     "data": {
      "text/plain": [
       "array([ 0,  2,  4,  6,  8, 10, 12, 14, 16, 18])"
      ]
     },
     "execution_count": 314,
     "metadata": {},
     "output_type": "execute_result"
    }
   ],
   "source": [
    "a[b]"
   ]
  },
  {
   "cell_type": "code",
   "execution_count": 348,
   "id": "1140b223",
   "metadata": {
    "ExecuteTime": {
     "end_time": "2021-07-30T07:35:25.891061Z",
     "start_time": "2021-07-30T07:35:25.886075Z"
    }
   },
   "outputs": [],
   "source": [
    "a = np.array([2,3,4,5])\n",
    "b = np.array([8,5,4])\n",
    "c = np.array([5,4,6,8])"
   ]
  },
  {
   "cell_type": "code",
   "execution_count": 349,
   "id": "d760e1b5",
   "metadata": {
    "ExecuteTime": {
     "end_time": "2021-07-30T07:35:44.749172Z",
     "start_time": "2021-07-30T07:35:44.741195Z"
    }
   },
   "outputs": [],
   "source": [
    "ax,bx,cx = np.ix_(a,b,c)"
   ]
  },
  {
   "cell_type": "code",
   "execution_count": 350,
   "id": "a5856b22",
   "metadata": {
    "ExecuteTime": {
     "end_time": "2021-07-30T07:35:46.661429Z",
     "start_time": "2021-07-30T07:35:46.657426Z"
    }
   },
   "outputs": [
    {
     "data": {
      "text/plain": [
       "array([[[2]],\n",
       "\n",
       "       [[3]],\n",
       "\n",
       "       [[4]],\n",
       "\n",
       "       [[5]]])"
      ]
     },
     "execution_count": 350,
     "metadata": {},
     "output_type": "execute_result"
    }
   ],
   "source": [
    "ax"
   ]
  },
  {
   "cell_type": "code",
   "execution_count": 351,
   "id": "d0a4a0f0",
   "metadata": {
    "ExecuteTime": {
     "end_time": "2021-07-30T07:35:49.583432Z",
     "start_time": "2021-07-30T07:35:49.577466Z"
    }
   },
   "outputs": [
    {
     "data": {
      "text/plain": [
       "array([[[8],\n",
       "        [5],\n",
       "        [4]]])"
      ]
     },
     "execution_count": 351,
     "metadata": {},
     "output_type": "execute_result"
    }
   ],
   "source": [
    "bx"
   ]
  },
  {
   "cell_type": "code",
   "execution_count": 352,
   "id": "b85d1fbb",
   "metadata": {
    "ExecuteTime": {
     "end_time": "2021-07-30T07:35:53.159908Z",
     "start_time": "2021-07-30T07:35:53.146932Z"
    }
   },
   "outputs": [
    {
     "data": {
      "text/plain": [
       "array([[[5, 4, 6, 8]]])"
      ]
     },
     "execution_count": 352,
     "metadata": {},
     "output_type": "execute_result"
    }
   ],
   "source": [
    "cx"
   ]
  },
  {
   "cell_type": "markdown",
   "id": "ea771508",
   "metadata": {},
   "source": [
    "## 6절. 선형대수\n",
    "- 2차원 넘파이 배열을 행렬\n",
    "    - 행렬곱 : @ 또는 np.dot()\n",
    "    - 역행렬 : np.linalg.inv(x)\n",
    "    - 전치행렬 : x.T, x.transpose()\n",
    "    - 단위행렬 : np.eye(n) : n행n열 단위행렬\n",
    "    - 연립방정식의 해 풀기 : np.linalg.inv(x,y)"
   ]
  },
  {
   "cell_type": "markdown",
   "id": "b06ade77",
   "metadata": {},
   "source": [
    "### 6.1 선형 연립 방정식 풀기(회귀도출) : 독립변수 2개, 데이터 2개"
   ]
  },
  {
   "cell_type": "code",
   "execution_count": 385,
   "id": "c6b0142f",
   "metadata": {
    "ExecuteTime": {
     "end_time": "2021-07-30T08:13:05.303620Z",
     "start_time": "2021-07-30T08:13:05.284692Z"
    }
   },
   "outputs": [
    {
     "data": {
      "text/plain": [
       "array([[1.0000000e+00, 4.4408921e-16],\n",
       "       [0.0000000e+00, 1.0000000e+00]])"
      ]
     },
     "execution_count": 385,
     "metadata": {},
     "output_type": "execute_result"
    }
   ],
   "source": [
    "#\n",
    "a = np.array([[1.,2.],[3.,4.]])\n",
    "np.linalg.inv(a)@a"
   ]
  },
  {
   "cell_type": "code",
   "execution_count": 412,
   "id": "da079af4",
   "metadata": {
    "ExecuteTime": {
     "end_time": "2021-07-30T08:25:24.271791Z",
     "start_time": "2021-07-30T08:25:24.261826Z"
    }
   },
   "outputs": [
    {
     "data": {
      "text/plain": [
       "True"
      ]
     },
     "execution_count": 412,
     "metadata": {},
     "output_type": "execute_result"
    }
   ],
   "source": [
    "(np.cos(5*pi/2))**2+np.sin(5*pi/2)**2==1"
   ]
  },
  {
   "cell_type": "code",
   "execution_count": 413,
   "id": "a69a0cb1",
   "metadata": {
    "ExecuteTime": {
     "end_time": "2021-07-30T08:25:44.324257Z",
     "start_time": "2021-07-30T08:25:44.314263Z"
    }
   },
   "outputs": [
    {
     "data": {
      "text/plain": [
       "False"
      ]
     },
     "execution_count": 413,
     "metadata": {},
     "output_type": "execute_result"
    }
   ],
   "source": [
    "1-np.sin(5*pi/2)**2==(np.cos(5*pi/2))**2"
   ]
  },
  {
   "cell_type": "code",
   "execution_count": 360,
   "id": "fea8aad9",
   "metadata": {
    "ExecuteTime": {
     "end_time": "2021-07-30T07:48:59.853632Z",
     "start_time": "2021-07-30T07:48:59.838687Z"
    }
   },
   "outputs": [
    {
     "data": {
      "text/plain": [
       "array([[False, False],\n",
       "       [ True, False]])"
      ]
     },
     "execution_count": 360,
     "metadata": {},
     "output_type": "execute_result"
    }
   ],
   "source": [
    "np.eye(2)==(np.linalg.inv(a)@a)"
   ]
  },
  {
   "cell_type": "code",
   "execution_count": 362,
   "id": "12fde0c7",
   "metadata": {
    "ExecuteTime": {
     "end_time": "2021-07-30T07:49:39.003253Z",
     "start_time": "2021-07-30T07:49:38.998268Z"
    }
   },
   "outputs": [
    {
     "data": {
      "text/plain": [
       "True"
      ]
     },
     "execution_count": 362,
     "metadata": {},
     "output_type": "execute_result"
    }
   ],
   "source": [
    "1==1.0000000e+00"
   ]
  },
  {
   "cell_type": "code",
   "execution_count": 363,
   "id": "14f925d1",
   "metadata": {
    "ExecuteTime": {
     "end_time": "2021-07-30T07:53:10.527342Z",
     "start_time": "2021-07-30T07:53:10.519385Z"
    }
   },
   "outputs": [],
   "source": [
    "a=np.array([[2,2,2],[3,3,3]])"
   ]
  },
  {
   "cell_type": "code",
   "execution_count": 364,
   "id": "892d871b",
   "metadata": {
    "ExecuteTime": {
     "end_time": "2021-07-30T07:53:15.441708Z",
     "start_time": "2021-07-30T07:53:15.423736Z"
    }
   },
   "outputs": [
    {
     "data": {
      "text/plain": [
       "array([[13, 13, 13],\n",
       "       [13, 13, 13],\n",
       "       [13, 13, 13]])"
      ]
     },
     "execution_count": 364,
     "metadata": {},
     "output_type": "execute_result"
    }
   ],
   "source": [
    "b=a.T@a"
   ]
  },
  {
   "cell_type": "code",
   "execution_count": 367,
   "id": "9d5fef9a",
   "metadata": {
    "ExecuteTime": {
     "end_time": "2021-07-30T07:58:15.084215Z",
     "start_time": "2021-07-30T07:58:15.071230Z"
    }
   },
   "outputs": [],
   "source": [
    "## 독립변수 2개, 데이터 2개\n",
    "x = np.array([[1,2],[3,4]]) #독립변수\n",
    "y = np.array([[5],[7]]) #종속변수"
   ]
  },
  {
   "cell_type": "code",
   "execution_count": 368,
   "id": "6e7d8ae4",
   "metadata": {
    "ExecuteTime": {
     "end_time": "2021-07-30T07:59:45.814038Z",
     "start_time": "2021-07-30T07:59:45.794113Z"
    }
   },
   "outputs": [
    {
     "data": {
      "text/plain": [
       "array([[-3.],\n",
       "       [ 4.]])"
      ]
     },
     "execution_count": 368,
     "metadata": {},
     "output_type": "execute_result"
    }
   ],
   "source": [
    "W=np.linalg.inv(x)@y\n",
    "W"
   ]
  },
  {
   "cell_type": "code",
   "execution_count": 369,
   "id": "13d41be0",
   "metadata": {
    "ExecuteTime": {
     "end_time": "2021-07-30T08:00:38.483483Z",
     "start_time": "2021-07-30T08:00:38.474514Z"
    }
   },
   "outputs": [
    {
     "data": {
      "text/plain": [
       "array([6.])"
      ]
     },
     "execution_count": 369,
     "metadata": {},
     "output_type": "execute_result"
    }
   ],
   "source": [
    "#독립변수 2,3일 때 종속변수는?\n",
    "2*W[0]+3*W[1]"
   ]
  },
  {
   "cell_type": "markdown",
   "id": "2b404b1a",
   "metadata": {},
   "source": [
    "### 6.2 선형연립방정식(회귀도출)과 그래프 : 독립변수1"
   ]
  },
  {
   "cell_type": "code",
   "execution_count": 436,
   "id": "de9bace1",
   "metadata": {
    "ExecuteTime": {
     "end_time": "2021-07-30T08:54:44.173510Z",
     "start_time": "2021-07-30T08:54:44.168524Z"
    }
   },
   "outputs": [],
   "source": [
    "x = [2,3]\n",
    "y = [6.8,7.3]"
   ]
  },
  {
   "cell_type": "code",
   "execution_count": 437,
   "id": "dafcd050",
   "metadata": {
    "ExecuteTime": {
     "end_time": "2021-07-30T08:54:44.412870Z",
     "start_time": "2021-07-30T08:54:44.396918Z"
    }
   },
   "outputs": [],
   "source": [
    "# 2  1\n",
    "# 3  1\n",
    "X=np.column_stack((x,np.ones(len(x)))) #독립변수"
   ]
  },
  {
   "cell_type": "code",
   "execution_count": 438,
   "id": "b3417507",
   "metadata": {
    "ExecuteTime": {
     "end_time": "2021-07-30T08:54:44.667189Z",
     "start_time": "2021-07-30T08:54:44.655221Z"
    }
   },
   "outputs": [
    {
     "data": {
      "text/plain": [
       "array([[6.8],\n",
       "       [7.3]])"
      ]
     },
     "execution_count": 438,
     "metadata": {},
     "output_type": "execute_result"
    }
   ],
   "source": [
    "Y = np.array(y).reshape(2,1)\n",
    "Y"
   ]
  },
  {
   "cell_type": "code",
   "execution_count": 439,
   "id": "99d977f8",
   "metadata": {
    "ExecuteTime": {
     "end_time": "2021-07-30T08:54:44.904554Z",
     "start_time": "2021-07-30T08:54:44.897573Z"
    }
   },
   "outputs": [
    {
     "data": {
      "text/plain": [
       "array([[0.5],\n",
       "       [5.8]])"
      ]
     },
     "execution_count": 439,
     "metadata": {},
     "output_type": "execute_result"
    }
   ],
   "source": [
    "W=np.linalg.inv(X)@Y\n",
    "W"
   ]
  },
  {
   "cell_type": "code",
   "execution_count": 440,
   "id": "6dd7aba7",
   "metadata": {
    "ExecuteTime": {
     "end_time": "2021-07-30T08:54:45.237701Z",
     "start_time": "2021-07-30T08:54:45.224704Z"
    }
   },
   "outputs": [],
   "source": [
    "f=X[:, 0]*W[0]+W[1]"
   ]
  },
  {
   "cell_type": "code",
   "execution_count": 441,
   "id": "35a53348",
   "metadata": {
    "ExecuteTime": {
     "end_time": "2021-07-30T08:54:45.887994Z",
     "start_time": "2021-07-30T08:54:45.750362Z"
    }
   },
   "outputs": [
    {
     "data": {
      "image/png": "[encoded data removed]",
      "text/plain": [
       "<Figure size 432x288 with 1 Axes>"
      ]
     },
     "metadata": {
      "needs_background": "light"
     },
     "output_type": "display_data"
    }
   ],
   "source": [
    "import matplotlib.pyplot as plt\n",
    "plt.scatter(x,y)\n",
    "plt.plot(x, f, '-')\n",
    "plt.show()"
   ]
  },
  {
   "cell_type": "code",
   "execution_count": 428,
   "id": "5249e6da",
   "metadata": {
    "ExecuteTime": {
     "end_time": "2021-07-30T08:51:41.199779Z",
     "start_time": "2021-07-30T08:51:41.187832Z"
    }
   },
   "outputs": [],
   "source": [
    "# 데이터를 n개\n",
    "x=[32,64,96,118,126,144,152.5,158] #독립변수\n",
    "y=[21,20,15,10,6,8,3,1] #종속변수"
   ]
  },
  {
   "cell_type": "code",
   "execution_count": 429,
   "id": "ad842760",
   "metadata": {
    "ExecuteTime": {
     "end_time": "2021-07-30T08:51:42.045603Z",
     "start_time": "2021-07-30T08:51:42.041605Z"
    }
   },
   "outputs": [
    {
     "name": "stdout",
     "output_type": "stream",
     "text": [
      "[[ 32.    1. ]\n",
      " [ 64.    1. ]\n",
      " [ 96.    1. ]\n",
      " [118.    1. ]\n",
      " [126.    1. ]\n",
      " [144.    1. ]\n",
      " [152.5   1. ]\n",
      " [158.    1. ]]\n",
      "[[21]\n",
      " [20]\n",
      " [15]\n",
      " [10]\n",
      " [ 6]\n",
      " [ 8]\n",
      " [ 3]\n",
      " [ 1]]\n"
     ]
    }
   ],
   "source": [
    "X = np.column_stack((x, np.ones(len(x))))\n",
    "print(X)\n",
    "Y = np.array(y).reshape(len(y),1)\n",
    "print(Y)"
   ]
  },
  {
   "cell_type": "markdown",
   "id": "1ce618d5",
   "metadata": {
    "ExecuteTime": {
     "end_time": "2021-07-30T08:48:05.275940Z",
     "start_time": "2021-07-30T08:48:05.264938Z"
    }
   },
   "source": [
    "X@W=Y<br/>\n",
    "X_T@X@W=X_T@Y<br/>\n",
    "W=(X_T@X)^-1@X_T@Y"
   ]
  },
  {
   "cell_type": "code",
   "execution_count": 432,
   "id": "15fcba37",
   "metadata": {
    "ExecuteTime": {
     "end_time": "2021-07-30T08:52:18.502345Z",
     "start_time": "2021-07-30T08:52:18.497359Z"
    }
   },
   "outputs": [
    {
     "data": {
      "text/plain": [
       "array([[-0.16141712],\n",
       "       [28.4677432 ]])"
      ]
     },
     "execution_count": 432,
     "metadata": {},
     "output_type": "execute_result"
    }
   ],
   "source": [
    "W=np.linalg.inv(X.T@X)@X.T@Y\n",
    "W"
   ]
  },
  {
   "cell_type": "code",
   "execution_count": 433,
   "id": "460225fb",
   "metadata": {
    "ExecuteTime": {
     "end_time": "2021-07-30T08:52:42.029020Z",
     "start_time": "2021-07-30T08:52:42.011079Z"
    }
   },
   "outputs": [],
   "source": [
    "f=X[:, 0]*W[0]+W[1]"
   ]
  },
  {
   "cell_type": "code",
   "execution_count": 435,
   "id": "3aee9dd7",
   "metadata": {
    "ExecuteTime": {
     "end_time": "2021-07-30T08:53:34.480327Z",
     "start_time": "2021-07-30T08:53:34.344657Z"
    }
   },
   "outputs": [
    {
     "data": {
      "image/png": "[encoded data removed]",
      "text/plain": [
       "<Figure size 432x288 with 1 Axes>"
      ]
     },
     "metadata": {
      "needs_background": "light"
     },
     "output_type": "display_data"
    }
   ],
   "source": [
    "plt.scatter(x,y)\n",
    "plt.plot(x, f, '-')\n",
    "plt.show()"
   ]
  }
 ],
 "metadata": {
  "kernelspec": {
   "display_name": "Python 3",
   "language": "python",
   "name": "python3"
  },
  "language_info": {
   "codemirror_mode": {
    "name": "ipython",
    "version": 3
   },
   "file_extension": ".py",
   "mimetype": "text/x-python",
   "name": "python",
   "nbconvert_exporter": "python",
   "pygments_lexer": "ipython3",
   "version": "3.8.8"
  },
  "toc": {
   "base_numbering": 1,
   "nav_menu": {},
   "number_sections": false,
   "sideBar": true,
   "skip_h1_title": false,
   "title_cell": "Table of Contents",
   "title_sidebar": "Contents",
   "toc_cell": false,
   "toc_position": {},
   "toc_section_display": true,
   "toc_window_display": true
  },
  "varInspector": {
   "cols": {
    "lenName": 16,
    "lenType": 16,
    "lenVar": 40
   },
   "kernels_config": {
    "python": {
     "delete_cmd_postfix": "",
     "delete_cmd_prefix": "del ",
     "library": "var_list.py",
     "varRefreshCmd": "print(var_dic_list())"
    },
    "r": {
     "delete_cmd_postfix": ") ",
     "delete_cmd_prefix": "rm(",
     "library": "var_list.r",
     "varRefreshCmd": "cat(var_dic_list()) "
    }
   },
   "types_to_exclude": [
    "module",
    "function",
    "builtin_function_or_method",
    "instance",
    "_Feature"
   ],
   "window_display": false
  }
 },
 "nbformat": 4,
 "nbformat_minor": 5
}
