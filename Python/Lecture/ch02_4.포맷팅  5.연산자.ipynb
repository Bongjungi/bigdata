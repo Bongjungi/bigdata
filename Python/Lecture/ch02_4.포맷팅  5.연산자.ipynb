{
 "cells": [
  {
   "cell_type": "markdown",
   "id": "9d645f04",
   "metadata": {},
   "source": [
    "# ch02. 자료형과 연산자\n"
   ]
  },
  {
   "cell_type": "markdown",
   "id": "12ba3042",
   "metadata": {},
   "source": [
    "## 4절 포맷팅\n",
    "* 포맷팅이란, 출력할 문자, 숫자, 날짜 데이터의 형식을 지정하는 것.\n",
    "* 변수와 텍스트를 결합해서 보기 좋은 형식의 새로운 텍스트를 만들때 사용"
   ]
  },
  {
   "cell_type": "markdown",
   "id": "440ad382",
   "metadata": {},
   "source": [
    "## 4.1 문자열에 형식 지정"
   ]
  },
  {
   "cell_type": "code",
   "execution_count": null,
   "id": "211680ec",
   "metadata": {
    "ExecuteTime": {
     "end_time": "2021-07-19T08:21:07.926334Z",
     "start_time": "2021-07-19T08:21:07.921336Z"
    }
   },
   "outputs": [],
   "source": [
    "name=\"홍길동\"\n",
    "age=30\n",
    "print(name, '님의 나이는 ', age, '살입니다.', sep=\"\")\n",
    "# 변수와 텍스트를 번갈아 사용해서 가독성 떨어져서 포맷팅 사용"
   ]
  },
  {
   "cell_type": "code",
   "execution_count": null,
   "id": "7e9a0df7",
   "metadata": {
    "ExecuteTime": {
     "end_time": "2021-07-19T08:22:24.508096Z",
     "start_time": "2021-07-19T08:22:24.488150Z"
    }
   },
   "outputs": [],
   "source": [
    "# 이전 스타일\n",
    "# %s문자, %d숫자, %f:실수\n",
    "\"%s님의 나이는 %d살입니다.\"%(\"홍길동\",30)"
   ]
  },
  {
   "cell_type": "code",
   "execution_count": null,
   "id": "9a781845",
   "metadata": {
    "ExecuteTime": {
     "end_time": "2021-07-19T08:25:11.871094Z",
     "start_time": "2021-07-19T08:25:11.854139Z"
    }
   },
   "outputs": [],
   "source": [
    "# 새로운 스타일\n",
    "\"{}님의 나이는 {}살입니다.\".format(\"홍길동\",30)"
   ]
  },
  {
   "cell_type": "code",
   "execution_count": null,
   "id": "c2aa9dea",
   "metadata": {
    "ExecuteTime": {
     "end_time": "2021-07-19T08:40:53.313789Z",
     "start_time": "2021-07-19T08:40:53.308801Z"
    }
   },
   "outputs": [],
   "source": [
    "print(\"{1}님의 나이는 {0}살입니다.\".format(30,\"홍길동\"))"
   ]
  },
  {
   "cell_type": "markdown",
   "id": "0aa41260",
   "metadata": {},
   "source": [
    "## 4.2 format()함수 문법"
   ]
  },
  {
   "cell_type": "code",
   "execution_count": null,
   "id": "8c81ab0b",
   "metadata": {},
   "outputs": [],
   "source": [
    "#\"{[인덱스]:[공백][정렬방법][자릿수][타입]}\".format(변수명...)"
   ]
  },
  {
   "cell_type": "code",
   "execution_count": null,
   "id": "395a7d21",
   "metadata": {
    "ExecuteTime": {
     "end_time": "2021-07-19T08:46:31.764832Z",
     "start_time": "2021-07-19T08:46:31.748876Z"
    }
   },
   "outputs": [],
   "source": [
    "#인덱스 : format함수 안의 인수의 순서\n",
    "#정렬방법 -   <기호: 왼쪽 정렬,  >기호 : 오른쪽정렬,  ^기호: 가운데 정렬\n",
    "#자릿수 : 출력할 자릿수 지정, 변수보다 적은 자릿수가 지정되면 자리수 무시\n",
    "#타입 : d(10진수), o(8진수), b(3진수), f(실수) s(문자) x(16진수)"
   ]
  },
  {
   "cell_type": "code",
   "execution_count": null,
   "id": "c6083ab7",
   "metadata": {
    "ExecuteTime": {
     "end_time": "2021-07-19T08:49:48.973676Z",
     "start_time": "2021-07-19T08:49:42.112314Z"
    }
   },
   "outputs": [],
   "source": [
    "name=input(\"이름은 ?\")\n",
    "age=int(input(\"나이는 ?\"))\n",
    "print(\"{1}살 {0}님은 {1}살이 참 좋은 나이라는 걸 알려나\".format(name,age))"
   ]
  },
  {
   "cell_type": "code",
   "execution_count": null,
   "id": "3d585cef",
   "metadata": {
    "ExecuteTime": {
     "end_time": "2021-07-19T09:04:53.265526Z",
     "start_time": "2021-07-19T09:04:53.251572Z"
    }
   },
   "outputs": [],
   "source": [
    "# 숫자의 경우 출력할 변수보다 큰 자릿수를 지정하면 오른쪽 정렬(기본값)\n",
    "# 문자의 경우 출력할 변수보다 큰 자릿수를 지정하면 왼쪽 정렬(기본값)\n",
    "# 변수보다 작은 자릿수를 지정하면 자릿수 지정이 무시되고 다 출력\n",
    "a=12345\n",
    "s=\"Hello\"\n",
    "print(\"출력 : [{}],[{:10}],[{:3}]\".format(a,a,a))\n",
    "print(\"출력 : [{}],[{:10}],[{:3}]\".format(s,s,s))"
   ]
  },
  {
   "cell_type": "code",
   "execution_count": null,
   "id": "78e3b42e",
   "metadata": {
    "ExecuteTime": {
     "end_time": "2021-07-19T09:01:14.701993Z",
     "start_time": "2021-07-19T09:01:14.695021Z"
    }
   },
   "outputs": [],
   "source": [
    "# 정렬방법 > < ^\n",
    "a, b, c = 10, 20, 3\n",
    "print(\"출력 : [{:<6}],[{:>6}],[{:^6}]\".format(a,b,c))\n",
    "print(\"출력 : [{:<6x}],[{:>6d}],[{:^6d}]\".format(a,b,c))"
   ]
  },
  {
   "cell_type": "code",
   "execution_count": null,
   "id": "c1483133",
   "metadata": {
    "ExecuteTime": {
     "end_time": "2021-07-19T09:03:40.819493Z",
     "start_time": "2021-07-19T09:03:40.810518Z"
    }
   },
   "outputs": [],
   "source": [
    "# \"인덱스:공백대체문자 정렬방법 자릿수 타입\".format()\n",
    "a=10\n",
    "s=\"Hello\"\n",
    "print(\"출력 : [{0:$>10}], [{1:*<20}], [{1:_<10.3}]\".format(a,s)) #10.3 전체 10자리 중 3자리 출력"
   ]
  },
  {
   "cell_type": "code",
   "execution_count": null,
   "id": "a7306b1c",
   "metadata": {
    "ExecuteTime": {
     "end_time": "2021-07-19T09:08:11.543014Z",
     "start_time": "2021-07-19T09:08:11.529027Z"
    }
   },
   "outputs": [],
   "source": [
    "# 공백대체문자를 지정할 때는 반드시 정렬방법을 표현해야 합니다.(주의점)\n",
    "print(\"{:$^10}/{:*>20}\".format(a,s)) \n",
    "#print(\"{:$10}/{:*>20}\".format(a,s)) 에러"
   ]
  },
  {
   "cell_type": "code",
   "execution_count": 12,
   "id": "ab8cf84a",
   "metadata": {
    "ExecuteTime": {
     "end_time": "2021-07-19T09:23:39.359195Z",
     "start_time": "2021-07-19T09:23:39.341243Z"
    }
   },
   "outputs": [
    {
     "name": "stdout",
     "output_type": "stream",
     "text": [
      "[      -123], [      +123], [       123]\n",
      "[-      123], [       123], [       123]\n",
      "[-      123], [+      123], [       123]\n",
      "[-      123], [+      123], [+000000123]\n",
      "[$$$$$$-123], [+______123], [+$$$$$$123]\n"
     ]
    }
   ],
   "source": [
    "#자리수 앞에 +를 붙이면 양수의 경우도 부호를 붙여줌\n",
    "#자리수 앞에 =을 붙이면 부호가 자릿수의 맨앞에 표시됨(음수의 경우만)\n",
    "#자리수 앞에 =+을 붙이면 부호가 자릿수의 맨앞에 표시됨(양수, 음수 모두)\n",
    "#자리수 앞에 0을 채우면 빈자리에 0을 채움\n",
    "#공백대체문자는 = 앞에\n",
    "#공백대체문자와 자리수 앞의 0을 모두 쓰면     자리수앞의 0이 의미가 없다.\n",
    "\n",
    "\n",
    "a,b =123,-123\n",
    "print(\"[{:+10}], [{:+10}], [{:10}]\".format(b,a,a))\n",
    "print(\"[{:=10}], [{:=10}], [{:10}]\".format(b,a,a))\n",
    "print(\"[{:=10}], [{:=+10}], [{:10}]\".format(b,a,a))\n",
    "print(\"[{:=10}], [{:=+10}], [{:+010}]\".format(b,a,a))\n",
    "print(\"[{:$>10}], [{:_=+10}], [{:$=+010}]\".format(b,a,a))\n",
    "\n",
    "print(\"[{}]\")\n",
    "\n",
    "\n",
    "\n",
    "\n"
   ]
  },
  {
   "cell_type": "code",
   "execution_count": null,
   "id": "0ebb3079",
   "metadata": {},
   "outputs": [],
   "source": []
  },
  {
   "cell_type": "code",
   "execution_count": null,
   "id": "c8782ff4",
   "metadata": {},
   "outputs": [],
   "source": []
  },
  {
   "cell_type": "code",
   "execution_count": null,
   "id": "186a3d3a",
   "metadata": {},
   "outputs": [],
   "source": []
  },
  {
   "cell_type": "code",
   "execution_count": null,
   "id": "820d7232",
   "metadata": {},
   "outputs": [],
   "source": []
  }
 ],
 "metadata": {
  "kernelspec": {
   "display_name": "Python 3",
   "language": "python",
   "name": "python3"
  },
  "language_info": {
   "codemirror_mode": {
    "name": "ipython",
    "version": 3
   },
   "file_extension": ".py",
   "mimetype": "text/x-python",
   "name": "python",
   "nbconvert_exporter": "python",
   "pygments_lexer": "ipython3",
   "version": "3.8.8"
  },
  "toc": {
   "base_numbering": "4",
   "nav_menu": {},
   "number_sections": false,
   "sideBar": true,
   "skip_h1_title": false,
   "title_cell": "Table of Contents",
   "title_sidebar": "Contents",
   "toc_cell": false,
   "toc_position": {},
   "toc_section_display": true,
   "toc_window_display": true
  },
  "varInspector": {
   "cols": {
    "lenName": 16,
    "lenType": 16,
    "lenVar": 40
   },
   "kernels_config": {
    "python": {
     "delete_cmd_postfix": "",
     "delete_cmd_prefix": "del ",
     "library": "var_list.py",
     "varRefreshCmd": "print(var_dic_list())"
    },
    "r": {
     "delete_cmd_postfix": ") ",
     "delete_cmd_prefix": "rm(",
     "library": "var_list.r",
     "varRefreshCmd": "cat(var_dic_list()) "
    }
   },
   "types_to_exclude": [
    "module",
    "function",
    "builtin_function_or_method",
    "instance",
    "_Feature"
   ],
   "window_display": false
  }
 },
 "nbformat": 4,
 "nbformat_minor": 5
}
