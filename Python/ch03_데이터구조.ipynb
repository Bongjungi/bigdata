{
 "cells": [
  {
   "cell_type": "markdown",
   "id": "04517d5d",
   "metadata": {},
   "source": [
    "<b><font size = \"6\" color=\"red\">ch03. 데이터구조</font><b>\n",
    "- 리스트, 튜플, 딕셔너리, 셋, enumerate"
   ]
  },
  {
   "cell_type": "markdown",
   "id": "a5d9dff2",
   "metadata": {
    "ExecuteTime": {
     "end_time": "2021-07-20T06:14:19.293885Z",
     "start_time": "2021-07-20T06:14:19.275911Z"
    }
   },
   "source": [
    "## 1절. 리스트 []"
   ]
  },
  {
   "cell_type": "markdown",
   "id": "5e62773b",
   "metadata": {},
   "source": [
    "## 1.1 리스트 만들기\n",
    "- []를 이용해서 만들며, 여러개 값을 하나의 변수에 저장/관리할 수 있음. list()함수 이용도 가능\n",
    "- 인덱스 : 각 요소의 위치. 인덱스 0부터 시작, 맨 마지막 인덱스 -1.\n",
    "- 슬라이싱([from:to:by]) : 부분 데이터셋을 뽑아 내는 것. 인덱스를 이용해서 쓰기와 읽기도 지원"
   ]
  },
  {
   "cell_type": "code",
   "execution_count": null,
   "id": "10a8d457",
   "metadata": {
    "ExecuteTime": {
     "end_time": "2021-07-20T06:44:11.135199Z",
     "start_time": "2021-07-20T06:44:11.122221Z"
    }
   },
   "outputs": [],
   "source": [
    "a= [\"banana\", 2, [\"number\", 45], True]\n",
    "print(a)\n",
    "type(a)"
   ]
  },
  {
   "cell_type": "code",
   "execution_count": null,
   "id": "17c4c4d3",
   "metadata": {
    "ExecuteTime": {
     "end_time": "2021-07-20T06:44:16.565167Z",
     "start_time": "2021-07-20T06:44:16.560180Z"
    }
   },
   "outputs": [],
   "source": [
    "# range(from, to, by) : from부터 to 바로 앞까지 by씩 증가하면서 만들어진 리스트\n",
    "    # from 생략시 0 / by 생략시 1\n",
    "range(6) # range(0,6,1)"
   ]
  },
  {
   "cell_type": "code",
   "execution_count": null,
   "id": "c38380d8",
   "metadata": {
    "ExecuteTime": {
     "end_time": "2021-07-20T06:44:16.830710Z",
     "start_time": "2021-07-20T06:44:16.810777Z"
    }
   },
   "outputs": [],
   "source": [
    "print(list(range(6)))\n",
    "print(list(range(10,-1,-2)))\n",
    "print(list(range(0,10,2)))"
   ]
  },
  {
   "cell_type": "code",
   "execution_count": null,
   "id": "bdefa008",
   "metadata": {
    "ExecuteTime": {
     "end_time": "2021-07-20T06:44:17.079596Z",
     "start_time": "2021-07-20T06:44:17.060646Z"
    }
   },
   "outputs": [],
   "source": [
    "for i in [1,2,3,4]:\n",
    "    print(i, end='\\t')\n",
    "print(end='\\n')\n",
    "for i in range(1,5):\n",
    "    print(i, end='\\t')"
   ]
  },
  {
   "cell_type": "code",
   "execution_count": null,
   "id": "5456eea0",
   "metadata": {
    "ExecuteTime": {
     "end_time": "2021-07-20T06:44:17.361658Z",
     "start_time": "2021-07-20T06:44:17.344705Z"
    }
   },
   "outputs": [],
   "source": [
    "for i in a:\n",
    "    print(i)"
   ]
  },
  {
   "cell_type": "code",
   "execution_count": null,
   "id": "bde11bfe",
   "metadata": {
    "ExecuteTime": {
     "end_time": "2021-07-20T06:44:17.673950Z",
     "start_time": "2021-07-20T06:44:17.662979Z"
    },
    "scrolled": true
   },
   "outputs": [],
   "source": [
    "for i in list(range(len(a))):\n",
    "    print(\"{}-->{}\".format(i,a[i]))"
   ]
  },
  {
   "cell_type": "code",
   "execution_count": null,
   "id": "be00be28",
   "metadata": {
    "ExecuteTime": {
     "end_time": "2021-07-20T06:50:22.893756Z",
     "start_time": "2021-07-20T06:50:22.875803Z"
    }
   },
   "outputs": [],
   "source": [
    "#2차원리스트\n",
    "numbers_2d = [[1,2,3,4,5],[10,20,30,40,50],[1,3,5]]\n",
    "print(numbers_2d)\n",
    "for row in numbers_2d:\n",
    "    for i in row:\n",
    "        print(i, end='\\t')\n",
    "    print()"
   ]
  },
  {
   "cell_type": "code",
   "execution_count": null,
   "id": "2c166039",
   "metadata": {
    "ExecuteTime": {
     "end_time": "2021-07-20T06:51:51.775875Z",
     "start_time": "2021-07-20T06:51:51.766900Z"
    }
   },
   "outputs": [],
   "source": [
    "len(numbers_2d)\n"
   ]
  },
  {
   "cell_type": "code",
   "execution_count": null,
   "id": "afe69f96",
   "metadata": {
    "ExecuteTime": {
     "end_time": "2021-07-20T06:55:45.908809Z",
     "start_time": "2021-07-20T06:55:45.889832Z"
    }
   },
   "outputs": [],
   "source": [
    "\n",
    "for i in range(len(numbers_2d)):\n",
    "    for j in range(len(numbers_2d[i])):\n",
    "        print(\"{}행{}열 : {}\".format(i,j, numbers_2d[i][j]), end=\"\\t\")      \n",
    "    print()    "
   ]
  },
  {
   "cell_type": "markdown",
   "id": "5809e988",
   "metadata": {},
   "source": [
    "## 1.2 기본 정보 조회"
   ]
  },
  {
   "cell_type": "code",
   "execution_count": null,
   "id": "e2b7efe7",
   "metadata": {
    "ExecuteTime": {
     "end_time": "2021-07-20T06:56:41.726454Z",
     "start_time": "2021-07-20T06:56:41.708502Z"
    }
   },
   "outputs": [],
   "source": [
    "numbers=[1,2,3,4,5]\n",
    "numbers_2d=[[100,0,0,0,0],[90,90,90,90,90]]"
   ]
  },
  {
   "cell_type": "code",
   "execution_count": null,
   "id": "09b62cb0",
   "metadata": {
    "ExecuteTime": {
     "end_time": "2021-07-20T06:57:23.496443Z",
     "start_time": "2021-07-20T06:57:23.480500Z"
    }
   },
   "outputs": [],
   "source": [
    "print(len(numbers))\n",
    "print(len(numbers_2d))"
   ]
  },
  {
   "cell_type": "code",
   "execution_count": null,
   "id": "dab46fdb",
   "metadata": {
    "ExecuteTime": {
     "end_time": "2021-07-20T06:57:42.582374Z",
     "start_time": "2021-07-20T06:57:42.572401Z"
    }
   },
   "outputs": [],
   "source": [
    "min(numbers), max(numbers)"
   ]
  },
  {
   "cell_type": "code",
   "execution_count": null,
   "id": "22fab75a",
   "metadata": {
    "ExecuteTime": {
     "end_time": "2021-07-20T07:00:39.677245Z",
     "start_time": "2021-07-20T07:00:39.663303Z"
    }
   },
   "outputs": [],
   "source": [
    "#2차원리스트의 max()함수는 부분리스트 중 첫 요소가 가장 큰 값\n",
    "#             min()함수는 부분리스트 중 첫 요소가 가장 작은 값\n",
    "numbers_2d=[[100,0,0,0,0],[90,90,101,90,90]]\n",
    "min(numbers_2d), max(numbers_2d)"
   ]
  },
  {
   "cell_type": "markdown",
   "id": "94d0ffb9",
   "metadata": {},
   "source": [
    "## 1.3 요소 추가"
   ]
  },
  {
   "cell_type": "code",
   "execution_count": null,
   "id": "b6d6efac",
   "metadata": {},
   "outputs": [],
   "source": [
    "# +  두 리스트 연결\n",
    "# * 리스트*n  n번 리스트 반복\n",
    "# append() 요소 맨 뒤에 추가\n",
    "# extend() 리스트 요소별로 맨 뒤에 추가\n",
    "# insert(idx, 값) idx번째 인덱스에 값을 추가"
   ]
  },
  {
   "cell_type": "code",
   "execution_count": null,
   "id": "32a657fa",
   "metadata": {
    "ExecuteTime": {
     "end_time": "2021-07-20T07:02:02.391691Z",
     "start_time": "2021-07-20T07:02:02.374737Z"
    }
   },
   "outputs": [],
   "source": [
    "num=[1,2]\n",
    "num+num"
   ]
  },
  {
   "cell_type": "code",
   "execution_count": null,
   "id": "608673d8",
   "metadata": {
    "ExecuteTime": {
     "end_time": "2021-07-20T07:02:26.120019Z",
     "start_time": "2021-07-20T07:02:26.102050Z"
    }
   },
   "outputs": [],
   "source": [
    "print(2*num)\n",
    "print(num*2)"
   ]
  },
  {
   "cell_type": "code",
   "execution_count": null,
   "id": "a29c32f1",
   "metadata": {
    "ExecuteTime": {
     "end_time": "2021-07-20T06:47:13.411982Z",
     "start_time": "2021-07-20T06:47:13.394028Z"
    }
   },
   "outputs": [],
   "source": [
    "numbers_2d.append([2,4])\n",
    "print(numbers_2d)"
   ]
  },
  {
   "cell_type": "code",
   "execution_count": null,
   "id": "11c56136",
   "metadata": {
    "ExecuteTime": {
     "end_time": "2021-07-20T07:05:17.391826Z",
     "start_time": "2021-07-20T07:05:17.376838Z"
    }
   },
   "outputs": [],
   "source": [
    "numbers_2d.extend([[1,2,3,4],[4,5,6,7]])\n",
    "numbers_2d"
   ]
  },
  {
   "cell_type": "code",
   "execution_count": null,
   "id": "bea9a28f",
   "metadata": {
    "ExecuteTime": {
     "end_time": "2021-07-20T07:07:14.323664Z",
     "start_time": "2021-07-20T07:07:14.315677Z"
    }
   },
   "outputs": [],
   "source": [
    "a=['i']\n",
    "a.extend('hello') # [h,e,l,l,o]\n",
    "print(a)"
   ]
  },
  {
   "cell_type": "code",
   "execution_count": null,
   "id": "47d0b582",
   "metadata": {
    "ExecuteTime": {
     "end_time": "2021-07-20T07:07:55.945869Z",
     "start_time": "2021-07-20T07:07:55.925923Z"
    }
   },
   "outputs": [],
   "source": [
    "numbers_2d.insert(3,[1])\n",
    "numbers_2d"
   ]
  },
  {
   "cell_type": "markdown",
   "id": "4667d775",
   "metadata": {},
   "source": [
    "## 1.4 인덱싱"
   ]
  },
  {
   "cell_type": "markdown",
   "id": "0764827d",
   "metadata": {},
   "source": [
    "- [index] : 인덱스를 이용한 접근\n",
    "- index() : 해당 요소의 위치 반환\n",
    "- count() : 리스트에서 데이터의 갯수 반환"
   ]
  },
  {
   "cell_type": "code",
   "execution_count": null,
   "id": "6a8f5c43",
   "metadata": {
    "ExecuteTime": {
     "end_time": "2021-07-20T07:10:34.080575Z",
     "start_time": "2021-07-20T07:10:34.063620Z"
    }
   },
   "outputs": [],
   "source": [
    "numbers=[1,2,3,[1,2,3],1,2,3]\n",
    "numbers_2d=[[1,2,3],[1,2,3]]"
   ]
  },
  {
   "cell_type": "code",
   "execution_count": null,
   "id": "d1bdc883",
   "metadata": {
    "ExecuteTime": {
     "end_time": "2021-07-20T07:11:22.311445Z",
     "start_time": "2021-07-20T07:11:22.295488Z"
    }
   },
   "outputs": [],
   "source": [
    "print(numbers.count(2))\n",
    "print(numbers_2d.count(2))"
   ]
  },
  {
   "cell_type": "code",
   "execution_count": null,
   "id": "2d6f97bb",
   "metadata": {
    "ExecuteTime": {
     "end_time": "2021-07-20T07:12:31.334620Z",
     "start_time": "2021-07-20T07:12:31.322630Z"
    }
   },
   "outputs": [],
   "source": [
    "print(numbers.index(2))\n",
    "# print(numbers_2d.index(2)) #에러 2가 없다.\n",
    "print(2 in numbers_2d)"
   ]
  },
  {
   "cell_type": "code",
   "execution_count": null,
   "id": "229cf79a",
   "metadata": {
    "ExecuteTime": {
     "end_time": "2021-07-20T07:14:45.278556Z",
     "start_time": "2021-07-20T07:14:45.259574Z"
    }
   },
   "outputs": [],
   "source": [
    "numbers.index(2,3) #3번 인덱스부터 나오는 2의 인덱스"
   ]
  },
  {
   "cell_type": "markdown",
   "id": "303e260d",
   "metadata": {},
   "source": [
    "## 1.5 원하는 리스트 내용만 추출; 리스트 슬라이싱\n",
    "- 인덱스보다 많은 값을 써도 에러 나지 않음\n",
    "- [from:to:by]: from부터 to앞까지 by씩 증가하는 index 추출\n",
    "                from, to, by 모두 생략 가능\n",
    "- 인덱스는 음수 가능"
   ]
  },
  {
   "cell_type": "code",
   "execution_count": null,
   "id": "263bc202",
   "metadata": {
    "ExecuteTime": {
     "end_time": "2021-07-20T07:19:59.493301Z",
     "start_time": "2021-07-20T07:19:59.484326Z"
    }
   },
   "outputs": [],
   "source": [
    "numbers = [1,3,5,7,9]\n",
    "numbers[::-1]"
   ]
  },
  {
   "cell_type": "markdown",
   "id": "8a141f98",
   "metadata": {},
   "source": [
    "## 리스트 컴프리헨션을 이용해서 list에 원하는 데이터 액세스"
   ]
  },
  {
   "cell_type": "code",
   "execution_count": null,
   "id": "db7a7c90",
   "metadata": {
    "ExecuteTime": {
     "end_time": "2021-07-20T07:43:46.617399Z",
     "start_time": "2021-07-20T07:43:46.603446Z"
    }
   },
   "outputs": [],
   "source": [
    "numbers = [1,3,5,9,10,12,13,18,19,20]\n",
    "#모든 데이터를 다 가져오기\n",
    "# for data in numbers:\n",
    "#     print(data, end='\\t')\n",
    "[data for data in numbers]"
   ]
  },
  {
   "cell_type": "code",
   "execution_count": null,
   "id": "b3113484",
   "metadata": {
    "ExecuteTime": {
     "end_time": "2021-07-20T07:41:53.051253Z",
     "start_time": "2021-07-20T07:41:53.036267Z"
    }
   },
   "outputs": [],
   "source": [
    "# for data in numbers:\n",
    "#     if data%2==0:\n",
    "#         print(data, end='\\t')\n",
    "print([data for data in numbers if data%2==0])\n",
    "[data for data in numbers if data>=10]"
   ]
  },
  {
   "cell_type": "code",
   "execution_count": null,
   "id": "a5ea416e",
   "metadata": {
    "ExecuteTime": {
     "end_time": "2021-07-20T07:46:30.021082Z",
     "start_time": "2021-07-20T07:46:29.995136Z"
    }
   },
   "outputs": [],
   "source": [
    "#글자 수가 5글자 이상\n",
    "fruits = ['orange', 'apple', 'mango', 'kiwi']\n",
    "[data for data in fruits if len(data)>=5]\n",
    "#과일의 글자 수를 추출하세요\n",
    "[len(data) for data in fruits]"
   ]
  },
  {
   "cell_type": "code",
   "execution_count": null,
   "id": "05bb9230",
   "metadata": {
    "ExecuteTime": {
     "end_time": "2021-07-20T07:48:04.780662Z",
     "start_time": "2021-07-20T07:48:04.761691Z"
    }
   },
   "outputs": [],
   "source": [
    "#리스트의 값의 제곱을 추출하라\n",
    "[data**2 for data in range(1,6)]"
   ]
  },
  {
   "cell_type": "markdown",
   "id": "df05c0b5",
   "metadata": {},
   "source": [
    "## 1.6 요소 수정하기 "
   ]
  },
  {
   "cell_type": "code",
   "execution_count": null,
   "id": "8f01f452",
   "metadata": {
    "ExecuteTime": {
     "end_time": "2021-07-20T07:51:26.273671Z",
     "start_time": "2021-07-20T07:51:26.254694Z"
    }
   },
   "outputs": [],
   "source": [
    "numbers = [0,1,2,3,4,5,6,7,8,9]\n",
    "numbers[2]=222\n",
    "numbers"
   ]
  },
  {
   "cell_type": "code",
   "execution_count": null,
   "id": "31097281",
   "metadata": {
    "ExecuteTime": {
     "end_time": "2021-07-20T07:52:06.327531Z",
     "start_time": "2021-07-20T07:52:06.311574Z"
    }
   },
   "outputs": [],
   "source": [
    "#부분리스트를 통째로 바꿈\n",
    "numbers[0:2]=[111,111,111,11,11,111,11,111,11,11]\n",
    "numbers"
   ]
  },
  {
   "cell_type": "code",
   "execution_count": null,
   "id": "70e7be07",
   "metadata": {
    "ExecuteTime": {
     "end_time": "2021-07-20T07:55:34.120504Z",
     "start_time": "2021-07-20T07:55:34.109513Z"
    }
   },
   "outputs": [],
   "source": [
    "#슬라이싱에서 by가 포함된 경우 (개수를 맞춰야 함)\n",
    "numbers=[0]*10\n",
    "numbers[::2] = [1,1,1,1,1]\n",
    "numbers"
   ]
  },
  {
   "cell_type": "markdown",
   "id": "446cddb5",
   "metadata": {},
   "source": [
    "## 1.7 삭제하기\n",
    "- pop() : 가장 마지막 인덱스가 요소가 반환되고 삭제\n",
    "- pop(n) : n번째 idx의 요소가 반환되고 삭제\n",
    "- remove(data) : 해당 data가 삭제\n",
    "- del 리스트변수[n] : n번째 index 요소가 삭제"
   ]
  },
  {
   "cell_type": "code",
   "execution_count": 2,
   "id": "5cf61b7e",
   "metadata": {
    "ExecuteTime": {
     "end_time": "2021-07-21T00:40:13.763223Z",
     "start_time": "2021-07-21T00:40:13.750285Z"
    }
   },
   "outputs": [
    {
     "name": "stdout",
     "output_type": "stream",
     "text": [
      "4\n",
      "[1, 2, 3]\n"
     ]
    },
    {
     "data": {
      "text/plain": [
       "[1, 2, 3, 3, 3, 3]"
      ]
     },
     "execution_count": 2,
     "metadata": {},
     "output_type": "execute_result"
    }
   ],
   "source": [
    "numbers=[1,2,3,4]\n",
    "print(numbers.pop())\n",
    "print(numbers)\n",
    "n=[1,2,3,3,3,3,3]\n",
    "n.remove(3)\n",
    "n"
   ]
  },
  {
   "cell_type": "code",
   "execution_count": null,
   "id": "36ab2558",
   "metadata": {
    "ExecuteTime": {
     "end_time": "2021-07-20T08:01:46.763325Z",
     "start_time": "2021-07-20T08:01:46.754339Z"
    }
   },
   "outputs": [],
   "source": [
    "numbers=[1,2,3,4]\n",
    "print(numbers.remove(3))\n",
    "print(numbers)"
   ]
  },
  {
   "cell_type": "code",
   "execution_count": null,
   "id": "1905c7ac",
   "metadata": {
    "ExecuteTime": {
     "end_time": "2021-07-20T08:03:33.155214Z",
     "start_time": "2021-07-20T08:03:33.136255Z"
    }
   },
   "outputs": [],
   "source": [
    "numbers=[1,2,3,4]\n",
    "del numbers[1]\n",
    "numbers"
   ]
  },
  {
   "cell_type": "markdown",
   "id": "b4ea1492",
   "metadata": {},
   "source": [
    "## 1.8 정렬하기\n",
    "- sort()\n",
    "- reverse()"
   ]
  },
  {
   "cell_type": "code",
   "execution_count": null,
   "id": "ab4233ee",
   "metadata": {
    "ExecuteTime": {
     "end_time": "2021-07-20T08:07:51.022896Z",
     "start_time": "2021-07-20T08:07:51.015900Z"
    }
   },
   "outputs": [],
   "source": [
    "numbers = [9,5,2,6,10]\n",
    "numbers.sort() #number 자체가 정렬한 결과로 바뀜. 기본정렬은 오름차순\n",
    "numbers"
   ]
  },
  {
   "cell_type": "code",
   "execution_count": null,
   "id": "80a82591",
   "metadata": {
    "ExecuteTime": {
     "end_time": "2021-07-20T08:07:05.691345Z",
     "start_time": "2021-07-20T08:07:05.680353Z"
    }
   },
   "outputs": [],
   "source": [
    "numbers[::-1] #내림차순 정렬"
   ]
  },
  {
   "cell_type": "code",
   "execution_count": null,
   "id": "d48b5548",
   "metadata": {
    "ExecuteTime": {
     "end_time": "2021-07-20T08:07:53.438817Z",
     "start_time": "2021-07-20T08:07:53.433821Z"
    }
   },
   "outputs": [],
   "source": [
    "numbers.reverse()\n",
    "numbers"
   ]
  },
  {
   "cell_type": "markdown",
   "id": "a05a558d",
   "metadata": {},
   "source": [
    "## 1.9 리스트 복제\n",
    "- copy()"
   ]
  },
  {
   "cell_type": "code",
   "execution_count": null,
   "id": "7eb07e2f",
   "metadata": {
    "ExecuteTime": {
     "end_time": "2021-07-20T08:36:34.140175Z",
     "start_time": "2021-07-20T08:36:34.125215Z"
    }
   },
   "outputs": [],
   "source": [
    "numbers=[6,2,7,4,10]\n",
    "new_numbers=numbers #numbers의 주소가 new_numbers로\n",
    "numbers.sort()\n",
    "print(new_numbers)\n",
    "print(numbers)\n",
    "print(id(new_numbers))\n",
    "print(id(numbers))"
   ]
  },
  {
   "cell_type": "code",
   "execution_count": null,
   "id": "7ebf8fb3",
   "metadata": {
    "ExecuteTime": {
     "end_time": "2021-07-20T08:36:35.321018Z",
     "start_time": "2021-07-20T08:36:35.301051Z"
    }
   },
   "outputs": [],
   "source": [
    "numbers=[6,2,7,4,10]\n",
    "new_numbers=numbers.copy() #numbers의 주소가 new_numbers로\n",
    "numbers.sort()\n",
    "print(new_numbers)\n",
    "print(numbers)\n",
    "print(id(new_numbers))\n",
    "print(id(numbers))"
   ]
  },
  {
   "cell_type": "code",
   "execution_count": null,
   "id": "8a58dc4f",
   "metadata": {
    "ExecuteTime": {
     "end_time": "2021-07-20T08:37:25.648074Z",
     "start_time": "2021-07-20T08:37:25.641065Z"
    }
   },
   "outputs": [],
   "source": [
    "a=['서울','인천','경기','부산']\n",
    "temp=a.copy()\n",
    "a.sort()\n",
    "print(' '.join(temp))\n",
    "print(' '.join(a))"
   ]
  },
  {
   "cell_type": "code",
   "execution_count": null,
   "id": "526fe8b4",
   "metadata": {
    "ExecuteTime": {
     "end_time": "2021-07-20T08:38:13.971296Z",
     "start_time": "2021-07-20T08:38:13.823033Z"
    }
   },
   "outputs": [],
   "source": [
    "# a=[1,3,4,2]\n",
    "# temp=a.copy()\n",
    "# a.sort()\n",
    "# print(' '.join(temp))\n",
    "# print(' '.join(a))   ##에러 a에 숫자"
   ]
  },
  {
   "cell_type": "markdown",
   "id": "d96f0e49",
   "metadata": {},
   "source": [
    "# 2절. 튜플\n",
    "- 리스트와 유사하지만 읽기전용. 수정이 필요없는 데이터 타입에서 사용\n",
    "- 수정이 불가하므로 튜플에 데이터 추가, 수정, 삭제 불가.\n",
    "- 제공되는 함수도 많지 않음\n",
    "- () 이용해서 생성"
   ]
  },
  {
   "cell_type": "code",
   "execution_count": null,
   "id": "33d3bbc4",
   "metadata": {
    "ExecuteTime": {
     "end_time": "2021-07-20T08:40:31.437805Z",
     "start_time": "2021-07-20T08:40:31.420824Z"
    }
   },
   "outputs": [],
   "source": [
    "city=('서울','부산','대구','울산',)\n",
    "type(city)"
   ]
  },
  {
   "cell_type": "code",
   "execution_count": null,
   "id": "fae50683",
   "metadata": {
    "ExecuteTime": {
     "end_time": "2021-07-20T08:39:22.895991Z",
     "start_time": "2021-07-20T08:39:22.888991Z"
    }
   },
   "outputs": [],
   "source": [
    "'-'.join(city)"
   ]
  },
  {
   "cell_type": "code",
   "execution_count": null,
   "id": "9bb82dc7",
   "metadata": {
    "ExecuteTime": {
     "end_time": "2021-07-20T08:40:01.019186Z",
     "start_time": "2021-07-20T08:40:01.004204Z"
    }
   },
   "outputs": [],
   "source": [
    "I=['서울']\n",
    "print(type(I))\n",
    "print(I)"
   ]
  },
  {
   "cell_type": "code",
   "execution_count": null,
   "id": "6f8fd9df",
   "metadata": {
    "ExecuteTime": {
     "end_time": "2021-07-20T08:40:10.813569Z",
     "start_time": "2021-07-20T08:40:10.798609Z"
    }
   },
   "outputs": [],
   "source": [
    "I=('서울')\n",
    "print(type(I))\n",
    "print(I)"
   ]
  },
  {
   "cell_type": "code",
   "execution_count": null,
   "id": "b1eb6fd3",
   "metadata": {
    "ExecuteTime": {
     "end_time": "2021-07-20T08:41:48.313011Z",
     "start_time": "2021-07-20T08:41:48.305014Z"
    }
   },
   "outputs": [],
   "source": [
    "city=('서울',)\n",
    "print(type(city))\n",
    "print(city)"
   ]
  },
  {
   "cell_type": "code",
   "execution_count": 14,
   "id": "f6e854e1",
   "metadata": {
    "ExecuteTime": {
     "end_time": "2021-07-20T08:55:13.920369Z",
     "start_time": "2021-07-20T08:55:13.915382Z"
    }
   },
   "outputs": [
    {
     "name": "stdout",
     "output_type": "stream",
     "text": [
      "<class 'tuple'>\n",
      "(1, 2, 3)\n"
     ]
    }
   ],
   "source": [
    "numbers=1,2,3 # 자동 튜플\n",
    "print(type(numbers))\n",
    "print(numbers)"
   ]
  },
  {
   "cell_type": "code",
   "execution_count": 15,
   "id": "1dae67c3",
   "metadata": {
    "ExecuteTime": {
     "end_time": "2021-07-20T08:55:14.311480Z",
     "start_time": "2021-07-20T08:55:14.292509Z"
    }
   },
   "outputs": [
    {
     "data": {
      "text/plain": [
       "(3, 1, 3)"
      ]
     },
     "execution_count": 15,
     "metadata": {},
     "output_type": "execute_result"
    }
   ],
   "source": [
    "len(numbers), min(numbers), max(numbers)"
   ]
  },
  {
   "cell_type": "code",
   "execution_count": 16,
   "id": "f677336c",
   "metadata": {
    "ExecuteTime": {
     "end_time": "2021-07-20T08:55:14.718872Z",
     "start_time": "2021-07-20T08:55:14.711892Z"
    }
   },
   "outputs": [
    {
     "data": {
      "text/plain": [
       "(1, 1)"
      ]
     },
     "execution_count": 16,
     "metadata": {},
     "output_type": "execute_result"
    }
   ],
   "source": [
    "numbers.count(2), numbers.index(2)"
   ]
  },
  {
   "cell_type": "markdown",
   "id": "010272a5",
   "metadata": {},
   "source": [
    "# 3절. 딕셔너리\n",
    "cf. 자바에서의 hashMap\n",
    "    * 중괄호{}를 이용해서 딕셔너리 생성. 키(key)-값(value)의 쌍으로 구성된 자료구조\n",
    "    * 키는 유일한 값(중복허용 안함). 키에 리스트는 사용불가. 키에 튜플은 사용가능\n",
    "    * 값은 중복 가능, 모든 데이터 타입 가능\n",
    "    * 없는 키의 값을 참조하면 에러 발생\n",
    "    * 인덱스를 이용한 참조는 지원 안함"
   ]
  },
  {
   "cell_type": "code",
   "execution_count": 18,
   "id": "3d542f72",
   "metadata": {
    "ExecuteTime": {
     "end_time": "2021-07-20T09:00:07.223473Z",
     "start_time": "2021-07-20T09:00:07.206488Z"
    }
   },
   "outputs": [
    {
     "name": "stdout",
     "output_type": "stream",
     "text": [
      "<class 'dict'>\n",
      "{'key1': 'value', 'key2': 'value'}\n"
     ]
    }
   ],
   "source": [
    "dic={'key1':'value', 'key2':'value'}\n",
    "print(type(dic))\n",
    "print(dic)"
   ]
  },
  {
   "cell_type": "code",
   "execution_count": 41,
   "id": "ff0903ff",
   "metadata": {
    "ExecuteTime": {
     "end_time": "2021-07-20T09:11:22.101363Z",
     "start_time": "2021-07-20T09:11:22.089407Z"
    }
   },
   "outputs": [
    {
     "data": {
      "text/plain": [
       "'apple'"
      ]
     },
     "execution_count": 41,
     "metadata": {},
     "output_type": "execute_result"
    }
   ],
   "source": [
    "len(dic)\n",
    "my_favorite ={'fruit':'apple','number':12,'sport':'golf'}\n",
    "my_favorite['fruit']"
   ]
  },
  {
   "cell_type": "code",
   "execution_count": 25,
   "id": "3fe46397",
   "metadata": {
    "ExecuteTime": {
     "end_time": "2021-07-20T09:03:31.283416Z",
     "start_time": "2021-07-20T09:03:31.276416Z"
    }
   },
   "outputs": [
    {
     "data": {
      "text/plain": [
       "'apple'"
      ]
     },
     "execution_count": 25,
     "metadata": {},
     "output_type": "execute_result"
    }
   ],
   "source": [
    "my_favorite.get('fruit')"
   ]
  },
  {
   "cell_type": "code",
   "execution_count": 31,
   "id": "a3e46098",
   "metadata": {
    "ExecuteTime": {
     "end_time": "2021-07-20T09:06:35.586500Z",
     "start_time": "2021-07-20T09:06:35.582520Z"
    }
   },
   "outputs": [
    {
     "name": "stdout",
     "output_type": "stream",
     "text": [
      "None\n"
     ]
    }
   ],
   "source": [
    "print(my_favorite.get('people'))\n",
    "#print(my_favorite['people']) #에러"
   ]
  },
  {
   "cell_type": "code",
   "execution_count": 42,
   "id": "5bd8280a",
   "metadata": {
    "ExecuteTime": {
     "end_time": "2021-07-20T09:11:24.691355Z",
     "start_time": "2021-07-20T09:11:24.676376Z"
    }
   },
   "outputs": [
    {
     "name": "stdout",
     "output_type": "stream",
     "text": [
      "{'fruit': 'banana', 'number': 12, 'sport': 'golf'}\n",
      "{'fruit': 'banana', 'number': 12, 'sport': 'golf', 'people': 'kim'}\n",
      "{'fruit': 'banana', 'number': 12, 'people': 'kim'}\n"
     ]
    }
   ],
   "source": [
    "my_favorite['fruit']='banana'  #수정\n",
    "print(my_favorite) \n",
    "my_favorite['people']=\"kim\"    #추가\n",
    "print(my_favorite)\n",
    "del(my_favorite['sport'])      #제거\n",
    "print(my_favorite)"
   ]
  },
  {
   "cell_type": "code",
   "execution_count": 4,
   "id": "745c0dbb",
   "metadata": {
    "ExecuteTime": {
     "end_time": "2021-07-21T00:43:18.571796Z",
     "start_time": "2021-07-21T00:43:18.556140Z"
    }
   },
   "outputs": [
    {
     "name": "stdout",
     "output_type": "stream",
     "text": [
      "홍길동\t25\t010-9999-9999\t0번째 데이터 : 홍길동\n",
      "1번째 데이터 : 25\n",
      "2번째 데이터 : 010-9999-9999\n"
     ]
    }
   ],
   "source": [
    "#for를 이용한 딕셔너리 출력\n",
    "my_dic = {'name':'홍길동', 'age':25, 'tel':'010-9999-9999'}\n",
    "my_tuple = ('홍길동', 25, '010-9999-9999')\n",
    "for data in my_tuple:\n",
    "    print(data, end='\\t')\n",
    "\n",
    "for idx in range(len(my_tuple)):\n",
    "    print(\"{}번째 데이터 : {}\".format(idx,my_tuple[idx]))   \n",
    "    "
   ]
  },
  {
   "cell_type": "code",
   "execution_count": 46,
   "id": "33c8af4e",
   "metadata": {
    "ExecuteTime": {
     "end_time": "2021-07-20T09:16:18.239154Z",
     "start_time": "2021-07-20T09:16:18.232153Z"
    }
   },
   "outputs": [
    {
     "data": {
      "text/plain": [
       "dict_keys(['name', 'age', 'tel'])"
      ]
     },
     "execution_count": 46,
     "metadata": {},
     "output_type": "execute_result"
    }
   ],
   "source": [
    "my_dic.keys()  #키목록"
   ]
  },
  {
   "cell_type": "code",
   "execution_count": 48,
   "id": "b902b211",
   "metadata": {
    "ExecuteTime": {
     "end_time": "2021-07-20T09:16:43.466517Z",
     "start_time": "2021-07-20T09:16:43.450560Z"
    }
   },
   "outputs": [
    {
     "data": {
      "text/plain": [
       "dict_values(['홍길동', 25, '010-9999-9999'])"
      ]
     },
     "execution_count": 48,
     "metadata": {},
     "output_type": "execute_result"
    }
   ],
   "source": [
    "my_dic.values() #값목록"
   ]
  },
  {
   "cell_type": "code",
   "execution_count": 49,
   "id": "d8ac435f",
   "metadata": {
    "ExecuteTime": {
     "end_time": "2021-07-20T09:17:12.220090Z",
     "start_time": "2021-07-20T09:17:12.214125Z"
    }
   },
   "outputs": [
    {
     "data": {
      "text/plain": [
       "dict_items([('name', '홍길동'), ('age', 25), ('tel', '010-9999-9999')])"
      ]
     },
     "execution_count": 49,
     "metadata": {},
     "output_type": "execute_result"
    }
   ],
   "source": [
    "my_dic.items() # 튜플로 이루어진 (키, 값)"
   ]
  },
  {
   "cell_type": "code",
   "execution_count": 54,
   "id": "4dfa26a0",
   "metadata": {
    "ExecuteTime": {
     "end_time": "2021-07-20T09:19:23.776539Z",
     "start_time": "2021-07-20T09:19:23.768548Z"
    }
   },
   "outputs": [
    {
     "name": "stdout",
     "output_type": "stream",
     "text": [
      "name\n",
      "age\n",
      "tel\n"
     ]
    }
   ],
   "source": [
    "for key in my_dic.keys():\n",
    "    print(key)"
   ]
  },
  {
   "cell_type": "code",
   "execution_count": 55,
   "id": "960f9243",
   "metadata": {
    "ExecuteTime": {
     "end_time": "2021-07-20T09:19:38.574166Z",
     "start_time": "2021-07-20T09:19:38.560180Z"
    }
   },
   "outputs": [
    {
     "name": "stdout",
     "output_type": "stream",
     "text": [
      "홍길동\n",
      "25\n",
      "010-9999-9999\n"
     ]
    }
   ],
   "source": [
    "for value in my_dic.values():\n",
    "    print(value)"
   ]
  },
  {
   "cell_type": "code",
   "execution_count": 56,
   "id": "aec2f84b",
   "metadata": {
    "ExecuteTime": {
     "end_time": "2021-07-20T09:20:44.898474Z",
     "start_time": "2021-07-20T09:20:44.882532Z"
    }
   },
   "outputs": [
    {
     "name": "stdout",
     "output_type": "stream",
     "text": [
      "name은 홍길동\n",
      "age은 25\n",
      "tel은 010-9999-9999\n"
     ]
    }
   ],
   "source": [
    "for item in my_dic.items():\n",
    "    print(\"{}은 {}\".format(item[0],item[1]))"
   ]
  },
  {
   "cell_type": "code",
   "execution_count": 5,
   "id": "609d8fd2",
   "metadata": {
    "ExecuteTime": {
     "end_time": "2021-07-21T00:43:24.136140Z",
     "start_time": "2021-07-21T00:43:24.130157Z"
    }
   },
   "outputs": [
    {
     "name": "stdout",
     "output_type": "stream",
     "text": [
      "name은 홍길동\n",
      "age은 25\n",
      "tel은 010-9999-9999\n"
     ]
    }
   ],
   "source": [
    "for key, value in my_dic.items():\n",
    "    print(\"{}은 {}\".format(key, value))"
   ]
  },
  {
   "cell_type": "code",
   "execution_count": 11,
   "id": "f5f23463",
   "metadata": {
    "ExecuteTime": {
     "end_time": "2021-07-21T00:52:38.589368Z",
     "start_time": "2021-07-21T00:52:38.572386Z"
    }
   },
   "outputs": [
    {
     "name": "stdout",
     "output_type": "stream",
     "text": [
      "name\n",
      "age\n",
      "tel\n",
      "('name', '홍길동')\n",
      "('age', 25)\n",
      "('tel', '010-9999-9999')\n"
     ]
    }
   ],
   "source": [
    "for i in my_dic:\n",
    "    print(i)\n",
    "    \n",
    "for item in my_dic.items():\n",
    "    print(item)\n",
    "    "
   ]
  },
  {
   "cell_type": "markdown",
   "id": "74293ca9",
   "metadata": {
    "ExecuteTime": {
     "end_time": "2021-07-21T00:49:07.731850Z",
     "start_time": "2021-07-21T00:49:07.716228Z"
    }
   },
   "source": [
    "#### 딕셔너리 복사(딕셔너리가 주소를 가리키므로) : copy()"
   ]
  },
  {
   "cell_type": "code",
   "execution_count": 13,
   "id": "fedabf02",
   "metadata": {
    "ExecuteTime": {
     "end_time": "2021-07-21T00:56:15.695642Z",
     "start_time": "2021-07-21T00:56:15.677690Z"
    }
   },
   "outputs": [
    {
     "name": "stdout",
     "output_type": "stream",
     "text": [
      "{'fruit': 'apple', 'number': 12, 'sport': 'golf'}\n",
      "{'fruit': 'banana', 'number': 12, 'sport': 'golf'}\n"
     ]
    }
   ],
   "source": [
    "my_favorite ={'fruit':'apple','number':12,'sport':'golf'}\n",
    "new_my_favorite=my_favorite.copy()\n",
    "new_my_favorite[\"fruit\"]=\"banana\"\n",
    "print(my_favorite)\n",
    "print(new_my_favorite)"
   ]
  },
  {
   "cell_type": "markdown",
   "id": "bf0d7641",
   "metadata": {},
   "source": [
    "# 4절. 셋\n",
    "    * 중복 허용하지 않는 집합(순서X)\n",
    "    * 중괄호({})나 set()함수를 이용해서 셋 생성 : set([1,2]) set({딕셔너리}) set(튜플)\n",
    "    * 집합연산자 ( &교집합 |합집합 -차집합 )"
   ]
  },
  {
   "cell_type": "code",
   "execution_count": 15,
   "id": "515bcbb5",
   "metadata": {
    "ExecuteTime": {
     "end_time": "2021-07-21T00:59:33.452712Z",
     "start_time": "2021-07-21T00:59:33.433764Z"
    }
   },
   "outputs": [
    {
     "data": {
      "text/plain": [
       "{'apple', 'banana', 'orange'}"
      ]
     },
     "execution_count": 15,
     "metadata": {},
     "output_type": "execute_result"
    }
   ],
   "source": [
    "fruits = {'apple','orange','banana','banana'}\n",
    "fruits"
   ]
  },
  {
   "cell_type": "code",
   "execution_count": 23,
   "id": "4e6cfdc7",
   "metadata": {
    "ExecuteTime": {
     "end_time": "2021-07-21T01:04:37.758860Z",
     "start_time": "2021-07-21T01:04:37.749905Z"
    }
   },
   "outputs": [
    {
     "name": "stdout",
     "output_type": "stream",
     "text": [
      "{1, 2, 3}\n",
      "{1, 2, 3}\n"
     ]
    }
   ],
   "source": [
    "s1=set([1,2,3,1,1])\n",
    "print(s1)\n",
    "s2=set((1,2,3,1))\n",
    "print(s2)"
   ]
  },
  {
   "cell_type": "code",
   "execution_count": 19,
   "id": "50a87eb9",
   "metadata": {
    "ExecuteTime": {
     "end_time": "2021-07-21T01:02:28.627183Z",
     "start_time": "2021-07-21T01:02:28.608234Z"
    }
   },
   "outputs": [
    {
     "data": {
      "text/plain": [
       "{'age', 'name'}"
      ]
     },
     "execution_count": 19,
     "metadata": {},
     "output_type": "execute_result"
    }
   ],
   "source": [
    "s3 = set({'name':'홍길동','age':30}) # name, age\n",
    "s3"
   ]
  },
  {
   "cell_type": "code",
   "execution_count": 24,
   "id": "5da6458f",
   "metadata": {
    "ExecuteTime": {
     "end_time": "2021-07-21T01:04:39.555270Z",
     "start_time": "2021-07-21T01:04:39.548267Z"
    }
   },
   "outputs": [
    {
     "data": {
      "text/plain": [
       "{(4, 5, 6), 1, 2, 3}"
      ]
     },
     "execution_count": 24,
     "metadata": {},
     "output_type": "execute_result"
    }
   ],
   "source": [
    "s2.add((4,5,6))\n",
    "s2"
   ]
  },
  {
   "cell_type": "code",
   "execution_count": 26,
   "id": "abf84951",
   "metadata": {
    "ExecuteTime": {
     "end_time": "2021-07-21T01:06:12.871798Z",
     "start_time": "2021-07-21T01:06:12.855818Z"
    }
   },
   "outputs": [
    {
     "data": {
      "text/plain": [
       "{(4, 5, 6), 0, 1, 2, 3}"
      ]
     },
     "execution_count": 26,
     "metadata": {},
     "output_type": "execute_result"
    }
   ],
   "source": [
    "#s2.add([1,2,3]) ##에러 : 리스트[]는 add 불가, 딕셔너리{ : , : }도 add 불가\n",
    "s2.add(0)\n",
    "s2"
   ]
  },
  {
   "cell_type": "code",
   "execution_count": 27,
   "id": "4be65607",
   "metadata": {
    "ExecuteTime": {
     "end_time": "2021-07-21T01:07:36.665559Z",
     "start_time": "2021-07-21T01:07:36.655562Z"
    }
   },
   "outputs": [
    {
     "data": {
      "text/plain": [
       "{(4, 5, 6), 0, 1, 2, 3}"
      ]
     },
     "execution_count": 27,
     "metadata": {},
     "output_type": "execute_result"
    }
   ],
   "source": [
    "s2.add(False)  ## False=0\n",
    "s2"
   ]
  },
  {
   "cell_type": "code",
   "execution_count": 28,
   "id": "81390af7",
   "metadata": {
    "ExecuteTime": {
     "end_time": "2021-07-21T01:08:43.772432Z",
     "start_time": "2021-07-21T01:08:43.762437Z"
    }
   },
   "outputs": [
    {
     "data": {
      "text/plain": [
       "{(4, 5, 6), 0, 1, 2, 3, 4}"
      ]
     },
     "execution_count": 28,
     "metadata": {},
     "output_type": "execute_result"
    }
   ],
   "source": [
    "s2.update([4,1])\n",
    "s2"
   ]
  },
  {
   "cell_type": "code",
   "execution_count": 29,
   "id": "5d626fc7",
   "metadata": {
    "ExecuteTime": {
     "end_time": "2021-07-21T01:09:19.956387Z",
     "start_time": "2021-07-21T01:09:19.942445Z"
    }
   },
   "outputs": [
    {
     "data": {
      "text/plain": [
       "{(4, 5, 6), 0, 1, 2, 3, 4, 'age', 'name'}"
      ]
     },
     "execution_count": 29,
     "metadata": {},
     "output_type": "execute_result"
    }
   ],
   "source": [
    "s2.update({'name':'kim','age':30})\n",
    "s2"
   ]
  },
  {
   "cell_type": "code",
   "execution_count": 30,
   "id": "bffd399f",
   "metadata": {
    "ExecuteTime": {
     "end_time": "2021-07-21T01:10:56.361019Z",
     "start_time": "2021-07-21T01:10:56.352043Z"
    }
   },
   "outputs": [
    {
     "name": "stdout",
     "output_type": "stream",
     "text": [
      "{3, 4}\n",
      "{1, 2, 3, 4, 5, 6}\n",
      "{1, 2}\n"
     ]
    }
   ],
   "source": [
    "s1={1,2,3,4}\n",
    "s2={3,4,5,6}\n",
    "print(s1&s2)\n",
    "print(s1|s2)\n",
    "print(s1-s2)\n"
   ]
  },
  {
   "cell_type": "code",
   "execution_count": 32,
   "id": "5313d3d7",
   "metadata": {
    "ExecuteTime": {
     "end_time": "2021-07-21T01:13:54.052946Z",
     "start_time": "2021-07-21T01:13:54.046962Z"
    }
   },
   "outputs": [
    {
     "name": "stdout",
     "output_type": "stream",
     "text": [
      "{'sunja', 'kilja', 'kildong'}\n"
     ]
    }
   ],
   "source": [
    "name={'kildong','kilja','sunja'}\n",
    "print(name)"
   ]
  },
  {
   "cell_type": "code",
   "execution_count": 33,
   "id": "a58d7c9f",
   "metadata": {
    "ExecuteTime": {
     "end_time": "2021-07-21T01:14:35.636769Z",
     "start_time": "2021-07-21T01:14:35.620785Z"
    }
   },
   "outputs": [
    {
     "name": "stdout",
     "output_type": "stream",
     "text": [
      "sunja\tkilja\tkildong\t"
     ]
    }
   ],
   "source": [
    "for n in name:\n",
    "    print(n, end='\\t')"
   ]
  },
  {
   "cell_type": "markdown",
   "id": "f3f5def8",
   "metadata": {},
   "source": [
    "# 5절. enumerate\n",
    "    - 반복자 또는 순서 객체로 반복문을 처리할 때 인덱스 처리를 해결하는 함수"
   ]
  },
  {
   "cell_type": "code",
   "execution_count": 34,
   "id": "b8709d63",
   "metadata": {
    "ExecuteTime": {
     "end_time": "2021-07-21T01:17:22.024368Z",
     "start_time": "2021-07-21T01:17:22.019382Z"
    }
   },
   "outputs": [
    {
     "data": {
      "text/plain": [
       "[(0, 'sunja'), (1, 'kilja'), (2, 'kildong')]"
      ]
     },
     "execution_count": 34,
     "metadata": {},
     "output_type": "execute_result"
    }
   ],
   "source": [
    "list(enumerate(name))"
   ]
  },
  {
   "cell_type": "code",
   "execution_count": 35,
   "id": "717adb4f",
   "metadata": {
    "ExecuteTime": {
     "end_time": "2021-07-21T01:19:57.391220Z",
     "start_time": "2021-07-21T01:19:57.377251Z"
    }
   },
   "outputs": [
    {
     "name": "stdout",
     "output_type": "stream",
     "text": [
      "0번째 : sunja\n",
      "1번째 : kilja\n",
      "2번째 : kildong\n"
     ]
    }
   ],
   "source": [
    "for idx,data in enumerate(name):\n",
    "    print(\"{}번째 : {}\".format(idx, data))"
   ]
  },
  {
   "cell_type": "code",
   "execution_count": 38,
   "id": "e982d7eb",
   "metadata": {
    "ExecuteTime": {
     "end_time": "2021-07-21T01:41:35.661611Z",
     "start_time": "2021-07-21T01:41:35.655627Z"
    }
   },
   "outputs": [
    {
     "name": "stdout",
     "output_type": "stream",
     "text": [
      "0번째 : 길자\n",
      "1번째 : 순자\n",
      "2번째 : 길동\n"
     ]
    }
   ],
   "source": [
    "L= ['길자','순자','길동']\n",
    "for idx in range(len(L)):\n",
    "    print(\"{}번째 : {}\".format(idx, L[idx]))"
   ]
  },
  {
   "cell_type": "code",
   "execution_count": 40,
   "id": "a2d44049",
   "metadata": {
    "ExecuteTime": {
     "end_time": "2021-07-21T01:43:45.211673Z",
     "start_time": "2021-07-21T01:43:45.196685Z"
    }
   },
   "outputs": [
    {
     "name": "stdout",
     "output_type": "stream",
     "text": [
      "[(0, '길자'), (1, '순자'), (2, '길동')]\n",
      "0 : 길자\n",
      "1 : 순자\n",
      "2 : 길동\n"
     ]
    }
   ],
   "source": [
    "print(list(enumerate(L)))\n",
    "for idx, name in enumerate(L):\n",
    "    print(\"{} : {}\".format(idx, name))"
   ]
  },
  {
   "cell_type": "code",
   "execution_count": 41,
   "id": "736c2cad",
   "metadata": {
    "ExecuteTime": {
     "end_time": "2021-07-21T01:45:47.493712Z",
     "start_time": "2021-07-21T01:45:47.484715Z"
    }
   },
   "outputs": [
    {
     "name": "stdout",
     "output_type": "stream",
     "text": [
      "name : 홍길동\n",
      "age : 35\n",
      "address : 서울시 마포구\n"
     ]
    }
   ],
   "source": [
    "dic={'name':'홍길동', 'age':35, 'address':'서울시 마포구'}\n",
    "for key, value in dic.items():\n",
    "    print(\"{} : {}\".format(key, value))"
   ]
  },
  {
   "cell_type": "code",
   "execution_count": 44,
   "id": "e38faf21",
   "metadata": {
    "ExecuteTime": {
     "end_time": "2021-07-21T01:48:43.298184Z",
     "start_time": "2021-07-21T01:48:43.288212Z"
    }
   },
   "outputs": [
    {
     "name": "stdout",
     "output_type": "stream",
     "text": [
      "[(0, ('name', '홍길동')), (1, ('age', 35)), (2, ('address', '서울시 마포구'))]\n",
      "0번째 name : 홍길동\n",
      "1번째 age : 35\n",
      "2번째 address : 서울시 마포구\n"
     ]
    }
   ],
   "source": [
    "print(list(enumerate(dic.items())))\n",
    "for idx, (key,value) in enumerate(dic.items()):\n",
    "    print(\"{}번째 {} : {}\".format(idx, key, value))"
   ]
  },
  {
   "cell_type": "code",
   "execution_count": 53,
   "id": "ed87affc",
   "metadata": {
    "ExecuteTime": {
     "end_time": "2021-07-21T02:53:42.405727Z",
     "start_time": "2021-07-21T02:53:42.396751Z"
    }
   },
   "outputs": [
    {
     "name": "stdout",
     "output_type": "stream",
     "text": [
      "1\n",
      "5\n",
      "8\n",
      "1\n",
      "5\n",
      "8\n"
     ]
    }
   ],
   "source": [
    "# 3의 인덱스 값들을 구하라\n",
    "numbers=[1,3,5,9,10,3,13,18,3,20]\n",
    "#1\n",
    "n=0\n",
    "while n<len(numbers):\n",
    "    if numbers[n]==3:\n",
    "        print(n)\n",
    "    n=n+1\n",
    "#2\n",
    "n=numbers.index(3,0)\n",
    "while n<len(numbers):\n",
    "    print(n)\n",
    "    if 3 in numbers[n+1:len(numbers)]:\n",
    "        n=numbers.index(3,n+1)\n",
    "    else :\n",
    "        break\n",
    "        \n",
    "\n",
    "##[numbers.index(num) for num in numbers if num==3] #안됌"
   ]
  },
  {
   "cell_type": "code",
   "execution_count": null,
   "id": "b0ee4977",
   "metadata": {},
   "outputs": [],
   "source": []
  }
 ],
 "metadata": {
  "kernelspec": {
   "display_name": "Python 3",
   "language": "python",
   "name": "python3"
  },
  "language_info": {
   "codemirror_mode": {
    "name": "ipython",
    "version": 3
   },
   "file_extension": ".py",
   "mimetype": "text/x-python",
   "name": "python",
   "nbconvert_exporter": "python",
   "pygments_lexer": "ipython3",
   "version": "3.8.8"
  },
  "toc": {
   "base_numbering": 1,
   "nav_menu": {},
   "number_sections": false,
   "sideBar": true,
   "skip_h1_title": false,
   "title_cell": "Table of Contents",
   "title_sidebar": "Contents",
   "toc_cell": false,
   "toc_position": {},
   "toc_section_display": true,
   "toc_window_display": true
  },
  "varInspector": {
   "cols": {
    "lenName": 16,
    "lenType": 16,
    "lenVar": 40
   },
   "kernels_config": {
    "python": {
     "delete_cmd_postfix": "",
     "delete_cmd_prefix": "del ",
     "library": "var_list.py",
     "varRefreshCmd": "print(var_dic_list())"
    },
    "r": {
     "delete_cmd_postfix": ") ",
     "delete_cmd_prefix": "rm(",
     "library": "var_list.r",
     "varRefreshCmd": "cat(var_dic_list()) "
    }
   },
   "types_to_exclude": [
    "module",
    "function",
    "builtin_function_or_method",
    "instance",
    "_Feature"
   ],
   "window_display": false
  }
 },
 "nbformat": 4,
 "nbformat_minor": 5
}
