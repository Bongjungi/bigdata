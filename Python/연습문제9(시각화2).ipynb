{
 "cells": [
  {
   "cell_type": "markdown",
   "id": "3b2b060a",
   "metadata": {},
   "source": [
    "# 1."
   ]
  },
  {
   "cell_type": "code",
   "execution_count": null,
   "id": "7ea742a7",
   "metadata": {
    "ExecuteTime": {
     "end_time": "2021-08-10T02:34:22.106153Z",
     "start_time": "2021-08-10T02:34:21.108035Z"
    }
   },
   "outputs": [],
   "source": [
    "from matplotlib import pyplot as plt\n",
    "#주피터노트북이 실행되는 브라우저에서 시각화를 해라...\n",
    "%matplotlib inline\n",
    "#그래프 해상도를 높임. 'png'(기본값),'jpge','svg','pdf'\n",
    "%config InlineBackend.figure_format = 'retina'\n",
    "import warnings\n",
    "warnings.filterwarnings(action='ignore')\n",
    "import numpy as np\n",
    "#한글 기본폰트 설정\n",
    "plt.rc('font', family='Malgun Gothic') # 윈도우즈\n",
    "plt.rc('axes', unicode_minus=False) #축\n",
    "#원하는 한글 폰트 지정\n",
    "import matplotlib.font_manager as fm\n",
    "font_path = 'C:\\Windows\\Fonts\\HMFMPYUN.TTF'\n",
    "font_prop = fm.FontProperties(fname=font_path, size=20)\n",
    "import seaborn as sns\n",
    "import pandas as pd"
   ]
  },
  {
   "cell_type": "markdown",
   "id": "9b059f91",
   "metadata": {
    "ExecuteTime": {
     "end_time": "2021-08-06T05:16:10.437424Z",
     "start_time": "2021-08-06T05:16:10.428448Z"
    }
   },
   "source": [
    "# 2."
   ]
  },
  {
   "cell_type": "code",
   "execution_count": null,
   "id": "4209011a",
   "metadata": {
    "ExecuteTime": {
     "end_time": "2021-08-10T02:34:23.706198Z",
     "start_time": "2021-08-10T02:34:23.532504Z"
    }
   },
   "outputs": [],
   "source": [
    "plt.plot([range(0,6)],[range(0,6)],'r+')\n",
    "plt.title('시험용')\n",
    "plt.text(0,1,'텍스트')\n",
    "plt.show()"
   ]
  },
  {
   "cell_type": "code",
   "execution_count": null,
   "id": "72eef9b6",
   "metadata": {},
   "outputs": [],
   "source": []
  },
  {
   "cell_type": "code",
   "execution_count": null,
   "id": "6ce32af9",
   "metadata": {
    "ExecuteTime": {
     "end_time": "2021-08-10T02:34:29.009660Z",
     "start_time": "2021-08-10T02:34:24.013340Z"
    }
   },
   "outputs": [],
   "source": [
    "df1=pd.read_csv('D:\\Bigdata\\download\\sharedBigdata\\소상공인시장진흥공단_상가(상권)정보_서울_202106.csv',low_memory=False)\n",
    "df2=pd.read_csv('D:\\Bigdata\\download\\sharedBigdata\\소상공인시장진흥공단_상가(상권)정보_부산_202106.csv')"
   ]
  },
  {
   "cell_type": "code",
   "execution_count": null,
   "id": "9bb5edfa",
   "metadata": {
    "ExecuteTime": {
     "end_time": "2021-08-10T02:34:29.638560Z",
     "start_time": "2021-08-10T02:34:29.391938Z"
    }
   },
   "outputs": [],
   "source": [
    "df1"
   ]
  },
  {
   "cell_type": "code",
   "execution_count": null,
   "id": "d88781e9",
   "metadata": {
    "ExecuteTime": {
     "end_time": "2021-08-10T02:34:30.287861Z",
     "start_time": "2021-08-10T02:34:30.007031Z"
    }
   },
   "outputs": [],
   "source": [
    "df1.info()"
   ]
  },
  {
   "cell_type": "code",
   "execution_count": null,
   "id": "7e1bb511",
   "metadata": {
    "ExecuteTime": {
     "end_time": "2021-08-10T02:34:30.413540Z",
     "start_time": "2021-08-10T02:34:30.290817Z"
    }
   },
   "outputs": [],
   "source": [
    "df2"
   ]
  },
  {
   "cell_type": "code",
   "execution_count": null,
   "id": "4b4ce4a7",
   "metadata": {
    "ExecuteTime": {
     "end_time": "2021-08-10T02:34:30.541197Z",
     "start_time": "2021-08-10T02:34:30.416535Z"
    }
   },
   "outputs": [],
   "source": [
    "df2.info()"
   ]
  },
  {
   "cell_type": "code",
   "execution_count": null,
   "id": "049fefde",
   "metadata": {
    "ExecuteTime": {
     "end_time": "2021-08-10T02:34:31.289590Z",
     "start_time": "2021-08-10T02:34:30.543193Z"
    }
   },
   "outputs": [],
   "source": [
    "df=pd.concat([df1,df2])\n",
    "df"
   ]
  },
  {
   "cell_type": "code",
   "execution_count": null,
   "id": "f8120213",
   "metadata": {
    "ExecuteTime": {
     "end_time": "2021-08-10T02:34:31.686529Z",
     "start_time": "2021-08-10T02:34:31.291585Z"
    }
   },
   "outputs": [],
   "source": [
    "df.info()"
   ]
  },
  {
   "cell_type": "code",
   "execution_count": null,
   "id": "e63f6365",
   "metadata": {
    "ExecuteTime": {
     "end_time": "2021-08-10T02:34:31.702487Z",
     "start_time": "2021-08-10T02:34:31.687530Z"
    }
   },
   "outputs": [],
   "source": [
    "df.index = range(df.shape[0])"
   ]
  },
  {
   "cell_type": "code",
   "execution_count": null,
   "id": "2ae5614d",
   "metadata": {
    "ExecuteTime": {
     "end_time": "2021-08-10T02:34:35.909754Z",
     "start_time": "2021-08-10T02:34:31.703486Z"
    }
   },
   "outputs": [],
   "source": [
    "%load_ext memory_profiler\n",
    "%memit"
   ]
  },
  {
   "cell_type": "code",
   "execution_count": null,
   "id": "f5048812",
   "metadata": {
    "ExecuteTime": {
     "end_time": "2021-08-10T02:34:35.924737Z",
     "start_time": "2021-08-10T02:34:35.910759Z"
    }
   },
   "outputs": [],
   "source": [
    "del df1,df2"
   ]
  },
  {
   "cell_type": "markdown",
   "id": "42e21e48",
   "metadata": {},
   "source": [
    "# 3."
   ]
  },
  {
   "cell_type": "markdown",
   "id": "bd4e3878",
   "metadata": {},
   "source": [
    "## 1)"
   ]
  },
  {
   "cell_type": "code",
   "execution_count": null,
   "id": "be050cc6",
   "metadata": {
    "ExecuteTime": {
     "end_time": "2021-08-10T02:34:36.399683Z",
     "start_time": "2021-08-10T02:34:35.926709Z"
    }
   },
   "outputs": [],
   "source": [
    "df.isna().sum().sort_values(ascending=False).reset_index().iloc[[0,1,2,-3,-2,-1]]"
   ]
  },
  {
   "cell_type": "markdown",
   "id": "13c76245",
   "metadata": {},
   "source": [
    "## 2)"
   ]
  },
  {
   "cell_type": "code",
   "execution_count": null,
   "id": "a044a892",
   "metadata": {
    "ExecuteTime": {
     "end_time": "2021-08-10T02:34:36.797603Z",
     "start_time": "2021-08-10T02:34:36.401651Z"
    }
   },
   "outputs": [],
   "source": [
    "df.info()"
   ]
  },
  {
   "cell_type": "markdown",
   "id": "45985163",
   "metadata": {},
   "source": [
    "## 3)"
   ]
  },
  {
   "cell_type": "code",
   "execution_count": null,
   "id": "9c3ad4df",
   "metadata": {
    "ExecuteTime": {
     "end_time": "2021-08-10T02:34:37.192534Z",
     "start_time": "2021-08-10T02:34:36.799586Z"
    }
   },
   "outputs": [],
   "source": [
    "df.isna().sum()"
   ]
  },
  {
   "cell_type": "code",
   "execution_count": null,
   "id": "00379c3c",
   "metadata": {
    "ExecuteTime": {
     "end_time": "2021-08-10T02:34:37.590446Z",
     "start_time": "2021-08-10T02:34:37.193532Z"
    }
   },
   "outputs": [],
   "source": [
    "a=df.isna().sum().reset_index()\n",
    "a.columns=['ind','value']"
   ]
  },
  {
   "cell_type": "code",
   "execution_count": null,
   "id": "e2c02cdf",
   "metadata": {
    "ExecuteTime": {
     "end_time": "2021-08-10T02:34:38.376804Z",
     "start_time": "2021-08-10T02:34:37.592459Z"
    }
   },
   "outputs": [],
   "source": [
    "plt.figure(figsize=(20,10))\n",
    "plt.bar(data=a, x=a.ind, height=a.value)\n",
    "for i, j in enumerate(a.ind):\n",
    "    plt.text(i, a.value[i], a.value[i],horizontalalignment='center',va='bottom')\n",
    "plt.xticks(rotation=90)\n",
    "plt.show()"
   ]
  },
  {
   "cell_type": "code",
   "execution_count": null,
   "id": "d91c9519",
   "metadata": {
    "ExecuteTime": {
     "end_time": "2021-08-10T02:34:39.169946Z",
     "start_time": "2021-08-10T02:34:38.378799Z"
    }
   },
   "outputs": [],
   "source": [
    "plt.figure(figsize=(20,10))\n",
    "plt.barh(data=a, y=a.ind, width=a.value)\n",
    "for i, j in enumerate(a.ind):\n",
    "    plt.text(a.value[i], j, a.value[i],horizontalalignment='left',va='center')\n",
    "plt.show()"
   ]
  },
  {
   "cell_type": "code",
   "execution_count": null,
   "id": "8db84790",
   "metadata": {
    "ExecuteTime": {
     "end_time": "2021-08-10T02:34:39.558522Z",
     "start_time": "2021-08-10T02:34:39.170944Z"
    }
   },
   "outputs": [],
   "source": [
    "a=df.isna().sum().sort_values(ascending=False).reset_index()\n",
    "a.columns=['ind','value']"
   ]
  },
  {
   "cell_type": "code",
   "execution_count": null,
   "id": "ae4eec27",
   "metadata": {
    "ExecuteTime": {
     "end_time": "2021-08-10T02:34:40.317099Z",
     "start_time": "2021-08-10T02:34:39.560518Z"
    }
   },
   "outputs": [],
   "source": [
    "plt.figure(figsize=(20,10))\n",
    "plt.bar(data=a, x=a.ind, height=a.value)\n",
    "for i, j in enumerate(a.ind):\n",
    "    plt.text(i, a.value[i], a.value[i],horizontalalignment='center',va='bottom')\n",
    "plt.xticks(rotation=90)\n",
    "plt.show()"
   ]
  },
  {
   "cell_type": "code",
   "execution_count": null,
   "id": "7041b920",
   "metadata": {
    "ExecuteTime": {
     "end_time": "2021-08-10T02:34:41.141012Z",
     "start_time": "2021-08-10T02:34:40.321111Z"
    }
   },
   "outputs": [],
   "source": [
    "plt.figure(figsize=(20,10))\n",
    "plt.barh(data=a, y=a.ind, width=a.value)\n",
    "for i, j in enumerate(a.ind):\n",
    "    plt.text(a.value[i], j, a.value[i],horizontalalignment='left',va='center')\n",
    "plt.show()"
   ]
  },
  {
   "cell_type": "markdown",
   "id": "2449afd3",
   "metadata": {},
   "source": [
    "\n",
    "####  missingno로 결측치 시각화 라이브러리\n",
    "* [ResidentMario/missingno: Missing data visualization module for Python.](http://github.com/ResidentMario/missingno)\n",
    "' pip install missingno'\n",
    "\n"
   ]
  },
  {
   "cell_type": "code",
   "execution_count": null,
   "id": "70d8601c",
   "metadata": {
    "ExecuteTime": {
     "end_time": "2021-08-10T02:34:44.349009Z",
     "start_time": "2021-08-10T02:34:41.143972Z"
    }
   },
   "outputs": [],
   "source": [
    "import missingno as msno\n",
    "msno.matrix(df)\n",
    "plt.show()"
   ]
  },
  {
   "cell_type": "code",
   "execution_count": null,
   "id": "deeb8c00",
   "metadata": {
    "ExecuteTime": {
     "end_time": "2021-08-10T02:34:49.057385Z",
     "start_time": "2021-08-10T02:34:44.350007Z"
    }
   },
   "outputs": [],
   "source": [
    "#bar (결측치가 아닌 컬럼이 bar로 그려짐)\n",
    "msno.bar(df)\n",
    "plt.show()"
   ]
  },
  {
   "cell_type": "code",
   "execution_count": null,
   "id": "287ababd",
   "metadata": {
    "ExecuteTime": {
     "end_time": "2021-08-10T02:34:50.612527Z",
     "start_time": "2021-08-10T02:34:49.059357Z"
    }
   },
   "outputs": [],
   "source": [
    "# 결측치가 있는 컬럼에 대해 변수별 상관관계\n",
    "msno.heatmap(df)\n",
    "plt.show()"
   ]
  },
  {
   "cell_type": "code",
   "execution_count": null,
   "id": "aee5cb15",
   "metadata": {
    "ExecuteTime": {
     "end_time": "2021-08-10T02:34:52.051477Z",
     "start_time": "2021-08-10T02:34:50.614494Z"
    }
   },
   "outputs": [],
   "source": [
    "#결측치가 있는 변수들끼리 군집화\n",
    "msno.dendrogram(df)\n",
    "plt.show()"
   ]
  },
  {
   "cell_type": "markdown",
   "id": "b009c470",
   "metadata": {},
   "source": [
    "## 4)"
   ]
  },
  {
   "cell_type": "code",
   "execution_count": null,
   "id": "d8ad6ad0",
   "metadata": {
    "ExecuteTime": {
     "end_time": "2021-08-10T02:34:52.789912Z",
     "start_time": "2021-08-10T02:34:52.053442Z"
    }
   },
   "outputs": [],
   "source": [
    "a=df.isna().sum()[df.isna().sum()!=0].reset_index()\n",
    "a.columns=['ind','value']"
   ]
  },
  {
   "cell_type": "code",
   "execution_count": null,
   "id": "ca4aa697",
   "metadata": {
    "ExecuteTime": {
     "end_time": "2021-08-10T02:34:53.124483Z",
     "start_time": "2021-08-10T02:34:52.789912Z"
    },
    "scrolled": true
   },
   "outputs": [],
   "source": [
    "plt.figure(figsize=(20,10))\n",
    "plt.bar(data=a, x=a.ind, height=a.value)\n",
    "for i, j in enumerate(a.ind):\n",
    "    plt.text(j, a.value[i], a.value[i],horizontalalignment='center',va='bottom')\n",
    "plt.xticks(rotation=90)\n",
    "plt.show()"
   ]
  },
  {
   "cell_type": "code",
   "execution_count": null,
   "id": "3be3d35a",
   "metadata": {
    "ExecuteTime": {
     "end_time": "2021-08-10T02:34:53.442254Z",
     "start_time": "2021-08-10T02:34:53.126466Z"
    }
   },
   "outputs": [],
   "source": [
    "plt.figure(figsize=(20,10))\n",
    "plt.barh(data=a, y=a.ind, width=a.value)\n",
    "for i, j in enumerate(a.ind):\n",
    "    plt.text(a.value[i], j, a.value[i],horizontalalignment='left',va='center')\n",
    "plt.show()"
   ]
  },
  {
   "cell_type": "code",
   "execution_count": null,
   "id": "aa7a59a2",
   "metadata": {
    "ExecuteTime": {
     "end_time": "2021-08-10T02:34:54.161383Z",
     "start_time": "2021-08-10T02:34:53.444216Z"
    }
   },
   "outputs": [],
   "source": [
    "a=df.isna().sum()[df.isna().sum()!=0].sort_values().reset_index()\n",
    "a.columns=['ind','value']"
   ]
  },
  {
   "cell_type": "code",
   "execution_count": null,
   "id": "32a422a4",
   "metadata": {
    "ExecuteTime": {
     "end_time": "2021-08-10T02:34:54.495942Z",
     "start_time": "2021-08-10T02:34:54.161383Z"
    }
   },
   "outputs": [],
   "source": [
    "plt.figure(figsize=(20,10))\n",
    "plt.bar(data=a, x=a.ind, height=a.value)\n",
    "for i, j in enumerate(a.ind):\n",
    "    plt.text(j, a.value[i], a.value[i],horizontalalignment='center',va='bottom')\n",
    "plt.xticks(rotation=90)\n",
    "plt.show()"
   ]
  },
  {
   "cell_type": "code",
   "execution_count": null,
   "id": "f2f812f2",
   "metadata": {
    "ExecuteTime": {
     "end_time": "2021-08-10T02:34:54.799104Z",
     "start_time": "2021-08-10T02:34:54.497910Z"
    }
   },
   "outputs": [],
   "source": [
    "plt.figure(figsize=(20,10))\n",
    "plt.barh(data=a, y=a.ind, width=a.value)\n",
    "for i, j in enumerate(a.ind):\n",
    "    plt.text(a.value[i], i, a.value[i],horizontalalignment='left',va='center')\n",
    "plt.show()"
   ]
  },
  {
   "cell_type": "markdown",
   "id": "f06ba86a",
   "metadata": {},
   "source": [
    "# 4."
   ]
  },
  {
   "cell_type": "markdown",
   "id": "37f7dc2e",
   "metadata": {},
   "source": [
    "## 1)"
   ]
  },
  {
   "cell_type": "code",
   "execution_count": null,
   "id": "d0e2bd74",
   "metadata": {
    "ExecuteTime": {
     "end_time": "2021-08-10T02:34:55.182182Z",
     "start_time": "2021-08-10T02:34:54.801099Z"
    }
   },
   "outputs": [],
   "source": [
    "a=df.isna().sum().sort_values(ascending=False)[0:9]"
   ]
  },
  {
   "cell_type": "code",
   "execution_count": null,
   "id": "0d5666f2",
   "metadata": {
    "ExecuteTime": {
     "end_time": "2021-08-10T02:34:55.628340Z",
     "start_time": "2021-08-10T02:34:55.184184Z"
    }
   },
   "outputs": [],
   "source": [
    "df=df.drop(labels=df.isna().sum().sort_values(ascending=False)[0:9].index, axis=1)"
   ]
  },
  {
   "cell_type": "markdown",
   "id": "c490ae81",
   "metadata": {
    "ExecuteTime": {
     "end_time": "2021-08-06T06:09:23.737027Z",
     "start_time": "2021-08-06T06:09:23.726058Z"
    }
   },
   "source": [
    "## 2)"
   ]
  },
  {
   "cell_type": "code",
   "execution_count": null,
   "id": "9ebd7d83",
   "metadata": {
    "ExecuteTime": {
     "end_time": "2021-08-10T02:34:55.643637Z",
     "start_time": "2021-08-10T02:34:55.629360Z"
    }
   },
   "outputs": [],
   "source": [
    "#condition=(df.columns.str.find('코드')!=-1)|(df.columns.str.find('번호')!=-1)\n",
    "condition=df.columns.str.contains('코드|번호')"
   ]
  },
  {
   "cell_type": "code",
   "execution_count": null,
   "id": "d8ad2bda",
   "metadata": {
    "ExecuteTime": {
     "end_time": "2021-08-10T02:34:55.706214Z",
     "start_time": "2021-08-10T02:34:55.645603Z"
    }
   },
   "outputs": [],
   "source": [
    "condition"
   ]
  },
  {
   "cell_type": "code",
   "execution_count": null,
   "id": "0b20c15b",
   "metadata": {
    "ExecuteTime": {
     "end_time": "2021-08-10T02:34:55.753945Z",
     "start_time": "2021-08-10T02:34:55.707946Z"
    }
   },
   "outputs": [],
   "source": [
    "df.columns.str.find('코드')!=-1"
   ]
  },
  {
   "cell_type": "code",
   "execution_count": null,
   "id": "8e8bef45",
   "metadata": {
    "ExecuteTime": {
     "end_time": "2021-08-10T02:34:55.833754Z",
     "start_time": "2021-08-10T02:34:55.755934Z"
    }
   },
   "outputs": [],
   "source": [
    "df.columns.str.find('번호')!=-1"
   ]
  },
  {
   "cell_type": "code",
   "execution_count": null,
   "id": "2767e960",
   "metadata": {
    "ExecuteTime": {
     "end_time": "2021-08-10T02:34:56.247011Z",
     "start_time": "2021-08-10T02:34:55.835721Z"
    }
   },
   "outputs": [],
   "source": [
    "df"
   ]
  },
  {
   "cell_type": "code",
   "execution_count": null,
   "id": "928c69a5",
   "metadata": {
    "ExecuteTime": {
     "end_time": "2021-08-10T02:34:56.310850Z",
     "start_time": "2021-08-10T02:34:56.249000Z"
    }
   },
   "outputs": [],
   "source": [
    "df=df.drop(labels=df.columns[condition], axis=1)"
   ]
  },
  {
   "cell_type": "markdown",
   "id": "915ac822",
   "metadata": {},
   "source": [
    "## 3)"
   ]
  },
  {
   "cell_type": "code",
   "execution_count": null,
   "id": "2268549e",
   "metadata": {
    "ExecuteTime": {
     "end_time": "2021-08-10T02:34:58.282339Z",
     "start_time": "2021-08-10T02:34:58.067411Z"
    }
   },
   "outputs": [],
   "source": [
    "df.info()"
   ]
  },
  {
   "cell_type": "markdown",
   "id": "dadcbe7e",
   "metadata": {},
   "source": [
    "# 5."
   ]
  },
  {
   "cell_type": "markdown",
   "id": "bacbccf4",
   "metadata": {},
   "source": [
    "## 1)"
   ]
  },
  {
   "cell_type": "code",
   "execution_count": null,
   "id": "421cb58e",
   "metadata": {
    "ExecuteTime": {
     "end_time": "2021-08-10T02:34:58.362271Z",
     "start_time": "2021-08-10T02:34:58.347287Z"
    }
   },
   "outputs": [],
   "source": [
    "df['상호명']"
   ]
  },
  {
   "cell_type": "markdown",
   "id": "2ad7e8e0",
   "metadata": {},
   "source": [
    "## 2)"
   ]
  },
  {
   "cell_type": "code",
   "execution_count": null,
   "id": "d8d4215d",
   "metadata": {
    "ExecuteTime": {
     "end_time": "2021-08-10T02:34:58.710420Z",
     "start_time": "2021-08-10T02:34:58.411140Z"
    }
   },
   "outputs": [],
   "source": [
    "df.상호명.value_counts()"
   ]
  },
  {
   "cell_type": "markdown",
   "id": "26fc6921",
   "metadata": {},
   "source": [
    "## 3)"
   ]
  },
  {
   "cell_type": "code",
   "execution_count": null,
   "id": "2fb68497",
   "metadata": {
    "ExecuteTime": {
     "end_time": "2021-08-10T02:34:58.804574Z",
     "start_time": "2021-08-10T02:34:58.775426Z"
    }
   },
   "outputs": [],
   "source": [
    "df.loc[:,['상호명','도로명주소']]"
   ]
  },
  {
   "cell_type": "markdown",
   "id": "af532621",
   "metadata": {},
   "source": [
    "## 4)"
   ]
  },
  {
   "cell_type": "code",
   "execution_count": null,
   "id": "347d2357",
   "metadata": {
    "ExecuteTime": {
     "end_time": "2021-08-10T02:34:58.899321Z",
     "start_time": "2021-08-10T02:34:58.869400Z"
    }
   },
   "outputs": [],
   "source": [
    "df.iloc[0:3]"
   ]
  },
  {
   "cell_type": "markdown",
   "id": "0c6096ed",
   "metadata": {},
   "source": [
    "# 6."
   ]
  },
  {
   "cell_type": "markdown",
   "id": "d2b347c8",
   "metadata": {},
   "source": [
    "## 1)"
   ]
  },
  {
   "cell_type": "code",
   "execution_count": null,
   "id": "5767d08b",
   "metadata": {
    "ExecuteTime": {
     "end_time": "2021-08-10T02:34:59.026699Z",
     "start_time": "2021-08-10T02:34:58.932244Z"
    }
   },
   "outputs": [],
   "source": [
    "df.describe()"
   ]
  },
  {
   "cell_type": "markdown",
   "id": "ef1e64df",
   "metadata": {},
   "source": [
    "## 2)"
   ]
  },
  {
   "cell_type": "code",
   "execution_count": null,
   "id": "4aa78926",
   "metadata": {
    "ExecuteTime": {
     "end_time": "2021-08-10T02:34:59.105647Z",
     "start_time": "2021-08-10T02:34:59.090663Z"
    }
   },
   "outputs": [],
   "source": [
    "df.지번본번지.to_frame().info()"
   ]
  },
  {
   "cell_type": "code",
   "execution_count": null,
   "id": "0a95dc9a",
   "metadata": {
    "ExecuteTime": {
     "end_time": "2021-08-10T02:34:59.184405Z",
     "start_time": "2021-08-10T02:34:59.138527Z"
    }
   },
   "outputs": [],
   "source": [
    "df.건물본번지.to_frame().info()"
   ]
  },
  {
   "cell_type": "code",
   "execution_count": null,
   "id": "265378b3",
   "metadata": {
    "ExecuteTime": {
     "end_time": "2021-08-10T02:34:59.278154Z",
     "start_time": "2021-08-10T02:34:59.247236Z"
    }
   },
   "outputs": [],
   "source": [
    "df.loc[:,['지번본번지','건물본번지']].info()"
   ]
  },
  {
   "cell_type": "code",
   "execution_count": null,
   "id": "e1916eeb",
   "metadata": {
    "ExecuteTime": {
     "end_time": "2021-08-10T02:34:59.389855Z",
     "start_time": "2021-08-10T02:34:59.311065Z"
    }
   },
   "outputs": [],
   "source": [
    "df.loc[:,['위도','경도']].describe()"
   ]
  },
  {
   "cell_type": "code",
   "execution_count": null,
   "id": "af3b8d81",
   "metadata": {
    "ExecuteTime": {
     "end_time": "2021-08-10T02:34:59.453685Z",
     "start_time": "2021-08-10T02:34:59.422767Z"
    }
   },
   "outputs": [],
   "source": [
    "df.위도.describe()['50%']"
   ]
  },
  {
   "cell_type": "markdown",
   "id": "32b19455",
   "metadata": {},
   "source": [
    "# 7."
   ]
  },
  {
   "cell_type": "markdown",
   "id": "6a6d6390",
   "metadata": {},
   "source": [
    "## 1)"
   ]
  },
  {
   "cell_type": "code",
   "execution_count": null,
   "id": "c2dc23b5",
   "metadata": {
    "ExecuteTime": {
     "end_time": "2021-08-10T02:34:59.866580Z",
     "start_time": "2021-08-10T02:34:59.501556Z"
    }
   },
   "outputs": [],
   "source": [
    "plt.figure(figsize=(20,10))\n",
    "g=plt.hist(data=df, x='위도',bins=16)\n",
    "for i, j in enumerate(g[0]):\n",
    "    plt.text(g[1][i]+0.03, g[0][i]+1000, int(g[0][i]), fontsize=14)  \n",
    "plt.axvline(df.위도.describe()['mean'],c='gray')"
   ]
  },
  {
   "cell_type": "code",
   "execution_count": null,
   "id": "40741bb3",
   "metadata": {
    "ExecuteTime": {
     "end_time": "2021-08-10T02:35:01.712829Z",
     "start_time": "2021-08-10T02:34:59.914463Z"
    }
   },
   "outputs": [],
   "source": [
    "plt.figure(figsize=(20,10))\n",
    "sns.displot(x=df.위도, kde=True)\n",
    "plt.axvline(df.위도.describe()['mean'],c='gray')\n",
    "plt.annotate('평균', xytext=(36,100000),\n",
    "                xy=(df.위도.describe()['mean'],80000),\n",
    "                arrowprops= dict(arrowstyle='->',connectionstyle='angle3'))\n",
    "plt.axvline(df.위도.describe()['50%'],c='gray')\n",
    "plt.annotate('중위수', xytext=(37,100000),\n",
    "                xy=(df.위도.describe()['50%'],120000),\n",
    "                arrowprops= dict(arrowstyle='->',connectionstyle='angle3'))\n",
    "plt.show()"
   ]
  },
  {
   "cell_type": "markdown",
   "id": "38dc5a39",
   "metadata": {},
   "source": [
    "## 2)"
   ]
  },
  {
   "cell_type": "code",
   "execution_count": null,
   "id": "2f752253",
   "metadata": {
    "ExecuteTime": {
     "end_time": "2021-08-10T02:35:02.079173Z",
     "start_time": "2021-08-10T02:35:01.777626Z"
    }
   },
   "outputs": [],
   "source": [
    "plt.figure(figsize=(20,10))\n",
    "g = plt.hist(data=df, x='경도',bins=16)\n",
    "for i, j in enumerate(g[0]):\n",
    "    plt.text(g[1][i]+0.03, g[0][i]+1000, int(g[0][i]), fontsize=14)   "
   ]
  },
  {
   "cell_type": "markdown",
   "id": "815d1237",
   "metadata": {},
   "source": [
    "# 8."
   ]
  },
  {
   "cell_type": "markdown",
   "id": "477e4dfd",
   "metadata": {
    "ExecuteTime": {
     "end_time": "2021-08-06T07:29:54.900507Z",
     "start_time": "2021-08-06T07:29:54.869562Z"
    }
   },
   "source": [
    "## 1)"
   ]
  },
  {
   "cell_type": "code",
   "execution_count": null,
   "id": "ae33b50a",
   "metadata": {
    "ExecuteTime": {
     "end_time": "2021-08-10T02:35:02.190961Z",
     "start_time": "2021-08-10T02:35:02.144079Z"
    }
   },
   "outputs": [],
   "source": [
    "df.corr()"
   ]
  },
  {
   "cell_type": "markdown",
   "id": "9c042081",
   "metadata": {},
   "source": [
    "## 2)"
   ]
  },
  {
   "cell_type": "code",
   "execution_count": null,
   "id": "f93d75d2",
   "metadata": {
    "ExecuteTime": {
     "end_time": "2021-08-10T02:35:02.636789Z",
     "start_time": "2021-08-10T02:35:02.256802Z"
    }
   },
   "outputs": [],
   "source": [
    "mask = np.triu(np.ones_like(df.corr(), dtype=bool))\n",
    "sns.heatmap(df.corr(),annot=True, cmap='Greens', mask=~mask)\n",
    "plt.savefig('그래프설명.png')"
   ]
  },
  {
   "cell_type": "markdown",
   "id": "b4eaf36c",
   "metadata": {},
   "source": [
    "# 9."
   ]
  },
  {
   "cell_type": "markdown",
   "id": "5b3981e8",
   "metadata": {
    "ExecuteTime": {
     "end_time": "2021-08-06T07:33:41.134622Z",
     "start_time": "2021-08-06T07:33:41.121626Z"
    }
   },
   "source": [
    "## 1)"
   ]
  },
  {
   "cell_type": "code",
   "execution_count": null,
   "id": "002f5f87",
   "metadata": {
    "ExecuteTime": {
     "end_time": "2021-08-10T02:35:14.333768Z",
     "start_time": "2021-08-10T02:35:02.701732Z"
    }
   },
   "outputs": [],
   "source": [
    "sns.scatterplot(data=df, x='경도', y='위도', hue='시도명')"
   ]
  },
  {
   "cell_type": "markdown",
   "id": "20c50994",
   "metadata": {},
   "source": [
    "## 2)"
   ]
  },
  {
   "cell_type": "code",
   "execution_count": null,
   "id": "7c590405",
   "metadata": {
    "ExecuteTime": {
     "end_time": "2021-08-10T02:35:40.443934Z",
     "start_time": "2021-08-10T02:35:14.397886Z"
    }
   },
   "outputs": [],
   "source": [
    "sns.relplot(kind='scatter', data=df, x='경도', y='위도', hue='시도명', col='시도명',height=10, aspect=1.3, facet_kws={'sharex':False,'sharey':False})"
   ]
  },
  {
   "cell_type": "markdown",
   "id": "f5c91b3b",
   "metadata": {},
   "source": [
    "## 3)"
   ]
  },
  {
   "cell_type": "code",
   "execution_count": null,
   "id": "78b5ee8a",
   "metadata": {
    "ExecuteTime": {
     "end_time": "2021-08-10T02:36:13.558976Z",
     "start_time": "2021-08-10T02:35:40.506539Z"
    }
   },
   "outputs": [],
   "source": [
    "sns.regplot(data=df, x='경도', y='위도')"
   ]
  },
  {
   "cell_type": "markdown",
   "id": "d4351574",
   "metadata": {
    "ExecuteTime": {
     "end_time": "2021-08-06T07:42:35.909187Z",
     "start_time": "2021-08-06T07:42:35.896222Z"
    }
   },
   "source": [
    "## 4)"
   ]
  },
  {
   "cell_type": "code",
   "execution_count": null,
   "id": "658999c8",
   "metadata": {
    "ExecuteTime": {
     "end_time": "2021-08-10T02:36:45.457198Z",
     "start_time": "2021-08-10T02:36:13.608809Z"
    }
   },
   "outputs": [],
   "source": [
    "sns.lmplot(data=df, x='경도', y='위도',hue='시도명', col='시도명',col_wrap=2,)"
   ]
  },
  {
   "cell_type": "markdown",
   "id": "dd320778",
   "metadata": {},
   "source": [
    "# 10."
   ]
  },
  {
   "cell_type": "code",
   "execution_count": null,
   "id": "16ad3736",
   "metadata": {
    "ExecuteTime": {
     "end_time": "2021-08-10T02:36:45.568155Z",
     "start_time": "2021-08-10T02:36:45.523247Z"
    }
   },
   "outputs": [],
   "source": [
    "g = df['상권업종대분류명'].value_counts().to_frame()\n",
    "g"
   ]
  },
  {
   "cell_type": "code",
   "execution_count": null,
   "id": "08e07546",
   "metadata": {
    "ExecuteTime": {
     "end_time": "2021-08-10T02:36:45.933240Z",
     "start_time": "2021-08-10T02:36:45.633960Z"
    }
   },
   "outputs": [],
   "source": [
    "plt.figure(figsize=(20,10))\n",
    "plt.bar(data=g, x=g.index, height=g.상권업종대분류명)\n",
    "for i,j in enumerate(g.index):\n",
    "    plt.text(j, g.상권업종대분류명[i], g.상권업종대분류명[i],fontsize=14, ha='center')"
   ]
  },
  {
   "cell_type": "markdown",
   "id": "461862b7",
   "metadata": {},
   "source": [
    "# 11."
   ]
  },
  {
   "cell_type": "markdown",
   "id": "7142aba3",
   "metadata": {},
   "source": [
    "## 1)"
   ]
  },
  {
   "cell_type": "code",
   "execution_count": null,
   "id": "692c7f91",
   "metadata": {
    "ExecuteTime": {
     "end_time": "2021-08-10T02:36:46.106312Z",
     "start_time": "2021-08-10T02:36:45.997582Z"
    },
    "scrolled": true
   },
   "outputs": [],
   "source": [
    "df_food=df[df['상권업종대분류명']=='음식'].copy()\n",
    "df_food.index=range(df_food.shape[0])\n",
    "df_food.head()"
   ]
  },
  {
   "cell_type": "markdown",
   "id": "b31d1c99",
   "metadata": {},
   "source": [
    "## 2)"
   ]
  },
  {
   "cell_type": "code",
   "execution_count": null,
   "id": "e0d39c1c",
   "metadata": {
    "ExecuteTime": {
     "end_time": "2021-08-10T02:36:46.217768Z",
     "start_time": "2021-08-10T02:36:46.171118Z"
    }
   },
   "outputs": [],
   "source": [
    "df_food[df_food['시군구명']=='강남구']['상권업종중분류명'].value_counts()\n",
    "df_food.loc[df_food['시군구명']=='강남구','상권업종중분류명'].value_counts()"
   ]
  },
  {
   "cell_type": "markdown",
   "id": "7ac3763f",
   "metadata": {},
   "source": [
    "# 12"
   ]
  },
  {
   "cell_type": "markdown",
   "id": "2f3cf61c",
   "metadata": {},
   "source": [
    "## 1)"
   ]
  },
  {
   "cell_type": "code",
   "execution_count": null,
   "id": "cf7becbb",
   "metadata": {
    "ExecuteTime": {
     "end_time": "2021-08-10T02:36:46.361386Z",
     "start_time": "2021-08-10T02:36:46.282618Z"
    }
   },
   "outputs": [],
   "source": [
    "df_seoul_food=df_food[df_food['시도명']=='서울특별시'].copy()\n",
    "df_seoul_food.index=range(df_seoul_food.shape[0])\n",
    "df_seoul_food.head(5)"
   ]
  },
  {
   "cell_type": "markdown",
   "id": "8f4ccd89",
   "metadata": {},
   "source": [
    "## 2)"
   ]
  },
  {
   "cell_type": "code",
   "execution_count": null,
   "id": "ada55136",
   "metadata": {
    "ExecuteTime": {
     "end_time": "2021-08-10T02:36:46.582401Z",
     "start_time": "2021-08-10T02:36:46.456737Z"
    }
   },
   "outputs": [],
   "source": [
    "food_gu=df_seoul_food.groupby(['시군구명','상권업종중분류명']).count()['지번주소'].to_frame()\n",
    "food_gu"
   ]
  },
  {
   "cell_type": "markdown",
   "id": "b617a40b",
   "metadata": {},
   "source": [
    "## 3)"
   ]
  },
  {
   "cell_type": "code",
   "execution_count": null,
   "id": "a371e8d3",
   "metadata": {
    "ExecuteTime": {
     "end_time": "2021-08-10T02:36:46.724908Z",
     "start_time": "2021-08-10T02:36:46.679008Z"
    }
   },
   "outputs": [],
   "source": [
    "food_gu.reset_index().groupby(['시군구명','상권업종중분류명'])['지번주소'].sum().unstack()"
   ]
  },
  {
   "cell_type": "markdown",
   "id": "b18df42d",
   "metadata": {},
   "source": [
    "## 4)"
   ]
  },
  {
   "cell_type": "code",
   "execution_count": null,
   "id": "c3d23bea",
   "metadata": {
    "ExecuteTime": {
     "end_time": "2021-08-10T02:36:46.884504Z",
     "start_time": "2021-08-10T02:36:46.821674Z"
    }
   },
   "outputs": [],
   "source": [
    "food_gu.reset_index().pivot_table(index='시군구명',columns='상권업종중분류명',values='지번주소')"
   ]
  },
  {
   "cell_type": "markdown",
   "id": "0ba01fe8",
   "metadata": {},
   "source": [
    "## 5)"
   ]
  },
  {
   "cell_type": "code",
   "execution_count": null,
   "id": "4a0cb4ba",
   "metadata": {
    "ExecuteTime": {
     "end_time": "2021-08-10T02:36:47.216554Z",
     "start_time": "2021-08-10T02:36:46.982243Z"
    }
   },
   "outputs": [],
   "source": [
    "a=food_gu.reset_index().groupby(['시군구명','상권업종중분류명'])['지번주소'].sum().unstack()\n",
    "a.loc['강남구',:].plot(kind='bar')"
   ]
  },
  {
   "cell_type": "markdown",
   "id": "c6fef335",
   "metadata": {},
   "source": [
    "## 6)"
   ]
  },
  {
   "cell_type": "code",
   "execution_count": null,
   "id": "49de3987",
   "metadata": {
    "ExecuteTime": {
     "end_time": "2021-08-10T02:36:47.847241Z",
     "start_time": "2021-08-10T02:36:47.345234Z"
    }
   },
   "outputs": [],
   "source": [
    "plt.figure(figsize=(20,15))\n",
    "t=sns.barplot(x=a.index,y=a.sum(axis=1))\n",
    "plt.title('구별 음식점 상호갯수')\n",
    "plt.xlabel('시군구별')\n",
    "plt.ylabel('상호수')\n",
    "plt.show()"
   ]
  },
  {
   "cell_type": "markdown",
   "id": "be9cd606",
   "metadata": {
    "ExecuteTime": {
     "end_time": "2021-08-06T08:41:40.318000Z",
     "start_time": "2021-08-06T08:41:40.298053Z"
    }
   },
   "source": [
    "## 7)"
   ]
  },
  {
   "cell_type": "code",
   "execution_count": null,
   "id": "6d5ece0d",
   "metadata": {
    "ExecuteTime": {
     "end_time": "2021-08-10T02:36:48.337662Z",
     "start_time": "2021-08-10T02:36:47.975912Z"
    }
   },
   "outputs": [],
   "source": [
    "plt.figure(figsize=(20,15))\n",
    "sns.barplot(x=a.columns,y=a.sum(axis=0))\n",
    "plt.title('상권업종중분류별 음식점 상호갯수')\n",
    "plt.xlabel('상권업종중분류별')\n",
    "plt.ylabel('상호수')"
   ]
  },
  {
   "cell_type": "markdown",
   "id": "8430f98a",
   "metadata": {},
   "source": [
    "## 8)"
   ]
  },
  {
   "cell_type": "code",
   "execution_count": null,
   "id": "0a54dc44",
   "metadata": {
    "ExecuteTime": {
     "end_time": "2021-08-10T02:36:48.513070Z",
     "start_time": "2021-08-10T02:36:48.483129Z"
    }
   },
   "outputs": [],
   "source": [
    "g=a.reset_index().melt(id_vars='시군구명',value_name='개수')\n",
    "g"
   ]
  },
  {
   "cell_type": "code",
   "execution_count": null,
   "id": "6b28b74f",
   "metadata": {
    "ExecuteTime": {
     "end_time": "2021-08-10T02:38:44.353330Z",
     "start_time": "2021-08-10T02:36:48.641700Z"
    }
   },
   "outputs": [],
   "source": [
    "g1= sns.catplot(data=g, x='상권업종중분류명',y='개수', hue='시군구명', col='시군구명', col_wrap=2, sharey=False, sharex=False)\n",
    "g1.fig.subplots_adjust(hspace=1.2)\n",
    "g1.set_xticklabels(rotation=90)"
   ]
  },
  {
   "cell_type": "markdown",
   "id": "59455ed8",
   "metadata": {},
   "source": [
    "## 9)"
   ]
  },
  {
   "cell_type": "code",
   "execution_count": null,
   "id": "f8ed8bf4",
   "metadata": {
    "ExecuteTime": {
     "end_time": "2021-08-10T02:40:37.888873Z",
     "start_time": "2021-08-10T02:38:44.512872Z"
    }
   },
   "outputs": [],
   "source": [
    "g1=sns.catplot(data=g, x='시군구명',y='개수', hue='상권업종중분류명', col='상권업종중분류명', col_wrap=2, sharey=False)\n",
    "g1.set_xticklabels(rotation=90)"
   ]
  },
  {
   "cell_type": "markdown",
   "id": "7509e669",
   "metadata": {},
   "source": [
    "# 13"
   ]
  },
  {
   "cell_type": "markdown",
   "id": "8046fb46",
   "metadata": {},
   "source": [
    "## 1)"
   ]
  },
  {
   "cell_type": "code",
   "execution_count": null,
   "id": "0fe3816c",
   "metadata": {
    "ExecuteTime": {
     "end_time": "2021-08-10T02:40:38.110092Z",
     "start_time": "2021-08-10T02:40:38.032633Z"
    }
   },
   "outputs": [],
   "source": [
    "df_academy=df[df['상권업종대분류명']=='학문/교육'].copy()\n",
    "df_academy.head()"
   ]
  },
  {
   "cell_type": "code",
   "execution_count": null,
   "id": "67c50ec5",
   "metadata": {
    "ExecuteTime": {
     "end_time": "2021-08-10T02:40:38.300470Z",
     "start_time": "2021-08-10T02:40:38.270550Z"
    }
   },
   "outputs": [],
   "source": [
    "df_academy.info()"
   ]
  },
  {
   "cell_type": "markdown",
   "id": "8c71ce70",
   "metadata": {},
   "source": [
    "## 2)"
   ]
  },
  {
   "cell_type": "code",
   "execution_count": null,
   "id": "c5c0cd46",
   "metadata": {
    "ExecuteTime": {
     "end_time": "2021-08-10T02:40:38.490917Z",
     "start_time": "2021-08-10T02:40:38.460969Z"
    }
   },
   "outputs": [],
   "source": [
    "df_academy['상호명'].value_counts()"
   ]
  },
  {
   "cell_type": "markdown",
   "id": "773e8b59",
   "metadata": {},
   "source": [
    "## 3)"
   ]
  },
  {
   "cell_type": "code",
   "execution_count": null,
   "id": "f141c777",
   "metadata": {
    "ExecuteTime": {
     "end_time": "2021-08-10T02:40:38.679789Z",
     "start_time": "2021-08-10T02:40:38.649862Z"
    }
   },
   "outputs": [],
   "source": [
    "df_academy['상호명'].value_counts().head(10)"
   ]
  },
  {
   "cell_type": "markdown",
   "id": "de579ecc",
   "metadata": {},
   "source": [
    "## 4)"
   ]
  },
  {
   "cell_type": "code",
   "execution_count": null,
   "id": "9a49de2f",
   "metadata": {
    "ExecuteTime": {
     "end_time": "2021-08-10T02:40:38.855136Z",
     "start_time": "2021-08-10T02:40:38.840153Z"
    }
   },
   "outputs": [],
   "source": [
    "df_academy['시군구명'].value_counts()"
   ]
  },
  {
   "cell_type": "markdown",
   "id": "4a2c374f",
   "metadata": {},
   "source": [
    "## 5)"
   ]
  },
  {
   "cell_type": "code",
   "execution_count": null,
   "id": "838b81d6",
   "metadata": {
    "ExecuteTime": {
     "end_time": "2021-08-10T02:40:39.013435Z",
     "start_time": "2021-08-10T02:40:38.998475Z"
    }
   },
   "outputs": [],
   "source": [
    "academy_count=df_academy['상권업종소분류명'].value_counts().head(30)\n",
    "academy_count"
   ]
  },
  {
   "cell_type": "markdown",
   "id": "4ac51216",
   "metadata": {},
   "source": [
    "## 6)"
   ]
  },
  {
   "cell_type": "code",
   "execution_count": null,
   "id": "4db70cc3",
   "metadata": {
    "ExecuteTime": {
     "end_time": "2021-08-10T02:40:39.187505Z",
     "start_time": "2021-08-10T02:40:39.173505Z"
    }
   },
   "outputs": [],
   "source": [
    "academy_count_1000=academy_count[academy_count>=1000]\n",
    "academy_count_1000"
   ]
  },
  {
   "cell_type": "markdown",
   "id": "8ab5eead",
   "metadata": {},
   "source": [
    "## 7)"
   ]
  },
  {
   "cell_type": "code",
   "execution_count": null,
   "id": "1c4ba94c",
   "metadata": {
    "ExecuteTime": {
     "end_time": "2021-08-10T02:40:39.378335Z",
     "start_time": "2021-08-10T02:40:39.348589Z"
    }
   },
   "outputs": [],
   "source": [
    "academy_group=df_academy.groupby(['시군구명','상권업종소분류명'])['상호명'].count()\n",
    "academy_group.to_frame()"
   ]
  },
  {
   "cell_type": "markdown",
   "id": "064ac382",
   "metadata": {},
   "source": [
    "## 8)"
   ]
  },
  {
   "cell_type": "code",
   "execution_count": null,
   "id": "b9ed07d3",
   "metadata": {
    "ExecuteTime": {
     "end_time": "2021-08-10T02:40:39.552583Z",
     "start_time": "2021-08-10T02:40:39.538621Z"
    }
   },
   "outputs": [],
   "source": [
    "g=academy_group.to_frame().loc['강남구',]\n",
    "g"
   ]
  },
  {
   "cell_type": "code",
   "execution_count": null,
   "id": "d707cf66",
   "metadata": {
    "ExecuteTime": {
     "end_time": "2021-08-10T02:40:39.726700Z",
     "start_time": "2021-08-10T02:40:39.711740Z"
    }
   },
   "outputs": [],
   "source": [
    "g.reset_index()"
   ]
  },
  {
   "cell_type": "code",
   "execution_count": null,
   "id": "7b30374e",
   "metadata": {
    "ExecuteTime": {
     "end_time": "2021-08-10T02:40:41.782609Z",
     "start_time": "2021-08-10T02:40:39.886822Z"
    }
   },
   "outputs": [],
   "source": [
    "plt.figure(figsize=(20,15))\n",
    "g1=sns.barplot(x='상권업종소분류명',y='상호명', data=g.reset_index())\n",
    "for i, j in enumerate(g.reset_index().상권업종소분류명):\n",
    "    plt.text(i, g.reset_index().상호명[i], g.reset_index().상호명[i],horizontalalignment='center',va='bottom')\n",
    "plt.xticks(rotation=90)\n",
    "plt.show()"
   ]
  },
  {
   "cell_type": "markdown",
   "id": "98c41181",
   "metadata": {},
   "source": [
    "## 9)"
   ]
  },
  {
   "cell_type": "code",
   "execution_count": null,
   "id": "9e2c7317",
   "metadata": {
    "ExecuteTime": {
     "end_time": "2021-08-10T02:40:41.957618Z",
     "start_time": "2021-08-10T02:40:41.942659Z"
    }
   },
   "outputs": [],
   "source": [
    "df_academy[(df_academy['법정동명']=='대치동')|(df_academy['법정동명']=='목동')]['상권업종소분류명'].value_counts()"
   ]
  },
  {
   "cell_type": "markdown",
   "id": "c5cd2866",
   "metadata": {},
   "source": [
    "## 10."
   ]
  },
  {
   "cell_type": "code",
   "execution_count": null,
   "id": "d89adfd1",
   "metadata": {
    "ExecuteTime": {
     "end_time": "2021-08-10T02:40:42.149235Z",
     "start_time": "2021-08-10T02:40:42.118326Z"
    }
   },
   "outputs": [],
   "source": [
    "g=df_academy.groupby(['상권업종소분류명','시군구명'])['상호명'].count().to_frame()\n",
    "g"
   ]
  },
  {
   "cell_type": "markdown",
   "id": "ddc858f6",
   "metadata": {},
   "source": [
    "## 11."
   ]
  },
  {
   "cell_type": "code",
   "execution_count": null,
   "id": "0bd0d48e",
   "metadata": {
    "ExecuteTime": {
     "end_time": "2021-08-10T02:40:42.323864Z",
     "start_time": "2021-08-10T02:40:42.308909Z"
    }
   },
   "outputs": [],
   "source": [
    "g1=g.loc['학원-입시',]\n",
    "g1.T"
   ]
  },
  {
   "cell_type": "code",
   "execution_count": null,
   "id": "8d5d9168",
   "metadata": {
    "ExecuteTime": {
     "end_time": "2021-08-10T02:40:43.001481Z",
     "start_time": "2021-08-10T02:40:42.483717Z"
    }
   },
   "outputs": [],
   "source": [
    "g1.plot(kind='bar',figsize=(20,15))"
   ]
  },
  {
   "cell_type": "code",
   "execution_count": null,
   "id": "35aa4d1b",
   "metadata": {
    "ExecuteTime": {
     "end_time": "2021-08-10T02:40:43.690869Z",
     "start_time": "2021-08-10T02:40:43.161301Z"
    }
   },
   "outputs": [],
   "source": [
    "g1.plot(kind='barh',figsize=(20,15))"
   ]
  },
  {
   "cell_type": "code",
   "execution_count": null,
   "id": "34b7d3c4",
   "metadata": {
    "ExecuteTime": {
     "end_time": "2021-08-10T02:40:44.740894Z",
     "start_time": "2021-08-10T02:40:43.851435Z"
    }
   },
   "outputs": [],
   "source": [
    "plt.figure(figsize=(20,15))\n",
    "g2=sns.barplot(x='시군구명',y='상호명',data=g1.reset_index())\n",
    "for i, j in enumerate(g1.reset_index().시군구명):\n",
    "    plt.text(i, g1.reset_index().상호명[i], g1.reset_index().상호명[i],horizontalalignment='center',va='bottom')\n",
    "plt.xticks(rotation=90)\n",
    "plt.show()"
   ]
  },
  {
   "cell_type": "markdown",
   "id": "42f4c7a3",
   "metadata": {},
   "source": [
    "# 14."
   ]
  },
  {
   "cell_type": "markdown",
   "id": "32e9db0e",
   "metadata": {},
   "source": [
    "## 1)"
   ]
  },
  {
   "cell_type": "code",
   "execution_count": null,
   "id": "ac1db584",
   "metadata": {
    "ExecuteTime": {
     "end_time": "2021-08-10T02:40:47.114837Z",
     "start_time": "2021-08-10T02:40:44.901905Z"
    }
   },
   "outputs": [],
   "source": [
    "plt.figure(figsize=(20,15))\n",
    "sns.scatterplot(x='경도',y='위도',data=df_academy[df_academy['시도명']=='서울특별시'], hue='시군구명')"
   ]
  },
  {
   "cell_type": "markdown",
   "id": "5a9ce2fd",
   "metadata": {
    "ExecuteTime": {
     "end_time": "2021-08-09T02:11:22.481790Z",
     "start_time": "2021-08-09T02:11:22.454839Z"
    }
   },
   "source": [
    "## 2."
   ]
  },
  {
   "cell_type": "code",
   "execution_count": null,
   "id": "8ed9f600",
   "metadata": {
    "ExecuteTime": {
     "end_time": "2021-08-10T02:40:47.288760Z",
     "start_time": "2021-08-10T02:40:47.273733Z"
    }
   },
   "outputs": [],
   "source": [
    "academy_count_1000.reset_index()['index']"
   ]
  },
  {
   "cell_type": "code",
   "execution_count": null,
   "id": "99100e32",
   "metadata": {
    "ExecuteTime": {
     "end_time": "2021-08-10T02:40:51.910996Z",
     "start_time": "2021-08-10T02:40:47.449387Z"
    }
   },
   "outputs": [],
   "source": [
    "plt.figure(figsize=(20,15))\n",
    "sns.scatterplot(x='경도',y='위도',data=df_academy[df_academy['시도명']=='서울특별시'], hue='상권업종소분류명')\n",
    "plt.legend(bbox_to_anchor=(1.05, 1), loc=2, borderaxespad=0.)"
   ]
  },
  {
   "cell_type": "markdown",
   "id": "175e6fbf",
   "metadata": {},
   "source": [
    "## 3."
   ]
  },
  {
   "cell_type": "code",
   "execution_count": null,
   "id": "d1f28478",
   "metadata": {
    "ExecuteTime": {
     "end_time": "2021-08-10T02:40:53.180962Z",
     "start_time": "2021-08-10T02:40:52.070832Z"
    }
   },
   "outputs": [],
   "source": [
    "plt.figure(figsize=(20,15))\n",
    "sns.scatterplot(x='경도',y='위도',data=df_academy[(df_academy['시도명']=='서울특별시')&(df_academy['상권업종소분류명']=='학원-입시')], hue='시군구명')\n",
    "plt.legend(bbox_to_anchor=(1.05, 1), loc=2, borderaxespad=0.)"
   ]
  },
  {
   "cell_type": "markdown",
   "id": "0ff3cb06",
   "metadata": {},
   "source": [
    "## 4. "
   ]
  },
  {
   "cell_type": "code",
   "execution_count": null,
   "id": "095884d5",
   "metadata": {
    "ExecuteTime": {
     "end_time": "2021-08-10T02:40:54.417601Z",
     "start_time": "2021-08-10T02:40:53.357017Z"
    }
   },
   "outputs": [],
   "source": [
    "plt.figure(figsize=(20,15))\n",
    "sns.scatterplot(x='경도',y='위도',data=df_academy[(df_academy['시도명']=='서울특별시')&(df_academy['상권업종소분류명']=='어린이집')], hue='시군구명')\n",
    "plt.legend(bbox_to_anchor=(1.05, 1), loc=2, borderaxespad=0.)"
   ]
  },
  {
   "cell_type": "markdown",
   "id": "143a2056",
   "metadata": {},
   "source": [
    "## 5."
   ]
  },
  {
   "cell_type": "code",
   "execution_count": null,
   "id": "2895d4d1",
   "metadata": {
    "ExecuteTime": {
     "end_time": "2021-08-10T02:40:55.310696Z",
     "start_time": "2021-08-10T02:40:54.580071Z"
    }
   },
   "outputs": [],
   "source": [
    "plt.figure(figsize=(20,15))\n",
    "sns.scatterplot(x='경도',y='위도',data=df_academy[(df_academy['시도명']=='서울특별시')&((df_academy['상권업종소분류명']=='학원-입시')|(df_academy['상권업종소분류명']=='어린이집'))], hue='상권업종소분류명')"
   ]
  },
  {
   "cell_type": "markdown",
   "id": "a023d73c",
   "metadata": {},
   "source": [
    "# 15 지도 시각화\n",
    "### http://nbviewer.jupyter.org/github/python-visualization/folium/tree/master/examples/\n",
    "* pip install folium"
   ]
  },
  {
   "cell_type": "code",
   "execution_count": null,
   "id": "d1b11eef",
   "metadata": {
    "ExecuteTime": {
     "end_time": "2021-08-10T02:40:55.548836Z",
     "start_time": "2021-08-10T02:40:55.470685Z"
    }
   },
   "outputs": [],
   "source": [
    "df_academy=df[(df['상권업종대분류명']=='학문/교육') & (df['시도명']=='서울특별시')].copy()\n",
    "lat_mean=df_academy.위도.mean()\n",
    "long_mean=df_academy.경도.mean()"
   ]
  },
  {
   "cell_type": "code",
   "execution_count": null,
   "id": "9b9bb780",
   "metadata": {
    "ExecuteTime": {
     "end_time": "2021-08-10T02:42:00.052759Z",
     "start_time": "2021-08-10T02:42:00.015859Z"
    }
   },
   "outputs": [],
   "source": [
    "df_m=df_academy[df_academy['상권업종소분류명'].isin(['학원-입시','어린이집'])].copy()\n",
    "df_m.sample(10)"
   ]
  },
  {
   "cell_type": "code",
   "execution_count": null,
   "id": "eee63d04",
   "metadata": {
    "ExecuteTime": {
     "end_time": "2021-08-10T02:40:56.693461Z",
     "start_time": "2021-08-10T02:40:56.025474Z"
    }
   },
   "outputs": [],
   "source": [
    "import folium"
   ]
  },
  {
   "cell_type": "code",
   "execution_count": null,
   "id": "b38c6ca9",
   "metadata": {
    "ExecuteTime": {
     "end_time": "2021-08-10T02:58:28.591173Z",
     "start_time": "2021-08-10T02:58:28.529304Z"
    },
    "scrolled": true
   },
   "outputs": [],
   "source": [
    "m = folium.Map(location=[lat_mean, long_mean], zoom_start=11) #위도, 경도\n",
    "for i in df_m.sample(20).index:\n",
    "    folium.Marker(\n",
    "        [df_m.loc[i,'위도'], df_m.loc[i,'경도']], popup='클릭하지마아아아아', tooltip=df_m.loc[i,'상호명']+'-'+ df_m.loc[i,'도로명주소']\n",
    "    ).add_to(m)\n",
    "m"
   ]
  },
  {
   "cell_type": "code",
   "execution_count": null,
   "id": "cc3e9e12",
   "metadata": {
    "ExecuteTime": {
     "end_time": "2021-08-10T03:07:01.982243Z",
     "start_time": "2021-08-10T03:06:54.068707Z"
    },
    "scrolled": true
   },
   "outputs": [],
   "source": [
    "m = folium.Map(location=[lat_mean, long_mean], zoom_start=11) #위도, 경도\n",
    "for i in df_m.index:\n",
    "    folium.CircleMarker(\n",
    "        location=[df_m.loc[i,'위도'], df_m.loc[i,'경도']],\n",
    "        radius=1.5,\n",
    "        color=\"#3186cc\",\n",
    "        tooltip=df_m.loc[i,'상호명']+'-'+ df_m.loc[i,'도로명주소']\n",
    "    ).add_to(m)\n",
    "m"
   ]
  },
  {
   "cell_type": "code",
   "execution_count": null,
   "id": "fcc2b048",
   "metadata": {
    "ExecuteTime": {
     "end_time": "2021-08-10T03:09:23.260964Z",
     "start_time": "2021-08-10T03:09:23.240014Z"
    }
   },
   "outputs": [],
   "source": [
    "df1 = df_m[df_m['상권업종소분류명']=='어린이집']\n",
    "df1.shape"
   ]
  },
  {
   "cell_type": "code",
   "execution_count": null,
   "id": "686bf45e",
   "metadata": {
    "ExecuteTime": {
     "end_time": "2021-08-10T03:09:46.534373Z",
     "start_time": "2021-08-10T03:09:46.515396Z"
    }
   },
   "outputs": [],
   "source": [
    "df2 = df_m[df_m['상권업종소분류명']=='학원-입시']\n",
    "df2.shape"
   ]
  },
  {
   "cell_type": "code",
   "execution_count": null,
   "id": "a44ecfad",
   "metadata": {
    "ExecuteTime": {
     "end_time": "2021-08-10T03:13:49.564498Z",
     "start_time": "2021-08-10T03:13:41.618544Z"
    },
    "scrolled": true
   },
   "outputs": [],
   "source": [
    "m = folium.Map(location=[lat_mean, long_mean], zoom_start=11) #위도, 경도\n",
    "for i in df1.index:\n",
    "    folium.CircleMarker(\n",
    "        location=[df_m.loc[i,'위도'], df_m.loc[i,'경도']],\n",
    "        radius=1.5,\n",
    "        color=\"blue\",\n",
    "        tooltip=df_m.loc[i,'상호명']+'-'+ df_m.loc[i,'도로명주소']\n",
    "    ).add_to(m)\n",
    "for i in df2.index:\n",
    "    folium.CircleMarker(\n",
    "        location=[df_m.loc[i,'위도'], df_m.loc[i,'경도']],\n",
    "        radius=1.5,\n",
    "        color=\"red\",\n",
    "        tooltip=df_m.loc[i,'상호명']+'-'+ df_m.loc[i,'도로명주소']\n",
    "    ).add_to(m)\n",
    "m"
   ]
  },
  {
   "cell_type": "code",
   "execution_count": null,
   "id": "f578a4bb",
   "metadata": {
    "ExecuteTime": {
     "end_time": "2021-08-10T03:16:59.110786Z",
     "start_time": "2021-08-10T03:16:52.186270Z"
    }
   },
   "outputs": [],
   "source": [
    "m.save('data/ch13_seoul_academy.html')"
   ]
  },
  {
   "cell_type": "code",
   "execution_count": null,
   "id": "a0b2d6f6",
   "metadata": {},
   "outputs": [],
   "source": []
  }
 ],
 "metadata": {
  "kernelspec": {
   "display_name": "Python 3",
   "language": "python",
   "name": "python3"
  },
  "language_info": {
   "codemirror_mode": {
    "name": "ipython",
    "version": 3
   },
   "file_extension": ".py",
   "mimetype": "text/x-python",
   "name": "python",
   "nbconvert_exporter": "python",
   "pygments_lexer": "ipython3",
   "version": "3.8.8"
  },
  "toc": {
   "base_numbering": 1,
   "nav_menu": {},
   "number_sections": false,
   "sideBar": true,
   "skip_h1_title": false,
   "title_cell": "Table of Contents",
   "title_sidebar": "Contents",
   "toc_cell": false,
   "toc_position": {},
   "toc_section_display": true,
   "toc_window_display": true
  },
  "varInspector": {
   "cols": {
    "lenName": 16,
    "lenType": 16,
    "lenVar": 40
   },
   "kernels_config": {
    "python": {
     "delete_cmd_postfix": "",
     "delete_cmd_prefix": "del ",
     "library": "var_list.py",
     "varRefreshCmd": "print(var_dic_list())"
    },
    "r": {
     "delete_cmd_postfix": ") ",
     "delete_cmd_prefix": "rm(",
     "library": "var_list.r",
     "varRefreshCmd": "cat(var_dic_list()) "
    }
   },
   "position": {
    "height": "144px",
    "left": "935px",
    "right": "20px",
    "top": "120px",
    "width": "350px"
   },
   "types_to_exclude": [
    "module",
    "function",
    "builtin_function_or_method",
    "instance",
    "_Feature"
   ],
   "window_display": false
  }
 },
 "nbformat": 4,
 "nbformat_minor": 5
}
