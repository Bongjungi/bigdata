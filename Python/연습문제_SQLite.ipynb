{
 "cells": [
  {
   "cell_type": "code",
   "execution_count": 15,
   "id": "2facfdcf",
   "metadata": {
    "ExecuteTime": {
     "end_time": "2021-07-28T07:21:10.474694Z",
     "start_time": "2021-07-28T07:21:10.453761Z"
    }
   },
   "outputs": [],
   "source": [
    "class Member:\n",
    "    def __init__(self, name, phone, email, age, grade, etc):\n",
    "        self.name=name\n",
    "        self.phone=phone\n",
    "        self.email=email\n",
    "        self.age=age\n",
    "        self.grade=grade\n",
    "        self.etc=etc\n",
    "    def as_dic(self): #객체를 딕셔너리로 반환 (csv파일 저장시)\n",
    "        return {'name':self.name, 'phone':self.phone, 'email':self.email, 'age':self.age, 'grade':self.grade, 'etc':self.etc}\n",
    "    def as_list(self): #객체를 \"홍길동 010-9999-9999 e@e.com 20 3 까칠\"\n",
    "        return [self.name, self.phone, self.email, self.age, self.grade, self.etc]\n",
    "    def __str__(self): # *** 홍길동 010-9999-9999 e@e.com 20 까칠\n",
    "        return \"{:>5}\\t{:3}\\t{:15}\\t{:15}\\t{:3}\\t{}\".format('*'*self.grade, self.name, self.phone, self.email, self.age, self.etc)        "
   ]
  },
  {
   "cell_type": "code",
   "execution_count": 16,
   "id": "8657790e",
   "metadata": {
    "ExecuteTime": {
     "end_time": "2021-07-28T07:21:10.867715Z",
     "start_time": "2021-07-28T07:21:10.638143Z"
    }
   },
   "outputs": [],
   "source": [
    "import sqlite3\n",
    "conn=sqlite3.connect('data.db')\n",
    "cursor = conn.cursor()\n",
    "try:\n",
    "    cursor.execute(\"DROP TABLE MEMBER\")\n",
    "except:\n",
    "    pass"
   ]
  },
  {
   "cell_type": "code",
   "execution_count": 17,
   "id": "02355a15",
   "metadata": {
    "ExecuteTime": {
     "end_time": "2021-07-28T07:21:11.073003Z",
     "start_time": "2021-07-28T07:21:10.899896Z"
    }
   },
   "outputs": [
    {
     "data": {
      "text/plain": [
       "<sqlite3.Cursor at 0x227f0cd7650>"
      ]
     },
     "execution_count": 17,
     "metadata": {},
     "output_type": "execute_result"
    }
   ],
   "source": [
    "cursor.execute(\"\"\"\n",
    "    CREATE TABLE MEMBER(\n",
    "        name TEXT,\n",
    "        phone TEXT,\n",
    "        email TEXT,\n",
    "        age INT,\n",
    "        grade INT,\n",
    "        etc TEXT\n",
    "    )\n",
    "\"\"\")"
   ]
  },
  {
   "cell_type": "code",
   "execution_count": 18,
   "id": "f84ecbbc",
   "metadata": {
    "ExecuteTime": {
     "end_time": "2021-07-28T07:21:11.119795Z",
     "start_time": "2021-07-28T07:21:11.105691Z"
    }
   },
   "outputs": [],
   "source": [
    "#1. 입력\n",
    "def insert_member():\n",
    "    cursor=conn.cursor()\n",
    "    name=input(\"이름 : \")\n",
    "    phone=input(\"전화번호 : \")\n",
    "    email = input(\"이메일 : \")\n",
    "    age=int(input(\"나이 : \"))\n",
    "    grade=int(input(\"고객등급(1~5) : \"))\n",
    "    etc=input(\"기타 정보 : \")\n",
    "    member=Member(name,phone,email,age,grade,etc)\n",
    "    cursor.execute(\"INSERT INTO MEMBER VALUES (:name, :phone, :email, :age, :grade, :etc)\",member.as_dic())\n",
    "    conn.commit()\n",
    "    cursor.close()\n",
    "    pass"
   ]
  },
  {
   "cell_type": "code",
   "execution_count": 19,
   "id": "c031c318",
   "metadata": {
    "ExecuteTime": {
     "end_time": "2021-07-28T07:21:11.290288Z",
     "start_time": "2021-07-28T07:21:11.271317Z"
    }
   },
   "outputs": [],
   "source": [
    "#2. 전체 출력\n",
    "def select_all():\n",
    "    import pandas as pd\n",
    "    cursor=conn.cursor()\n",
    "    cursor.execute(\"SELECT * FROM MEMBER\")\n",
    "    #members=cursor.fetchall() #왜 cussor.fetchall()만 하면 안 되지????\n",
    "    data=cursor.fetchall()\n",
    "    data_df=pd.DataFrame(data)\n",
    "    data_df.columns=[row[0] for row in cursor.description]\n",
    "    print(data_df)\n",
    "    cursor.close()\n",
    "    pass"
   ]
  },
  {
   "cell_type": "code",
   "execution_count": 20,
   "id": "fa3afe04",
   "metadata": {
    "ExecuteTime": {
     "end_time": "2021-07-28T07:21:11.556226Z",
     "start_time": "2021-07-28T07:21:11.540291Z"
    }
   },
   "outputs": [],
   "source": [
    "#3. 이름찾기\n",
    "def select_name():\n",
    "    cursor=conn.cursor()\n",
    "    name=input(\"이름 : \")\n",
    "    cursor.execute(\"SELECT * FROM MEMBER WHERE NAME = :name\",{'name':name})\n",
    "    members=cursor.fetchall() #왜 cussor.fetchall()만 하면 안 되지????\n",
    "    for i in members:\n",
    "        print(i)\n",
    "    cursor.close()\n",
    "    pass"
   ]
  },
  {
   "cell_type": "code",
   "execution_count": 21,
   "id": "a17b9e97",
   "metadata": {
    "ExecuteTime": {
     "end_time": "2021-07-28T07:21:11.820997Z",
     "start_time": "2021-07-28T07:21:11.815006Z"
    }
   },
   "outputs": [],
   "source": [
    "#4. 메일 삭제 (했으면 했다,안했으면 안했다.)\n",
    "def delete_member():\n",
    "    cursor=conn.cursor()\n",
    "    email=input(\"이메일 : \")\n",
    "    cursor.execute(\"SELECT * FROM MEMBER WHERE EMAIL=?\",(email,))\n",
    "    member=cursor.fetchall()\n",
    "    if len(member)==0:\n",
    "        print(\"그런 이메일 없다\")\n",
    "    else :\n",
    "        print(\"해당 이메일 보유자 삭제 완료\")\n",
    "    cursor.execute(\"DELETE FROM MEMBER WHERE EMAIL=?\",(email,))\n",
    "    conn.commit()\n",
    "    cursor.close()\n",
    "    pass"
   ]
  },
  {
   "cell_type": "code",
   "execution_count": 22,
   "id": "9cb465f9",
   "metadata": {
    "ExecuteTime": {
     "end_time": "2021-07-28T07:21:12.131463Z",
     "start_time": "2021-07-28T07:21:12.124486Z"
    }
   },
   "outputs": [],
   "source": [
    "#5. 내보내기 (csv 헤더 포함)\n",
    "def save_csv():\n",
    "    import csv\n",
    "    cursor=conn.cursor()\n",
    "    filename=input(\"파일명 : \")\n",
    "    members_list=[]\n",
    "    cursor.execute(\"SELECT * FROM MEMBER\")\n",
    "    members=cursor.fetchall()\n",
    "    for i in members:\n",
    "        member=Member(i[0],i[1],i[2],i[3],i[4],i[5])\n",
    "        members_list.append(member)\n",
    "    with open(filename,\"w\", encoding=\"utf-8\", newline=\"\") as f:\n",
    "        dict_writer = csv.DictWriter(f, fieldnames=[row[0] for row in cursor.description])\n",
    "        dict_writer.writeheader()\n",
    "        for m in members_list:\n",
    "            dict_writer.writerow(m.as_dic())\n",
    "    cursor.close()\n",
    "    pass"
   ]
  },
  {
   "cell_type": "code",
   "execution_count": 23,
   "id": "cab08fbe",
   "metadata": {
    "ExecuteTime": {
     "end_time": "2021-07-28T07:21:12.553844Z",
     "start_time": "2021-07-28T07:21:12.544848Z"
    }
   },
   "outputs": [],
   "source": [
    "#0. 종료하기\n",
    "def close_sql():\n",
    "    conn.close()\n",
    "    pass"
   ]
  },
  {
   "cell_type": "code",
   "execution_count": 24,
   "id": "3b777356",
   "metadata": {
    "ExecuteTime": {
     "end_time": "2021-07-28T07:21:13.101777Z",
     "start_time": "2021-07-28T07:21:13.089786Z"
    }
   },
   "outputs": [],
   "source": [
    "def main():\n",
    "    while True:\n",
    "        print(\"1:입력|2:전체조회|3:이름찾기|4:메일삭제|5:내보내기(CSV)|0:종료\")\n",
    "        try:\n",
    "            fn=int(input('메뉴 선택 : '))\n",
    "        except Exception:\n",
    "            print(\"숫자 1,2,3,4,5,0 중에 하나를 입력하시오\")\n",
    "            continue\n",
    "        if fn==1:\n",
    "            insert_member()\n",
    "        elif fn==2:\n",
    "            select_all()\n",
    "        elif fn==3:\n",
    "            select_name()\n",
    "        elif fn==4:\n",
    "            delete_member()\n",
    "        elif fn==5:\n",
    "            save_csv()\n",
    "        elif fn==0:\n",
    "            close_sql()\n",
    "            break"
   ]
  },
  {
   "cell_type": "code",
   "execution_count": 25,
   "id": "0eda186f",
   "metadata": {
    "ExecuteTime": {
     "end_time": "2021-07-28T07:23:09.380887Z",
     "start_time": "2021-07-28T07:21:24.299695Z"
    }
   },
   "outputs": [
    {
     "name": "stdout",
     "output_type": "stream",
     "text": [
      "1:입력|2:전체조회|3:이름찾기|4:메일삭제|5:내보내기(CSV)|0:종료\n",
      "메뉴 선택 : 1\n",
      "이름 : 홍길동\n",
      "전화번호 : 010-9999-9999\n",
      "이메일 : a@naver.com\n",
      "나이 : 20\n",
      "고객등급(1~5) : 2\n",
      "기타 정보 : a\n",
      "1:입력|2:전체조회|3:이름찾기|4:메일삭제|5:내보내기(CSV)|0:종료\n",
      "메뉴 선택 : 1\n",
      "이름 : 마길동\n",
      "전화번호 : 010-8888-8888\n",
      "이메일 : b@naver.com\n",
      "나이 : 21\n",
      "고객등급(1~5) : 4\n",
      "기타 정보 : b\n",
      "1:입력|2:전체조회|3:이름찾기|4:메일삭제|5:내보내기(CSV)|0:종료\n",
      "메뉴 선택 : 2\n",
      "  name          phone        email  age  grade etc\n",
      "0  홍길동  010-9999-9999  a@naver.com   20      2   a\n",
      "1  마길동  010-8888-8888  b@naver.com   21      4   b\n",
      "1:입력|2:전체조회|3:이름찾기|4:메일삭제|5:내보내기(CSV)|0:종료\n",
      "메뉴 선택 : 3\n",
      "이름 : 마길동\n",
      "('마길동', '010-8888-8888', 'b@naver.com', 21, 4, 'b')\n",
      "1:입력|2:전체조회|3:이름찾기|4:메일삭제|5:내보내기(CSV)|0:종료\n",
      "메뉴 선택 : 4\n",
      "이메일 : b@naver.com\n",
      "해당 이메일 보유자 삭제 완료\n",
      "1:입력|2:전체조회|3:이름찾기|4:메일삭제|5:내보내기(CSV)|0:종료\n",
      "메뉴 선택 : 5\n",
      "파일명 : data/exam.csv\n",
      "1:입력|2:전체조회|3:이름찾기|4:메일삭제|5:내보내기(CSV)|0:종료\n",
      "메뉴 선택 : 0\n"
     ]
    }
   ],
   "source": [
    "if __name__==\"__main__\":\n",
    "    import sqlite3\n",
    "    global conn\n",
    "    conn=sqlite3.connect('data.db')\n",
    "    main()"
   ]
  },
  {
   "cell_type": "code",
   "execution_count": null,
   "id": "28bfc829",
   "metadata": {},
   "outputs": [],
   "source": []
  }
 ],
 "metadata": {
  "kernelspec": {
   "display_name": "Python 3",
   "language": "python",
   "name": "python3"
  },
  "language_info": {
   "codemirror_mode": {
    "name": "ipython",
    "version": 3
   },
   "file_extension": ".py",
   "mimetype": "text/x-python",
   "name": "python",
   "nbconvert_exporter": "python",
   "pygments_lexer": "ipython3",
   "version": "3.8.8"
  },
  "toc": {
   "base_numbering": 1,
   "nav_menu": {},
   "number_sections": true,
   "sideBar": true,
   "skip_h1_title": false,
   "title_cell": "Table of Contents",
   "title_sidebar": "Contents",
   "toc_cell": false,
   "toc_position": {},
   "toc_section_display": true,
   "toc_window_display": false
  },
  "varInspector": {
   "cols": {
    "lenName": 16,
    "lenType": 16,
    "lenVar": 40
   },
   "kernels_config": {
    "python": {
     "delete_cmd_postfix": "",
     "delete_cmd_prefix": "del ",
     "library": "var_list.py",
     "varRefreshCmd": "print(var_dic_list())"
    },
    "r": {
     "delete_cmd_postfix": ") ",
     "delete_cmd_prefix": "rm(",
     "library": "var_list.r",
     "varRefreshCmd": "cat(var_dic_list()) "
    }
   },
   "position": {
    "height": "129px",
    "left": "779px",
    "right": "20px",
    "top": "114px",
    "width": "444px"
   },
   "types_to_exclude": [
    "module",
    "function",
    "builtin_function_or_method",
    "instance",
    "_Feature"
   ],
   "window_display": false
  }
 },
 "nbformat": 4,
 "nbformat_minor": 5
}
