{
 "cells": [
  {
   "cell_type": "markdown",
   "id": "7ebe0284",
   "metadata": {},
   "source": [
    "# ch08. 예외처리"
   ]
  },
  {
   "cell_type": "markdown",
   "id": "b9fd6f23",
   "metadata": {},
   "source": [
    "## 1절. 예외처리\n",
    "- 예외가 날 가능성이 있는 부분에 대해 미리 예상하고 그에 대한 처리를 프로그래밍하는 것(이유: 좀 더 안정적으로 실행될 수 있도록 함)\n",
    "<pre>\n",
    "ex. 파일을 다룰 때, 파일이 없거나 쓰기 금지로 인한 오류\n",
    "ex. 데이터베이스 프로그래밍 시 제약조건 등에 인한 데이터베이스 서버 오류\n",
    "ex. 네트워크 프로그래밍 시 네트워크\n",
    "ex. 리스트나 튜플의 인덱스를 벗어난 참조로 인한 오류.....\n",
    "<pre>"
   ]
  },
  {
   "cell_type": "code",
   "execution_count": 8,
   "id": "a6dc6c9f",
   "metadata": {
    "ExecuteTime": {
     "end_time": "2021-07-26T03:44:56.332239Z",
     "start_time": "2021-07-26T03:44:50.320502Z"
    }
   },
   "outputs": [
    {
     "name": "stdout",
     "output_type": "stream",
     "text": [
      "파일명 : ch08_abc.txt\n",
      "['Hello\\n', 'World']\n"
     ]
    }
   ],
   "source": [
    "filename= input(\"파일명 : \")\n",
    "f=open('data/'+filename,'r')\n",
    "print(f.readlines())"
   ]
  },
  {
   "cell_type": "markdown",
   "id": "de5d8b4b",
   "metadata": {
    "ExecuteTime": {
     "end_time": "2021-07-26T03:45:34.010374Z",
     "start_time": "2021-07-26T03:45:33.998385Z"
    }
   },
   "source": [
    "## 2절. try~except로 예외 처리\n",
    "```\n",
    "try:\n",
    "    예외가 발생할 가능성이 있는 문장1\n",
    "    명령어...\n",
    "except:\n",
    "    예외가 발생했을 경우 실행할 문장\n",
    "```"
   ]
  },
  {
   "cell_type": "code",
   "execution_count": 11,
   "id": "4d92806c",
   "metadata": {
    "ExecuteTime": {
     "end_time": "2021-07-26T03:50:10.300580Z",
     "start_time": "2021-07-26T03:50:07.930568Z"
    }
   },
   "outputs": [
    {
     "name": "stdout",
     "output_type": "stream",
     "text": [
      "정수를 입력 : a\n"
     ]
    },
    {
     "ename": "ValueError",
     "evalue": "invalid literal for int() with base 10: 'a'",
     "output_type": "error",
     "traceback": [
      "\u001b[1;31m---------------------------------------------------------------------------\u001b[0m",
      "\u001b[1;31mValueError\u001b[0m                                Traceback (most recent call last)",
      "\u001b[1;32m<ipython-input-11-70049340cd44>\u001b[0m in \u001b[0;36m<module>\u001b[1;34m\u001b[0m\n\u001b[0;32m      1\u001b[0m \u001b[1;31m# 100을 입력받은 정수값으로 나눠 출력한다.\u001b[0m\u001b[1;33m\u001b[0m\u001b[1;33m\u001b[0m\u001b[1;33m\u001b[0m\u001b[0m\n\u001b[1;32m----> 2\u001b[1;33m \u001b[0mx\u001b[0m\u001b[1;33m=\u001b[0m\u001b[0mint\u001b[0m\u001b[1;33m(\u001b[0m\u001b[0minput\u001b[0m\u001b[1;33m(\u001b[0m\u001b[1;34m\"정수를 입력 : \"\u001b[0m\u001b[1;33m)\u001b[0m\u001b[1;33m)\u001b[0m\u001b[1;33m\u001b[0m\u001b[1;33m\u001b[0m\u001b[0m\n\u001b[0m\u001b[0;32m      3\u001b[0m \u001b[0mprint\u001b[0m\u001b[1;33m(\u001b[0m\u001b[1;34m\"입력한 정수는 {}\"\u001b[0m\u001b[1;33m.\u001b[0m\u001b[0mformat\u001b[0m\u001b[1;33m(\u001b[0m\u001b[0mx\u001b[0m\u001b[1;33m)\u001b[0m\u001b[1;33m)\u001b[0m\u001b[1;33m\u001b[0m\u001b[1;33m\u001b[0m\u001b[0m\n\u001b[0;32m      4\u001b[0m \u001b[0mprint\u001b[0m\u001b[1;33m(\u001b[0m\u001b[1;34m\"100을 입력한 정수로 나누면 {:.2f}입니다.\"\u001b[0m\u001b[1;33m.\u001b[0m\u001b[0mformat\u001b[0m\u001b[1;33m(\u001b[0m\u001b[1;36m100\u001b[0m\u001b[1;33m/\u001b[0m\u001b[0mx\u001b[0m\u001b[1;33m)\u001b[0m\u001b[1;33m)\u001b[0m\u001b[1;33m\u001b[0m\u001b[1;33m\u001b[0m\u001b[0m\n\u001b[0;32m      5\u001b[0m \u001b[1;31m# ZeroDivisionError : 0을 입력했을 경우 예외\u001b[0m\u001b[1;33m\u001b[0m\u001b[1;33m\u001b[0m\u001b[1;33m\u001b[0m\u001b[0m\n",
      "\u001b[1;31mValueError\u001b[0m: invalid literal for int() with base 10: 'a'"
     ]
    }
   ],
   "source": [
    "# 100을 입력받은 정수값으로 나눠 출력한다.\n",
    "try:\n",
    "    x=int(input(\"정수를 입력 : \"))\n",
    "    print(\"입력한 정수는 {}\".format(x))\n",
    "    print(\"100을 입력한 정수로 나누면 {:.2f}입니다.\".format(100/x))\n",
    "except:\n",
    "    print(\"유효한 정수가 아닙니다.\")\n",
    "# ZeroDivisionError : 0을 입력했을 경우 예외\n",
    "# ValueError : 수를 입력하지 않을 경우 예외"
   ]
  },
  {
   "cell_type": "code",
   "execution_count": 12,
   "id": "6b6a490a",
   "metadata": {
    "ExecuteTime": {
     "end_time": "2021-07-26T03:57:18.571736Z",
     "start_time": "2021-07-26T03:56:58.707743Z"
    }
   },
   "outputs": [
    {
     "name": "stdout",
     "output_type": "stream",
     "text": [
      "정수를 입력하세요 : ㅁ\n",
      "유효한 정수가 아닙니다. 다시 입력하세요\n",
      "정수를 입력하세요 : 5\n",
      "입력한 수는 5\n",
      "100을 입력한 수로 나누면 20.00\n"
     ]
    }
   ],
   "source": [
    "# 유효한 정수를 입력할 때까지 입력받아 \n",
    "# 유효한 정수를 입력받을 경우 입력할 정수와 100을 입력한 수로 나눈 결과를 출력\n",
    "while True:\n",
    "    try:\n",
    "        x= int(input('정수를 입력하세요 : '))\n",
    "        print(\"입력한 수는 {}\".format(x))\n",
    "        print(\"100을 입력한 수로 나누면 {:.2f}\".format(100/x))\n",
    "        break\n",
    "    except:\n",
    "        print(\"유효한 정수가 아닙니다. 다시 입력하세요\")"
   ]
  },
  {
   "cell_type": "markdown",
   "id": "65c206c8",
   "metadata": {},
   "source": [
    "### 2.1 예외를 지정한 처리\n",
    "```\n",
    "try:\n",
    "    예외가 발생할 수도 있는 문장\n",
    "except Exception :\n",
    "    해당 예외가 발생할 경우 실행할 문장\n",
    "```"
   ]
  },
  {
   "cell_type": "code",
   "execution_count": 14,
   "id": "5bc13644",
   "metadata": {
    "ExecuteTime": {
     "end_time": "2021-07-26T04:08:34.003445Z",
     "start_time": "2021-07-26T04:08:29.375494Z"
    }
   },
   "outputs": [
    {
     "name": "stdout",
     "output_type": "stream",
     "text": [
      "정수를 입력하세요 : ㅁ\n",
      "유효한 정수가 아닙니다. 다시 입력하세요\n",
      "정수를 입력하세요 : 5\n",
      "입력한 수는 5\n",
      "100을 입력한 수로 나누면 20.00\n"
     ]
    }
   ],
   "source": [
    "while True:\n",
    "    try:\n",
    "        x= int(input('정수를 입력하세요 : '))\n",
    "        print(\"입력한 수는 {}\".format(x))\n",
    "        print(\"100을 입력한 수로 나누면 {:.2f}\".format(100/x))\n",
    "        break\n",
    "    except (ZeroDivisionError,ValueError):\n",
    "        print(\"유효한 정수가 아닙니다. 다시 입력하세요\")\n",
    "    except Exception:\n",
    "        print(\"다시 시도하세요\")"
   ]
  },
  {
   "cell_type": "markdown",
   "id": "a3a2027c",
   "metadata": {},
   "source": [
    "### 2.2 예외인수\n",
    "```\n",
    "try:\n",
    "    예외발생할 수도 있는 문장\n",
    "except 예외타입:\n",
    "    해당 예외 발생시 실행할 문장\n",
    "```"
   ]
  },
  {
   "cell_type": "code",
   "execution_count": 15,
   "id": "ac679306",
   "metadata": {
    "ExecuteTime": {
     "end_time": "2021-07-26T04:17:30.969091Z",
     "start_time": "2021-07-26T04:16:09.609824Z"
    }
   },
   "outputs": [
    {
     "name": "stdout",
     "output_type": "stream",
     "text": [
      "정수를 입력하세요 : 0\n",
      "입력한 수는 0\n",
      "예외 유형 :  <class 'ZeroDivisionError'>\n",
      "예외 메시지 :  division by zero\n",
      "예외 메시지 :  ('division by zero',)\n",
      "예외 메시지 :  division by zero\n",
      "e의 타입이 Exception타입이기도 한지 :  True\n",
      "정수를 입력하세요 : a\n",
      "예외 유형 :  <class 'ValueError'>\n",
      "예외 메시지 :  invalid literal for int() with base 10: 'a'\n",
      "예외 메시지 :  (\"invalid literal for int() with base 10: 'a'\",)\n",
      "예외 메시지 :  invalid literal for int() with base 10: 'a'\n",
      "e의 타입이 Exception타입이기도 한지 :  True\n",
      "정수를 입력하세요 : 9\n",
      "입력한 수는 9\n",
      "100을 입력한 수로 나누면 11.11\n"
     ]
    }
   ],
   "source": [
    "while True:\n",
    "    try:\n",
    "        x= int(input('정수를 입력하세요 : '))\n",
    "        print(\"입력한 수는 {}\".format(x))\n",
    "        print(\"100을 입력한 수로 나누면 {:.2f}\".format(100/x))\n",
    "        break\n",
    "    except (ZeroDivisionError,ValueError) as e:\n",
    "        print(\"예외 유형 : \", type(e))\n",
    "        print(\"예외 메시지 : \", e)\n",
    "        print(\"예외 메시지 : \", e.args)\n",
    "        print(\"예외 메시지 : \", e.args[0])\n",
    "        print(\"e의 타입이 Exception타입이기도 한지 : \", isinstance(e, Exception))"
   ]
  },
  {
   "cell_type": "code",
   "execution_count": 16,
   "id": "511fa61f",
   "metadata": {
    "ExecuteTime": {
     "end_time": "2021-07-26T04:19:06.356756Z",
     "start_time": "2021-07-26T04:19:06.337784Z"
    }
   },
   "outputs": [
    {
     "name": "stdout",
     "output_type": "stream",
     "text": [
      "list index out of range\n"
     ]
    }
   ],
   "source": [
    "try:\n",
    "    a=[1,2,3]\n",
    "    a[3]\n",
    "except IndexError as e:\n",
    "    print(e)"
   ]
  },
  {
   "cell_type": "code",
   "execution_count": 21,
   "id": "8fe800f4",
   "metadata": {
    "ExecuteTime": {
     "end_time": "2021-07-26T05:40:01.556168Z",
     "start_time": "2021-07-26T05:40:01.537218Z"
    }
   },
   "outputs": [
    {
     "name": "stdout",
     "output_type": "stream",
     "text": [
      "Hello\n",
      "World\n",
      "<class 'str'>\n"
     ]
    }
   ],
   "source": [
    "# try ~except ~ (else ~) finally\n",
    "# try 블럭 수행하다가 예외가 발생되면 except 블록 실행하고,\n",
    "                    # 예외가 발생되지 않으면 else 블록 실행\n",
    "                    # finally 블록은 예외가 발생하든 안 하든 반드시 실행\n",
    "try:\n",
    "    f=open('data/ch08_abc.txt','r')\n",
    "except FileNotFoundError:\n",
    "    print(\"해당 파일이 없습니다.\")\n",
    "else:\n",
    "    data=f.read()\n",
    "    print(data)\n",
    "    print(type(data))\n",
    "finally:\n",
    "    f.close()"
   ]
  },
  {
   "cell_type": "markdown",
   "id": "47e06884",
   "metadata": {},
   "source": [
    "## 3절. raise"
   ]
  },
  {
   "cell_type": "code",
   "execution_count": 30,
   "id": "c615dfe6",
   "metadata": {
    "ExecuteTime": {
     "end_time": "2021-07-26T05:43:45.181174Z",
     "start_time": "2021-07-26T05:43:45.165551Z"
    }
   },
   "outputs": [
    {
     "ename": "NameError",
     "evalue": "예외가 발생했어요",
     "output_type": "error",
     "traceback": [
      "\u001b[1;31m---------------------------------------------------------------------------\u001b[0m",
      "\u001b[1;31mNameError\u001b[0m                                 Traceback (most recent call last)",
      "\u001b[1;32m<ipython-input-30-eba1563807a6>\u001b[0m in \u001b[0;36m<module>\u001b[1;34m\u001b[0m\n\u001b[1;32m----> 1\u001b[1;33m \u001b[1;32mraise\u001b[0m \u001b[0mNameError\u001b[0m\u001b[1;33m(\u001b[0m\u001b[1;34m\"예외가 발생했어요\"\u001b[0m\u001b[1;33m)\u001b[0m\u001b[1;33m\u001b[0m\u001b[1;33m\u001b[0m\u001b[0m\n\u001b[0m",
      "\u001b[1;31mNameError\u001b[0m: 예외가 발생했어요"
     ]
    }
   ],
   "source": [
    "raise NameError(\"예외가 발생했어요\")"
   ]
  },
  {
   "cell_type": "code",
   "execution_count": 31,
   "id": "9731889e",
   "metadata": {
    "ExecuteTime": {
     "end_time": "2021-07-26T05:44:15.622210Z",
     "start_time": "2021-07-26T05:44:15.611218Z"
    }
   },
   "outputs": [],
   "source": [
    "class LengthZeroError(Exception):\n",
    "    \"길이가 0일때 발생하는 예외\"\n",
    "    pass"
   ]
  },
  {
   "cell_type": "code",
   "execution_count": 32,
   "id": "988dad2c",
   "metadata": {
    "ExecuteTime": {
     "end_time": "2021-07-26T05:45:41.753135Z",
     "start_time": "2021-07-26T05:45:41.743161Z"
    }
   },
   "outputs": [],
   "source": [
    "def insert(data):\n",
    "    if len(data)==0:\n",
    "        raise LengthZeroError(\"매개변수의 길이가 0\")\n",
    "    for item in data:\n",
    "        print(item, end=\" \")\n",
    "    print(\"등을 입력하였습니다.\")"
   ]
  },
  {
   "cell_type": "code",
   "execution_count": 34,
   "id": "edc483c4",
   "metadata": {
    "ExecuteTime": {
     "end_time": "2021-07-26T05:48:43.500486Z",
     "start_time": "2021-07-26T05:48:43.481508Z"
    }
   },
   "outputs": [
    {
     "name": "stdout",
     "output_type": "stream",
     "text": [
      "1 2 3 4 5 등을 입력하였습니다.\n",
      "정상 실행\n",
      "무조건 실행\n"
     ]
    }
   ],
   "source": [
    "data=[]\n",
    "try:\n",
    "    insert([1,2,3,4,5])\n",
    "except LengthZeroError as e:\n",
    "    print(e)\n",
    "else:\n",
    "    print(\"정상 실행\")\n",
    "finally:\n",
    "    print(\"무조건 실행\")"
   ]
  },
  {
   "cell_type": "markdown",
   "id": "1794f984",
   "metadata": {},
   "source": [
    "## 4절. 추상클래스\n",
    "- python은 추상클래스를 생성할 수 없으나 raise를 이용해서 추상클래스를 흉내냄"
   ]
  },
  {
   "cell_type": "code",
   "execution_count": 35,
   "id": "3e44a50b",
   "metadata": {
    "ExecuteTime": {
     "end_time": "2021-07-26T05:53:13.735957Z",
     "start_time": "2021-07-26T05:53:13.720976Z"
    }
   },
   "outputs": [],
   "source": [
    "class Shape:\n",
    "    def __init__(self):\n",
    "        raise NotImplementedError(\"추상클래스 역할\")\n",
    "    def calc_area(self):\n",
    "        raise NotImplementedError"
   ]
  },
  {
   "cell_type": "code",
   "execution_count": 36,
   "id": "bc29248e",
   "metadata": {
    "ExecuteTime": {
     "end_time": "2021-07-26T05:56:01.514831Z",
     "start_time": "2021-07-26T05:56:01.497852Z"
    }
   },
   "outputs": [],
   "source": [
    "import numpy as np\n",
    "class Circle(Shape):\n",
    "    def __init__(self, radius):\n",
    "        self.radius=radius\n",
    "    def calc_area(self):\n",
    "        return self.radius * self.radius * np.pi"
   ]
  },
  {
   "cell_type": "code",
   "execution_count": 37,
   "id": "733d71c8",
   "metadata": {
    "ExecuteTime": {
     "end_time": "2021-07-26T05:56:15.868577Z",
     "start_time": "2021-07-26T05:56:15.850598Z"
    }
   },
   "outputs": [],
   "source": [
    "myCircle = Circle(5)"
   ]
  },
  {
   "cell_type": "code",
   "execution_count": 38,
   "id": "935116c1",
   "metadata": {
    "ExecuteTime": {
     "end_time": "2021-07-26T05:56:37.196746Z",
     "start_time": "2021-07-26T05:56:37.185796Z"
    }
   },
   "outputs": [
    {
     "data": {
      "text/plain": [
       "78.53981633974483"
      ]
     },
     "execution_count": 38,
     "metadata": {},
     "output_type": "execute_result"
    }
   ],
   "source": [
    "myCircle.calc_area()"
   ]
  },
  {
   "cell_type": "markdown",
   "id": "4efa125c",
   "metadata": {},
   "source": [
    "## 5절. 파일 정리 작업(with절 이용)"
   ]
  },
  {
   "cell_type": "code",
   "execution_count": 40,
   "id": "8ece4bbb",
   "metadata": {
    "ExecuteTime": {
     "end_time": "2021-07-26T06:01:18.073120Z",
     "start_time": "2021-07-26T06:01:18.062150Z"
    }
   },
   "outputs": [
    {
     "name": "stdout",
     "output_type": "stream",
     "text": [
      "['Hello\\n', 'World']\n"
     ]
    }
   ],
   "source": [
    "try:\n",
    "    f=open(\"data/ch08_abc.txt\",\"r\")\n",
    "    lines=f.readlines()\n",
    "    print(lines)\n",
    "except FileNotFoundError as e:\n",
    "    print(e)\n",
    "finally:\n",
    "    f.close()"
   ]
  },
  {
   "cell_type": "code",
   "execution_count": 41,
   "id": "6c058640",
   "metadata": {
    "ExecuteTime": {
     "end_time": "2021-07-26T06:04:05.289450Z",
     "start_time": "2021-07-26T06:04:05.274490Z"
    }
   },
   "outputs": [
    {
     "name": "stdout",
     "output_type": "stream",
     "text": [
      "['Hello\\n', 'World']\n",
      "DONE\n"
     ]
    }
   ],
   "source": [
    "#with절 이후에는 자동적으로 파일 close() 실행\n",
    "with open(\"data/ch08_abc.txt\",\"r\") as f:\n",
    "    lines = f.readlines()\n",
    "    print(lines)\n",
    "print(\"DONE\")"
   ]
  },
  {
   "cell_type": "code",
   "execution_count": 43,
   "id": "928d2320",
   "metadata": {
    "ExecuteTime": {
     "end_time": "2021-07-26T06:06:19.689228Z",
     "start_time": "2021-07-26T06:06:19.683292Z"
    }
   },
   "outputs": [
    {
     "name": "stdout",
     "output_type": "stream",
     "text": [
      "['Hello\\n', 'World']\n"
     ]
    }
   ],
   "source": [
    "try:\n",
    "    with open(\"data/ch08_abc.txt\",\"r\") as f:\n",
    "        lines = f.readlines()\n",
    "    print(lines)\n",
    "except FileNotFoundError as e:\n",
    "    print(e)\n",
    "    "
   ]
  },
  {
   "cell_type": "code",
   "execution_count": null,
   "id": "959caed6",
   "metadata": {},
   "outputs": [],
   "source": []
  },
  {
   "cell_type": "code",
   "execution_count": null,
   "id": "d95f7211",
   "metadata": {},
   "outputs": [],
   "source": []
  }
 ],
 "metadata": {
  "kernelspec": {
   "display_name": "Python 3",
   "language": "python",
   "name": "python3"
  },
  "language_info": {
   "codemirror_mode": {
    "name": "ipython",
    "version": 3
   },
   "file_extension": ".py",
   "mimetype": "text/x-python",
   "name": "python",
   "nbconvert_exporter": "python",
   "pygments_lexer": "ipython3",
   "version": "3.8.8"
  },
  "toc": {
   "base_numbering": 1,
   "nav_menu": {},
   "number_sections": false,
   "sideBar": true,
   "skip_h1_title": false,
   "title_cell": "Table of Contents",
   "title_sidebar": "Contents",
   "toc_cell": false,
   "toc_position": {},
   "toc_section_display": true,
   "toc_window_display": true
  },
  "varInspector": {
   "cols": {
    "lenName": 16,
    "lenType": 16,
    "lenVar": 40
   },
   "kernels_config": {
    "python": {
     "delete_cmd_postfix": "",
     "delete_cmd_prefix": "del ",
     "library": "var_list.py",
     "varRefreshCmd": "print(var_dic_list())"
    },
    "r": {
     "delete_cmd_postfix": ") ",
     "delete_cmd_prefix": "rm(",
     "library": "var_list.r",
     "varRefreshCmd": "cat(var_dic_list()) "
    }
   },
   "types_to_exclude": [
    "module",
    "function",
    "builtin_function_or_method",
    "instance",
    "_Feature"
   ],
   "window_display": false
  }
 },
 "nbformat": 4,
 "nbformat_minor": 5
}
