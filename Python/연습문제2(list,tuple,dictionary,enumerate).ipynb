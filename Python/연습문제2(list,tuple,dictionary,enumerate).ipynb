{
 "cells": [
  {
   "cell_type": "markdown",
   "id": "f6fa5e53",
   "metadata": {},
   "source": [
    "# 연습문제"
   ]
  },
  {
   "cell_type": "markdown",
   "id": "d76cf69a",
   "metadata": {},
   "source": [
    "## 1번"
   ]
  },
  {
   "cell_type": "code",
   "execution_count": 3,
   "id": "ef58c5c9",
   "metadata": {
    "ExecuteTime": {
     "end_time": "2021-07-21T01:57:41.845557Z",
     "start_time": "2021-07-21T01:57:41.839579Z"
    }
   },
   "outputs": [
    {
     "name": "stdout",
     "output_type": "stream",
     "text": [
      "['orange', 'banana']\n"
     ]
    }
   ],
   "source": [
    "L1=(\"orange\",\"apple\",\"banana\",\"kiwi\")\n",
    "new_list=[i for i in L1 if len(i)>5]\n",
    "print(new_list)"
   ]
  },
  {
   "cell_type": "markdown",
   "id": "54145707",
   "metadata": {},
   "source": [
    "## 2번 "
   ]
  },
  {
   "cell_type": "code",
   "execution_count": 4,
   "id": "74a541eb",
   "metadata": {
    "ExecuteTime": {
     "end_time": "2021-07-21T02:00:14.771947Z",
     "start_time": "2021-07-21T02:00:14.756987Z"
    }
   },
   "outputs": [
    {
     "name": "stdout",
     "output_type": "stream",
     "text": [
      "[0, 1, 2, 3, 4, 5, 6, 7, 8, 9]\n",
      "[5, 6, 7, 8, 9]\n",
      "[10, 9, 8, 7, 6, 5, 4, 3, 2, 1]\n",
      "[10, 12, 14, 16, 18]\n"
     ]
    }
   ],
   "source": [
    "print(list(range(10)))\n",
    "print(list(range(5,10)))\n",
    "print(list(range(10,0,-1)))\n",
    "print(list(range(10,20,2)))"
   ]
  },
  {
   "cell_type": "markdown",
   "id": "2672d668",
   "metadata": {},
   "source": [
    "## 3번"
   ]
  },
  {
   "cell_type": "code",
   "execution_count": 7,
   "id": "df1e5ca4",
   "metadata": {
    "ExecuteTime": {
     "end_time": "2021-07-21T02:01:59.751420Z",
     "start_time": "2021-07-21T02:01:59.740454Z"
    }
   },
   "outputs": [
    {
     "data": {
      "text/plain": [
       "1"
      ]
     },
     "execution_count": 7,
     "metadata": {},
     "output_type": "execute_result"
    }
   ],
   "source": [
    "numbers_2d = [[1,2,3,4,5],[10,20,30,40],[1,3,5],[2,]]\n",
    "len(numbers_2d[3])"
   ]
  },
  {
   "cell_type": "markdown",
   "id": "3219117a",
   "metadata": {},
   "source": [
    "## 4번"
   ]
  },
  {
   "cell_type": "code",
   "execution_count": 8,
   "id": "fe3e7144",
   "metadata": {
    "ExecuteTime": {
     "end_time": "2021-07-21T02:02:07.846693Z",
     "start_time": "2021-07-21T02:02:07.839711Z"
    }
   },
   "outputs": [
    {
     "data": {
      "text/plain": [
       "[1, 2, 3, 4, 5, 10, 20, 30, 40, 50]"
      ]
     },
     "execution_count": 8,
     "metadata": {},
     "output_type": "execute_result"
    }
   ],
   "source": [
    "numbers=[1,2,3,4,5]\n",
    "numbers.extend([10,20,30,40,50])\n",
    "numbers"
   ]
  },
  {
   "cell_type": "markdown",
   "id": "d1b7548a",
   "metadata": {},
   "source": [
    "## 5번"
   ]
  },
  {
   "cell_type": "code",
   "execution_count": 40,
   "id": "dc1edf36",
   "metadata": {
    "ExecuteTime": {
     "end_time": "2021-07-21T02:14:04.067392Z",
     "start_time": "2021-07-21T02:14:04.053413Z"
    }
   },
   "outputs": [
    {
     "name": "stdout",
     "output_type": "stream",
     "text": [
      "[0, 1, 0, 3, 0, 5, 0, 7, 0, 9]\n"
     ]
    }
   ],
   "source": [
    "numbers=list(range(10))\n",
    "numbers[::2]=[0]*len(numbers[::2])\n",
    "print(numbers)"
   ]
  },
  {
   "cell_type": "markdown",
   "id": "b589af54",
   "metadata": {},
   "source": [
    "## 6번"
   ]
  },
  {
   "cell_type": "code",
   "execution_count": 42,
   "id": "8821cf28",
   "metadata": {
    "ExecuteTime": {
     "end_time": "2021-07-21T02:14:49.652472Z",
     "start_time": "2021-07-21T02:14:49.633523Z"
    }
   },
   "outputs": [
    {
     "name": "stdout",
     "output_type": "stream",
     "text": [
      "[5, 1, 6, 3, 7, 5, 8, 7, 9, 9]\n"
     ]
    }
   ],
   "source": [
    "numbers=[0,1,2,3,4,5,6,7,8,9]\n",
    "numbers[::2]=numbers[5:]\n",
    "print(numbers)"
   ]
  },
  {
   "cell_type": "markdown",
   "id": "75e5eaf3",
   "metadata": {},
   "source": [
    "## 7번"
   ]
  },
  {
   "cell_type": "code",
   "execution_count": 48,
   "id": "4e914e6d",
   "metadata": {
    "ExecuteTime": {
     "end_time": "2021-07-21T02:17:35.290680Z",
     "start_time": "2021-07-21T02:17:35.271740Z"
    }
   },
   "outputs": [
    {
     "name": "stdout",
     "output_type": "stream",
     "text": [
      "[0, 1, 1, 3, 2, 5, 3, 7, 4, 9]\n"
     ]
    }
   ],
   "source": [
    "numbers = [0, 1, 2, 3, 4, 5, 6, 7, 8, 9]\n",
    "numbers[ : : 2]= numbers[:5]\n",
    "print(numbers)"
   ]
  },
  {
   "cell_type": "markdown",
   "id": "3c4ea5ba",
   "metadata": {},
   "source": [
    "## 8번"
   ]
  },
  {
   "cell_type": "code",
   "execution_count": 47,
   "id": "14c1ec63",
   "metadata": {
    "ExecuteTime": {
     "end_time": "2021-07-21T02:17:19.705533Z",
     "start_time": "2021-07-21T02:17:19.689938Z"
    }
   },
   "outputs": [
    {
     "name": "stdout",
     "output_type": "stream",
     "text": [
      "10\n",
      "10\n",
      "10\n",
      "10\n"
     ]
    }
   ],
   "source": [
    "my_dic = {\"a\":10, \"b\":20, \"c\":30}\n",
    "# print(my_dic[0])\n",
    "print(my_dic['a'])\n",
    "print(list(my_dic.items())[0][1])\n",
    "print(list(my_dic.values())[0])\n",
    "print(my_dic.get('a'))"
   ]
  },
  {
   "cell_type": "markdown",
   "id": "470e849a",
   "metadata": {},
   "source": [
    "# 연습문제(실습형)"
   ]
  },
  {
   "cell_type": "code",
   "execution_count": 2,
   "id": "9d06bf7d",
   "metadata": {
    "ExecuteTime": {
     "end_time": "2021-07-21T03:00:04.708811Z",
     "start_time": "2021-07-21T03:00:04.703836Z"
    }
   },
   "outputs": [],
   "source": [
    "numbers=[1,2,3,4,5,6,7,8,9,10]"
   ]
  },
  {
   "cell_type": "markdown",
   "id": "216eceac",
   "metadata": {},
   "source": [
    "## 1번. 숫자 100을 맨 뒤에 추가하세요"
   ]
  },
  {
   "cell_type": "code",
   "execution_count": 3,
   "id": "18f9c081",
   "metadata": {
    "ExecuteTime": {
     "end_time": "2021-07-21T03:00:06.322169Z",
     "start_time": "2021-07-21T03:00:06.305257Z"
    }
   },
   "outputs": [
    {
     "data": {
      "text/plain": [
       "[1, 2, 3, 4, 5, 6, 7, 8, 9, 10, 100]"
      ]
     },
     "execution_count": 3,
     "metadata": {},
     "output_type": "execute_result"
    }
   ],
   "source": [
    "numbers.append(100)\n",
    "numbers"
   ]
  },
  {
   "cell_type": "markdown",
   "id": "84cf38a5",
   "metadata": {
    "ExecuteTime": {
     "end_time": "2021-07-21T02:04:50.187066Z",
     "start_time": "2021-07-21T02:04:50.181094Z"
    }
   },
   "source": [
    "## 2번. 다음 리스트를 numbers리스트 맨 뒤에 추가하세요\n",
    "data = [200,300,400,500]"
   ]
  },
  {
   "cell_type": "code",
   "execution_count": 4,
   "id": "72f5f64f",
   "metadata": {
    "ExecuteTime": {
     "end_time": "2021-07-21T03:00:07.059183Z",
     "start_time": "2021-07-21T03:00:07.047223Z"
    }
   },
   "outputs": [
    {
     "data": {
      "text/plain": [
       "[1, 2, 3, 4, 5, 6, 7, 8, 9, 10, 100, 200, 300, 400, 500]"
      ]
     },
     "execution_count": 4,
     "metadata": {},
     "output_type": "execute_result"
    }
   ],
   "source": [
    "data=[200,300,400,500]\n",
    "numbers.extend(data)\n",
    "numbers"
   ]
  },
  {
   "cell_type": "markdown",
   "id": "e8ae6048",
   "metadata": {},
   "source": [
    "## 3번. 처음 다섯 개 숫자만 출력하세요"
   ]
  },
  {
   "cell_type": "code",
   "execution_count": 5,
   "id": "2b6ebcab",
   "metadata": {
    "ExecuteTime": {
     "end_time": "2021-07-21T03:00:07.615622Z",
     "start_time": "2021-07-21T03:00:07.609648Z"
    }
   },
   "outputs": [
    {
     "data": {
      "text/plain": [
       "[1, 2, 3, 4, 5]"
      ]
     },
     "execution_count": 5,
     "metadata": {},
     "output_type": "execute_result"
    }
   ],
   "source": [
    "numbers[:5]"
   ]
  },
  {
   "cell_type": "markdown",
   "id": "267ffb75",
   "metadata": {},
   "source": [
    "## 4번. 리스트에서 짝수번째 데이터만 출력하세요"
   ]
  },
  {
   "cell_type": "code",
   "execution_count": 6,
   "id": "4965a4d1",
   "metadata": {
    "ExecuteTime": {
     "end_time": "2021-07-21T03:00:11.936816Z",
     "start_time": "2021-07-21T03:00:11.920790Z"
    }
   },
   "outputs": [
    {
     "data": {
      "text/plain": [
       "[2, 4, 6, 8, 10, 200, 400]"
      ]
     },
     "execution_count": 6,
     "metadata": {},
     "output_type": "execute_result"
    }
   ],
   "source": [
    "numbers[1::2]"
   ]
  },
  {
   "cell_type": "markdown",
   "id": "2ba680e9",
   "metadata": {},
   "source": [
    "## 5번. 짝수번째 데이터를 0으로 바꾸세요"
   ]
  },
  {
   "cell_type": "code",
   "execution_count": 7,
   "id": "ed49a1f3",
   "metadata": {
    "ExecuteTime": {
     "end_time": "2021-07-21T03:00:24.038138Z",
     "start_time": "2021-07-21T03:00:24.032158Z"
    }
   },
   "outputs": [
    {
     "data": {
      "text/plain": [
       "[1, 0, 3, 0, 5, 0, 7, 0, 9, 0, 100, 0, 300, 0, 500]"
      ]
     },
     "execution_count": 7,
     "metadata": {},
     "output_type": "execute_result"
    }
   ],
   "source": [
    "numbers[1::2]=[0]*len(numbers[1::2])\n",
    "numbers"
   ]
  },
  {
   "cell_type": "markdown",
   "id": "31539994",
   "metadata": {},
   "source": [
    "## 6번. 데이터를 역순으로 나열하세요"
   ]
  },
  {
   "cell_type": "code",
   "execution_count": 8,
   "id": "922d27d4",
   "metadata": {
    "ExecuteTime": {
     "end_time": "2021-07-21T03:00:25.828698Z",
     "start_time": "2021-07-21T03:00:25.819701Z"
    }
   },
   "outputs": [
    {
     "data": {
      "text/plain": [
       "[500, 0, 300, 0, 100, 0, 9, 0, 7, 0, 5, 0, 3, 0, 1]"
      ]
     },
     "execution_count": 8,
     "metadata": {},
     "output_type": "execute_result"
    }
   ],
   "source": [
    "numbers.reverse()\n",
    "numbers"
   ]
  },
  {
   "cell_type": "code",
   "execution_count": 11,
   "id": "4481046f",
   "metadata": {
    "ExecuteTime": {
     "end_time": "2021-07-21T03:02:39.661604Z",
     "start_time": "2021-07-21T03:02:39.643653Z"
    }
   },
   "outputs": [],
   "source": [
    "member_info = {\"name\":\"홍길동\",\"age\":20,\"address\":\"서울시 마포구\", \"score\":90}"
   ]
  },
  {
   "cell_type": "markdown",
   "id": "d85cfd91",
   "metadata": {},
   "source": [
    "## 7번.  address값을 출력하세요"
   ]
  },
  {
   "cell_type": "code",
   "execution_count": 12,
   "id": "e36755de",
   "metadata": {
    "ExecuteTime": {
     "end_time": "2021-07-21T03:02:40.318285Z",
     "start_time": "2021-07-21T03:02:40.302642Z"
    }
   },
   "outputs": [
    {
     "data": {
      "text/plain": [
       "'서울시 마포구'"
      ]
     },
     "execution_count": 12,
     "metadata": {},
     "output_type": "execute_result"
    }
   ],
   "source": [
    "member_info[\"address\"]"
   ]
  },
  {
   "cell_type": "markdown",
   "id": "e73e3a37",
   "metadata": {},
   "source": [
    "## 8번. score 를 출력하고 member_info 딕셔너리에서 삭제하세요"
   ]
  },
  {
   "cell_type": "code",
   "execution_count": 13,
   "id": "08bea2b3",
   "metadata": {
    "ExecuteTime": {
     "end_time": "2021-07-21T03:03:33.284709Z",
     "start_time": "2021-07-21T03:03:33.269059Z"
    }
   },
   "outputs": [
    {
     "data": {
      "text/plain": [
       "90"
      ]
     },
     "execution_count": 13,
     "metadata": {},
     "output_type": "execute_result"
    }
   ],
   "source": [
    "member_info.pop(\"score\")"
   ]
  },
  {
   "cell_type": "markdown",
   "id": "f3edf0d0",
   "metadata": {},
   "source": [
    "## 9번. Address를 “서울시 서대문구”로 변경하세요."
   ]
  },
  {
   "cell_type": "code",
   "execution_count": 17,
   "id": "a65da50e",
   "metadata": {
    "ExecuteTime": {
     "end_time": "2021-07-21T03:04:45.508726Z",
     "start_time": "2021-07-21T03:04:45.493759Z"
    }
   },
   "outputs": [
    {
     "data": {
      "text/plain": [
       "{'name': '홍길동', 'age': 20, 'address': '서울시 서대문구'}"
      ]
     },
     "execution_count": 17,
     "metadata": {},
     "output_type": "execute_result"
    }
   ],
   "source": [
    "member_info[\"address\"]=\"서울시 서대문구\"\n",
    "member_info"
   ]
  },
  {
   "cell_type": "markdown",
   "id": "6f31c0d1",
   "metadata": {},
   "source": [
    "## 10번. member_info 딕셔너리 데이터의 값을 리스트로 출력하세요"
   ]
  },
  {
   "cell_type": "code",
   "execution_count": 18,
   "id": "36c96ece",
   "metadata": {
    "ExecuteTime": {
     "end_time": "2021-07-21T03:05:56.344430Z",
     "start_time": "2021-07-21T03:05:56.337435Z"
    }
   },
   "outputs": [
    {
     "data": {
      "text/plain": [
       "[(0, 'name'), (1, 'age'), (2, 'address')]"
      ]
     },
     "execution_count": 18,
     "metadata": {},
     "output_type": "execute_result"
    }
   ],
   "source": [
    "list(enumerate(member_info))"
   ]
  }
 ],
 "metadata": {
  "kernelspec": {
   "display_name": "Python 3",
   "language": "python",
   "name": "python3"
  },
  "language_info": {
   "codemirror_mode": {
    "name": "ipython",
    "version": 3
   },
   "file_extension": ".py",
   "mimetype": "text/x-python",
   "name": "python",
   "nbconvert_exporter": "python",
   "pygments_lexer": "ipython3",
   "version": "3.8.8"
  },
  "toc": {
   "base_numbering": 1,
   "nav_menu": {},
   "number_sections": false,
   "sideBar": true,
   "skip_h1_title": false,
   "title_cell": "Table of Contents",
   "title_sidebar": "Contents",
   "toc_cell": false,
   "toc_position": {},
   "toc_section_display": true,
   "toc_window_display": true
  },
  "varInspector": {
   "cols": {
    "lenName": 16,
    "lenType": 16,
    "lenVar": 40
   },
   "kernels_config": {
    "python": {
     "delete_cmd_postfix": "",
     "delete_cmd_prefix": "del ",
     "library": "var_list.py",
     "varRefreshCmd": "print(var_dic_list())"
    },
    "r": {
     "delete_cmd_postfix": ") ",
     "delete_cmd_prefix": "rm(",
     "library": "var_list.r",
     "varRefreshCmd": "cat(var_dic_list()) "
    }
   },
   "types_to_exclude": [
    "module",
    "function",
    "builtin_function_or_method",
    "instance",
    "_Feature"
   ],
   "window_display": false
  }
 },
 "nbformat": 4,
 "nbformat_minor": 5
}
