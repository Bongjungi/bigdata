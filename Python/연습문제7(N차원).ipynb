{
 "cells": [
  {
   "cell_type": "markdown",
   "id": "bd72d9b2",
   "metadata": {},
   "source": [
    "## 실습형"
   ]
  },
  {
   "cell_type": "code",
   "execution_count": 5,
   "id": "ddecde7f",
   "metadata": {
    "ExecuteTime": {
     "end_time": "2021-07-30T09:02:17.029025Z",
     "start_time": "2021-07-30T09:02:17.018043Z"
    }
   },
   "outputs": [],
   "source": [
    "import numpy as np\n",
    "from sklearn import datasets\n",
    "iris = datasets.load_iris()\n",
    "iris_data = iris.data\n",
    "iris_target = iris.target\n",
    "iris_target_name = iris.target_names\n",
    "iris_target_name[iris_target]"
   ]
  },
  {
   "cell_type": "markdown",
   "id": "a2fedede",
   "metadata": {},
   "source": [
    "1"
   ]
  },
  {
   "cell_type": "code",
   "execution_count": 55,
   "id": "33c874a8",
   "metadata": {
    "ExecuteTime": {
     "end_time": "2021-07-30T09:21:42.382465Z",
     "start_time": "2021-07-30T09:21:42.373489Z"
    }
   },
   "outputs": [
    {
     "data": {
      "text/plain": [
       "array([5.84333333, 3.05733333, 3.758     , 1.19933333])"
      ]
     },
     "execution_count": 55,
     "metadata": {},
     "output_type": "execute_result"
    }
   ],
   "source": [
    "import numpy as np\n",
    "a1=iris_data.mean(axis=0)\n",
    "a1"
   ]
  },
  {
   "cell_type": "markdown",
   "id": "fbd42050",
   "metadata": {},
   "source": [
    "2"
   ]
  },
  {
   "cell_type": "code",
   "execution_count": 56,
   "id": "eee01f05",
   "metadata": {
    "ExecuteTime": {
     "end_time": "2021-07-30T09:21:47.505405Z",
     "start_time": "2021-07-30T09:21:47.488451Z"
    }
   },
   "outputs": [
    {
     "data": {
      "text/plain": [
       "array([[5.1, 3.5, 1.4, 0.2],\n",
       "       [4.9, 3. , 1.4, 0.2],\n",
       "       [4.7, 3.2, 1.3, 0.2],\n",
       "       [4.6, 3.1, 1.5, 0.2],\n",
       "       [5. , 3.6, 1.4, 0.2]])"
      ]
     },
     "execution_count": 56,
     "metadata": {},
     "output_type": "execute_result"
    }
   ],
   "source": [
    "a2=iris_data[:5,...]\n",
    "a2"
   ]
  },
  {
   "cell_type": "markdown",
   "id": "120c8c46",
   "metadata": {},
   "source": [
    "3"
   ]
  },
  {
   "cell_type": "code",
   "execution_count": 57,
   "id": "a4e4604f",
   "metadata": {
    "ExecuteTime": {
     "end_time": "2021-07-30T09:21:53.590729Z",
     "start_time": "2021-07-30T09:21:53.576765Z"
    }
   },
   "outputs": [
    {
     "data": {
      "text/plain": [
       "array([[5.1, 3.5, 1.4],\n",
       "       [4.9, 3. , 1.4],\n",
       "       [4.7, 3.2, 1.3],\n",
       "       [4.6, 3.1, 1.5],\n",
       "       [5. , 3.6, 1.4]])"
      ]
     },
     "execution_count": 57,
     "metadata": {},
     "output_type": "execute_result"
    }
   ],
   "source": [
    "a3=iris_data[:5,:-1]\n",
    "a3"
   ]
  },
  {
   "cell_type": "markdown",
   "id": "8f2d3de2",
   "metadata": {},
   "source": [
    "4"
   ]
  },
  {
   "cell_type": "code",
   "execution_count": 58,
   "id": "eb15103b",
   "metadata": {
    "ExecuteTime": {
     "end_time": "2021-07-30T09:21:59.986190Z",
     "start_time": "2021-07-30T09:21:59.974221Z"
    }
   },
   "outputs": [
    {
     "data": {
      "text/plain": [
       "array([0.2, 0.2, 0.2, 0.2, 0.2])"
      ]
     },
     "execution_count": 58,
     "metadata": {},
     "output_type": "execute_result"
    }
   ],
   "source": [
    "a4=iris_data[:5,-1]\n",
    "a4"
   ]
  },
  {
   "cell_type": "markdown",
   "id": "02006810",
   "metadata": {},
   "source": [
    "5"
   ]
  },
  {
   "cell_type": "code",
   "execution_count": 65,
   "id": "fe299de7",
   "metadata": {
    "ExecuteTime": {
     "end_time": "2021-07-30T09:29:36.099552Z",
     "start_time": "2021-07-30T09:29:36.093561Z"
    }
   },
   "outputs": [
    {
     "data": {
      "text/plain": [
       "array([[5.1, 3.5, 1.4, 0.2],\n",
       "       [4.9, 3. , 1.4, 0.2],\n",
       "       [4.7, 3.2, 1.3, 0.2],\n",
       "       [4.6, 3.1, 1.5, 0.2],\n",
       "       [5. , 3.6, 1.4, 0.2]])"
      ]
     },
     "execution_count": 65,
     "metadata": {},
     "output_type": "execute_result"
    }
   ],
   "source": [
    "a5=np.hstack((iris_data[:5,:-1],iris_data[:5,-1][:,np.newaxis]))\n",
    "a5"
   ]
  },
  {
   "cell_type": "markdown",
   "id": "d74c2c10",
   "metadata": {},
   "source": [
    "5.1"
   ]
  },
  {
   "cell_type": "code",
   "execution_count": 69,
   "id": "fbcc3022",
   "metadata": {
    "ExecuteTime": {
     "end_time": "2021-07-30T09:30:23.754304Z",
     "start_time": "2021-07-30T09:30:23.748326Z"
    }
   },
   "outputs": [
    {
     "data": {
      "text/plain": [
       "array([[5.1, 3.5, 1.4, 0.2],\n",
       "       [4.9, 3. , 1.4, 0.2],\n",
       "       [4.7, 3.2, 1.3, 0.2],\n",
       "       [4.6, 3.1, 1.5, 0.2],\n",
       "       [5. , 3.6, 1.4, 0.2]])"
      ]
     },
     "execution_count": 69,
     "metadata": {},
     "output_type": "execute_result"
    }
   ],
   "source": [
    "a5=np.c_[a3,a4]\n",
    "a5"
   ]
  },
  {
   "cell_type": "markdown",
   "id": "ef13fc53",
   "metadata": {},
   "source": [
    "6"
   ]
  },
  {
   "cell_type": "code",
   "execution_count": 64,
   "id": "c8c433b9",
   "metadata": {
    "ExecuteTime": {
     "end_time": "2021-07-30T09:26:51.171549Z",
     "start_time": "2021-07-30T09:26:51.155571Z"
    }
   },
   "outputs": [
    {
     "data": {
      "text/plain": [
       "array([5.1, 3.5, 1.4, 0.2, 4.9, 1.4, 0.2, 0.2, 1.5, 0.2, 5. , 3.6, 1.4,\n",
       "       0.2])"
      ]
     },
     "execution_count": 64,
     "metadata": {},
     "output_type": "execute_result"
    }
   ],
   "source": [
    "a=iris_data[:5,...]\n",
    "a[a>=iris_data[:5,...].mean(axis=0)]"
   ]
  }
 ],
 "metadata": {
  "kernelspec": {
   "display_name": "Python 3",
   "language": "python",
   "name": "python3"
  },
  "language_info": {
   "codemirror_mode": {
    "name": "ipython",
    "version": 3
   },
   "file_extension": ".py",
   "mimetype": "text/x-python",
   "name": "python",
   "nbconvert_exporter": "python",
   "pygments_lexer": "ipython3",
   "version": "3.8.8"
  },
  "toc": {
   "base_numbering": 1,
   "nav_menu": {},
   "number_sections": false,
   "sideBar": true,
   "skip_h1_title": false,
   "title_cell": "Table of Contents",
   "title_sidebar": "Contents",
   "toc_cell": false,
   "toc_position": {},
   "toc_section_display": true,
   "toc_window_display": true
  },
  "varInspector": {
   "cols": {
    "lenName": 16,
    "lenType": 16,
    "lenVar": 40
   },
   "kernels_config": {
    "python": {
     "delete_cmd_postfix": "",
     "delete_cmd_prefix": "del ",
     "library": "var_list.py",
     "varRefreshCmd": "print(var_dic_list())"
    },
    "r": {
     "delete_cmd_postfix": ") ",
     "delete_cmd_prefix": "rm(",
     "library": "var_list.r",
     "varRefreshCmd": "cat(var_dic_list()) "
    }
   },
   "types_to_exclude": [
    "module",
    "function",
    "builtin_function_or_method",
    "instance",
    "_Feature"
   ],
   "window_display": false
  }
 },
 "nbformat": 4,
 "nbformat_minor": 5
}
