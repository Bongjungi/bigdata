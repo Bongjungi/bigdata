{
 "cells": [
  {
   "cell_type": "markdown",
   "id": "2e5b7de0",
   "metadata": {},
   "source": [
    "<b><font size=\"6\" color=\"red\">ch04. 제어문</font></b>\n",
    "- if, for-in, while, 중첩가능, 중첩루프탈출"
   ]
  },
  {
   "cell_type": "markdown",
   "id": "aac73dd7",
   "metadata": {},
   "source": [
    "## 1절. 조건문(if)"
   ]
  },
  {
   "cell_type": "code",
   "execution_count": null,
   "id": "ba6346ce",
   "metadata": {
    "ExecuteTime": {
     "end_time": "2021-07-21T03:15:00.659263Z",
     "start_time": "2021-07-21T03:14:57.155865Z"
    }
   },
   "outputs": [],
   "source": [
    "score=int(input('Enter your score > '))\n",
    "if score>=90 :\n",
    "    print('참 잘했어요')\n",
    "    print('다음에도 기대할께요')\n",
    "else : \n",
    "    print('분발하세요')\n",
    "print('메시지 출력')    "
   ]
  },
  {
   "cell_type": "code",
   "execution_count": null,
   "id": "c5bae280",
   "metadata": {
    "ExecuteTime": {
     "end_time": "2021-07-21T03:34:42.308937Z",
     "start_time": "2021-07-21T03:34:38.893888Z"
    }
   },
   "outputs": [],
   "source": [
    "# 점수 입력받아 학점출력(A,B,C,D,F, 유효하지 않는 점수)\n",
    "score = int(input('Enter your score > '))\n",
    "if 90<=score<=100:\n",
    "    grade=\"A\"\n",
    "elif 80<=score<90:\n",
    "    grade=\"B\"\n",
    "elif 70<=score<80:\n",
    "    grade=\"C\"\n",
    "elif 60<=score<70:\n",
    "    grade=\"D\"\n",
    "elif 0<=score<60:\n",
    "    grade=\"F\"\n",
    "else:\n",
    "    grade= \"유효하지 않는 점수\"\n",
    "    \n",
    "print(grade)    "
   ]
  },
  {
   "cell_type": "markdown",
   "id": "d2099389",
   "metadata": {},
   "source": [
    "## 2절. 반복문"
   ]
  },
  {
   "cell_type": "markdown",
   "id": "5b34eec3",
   "metadata": {},
   "source": [
    "### 2.1  for - in문\n",
    "```\n",
    "for 변수 in 나열 가능한 자료:\n",
    "    반복할 문장\n",
    "else : \n",
    "    변수에 값이 할당되지 않는 경우 한번 실행할 문장(선택사항)\n",
    "```"
   ]
  },
  {
   "cell_type": "code",
   "execution_count": null,
   "id": "c2ee6f2d",
   "metadata": {
    "ExecuteTime": {
     "end_time": "2021-07-21T03:42:08.348521Z",
     "start_time": "2021-07-21T03:42:08.342537Z"
    }
   },
   "outputs": [],
   "source": [
    "for i in range(1,10,2):\n",
    "    print(i, end='\\t')\n",
    "else :\n",
    "    print(\"\\nDone\")\n",
    "print(\"END\")    "
   ]
  },
  {
   "cell_type": "markdown",
   "id": "a9e72c84",
   "metadata": {},
   "source": [
    "## 2.2 while문\n",
    "<pre>\n",
    "while 조건:\n",
    "    반복할 문장\n",
    "else :\n",
    "    조건이 거짓일 경우 한번 실행할 문장(else구문 선택사항)\n",
    "<pre>"
   ]
  },
  {
   "cell_type": "code",
   "execution_count": null,
   "id": "0477f25c",
   "metadata": {
    "ExecuteTime": {
     "end_time": "2021-07-21T03:47:58.795147Z",
     "start_time": "2021-07-21T03:47:58.784155Z"
    }
   },
   "outputs": [],
   "source": [
    "#1~100까지 짝수의 합을 계산하고 출력하시오\n",
    "n=1\n",
    "sum=0\n",
    "while n<=100:\n",
    "    if n%2==0:\n",
    "        sum+=n\n",
    "    n+=1\n",
    "else:\n",
    "    pass \n",
    "print(sum)"
   ]
  },
  {
   "cell_type": "markdown",
   "id": "e51c93d9",
   "metadata": {},
   "source": [
    "## 2.3 break, continue"
   ]
  },
  {
   "cell_type": "code",
   "execution_count": 3,
   "id": "c2cd21d1",
   "metadata": {
    "ExecuteTime": {
     "end_time": "2021-07-21T05:35:55.076835Z",
     "start_time": "2021-07-21T05:35:32.979368Z"
    },
    "scrolled": true
   },
   "outputs": [
    {
     "name": "stdout",
     "output_type": "stream",
     "text": [
      "1~100 사이의 정수 입력 : 80\n",
      "1~79 사이의 정수 입력 : 60\n",
      "1~59 사이의 정수 입력 : 40\n",
      "41~59 사이의 정수 입력 : 50\n",
      "51~59 사이의 정수 입력 : 55\n",
      "56~59 사이의 정수 입력 : 58\n",
      "56~57 사이의 정수 입력 : 56\n",
      "57~57 사이의 정수 입력 : 57\n",
      "정답 : 57입니다.\n"
     ]
    }
   ],
   "source": [
    "#숫자 찾기 게임\n",
    "'''\n",
    "1~100 사이의 숫자를 맞추는 프로그램을 구현하시오\n",
    "(프로그램 안에서 임의의 숫자가 만들어지고, 그 숫자를 맞추도록 합니다.)\n",
    "방법 1. 숫자가 틀리면 UP, DOWN을 알려주고 숫자를 맞추면 종료합니다.\n",
    "방법 2. 숫자가 틀리면 min-max사이의 수라고 알려주고 숫자를 맞추면 종료합니다.\n",
    "'''\n",
    "import random\n",
    "#random.seed(21)\n",
    "answer=random.randint(1,100)\n",
    "# #1\n",
    "# while True:\n",
    "#     su=int(input(\"정수 입력 : \"))\n",
    "#     if su==answer:\n",
    "#         print(\"정답 : {}입니다.\".format(su))\n",
    "#         break\n",
    "#     elif su>answer:\n",
    "#         print(\"DOWN\")\n",
    "#     elif su<answer:\n",
    "#         print(\"UP\")\n",
    "#2\n",
    "min=1\n",
    "max=100\n",
    "while True:\n",
    "    su=int(input(\"{}~{} 사이의 정수 입력 : \".format(min,max)))\n",
    "    if su==answer:\n",
    "        print(\"정답 : {}입니다.\".format(su))\n",
    "        break\n",
    "    elif su>answer:\n",
    "        max=su-1\n",
    "    elif su<answer:\n",
    "        min=su+1"
   ]
  },
  {
   "cell_type": "markdown",
   "id": "d06e01fc",
   "metadata": {},
   "source": [
    "## 4절. 중첩루프 탈출"
   ]
  },
  {
   "cell_type": "code",
   "execution_count": 5,
   "id": "30f595de",
   "metadata": {
    "ExecuteTime": {
     "end_time": "2021-07-21T05:40:14.427774Z",
     "start_time": "2021-07-21T05:40:14.412795Z"
    }
   },
   "outputs": [
    {
     "name": "stdout",
     "output_type": "stream",
     "text": [
      "0 1\n",
      "0 2\n",
      "2 1\n"
     ]
    }
   ],
   "source": [
    "# 안 쪽의 반복문을 빠져나오는 break\n",
    "for a in range(0,3,): # a <= 0,1,2\n",
    "    for b in range(1,3): # b <= 1,2\n",
    "        if a==b:\n",
    "            break\n",
    "        print(a,b)"
   ]
  },
  {
   "cell_type": "code",
   "execution_count": null,
   "id": "60ae8193",
   "metadata": {},
   "outputs": [],
   "source": [
    "# break를 만나면 바깥쪽 반복문을 탈출 : 방법1. 플래그 변수 이용\n",
    "break_out_flag = False\n",
    "for a in range(3):\n",
    "    for b in range(1,3):\n",
    "        if a==b:\n",
    "            break_out_flag=True\n",
    "            break\n",
    "        print(a,b)\n",
    "    if break_out_flag:\n",
    "        break"
   ]
  },
  {
   "cell_type": "code",
   "execution_count": 6,
   "id": "c00cf090",
   "metadata": {
    "ExecuteTime": {
     "end_time": "2021-07-21T05:49:40.683614Z",
     "start_time": "2021-07-21T05:49:40.665641Z"
    }
   },
   "outputs": [],
   "source": [
    "# break를 만나면 바깥쪽 반복문을 탈출 : 방법2. Exception 이용\n",
    "#class BreakOutLoop extend Exception\n",
    "class BreakOutLoop(Exception):\n",
    "    pass # 아무것도 추가하지 않겠다."
   ]
  },
  {
   "cell_type": "code",
   "execution_count": 7,
   "id": "292f5e7a",
   "metadata": {
    "ExecuteTime": {
     "end_time": "2021-07-21T05:52:25.422161Z",
     "start_time": "2021-07-21T05:52:25.415201Z"
    }
   },
   "outputs": [
    {
     "name": "stdout",
     "output_type": "stream",
     "text": [
      "0 1\n",
      "0 2\n",
      "a와 b가 같아지면 예외 발생하고 이 메시지를 뿌리고 끝\n",
      "2 1\n",
      "a와 b가 같아지면 예외 발생하고 이 메시지를 뿌리고 끝\n"
     ]
    }
   ],
   "source": [
    "for a in range(3):\n",
    "    try:\n",
    "        for b in range(1,3):\n",
    "            if a==b:\n",
    "                raise BreakOutLoop\n",
    "            print(a,b)\n",
    "    except BreakOutLoop:\n",
    "        print('a와 b가 같아지면 예외 발생하고 이 메시지를 뿌리고 끝')"
   ]
  },
  {
   "cell_type": "code",
   "execution_count": 8,
   "id": "9ef2040c",
   "metadata": {
    "ExecuteTime": {
     "end_time": "2021-07-21T05:54:22.859826Z",
     "start_time": "2021-07-21T05:54:22.839878Z"
    }
   },
   "outputs": [
    {
     "name": "stdout",
     "output_type": "stream",
     "text": [
      "0 1\n",
      "0 2\n",
      "a와 b가 같아지면 예외 발생하고 이 메시지를 뿌리고 끝\n"
     ]
    }
   ],
   "source": [
    "try:\n",
    "    for a in range(3):\n",
    "            for b in range(1,3):\n",
    "                if a==b:\n",
    "                    raise BreakOutLoop\n",
    "                print(a,b)\n",
    "except BreakOutLoop:\n",
    "    print('a와 b가 같아지면 예외 발생하고 이 메시지를 뿌리고 끝')"
   ]
  },
  {
   "cell_type": "code",
   "execution_count": null,
   "id": "d4a07791",
   "metadata": {},
   "outputs": [],
   "source": []
  },
  {
   "cell_type": "code",
   "execution_count": null,
   "id": "ad2051b5",
   "metadata": {},
   "outputs": [],
   "source": []
  }
 ],
 "metadata": {
  "kernelspec": {
   "display_name": "Python 3",
   "language": "python",
   "name": "python3"
  },
  "language_info": {
   "codemirror_mode": {
    "name": "ipython",
    "version": 3
   },
   "file_extension": ".py",
   "mimetype": "text/x-python",
   "name": "python",
   "nbconvert_exporter": "python",
   "pygments_lexer": "ipython3",
   "version": "3.8.8"
  },
  "toc": {
   "base_numbering": 1,
   "nav_menu": {},
   "number_sections": false,
   "sideBar": true,
   "skip_h1_title": false,
   "title_cell": "Table of Contents",
   "title_sidebar": "Contents",
   "toc_cell": false,
   "toc_position": {},
   "toc_section_display": true,
   "toc_window_display": true
  },
  "varInspector": {
   "cols": {
    "lenName": 16,
    "lenType": 16,
    "lenVar": 40
   },
   "kernels_config": {
    "python": {
     "delete_cmd_postfix": "",
     "delete_cmd_prefix": "del ",
     "library": "var_list.py",
     "varRefreshCmd": "print(var_dic_list())"
    },
    "r": {
     "delete_cmd_postfix": ") ",
     "delete_cmd_prefix": "rm(",
     "library": "var_list.r",
     "varRefreshCmd": "cat(var_dic_list()) "
    }
   },
   "types_to_exclude": [
    "module",
    "function",
    "builtin_function_or_method",
    "instance",
    "_Feature"
   ],
   "window_display": false
  }
 },
 "nbformat": 4,
 "nbformat_minor": 5
}
