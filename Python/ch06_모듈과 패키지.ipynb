{
 "cells": [
  {
   "cell_type": "markdown",
   "id": "da4a8ec4",
   "metadata": {},
   "source": [
    "# ch06. 모듈과 패키지"
   ]
  },
  {
   "cell_type": "markdown",
   "id": "3600cf08",
   "metadata": {},
   "source": [
    "## 1. 모듈 사용하기 ( (from A) import B (as C)) , ( from A.a import B as C)\n",
    "- 모듈은 함수, 변수, 클래스 등을 담고 있는 파일(*.py).\n",
    "- 파이썬 표준 모듈 200여개 인터프리터와 함께 install 됨. "
   ]
  },
  {
   "cell_type": "code",
   "execution_count": null,
   "id": "4cba86f6",
   "metadata": {
    "ExecuteTime": {
     "end_time": "2021-07-23T01:54:59.906063Z",
     "start_time": "2021-07-23T01:54:59.890250Z"
    }
   },
   "outputs": [],
   "source": [
    "# 1. import 모듈명 : 모듈 안의 함수들은 모듈명.함수() 사용\n",
    "import time #time 모듈 안의 함수, 변수, 클래스가 메모리에 로드\n",
    "time.ctime()"
   ]
  },
  {
   "cell_type": "code",
   "execution_count": null,
   "id": "e325fcdf",
   "metadata": {
    "ExecuteTime": {
     "end_time": "2021-07-23T01:55:42.607844Z",
     "start_time": "2021-07-23T01:55:42.597872Z"
    }
   },
   "outputs": [],
   "source": [
    "time.time() #1970년1월1일 이후 밀리세컨"
   ]
  },
  {
   "cell_type": "code",
   "execution_count": null,
   "id": "333eb856",
   "metadata": {
    "ExecuteTime": {
     "end_time": "2021-07-23T01:57:35.771352Z",
     "start_time": "2021-07-23T01:57:35.765351Z"
    }
   },
   "outputs": [],
   "source": [
    "del time # time 모듈을 메모리에서 unload"
   ]
  },
  {
   "cell_type": "code",
   "execution_count": null,
   "id": "4e283102",
   "metadata": {
    "ExecuteTime": {
     "end_time": "2021-07-23T01:58:30.163191Z",
     "start_time": "2021-07-23T01:58:30.152233Z"
    }
   },
   "outputs": [],
   "source": [
    "# 2. from 모듈명 import 함수명 : A모듈안의 B함수를 B()로 사용\n",
    "from time import ctime\n",
    "ctime()\n",
    "# 3. from 패키지명 import 모듈명 : 패키지는 폴더, 모듈은 .py파일\n",
    "# 4. from 패키지명.모듈명 import 함수명"
   ]
  },
  {
   "cell_type": "code",
   "execution_count": null,
   "id": "efff688d",
   "metadata": {
    "ExecuteTime": {
     "end_time": "2021-07-23T02:23:56.350061Z",
     "start_time": "2021-07-23T02:23:56.333106Z"
    }
   },
   "outputs": [],
   "source": [
    "# 5. import 모듈명 as 별칭 : 모듈을 메모리에서 로드하고 별칠으로 사용\n",
    "time=5\n",
    "import time as t\n",
    "time=5\n",
    "t"
   ]
  },
  {
   "cell_type": "code",
   "execution_count": null,
   "id": "d054df03",
   "metadata": {
    "ExecuteTime": {
     "end_time": "2021-07-23T02:06:58.302956Z",
     "start_time": "2021-07-23T02:06:58.290012Z"
    }
   },
   "outputs": [],
   "source": [
    "# 6. from 모듈명 import 함수명 as 별칭\n",
    "from time import ctime as ct\n",
    "ct()"
   ]
  },
  {
   "cell_type": "code",
   "execution_count": null,
   "id": "d335769a",
   "metadata": {
    "ExecuteTime": {
     "end_time": "2021-07-23T02:10:27.109809Z",
     "start_time": "2021-07-23T02:10:27.086870Z"
    }
   },
   "outputs": [],
   "source": [
    "import numpy as np\n",
    "dir(np)"
   ]
  },
  {
   "cell_type": "code",
   "execution_count": null,
   "id": "4642d19a",
   "metadata": {
    "ExecuteTime": {
     "end_time": "2021-07-23T02:11:04.805999Z",
     "start_time": "2021-07-23T02:11:04.791040Z"
    }
   },
   "outputs": [],
   "source": [
    "import pandas as pd\n",
    "dir(pd)"
   ]
  },
  {
   "cell_type": "code",
   "execution_count": null,
   "id": "20607fa1",
   "metadata": {
    "ExecuteTime": {
     "end_time": "2021-07-23T02:13:58.656249Z",
     "start_time": "2021-07-23T02:13:58.645280Z"
    },
    "scrolled": true
   },
   "outputs": [],
   "source": [
    "import math\n",
    "print(dir(math))"
   ]
  },
  {
   "cell_type": "code",
   "execution_count": null,
   "id": "3169790a",
   "metadata": {
    "ExecuteTime": {
     "end_time": "2021-07-23T02:17:32.835597Z",
     "start_time": "2021-07-23T02:17:32.818643Z"
    }
   },
   "outputs": [],
   "source": [
    "import sys\n",
    "print(dir(sys))"
   ]
  },
  {
   "cell_type": "markdown",
   "id": "8aedc9f7",
   "metadata": {},
   "source": [
    "# 2절. 사용자 정의 모듈\n",
    "- 함수나 클래스 등을 파이썬 파일에 저장해서 모듈을 만들고 재사용할 수 있음.\n",
    "- 모듈을 가져오는 순서 (1) 표준 모듈 (2) sys.path변수에 저장된 경로"
   ]
  },
  {
   "cell_type": "code",
   "execution_count": null,
   "id": "6e1b6096",
   "metadata": {
    "ExecuteTime": {
     "end_time": "2021-07-23T04:27:22.132170Z",
     "start_time": "2021-07-23T04:27:22.117181Z"
    }
   },
   "outputs": [],
   "source": [
    "import sys\n",
    "sys.path"
   ]
  },
  {
   "cell_type": "code",
   "execution_count": null,
   "id": "0ff0bf0a",
   "metadata": {
    "ExecuteTime": {
     "end_time": "2021-07-23T04:27:22.364954Z",
     "start_time": "2021-07-23T04:27:22.350960Z"
    }
   },
   "outputs": [],
   "source": [
    "# 사용자 정의 모듈 및 패키지를 저장할 D:\\Bigdata\\src\\pylib 폴더 생성"
   ]
  },
  {
   "cell_type": "code",
   "execution_count": null,
   "id": "88704444",
   "metadata": {
    "ExecuteTime": {
     "end_time": "2021-07-23T04:27:22.615240Z",
     "start_time": "2021-07-23T04:27:22.612256Z"
    }
   },
   "outputs": [],
   "source": [
    "# from 'D:\\\\Bigdata\\\\src\\\\pylib' import fibonacci # 에러 from에는 폴더명을 써야 한다."
   ]
  },
  {
   "cell_type": "code",
   "execution_count": null,
   "id": "a1adafad",
   "metadata": {
    "ExecuteTime": {
     "end_time": "2021-07-23T04:27:23.085657Z",
     "start_time": "2021-07-23T04:27:23.070669Z"
    }
   },
   "outputs": [],
   "source": [
    "sys.path.append('D:\\\\Bigdata\\\\src\\\\pylib')"
   ]
  },
  {
   "cell_type": "code",
   "execution_count": null,
   "id": "2a57731f",
   "metadata": {
    "ExecuteTime": {
     "end_time": "2021-07-23T03:50:03.621189Z",
     "start_time": "2021-07-23T03:50:03.614228Z"
    }
   },
   "outputs": [],
   "source": [
    "import fibonacci"
   ]
  },
  {
   "cell_type": "code",
   "execution_count": null,
   "id": "7d480b6e",
   "metadata": {
    "ExecuteTime": {
     "end_time": "2021-07-23T03:50:33.971527Z",
     "start_time": "2021-07-23T03:50:33.953547Z"
    }
   },
   "outputs": [],
   "source": [
    "dir(fibonacci)"
   ]
  },
  {
   "cell_type": "code",
   "execution_count": null,
   "id": "d425c7b3",
   "metadata": {
    "ExecuteTime": {
     "end_time": "2021-07-23T03:50:36.377681Z",
     "start_time": "2021-07-23T03:50:36.278585Z"
    }
   },
   "outputs": [],
   "source": [
    "!dir"
   ]
  },
  {
   "cell_type": "code",
   "execution_count": null,
   "id": "e68fce55",
   "metadata": {
    "ExecuteTime": {
     "end_time": "2021-07-23T03:49:35.627853Z",
     "start_time": "2021-07-23T03:49:35.612231Z"
    }
   },
   "outputs": [],
   "source": [
    "fibonacci.fibo_print(300)"
   ]
  },
  {
   "cell_type": "code",
   "execution_count": null,
   "id": "74c0218c",
   "metadata": {
    "ExecuteTime": {
     "end_time": "2021-07-23T03:49:54.291664Z",
     "start_time": "2021-07-23T03:49:54.277711Z"
    }
   },
   "outputs": [],
   "source": [
    "fibonacci.fibo_return(20)"
   ]
  },
  {
   "cell_type": "code",
   "execution_count": null,
   "id": "cb4803db",
   "metadata": {
    "ExecuteTime": {
     "end_time": "2021-07-23T03:54:00.940190Z",
     "start_time": "2021-07-23T03:54:00.922215Z"
    }
   },
   "outputs": [],
   "source": [
    "from fibonacci import fibo_print, fibo_return\n",
    "fibo_print(20)"
   ]
  },
  {
   "cell_type": "code",
   "execution_count": null,
   "id": "8d310c11",
   "metadata": {
    "ExecuteTime": {
     "end_time": "2021-07-23T03:54:50.102797Z",
     "start_time": "2021-07-23T03:54:50.088821Z"
    }
   },
   "outputs": [],
   "source": [
    "from fibonacci import fibo_print as fibo_p\n",
    "fibo_p(10)"
   ]
  },
  {
   "cell_type": "markdown",
   "id": "9c1fff62",
   "metadata": {},
   "source": [
    "# 3절. 패키지\n",
    "- 다중 모듈 패키지 ex) numpy"
   ]
  },
  {
   "cell_type": "code",
   "execution_count": null,
   "id": "0b661a4f",
   "metadata": {
    "ExecuteTime": {
     "end_time": "2021-07-23T04:17:56.740294Z",
     "start_time": "2021-07-23T04:17:56.734331Z"
    }
   },
   "outputs": [],
   "source": [
    "import sample_pac # 상위 패키지를 import 한다고 하여 하위 패키지가 import 되지는 않습니다."
   ]
  },
  {
   "cell_type": "code",
   "execution_count": null,
   "id": "60c25b4d",
   "metadata": {
    "ExecuteTime": {
     "end_time": "2021-07-23T05:37:44.305337Z",
     "start_time": "2021-07-23T05:37:44.297338Z"
    }
   },
   "outputs": [],
   "source": [
    "import sample_pac.ab.a"
   ]
  },
  {
   "cell_type": "code",
   "execution_count": null,
   "id": "daf7d1f1",
   "metadata": {
    "ExecuteTime": {
     "end_time": "2021-07-23T05:37:46.560366Z",
     "start_time": "2021-07-23T05:37:46.543405Z"
    }
   },
   "outputs": [],
   "source": [
    "sample_pac.ab.a.hello()"
   ]
  },
  {
   "cell_type": "code",
   "execution_count": null,
   "id": "fed25fb8",
   "metadata": {
    "ExecuteTime": {
     "end_time": "2021-07-23T05:37:47.107473Z",
     "start_time": "2021-07-23T05:37:47.090490Z"
    }
   },
   "outputs": [],
   "source": [
    "from sample_pac.ab import a,b\n",
    "a.hello()\n",
    "b.world()"
   ]
  },
  {
   "cell_type": "code",
   "execution_count": null,
   "id": "eda2495e",
   "metadata": {
    "ExecuteTime": {
     "end_time": "2021-07-23T05:38:03.275880Z",
     "start_time": "2021-07-23T05:38:03.269885Z"
    }
   },
   "outputs": [],
   "source": [
    "from sample_pac.ab.b import world\n",
    "world()"
   ]
  },
  {
   "cell_type": "code",
   "execution_count": 1,
   "id": "666b42a4",
   "metadata": {
    "ExecuteTime": {
     "end_time": "2021-07-23T05:53:53.695826Z",
     "start_time": "2021-07-23T05:53:53.686822Z"
    }
   },
   "outputs": [],
   "source": [
    "import sys\n",
    "sys.path.append(\"D:\\Bigdata\\src\\pylib\")"
   ]
  },
  {
   "cell_type": "code",
   "execution_count": 2,
   "id": "5ac4f471",
   "metadata": {
    "ExecuteTime": {
     "end_time": "2021-07-23T05:44:11.045735Z",
     "start_time": "2021-07-23T05:44:11.036781Z"
    }
   },
   "outputs": [
    {
     "name": "stdout",
     "output_type": "stream",
     "text": [
      "sample_pac 패키지 로드합니다.\n",
      "sample_pac 패키지 안의 ab 패키지 로드\n"
     ]
    }
   ],
   "source": [
    "from sample_pac.ab import *"
   ]
  },
  {
   "cell_type": "code",
   "execution_count": 3,
   "id": "2662d308",
   "metadata": {
    "ExecuteTime": {
     "end_time": "2021-07-23T05:44:11.498237Z",
     "start_time": "2021-07-23T05:44:11.491252Z"
    }
   },
   "outputs": [
    {
     "name": "stdout",
     "output_type": "stream",
     "text": [
      "Hello - ab.a 모듈 안\n"
     ]
    }
   ],
   "source": [
    "a.hello()"
   ]
  },
  {
   "cell_type": "code",
   "execution_count": 4,
   "id": "9c476b4c",
   "metadata": {
    "ExecuteTime": {
     "end_time": "2021-07-23T05:44:29.351174Z",
     "start_time": "2021-07-23T05:44:29.199450Z"
    }
   },
   "outputs": [
    {
     "ename": "NameError",
     "evalue": "name 'b' is not defined",
     "output_type": "error",
     "traceback": [
      "\u001b[1;31m---------------------------------------------------------------------------\u001b[0m",
      "\u001b[1;31mNameError\u001b[0m                                 Traceback (most recent call last)",
      "\u001b[1;32m<ipython-input-4-0c2420a3bc53>\u001b[0m in \u001b[0;36m<module>\u001b[1;34m\u001b[0m\n\u001b[1;32m----> 1\u001b[1;33m \u001b[0mb\u001b[0m\u001b[1;33m.\u001b[0m\u001b[0mworld\u001b[0m\u001b[1;33m(\u001b[0m\u001b[1;33m)\u001b[0m\u001b[1;33m\u001b[0m\u001b[1;33m\u001b[0m\u001b[0m\n\u001b[0m",
      "\u001b[1;31mNameError\u001b[0m: name 'b' is not defined"
     ]
    }
   ],
   "source": [
    "# b.world() 에러 init에 [a]만 함"
   ]
  },
  {
   "cell_type": "code",
   "execution_count": 2,
   "id": "d989f61b",
   "metadata": {
    "ExecuteTime": {
     "end_time": "2021-07-23T05:53:58.300415Z",
     "start_time": "2021-07-23T05:53:58.282440Z"
    }
   },
   "outputs": [
    {
     "name": "stdout",
     "output_type": "stream",
     "text": [
      "sample_pac 패키지 로드합니다.\n",
      "sample_pac 패키지 안의 cd 패키지 로드\n",
      "sample_pac 패키지 안의 ab 패키지 로드\n"
     ]
    }
   ],
   "source": [
    "# cd 패키지 ab 패키지의 일부를 참조\n",
    "from sample_pac.cd import c"
   ]
  },
  {
   "cell_type": "code",
   "execution_count": 3,
   "id": "0ea95fc3",
   "metadata": {
    "ExecuteTime": {
     "end_time": "2021-07-23T05:54:44.795727Z",
     "start_time": "2021-07-23T05:54:44.785732Z"
    }
   },
   "outputs": [
    {
     "name": "stdout",
     "output_type": "stream",
     "text": [
      "nice - c모듈안\n",
      "Hello - ab.a 모듈 안\n"
     ]
    }
   ],
   "source": [
    "c.nice()"
   ]
  },
  {
   "cell_type": "code",
   "execution_count": 4,
   "id": "e714043c",
   "metadata": {
    "ExecuteTime": {
     "end_time": "2021-07-23T05:55:02.341365Z",
     "start_time": "2021-07-23T05:55:02.196833Z"
    }
   },
   "outputs": [
    {
     "ename": "NameError",
     "evalue": "name 'ab' is not defined",
     "output_type": "error",
     "traceback": [
      "\u001b[1;31m---------------------------------------------------------------------------\u001b[0m",
      "\u001b[1;31mNameError\u001b[0m                                 Traceback (most recent call last)",
      "\u001b[1;32m<ipython-input-4-e2b2cd8361dd>\u001b[0m in \u001b[0;36m<module>\u001b[1;34m\u001b[0m\n\u001b[1;32m----> 1\u001b[1;33m \u001b[0mab\u001b[0m\u001b[1;33m.\u001b[0m\u001b[0ma\u001b[0m\u001b[1;33m.\u001b[0m\u001b[0mhello\u001b[0m\u001b[1;33m(\u001b[0m\u001b[1;33m)\u001b[0m\u001b[1;33m\u001b[0m\u001b[1;33m\u001b[0m\u001b[0m\n\u001b[0m",
      "\u001b[1;31mNameError\u001b[0m: name 'ab' is not defined"
     ]
    }
   ],
   "source": [
    "# ab.a.hello() 에러"
   ]
  },
  {
   "cell_type": "markdown",
   "id": "0e5ad707",
   "metadata": {},
   "source": [
    "# 4절. 패키지 설치 및 삭제"
   ]
  },
  {
   "cell_type": "code",
   "execution_count": 16,
   "id": "16d23607",
   "metadata": {
    "ExecuteTime": {
     "end_time": "2021-07-23T06:12:50.604965Z",
     "start_time": "2021-07-23T06:12:50.541311Z"
    }
   },
   "outputs": [
    {
     "name": "stdout",
     "output_type": "stream",
     "text": [
      "function                   16000\n",
      "dict                       10115\n",
      "tuple                      8110\n",
      "weakref                    3081\n",
      "wrapper_descriptor         2380\n",
      "cell                       2249\n",
      "getset_descriptor          2150\n",
      "list                       2038\n",
      "type                       1836\n",
      "builtin_function_or_method 1807\n"
     ]
    }
   ],
   "source": [
    "import objgraph\n",
    "objgraph.show_most_common_types()"
   ]
  }
 ],
 "metadata": {
  "kernelspec": {
   "display_name": "Python 3",
   "language": "python",
   "name": "python3"
  },
  "language_info": {
   "codemirror_mode": {
    "name": "ipython",
    "version": 3
   },
   "file_extension": ".py",
   "mimetype": "text/x-python",
   "name": "python",
   "nbconvert_exporter": "python",
   "pygments_lexer": "ipython3",
   "version": "3.8.8"
  },
  "toc": {
   "base_numbering": 1,
   "nav_menu": {},
   "number_sections": false,
   "sideBar": true,
   "skip_h1_title": false,
   "title_cell": "Table of Contents",
   "title_sidebar": "Contents",
   "toc_cell": false,
   "toc_position": {},
   "toc_section_display": true,
   "toc_window_display": true
  },
  "varInspector": {
   "cols": {
    "lenName": 16,
    "lenType": 16,
    "lenVar": 40
   },
   "kernels_config": {
    "python": {
     "delete_cmd_postfix": "",
     "delete_cmd_prefix": "del ",
     "library": "var_list.py",
     "varRefreshCmd": "print(var_dic_list())"
    },
    "r": {
     "delete_cmd_postfix": ") ",
     "delete_cmd_prefix": "rm(",
     "library": "var_list.r",
     "varRefreshCmd": "cat(var_dic_list()) "
    }
   },
   "types_to_exclude": [
    "module",
    "function",
    "builtin_function_or_method",
    "instance",
    "_Feature"
   ],
   "window_display": false
  }
 },
 "nbformat": 4,
 "nbformat_minor": 5
}
