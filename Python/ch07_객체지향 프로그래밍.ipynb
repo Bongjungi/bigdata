{
 "cells": [
  {
   "cell_type": "markdown",
   "id": "7c39ebe2",
   "metadata": {},
   "source": [
    "# ch07. 객체지향 프로그래밍"
   ]
  },
  {
   "cell_type": "markdown",
   "id": "09f12e16",
   "metadata": {},
   "source": [
    "## 1절. 객체와 클래스\n",
    "```\n",
    "class 클래스명(상속받을 클래스명):\n",
    "    변수 또는 함수 선언\n",
    "```"
   ]
  },
  {
   "cell_type": "code",
   "execution_count": null,
   "id": "1ad411d0",
   "metadata": {
    "ExecuteTime": {
     "end_time": "2021-07-23T06:40:56.548677Z",
     "start_time": "2021-07-23T06:40:56.536709Z"
    }
   },
   "outputs": [],
   "source": [
    "class Person:\n",
    "    \"\"\"\n",
    "        Person 클래스를 설명하는 독스트링\n",
    "    \"\"\"\n",
    "    pass\n",
    "# Person p1 = new Person()\n",
    "p1 = Person()"
   ]
  },
  {
   "cell_type": "code",
   "execution_count": null,
   "id": "2fdb577f",
   "metadata": {
    "ExecuteTime": {
     "end_time": "2021-07-23T06:41:09.386516Z",
     "start_time": "2021-07-23T06:41:09.373552Z"
    }
   },
   "outputs": [],
   "source": [
    "type(p1)"
   ]
  },
  {
   "cell_type": "code",
   "execution_count": null,
   "id": "02a9acf0",
   "metadata": {
    "ExecuteTime": {
     "end_time": "2021-07-23T06:41:39.211448Z",
     "start_time": "2021-07-23T06:41:39.208450Z"
    }
   },
   "outputs": [],
   "source": [
    "print(p1)"
   ]
  },
  {
   "cell_type": "code",
   "execution_count": null,
   "id": "3287d3d1",
   "metadata": {
    "ExecuteTime": {
     "end_time": "2021-07-23T06:43:34.268641Z",
     "start_time": "2021-07-23T06:43:34.249672Z"
    }
   },
   "outputs": [],
   "source": [
    "isinstance(p1,Person)"
   ]
  },
  {
   "cell_type": "code",
   "execution_count": null,
   "id": "5516fc47",
   "metadata": {
    "ExecuteTime": {
     "end_time": "2021-07-23T06:45:26.301807Z",
     "start_time": "2021-07-23T06:45:26.290836Z"
    }
   },
   "outputs": [],
   "source": [
    "print(p1.__doc__) #독스트링"
   ]
  },
  {
   "cell_type": "markdown",
   "id": "aa7ac22f",
   "metadata": {},
   "source": [
    "## 2절. 변수와 메소드"
   ]
  },
  {
   "cell_type": "code",
   "execution_count": null,
   "id": "b680142b",
   "metadata": {
    "ExecuteTime": {
     "end_time": "2021-07-23T06:58:26.554290Z",
     "start_time": "2021-07-23T06:58:26.542324Z"
    }
   },
   "outputs": [],
   "source": [
    "# 변수 추가\n",
    "class Person:\n",
    "    name=\"홍길동\"\n",
    "    gender=\"남자\"\n",
    "p1= Person()\n",
    "p2=Person()\n",
    "p2.name = \"이순신\" #이제 class의 name 안 따라감\n",
    "print(p1.name, p1.gender)\n",
    "print(p2.name, p1.gender)\n",
    "Person.name=\"강감찬\"\n",
    "Person.gender=\"여자\"\n",
    "print(p1.name, p1.gender) # 디폴트 값 상태이면 class값을 따라감\n",
    "print(p2.name, p2.gender)"
   ]
  },
  {
   "cell_type": "code",
   "execution_count": null,
   "id": "37ac65b3",
   "metadata": {
    "ExecuteTime": {
     "end_time": "2021-07-23T07:12:29.652021Z",
     "start_time": "2021-07-23T07:12:29.633072Z"
    }
   },
   "outputs": [],
   "source": [
    "# 메소드 추가\n",
    "class Person:\n",
    "    name=\"홍길동\"\n",
    "    gender=\"남자\"\n",
    "    def print_info():\n",
    "        print(\"Person 메소드\")\n",
    "        print(\"{}은 {}입니다.\".format(Person.name, Person.gender))\n",
    "    def print_info2(self): #인스턴스 메소드\n",
    "        print(\"instance 메소드\")\n",
    "        print(\"{}은 {}입니다.\".format(self.name, self.gender))\n",
    "        "
   ]
  },
  {
   "cell_type": "code",
   "execution_count": null,
   "id": "011371ce",
   "metadata": {
    "ExecuteTime": {
     "end_time": "2021-07-23T07:14:29.578567Z",
     "start_time": "2021-07-23T07:14:29.565601Z"
    }
   },
   "outputs": [],
   "source": [
    "p1=Person()\n",
    "p1.name=\"홍길순\"\n",
    "p1.gender=\"여자\"\n",
    "Person.print_info()\n",
    "Person.print_info2(p1) # 이렇게는 잘 안 씀\n",
    "# p1.print_info() 사용불가(인스턴스 메소드가 아님)\n",
    "p1.print_info2()"
   ]
  },
  {
   "cell_type": "code",
   "execution_count": null,
   "id": "297e9e8f",
   "metadata": {
    "ExecuteTime": {
     "end_time": "2021-07-23T07:16:07.099325Z",
     "start_time": "2021-07-23T07:16:07.082372Z"
    }
   },
   "outputs": [],
   "source": [
    "p1.address=\"서울시\"\n",
    "p1.nickname=\"곰돌이 푸\""
   ]
  },
  {
   "cell_type": "code",
   "execution_count": null,
   "id": "25575148",
   "metadata": {
    "ExecuteTime": {
     "end_time": "2021-07-23T07:16:22.973684Z",
     "start_time": "2021-07-23T07:16:22.966702Z"
    }
   },
   "outputs": [],
   "source": [
    "dir(p1)"
   ]
  },
  {
   "cell_type": "markdown",
   "id": "9a6826a0",
   "metadata": {},
   "source": [
    "### 인스턴스 메소드 & 클래스 메소드 & static 메소드\n",
    "1. 인스턴스 메소드 : 첫번째 인자에 self를 꼭 삽입. 객체를 통해서만 호출할 메소드\n",
    "2. 클래스 메소드 : @classmethod를 통해 선언한 메소드. 첫번째 인자에 cls(clazz)를 꼭 삽입\n",
    "3. 스태틱 메소드 : @staticmethod를 통해 선언한 메소드. 인자를 사용하지 않음."
   ]
  },
  {
   "cell_type": "code",
   "execution_count": null,
   "id": "371af3c1",
   "metadata": {
    "ExecuteTime": {
     "end_time": "2021-07-23T09:25:22.592967Z",
     "start_time": "2021-07-23T09:25:22.575015Z"
    }
   },
   "outputs": [],
   "source": [
    "class Person:\n",
    "    name = \"홍길동\"\n",
    "    gender = \"남자\"\n",
    "    def print_info(self):\n",
    "        print(\"일반(인스턴스=객체)메소드 - {}는 {} 입니다.\".format(self.name, self.gender))\n",
    "    @classmethod\n",
    "    def do_(cls):\n",
    "        cls.name = \"신사임당\"\n",
    "        cls.gender = \"여자\"\n",
    "        print(\"클래스 메소드 - {}는 {}입니다.\".format(cls.name, cls.gender))\n",
    "    @staticmethod\n",
    "    def that_():\n",
    "        print(\"static 메소드 - {}는 {}입니다.\".format(Person.name, Person.gender))"
   ]
  },
  {
   "cell_type": "code",
   "execution_count": null,
   "id": "b9be1e2b",
   "metadata": {
    "ExecuteTime": {
     "end_time": "2021-07-23T09:25:22.778833Z",
     "start_time": "2021-07-23T09:25:22.767863Z"
    }
   },
   "outputs": [],
   "source": [
    "p1 = Person()\n",
    "p1.name=\"김김김\"\n",
    "p1.gender=\"없음\"\n",
    "p1.print_info()\n",
    "Person.that_()\n",
    "Person.do_()\n",
    "Person.that_()\n",
    "p1.that_()\n",
    "p1.print_info()"
   ]
  },
  {
   "cell_type": "markdown",
   "id": "36681f7a",
   "metadata": {},
   "source": [
    "## 3절. 생성자( __init__() )와 소멸자( __del__() )\n",
    "- 생성자 : __init__(self, 매개변수, ...) 객체가 생성될 때 자동 실행\n",
    "            생성시 필요한 코드(객체 변수 초기화)를 포함\n",
    "- 소멸자 : __del__(self) 객체가 소멸될 때 자동 실행\n",
    "            소멸시 필요한 코드를 포함\n",
    "            인스턴스 객체의 레퍼런스 카운트가 0이 될 때 실행"
   ]
  },
  {
   "cell_type": "code",
   "execution_count": null,
   "id": "04eaeb90",
   "metadata": {
    "ExecuteTime": {
     "end_time": "2021-07-23T08:23:19.594093Z",
     "start_time": "2021-07-23T08:23:19.578108Z"
    }
   },
   "outputs": [],
   "source": [
    "class Person : \n",
    "    def __init__(self, name, gender):\n",
    "        self.name=name\n",
    "        self.gender=gender\n",
    "        print(\"Person 객체 생성\")\n",
    "    def __del__(self):\n",
    "        print(\"Person 객체 소멸\")\n",
    "    def print_info(self):\n",
    "        print(\"{}는 {}입니다.\".format(self.name, self.gender))\n",
    "    def __str__(self):\n",
    "        return \"{}는 {}이죠\".format(self.name, self.gender)"
   ]
  },
  {
   "cell_type": "code",
   "execution_count": null,
   "id": "63582218",
   "metadata": {
    "ExecuteTime": {
     "end_time": "2021-07-23T08:24:02.549010Z",
     "start_time": "2021-07-23T08:24:02.535018Z"
    }
   },
   "outputs": [],
   "source": [
    "p1=Person(\"e\",\"m\")\n",
    "id(p1)"
   ]
  },
  {
   "cell_type": "code",
   "execution_count": null,
   "id": "c2e131d6",
   "metadata": {
    "ExecuteTime": {
     "end_time": "2021-07-23T08:23:32.009883Z",
     "start_time": "2021-07-23T08:23:31.933071Z"
    }
   },
   "outputs": [],
   "source": [
    "print(p1)"
   ]
  },
  {
   "cell_type": "code",
   "execution_count": null,
   "id": "6ee12138",
   "metadata": {
    "ExecuteTime": {
     "end_time": "2021-07-23T08:04:02.808039Z",
     "start_time": "2021-07-23T08:04:02.799064Z"
    }
   },
   "outputs": [],
   "source": [
    "del p1"
   ]
  },
  {
   "cell_type": "code",
   "execution_count": null,
   "id": "534bd3de",
   "metadata": {
    "ExecuteTime": {
     "end_time": "2021-07-23T08:03:07.995574Z",
     "start_time": "2021-07-23T08:03:07.980590Z"
    }
   },
   "outputs": [],
   "source": [
    "p2=Person(\"a\",\"m\")\n",
    "p3=p2"
   ]
  },
  {
   "cell_type": "code",
   "execution_count": null,
   "id": "186ebdaa",
   "metadata": {
    "ExecuteTime": {
     "end_time": "2021-07-23T08:03:36.396385Z",
     "start_time": "2021-07-23T08:03:36.386413Z"
    }
   },
   "outputs": [],
   "source": [
    "del p2 #레퍼런스 카운트가 0이 될 때 생성자 자동 실행"
   ]
  },
  {
   "cell_type": "code",
   "execution_count": null,
   "id": "c9ac5664",
   "metadata": {
    "ExecuteTime": {
     "end_time": "2021-07-23T08:03:40.062439Z",
     "start_time": "2021-07-23T08:03:40.051447Z"
    }
   },
   "outputs": [],
   "source": [
    "del p3"
   ]
  },
  {
   "cell_type": "markdown",
   "id": "c454df92",
   "metadata": {},
   "source": [
    "** 생성자를 통한 멤버변수의 초기화 ** <br>\n",
    "** 파이썬은 함수를 overloading 불가 ** <br>\n",
    "** 생성자 함수도 overloading 불가 **"
   ]
  },
  {
   "cell_type": "code",
   "execution_count": null,
   "id": "cac2e20f",
   "metadata": {
    "ExecuteTime": {
     "end_time": "2021-07-23T08:37:25.981350Z",
     "start_time": "2021-07-23T08:37:25.972352Z"
    }
   },
   "outputs": [],
   "source": [
    "class Person:\n",
    "    def __init__(self, name=\"홍길동\", gender=\"w\"):\n",
    "        self.name = name\n",
    "        self.gender = gender\n",
    "        print(\"Person 객체 생성합니다.\")\n",
    "    def __del__(self):\n",
    "        print(\"Person 객체 제거합니다.\")\n",
    "    def __str__(self):\n",
    "        return \"%s는 %s입니다.\"%(self.name, self.gender)"
   ]
  },
  {
   "cell_type": "code",
   "execution_count": null,
   "id": "296e1a55",
   "metadata": {
    "ExecuteTime": {
     "end_time": "2021-07-23T08:37:26.136558Z",
     "start_time": "2021-07-23T08:37:26.130593Z"
    }
   },
   "outputs": [],
   "source": [
    "p1=Person(\"홍\",\"m\")\n",
    "p2=Person(\"박\")\n",
    "p3=Person()\n",
    "print(p1.__str__(),p2,p3)"
   ]
  },
  {
   "cell_type": "markdown",
   "id": "632f0d11",
   "metadata": {},
   "source": [
    "## 4절. 상속과 재정의 "
   ]
  },
  {
   "cell_type": "code",
   "execution_count": null,
   "id": "fae0ddeb",
   "metadata": {
    "ExecuteTime": {
     "end_time": "2021-07-26T02:32:11.082355Z",
     "start_time": "2021-07-26T02:32:11.075345Z"
    }
   },
   "outputs": [],
   "source": [
    "class Person:\n",
    "    \"Person에 대한 독스트링\"\n",
    "    def __init__(self, name=\"홍\", gender=\"m\"):\n",
    "        print(\"Person 객체 생성합니다.\")\n",
    "        self.name = name\n",
    "        self.gender = gender\n",
    "    def __del__(self):\n",
    "        print(\"Person 객체 소멸합니다.\")\n",
    "    def print_info(self):\n",
    "        \"객체의 이름과 성별을 출력합니다.\"\n",
    "        print(\"{}님은 {}\".format(self.name, self.gender))\n",
    "    def __str__(self):\n",
    "        return \"{}님은 {}\".format(self.name, self.gender)"
   ]
  },
  {
   "cell_type": "code",
   "execution_count": null,
   "id": "0fbdbaae",
   "metadata": {
    "ExecuteTime": {
     "end_time": "2021-07-26T02:32:11.472511Z",
     "start_time": "2021-07-26T02:32:11.454531Z"
    }
   },
   "outputs": [],
   "source": [
    "class Student(Person):\n",
    "    \"Person에게 상속받은 Student\"\n",
    "    def __init__(self,name=\"김\",gender=\"w\",major=\"k\"):\n",
    "        print(\"Student 객체 생성합니다.\")\n",
    "        self.name=name\n",
    "        self.gender=gender\n",
    "        self.major=major\n",
    "    def __del__(self):\n",
    "        print(\"Student 객체 소멸합니다.\")\n",
    "    def print_info(self):\n",
    "        print(\"{}님은 {},{}\".format(self.name,self.major,self.gender))\n",
    "    def __str__(self):\n",
    "        return \"{}님은 {},{}\".format(self.name,self.major,self.gender)"
   ]
  },
  {
   "cell_type": "code",
   "execution_count": null,
   "id": "7cd3ac94",
   "metadata": {
    "ExecuteTime": {
     "end_time": "2021-07-26T02:32:19.554766Z",
     "start_time": "2021-07-26T02:32:19.546789Z"
    }
   },
   "outputs": [],
   "source": [
    "p1=Person()\n",
    "s1=Student()"
   ]
  },
  {
   "cell_type": "code",
   "execution_count": null,
   "id": "0e106563",
   "metadata": {
    "ExecuteTime": {
     "end_time": "2021-07-26T02:32:23.805989Z",
     "start_time": "2021-07-26T02:32:23.791998Z"
    }
   },
   "outputs": [],
   "source": [
    "issubclass(Student,Person)\n",
    "isinstance(s1,Student)\n",
    "isinstance(s1,Person)"
   ]
  },
  {
   "cell_type": "code",
   "execution_count": null,
   "id": "3556e135",
   "metadata": {
    "ExecuteTime": {
     "end_time": "2021-07-26T02:32:24.057148Z",
     "start_time": "2021-07-26T02:32:24.043173Z"
    }
   },
   "outputs": [],
   "source": [
    "print(p1)\n",
    "print(s1)"
   ]
  },
  {
   "cell_type": "code",
   "execution_count": null,
   "id": "23c678bd",
   "metadata": {
    "ExecuteTime": {
     "end_time": "2021-07-26T01:02:54.902924Z",
     "start_time": "2021-07-26T01:02:54.886968Z"
    }
   },
   "outputs": [],
   "source": [
    "class Student(Person):\n",
    "    \"Person에게 상속받은 Student\"\n",
    "    def __init__(self,name=\"박\",gender=\"w\",major=\"kor\"):\n",
    "        print(\"Student 객체 생성합니다.\")\n",
    "        super().__init__(name,gender) #Person.__init__(self,name,gender)\n",
    "        self.major=major\n",
    "    def __del__(self):\n",
    "        print(\"Student 객체 소멸합니다.\")\n",
    "    def print_info(self):\n",
    "        super().print_info()\n",
    "        print(\"전공은 {}\".format(self.major))\n",
    "    def __str__(self):\n",
    "        return Person.__str__(self) + \"전공은 {}\".format(self.major)"
   ]
  },
  {
   "cell_type": "code",
   "execution_count": null,
   "id": "cfc7485e",
   "metadata": {
    "ExecuteTime": {
     "end_time": "2021-07-26T01:02:56.972385Z",
     "start_time": "2021-07-26T01:02:56.956581Z"
    }
   },
   "outputs": [],
   "source": [
    "p2=Person()"
   ]
  },
  {
   "cell_type": "code",
   "execution_count": null,
   "id": "16f78dd8",
   "metadata": {
    "ExecuteTime": {
     "end_time": "2021-07-26T01:02:57.457284Z",
     "start_time": "2021-07-26T01:02:57.443321Z"
    }
   },
   "outputs": [],
   "source": [
    "s2=Student()"
   ]
  },
  {
   "cell_type": "markdown",
   "id": "4ee00ff5",
   "metadata": {},
   "source": [
    "### static 변수 (정적변수) : 여러 객체들 사이에 데이터를 공유하고 싶을 때 사용\n",
    "* 변수 앞에 under score 2객(__)을 붙이면, 클래스명._클래스명__static변수명\n"
   ]
  },
  {
   "cell_type": "code",
   "execution_count": 1,
   "id": "eed0a6b9",
   "metadata": {
    "ExecuteTime": {
     "end_time": "2021-07-26T02:52:58.945558Z",
     "start_time": "2021-07-26T02:52:58.929577Z"
    }
   },
   "outputs": [],
   "source": [
    "class Person:\n",
    "    \"Person에 대한 독스트링\"\n",
    "    \"\"\"\n",
    "        독독스스트트링링\n",
    "    \"\"\"\n",
    "    def __init__(self, name, gender):\n",
    "        print(\"Person 객체 생성합니다.\")\n",
    "        self.name = name\n",
    "        self.gender = gender\n",
    "    def __del__(self):\n",
    "        print(\"Person 객체 소멸합니다.\")\n",
    "    def __str__(self):\n",
    "        return \"{}님은 {}\".format(self.name, self.gender)\n",
    "        "
   ]
  },
  {
   "cell_type": "code",
   "execution_count": 2,
   "id": "96a15154",
   "metadata": {
    "ExecuteTime": {
     "end_time": "2021-07-26T02:52:59.321412Z",
     "start_time": "2021-07-26T02:52:59.315420Z"
    }
   },
   "outputs": [],
   "source": [
    "class Student(Person):\n",
    "    __count = 0 #static 변수\n",
    "    #static 변수 앞에 under score 2객(__)을 붙이면, 클래스명._클래스명__static변수명 이름으로 참조\n",
    "    def __init__(self, name, gender, major):\n",
    "        super().__init__(name, gender)\n",
    "        self.major = major\n",
    "        Student._Student__count+=1\n",
    "    def __del__(self):\n",
    "        Student._Student__count-=1\n",
    "    def __str__(self):\n",
    "        return super().__str__() + \", 전공은 {}입니다.\".format(self.major)\n",
    "    @classmethod\n",
    "    def get_count(cls):\n",
    "        return Student._Student__count\n",
    "        #return cls._Student__count"
   ]
  },
  {
   "cell_type": "code",
   "execution_count": 3,
   "id": "f2ef2b67",
   "metadata": {
    "ExecuteTime": {
     "end_time": "2021-07-26T02:52:59.728486Z",
     "start_time": "2021-07-26T02:52:59.712506Z"
    }
   },
   "outputs": [
    {
     "name": "stdout",
     "output_type": "stream",
     "text": [
      "Person 객체 생성합니다.\n",
      "홍길동님은 남, 전공은 빅데이터입니다.\n",
      "객체의 개수 :  1\n",
      "객체의 개수 :  1\n"
     ]
    }
   ],
   "source": [
    "s1=Student(\"홍길동\",\"남\",\"빅데이터\")\n",
    "print(s1)\n",
    "print(\"객체의 개수 : \", Student.get_count())\n",
    "print(\"객체의 개수 : \", s1.get_count())"
   ]
  },
  {
   "cell_type": "code",
   "execution_count": 15,
   "id": "cc559a84",
   "metadata": {
    "ExecuteTime": {
     "end_time": "2021-07-26T02:53:08.474912Z",
     "start_time": "2021-07-26T02:53:08.463937Z"
    }
   },
   "outputs": [
    {
     "name": "stdout",
     "output_type": "stream",
     "text": [
      "Person 객체 생성합니다.\n",
      "1978866620304\n"
     ]
    }
   ],
   "source": [
    "s2=Student(\"홍길순\",\"여\",\"소프트웨어공학\")\n",
    "print(id(s2))"
   ]
  },
  {
   "cell_type": "code",
   "execution_count": null,
   "id": "e60e7ccb",
   "metadata": {
    "ExecuteTime": {
     "end_time": "2021-07-26T02:28:44.770403Z",
     "start_time": "2021-07-26T02:28:44.750428Z"
    }
   },
   "outputs": [],
   "source": [
    "print(Person.__doc__)\n",
    "print(Student.__dict__)"
   ]
  },
  {
   "cell_type": "code",
   "execution_count": null,
   "id": "f98abb75",
   "metadata": {},
   "outputs": [],
   "source": []
  },
  {
   "cell_type": "code",
   "execution_count": null,
   "id": "02e4d95c",
   "metadata": {
    "ExecuteTime": {
     "end_time": "2021-07-26T01:12:14.755191Z",
     "start_time": "2021-07-26T01:12:14.740204Z"
    }
   },
   "outputs": [],
   "source": [
    "del s1,s2\n",
    "print(\"객체의 개수 \", Student.get_count())"
   ]
  },
  {
   "cell_type": "code",
   "execution_count": null,
   "id": "83e7be20",
   "metadata": {},
   "outputs": [],
   "source": []
  }
 ],
 "metadata": {
  "kernelspec": {
   "display_name": "Python 3",
   "language": "python",
   "name": "python3"
  },
  "language_info": {
   "codemirror_mode": {
    "name": "ipython",
    "version": 3
   },
   "file_extension": ".py",
   "mimetype": "text/x-python",
   "name": "python",
   "nbconvert_exporter": "python",
   "pygments_lexer": "ipython3",
   "version": "3.8.8"
  },
  "toc": {
   "base_numbering": 1,
   "nav_menu": {},
   "number_sections": false,
   "sideBar": true,
   "skip_h1_title": false,
   "title_cell": "Table of Contents",
   "title_sidebar": "Contents",
   "toc_cell": false,
   "toc_position": {},
   "toc_section_display": true,
   "toc_window_display": true
  },
  "varInspector": {
   "cols": {
    "lenName": 16,
    "lenType": 16,
    "lenVar": 40
   },
   "kernels_config": {
    "python": {
     "delete_cmd_postfix": "",
     "delete_cmd_prefix": "del ",
     "library": "var_list.py",
     "varRefreshCmd": "print(var_dic_list())"
    },
    "r": {
     "delete_cmd_postfix": ") ",
     "delete_cmd_prefix": "rm(",
     "library": "var_list.r",
     "varRefreshCmd": "cat(var_dic_list()) "
    }
   },
   "types_to_exclude": [
    "module",
    "function",
    "builtin_function_or_method",
    "instance",
    "_Feature"
   ],
   "window_display": false
  }
 },
 "nbformat": 4,
 "nbformat_minor": 5
}
