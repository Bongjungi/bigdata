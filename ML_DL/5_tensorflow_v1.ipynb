{
 "cells": [
  {
   "cell_type": "markdown",
   "id": "03f7d623",
   "metadata": {
    "ExecuteTime": {
     "end_time": "2021-08-13T06:36:57.902363Z",
     "start_time": "2021-08-13T06:36:57.886427Z"
    }
   },
   "source": [
    "## 1. tensorflow v2.x 에서 v1 사용하기"
   ]
  },
  {
   "cell_type": "code",
   "execution_count": 1,
   "id": "4e0dbfb4",
   "metadata": {
    "ExecuteTime": {
     "end_time": "2021-08-16T00:40:25.093859Z",
     "start_time": "2021-08-16T00:39:10.968689Z"
    }
   },
   "outputs": [
    {
     "name": "stdout",
     "output_type": "stream",
     "text": [
      "WARNING:tensorflow:From C:\\Users\\tjoeun\\anaconda3\\lib\\site-packages\\tensorflow\\python\\compat\\v2_compat.py:96: disable_resource_variables (from tensorflow.python.ops.variable_scope) is deprecated and will be removed in a future version.\n",
      "Instructions for updating:\n",
      "non-resource variables are not supported in the long term\n"
     ]
    }
   ],
   "source": [
    "import tensorflow.compat.v1 as tf\n",
    "tf.disable_v2_behavior()\n",
    "#v1로 사용하기"
   ]
  },
  {
   "cell_type": "code",
   "execution_count": 2,
   "id": "a69b6838",
   "metadata": {
    "ExecuteTime": {
     "end_time": "2021-08-16T00:40:28.009157Z",
     "start_time": "2021-08-16T00:40:25.113802Z"
    }
   },
   "outputs": [
    {
     "name": "stdout",
     "output_type": "stream",
     "text": [
      "b'Hello, Tensorflow'\n"
     ]
    }
   ],
   "source": [
    "# tensor = data(상수, 변수)와 연산\n",
    "node1 = tf.constant('Hello, Tensorflow')\n",
    "sess = tf.Session()\n",
    "print(sess.run(node1))"
   ]
  },
  {
   "cell_type": "code",
   "execution_count": 3,
   "id": "7af326a1",
   "metadata": {
    "ExecuteTime": {
     "end_time": "2021-08-16T00:40:28.041051Z",
     "start_time": "2021-08-16T00:40:28.027087Z"
    }
   },
   "outputs": [],
   "source": [
    "#sess.close()\n",
    "sess1=tf.Session()"
   ]
  },
  {
   "cell_type": "code",
   "execution_count": 4,
   "id": "eced4703",
   "metadata": {
    "ExecuteTime": {
     "end_time": "2021-08-16T00:40:28.746474Z",
     "start_time": "2021-08-16T00:40:28.057008Z"
    }
   },
   "outputs": [
    {
     "name": "stdout",
     "output_type": "stream",
     "text": [
      "b'Hello, Tensorflow'\n"
     ]
    }
   ],
   "source": [
    "print(sess.run(node1))"
   ]
  },
  {
   "cell_type": "code",
   "execution_count": 5,
   "id": "53091df6",
   "metadata": {
    "ExecuteTime": {
     "end_time": "2021-08-16T00:40:29.042785Z",
     "start_time": "2021-08-16T00:40:28.765424Z"
    }
   },
   "outputs": [
    {
     "name": "stdout",
     "output_type": "stream",
     "text": [
      "b'Hello, Tensorflow'\n"
     ]
    }
   ],
   "source": [
    "print(sess1.run(node1))"
   ]
  },
  {
   "cell_type": "code",
   "execution_count": 6,
   "id": "b35a6e0d",
   "metadata": {
    "ExecuteTime": {
     "end_time": "2021-08-16T00:40:30.252724Z",
     "start_time": "2021-08-16T00:40:29.059782Z"
    }
   },
   "outputs": [
    {
     "name": "stdout",
     "output_type": "stream",
     "text": [
      "230.0\n"
     ]
    }
   ],
   "source": [
    "# 간단한 수학 연산 수행(graph)\n",
    "node1 = tf.constant(110, dtype=tf.float32)\n",
    "node2 = tf.constant(120, dtype=tf.float32)\n",
    "node3 = tf.add(node1, node2)\n",
    "print(sess.run(node3))"
   ]
  },
  {
   "cell_type": "code",
   "execution_count": 7,
   "id": "f3057128",
   "metadata": {
    "ExecuteTime": {
     "end_time": "2021-08-16T00:40:30.313954Z",
     "start_time": "2021-08-16T00:40:30.269679Z"
    }
   },
   "outputs": [
    {
     "data": {
      "text/plain": [
       "110.0"
      ]
     },
     "execution_count": 7,
     "metadata": {},
     "output_type": "execute_result"
    }
   ],
   "source": [
    "tf.Session().run(node1)"
   ]
  },
  {
   "cell_type": "markdown",
   "id": "af5dbca6",
   "metadata": {},
   "source": [
    "### Tensorflow\n",
    "- 그래프정의\n",
    "- sess = tf.Session()를 실행\n",
    "- sess.run()을 통해 값을 확인할 수 있음"
   ]
  },
  {
   "cell_type": "code",
   "execution_count": 8,
   "id": "cc98e810",
   "metadata": {
    "ExecuteTime": {
     "end_time": "2021-08-16T00:40:30.720862Z",
     "start_time": "2021-08-16T00:40:30.331907Z"
    }
   },
   "outputs": [
    {
     "name": "stdout",
     "output_type": "stream",
     "text": [
      "[array([1., 2., 3.], dtype=float32), array([1, 2, 3], dtype=int16)]\n"
     ]
    }
   ],
   "source": [
    "import numpy as np\n",
    "node1 = tf.constant(np.array([1,2,3]), dtype=tf.int16)\n",
    "node2 = tf.cast(node1, dtype=tf.float32)\n",
    "sess = tf.Session()\n",
    "print(sess.run([node2,node1]))"
   ]
  },
  {
   "cell_type": "code",
   "execution_count": 9,
   "id": "b87dc33f",
   "metadata": {
    "ExecuteTime": {
     "end_time": "2021-08-16T00:40:31.047410Z",
     "start_time": "2021-08-16T00:40:30.737492Z"
    }
   },
   "outputs": [
    {
     "name": "stdout",
     "output_type": "stream",
     "text": [
      "2.5\n"
     ]
    }
   ],
   "source": [
    "data = np.array([1.,2.,3.,4.])\n",
    "m=tf.reduce_mean(data) #reduce_mean : 평균값을 계산\n",
    "sess= tf.Session()\n",
    "print(sess.run(m))"
   ]
  },
  {
   "cell_type": "code",
   "execution_count": 10,
   "id": "62b57e83",
   "metadata": {
    "ExecuteTime": {
     "end_time": "2021-08-16T00:40:36.428190Z",
     "start_time": "2021-08-16T00:40:31.065362Z"
    }
   },
   "outputs": [
    {
     "data": {
      "image/png": "[encoded data removed]",
      "text/plain": [
       "<Figure size 432x288 with 1 Axes>"
      ]
     },
     "metadata": {
      "needs_background": "light"
     },
     "output_type": "display_data"
    }
   ],
   "source": [
    "import matplotlib.pyplot as plt\n",
    "tensor = tf.random_normal([10000]) #random_normal : 평균0이고 표준편차가 1인 난수\n",
    "sess =tf.Session()\n",
    "plt.hist(sess.run(tensor), density=True)\n",
    "plt.show()"
   ]
  },
  {
   "cell_type": "code",
   "execution_count": 11,
   "id": "f19f22b5",
   "metadata": {
    "ExecuteTime": {
     "end_time": "2021-08-16T00:40:36.569357Z",
     "start_time": "2021-08-16T00:40:36.446147Z"
    }
   },
   "outputs": [
    {
     "name": "stdout",
     "output_type": "stream",
     "text": [
      "0.0010912825\n"
     ]
    }
   ],
   "source": [
    "print(sess.run(tf.reduce_mean(tensor)))"
   ]
  },
  {
   "cell_type": "markdown",
   "id": "b15e7c66",
   "metadata": {},
   "source": [
    "## 2. tensorflow v1을 이용한 linear regression을 구현"
   ]
  },
  {
   "cell_type": "markdown",
   "id": "8b00399b",
   "metadata": {},
   "source": [
    "### 독립변수 x가 한개"
   ]
  },
  {
   "cell_type": "code",
   "execution_count": 12,
   "id": "7b46de76",
   "metadata": {
    "ExecuteTime": {
     "end_time": "2021-08-16T00:40:38.590472Z",
     "start_time": "2021-08-16T00:40:36.590325Z"
    }
   },
   "outputs": [
    {
     "name": "stdout",
     "output_type": "stream",
     "text": [
      "300번째 학습시 cost:0.02581273950636387, W값:[0.81384796], b값:[0.42316732]\n",
      "600번째 학습시 cost:0.00609075790271163, W값:[0.90957546], b값:[0.20555626]\n",
      "900번째 학습시 cost:0.0014371724100783467, W값:[0.95607567], b값:[0.09985032]\n",
      "1200번째 학습시 cost:0.0003391131467651576, W값:[0.9786635], b값:[0.04850295]\n",
      "1500번째 학습시 cost:8.001918467925861e-05, W값:[0.9896354], b값:[0.02356087]\n",
      "1800번째 학습시 cost:1.888131009764038e-05, W값:[0.9949654], b값:[0.01144491]\n",
      "2100번째 학습시 cost:4.455227553989971e-06, W값:[0.9975544], b값:[0.00555938]\n",
      "2400번째 학습시 cost:1.0512867447687313e-06, W값:[0.99881196], b값:[0.00270055]\n",
      "2700번째 학습시 cost:2.4818675115056976e-07, W값:[0.9994227], b값:[0.00131214]\n",
      "3000번째 학습시 cost:5.8687422921366306e-08, W값:[0.99971926], b값:[0.00063801]\n",
      "3300번째 학습시 cost:1.3916721108842012e-08, W값:[0.9998634], b값:[0.00031063]\n",
      "3600번째 학습시 cost:3.305756335336696e-09, W값:[0.9999334], b값:[0.00015152]\n",
      "3900번째 학습시 cost:7.884886632503196e-10, W값:[0.9999674], b값:[7.3857605e-05]\n",
      "4200번째 학습시 cost:1.856051978776918e-10, W값:[0.99998426], b값:[3.5911842e-05]\n",
      "4500번째 학습시 cost:4.584961230125195e-11, W값:[0.99999213], b값:[1.7743872e-05]\n",
      "4800번째 학습시 cost:1.4436569127640464e-11, W값:[0.99999547], b값:[9.912142e-06]\n",
      "5100번째 학습시 cost:6.5339352851856436e-12, W값:[0.9999969], b값:[6.551652e-06]\n",
      "5400번째 학습시 cost:4.1395194563809135e-12, W값:[0.99999756], b값:[5.1479283e-06]\n",
      "5700번째 학습시 cost:3.2458382769745553e-12, W값:[0.99999774], b값:[4.540236e-06]\n",
      "6000번째 학습시 cost:3.243232722313638e-12, W값:[0.99999774], b값:[4.490333e-06]\n"
     ]
    }
   ],
   "source": [
    "# tensor graph 정의\n",
    "# data set\n",
    "x = np.array([1,2,3])\n",
    "y = np.array([1,2,3])\n",
    "# Weight와 Bias (처음에는 랜덤값을 세팅했다가 학습과정에서 변경)\n",
    "W = tf.Variable(tf.random.normal([1]), name='weight')\n",
    "b = tf.Variable(tf.random.normal([1]), name='bias')\n",
    "# Hypothesis\n",
    "H =W*x+b\n",
    "# cost function(최소 제곰법)\n",
    "cost = tf.reduce_mean(tf.square(H-y))\n",
    "# 우리의 목적인 cost가 최소가 되는 W와 b를 찾는 것\n",
    "'''\n",
    "cost함수는 제곱의 평균인 2차함수이므로 곡선. 곡선 위 미분값이 줄어드는 방향으로 학습\n",
    "'''\n",
    "optimizer = tf.train.GradientDescentOptimizer(learning_rate=0.01)\n",
    "train = optimizer.minimize(cost)\n",
    "\n",
    "#Session\n",
    "sess= tf.Session()\n",
    "#Variable 노드 (W, b) 초기화\n",
    "sess.run(tf.global_variables_initializer())\n",
    "\n",
    "# 6000번 학습 (v2에서는 fit함수)\n",
    "# for step in range(1,6001):\n",
    "#     sess.run(train)\n",
    "#     if step%300==0:\n",
    "#         print(\"{}번째 학습시 cost:{}, W값:{}, b값:{}\".format(step, sess.run(cost), sess.run(W), sess.run(b)))\n",
    "        \n",
    "for step in range(1,6001):\n",
    "    _, cost_val, W_val, b_val=sess.run([train, cost, W, b])\n",
    "    if step%300==0:\n",
    "        print(\"{}번째 학습시 cost:{}, W값:{}, b값:{}\".format(step, cost_val, W_val, b_val))"
   ]
  },
  {
   "cell_type": "code",
   "execution_count": 13,
   "id": "c5f3359f",
   "metadata": {
    "ExecuteTime": {
     "end_time": "2021-08-16T00:40:38.652945Z",
     "start_time": "2021-08-16T00:40:38.639893Z"
    }
   },
   "outputs": [
    {
     "data": {
      "text/plain": [
       "[array([0.99999774], dtype=float32), array([4.490333e-06], dtype=float32)]"
      ]
     },
     "execution_count": 13,
     "metadata": {},
     "output_type": "execute_result"
    }
   ],
   "source": [
    "sess.run([W,b])"
   ]
  },
  {
   "cell_type": "code",
   "execution_count": 14,
   "id": "9ef1578e",
   "metadata": {
    "ExecuteTime": {
     "end_time": "2021-08-16T00:40:38.760882Z",
     "start_time": "2021-08-16T00:40:38.669781Z"
    }
   },
   "outputs": [],
   "source": [
    "W_, b_ = sess.run([W,b])"
   ]
  },
  {
   "cell_type": "code",
   "execution_count": 15,
   "id": "c7b64c5e",
   "metadata": {
    "ExecuteTime": {
     "end_time": "2021-08-16T00:40:38.855728Z",
     "start_time": "2021-08-16T00:40:38.778477Z"
    }
   },
   "outputs": [
    {
     "name": "stdout",
     "output_type": "stream",
     "text": [
      "0.99999774 4.490333e-06\n"
     ]
    }
   ],
   "source": [
    "print(W_[0],b_[0])"
   ]
  },
  {
   "cell_type": "code",
   "execution_count": 16,
   "id": "6a8b972c",
   "metadata": {
    "ExecuteTime": {
     "end_time": "2021-08-16T00:40:38.981387Z",
     "start_time": "2021-08-16T00:40:38.873653Z"
    }
   },
   "outputs": [
    {
     "data": {
      "text/plain": [
       "tensorflow.python.framework.ops.Tensor"
      ]
     },
     "execution_count": 16,
     "metadata": {},
     "output_type": "execute_result"
    }
   ],
   "source": [
    "type(H)"
   ]
  },
  {
   "cell_type": "code",
   "execution_count": 17,
   "id": "2d357291",
   "metadata": {
    "ExecuteTime": {
     "end_time": "2021-08-16T00:40:40.201295Z",
     "start_time": "2021-08-16T00:40:38.998343Z"
    }
   },
   "outputs": [
    {
     "name": "stdout",
     "output_type": "stream",
     "text": [
      "1번쨰 cost : 45893.76171875, W : 100.0, b : [0.392949]\n",
      "101번쨰 cost : 115.9096908569336, W : 13.504847526550293, b : [-28.424694]\n",
      "201번쨰 cost : 71.6250991821289, W : 10.829434394836426, b : [-22.344616]\n",
      "301번쨰 cost : 44.259952545166016, W : 8.72683048248291, b : [-17.564903]\n",
      "401번쨰 cost : 27.349952697753906, W : 7.07399320602417, b : [-13.807612]\n",
      "501번쨰 cost : 16.900615692138672, W : 5.774713039398193, b : [-10.854044]\n",
      "601번쨰 cost : 10.443562507629395, W : 4.753360271453857, b : [-8.532271]\n",
      "701번쨰 cost : 6.453489780426025, W : 3.950484275817871, b : [-6.707144]\n",
      "801번쨰 cost : 3.987863302230835, W : 3.3193485736846924, b : [-5.272425]\n",
      "901번쨰 cost : 2.464256525039673, W : 2.8232192993164062, b : [-4.144606]\n",
      "1001번쨰 cost : 1.5227603912353516, W : 2.433216094970703, b : [-3.2580376]\n",
      "1101번쨰 cost : 0.9409739375114441, W : 2.126638889312744, b : [-2.561115]\n",
      "1201번쨰 cost : 0.5814647674560547, W : 1.8856407403945923, b : [-2.01327]\n",
      "1301번쨰 cost : 0.3593098223209381, W : 1.6961945295333862, b : [-1.5826135]\n",
      "1401번쨰 cost : 0.2220316082239151, W : 1.5472720861434937, b : [-1.2440784]\n",
      "1501번쨰 cost : 0.13720209896564484, W : 1.430206060409546, b : [-0.97795916]\n",
      "1601번쨰 cost : 0.08478260040283203, W : 1.3381810188293457, b : [-0.76876515]\n",
      "1701번쨰 cost : 0.05239052698016167, W : 1.2658411264419556, b : [-0.6043195]\n",
      "1801번쨰 cost : 0.03237415477633476, W : 1.2089754343032837, b : [-0.47505012]\n",
      "1901번쨰 cost : 0.0200052410364151, W : 1.1642735004425049, b : [-0.3734326]\n",
      "2001번쨰 cost : 0.012362021952867508, W : 1.1291340589523315, b : [-0.2935521]\n",
      "2101번쨰 cost : 0.007638968527317047, W : 1.101511001586914, b : [-0.23075849]\n",
      "2201번쨰 cost : 0.004720429424196482, W : 1.0797969102859497, b : [-0.18139735]\n",
      "2301번쨰 cost : 0.0029169321060180664, W : 1.0627278089523315, b : [-0.14259477]\n",
      "2401번쨰 cost : 0.0018024839228019118, W : 1.0493096113204956, b : [-0.11209247]\n",
      "2501번쨰 cost : 0.0011138307163491845, W : 1.0387619733810425, b : [-0.0881151]\n",
      "2601번쨰 cost : 0.0006882829475216568, W : 1.030470609664917, b : [-0.06926654]\n",
      "2701번쨰 cost : 0.00042531732469797134, W : 1.023952603340149, b : [-0.05444976]\n",
      "2801번쨰 cost : 0.00026282391627319157, W : 1.0188289880752563, b : [-0.04280278]\n",
      "2901번쨰 cost : 0.00016240740660578012, W : 1.014801263809204, b : [-0.03364676]\n",
      "3001번쨰 cost : 0.00010035772720584646, W : 1.011635184288025, b : [-0.02644948]\n",
      "3101번쨰 cost : 6.20145074208267e-05, W : 1.0091462135314941, b : [-0.02079157]\n",
      "3201번쨰 cost : 3.832192305708304e-05, W : 1.0071898698806763, b : [-0.01634409]\n",
      "3301번쨰 cost : 2.3679887817706913e-05, W : 1.005651831626892, b : [-0.01284793]\n",
      "3401번쨰 cost : 1.4632928468927275e-05, W : 1.004442811012268, b : [-0.01009955]\n",
      "3501번쨰 cost : 9.042435522133019e-06, W : 1.0034924745559692, b : [-0.00793923]\n",
      "3601번쨰 cost : 5.58760666535818e-06, W : 1.002745509147644, b : [-0.00624105]\n",
      "3701번쨰 cost : 3.4533122743596323e-06, W : 1.002158284187317, b : [-0.00490625]\n",
      "3801번쨰 cost : 2.1342116269806866e-06, W : 1.0016968250274658, b : [-0.00385704]\n",
      "3901번쨰 cost : 1.3190152685638168e-06, W : 1.0013340711593628, b : [-0.00303228]\n"
     ]
    }
   ],
   "source": [
    "# tensor graph 정의\n",
    "x=[1,2,3]\n",
    "y=[1,2,3]\n",
    "# Weight와 Bias\n",
    "W = tf.Variable(100.0, name=\"weight\")\n",
    "b = tf.Variable(tf.random.normal([1]), name='bias')\n",
    "# Hypothesis\n",
    "H=W*x+b\n",
    "# cost(최소제곱법)\n",
    "cost = tf.reduce_mean(tf.square(H-y))\n",
    "train = tf.train.GradientDescentOptimizer(learning_rate=0.01).minimize(cost)\n",
    "# session\n",
    "sess = tf.Session()\n",
    "# b노드 초기화\n",
    "sess.run(tf.global_variables_initializer())\n",
    "# 4000번 학습\n",
    "for step in range(1,4001):\n",
    "    cost_val, W_val, b_val = sess.run([cost,W,b])\n",
    "    if step%100==1 :\n",
    "        print(\"{}번쨰 cost : {}, W : {}, b : {}\".format(step, cost_val, W_val, b_val))\n",
    "    sess.run(train)"
   ]
  },
  {
   "cell_type": "markdown",
   "id": "af250598",
   "metadata": {},
   "source": [
    "### 2.2 predict를 하기 위한 placeholder 이용"
   ]
  },
  {
   "cell_type": "code",
   "execution_count": 18,
   "id": "baca99fa",
   "metadata": {
    "ExecuteTime": {
     "end_time": "2021-08-16T00:40:40.419180Z",
     "start_time": "2021-08-16T00:40:40.219275Z"
    }
   },
   "outputs": [
    {
     "data": {
      "text/plain": [
       "30.0"
      ]
     },
     "execution_count": 18,
     "metadata": {},
     "output_type": "execute_result"
    }
   ],
   "source": [
    "# placeholder 이용\n",
    "a = tf.placeholder(tf.float32)\n",
    "b = tf.placeholder(tf.float32)\n",
    "ab = a+b\n",
    "sess = tf.Session()\n",
    "sess.run(ab, feed_dict={a:10, b:20})"
   ]
  },
  {
   "cell_type": "code",
   "execution_count": 19,
   "id": "1d5cf9a7",
   "metadata": {
    "ExecuteTime": {
     "end_time": "2021-08-16T00:40:40.497242Z",
     "start_time": "2021-08-16T00:40:40.436807Z"
    }
   },
   "outputs": [
    {
     "data": {
      "text/plain": [
       "array([1., 2., 3.], dtype=float32)"
      ]
     },
     "execution_count": 19,
     "metadata": {},
     "output_type": "execute_result"
    }
   ],
   "source": [
    "sess.run(a, feed_dict={a:[1,2,3]})"
   ]
  },
  {
   "cell_type": "code",
   "execution_count": 20,
   "id": "e324e8cc",
   "metadata": {
    "ExecuteTime": {
     "end_time": "2021-08-16T00:40:40.607152Z",
     "start_time": "2021-08-16T00:40:40.513099Z"
    }
   },
   "outputs": [
    {
     "data": {
      "text/plain": [
       "array([11., 22., 33.], dtype=float32)"
      ]
     },
     "execution_count": 20,
     "metadata": {},
     "output_type": "execute_result"
    }
   ],
   "source": [
    "sess.run(ab, feed_dict={a:np.array([10,20,30]),\n",
    "                       b:np.array([1,2,3])})"
   ]
  },
  {
   "cell_type": "code",
   "execution_count": 21,
   "id": "0a931988",
   "metadata": {
    "ExecuteTime": {
     "end_time": "2021-08-16T00:40:42.887038Z",
     "start_time": "2021-08-16T00:40:40.624292Z"
    }
   },
   "outputs": [
    {
     "name": "stdout",
     "output_type": "stream",
     "text": [
      "200번쨰 cost : 0.5720560550689697, W : [2.876335], b : [1.007885]\n",
      "400번쨰 cost : 0.21843957901000977, W : [2.5415223], b : [1.768993]\n",
      "600번쨰 cost : 0.08341100066900253, W : [2.3346279], b : [2.2393122]\n",
      "800번쨰 cost : 0.03185036778450012, W : [2.20678], b : [2.5299408]\n",
      "1000번쨰 cost : 0.01216204185038805, W : [2.1277773], b : [2.709532]\n",
      "1200번쨰 cost : 0.00464400602504611, W : [2.078958], b : [2.8205092]\n",
      "1400번쨰 cost : 0.0017733311979100108, W : [2.0487914], b : [2.8890855]\n",
      "1600번쨰 cost : 0.0006771272164769471, W : [2.03015], b : [2.9314618]\n",
      "1800번쨰 cost : 0.00025857469881884754, W : [2.018631], b : [2.9576468]\n",
      "2000번쨰 cost : 9.8733878985513e-05, W : [2.0115128], b : [2.9738288]\n",
      "2200번쨰 cost : 3.77056458091829e-05, W : [2.0071146], b : [2.983827]\n",
      "2400번쨰 cost : 1.4398146049643401e-05, W : [2.0043967], b : [2.9900053]\n",
      "2600번쨰 cost : 5.500347469933331e-06, W : [2.0027173], b : [2.993823]\n",
      "2800번쨰 cost : 2.1029247818660224e-06, W : [2.0016804], b : [2.9961812]\n",
      "3000번쨰 cost : 8.048173185670748e-07, W : [2.0010393], b : [2.9976375]\n",
      "3200번쨰 cost : 3.085036439642863e-07, W : [2.0006433], b : [2.9985373]\n",
      "3400번쨰 cost : 1.1861455817552269e-07, W : [2.0003994], b : [2.999093]\n",
      "3600번쨰 cost : 4.577365686486701e-08, W : [2.000248], b : [2.9994366]\n",
      "3800번쨰 cost : 1.7691567322231094e-08, W : [2.000154], b : [2.9996498]\n",
      "4000번쨰 cost : 7.182279659900814e-09, W : [2.0000973], b : [2.9997766]\n",
      "4200번쨰 cost : 2.6523896412555814e-09, W : [2.0000591], b : [2.9998646]\n",
      "4400번쨰 cost : 1.1101898289567202e-09, W : [2.0000389], b : [2.9999123]\n",
      "4600번쨰 cost : 4.848364487664014e-10, W : [2.000026], b : [2.999942]\n",
      "4800번쨰 cost : 4.848364487664014e-10, W : [2.000026], b : [2.999942]\n",
      "5000번쨰 cost : 4.848364487664014e-10, W : [2.000026], b : [2.999942]\n",
      "5200번쨰 cost : 4.848364487664014e-10, W : [2.000026], b : [2.999942]\n",
      "5400번쨰 cost : 4.848364487664014e-10, W : [2.000026], b : [2.999942]\n",
      "5600번쨰 cost : 4.848364487664014e-10, W : [2.000026], b : [2.999942]\n",
      "5800번쨰 cost : 4.848364487664014e-10, W : [2.000026], b : [2.999942]\n",
      "6000번쨰 cost : 4.848364487664014e-10, W : [2.000026], b : [2.999942]\n"
     ]
    }
   ],
   "source": [
    "# data set (H = 2x + 3)\n",
    "x_data = [1,2,3]\n",
    "y_data = [5,7,9]\n",
    "\n",
    "# placeholder 설정\n",
    "x = tf.placeholder(dtype=tf.float32)\n",
    "y = tf.placeholder(dtype=tf.float32)\n",
    "\n",
    "# Weight & bias\n",
    "W = tf.Variable(tf.random.normal([1]), name='weight')\n",
    "b = tf.Variable(tf.random.normal([1]), name='bias')\n",
    "\n",
    "# Hypothesis\n",
    "H = W*x+b\n",
    "\n",
    "# cost function\n",
    "cost = tf.reduce_mean(tf.square(H-y))\n",
    "\n",
    "#경사하강법\n",
    "optimizer = tf.train.GradientDescentOptimizer(learning_rate=0.01)\n",
    "train = optimizer.minimize(cost)\n",
    "\n",
    "#Session & Variable 초기화\n",
    "sess = tf.Session()\n",
    "sess.run(tf.global_variables_initializer())\n",
    "for step in range(1, 6001):\n",
    "    _, cost_val, W_val, b_val = sess.run([train, cost, W, b], feed_dict={x:x_data, y:y_data})\n",
    "    if step%200==0:\n",
    "        print(\"{}번쨰 cost : {}, W : {}, b : {}\".format(step, cost_val, W_val, b_val))"
   ]
  },
  {
   "cell_type": "code",
   "execution_count": 22,
   "id": "bf214273",
   "metadata": {
    "ExecuteTime": {
     "end_time": "2021-08-16T00:40:42.918980Z",
     "start_time": "2021-08-16T00:40:42.903993Z"
    }
   },
   "outputs": [
    {
     "data": {
      "text/plain": [
       "[array([2.000026], dtype=float32), array([2.999942], dtype=float32)]"
      ]
     },
     "execution_count": 22,
     "metadata": {},
     "output_type": "execute_result"
    }
   ],
   "source": [
    "sess.run([W,b])"
   ]
  },
  {
   "cell_type": "code",
   "execution_count": 23,
   "id": "9d045343",
   "metadata": {
    "ExecuteTime": {
     "end_time": "2021-08-16T00:40:43.089791Z",
     "start_time": "2021-08-16T00:40:42.936905Z"
    }
   },
   "outputs": [
    {
     "data": {
      "text/plain": [
       "array([13.000072, 17.000124], dtype=float32)"
      ]
     },
     "execution_count": 23,
     "metadata": {},
     "output_type": "execute_result"
    }
   ],
   "source": [
    "# 예측해 보기\n",
    "sess.run(H,feed_dict={x:np.array([5,7])})"
   ]
  },
  {
   "cell_type": "markdown",
   "id": "9f3c621e",
   "metadata": {},
   "source": [
    "### 2.3 scale이 다른 데이터들의 linear regression을 구현"
   ]
  },
  {
   "cell_type": "code",
   "execution_count": 24,
   "id": "289783a9",
   "metadata": {
    "ExecuteTime": {
     "end_time": "2021-08-16T00:40:45.186634Z",
     "start_time": "2021-08-16T00:40:43.107902Z"
    }
   },
   "outputs": [
    {
     "name": "stdout",
     "output_type": "stream",
     "text": [
      "200번쨰 cost : 79.17955780029297, W : [10.111038], b : [0.13022931]\n",
      "400번쨰 cost : 79.14315032958984, W : [10.145075], b : [-0.12179032]\n",
      "600번쨰 cost : 79.13977813720703, W : [10.155385], b : [-0.1981254]\n",
      "800번쨰 cost : 79.1395034790039, W : [10.158506], b : [-0.22124675]\n",
      "1000번쨰 cost : 79.13944244384766, W : [10.159453], b : [-0.22824912]\n",
      "1200번쨰 cost : 79.13948059082031, W : [10.1597395], b : [-0.23037018]\n",
      "1400번쨰 cost : 79.13945007324219, W : [10.159826], b : [-0.23101318]\n",
      "1600번쨰 cost : 79.13944244384766, W : [10.159853], b : [-0.23120616]\n",
      "1800번쨰 cost : 79.13948059082031, W : [10.15986], b : [-0.23126489]\n",
      "2000번쨰 cost : 79.13947296142578, W : [10.159862], b : [-0.23128039]\n",
      "2200번쨰 cost : 79.13946533203125, W : [10.1598625], b : [-0.23128368]\n",
      "2400번쨰 cost : 79.13946533203125, W : [10.1598625], b : [-0.23128368]\n",
      "2600번쨰 cost : 79.13946533203125, W : [10.1598625], b : [-0.23128368]\n",
      "2800번쨰 cost : 79.13946533203125, W : [10.1598625], b : [-0.23128368]\n",
      "3000번쨰 cost : 79.13946533203125, W : [10.1598625], b : [-0.23128368]\n",
      "3200번쨰 cost : 79.13946533203125, W : [10.1598625], b : [-0.23128368]\n",
      "3400번쨰 cost : 79.13946533203125, W : [10.1598625], b : [-0.23128368]\n",
      "3600번쨰 cost : 79.13946533203125, W : [10.1598625], b : [-0.23128368]\n",
      "3800번쨰 cost : 79.13946533203125, W : [10.1598625], b : [-0.23128368]\n",
      "4000번쨰 cost : 79.13946533203125, W : [10.1598625], b : [-0.23128368]\n",
      "4200번쨰 cost : 79.13946533203125, W : [10.1598625], b : [-0.23128368]\n",
      "4400번쨰 cost : 79.13946533203125, W : [10.1598625], b : [-0.23128368]\n",
      "4600번쨰 cost : 79.13946533203125, W : [10.1598625], b : [-0.23128368]\n",
      "4800번쨰 cost : 79.13946533203125, W : [10.1598625], b : [-0.23128368]\n",
      "5000번쨰 cost : 79.13946533203125, W : [10.1598625], b : [-0.23128368]\n",
      "5200번쨰 cost : 79.13946533203125, W : [10.1598625], b : [-0.23128368]\n",
      "5400번쨰 cost : 79.13946533203125, W : [10.1598625], b : [-0.23128368]\n",
      "5600번쨰 cost : 79.13946533203125, W : [10.1598625], b : [-0.23128368]\n",
      "5800번쨰 cost : 79.13946533203125, W : [10.1598625], b : [-0.23128368]\n",
      "6000번쨰 cost : 79.13946533203125, W : [10.1598625], b : [-0.23128368]\n"
     ]
    }
   ],
   "source": [
    "#이렇게 하면 안됨\n",
    "x_data = [1,2,5,8,10]\n",
    "y_data = [5,15,68,80,95]\n",
    "\n",
    "# placeholder 설정\n",
    "x = tf.placeholder(dtype=tf.float32)\n",
    "y = tf.placeholder(dtype=tf.float32)\n",
    "\n",
    "# Weight & bias\n",
    "W = tf.Variable(tf.random.normal([1]), name='weight')\n",
    "b = tf.Variable(tf.random.normal([1]), name='bias')\n",
    "\n",
    "# Hypothesis\n",
    "H = W*x+b\n",
    "\n",
    "# cost function\n",
    "cost = tf.reduce_mean(tf.square(H-y))\n",
    "\n",
    "#경사하강법\n",
    "optimizer = tf.train.GradientDescentOptimizer(learning_rate=0.01)\n",
    "train = optimizer.minimize(cost)\n",
    "\n",
    "#Session & Variable 초기화\n",
    "sess = tf.Session()\n",
    "sess.run(tf.global_variables_initializer())\n",
    "for step in range(1, 6001):\n",
    "    _, cost_val, W_val, b_val = sess.run([train, cost, W, b], feed_dict={x:x_data, y:y_data})\n",
    "    if step%200==0:\n",
    "        print(\"{}번쨰 cost : {}, W : {}, b : {}\".format(step, cost_val, W_val, b_val))"
   ]
  },
  {
   "cell_type": "code",
   "execution_count": 25,
   "id": "2e962d1b",
   "metadata": {
    "ExecuteTime": {
     "end_time": "2021-08-16T00:46:35.357025Z",
     "start_time": "2021-08-16T00:46:35.350045Z"
    }
   },
   "outputs": [],
   "source": [
    "#예측이 안 되는 이유 : GradientDescentOptimier에서 local최소값을 만나면 멈춤(global 최소값이 따로 있다고 해도)"
   ]
  },
  {
   "cell_type": "code",
   "execution_count": 26,
   "id": "b784e175",
   "metadata": {
    "ExecuteTime": {
     "end_time": "2021-08-16T00:50:27.864671Z",
     "start_time": "2021-08-16T00:50:20.020797Z"
    }
   },
   "outputs": [],
   "source": [
    "#컴퓨터를 on한 후에\n",
    "import tensorflow.compat.v1 as tf\n",
    "tf.disable_v2_behavior()\n",
    "import numpy as np\n",
    "import pandas as pd\n",
    "import matplotlib.pyplot as plt\n",
    "import seaborn as sns\n",
    "import warnings\n",
    "warnings.filterwarnings(action='ignore')"
   ]
  },
  {
   "cell_type": "markdown",
   "id": "b7c8f0ef",
   "metadata": {},
   "source": [
    "## 3. 독립변수 x가 여러 개인 linear regression\n",
    "- 교안 pt. 25"
   ]
  },
  {
   "cell_type": "code",
   "execution_count": 33,
   "id": "ab8fd544",
   "metadata": {
    "ExecuteTime": {
     "end_time": "2021-08-16T01:24:21.199600Z",
     "start_time": "2021-08-16T01:24:19.759456Z"
    }
   },
   "outputs": [
    {
     "name": "stdout",
     "output_type": "stream",
     "text": [
      "1번째 cost : 2.396723747253418\n",
      "301번째 cost : 0.7442036271095276\n",
      "601번째 cost : 0.7307403683662415\n",
      "901번째 cost : 0.7182663083076477\n",
      "1201번째 cost : 0.706680953502655\n",
      "1501번째 cost : 0.6958528757095337\n",
      "1801번째 cost : 0.6856766939163208\n",
      "2101번째 cost : 0.6760711669921875\n",
      "2401번째 cost : 0.6669645309448242\n",
      "2701번째 cost : 0.6583072543144226\n",
      "3001번째 cost : 0.6500355005264282\n",
      "3301번째 cost : 0.6420927047729492\n",
      "3601번째 cost : 0.634466290473938\n",
      "3901번째 cost : 0.6271037459373474\n",
      "4201번째 cost : 0.6200004816055298\n",
      "4501번째 cost : 0.6130997538566589\n",
      "4801번째 cost : 0.6063944101333618\n",
      "5101번째 cost : 0.5998837351799011\n",
      "5401번째 cost : 0.593518853187561\n",
      "5701번째 cost : 0.5873169302940369\n"
     ]
    }
   ],
   "source": [
    "# data set\n",
    "x_data = np.array([[73,80,75],[93,88,93],[89,91,90],[96,98,100],[73,66,70]])\n",
    "y_data = np.array([[152],[185],[180],[196],[142]])\n",
    "\n",
    "# tensor graph 정의\n",
    "# placeholder\n",
    "X = tf.placeholder(shape = [None,3], dtype = tf.float32)\n",
    "Y = tf.placeholder(shape = [None,1], dtype = tf.float32)\n",
    "\n",
    "# Weight & bias (weight 3개, bias 1개)\n",
    "W = tf.Variable(tf.random_normal([3,1]), name = 'weight')\n",
    "b = tf.Variable(tf.random_normal([1]), name = 'bias')\n",
    "\n",
    "# Hypothesis\n",
    "#H = X @ W + b\n",
    "H = tf.matmul(X,W) + b\n",
    "\n",
    "# cost\n",
    "cost = tf.reduce_mean(tf.square(H-Y))\n",
    "\n",
    "# train\n",
    "train = tf.train.GradientDescentOptimizer(learning_rate=0.00001).minimize(cost)\n",
    "\n",
    "# Session & Variable 초기화\n",
    "sess = tf.Session()\n",
    "sess.run(tf.global_variables_initializer())\n",
    "\n",
    "# 학습\n",
    "for step in range(1, 6001):\n",
    "    _, cost_val = sess.run([train, cost], feed_dict={X : x_data, Y : y_data})\n",
    "    if step % 300 == 1 :\n",
    "        print(\"{}번째 cost : {}\".format(step, cost_val))\n"
   ]
  },
  {
   "cell_type": "code",
   "execution_count": 34,
   "id": "fed0e422",
   "metadata": {
    "ExecuteTime": {
     "end_time": "2021-08-16T01:37:27.546194Z",
     "start_time": "2021-08-16T01:37:27.527245Z"
    }
   },
   "outputs": [
    {
     "data": {
      "text/plain": [
       "array([[152.2114]], dtype=float32)"
      ]
     },
     "execution_count": 34,
     "metadata": {},
     "output_type": "execute_result"
    }
   ],
   "source": [
    "#예측해보기\n",
    "sess.run(H, feed_dict={X:np.array([[73,80,72]])})"
   ]
  },
  {
   "cell_type": "markdown",
   "id": "646ff457",
   "metadata": {},
   "source": [
    "## 4. Ozone량 예측 예제(scale 조정 필요)\n",
    "- 독립변수 x가 3개\n",
    "- Multi-variable Linear Regression"
   ]
  },
  {
   "cell_type": "code",
   "execution_count": 43,
   "id": "613b1efb",
   "metadata": {
    "ExecuteTime": {
     "end_time": "2021-08-16T01:54:16.585368Z",
     "start_time": "2021-08-16T01:54:16.565415Z"
    }
   },
   "outputs": [],
   "source": [
    "#data = np.loadtxt('./data/ozone.csv', delimiter=',') #헤더 NA때문에 사용불가\n",
    "data = pd.read_csv('./data/ozone.csv')"
   ]
  },
  {
   "cell_type": "code",
   "execution_count": 44,
   "id": "864c8756",
   "metadata": {
    "ExecuteTime": {
     "end_time": "2021-08-16T01:54:16.974393Z",
     "start_time": "2021-08-16T01:54:16.948462Z"
    }
   },
   "outputs": [
    {
     "name": "stdout",
     "output_type": "stream",
     "text": [
      "<class 'pandas.core.frame.DataFrame'>\n",
      "RangeIndex: 153 entries, 0 to 152\n",
      "Data columns (total 6 columns):\n",
      " #   Column   Non-Null Count  Dtype  \n",
      "---  ------   --------------  -----  \n",
      " 0   Ozone    116 non-null    float64\n",
      " 1   Solar.R  146 non-null    float64\n",
      " 2   Wind     153 non-null    float64\n",
      " 3   Temp     153 non-null    int64  \n",
      " 4   Month    153 non-null    int64  \n",
      " 5   Day      153 non-null    int64  \n",
      "dtypes: float64(3), int64(3)\n",
      "memory usage: 7.3 KB\n"
     ]
    }
   ],
   "source": [
    "data.info()"
   ]
  },
  {
   "cell_type": "code",
   "execution_count": 77,
   "id": "087e2d7c",
   "metadata": {
    "ExecuteTime": {
     "end_time": "2021-08-16T02:57:13.386577Z",
     "start_time": "2021-08-16T02:57:11.859792Z"
    }
   },
   "outputs": [
    {
     "name": "stdout",
     "output_type": "stream",
     "text": [
      "1번째 cost : 9102.2626953125\n",
      "301번째 cost : nan\n",
      "601번째 cost : nan\n",
      "901번째 cost : nan\n",
      "1201번째 cost : nan\n",
      "1501번째 cost : nan\n",
      "1801번째 cost : nan\n",
      "2101번째 cost : nan\n",
      "2401번째 cost : nan\n",
      "2701번째 cost : nan\n",
      "3001번째 cost : nan\n",
      "3301번째 cost : nan\n",
      "3601번째 cost : nan\n",
      "3901번째 cost : nan\n",
      "4201번째 cost : nan\n",
      "4501번째 cost : nan\n",
      "4801번째 cost : nan\n",
      "5101번째 cost : nan\n",
      "5401번째 cost : nan\n",
      "5701번째 cost : nan\n"
     ]
    }
   ],
   "source": [
    "#data = np.loadtxt('./data/ozone.csv', delimiter=',') #헤더 NA때문에 사용불가\n",
    "data = pd.read_csv('./data/ozone.csv')\n",
    "# ML이나 DL에서는 결측치 정제 작업 필요\n",
    "data=data.dropna(how='any', axis=0) # 결측치가 한 열이라도 있는 행 삭제\n",
    "# 필요한 독립변수, 종속변수 추출\n",
    "data = data[['Ozone','Solar.R','Wind','Temp']]\n",
    "# x_data = np.array(data[['Solar.R','Wind','Temp']])\n",
    "x_data = data[['Solar.R','Wind','Temp']].values\n",
    "# y_data = data['Ozone'].values.reshape(-1,1)\n",
    "y_data = data[['Ozone']].values\n",
    "x_data.shape, y_data.shape\n",
    "# tensorflow 구현\n",
    "# 1. X, Y\n",
    "X = tf.placeholder(shape=[None, 3], dtype=tf.float32)\n",
    "Y = tf.placeholder(shape=[None, 1], dtype=tf.float32)\n",
    "# 2. weight, bias\n",
    "W=tf.Variable(tf.random_normal([3,1]), name='weight')\n",
    "b=tf.Variable(tf.random_normal([1]), name='bias')\n",
    "# 3. Hypothesis\n",
    "H = tf.matmul(X, W) + b\n",
    "# 4. cost 함수\n",
    "cost = tf.reduce_mean(tf.square(H-Y))\n",
    "# 5. train\n",
    "train = tf.train.GradientDescentOptimizer(learning_rate=1e-2).minimize(cost)\n",
    "# 6. Session & 변수 초기화\n",
    "sess = tf.Session()\n",
    "sess.run(tf.global_variables_initializer())\n",
    "# 7. 학습\n",
    "for step in range(1,6001):\n",
    "    _, cost_val = sess.run([train, cost], feed_dict={X:x_data, Y:y_data})\n",
    "    if step % 300 == 1:\n",
    "        print(\"{}번째 cost : {}\".format(step, cost_val))"
   ]
  },
  {
   "cell_type": "code",
   "execution_count": 60,
   "id": "18554d9d",
   "metadata": {
    "ExecuteTime": {
     "end_time": "2021-08-16T02:18:33.903083Z",
     "start_time": "2021-08-16T02:18:33.886106Z"
    }
   },
   "outputs": [
    {
     "data": {
      "text/html": [
       "<div>\n",
       "<style scoped>\n",
       "    .dataframe tbody tr th:only-of-type {\n",
       "        vertical-align: middle;\n",
       "    }\n",
       "\n",
       "    .dataframe tbody tr th {\n",
       "        vertical-align: top;\n",
       "    }\n",
       "\n",
       "    .dataframe thead th {\n",
       "        text-align: right;\n",
       "    }\n",
       "</style>\n",
       "<table border=\"1\" class=\"dataframe\">\n",
       "  <thead>\n",
       "    <tr style=\"text-align: right;\">\n",
       "      <th></th>\n",
       "      <th>Ozone</th>\n",
       "      <th>Solar.R</th>\n",
       "      <th>Wind</th>\n",
       "      <th>Temp</th>\n",
       "    </tr>\n",
       "  </thead>\n",
       "  <tbody>\n",
       "    <tr>\n",
       "      <th>1</th>\n",
       "      <td>36.0</td>\n",
       "      <td>118.0</td>\n",
       "      <td>8.0</td>\n",
       "      <td>72</td>\n",
       "    </tr>\n",
       "  </tbody>\n",
       "</table>\n",
       "</div>"
      ],
      "text/plain": [
       "   Ozone  Solar.R  Wind  Temp\n",
       "1   36.0    118.0   8.0    72"
      ]
     },
     "execution_count": 60,
     "metadata": {},
     "output_type": "execute_result"
    }
   ],
   "source": [
    "data[1:2]"
   ]
  },
  {
   "cell_type": "code",
   "execution_count": 61,
   "id": "ec5198a8",
   "metadata": {
    "ExecuteTime": {
     "end_time": "2021-08-16T02:19:13.734425Z",
     "start_time": "2021-08-16T02:19:13.713473Z"
    }
   },
   "outputs": [
    {
     "data": {
      "text/plain": [
       "array([[41.388344]], dtype=float32)"
      ]
     },
     "execution_count": 61,
     "metadata": {},
     "output_type": "execute_result"
    }
   ],
   "source": [
    "sess.run(H, feed_dict={X:np.array([[118,8,72]])})"
   ]
  },
  {
   "cell_type": "code",
   "execution_count": 63,
   "id": "16019ed1",
   "metadata": {
    "ExecuteTime": {
     "end_time": "2021-08-16T02:41:42.523599Z",
     "start_time": "2021-08-16T02:41:42.516611Z"
    }
   },
   "outputs": [],
   "source": [
    "# scale 맞추는 방법 : normalization(정규화), standardization(표준화)\n",
    "                        # 평균이 0, 표준편차 1\n",
    "#                        X-X.min\n",
    "# normalization = --------------------- (정규화 공식)\n",
    "#                       X.max-X.min\n",
    "# 위의 식을 써도 되지만 라이브러리를 씀 (sklearn.preprocessing.MinMaxScaler 이용)\n",
    "#                        X-X.mean\n",
    "# standardiztion = -------------------- (표준화 공식)\n",
    "#                        X.std\n",
    "# 위의 식을 써도 되지만 라이브러리를 씀(sklearn.preprocessing.StandardScaler 이용)"
   ]
  },
  {
   "cell_type": "code",
   "execution_count": 69,
   "id": "5bf55cf3",
   "metadata": {
    "ExecuteTime": {
     "end_time": "2021-08-16T02:53:58.899935Z",
     "start_time": "2021-08-16T02:53:57.392677Z"
    }
   },
   "outputs": [
    {
     "name": "stdout",
     "output_type": "stream",
     "text": [
      "1번째 cost : 30.794574737548828\n",
      "301번째 cost : 0.3963316082954407\n",
      "601번째 cost : 0.39057549834251404\n",
      "901번째 cost : 0.3905549645423889\n",
      "1201번째 cost : 0.39055493474006653\n",
      "1501번째 cost : 0.39055490493774414\n",
      "1801번째 cost : 0.39055490493774414\n",
      "2101번째 cost : 0.39055490493774414\n",
      "2401번째 cost : 0.39055490493774414\n",
      "2701번째 cost : 0.39055490493774414\n",
      "3001번째 cost : 0.39055490493774414\n",
      "3301번째 cost : 0.39055490493774414\n",
      "3601번째 cost : 0.39055490493774414\n",
      "3901번째 cost : 0.39055490493774414\n",
      "4201번째 cost : 0.39055490493774414\n",
      "4501번째 cost : 0.39055490493774414\n",
      "4801번째 cost : 0.39055490493774414\n",
      "5101번째 cost : 0.39055490493774414\n",
      "5401번째 cost : 0.39055490493774414\n",
      "5701번째 cost : 0.39055490493774414\n"
     ]
    }
   ],
   "source": [
    "# standardization(표준화)\n",
    "\n",
    "#data = np.loadtxt('./data/ozone.csv', delimiter=',') #헤더 NA때문에 사용불가\n",
    "data = pd.read_csv('./data/ozone.csv')\n",
    "# ML이나 DL에서는 결측치 정제 작업 필요\n",
    "data=data.dropna(how='any', axis=0) # 결측치가 한 열이라도 있는 행 삭제\n",
    "# 필요한 독립변수, 종속변수 추출\n",
    "data = data[['Ozone','Solar.R','Wind','Temp']]\n",
    "#data.apply(lambda x : (x-x.mean())/x.std())\n",
    "data['Ozone'] = (data['Ozone'] - data['Ozone'].mean())/data['Ozone'].std()\n",
    "data['Solar.R'] = (data['Solar.R'] - data['Solar.R'].mean())/data['Solar.R'].std()\n",
    "data['Wind'] = (data['Wind'] - data['Wind'].mean())/data['Wind'].std()\n",
    "data['Temp'] = (data['Temp'] - data['Temp'].mean())/data['Temp'].std()\n",
    "# x_data = np.array(data[['Solar.R','Wind','Temp']])\n",
    "x_data = data[['Solar.R','Wind','Temp']].values\n",
    "# y_data = data['Ozone'].values.reshape(-1,1)\n",
    "y_data = data[['Ozone']].values\n",
    "\n",
    "# tensorflow 구현\n",
    "# 1. X, Y\n",
    "X = tf.placeholder(shape=[None, 3], dtype=tf.float32)\n",
    "Y = tf.placeholder(shape=[None, 1], dtype=tf.float32)\n",
    "# 2. weight, bias\n",
    "W=tf.Variable(tf.random_normal([3,1]), name='weight')\n",
    "b=tf.Variable(tf.random_normal([1]), name='bias')\n",
    "# 3. Hypothesis\n",
    "H = tf.matmul(X, W) + b\n",
    "# 4. cost 함수\n",
    "cost = tf.reduce_mean(tf.square(H-Y))\n",
    "# 5. train\n",
    "train = tf.train.GradientDescentOptimizer(learning_rate=1e-2).minimize(cost)\n",
    "# 6. Session & 변수 초기화\n",
    "sess = tf.Session()\n",
    "sess.run(tf.global_variables_initializer())\n",
    "# 7. 학습\n",
    "for step in range(1,6001):\n",
    "    _, cost_val = sess.run([train, cost], feed_dict={X:x_data, Y:y_data})\n",
    "    if step % 300 == 1:\n",
    "        print(\"{}번째 cost : {}\".format(step, cost_val))"
   ]
  },
  {
   "cell_type": "code",
   "execution_count": 89,
   "id": "b8feb95c",
   "metadata": {
    "ExecuteTime": {
     "end_time": "2021-08-16T03:38:45.893745Z",
     "start_time": "2021-08-16T03:38:44.188949Z"
    }
   },
   "outputs": [
    {
     "name": "stdout",
     "output_type": "stream",
     "text": [
      "1번째 cost : 9.378368377685547\n",
      "301번째 cost : 0.39849165081977844\n",
      "601번째 cost : 0.39412012696266174\n",
      "901번째 cost : 0.3941054344177246\n",
      "1201번째 cost : 0.3941054046154022\n",
      "1501번째 cost : 0.39410537481307983\n",
      "1801번째 cost : 0.39410537481307983\n",
      "2101번째 cost : 0.39410537481307983\n",
      "2401번째 cost : 0.39410537481307983\n",
      "2701번째 cost : 0.39410537481307983\n",
      "3001번째 cost : 0.39410537481307983\n",
      "3301번째 cost : 0.39410537481307983\n",
      "3601번째 cost : 0.39410537481307983\n",
      "3901번째 cost : 0.39410537481307983\n",
      "4201번째 cost : 0.39410537481307983\n",
      "4501번째 cost : 0.39410537481307983\n",
      "4801번째 cost : 0.39410537481307983\n",
      "5101번째 cost : 0.39410537481307983\n",
      "5401번째 cost : 0.39410537481307983\n",
      "5701번째 cost : 0.39410537481307983\n"
     ]
    }
   ],
   "source": [
    "# standardization(표준화) API 사용\n",
    "\n",
    "#data = np.loadtxt('./data/ozone.csv', delimiter=',') #헤더 NA때문에 사용불가\n",
    "data = pd.read_csv('./data/ozone.csv')\n",
    "# ML이나 DL에서는 결측치 정제 작업 필요\n",
    "data=data.dropna(how='any', axis=0) # 결측치가 한 열이라도 있는 행 삭제\n",
    "# 필요한 독립변수, 종속변수 추출\n",
    "data = data[['Ozone','Solar.R','Wind','Temp']]\n",
    "# from sklearn.preprocessing import StandardScaler\n",
    "# scaler = StandardScaler()\n",
    "# scaler.fit(data)\n",
    "# data = pd.DataFrame(scaler.transform(data), columns=['Ozone','Solar.R','Wind','Temp'])\n",
    "\n",
    "\n",
    "# x_data = np.array(data[['Solar.R','Wind','Temp']])\n",
    "x_data = data[['Solar.R','Wind','Temp']].values\n",
    "y_data = data[['Ozone']].values\n",
    "from sklearn.preprocessing import StandardScaler\n",
    "scaler_x = StandardScaler()\n",
    "scaler_x.fit(x_data)\n",
    "x_data = scaler_x.transform(x_data)\n",
    "# x_data = scaler_x.fit_transform(x_data)\n",
    "\n",
    "scaler_y = StandardScaler()\n",
    "scaler_y.fit(y_data)\n",
    "y_data = scaler_y.transform(y_data)\n",
    "# scale 조정된 데이터를 다시 원데이터로 해석\n",
    "# original_x = scaler_x.inverse_transform(x_data)\n",
    "# original_y = scaler_y.inverse_transform(y_data)\n",
    "\n",
    "# tensorflow 구현\n",
    "# 1. X, Y\n",
    "X = tf.placeholder(shape=[None, 3], dtype=tf.float32)\n",
    "Y = tf.placeholder(shape=[None, 1], dtype=tf.float32)\n",
    "# 2. weight, bias\n",
    "W=tf.Variable(tf.random_normal([3,1]), name='weight')\n",
    "b=tf.Variable(tf.random_normal([1]), name='bias')\n",
    "# 3. Hypothesis\n",
    "H = tf.matmul(X, W) + b\n",
    "# 4. cost 함수\n",
    "cost = tf.reduce_mean(tf.square(H-Y))\n",
    "# 5. train\n",
    "train = tf.train.GradientDescentOptimizer(learning_rate=1e-2).minimize(cost)\n",
    "# 6. Session & 변수 초기화\n",
    "sess = tf.Session()\n",
    "sess.run(tf.global_variables_initializer())\n",
    "# 7. 학습\n",
    "for step in range(1,6001):\n",
    "    _, cost_val = sess.run([train, cost], feed_dict={X:x_data, Y:y_data})\n",
    "    if step % 300 == 1:\n",
    "        print(\"{}번째 cost : {}\".format(step, cost_val))"
   ]
  },
  {
   "cell_type": "code",
   "execution_count": 87,
   "id": "1b502811",
   "metadata": {
    "ExecuteTime": {
     "end_time": "2021-08-16T03:32:40.295488Z",
     "start_time": "2021-08-16T03:32:40.276524Z"
    }
   },
   "outputs": [
    {
     "data": {
      "text/plain": [
       "array([[-0.73618283, -0.54766534, -0.61060682]])"
      ]
     },
     "execution_count": 87,
     "metadata": {},
     "output_type": "execute_result"
    }
   ],
   "source": [
    "input_data=np.array([[118,8,72]])\n",
    "scaled_input_data = scaler_x.transform(input_data)\n",
    "scaled_input_data"
   ]
  },
  {
   "cell_type": "code",
   "execution_count": 88,
   "id": "fc038045",
   "metadata": {
    "ExecuteTime": {
     "end_time": "2021-08-16T03:33:22.634396Z",
     "start_time": "2021-08-16T03:33:22.606448Z"
    }
   },
   "outputs": [
    {
     "data": {
      "text/plain": [
       "array([[-0.21434522]], dtype=float32)"
      ]
     },
     "execution_count": 88,
     "metadata": {},
     "output_type": "execute_result"
    }
   ],
   "source": [
    "sess.run(H, feed_dict={X:scaled_input_data})"
   ]
  },
  {
   "cell_type": "code",
   "execution_count": 95,
   "id": "b55ca4f9",
   "metadata": {
    "ExecuteTime": {
     "end_time": "2021-08-16T03:44:19.800924Z",
     "start_time": "2021-08-16T03:44:18.026768Z"
    }
   },
   "outputs": [
    {
     "name": "stdout",
     "output_type": "stream",
     "text": [
      "1번째 cost : 4.506444931030273\n",
      "301번째 cost : 1.0141665935516357\n",
      "601번째 cost : 0.6540743112564087\n",
      "901번째 cost : 0.5052369832992554\n",
      "1201번째 cost : 0.4426962733268738\n",
      "1501번째 cost : 0.4158934950828552\n",
      "1801번째 cost : 0.40414267778396606\n",
      "2101번째 cost : 0.3988598585128784\n",
      "2401번째 cost : 0.3964208960533142\n",
      "2701번째 cost : 0.39526426792144775\n",
      "3001번째 cost : 0.39470118284225464\n",
      "3301번째 cost : 0.39442023634910583\n",
      "3601번째 cost : 0.3942767381668091\n",
      "3901번째 cost : 0.39420175552368164\n",
      "4201번째 cost : 0.3941617012023926\n",
      "4501번째 cost : 0.39413973689079285\n",
      "4801번째 cost : 0.39412739872932434\n",
      "5101번째 cost : 0.3941202163696289\n",
      "5401번째 cost : 0.3941158354282379\n",
      "5701번째 cost : 0.39411306381225586\n"
     ]
    }
   ],
   "source": [
    "# Normalization(정규화, 많이 씀)\n",
    "data = pd.read_csv('./data/ozone.csv')\n",
    "data=data.dropna(how='any', axis=0)\n",
    "data = data[['Ozone','Solar.R','Wind','Temp']]\n",
    "x_data = data[['Solar.R','Wind','Temp']].values\n",
    "y_data = data[['Ozone']].values\n",
    "from sklearn.preprocessing import MinMaxScaler\n",
    "scaler_x = MinMaxScaler()\n",
    "scaler_x.fit(x_data)\n",
    "x_data = scaler_x.transform(x_data)\n",
    "scaler_y = StandardScaler()\n",
    "scaler_y.fit(y_data)\n",
    "y_data = scaler_y.transform(y_data)\n",
    "# tensorflow 구현\n",
    "# 1. X, Y\n",
    "X = tf.placeholder(shape=[None, 3], dtype=tf.float32)\n",
    "Y = tf.placeholder(shape=[None, 1], dtype=tf.float32)\n",
    "# 2. weight, bias\n",
    "W=tf.Variable(tf.random_normal([3,1]), name='weight')\n",
    "b=tf.Variable(tf.random_normal([1]), name='bias')\n",
    "# 3. Hypothesis\n",
    "H = tf.matmul(X, W) + b\n",
    "# 4. cost 함수\n",
    "cost = tf.reduce_mean(tf.square(H-Y))\n",
    "# 5. train\n",
    "train = tf.train.GradientDescentOptimizer(learning_rate=0.01).minimize(cost)\n",
    "# 6. Session & 변수 초기화\n",
    "sess = tf.Session()\n",
    "sess.run(tf.global_variables_initializer())\n",
    "# 7. 학습\n",
    "for step in range(1,6001):\n",
    "    _, cost_val = sess.run([train, cost], feed_dict={X:x_data, Y:y_data})\n",
    "    if step % 300 == 1:\n",
    "        print(\"{}번째 cost : {}\".format(step, cost_val))"
   ]
  },
  {
   "cell_type": "code",
   "execution_count": 98,
   "id": "80b62d53",
   "metadata": {
    "ExecuteTime": {
     "end_time": "2021-08-16T03:46:40.190577Z",
     "start_time": "2021-08-16T03:46:40.181579Z"
    }
   },
   "outputs": [
    {
     "data": {
      "text/plain": [
       "array([[34.897167]], dtype=float32)"
      ]
     },
     "execution_count": 98,
     "metadata": {},
     "output_type": "execute_result"
    }
   ],
   "source": [
    "# 8. 예측 (모델 사용해 보기)\n",
    "input_data = np.array([[118,8,72]])\n",
    "scaled_input_data = scaler_x.transform(input_data)\n",
    "predict_value = sess.run(H, feed_dict={X:scaled_input_data})\n",
    "scaler_y.inverse_transform(predict_value)"
   ]
  },
  {
   "cell_type": "markdown",
   "id": "f4c4826a",
   "metadata": {},
   "source": [
    "## 5. logistic Regression ( = Binary classification)\n",
    "- logistic Regression은 기존의 linear Regression과 다르게 처리"
   ]
  },
  {
   "cell_type": "code",
   "execution_count": 101,
   "id": "2a9ca4c7",
   "metadata": {
    "ExecuteTime": {
     "end_time": "2021-08-16T03:54:39.248690Z",
     "start_time": "2021-08-16T03:54:39.100078Z"
    }
   },
   "outputs": [
    {
     "name": "stdout",
     "output_type": "stream",
     "text": [
      "W값 :  0.12925170068027214 b값 :  -0.27210884353741516\n"
     ]
    },
    {
     "data": {
      "text/plain": [
       "[<matplotlib.lines.Line2D at 0x1908e6c04f0>]"
      ]
     },
     "execution_count": 101,
     "metadata": {},
     "output_type": "execute_result"
    },
    {
     "data": {
      "image/png": "[encoded data removed]",
      "text/plain": [
       "<Figure size 432x288 with 1 Axes>"
      ]
     },
     "metadata": {
      "needs_background": "light"
     },
     "output_type": "display_data"
    }
   ],
   "source": [
    "from scipy import stats\n",
    "x = np.array([1,2,5,8,10])\n",
    "y = np.array([0,0,0,1,1])\n",
    "lm = stats.linregress(x,y)\n",
    "print('W값 : ',lm[0], 'b값 : ', lm[1])\n",
    "plt.scatter(x,y)\n",
    "plt.plot(x,x*lm[0]+lm[1],'r')"
   ]
  },
  {
   "cell_type": "code",
   "execution_count": 102,
   "id": "96caef38",
   "metadata": {
    "ExecuteTime": {
     "end_time": "2021-08-16T03:58:03.953323Z",
     "start_time": "2021-08-16T03:58:03.798746Z"
    }
   },
   "outputs": [
    {
     "name": "stdout",
     "output_type": "stream",
     "text": [
      "W값 :  0.03500583430571762 b값 :  0.1732788798133022\n"
     ]
    },
    {
     "data": {
      "text/plain": [
       "[<matplotlib.lines.Line2D at 0x1908f0ee220>]"
      ]
     },
     "execution_count": 102,
     "metadata": {},
     "output_type": "execute_result"
    },
    {
     "data": {
      "image/png": "[encoded data removed]",
      "text/plain": [
       "<Figure size 432x288 with 1 Axes>"
      ]
     },
     "metadata": {
      "needs_background": "light"
     },
     "output_type": "display_data"
    }
   ],
   "source": [
    "x = np.array([1,2,5,8,10,30])\n",
    "y = np.array([0,0,0,1,1,1])\n",
    "lm = stats.linregress(x,y)\n",
    "print('W값 : ',lm[0], 'b값 : ', lm[1])\n",
    "plt.scatter(x,y)\n",
    "plt.plot(x,x*lm[0]+lm[1],'r')"
   ]
  },
  {
   "cell_type": "code",
   "execution_count": 119,
   "id": "588007df",
   "metadata": {
    "ExecuteTime": {
     "end_time": "2021-08-16T05:48:58.033113Z",
     "start_time": "2021-08-16T05:48:25.241356Z"
    }
   },
   "outputs": [
    {
     "name": "stdout",
     "output_type": "stream",
     "text": [
      "1번째 cost : 3.583415985107422\n",
      "30001번째 cost : 0.020138978958129883\n",
      "60001번째 cost : 0.01024588756263256\n",
      "90001번째 cost : 0.006866990588605404\n",
      "정확도 :  1.0\n"
     ]
    }
   ],
   "source": [
    "# 교안 pt.50\n",
    "x_data = np.array([[10,0],[8,1],[3,3],[2,3],[5,1],[2,0],[1,0]])\n",
    "y_data = np.array([[1],[1],[1],[1],[0],[0],[0]])\n",
    "# X,Y\n",
    "X = tf.placeholder(shape=[None,2], dtype=tf.float32)\n",
    "Y = tf.placeholder(shape=[None,1], dtype=tf.float32)\n",
    "# Weight & bias\n",
    "W = tf.Variable(tf.random_normal([2,1]), name='weight')\n",
    "b = tf.Variable(tf.random_normal([1]), name='bias')\n",
    "# Hypothesis\n",
    "logits = tf.matmul(X, W) + b\n",
    "H = tf.sigmoid(logits)\n",
    "# cost 함수\n",
    "# cost = tf.reduce_mean(tf.square(H-Y))\n",
    "cost = tf.reduce_mean(tf.nn.sigmoid_cross_entropy_with_logits(logits=logits, labels=Y))\n",
    "\n",
    "# train\n",
    "train = tf.train.GradientDescentOptimizer(learning_rate=0.1).minimize(cost)\n",
    "\n",
    "sess = tf.Session()\n",
    "sess.run(tf.global_variables_initializer())\n",
    "for step in range(1,120002):\n",
    "    _, cost_val = sess.run([train, cost], feed_dict={X:x_data, Y:y_data})\n",
    "    if step % 30000 == 1:\n",
    "        print(\"{}번째 cost : {}\".format(step, cost_val))\n",
    "#accuracy\n",
    "predict = tf.cast(H>0.5, dtype=tf.float32)\n",
    "correct = tf.equal(predict, Y)\n",
    "# sess.run(correct, feed_dict={X:x_data, Y:y_data})\n",
    "accuracy = tf.reduce_mean(tf.cast(correct, dtype=tf.float32))\n",
    "print(\"정확도 : \", sess.run(accuracy, feed_dict={X:x_data, Y:y_data}))"
   ]
  },
  {
   "cell_type": "code",
   "execution_count": 121,
   "id": "3bec8241",
   "metadata": {
    "ExecuteTime": {
     "end_time": "2021-08-16T05:50:58.561315Z",
     "start_time": "2021-08-16T05:50:58.540381Z"
    }
   },
   "outputs": [
    {
     "name": "stdout",
     "output_type": "stream",
     "text": [
      "H결과:  [[2.0126998e-02]\n",
      " [9.9980521e-01]\n",
      " [1.0000000e+00]\n",
      " [1.0000000e+00]\n",
      " [2.6884692e-07]\n",
      " [6.2411129e-03]]\n",
      "predict결과:  [[0.]]\n"
     ]
    }
   ],
   "source": [
    "# 예측(모델 사용하기)\n",
    "print('H결과: ',sess.run(H,feed_dict={X:[[5,1],[11,0],[0,8],[5,5],[2,1],[2,2]]}))\n",
    "print('predict결과: ',sess.run(predict,feed_dict={X:[[5,1]]}))"
   ]
  },
  {
   "cell_type": "markdown",
   "id": "87abe3ca",
   "metadata": {},
   "source": [
    "## 6.multinomial classfication(3개 이상 그룹)\n",
    "- 교안 pt. 54 퀴즈1,2,3성적과 출석에 따른 ABC등급 분류"
   ]
  },
  {
   "cell_type": "code",
   "execution_count": 126,
   "id": "1f74e1f4",
   "metadata": {
    "ExecuteTime": {
     "end_time": "2021-08-16T06:34:34.938070Z",
     "start_time": "2021-08-16T06:34:32.805698Z"
    }
   },
   "outputs": [
    {
     "name": "stdout",
     "output_type": "stream",
     "text": [
      "600번째 cost : 0.5677270889282227\n",
      "1200번째 cost : 0.4794858992099762\n",
      "1800번째 cost : 0.43242743611335754\n",
      "2400번째 cost : 0.39677104353904724\n",
      "3000번째 cost : 0.3671693801879883\n",
      "3600번째 cost : 0.34170880913734436\n",
      "4200번째 cost : 0.3194120228290558\n",
      "4800번째 cost : 0.299667626619339\n",
      "5400번째 cost : 0.28204360604286194\n",
      "6000번째 cost : 0.26621368527412415\n"
     ]
    }
   ],
   "source": [
    "x_data=np.array([[10,7,8,5],[8,8,9,4],[7,8,2,3],[6,3,9,3],[7,5,7,4],[3,5,6,2],[2,4,3,1]])\n",
    "# 종속변수가 다중분류이면 원핫인코딩 해야 함.\n",
    "\n",
    "# 원핫인코딩 방법1\n",
    "y_data=np.array([['A'],['A'],['B'],['B'],['B'],['C'],['C']])\n",
    "from tensorflow.keras.utils import to_categorical\n",
    "# to_categorical(y_data) #에러\n",
    "from sklearn.preprocessing import LabelEncoder\n",
    "encoder = LabelEncoder()\n",
    "# encoder.fit(y_data)\n",
    "# y_data = encoder.transform(y_data)\n",
    "y_data = encoder.fit_transform(y_data)\n",
    "y_data = to_categorical(y_data)\n",
    "\n",
    "# 원핫인코딩 방법2\n",
    "y_data=np.array([['A'],['A'],['B'],['B'],['B'],['C'],['C']])\n",
    "from sklearn.preprocessing import LabelEncoder\n",
    "import pandas as pd\n",
    "encoder=LabelEncoder()\n",
    "y_data=encoder.fit_transform(y_data)\n",
    "y_data=pd.get_dummies(y_data).values\n",
    "\n",
    "#원핫인코딩 방법3\n",
    "y_data=np.array([['A'],['A'],['B'],['B'],['B'],['C'],['C']])\n",
    "y_data = pd.DataFrame(y_data)\n",
    "y_data = pd.get_dummies(y_data).values\n",
    "y_data\n",
    "\n",
    "# X,Y placeholder\n",
    "X=tf.placeholder(shape=[None,4], dtype=tf.float32)\n",
    "Y=tf.placeholder(shape=[None,3], dtype=tf.float32)\n",
    "\n",
    "# weight & bias\n",
    "W = tf.Variable(tf.random_normal([4,3]), name='weight')\n",
    "b = tf.Variable(tf.random_normal([3]), name='bias')\n",
    "\n",
    "# Hypothesis\n",
    "logits = tf.matmul(X,W)+b\n",
    "H = tf.nn.softmax(logits)\n",
    "\n",
    "#cost\n",
    "cost = tf.reduce_mean(tf.nn.softmax_cross_entropy_with_logits_v2(logits=logits, labels=Y))\n",
    "\n",
    "train =  tf.train.GradientDescentOptimizer(learning_rate=0.01).minimize(cost)\n",
    "\n",
    "sess = tf.Session()\n",
    "sess.run(tf.global_variables_initializer())\n",
    "\n",
    "# 학습\n",
    "for step in range(1,6001):\n",
    "    _, cost_val = sess.run([train,cost], feed_dict={X:x_data, Y:y_data})\n",
    "    if step%600==0:\n",
    "        print(\"{}번째 cost : {}\".format(step, cost_val))"
   ]
  },
  {
   "cell_type": "code",
   "execution_count": 128,
   "id": "2abd3175",
   "metadata": {
    "ExecuteTime": {
     "end_time": "2021-08-16T06:39:22.809637Z",
     "start_time": "2021-08-16T06:39:22.801657Z"
    }
   },
   "outputs": [
    {
     "data": {
      "text/plain": [
       "array([0], dtype=int64)"
      ]
     },
     "execution_count": 128,
     "metadata": {},
     "output_type": "execute_result"
    }
   ],
   "source": [
    "# 예측\n",
    "y_hat = sess.run(H, feed_dict={X:[[10,7,8,4]]})\n",
    "y_hat.argmax(axis=1)"
   ]
  },
  {
   "cell_type": "code",
   "execution_count": 130,
   "id": "c2437f6d",
   "metadata": {
    "ExecuteTime": {
     "end_time": "2021-08-16T06:46:09.416073Z",
     "start_time": "2021-08-16T06:46:09.302107Z"
    }
   },
   "outputs": [
    {
     "data": {
      "text/plain": [
       "1.0"
      ]
     },
     "execution_count": 130,
     "metadata": {},
     "output_type": "execute_result"
    }
   ],
   "source": [
    "# accuracy 측정\n",
    "# H -> 0.99 0.002 0.008 -> H.argmax -> 0\n",
    "# Y -> 1 0 0 -> Y.argmax -> 0\n",
    "predict = tf.argmax(H, axis=1)\n",
    "# predict = H.argmax(axis=1)\n",
    "correct = tf.equal(predict, tf.argmax(Y, axis=1))\n",
    "#sess.run(correct, feed_dict={X:x_data, Y:y_data})\n",
    "accuracy = tf.reduce_mean(tf.cast(correct, dtype=tf.float32))\n",
    "sess.run(accuracy,feed_dict={X:x_data, Y:y_data})"
   ]
  },
  {
   "cell_type": "markdown",
   "id": "31ad3937",
   "metadata": {},
   "source": [
    "## 7. XOR (교안 pt.77)"
   ]
  },
  {
   "cell_type": "code",
   "execution_count": 133,
   "id": "a282609e",
   "metadata": {
    "ExecuteTime": {
     "end_time": "2021-08-16T06:54:00.528388Z",
     "start_time": "2021-08-16T06:53:59.181135Z"
    }
   },
   "outputs": [
    {
     "name": "stdout",
     "output_type": "stream",
     "text": [
      "1번째 cost : 0.8693246245384216\n",
      "301번째 cost : 0.7436850070953369\n",
      "601번째 cost : 0.7205419540405273\n",
      "901번째 cost : 0.7120728492736816\n",
      "1201번째 cost : 0.7068259716033936\n",
      "1501번째 cost : 0.703123152256012\n",
      "1801번째 cost : 0.7004536390304565\n",
      "2101번째 cost : 0.6985200047492981\n",
      "2401번째 cost : 0.697114884853363\n",
      "2701번째 cost : 0.6960901618003845\n",
      "3001번째 cost : 0.6953400373458862\n",
      "정확도 :  0.5\n"
     ]
    }
   ],
   "source": [
    "#dataset\n",
    "x_data = [[0,0],[0,1],[1,0],[1,1]]\n",
    "y_data = [[0],[1],[1],[0]]\n",
    "# X,Y\n",
    "X = tf.placeholder(shape=[None,2], dtype=tf.float32)\n",
    "Y = tf.placeholder(shape=[None,1], dtype=tf.float32)\n",
    "# Weight & bias\n",
    "W = tf.Variable(tf.random_normal([2,1]), name='weight')\n",
    "b = tf.Variable(tf.random_normal([1]), name='bias')\n",
    "# Hypothesis\n",
    "logits = tf.matmul(X, W) + b\n",
    "H = tf.sigmoid(logits)\n",
    "# cost 함수\n",
    "# cost = tf.reduce_mean(tf.square(H-Y))\n",
    "cost = tf.reduce_mean(tf.nn.sigmoid_cross_entropy_with_logits(logits=logits, labels=Y))\n",
    "\n",
    "# train\n",
    "train = tf.train.GradientDescentOptimizer(learning_rate=0.01).minimize(cost)\n",
    "\n",
    "sess = tf.Session()\n",
    "sess.run(tf.global_variables_initializer())\n",
    "for step in range(1,3002):\n",
    "    _, cost_val = sess.run([train, cost], feed_dict={X:x_data, Y:y_data})\n",
    "    if step % 300 == 1:\n",
    "        print(\"{}번째 cost : {}\".format(step, cost_val))\n",
    "#accuracy\n",
    "predict = tf.cast(H>0.5, dtype=tf.float32)\n",
    "correct = tf.equal(predict, Y)\n",
    "# sess.run(correct, feed_dict={X:x_data, Y:y_data})\n",
    "accuracy = tf.reduce_mean(tf.cast(correct, dtype=tf.float32))\n",
    "print(\"정확도 : \", sess.run(accuracy, feed_dict={X:x_data, Y:y_data}))"
   ]
  },
  {
   "cell_type": "code",
   "execution_count": 134,
   "id": "db700313",
   "metadata": {
    "ExecuteTime": {
     "end_time": "2021-08-16T06:59:12.867131Z",
     "start_time": "2021-08-16T06:59:12.744452Z"
    }
   },
   "outputs": [
    {
     "name": "stdout",
     "output_type": "stream",
     "text": [
      "정확도 :  0.5\n"
     ]
    }
   ],
   "source": [
    "# accuracy 측정\n",
    "predict = tf.cast(H>0.5, dtype=tf.float32)\n",
    "correct = tf.equal(predict, Y)\n",
    "accuracy = tf.reduce_mean(tf.cast(correct, dtype=tf.float32))\n",
    "print(\"정확도 : \", sess.run(accuracy, feed_dict={X:x_data, Y:y_data}))"
   ]
  },
  {
   "cell_type": "markdown",
   "id": "ecc17b9b",
   "metadata": {},
   "source": [
    "## 8. Deep Learning XOR 예제"
   ]
  },
  {
   "cell_type": "code",
   "execution_count": 136,
   "id": "2f768e3d",
   "metadata": {
    "ExecuteTime": {
     "end_time": "2021-08-16T07:50:59.095039Z",
     "start_time": "2021-08-16T07:50:57.311769Z"
    }
   },
   "outputs": [
    {
     "name": "stdout",
     "output_type": "stream",
     "text": [
      "1번째 cost : 7.941988945007324\n",
      "301번째 cost : 0.0018433600198477507\n",
      "601번째 cost : 0.0010101756779477\n",
      "901번째 cost : 0.000711049186065793\n",
      "1201번째 cost : 0.0005580084980465472\n",
      "1501번째 cost : 0.0004638638347387314\n",
      "1801번째 cost : 0.00039896400994621217\n",
      "2101번째 cost : 0.0003510633541736752\n",
      "2401번째 cost : 0.00031574018066748977\n",
      "2701번째 cost : 0.00028686667792499065\n",
      "3001번째 cost : 0.0002627956273499876\n",
      "정확도 :  1.0\n"
     ]
    }
   ],
   "source": [
    "#dataset\n",
    "x_data = [[0,0],[0,1],[1,0],[1,1]]\n",
    "y_data = [[0],[1],[1],[0]]\n",
    "# X,Y\n",
    "X = tf.placeholder(shape=[None,2], dtype=tf.float32)\n",
    "Y = tf.placeholder(shape=[None,1], dtype=tf.float32)\n",
    "\n",
    "# layer1의 weight & bias (layer1 = 입력2, 출력10)\n",
    "W1 = tf.Variable(tf.random_normal([2,10]), name='weight1')\n",
    "b1 = tf.Variable(tf.random_normal([10]), name='bias1')\n",
    "layer1 = tf.nn.relu(tf.matmul(X,W1)+b1)\n",
    "\n",
    "# layer2의 weight & bias (layer2 = 입력10, 출력20)\n",
    "W2 = tf.Variable(tf.random_normal([10,20]), name='weight2')\n",
    "b2 = tf.Variable(tf.random_normal([20]), name='bias2')\n",
    "layer2 = tf.nn.relu(tf.matmul(layer1,W2)+b2)\n",
    "\n",
    "# layer3의 weight & bias (layer3 = 입력20, 출력10)\n",
    "W3 = tf.Variable(tf.random_normal([20,10]), name='weight3')\n",
    "b3 = tf.Variable(tf.random_normal([10]), name='bias3')\n",
    "layer3 = tf.nn.relu(tf.matmul(layer2,W3)+b3)\n",
    "\n",
    "# layer4의 weight & bias (layer4 = 입력10, 출력1)\n",
    "W4 = tf.Variable(tf.random_normal([10,1]), name='weight4')\n",
    "b4 = tf.Variable(tf.random_normal([1]), name='bias4')\n",
    "\n",
    "# Hypothesis\n",
    "logits = tf.matmul(layer3, W4)+b4\n",
    "H = tf.sigmoid(logits)\n",
    "\n",
    "#cost\n",
    "cost = tf.reduce_mean(tf.nn.sigmoid_cross_entropy_with_logits(logits=logits, labels=Y))\n",
    "\n",
    "# train\n",
    "train = tf.train.GradientDescentOptimizer(learning_rate=0.01).minimize(cost)\n",
    "\n",
    "sess = tf.Session()\n",
    "sess.run(tf.global_variables_initializer())\n",
    "for step in range(1,3002):\n",
    "    _, cost_val = sess.run([train, cost], feed_dict={X:x_data, Y:y_data})\n",
    "    if step % 300 == 1:\n",
    "        print(\"{}번째 cost : {}\".format(step, cost_val))\n",
    "#accuracy\n",
    "predict = tf.cast(H>0.5, dtype=tf.float32)\n",
    "correct = tf.equal(predict, Y)\n",
    "# sess.run(correct, feed_dict={X:x_data, Y:y_data})\n",
    "accuracy = tf.reduce_mean(tf.cast(correct, dtype=tf.float32))\n",
    "print(\"정확도 : \", sess.run(accuracy, feed_dict={X:x_data, Y:y_data}))"
   ]
  },
  {
   "cell_type": "code",
   "execution_count": null,
   "id": "6ce5fbac",
   "metadata": {},
   "outputs": [],
   "source": []
  }
 ],
 "metadata": {
  "kernelspec": {
   "display_name": "Python 3",
   "language": "python",
   "name": "python3"
  },
  "language_info": {
   "codemirror_mode": {
    "name": "ipython",
    "version": 3
   },
   "file_extension": ".py",
   "mimetype": "text/x-python",
   "name": "python",
   "nbconvert_exporter": "python",
   "pygments_lexer": "ipython3",
   "version": "3.8.8"
  },
  "toc": {
   "base_numbering": 1,
   "nav_menu": {},
   "number_sections": false,
   "sideBar": true,
   "skip_h1_title": false,
   "title_cell": "Table of Contents",
   "title_sidebar": "Contents",
   "toc_cell": false,
   "toc_position": {},
   "toc_section_display": true,
   "toc_window_display": true
  },
  "varInspector": {
   "cols": {
    "lenName": 16,
    "lenType": 16,
    "lenVar": 40
   },
   "kernels_config": {
    "python": {
     "delete_cmd_postfix": "",
     "delete_cmd_prefix": "del ",
     "library": "var_list.py",
     "varRefreshCmd": "print(var_dic_list())"
    },
    "r": {
     "delete_cmd_postfix": ") ",
     "delete_cmd_prefix": "rm(",
     "library": "var_list.r",
     "varRefreshCmd": "cat(var_dic_list()) "
    }
   },
   "types_to_exclude": [
    "module",
    "function",
    "builtin_function_or_method",
    "instance",
    "_Feature"
   ],
   "window_display": false
  }
 },
 "nbformat": 4,
 "nbformat_minor": 5
}
