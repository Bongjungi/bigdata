{
 "cells": [
  {
   "cell_type": "code",
   "execution_count": 22,
   "id": "de4ac37f",
   "metadata": {
    "ExecuteTime": {
     "end_time": "2021-08-17T06:14:36.148708Z",
     "start_time": "2021-08-17T06:14:31.260566Z"
    }
   },
   "outputs": [],
   "source": [
    "import pandas as pd\n",
    "import numpy as np\n",
    "from sklearn.preprocessing import MinMaxScaler\n",
    "from sklearn.model_selection import train_test_split #훈련셋과 테스트셋을 분리\n",
    "from tensorflow.keras.models import Sequential\n",
    "from tensorflow.keras.layers import Dense, Dropout\n",
    "import matplotlib.pyplot as plt"
   ]
  },
  {
   "cell_type": "code",
   "execution_count": 2,
   "id": "d8438e37",
   "metadata": {
    "ExecuteTime": {
     "end_time": "2021-08-17T05:53:50.195854Z",
     "start_time": "2021-08-17T05:53:47.482604Z"
    }
   },
   "outputs": [
    {
     "data": {
      "text/html": [
       "<div>\n",
       "<style scoped>\n",
       "    .dataframe tbody tr th:only-of-type {\n",
       "        vertical-align: middle;\n",
       "    }\n",
       "\n",
       "    .dataframe tbody tr th {\n",
       "        vertical-align: top;\n",
       "    }\n",
       "\n",
       "    .dataframe thead th {\n",
       "        text-align: right;\n",
       "    }\n",
       "</style>\n",
       "<table border=\"1\" class=\"dataframe\">\n",
       "  <thead>\n",
       "    <tr style=\"text-align: right;\">\n",
       "      <th></th>\n",
       "      <th>age</th>\n",
       "      <th>sex</th>\n",
       "      <th>cp</th>\n",
       "      <th>treshtbps</th>\n",
       "      <th>chol</th>\n",
       "      <th>fbs</th>\n",
       "      <th>restecg</th>\n",
       "      <th>thalach</th>\n",
       "      <th>exang</th>\n",
       "      <th>oldpeak</th>\n",
       "      <th>slope</th>\n",
       "      <th>ca</th>\n",
       "      <th>hsl</th>\n",
       "      <th>heartDisease</th>\n",
       "    </tr>\n",
       "  </thead>\n",
       "  <tbody>\n",
       "    <tr>\n",
       "      <th>0</th>\n",
       "      <td>63</td>\n",
       "      <td>1</td>\n",
       "      <td>1</td>\n",
       "      <td>145</td>\n",
       "      <td>233</td>\n",
       "      <td>1</td>\n",
       "      <td>2</td>\n",
       "      <td>150</td>\n",
       "      <td>0</td>\n",
       "      <td>2.3</td>\n",
       "      <td>3</td>\n",
       "      <td>0</td>\n",
       "      <td>6</td>\n",
       "      <td>0</td>\n",
       "    </tr>\n",
       "    <tr>\n",
       "      <th>1</th>\n",
       "      <td>67</td>\n",
       "      <td>1</td>\n",
       "      <td>4</td>\n",
       "      <td>160</td>\n",
       "      <td>286</td>\n",
       "      <td>0</td>\n",
       "      <td>0</td>\n",
       "      <td>108</td>\n",
       "      <td>1</td>\n",
       "      <td>1.5</td>\n",
       "      <td>2</td>\n",
       "      <td>3</td>\n",
       "      <td>3</td>\n",
       "      <td>1</td>\n",
       "    </tr>\n",
       "    <tr>\n",
       "      <th>2</th>\n",
       "      <td>67</td>\n",
       "      <td>1</td>\n",
       "      <td>4</td>\n",
       "      <td>120</td>\n",
       "      <td>?</td>\n",
       "      <td>0</td>\n",
       "      <td>2</td>\n",
       "      <td>129</td>\n",
       "      <td>1</td>\n",
       "      <td>2.6</td>\n",
       "      <td>2</td>\n",
       "      <td>2</td>\n",
       "      <td>7</td>\n",
       "      <td>1</td>\n",
       "    </tr>\n",
       "    <tr>\n",
       "      <th>3</th>\n",
       "      <td>37</td>\n",
       "      <td>1</td>\n",
       "      <td>3</td>\n",
       "      <td>130</td>\n",
       "      <td>250</td>\n",
       "      <td>0</td>\n",
       "      <td>0</td>\n",
       "      <td>187</td>\n",
       "      <td>0</td>\n",
       "      <td>3.5</td>\n",
       "      <td>3</td>\n",
       "      <td>0</td>\n",
       "      <td>3</td>\n",
       "      <td>0</td>\n",
       "    </tr>\n",
       "    <tr>\n",
       "      <th>4</th>\n",
       "      <td>41</td>\n",
       "      <td>0</td>\n",
       "      <td>2</td>\n",
       "      <td>130</td>\n",
       "      <td>204</td>\n",
       "      <td>0</td>\n",
       "      <td>2</td>\n",
       "      <td>172</td>\n",
       "      <td>0</td>\n",
       "      <td>1.4</td>\n",
       "      <td>1</td>\n",
       "      <td>0</td>\n",
       "      <td>3</td>\n",
       "      <td>0</td>\n",
       "    </tr>\n",
       "  </tbody>\n",
       "</table>\n",
       "</div>"
      ],
      "text/plain": [
       "   age  sex  cp  treshtbps chol  fbs  restecg  thalach  exang  oldpeak  slope  \\\n",
       "0   63    1   1        145  233    1        2      150      0      2.3      3   \n",
       "1   67    1   4        160  286    0        0      108      1      1.5      2   \n",
       "2   67    1   4        120    ?    0        2      129      1      2.6      2   \n",
       "3   37    1   3        130  250    0        0      187      0      3.5      3   \n",
       "4   41    0   2        130  204    0        2      172      0      1.4      1   \n",
       "\n",
       "  ca hsl  heartDisease  \n",
       "0  0   6             0  \n",
       "1  3   3             1  \n",
       "2  2   7             1  \n",
       "3  0   3             0  \n",
       "4  0   3             0  "
      ]
     },
     "execution_count": 2,
     "metadata": {},
     "output_type": "execute_result"
    }
   ],
   "source": [
    "# 1. 데이터 셋 생성\n",
    "raw_data = pd.read_excel('./data/heart-disease.xlsx')\n",
    "raw_data.head()"
   ]
  },
  {
   "cell_type": "code",
   "execution_count": 3,
   "id": "84cd93e1",
   "metadata": {
    "ExecuteTime": {
     "end_time": "2021-08-17T05:54:36.294922Z",
     "start_time": "2021-08-17T05:54:36.264004Z"
    }
   },
   "outputs": [
    {
     "name": "stdout",
     "output_type": "stream",
     "text": [
      "<class 'pandas.core.frame.DataFrame'>\n",
      "RangeIndex: 303 entries, 0 to 302\n",
      "Data columns (total 14 columns):\n",
      " #   Column        Non-Null Count  Dtype  \n",
      "---  ------        --------------  -----  \n",
      " 0   age           303 non-null    int64  \n",
      " 1   sex           303 non-null    int64  \n",
      " 2   cp            303 non-null    int64  \n",
      " 3   treshtbps     303 non-null    int64  \n",
      " 4   chol          303 non-null    object \n",
      " 5   fbs           303 non-null    int64  \n",
      " 6   restecg       303 non-null    int64  \n",
      " 7   thalach       303 non-null    int64  \n",
      " 8   exang         303 non-null    int64  \n",
      " 9   oldpeak       303 non-null    float64\n",
      " 10  slope         303 non-null    int64  \n",
      " 11  ca            303 non-null    object \n",
      " 12  hsl           303 non-null    object \n",
      " 13  heartDisease  303 non-null    int64  \n",
      "dtypes: float64(1), int64(10), object(3)\n",
      "memory usage: 33.3+ KB\n"
     ]
    }
   ],
   "source": [
    "raw_data.info()"
   ]
  },
  {
   "cell_type": "code",
   "execution_count": 10,
   "id": "7af8621f",
   "metadata": {
    "ExecuteTime": {
     "end_time": "2021-08-17T06:02:21.717324Z",
     "start_time": "2021-08-17T06:02:21.694385Z"
    }
   },
   "outputs": [
    {
     "data": {
      "text/html": [
       "<div>\n",
       "<style scoped>\n",
       "    .dataframe tbody tr th:only-of-type {\n",
       "        vertical-align: middle;\n",
       "    }\n",
       "\n",
       "    .dataframe tbody tr th {\n",
       "        vertical-align: top;\n",
       "    }\n",
       "\n",
       "    .dataframe thead th {\n",
       "        text-align: right;\n",
       "    }\n",
       "</style>\n",
       "<table border=\"1\" class=\"dataframe\">\n",
       "  <thead>\n",
       "    <tr style=\"text-align: right;\">\n",
       "      <th></th>\n",
       "      <th>age</th>\n",
       "      <th>sex</th>\n",
       "      <th>cp</th>\n",
       "      <th>treshtbps</th>\n",
       "      <th>chol</th>\n",
       "      <th>fbs</th>\n",
       "      <th>restecg</th>\n",
       "      <th>thalach</th>\n",
       "      <th>exang</th>\n",
       "      <th>oldpeak</th>\n",
       "      <th>slope</th>\n",
       "      <th>ca</th>\n",
       "      <th>hsl</th>\n",
       "      <th>heartDisease</th>\n",
       "    </tr>\n",
       "  </thead>\n",
       "  <tbody>\n",
       "    <tr>\n",
       "      <th>2</th>\n",
       "      <td>67</td>\n",
       "      <td>1</td>\n",
       "      <td>4</td>\n",
       "      <td>120</td>\n",
       "      <td>?</td>\n",
       "      <td>0</td>\n",
       "      <td>2</td>\n",
       "      <td>129</td>\n",
       "      <td>1</td>\n",
       "      <td>2.6</td>\n",
       "      <td>2</td>\n",
       "      <td>2</td>\n",
       "      <td>7</td>\n",
       "      <td>1</td>\n",
       "    </tr>\n",
       "    <tr>\n",
       "      <th>87</th>\n",
       "      <td>53</td>\n",
       "      <td>0</td>\n",
       "      <td>3</td>\n",
       "      <td>128</td>\n",
       "      <td>216</td>\n",
       "      <td>0</td>\n",
       "      <td>2</td>\n",
       "      <td>115</td>\n",
       "      <td>0</td>\n",
       "      <td>0.0</td>\n",
       "      <td>1</td>\n",
       "      <td>0</td>\n",
       "      <td>?</td>\n",
       "      <td>0</td>\n",
       "    </tr>\n",
       "    <tr>\n",
       "      <th>166</th>\n",
       "      <td>52</td>\n",
       "      <td>1</td>\n",
       "      <td>3</td>\n",
       "      <td>138</td>\n",
       "      <td>223</td>\n",
       "      <td>0</td>\n",
       "      <td>0</td>\n",
       "      <td>169</td>\n",
       "      <td>0</td>\n",
       "      <td>0.0</td>\n",
       "      <td>1</td>\n",
       "      <td>?</td>\n",
       "      <td>3</td>\n",
       "      <td>0</td>\n",
       "    </tr>\n",
       "    <tr>\n",
       "      <th>192</th>\n",
       "      <td>43</td>\n",
       "      <td>1</td>\n",
       "      <td>4</td>\n",
       "      <td>132</td>\n",
       "      <td>247</td>\n",
       "      <td>1</td>\n",
       "      <td>2</td>\n",
       "      <td>143</td>\n",
       "      <td>1</td>\n",
       "      <td>0.1</td>\n",
       "      <td>2</td>\n",
       "      <td>?</td>\n",
       "      <td>7</td>\n",
       "      <td>1</td>\n",
       "    </tr>\n",
       "    <tr>\n",
       "      <th>266</th>\n",
       "      <td>52</td>\n",
       "      <td>1</td>\n",
       "      <td>4</td>\n",
       "      <td>128</td>\n",
       "      <td>204</td>\n",
       "      <td>1</td>\n",
       "      <td>0</td>\n",
       "      <td>156</td>\n",
       "      <td>1</td>\n",
       "      <td>1.0</td>\n",
       "      <td>2</td>\n",
       "      <td>0</td>\n",
       "      <td>?</td>\n",
       "      <td>1</td>\n",
       "    </tr>\n",
       "    <tr>\n",
       "      <th>287</th>\n",
       "      <td>58</td>\n",
       "      <td>1</td>\n",
       "      <td>2</td>\n",
       "      <td>125</td>\n",
       "      <td>220</td>\n",
       "      <td>0</td>\n",
       "      <td>0</td>\n",
       "      <td>144</td>\n",
       "      <td>0</td>\n",
       "      <td>0.4</td>\n",
       "      <td>2</td>\n",
       "      <td>?</td>\n",
       "      <td>7</td>\n",
       "      <td>0</td>\n",
       "    </tr>\n",
       "    <tr>\n",
       "      <th>302</th>\n",
       "      <td>38</td>\n",
       "      <td>1</td>\n",
       "      <td>3</td>\n",
       "      <td>138</td>\n",
       "      <td>175</td>\n",
       "      <td>0</td>\n",
       "      <td>0</td>\n",
       "      <td>173</td>\n",
       "      <td>0</td>\n",
       "      <td>0.0</td>\n",
       "      <td>1</td>\n",
       "      <td>?</td>\n",
       "      <td>3</td>\n",
       "      <td>0</td>\n",
       "    </tr>\n",
       "  </tbody>\n",
       "</table>\n",
       "</div>"
      ],
      "text/plain": [
       "     age  sex  cp  treshtbps chol  fbs  restecg  thalach  exang  oldpeak  \\\n",
       "2     67    1   4        120    ?    0        2      129      1      2.6   \n",
       "87    53    0   3        128  216    0        2      115      0      0.0   \n",
       "166   52    1   3        138  223    0        0      169      0      0.0   \n",
       "192   43    1   4        132  247    1        2      143      1      0.1   \n",
       "266   52    1   4        128  204    1        0      156      1      1.0   \n",
       "287   58    1   2        125  220    0        0      144      0      0.4   \n",
       "302   38    1   3        138  175    0        0      173      0      0.0   \n",
       "\n",
       "     slope ca hsl  heartDisease  \n",
       "2        2  2   7             1  \n",
       "87       1  0   ?             0  \n",
       "166      1  ?   3             0  \n",
       "192      2  ?   7             1  \n",
       "266      2  0   ?             1  \n",
       "287      2  ?   7             0  \n",
       "302      1  ?   3             0  "
      ]
     },
     "execution_count": 10,
     "metadata": {},
     "output_type": "execute_result"
    }
   ],
   "source": [
    "raw_data[(raw_data['chol']=='?')|(raw_data['ca']=='?')|(raw_data['hsl']=='?')]"
   ]
  },
  {
   "cell_type": "code",
   "execution_count": 11,
   "id": "0e2b8314",
   "metadata": {
    "ExecuteTime": {
     "end_time": "2021-08-17T06:02:42.746881Z",
     "start_time": "2021-08-17T06:02:42.724948Z"
    }
   },
   "outputs": [
    {
     "name": "stdout",
     "output_type": "stream",
     "text": [
      "<class 'pandas.core.frame.DataFrame'>\n",
      "RangeIndex: 303 entries, 0 to 302\n",
      "Data columns (total 14 columns):\n",
      " #   Column        Non-Null Count  Dtype  \n",
      "---  ------        --------------  -----  \n",
      " 0   age           303 non-null    int64  \n",
      " 1   sex           303 non-null    int64  \n",
      " 2   cp            303 non-null    int64  \n",
      " 3   treshtbps     303 non-null    int64  \n",
      " 4   chol          302 non-null    float64\n",
      " 5   fbs           303 non-null    int64  \n",
      " 6   restecg       303 non-null    int64  \n",
      " 7   thalach       303 non-null    int64  \n",
      " 8   exang         303 non-null    int64  \n",
      " 9   oldpeak       303 non-null    float64\n",
      " 10  slope         303 non-null    int64  \n",
      " 11  ca            299 non-null    float64\n",
      " 12  hsl           301 non-null    float64\n",
      " 13  heartDisease  303 non-null    int64  \n",
      "dtypes: float64(4), int64(10)\n",
      "memory usage: 33.3 KB\n"
     ]
    }
   ],
   "source": [
    "clean_data = raw_data.replace('?', np.nan)\n",
    "clean_data.info()"
   ]
  },
  {
   "cell_type": "code",
   "execution_count": 12,
   "id": "91b8669e",
   "metadata": {
    "ExecuteTime": {
     "end_time": "2021-08-17T06:03:27.236160Z",
     "start_time": "2021-08-17T06:03:27.002370Z"
    }
   },
   "outputs": [
    {
     "data": {
      "text/plain": [
       "age             0\n",
       "sex             0\n",
       "cp              0\n",
       "treshtbps       0\n",
       "chol            0\n",
       "fbs             0\n",
       "restecg         0\n",
       "thalach         0\n",
       "exang           0\n",
       "oldpeak         0\n",
       "slope           0\n",
       "ca              0\n",
       "hsl             0\n",
       "heartDisease    0\n",
       "dtype: int64"
      ]
     },
     "execution_count": 12,
     "metadata": {},
     "output_type": "execute_result"
    }
   ],
   "source": [
    "clean_data.dropna(how='any', inplace=True)\n",
    "clean_data.isna().sum()"
   ]
  },
  {
   "cell_type": "code",
   "execution_count": 16,
   "id": "0d1c9979",
   "metadata": {
    "ExecuteTime": {
     "end_time": "2021-08-17T06:07:07.791320Z",
     "start_time": "2021-08-17T06:07:07.773366Z"
    }
   },
   "outputs": [
    {
     "data": {
      "text/html": [
       "<div>\n",
       "<style scoped>\n",
       "    .dataframe tbody tr th:only-of-type {\n",
       "        vertical-align: middle;\n",
       "    }\n",
       "\n",
       "    .dataframe tbody tr th {\n",
       "        vertical-align: top;\n",
       "    }\n",
       "\n",
       "    .dataframe thead th {\n",
       "        text-align: right;\n",
       "    }\n",
       "</style>\n",
       "<table border=\"1\" class=\"dataframe\">\n",
       "  <thead>\n",
       "    <tr style=\"text-align: right;\">\n",
       "      <th></th>\n",
       "      <th>heartDisease</th>\n",
       "    </tr>\n",
       "  </thead>\n",
       "  <tbody>\n",
       "    <tr>\n",
       "      <th>0</th>\n",
       "      <td>0</td>\n",
       "    </tr>\n",
       "    <tr>\n",
       "      <th>1</th>\n",
       "      <td>1</td>\n",
       "    </tr>\n",
       "    <tr>\n",
       "      <th>3</th>\n",
       "      <td>0</td>\n",
       "    </tr>\n",
       "    <tr>\n",
       "      <th>4</th>\n",
       "      <td>0</td>\n",
       "    </tr>\n",
       "    <tr>\n",
       "      <th>5</th>\n",
       "      <td>0</td>\n",
       "    </tr>\n",
       "    <tr>\n",
       "      <th>...</th>\n",
       "      <td>...</td>\n",
       "    </tr>\n",
       "    <tr>\n",
       "      <th>297</th>\n",
       "      <td>1</td>\n",
       "    </tr>\n",
       "    <tr>\n",
       "      <th>298</th>\n",
       "      <td>1</td>\n",
       "    </tr>\n",
       "    <tr>\n",
       "      <th>299</th>\n",
       "      <td>1</td>\n",
       "    </tr>\n",
       "    <tr>\n",
       "      <th>300</th>\n",
       "      <td>1</td>\n",
       "    </tr>\n",
       "    <tr>\n",
       "      <th>301</th>\n",
       "      <td>1</td>\n",
       "    </tr>\n",
       "  </tbody>\n",
       "</table>\n",
       "<p>296 rows × 1 columns</p>\n",
       "</div>"
      ],
      "text/plain": [
       "     heartDisease\n",
       "0               0\n",
       "1               1\n",
       "3               0\n",
       "4               0\n",
       "5               0\n",
       "..            ...\n",
       "297             1\n",
       "298             1\n",
       "299             1\n",
       "300             1\n",
       "301             1\n",
       "\n",
       "[296 rows x 1 columns]"
      ]
     },
     "execution_count": 16,
     "metadata": {},
     "output_type": "execute_result"
    }
   ],
   "source": [
    "# 독립변수(입력변수), 타겟변수(종속변수)\n",
    "Input = clean_data.iloc[:,:-1]\n",
    "Target = clean_data.iloc[:,[-1]] # 2차원 데이터\n",
    "Target"
   ]
  },
  {
   "cell_type": "code",
   "execution_count": 14,
   "id": "cf48dddd",
   "metadata": {
    "ExecuteTime": {
     "end_time": "2021-08-17T06:05:30.913789Z",
     "start_time": "2021-08-17T06:05:30.899796Z"
    }
   },
   "outputs": [
    {
     "data": {
      "text/plain": [
       "(296, 14)"
      ]
     },
     "execution_count": 14,
     "metadata": {},
     "output_type": "execute_result"
    }
   ],
   "source": [
    "clean_data.shape"
   ]
  },
  {
   "cell_type": "code",
   "execution_count": 17,
   "id": "bd85282b",
   "metadata": {
    "ExecuteTime": {
     "end_time": "2021-08-17T06:11:03.352486Z",
     "start_time": "2021-08-17T06:11:03.339503Z"
    }
   },
   "outputs": [
    {
     "data": {
      "text/plain": [
       "136"
      ]
     },
     "execution_count": 17,
     "metadata": {},
     "output_type": "execute_result"
    }
   ],
   "source": [
    "Target['heartDisease'].sum()"
   ]
  },
  {
   "cell_type": "code",
   "execution_count": 18,
   "id": "85bf2c62",
   "metadata": {
    "ExecuteTime": {
     "end_time": "2021-08-17T06:11:09.418336Z",
     "start_time": "2021-08-17T06:11:09.404345Z"
    }
   },
   "outputs": [
    {
     "data": {
      "text/plain": [
       "0.4594594594594595"
      ]
     },
     "execution_count": 18,
     "metadata": {},
     "output_type": "execute_result"
    }
   ],
   "source": [
    "Target['heartDisease'].mean()"
   ]
  },
  {
   "cell_type": "code",
   "execution_count": 19,
   "id": "9c714aa5",
   "metadata": {
    "ExecuteTime": {
     "end_time": "2021-08-17T06:11:19.667267Z",
     "start_time": "2021-08-17T06:11:19.642355Z"
    }
   },
   "outputs": [
    {
     "data": {
      "text/plain": [
       "0    160\n",
       "1    136\n",
       "Name: heartDisease, dtype: int64"
      ]
     },
     "execution_count": 19,
     "metadata": {},
     "output_type": "execute_result"
    }
   ],
   "source": [
    "Target['heartDisease'].value_counts()"
   ]
  },
  {
   "cell_type": "code",
   "execution_count": 32,
   "id": "6107a801",
   "metadata": {
    "ExecuteTime": {
     "end_time": "2021-08-17T06:17:15.976333Z",
     "start_time": "2021-08-17T06:17:15.961374Z"
    }
   },
   "outputs": [
    {
     "data": {
      "text/plain": [
       "array([[0.70833333, 1.        , 0.        , ..., 1.        , 0.        ,\n",
       "        0.75      ],\n",
       "       [0.79166667, 1.        , 1.        , ..., 0.5       , 1.        ,\n",
       "        0.        ],\n",
       "       [0.16666667, 1.        , 0.66666667, ..., 1.        , 0.        ,\n",
       "        0.        ],\n",
       "       ...,\n",
       "       [0.8125    , 1.        , 1.        , ..., 0.5       , 0.66666667,\n",
       "        1.        ],\n",
       "       [0.58333333, 1.        , 1.        , ..., 0.5       , 0.33333333,\n",
       "        1.        ],\n",
       "       [0.58333333, 0.        , 0.33333333, ..., 0.5       , 0.33333333,\n",
       "        0.        ]])"
      ]
     },
     "execution_count": 32,
     "metadata": {},
     "output_type": "execute_result"
    }
   ],
   "source": [
    "# Scale 조정\n",
    "scaler = MinMaxScaler()\n",
    "scaler.fit(Input)\n",
    "scaled_input = scaler.transform(Input)\n",
    "scaled_input"
   ]
  },
  {
   "cell_type": "code",
   "execution_count": 33,
   "id": "cfdc43b5",
   "metadata": {
    "ExecuteTime": {
     "end_time": "2021-08-17T06:19:26.024616Z",
     "start_time": "2021-08-17T06:19:26.011650Z"
    }
   },
   "outputs": [
    {
     "data": {
      "text/plain": [
       "((207, 13), (207, 1), (89, 13), (89, 1))"
      ]
     },
     "execution_count": 33,
     "metadata": {},
     "output_type": "execute_result"
    }
   ],
   "source": [
    "# scaled input, target -> 학습셋, 테스트셋 = 7:3\n",
    "X_train, X_test, Y_train, Y_test = train_test_split(scaled_input, Target, test_size=0.3, random_state=5)\n",
    "X_train.shape, Y_train.shape, X_test.shape, Y_test.shape"
   ]
  },
  {
   "cell_type": "code",
   "execution_count": 34,
   "id": "057658f9",
   "metadata": {
    "ExecuteTime": {
     "end_time": "2021-08-17T06:39:31.986935Z",
     "start_time": "2021-08-17T06:39:31.896200Z"
    }
   },
   "outputs": [
    {
     "name": "stdout",
     "output_type": "stream",
     "text": [
      "Model: \"sequential\"\n",
      "_________________________________________________________________\n",
      "Layer (type)                 Output Shape              Param #   \n",
      "=================================================================\n",
      "dense (Dense)                (None, 500)               7000      \n",
      "_________________________________________________________________\n",
      "dropout (Dropout)            (None, 500)               0         \n",
      "_________________________________________________________________\n",
      "dense_1 (Dense)              (None, 200)               100200    \n",
      "_________________________________________________________________\n",
      "dropout_1 (Dropout)          (None, 200)               0         \n",
      "_________________________________________________________________\n",
      "dense_2 (Dense)              (None, 100)               20100     \n",
      "_________________________________________________________________\n",
      "dropout_2 (Dropout)          (None, 100)               0         \n",
      "_________________________________________________________________\n",
      "dense_3 (Dense)              (None, 1)                 101       \n",
      "=================================================================\n",
      "Total params: 127,401\n",
      "Trainable params: 127,401\n",
      "Non-trainable params: 0\n",
      "_________________________________________________________________\n"
     ]
    }
   ],
   "source": [
    "# 2. 모델구성\n",
    "model = Sequential()\n",
    "model.add(Dense(units=500, input_dim=13, activation='tanh'))\n",
    "model.add(Dropout(0.1))\n",
    "model.add(Dense(units=200, activation='tanh'))\n",
    "model.add(Dropout(0.1))\n",
    "model.add(Dense(units=100, activation='tanh'))\n",
    "model.add(Dropout(0.1))\n",
    "model.add(Dense(units=1, activation='sigmoid'))\n",
    "model.summary()"
   ]
  },
  {
   "cell_type": "code",
   "execution_count": 35,
   "id": "af60c4e4",
   "metadata": {
    "ExecuteTime": {
     "end_time": "2021-08-17T06:54:09.253358Z",
     "start_time": "2021-08-17T06:54:09.231390Z"
    }
   },
   "outputs": [],
   "source": [
    "# 3. 학습과정 설정\n",
    "# accuracy(정확도) : 예측결과와 실제값이 동일한 건수 / 전체건수\n",
    "# recall(재현율) : 실제True인 것 중에 예측도 True인 건수\n",
    "# precision(정밀도,민감도) : 예측 True인 것 중에 실제도 True인 건수\n",
    "from tensorflow.keras import metrics\n",
    "model.compile(loss='binary_crossentropy', optimizer='adam', metrics=['accuracy', metrics.Recall(), metrics.Precision()])"
   ]
  },
  {
   "cell_type": "code",
   "execution_count": 36,
   "id": "0a9a2dad",
   "metadata": {
    "ExecuteTime": {
     "end_time": "2021-08-17T06:56:24.928765Z",
     "start_time": "2021-08-17T06:56:22.069951Z"
    }
   },
   "outputs": [
    {
     "name": "stdout",
     "output_type": "stream",
     "text": [
      "Epoch 1/50\n",
      "4/4 - 1s - loss: 0.6890 - accuracy: 0.5273 - recall: 0.3382 - precision: 0.4107 - val_loss: 0.5035 - val_accuracy: 0.8333 - val_recall: 0.8571 - val_precision: 0.8182\n",
      "Epoch 2/50\n",
      "4/4 - 0s - loss: 0.4952 - accuracy: 0.7879 - recall: 0.8529 - precision: 0.6988 - val_loss: 0.4670 - val_accuracy: 0.8571 - val_recall: 0.7143 - val_precision: 1.0000\n",
      "Epoch 3/50\n",
      "4/4 - 0s - loss: 0.4122 - accuracy: 0.8121 - recall: 0.6912 - precision: 0.8246 - val_loss: 0.4803 - val_accuracy: 0.8571 - val_recall: 0.7143 - val_precision: 1.0000\n",
      "Epoch 4/50\n",
      "4/4 - 0s - loss: 0.3955 - accuracy: 0.8485 - recall: 0.7794 - precision: 0.8413 - val_loss: 0.3774 - val_accuracy: 0.8810 - val_recall: 0.7619 - val_precision: 1.0000\n",
      "Epoch 5/50\n",
      "4/4 - 0s - loss: 0.3720 - accuracy: 0.8485 - recall: 0.8235 - precision: 0.8116 - val_loss: 0.3505 - val_accuracy: 0.8810 - val_recall: 0.7619 - val_precision: 1.0000\n",
      "Epoch 6/50\n",
      "4/4 - 0s - loss: 0.3694 - accuracy: 0.8485 - recall: 0.7647 - precision: 0.8525 - val_loss: 0.3423 - val_accuracy: 0.9048 - val_recall: 0.8095 - val_precision: 1.0000\n",
      "Epoch 7/50\n",
      "4/4 - 0s - loss: 0.3740 - accuracy: 0.8424 - recall: 0.7500 - precision: 0.8500 - val_loss: 0.2816 - val_accuracy: 0.8810 - val_recall: 0.8095 - val_precision: 0.9444\n",
      "Epoch 8/50\n",
      "4/4 - 0s - loss: 0.3731 - accuracy: 0.8424 - recall: 0.8529 - precision: 0.7838 - val_loss: 0.2861 - val_accuracy: 0.8810 - val_recall: 0.8095 - val_precision: 0.9444\n",
      "Epoch 9/50\n",
      "4/4 - 0s - loss: 0.3702 - accuracy: 0.8303 - recall: 0.7647 - precision: 0.8125 - val_loss: 0.3723 - val_accuracy: 0.8810 - val_recall: 0.7619 - val_precision: 1.0000\n",
      "Epoch 10/50\n",
      "4/4 - 0s - loss: 0.3652 - accuracy: 0.8424 - recall: 0.7206 - precision: 0.8750 - val_loss: 0.2999 - val_accuracy: 0.8810 - val_recall: 0.8095 - val_precision: 0.9444\n",
      "Epoch 11/50\n",
      "4/4 - 0s - loss: 0.3611 - accuracy: 0.8424 - recall: 0.8529 - precision: 0.7838 - val_loss: 0.2850 - val_accuracy: 0.8571 - val_recall: 0.8095 - val_precision: 0.8947\n",
      "Epoch 12/50\n",
      "4/4 - 0s - loss: 0.3541 - accuracy: 0.8545 - recall: 0.8235 - precision: 0.8235 - val_loss: 0.3933 - val_accuracy: 0.8571 - val_recall: 0.7143 - val_precision: 1.0000\n",
      "Epoch 13/50\n",
      "4/4 - 0s - loss: 0.3676 - accuracy: 0.8303 - recall: 0.6765 - precision: 0.8846 - val_loss: 0.3414 - val_accuracy: 0.8810 - val_recall: 0.8095 - val_precision: 0.9444\n",
      "Epoch 14/50\n",
      "4/4 - 0s - loss: 0.3294 - accuracy: 0.8606 - recall: 0.8382 - precision: 0.8261 - val_loss: 0.3012 - val_accuracy: 0.8571 - val_recall: 0.8095 - val_precision: 0.8947\n",
      "Epoch 15/50\n",
      "4/4 - 0s - loss: 0.3561 - accuracy: 0.8485 - recall: 0.8235 - precision: 0.8116 - val_loss: 0.3202 - val_accuracy: 0.8571 - val_recall: 0.8095 - val_precision: 0.8947\n",
      "Epoch 16/50\n",
      "4/4 - 0s - loss: 0.3630 - accuracy: 0.8364 - recall: 0.8382 - precision: 0.7808 - val_loss: 0.3355 - val_accuracy: 0.8571 - val_recall: 0.8095 - val_precision: 0.8947\n",
      "Epoch 17/50\n",
      "4/4 - 0s - loss: 0.3495 - accuracy: 0.8303 - recall: 0.7647 - precision: 0.8125 - val_loss: 0.3682 - val_accuracy: 0.8571 - val_recall: 0.7619 - val_precision: 0.9412\n",
      "Epoch 18/50\n",
      "4/4 - 0s - loss: 0.3437 - accuracy: 0.8424 - recall: 0.7647 - precision: 0.8387 - val_loss: 0.3302 - val_accuracy: 0.8571 - val_recall: 0.8095 - val_precision: 0.8947\n",
      "Epoch 19/50\n",
      "4/4 - 0s - loss: 0.3520 - accuracy: 0.8424 - recall: 0.8824 - precision: 0.7692 - val_loss: 0.3594 - val_accuracy: 0.8571 - val_recall: 0.7619 - val_precision: 0.9412\n",
      "Epoch 20/50\n",
      "4/4 - 0s - loss: 0.3552 - accuracy: 0.8485 - recall: 0.7500 - precision: 0.8644 - val_loss: 0.4642 - val_accuracy: 0.8095 - val_recall: 0.6190 - val_precision: 1.0000\n",
      "Epoch 21/50\n",
      "4/4 - 0s - loss: 0.3459 - accuracy: 0.8606 - recall: 0.7500 - precision: 0.8947 - val_loss: 0.3256 - val_accuracy: 0.8571 - val_recall: 0.8095 - val_precision: 0.8947\n",
      "Epoch 22/50\n",
      "4/4 - 0s - loss: 0.3912 - accuracy: 0.8424 - recall: 0.9118 - precision: 0.7561 - val_loss: 0.3261 - val_accuracy: 0.8571 - val_recall: 0.8095 - val_precision: 0.8947\n",
      "Epoch 23/50\n",
      "4/4 - 0s - loss: 0.3530 - accuracy: 0.8606 - recall: 0.8382 - precision: 0.8261 - val_loss: 0.4987 - val_accuracy: 0.8095 - val_recall: 0.6190 - val_precision: 1.0000\n",
      "Epoch 24/50\n",
      "4/4 - 0s - loss: 0.3934 - accuracy: 0.8182 - recall: 0.6029 - precision: 0.9318 - val_loss: 0.4060 - val_accuracy: 0.8095 - val_recall: 0.6667 - val_precision: 0.9333\n",
      "Epoch 25/50\n",
      "4/4 - 0s - loss: 0.3473 - accuracy: 0.8545 - recall: 0.7941 - precision: 0.8438 - val_loss: 0.3225 - val_accuracy: 0.8571 - val_recall: 0.8095 - val_precision: 0.8947\n",
      "Epoch 26/50\n",
      "4/4 - 0s - loss: 0.3492 - accuracy: 0.8303 - recall: 0.8824 - precision: 0.7500 - val_loss: 0.3567 - val_accuracy: 0.8571 - val_recall: 0.8095 - val_precision: 0.8947\n",
      "Epoch 27/50\n",
      "4/4 - 0s - loss: 0.3541 - accuracy: 0.8485 - recall: 0.7500 - precision: 0.8644 - val_loss: 0.4155 - val_accuracy: 0.8333 - val_recall: 0.6667 - val_precision: 1.0000\n",
      "Epoch 28/50\n",
      "4/4 - 0s - loss: 0.3335 - accuracy: 0.8545 - recall: 0.7206 - precision: 0.9074 - val_loss: 0.3323 - val_accuracy: 0.8810 - val_recall: 0.8095 - val_precision: 0.9444\n",
      "Epoch 29/50\n",
      "4/4 - 0s - loss: 0.3296 - accuracy: 0.8788 - recall: 0.8676 - precision: 0.8429 - val_loss: 0.3158 - val_accuracy: 0.8571 - val_recall: 0.8095 - val_precision: 0.8947\n",
      "Epoch 30/50\n",
      "4/4 - 0s - loss: 0.3459 - accuracy: 0.8606 - recall: 0.8676 - precision: 0.8082 - val_loss: 0.3395 - val_accuracy: 0.8571 - val_recall: 0.7619 - val_precision: 0.9412\n",
      "Epoch 31/50\n",
      "4/4 - 0s - loss: 0.3267 - accuracy: 0.8606 - recall: 0.8382 - precision: 0.8261 - val_loss: 0.3462 - val_accuracy: 0.8571 - val_recall: 0.7619 - val_precision: 0.9412\n",
      "Epoch 32/50\n",
      "4/4 - 0s - loss: 0.3389 - accuracy: 0.8303 - recall: 0.7500 - precision: 0.8226 - val_loss: 0.3834 - val_accuracy: 0.8333 - val_recall: 0.6667 - val_precision: 1.0000\n",
      "Epoch 33/50\n",
      "4/4 - 0s - loss: 0.3349 - accuracy: 0.8364 - recall: 0.7353 - precision: 0.8475 - val_loss: 0.3724 - val_accuracy: 0.8095 - val_recall: 0.7143 - val_precision: 0.8824\n",
      "Epoch 34/50\n",
      "4/4 - 0s - loss: 0.3383 - accuracy: 0.8424 - recall: 0.7647 - precision: 0.8387 - val_loss: 0.3842 - val_accuracy: 0.8095 - val_recall: 0.7143 - val_precision: 0.8824\n",
      "Epoch 35/50\n",
      "4/4 - 0s - loss: 0.3290 - accuracy: 0.8485 - recall: 0.8235 - precision: 0.8116 - val_loss: 0.3486 - val_accuracy: 0.8571 - val_recall: 0.8095 - val_precision: 0.8947\n",
      "Epoch 36/50\n",
      "4/4 - 0s - loss: 0.3195 - accuracy: 0.8545 - recall: 0.8529 - precision: 0.8056 - val_loss: 0.3614 - val_accuracy: 0.8571 - val_recall: 0.8095 - val_precision: 0.8947\n",
      "Epoch 37/50\n",
      "4/4 - 0s - loss: 0.3317 - accuracy: 0.8485 - recall: 0.8235 - precision: 0.8116 - val_loss: 0.3858 - val_accuracy: 0.8095 - val_recall: 0.7143 - val_precision: 0.8824\n",
      "Epoch 38/50\n",
      "4/4 - 0s - loss: 0.3354 - accuracy: 0.8242 - recall: 0.7794 - precision: 0.7910 - val_loss: 0.3957 - val_accuracy: 0.7857 - val_recall: 0.6667 - val_precision: 0.8750\n",
      "Epoch 39/50\n",
      "4/4 - 0s - loss: 0.3223 - accuracy: 0.8485 - recall: 0.7941 - precision: 0.8308 - val_loss: 0.3507 - val_accuracy: 0.8571 - val_recall: 0.8095 - val_precision: 0.8947\n",
      "Epoch 40/50\n",
      "4/4 - 0s - loss: 0.3259 - accuracy: 0.8364 - recall: 0.8529 - precision: 0.7733 - val_loss: 0.3617 - val_accuracy: 0.8571 - val_recall: 0.8095 - val_precision: 0.8947\n",
      "Epoch 41/50\n",
      "4/4 - 0s - loss: 0.3251 - accuracy: 0.8364 - recall: 0.8382 - precision: 0.7808 - val_loss: 0.3631 - val_accuracy: 0.8571 - val_recall: 0.8095 - val_precision: 0.8947\n",
      "Epoch 42/50\n",
      "4/4 - 0s - loss: 0.3246 - accuracy: 0.8485 - recall: 0.8382 - precision: 0.8028 - val_loss: 0.4485 - val_accuracy: 0.7857 - val_recall: 0.6667 - val_precision: 0.8750\n",
      "Epoch 43/50\n",
      "4/4 - 0s - loss: 0.3509 - accuracy: 0.8364 - recall: 0.6765 - precision: 0.9020 - val_loss: 0.4702 - val_accuracy: 0.8095 - val_recall: 0.6667 - val_precision: 0.9333\n",
      "Epoch 44/50\n",
      "4/4 - 0s - loss: 0.3196 - accuracy: 0.8606 - recall: 0.7941 - precision: 0.8571 - val_loss: 0.3587 - val_accuracy: 0.8571 - val_recall: 0.8095 - val_precision: 0.8947\n",
      "Epoch 45/50\n",
      "4/4 - 0s - loss: 0.3352 - accuracy: 0.8303 - recall: 0.8529 - precision: 0.7632 - val_loss: 0.3648 - val_accuracy: 0.8571 - val_recall: 0.8095 - val_precision: 0.8947\n",
      "Epoch 46/50\n",
      "4/4 - 0s - loss: 0.3285 - accuracy: 0.8545 - recall: 0.8676 - precision: 0.7973 - val_loss: 0.3706 - val_accuracy: 0.8571 - val_recall: 0.8095 - val_precision: 0.8947\n"
     ]
    },
    {
     "name": "stdout",
     "output_type": "stream",
     "text": [
      "Epoch 47/50\n",
      "4/4 - 0s - loss: 0.3243 - accuracy: 0.8485 - recall: 0.8676 - precision: 0.7867 - val_loss: 0.3782 - val_accuracy: 0.8571 - val_recall: 0.8095 - val_precision: 0.8947\n",
      "Epoch 48/50\n",
      "4/4 - 0s - loss: 0.3092 - accuracy: 0.8485 - recall: 0.8088 - precision: 0.8209 - val_loss: 0.4347 - val_accuracy: 0.7857 - val_recall: 0.6667 - val_precision: 0.8750\n",
      "Epoch 49/50\n",
      "4/4 - 0s - loss: 0.3483 - accuracy: 0.8182 - recall: 0.7059 - precision: 0.8276 - val_loss: 0.4148 - val_accuracy: 0.7857 - val_recall: 0.6667 - val_precision: 0.8750\n",
      "Epoch 50/50\n",
      "4/4 - 0s - loss: 0.3039 - accuracy: 0.8545 - recall: 0.8382 - precision: 0.8143 - val_loss: 0.3678 - val_accuracy: 0.8333 - val_recall: 0.8095 - val_precision: 0.8500\n"
     ]
    }
   ],
   "source": [
    "# 4. 학습시키기\n",
    "hist = model.fit(X_train, Y_train, epochs=50, batch_size=50, verbose=2, validation_split=0.2)"
   ]
  },
  {
   "cell_type": "code",
   "execution_count": 37,
   "id": "a8d1eff5",
   "metadata": {
    "ExecuteTime": {
     "end_time": "2021-08-17T07:06:28.011415Z",
     "start_time": "2021-08-17T07:06:28.006435Z"
    }
   },
   "outputs": [
    {
     "data": {
      "text/plain": [
       "dict_keys(['loss', 'accuracy', 'recall', 'precision', 'val_loss', 'val_accuracy', 'val_recall', 'val_precision'])"
      ]
     },
     "execution_count": 37,
     "metadata": {},
     "output_type": "execute_result"
    }
   ],
   "source": [
    "hist.history.keys()"
   ]
  },
  {
   "cell_type": "code",
   "execution_count": 38,
   "id": "24bec23b",
   "metadata": {
    "ExecuteTime": {
     "end_time": "2021-08-17T07:07:53.022194Z",
     "start_time": "2021-08-17T07:07:52.950422Z"
    }
   },
   "outputs": [
    {
     "name": "stdout",
     "output_type": "stream",
     "text": [
      "3/3 [==============================] - 0s 3ms/step - loss: 0.4517 - accuracy: 0.8652 - recall: 0.8511 - precision: 0.8889\n"
     ]
    }
   ],
   "source": [
    "#5. 평가\n",
    "score = model.evaluate(X_test,Y_test)"
   ]
  },
  {
   "cell_type": "code",
   "execution_count": 44,
   "id": "3d7841a3",
   "metadata": {
    "ExecuteTime": {
     "end_time": "2021-08-17T07:23:03.118666Z",
     "start_time": "2021-08-17T07:23:03.057731Z"
    }
   },
   "outputs": [
    {
     "name": "stdout",
     "output_type": "stream",
     "text": [
      "f1_score :  0.8695652173913044\n"
     ]
    },
    {
     "data": {
      "text/html": [
       "<div>\n",
       "<style scoped>\n",
       "    .dataframe tbody tr th:only-of-type {\n",
       "        vertical-align: middle;\n",
       "    }\n",
       "\n",
       "    .dataframe tbody tr th {\n",
       "        vertical-align: top;\n",
       "    }\n",
       "\n",
       "    .dataframe thead th {\n",
       "        text-align: right;\n",
       "    }\n",
       "</style>\n",
       "<table border=\"1\" class=\"dataframe\">\n",
       "  <thead>\n",
       "    <tr style=\"text-align: right;\">\n",
       "      <th></th>\n",
       "      <th>발생 예측</th>\n",
       "      <th>발생 예측X</th>\n",
       "    </tr>\n",
       "  </thead>\n",
       "  <tbody>\n",
       "    <tr>\n",
       "      <th>실제 발생</th>\n",
       "      <td>37</td>\n",
       "      <td>7</td>\n",
       "    </tr>\n",
       "    <tr>\n",
       "      <th>실제 발생X</th>\n",
       "      <td>5</td>\n",
       "      <td>40</td>\n",
       "    </tr>\n",
       "  </tbody>\n",
       "</table>\n",
       "</div>"
      ],
      "text/plain": [
       "        발생 예측  발생 예측X\n",
       "실제 발생      37       7\n",
       "실제 발생X      5      40"
      ]
     },
     "execution_count": 44,
     "metadata": {},
     "output_type": "execute_result"
    }
   ],
   "source": [
    "# 6. confusion matrix(성능 평가 지표)\n",
    "from sklearn.metrics import confusion_matrix\n",
    "from sklearn.metrics import f1_score\n",
    "pred = model.predict(X_test)\n",
    "pred = (pred>0.5)\n",
    "print('f1_score : ', f1_score(Y_test, pred))\n",
    "pd.DataFrame(confusion_matrix(pred, Y_test), index=['실제 발생','실제 발생X'], columns=['발생 예측','발생 예측X'])"
   ]
  },
  {
   "cell_type": "code",
   "execution_count": null,
   "id": "5c401c3b",
   "metadata": {},
   "outputs": [],
   "source": []
  }
 ],
 "metadata": {
  "kernelspec": {
   "display_name": "Python 3",
   "language": "python",
   "name": "python3"
  },
  "language_info": {
   "codemirror_mode": {
    "name": "ipython",
    "version": 3
   },
   "file_extension": ".py",
   "mimetype": "text/x-python",
   "name": "python",
   "nbconvert_exporter": "python",
   "pygments_lexer": "ipython3",
   "version": "3.8.8"
  },
  "toc": {
   "base_numbering": 1,
   "nav_menu": {},
   "number_sections": true,
   "sideBar": true,
   "skip_h1_title": false,
   "title_cell": "Table of Contents",
   "title_sidebar": "Contents",
   "toc_cell": false,
   "toc_position": {},
   "toc_section_display": true,
   "toc_window_display": false
  },
  "varInspector": {
   "cols": {
    "lenName": 16,
    "lenType": 16,
    "lenVar": 40
   },
   "kernels_config": {
    "python": {
     "delete_cmd_postfix": "",
     "delete_cmd_prefix": "del ",
     "library": "var_list.py",
     "varRefreshCmd": "print(var_dic_list())"
    },
    "r": {
     "delete_cmd_postfix": ") ",
     "delete_cmd_prefix": "rm(",
     "library": "var_list.r",
     "varRefreshCmd": "cat(var_dic_list()) "
    }
   },
   "types_to_exclude": [
    "module",
    "function",
    "builtin_function_or_method",
    "instance",
    "_Feature"
   ],
   "window_display": false
  }
 },
 "nbformat": 4,
 "nbformat_minor": 5
}
