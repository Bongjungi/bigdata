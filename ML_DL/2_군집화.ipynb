{
 "cells": [
  {
   "cell_type": "markdown",
   "id": "6329acce",
   "metadata": {},
   "source": [
    "## 남여 데이터를 생성 군집화"
   ]
  },
  {
   "cell_type": "code",
   "execution_count": 4,
   "id": "dd200cd0",
   "metadata": {
    "ExecuteTime": {
     "end_time": "2021-08-12T06:47:52.086507Z",
     "start_time": "2021-08-12T06:47:51.796727Z"
    }
   },
   "outputs": [],
   "source": [
    "import random\n",
    "import numpy as np\n",
    "import matplotlib.pyplot as plt"
   ]
  },
  {
   "cell_type": "code",
   "execution_count": 2,
   "id": "4479b0a3",
   "metadata": {
    "ExecuteTime": {
     "end_time": "2021-08-12T06:40:46.593948Z",
     "start_time": "2021-08-12T06:40:46.587972Z"
    }
   },
   "outputs": [],
   "source": [
    "data=[]\n",
    "for i in range(50):\n",
    "    data.append([random.randint(40,70),random.randint(140,180)]) #여자\n",
    "    data.append([random.randint(60,90),random.randint(170,200)]) #남자"
   ]
  },
  {
   "cell_type": "code",
   "execution_count": 3,
   "id": "947c7bfa",
   "metadata": {
    "ExecuteTime": {
     "end_time": "2021-08-12T06:42:29.773194Z",
     "start_time": "2021-08-12T06:42:29.728285Z"
    }
   },
   "outputs": [
    {
     "name": "stdout",
     "output_type": "stream",
     "text": [
      "[66, 174] [47, 175] [53, 147] [45, 179] [55, 148] [45, 147] [43, 161] [42, 175] [53, 167] [62, 160] [66, 143] [57, 140] [49, 144] [63, 141] [48, 176] [41, 176] [54, 162] [49, 159] [54, 150] [46, 179] [61, 161] [53, 140] [48, 178] [52, 160] [61, 166] [63, 164] [44, 142] [62, 171] [58, 152] [45, 167] [57, 162] [55, 157] [65, 155] [65, 149] [43, 160] [41, 156] [57, 143] [58, 140] [54, 157] [55, 154] [52, 157] [68, 153] [67, 147] [42, 169] [54, 171] [49, 177] [50, 145] [44, 179] [43, 160] [62, 152] \n",
      "----------------------------------------------\n",
      "[88, 189] [71, 173] [84, 177] [88, 191] [67, 185] [84, 195] [88, 200] [80, 191] [82, 175] [80, 175] [88, 175] [77, 200] [63, 188] [63, 188] [87, 197] [64, 174] [89, 177] [80, 183] [74, 194] [71, 199] [64, 199] [67, 180] [85, 193] [67, 196] [88, 175] [80, 193] [71, 196] [90, 200] [60, 173] [65, 177] [70, 179] [74, 199] [82, 184] [85, 186] [68, 183] [70, 176] [80, 196] [76, 196] [76, 172] [62, 190] [75, 178] [87, 183] [90, 171] [89, 187] [81, 192] [79, 193] [90, 198] [68, 191] [77, 175] [83, 196] "
     ]
    }
   ],
   "source": [
    "for female in data[:100:2]:\n",
    "    print(female, end=' ')\n",
    "print('\\n----------------------------------------------')\n",
    "for male in data[1:100:2]:\n",
    "    print(male, end=' ')"
   ]
  },
  {
   "cell_type": "code",
   "execution_count": 8,
   "id": "d741235d",
   "metadata": {
    "ExecuteTime": {
     "end_time": "2021-08-12T06:52:58.821799Z",
     "start_time": "2021-08-12T06:52:58.690842Z"
    }
   },
   "outputs": [
    {
     "data": {
      "text/plain": [
       "[<matplotlib.lines.Line2D at 0x29b11133460>]"
      ]
     },
     "execution_count": 8,
     "metadata": {},
     "output_type": "execute_result"
    },
    {
     "data": {
      "image/png": "[encoded data removed]",
      "text/plain": [
       "<Figure size 432x288 with 1 Axes>"
      ]
     },
     "metadata": {
      "needs_background": "light"
     },
     "output_type": "display_data"
    }
   ],
   "source": [
    "#x축: 몸무게 #y축: 키\n",
    "# 여자몸무게 : [d[0] for d in data[:100:2]]\n",
    "# 여자키 : [d[1] for d in data[:100:2]]\n",
    "# 남자몸무게 : [d[0] for d in data[1:100:2]]\n",
    "# 남자키 : [d[1] for d in data[1:100:2]]\n",
    "plt.plot([d[0] for d in data[:100:2]], [d[1] for d in data[:100:2]], 'o', color='r')\n",
    "plt.plot([d[0] for d in data[1:100:2]], [d[1] for d in data[1:100:2]], 'o', color='b')"
   ]
  },
  {
   "cell_type": "code",
   "execution_count": 11,
   "id": "f708e4e9",
   "metadata": {
    "ExecuteTime": {
     "end_time": "2021-08-12T06:57:56.055211Z",
     "start_time": "2021-08-12T06:57:56.042267Z"
    }
   },
   "outputs": [],
   "source": [
    "#초기 랜덤 지점 2개 생성\n",
    "random_points=[[random.randint(40,90), random.randint(140,200)],[random.randint(40,90), random.randint(140,200)]]"
   ]
  },
  {
   "cell_type": "code",
   "execution_count": 19,
   "id": "d86ce46e",
   "metadata": {
    "ExecuteTime": {
     "end_time": "2021-08-12T07:15:13.074612Z",
     "start_time": "2021-08-12T07:15:12.935982Z"
    }
   },
   "outputs": [
    {
     "data": {
      "text/plain": [
       "[<matplotlib.lines.Line2D at 0x29b122a8dc0>]"
      ]
     },
     "execution_count": 19,
     "metadata": {},
     "output_type": "execute_result"
    },
    {
     "data": {
      "image/png": "[encoded data removed]",
      "text/plain": [
       "<Figure size 432x288 with 1 Axes>"
      ]
     },
     "metadata": {
      "needs_background": "light"
     },
     "output_type": "display_data"
    }
   ],
   "source": [
    "plt.plot([d[0] for d in data],[d[1] for d in data], 'o', color='k')\n",
    "plt.plot(random_points[0][0], random_points[0][1], 'x', color='r') #기준점1\n",
    "plt.plot(random_points[1][0], random_points[1][1], 'x', color='b') #기준점2"
   ]
  },
  {
   "cell_type": "code",
   "execution_count": 14,
   "id": "2017fc5b",
   "metadata": {
    "ExecuteTime": {
     "end_time": "2021-08-12T07:10:01.123885Z",
     "start_time": "2021-08-12T07:10:01.119909Z"
    }
   },
   "outputs": [],
   "source": [
    "# 두 영역으로 나눌 빈 리스트 생성\n",
    "group1 = []\n",
    "group2 = []"
   ]
  },
  {
   "cell_type": "code",
   "execution_count": 16,
   "id": "73e2c9c6",
   "metadata": {
    "ExecuteTime": {
     "end_time": "2021-08-12T07:11:45.682541Z",
     "start_time": "2021-08-12T07:11:45.673538Z"
    }
   },
   "outputs": [],
   "source": [
    "def dist(a,b):\n",
    "    return np.sqrt(((a[0]-b[0])**2)+(a[1]-b[1])**2)"
   ]
  },
  {
   "cell_type": "code",
   "execution_count": 20,
   "id": "8ec6c737",
   "metadata": {
    "ExecuteTime": {
     "end_time": "2021-08-12T07:15:31.424736Z",
     "start_time": "2021-08-12T07:15:31.410743Z"
    }
   },
   "outputs": [],
   "source": [
    "for d in data:\n",
    "    if dist(random_points[0],d)< dist(random_points[1],d):\n",
    "        group1.append(d) # 빨간 x랑 더 가까운 그룹\n",
    "    else :\n",
    "        group2.append(d) # 파란 x랑 더 가까운 그룹"
   ]
  },
  {
   "cell_type": "code",
   "execution_count": 22,
   "id": "a5ac1552",
   "metadata": {
    "ExecuteTime": {
     "end_time": "2021-08-12T07:18:26.672544Z",
     "start_time": "2021-08-12T07:18:26.431779Z"
    }
   },
   "outputs": [
    {
     "data": {
      "text/plain": [
       "[<matplotlib.lines.Line2D at 0x29b127ec700>]"
      ]
     },
     "execution_count": 22,
     "metadata": {},
     "output_type": "execute_result"
    },
    {
     "data": {
      "image/png": "[encoded data removed]",
      "text/plain": [
       "<Figure size 432x288 with 1 Axes>"
      ]
     },
     "metadata": {
      "needs_background": "light"
     },
     "output_type": "display_data"
    }
   ],
   "source": [
    "# 새로운 두 그룹(group1, group2)과 초기 랜덤 기준점 그래프\n",
    "for d in group1:\n",
    "    plt.plot(d[0], d[1], 'o', color='r')\n",
    "for d in group2:\n",
    "    plt.plot(d[0], d[1], 'o', color='b')\n",
    "plt.plot(random_points[0][0], random_points[0][1], 'x', color='r') #기준점1\n",
    "plt.plot(random_points[1][0], random_points[1][1], 'x', color='b') #기준점2"
   ]
  },
  {
   "cell_type": "code",
   "execution_count": 23,
   "id": "c986798b",
   "metadata": {
    "ExecuteTime": {
     "end_time": "2021-08-12T07:39:30.192106Z",
     "start_time": "2021-08-12T07:39:30.173177Z"
    }
   },
   "outputs": [
    {
     "data": {
      "text/plain": [
       "[[55.25714285714286, 152.4], [70.75384615384615, 183.7846153846154]]"
      ]
     },
     "execution_count": 23,
     "metadata": {},
     "output_type": "execute_result"
    }
   ],
   "source": [
    "# 기준점 이동\n",
    "sumX = 0; sumY = 0\n",
    "for g in group1:\n",
    "    sumX+=g[0]\n",
    "    sumY+=g[1]\n",
    "#새로운 기준점\n",
    "new_points=[]\n",
    "new_points.append([sumX/len(group1), sumY/len(group1)])\n",
    "sumX = 0; sumY = 0\n",
    "for g in group2:\n",
    "    sumX+=g[0]\n",
    "    sumY+=g[1]\n",
    "new_points.append([sumX/len(group2), sumY/len(group2)])\n",
    "new_points"
   ]
  },
  {
   "cell_type": "code",
   "execution_count": 24,
   "id": "f3de6c6b",
   "metadata": {
    "ExecuteTime": {
     "end_time": "2021-08-12T07:41:05.058687Z",
     "start_time": "2021-08-12T07:41:05.051680Z"
    }
   },
   "outputs": [],
   "source": [
    "group1=[]\n",
    "group2=[]\n",
    "for d in data:\n",
    "    if dist(new_points[0],d)< dist(new_points[1],d):\n",
    "        group1.append(d) # 빨간 x랑 더 가까운 그룹\n",
    "    else :\n",
    "        group2.append(d) # 파란 x랑 더 가까운 그룹"
   ]
  },
  {
   "cell_type": "code",
   "execution_count": 25,
   "id": "30ffeeb9",
   "metadata": {
    "ExecuteTime": {
     "end_time": "2021-08-12T07:41:39.041500Z",
     "start_time": "2021-08-12T07:41:38.729587Z"
    }
   },
   "outputs": [
    {
     "data": {
      "text/plain": [
       "[<matplotlib.lines.Line2D at 0x29b12013c10>]"
      ]
     },
     "execution_count": 25,
     "metadata": {},
     "output_type": "execute_result"
    },
    {
     "data": {
      "image/png": "[encoded data removed]",
      "text/plain": [
       "<Figure size 432x288 with 1 Axes>"
      ]
     },
     "metadata": {
      "needs_background": "light"
     },
     "output_type": "display_data"
    }
   ],
   "source": [
    "for d in group1:\n",
    "    plt.plot(d[0], d[1], 'o', color='r')\n",
    "for d in group2:\n",
    "    plt.plot(d[0], d[1], 'o', color='b')\n",
    "plt.plot(new_points[0][0], new_points[0][1], 'x', color='r') #기준점1\n",
    "plt.plot(new_points[1][0], new_points[1][1], 'x', color='b') #기준점2"
   ]
  },
  {
   "cell_type": "markdown",
   "id": "b17124c8",
   "metadata": {},
   "source": [
    "## 전체 코드"
   ]
  },
  {
   "cell_type": "code",
   "execution_count": 54,
   "id": "87d6daab",
   "metadata": {
    "ExecuteTime": {
     "end_time": "2021-08-12T08:08:48.960993Z",
     "start_time": "2021-08-12T08:08:48.930046Z"
    }
   },
   "outputs": [
    {
     "name": "stdout",
     "output_type": "stream",
     "text": [
      "초기 값 [[67, 153], [77, 158]]\n",
      "1 번째 수정 [[52.48, 161.06], [72.82, 183.42]]\n",
      "2 번째 수정 [[51.87, 160.21], [72.21, 182.91]]\n",
      "3 번째 수정 [[51.59, 160.02], [72.07, 182.65]]\n",
      "4 번째 수정 [[51.59, 160.02], [72.07, 182.65]]\n",
      "5 번째 수정 [[51.59, 160.02], [72.07, 182.65]]\n",
      "6 번째 수정 [[51.59, 160.02], [72.07, 182.65]]\n",
      "7 번째 수정 [[51.59, 160.02], [72.07, 182.65]]\n",
      "8 번째 수정 [[51.59, 160.02], [72.07, 182.65]]\n",
      "9 번째 수정 [[51.59, 160.02], [72.07, 182.65]]\n",
      "10 번째 수정 [[51.59, 160.02], [72.07, 182.65]]\n"
     ]
    }
   ],
   "source": [
    "import random\n",
    "import numpy as np\n",
    "import matplotlib.pyplot as plt\n",
    "\n",
    "data=[]\n",
    "for i in range(50):\n",
    "    data.append([random.randint(40,70),random.randint(140,180)]) #여자\n",
    "    data.append([random.randint(60,90),random.randint(170,200)]) #남자\n",
    "    \n",
    "new_points=[[random.randint(min([d[0] for d in data]),max([d[0] for d in data])), random.randint(min([d[1] for d in data]),max([d[1] for d in data]))],\n",
    "               [random.randint(min([d[0] for d in data]),max([d[0] for d in data])), random.randint(min([d[1] for d in data]),max([d[1] for d in data]))]]\n",
    "print('초기 값',new_points)\n",
    "for i in range(1,11):\n",
    "    group1=[]\n",
    "    group2=[]\n",
    "    for d in data:\n",
    "        if dist(new_points[0],d)< dist(new_points[1],d) :\n",
    "            group1.append(d)\n",
    "        else : \n",
    "            group2.append(d)\n",
    "    #group1과 group2의 중간지점으로 새 기준점 이동\n",
    "    sumX=0; sumY=0; new_points=[]\n",
    "    for g in group1:\n",
    "        sumX+= g[0]\n",
    "        sumY+= g[1]\n",
    "    new_points.append([np.round(sumX/len(group1),2),np.round(sumY/len(group1),2)])\n",
    "    sumX=0; sumY=0\n",
    "    for g in group2:\n",
    "        sumX+= g[0]\n",
    "        sumY+= g[1]\n",
    "    new_points.append([np.round(sumX/len(group2),2),np.round(sumY/len(group2),2)])\n",
    "    print(i, '번째 수정', new_points)"
   ]
  },
  {
   "cell_type": "code",
   "execution_count": 55,
   "id": "6bb195ca",
   "metadata": {
    "ExecuteTime": {
     "end_time": "2021-08-12T08:10:27.791253Z",
     "start_time": "2021-08-12T08:10:27.644742Z"
    }
   },
   "outputs": [
    {
     "data": {
      "text/plain": [
       "[<matplotlib.lines.Line2D at 0x29b12af5610>]"
      ]
     },
     "execution_count": 55,
     "metadata": {},
     "output_type": "execute_result"
    },
    {
     "data": {
      "image/png": "[encoded data removed]",
      "text/plain": [
       "<Figure size 432x288 with 1 Axes>"
      ]
     },
     "metadata": {
      "needs_background": "light"
     },
     "output_type": "display_data"
    }
   ],
   "source": [
    "plt.plot([d[0] for d in data[:100:2]],[d[1] for d in data[:100:2]],'o', color='r')\n",
    "plt.plot([d[0] for d in data[1:100:2]],[d[1] for d in data[1:100:2]],'o', color='b')\n"
   ]
  },
  {
   "cell_type": "code",
   "execution_count": 57,
   "id": "bdde0871",
   "metadata": {
    "ExecuteTime": {
     "end_time": "2021-08-12T08:14:03.911533Z",
     "start_time": "2021-08-12T08:14:03.656317Z"
    }
   },
   "outputs": [
    {
     "data": {
      "text/plain": [
       "[<matplotlib.lines.Line2D at 0x29b13f91d60>]"
      ]
     },
     "execution_count": 57,
     "metadata": {},
     "output_type": "execute_result"
    },
    {
     "data": {
      "image/png": "[encoded data removed]",
      "text/plain": [
       "<Figure size 432x288 with 1 Axes>"
      ]
     },
     "metadata": {
      "needs_background": "light"
     },
     "output_type": "display_data"
    }
   ],
   "source": [
    "for g in group1:\n",
    "    plt.plot(g[0],g[1],'o', color='r')\n",
    "for g in group2:\n",
    "    plt.plot(g[0],g[1],'o', color='b')\n",
    "plt.plot(new_points[0][0], new_points[0][1], 'x', color='k')\n",
    "plt.plot(new_points[1][0], new_points[1][1], 'x', color='k')"
   ]
  },
  {
   "cell_type": "code",
   "execution_count": null,
   "id": "de399d37",
   "metadata": {},
   "outputs": [],
   "source": []
  }
 ],
 "metadata": {
  "kernelspec": {
   "display_name": "Python 3",
   "language": "python",
   "name": "python3"
  },
  "language_info": {
   "codemirror_mode": {
    "name": "ipython",
    "version": 3
   },
   "file_extension": ".py",
   "mimetype": "text/x-python",
   "name": "python",
   "nbconvert_exporter": "python",
   "pygments_lexer": "ipython3",
   "version": "3.8.8"
  },
  "toc": {
   "base_numbering": 1,
   "nav_menu": {},
   "number_sections": false,
   "sideBar": true,
   "skip_h1_title": false,
   "title_cell": "Table of Contents",
   "title_sidebar": "Contents",
   "toc_cell": false,
   "toc_position": {},
   "toc_section_display": true,
   "toc_window_display": true
  },
  "varInspector": {
   "cols": {
    "lenName": 16,
    "lenType": 16,
    "lenVar": 40
   },
   "kernels_config": {
    "python": {
     "delete_cmd_postfix": "",
     "delete_cmd_prefix": "del ",
     "library": "var_list.py",
     "varRefreshCmd": "print(var_dic_list())"
    },
    "r": {
     "delete_cmd_postfix": ") ",
     "delete_cmd_prefix": "rm(",
     "library": "var_list.r",
     "varRefreshCmd": "cat(var_dic_list()) "
    }
   },
   "types_to_exclude": [
    "module",
    "function",
    "builtin_function_or_method",
    "instance",
    "_Feature"
   ],
   "window_display": false
  }
 },
 "nbformat": 4,
 "nbformat_minor": 5
}
