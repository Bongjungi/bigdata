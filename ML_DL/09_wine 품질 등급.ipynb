{
 "cells": [
  {
   "cell_type": "code",
   "execution_count": 1,
   "id": "62a84f31",
   "metadata": {
    "ExecuteTime": {
     "end_time": "2021-08-17T07:44:29.969027Z",
     "start_time": "2021-08-17T07:44:26.554441Z"
    }
   },
   "outputs": [],
   "source": [
    "import numpy as np\n",
    "import pandas as pd #read_csv, get_dummies(원핫인코딩)\n",
    "from sklearn.model_selection import train_test_split\n",
    "from tensorflow.keras.models import Sequential\n",
    "from tensorflow.keras.layers import Input, Dense, Dropout\n",
    "from tensorflow.keras import metrics\n",
    "from tensorflow.keras.callbacks import EarlyStopping"
   ]
  },
  {
   "cell_type": "markdown",
   "id": "448c9ad4",
   "metadata": {},
   "source": [
    "##  Y값이 문자 같은거면 getdummies로 원핫인코딩이 좋음"
   ]
  },
  {
   "cell_type": "code",
   "execution_count": 4,
   "id": "316cabd7",
   "metadata": {
    "ExecuteTime": {
     "end_time": "2021-08-17T08:06:30.117988Z",
     "start_time": "2021-08-17T08:06:27.781241Z"
    }
   },
   "outputs": [
    {
     "name": "stdout",
     "output_type": "stream",
     "text": [
      "타겟변수가 될 와인 등급 종류 :  [5 6 7 4 8 3]\n",
      "(1119, 11) (1119, 6) (480, 11) (480, 6)\n",
      "WARNING:tensorflow:Please add `keras.layers.InputLayer` instead of `keras.Input` to Sequential model. `keras.Input` is intended to be used by Functional model.\n",
      "Epoch 1/50\n",
      "5/5 [==============================] - 0s 31ms/step - loss: 1.7906 - accuracy: 0.1553 - val_loss: 1.6957 - val_accuracy: 0.3080\n",
      "Epoch 2/50\n",
      "5/5 [==============================] - 0s 6ms/step - loss: 1.6810 - accuracy: 0.3218 - val_loss: 1.5997 - val_accuracy: 0.4241\n",
      "Epoch 3/50\n",
      "5/5 [==============================] - 0s 5ms/step - loss: 1.5789 - accuracy: 0.4123 - val_loss: 1.5079 - val_accuracy: 0.4420\n",
      "Epoch 4/50\n",
      "5/5 [==============================] - 0s 6ms/step - loss: 1.4886 - accuracy: 0.4324 - val_loss: 1.4188 - val_accuracy: 0.4420\n",
      "Epoch 5/50\n",
      "5/5 [==============================] - 0s 6ms/step - loss: 1.4065 - accuracy: 0.4335 - val_loss: 1.3389 - val_accuracy: 0.4464\n",
      "Epoch 6/50\n",
      "5/5 [==============================] - 0s 6ms/step - loss: 1.3297 - accuracy: 0.4346 - val_loss: 1.2733 - val_accuracy: 0.4509\n",
      "Epoch 7/50\n",
      "5/5 [==============================] - 0s 6ms/step - loss: 1.2700 - accuracy: 0.4436 - val_loss: 1.2230 - val_accuracy: 0.4777\n",
      "Epoch 8/50\n",
      "5/5 [==============================] - 0s 5ms/step - loss: 1.2281 - accuracy: 0.4603 - val_loss: 1.1836 - val_accuracy: 0.4866\n",
      "Epoch 9/50\n",
      "5/5 [==============================] - 0s 5ms/step - loss: 1.1882 - accuracy: 0.5039 - val_loss: 1.1513 - val_accuracy: 0.5179\n",
      "Epoch 10/50\n",
      "5/5 [==============================] - 0s 19ms/step - loss: 1.1584 - accuracy: 0.5263 - val_loss: 1.1218 - val_accuracy: 0.5714\n",
      "Epoch 11/50\n",
      "5/5 [==============================] - 0s 5ms/step - loss: 1.1279 - accuracy: 0.5408 - val_loss: 1.0947 - val_accuracy: 0.5804\n",
      "Epoch 12/50\n",
      "5/5 [==============================] - 0s 5ms/step - loss: 1.0968 - accuracy: 0.5598 - val_loss: 1.0718 - val_accuracy: 0.5670\n",
      "Epoch 13/50\n",
      "5/5 [==============================] - 0s 5ms/step - loss: 1.0860 - accuracy: 0.5788 - val_loss: 1.0544 - val_accuracy: 0.5759\n",
      "Epoch 14/50\n",
      "5/5 [==============================] - 0s 5ms/step - loss: 1.0481 - accuracy: 0.5832 - val_loss: 1.0398 - val_accuracy: 0.5848\n",
      "Epoch 15/50\n",
      "5/5 [==============================] - 0s 6ms/step - loss: 1.0315 - accuracy: 0.5922 - val_loss: 1.0274 - val_accuracy: 0.5848\n",
      "Epoch 16/50\n",
      "5/5 [==============================] - 0s 6ms/step - loss: 1.0267 - accuracy: 0.6022 - val_loss: 1.0153 - val_accuracy: 0.5938\n",
      "Epoch 17/50\n",
      "5/5 [==============================] - 0s 6ms/step - loss: 0.9958 - accuracy: 0.6045 - val_loss: 1.0040 - val_accuracy: 0.5982\n",
      "Epoch 18/50\n",
      "5/5 [==============================] - 0s 6ms/step - loss: 1.0022 - accuracy: 0.6011 - val_loss: 0.9945 - val_accuracy: 0.6027\n",
      "Epoch 19/50\n",
      "5/5 [==============================] - 0s 5ms/step - loss: 0.9888 - accuracy: 0.6101 - val_loss: 0.9850 - val_accuracy: 0.6161\n",
      "Epoch 20/50\n",
      "5/5 [==============================] - 0s 6ms/step - loss: 0.9759 - accuracy: 0.6145 - val_loss: 0.9786 - val_accuracy: 0.6116\n",
      "Epoch 21/50\n",
      "5/5 [==============================] - 0s 6ms/step - loss: 0.9648 - accuracy: 0.6212 - val_loss: 0.9695 - val_accuracy: 0.6161\n",
      "Epoch 22/50\n",
      "5/5 [==============================] - 0s 5ms/step - loss: 0.9648 - accuracy: 0.6145 - val_loss: 0.9627 - val_accuracy: 0.6161\n",
      "Epoch 23/50\n",
      "5/5 [==============================] - 0s 6ms/step - loss: 0.9617 - accuracy: 0.6123 - val_loss: 0.9575 - val_accuracy: 0.6295\n",
      "Epoch 24/50\n",
      "5/5 [==============================] - 0s 5ms/step - loss: 0.9554 - accuracy: 0.6034 - val_loss: 0.9539 - val_accuracy: 0.6339\n",
      "Epoch 25/50\n",
      "5/5 [==============================] - 0s 6ms/step - loss: 0.9365 - accuracy: 0.6302 - val_loss: 0.9528 - val_accuracy: 0.6339\n",
      "Epoch 26/50\n",
      "5/5 [==============================] - 0s 6ms/step - loss: 0.9348 - accuracy: 0.6279 - val_loss: 0.9488 - val_accuracy: 0.6295\n",
      "Epoch 27/50\n",
      "5/5 [==============================] - 0s 6ms/step - loss: 0.9335 - accuracy: 0.6145 - val_loss: 0.9455 - val_accuracy: 0.6339\n",
      "Epoch 28/50\n",
      "5/5 [==============================] - 0s 6ms/step - loss: 0.9234 - accuracy: 0.6246 - val_loss: 0.9432 - val_accuracy: 0.6295\n",
      "Epoch 29/50\n",
      "5/5 [==============================] - 0s 6ms/step - loss: 0.9191 - accuracy: 0.6246 - val_loss: 0.9420 - val_accuracy: 0.6295\n",
      "Epoch 30/50\n",
      "5/5 [==============================] - 0s 6ms/step - loss: 0.9268 - accuracy: 0.6179 - val_loss: 0.9406 - val_accuracy: 0.6250\n",
      "Epoch 31/50\n",
      "5/5 [==============================] - 0s 6ms/step - loss: 0.9057 - accuracy: 0.6246 - val_loss: 0.9371 - val_accuracy: 0.6071\n",
      "Epoch 32/50\n",
      "5/5 [==============================] - 0s 6ms/step - loss: 0.9034 - accuracy: 0.6291 - val_loss: 0.9373 - val_accuracy: 0.6161\n",
      "Epoch 33/50\n",
      "5/5 [==============================] - 0s 6ms/step - loss: 0.8920 - accuracy: 0.6335 - val_loss: 0.9375 - val_accuracy: 0.6161\n",
      "Epoch 34/50\n",
      "5/5 [==============================] - 0s 6ms/step - loss: 0.8881 - accuracy: 0.6279 - val_loss: 0.9369 - val_accuracy: 0.6116\n",
      "Epoch 35/50\n",
      "5/5 [==============================] - 0s 5ms/step - loss: 0.8886 - accuracy: 0.6425 - val_loss: 0.9354 - val_accuracy: 0.6071\n",
      "Epoch 36/50\n",
      "5/5 [==============================] - 0s 5ms/step - loss: 0.8809 - accuracy: 0.6425 - val_loss: 0.9324 - val_accuracy: 0.6205\n",
      "Epoch 37/50\n",
      "5/5 [==============================] - 0s 6ms/step - loss: 0.8728 - accuracy: 0.6402 - val_loss: 0.9325 - val_accuracy: 0.6205\n",
      "Epoch 38/50\n",
      "5/5 [==============================] - 0s 5ms/step - loss: 0.8674 - accuracy: 0.6447 - val_loss: 0.9323 - val_accuracy: 0.6116\n",
      "Epoch 39/50\n",
      "5/5 [==============================] - 0s 6ms/step - loss: 0.8744 - accuracy: 0.6391 - val_loss: 0.9320 - val_accuracy: 0.6161\n",
      "Epoch 40/50\n",
      "5/5 [==============================] - 0s 6ms/step - loss: 0.8520 - accuracy: 0.6648 - val_loss: 0.9318 - val_accuracy: 0.6161\n",
      "Epoch 41/50\n",
      "5/5 [==============================] - 0s 6ms/step - loss: 0.8541 - accuracy: 0.6492 - val_loss: 0.9323 - val_accuracy: 0.6161\n",
      "Epoch 42/50\n",
      "5/5 [==============================] - 0s 6ms/step - loss: 0.8452 - accuracy: 0.6469 - val_loss: 0.9312 - val_accuracy: 0.6027\n",
      "Epoch 43/50\n",
      "5/5 [==============================] - 0s 6ms/step - loss: 0.8569 - accuracy: 0.6436 - val_loss: 0.9323 - val_accuracy: 0.6205\n",
      "Epoch 44/50\n",
      "5/5 [==============================] - 0s 6ms/step - loss: 0.8496 - accuracy: 0.6514 - val_loss: 0.9315 - val_accuracy: 0.6161\n",
      "Epoch 45/50\n",
      "5/5 [==============================] - 0s 6ms/step - loss: 0.8468 - accuracy: 0.6570 - val_loss: 0.9330 - val_accuracy: 0.6116\n",
      "Epoch 46/50\n",
      "5/5 [==============================] - 0s 6ms/step - loss: 0.8397 - accuracy: 0.6559 - val_loss: 0.9332 - val_accuracy: 0.6116\n",
      "Epoch 47/50\n",
      "5/5 [==============================] - 0s 6ms/step - loss: 0.8373 - accuracy: 0.6637 - val_loss: 0.9345 - val_accuracy: 0.6116\n",
      "Epoch 48/50\n",
      "5/5 [==============================] - 0s 6ms/step - loss: 0.8295 - accuracy: 0.6592 - val_loss: 0.9335 - val_accuracy: 0.6071\n",
      "Epoch 49/50\n",
      "5/5 [==============================] - 0s 6ms/step - loss: 0.8252 - accuracy: 0.6525 - val_loss: 0.9328 - val_accuracy: 0.6071\n",
      "Epoch 50/50\n",
      "5/5 [==============================] - 0s 6ms/step - loss: 0.8222 - accuracy: 0.6626 - val_loss: 0.9321 - val_accuracy: 0.6205\n"
     ]
    },
    {
     "data": {
      "text/plain": [
       "Text(0, 0.5, 'accuracy')"
      ]
     },
     "execution_count": 4,
     "metadata": {},
     "output_type": "execute_result"
    },
    {
     "data": {
      "image/png": "[encoded data removed]",
      "text/plain": [
       "<Figure size 864x576 with 2 Axes>"
      ]
     },
     "metadata": {
      "needs_background": "light"
     },
     "output_type": "display_data"
    }
   ],
   "source": [
    "# 1. 데이터 셋 준비하기\n",
    "redwine = pd.read_csv('data/winequality-red.csv', sep=';')\n",
    "redwine_x = redwine.iloc[:,:-1].to_numpy()\n",
    "redwine_y = redwine.iloc[:,-1]\n",
    "print('타겟변수가 될 와인 등급 종류 : ', redwine_y.unique())\n",
    "\n",
    "# 2. 독립변수 scale 조정\n",
    "from sklearn.preprocessing import StandardScaler\n",
    "scaler = StandardScaler()\n",
    "scaler.fit(redwine_x)\n",
    "redwine_x = scaler.transform(redwine_x)\n",
    "\n",
    "# 3. 타겟변수 원핫인코딩(라벨링 전환) 후 numpy 배열로 변환\n",
    "redwine_y = pd.get_dummies(redwine_y).to_numpy()\n",
    "\n",
    "# 훈련셋과 테스트셋 분리 (7:3)\n",
    "train_X, test_X, train_Y, test_Y = train_test_split(redwine_x, redwine_y, test_size=0.3, random_state=1)\n",
    "print(train_X.shape, train_Y.shape, test_X.shape, test_Y.shape)\n",
    "\n",
    "# 4. 모델 구성하기\n",
    "model=Sequential()\n",
    "model.add(Input(11)) # 의미있는 레이어가 아니고 input_dim만 지정\n",
    "model.add(Dense(units=50, activation='relu'))\n",
    "model.add(Dense(units=50, activation='relu'))\n",
    "model.add(Dropout(0.1))\n",
    "model.add(Dense(units=30, activation='relu'))\n",
    "model.add(Dense(units=6, activation='softmax'))\n",
    "\n",
    "# 5. 모델 학습과정 설정\n",
    "model.compile(loss='categorical_crossentropy', optimizer='adam', metrics=['accuracy'])\n",
    "\n",
    "# 6. 모델 학습시키기\n",
    "earlyStopping = EarlyStopping(patience=20)\n",
    "hist=model.fit(train_X, train_Y, epochs=50, batch_size=200, validation_split=0.2, callbacks=[earlyStopping])\n",
    "\n",
    "# 7. 모델 학습과정 표시하기\n",
    "import matplotlib.pyplot as plt\n",
    "fig, loss_ax = plt.subplots(figsize=(12,8))\n",
    "loss_ax.plot(hist.history['loss'], 'y', label='train loss')\n",
    "loss_ax.plot(hist.history['val_loss'], 'g', label='val loss')\n",
    "loss_ax.set_xlabel('epochs')\n",
    "loss_ax.set_ylabel('loss')\n",
    "acc_ax = loss_ax.twinx()\n",
    "acc_ax.plot(hist.history['accuracy'], 'b', label='accuracy')\n",
    "acc_ax.plot(hist.history['val_accuracy'], 'r', label='val_accuracy')\n",
    "acc_ax.set_ylabel('accuracy')"
   ]
  },
  {
   "cell_type": "code",
   "execution_count": 5,
   "id": "b496a0f9",
   "metadata": {
    "ExecuteTime": {
     "end_time": "2021-08-17T08:11:02.112997Z",
     "start_time": "2021-08-17T08:11:01.948954Z"
    }
   },
   "outputs": [
    {
     "name": "stdout",
     "output_type": "stream",
     "text": [
      "15/15 [==============================] - 0s 1ms/step - loss: 0.9475 - accuracy: 0.6104\n"
     ]
    },
    {
     "data": {
      "text/plain": [
       "(0.947498619556427, 0.6104166507720947)"
      ]
     },
     "execution_count": 5,
     "metadata": {},
     "output_type": "execute_result"
    }
   ],
   "source": [
    "# 8. 모델 평가하기\n",
    "loss_and_acc = model.evaluate(test_X, test_Y, batch_size=32)\n",
    "loss_and_acc[0], loss_and_acc[1]"
   ]
  },
  {
   "cell_type": "code",
   "execution_count": 15,
   "id": "a2582330",
   "metadata": {
    "ExecuteTime": {
     "end_time": "2021-08-17T08:39:16.507519Z",
     "start_time": "2021-08-17T08:39:16.396016Z"
    }
   },
   "outputs": [
    {
     "data": {
      "text/html": [
       "<div>\n",
       "<style scoped>\n",
       "    .dataframe tbody tr th:only-of-type {\n",
       "        vertical-align: middle;\n",
       "    }\n",
       "\n",
       "    .dataframe tbody tr th {\n",
       "        vertical-align: top;\n",
       "    }\n",
       "\n",
       "    .dataframe thead th {\n",
       "        text-align: right;\n",
       "    }\n",
       "</style>\n",
       "<table border=\"1\" class=\"dataframe\">\n",
       "  <thead>\n",
       "    <tr style=\"text-align: right;\">\n",
       "      <th>predict</th>\n",
       "      <th>4</th>\n",
       "      <th>5</th>\n",
       "      <th>6</th>\n",
       "      <th>7</th>\n",
       "    </tr>\n",
       "    <tr>\n",
       "      <th>real</th>\n",
       "      <th></th>\n",
       "      <th></th>\n",
       "      <th></th>\n",
       "      <th></th>\n",
       "    </tr>\n",
       "  </thead>\n",
       "  <tbody>\n",
       "    <tr>\n",
       "      <th>3</th>\n",
       "      <td>0</td>\n",
       "      <td>2</td>\n",
       "      <td>0</td>\n",
       "      <td>0</td>\n",
       "    </tr>\n",
       "    <tr>\n",
       "      <th>4</th>\n",
       "      <td>1</td>\n",
       "      <td>12</td>\n",
       "      <td>7</td>\n",
       "      <td>1</td>\n",
       "    </tr>\n",
       "    <tr>\n",
       "      <th>5</th>\n",
       "      <td>0</td>\n",
       "      <td>162</td>\n",
       "      <td>42</td>\n",
       "      <td>3</td>\n",
       "    </tr>\n",
       "    <tr>\n",
       "      <th>6</th>\n",
       "      <td>0</td>\n",
       "      <td>64</td>\n",
       "      <td>113</td>\n",
       "      <td>18</td>\n",
       "    </tr>\n",
       "    <tr>\n",
       "      <th>7</th>\n",
       "      <td>0</td>\n",
       "      <td>4</td>\n",
       "      <td>31</td>\n",
       "      <td>17</td>\n",
       "    </tr>\n",
       "    <tr>\n",
       "      <th>8</th>\n",
       "      <td>0</td>\n",
       "      <td>0</td>\n",
       "      <td>0</td>\n",
       "      <td>3</td>\n",
       "    </tr>\n",
       "  </tbody>\n",
       "</table>\n",
       "</div>"
      ],
      "text/plain": [
       "predict  4    5    6   7\n",
       "real                    \n",
       "3        0    2    0   0\n",
       "4        1   12    7   1\n",
       "5        0  162   42   3\n",
       "6        0   64  113  18\n",
       "7        0    4   31  17\n",
       "8        0    0    0   3"
      ]
     },
     "execution_count": 15,
     "metadata": {},
     "output_type": "execute_result"
    }
   ],
   "source": [
    "# 9. 성능 지표 (crosstab)\n",
    "pred = model.predict(test_X).argmax(axis=1)+3\n",
    "pred = np.argmax(model.predict(test_X), axis=1)+3\n",
    "real = test_Y.argmax(axis=1)+3\n",
    "cross_tab = pd.crosstab(real, pred)\n",
    "cross_tab.index.name = 'real'\n",
    "cross_tab.columns.name = 'predict'\n",
    "cross_tab"
   ]
  },
  {
   "cell_type": "code",
   "execution_count": 19,
   "id": "b073b6b1",
   "metadata": {
    "ExecuteTime": {
     "end_time": "2021-08-17T08:45:38.192254Z",
     "start_time": "2021-08-17T08:45:38.139136Z"
    }
   },
   "outputs": [
    {
     "data": {
      "text/plain": [
       "array([5], dtype=int64)"
      ]
     },
     "execution_count": 19,
     "metadata": {},
     "output_type": "execute_result"
    }
   ],
   "source": [
    "# 10. 모델 사용하기\n",
    "input_data = np.array([7.4, 0.7 , 0, 1.9, 0.076, 11, 34, 0.9978, 3.51, 0.56, 9.4])\n",
    "np.argmax(model.predict(scaler.transform(input_data.reshape(1,11))), axis=1)+3"
   ]
  },
  {
   "cell_type": "code",
   "execution_count": 23,
   "id": "bef855cd",
   "metadata": {
    "ExecuteTime": {
     "end_time": "2021-08-17T08:47:30.110594Z",
     "start_time": "2021-08-17T08:47:30.098612Z"
    }
   },
   "outputs": [],
   "source": [
    "a=[9,6,7]\n",
    "b=pd.get_dummies(a).to_numpy()"
   ]
  },
  {
   "cell_type": "code",
   "execution_count": 24,
   "id": "c1fbc590",
   "metadata": {
    "ExecuteTime": {
     "end_time": "2021-08-17T08:47:30.440820Z",
     "start_time": "2021-08-17T08:47:30.420765Z"
    }
   },
   "outputs": [
    {
     "data": {
      "text/plain": [
       "[9, 6, 7]"
      ]
     },
     "execution_count": 24,
     "metadata": {},
     "output_type": "execute_result"
    }
   ],
   "source": [
    "a"
   ]
  },
  {
   "cell_type": "code",
   "execution_count": 25,
   "id": "3d8a403e",
   "metadata": {
    "ExecuteTime": {
     "end_time": "2021-08-17T08:47:30.768310Z",
     "start_time": "2021-08-17T08:47:30.755345Z"
    }
   },
   "outputs": [
    {
     "data": {
      "text/plain": [
       "array([[0, 0, 1],\n",
       "       [1, 0, 0],\n",
       "       [0, 1, 0]], dtype=uint8)"
      ]
     },
     "execution_count": 25,
     "metadata": {},
     "output_type": "execute_result"
    }
   ],
   "source": [
    "b"
   ]
  },
  {
   "cell_type": "code",
   "execution_count": null,
   "id": "d48b8d2c",
   "metadata": {},
   "outputs": [],
   "source": []
  }
 ],
 "metadata": {
  "kernelspec": {
   "display_name": "Python 3",
   "language": "python",
   "name": "python3"
  },
  "language_info": {
   "codemirror_mode": {
    "name": "ipython",
    "version": 3
   },
   "file_extension": ".py",
   "mimetype": "text/x-python",
   "name": "python",
   "nbconvert_exporter": "python",
   "pygments_lexer": "ipython3",
   "version": "3.8.8"
  },
  "toc": {
   "base_numbering": 1,
   "nav_menu": {},
   "number_sections": true,
   "sideBar": true,
   "skip_h1_title": false,
   "title_cell": "Table of Contents",
   "title_sidebar": "Contents",
   "toc_cell": false,
   "toc_position": {},
   "toc_section_display": true,
   "toc_window_display": false
  },
  "varInspector": {
   "cols": {
    "lenName": 16,
    "lenType": 16,
    "lenVar": 40
   },
   "kernels_config": {
    "python": {
     "delete_cmd_postfix": "",
     "delete_cmd_prefix": "del ",
     "library": "var_list.py",
     "varRefreshCmd": "print(var_dic_list())"
    },
    "r": {
     "delete_cmd_postfix": ") ",
     "delete_cmd_prefix": "rm(",
     "library": "var_list.r",
     "varRefreshCmd": "cat(var_dic_list()) "
    }
   },
   "types_to_exclude": [
    "module",
    "function",
    "builtin_function_or_method",
    "instance",
    "_Feature"
   ],
   "window_display": false
  }
 },
 "nbformat": 4,
 "nbformat_minor": 5
}
