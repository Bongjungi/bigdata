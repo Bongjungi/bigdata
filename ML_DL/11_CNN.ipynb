{
 "cells": [
  {
   "cell_type": "code",
   "execution_count": 1,
   "id": "48d440c0",
   "metadata": {
    "ExecuteTime": {
     "end_time": "2021-08-18T03:42:15.287082Z",
     "start_time": "2021-08-18T03:42:14.992108Z"
    }
   },
   "outputs": [
    {
     "name": "stdout",
     "output_type": "stream",
     "text": [
      "(794, 794, 4)\n"
     ]
    },
    {
     "data": {
      "text/plain": [
       "array([[[1., 1., 1., 0.],\n",
       "        [1., 1., 1., 0.],\n",
       "        [1., 1., 1., 0.],\n",
       "        ...,\n",
       "        [1., 1., 1., 0.],\n",
       "        [1., 1., 1., 0.],\n",
       "        [1., 1., 1., 0.]],\n",
       "\n",
       "       [[1., 1., 1., 0.],\n",
       "        [1., 1., 1., 0.],\n",
       "        [1., 1., 1., 0.],\n",
       "        ...,\n",
       "        [1., 1., 1., 0.],\n",
       "        [1., 1., 1., 0.],\n",
       "        [1., 1., 1., 0.]],\n",
       "\n",
       "       [[1., 1., 1., 0.],\n",
       "        [1., 1., 1., 0.],\n",
       "        [1., 1., 1., 0.],\n",
       "        ...,\n",
       "        [1., 1., 1., 0.],\n",
       "        [1., 1., 1., 0.],\n",
       "        [1., 1., 1., 0.]],\n",
       "\n",
       "       ...,\n",
       "\n",
       "       [[1., 1., 1., 0.],\n",
       "        [1., 1., 1., 0.],\n",
       "        [1., 1., 1., 0.],\n",
       "        ...,\n",
       "        [1., 1., 1., 0.],\n",
       "        [1., 1., 1., 0.],\n",
       "        [1., 1., 1., 0.]],\n",
       "\n",
       "       [[1., 1., 1., 0.],\n",
       "        [1., 1., 1., 0.],\n",
       "        [1., 1., 1., 0.],\n",
       "        ...,\n",
       "        [1., 1., 1., 0.],\n",
       "        [1., 1., 1., 0.],\n",
       "        [1., 1., 1., 0.]],\n",
       "\n",
       "       [[1., 1., 1., 0.],\n",
       "        [1., 1., 1., 0.],\n",
       "        [1., 1., 1., 0.],\n",
       "        ...,\n",
       "        [1., 1., 1., 0.],\n",
       "        [1., 1., 1., 0.],\n",
       "        [1., 1., 1., 0.]]], dtype=float32)"
      ]
     },
     "execution_count": 1,
     "metadata": {},
     "output_type": "execute_result"
    }
   ],
   "source": [
    "import matplotlib.pyplot as plt\n",
    "c1 = plt.imread('data/1.png')\n",
    "print(c1.shape)\n",
    "c1"
   ]
  },
  {
   "cell_type": "code",
   "execution_count": 2,
   "id": "811ae195",
   "metadata": {
    "ExecuteTime": {
     "end_time": "2021-08-18T03:42:15.554132Z",
     "start_time": "2021-08-18T03:42:15.405338Z"
    }
   },
   "outputs": [
    {
     "name": "stdout",
     "output_type": "stream",
     "text": [
      "(28, 28, 4)\n"
     ]
    },
    {
     "data": {
      "text/plain": [
       "array([[[1., 1., 1., 0.],\n",
       "        [1., 1., 1., 0.],\n",
       "        [1., 1., 1., 0.],\n",
       "        ...,\n",
       "        [1., 1., 1., 0.],\n",
       "        [1., 1., 1., 0.],\n",
       "        [1., 1., 1., 0.]],\n",
       "\n",
       "       [[1., 1., 1., 0.],\n",
       "        [1., 1., 1., 0.],\n",
       "        [1., 1., 1., 0.],\n",
       "        ...,\n",
       "        [1., 1., 1., 0.],\n",
       "        [1., 1., 1., 0.],\n",
       "        [1., 1., 1., 0.]],\n",
       "\n",
       "       [[1., 1., 1., 0.],\n",
       "        [1., 1., 1., 0.],\n",
       "        [1., 1., 1., 0.],\n",
       "        ...,\n",
       "        [1., 1., 1., 0.],\n",
       "        [1., 1., 1., 0.],\n",
       "        [1., 1., 1., 0.]],\n",
       "\n",
       "       ...,\n",
       "\n",
       "       [[1., 1., 1., 0.],\n",
       "        [1., 1., 1., 0.],\n",
       "        [1., 1., 1., 0.],\n",
       "        ...,\n",
       "        [1., 1., 1., 0.],\n",
       "        [1., 1., 1., 0.],\n",
       "        [1., 1., 1., 0.]],\n",
       "\n",
       "       [[1., 1., 1., 0.],\n",
       "        [1., 1., 1., 0.],\n",
       "        [1., 1., 1., 0.],\n",
       "        ...,\n",
       "        [1., 1., 1., 0.],\n",
       "        [1., 1., 1., 0.],\n",
       "        [1., 1., 1., 0.]],\n",
       "\n",
       "       [[1., 1., 1., 0.],\n",
       "        [1., 1., 1., 0.],\n",
       "        [1., 1., 1., 0.],\n",
       "        ...,\n",
       "        [1., 1., 1., 0.],\n",
       "        [1., 1., 1., 0.],\n",
       "        [1., 1., 1., 0.]]], dtype=float32)"
      ]
     },
     "execution_count": 2,
     "metadata": {},
     "output_type": "execute_result"
    },
    {
     "data": {
      "image/png": "[encoded data removed]",
      "text/plain": [
       "<Figure size 432x288 with 1 Axes>"
      ]
     },
     "metadata": {
      "needs_background": "light"
     },
     "output_type": "display_data"
    }
   ],
   "source": [
    "c2 = plt.imread('data/2.png')\n",
    "print(c2.shape) # 4는 RGBA (RGB와 투명도)\n",
    "plt.imshow(c2)\n",
    "c2"
   ]
  },
  {
   "cell_type": "code",
   "execution_count": 3,
   "id": "f3456bed",
   "metadata": {
    "ExecuteTime": {
     "end_time": "2021-08-18T03:42:16.150885Z",
     "start_time": "2021-08-18T03:42:16.022559Z"
    }
   },
   "outputs": [
    {
     "data": {
      "image/png": "[encoded data removed]",
      "text/plain": [
       "<PIL.PngImagePlugin.PngImageFile image mode=RGBA size=28x28 at 0x1A1CE2335E0>"
      ]
     },
     "metadata": {},
     "output_type": "display_data"
    },
    {
     "data": {
      "text/plain": [
       "array([[[255, 255, 255,   0],\n",
       "        [255, 255, 255,   0],\n",
       "        [255, 255, 255,   0],\n",
       "        ...,\n",
       "        [255, 255, 255,   0],\n",
       "        [255, 255, 255,   0],\n",
       "        [255, 255, 255,   0]],\n",
       "\n",
       "       [[255, 255, 255,   0],\n",
       "        [255, 255, 255,   0],\n",
       "        [255, 255, 255,   0],\n",
       "        ...,\n",
       "        [255, 255, 255,   0],\n",
       "        [255, 255, 255,   0],\n",
       "        [255, 255, 255,   0]],\n",
       "\n",
       "       [[255, 255, 255,   0],\n",
       "        [255, 255, 255,   0],\n",
       "        [255, 255, 255,   0],\n",
       "        ...,\n",
       "        [255, 255, 255,   0],\n",
       "        [255, 255, 255,   0],\n",
       "        [255, 255, 255,   0]],\n",
       "\n",
       "       ...,\n",
       "\n",
       "       [[255, 255, 255,   0],\n",
       "        [255, 255, 255,   0],\n",
       "        [255, 255, 255,   0],\n",
       "        ...,\n",
       "        [255, 255, 255,   0],\n",
       "        [255, 255, 255,   0],\n",
       "        [255, 255, 255,   0]],\n",
       "\n",
       "       [[255, 255, 255,   0],\n",
       "        [255, 255, 255,   0],\n",
       "        [255, 255, 255,   0],\n",
       "        ...,\n",
       "        [255, 255, 255,   0],\n",
       "        [255, 255, 255,   0],\n",
       "        [255, 255, 255,   0]],\n",
       "\n",
       "       [[255, 255, 255,   0],\n",
       "        [255, 255, 255,   0],\n",
       "        [255, 255, 255,   0],\n",
       "        ...,\n",
       "        [255, 255, 255,   0],\n",
       "        [255, 255, 255,   0],\n",
       "        [255, 255, 255,   0]]], dtype=uint8)"
      ]
     },
     "execution_count": 3,
     "metadata": {},
     "output_type": "execute_result"
    },
    {
     "data": {
      "image/png": "[encoded data removed]",
      "text/plain": [
       "<Figure size 432x288 with 1 Axes>"
      ]
     },
     "metadata": {
      "needs_background": "light"
     },
     "output_type": "display_data"
    }
   ],
   "source": [
    "from PIL import Image\n",
    "import numpy as np\n",
    "c2 = Image.open('data/2.png')\n",
    "display(c2)\n",
    "c2 = np.array(c2)\n",
    "plt.imshow(c2)\n",
    "c2"
   ]
  },
  {
   "cell_type": "code",
   "execution_count": 4,
   "id": "fc7258df",
   "metadata": {
    "ExecuteTime": {
     "end_time": "2021-08-18T03:42:18.539889Z",
     "start_time": "2021-08-18T03:42:16.499835Z"
    }
   },
   "outputs": [],
   "source": [
    "import numpy as np\n",
    "from tensorflow.keras.preprocessing.image import ImageDataGenerator\n",
    "from tensorflow.keras.models import Sequential\n",
    "from tensorflow.keras.layers import Conv2D #필터링(특징 추출)\n",
    "from tensorflow.keras.layers import MaxPooling2D #풀링\n",
    "from tensorflow.keras.layers import Flatten #2차원데이터를 1차원\n",
    "from tensorflow.keras.layers import Dense, Dropout"
   ]
  },
  {
   "cell_type": "code",
   "execution_count": 5,
   "id": "920b216d",
   "metadata": {
    "ExecuteTime": {
     "end_time": "2021-08-18T03:42:18.602291Z",
     "start_time": "2021-08-18T03:42:18.587558Z"
    }
   },
   "outputs": [],
   "source": [
    "temp = Image.open('data/handwriting/handwriting_shape/train/circle/circle001.png')"
   ]
  },
  {
   "cell_type": "code",
   "execution_count": 6,
   "id": "ff72d2ea",
   "metadata": {
    "ExecuteTime": {
     "end_time": "2021-08-18T03:42:18.711941Z",
     "start_time": "2021-08-18T03:42:18.651949Z"
    }
   },
   "outputs": [
    {
     "name": "stdout",
     "output_type": "stream",
     "text": [
      "Found 45 images belonging to 3 classes.\n",
      "Found 15 images belonging to 3 classes.\n"
     ]
    }
   ],
   "source": [
    "#1. 데이터 생성하기\n",
    "train_datagen = ImageDataGenerator(rescale=1./255) # 정규화 작업\n",
    "train_data = train_datagen.flow_from_directory(\n",
    "                    'data/handwriting/handwriting_shape/train', target_size=(24,24), class_mode='categorical', batch_size=3\n",
    ")\n",
    "test_datagen = ImageDataGenerator(rescale=1./255)\n",
    "test_data = test_datagen.flow_from_directory(\n",
    "                    'data/handwriting/handwriting_shape/test', target_size=(24,24), class_mode = 'categorical', batch_size=3\n",
    ")"
   ]
  },
  {
   "cell_type": "code",
   "execution_count": 7,
   "id": "cb39fc88",
   "metadata": {
    "ExecuteTime": {
     "end_time": "2021-08-18T03:42:18.854043Z",
     "start_time": "2021-08-18T03:42:18.761652Z"
    }
   },
   "outputs": [],
   "source": [
    "model=Sequential()\n",
    "# Conv2D(필터개수, 필터사이즈, activation_fun, 입력 shape)\n",
    "model.add(Conv2D(32, kernel_size=(3,3), activation='relu', input_shape=(24,24,3)))\n",
    "model.add(Conv2D(32, kernel_size=(3,3), activation='relu'))\n",
    "model.add(MaxPooling2D(pool_size=(2,2))) # 2*2에서 제일 큰 값만 뽑아 이미지 축소\n",
    "model.add(Flatten()) # 2차원 데이터를 1차원으로\n",
    "model.add(Dense(units=128, activation='relu'))\n",
    "model.add(Dense(3, activation='softmax'))"
   ]
  },
  {
   "cell_type": "code",
   "execution_count": 8,
   "id": "2f9bdec9",
   "metadata": {
    "ExecuteTime": {
     "end_time": "2021-08-18T03:45:07.262263Z",
     "start_time": "2021-08-18T03:44:59.059331Z"
    }
   },
   "outputs": [
    {
     "name": "stderr",
     "output_type": "stream",
     "text": [
      "C:\\Users\\tjoeun\\anaconda3\\lib\\site-packages\\tensorflow\\python\\keras\\engine\\training.py:1940: UserWarning: `Model.fit_generator` is deprecated and will be removed in a future version. Please use `Model.fit`, which supports generators.\n",
      "  warnings.warn('`Model.fit_generator` is deprecated and '\n"
     ]
    },
    {
     "name": "stdout",
     "output_type": "stream",
     "text": [
      "Epoch 1/50\n",
      "15/15 [==============================] - 1s 55ms/step - loss: 0.8670 - accuracy: 0.6000 - val_loss: 0.4987 - val_accuracy: 1.0000\n",
      "Epoch 2/50\n",
      "15/15 [==============================] - 0s 7ms/step - loss: 0.1383 - accuracy: 1.0000 - val_loss: 0.0702 - val_accuracy: 1.0000\n",
      "Epoch 3/50\n",
      "15/15 [==============================] - 0s 7ms/step - loss: 0.0153 - accuracy: 1.0000 - val_loss: 0.0284 - val_accuracy: 1.0000\n",
      "Epoch 4/50\n",
      "15/15 [==============================] - 0s 7ms/step - loss: 0.0038 - accuracy: 1.0000 - val_loss: 0.0261 - val_accuracy: 1.0000\n",
      "Epoch 5/50\n",
      "15/15 [==============================] - 0s 7ms/step - loss: 0.0010 - accuracy: 1.0000 - val_loss: 0.0384 - val_accuracy: 1.0000\n",
      "Epoch 6/50\n",
      "15/15 [==============================] - 0s 7ms/step - loss: 3.2597e-04 - accuracy: 1.0000 - val_loss: 0.0190 - val_accuracy: 1.0000\n",
      "Epoch 7/50\n",
      "15/15 [==============================] - 0s 7ms/step - loss: 2.3661e-04 - accuracy: 1.0000 - val_loss: 0.0167 - val_accuracy: 1.0000\n",
      "Epoch 8/50\n",
      "15/15 [==============================] - 0s 7ms/step - loss: 2.0898e-04 - accuracy: 1.0000 - val_loss: 0.0168 - val_accuracy: 1.0000\n",
      "Epoch 9/50\n",
      "15/15 [==============================] - 0s 7ms/step - loss: 1.8566e-04 - accuracy: 1.0000 - val_loss: 0.0175 - val_accuracy: 1.0000\n",
      "Epoch 10/50\n",
      "15/15 [==============================] - 0s 7ms/step - loss: 1.6549e-04 - accuracy: 1.0000 - val_loss: 0.0185 - val_accuracy: 1.0000\n",
      "Epoch 11/50\n",
      "15/15 [==============================] - 0s 7ms/step - loss: 1.4780e-04 - accuracy: 1.0000 - val_loss: 0.0186 - val_accuracy: 1.0000\n",
      "Epoch 12/50\n",
      "15/15 [==============================] - 0s 7ms/step - loss: 1.3484e-04 - accuracy: 1.0000 - val_loss: 0.0190 - val_accuracy: 1.0000\n",
      "Epoch 13/50\n",
      "15/15 [==============================] - 0s 7ms/step - loss: 1.2320e-04 - accuracy: 1.0000 - val_loss: 0.0192 - val_accuracy: 1.0000\n",
      "Epoch 14/50\n",
      "15/15 [==============================] - 0s 7ms/step - loss: 1.1352e-04 - accuracy: 1.0000 - val_loss: 0.0191 - val_accuracy: 1.0000\n",
      "Epoch 15/50\n",
      "15/15 [==============================] - 0s 7ms/step - loss: 1.0409e-04 - accuracy: 1.0000 - val_loss: 0.0197 - val_accuracy: 1.0000\n",
      "Epoch 16/50\n",
      "15/15 [==============================] - 0s 7ms/step - loss: 9.7971e-05 - accuracy: 1.0000 - val_loss: 0.0189 - val_accuracy: 1.0000\n",
      "Epoch 17/50\n",
      "15/15 [==============================] - 0s 7ms/step - loss: 8.8699e-05 - accuracy: 1.0000 - val_loss: 0.0194 - val_accuracy: 1.0000\n",
      "Epoch 18/50\n",
      "15/15 [==============================] - 0s 7ms/step - loss: 8.4117e-05 - accuracy: 1.0000 - val_loss: 0.0200 - val_accuracy: 1.0000\n",
      "Epoch 19/50\n",
      "15/15 [==============================] - 0s 7ms/step - loss: 7.8081e-05 - accuracy: 1.0000 - val_loss: 0.0192 - val_accuracy: 1.0000\n",
      "Epoch 20/50\n",
      "15/15 [==============================] - 0s 7ms/step - loss: 7.2670e-05 - accuracy: 1.0000 - val_loss: 0.0196 - val_accuracy: 1.0000\n",
      "Epoch 21/50\n",
      "15/15 [==============================] - 0s 7ms/step - loss: 6.8681e-05 - accuracy: 1.0000 - val_loss: 0.0200 - val_accuracy: 1.0000\n",
      "Epoch 22/50\n",
      "15/15 [==============================] - 0s 7ms/step - loss: 6.4428e-05 - accuracy: 1.0000 - val_loss: 0.0196 - val_accuracy: 1.0000\n",
      "Epoch 23/50\n",
      "15/15 [==============================] - 0s 7ms/step - loss: 6.1268e-05 - accuracy: 1.0000 - val_loss: 0.0194 - val_accuracy: 1.0000\n",
      "Epoch 24/50\n",
      "15/15 [==============================] - 0s 7ms/step - loss: 5.7955e-05 - accuracy: 1.0000 - val_loss: 0.0192 - val_accuracy: 1.0000\n",
      "Epoch 25/50\n",
      "15/15 [==============================] - 0s 7ms/step - loss: 5.4837e-05 - accuracy: 1.0000 - val_loss: 0.0198 - val_accuracy: 1.0000\n",
      "Epoch 26/50\n",
      "15/15 [==============================] - 0s 7ms/step - loss: 5.1487e-05 - accuracy: 1.0000 - val_loss: 0.0198 - val_accuracy: 1.0000\n",
      "Epoch 27/50\n",
      "15/15 [==============================] - 0s 7ms/step - loss: 4.9384e-05 - accuracy: 1.0000 - val_loss: 0.0195 - val_accuracy: 1.0000\n",
      "Epoch 28/50\n",
      "15/15 [==============================] - 0s 7ms/step - loss: 4.6743e-05 - accuracy: 1.0000 - val_loss: 0.0196 - val_accuracy: 1.0000\n",
      "Epoch 29/50\n",
      "15/15 [==============================] - 0s 7ms/step - loss: 4.4563e-05 - accuracy: 1.0000 - val_loss: 0.0200 - val_accuracy: 1.0000\n",
      "Epoch 30/50\n",
      "15/15 [==============================] - 0s 7ms/step - loss: 4.2902e-05 - accuracy: 1.0000 - val_loss: 0.0196 - val_accuracy: 1.0000\n",
      "Epoch 31/50\n",
      "15/15 [==============================] - 0s 7ms/step - loss: 4.0714e-05 - accuracy: 1.0000 - val_loss: 0.0201 - val_accuracy: 1.0000\n",
      "Epoch 32/50\n",
      "15/15 [==============================] - 0s 7ms/step - loss: 3.9085e-05 - accuracy: 1.0000 - val_loss: 0.0196 - val_accuracy: 1.0000\n",
      "Epoch 33/50\n",
      "15/15 [==============================] - 0s 7ms/step - loss: 3.7032e-05 - accuracy: 1.0000 - val_loss: 0.0198 - val_accuracy: 1.0000\n",
      "Epoch 34/50\n",
      "15/15 [==============================] - 0s 7ms/step - loss: 3.5485e-05 - accuracy: 1.0000 - val_loss: 0.0197 - val_accuracy: 1.0000\n",
      "Epoch 35/50\n",
      "15/15 [==============================] - 0s 7ms/step - loss: 3.3991e-05 - accuracy: 1.0000 - val_loss: 0.0201 - val_accuracy: 1.0000\n",
      "Epoch 36/50\n",
      "15/15 [==============================] - 0s 7ms/step - loss: 3.2672e-05 - accuracy: 1.0000 - val_loss: 0.0199 - val_accuracy: 1.0000\n",
      "Epoch 37/50\n",
      "15/15 [==============================] - 0s 7ms/step - loss: 3.1276e-05 - accuracy: 1.0000 - val_loss: 0.0201 - val_accuracy: 1.0000\n",
      "Epoch 38/50\n",
      "15/15 [==============================] - 0s 7ms/step - loss: 3.0159e-05 - accuracy: 1.0000 - val_loss: 0.0199 - val_accuracy: 1.0000\n",
      "Epoch 39/50\n",
      "15/15 [==============================] - 0s 7ms/step - loss: 2.8980e-05 - accuracy: 1.0000 - val_loss: 0.0201 - val_accuracy: 1.0000\n",
      "Epoch 40/50\n",
      "15/15 [==============================] - 0s 9ms/step - loss: 2.7862e-05 - accuracy: 1.0000 - val_loss: 0.0199 - val_accuracy: 1.0000\n",
      "Epoch 41/50\n",
      "15/15 [==============================] - 0s 7ms/step - loss: 2.6797e-05 - accuracy: 1.0000 - val_loss: 0.0200 - val_accuracy: 1.0000\n",
      "Epoch 42/50\n",
      "15/15 [==============================] - 0s 6ms/step - loss: 2.5722e-05 - accuracy: 1.0000 - val_loss: 0.0198 - val_accuracy: 1.0000\n",
      "Epoch 43/50\n",
      "15/15 [==============================] - 0s 7ms/step - loss: 2.4882e-05 - accuracy: 1.0000 - val_loss: 0.0200 - val_accuracy: 1.0000\n",
      "Epoch 44/50\n",
      "15/15 [==============================] - 0s 7ms/step - loss: 2.3976e-05 - accuracy: 1.0000 - val_loss: 0.0198 - val_accuracy: 1.0000\n",
      "Epoch 45/50\n",
      "15/15 [==============================] - 0s 11ms/step - loss: 2.3057e-05 - accuracy: 1.0000 - val_loss: 0.0199 - val_accuracy: 1.0000\n",
      "Epoch 46/50\n",
      "15/15 [==============================] - 0s 8ms/step - loss: 2.2358e-05 - accuracy: 1.0000 - val_loss: 0.0198 - val_accuracy: 1.0000\n",
      "Epoch 47/50\n",
      "15/15 [==============================] - 0s 8ms/step - loss: 2.1539e-05 - accuracy: 1.0000 - val_loss: 0.0203 - val_accuracy: 1.0000\n",
      "Epoch 48/50\n",
      "15/15 [==============================] - 0s 7ms/step - loss: 2.0763e-05 - accuracy: 1.0000 - val_loss: 0.0203 - val_accuracy: 1.0000\n",
      "Epoch 49/50\n",
      "15/15 [==============================] - 0s 7ms/step - loss: 2.0098e-05 - accuracy: 1.0000 - val_loss: 0.0199 - val_accuracy: 1.0000\n",
      "Epoch 50/50\n",
      "15/15 [==============================] - 0s 7ms/step - loss: 1.9521e-05 - accuracy: 1.0000 - val_loss: 0.0199 - val_accuracy: 1.0000\n"
     ]
    },
    {
     "data": {
      "text/plain": [
       "<tensorflow.python.keras.callbacks.History at 0x1a1d5a76bb0>"
      ]
     },
     "execution_count": 8,
     "metadata": {},
     "output_type": "execute_result"
    }
   ],
   "source": [
    "model.compile(loss='categorical_crossentropy', optimizer='adam', metrics=['accuracy'])\n",
    "model.fit_generator(train_data, steps_per_epoch=15, epochs=50, validation_data = test_data, validation_steps=5)"
   ]
  },
  {
   "cell_type": "code",
   "execution_count": 9,
   "id": "f84c4d79",
   "metadata": {
    "ExecuteTime": {
     "end_time": "2021-08-18T03:48:15.480315Z",
     "start_time": "2021-08-18T03:48:15.409923Z"
    }
   },
   "outputs": [
    {
     "name": "stdout",
     "output_type": "stream",
     "text": [
      "loss :  0.019925778731703758\n",
      "accuracy :  1.0\n"
     ]
    },
    {
     "name": "stderr",
     "output_type": "stream",
     "text": [
      "C:\\Users\\tjoeun\\anaconda3\\lib\\site-packages\\tensorflow\\python\\keras\\engine\\training.py:1973: UserWarning: `Model.evaluate_generator` is deprecated and will be removed in a future version. Please use `Model.evaluate`, which supports generators.\n",
      "  warnings.warn('`Model.evaluate_generator` is deprecated and '\n"
     ]
    }
   ],
   "source": [
    "score = model.evaluate_generator(test_data, steps=5)\n",
    "print('loss : ', score[0])\n",
    "print('accuracy : ', score[1])"
   ]
  },
  {
   "cell_type": "code",
   "execution_count": 11,
   "id": "bb343c92",
   "metadata": {
    "ExecuteTime": {
     "end_time": "2021-08-18T03:51:00.189771Z",
     "start_time": "2021-08-18T03:51:00.178806Z"
    }
   },
   "outputs": [
    {
     "name": "stdout",
     "output_type": "stream",
     "text": [
      "{'circle': 0, 'rectangle': 1, 'triangle': 2}\n"
     ]
    }
   ],
   "source": [
    "print(test_data.class_indices)"
   ]
  },
  {
   "cell_type": "code",
   "execution_count": 12,
   "id": "00d0e3b0",
   "metadata": {
    "ExecuteTime": {
     "end_time": "2021-08-18T03:51:33.617436Z",
     "start_time": "2021-08-18T03:51:33.538517Z"
    }
   },
   "outputs": [
    {
     "data": {
      "text/plain": [
       "array([0, 1, 0, 0, 1, 0, 2, 1, 2, 2, 2, 0, 1, 2, 1], dtype=int64)"
      ]
     },
     "execution_count": 12,
     "metadata": {},
     "output_type": "execute_result"
    }
   ],
   "source": [
    "model.predict_generator(test_data).argmax(axis=1)"
   ]
  },
  {
   "cell_type": "code",
   "execution_count": 13,
   "id": "322ca66a",
   "metadata": {
    "ExecuteTime": {
     "end_time": "2021-08-18T03:53:08.384132Z",
     "start_time": "2021-08-18T03:53:08.376177Z"
    }
   },
   "outputs": [],
   "source": [
    "np.set_printoptions(formatter={'float': lambda x : \"{:0.2f}\".format(x)})"
   ]
  },
  {
   "cell_type": "code",
   "execution_count": 14,
   "id": "a38a438e",
   "metadata": {
    "ExecuteTime": {
     "end_time": "2021-08-18T03:53:34.224113Z",
     "start_time": "2021-08-18T03:53:34.145027Z"
    }
   },
   "outputs": [
    {
     "name": "stderr",
     "output_type": "stream",
     "text": [
      "C:\\Users\\tjoeun\\anaconda3\\lib\\site-packages\\tensorflow\\python\\keras\\engine\\training.py:2001: UserWarning: `Model.predict_generator` is deprecated and will be removed in a future version. Please use `Model.predict`, which supports generators.\n",
      "  warnings.warn('`Model.predict_generator` is deprecated and '\n"
     ]
    },
    {
     "data": {
      "text/plain": [
       "array([[1.00, 0.00, 0.00],\n",
       "       [0.00, 1.00, 0.00],\n",
       "       [0.00, 1.00, 0.00],\n",
       "       [0.00, 1.00, 0.00],\n",
       "       [0.00, 0.00, 1.00],\n",
       "       [0.00, 1.00, 0.00],\n",
       "       [1.00, 0.00, 0.00],\n",
       "       [0.00, 0.00, 1.00],\n",
       "       [1.00, 0.00, 0.00],\n",
       "       [0.00, 0.00, 1.00],\n",
       "       [0.00, 0.00, 1.00],\n",
       "       [0.06, 0.75, 0.19],\n",
       "       [0.00, 0.01, 0.99],\n",
       "       [1.00, 0.00, 0.00],\n",
       "       [1.00, 0.00, 0.00]], dtype=float32)"
      ]
     },
     "execution_count": 14,
     "metadata": {},
     "output_type": "execute_result"
    }
   ],
   "source": [
    "model.predict_generator(test_data)"
   ]
  },
  {
   "cell_type": "markdown",
   "id": "285620e7",
   "metadata": {},
   "source": [
    "# accuracy 늘리기\n",
    "- 데이터 확보, 데이터 부풀리기(ImageDataGenerator)\n",
    "- 레이어 층(Conv, Dense)"
   ]
  },
  {
   "cell_type": "code",
   "execution_count": 15,
   "id": "a4e07859",
   "metadata": {
    "ExecuteTime": {
     "end_time": "2021-08-18T04:06:33.752023Z",
     "start_time": "2021-08-18T04:06:26.535416Z"
    }
   },
   "outputs": [
    {
     "name": "stdout",
     "output_type": "stream",
     "text": [
      "Found 45 images belonging to 3 classes.\n",
      "Found 15 images belonging to 3 classes.\n",
      "Epoch 1/50\n"
     ]
    },
    {
     "name": "stderr",
     "output_type": "stream",
     "text": [
      "C:\\Users\\tjoeun\\anaconda3\\lib\\site-packages\\tensorflow\\python\\keras\\engine\\training.py:1940: UserWarning: `Model.fit_generator` is deprecated and will be removed in a future version. Please use `Model.fit`, which supports generators.\n",
      "  warnings.warn('`Model.fit_generator` is deprecated and '\n"
     ]
    },
    {
     "name": "stdout",
     "output_type": "stream",
     "text": [
      "15/15 [==============================] - 1s 15ms/step - loss: 1.5340 - accuracy: 0.4222 - val_loss: 1.1047 - val_accuracy: 0.3333\n",
      "Epoch 2/50\n",
      "15/15 [==============================] - 0s 7ms/step - loss: 1.0995 - accuracy: 0.3778 - val_loss: 1.1004 - val_accuracy: 0.3333\n",
      "Epoch 3/50\n",
      "15/15 [==============================] - 0s 8ms/step - loss: 1.0914 - accuracy: 0.4222 - val_loss: 1.1060 - val_accuracy: 0.3333\n",
      "Epoch 4/50\n",
      "15/15 [==============================] - 0s 7ms/step - loss: 1.0606 - accuracy: 0.4889 - val_loss: 1.0859 - val_accuracy: 0.3333\n",
      "Epoch 5/50\n",
      "15/15 [==============================] - 0s 7ms/step - loss: 1.0202 - accuracy: 0.5556 - val_loss: 1.0720 - val_accuracy: 0.3333\n",
      "Epoch 6/50\n",
      "15/15 [==============================] - 0s 8ms/step - loss: 0.9146 - accuracy: 0.6000 - val_loss: 1.0401 - val_accuracy: 0.4000\n",
      "Epoch 7/50\n",
      "15/15 [==============================] - 0s 8ms/step - loss: 0.8531 - accuracy: 0.5556 - val_loss: 1.3177 - val_accuracy: 0.4000\n",
      "Epoch 8/50\n",
      "15/15 [==============================] - 0s 8ms/step - loss: 0.8258 - accuracy: 0.4889 - val_loss: 1.1361 - val_accuracy: 0.6000\n",
      "Epoch 9/50\n",
      "15/15 [==============================] - 0s 7ms/step - loss: 0.9302 - accuracy: 0.4889 - val_loss: 0.9975 - val_accuracy: 0.7333\n",
      "Epoch 10/50\n",
      "15/15 [==============================] - 0s 8ms/step - loss: 0.7222 - accuracy: 0.7333 - val_loss: 1.2299 - val_accuracy: 0.5333\n",
      "Epoch 11/50\n",
      "15/15 [==============================] - 0s 7ms/step - loss: 0.5520 - accuracy: 0.7556 - val_loss: 1.3959 - val_accuracy: 0.7333\n",
      "Epoch 12/50\n",
      "15/15 [==============================] - 0s 7ms/step - loss: 0.4823 - accuracy: 0.7778 - val_loss: 1.6420 - val_accuracy: 0.6000\n",
      "Epoch 13/50\n",
      "15/15 [==============================] - 0s 8ms/step - loss: 0.7598 - accuracy: 0.6667 - val_loss: 1.5739 - val_accuracy: 0.5333\n",
      "Epoch 14/50\n",
      "15/15 [==============================] - 0s 8ms/step - loss: 0.5798 - accuracy: 0.7778 - val_loss: 1.4640 - val_accuracy: 0.6000\n",
      "Epoch 15/50\n",
      "15/15 [==============================] - 0s 7ms/step - loss: 0.4937 - accuracy: 0.7778 - val_loss: 1.4650 - val_accuracy: 0.6000\n",
      "Epoch 16/50\n",
      "15/15 [==============================] - 0s 7ms/step - loss: 0.3947 - accuracy: 0.9333 - val_loss: 1.3511 - val_accuracy: 0.6667\n",
      "Epoch 17/50\n",
      "15/15 [==============================] - 0s 8ms/step - loss: 0.4260 - accuracy: 0.8889 - val_loss: 0.6095 - val_accuracy: 0.7333\n",
      "Epoch 18/50\n",
      "15/15 [==============================] - 0s 8ms/step - loss: 0.3869 - accuracy: 0.8667 - val_loss: 1.0270 - val_accuracy: 0.6667\n",
      "Epoch 19/50\n",
      "15/15 [==============================] - 0s 8ms/step - loss: 0.4649 - accuracy: 0.8222 - val_loss: 0.4734 - val_accuracy: 0.8000\n",
      "Epoch 20/50\n",
      "15/15 [==============================] - 0s 7ms/step - loss: 0.2948 - accuracy: 0.9333 - val_loss: 0.5168 - val_accuracy: 0.8000\n",
      "Epoch 21/50\n",
      "15/15 [==============================] - 0s 8ms/step - loss: 0.2627 - accuracy: 0.9111 - val_loss: 0.7792 - val_accuracy: 0.7333\n",
      "Epoch 22/50\n",
      "15/15 [==============================] - 0s 8ms/step - loss: 0.2662 - accuracy: 0.8889 - val_loss: 0.3213 - val_accuracy: 0.8667\n",
      "Epoch 23/50\n",
      "15/15 [==============================] - 0s 8ms/step - loss: 0.3167 - accuracy: 0.8889 - val_loss: 0.3431 - val_accuracy: 0.8667\n",
      "Epoch 24/50\n",
      "15/15 [==============================] - 0s 7ms/step - loss: 0.2015 - accuracy: 0.9333 - val_loss: 0.6103 - val_accuracy: 0.7333\n",
      "Epoch 25/50\n",
      "15/15 [==============================] - 0s 7ms/step - loss: 0.1758 - accuracy: 0.9333 - val_loss: 0.6953 - val_accuracy: 0.8000\n",
      "Epoch 26/50\n",
      "15/15 [==============================] - 0s 7ms/step - loss: 0.1685 - accuracy: 0.9556 - val_loss: 0.6040 - val_accuracy: 0.8667\n",
      "Epoch 27/50\n",
      "15/15 [==============================] - 0s 8ms/step - loss: 0.1928 - accuracy: 0.9556 - val_loss: 0.3458 - val_accuracy: 0.8667\n",
      "Epoch 28/50\n",
      "15/15 [==============================] - 0s 7ms/step - loss: 0.1602 - accuracy: 0.9333 - val_loss: 0.6245 - val_accuracy: 0.8667\n",
      "Epoch 29/50\n",
      "15/15 [==============================] - 0s 8ms/step - loss: 0.1248 - accuracy: 0.9556 - val_loss: 0.4598 - val_accuracy: 0.8667\n",
      "Epoch 30/50\n",
      "15/15 [==============================] - 0s 7ms/step - loss: 0.2578 - accuracy: 0.9111 - val_loss: 0.3516 - val_accuracy: 0.8667\n",
      "Epoch 31/50\n",
      "15/15 [==============================] - 0s 7ms/step - loss: 0.0773 - accuracy: 0.9778 - val_loss: 0.4742 - val_accuracy: 0.8667\n",
      "Epoch 32/50\n",
      "15/15 [==============================] - 0s 8ms/step - loss: 0.1806 - accuracy: 0.9111 - val_loss: 0.2824 - val_accuracy: 0.8667\n",
      "Epoch 33/50\n",
      "15/15 [==============================] - 0s 7ms/step - loss: 0.0811 - accuracy: 0.9778 - val_loss: 0.5345 - val_accuracy: 0.8000\n",
      "Epoch 34/50\n",
      "15/15 [==============================] - 0s 7ms/step - loss: 0.1520 - accuracy: 0.9778 - val_loss: 0.4609 - val_accuracy: 0.8667\n",
      "Epoch 35/50\n",
      "15/15 [==============================] - 0s 7ms/step - loss: 0.1133 - accuracy: 0.9778 - val_loss: 0.6304 - val_accuracy: 0.8667\n",
      "Epoch 36/50\n",
      "15/15 [==============================] - 0s 7ms/step - loss: 0.1218 - accuracy: 0.9556 - val_loss: 0.6409 - val_accuracy: 0.8667\n",
      "Epoch 37/50\n",
      "15/15 [==============================] - 0s 8ms/step - loss: 0.1201 - accuracy: 0.9333 - val_loss: 0.7232 - val_accuracy: 0.8000\n",
      "Epoch 38/50\n",
      "15/15 [==============================] - 0s 7ms/step - loss: 0.2495 - accuracy: 0.9111 - val_loss: 0.7783 - val_accuracy: 0.7333\n",
      "Epoch 39/50\n",
      "15/15 [==============================] - 0s 8ms/step - loss: 0.1679 - accuracy: 0.9556 - val_loss: 0.2000 - val_accuracy: 0.9333\n",
      "Epoch 40/50\n",
      "15/15 [==============================] - 0s 8ms/step - loss: 0.1016 - accuracy: 0.9556 - val_loss: 0.2373 - val_accuracy: 0.9333\n",
      "Epoch 41/50\n",
      "15/15 [==============================] - 0s 7ms/step - loss: 0.1654 - accuracy: 0.9333 - val_loss: 0.0743 - val_accuracy: 0.9333\n",
      "Epoch 42/50\n",
      "15/15 [==============================] - 0s 8ms/step - loss: 0.0919 - accuracy: 0.9778 - val_loss: 0.0951 - val_accuracy: 0.9333\n",
      "Epoch 43/50\n",
      "15/15 [==============================] - 0s 7ms/step - loss: 0.0908 - accuracy: 0.9556 - val_loss: 0.0930 - val_accuracy: 0.9333\n",
      "Epoch 44/50\n",
      "15/15 [==============================] - 0s 8ms/step - loss: 0.1438 - accuracy: 0.9778 - val_loss: 0.1321 - val_accuracy: 0.9333\n",
      "Epoch 45/50\n",
      "15/15 [==============================] - 0s 7ms/step - loss: 0.0612 - accuracy: 0.9778 - val_loss: 0.1199 - val_accuracy: 0.9333\n",
      "Epoch 46/50\n",
      "15/15 [==============================] - 0s 7ms/step - loss: 0.1659 - accuracy: 0.9333 - val_loss: 0.4054 - val_accuracy: 0.9333\n",
      "Epoch 47/50\n",
      "15/15 [==============================] - 0s 8ms/step - loss: 0.0564 - accuracy: 0.9778 - val_loss: 0.1342 - val_accuracy: 0.9333\n",
      "Epoch 48/50\n",
      "15/15 [==============================] - 0s 8ms/step - loss: 0.1070 - accuracy: 0.9556 - val_loss: 0.0751 - val_accuracy: 0.9333\n",
      "Epoch 49/50\n",
      "15/15 [==============================] - 0s 7ms/step - loss: 0.0496 - accuracy: 1.0000 - val_loss: 0.0846 - val_accuracy: 0.9333\n",
      "Epoch 50/50\n",
      "15/15 [==============================] - 0s 8ms/step - loss: 0.0607 - accuracy: 0.9778 - val_loss: 0.0688 - val_accuracy: 0.9333\n"
     ]
    },
    {
     "data": {
      "text/plain": [
       "<tensorflow.python.keras.callbacks.History at 0x1a1e1020760>"
      ]
     },
     "execution_count": 15,
     "metadata": {},
     "output_type": "execute_result"
    }
   ],
   "source": [
    "#1. 데이터 생성하기\n",
    "train_datagen = ImageDataGenerator(rescale=1./255, # 정규화 작업\n",
    "                                   rotation_range=10, # 각도 조절\n",
    "                                   width_shift_range=0.2, # 길이 조절\n",
    "                                   height_shift_range=0.2,\n",
    "                                   shear_range=0.7, # shift\n",
    "                                   zoom_range=[0.9,2.1], \n",
    "                                   horizontal_flip=True, #수평방향 뒤집기\n",
    "                                   vertical_flip=True,\n",
    "                                   fill_mode='nearest' #이미지확대시 채우는 방식\n",
    "                                  )\n",
    "train_data = train_datagen.flow_from_directory(\n",
    "                    'data/handwriting/handwriting_shape/train', target_size=(24,24), class_mode='categorical', batch_size=3\n",
    ")\n",
    "test_datagen = ImageDataGenerator(rescale=1./255)\n",
    "test_data = test_datagen.flow_from_directory(\n",
    "                    'data/handwriting/handwriting_shape/test', target_size=(24,24), class_mode = 'categorical', batch_size=3\n",
    ")\n",
    "model=Sequential()\n",
    "# Conv2D(필터개수, 필터사이즈, activation_fun, 입력 shape)\n",
    "model.add(Conv2D(32, kernel_size=(3,3), activation='relu', input_shape=(24,24,3)))\n",
    "model.add(Conv2D(32, kernel_size=(3,3), activation='relu'))\n",
    "model.add(MaxPooling2D(pool_size=(2,2))) # 2*2에서 제일 큰 값만 뽑아 이미지 축소\n",
    "model.add(Dropout(0.1)) #과적합을 막는 목적\n",
    "model.add(Flatten()) # 2차원 데이터를 1차원으로\n",
    "model.add(Dense(units=128, activation='relu'))\n",
    "model.add(Dense(3, activation='softmax'))\n",
    "\n",
    "model.compile(loss='categorical_crossentropy', optimizer='adam', metrics=['accuracy'])\n",
    "model.fit_generator(train_data, steps_per_epoch=15, epochs=50, validation_data = test_data, validation_steps=5)"
   ]
  },
  {
   "cell_type": "code",
   "execution_count": null,
   "id": "94d93241",
   "metadata": {},
   "outputs": [],
   "source": []
  }
 ],
 "metadata": {
  "kernelspec": {
   "display_name": "Python 3",
   "language": "python",
   "name": "python3"
  },
  "language_info": {
   "codemirror_mode": {
    "name": "ipython",
    "version": 3
   },
   "file_extension": ".py",
   "mimetype": "text/x-python",
   "name": "python",
   "nbconvert_exporter": "python",
   "pygments_lexer": "ipython3",
   "version": "3.8.8"
  },
  "toc": {
   "base_numbering": 1,
   "nav_menu": {},
   "number_sections": false,
   "sideBar": true,
   "skip_h1_title": false,
   "title_cell": "Table of Contents",
   "title_sidebar": "Contents",
   "toc_cell": false,
   "toc_position": {},
   "toc_section_display": true,
   "toc_window_display": true
  },
  "varInspector": {
   "cols": {
    "lenName": 16,
    "lenType": 16,
    "lenVar": 40
   },
   "kernels_config": {
    "python": {
     "delete_cmd_postfix": "",
     "delete_cmd_prefix": "del ",
     "library": "var_list.py",
     "varRefreshCmd": "print(var_dic_list())"
    },
    "r": {
     "delete_cmd_postfix": ") ",
     "delete_cmd_prefix": "rm(",
     "library": "var_list.r",
     "varRefreshCmd": "cat(var_dic_list()) "
    }
   },
   "types_to_exclude": [
    "module",
    "function",
    "builtin_function_or_method",
    "instance",
    "_Feature"
   ],
   "window_display": false
  }
 },
 "nbformat": 4,
 "nbformat_minor": 5
}
