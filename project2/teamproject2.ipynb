{
 "cells": [
  {
   "cell_type": "code",
   "execution_count": 1,
   "id": "48b01156",
   "metadata": {
    "ExecuteTime": {
     "end_time": "2021-09-09T02:59:58.117469Z",
     "start_time": "2021-09-09T02:59:54.511827Z"
    }
   },
   "outputs": [],
   "source": [
    "import pandas as pd\n",
    "from matplotlib import pyplot as plt\n",
    "%matplotlib inline\n",
    "%config InlineBackend.figure_format = 'retina'\n",
    "import warnings\n",
    "warnings.filterwarnings(action='ignore')\n",
    "import numpy as np\n",
    "plt.rc('font', family='Malgun Gothic') \n",
    "plt.rc('axes', unicode_minus=False)\n",
    "import matplotlib.font_manager as fm\n",
    "font_path = 'C:\\Windows\\Fonts\\HMFMPYUN.TTF'\n",
    "font_prop = fm.FontProperties(fname=font_path, size=20)\n",
    "from sklearn.preprocessing import MinMaxScaler\n",
    "from tensorflow.keras.models import Sequential\n",
    "from tensorflow.keras.layers import Dense, LSTM, GRU, Dropout\n",
    "from tensorflow.keras import models\n",
    "import seaborn as sns\n",
    "import tensorflow.keras.utils as utils\n",
    "from tensorflow.keras.callbacks import Callback"
   ]
  },
  {
   "cell_type": "code",
   "execution_count": 2,
   "id": "60215b45",
   "metadata": {
    "ExecuteTime": {
     "end_time": "2021-09-09T02:59:59.103096Z",
     "start_time": "2021-09-09T02:59:58.150477Z"
    }
   },
   "outputs": [],
   "source": [
    "seoul_2016=pd.read_csv('data/2016년 서울시 교통사고.csv', encoding='cp949')\n",
    "seoul_2017=pd.read_csv('data/2017년 서울시 교통사고.csv', encoding='cp949')\n",
    "seoul_2018=pd.read_csv('data/2018년 서울시 교통사고.csv', encoding='cp949')\n",
    "seoul_2019=pd.read_csv('data/2019년 서울시 교통사고.csv', encoding='cp949')\n",
    "seoul_2020=pd.read_csv('data/2020년 서울시 교통사고.csv', encoding='cp949')"
   ]
  },
  {
   "cell_type": "code",
   "execution_count": 3,
   "id": "dd6376a6",
   "metadata": {
    "ExecuteTime": {
     "end_time": "2021-09-09T02:59:59.422364Z",
     "start_time": "2021-09-09T02:59:59.360373Z"
    }
   },
   "outputs": [],
   "source": [
    "seoul=pd.concat([seoul_2016,seoul_2017,seoul_2018,seoul_2019,seoul_2020])"
   ]
  },
  {
   "cell_type": "code",
   "execution_count": 4,
   "id": "c2b42645",
   "metadata": {
    "ExecuteTime": {
     "end_time": "2021-09-09T02:59:59.820472Z",
     "start_time": "2021-09-09T02:59:59.806809Z"
    }
   },
   "outputs": [],
   "source": [
    "seoul.index=range(seoul.shape[0])"
   ]
  },
  {
   "cell_type": "code",
   "execution_count": 5,
   "id": "9e1f1403",
   "metadata": {
    "ExecuteTime": {
     "end_time": "2021-09-09T03:00:00.358502Z",
     "start_time": "2021-09-09T03:00:00.220870Z"
    }
   },
   "outputs": [
    {
     "name": "stdout",
     "output_type": "stream",
     "text": [
      "<class 'pandas.core.frame.DataFrame'>\n",
      "RangeIndex: 191944 entries, 0 to 191943\n",
      "Data columns (total 22 columns):\n",
      " #   Column      Non-Null Count   Dtype \n",
      "---  ------      --------------   ----- \n",
      " 0   사고번호        191944 non-null  int64 \n",
      " 1   사고일시        191944 non-null  object\n",
      " 2   요일          191944 non-null  object\n",
      " 3   시군구         191944 non-null  object\n",
      " 4   사고내용        191944 non-null  object\n",
      " 5   사망자수        191944 non-null  int64 \n",
      " 6   중상자수        191944 non-null  int64 \n",
      " 7   경상자수        191944 non-null  int64 \n",
      " 8   부상신고자수      191944 non-null  int64 \n",
      " 9   사고유형        191944 non-null  object\n",
      " 10  법규위반        191944 non-null  object\n",
      " 11  노면상태        191944 non-null  object\n",
      " 12  기상상태        191944 non-null  object\n",
      " 13  도로형태        191944 non-null  object\n",
      " 14  가해운전자 차종    191944 non-null  object\n",
      " 15  가해운전자 성별    191944 non-null  object\n",
      " 16  가해운전자 연령    191944 non-null  object\n",
      " 17  가해운전자 상해정도  191944 non-null  object\n",
      " 18  피해운전자 차종    185992 non-null  object\n",
      " 19  피해운전자 성별    185992 non-null  object\n",
      " 20  피해운전자 연령    185992 non-null  object\n",
      " 21  피해운전자 상해정도  185992 non-null  object\n",
      "dtypes: int64(5), object(17)\n",
      "memory usage: 32.2+ MB\n"
     ]
    }
   ],
   "source": [
    "seoul.info()"
   ]
  },
  {
   "cell_type": "code",
   "execution_count": null,
   "id": "570b4294",
   "metadata": {
    "ExecuteTime": {
     "end_time": "2021-09-08T03:26:17.856554Z",
     "start_time": "2021-09-08T03:26:17.841590Z"
    }
   },
   "outputs": [],
   "source": [
    "seoul.columns"
   ]
  },
  {
   "cell_type": "code",
   "execution_count": null,
   "id": "374c2b75",
   "metadata": {
    "ExecuteTime": {
     "end_time": "2021-09-07T01:11:13.815650Z",
     "start_time": "2021-09-07T01:11:13.789450Z"
    }
   },
   "outputs": [],
   "source": [
    "seoul[seoul.columns[0]].value_counts()"
   ]
  },
  {
   "cell_type": "code",
   "execution_count": null,
   "id": "659b8cee",
   "metadata": {
    "ExecuteTime": {
     "end_time": "2021-09-07T01:11:14.244321Z",
     "start_time": "2021-09-07T01:11:14.196449Z"
    }
   },
   "outputs": [],
   "source": [
    "seoul[seoul.columns[1]].value_counts()"
   ]
  },
  {
   "cell_type": "code",
   "execution_count": null,
   "id": "9a1c4b30",
   "metadata": {
    "ExecuteTime": {
     "end_time": "2021-09-07T01:11:14.668188Z",
     "start_time": "2021-09-07T01:11:14.645249Z"
    }
   },
   "outputs": [],
   "source": [
    "seoul[seoul.columns[2]].value_counts()"
   ]
  },
  {
   "cell_type": "code",
   "execution_count": null,
   "id": "1a5ad2ed",
   "metadata": {
    "ExecuteTime": {
     "end_time": "2021-09-07T01:11:15.069560Z",
     "start_time": "2021-09-07T01:11:15.045179Z"
    }
   },
   "outputs": [],
   "source": [
    "seoul[seoul.columns[3]].value_counts()"
   ]
  },
  {
   "cell_type": "code",
   "execution_count": null,
   "id": "1a8f42e3",
   "metadata": {
    "ExecuteTime": {
     "end_time": "2021-09-07T01:11:15.469490Z",
     "start_time": "2021-09-07T01:11:15.447549Z"
    }
   },
   "outputs": [],
   "source": [
    "seoul[seoul.columns[4]].value_counts()"
   ]
  },
  {
   "cell_type": "code",
   "execution_count": null,
   "id": "0df75ad4",
   "metadata": {
    "ExecuteTime": {
     "end_time": "2021-09-07T01:11:15.857474Z",
     "start_time": "2021-09-07T01:11:15.848504Z"
    }
   },
   "outputs": [],
   "source": [
    "seoul[seoul.columns[5]].value_counts()"
   ]
  },
  {
   "cell_type": "code",
   "execution_count": null,
   "id": "9f658a2b",
   "metadata": {
    "ExecuteTime": {
     "end_time": "2021-09-07T01:11:16.239407Z",
     "start_time": "2021-09-07T01:11:16.231428Z"
    }
   },
   "outputs": [],
   "source": [
    "seoul[seoul.columns[6]].value_counts()"
   ]
  },
  {
   "cell_type": "code",
   "execution_count": null,
   "id": "0fef336f",
   "metadata": {
    "ExecuteTime": {
     "end_time": "2021-09-06T09:42:49.296676Z",
     "start_time": "2021-09-06T09:42:49.281688Z"
    }
   },
   "outputs": [],
   "source": [
    "seoul[seoul.columns[7]].value_counts()"
   ]
  },
  {
   "cell_type": "code",
   "execution_count": null,
   "id": "993f2d5f",
   "metadata": {
    "ExecuteTime": {
     "end_time": "2021-09-06T09:42:50.248143Z",
     "start_time": "2021-09-06T09:42:50.234180Z"
    }
   },
   "outputs": [],
   "source": [
    "seoul[seoul.columns[8]].value_counts()"
   ]
  },
  {
   "cell_type": "code",
   "execution_count": null,
   "id": "bed6e60b",
   "metadata": {
    "ExecuteTime": {
     "end_time": "2021-09-06T09:42:51.182463Z",
     "start_time": "2021-09-06T09:42:51.152542Z"
    }
   },
   "outputs": [],
   "source": [
    "seoul[seoul.columns[9]].value_counts()"
   ]
  },
  {
   "cell_type": "code",
   "execution_count": null,
   "id": "bf973050",
   "metadata": {
    "ExecuteTime": {
     "end_time": "2021-09-06T09:42:52.101215Z",
     "start_time": "2021-09-06T09:42:52.072292Z"
    }
   },
   "outputs": [],
   "source": [
    "seoul[seoul.columns[10]].value_counts()"
   ]
  },
  {
   "cell_type": "code",
   "execution_count": null,
   "id": "4d2e55af",
   "metadata": {
    "ExecuteTime": {
     "end_time": "2021-09-06T09:42:53.037027Z",
     "start_time": "2021-09-06T09:42:53.007032Z"
    }
   },
   "outputs": [],
   "source": [
    "seoul[seoul.columns[11]].value_counts()"
   ]
  },
  {
   "cell_type": "code",
   "execution_count": null,
   "id": "a24c09e5",
   "metadata": {
    "ExecuteTime": {
     "end_time": "2021-09-06T09:42:53.975094Z",
     "start_time": "2021-09-06T09:42:53.945094Z"
    }
   },
   "outputs": [],
   "source": [
    "seoul[seoul.columns[12]].value_counts()"
   ]
  },
  {
   "cell_type": "code",
   "execution_count": null,
   "id": "14bfd6cd",
   "metadata": {
    "ExecuteTime": {
     "end_time": "2021-09-06T09:42:54.928460Z",
     "start_time": "2021-09-06T09:42:54.899258Z"
    }
   },
   "outputs": [],
   "source": [
    "seoul[seoul.columns[13]].value_counts()"
   ]
  },
  {
   "cell_type": "code",
   "execution_count": null,
   "id": "627b005b",
   "metadata": {
    "ExecuteTime": {
     "end_time": "2021-09-06T09:42:55.849141Z",
     "start_time": "2021-09-06T09:42:55.818882Z"
    }
   },
   "outputs": [],
   "source": [
    "seoul[seoul.columns[14]].value_counts()"
   ]
  },
  {
   "cell_type": "code",
   "execution_count": null,
   "id": "3bab1b95",
   "metadata": {
    "ExecuteTime": {
     "end_time": "2021-09-06T09:42:56.787248Z",
     "start_time": "2021-09-06T09:42:56.759315Z"
    }
   },
   "outputs": [],
   "source": [
    "seoul[seoul.columns[15]].value_counts()"
   ]
  },
  {
   "cell_type": "code",
   "execution_count": null,
   "id": "f6ca837e",
   "metadata": {
    "ExecuteTime": {
     "end_time": "2021-09-06T09:42:57.709338Z",
     "start_time": "2021-09-06T09:42:57.678510Z"
    }
   },
   "outputs": [],
   "source": [
    "seoul[seoul.columns[16]].value_counts()"
   ]
  },
  {
   "cell_type": "code",
   "execution_count": null,
   "id": "57ced670",
   "metadata": {
    "ExecuteTime": {
     "end_time": "2021-09-06T09:42:58.634193Z",
     "start_time": "2021-09-06T09:42:58.603275Z"
    }
   },
   "outputs": [],
   "source": [
    "seoul[seoul.columns[17]].value_counts()"
   ]
  },
  {
   "cell_type": "code",
   "execution_count": null,
   "id": "d8a4775f",
   "metadata": {
    "ExecuteTime": {
     "end_time": "2021-09-06T09:42:59.569912Z",
     "start_time": "2021-09-06T09:42:59.539045Z"
    }
   },
   "outputs": [],
   "source": [
    "seoul[seoul.columns[18]].value_counts()"
   ]
  },
  {
   "cell_type": "code",
   "execution_count": null,
   "id": "e74f0b7c",
   "metadata": {
    "ExecuteTime": {
     "end_time": "2021-09-06T09:43:00.492677Z",
     "start_time": "2021-09-06T09:43:00.461631Z"
    }
   },
   "outputs": [],
   "source": [
    "seoul[seoul.columns[19]].value_counts()"
   ]
  },
  {
   "cell_type": "code",
   "execution_count": null,
   "id": "9fc62e8e",
   "metadata": {
    "ExecuteTime": {
     "end_time": "2021-09-06T09:43:01.412191Z",
     "start_time": "2021-09-06T09:43:01.382194Z"
    }
   },
   "outputs": [],
   "source": [
    "seoul[seoul.columns[20]].value_counts()"
   ]
  },
  {
   "cell_type": "code",
   "execution_count": null,
   "id": "f9b85dc7",
   "metadata": {
    "ExecuteTime": {
     "end_time": "2021-09-06T09:43:02.317744Z",
     "start_time": "2021-09-06T09:43:02.286826Z"
    }
   },
   "outputs": [],
   "source": [
    "seoul[seoul.columns[21]].value_counts()"
   ]
  },
  {
   "cell_type": "code",
   "execution_count": null,
   "id": "868e9005",
   "metadata": {
    "ExecuteTime": {
     "end_time": "2021-09-06T09:43:03.253398Z",
     "start_time": "2021-09-06T09:43:03.222480Z"
    }
   },
   "outputs": [],
   "source": [
    "seoul[seoul.columns[3]].value_counts().index[0]"
   ]
  },
  {
   "cell_type": "code",
   "execution_count": 6,
   "id": "2a649614",
   "metadata": {
    "ExecuteTime": {
     "end_time": "2021-09-09T03:00:01.828560Z",
     "start_time": "2021-09-09T03:00:01.744708Z"
    }
   },
   "outputs": [],
   "source": [
    "yeoksam=seoul[seoul[seoul.columns[3]]==seoul[seoul.columns[3]].value_counts().index[0]]['사고번호']"
   ]
  },
  {
   "cell_type": "code",
   "execution_count": 7,
   "id": "6d861867",
   "metadata": {
    "ExecuteTime": {
     "end_time": "2021-09-09T03:00:02.191022Z",
     "start_time": "2021-09-09T03:00:02.176611Z"
    }
   },
   "outputs": [],
   "source": [
    "yeoksam.index=range(yeoksam.shape[0])"
   ]
  },
  {
   "cell_type": "code",
   "execution_count": 8,
   "id": "06e459b2",
   "metadata": {
    "ExecuteTime": {
     "end_time": "2021-09-09T03:00:02.795026Z",
     "start_time": "2021-09-09T03:00:02.779047Z"
    }
   },
   "outputs": [
    {
     "data": {
      "text/plain": [
       "20160101"
      ]
     },
     "execution_count": 8,
     "metadata": {},
     "output_type": "execute_result"
    }
   ],
   "source": [
    "int(yeoksam[0]/100000000)"
   ]
  },
  {
   "cell_type": "code",
   "execution_count": 9,
   "id": "cc623ed9",
   "metadata": {
    "ExecuteTime": {
     "end_time": "2021-09-09T03:00:03.177435Z",
     "start_time": "2021-09-09T03:00:03.163534Z"
    }
   },
   "outputs": [],
   "source": [
    "yeoksam=yeoksam.map(lambda x : int(x/100000000))"
   ]
  },
  {
   "cell_type": "code",
   "execution_count": 10,
   "id": "1163ae75",
   "metadata": {
    "ExecuteTime": {
     "end_time": "2021-09-09T03:00:03.569775Z",
     "start_time": "2021-09-09T03:00:03.561767Z"
    }
   },
   "outputs": [],
   "source": [
    "yeoksam_num=yeoksam.to_frame().groupby('사고번호')['사고번호'].count().to_frame()"
   ]
  },
  {
   "cell_type": "code",
   "execution_count": 11,
   "id": "4a49bdd5",
   "metadata": {
    "ExecuteTime": {
     "end_time": "2021-09-09T03:00:05.239960Z",
     "start_time": "2021-09-09T03:00:05.228961Z"
    }
   },
   "outputs": [],
   "source": [
    "yeoksam_num=yeoksam_num['사고번호']"
   ]
  },
  {
   "cell_type": "code",
   "execution_count": 12,
   "id": "8d6c7e1d",
   "metadata": {
    "ExecuteTime": {
     "end_time": "2021-09-09T03:00:05.637924Z",
     "start_time": "2021-09-09T03:00:05.623936Z"
    }
   },
   "outputs": [],
   "source": [
    "max_yeoksam_num=max(yeoksam_num)\n",
    "min_yeoksam_num=min(yeoksam_num)"
   ]
  },
  {
   "cell_type": "code",
   "execution_count": 13,
   "id": "a7057113",
   "metadata": {
    "ExecuteTime": {
     "end_time": "2021-09-09T03:00:06.020631Z",
     "start_time": "2021-09-09T03:00:06.006584Z"
    }
   },
   "outputs": [
    {
     "data": {
      "text/plain": [
       "사고번호\n",
       "20160101    3\n",
       "20160102    2\n",
       "20160103    1\n",
       "20160104    5\n",
       "20160105    1\n",
       "           ..\n",
       "20201227    1\n",
       "20201228    3\n",
       "20201229    1\n",
       "20201230    3\n",
       "20201231    4\n",
       "Name: 사고번호, Length: 1566, dtype: int64"
      ]
     },
     "execution_count": 13,
     "metadata": {},
     "output_type": "execute_result"
    }
   ],
   "source": [
    "yeoksam_num"
   ]
  },
  {
   "cell_type": "code",
   "execution_count": 14,
   "id": "9836b600",
   "metadata": {
    "ExecuteTime": {
     "end_time": "2021-09-09T03:00:06.387088Z",
     "start_time": "2021-09-09T03:00:06.372095Z"
    }
   },
   "outputs": [],
   "source": [
    "def seq2dataset(num, window_size):\n",
    "    dataset = []\n",
    "    for i in range(len(num) - window_size):\n",
    "        subset = num[i: (i + window_size + 1)]\n",
    "        dataset.append(subset)\n",
    "    return np.array(dataset)"
   ]
  },
  {
   "cell_type": "code",
   "execution_count": 15,
   "id": "16d052d7",
   "metadata": {
    "ExecuteTime": {
     "end_time": "2021-09-09T03:00:07.264293Z",
     "start_time": "2021-09-09T03:00:07.099282Z"
    }
   },
   "outputs": [],
   "source": [
    "dataset=seq2dataset(yeoksam_num,40)"
   ]
  },
  {
   "cell_type": "code",
   "execution_count": 16,
   "id": "afac1aa7",
   "metadata": {
    "ExecuteTime": {
     "end_time": "2021-09-09T03:00:07.629678Z",
     "start_time": "2021-09-09T03:00:07.614687Z"
    }
   },
   "outputs": [
    {
     "data": {
      "text/plain": [
       "((1526, 40), (1526,))"
      ]
     },
     "execution_count": 16,
     "metadata": {},
     "output_type": "execute_result"
    }
   ],
   "source": [
    "x_train = dataset[:,:-1]\n",
    "y_train = dataset[:,-1]\n",
    "x_train.shape, y_train.shape"
   ]
  },
  {
   "cell_type": "code",
   "execution_count": 17,
   "id": "9ff77f47",
   "metadata": {
    "ExecuteTime": {
     "end_time": "2021-09-09T03:00:08.024853Z",
     "start_time": "2021-09-09T03:00:08.010912Z"
    }
   },
   "outputs": [
    {
     "data": {
      "text/plain": [
       "array([[3, 2, 1, ..., 1, 4, 2],\n",
       "       [2, 1, 5, ..., 4, 2, 1],\n",
       "       [1, 5, 1, ..., 2, 1, 1],\n",
       "       ...,\n",
       "       [3, 2, 1, ..., 1, 3, 1],\n",
       "       [2, 1, 4, ..., 3, 1, 3],\n",
       "       [1, 4, 3, ..., 1, 3, 4]], dtype=int64)"
      ]
     },
     "execution_count": 17,
     "metadata": {},
     "output_type": "execute_result"
    }
   ],
   "source": [
    "dataset"
   ]
  },
  {
   "cell_type": "code",
   "execution_count": 18,
   "id": "f165b2db",
   "metadata": {
    "ExecuteTime": {
     "end_time": "2021-09-09T03:00:08.389331Z",
     "start_time": "2021-09-09T03:00:08.374347Z"
    }
   },
   "outputs": [
    {
     "data": {
      "text/plain": [
       "array([[0.25 , 0.125, 0.   , 0.5  , 0.   , 0.   , 0.375, 0.25 , 0.25 ,\n",
       "        0.   , 0.   , 0.375, 0.125, 0.125, 0.   , 0.   , 0.25 , 0.125,\n",
       "        0.125, 0.125, 0.125, 0.25 , 0.375, 0.125, 0.   , 0.25 , 0.125,\n",
       "        0.25 , 0.   , 0.375, 0.25 , 0.125, 0.125, 0.   , 0.   , 0.125,\n",
       "        0.125, 0.   , 0.   , 0.375],\n",
       "       [0.125, 0.   , 0.5  , 0.   , 0.   , 0.375, 0.25 , 0.25 , 0.   ,\n",
       "        0.   , 0.375, 0.125, 0.125, 0.   , 0.   , 0.25 , 0.125, 0.125,\n",
       "        0.125, 0.125, 0.25 , 0.375, 0.125, 0.   , 0.25 , 0.125, 0.25 ,\n",
       "        0.   , 0.375, 0.25 , 0.125, 0.125, 0.   , 0.   , 0.125, 0.125,\n",
       "        0.   , 0.   , 0.375, 0.125]])"
      ]
     },
     "execution_count": 18,
     "metadata": {},
     "output_type": "execute_result"
    }
   ],
   "source": [
    "x_train = (x_train-min_yeoksam_num)/(max_yeoksam_num-min_yeoksam_num)\n",
    "x_train[:2]"
   ]
  },
  {
   "cell_type": "code",
   "execution_count": 19,
   "id": "07052a87",
   "metadata": {
    "ExecuteTime": {
     "end_time": "2021-09-09T03:00:08.754423Z",
     "start_time": "2021-09-09T03:00:08.740380Z"
    }
   },
   "outputs": [
    {
     "data": {
      "text/plain": [
       "(1526, 9)"
      ]
     },
     "execution_count": 19,
     "metadata": {},
     "output_type": "execute_result"
    }
   ],
   "source": [
    "y_train=y_train-1\n",
    "y_train = utils.to_categorical(y_train)\n",
    "y_train.shape"
   ]
  },
  {
   "cell_type": "code",
   "execution_count": 20,
   "id": "db702da5",
   "metadata": {
    "ExecuteTime": {
     "end_time": "2021-09-09T03:00:09.455019Z",
     "start_time": "2021-09-09T03:00:09.446015Z"
    }
   },
   "outputs": [
    {
     "data": {
      "text/plain": [
       "(1526, 40)"
      ]
     },
     "execution_count": 20,
     "metadata": {},
     "output_type": "execute_result"
    }
   ],
   "source": [
    "x_train.shape"
   ]
  },
  {
   "cell_type": "code",
   "execution_count": 21,
   "id": "84f5deb1",
   "metadata": {
    "ExecuteTime": {
     "end_time": "2021-09-09T03:00:09.848627Z",
     "start_time": "2021-09-09T03:00:09.836114Z"
    }
   },
   "outputs": [],
   "source": [
    "x_train=x_train.reshape(1526,40,1)"
   ]
  },
  {
   "cell_type": "code",
   "execution_count": 22,
   "id": "dc1c86e9",
   "metadata": {
    "ExecuteTime": {
     "end_time": "2021-09-09T03:00:10.246819Z",
     "start_time": "2021-09-09T03:00:10.233357Z"
    }
   },
   "outputs": [],
   "source": [
    "one_hot_vec_size = y_train.shape[1]"
   ]
  },
  {
   "cell_type": "code",
   "execution_count": null,
   "id": "d28d89db",
   "metadata": {
    "ExecuteTime": {
     "end_time": "2021-09-07T02:18:52.689136Z",
     "start_time": "2021-09-07T01:11:37.210051Z"
    }
   },
   "outputs": [],
   "source": [
    "# 1. 모델 생성\n",
    "model = Sequential()\n",
    "model.add(LSTM(\n",
    "    units=128,\n",
    "    kernel_initializer='glorot_normal',\n",
    "    bias_initializer='zero',\n",
    "    batch_input_shape=(1, 40, 1), \n",
    "    stateful=True\n",
    "))\n",
    "model.add(Dense(\n",
    "    units=one_hot_vec_size, \n",
    "    kernel_initializer='glorot_normal',\n",
    "    bias_initializer='zero',    \n",
    "    activation='softmax'\n",
    "))\n",
    "# 2. 모델 학습과정 설정\n",
    "model.compile(\n",
    "    loss='categorical_crossentropy',\n",
    "    optimizer='adam',\n",
    "    metrics=['accuracy']\n",
    ")\n",
    "# 3. 모델 학습시키기\n",
    "class LossHistory(Callback):\n",
    "    def __init__(self):\n",
    "        self.epoch = 0\n",
    "        self.losses = []\n",
    "        self.accuracy = []\n",
    "    def on_epoch_end(self, batch, logs={}):\n",
    "        self.losses.append(logs.get('loss'))\n",
    "        self.accuracy.append(logs.get('accuracy'))\n",
    "        if self.epoch % 100 == 0:\n",
    "            print(\"epoch: {0} - loss: {1:8.6f}, acc : {2:8.6f}\".\\\n",
    "                  format(self.epoch, logs.get('loss'), logs.get('accuracy')))\n",
    "        self.epoch += 1\n",
    "history = LossHistory()\n",
    "for epoch in range(4000):\n",
    "    model.fit(x_train, y_train, epochs=1, batch_size=1, verbose=0, shuffle=False,\n",
    "             callbacks=[history])\n",
    "    if (history.losses[-1] < 1e-5) & (history.accuracy[-1] > 0.99):\n",
    "        print(\"epoch:{} - loss:{}, acc:{} - 종료\".\\\n",
    "              format(epoch, history.losses[-1], history.accuracy[-1]))\n",
    "        break;\n",
    "    model.reset_states() # 훈련할 때마다 이전 데이터와 상관없이 다른 데이터라고 판단"
   ]
  },
  {
   "cell_type": "code",
   "execution_count": null,
   "id": "ad768c89",
   "metadata": {
    "ExecuteTime": {
     "end_time": "2021-09-08T11:56:32.630405Z",
     "start_time": "2021-09-08T05:05:11.100757Z"
    }
   },
   "outputs": [],
   "source": [
    "# 1. 모델 생성 best!!!!!!!!!!!!!!!!!!\n",
    "model = Sequential()\n",
    "model.add(LSTM(\n",
    "    units=128,\n",
    "    batch_input_shape=(1, 40, 1), \n",
    "    stateful=True\n",
    "))\n",
    "model.add(Dense(\n",
    "    units=one_hot_vec_size,     \n",
    "    activation='softmax'\n",
    "))\n",
    "# 2. 모델 학습과정 설정\n",
    "model.compile(\n",
    "    loss='categorical_crossentropy',\n",
    "    optimizer='adam',\n",
    "    metrics=['accuracy']\n",
    ")\n",
    "# 3. 모델 학습시키기\n",
    "class LossHistory(Callback):\n",
    "    def __init__(self):\n",
    "        self.epoch = 0\n",
    "        self.losses = []\n",
    "        self.accuracy = []\n",
    "    def on_epoch_end(self, batch, logs={}):\n",
    "        self.losses.append(logs.get('loss'))\n",
    "        self.accuracy.append(logs.get('accuracy'))\n",
    "        if self.epoch % 100 == 0:\n",
    "            print(\"epoch: {0} - loss: {1:8.6f}, acc : {2:8.6f}\".\\\n",
    "                  format(self.epoch, logs.get('loss'), logs.get('accuracy')))\n",
    "        self.epoch += 1\n",
    "history = LossHistory()\n",
    "for epoch in range(4000):\n",
    "    model.fit(x_train, y_train, epochs=1, batch_size=1, verbose=0, shuffle=False,\n",
    "             callbacks=[history])\n",
    "    if (history.losses[-1] < 1e-5) & (history.accuracy[-1] > 0.99):\n",
    "        print(\"epoch:{} - loss:{}, acc:{} - 종료\".\\\n",
    "              format(epoch, history.losses[-1], history.accuracy[-1]))\n",
    "        break;\n",
    "    model.reset_states() # 훈련할 때마다 이전 데이터와 상관없이 다른 데이터라고 판단"
   ]
  },
  {
   "cell_type": "code",
   "execution_count": 23,
   "id": "b7293d5b",
   "metadata": {
    "ExecuteTime": {
     "end_time": "2021-09-09T05:01:50.271923Z",
     "start_time": "2021-09-09T03:00:51.741607Z"
    }
   },
   "outputs": [
    {
     "name": "stdout",
     "output_type": "stream",
     "text": [
      "epoch: 0 - loss: 1.656108, acc : 0.277851\n",
      "epoch: 100 - loss: 0.711185, acc : 0.726737\n",
      "epoch: 200 - loss: 0.297887, acc : 0.898427\n",
      "epoch: 300 - loss: 1.368623, acc : 0.408257\n",
      "epoch: 400 - loss: 1.291767, acc : 0.470511\n",
      "epoch: 500 - loss: 1.599805, acc : 0.313893\n",
      "epoch: 600 - loss: 1.643855, acc : 0.296855\n",
      "epoch: 700 - loss: 1.534199, acc : 0.336173\n",
      "epoch: 800 - loss: 1.586363, acc : 0.332241\n",
      "epoch: 900 - loss: 1.520315, acc : 0.357143\n",
      "epoch: 1000 - loss: 1.553114, acc : 0.341415\n",
      "epoch: 1100 - loss: 1.499912, acc : 0.385321\n"
     ]
    },
    {
     "ename": "KeyboardInterrupt",
     "evalue": "",
     "output_type": "error",
     "traceback": [
      "\u001b[1;31m---------------------------------------------------------------------------\u001b[0m",
      "\u001b[1;31mKeyboardInterrupt\u001b[0m                         Traceback (most recent call last)",
      "\u001b[1;32m<ipython-input-23-fe0d3871b8f6>\u001b[0m in \u001b[0;36m<module>\u001b[1;34m\u001b[0m\n\u001b[0;32m     31\u001b[0m \u001b[0mhistory\u001b[0m \u001b[1;33m=\u001b[0m \u001b[0mLossHistory\u001b[0m\u001b[1;33m(\u001b[0m\u001b[1;33m)\u001b[0m\u001b[1;33m\u001b[0m\u001b[1;33m\u001b[0m\u001b[0m\n\u001b[0;32m     32\u001b[0m \u001b[1;32mfor\u001b[0m \u001b[0mepoch\u001b[0m \u001b[1;32min\u001b[0m \u001b[0mrange\u001b[0m\u001b[1;33m(\u001b[0m\u001b[1;36m3000\u001b[0m\u001b[1;33m)\u001b[0m\u001b[1;33m:\u001b[0m\u001b[1;33m\u001b[0m\u001b[1;33m\u001b[0m\u001b[0m\n\u001b[1;32m---> 33\u001b[1;33m     model.fit(x_train, y_train, epochs=1, batch_size=1, verbose=0, shuffle=False,\n\u001b[0m\u001b[0;32m     34\u001b[0m              callbacks=[history])\n\u001b[0;32m     35\u001b[0m     \u001b[1;32mif\u001b[0m \u001b[1;33m(\u001b[0m\u001b[0mhistory\u001b[0m\u001b[1;33m.\u001b[0m\u001b[0mlosses\u001b[0m\u001b[1;33m[\u001b[0m\u001b[1;33m-\u001b[0m\u001b[1;36m1\u001b[0m\u001b[1;33m]\u001b[0m \u001b[1;33m<\u001b[0m \u001b[1;36m1e-5\u001b[0m\u001b[1;33m)\u001b[0m \u001b[1;33m&\u001b[0m \u001b[1;33m(\u001b[0m\u001b[0mhistory\u001b[0m\u001b[1;33m.\u001b[0m\u001b[0maccuracy\u001b[0m\u001b[1;33m[\u001b[0m\u001b[1;33m-\u001b[0m\u001b[1;36m1\u001b[0m\u001b[1;33m]\u001b[0m \u001b[1;33m>\u001b[0m \u001b[1;36m0.99\u001b[0m\u001b[1;33m)\u001b[0m\u001b[1;33m:\u001b[0m\u001b[1;33m\u001b[0m\u001b[1;33m\u001b[0m\u001b[0m\n",
      "\u001b[1;32m~\\anaconda3\\lib\\site-packages\\tensorflow\\python\\keras\\engine\\training.py\u001b[0m in \u001b[0;36mfit\u001b[1;34m(self, x, y, batch_size, epochs, verbose, callbacks, validation_split, validation_data, shuffle, class_weight, sample_weight, initial_epoch, steps_per_epoch, validation_steps, validation_batch_size, validation_freq, max_queue_size, workers, use_multiprocessing)\u001b[0m\n\u001b[0;32m   1181\u001b[0m                 _r=1):\n\u001b[0;32m   1182\u001b[0m               \u001b[0mcallbacks\u001b[0m\u001b[1;33m.\u001b[0m\u001b[0mon_train_batch_begin\u001b[0m\u001b[1;33m(\u001b[0m\u001b[0mstep\u001b[0m\u001b[1;33m)\u001b[0m\u001b[1;33m\u001b[0m\u001b[1;33m\u001b[0m\u001b[0m\n\u001b[1;32m-> 1183\u001b[1;33m               \u001b[0mtmp_logs\u001b[0m \u001b[1;33m=\u001b[0m \u001b[0mself\u001b[0m\u001b[1;33m.\u001b[0m\u001b[0mtrain_function\u001b[0m\u001b[1;33m(\u001b[0m\u001b[0miterator\u001b[0m\u001b[1;33m)\u001b[0m\u001b[1;33m\u001b[0m\u001b[1;33m\u001b[0m\u001b[0m\n\u001b[0m\u001b[0;32m   1184\u001b[0m               \u001b[1;32mif\u001b[0m \u001b[0mdata_handler\u001b[0m\u001b[1;33m.\u001b[0m\u001b[0mshould_sync\u001b[0m\u001b[1;33m:\u001b[0m\u001b[1;33m\u001b[0m\u001b[1;33m\u001b[0m\u001b[0m\n\u001b[0;32m   1185\u001b[0m                 \u001b[0mcontext\u001b[0m\u001b[1;33m.\u001b[0m\u001b[0masync_wait\u001b[0m\u001b[1;33m(\u001b[0m\u001b[1;33m)\u001b[0m\u001b[1;33m\u001b[0m\u001b[1;33m\u001b[0m\u001b[0m\n",
      "\u001b[1;32m~\\anaconda3\\lib\\site-packages\\tensorflow\\python\\eager\\def_function.py\u001b[0m in \u001b[0;36m__call__\u001b[1;34m(self, *args, **kwds)\u001b[0m\n\u001b[0;32m    887\u001b[0m \u001b[1;33m\u001b[0m\u001b[0m\n\u001b[0;32m    888\u001b[0m       \u001b[1;32mwith\u001b[0m \u001b[0mOptionalXlaContext\u001b[0m\u001b[1;33m(\u001b[0m\u001b[0mself\u001b[0m\u001b[1;33m.\u001b[0m\u001b[0m_jit_compile\u001b[0m\u001b[1;33m)\u001b[0m\u001b[1;33m:\u001b[0m\u001b[1;33m\u001b[0m\u001b[1;33m\u001b[0m\u001b[0m\n\u001b[1;32m--> 889\u001b[1;33m         \u001b[0mresult\u001b[0m \u001b[1;33m=\u001b[0m \u001b[0mself\u001b[0m\u001b[1;33m.\u001b[0m\u001b[0m_call\u001b[0m\u001b[1;33m(\u001b[0m\u001b[1;33m*\u001b[0m\u001b[0margs\u001b[0m\u001b[1;33m,\u001b[0m \u001b[1;33m**\u001b[0m\u001b[0mkwds\u001b[0m\u001b[1;33m)\u001b[0m\u001b[1;33m\u001b[0m\u001b[1;33m\u001b[0m\u001b[0m\n\u001b[0m\u001b[0;32m    890\u001b[0m \u001b[1;33m\u001b[0m\u001b[0m\n\u001b[0;32m    891\u001b[0m       \u001b[0mnew_tracing_count\u001b[0m \u001b[1;33m=\u001b[0m \u001b[0mself\u001b[0m\u001b[1;33m.\u001b[0m\u001b[0mexperimental_get_tracing_count\u001b[0m\u001b[1;33m(\u001b[0m\u001b[1;33m)\u001b[0m\u001b[1;33m\u001b[0m\u001b[1;33m\u001b[0m\u001b[0m\n",
      "\u001b[1;32m~\\anaconda3\\lib\\site-packages\\tensorflow\\python\\eager\\def_function.py\u001b[0m in \u001b[0;36m_call\u001b[1;34m(self, *args, **kwds)\u001b[0m\n\u001b[0;32m    915\u001b[0m       \u001b[1;31m# In this case we have created variables on the first call, so we run the\u001b[0m\u001b[1;33m\u001b[0m\u001b[1;33m\u001b[0m\u001b[1;33m\u001b[0m\u001b[0m\n\u001b[0;32m    916\u001b[0m       \u001b[1;31m# defunned version which is guaranteed to never create variables.\u001b[0m\u001b[1;33m\u001b[0m\u001b[1;33m\u001b[0m\u001b[1;33m\u001b[0m\u001b[0m\n\u001b[1;32m--> 917\u001b[1;33m       \u001b[1;32mreturn\u001b[0m \u001b[0mself\u001b[0m\u001b[1;33m.\u001b[0m\u001b[0m_stateless_fn\u001b[0m\u001b[1;33m(\u001b[0m\u001b[1;33m*\u001b[0m\u001b[0margs\u001b[0m\u001b[1;33m,\u001b[0m \u001b[1;33m**\u001b[0m\u001b[0mkwds\u001b[0m\u001b[1;33m)\u001b[0m  \u001b[1;31m# pylint: disable=not-callable\u001b[0m\u001b[1;33m\u001b[0m\u001b[1;33m\u001b[0m\u001b[0m\n\u001b[0m\u001b[0;32m    918\u001b[0m     \u001b[1;32melif\u001b[0m \u001b[0mself\u001b[0m\u001b[1;33m.\u001b[0m\u001b[0m_stateful_fn\u001b[0m \u001b[1;32mis\u001b[0m \u001b[1;32mnot\u001b[0m \u001b[1;32mNone\u001b[0m\u001b[1;33m:\u001b[0m\u001b[1;33m\u001b[0m\u001b[1;33m\u001b[0m\u001b[0m\n\u001b[0;32m    919\u001b[0m       \u001b[1;31m# Release the lock early so that multiple threads can perform the call\u001b[0m\u001b[1;33m\u001b[0m\u001b[1;33m\u001b[0m\u001b[1;33m\u001b[0m\u001b[0m\n",
      "\u001b[1;32m~\\anaconda3\\lib\\site-packages\\tensorflow\\python\\eager\\function.py\u001b[0m in \u001b[0;36m__call__\u001b[1;34m(self, *args, **kwargs)\u001b[0m\n\u001b[0;32m   3021\u001b[0m       (graph_function,\n\u001b[0;32m   3022\u001b[0m        filtered_flat_args) = self._maybe_define_function(args, kwargs)\n\u001b[1;32m-> 3023\u001b[1;33m     return graph_function._call_flat(\n\u001b[0m\u001b[0;32m   3024\u001b[0m         filtered_flat_args, captured_inputs=graph_function.captured_inputs)  # pylint: disable=protected-access\n\u001b[0;32m   3025\u001b[0m \u001b[1;33m\u001b[0m\u001b[0m\n",
      "\u001b[1;32m~\\anaconda3\\lib\\site-packages\\tensorflow\\python\\eager\\function.py\u001b[0m in \u001b[0;36m_call_flat\u001b[1;34m(self, args, captured_inputs, cancellation_manager)\u001b[0m\n\u001b[0;32m   1958\u001b[0m         and executing_eagerly):\n\u001b[0;32m   1959\u001b[0m       \u001b[1;31m# No tape is watching; skip to running the function.\u001b[0m\u001b[1;33m\u001b[0m\u001b[1;33m\u001b[0m\u001b[1;33m\u001b[0m\u001b[0m\n\u001b[1;32m-> 1960\u001b[1;33m       return self._build_call_outputs(self._inference_function.call(\n\u001b[0m\u001b[0;32m   1961\u001b[0m           ctx, args, cancellation_manager=cancellation_manager))\n\u001b[0;32m   1962\u001b[0m     forward_backward = self._select_forward_and_backward_functions(\n",
      "\u001b[1;32m~\\anaconda3\\lib\\site-packages\\tensorflow\\python\\eager\\function.py\u001b[0m in \u001b[0;36mcall\u001b[1;34m(self, ctx, args, cancellation_manager)\u001b[0m\n\u001b[0;32m    589\u001b[0m       \u001b[1;32mwith\u001b[0m \u001b[0m_InterpolateFunctionError\u001b[0m\u001b[1;33m(\u001b[0m\u001b[0mself\u001b[0m\u001b[1;33m)\u001b[0m\u001b[1;33m:\u001b[0m\u001b[1;33m\u001b[0m\u001b[1;33m\u001b[0m\u001b[0m\n\u001b[0;32m    590\u001b[0m         \u001b[1;32mif\u001b[0m \u001b[0mcancellation_manager\u001b[0m \u001b[1;32mis\u001b[0m \u001b[1;32mNone\u001b[0m\u001b[1;33m:\u001b[0m\u001b[1;33m\u001b[0m\u001b[1;33m\u001b[0m\u001b[0m\n\u001b[1;32m--> 591\u001b[1;33m           outputs = execute.execute(\n\u001b[0m\u001b[0;32m    592\u001b[0m               \u001b[0mstr\u001b[0m\u001b[1;33m(\u001b[0m\u001b[0mself\u001b[0m\u001b[1;33m.\u001b[0m\u001b[0msignature\u001b[0m\u001b[1;33m.\u001b[0m\u001b[0mname\u001b[0m\u001b[1;33m)\u001b[0m\u001b[1;33m,\u001b[0m\u001b[1;33m\u001b[0m\u001b[1;33m\u001b[0m\u001b[0m\n\u001b[0;32m    593\u001b[0m               \u001b[0mnum_outputs\u001b[0m\u001b[1;33m=\u001b[0m\u001b[0mself\u001b[0m\u001b[1;33m.\u001b[0m\u001b[0m_num_outputs\u001b[0m\u001b[1;33m,\u001b[0m\u001b[1;33m\u001b[0m\u001b[1;33m\u001b[0m\u001b[0m\n",
      "\u001b[1;32m~\\anaconda3\\lib\\site-packages\\tensorflow\\python\\eager\\execute.py\u001b[0m in \u001b[0;36mquick_execute\u001b[1;34m(op_name, num_outputs, inputs, attrs, ctx, name)\u001b[0m\n\u001b[0;32m     57\u001b[0m   \u001b[1;32mtry\u001b[0m\u001b[1;33m:\u001b[0m\u001b[1;33m\u001b[0m\u001b[1;33m\u001b[0m\u001b[0m\n\u001b[0;32m     58\u001b[0m     \u001b[0mctx\u001b[0m\u001b[1;33m.\u001b[0m\u001b[0mensure_initialized\u001b[0m\u001b[1;33m(\u001b[0m\u001b[1;33m)\u001b[0m\u001b[1;33m\u001b[0m\u001b[1;33m\u001b[0m\u001b[0m\n\u001b[1;32m---> 59\u001b[1;33m     tensors = pywrap_tfe.TFE_Py_Execute(ctx._handle, device_name, op_name,\n\u001b[0m\u001b[0;32m     60\u001b[0m                                         inputs, attrs, num_outputs)\n\u001b[0;32m     61\u001b[0m   \u001b[1;32mexcept\u001b[0m \u001b[0mcore\u001b[0m\u001b[1;33m.\u001b[0m\u001b[0m_NotOkStatusException\u001b[0m \u001b[1;32mas\u001b[0m \u001b[0me\u001b[0m\u001b[1;33m:\u001b[0m\u001b[1;33m\u001b[0m\u001b[1;33m\u001b[0m\u001b[0m\n",
      "\u001b[1;31mKeyboardInterrupt\u001b[0m: "
     ]
    }
   ],
   "source": [
    "# 1. 모델 생성 best!!!!!!!!!!!!!!!!!!\n",
    "model = Sequential()\n",
    "model.add(GRU(\n",
    "    units=128,\n",
    "    batch_input_shape=(1, 40, 1), \n",
    "    stateful=True\n",
    "))\n",
    "model.add(Dense(\n",
    "    units=one_hot_vec_size,     \n",
    "    activation='softmax'\n",
    "))\n",
    "# 2. 모델 학습과정 설정\n",
    "model.compile(\n",
    "    loss='categorical_crossentropy',\n",
    "    optimizer='adam',\n",
    "    metrics=['accuracy']\n",
    ")\n",
    "# 3. 모델 학습시키기\n",
    "class LossHistory(Callback):\n",
    "    def __init__(self):\n",
    "        self.epoch = 0\n",
    "        self.losses = []\n",
    "        self.accuracy = []\n",
    "    def on_epoch_end(self, batch, logs={}):\n",
    "        self.losses.append(logs.get('loss'))\n",
    "        self.accuracy.append(logs.get('accuracy'))\n",
    "        if self.epoch % 100 == 0:\n",
    "            print(\"epoch: {0} - loss: {1:8.6f}, acc : {2:8.6f}\".\\\n",
    "                  format(self.epoch, logs.get('loss'), logs.get('accuracy')))\n",
    "        self.epoch += 1\n",
    "history = LossHistory()\n",
    "for epoch in range(3000):\n",
    "    model.fit(x_train, y_train, epochs=1, batch_size=1, verbose=0, shuffle=False,\n",
    "             callbacks=[history])\n",
    "    if (history.losses[-1] < 1e-5) & (history.accuracy[-1] > 0.99):\n",
    "        print(\"epoch:{} - loss:{}, acc:{} - 종료\".\\\n",
    "              format(epoch, history.losses[-1], history.accuracy[-1]))\n",
    "        break;\n",
    "    model.reset_states() # 훈련할 때마다 이전 데이터와 상관없이 다른 데이터라고 판단"
   ]
  },
  {
   "cell_type": "code",
   "execution_count": null,
   "id": "efdfbbe6",
   "metadata": {
    "ExecuteTime": {
     "end_time": "2021-09-06T10:23:23.296903Z",
     "start_time": "2021-09-06T10:23:22.346084Z"
    }
   },
   "outputs": [],
   "source": [
    "seq_in = [0.25]\n",
    "seq_out = seq_in\n",
    "seq_in = (seq_in-min_yeoksam_num)/(max_yeoksam_num-min_yeoksam_num)\n",
    "for i in range(1562):\n",
    "    sample_in = np.array(seq_in)\n",
    "    sample_in = np.reshape(sample_in, (1, 4, 1)) # 샘플 수, 타입스텝 수, 속성 수\n",
    "    pred_out = model.predict(sample_in)\n",
    "    idx = np.argmax(pred_out)+1\n",
    "    np.append(seq_out, idx)\n",
    "    np.append(seq_in, (idx -min_yeoksam_num)/(max_yeoksam_num-min_yeoksam_num))\n",
    "    seq_in.pop(0)\n",
    "\n",
    "model.reset_states()"
   ]
  },
  {
   "cell_type": "code",
   "execution_count": null,
   "id": "d9cb78c3",
   "metadata": {
    "ExecuteTime": {
     "end_time": "2021-09-06T10:26:52.284379Z",
     "start_time": "2021-09-06T10:26:52.278376Z"
    }
   },
   "outputs": [],
   "source": [
    "x_train[0]"
   ]
  },
  {
   "cell_type": "code",
   "execution_count": null,
   "id": "a46a673c",
   "metadata": {
    "ExecuteTime": {
     "end_time": "2021-09-07T06:42:30.620262Z",
     "start_time": "2021-09-07T06:41:44.951160Z"
    }
   },
   "outputs": [],
   "source": [
    "seq_in = [3,2,1,5]\n",
    "seq_out = seq_in\n",
    "seq_in = [ (it-min_yeoksam_num)/(max_yeoksam_num-min_yeoksam_num) for it in seq_in] \n",
    "for i in range(1562):\n",
    "    sample_in = np.array(seq_in)\n",
    "    sample_in = np.reshape(sample_in, (1, 4, 1)) \n",
    "    pred_out = model.predict(sample_in)\n",
    "    idx = np.argmax(pred_out)+1\n",
    "    seq_out.append(idx)\n",
    "    seq_in.append((idx-min_yeoksam_num)/(max_yeoksam_num-min_yeoksam_num))\n",
    "    seq_in.pop(0)\n",
    "\n",
    "model.reset_states()"
   ]
  },
  {
   "cell_type": "code",
   "execution_count": null,
   "id": "6c759cb7",
   "metadata": {
    "ExecuteTime": {
     "end_time": "2021-09-07T06:42:32.202590Z",
     "start_time": "2021-09-07T06:42:32.018389Z"
    }
   },
   "outputs": [],
   "source": [
    "plt.plot(np.array(seq_out[0:100]))"
   ]
  },
  {
   "cell_type": "code",
   "execution_count": null,
   "id": "fd224d4f",
   "metadata": {
    "ExecuteTime": {
     "end_time": "2021-09-07T06:42:33.635484Z",
     "start_time": "2021-09-07T06:42:33.482638Z"
    }
   },
   "outputs": [],
   "source": [
    "plt.plot(np.array(yeoksam_num)[0:100])"
   ]
  },
  {
   "cell_type": "code",
   "execution_count": null,
   "id": "4c663d2b",
   "metadata": {},
   "outputs": [],
   "source": [
    "plt.plot(np.array(seq_out[0:50]))"
   ]
  },
  {
   "cell_type": "code",
   "execution_count": null,
   "id": "f182743e",
   "metadata": {
    "ExecuteTime": {
     "end_time": "2021-09-06T10:50:38.985800Z",
     "start_time": "2021-09-06T10:50:38.979817Z"
    }
   },
   "outputs": [],
   "source": [
    "(y_train.argmax(axis=1)+1) # 1 1 4 3 3 1"
   ]
  },
  {
   "cell_type": "code",
   "execution_count": null,
   "id": "b830bbb9",
   "metadata": {
    "ExecuteTime": {
     "end_time": "2021-09-07T02:27:33.254579Z",
     "start_time": "2021-09-07T02:27:33.243581Z"
    }
   },
   "outputs": [],
   "source": [
    "np.array(yeoksam_num)[0:30]"
   ]
  },
  {
   "cell_type": "code",
   "execution_count": null,
   "id": "ecce3aaa",
   "metadata": {
    "ExecuteTime": {
     "end_time": "2021-09-07T02:27:52.062164Z",
     "start_time": "2021-09-07T02:27:52.051208Z"
    }
   },
   "outputs": [],
   "source": [
    "np.array(seq_out[0:30])"
   ]
  },
  {
   "cell_type": "code",
   "execution_count": null,
   "id": "cfc973d5",
   "metadata": {
    "ExecuteTime": {
     "end_time": "2021-09-07T06:29:14.850072Z",
     "start_time": "2021-09-07T06:29:14.830125Z"
    }
   },
   "outputs": [],
   "source": [
    "np.array(seq_out[0:50])"
   ]
  },
  {
   "cell_type": "code",
   "execution_count": null,
   "id": "8602787a",
   "metadata": {
    "ExecuteTime": {
     "end_time": "2021-09-07T06:38:26.803168Z",
     "start_time": "2021-09-07T06:38:26.586155Z"
    }
   },
   "outputs": [],
   "source": [
    "#model.save('yeoksammodel.h5') #50개"
   ]
  },
  {
   "cell_type": "code",
   "execution_count": null,
   "id": "ac640276",
   "metadata": {
    "ExecuteTime": {
     "end_time": "2021-09-07T06:41:40.194355Z",
     "start_time": "2021-09-07T06:41:39.934502Z"
    }
   },
   "outputs": [],
   "source": [
    "model=models.load_model('yeoksammodel.h5')"
   ]
  },
  {
   "cell_type": "code",
   "execution_count": null,
   "id": "9a0d166e",
   "metadata": {},
   "outputs": [],
   "source": []
  }
 ],
 "metadata": {
  "kernelspec": {
   "display_name": "Python 3",
   "language": "python",
   "name": "python3"
  },
  "language_info": {
   "codemirror_mode": {
    "name": "ipython",
    "version": 3
   },
   "file_extension": ".py",
   "mimetype": "text/x-python",
   "name": "python",
   "nbconvert_exporter": "python",
   "pygments_lexer": "ipython3",
   "version": "3.8.8"
  },
  "toc": {
   "base_numbering": 1,
   "nav_menu": {},
   "number_sections": true,
   "sideBar": true,
   "skip_h1_title": false,
   "title_cell": "Table of Contents",
   "title_sidebar": "Contents",
   "toc_cell": false,
   "toc_position": {},
   "toc_section_display": true,
   "toc_window_display": false
  },
  "varInspector": {
   "cols": {
    "lenName": 16,
    "lenType": 16,
    "lenVar": 40
   },
   "kernels_config": {
    "python": {
     "delete_cmd_postfix": "",
     "delete_cmd_prefix": "del ",
     "library": "var_list.py",
     "varRefreshCmd": "print(var_dic_list())"
    },
    "r": {
     "delete_cmd_postfix": ") ",
     "delete_cmd_prefix": "rm(",
     "library": "var_list.r",
     "varRefreshCmd": "cat(var_dic_list()) "
    }
   },
   "types_to_exclude": [
    "module",
    "function",
    "builtin_function_or_method",
    "instance",
    "_Feature"
   ],
   "window_display": false
  }
 },
 "nbformat": 4,
 "nbformat_minor": 5
}
