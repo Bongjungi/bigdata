{
 "cells": [
  {
   "cell_type": "code",
   "execution_count": 1,
   "id": "8fc827dd",
   "metadata": {
    "ExecuteTime": {
     "end_time": "2021-09-15T07:47:00.650167Z",
     "start_time": "2021-09-15T07:46:56.806952Z"
    }
   },
   "outputs": [],
   "source": [
    "import pandas as pd\n",
    "from matplotlib import pyplot as plt\n",
    "%matplotlib inline\n",
    "%config InlineBackend.figure_format = 'retina'\n",
    "import warnings\n",
    "warnings.filterwarnings(action='ignore')\n",
    "import numpy as np\n",
    "plt.rc('font', family='Malgun Gothic') \n",
    "plt.rc('axes', unicode_minus=False)\n",
    "import matplotlib.font_manager as fm\n",
    "font_path = 'C:\\Windows\\Fonts\\HMFMPYUN.TTF'\n",
    "font_prop = fm.FontProperties(fname=font_path, size=20)\n",
    "from sklearn.preprocessing import MinMaxScaler\n",
    "from tensorflow.keras.models import Sequential\n",
    "from tensorflow.keras.layers import Dense, LSTM, GRU, Dropout,Embedding, SimpleRNN, Flatten, Conv1D, GlobalMaxPooling1D, MaxPooling1D\n",
    "from tensorflow.keras import models\n",
    "import seaborn as sns\n",
    "import tensorflow.keras.utils as utils\n",
    "from tensorflow.keras.callbacks import Callback"
   ]
  },
  {
   "cell_type": "code",
   "execution_count": 2,
   "id": "be358296",
   "metadata": {
    "ExecuteTime": {
     "end_time": "2021-09-15T07:47:00.728574Z",
     "start_time": "2021-09-15T07:47:00.667496Z"
    }
   },
   "outputs": [],
   "source": [
    "suwon=pd.read_csv('data/suwon_dnn.csv', encoding='cp949', index_col=0)"
   ]
  },
  {
   "cell_type": "code",
   "execution_count": 3,
   "id": "98fa0a78",
   "metadata": {
    "ExecuteTime": {
     "end_time": "2021-09-15T07:47:00.776241Z",
     "start_time": "2021-09-15T07:47:00.761493Z"
    }
   },
   "outputs": [],
   "source": [
    "suwon=suwon[['요일', '노면상태', '기상상태', '도로형태', '가해운전자_차종', '가해운전자_성별',\n",
    "       '가해운전자_연령', '행정동', '발생월', '발생시간','사고내용']]"
   ]
  },
  {
   "cell_type": "code",
   "execution_count": 4,
   "id": "ff6bee13",
   "metadata": {
    "ExecuteTime": {
     "end_time": "2021-09-15T07:47:00.917963Z",
     "start_time": "2021-09-15T07:47:00.794195Z"
    }
   },
   "outputs": [],
   "source": [
    "suwon=suwon[suwon['행정동']!='수원시']"
   ]
  },
  {
   "cell_type": "code",
   "execution_count": 5,
   "id": "3bea7e76",
   "metadata": {
    "ExecuteTime": {
     "end_time": "2021-09-15T07:47:01.042403Z",
     "start_time": "2021-09-15T07:47:00.935468Z"
    }
   },
   "outputs": [
    {
     "name": "stdout",
     "output_type": "stream",
     "text": [
      "<class 'pandas.core.frame.DataFrame'>\n",
      "Int64Index: 23774 entries, 1 to 24359\n",
      "Data columns (total 11 columns):\n",
      " #   Column    Non-Null Count  Dtype \n",
      "---  ------    --------------  ----- \n",
      " 0   요일        23774 non-null  object\n",
      " 1   노면상태      23774 non-null  object\n",
      " 2   기상상태      23774 non-null  object\n",
      " 3   도로형태      23774 non-null  object\n",
      " 4   가해운전자_차종  23774 non-null  object\n",
      " 5   가해운전자_성별  23774 non-null  object\n",
      " 6   가해운전자_연령  23774 non-null  int64 \n",
      " 7   행정동       23774 non-null  object\n",
      " 8   발생월       23774 non-null  int64 \n",
      " 9   발생시간      23774 non-null  int64 \n",
      " 10  사고내용      23774 non-null  int64 \n",
      "dtypes: int64(4), object(7)\n",
      "memory usage: 2.2+ MB\n"
     ]
    }
   ],
   "source": [
    "suwon.info()"
   ]
  },
  {
   "cell_type": "code",
   "execution_count": 6,
   "id": "f195edcb",
   "metadata": {
    "ExecuteTime": {
     "end_time": "2021-09-15T07:47:01.338961Z",
     "start_time": "2021-09-15T07:47:01.314999Z"
    }
   },
   "outputs": [
    {
     "data": {
      "text/plain": [
       "요일          0\n",
       "노면상태        0\n",
       "기상상태        0\n",
       "도로형태        0\n",
       "가해운전자_차종    0\n",
       "가해운전자_성별    0\n",
       "가해운전자_연령    0\n",
       "행정동         0\n",
       "발생월         0\n",
       "발생시간        0\n",
       "사고내용        0\n",
       "dtype: int64"
      ]
     },
     "execution_count": 6,
     "metadata": {},
     "output_type": "execute_result"
    }
   ],
   "source": [
    "suwon.isna().sum()"
   ]
  },
  {
   "cell_type": "code",
   "execution_count": 7,
   "id": "7f1c0a1c",
   "metadata": {
    "ExecuteTime": {
     "end_time": "2021-09-15T07:47:01.621254Z",
     "start_time": "2021-09-15T07:47:01.516023Z"
    }
   },
   "outputs": [
    {
     "data": {
      "text/plain": [
       "Index(['요일', '노면상태', '기상상태', '도로형태', '가해운전자_차종', '가해운전자_성별', '가해운전자_연령', '행정동',\n",
       "       '발생월', '발생시간', '사고내용'],\n",
       "      dtype='object')"
      ]
     },
     "execution_count": 7,
     "metadata": {},
     "output_type": "execute_result"
    }
   ],
   "source": [
    "suwon.columns"
   ]
  },
  {
   "cell_type": "code",
   "execution_count": 8,
   "id": "33b55561",
   "metadata": {
    "ExecuteTime": {
     "end_time": "2021-09-15T07:47:02.291064Z",
     "start_time": "2021-09-15T07:47:02.275106Z"
    }
   },
   "outputs": [],
   "source": [
    "yoil2idx={'일요일':6 , '월요일':0, '화요일':1, '수요일':2, '목요일':3, '금요일':4, '토요일':5}"
   ]
  },
  {
   "cell_type": "code",
   "execution_count": 9,
   "id": "6cda4c79",
   "metadata": {
    "ExecuteTime": {
     "end_time": "2021-09-15T07:47:02.650461Z",
     "start_time": "2021-09-15T07:47:02.645476Z"
    }
   },
   "outputs": [],
   "source": [
    "nom2idx={'포장 - 건조':7, '포장 - 습기':8, '포장 - 결빙':9, '포장 - 적설':10, '포장 - 기타':11, '비포장 - 습기':12, '비포장 - 건조':13, '포장 - 젖음/습기':14, '포장 - 서리/결빙':15, '비포장 - 젖음/습기':16, '포장 - 해빙':17, '포장 - 침수':18}"
   ]
  },
  {
   "cell_type": "code",
   "execution_count": 10,
   "id": "de7482f4",
   "metadata": {
    "ExecuteTime": {
     "end_time": "2021-09-15T07:47:02.960186Z",
     "start_time": "2021-09-15T07:47:02.872604Z"
    }
   },
   "outputs": [],
   "source": [
    "gs2idx={'맑음':19, '흐림':20, '안개':21, '눈':22, '비':23, '기타':24}"
   ]
  },
  {
   "cell_type": "code",
   "execution_count": 11,
   "id": "55e738b9",
   "metadata": {
    "ExecuteTime": {
     "end_time": "2021-09-15T07:47:03.070437Z",
     "start_time": "2021-09-15T07:47:03.059466Z"
    }
   },
   "outputs": [],
   "source": [
    "doro2idx={'단일로 - 기타':25, '교차로 - 교차로부근':26, '교차로 - 교차로안':27, '단일로 - 횡단보도상':28, '단일로 - 횡단보도부근':29, '미분류 - 미분류':30, '기타 - 기타':31, '단일로 - 터널':32, '단일로 - 교량':33, '교차로 - 교차로횡단보도내':34, '단일로 - 지하차도(도로)내':35, '단일로 - 고가도로위':36, '주차장 - 주차장':37}"
   ]
  },
  {
   "cell_type": "code",
   "execution_count": 12,
   "id": "e96c744c",
   "metadata": {
    "ExecuteTime": {
     "end_time": "2021-09-15T07:47:03.287989Z",
     "start_time": "2021-09-15T07:47:03.281007Z"
    }
   },
   "outputs": [],
   "source": [
    "gacha2idx={'승용':38, '화물':39, '승합':40, '이륜':41, '원동기':42, '자전거':43, '건설기계':44, '특수':45, '농기계':46, '기타불명':47, '사륜오토바이(ATV)':48, '개인형이동수단(PM)':49}"
   ]
  },
  {
   "cell_type": "code",
   "execution_count": 13,
   "id": "d671bfff",
   "metadata": {
    "ExecuteTime": {
     "end_time": "2021-09-15T07:47:03.489489Z",
     "start_time": "2021-09-15T07:47:03.473501Z"
    }
   },
   "outputs": [],
   "source": [
    "gasung2idx={'남':50, '여':51}"
   ]
  },
  {
   "cell_type": "code",
   "execution_count": 14,
   "id": "7da98038",
   "metadata": {
    "ExecuteTime": {
     "end_time": "2021-09-15T07:47:03.675752Z",
     "start_time": "2021-09-15T07:47:03.664754Z"
    }
   },
   "outputs": [
    {
     "data": {
      "text/plain": [
       "array([42, 57, 26, 23, 31, 36, 48, 28, 54, 47, 49, 32, 27, 29, 50, 33, 55,\n",
       "       22, 41, 60, 46, 64, 43, 58, 72, 12, 53, 51, 56, 69, 24, 63, 19, 74,\n",
       "       71, 59, 45, 77, 35, 82, 52, 62, 61, 30, 39, 18, 44, 17, 40, 25, 21,\n",
       "       20, 37, 16, 38, 73, 66, 67, 68, 76, 70, 34, 13, 80, 65,  8, 75, 79,\n",
       "       78, 14, 15, 11, 81,  9, 10,  6, 83, 85,  7, 84, 86, 88,  4, 87, 89,\n",
       "       96], dtype=int64)"
      ]
     },
     "execution_count": 14,
     "metadata": {},
     "output_type": "execute_result"
    }
   ],
   "source": [
    "suwon[suwon.columns[6]].unique() # +52"
   ]
  },
  {
   "cell_type": "code",
   "execution_count": 15,
   "id": "591503ee",
   "metadata": {
    "ExecuteTime": {
     "end_time": "2021-09-15T07:47:04.931058Z",
     "start_time": "2021-09-15T07:47:04.914089Z"
    }
   },
   "outputs": [],
   "source": [
    "dong2idx={'대황교동':149, '인계동':150, '우만동':151, '영통동':152, '세류동':153, '파장동':154, '권선동':155, '송죽동':156, '영화동':157,\n",
    "       '정자동':158, '곡반정동':159, '이의동':160, '화서동':161, '고색동':162, '서둔동':163, '입북동':164, '원천동':165, '조원동':166,\n",
    "       '연무동':167, '매탄동':168, '이목동':169, '망포동':170, '평동':171, '매교동':172, '탑동':173, '신동':174, '매산로1가':175,\n",
    "       '율전동':176, '금곡동':177, '하동':178, '천천동':179, '북수동':180, '팔달로3가':181, '지동':182, '중동':183, '남수동':184,\n",
    "       '하광교동':185, '당수동':186, '구운동':187, '고등동':188, '팔달로1가':189, '영동':190, '매산로2가':191, '교동':192, '팔달로2가':193,\n",
    "       '매향동':194, '오목천동':195, '매산로3가':196, '호매실동':197, '구천동':198, '신풍동':199, '상광교동':200, '평리동':201, '장안동':202,\n",
    "       '장지동':203, '남창동':204}"
   ]
  },
  {
   "cell_type": "code",
   "execution_count": 16,
   "id": "0f3eb14c",
   "metadata": {
    "ExecuteTime": {
     "end_time": "2021-09-15T07:47:05.433392Z",
     "start_time": "2021-09-15T07:47:05.422410Z"
    }
   },
   "outputs": [
    {
     "data": {
      "text/plain": [
       "array([ 1,  2,  3,  4,  5,  6,  7,  8,  9, 10, 11, 12], dtype=int64)"
      ]
     },
     "execution_count": 16,
     "metadata": {},
     "output_type": "execute_result"
    }
   ],
   "source": [
    "suwon[suwon.columns[8]].unique() # +204"
   ]
  },
  {
   "cell_type": "code",
   "execution_count": 17,
   "id": "4cce8ea5",
   "metadata": {
    "ExecuteTime": {
     "end_time": "2021-09-15T07:47:05.589896Z",
     "start_time": "2021-09-15T07:47:05.581937Z"
    }
   },
   "outputs": [
    {
     "data": {
      "text/plain": [
       "array([ 4,  5,  6, 11, 12, 15, 18,  1,  9, 16, 19, 22, 23,  3, 13, 17, 20,\n",
       "        7,  8, 10, 21,  0, 14,  2], dtype=int64)"
      ]
     },
     "execution_count": 17,
     "metadata": {},
     "output_type": "execute_result"
    }
   ],
   "source": [
    "suwon[suwon.columns[9]].unique() # +217"
   ]
  },
  {
   "cell_type": "code",
   "execution_count": 18,
   "id": "7eb3dd97",
   "metadata": {
    "ExecuteTime": {
     "end_time": "2021-09-15T07:47:06.024515Z",
     "start_time": "2021-09-15T07:47:06.012543Z"
    }
   },
   "outputs": [],
   "source": [
    "suwon_cp=suwon.copy()"
   ]
  },
  {
   "cell_type": "code",
   "execution_count": 19,
   "id": "00cd6b6d",
   "metadata": {
    "ExecuteTime": {
     "end_time": "2021-09-15T07:47:07.442106Z",
     "start_time": "2021-09-15T07:47:07.426142Z"
    }
   },
   "outputs": [],
   "source": [
    "suwon_cp['요일']=suwon_cp['요일'].map(yoil2idx)"
   ]
  },
  {
   "cell_type": "code",
   "execution_count": 20,
   "id": "3f4a9d59",
   "metadata": {
    "ExecuteTime": {
     "end_time": "2021-09-15T07:47:07.878915Z",
     "start_time": "2021-09-15T07:47:07.868897Z"
    }
   },
   "outputs": [],
   "source": [
    "#suwon_cp['요일']=(suwon_cp['요일']*(len(yoil2idx)-1)).map(idx2yoil)"
   ]
  },
  {
   "cell_type": "code",
   "execution_count": 21,
   "id": "90b4f78d",
   "metadata": {
    "ExecuteTime": {
     "end_time": "2021-09-15T07:47:08.931740Z",
     "start_time": "2021-09-15T07:47:08.910806Z"
    }
   },
   "outputs": [],
   "source": [
    "suwon_cp['노면상태']=suwon_cp['노면상태'].map(nom2idx)"
   ]
  },
  {
   "cell_type": "code",
   "execution_count": 22,
   "id": "4e26f06b",
   "metadata": {
    "ExecuteTime": {
     "end_time": "2021-09-15T07:47:09.385826Z",
     "start_time": "2021-09-15T07:47:09.372873Z"
    }
   },
   "outputs": [],
   "source": [
    "suwon_cp['기상상태']=suwon_cp['기상상태'].map(gs2idx)"
   ]
  },
  {
   "cell_type": "code",
   "execution_count": 23,
   "id": "1d4920d4",
   "metadata": {
    "ExecuteTime": {
     "end_time": "2021-09-15T07:47:09.574002Z",
     "start_time": "2021-09-15T07:47:09.553058Z"
    }
   },
   "outputs": [],
   "source": [
    "suwon_cp['도로형태']=suwon_cp['도로형태'].map(doro2idx)"
   ]
  },
  {
   "cell_type": "code",
   "execution_count": 24,
   "id": "80b079ef",
   "metadata": {
    "ExecuteTime": {
     "end_time": "2021-09-15T07:47:09.763818Z",
     "start_time": "2021-09-15T07:47:09.742865Z"
    }
   },
   "outputs": [],
   "source": [
    "suwon_cp['가해운전자_차종']=suwon_cp['가해운전자_차종'].map(gacha2idx)"
   ]
  },
  {
   "cell_type": "code",
   "execution_count": 25,
   "id": "6e471ce0",
   "metadata": {
    "ExecuteTime": {
     "end_time": "2021-09-15T07:47:09.935331Z",
     "start_time": "2021-09-15T07:47:09.914360Z"
    }
   },
   "outputs": [],
   "source": [
    "suwon_cp['가해운전자_성별']=suwon_cp['가해운전자_성별'].map(gasung2idx)"
   ]
  },
  {
   "cell_type": "code",
   "execution_count": 26,
   "id": "249dfafd",
   "metadata": {
    "ExecuteTime": {
     "end_time": "2021-09-15T07:47:10.091508Z",
     "start_time": "2021-09-15T07:47:10.061470Z"
    }
   },
   "outputs": [],
   "source": [
    "suwon_cp['가해운전자_연령']=suwon_cp['가해운전자_연령']+52"
   ]
  },
  {
   "cell_type": "code",
   "execution_count": 27,
   "id": "21628a92",
   "metadata": {
    "ExecuteTime": {
     "end_time": "2021-09-15T07:47:10.727023Z",
     "start_time": "2021-09-15T07:47:10.712036Z"
    }
   },
   "outputs": [],
   "source": [
    "suwon_cp['행정동']=suwon_cp['행정동'].map(dong2idx)"
   ]
  },
  {
   "cell_type": "code",
   "execution_count": 28,
   "id": "26343838",
   "metadata": {
    "ExecuteTime": {
     "end_time": "2021-09-15T07:47:10.898934Z",
     "start_time": "2021-09-15T07:47:10.883966Z"
    }
   },
   "outputs": [],
   "source": [
    "suwon_cp['발생월']=suwon_cp['발생월']+204"
   ]
  },
  {
   "cell_type": "code",
   "execution_count": 29,
   "id": "9dd419ee",
   "metadata": {
    "ExecuteTime": {
     "end_time": "2021-09-15T07:47:11.056475Z",
     "start_time": "2021-09-15T07:47:11.037538Z"
    }
   },
   "outputs": [],
   "source": [
    "suwon_cp['발생시간']=suwon_cp['발생시간']+217"
   ]
  },
  {
   "cell_type": "code",
   "execution_count": 30,
   "id": "96475111",
   "metadata": {
    "ExecuteTime": {
     "end_time": "2021-09-15T07:47:11.528321Z",
     "start_time": "2021-09-15T07:47:11.512373Z"
    }
   },
   "outputs": [
    {
     "data": {
      "text/plain": [
       "Index(['요일', '노면상태', '기상상태', '도로형태', '가해운전자_차종', '가해운전자_성별', '가해운전자_연령', '행정동',\n",
       "       '발생월', '발생시간', '사고내용'],\n",
       "      dtype='object')"
      ]
     },
     "execution_count": 30,
     "metadata": {},
     "output_type": "execute_result"
    }
   ],
   "source": [
    "suwon.columns"
   ]
  },
  {
   "cell_type": "code",
   "execution_count": 31,
   "id": "a8a47b3b",
   "metadata": {
    "ExecuteTime": {
     "end_time": "2021-09-15T07:47:15.344822Z",
     "start_time": "2021-09-15T07:47:15.332847Z"
    }
   },
   "outputs": [],
   "source": [
    "dataset=suwon_cp.to_numpy()"
   ]
  },
  {
   "cell_type": "code",
   "execution_count": 32,
   "id": "6dd8a0f3",
   "metadata": {
    "ExecuteTime": {
     "end_time": "2021-09-15T07:47:17.772466Z",
     "start_time": "2021-09-15T07:47:17.757485Z"
    }
   },
   "outputs": [
    {
     "data": {
      "text/plain": [
       "array([[  4,   7,  19, ..., 205, 221,   1],\n",
       "       [  4,   7,  19, ..., 205, 221,   1],\n",
       "       [  4,   7,  19, ..., 205, 222,   0],\n",
       "       ...,\n",
       "       [  3,   7,  19, ..., 216, 235,   0],\n",
       "       [  3,   7,  19, ..., 216, 236,   0],\n",
       "       [  3,   7,  19, ..., 216, 236,   0]], dtype=int64)"
      ]
     },
     "execution_count": 32,
     "metadata": {},
     "output_type": "execute_result"
    }
   ],
   "source": [
    "dataset"
   ]
  },
  {
   "cell_type": "code",
   "execution_count": 33,
   "id": "1ea15e16",
   "metadata": {
    "ExecuteTime": {
     "end_time": "2021-09-15T07:47:19.073651Z",
     "start_time": "2021-09-15T07:47:19.066664Z"
    }
   },
   "outputs": [],
   "source": [
    "vocab_size=dataset.max()+1"
   ]
  },
  {
   "cell_type": "code",
   "execution_count": 34,
   "id": "deba73e4",
   "metadata": {
    "ExecuteTime": {
     "end_time": "2021-09-15T07:47:19.755642Z",
     "start_time": "2021-09-15T07:47:19.744642Z"
    }
   },
   "outputs": [],
   "source": [
    "X = dataset[:,:-1]\n",
    "Y = dataset[:,-1]\n"
   ]
  },
  {
   "cell_type": "code",
   "execution_count": 35,
   "id": "5b6a421c",
   "metadata": {
    "ExecuteTime": {
     "end_time": "2021-09-15T07:47:20.669694Z",
     "start_time": "2021-09-15T07:47:20.615476Z"
    }
   },
   "outputs": [
    {
     "data": {
      "text/plain": [
       "((19019, 10), (19019,), (4755, 10), (4755,))"
      ]
     },
     "execution_count": 35,
     "metadata": {},
     "output_type": "execute_result"
    }
   ],
   "source": [
    "from sklearn.model_selection import train_test_split\n",
    "X_train, X_test, Y_train, Y_test = train_test_split(X, Y, test_size=0.2)\n",
    "X_train.shape, Y_train.shape, X_test.shape, Y_test.shape"
   ]
  },
  {
   "cell_type": "code",
   "execution_count": null,
   "id": "6bacff15",
   "metadata": {
    "ExecuteTime": {
     "end_time": "2021-09-14T09:11:58.579081Z",
     "start_time": "2021-09-14T09:11:05.374908Z"
    }
   },
   "outputs": [],
   "source": [
    "model = Sequential()\n",
    "\n",
    "\n",
    "model.add(Embedding(input_dim=vocab_size, output_dim=vocab_size-1, input_length=X.shape[1]))\n",
    "model.add(SimpleRNN(256))\n",
    "model.add(Flatten())\n",
    "model.add(Dense(256, activation='relu'))\n",
    "model.add(Dense(1, activation='sigmoid'))\n",
    "\n",
    "model.compile(loss='binary_crossentropy', optimizer='adam', metrics=['accuracy'])\n",
    "\n",
    "hist=model.fit(X_train, Y_train, epochs=50, batch_size=50, verbose=2, validation_split=0.2)"
   ]
  },
  {
   "cell_type": "code",
   "execution_count": null,
   "id": "d6e6a8d2",
   "metadata": {},
   "outputs": [],
   "source": [
    "model = Sequential()\n",
    "\n",
    "\n",
    "model.add(Embedding(input_dim=vocab_size, output_dim=vocab_size-1, input_length=X.shape[1]))\n",
    "model.add(SimpleRNN(256))\n",
    "model.add(Flatten())\n",
    "model.add(Dense(256, activation='relu'))\n",
    "model.add(Dense(1, activation='sigmoid'))\n",
    "\n",
    "model.compile(loss='binary_crossentropy', optimizer='adam', metrics=['accuracy'])\n",
    "\n",
    "class LossHistory(Callback):\n",
    "    def __init__(self):\n",
    "        self.epoch = 0\n",
    "        self.losses = []\n",
    "        self.accuracy=[]\n",
    "        self.val_loss = []\n",
    "        self.val_accuracy = []\n",
    "    def on_epoch_end(self, batch, logs={}):\n",
    "        self.losses.append(logs.get('loss'))\n",
    "        self.accuracy.append(logs.get('accuracy'))\n",
    "        self.val_loss.append(logs.get('val_loss'))\n",
    "        self.val_accuracy.append(logs.get('val_accuracy'))\n",
    "        if self.epoch % 100 == 0:\n",
    "            print(\"epoch: {0} - loss: {1:8.6f} - acc: {2:8.6f} - val_loss: {3:8.6f} - val_acc: {4:8.6f}\".format(self.epoch, logs.get('loss'), logs.get('accuracy'), logs.get('val_loss'), logs.get('val_accuracy')))\n",
    "        self.epoch += 1\n",
    "history = LossHistory()\n",
    "for epoch in range(2000):\n",
    "    model.fit(X_train, Y_train, epochs=1, batch_size=1, verbose=0, shuffle=False, validation_data=(X_val,Y_val),\n",
    "             callbacks=[history])\n",
    "    if (history.losses[-1] < 1e-5):\n",
    "        print(\"epoch:{} - loss:{} - 종료\".\\\n",
    "              format(epoch, history.losses[-1]))\n",
    "        break;\n",
    "    model.reset_states() # 훈련할 때마다 이전 데이터와 상관없이 다른 데이터라고 판단"
   ]
  },
  {
   "cell_type": "code",
   "execution_count": 37,
   "id": "6942945a",
   "metadata": {
    "ExecuteTime": {
     "end_time": "2021-09-15T07:49:54.273878Z",
     "start_time": "2021-09-15T07:47:52.731254Z"
    }
   },
   "outputs": [
    {
     "name": "stdout",
     "output_type": "stream",
     "text": [
      "Epoch 1/50\n",
      "305/305 - 4s - loss: 0.5670 - accuracy: 0.7474 - val_loss: 0.5600 - val_accuracy: 0.7489\n",
      "Epoch 2/50\n",
      "305/305 - 2s - loss: 0.5597 - accuracy: 0.7476 - val_loss: 0.5635 - val_accuracy: 0.7487\n",
      "Epoch 3/50\n",
      "305/305 - 2s - loss: 0.5543 - accuracy: 0.7475 - val_loss: 0.5667 - val_accuracy: 0.7487\n",
      "Epoch 4/50\n",
      "305/305 - 2s - loss: 0.5482 - accuracy: 0.7476 - val_loss: 0.5707 - val_accuracy: 0.7479\n",
      "Epoch 5/50\n",
      "305/305 - 2s - loss: 0.5383 - accuracy: 0.7494 - val_loss: 0.5772 - val_accuracy: 0.7458\n",
      "Epoch 6/50\n",
      "305/305 - 2s - loss: 0.5260 - accuracy: 0.7537 - val_loss: 0.5858 - val_accuracy: 0.7440\n",
      "Epoch 7/50\n",
      "305/305 - 2s - loss: 0.5116 - accuracy: 0.7585 - val_loss: 0.5924 - val_accuracy: 0.7345\n",
      "Epoch 8/50\n",
      "305/305 - 3s - loss: 0.4938 - accuracy: 0.7663 - val_loss: 0.6230 - val_accuracy: 0.6903\n",
      "Epoch 9/50\n",
      "305/305 - 2s - loss: 0.4727 - accuracy: 0.7794 - val_loss: 0.6479 - val_accuracy: 0.6998\n",
      "Epoch 10/50\n",
      "305/305 - 2s - loss: 0.4514 - accuracy: 0.7894 - val_loss: 0.6726 - val_accuracy: 0.6853\n",
      "Epoch 11/50\n",
      "305/305 - 2s - loss: 0.4295 - accuracy: 0.8009 - val_loss: 0.7073 - val_accuracy: 0.6880\n",
      "Epoch 12/50\n",
      "305/305 - 2s - loss: 0.4045 - accuracy: 0.8136 - val_loss: 0.7815 - val_accuracy: 0.7111\n",
      "Epoch 13/50\n",
      "305/305 - 3s - loss: 0.3761 - accuracy: 0.8265 - val_loss: 0.8789 - val_accuracy: 0.6675\n",
      "Epoch 14/50\n",
      "305/305 - 2s - loss: 0.3560 - accuracy: 0.8346 - val_loss: 0.8514 - val_accuracy: 0.6627\n",
      "Epoch 15/50\n",
      "305/305 - 2s - loss: 0.3301 - accuracy: 0.8496 - val_loss: 0.8931 - val_accuracy: 0.6914\n",
      "Epoch 16/50\n",
      "305/305 - 2s - loss: 0.3108 - accuracy: 0.8613 - val_loss: 1.0557 - val_accuracy: 0.6774\n",
      "Epoch 17/50\n",
      "305/305 - 3s - loss: 0.2875 - accuracy: 0.8691 - val_loss: 1.0621 - val_accuracy: 0.6743\n",
      "Epoch 18/50\n",
      "305/305 - 2s - loss: 0.2628 - accuracy: 0.8836 - val_loss: 1.1127 - val_accuracy: 0.6472\n",
      "Epoch 19/50\n",
      "305/305 - 2s - loss: 0.2412 - accuracy: 0.8949 - val_loss: 1.1888 - val_accuracy: 0.6425\n",
      "Epoch 20/50\n",
      "305/305 - 2s - loss: 0.2243 - accuracy: 0.9024 - val_loss: 1.3053 - val_accuracy: 0.6635\n",
      "Epoch 21/50\n",
      "305/305 - 2s - loss: 0.2048 - accuracy: 0.9131 - val_loss: 1.3289 - val_accuracy: 0.6538\n",
      "Epoch 22/50\n",
      "305/305 - 2s - loss: 0.1741 - accuracy: 0.9282 - val_loss: 1.4378 - val_accuracy: 0.6228\n",
      "Epoch 23/50\n",
      "305/305 - 2s - loss: 0.1720 - accuracy: 0.9285 - val_loss: 1.4059 - val_accuracy: 0.6325\n",
      "Epoch 24/50\n",
      "305/305 - 2s - loss: 0.1511 - accuracy: 0.9382 - val_loss: 1.5822 - val_accuracy: 0.6509\n",
      "Epoch 25/50\n",
      "305/305 - 2s - loss: 0.1354 - accuracy: 0.9457 - val_loss: 1.6065 - val_accuracy: 0.6433\n",
      "Epoch 26/50\n",
      "305/305 - 2s - loss: 0.1251 - accuracy: 0.9496 - val_loss: 1.6667 - val_accuracy: 0.6291\n",
      "Epoch 27/50\n",
      "305/305 - 2s - loss: 0.1180 - accuracy: 0.9544 - val_loss: 1.7530 - val_accuracy: 0.6280\n",
      "Epoch 28/50\n",
      "305/305 - 2s - loss: 0.0960 - accuracy: 0.9645 - val_loss: 1.8209 - val_accuracy: 0.6391\n",
      "Epoch 29/50\n",
      "305/305 - 2s - loss: 0.0975 - accuracy: 0.9657 - val_loss: 1.9415 - val_accuracy: 0.6525\n",
      "Epoch 30/50\n",
      "305/305 - 2s - loss: 0.0868 - accuracy: 0.9691 - val_loss: 1.9003 - val_accuracy: 0.6446\n",
      "Epoch 31/50\n",
      "305/305 - 2s - loss: 0.0762 - accuracy: 0.9729 - val_loss: 2.0275 - val_accuracy: 0.6341\n",
      "Epoch 32/50\n",
      "305/305 - 2s - loss: 0.0776 - accuracy: 0.9722 - val_loss: 2.0465 - val_accuracy: 0.6619\n",
      "Epoch 33/50\n",
      "305/305 - 2s - loss: 0.0698 - accuracy: 0.9755 - val_loss: 2.0611 - val_accuracy: 0.6519\n",
      "Epoch 34/50\n",
      "305/305 - 2s - loss: 0.0683 - accuracy: 0.9752 - val_loss: 2.2314 - val_accuracy: 0.6501\n",
      "Epoch 35/50\n",
      "305/305 - 2s - loss: 0.0578 - accuracy: 0.9807 - val_loss: 2.2490 - val_accuracy: 0.6535\n",
      "Epoch 36/50\n",
      "305/305 - 2s - loss: 0.0536 - accuracy: 0.9823 - val_loss: 2.2464 - val_accuracy: 0.6186\n",
      "Epoch 37/50\n",
      "305/305 - 2s - loss: 0.0558 - accuracy: 0.9819 - val_loss: 2.1773 - val_accuracy: 0.6475\n",
      "Epoch 38/50\n",
      "305/305 - 2s - loss: 0.0482 - accuracy: 0.9842 - val_loss: 2.2903 - val_accuracy: 0.6506\n",
      "Epoch 39/50\n",
      "305/305 - 2s - loss: 0.0568 - accuracy: 0.9814 - val_loss: 2.3439 - val_accuracy: 0.6577\n",
      "Epoch 40/50\n",
      "305/305 - 2s - loss: 0.0582 - accuracy: 0.9803 - val_loss: 2.3058 - val_accuracy: 0.6401\n",
      "Epoch 41/50\n",
      "305/305 - 2s - loss: 0.0455 - accuracy: 0.9849 - val_loss: 2.3000 - val_accuracy: 0.6559\n",
      "Epoch 42/50\n",
      "305/305 - 2s - loss: 0.0428 - accuracy: 0.9857 - val_loss: 2.3811 - val_accuracy: 0.6404\n",
      "Epoch 43/50\n",
      "305/305 - 2s - loss: 0.0419 - accuracy: 0.9866 - val_loss: 2.3982 - val_accuracy: 0.6393\n",
      "Epoch 44/50\n",
      "305/305 - 2s - loss: 0.0382 - accuracy: 0.9878 - val_loss: 2.3117 - val_accuracy: 0.6414\n",
      "Epoch 45/50\n",
      "305/305 - 2s - loss: 0.0407 - accuracy: 0.9865 - val_loss: 2.3543 - val_accuracy: 0.6533\n",
      "Epoch 46/50\n",
      "305/305 - 2s - loss: 0.0400 - accuracy: 0.9861 - val_loss: 2.5499 - val_accuracy: 0.6522\n",
      "Epoch 47/50\n",
      "305/305 - 2s - loss: 0.0385 - accuracy: 0.9868 - val_loss: 2.3479 - val_accuracy: 0.6438\n",
      "Epoch 48/50\n",
      "305/305 - 2s - loss: 0.0390 - accuracy: 0.9871 - val_loss: 2.4261 - val_accuracy: 0.6572\n",
      "Epoch 49/50\n",
      "305/305 - 2s - loss: 0.0331 - accuracy: 0.9892 - val_loss: 2.5722 - val_accuracy: 0.6527\n",
      "Epoch 50/50\n",
      "305/305 - 2s - loss: 0.0396 - accuracy: 0.9870 - val_loss: 2.3244 - val_accuracy: 0.6288\n"
     ]
    }
   ],
   "source": [
    "model = Sequential()\n",
    "model.add(Embedding(input_dim=vocab_size, output_dim=vocab_size-1, input_length=X.shape[1]))\n",
    "model.add(Dropout(0.2))\n",
    "model.add(Conv1D(256,\n",
    "                 3,\n",
    "                 padding='valid',\n",
    "                 activation='relu',\n",
    "                 strides=1))\n",
    "model.add(MaxPooling1D(pool_size=4))\n",
    "model.add(LSTM(128))\n",
    "model.add(Dense(1, activation='sigmoid'))\n",
    "\n",
    "model.compile(loss='binary_crossentropy', optimizer='adam', metrics=['accuracy'])\n",
    "\n",
    "hist=model.fit(X_train, Y_train, epochs=50, batch_size=50, verbose=2, validation_split=0.2)"
   ]
  },
  {
   "cell_type": "code",
   "execution_count": 66,
   "id": "25383305",
   "metadata": {
    "ExecuteTime": {
     "end_time": "2021-09-15T08:00:19.149300Z",
     "start_time": "2021-09-15T08:00:18.111089Z"
    }
   },
   "outputs": [],
   "source": [
    "pred=model.predict(X_train)"
   ]
  },
  {
   "cell_type": "code",
   "execution_count": 70,
   "id": "4caa2fb9",
   "metadata": {
    "ExecuteTime": {
     "end_time": "2021-09-15T08:00:55.700760Z",
     "start_time": "2021-09-15T08:00:55.684801Z"
    }
   },
   "outputs": [
    {
     "data": {
      "text/plain": [
       "array([0, 0, 0, ..., 1, 0, 1], dtype=int64)"
      ]
     },
     "execution_count": 70,
     "metadata": {},
     "output_type": "execute_result"
    }
   ],
   "source": [
    "Y_test"
   ]
  },
  {
   "cell_type": "code",
   "execution_count": 75,
   "id": "2ebac5b2",
   "metadata": {
    "ExecuteTime": {
     "end_time": "2021-09-15T08:01:58.198796Z",
     "start_time": "2021-09-15T08:01:58.192811Z"
    }
   },
   "outputs": [
    {
     "data": {
      "text/plain": [
       "0.9226562910773437"
      ]
     },
     "execution_count": 75,
     "metadata": {},
     "output_type": "execute_result"
    }
   ],
   "source": [
    "((pred>0.5).reshape(19019)==Y_train).sum()/19019"
   ]
  },
  {
   "cell_type": "code",
   "execution_count": null,
   "id": "6226dea5",
   "metadata": {
    "ExecuteTime": {
     "end_time": "2021-09-13T07:40:42.171913Z",
     "start_time": "2021-09-13T07:40:41.877857Z"
    }
   },
   "outputs": [],
   "source": [
    "fig, loss_ax = plt.subplots()\n",
    "acc_ax = loss_ax.twinx()\n",
    "loss_ax.plot(hist.history['loss'], 'y', label='train loss')\n",
    "loss_ax.plot(hist.history['val_loss'], 'r', label='val loss')\n",
    "acc_ax.plot(hist.history['accuracy'], 'b', label='train acc')\n",
    "acc_ax.plot(hist.history['val_accuracy'], 'g', label='val acc')\n",
    "loss_ax.set_xlabel('epoch')\n",
    "loss_ax.set_ylabel('loss')\n",
    "acc_ax.set_ylabel('accuracy')\n",
    "\n",
    "loss_ax.legend(loc='upper left')\n",
    "acc_ax.legend(loc='lower left')\n",
    "\n",
    "plt.show()"
   ]
  },
  {
   "cell_type": "code",
   "execution_count": null,
   "id": "8e61451d",
   "metadata": {
    "ExecuteTime": {
     "end_time": "2021-09-13T07:41:23.051159Z",
     "start_time": "2021-09-13T07:41:22.912289Z"
    }
   },
   "outputs": [],
   "source": [
    "loss_and_metrics = model.evaluate(X_test, Y_test, batch_size=64)\n",
    "print('## evaluation loss and_metrics ##')\n",
    "print(loss_and_metrics)"
   ]
  },
  {
   "cell_type": "code",
   "execution_count": null,
   "id": "fa3f544b",
   "metadata": {},
   "outputs": [],
   "source": []
  },
  {
   "cell_type": "code",
   "execution_count": null,
   "id": "a28c43ce",
   "metadata": {},
   "outputs": [],
   "source": []
  },
  {
   "cell_type": "code",
   "execution_count": null,
   "id": "57a9d3a0",
   "metadata": {},
   "outputs": [],
   "source": []
  },
  {
   "cell_type": "code",
   "execution_count": null,
   "id": "081246d1",
   "metadata": {},
   "outputs": [],
   "source": []
  },
  {
   "cell_type": "code",
   "execution_count": null,
   "id": "19978e99",
   "metadata": {},
   "outputs": [],
   "source": []
  },
  {
   "cell_type": "code",
   "execution_count": null,
   "id": "a8e68701",
   "metadata": {},
   "outputs": [],
   "source": []
  },
  {
   "cell_type": "code",
   "execution_count": null,
   "id": "5f2c6d7f",
   "metadata": {},
   "outputs": [],
   "source": []
  },
  {
   "cell_type": "code",
   "execution_count": null,
   "id": "be371000",
   "metadata": {},
   "outputs": [],
   "source": []
  },
  {
   "cell_type": "code",
   "execution_count": null,
   "id": "7fa063a7",
   "metadata": {},
   "outputs": [],
   "source": []
  },
  {
   "cell_type": "code",
   "execution_count": null,
   "id": "ccc959ea",
   "metadata": {},
   "outputs": [],
   "source": []
  },
  {
   "cell_type": "code",
   "execution_count": null,
   "id": "c07ddec6",
   "metadata": {},
   "outputs": [],
   "source": []
  },
  {
   "cell_type": "code",
   "execution_count": null,
   "id": "8c2b75cf",
   "metadata": {},
   "outputs": [],
   "source": []
  },
  {
   "cell_type": "code",
   "execution_count": null,
   "id": "89280efe",
   "metadata": {},
   "outputs": [],
   "source": []
  }
 ],
 "metadata": {
  "kernelspec": {
   "display_name": "Python 3",
   "language": "python",
   "name": "python3"
  },
  "language_info": {
   "codemirror_mode": {
    "name": "ipython",
    "version": 3
   },
   "file_extension": ".py",
   "mimetype": "text/x-python",
   "name": "python",
   "nbconvert_exporter": "python",
   "pygments_lexer": "ipython3",
   "version": "3.8.8"
  },
  "toc": {
   "base_numbering": 1,
   "nav_menu": {},
   "number_sections": true,
   "sideBar": true,
   "skip_h1_title": false,
   "title_cell": "Table of Contents",
   "title_sidebar": "Contents",
   "toc_cell": false,
   "toc_position": {},
   "toc_section_display": true,
   "toc_window_display": false
  },
  "varInspector": {
   "cols": {
    "lenName": 16,
    "lenType": 16,
    "lenVar": 40
   },
   "kernels_config": {
    "python": {
     "delete_cmd_postfix": "",
     "delete_cmd_prefix": "del ",
     "library": "var_list.py",
     "varRefreshCmd": "print(var_dic_list())"
    },
    "r": {
     "delete_cmd_postfix": ") ",
     "delete_cmd_prefix": "rm(",
     "library": "var_list.r",
     "varRefreshCmd": "cat(var_dic_list()) "
    }
   },
   "types_to_exclude": [
    "module",
    "function",
    "builtin_function_or_method",
    "instance",
    "_Feature"
   ],
   "window_display": false
  }
 },
 "nbformat": 4,
 "nbformat_minor": 5
}
