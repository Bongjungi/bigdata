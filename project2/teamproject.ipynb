{
 "cells": [
  {
   "cell_type": "code",
   "execution_count": null,
   "id": "48b01156",
   "metadata": {
    "ExecuteTime": {
     "end_time": "2021-09-08T03:26:14.529667Z",
     "start_time": "2021-09-08T03:26:11.059921Z"
    }
   },
   "outputs": [],
   "source": [
    "import pandas as pd\n",
    "from matplotlib import pyplot as plt\n",
    "%matplotlib inline\n",
    "%config InlineBackend.figure_format = 'retina'\n",
    "import warnings\n",
    "warnings.filterwarnings(action='ignore')\n",
    "import numpy as np\n",
    "plt.rc('font', family='Malgun Gothic') \n",
    "plt.rc('axes', unicode_minus=False)\n",
    "import matplotlib.font_manager as fm\n",
    "font_path = 'C:\\Windows\\Fonts\\HMFMPYUN.TTF'\n",
    "font_prop = fm.FontProperties(fname=font_path, size=20)\n",
    "from sklearn.preprocessing import MinMaxScaler\n",
    "from tensorflow.keras.models import Sequential\n",
    "from tensorflow.keras.layers import Dense, LSTM, GRU, Dropout\n",
    "from tensorflow.keras import models\n",
    "import seaborn as sns\n",
    "import tensorflow.keras.utils as utils\n",
    "from tensorflow.keras.callbacks import Callback"
   ]
  },
  {
   "cell_type": "code",
   "execution_count": null,
   "id": "60215b45",
   "metadata": {
    "ExecuteTime": {
     "end_time": "2021-09-08T03:26:15.545621Z",
     "start_time": "2021-09-08T03:26:14.578151Z"
    }
   },
   "outputs": [],
   "source": [
    "seoul_2016=pd.read_csv('data/2016년 서울시 교통사고.csv', encoding='cp949')\n",
    "seoul_2017=pd.read_csv('data/2017년 서울시 교통사고.csv', encoding='cp949')\n",
    "seoul_2018=pd.read_csv('data/2018년 서울시 교통사고.csv', encoding='cp949')\n",
    "seoul_2019=pd.read_csv('data/2019년 서울시 교통사고.csv', encoding='cp949')\n",
    "seoul_2020=pd.read_csv('data/2020년 서울시 교통사고.csv', encoding='cp949')"
   ]
  },
  {
   "cell_type": "code",
   "execution_count": null,
   "id": "dd6376a6",
   "metadata": {
    "ExecuteTime": {
     "end_time": "2021-09-08T03:26:15.992165Z",
     "start_time": "2021-09-08T03:26:15.930293Z"
    }
   },
   "outputs": [],
   "source": [
    "seoul=pd.concat([seoul_2016,seoul_2017,seoul_2018,seoul_2019,seoul_2020])"
   ]
  },
  {
   "cell_type": "code",
   "execution_count": null,
   "id": "c2b42645",
   "metadata": {
    "ExecuteTime": {
     "end_time": "2021-09-08T03:26:16.574209Z",
     "start_time": "2021-09-08T03:26:16.559587Z"
    }
   },
   "outputs": [],
   "source": [
    "seoul.index=range(seoul.shape[0])"
   ]
  },
  {
   "cell_type": "code",
   "execution_count": null,
   "id": "9e1f1403",
   "metadata": {
    "ExecuteTime": {
     "end_time": "2021-09-08T03:26:17.267685Z",
     "start_time": "2021-09-08T03:26:17.142004Z"
    }
   },
   "outputs": [],
   "source": [
    "seoul.info()"
   ]
  },
  {
   "cell_type": "code",
   "execution_count": null,
   "id": "570b4294",
   "metadata": {
    "ExecuteTime": {
     "end_time": "2021-09-08T03:26:17.856554Z",
     "start_time": "2021-09-08T03:26:17.841590Z"
    }
   },
   "outputs": [],
   "source": [
    "seoul.columns"
   ]
  },
  {
   "cell_type": "code",
   "execution_count": null,
   "id": "374c2b75",
   "metadata": {
    "ExecuteTime": {
     "end_time": "2021-09-07T01:11:13.815650Z",
     "start_time": "2021-09-07T01:11:13.789450Z"
    }
   },
   "outputs": [],
   "source": [
    "seoul[seoul.columns[0]].value_counts()"
   ]
  },
  {
   "cell_type": "code",
   "execution_count": null,
   "id": "659b8cee",
   "metadata": {
    "ExecuteTime": {
     "end_time": "2021-09-07T01:11:14.244321Z",
     "start_time": "2021-09-07T01:11:14.196449Z"
    }
   },
   "outputs": [],
   "source": [
    "seoul[seoul.columns[1]].value_counts()"
   ]
  },
  {
   "cell_type": "code",
   "execution_count": null,
   "id": "9a1c4b30",
   "metadata": {
    "ExecuteTime": {
     "end_time": "2021-09-07T01:11:14.668188Z",
     "start_time": "2021-09-07T01:11:14.645249Z"
    }
   },
   "outputs": [],
   "source": [
    "seoul[seoul.columns[2]].value_counts()"
   ]
  },
  {
   "cell_type": "code",
   "execution_count": null,
   "id": "1a5ad2ed",
   "metadata": {
    "ExecuteTime": {
     "end_time": "2021-09-07T01:11:15.069560Z",
     "start_time": "2021-09-07T01:11:15.045179Z"
    }
   },
   "outputs": [],
   "source": [
    "seoul[seoul.columns[3]].value_counts()"
   ]
  },
  {
   "cell_type": "code",
   "execution_count": null,
   "id": "1a8f42e3",
   "metadata": {
    "ExecuteTime": {
     "end_time": "2021-09-07T01:11:15.469490Z",
     "start_time": "2021-09-07T01:11:15.447549Z"
    }
   },
   "outputs": [],
   "source": [
    "seoul[seoul.columns[4]].value_counts()"
   ]
  },
  {
   "cell_type": "code",
   "execution_count": null,
   "id": "0df75ad4",
   "metadata": {
    "ExecuteTime": {
     "end_time": "2021-09-07T01:11:15.857474Z",
     "start_time": "2021-09-07T01:11:15.848504Z"
    }
   },
   "outputs": [],
   "source": [
    "seoul[seoul.columns[5]].value_counts()"
   ]
  },
  {
   "cell_type": "code",
   "execution_count": null,
   "id": "9f658a2b",
   "metadata": {
    "ExecuteTime": {
     "end_time": "2021-09-07T01:11:16.239407Z",
     "start_time": "2021-09-07T01:11:16.231428Z"
    }
   },
   "outputs": [],
   "source": [
    "seoul[seoul.columns[6]].value_counts()"
   ]
  },
  {
   "cell_type": "code",
   "execution_count": null,
   "id": "0fef336f",
   "metadata": {
    "ExecuteTime": {
     "end_time": "2021-09-06T09:42:49.296676Z",
     "start_time": "2021-09-06T09:42:49.281688Z"
    }
   },
   "outputs": [],
   "source": [
    "seoul[seoul.columns[7]].value_counts()"
   ]
  },
  {
   "cell_type": "code",
   "execution_count": null,
   "id": "993f2d5f",
   "metadata": {
    "ExecuteTime": {
     "end_time": "2021-09-06T09:42:50.248143Z",
     "start_time": "2021-09-06T09:42:50.234180Z"
    }
   },
   "outputs": [],
   "source": [
    "seoul[seoul.columns[8]].value_counts()"
   ]
  },
  {
   "cell_type": "code",
   "execution_count": null,
   "id": "bed6e60b",
   "metadata": {
    "ExecuteTime": {
     "end_time": "2021-09-06T09:42:51.182463Z",
     "start_time": "2021-09-06T09:42:51.152542Z"
    }
   },
   "outputs": [],
   "source": [
    "seoul[seoul.columns[9]].value_counts()"
   ]
  },
  {
   "cell_type": "code",
   "execution_count": null,
   "id": "bf973050",
   "metadata": {
    "ExecuteTime": {
     "end_time": "2021-09-06T09:42:52.101215Z",
     "start_time": "2021-09-06T09:42:52.072292Z"
    }
   },
   "outputs": [],
   "source": [
    "seoul[seoul.columns[10]].value_counts()"
   ]
  },
  {
   "cell_type": "code",
   "execution_count": null,
   "id": "4d2e55af",
   "metadata": {
    "ExecuteTime": {
     "end_time": "2021-09-06T09:42:53.037027Z",
     "start_time": "2021-09-06T09:42:53.007032Z"
    }
   },
   "outputs": [],
   "source": [
    "seoul[seoul.columns[11]].value_counts()"
   ]
  },
  {
   "cell_type": "code",
   "execution_count": null,
   "id": "a24c09e5",
   "metadata": {
    "ExecuteTime": {
     "end_time": "2021-09-06T09:42:53.975094Z",
     "start_time": "2021-09-06T09:42:53.945094Z"
    }
   },
   "outputs": [],
   "source": [
    "seoul[seoul.columns[12]].value_counts()"
   ]
  },
  {
   "cell_type": "code",
   "execution_count": null,
   "id": "14bfd6cd",
   "metadata": {
    "ExecuteTime": {
     "end_time": "2021-09-06T09:42:54.928460Z",
     "start_time": "2021-09-06T09:42:54.899258Z"
    }
   },
   "outputs": [],
   "source": [
    "seoul[seoul.columns[13]].value_counts()"
   ]
  },
  {
   "cell_type": "code",
   "execution_count": null,
   "id": "627b005b",
   "metadata": {
    "ExecuteTime": {
     "end_time": "2021-09-06T09:42:55.849141Z",
     "start_time": "2021-09-06T09:42:55.818882Z"
    }
   },
   "outputs": [],
   "source": [
    "seoul[seoul.columns[14]].value_counts()"
   ]
  },
  {
   "cell_type": "code",
   "execution_count": null,
   "id": "3bab1b95",
   "metadata": {
    "ExecuteTime": {
     "end_time": "2021-09-06T09:42:56.787248Z",
     "start_time": "2021-09-06T09:42:56.759315Z"
    }
   },
   "outputs": [],
   "source": [
    "seoul[seoul.columns[15]].value_counts()"
   ]
  },
  {
   "cell_type": "code",
   "execution_count": null,
   "id": "f6ca837e",
   "metadata": {
    "ExecuteTime": {
     "end_time": "2021-09-06T09:42:57.709338Z",
     "start_time": "2021-09-06T09:42:57.678510Z"
    }
   },
   "outputs": [],
   "source": [
    "seoul[seoul.columns[16]].value_counts()"
   ]
  },
  {
   "cell_type": "code",
   "execution_count": null,
   "id": "57ced670",
   "metadata": {
    "ExecuteTime": {
     "end_time": "2021-09-06T09:42:58.634193Z",
     "start_time": "2021-09-06T09:42:58.603275Z"
    }
   },
   "outputs": [],
   "source": [
    "seoul[seoul.columns[17]].value_counts()"
   ]
  },
  {
   "cell_type": "code",
   "execution_count": null,
   "id": "d8a4775f",
   "metadata": {
    "ExecuteTime": {
     "end_time": "2021-09-06T09:42:59.569912Z",
     "start_time": "2021-09-06T09:42:59.539045Z"
    }
   },
   "outputs": [],
   "source": [
    "seoul[seoul.columns[18]].value_counts()"
   ]
  },
  {
   "cell_type": "code",
   "execution_count": null,
   "id": "e74f0b7c",
   "metadata": {
    "ExecuteTime": {
     "end_time": "2021-09-06T09:43:00.492677Z",
     "start_time": "2021-09-06T09:43:00.461631Z"
    }
   },
   "outputs": [],
   "source": [
    "seoul[seoul.columns[19]].value_counts()"
   ]
  },
  {
   "cell_type": "code",
   "execution_count": null,
   "id": "9fc62e8e",
   "metadata": {
    "ExecuteTime": {
     "end_time": "2021-09-06T09:43:01.412191Z",
     "start_time": "2021-09-06T09:43:01.382194Z"
    }
   },
   "outputs": [],
   "source": [
    "seoul[seoul.columns[20]].value_counts()"
   ]
  },
  {
   "cell_type": "code",
   "execution_count": null,
   "id": "f9b85dc7",
   "metadata": {
    "ExecuteTime": {
     "end_time": "2021-09-06T09:43:02.317744Z",
     "start_time": "2021-09-06T09:43:02.286826Z"
    }
   },
   "outputs": [],
   "source": [
    "seoul[seoul.columns[21]].value_counts()"
   ]
  },
  {
   "cell_type": "code",
   "execution_count": null,
   "id": "868e9005",
   "metadata": {
    "ExecuteTime": {
     "end_time": "2021-09-06T09:43:03.253398Z",
     "start_time": "2021-09-06T09:43:03.222480Z"
    }
   },
   "outputs": [],
   "source": [
    "seoul[seoul.columns[3]].value_counts().index[0]"
   ]
  },
  {
   "cell_type": "code",
   "execution_count": null,
   "id": "2a649614",
   "metadata": {
    "ExecuteTime": {
     "end_time": "2021-09-08T03:26:19.075995Z",
     "start_time": "2021-09-08T03:26:18.997548Z"
    }
   },
   "outputs": [],
   "source": [
    "yeoksam=seoul[seoul[seoul.columns[3]]==seoul[seoul.columns[3]].value_counts().index[0]]['사고번호']"
   ]
  },
  {
   "cell_type": "code",
   "execution_count": null,
   "id": "6d861867",
   "metadata": {
    "ExecuteTime": {
     "end_time": "2021-09-08T03:26:19.626594Z",
     "start_time": "2021-09-08T03:26:19.611613Z"
    }
   },
   "outputs": [],
   "source": [
    "yeoksam.index=range(yeoksam.shape[0])"
   ]
  },
  {
   "cell_type": "code",
   "execution_count": null,
   "id": "06e459b2",
   "metadata": {
    "ExecuteTime": {
     "end_time": "2021-09-08T03:26:20.175465Z",
     "start_time": "2021-09-08T03:26:20.161012Z"
    }
   },
   "outputs": [],
   "source": [
    "int(yeoksam[0]/100000000)"
   ]
  },
  {
   "cell_type": "code",
   "execution_count": null,
   "id": "cc623ed9",
   "metadata": {
    "ExecuteTime": {
     "end_time": "2021-09-08T03:26:20.720483Z",
     "start_time": "2021-09-08T03:26:20.706491Z"
    }
   },
   "outputs": [],
   "source": [
    "yeoksam=yeoksam.map(lambda x : int(x/100000000))"
   ]
  },
  {
   "cell_type": "code",
   "execution_count": null,
   "id": "1163ae75",
   "metadata": {
    "ExecuteTime": {
     "end_time": "2021-09-08T03:26:21.275607Z",
     "start_time": "2021-09-08T03:26:21.261781Z"
    }
   },
   "outputs": [],
   "source": [
    "yeoksam_num=yeoksam.to_frame().groupby('사고번호')['사고번호'].count().to_frame()"
   ]
  },
  {
   "cell_type": "code",
   "execution_count": null,
   "id": "4a49bdd5",
   "metadata": {
    "ExecuteTime": {
     "end_time": "2021-09-08T03:26:21.826727Z",
     "start_time": "2021-09-08T03:26:21.811823Z"
    }
   },
   "outputs": [],
   "source": [
    "yeoksam_num=yeoksam_num['사고번호']"
   ]
  },
  {
   "cell_type": "code",
   "execution_count": null,
   "id": "8d6c7e1d",
   "metadata": {
    "ExecuteTime": {
     "end_time": "2021-09-08T03:26:22.372281Z",
     "start_time": "2021-09-08T03:26:22.356825Z"
    }
   },
   "outputs": [],
   "source": [
    "max_yeoksam_num=max(yeoksam_num)\n",
    "min_yeoksam_num=min(yeoksam_num)"
   ]
  },
  {
   "cell_type": "code",
   "execution_count": null,
   "id": "a7057113",
   "metadata": {
    "ExecuteTime": {
     "end_time": "2021-09-08T03:26:22.934114Z",
     "start_time": "2021-09-08T03:26:22.918269Z"
    }
   },
   "outputs": [],
   "source": [
    "yeoksam_num"
   ]
  },
  {
   "cell_type": "code",
   "execution_count": null,
   "id": "9836b600",
   "metadata": {
    "ExecuteTime": {
     "end_time": "2021-09-08T03:26:23.485788Z",
     "start_time": "2021-09-08T03:26:23.469970Z"
    }
   },
   "outputs": [],
   "source": [
    "def seq2dataset(num, window_size):\n",
    "    dataset = []\n",
    "    for i in range(len(num) - window_size):\n",
    "        subset = num[i: (i + window_size + 1)]\n",
    "        dataset.append(subset)\n",
    "    return np.array(dataset)"
   ]
  },
  {
   "cell_type": "code",
   "execution_count": null,
   "id": "16d052d7",
   "metadata": {
    "ExecuteTime": {
     "end_time": "2021-09-08T03:26:24.202968Z",
     "start_time": "2021-09-08T03:26:24.028853Z"
    }
   },
   "outputs": [],
   "source": [
    "dataset=seq2dataset(yeoksam_num,4)"
   ]
  },
  {
   "cell_type": "code",
   "execution_count": null,
   "id": "afac1aa7",
   "metadata": {
    "ExecuteTime": {
     "end_time": "2021-09-08T03:26:24.747245Z",
     "start_time": "2021-09-08T03:26:24.731644Z"
    }
   },
   "outputs": [],
   "source": [
    "x_train = dataset[:,:-1]\n",
    "y_train = dataset[:,-1]\n",
    "x_train.shape, y_train.shape"
   ]
  },
  {
   "cell_type": "code",
   "execution_count": null,
   "id": "9ff77f47",
   "metadata": {
    "ExecuteTime": {
     "end_time": "2021-09-08T03:26:25.305364Z",
     "start_time": "2021-09-08T03:26:25.292357Z"
    }
   },
   "outputs": [],
   "source": [
    "dataset"
   ]
  },
  {
   "cell_type": "code",
   "execution_count": null,
   "id": "f165b2db",
   "metadata": {
    "ExecuteTime": {
     "end_time": "2021-09-08T03:26:25.840958Z",
     "start_time": "2021-09-08T03:26:25.825342Z"
    }
   },
   "outputs": [],
   "source": [
    "x_train = (x_train-min_yeoksam_num)/(max_yeoksam_num-min_yeoksam_num)\n",
    "x_train[:2]"
   ]
  },
  {
   "cell_type": "code",
   "execution_count": null,
   "id": "07052a87",
   "metadata": {
    "ExecuteTime": {
     "end_time": "2021-09-08T03:26:26.408082Z",
     "start_time": "2021-09-08T03:26:26.392606Z"
    }
   },
   "outputs": [],
   "source": [
    "y_train=y_train-1\n",
    "y_train = utils.to_categorical(y_train)\n",
    "y_train.shape"
   ]
  },
  {
   "cell_type": "code",
   "execution_count": null,
   "id": "84f5deb1",
   "metadata": {
    "ExecuteTime": {
     "end_time": "2021-09-08T03:26:26.956194Z",
     "start_time": "2021-09-08T03:26:26.940397Z"
    }
   },
   "outputs": [],
   "source": [
    "x_train=x_train.reshape(1562,4,1)"
   ]
  },
  {
   "cell_type": "code",
   "execution_count": null,
   "id": "dc1c86e9",
   "metadata": {
    "ExecuteTime": {
     "end_time": "2021-09-08T03:26:27.503005Z",
     "start_time": "2021-09-08T03:26:27.487378Z"
    }
   },
   "outputs": [],
   "source": [
    "one_hot_vec_size = y_train.shape[1]"
   ]
  },
  {
   "cell_type": "code",
   "execution_count": null,
   "id": "d28d89db",
   "metadata": {
    "ExecuteTime": {
     "end_time": "2021-09-07T02:18:52.689136Z",
     "start_time": "2021-09-07T01:11:37.210051Z"
    }
   },
   "outputs": [],
   "source": [
    "# 1. 모델 생성\n",
    "model = Sequential()\n",
    "model.add(LSTM(\n",
    "    units=128,\n",
    "    kernel_initializer='glorot_normal',\n",
    "    bias_initializer='zero',\n",
    "    batch_input_shape=(1, 4, 1), \n",
    "    stateful=True\n",
    "))\n",
    "model.add(Dense(\n",
    "    units=one_hot_vec_size, \n",
    "    kernel_initializer='glorot_normal',\n",
    "    bias_initializer='zero',    \n",
    "    activation='softmax'\n",
    "))\n",
    "# 2. 모델 학습과정 설정\n",
    "model.compile(\n",
    "    loss='categorical_crossentropy',\n",
    "    optimizer='adam',\n",
    "    metrics=['accuracy']\n",
    ")\n",
    "# 3. 모델 학습시키기\n",
    "class LossHistory(Callback):\n",
    "    def __init__(self):\n",
    "        self.epoch = 0\n",
    "        self.losses = []\n",
    "        self.accuracy = []\n",
    "    def on_epoch_end(self, batch, logs={}):\n",
    "        self.losses.append(logs.get('loss'))\n",
    "        self.accuracy.append(logs.get('accuracy'))\n",
    "        if self.epoch % 100 == 0:\n",
    "            print(\"epoch: {0} - loss: {1:8.6f}, acc : {2:8.6f}\".\\\n",
    "                  format(self.epoch, logs.get('loss'), logs.get('accuracy')))\n",
    "        self.epoch += 1\n",
    "history = LossHistory()\n",
    "for epoch in range(4000):\n",
    "    model.fit(x_train, y_train, epochs=1, batch_size=1, verbose=0, shuffle=False,\n",
    "             callbacks=[history])\n",
    "    if (history.losses[-1] < 1e-5) & (history.accuracy[-1] > 0.99):\n",
    "        print(\"epoch:{} - loss:{}, acc:{} - 종료\".\\\n",
    "              format(epoch, history.losses[-1], history.accuracy[-1]))\n",
    "        break;\n",
    "    model.reset_states() # 훈련할 때마다 이전 데이터와 상관없이 다른 데이터라고 판단"
   ]
  },
  {
   "cell_type": "code",
   "execution_count": null,
   "id": "ad768c89",
   "metadata": {
    "ExecuteTime": {
     "end_time": "2021-09-07T10:32:04.831973Z",
     "start_time": "2021-09-07T06:46:34.077625Z"
    }
   },
   "outputs": [],
   "source": [
    "# 1. 모델 생성\n",
    "model = Sequential()\n",
    "model.add(LSTM(\n",
    "    units=128,\n",
    "    batch_input_shape=(1, 4, 1), \n",
    "    stateful=True\n",
    "))\n",
    "model.add(Dense(\n",
    "    units=one_hot_vec_size,     \n",
    "    activation='softmax'\n",
    "))\n",
    "# 2. 모델 학습과정 설정\n",
    "model.compile(\n",
    "    loss='categorical_crossentropy',\n",
    "    optimizer='adam',\n",
    "    metrics=['accuracy']\n",
    ")\n",
    "# 3. 모델 학습시키기\n",
    "class LossHistory(Callback):\n",
    "    def __init__(self):\n",
    "        self.epoch = 0\n",
    "        self.losses = []\n",
    "        self.accuracy = []\n",
    "    def on_epoch_end(self, batch, logs={}):\n",
    "        self.losses.append(logs.get('loss'))\n",
    "        self.accuracy.append(logs.get('accuracy'))\n",
    "        if self.epoch % 100 == 0:\n",
    "            print(\"epoch: {0} - loss: {1:8.6f}, acc : {2:8.6f}\".\\\n",
    "                  format(self.epoch, logs.get('loss'), logs.get('accuracy')))\n",
    "        self.epoch += 1\n",
    "history = LossHistory()\n",
    "for epoch in range(6000):\n",
    "    model.fit(x_train, y_train, epochs=1, batch_size=1, verbose=0, shuffle=False,\n",
    "             callbacks=[history])\n",
    "    if (history.losses[-1] < 1e-5) & (history.accuracy[-1] > 0.99):\n",
    "        print(\"epoch:{} - loss:{}, acc:{} - 종료\".\\\n",
    "              format(epoch, history.losses[-1], history.accuracy[-1]))\n",
    "        break;\n",
    "    model.reset_states() # 훈련할 때마다 이전 데이터와 상관없이 다른 데이터라고 판단"
   ]
  },
  {
   "cell_type": "code",
   "execution_count": null,
   "id": "b7293d5b",
   "metadata": {
    "ExecuteTime": {
     "end_time": "2021-09-08T05:00:05.069446Z",
     "start_time": "2021-09-08T03:26:29.601799Z"
    }
   },
   "outputs": [],
   "source": [
    "# 1. 모델 생성\n",
    "model = Sequential()\n",
    "model.add(GRU(\n",
    "    units=64,\n",
    "    kernel_initializer='glorot_normal',\n",
    "    bias_initializer='zero',\n",
    "    batch_input_shape=(1, 4, 1), \n",
    "    stateful=True\n",
    "))\n",
    "model.add(Dense(\n",
    "    units=one_hot_vec_size, \n",
    "    kernel_initializer='glorot_normal',\n",
    "    bias_initializer='zero',    \n",
    "    activation='softmax'\n",
    "))\n",
    "# 2. 모델 학습과정 설정\n",
    "model.compile(\n",
    "    loss='categorical_crossentropy',\n",
    "    optimizer='adam',\n",
    "    metrics=['accuracy']\n",
    ")\n",
    "# 3. 모델 학습시키기\n",
    "class LossHistory(Callback):\n",
    "    def __init__(self):\n",
    "        self.epoch = 0\n",
    "        self.losses = []\n",
    "        self.accuracy = []\n",
    "    def on_epoch_end(self, batch, logs={}):\n",
    "        self.losses.append(logs.get('loss'))\n",
    "        self.accuracy.append(logs.get('accuracy'))\n",
    "        if self.epoch % 100 == 0:\n",
    "            print(\"epoch: {0} - loss: {1:8.6f}, acc : {2:8.6f}\".\\\n",
    "                  format(self.epoch, logs.get('loss'), logs.get('accuracy')))\n",
    "        self.epoch += 1\n",
    "history = LossHistory()\n",
    "for epoch in range(4000):\n",
    "    model.fit(x_train, y_train, epochs=1, batch_size=1, verbose=0, shuffle=False,\n",
    "             callbacks=[history])\n",
    "    if (history.losses[-1] < 1e-5) & (history.accuracy[-1] > 0.99):\n",
    "        print(\"epoch:{} - loss:{}, acc:{} - 종료\".\\\n",
    "              format(epoch, history.losses[-1], history.accuracy[-1]))\n",
    "        break;\n",
    "    model.reset_states() # 훈련할 때마다 이전 데이터와 상관없이 다른 데이터라고 판단"
   ]
  },
  {
   "cell_type": "code",
   "execution_count": null,
   "id": "efdfbbe6",
   "metadata": {
    "ExecuteTime": {
     "end_time": "2021-09-06T10:23:23.296903Z",
     "start_time": "2021-09-06T10:23:22.346084Z"
    }
   },
   "outputs": [],
   "source": [
    "seq_in = [0.25]\n",
    "seq_out = seq_in\n",
    "seq_in = (seq_in-min_yeoksam_num)/(max_yeoksam_num-min_yeoksam_num)\n",
    "for i in range(1562):\n",
    "    sample_in = np.array(seq_in)\n",
    "    sample_in = np.reshape(sample_in, (1, 4, 1)) # 샘플 수, 타입스텝 수, 속성 수\n",
    "    pred_out = model.predict(sample_in)\n",
    "    idx = np.argmax(pred_out)+1\n",
    "    np.append(seq_out, idx)\n",
    "    np.append(seq_in, (idx -min_yeoksam_num)/(max_yeoksam_num-min_yeoksam_num))\n",
    "    seq_in.pop(0)\n",
    "\n",
    "model.reset_states()"
   ]
  },
  {
   "cell_type": "code",
   "execution_count": null,
   "id": "d9cb78c3",
   "metadata": {
    "ExecuteTime": {
     "end_time": "2021-09-06T10:26:52.284379Z",
     "start_time": "2021-09-06T10:26:52.278376Z"
    }
   },
   "outputs": [],
   "source": [
    "x_train[0]"
   ]
  },
  {
   "cell_type": "code",
   "execution_count": null,
   "id": "a46a673c",
   "metadata": {
    "ExecuteTime": {
     "end_time": "2021-09-07T06:42:30.620262Z",
     "start_time": "2021-09-07T06:41:44.951160Z"
    }
   },
   "outputs": [],
   "source": [
    "seq_in = [3,2,1,5]\n",
    "seq_out = seq_in\n",
    "seq_in = [ (it-min_yeoksam_num)/(max_yeoksam_num-min_yeoksam_num) for it in seq_in] \n",
    "for i in range(1562):\n",
    "    sample_in = np.array(seq_in)\n",
    "    sample_in = np.reshape(sample_in, (1, 4, 1)) \n",
    "    pred_out = model.predict(sample_in)\n",
    "    idx = np.argmax(pred_out)+1\n",
    "    seq_out.append(idx)\n",
    "    seq_in.append((idx-min_yeoksam_num)/(max_yeoksam_num-min_yeoksam_num))\n",
    "    seq_in.pop(0)\n",
    "\n",
    "model.reset_states()"
   ]
  },
  {
   "cell_type": "code",
   "execution_count": null,
   "id": "6c759cb7",
   "metadata": {
    "ExecuteTime": {
     "end_time": "2021-09-07T06:42:32.202590Z",
     "start_time": "2021-09-07T06:42:32.018389Z"
    }
   },
   "outputs": [],
   "source": [
    "plt.plot(np.array(seq_out[0:100]))"
   ]
  },
  {
   "cell_type": "code",
   "execution_count": null,
   "id": "fd224d4f",
   "metadata": {
    "ExecuteTime": {
     "end_time": "2021-09-07T06:42:33.635484Z",
     "start_time": "2021-09-07T06:42:33.482638Z"
    }
   },
   "outputs": [],
   "source": [
    "plt.plot(np.array(yeoksam_num)[0:100])"
   ]
  },
  {
   "cell_type": "code",
   "execution_count": null,
   "id": "4c663d2b",
   "metadata": {},
   "outputs": [],
   "source": [
    "plt.plot(np.array(seq_out[0:50]))"
   ]
  },
  {
   "cell_type": "code",
   "execution_count": null,
   "id": "f182743e",
   "metadata": {
    "ExecuteTime": {
     "end_time": "2021-09-06T10:50:38.985800Z",
     "start_time": "2021-09-06T10:50:38.979817Z"
    }
   },
   "outputs": [],
   "source": [
    "(y_train.argmax(axis=1)+1) # 1 1 4 3 3 1"
   ]
  },
  {
   "cell_type": "code",
   "execution_count": null,
   "id": "b830bbb9",
   "metadata": {
    "ExecuteTime": {
     "end_time": "2021-09-07T02:27:33.254579Z",
     "start_time": "2021-09-07T02:27:33.243581Z"
    }
   },
   "outputs": [],
   "source": [
    "np.array(yeoksam_num)[0:30]"
   ]
  },
  {
   "cell_type": "code",
   "execution_count": null,
   "id": "ecce3aaa",
   "metadata": {
    "ExecuteTime": {
     "end_time": "2021-09-07T02:27:52.062164Z",
     "start_time": "2021-09-07T02:27:52.051208Z"
    }
   },
   "outputs": [],
   "source": [
    "np.array(seq_out[0:30])"
   ]
  },
  {
   "cell_type": "code",
   "execution_count": null,
   "id": "cfc973d5",
   "metadata": {
    "ExecuteTime": {
     "end_time": "2021-09-07T06:29:14.850072Z",
     "start_time": "2021-09-07T06:29:14.830125Z"
    }
   },
   "outputs": [],
   "source": [
    "np.array(seq_out[0:50])"
   ]
  },
  {
   "cell_type": "code",
   "execution_count": null,
   "id": "8602787a",
   "metadata": {
    "ExecuteTime": {
     "end_time": "2021-09-07T06:38:26.803168Z",
     "start_time": "2021-09-07T06:38:26.586155Z"
    }
   },
   "outputs": [],
   "source": [
    "#model.save('yeoksammodel.h5') #50개"
   ]
  },
  {
   "cell_type": "code",
   "execution_count": null,
   "id": "ac640276",
   "metadata": {
    "ExecuteTime": {
     "end_time": "2021-09-07T06:41:40.194355Z",
     "start_time": "2021-09-07T06:41:39.934502Z"
    }
   },
   "outputs": [],
   "source": [
    "model=models.load_model('yeoksammodel.h5')"
   ]
  },
  {
   "cell_type": "code",
   "execution_count": null,
   "id": "9a0d166e",
   "metadata": {},
   "outputs": [],
   "source": []
  }
 ],
 "metadata": {
  "kernelspec": {
   "display_name": "Python 3",
   "language": "python",
   "name": "python3"
  },
  "language_info": {
   "codemirror_mode": {
    "name": "ipython",
    "version": 3
   },
   "file_extension": ".py",
   "mimetype": "text/x-python",
   "name": "python",
   "nbconvert_exporter": "python",
   "pygments_lexer": "ipython3",
   "version": "3.8.8"
  },
  "toc": {
   "base_numbering": 1,
   "nav_menu": {},
   "number_sections": true,
   "sideBar": true,
   "skip_h1_title": false,
   "title_cell": "Table of Contents",
   "title_sidebar": "Contents",
   "toc_cell": false,
   "toc_position": {},
   "toc_section_display": true,
   "toc_window_display": false
  },
  "varInspector": {
   "cols": {
    "lenName": 16,
    "lenType": 16,
    "lenVar": 40
   },
   "kernels_config": {
    "python": {
     "delete_cmd_postfix": "",
     "delete_cmd_prefix": "del ",
     "library": "var_list.py",
     "varRefreshCmd": "print(var_dic_list())"
    },
    "r": {
     "delete_cmd_postfix": ") ",
     "delete_cmd_prefix": "rm(",
     "library": "var_list.r",
     "varRefreshCmd": "cat(var_dic_list()) "
    }
   },
   "types_to_exclude": [
    "module",
    "function",
    "builtin_function_or_method",
    "instance",
    "_Feature"
   ],
   "window_display": false
  }
 },
 "nbformat": 4,
 "nbformat_minor": 5
}
