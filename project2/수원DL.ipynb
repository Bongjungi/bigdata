{
 "cells": [
  {
   "cell_type": "code",
   "execution_count": 1,
   "id": "5e07ef8e",
   "metadata": {
    "ExecuteTime": {
     "end_time": "2021-09-16T07:24:19.356667Z",
     "start_time": "2021-09-16T07:24:15.724734Z"
    }
   },
   "outputs": [],
   "source": [
    "import pandas as pd\n",
    "from matplotlib import pyplot as plt\n",
    "%matplotlib inline\n",
    "%config InlineBackend.figure_format = 'retina'\n",
    "import warnings\n",
    "warnings.filterwarnings(action='ignore')\n",
    "import numpy as np\n",
    "plt.rc('font', family='Malgun Gothic') \n",
    "plt.rc('axes', unicode_minus=False)\n",
    "import matplotlib.font_manager as fm\n",
    "font_path = 'C:\\Windows\\Fonts\\HMFMPYUN.TTF'\n",
    "font_prop = fm.FontProperties(fname=font_path, size=20)\n",
    "from sklearn.preprocessing import MinMaxScaler\n",
    "from tensorflow.keras.models import Sequential\n",
    "from tensorflow.keras.layers import Dense, LSTM, GRU, Dropout, Embedding, SimpleRNN, Flatten, Conv1D, MaxPooling1D\n",
    "from tensorflow.keras import models\n",
    "import seaborn as sns\n",
    "import tensorflow.keras.utils as utils\n",
    "from tensorflow.keras.callbacks import Callback"
   ]
  },
  {
   "cell_type": "code",
   "execution_count": 2,
   "id": "72536eca",
   "metadata": {
    "ExecuteTime": {
     "end_time": "2021-09-16T07:24:19.736951Z",
     "start_time": "2021-09-16T07:24:19.721988Z"
    }
   },
   "outputs": [],
   "source": [
    "import tensorflow as tf\n",
    "tf.random.set_seed(2)"
   ]
  },
  {
   "cell_type": "code",
   "execution_count": 3,
   "id": "dfc6e86f",
   "metadata": {
    "ExecuteTime": {
     "end_time": "2021-09-16T07:24:20.167827Z",
     "start_time": "2021-09-16T07:24:20.104964Z"
    }
   },
   "outputs": [],
   "source": [
    "suwon=pd.read_csv('data/suwon_dnn.csv', encoding='cp949', index_col=0)"
   ]
  },
  {
   "cell_type": "code",
   "execution_count": 4,
   "id": "f2cd1f26",
   "metadata": {
    "ExecuteTime": {
     "end_time": "2021-09-16T07:24:20.584658Z",
     "start_time": "2021-09-16T07:24:20.569698Z"
    }
   },
   "outputs": [],
   "source": [
    "suwon=suwon[['요일', '노면상태', '기상상태', '도로형태', '가해운전자_차종', '가해운전자_성별',\n",
    "       '가해운전자_연령', '행정동', '발생월', '발생시간','사고내용']]"
   ]
  },
  {
   "cell_type": "code",
   "execution_count": 5,
   "id": "8cb4be91",
   "metadata": {
    "ExecuteTime": {
     "end_time": "2021-09-16T07:24:20.980598Z",
     "start_time": "2021-09-16T07:24:20.965639Z"
    }
   },
   "outputs": [],
   "source": [
    "suwon=suwon[suwon['행정동']!='수원시']"
   ]
  },
  {
   "cell_type": "code",
   "execution_count": 6,
   "id": "2f834275",
   "metadata": {
    "ExecuteTime": {
     "end_time": "2021-09-16T07:24:21.378534Z",
     "start_time": "2021-09-16T07:24:21.347617Z"
    }
   },
   "outputs": [
    {
     "data": {
      "text/html": [
       "<div>\n",
       "<style scoped>\n",
       "    .dataframe tbody tr th:only-of-type {\n",
       "        vertical-align: middle;\n",
       "    }\n",
       "\n",
       "    .dataframe tbody tr th {\n",
       "        vertical-align: top;\n",
       "    }\n",
       "\n",
       "    .dataframe thead th {\n",
       "        text-align: right;\n",
       "    }\n",
       "</style>\n",
       "<table border=\"1\" class=\"dataframe\">\n",
       "  <thead>\n",
       "    <tr style=\"text-align: right;\">\n",
       "      <th></th>\n",
       "      <th>요일</th>\n",
       "      <th>노면상태</th>\n",
       "      <th>기상상태</th>\n",
       "      <th>도로형태</th>\n",
       "      <th>가해운전자_차종</th>\n",
       "      <th>가해운전자_성별</th>\n",
       "      <th>가해운전자_연령</th>\n",
       "      <th>행정동</th>\n",
       "      <th>발생월</th>\n",
       "      <th>발생시간</th>\n",
       "      <th>사고내용</th>\n",
       "    </tr>\n",
       "  </thead>\n",
       "  <tbody>\n",
       "    <tr>\n",
       "      <th>1</th>\n",
       "      <td>금요일</td>\n",
       "      <td>포장 - 건조</td>\n",
       "      <td>맑음</td>\n",
       "      <td>단일로 - 기타</td>\n",
       "      <td>승용</td>\n",
       "      <td>남</td>\n",
       "      <td>42</td>\n",
       "      <td>대황교동</td>\n",
       "      <td>1</td>\n",
       "      <td>4</td>\n",
       "      <td>1</td>\n",
       "    </tr>\n",
       "    <tr>\n",
       "      <th>2</th>\n",
       "      <td>금요일</td>\n",
       "      <td>포장 - 건조</td>\n",
       "      <td>맑음</td>\n",
       "      <td>교차로 - 교차로부근</td>\n",
       "      <td>승용</td>\n",
       "      <td>남</td>\n",
       "      <td>57</td>\n",
       "      <td>인계동</td>\n",
       "      <td>1</td>\n",
       "      <td>4</td>\n",
       "      <td>1</td>\n",
       "    </tr>\n",
       "    <tr>\n",
       "      <th>3</th>\n",
       "      <td>금요일</td>\n",
       "      <td>포장 - 건조</td>\n",
       "      <td>맑음</td>\n",
       "      <td>교차로 - 교차로안</td>\n",
       "      <td>화물</td>\n",
       "      <td>남</td>\n",
       "      <td>26</td>\n",
       "      <td>우만동</td>\n",
       "      <td>1</td>\n",
       "      <td>5</td>\n",
       "      <td>0</td>\n",
       "    </tr>\n",
       "    <tr>\n",
       "      <th>4</th>\n",
       "      <td>금요일</td>\n",
       "      <td>포장 - 건조</td>\n",
       "      <td>맑음</td>\n",
       "      <td>교차로 - 교차로부근</td>\n",
       "      <td>승용</td>\n",
       "      <td>남</td>\n",
       "      <td>23</td>\n",
       "      <td>인계동</td>\n",
       "      <td>1</td>\n",
       "      <td>6</td>\n",
       "      <td>0</td>\n",
       "    </tr>\n",
       "    <tr>\n",
       "      <th>5</th>\n",
       "      <td>금요일</td>\n",
       "      <td>포장 - 건조</td>\n",
       "      <td>맑음</td>\n",
       "      <td>단일로 - 기타</td>\n",
       "      <td>승용</td>\n",
       "      <td>남</td>\n",
       "      <td>31</td>\n",
       "      <td>우만동</td>\n",
       "      <td>1</td>\n",
       "      <td>11</td>\n",
       "      <td>0</td>\n",
       "    </tr>\n",
       "    <tr>\n",
       "      <th>...</th>\n",
       "      <td>...</td>\n",
       "      <td>...</td>\n",
       "      <td>...</td>\n",
       "      <td>...</td>\n",
       "      <td>...</td>\n",
       "      <td>...</td>\n",
       "      <td>...</td>\n",
       "      <td>...</td>\n",
       "      <td>...</td>\n",
       "      <td>...</td>\n",
       "      <td>...</td>\n",
       "    </tr>\n",
       "    <tr>\n",
       "      <th>24355</th>\n",
       "      <td>목요일</td>\n",
       "      <td>포장 - 건조</td>\n",
       "      <td>맑음</td>\n",
       "      <td>단일로 - 기타</td>\n",
       "      <td>승용</td>\n",
       "      <td>남</td>\n",
       "      <td>61</td>\n",
       "      <td>영화동</td>\n",
       "      <td>12</td>\n",
       "      <td>17</td>\n",
       "      <td>0</td>\n",
       "    </tr>\n",
       "    <tr>\n",
       "      <th>24356</th>\n",
       "      <td>목요일</td>\n",
       "      <td>포장 - 건조</td>\n",
       "      <td>맑음</td>\n",
       "      <td>단일로 - 기타</td>\n",
       "      <td>승용</td>\n",
       "      <td>여</td>\n",
       "      <td>19</td>\n",
       "      <td>호매실동</td>\n",
       "      <td>12</td>\n",
       "      <td>18</td>\n",
       "      <td>0</td>\n",
       "    </tr>\n",
       "    <tr>\n",
       "      <th>24357</th>\n",
       "      <td>목요일</td>\n",
       "      <td>포장 - 건조</td>\n",
       "      <td>맑음</td>\n",
       "      <td>단일로 - 기타</td>\n",
       "      <td>원동기</td>\n",
       "      <td>남</td>\n",
       "      <td>21</td>\n",
       "      <td>입북동</td>\n",
       "      <td>12</td>\n",
       "      <td>18</td>\n",
       "      <td>0</td>\n",
       "    </tr>\n",
       "    <tr>\n",
       "      <th>24358</th>\n",
       "      <td>목요일</td>\n",
       "      <td>포장 - 건조</td>\n",
       "      <td>맑음</td>\n",
       "      <td>기타 - 기타</td>\n",
       "      <td>승용</td>\n",
       "      <td>남</td>\n",
       "      <td>46</td>\n",
       "      <td>매탄동</td>\n",
       "      <td>12</td>\n",
       "      <td>19</td>\n",
       "      <td>0</td>\n",
       "    </tr>\n",
       "    <tr>\n",
       "      <th>24359</th>\n",
       "      <td>목요일</td>\n",
       "      <td>포장 - 건조</td>\n",
       "      <td>맑음</td>\n",
       "      <td>기타 - 기타</td>\n",
       "      <td>승용</td>\n",
       "      <td>남</td>\n",
       "      <td>41</td>\n",
       "      <td>권선동</td>\n",
       "      <td>12</td>\n",
       "      <td>19</td>\n",
       "      <td>0</td>\n",
       "    </tr>\n",
       "  </tbody>\n",
       "</table>\n",
       "<p>23774 rows × 11 columns</p>\n",
       "</div>"
      ],
      "text/plain": [
       "        요일     노면상태 기상상태         도로형태 가해운전자_차종 가해운전자_성별  가해운전자_연령   행정동  발생월  \\\n",
       "1      금요일  포장 - 건조   맑음     단일로 - 기타       승용        남        42  대황교동    1   \n",
       "2      금요일  포장 - 건조   맑음  교차로 - 교차로부근       승용        남        57   인계동    1   \n",
       "3      금요일  포장 - 건조   맑음   교차로 - 교차로안       화물        남        26   우만동    1   \n",
       "4      금요일  포장 - 건조   맑음  교차로 - 교차로부근       승용        남        23   인계동    1   \n",
       "5      금요일  포장 - 건조   맑음     단일로 - 기타       승용        남        31   우만동    1   \n",
       "...    ...      ...  ...          ...      ...      ...       ...   ...  ...   \n",
       "24355  목요일  포장 - 건조   맑음     단일로 - 기타       승용        남        61   영화동   12   \n",
       "24356  목요일  포장 - 건조   맑음     단일로 - 기타       승용        여        19  호매실동   12   \n",
       "24357  목요일  포장 - 건조   맑음     단일로 - 기타      원동기        남        21   입북동   12   \n",
       "24358  목요일  포장 - 건조   맑음      기타 - 기타       승용        남        46   매탄동   12   \n",
       "24359  목요일  포장 - 건조   맑음      기타 - 기타       승용        남        41   권선동   12   \n",
       "\n",
       "       발생시간  사고내용  \n",
       "1         4     1  \n",
       "2         4     1  \n",
       "3         5     0  \n",
       "4         6     0  \n",
       "5        11     0  \n",
       "...     ...   ...  \n",
       "24355    17     0  \n",
       "24356    18     0  \n",
       "24357    18     0  \n",
       "24358    19     0  \n",
       "24359    19     0  \n",
       "\n",
       "[23774 rows x 11 columns]"
      ]
     },
     "execution_count": 6,
     "metadata": {},
     "output_type": "execute_result"
    }
   ],
   "source": [
    "suwon"
   ]
  },
  {
   "cell_type": "code",
   "execution_count": 7,
   "id": "28865895",
   "metadata": {
    "ExecuteTime": {
     "end_time": "2021-09-16T07:24:21.776469Z",
     "start_time": "2021-09-16T07:24:21.746550Z"
    }
   },
   "outputs": [
    {
     "name": "stdout",
     "output_type": "stream",
     "text": [
      "<class 'pandas.core.frame.DataFrame'>\n",
      "Int64Index: 23774 entries, 1 to 24359\n",
      "Data columns (total 11 columns):\n",
      " #   Column    Non-Null Count  Dtype \n",
      "---  ------    --------------  ----- \n",
      " 0   요일        23774 non-null  object\n",
      " 1   노면상태      23774 non-null  object\n",
      " 2   기상상태      23774 non-null  object\n",
      " 3   도로형태      23774 non-null  object\n",
      " 4   가해운전자_차종  23774 non-null  object\n",
      " 5   가해운전자_성별  23774 non-null  object\n",
      " 6   가해운전자_연령  23774 non-null  int64 \n",
      " 7   행정동       23774 non-null  object\n",
      " 8   발생월       23774 non-null  int64 \n",
      " 9   발생시간      23774 non-null  int64 \n",
      " 10  사고내용      23774 non-null  int64 \n",
      "dtypes: int64(4), object(7)\n",
      "memory usage: 2.2+ MB\n"
     ]
    }
   ],
   "source": [
    "suwon.info()"
   ]
  },
  {
   "cell_type": "code",
   "execution_count": 8,
   "id": "a86bb73a",
   "metadata": {
    "ExecuteTime": {
     "end_time": "2021-09-16T07:24:22.235242Z",
     "start_time": "2021-09-16T07:24:22.220282Z"
    }
   },
   "outputs": [
    {
     "data": {
      "text/plain": [
       "요일          0\n",
       "노면상태        0\n",
       "기상상태        0\n",
       "도로형태        0\n",
       "가해운전자_차종    0\n",
       "가해운전자_성별    0\n",
       "가해운전자_연령    0\n",
       "행정동         0\n",
       "발생월         0\n",
       "발생시간        0\n",
       "사고내용        0\n",
       "dtype: int64"
      ]
     },
     "execution_count": 8,
     "metadata": {},
     "output_type": "execute_result"
    }
   ],
   "source": [
    "suwon.isna().sum()"
   ]
  },
  {
   "cell_type": "code",
   "execution_count": 9,
   "id": "23a83574",
   "metadata": {
    "ExecuteTime": {
     "end_time": "2021-09-16T07:24:22.632180Z",
     "start_time": "2021-09-16T07:24:22.617221Z"
    }
   },
   "outputs": [
    {
     "data": {
      "text/plain": [
       "Index(['요일', '노면상태', '기상상태', '도로형태', '가해운전자_차종', '가해운전자_성별', '가해운전자_연령', '행정동',\n",
       "       '발생월', '발생시간', '사고내용'],\n",
       "      dtype='object')"
      ]
     },
     "execution_count": 9,
     "metadata": {},
     "output_type": "execute_result"
    }
   ],
   "source": [
    "suwon.columns"
   ]
  },
  {
   "cell_type": "code",
   "execution_count": 10,
   "id": "13ff6421",
   "metadata": {
    "ExecuteTime": {
     "end_time": "2021-09-16T07:24:23.060036Z",
     "start_time": "2021-09-16T07:24:23.045075Z"
    }
   },
   "outputs": [
    {
     "data": {
      "text/plain": [
       "array(['금요일', '토요일', '일요일', '월요일', '화요일', '수요일', '목요일'], dtype=object)"
      ]
     },
     "execution_count": 10,
     "metadata": {},
     "output_type": "execute_result"
    }
   ],
   "source": [
    "suwon[suwon.columns[0]].unique()"
   ]
  },
  {
   "cell_type": "code",
   "execution_count": 11,
   "id": "a0ff7fab",
   "metadata": {
    "ExecuteTime": {
     "end_time": "2021-09-16T07:24:23.455976Z",
     "start_time": "2021-09-16T07:24:23.441016Z"
    }
   },
   "outputs": [
    {
     "data": {
      "text/plain": [
       "23774"
      ]
     },
     "execution_count": 11,
     "metadata": {},
     "output_type": "execute_result"
    }
   ],
   "source": [
    "17804+5970"
   ]
  },
  {
   "cell_type": "code",
   "execution_count": 12,
   "id": "4dd42cf0",
   "metadata": {
    "ExecuteTime": {
     "end_time": "2021-09-16T07:24:23.869870Z",
     "start_time": "2021-09-16T07:24:23.822996Z"
    }
   },
   "outputs": [
    {
     "data": {
      "text/html": [
       "<div>\n",
       "<style scoped>\n",
       "    .dataframe tbody tr th:only-of-type {\n",
       "        vertical-align: middle;\n",
       "    }\n",
       "\n",
       "    .dataframe tbody tr th {\n",
       "        vertical-align: top;\n",
       "    }\n",
       "\n",
       "    .dataframe thead th {\n",
       "        text-align: right;\n",
       "    }\n",
       "</style>\n",
       "<table border=\"1\" class=\"dataframe\">\n",
       "  <thead>\n",
       "    <tr style=\"text-align: right;\">\n",
       "      <th></th>\n",
       "      <th>요일</th>\n",
       "      <th>노면상태</th>\n",
       "      <th>기상상태</th>\n",
       "      <th>도로형태</th>\n",
       "      <th>가해운전자_차종</th>\n",
       "      <th>가해운전자_성별</th>\n",
       "      <th>가해운전자_연령</th>\n",
       "      <th>행정동</th>\n",
       "      <th>발생월</th>\n",
       "      <th>발생시간</th>\n",
       "    </tr>\n",
       "    <tr>\n",
       "      <th>사고내용</th>\n",
       "      <th></th>\n",
       "      <th></th>\n",
       "      <th></th>\n",
       "      <th></th>\n",
       "      <th></th>\n",
       "      <th></th>\n",
       "      <th></th>\n",
       "      <th></th>\n",
       "      <th></th>\n",
       "      <th></th>\n",
       "    </tr>\n",
       "  </thead>\n",
       "  <tbody>\n",
       "    <tr>\n",
       "      <th>0</th>\n",
       "      <td>0.748885</td>\n",
       "      <td>0.748885</td>\n",
       "      <td>0.748885</td>\n",
       "      <td>0.748885</td>\n",
       "      <td>0.748885</td>\n",
       "      <td>0.748885</td>\n",
       "      <td>0.748885</td>\n",
       "      <td>0.748885</td>\n",
       "      <td>0.748885</td>\n",
       "      <td>0.748885</td>\n",
       "    </tr>\n",
       "    <tr>\n",
       "      <th>1</th>\n",
       "      <td>0.251115</td>\n",
       "      <td>0.251115</td>\n",
       "      <td>0.251115</td>\n",
       "      <td>0.251115</td>\n",
       "      <td>0.251115</td>\n",
       "      <td>0.251115</td>\n",
       "      <td>0.251115</td>\n",
       "      <td>0.251115</td>\n",
       "      <td>0.251115</td>\n",
       "      <td>0.251115</td>\n",
       "    </tr>\n",
       "  </tbody>\n",
       "</table>\n",
       "</div>"
      ],
      "text/plain": [
       "            요일      노면상태      기상상태      도로형태  가해운전자_차종  가해운전자_성별  가해운전자_연령  \\\n",
       "사고내용                                                                         \n",
       "0     0.748885  0.748885  0.748885  0.748885  0.748885  0.748885  0.748885   \n",
       "1     0.251115  0.251115  0.251115  0.251115  0.251115  0.251115  0.251115   \n",
       "\n",
       "           행정동       발생월      발생시간  \n",
       "사고내용                                \n",
       "0     0.748885  0.748885  0.748885  \n",
       "1     0.251115  0.251115  0.251115  "
      ]
     },
     "execution_count": 12,
     "metadata": {},
     "output_type": "execute_result"
    }
   ],
   "source": [
    "suwon.groupby('사고내용').count()/23774"
   ]
  },
  {
   "cell_type": "code",
   "execution_count": 13,
   "id": "7b3dc07f",
   "metadata": {
    "ExecuteTime": {
     "end_time": "2021-09-16T07:24:24.249852Z",
     "start_time": "2021-09-16T07:24:24.234893Z"
    }
   },
   "outputs": [
    {
     "data": {
      "text/html": [
       "<div>\n",
       "<style scoped>\n",
       "    .dataframe tbody tr th:only-of-type {\n",
       "        vertical-align: middle;\n",
       "    }\n",
       "\n",
       "    .dataframe tbody tr th {\n",
       "        vertical-align: top;\n",
       "    }\n",
       "\n",
       "    .dataframe thead th {\n",
       "        text-align: right;\n",
       "    }\n",
       "</style>\n",
       "<table border=\"1\" class=\"dataframe\">\n",
       "  <thead>\n",
       "    <tr style=\"text-align: right;\">\n",
       "      <th></th>\n",
       "      <th></th>\n",
       "      <th>사고내용</th>\n",
       "    </tr>\n",
       "    <tr>\n",
       "      <th>요일</th>\n",
       "      <th>사고내용</th>\n",
       "      <th></th>\n",
       "    </tr>\n",
       "  </thead>\n",
       "  <tbody>\n",
       "    <tr>\n",
       "      <th rowspan=\"2\" valign=\"top\">금요일</th>\n",
       "      <th>0</th>\n",
       "      <td>2788</td>\n",
       "    </tr>\n",
       "    <tr>\n",
       "      <th>1</th>\n",
       "      <td>924</td>\n",
       "    </tr>\n",
       "    <tr>\n",
       "      <th rowspan=\"2\" valign=\"top\">목요일</th>\n",
       "      <th>0</th>\n",
       "      <td>2683</td>\n",
       "    </tr>\n",
       "    <tr>\n",
       "      <th>1</th>\n",
       "      <td>872</td>\n",
       "    </tr>\n",
       "    <tr>\n",
       "      <th rowspan=\"2\" valign=\"top\">수요일</th>\n",
       "      <th>0</th>\n",
       "      <td>2566</td>\n",
       "    </tr>\n",
       "    <tr>\n",
       "      <th>1</th>\n",
       "      <td>919</td>\n",
       "    </tr>\n",
       "    <tr>\n",
       "      <th rowspan=\"2\" valign=\"top\">월요일</th>\n",
       "      <th>0</th>\n",
       "      <td>2533</td>\n",
       "    </tr>\n",
       "    <tr>\n",
       "      <th>1</th>\n",
       "      <td>840</td>\n",
       "    </tr>\n",
       "    <tr>\n",
       "      <th rowspan=\"2\" valign=\"top\">일요일</th>\n",
       "      <th>0</th>\n",
       "      <td>2010</td>\n",
       "    </tr>\n",
       "    <tr>\n",
       "      <th>1</th>\n",
       "      <td>683</td>\n",
       "    </tr>\n",
       "    <tr>\n",
       "      <th rowspan=\"2\" valign=\"top\">토요일</th>\n",
       "      <th>0</th>\n",
       "      <td>2733</td>\n",
       "    </tr>\n",
       "    <tr>\n",
       "      <th>1</th>\n",
       "      <td>880</td>\n",
       "    </tr>\n",
       "    <tr>\n",
       "      <th rowspan=\"2\" valign=\"top\">화요일</th>\n",
       "      <th>0</th>\n",
       "      <td>2491</td>\n",
       "    </tr>\n",
       "    <tr>\n",
       "      <th>1</th>\n",
       "      <td>852</td>\n",
       "    </tr>\n",
       "  </tbody>\n",
       "</table>\n",
       "</div>"
      ],
      "text/plain": [
       "          사고내용\n",
       "요일  사고내용      \n",
       "금요일 0     2788\n",
       "    1      924\n",
       "목요일 0     2683\n",
       "    1      872\n",
       "수요일 0     2566\n",
       "    1      919\n",
       "월요일 0     2533\n",
       "    1      840\n",
       "일요일 0     2010\n",
       "    1      683\n",
       "토요일 0     2733\n",
       "    1      880\n",
       "화요일 0     2491\n",
       "    1      852"
      ]
     },
     "execution_count": 13,
     "metadata": {},
     "output_type": "execute_result"
    }
   ],
   "source": [
    "suwon.groupby(['요일','사고내용'])['사고내용'].count().to_frame()"
   ]
  },
  {
   "cell_type": "code",
   "execution_count": 14,
   "id": "e945e7f1",
   "metadata": {
    "ExecuteTime": {
     "end_time": "2021-09-16T07:24:24.631831Z",
     "start_time": "2021-09-16T07:24:24.616872Z"
    }
   },
   "outputs": [],
   "source": [
    "dic_yoil={'금':2788/(2788+924), '목':2683/(2683+872), '수':2566/(2566+919), '월':2533/(2533+840), '일':2010/(2010+683), '토':2733/(2733+880), '화':2491/(2491+852)}"
   ]
  },
  {
   "cell_type": "code",
   "execution_count": 15,
   "id": "7968618e",
   "metadata": {
    "ExecuteTime": {
     "end_time": "2021-09-16T07:24:25.014806Z",
     "start_time": "2021-09-16T07:24:24.999846Z"
    }
   },
   "outputs": [
    {
     "data": {
      "text/plain": [
       "[('토', 0.7564350954885137),\n",
       " ('목', 0.7547116736990155),\n",
       " ('금', 0.7510775862068966),\n",
       " ('월', 0.7509635339460421),\n",
       " ('일', 0.746379502413665),\n",
       " ('화', 0.7451390966198026),\n",
       " ('수', 0.7362984218077475)]"
      ]
     },
     "execution_count": 15,
     "metadata": {},
     "output_type": "execute_result"
    }
   ],
   "source": [
    "sorted(dic_yoil.items(), key=(lambda x:x[1]), reverse=True)"
   ]
  },
  {
   "cell_type": "code",
   "execution_count": 16,
   "id": "ddc2ec9a",
   "metadata": {
    "ExecuteTime": {
     "end_time": "2021-09-16T07:24:25.396784Z",
     "start_time": "2021-09-16T07:24:25.381825Z"
    }
   },
   "outputs": [],
   "source": [
    "yoil2idx={'월요일':3 , '화요일':1, '수요일':0, '목요일':5, '금요일':4, '토요일':6, '일요일':2}\n",
    "idx2yoil={2:'일요일', 3:'월요일', 1:'화요일', 0:'수요일', 5:'목요일', 4:'금요일', 6:'토요일'}"
   ]
  },
  {
   "cell_type": "code",
   "execution_count": 17,
   "id": "53d398f0",
   "metadata": {
    "ExecuteTime": {
     "end_time": "2021-09-16T07:24:25.776767Z",
     "start_time": "2021-09-16T07:24:25.762805Z"
    }
   },
   "outputs": [
    {
     "data": {
      "text/plain": [
       "array(['포장 - 건조', '포장 - 습기', '포장 - 결빙', '포장 - 적설', '포장 - 기타', '비포장 - 습기',\n",
       "       '비포장 - 건조', '포장 - 젖음/습기', '포장 - 서리/결빙', '비포장 - 젖음/습기', '포장 - 해빙',\n",
       "       '포장 - 침수'], dtype=object)"
      ]
     },
     "execution_count": 17,
     "metadata": {},
     "output_type": "execute_result"
    }
   ],
   "source": [
    "suwon[suwon.columns[1]].unique()"
   ]
  },
  {
   "cell_type": "code",
   "execution_count": 18,
   "id": "825ffdfb",
   "metadata": {
    "ExecuteTime": {
     "end_time": "2021-09-16T07:24:26.155754Z",
     "start_time": "2021-09-16T07:24:26.141792Z"
    }
   },
   "outputs": [
    {
     "data": {
      "text/html": [
       "<div>\n",
       "<style scoped>\n",
       "    .dataframe tbody tr th:only-of-type {\n",
       "        vertical-align: middle;\n",
       "    }\n",
       "\n",
       "    .dataframe tbody tr th {\n",
       "        vertical-align: top;\n",
       "    }\n",
       "\n",
       "    .dataframe thead th {\n",
       "        text-align: right;\n",
       "    }\n",
       "</style>\n",
       "<table border=\"1\" class=\"dataframe\">\n",
       "  <thead>\n",
       "    <tr style=\"text-align: right;\">\n",
       "      <th></th>\n",
       "      <th></th>\n",
       "      <th>사고내용</th>\n",
       "    </tr>\n",
       "    <tr>\n",
       "      <th>노면상태</th>\n",
       "      <th>사고내용</th>\n",
       "      <th></th>\n",
       "    </tr>\n",
       "  </thead>\n",
       "  <tbody>\n",
       "    <tr>\n",
       "      <th rowspan=\"2\" valign=\"top\">비포장 - 건조</th>\n",
       "      <th>0</th>\n",
       "      <td>3</td>\n",
       "    </tr>\n",
       "    <tr>\n",
       "      <th>1</th>\n",
       "      <td>1</td>\n",
       "    </tr>\n",
       "    <tr>\n",
       "      <th>비포장 - 습기</th>\n",
       "      <th>0</th>\n",
       "      <td>1</td>\n",
       "    </tr>\n",
       "    <tr>\n",
       "      <th rowspan=\"2\" valign=\"top\">비포장 - 젖음/습기</th>\n",
       "      <th>0</th>\n",
       "      <td>9</td>\n",
       "    </tr>\n",
       "    <tr>\n",
       "      <th>1</th>\n",
       "      <td>1</td>\n",
       "    </tr>\n",
       "    <tr>\n",
       "      <th rowspan=\"2\" valign=\"top\">포장 - 건조</th>\n",
       "      <th>0</th>\n",
       "      <td>16037</td>\n",
       "    </tr>\n",
       "    <tr>\n",
       "      <th>1</th>\n",
       "      <td>5348</td>\n",
       "    </tr>\n",
       "    <tr>\n",
       "      <th rowspan=\"2\" valign=\"top\">포장 - 결빙</th>\n",
       "      <th>0</th>\n",
       "      <td>34</td>\n",
       "    </tr>\n",
       "    <tr>\n",
       "      <th>1</th>\n",
       "      <td>6</td>\n",
       "    </tr>\n",
       "    <tr>\n",
       "      <th rowspan=\"2\" valign=\"top\">포장 - 기타</th>\n",
       "      <th>0</th>\n",
       "      <td>88</td>\n",
       "    </tr>\n",
       "    <tr>\n",
       "      <th>1</th>\n",
       "      <td>24</td>\n",
       "    </tr>\n",
       "    <tr>\n",
       "      <th rowspan=\"2\" valign=\"top\">포장 - 서리/결빙</th>\n",
       "      <th>0</th>\n",
       "      <td>78</td>\n",
       "    </tr>\n",
       "    <tr>\n",
       "      <th>1</th>\n",
       "      <td>26</td>\n",
       "    </tr>\n",
       "    <tr>\n",
       "      <th rowspan=\"2\" valign=\"top\">포장 - 습기</th>\n",
       "      <th>0</th>\n",
       "      <td>297</td>\n",
       "    </tr>\n",
       "    <tr>\n",
       "      <th>1</th>\n",
       "      <td>123</td>\n",
       "    </tr>\n",
       "    <tr>\n",
       "      <th rowspan=\"2\" valign=\"top\">포장 - 적설</th>\n",
       "      <th>0</th>\n",
       "      <td>42</td>\n",
       "    </tr>\n",
       "    <tr>\n",
       "      <th>1</th>\n",
       "      <td>12</td>\n",
       "    </tr>\n",
       "    <tr>\n",
       "      <th rowspan=\"2\" valign=\"top\">포장 - 젖음/습기</th>\n",
       "      <th>0</th>\n",
       "      <td>1213</td>\n",
       "    </tr>\n",
       "    <tr>\n",
       "      <th>1</th>\n",
       "      <td>428</td>\n",
       "    </tr>\n",
       "    <tr>\n",
       "      <th>포장 - 침수</th>\n",
       "      <th>1</th>\n",
       "      <td>1</td>\n",
       "    </tr>\n",
       "    <tr>\n",
       "      <th>포장 - 해빙</th>\n",
       "      <th>0</th>\n",
       "      <td>2</td>\n",
       "    </tr>\n",
       "  </tbody>\n",
       "</table>\n",
       "</div>"
      ],
      "text/plain": [
       "                   사고내용\n",
       "노면상태        사고내용       \n",
       "비포장 - 건조    0         3\n",
       "            1         1\n",
       "비포장 - 습기    0         1\n",
       "비포장 - 젖음/습기 0         9\n",
       "            1         1\n",
       "포장 - 건조     0     16037\n",
       "            1      5348\n",
       "포장 - 결빙     0        34\n",
       "            1         6\n",
       "포장 - 기타     0        88\n",
       "            1        24\n",
       "포장 - 서리/결빙  0        78\n",
       "            1        26\n",
       "포장 - 습기     0       297\n",
       "            1       123\n",
       "포장 - 적설     0        42\n",
       "            1        12\n",
       "포장 - 젖음/습기  0      1213\n",
       "            1       428\n",
       "포장 - 침수     1         1\n",
       "포장 - 해빙     0         2"
      ]
     },
     "execution_count": 18,
     "metadata": {},
     "output_type": "execute_result"
    }
   ],
   "source": [
    "suwon.groupby(['노면상태','사고내용'])['사고내용'].count().to_frame()"
   ]
  },
  {
   "cell_type": "code",
   "execution_count": 19,
   "id": "ce29a4e2",
   "metadata": {
    "ExecuteTime": {
     "end_time": "2021-09-16T07:24:26.549700Z",
     "start_time": "2021-09-16T07:24:26.534740Z"
    }
   },
   "outputs": [],
   "source": [
    "dic_nom={'비포장 - 건조':3/4, '비포장 - 습기':1/1, '비포장 - 젖음/습기':9/10, '포장 - 건조':16037/(16037+5348), '포장 - 결빙':34/(34+6), '포장 - 기타':88/(88+24), '포장 - 서리/결빙':78/(78+26), '포장 - 습기':297/(297+123), '포장 - 적설':42/(42+12), '포장 - 젖음/습기':1213/(1213+428), '포장 - 침수':0/1, '포장 - 해빙':2/2}"
   ]
  },
  {
   "cell_type": "code",
   "execution_count": 20,
   "id": "0d4cea07",
   "metadata": {
    "ExecuteTime": {
     "end_time": "2021-09-16T07:24:26.932676Z",
     "start_time": "2021-09-16T07:24:26.917716Z"
    }
   },
   "outputs": [
    {
     "data": {
      "text/plain": [
       "[('비포장 - 습기', 1.0),\n",
       " ('포장 - 해빙', 1.0),\n",
       " ('비포장 - 젖음/습기', 0.9),\n",
       " ('포장 - 결빙', 0.85),\n",
       " ('포장 - 기타', 0.7857142857142857),\n",
       " ('포장 - 적설', 0.7777777777777778),\n",
       " ('비포장 - 건조', 0.75),\n",
       " ('포장 - 서리/결빙', 0.75),\n",
       " ('포장 - 건조', 0.7499181669394436),\n",
       " ('포장 - 젖음/습기', 0.7391834247410116),\n",
       " ('포장 - 습기', 0.7071428571428572),\n",
       " ('포장 - 침수', 0.0)]"
      ]
     },
     "execution_count": 20,
     "metadata": {},
     "output_type": "execute_result"
    }
   ],
   "source": [
    "sorted(dic_nom.items(), key=(lambda x:x[1]), reverse=True)"
   ]
  },
  {
   "cell_type": "code",
   "execution_count": 21,
   "id": "c34f2476",
   "metadata": {
    "ExecuteTime": {
     "end_time": "2021-09-16T07:24:27.315651Z",
     "start_time": "2021-09-16T07:24:27.300690Z"
    }
   },
   "outputs": [],
   "source": [
    "nom2idx={'포장 - 건조':3, '포장 - 습기':1, '포장 - 결빙':8, '포장 - 적설':6, '포장 - 기타':7, '비포장 - 습기':10, '비포장 - 건조':5, '포장 - 젖음/습기':2, '포장 - 서리/결빙':4, '비포장 - 젖음/습기':9, '포장 - 해빙':11, '포장 - 침수':0}\n",
    "idx2nom={3:'포장 - 건조', 1:'포장 - 습기', 8:'포장 - 결빙', 6:'포장 - 적설', 7:'포장 - 기타', 10:'비포장 - 습기', 5:'비포장 - 건조', 2:'포장 - 젖음/습기', 4:'포장 - 서리/결빙', 9:'비포장 - 젖음/습기', 11:'포장 - 해빙', 0:'포장 - 침수'}"
   ]
  },
  {
   "cell_type": "code",
   "execution_count": 22,
   "id": "067c7975",
   "metadata": {
    "ExecuteTime": {
     "end_time": "2021-09-16T07:24:27.697629Z",
     "start_time": "2021-09-16T07:24:27.682669Z"
    }
   },
   "outputs": [
    {
     "data": {
      "text/plain": [
       "array(['맑음', '흐림', '안개', '눈', '비', '기타'], dtype=object)"
      ]
     },
     "execution_count": 22,
     "metadata": {},
     "output_type": "execute_result"
    }
   ],
   "source": [
    "suwon[suwon.columns[2]].unique()"
   ]
  },
  {
   "cell_type": "code",
   "execution_count": 23,
   "id": "757b0a44",
   "metadata": {
    "ExecuteTime": {
     "end_time": "2021-09-16T07:24:28.080604Z",
     "start_time": "2021-09-16T07:24:28.065644Z"
    }
   },
   "outputs": [
    {
     "data": {
      "text/html": [
       "<div>\n",
       "<style scoped>\n",
       "    .dataframe tbody tr th:only-of-type {\n",
       "        vertical-align: middle;\n",
       "    }\n",
       "\n",
       "    .dataframe tbody tr th {\n",
       "        vertical-align: top;\n",
       "    }\n",
       "\n",
       "    .dataframe thead th {\n",
       "        text-align: right;\n",
       "    }\n",
       "</style>\n",
       "<table border=\"1\" class=\"dataframe\">\n",
       "  <thead>\n",
       "    <tr style=\"text-align: right;\">\n",
       "      <th></th>\n",
       "      <th></th>\n",
       "      <th>사고내용</th>\n",
       "    </tr>\n",
       "    <tr>\n",
       "      <th>기상상태</th>\n",
       "      <th>사고내용</th>\n",
       "      <th></th>\n",
       "    </tr>\n",
       "  </thead>\n",
       "  <tbody>\n",
       "    <tr>\n",
       "      <th rowspan=\"2\" valign=\"top\">기타</th>\n",
       "      <th>0</th>\n",
       "      <td>48</td>\n",
       "    </tr>\n",
       "    <tr>\n",
       "      <th>1</th>\n",
       "      <td>15</td>\n",
       "    </tr>\n",
       "    <tr>\n",
       "      <th rowspan=\"2\" valign=\"top\">눈</th>\n",
       "      <th>0</th>\n",
       "      <td>110</td>\n",
       "    </tr>\n",
       "    <tr>\n",
       "      <th>1</th>\n",
       "      <td>32</td>\n",
       "    </tr>\n",
       "    <tr>\n",
       "      <th rowspan=\"2\" valign=\"top\">맑음</th>\n",
       "      <th>0</th>\n",
       "      <td>15948</td>\n",
       "    </tr>\n",
       "    <tr>\n",
       "      <th>1</th>\n",
       "      <td>5307</td>\n",
       "    </tr>\n",
       "    <tr>\n",
       "      <th rowspan=\"2\" valign=\"top\">비</th>\n",
       "      <th>0</th>\n",
       "      <td>1161</td>\n",
       "    </tr>\n",
       "    <tr>\n",
       "      <th>1</th>\n",
       "      <td>424</td>\n",
       "    </tr>\n",
       "    <tr>\n",
       "      <th rowspan=\"2\" valign=\"top\">안개</th>\n",
       "      <th>0</th>\n",
       "      <td>3</td>\n",
       "    </tr>\n",
       "    <tr>\n",
       "      <th>1</th>\n",
       "      <td>5</td>\n",
       "    </tr>\n",
       "    <tr>\n",
       "      <th rowspan=\"2\" valign=\"top\">흐림</th>\n",
       "      <th>0</th>\n",
       "      <td>534</td>\n",
       "    </tr>\n",
       "    <tr>\n",
       "      <th>1</th>\n",
       "      <td>187</td>\n",
       "    </tr>\n",
       "  </tbody>\n",
       "</table>\n",
       "</div>"
      ],
      "text/plain": [
       "            사고내용\n",
       "기상상태 사고내용       \n",
       "기타   0        48\n",
       "     1        15\n",
       "눈    0       110\n",
       "     1        32\n",
       "맑음   0     15948\n",
       "     1      5307\n",
       "비    0      1161\n",
       "     1       424\n",
       "안개   0         3\n",
       "     1         5\n",
       "흐림   0       534\n",
       "     1       187"
      ]
     },
     "execution_count": 23,
     "metadata": {},
     "output_type": "execute_result"
    }
   ],
   "source": [
    "suwon.groupby(['기상상태','사고내용'])['사고내용'].count().to_frame()"
   ]
  },
  {
   "cell_type": "code",
   "execution_count": 24,
   "id": "03eba91c",
   "metadata": {
    "ExecuteTime": {
     "end_time": "2021-09-16T07:24:28.463580Z",
     "start_time": "2021-09-16T07:24:28.448620Z"
    }
   },
   "outputs": [],
   "source": [
    "dic_gs={'기타':48/(48+15), '눈':110/(110+32), '맑음':15948/(15948+5307), '비':1161/(1161+424), '안개':3/8, '흐림':534/(534+187)}"
   ]
  },
  {
   "cell_type": "code",
   "execution_count": 25,
   "id": "82152341",
   "metadata": {
    "ExecuteTime": {
     "end_time": "2021-09-16T07:24:28.846555Z",
     "start_time": "2021-09-16T07:24:28.831597Z"
    }
   },
   "outputs": [
    {
     "data": {
      "text/plain": [
       "[('눈', 0.7746478873239436),\n",
       " ('기타', 0.7619047619047619),\n",
       " ('맑음', 0.750317572335921),\n",
       " ('흐림', 0.7406380027739251),\n",
       " ('비', 0.7324921135646688),\n",
       " ('안개', 0.375)]"
      ]
     },
     "execution_count": 25,
     "metadata": {},
     "output_type": "execute_result"
    }
   ],
   "source": [
    "sorted(dic_gs.items(), key=(lambda x:x[1]), reverse=True)"
   ]
  },
  {
   "cell_type": "code",
   "execution_count": 26,
   "id": "d3e02f94",
   "metadata": {
    "ExecuteTime": {
     "end_time": "2021-09-16T07:24:29.260457Z",
     "start_time": "2021-09-16T07:24:29.246487Z"
    }
   },
   "outputs": [],
   "source": [
    "gs2idx={'맑음':3, '흐림':2, '안개':0, '눈':5, '비':1, '기타':4}\n",
    "idx2gs={3:'맑음', 2:'흐림', 0:'안개', 5:'눈', 1:'비', 4:'기타'}"
   ]
  },
  {
   "cell_type": "code",
   "execution_count": 27,
   "id": "961a28c6",
   "metadata": {
    "ExecuteTime": {
     "end_time": "2021-09-16T07:24:29.324299Z",
     "start_time": "2021-09-16T07:24:29.261450Z"
    }
   },
   "outputs": [
    {
     "data": {
      "text/plain": [
       "array(['단일로 - 기타', '교차로 - 교차로부근', '교차로 - 교차로안', '단일로 - 횡단보도상',\n",
       "       '단일로 - 횡단보도부근', '미분류 - 미분류', '기타 - 기타', '단일로 - 터널', '단일로 - 교량',\n",
       "       '교차로 - 교차로횡단보도내', '단일로 - 지하차도(도로)내', '단일로 - 고가도로위', '주차장 - 주차장'],\n",
       "      dtype=object)"
      ]
     },
     "execution_count": 27,
     "metadata": {},
     "output_type": "execute_result"
    }
   ],
   "source": [
    "suwon[suwon.columns[3]].unique()"
   ]
  },
  {
   "cell_type": "code",
   "execution_count": 28,
   "id": "fa99a2a3",
   "metadata": {
    "ExecuteTime": {
     "end_time": "2021-09-16T07:24:29.800005Z",
     "start_time": "2021-09-16T07:24:29.770094Z"
    }
   },
   "outputs": [
    {
     "data": {
      "text/html": [
       "<div>\n",
       "<style scoped>\n",
       "    .dataframe tbody tr th:only-of-type {\n",
       "        vertical-align: middle;\n",
       "    }\n",
       "\n",
       "    .dataframe tbody tr th {\n",
       "        vertical-align: top;\n",
       "    }\n",
       "\n",
       "    .dataframe thead th {\n",
       "        text-align: right;\n",
       "    }\n",
       "</style>\n",
       "<table border=\"1\" class=\"dataframe\">\n",
       "  <thead>\n",
       "    <tr style=\"text-align: right;\">\n",
       "      <th></th>\n",
       "      <th></th>\n",
       "      <th>사고내용</th>\n",
       "    </tr>\n",
       "    <tr>\n",
       "      <th>도로형태</th>\n",
       "      <th>사고내용</th>\n",
       "      <th></th>\n",
       "    </tr>\n",
       "  </thead>\n",
       "  <tbody>\n",
       "    <tr>\n",
       "      <th rowspan=\"2\" valign=\"top\">교차로 - 교차로부근</th>\n",
       "      <th>0</th>\n",
       "      <td>3200</td>\n",
       "    </tr>\n",
       "    <tr>\n",
       "      <th>1</th>\n",
       "      <td>863</td>\n",
       "    </tr>\n",
       "    <tr>\n",
       "      <th rowspan=\"2\" valign=\"top\">교차로 - 교차로안</th>\n",
       "      <th>0</th>\n",
       "      <td>5424</td>\n",
       "    </tr>\n",
       "    <tr>\n",
       "      <th>1</th>\n",
       "      <td>1957</td>\n",
       "    </tr>\n",
       "    <tr>\n",
       "      <th rowspan=\"2\" valign=\"top\">교차로 - 교차로횡단보도내</th>\n",
       "      <th>0</th>\n",
       "      <td>414</td>\n",
       "    </tr>\n",
       "    <tr>\n",
       "      <th>1</th>\n",
       "      <td>270</td>\n",
       "    </tr>\n",
       "    <tr>\n",
       "      <th rowspan=\"2\" valign=\"top\">기타 - 기타</th>\n",
       "      <th>0</th>\n",
       "      <td>679</td>\n",
       "    </tr>\n",
       "    <tr>\n",
       "      <th>1</th>\n",
       "      <td>244</td>\n",
       "    </tr>\n",
       "    <tr>\n",
       "      <th rowspan=\"2\" valign=\"top\">단일로 - 고가도로위</th>\n",
       "      <th>0</th>\n",
       "      <td>53</td>\n",
       "    </tr>\n",
       "    <tr>\n",
       "      <th>1</th>\n",
       "      <td>17</td>\n",
       "    </tr>\n",
       "    <tr>\n",
       "      <th rowspan=\"2\" valign=\"top\">단일로 - 교량</th>\n",
       "      <th>0</th>\n",
       "      <td>32</td>\n",
       "    </tr>\n",
       "    <tr>\n",
       "      <th>1</th>\n",
       "      <td>9</td>\n",
       "    </tr>\n",
       "    <tr>\n",
       "      <th rowspan=\"2\" valign=\"top\">단일로 - 기타</th>\n",
       "      <th>0</th>\n",
       "      <td>7774</td>\n",
       "    </tr>\n",
       "    <tr>\n",
       "      <th>1</th>\n",
       "      <td>2493</td>\n",
       "    </tr>\n",
       "    <tr>\n",
       "      <th rowspan=\"2\" valign=\"top\">단일로 - 지하차도(도로)내</th>\n",
       "      <th>0</th>\n",
       "      <td>41</td>\n",
       "    </tr>\n",
       "    <tr>\n",
       "      <th>1</th>\n",
       "      <td>20</td>\n",
       "    </tr>\n",
       "    <tr>\n",
       "      <th rowspan=\"2\" valign=\"top\">단일로 - 터널</th>\n",
       "      <th>0</th>\n",
       "      <td>53</td>\n",
       "    </tr>\n",
       "    <tr>\n",
       "      <th>1</th>\n",
       "      <td>21</td>\n",
       "    </tr>\n",
       "    <tr>\n",
       "      <th rowspan=\"2\" valign=\"top\">단일로 - 횡단보도부근</th>\n",
       "      <th>0</th>\n",
       "      <td>14</td>\n",
       "    </tr>\n",
       "    <tr>\n",
       "      <th>1</th>\n",
       "      <td>6</td>\n",
       "    </tr>\n",
       "    <tr>\n",
       "      <th rowspan=\"2\" valign=\"top\">단일로 - 횡단보도상</th>\n",
       "      <th>0</th>\n",
       "      <td>61</td>\n",
       "    </tr>\n",
       "    <tr>\n",
       "      <th>1</th>\n",
       "      <td>49</td>\n",
       "    </tr>\n",
       "    <tr>\n",
       "      <th rowspan=\"2\" valign=\"top\">미분류 - 미분류</th>\n",
       "      <th>0</th>\n",
       "      <td>39</td>\n",
       "    </tr>\n",
       "    <tr>\n",
       "      <th>1</th>\n",
       "      <td>16</td>\n",
       "    </tr>\n",
       "    <tr>\n",
       "      <th rowspan=\"2\" valign=\"top\">주차장 - 주차장</th>\n",
       "      <th>0</th>\n",
       "      <td>20</td>\n",
       "    </tr>\n",
       "    <tr>\n",
       "      <th>1</th>\n",
       "      <td>5</td>\n",
       "    </tr>\n",
       "  </tbody>\n",
       "</table>\n",
       "</div>"
      ],
      "text/plain": [
       "                      사고내용\n",
       "도로형태            사고내용      \n",
       "교차로 - 교차로부근     0     3200\n",
       "                1      863\n",
       "교차로 - 교차로안      0     5424\n",
       "                1     1957\n",
       "교차로 - 교차로횡단보도내  0      414\n",
       "                1      270\n",
       "기타 - 기타         0      679\n",
       "                1      244\n",
       "단일로 - 고가도로위     0       53\n",
       "                1       17\n",
       "단일로 - 교량        0       32\n",
       "                1        9\n",
       "단일로 - 기타        0     7774\n",
       "                1     2493\n",
       "단일로 - 지하차도(도로)내 0       41\n",
       "                1       20\n",
       "단일로 - 터널        0       53\n",
       "                1       21\n",
       "단일로 - 횡단보도부근    0       14\n",
       "                1        6\n",
       "단일로 - 횡단보도상     0       61\n",
       "                1       49\n",
       "미분류 - 미분류       0       39\n",
       "                1       16\n",
       "주차장 - 주차장       0       20\n",
       "                1        5"
      ]
     },
     "execution_count": 28,
     "metadata": {},
     "output_type": "execute_result"
    }
   ],
   "source": [
    "suwon.groupby(['도로형태','사고내용'])['사고내용'].count().to_frame()"
   ]
  },
  {
   "cell_type": "code",
   "execution_count": 29,
   "id": "88943167",
   "metadata": {
    "ExecuteTime": {
     "end_time": "2021-09-16T07:24:30.483218Z",
     "start_time": "2021-09-16T07:24:30.469215Z"
    }
   },
   "outputs": [],
   "source": [
    "dic_doro={'단일로 - 기타':7774/(7774+2493), '교차로 - 교차로부근':3200/(3200+863), '교차로 - 교차로안':5424/(5424+1957), '단일로 - 횡단보도상':61/(61+49), '단일로 - 횡단보도부근':14/(14+6), '미분류 - 미분류':39/(39+16), '기타 - 기타':679/(679+244), '단일로 - 터널':53/(53+21), '단일로 - 교량':32/(32+9), '교차로 - 교차로횡단보도내':414/(414+270), '단일로 - 지하차도(도로)내':41/(41+20), '단일로 - 고가도로위':53/(53+17), '주차장 - 주차장':20/25}"
   ]
  },
  {
   "cell_type": "code",
   "execution_count": 30,
   "id": "aa6d1bf5",
   "metadata": {
    "ExecuteTime": {
     "end_time": "2021-09-16T07:24:30.866193Z",
     "start_time": "2021-09-16T07:24:30.851233Z"
    }
   },
   "outputs": [
    {
     "data": {
      "text/plain": [
       "[('주차장 - 주차장', 0.8),\n",
       " ('교차로 - 교차로부근', 0.7875953728771844),\n",
       " ('단일로 - 교량', 0.7804878048780488),\n",
       " ('단일로 - 기타', 0.7571832083373916),\n",
       " ('단일로 - 고가도로위', 0.7571428571428571),\n",
       " ('기타 - 기타', 0.7356446370530878),\n",
       " ('교차로 - 교차로안', 0.7348597750982252),\n",
       " ('단일로 - 터널', 0.7162162162162162),\n",
       " ('미분류 - 미분류', 0.7090909090909091),\n",
       " ('단일로 - 횡단보도부근', 0.7),\n",
       " ('단일로 - 지하차도(도로)내', 0.6721311475409836),\n",
       " ('교차로 - 교차로횡단보도내', 0.6052631578947368),\n",
       " ('단일로 - 횡단보도상', 0.5545454545454546)]"
      ]
     },
     "execution_count": 30,
     "metadata": {},
     "output_type": "execute_result"
    }
   ],
   "source": [
    "sorted(dic_doro.items(), key=(lambda x:x[1]), reverse=True)"
   ]
  },
  {
   "cell_type": "code",
   "execution_count": 31,
   "id": "05cd7696",
   "metadata": {
    "ExecuteTime": {
     "end_time": "2021-09-16T07:24:31.328956Z",
     "start_time": "2021-09-16T07:24:31.313995Z"
    }
   },
   "outputs": [],
   "source": [
    "doro2idx={'단일로 - 기타':9, '교차로 - 교차로부근':11, '교차로 - 교차로안':6, '단일로 - 횡단보도상':0, '단일로 - 횡단보도부근':3, '미분류 - 미분류':4, '기타 - 기타':6, '단일로 - 터널':5, '단일로 - 교량':10, '교차로 - 교차로횡단보도내':1, '단일로 - 지하차도(도로)내':2, '단일로 - 고가도로위':8, '주차장 - 주차장':12}\n",
    "idx2doro={0:'단일로 - 기타', 1:'교차로 - 교차로부근', 2:'교차로 - 교차로안', 3:'단일로 - 횡단보도상', 4:'단일로 - 횡단보도부근', 5:'미분류 - 미분류', 6:'기타 - 기타', 7:'단일로 - 터널', 8:'단일로 - 교량', 9:'교차로 - 교차로횡단보도내', 10:'단일로 - 지하차도(도로)내', 11:'단일로 - 고가도로위', 12:'주차장 - 주차장'}"
   ]
  },
  {
   "cell_type": "code",
   "execution_count": 32,
   "id": "707b0446",
   "metadata": {
    "ExecuteTime": {
     "end_time": "2021-09-16T07:24:31.552357Z",
     "start_time": "2021-09-16T07:24:31.537398Z"
    }
   },
   "outputs": [
    {
     "data": {
      "text/plain": [
       "array(['승용', '화물', '승합', '이륜', '원동기', '자전거', '건설기계', '특수', '농기계', '기타불명',\n",
       "       '사륜오토바이(ATV)', '개인형이동수단(PM)'], dtype=object)"
      ]
     },
     "execution_count": 32,
     "metadata": {},
     "output_type": "execute_result"
    }
   ],
   "source": [
    "suwon[suwon.columns[4]].unique()"
   ]
  },
  {
   "cell_type": "code",
   "execution_count": 33,
   "id": "6d462c14",
   "metadata": {
    "ExecuteTime": {
     "end_time": "2021-09-16T07:24:32.094906Z",
     "start_time": "2021-09-16T07:24:32.079946Z"
    }
   },
   "outputs": [
    {
     "data": {
      "text/html": [
       "<div>\n",
       "<style scoped>\n",
       "    .dataframe tbody tr th:only-of-type {\n",
       "        vertical-align: middle;\n",
       "    }\n",
       "\n",
       "    .dataframe tbody tr th {\n",
       "        vertical-align: top;\n",
       "    }\n",
       "\n",
       "    .dataframe thead th {\n",
       "        text-align: right;\n",
       "    }\n",
       "</style>\n",
       "<table border=\"1\" class=\"dataframe\">\n",
       "  <thead>\n",
       "    <tr style=\"text-align: right;\">\n",
       "      <th></th>\n",
       "      <th></th>\n",
       "      <th>사고내용</th>\n",
       "    </tr>\n",
       "    <tr>\n",
       "      <th>가해운전자_차종</th>\n",
       "      <th>사고내용</th>\n",
       "      <th></th>\n",
       "    </tr>\n",
       "  </thead>\n",
       "  <tbody>\n",
       "    <tr>\n",
       "      <th rowspan=\"2\" valign=\"top\">개인형이동수단(PM)</th>\n",
       "      <th>0</th>\n",
       "      <td>37</td>\n",
       "    </tr>\n",
       "    <tr>\n",
       "      <th>1</th>\n",
       "      <td>18</td>\n",
       "    </tr>\n",
       "    <tr>\n",
       "      <th rowspan=\"2\" valign=\"top\">건설기계</th>\n",
       "      <th>0</th>\n",
       "      <td>155</td>\n",
       "    </tr>\n",
       "    <tr>\n",
       "      <th>1</th>\n",
       "      <td>60</td>\n",
       "    </tr>\n",
       "    <tr>\n",
       "      <th>기타불명</th>\n",
       "      <th>0</th>\n",
       "      <td>9</td>\n",
       "    </tr>\n",
       "    <tr>\n",
       "      <th rowspan=\"2\" valign=\"top\">농기계</th>\n",
       "      <th>0</th>\n",
       "      <td>4</td>\n",
       "    </tr>\n",
       "    <tr>\n",
       "      <th>1</th>\n",
       "      <td>1</td>\n",
       "    </tr>\n",
       "    <tr>\n",
       "      <th rowspan=\"2\" valign=\"top\">사륜오토바이(ATV)</th>\n",
       "      <th>0</th>\n",
       "      <td>2</td>\n",
       "    </tr>\n",
       "    <tr>\n",
       "      <th>1</th>\n",
       "      <td>1</td>\n",
       "    </tr>\n",
       "    <tr>\n",
       "      <th rowspan=\"2\" valign=\"top\">승용</th>\n",
       "      <th>0</th>\n",
       "      <td>12641</td>\n",
       "    </tr>\n",
       "    <tr>\n",
       "      <th>1</th>\n",
       "      <td>4005</td>\n",
       "    </tr>\n",
       "    <tr>\n",
       "      <th rowspan=\"2\" valign=\"top\">승합</th>\n",
       "      <th>0</th>\n",
       "      <td>1431</td>\n",
       "    </tr>\n",
       "    <tr>\n",
       "      <th>1</th>\n",
       "      <td>630</td>\n",
       "    </tr>\n",
       "    <tr>\n",
       "      <th rowspan=\"2\" valign=\"top\">원동기</th>\n",
       "      <th>0</th>\n",
       "      <td>160</td>\n",
       "    </tr>\n",
       "    <tr>\n",
       "      <th>1</th>\n",
       "      <td>50</td>\n",
       "    </tr>\n",
       "    <tr>\n",
       "      <th rowspan=\"2\" valign=\"top\">이륜</th>\n",
       "      <th>0</th>\n",
       "      <td>1222</td>\n",
       "    </tr>\n",
       "    <tr>\n",
       "      <th>1</th>\n",
       "      <td>468</td>\n",
       "    </tr>\n",
       "    <tr>\n",
       "      <th rowspan=\"2\" valign=\"top\">자전거</th>\n",
       "      <th>0</th>\n",
       "      <td>522</td>\n",
       "    </tr>\n",
       "    <tr>\n",
       "      <th>1</th>\n",
       "      <td>165</td>\n",
       "    </tr>\n",
       "    <tr>\n",
       "      <th rowspan=\"2\" valign=\"top\">특수</th>\n",
       "      <th>0</th>\n",
       "      <td>68</td>\n",
       "    </tr>\n",
       "    <tr>\n",
       "      <th>1</th>\n",
       "      <td>20</td>\n",
       "    </tr>\n",
       "    <tr>\n",
       "      <th rowspan=\"2\" valign=\"top\">화물</th>\n",
       "      <th>0</th>\n",
       "      <td>1553</td>\n",
       "    </tr>\n",
       "    <tr>\n",
       "      <th>1</th>\n",
       "      <td>552</td>\n",
       "    </tr>\n",
       "  </tbody>\n",
       "</table>\n",
       "</div>"
      ],
      "text/plain": [
       "                   사고내용\n",
       "가해운전자_차종    사고내용       \n",
       "개인형이동수단(PM) 0        37\n",
       "            1        18\n",
       "건설기계        0       155\n",
       "            1        60\n",
       "기타불명        0         9\n",
       "농기계         0         4\n",
       "            1         1\n",
       "사륜오토바이(ATV) 0         2\n",
       "            1         1\n",
       "승용          0     12641\n",
       "            1      4005\n",
       "승합          0      1431\n",
       "            1       630\n",
       "원동기         0       160\n",
       "            1        50\n",
       "이륜          0      1222\n",
       "            1       468\n",
       "자전거         0       522\n",
       "            1       165\n",
       "특수          0        68\n",
       "            1        20\n",
       "화물          0      1553\n",
       "            1       552"
      ]
     },
     "execution_count": 33,
     "metadata": {},
     "output_type": "execute_result"
    }
   ],
   "source": [
    "suwon.groupby(['가해운전자_차종','사고내용'])['사고내용'].count().to_frame()"
   ]
  },
  {
   "cell_type": "code",
   "execution_count": 34,
   "id": "1afc0080",
   "metadata": {
    "ExecuteTime": {
     "end_time": "2021-09-16T07:24:32.477881Z",
     "start_time": "2021-09-16T07:24:32.462922Z"
    }
   },
   "outputs": [],
   "source": [
    "dic_gacha={'승용':12641/(12641+4005), '화물':1553/(1553+552), '승합':1431/(1431+630), '이륜':1222/(1222+468), '원동기':160/(160+50), '자전거':522/(522+165), '건설기계':155/(155+60), '특수':68/(68+20), '농기계':4/5, '기타불명':9/9, '사륜오토바이(ATV)':2/3, '개인형이동수단(PM)':37/(37+18)}"
   ]
  },
  {
   "cell_type": "code",
   "execution_count": 35,
   "id": "7ad4e8ce",
   "metadata": {
    "ExecuteTime": {
     "end_time": "2021-09-16T07:24:32.555673Z",
     "start_time": "2021-09-16T07:24:32.511791Z"
    }
   },
   "outputs": [
    {
     "data": {
      "text/plain": [
       "[('기타불명', 1.0),\n",
       " ('농기계', 0.8),\n",
       " ('특수', 0.7727272727272727),\n",
       " ('원동기', 0.7619047619047619),\n",
       " ('자전거', 0.759825327510917),\n",
       " ('승용', 0.7594016580559895),\n",
       " ('화물', 0.7377672209026128),\n",
       " ('이륜', 0.7230769230769231),\n",
       " ('건설기계', 0.7209302325581395),\n",
       " ('승합', 0.6943231441048034),\n",
       " ('개인형이동수단(PM)', 0.6727272727272727),\n",
       " ('사륜오토바이(ATV)', 0.6666666666666666)]"
      ]
     },
     "execution_count": 35,
     "metadata": {},
     "output_type": "execute_result"
    }
   ],
   "source": [
    "sorted(dic_gacha.items(), key=(lambda x:x[1]), reverse=True)"
   ]
  },
  {
   "cell_type": "code",
   "execution_count": 36,
   "id": "5ac5581a",
   "metadata": {
    "ExecuteTime": {
     "end_time": "2021-09-16T07:24:33.049353Z",
     "start_time": "2021-09-16T07:24:33.034397Z"
    }
   },
   "outputs": [],
   "source": [
    "gacha2idx={'승용':6, '화물':5, '승합':2, '이륜':4, '원동기':8, '자전거':7, '건설기계':3, '특수':9, '농기계':10, '기타불명':11, '사륜오토바이(ATV)':0, '개인형이동수단(PM)':1}\n",
    "idx2gacha={0:'승용', 1:'화물', 2:'승합', 3:'이륜', 4:'원동기', 5:'자전거', 6:'건설기계', 7:'특수', 8:'농기계', 9:'기타불명', 10:'사륜오토바이(ATV)', 11:'개인형이동수단(PM)'}"
   ]
  },
  {
   "cell_type": "code",
   "execution_count": 37,
   "id": "6827da13",
   "metadata": {
    "ExecuteTime": {
     "end_time": "2021-09-16T07:24:33.655731Z",
     "start_time": "2021-09-16T07:24:33.640771Z"
    }
   },
   "outputs": [
    {
     "data": {
      "text/plain": [
       "array(['남', '여'], dtype=object)"
      ]
     },
     "execution_count": 37,
     "metadata": {},
     "output_type": "execute_result"
    }
   ],
   "source": [
    "suwon[suwon.columns[5]].unique()"
   ]
  },
  {
   "cell_type": "code",
   "execution_count": 38,
   "id": "e505b8a9",
   "metadata": {
    "ExecuteTime": {
     "end_time": "2021-09-16T07:24:33.735517Z",
     "start_time": "2021-09-16T07:24:33.656743Z"
    }
   },
   "outputs": [
    {
     "data": {
      "text/html": [
       "<div>\n",
       "<style scoped>\n",
       "    .dataframe tbody tr th:only-of-type {\n",
       "        vertical-align: middle;\n",
       "    }\n",
       "\n",
       "    .dataframe tbody tr th {\n",
       "        vertical-align: top;\n",
       "    }\n",
       "\n",
       "    .dataframe thead th {\n",
       "        text-align: right;\n",
       "    }\n",
       "</style>\n",
       "<table border=\"1\" class=\"dataframe\">\n",
       "  <thead>\n",
       "    <tr style=\"text-align: right;\">\n",
       "      <th></th>\n",
       "      <th></th>\n",
       "      <th>사고내용</th>\n",
       "    </tr>\n",
       "    <tr>\n",
       "      <th>가해운전자_성별</th>\n",
       "      <th>사고내용</th>\n",
       "      <th></th>\n",
       "    </tr>\n",
       "  </thead>\n",
       "  <tbody>\n",
       "    <tr>\n",
       "      <th rowspan=\"2\" valign=\"top\">남</th>\n",
       "      <th>0</th>\n",
       "      <td>13739</td>\n",
       "    </tr>\n",
       "    <tr>\n",
       "      <th>1</th>\n",
       "      <td>4723</td>\n",
       "    </tr>\n",
       "    <tr>\n",
       "      <th rowspan=\"2\" valign=\"top\">여</th>\n",
       "      <th>0</th>\n",
       "      <td>4065</td>\n",
       "    </tr>\n",
       "    <tr>\n",
       "      <th>1</th>\n",
       "      <td>1247</td>\n",
       "    </tr>\n",
       "  </tbody>\n",
       "</table>\n",
       "</div>"
      ],
      "text/plain": [
       "                사고내용\n",
       "가해운전자_성별 사고내용       \n",
       "남        0     13739\n",
       "         1      4723\n",
       "여        0      4065\n",
       "         1      1247"
      ]
     },
     "execution_count": 38,
     "metadata": {},
     "output_type": "execute_result"
    }
   ],
   "source": [
    "suwon.groupby(['가해운전자_성별','사고내용'])['사고내용'].count().to_frame()"
   ]
  },
  {
   "cell_type": "code",
   "execution_count": 39,
   "id": "33288a40",
   "metadata": {
    "ExecuteTime": {
     "end_time": "2021-09-16T07:24:34.133452Z",
     "start_time": "2021-09-16T07:24:34.118492Z"
    }
   },
   "outputs": [
    {
     "data": {
      "text/plain": [
       "(0.7441772289026107, 0.7652484939759037)"
      ]
     },
     "execution_count": 39,
     "metadata": {},
     "output_type": "execute_result"
    }
   ],
   "source": [
    "13739/(13739+4723), 4065/(4065+1247)"
   ]
  },
  {
   "cell_type": "code",
   "execution_count": 40,
   "id": "25684750",
   "metadata": {
    "ExecuteTime": {
     "end_time": "2021-09-16T07:24:34.516428Z",
     "start_time": "2021-09-16T07:24:34.501468Z"
    }
   },
   "outputs": [],
   "source": [
    "gasung2idx={'남':0, '여':1}\n",
    "idx2gasung={0:'남', 1:'여'}"
   ]
  },
  {
   "cell_type": "code",
   "execution_count": 41,
   "id": "97fdb57e",
   "metadata": {
    "ExecuteTime": {
     "end_time": "2021-09-16T07:24:34.899403Z",
     "start_time": "2021-09-16T07:24:34.884448Z"
    }
   },
   "outputs": [
    {
     "data": {
      "text/plain": [
       "array(['대황교동', '인계동', '우만동', '영통동', '세류동', '파장동', '권선동', '송죽동', '영화동',\n",
       "       '정자동', '곡반정동', '이의동', '화서동', '고색동', '서둔동', '입북동', '원천동', '조원동',\n",
       "       '연무동', '매탄동', '이목동', '망포동', '평동', '매교동', '탑동', '신동', '매산로1가',\n",
       "       '율전동', '금곡동', '하동', '천천동', '북수동', '팔달로3가', '지동', '중동', '남수동',\n",
       "       '하광교동', '당수동', '구운동', '고등동', '팔달로1가', '영동', '매산로2가', '교동', '팔달로2가',\n",
       "       '매향동', '오목천동', '매산로3가', '호매실동', '구천동', '신풍동', '상광교동', '평리동', '장안동',\n",
       "       '장지동', '남창동'], dtype=object)"
      ]
     },
     "execution_count": 41,
     "metadata": {},
     "output_type": "execute_result"
    }
   ],
   "source": [
    "suwon[suwon.columns[7]].unique()"
   ]
  },
  {
   "cell_type": "code",
   "execution_count": 42,
   "id": "5afae3bb",
   "metadata": {
    "ExecuteTime": {
     "end_time": "2021-09-16T07:24:35.298337Z",
     "start_time": "2021-09-16T07:24:35.267433Z"
    }
   },
   "outputs": [
    {
     "data": {
      "text/html": [
       "<div>\n",
       "<style scoped>\n",
       "    .dataframe tbody tr th:only-of-type {\n",
       "        vertical-align: middle;\n",
       "    }\n",
       "\n",
       "    .dataframe tbody tr th {\n",
       "        vertical-align: top;\n",
       "    }\n",
       "\n",
       "    .dataframe thead th {\n",
       "        text-align: right;\n",
       "    }\n",
       "</style>\n",
       "<table border=\"1\" class=\"dataframe\">\n",
       "  <thead>\n",
       "    <tr style=\"text-align: right;\">\n",
       "      <th></th>\n",
       "      <th></th>\n",
       "      <th>사고내용</th>\n",
       "    </tr>\n",
       "    <tr>\n",
       "      <th>행정동</th>\n",
       "      <th>사고내용</th>\n",
       "      <th></th>\n",
       "    </tr>\n",
       "  </thead>\n",
       "  <tbody>\n",
       "    <tr>\n",
       "      <th rowspan=\"2\" valign=\"top\">고등동</th>\n",
       "      <th>0</th>\n",
       "      <td>186</td>\n",
       "    </tr>\n",
       "    <tr>\n",
       "      <th>1</th>\n",
       "      <td>60</td>\n",
       "    </tr>\n",
       "    <tr>\n",
       "      <th rowspan=\"2\" valign=\"top\">고색동</th>\n",
       "      <th>0</th>\n",
       "      <td>560</td>\n",
       "    </tr>\n",
       "    <tr>\n",
       "      <th>1</th>\n",
       "      <td>141</td>\n",
       "    </tr>\n",
       "    <tr>\n",
       "      <th>곡반정동</th>\n",
       "      <th>0</th>\n",
       "      <td>238</td>\n",
       "    </tr>\n",
       "    <tr>\n",
       "      <th>...</th>\n",
       "      <th>...</th>\n",
       "      <td>...</td>\n",
       "    </tr>\n",
       "    <tr>\n",
       "      <th>하동</th>\n",
       "      <th>1</th>\n",
       "      <td>61</td>\n",
       "    </tr>\n",
       "    <tr>\n",
       "      <th rowspan=\"2\" valign=\"top\">호매실동</th>\n",
       "      <th>0</th>\n",
       "      <td>325</td>\n",
       "    </tr>\n",
       "    <tr>\n",
       "      <th>1</th>\n",
       "      <td>119</td>\n",
       "    </tr>\n",
       "    <tr>\n",
       "      <th rowspan=\"2\" valign=\"top\">화서동</th>\n",
       "      <th>0</th>\n",
       "      <td>623</td>\n",
       "    </tr>\n",
       "    <tr>\n",
       "      <th>1</th>\n",
       "      <td>173</td>\n",
       "    </tr>\n",
       "  </tbody>\n",
       "</table>\n",
       "<p>112 rows × 1 columns</p>\n",
       "</div>"
      ],
      "text/plain": [
       "           사고내용\n",
       "행정동  사고내용      \n",
       "고등동  0      186\n",
       "     1       60\n",
       "고색동  0      560\n",
       "     1      141\n",
       "곡반정동 0      238\n",
       "...         ...\n",
       "하동   1       61\n",
       "호매실동 0      325\n",
       "     1      119\n",
       "화서동  0      623\n",
       "     1      173\n",
       "\n",
       "[112 rows x 1 columns]"
      ]
     },
     "execution_count": 42,
     "metadata": {},
     "output_type": "execute_result"
    }
   ],
   "source": [
    "suwon.groupby(['행정동','사고내용'])['사고내용'].count().to_frame()"
   ]
  },
  {
   "cell_type": "code",
   "execution_count": null,
   "id": "26e4d626",
   "metadata": {},
   "outputs": [],
   "source": []
  },
  {
   "cell_type": "code",
   "execution_count": 43,
   "id": "6062d988",
   "metadata": {
    "ExecuteTime": {
     "end_time": "2021-09-16T07:24:35.697269Z",
     "start_time": "2021-09-16T07:24:35.682309Z"
    }
   },
   "outputs": [],
   "source": [
    "dong2idx={'대황교동':0, '인계동':1, '우만동':2, '영통동':3, '세류동':4, '파장동':5, '권선동':6, '송죽동':7, '영화동':8,\n",
    "       '정자동':9, '곡반정동':10, '이의동':11, '화서동':12, '고색동':13, '서둔동':14, '입북동':15, '원천동':16, '조원동':17,\n",
    "       '연무동':18, '매탄동':19, '이목동':20, '망포동':21, '평동':22, '매교동':23, '탑동':24, '신동':25, '매산로1가':26,\n",
    "       '율전동':27, '금곡동':28, '하동':29, '천천동':30, '북수동':31, '팔달로3가':32, '지동':33, '중동':34, '남수동':35,\n",
    "       '하광교동':36, '당수동':37, '구운동':38, '고등동':39, '팔달로1가':40, '영동':41, '매산로2가':42, '교동':43, '팔달로2가':44,\n",
    "       '매향동':45, '오목천동':46, '매산로3가':47, '호매실동':48, '구천동':49, '신풍동':50, '상광교동':51, '평리동':52, '장안동':53,\n",
    "       '장지동':54, '남창동':55}\n",
    "idx2dong={0:'대황교동', 1:'인계동', 2:'우만동', 3:'영통동', 4:'세류동', 5:'파장동', 6:'권선동', 7:'송죽동', 8:'영화동',\n",
    "       9:'정자동', 10:'곡반정동', 11:'이의동', 12:'화서동', 13:'고색동', 14:'서둔동', 15:'입북동', 16:'원천동', 17:'조원동',\n",
    "       18:'연무동', 19:'매탄동', 20:'이목동', 21:'망포동', 22:'평동', 23:'매교동', 24:'탑동', 25:'신동', 26:'매산로1가',\n",
    "       27:'율전동', 28:'금곡동', 29:'하동', 30:'천천동', 31:'북수동', 32:'팔달로3가', 33:'지동', 34:'중동', 35:'남수동',\n",
    "       36:'하광교동', 37:'당수동', 38:'구운동', 39:'고등동', 40:'팔달로1가', 41:'영동', 42:'매산로2가', 43:'교동', 44:'팔달로2가',\n",
    "       45:'매향동', 46:'오목천동', 47:'매산로3가', 48:'호매실동', 49:'구천동', 50:'신풍동', 51:'상광교동', 52:'평리동', 53:'장안동',\n",
    "       54:'장지동', 55:'남창동'}"
   ]
  },
  {
   "cell_type": "markdown",
   "id": "365c4f09",
   "metadata": {},
   "source": [
    "# 1.DNN"
   ]
  },
  {
   "cell_type": "code",
   "execution_count": 44,
   "id": "5598cda3",
   "metadata": {
    "ExecuteTime": {
     "end_time": "2021-09-16T07:24:36.444271Z",
     "start_time": "2021-09-16T07:24:36.430308Z"
    }
   },
   "outputs": [],
   "source": [
    "suwon_cp=suwon.copy()"
   ]
  },
  {
   "cell_type": "code",
   "execution_count": 45,
   "id": "f1ec55e8",
   "metadata": {
    "ExecuteTime": {
     "end_time": "2021-09-16T07:24:36.524058Z",
     "start_time": "2021-09-16T07:24:36.446265Z"
    }
   },
   "outputs": [],
   "source": [
    "suwon_cp['요일']=suwon_cp['요일'].map(yoil2idx)/(len(yoil2idx)-1)"
   ]
  },
  {
   "cell_type": "code",
   "execution_count": 46,
   "id": "b735afcf",
   "metadata": {
    "ExecuteTime": {
     "end_time": "2021-09-16T07:24:37.297499Z",
     "start_time": "2021-09-16T07:24:37.283336Z"
    }
   },
   "outputs": [],
   "source": [
    "#suwon_cp['요일']=(suwon_cp['요일']*(len(yoil2idx)-1)).map(idx2yoil)"
   ]
  },
  {
   "cell_type": "code",
   "execution_count": 47,
   "id": "84835d16",
   "metadata": {
    "ExecuteTime": {
     "end_time": "2021-09-16T07:24:38.760481Z",
     "start_time": "2021-09-16T07:24:38.745306Z"
    }
   },
   "outputs": [],
   "source": [
    "suwon_cp['노면상태']=suwon_cp['노면상태'].map(nom2idx)/(len(nom2idx)-1)"
   ]
  },
  {
   "cell_type": "code",
   "execution_count": 48,
   "id": "8466badf",
   "metadata": {
    "ExecuteTime": {
     "end_time": "2021-09-16T07:24:38.943805Z",
     "start_time": "2021-09-16T07:24:38.761487Z"
    }
   },
   "outputs": [],
   "source": [
    "suwon_cp['기상상태']=suwon_cp['기상상태'].map(gs2idx)/(len(gs2idx)-1)"
   ]
  },
  {
   "cell_type": "code",
   "execution_count": 49,
   "id": "8f8102c6",
   "metadata": {
    "ExecuteTime": {
     "end_time": "2021-09-16T07:24:39.659439Z",
     "start_time": "2021-09-16T07:24:39.635936Z"
    }
   },
   "outputs": [],
   "source": [
    "suwon_cp['도로형태']=suwon_cp['도로형태'].map(doro2idx)/(len(doro2idx)-1)"
   ]
  },
  {
   "cell_type": "code",
   "execution_count": 50,
   "id": "d7e4147a",
   "metadata": {
    "ExecuteTime": {
     "end_time": "2021-09-16T07:24:40.018650Z",
     "start_time": "2021-09-16T07:24:40.001463Z"
    }
   },
   "outputs": [],
   "source": [
    "suwon_cp['가해운전자_차종']=suwon_cp['가해운전자_차종'].map(gacha2idx)/(len(gacha2idx)-1)"
   ]
  },
  {
   "cell_type": "code",
   "execution_count": 51,
   "id": "961ad86a",
   "metadata": {
    "ExecuteTime": {
     "end_time": "2021-09-16T07:24:40.545147Z",
     "start_time": "2021-09-16T07:24:40.531292Z"
    }
   },
   "outputs": [],
   "source": [
    "suwon_cp['가해운전자_성별']=suwon_cp['가해운전자_성별'].map(gasung2idx)"
   ]
  },
  {
   "cell_type": "code",
   "execution_count": 52,
   "id": "baba53b3",
   "metadata": {
    "ExecuteTime": {
     "end_time": "2021-09-16T07:24:40.930324Z",
     "start_time": "2021-09-16T07:24:40.915363Z"
    }
   },
   "outputs": [],
   "source": [
    "max_value=suwon_cp['가해운전자_연령'].max()\n",
    "min_value=suwon_cp['가해운전자_연령'].min()"
   ]
  },
  {
   "cell_type": "code",
   "execution_count": 53,
   "id": "b2c8687b",
   "metadata": {
    "ExecuteTime": {
     "end_time": "2021-09-16T07:24:41.672226Z",
     "start_time": "2021-09-16T07:24:41.657245Z"
    }
   },
   "outputs": [],
   "source": [
    "suwon_cp['가해운전자_연령']=(suwon_cp['가해운전자_연령']-min_value)/(max_value-min_value)"
   ]
  },
  {
   "cell_type": "code",
   "execution_count": 54,
   "id": "59b84b92",
   "metadata": {
    "ExecuteTime": {
     "end_time": "2021-09-16T07:24:42.421111Z",
     "start_time": "2021-09-16T07:24:42.406151Z"
    }
   },
   "outputs": [],
   "source": [
    "suwon_cp['행정동']=suwon_cp['행정동'].map(dong2idx)/(len(dong2idx)-1)"
   ]
  },
  {
   "cell_type": "code",
   "execution_count": 55,
   "id": "c1004815",
   "metadata": {
    "ExecuteTime": {
     "end_time": "2021-09-16T07:24:42.982959Z",
     "start_time": "2021-09-16T07:24:42.968961Z"
    }
   },
   "outputs": [],
   "source": [
    "suwon_cp['발생월']=(suwon_cp['발생월']-1)/11"
   ]
  },
  {
   "cell_type": "code",
   "execution_count": 56,
   "id": "9bfd2104",
   "metadata": {
    "ExecuteTime": {
     "end_time": "2021-09-16T07:24:43.676997Z",
     "start_time": "2021-09-16T07:24:43.663170Z"
    }
   },
   "outputs": [],
   "source": [
    "suwon_cp['발생시간']=suwon_cp['발생시간']/23"
   ]
  },
  {
   "cell_type": "code",
   "execution_count": 57,
   "id": "7c1b1213",
   "metadata": {
    "ExecuteTime": {
     "end_time": "2021-09-16T07:24:44.441661Z",
     "start_time": "2021-09-16T07:24:44.426679Z"
    }
   },
   "outputs": [
    {
     "data": {
      "text/plain": [
       "Index(['요일', '노면상태', '기상상태', '도로형태', '가해운전자_차종', '가해운전자_성별', '가해운전자_연령', '행정동',\n",
       "       '발생월', '발생시간', '사고내용'],\n",
       "      dtype='object')"
      ]
     },
     "execution_count": 57,
     "metadata": {},
     "output_type": "execute_result"
    }
   ],
   "source": [
    "suwon.columns"
   ]
  },
  {
   "cell_type": "code",
   "execution_count": 58,
   "id": "013eafac",
   "metadata": {
    "ExecuteTime": {
     "end_time": "2021-09-16T07:24:45.211522Z",
     "start_time": "2021-09-16T07:24:45.198313Z"
    }
   },
   "outputs": [],
   "source": [
    "suwon_cp=suwon_cp[['요일', '노면상태', '기상상태', '도로형태', '가해운전자_차종', '가해운전자_성별',\n",
    "       '가해운전자_연령', '행정동', '발생월', '발생시간','사고내용']]"
   ]
  },
  {
   "cell_type": "code",
   "execution_count": 59,
   "id": "487c39f4",
   "metadata": {
    "ExecuteTime": {
     "end_time": "2021-09-16T07:24:45.974810Z",
     "start_time": "2021-09-16T07:24:45.943893Z"
    }
   },
   "outputs": [
    {
     "data": {
      "text/html": [
       "<div>\n",
       "<style scoped>\n",
       "    .dataframe tbody tr th:only-of-type {\n",
       "        vertical-align: middle;\n",
       "    }\n",
       "\n",
       "    .dataframe tbody tr th {\n",
       "        vertical-align: top;\n",
       "    }\n",
       "\n",
       "    .dataframe thead th {\n",
       "        text-align: right;\n",
       "    }\n",
       "</style>\n",
       "<table border=\"1\" class=\"dataframe\">\n",
       "  <thead>\n",
       "    <tr style=\"text-align: right;\">\n",
       "      <th></th>\n",
       "      <th>요일</th>\n",
       "      <th>노면상태</th>\n",
       "      <th>기상상태</th>\n",
       "      <th>도로형태</th>\n",
       "      <th>가해운전자_차종</th>\n",
       "      <th>가해운전자_성별</th>\n",
       "      <th>가해운전자_연령</th>\n",
       "      <th>행정동</th>\n",
       "      <th>발생월</th>\n",
       "      <th>발생시간</th>\n",
       "      <th>사고내용</th>\n",
       "    </tr>\n",
       "  </thead>\n",
       "  <tbody>\n",
       "    <tr>\n",
       "      <th>1</th>\n",
       "      <td>0.666667</td>\n",
       "      <td>0.272727</td>\n",
       "      <td>0.6</td>\n",
       "      <td>0.750000</td>\n",
       "      <td>0.545455</td>\n",
       "      <td>0</td>\n",
       "      <td>0.413043</td>\n",
       "      <td>0.000000</td>\n",
       "      <td>0.0</td>\n",
       "      <td>0.173913</td>\n",
       "      <td>1</td>\n",
       "    </tr>\n",
       "    <tr>\n",
       "      <th>2</th>\n",
       "      <td>0.666667</td>\n",
       "      <td>0.272727</td>\n",
       "      <td>0.6</td>\n",
       "      <td>0.916667</td>\n",
       "      <td>0.545455</td>\n",
       "      <td>0</td>\n",
       "      <td>0.576087</td>\n",
       "      <td>0.018182</td>\n",
       "      <td>0.0</td>\n",
       "      <td>0.173913</td>\n",
       "      <td>1</td>\n",
       "    </tr>\n",
       "    <tr>\n",
       "      <th>3</th>\n",
       "      <td>0.666667</td>\n",
       "      <td>0.272727</td>\n",
       "      <td>0.6</td>\n",
       "      <td>0.500000</td>\n",
       "      <td>0.454545</td>\n",
       "      <td>0</td>\n",
       "      <td>0.239130</td>\n",
       "      <td>0.036364</td>\n",
       "      <td>0.0</td>\n",
       "      <td>0.217391</td>\n",
       "      <td>0</td>\n",
       "    </tr>\n",
       "    <tr>\n",
       "      <th>4</th>\n",
       "      <td>0.666667</td>\n",
       "      <td>0.272727</td>\n",
       "      <td>0.6</td>\n",
       "      <td>0.916667</td>\n",
       "      <td>0.545455</td>\n",
       "      <td>0</td>\n",
       "      <td>0.206522</td>\n",
       "      <td>0.018182</td>\n",
       "      <td>0.0</td>\n",
       "      <td>0.260870</td>\n",
       "      <td>0</td>\n",
       "    </tr>\n",
       "    <tr>\n",
       "      <th>5</th>\n",
       "      <td>0.666667</td>\n",
       "      <td>0.272727</td>\n",
       "      <td>0.6</td>\n",
       "      <td>0.750000</td>\n",
       "      <td>0.545455</td>\n",
       "      <td>0</td>\n",
       "      <td>0.293478</td>\n",
       "      <td>0.036364</td>\n",
       "      <td>0.0</td>\n",
       "      <td>0.478261</td>\n",
       "      <td>0</td>\n",
       "    </tr>\n",
       "    <tr>\n",
       "      <th>...</th>\n",
       "      <td>...</td>\n",
       "      <td>...</td>\n",
       "      <td>...</td>\n",
       "      <td>...</td>\n",
       "      <td>...</td>\n",
       "      <td>...</td>\n",
       "      <td>...</td>\n",
       "      <td>...</td>\n",
       "      <td>...</td>\n",
       "      <td>...</td>\n",
       "      <td>...</td>\n",
       "    </tr>\n",
       "    <tr>\n",
       "      <th>24355</th>\n",
       "      <td>0.833333</td>\n",
       "      <td>0.272727</td>\n",
       "      <td>0.6</td>\n",
       "      <td>0.750000</td>\n",
       "      <td>0.545455</td>\n",
       "      <td>0</td>\n",
       "      <td>0.619565</td>\n",
       "      <td>0.145455</td>\n",
       "      <td>1.0</td>\n",
       "      <td>0.739130</td>\n",
       "      <td>0</td>\n",
       "    </tr>\n",
       "    <tr>\n",
       "      <th>24356</th>\n",
       "      <td>0.833333</td>\n",
       "      <td>0.272727</td>\n",
       "      <td>0.6</td>\n",
       "      <td>0.750000</td>\n",
       "      <td>0.545455</td>\n",
       "      <td>1</td>\n",
       "      <td>0.163043</td>\n",
       "      <td>0.872727</td>\n",
       "      <td>1.0</td>\n",
       "      <td>0.782609</td>\n",
       "      <td>0</td>\n",
       "    </tr>\n",
       "    <tr>\n",
       "      <th>24357</th>\n",
       "      <td>0.833333</td>\n",
       "      <td>0.272727</td>\n",
       "      <td>0.6</td>\n",
       "      <td>0.750000</td>\n",
       "      <td>0.727273</td>\n",
       "      <td>0</td>\n",
       "      <td>0.184783</td>\n",
       "      <td>0.272727</td>\n",
       "      <td>1.0</td>\n",
       "      <td>0.782609</td>\n",
       "      <td>0</td>\n",
       "    </tr>\n",
       "    <tr>\n",
       "      <th>24358</th>\n",
       "      <td>0.833333</td>\n",
       "      <td>0.272727</td>\n",
       "      <td>0.6</td>\n",
       "      <td>0.500000</td>\n",
       "      <td>0.545455</td>\n",
       "      <td>0</td>\n",
       "      <td>0.456522</td>\n",
       "      <td>0.345455</td>\n",
       "      <td>1.0</td>\n",
       "      <td>0.826087</td>\n",
       "      <td>0</td>\n",
       "    </tr>\n",
       "    <tr>\n",
       "      <th>24359</th>\n",
       "      <td>0.833333</td>\n",
       "      <td>0.272727</td>\n",
       "      <td>0.6</td>\n",
       "      <td>0.500000</td>\n",
       "      <td>0.545455</td>\n",
       "      <td>0</td>\n",
       "      <td>0.402174</td>\n",
       "      <td>0.109091</td>\n",
       "      <td>1.0</td>\n",
       "      <td>0.826087</td>\n",
       "      <td>0</td>\n",
       "    </tr>\n",
       "  </tbody>\n",
       "</table>\n",
       "<p>23774 rows × 11 columns</p>\n",
       "</div>"
      ],
      "text/plain": [
       "             요일      노면상태  기상상태      도로형태  가해운전자_차종  가해운전자_성별  가해운전자_연령  \\\n",
       "1      0.666667  0.272727   0.6  0.750000  0.545455         0  0.413043   \n",
       "2      0.666667  0.272727   0.6  0.916667  0.545455         0  0.576087   \n",
       "3      0.666667  0.272727   0.6  0.500000  0.454545         0  0.239130   \n",
       "4      0.666667  0.272727   0.6  0.916667  0.545455         0  0.206522   \n",
       "5      0.666667  0.272727   0.6  0.750000  0.545455         0  0.293478   \n",
       "...         ...       ...   ...       ...       ...       ...       ...   \n",
       "24355  0.833333  0.272727   0.6  0.750000  0.545455         0  0.619565   \n",
       "24356  0.833333  0.272727   0.6  0.750000  0.545455         1  0.163043   \n",
       "24357  0.833333  0.272727   0.6  0.750000  0.727273         0  0.184783   \n",
       "24358  0.833333  0.272727   0.6  0.500000  0.545455         0  0.456522   \n",
       "24359  0.833333  0.272727   0.6  0.500000  0.545455         0  0.402174   \n",
       "\n",
       "            행정동  발생월      발생시간  사고내용  \n",
       "1      0.000000  0.0  0.173913     1  \n",
       "2      0.018182  0.0  0.173913     1  \n",
       "3      0.036364  0.0  0.217391     0  \n",
       "4      0.018182  0.0  0.260870     0  \n",
       "5      0.036364  0.0  0.478261     0  \n",
       "...         ...  ...       ...   ...  \n",
       "24355  0.145455  1.0  0.739130     0  \n",
       "24356  0.872727  1.0  0.782609     0  \n",
       "24357  0.272727  1.0  0.782609     0  \n",
       "24358  0.345455  1.0  0.826087     0  \n",
       "24359  0.109091  1.0  0.826087     0  \n",
       "\n",
       "[23774 rows x 11 columns]"
      ]
     },
     "execution_count": 59,
     "metadata": {},
     "output_type": "execute_result"
    }
   ],
   "source": [
    "suwon_cp"
   ]
  },
  {
   "cell_type": "code",
   "execution_count": 84,
   "id": "b8eb1374",
   "metadata": {
    "ExecuteTime": {
     "end_time": "2021-09-16T07:45:48.859238Z",
     "start_time": "2021-09-16T07:45:48.814358Z"
    }
   },
   "outputs": [
    {
     "data": {
      "text/html": [
       "<div>\n",
       "<style scoped>\n",
       "    .dataframe tbody tr th:only-of-type {\n",
       "        vertical-align: middle;\n",
       "    }\n",
       "\n",
       "    .dataframe tbody tr th {\n",
       "        vertical-align: top;\n",
       "    }\n",
       "\n",
       "    .dataframe thead th {\n",
       "        text-align: right;\n",
       "    }\n",
       "</style>\n",
       "<table border=\"1\" class=\"dataframe\">\n",
       "  <thead>\n",
       "    <tr style=\"text-align: right;\">\n",
       "      <th></th>\n",
       "      <th>요일</th>\n",
       "      <th>노면상태</th>\n",
       "      <th>기상상태</th>\n",
       "      <th>도로형태</th>\n",
       "      <th>가해운전자_차종</th>\n",
       "      <th>가해운전자_성별</th>\n",
       "      <th>가해운전자_연령</th>\n",
       "      <th>행정동</th>\n",
       "      <th>발생월</th>\n",
       "      <th>발생시간</th>\n",
       "      <th>사고내용</th>\n",
       "    </tr>\n",
       "  </thead>\n",
       "  <tbody>\n",
       "    <tr>\n",
       "      <th>요일</th>\n",
       "      <td>1.000000</td>\n",
       "      <td>0.020608</td>\n",
       "      <td>0.019664</td>\n",
       "      <td>0.001510</td>\n",
       "      <td>0.010478</td>\n",
       "      <td>-0.017846</td>\n",
       "      <td>-0.021380</td>\n",
       "      <td>-0.002793</td>\n",
       "      <td>0.009360</td>\n",
       "      <td>-0.011107</td>\n",
       "      <td>-0.014032</td>\n",
       "    </tr>\n",
       "    <tr>\n",
       "      <th>노면상태</th>\n",
       "      <td>0.020608</td>\n",
       "      <td>1.000000</td>\n",
       "      <td>0.771452</td>\n",
       "      <td>0.015816</td>\n",
       "      <td>-0.007815</td>\n",
       "      <td>0.012205</td>\n",
       "      <td>-0.001083</td>\n",
       "      <td>0.018865</td>\n",
       "      <td>-0.024348</td>\n",
       "      <td>-0.012747</td>\n",
       "      <td>-0.014782</td>\n",
       "    </tr>\n",
       "    <tr>\n",
       "      <th>기상상태</th>\n",
       "      <td>0.019664</td>\n",
       "      <td>0.771452</td>\n",
       "      <td>1.000000</td>\n",
       "      <td>0.015210</td>\n",
       "      <td>-0.003250</td>\n",
       "      <td>0.022151</td>\n",
       "      <td>0.008120</td>\n",
       "      <td>0.016349</td>\n",
       "      <td>-0.037238</td>\n",
       "      <td>-0.014386</td>\n",
       "      <td>-0.012378</td>\n",
       "    </tr>\n",
       "    <tr>\n",
       "      <th>도로형태</th>\n",
       "      <td>0.001510</td>\n",
       "      <td>0.015816</td>\n",
       "      <td>0.015210</td>\n",
       "      <td>1.000000</td>\n",
       "      <td>-0.015021</td>\n",
       "      <td>-0.035704</td>\n",
       "      <td>-0.001700</td>\n",
       "      <td>0.010147</td>\n",
       "      <td>-0.008325</td>\n",
       "      <td>0.007400</td>\n",
       "      <td>-0.061483</td>\n",
       "    </tr>\n",
       "    <tr>\n",
       "      <th>가해운전자_차종</th>\n",
       "      <td>0.010478</td>\n",
       "      <td>-0.007815</td>\n",
       "      <td>-0.003250</td>\n",
       "      <td>-0.015021</td>\n",
       "      <td>1.000000</td>\n",
       "      <td>0.218529</td>\n",
       "      <td>-0.087361</td>\n",
       "      <td>-0.033411</td>\n",
       "      <td>0.000444</td>\n",
       "      <td>-0.010476</td>\n",
       "      <td>-0.043382</td>\n",
       "    </tr>\n",
       "    <tr>\n",
       "      <th>가해운전자_성별</th>\n",
       "      <td>-0.017846</td>\n",
       "      <td>0.012205</td>\n",
       "      <td>0.022151</td>\n",
       "      <td>-0.035704</td>\n",
       "      <td>0.218529</td>\n",
       "      <td>1.000000</td>\n",
       "      <td>-0.002329</td>\n",
       "      <td>0.003616</td>\n",
       "      <td>0.000954</td>\n",
       "      <td>0.007733</td>\n",
       "      <td>-0.020240</td>\n",
       "    </tr>\n",
       "    <tr>\n",
       "      <th>가해운전자_연령</th>\n",
       "      <td>-0.021380</td>\n",
       "      <td>-0.001083</td>\n",
       "      <td>0.008120</td>\n",
       "      <td>-0.001700</td>\n",
       "      <td>-0.087361</td>\n",
       "      <td>-0.002329</td>\n",
       "      <td>1.000000</td>\n",
       "      <td>0.048967</td>\n",
       "      <td>0.005073</td>\n",
       "      <td>-0.021318</td>\n",
       "      <td>0.012487</td>\n",
       "    </tr>\n",
       "    <tr>\n",
       "      <th>행정동</th>\n",
       "      <td>-0.002793</td>\n",
       "      <td>0.018865</td>\n",
       "      <td>0.016349</td>\n",
       "      <td>0.010147</td>\n",
       "      <td>-0.033411</td>\n",
       "      <td>0.003616</td>\n",
       "      <td>0.048967</td>\n",
       "      <td>1.000000</td>\n",
       "      <td>-0.004450</td>\n",
       "      <td>0.037867</td>\n",
       "      <td>-0.001351</td>\n",
       "    </tr>\n",
       "    <tr>\n",
       "      <th>발생월</th>\n",
       "      <td>0.009360</td>\n",
       "      <td>-0.024348</td>\n",
       "      <td>-0.037238</td>\n",
       "      <td>-0.008325</td>\n",
       "      <td>0.000444</td>\n",
       "      <td>0.000954</td>\n",
       "      <td>0.005073</td>\n",
       "      <td>-0.004450</td>\n",
       "      <td>1.000000</td>\n",
       "      <td>0.011406</td>\n",
       "      <td>-0.005781</td>\n",
       "    </tr>\n",
       "    <tr>\n",
       "      <th>발생시간</th>\n",
       "      <td>-0.011107</td>\n",
       "      <td>-0.012747</td>\n",
       "      <td>-0.014386</td>\n",
       "      <td>0.007400</td>\n",
       "      <td>-0.010476</td>\n",
       "      <td>0.007733</td>\n",
       "      <td>-0.021318</td>\n",
       "      <td>0.037867</td>\n",
       "      <td>0.011406</td>\n",
       "      <td>1.000000</td>\n",
       "      <td>-0.023900</td>\n",
       "    </tr>\n",
       "    <tr>\n",
       "      <th>사고내용</th>\n",
       "      <td>-0.014032</td>\n",
       "      <td>-0.014782</td>\n",
       "      <td>-0.012378</td>\n",
       "      <td>-0.061483</td>\n",
       "      <td>-0.043382</td>\n",
       "      <td>-0.020240</td>\n",
       "      <td>0.012487</td>\n",
       "      <td>-0.001351</td>\n",
       "      <td>-0.005781</td>\n",
       "      <td>-0.023900</td>\n",
       "      <td>1.000000</td>\n",
       "    </tr>\n",
       "  </tbody>\n",
       "</table>\n",
       "</div>"
      ],
      "text/plain": [
       "                요일      노면상태      기상상태      도로형태  가해운전자_차종  가해운전자_성별  \\\n",
       "요일        1.000000  0.020608  0.019664  0.001510  0.010478 -0.017846   \n",
       "노면상태      0.020608  1.000000  0.771452  0.015816 -0.007815  0.012205   \n",
       "기상상태      0.019664  0.771452  1.000000  0.015210 -0.003250  0.022151   \n",
       "도로형태      0.001510  0.015816  0.015210  1.000000 -0.015021 -0.035704   \n",
       "가해운전자_차종  0.010478 -0.007815 -0.003250 -0.015021  1.000000  0.218529   \n",
       "가해운전자_성별 -0.017846  0.012205  0.022151 -0.035704  0.218529  1.000000   \n",
       "가해운전자_연령 -0.021380 -0.001083  0.008120 -0.001700 -0.087361 -0.002329   \n",
       "행정동      -0.002793  0.018865  0.016349  0.010147 -0.033411  0.003616   \n",
       "발생월       0.009360 -0.024348 -0.037238 -0.008325  0.000444  0.000954   \n",
       "발생시간     -0.011107 -0.012747 -0.014386  0.007400 -0.010476  0.007733   \n",
       "사고내용     -0.014032 -0.014782 -0.012378 -0.061483 -0.043382 -0.020240   \n",
       "\n",
       "          가해운전자_연령       행정동       발생월      발생시간      사고내용  \n",
       "요일       -0.021380 -0.002793  0.009360 -0.011107 -0.014032  \n",
       "노면상태     -0.001083  0.018865 -0.024348 -0.012747 -0.014782  \n",
       "기상상태      0.008120  0.016349 -0.037238 -0.014386 -0.012378  \n",
       "도로형태     -0.001700  0.010147 -0.008325  0.007400 -0.061483  \n",
       "가해운전자_차종 -0.087361 -0.033411  0.000444 -0.010476 -0.043382  \n",
       "가해운전자_성별 -0.002329  0.003616  0.000954  0.007733 -0.020240  \n",
       "가해운전자_연령  1.000000  0.048967  0.005073 -0.021318  0.012487  \n",
       "행정동       0.048967  1.000000 -0.004450  0.037867 -0.001351  \n",
       "발생월       0.005073 -0.004450  1.000000  0.011406 -0.005781  \n",
       "발생시간     -0.021318  0.037867  0.011406  1.000000 -0.023900  \n",
       "사고내용      0.012487 -0.001351 -0.005781 -0.023900  1.000000  "
      ]
     },
     "execution_count": 84,
     "metadata": {},
     "output_type": "execute_result"
    }
   ],
   "source": [
    "suwon_cp.corr(method='spearman')"
   ]
  },
  {
   "cell_type": "code",
   "execution_count": 82,
   "id": "886f7a04",
   "metadata": {
    "ExecuteTime": {
     "end_time": "2021-09-16T07:44:20.660957Z",
     "start_time": "2021-09-16T07:44:19.008676Z"
    }
   },
   "outputs": [
    {
     "data": {
      "image/png": "[encoded data removed]",
      "text/plain": [
       "<Figure size 864x432 with 2 Axes>"
      ]
     },
     "metadata": {
      "image/png": {
       "height": 386,
       "width": 710
      },
      "needs_background": "light"
     },
     "output_type": "display_data"
    }
   ],
   "source": [
    "plt.figure(figsize=(12,6))\n",
    "g=sns.heatmap(suwon_cp.corr(), vmin=-1, vmax=1, annot=True, cmap=\"Blues\")\n",
    "g.set_xticklabels(labels=suwon_cp.columns,rotation=20, size=10)\n",
    "plt.savefig('img1.png')"
   ]
  },
  {
   "cell_type": "code",
   "execution_count": 63,
   "id": "707ee927",
   "metadata": {
    "ExecuteTime": {
     "end_time": "2021-09-16T07:25:03.847843Z",
     "start_time": "2021-09-16T07:25:03.834872Z"
    }
   },
   "outputs": [],
   "source": [
    "Input = suwon_cp.iloc[:,:-1]\n",
    "Target = suwon_cp.iloc[:,[-1]]"
   ]
  },
  {
   "cell_type": "code",
   "execution_count": 64,
   "id": "cb868bb8",
   "metadata": {
    "ExecuteTime": {
     "end_time": "2021-09-16T07:25:04.753520Z",
     "start_time": "2021-09-16T07:25:04.741525Z"
    }
   },
   "outputs": [
    {
     "data": {
      "text/plain": [
       "((23774, 10), (23774, 1))"
      ]
     },
     "execution_count": 64,
     "metadata": {},
     "output_type": "execute_result"
    }
   ],
   "source": [
    "Input.shape, Target.shape"
   ]
  },
  {
   "cell_type": "code",
   "execution_count": 65,
   "id": "fba4e56b",
   "metadata": {
    "ExecuteTime": {
     "end_time": "2021-09-16T07:25:05.572568Z",
     "start_time": "2021-09-16T07:25:05.541622Z"
    }
   },
   "outputs": [
    {
     "data": {
      "text/html": [
       "<div>\n",
       "<style scoped>\n",
       "    .dataframe tbody tr th:only-of-type {\n",
       "        vertical-align: middle;\n",
       "    }\n",
       "\n",
       "    .dataframe tbody tr th {\n",
       "        vertical-align: top;\n",
       "    }\n",
       "\n",
       "    .dataframe thead th {\n",
       "        text-align: right;\n",
       "    }\n",
       "</style>\n",
       "<table border=\"1\" class=\"dataframe\">\n",
       "  <thead>\n",
       "    <tr style=\"text-align: right;\">\n",
       "      <th></th>\n",
       "      <th>요일</th>\n",
       "      <th>노면상태</th>\n",
       "      <th>기상상태</th>\n",
       "      <th>도로형태</th>\n",
       "      <th>가해운전자_차종</th>\n",
       "      <th>가해운전자_성별</th>\n",
       "      <th>가해운전자_연령</th>\n",
       "      <th>행정동</th>\n",
       "      <th>발생월</th>\n",
       "      <th>발생시간</th>\n",
       "    </tr>\n",
       "  </thead>\n",
       "  <tbody>\n",
       "    <tr>\n",
       "      <th>1</th>\n",
       "      <td>0.666667</td>\n",
       "      <td>0.272727</td>\n",
       "      <td>0.6</td>\n",
       "      <td>0.750000</td>\n",
       "      <td>0.545455</td>\n",
       "      <td>0</td>\n",
       "      <td>0.413043</td>\n",
       "      <td>0.000000</td>\n",
       "      <td>0.0</td>\n",
       "      <td>0.173913</td>\n",
       "    </tr>\n",
       "    <tr>\n",
       "      <th>2</th>\n",
       "      <td>0.666667</td>\n",
       "      <td>0.272727</td>\n",
       "      <td>0.6</td>\n",
       "      <td>0.916667</td>\n",
       "      <td>0.545455</td>\n",
       "      <td>0</td>\n",
       "      <td>0.576087</td>\n",
       "      <td>0.018182</td>\n",
       "      <td>0.0</td>\n",
       "      <td>0.173913</td>\n",
       "    </tr>\n",
       "    <tr>\n",
       "      <th>3</th>\n",
       "      <td>0.666667</td>\n",
       "      <td>0.272727</td>\n",
       "      <td>0.6</td>\n",
       "      <td>0.500000</td>\n",
       "      <td>0.454545</td>\n",
       "      <td>0</td>\n",
       "      <td>0.239130</td>\n",
       "      <td>0.036364</td>\n",
       "      <td>0.0</td>\n",
       "      <td>0.217391</td>\n",
       "    </tr>\n",
       "    <tr>\n",
       "      <th>4</th>\n",
       "      <td>0.666667</td>\n",
       "      <td>0.272727</td>\n",
       "      <td>0.6</td>\n",
       "      <td>0.916667</td>\n",
       "      <td>0.545455</td>\n",
       "      <td>0</td>\n",
       "      <td>0.206522</td>\n",
       "      <td>0.018182</td>\n",
       "      <td>0.0</td>\n",
       "      <td>0.260870</td>\n",
       "    </tr>\n",
       "    <tr>\n",
       "      <th>5</th>\n",
       "      <td>0.666667</td>\n",
       "      <td>0.272727</td>\n",
       "      <td>0.6</td>\n",
       "      <td>0.750000</td>\n",
       "      <td>0.545455</td>\n",
       "      <td>0</td>\n",
       "      <td>0.293478</td>\n",
       "      <td>0.036364</td>\n",
       "      <td>0.0</td>\n",
       "      <td>0.478261</td>\n",
       "    </tr>\n",
       "    <tr>\n",
       "      <th>...</th>\n",
       "      <td>...</td>\n",
       "      <td>...</td>\n",
       "      <td>...</td>\n",
       "      <td>...</td>\n",
       "      <td>...</td>\n",
       "      <td>...</td>\n",
       "      <td>...</td>\n",
       "      <td>...</td>\n",
       "      <td>...</td>\n",
       "      <td>...</td>\n",
       "    </tr>\n",
       "    <tr>\n",
       "      <th>24355</th>\n",
       "      <td>0.833333</td>\n",
       "      <td>0.272727</td>\n",
       "      <td>0.6</td>\n",
       "      <td>0.750000</td>\n",
       "      <td>0.545455</td>\n",
       "      <td>0</td>\n",
       "      <td>0.619565</td>\n",
       "      <td>0.145455</td>\n",
       "      <td>1.0</td>\n",
       "      <td>0.739130</td>\n",
       "    </tr>\n",
       "    <tr>\n",
       "      <th>24356</th>\n",
       "      <td>0.833333</td>\n",
       "      <td>0.272727</td>\n",
       "      <td>0.6</td>\n",
       "      <td>0.750000</td>\n",
       "      <td>0.545455</td>\n",
       "      <td>1</td>\n",
       "      <td>0.163043</td>\n",
       "      <td>0.872727</td>\n",
       "      <td>1.0</td>\n",
       "      <td>0.782609</td>\n",
       "    </tr>\n",
       "    <tr>\n",
       "      <th>24357</th>\n",
       "      <td>0.833333</td>\n",
       "      <td>0.272727</td>\n",
       "      <td>0.6</td>\n",
       "      <td>0.750000</td>\n",
       "      <td>0.727273</td>\n",
       "      <td>0</td>\n",
       "      <td>0.184783</td>\n",
       "      <td>0.272727</td>\n",
       "      <td>1.0</td>\n",
       "      <td>0.782609</td>\n",
       "    </tr>\n",
       "    <tr>\n",
       "      <th>24358</th>\n",
       "      <td>0.833333</td>\n",
       "      <td>0.272727</td>\n",
       "      <td>0.6</td>\n",
       "      <td>0.500000</td>\n",
       "      <td>0.545455</td>\n",
       "      <td>0</td>\n",
       "      <td>0.456522</td>\n",
       "      <td>0.345455</td>\n",
       "      <td>1.0</td>\n",
       "      <td>0.826087</td>\n",
       "    </tr>\n",
       "    <tr>\n",
       "      <th>24359</th>\n",
       "      <td>0.833333</td>\n",
       "      <td>0.272727</td>\n",
       "      <td>0.6</td>\n",
       "      <td>0.500000</td>\n",
       "      <td>0.545455</td>\n",
       "      <td>0</td>\n",
       "      <td>0.402174</td>\n",
       "      <td>0.109091</td>\n",
       "      <td>1.0</td>\n",
       "      <td>0.826087</td>\n",
       "    </tr>\n",
       "  </tbody>\n",
       "</table>\n",
       "<p>23774 rows × 10 columns</p>\n",
       "</div>"
      ],
      "text/plain": [
       "             요일      노면상태  기상상태      도로형태  가해운전자_차종  가해운전자_성별  가해운전자_연령  \\\n",
       "1      0.666667  0.272727   0.6  0.750000  0.545455         0  0.413043   \n",
       "2      0.666667  0.272727   0.6  0.916667  0.545455         0  0.576087   \n",
       "3      0.666667  0.272727   0.6  0.500000  0.454545         0  0.239130   \n",
       "4      0.666667  0.272727   0.6  0.916667  0.545455         0  0.206522   \n",
       "5      0.666667  0.272727   0.6  0.750000  0.545455         0  0.293478   \n",
       "...         ...       ...   ...       ...       ...       ...       ...   \n",
       "24355  0.833333  0.272727   0.6  0.750000  0.545455         0  0.619565   \n",
       "24356  0.833333  0.272727   0.6  0.750000  0.545455         1  0.163043   \n",
       "24357  0.833333  0.272727   0.6  0.750000  0.727273         0  0.184783   \n",
       "24358  0.833333  0.272727   0.6  0.500000  0.545455         0  0.456522   \n",
       "24359  0.833333  0.272727   0.6  0.500000  0.545455         0  0.402174   \n",
       "\n",
       "            행정동  발생월      발생시간  \n",
       "1      0.000000  0.0  0.173913  \n",
       "2      0.018182  0.0  0.173913  \n",
       "3      0.036364  0.0  0.217391  \n",
       "4      0.018182  0.0  0.260870  \n",
       "5      0.036364  0.0  0.478261  \n",
       "...         ...  ...       ...  \n",
       "24355  0.145455  1.0  0.739130  \n",
       "24356  0.872727  1.0  0.782609  \n",
       "24357  0.272727  1.0  0.782609  \n",
       "24358  0.345455  1.0  0.826087  \n",
       "24359  0.109091  1.0  0.826087  \n",
       "\n",
       "[23774 rows x 10 columns]"
      ]
     },
     "execution_count": 65,
     "metadata": {},
     "output_type": "execute_result"
    }
   ],
   "source": [
    "Input"
   ]
  },
  {
   "cell_type": "code",
   "execution_count": 66,
   "id": "33c0f90d",
   "metadata": {
    "ExecuteTime": {
     "end_time": "2021-09-16T07:25:06.442272Z",
     "start_time": "2021-09-16T07:25:06.428308Z"
    }
   },
   "outputs": [
    {
     "data": {
      "text/plain": [
       "요일          0.666667\n",
       "노면상태        0.272727\n",
       "기상상태        0.600000\n",
       "도로형태        0.916667\n",
       "가해운전자_차종    0.545455\n",
       "가해운전자_성별    0.000000\n",
       "가해운전자_연령    0.576087\n",
       "행정동         0.018182\n",
       "발생월         0.000000\n",
       "발생시간        0.173913\n",
       "Name: 2, dtype: float64"
      ]
     },
     "execution_count": 66,
     "metadata": {},
     "output_type": "execute_result"
    }
   ],
   "source": [
    "Input.iloc[1]"
   ]
  },
  {
   "cell_type": "code",
   "execution_count": 67,
   "id": "82abf9e5",
   "metadata": {
    "ExecuteTime": {
     "end_time": "2021-09-16T07:25:07.745756Z",
     "start_time": "2021-09-16T07:25:07.191082Z"
    }
   },
   "outputs": [
    {
     "data": {
      "image/png": "[encoded data removed]",
      "text/plain": [
       "<Figure size 432x288 with 1 Axes>"
      ]
     },
     "metadata": {
      "image/png": {
       "height": 249,
       "width": 369
      },
      "needs_background": "light"
     },
     "output_type": "display_data"
    }
   ],
   "source": [
    "plot_x = Input.to_numpy()[:,0]\n",
    "plot_y = Input.to_numpy()[:,1]\n",
    "plot_color = Target.to_numpy().reshape(23774,)\n",
    "plt.scatter(plot_x, plot_y, c=plot_color)\n",
    "plt.show()"
   ]
  },
  {
   "cell_type": "code",
   "execution_count": 68,
   "id": "3e06a32f",
   "metadata": {
    "ExecuteTime": {
     "end_time": "2021-09-16T07:25:09.197110Z",
     "start_time": "2021-09-16T07:25:08.593199Z"
    }
   },
   "outputs": [
    {
     "data": {
      "image/png": "[encoded data removed]",
      "text/plain": [
       "<Figure size 432x288 with 1 Axes>"
      ]
     },
     "metadata": {
      "image/png": {
       "height": 242,
       "width": 247
      },
      "needs_background": "light"
     },
     "output_type": "display_data"
    }
   ],
   "source": [
    "from mpl_toolkits.mplot3d import Axes3D\n",
    "\n",
    "fig = plt.figure()\n",
    "ax = fig.add_subplot(111, projection='3d')\n",
    "\n",
    "plot_x = Input.to_numpy()[:,0]\n",
    "plot_y = Input.to_numpy()[:,1]\n",
    "plot_z = Input.to_numpy()[:,2]\n",
    "plot_color = Target.to_numpy().reshape(23774,)\n",
    "\n",
    "ax.scatter(plot_x, plot_y, plot_z, c=plot_color)\n",
    "plt.show()"
   ]
  },
  {
   "cell_type": "code",
   "execution_count": 69,
   "id": "fe5f6a50",
   "metadata": {
    "ExecuteTime": {
     "end_time": "2021-09-16T07:25:10.189201Z",
     "start_time": "2021-09-16T07:25:10.142312Z"
    }
   },
   "outputs": [
    {
     "data": {
      "text/plain": [
       "((19019, 10), (19019, 1), (4755, 10), (4755, 1))"
      ]
     },
     "execution_count": 69,
     "metadata": {},
     "output_type": "execute_result"
    }
   ],
   "source": [
    "from sklearn.model_selection import train_test_split\n",
    "X_train, X_test, Y_train, Y_test = train_test_split(Input, Target, test_size=0.2, random_state=5)\n",
    "X_train.shape, Y_train.shape, X_test.shape, Y_test.shape"
   ]
  },
  {
   "cell_type": "code",
   "execution_count": 70,
   "id": "efd26971",
   "metadata": {
    "ExecuteTime": {
     "end_time": "2021-09-16T07:25:11.673703Z",
     "start_time": "2021-09-16T07:25:11.590100Z"
    }
   },
   "outputs": [
    {
     "name": "stdout",
     "output_type": "stream",
     "text": [
      "Model: \"sequential\"\n",
      "_________________________________________________________________\n",
      "Layer (type)                 Output Shape              Param #   \n",
      "=================================================================\n",
      "dense (Dense)                (None, 128)               1408      \n",
      "_________________________________________________________________\n",
      "dropout (Dropout)            (None, 128)               0         \n",
      "_________________________________________________________________\n",
      "dense_1 (Dense)              (None, 64)                8256      \n",
      "_________________________________________________________________\n",
      "dropout_1 (Dropout)          (None, 64)                0         \n",
      "_________________________________________________________________\n",
      "dense_2 (Dense)              (None, 64)                4160      \n",
      "_________________________________________________________________\n",
      "dropout_2 (Dropout)          (None, 64)                0         \n",
      "_________________________________________________________________\n",
      "dense_3 (Dense)              (None, 1)                 65        \n",
      "=================================================================\n",
      "Total params: 13,889\n",
      "Trainable params: 13,889\n",
      "Non-trainable params: 0\n",
      "_________________________________________________________________\n"
     ]
    }
   ],
   "source": [
    "model = Sequential()\n",
    "model.add(Dense(units=128, input_dim=10,activation='relu'))\n",
    "model.add(Dropout(0.1))\n",
    "model.add(Dense(units=64, activation='relu'))\n",
    "model.add(Dropout(0.1))\n",
    "model.add(Dense(units=64, activation='relu'))\n",
    "model.add(Dropout(0.1))\n",
    "model.add(Dense(units=1, activation='sigmoid'))\n",
    "model.summary()"
   ]
  },
  {
   "cell_type": "code",
   "execution_count": 71,
   "id": "7d7569f8",
   "metadata": {
    "ExecuteTime": {
     "end_time": "2021-09-16T07:25:13.027144Z",
     "start_time": "2021-09-16T07:25:13.013248Z"
    }
   },
   "outputs": [],
   "source": [
    "from tensorflow.keras import metrics\n",
    "model.compile(loss='binary_crossentropy', optimizer='adam', metrics=['accuracy', metrics.Recall(), metrics.Precision()])"
   ]
  },
  {
   "cell_type": "code",
   "execution_count": null,
   "id": "a29b4bf2",
   "metadata": {
    "ExecuteTime": {
     "end_time": "2021-09-16T06:48:35.242721Z",
     "start_time": "2021-09-16T06:32:35.093416Z"
    }
   },
   "outputs": [],
   "source": [
    "hist = model.fit(X_train, Y_train, epochs=5000, batch_size=32, verbose=2, validation_split=0.2)"
   ]
  },
  {
   "cell_type": "code",
   "execution_count": 72,
   "id": "47b8ae30",
   "metadata": {
    "ExecuteTime": {
     "end_time": "2021-09-16T07:33:29.429106Z",
     "start_time": "2021-09-16T07:25:16.071685Z"
    }
   },
   "outputs": [
    {
     "name": "stdout",
     "output_type": "stream",
     "text": [
      "epoch: 0 - val_acc: 0.748686 - val_recall : 0.000000\n",
      "epoch: 100 - val_acc: 0.739485 - val_recall : 0.024059\n",
      "epoch: 200 - val_acc: 0.730284 - val_recall : 0.047071\n",
      "epoch: 300 - val_acc: 0.723712 - val_recall : 0.051255\n",
      "epoch: 400 - val_acc: 0.711619 - val_recall : 0.071130\n",
      "epoch: 500 - val_acc: 0.715300 - val_recall : 0.075314\n",
      "epoch: 600 - val_acc: 0.710042 - val_recall : 0.082636\n",
      "epoch: 700 - val_acc: 0.708465 - val_recall : 0.080544\n",
      "epoch:727 - val_recall:0.10041841119527817 - 종료\n"
     ]
    }
   ],
   "source": [
    "class LossHistory(Callback):\n",
    "    def __init__(self):\n",
    "        self.epoch = 0\n",
    "        self.losses = []\n",
    "        self.accuracy = []\n",
    "        self.recall = []\n",
    "        self.precision = []\n",
    "        self.val_losses = []\n",
    "        self.val_accuracy = []\n",
    "        self.val_recall= []\n",
    "        self.val_precision = []\n",
    "    def on_epoch_end(self, batch, logs={}):\n",
    "        self.val_accuracy.append(logs.get('val_accuracy'))\n",
    "        self.val_recall.append(logs.get('val_recall'))\n",
    "        if self.epoch % 100 == 0:\n",
    "            print(\"epoch: {0} - val_acc: {1:8.6f} - val_recall : {2:8.6f}\".format(self.epoch, logs.get('val_accuracy'), logs.get('val_recall')))\n",
    "        self.epoch += 1\n",
    "history = LossHistory()\n",
    "for epoch in range(2000):\n",
    "    model.fit(X_train, Y_train, epochs=1, batch_size=32, verbose=0, callbacks=[history], validation_split=0.2)\n",
    "    if (history.val_accuracy[-1] > 0.7)&(history.val_recall[-1] > 0.1):\n",
    "        print(\"epoch:{} - val_recall:{} - 종료\".\\\n",
    "              format(epoch, history.val_recall[-1]))\n",
    "        break;"
   ]
  },
  {
   "cell_type": "code",
   "execution_count": null,
   "id": "88e6322b",
   "metadata": {
    "ExecuteTime": {
     "end_time": "2021-09-15T02:00:57.586762Z",
     "start_time": "2021-09-15T02:00:12.196Z"
    }
   },
   "outputs": [],
   "source": [
    "hist.history.keys()"
   ]
  },
  {
   "cell_type": "code",
   "execution_count": null,
   "id": "644627cc",
   "metadata": {
    "ExecuteTime": {
     "end_time": "2021-09-16T02:39:49.215640Z",
     "start_time": "2021-09-16T02:39:49.201677Z"
    }
   },
   "outputs": [],
   "source": [
    "Input[1:2]"
   ]
  },
  {
   "cell_type": "code",
   "execution_count": null,
   "id": "971af1a2",
   "metadata": {
    "ExecuteTime": {
     "end_time": "2021-09-16T02:39:56.702699Z",
     "start_time": "2021-09-16T02:39:56.626752Z"
    }
   },
   "outputs": [],
   "source": [
    "model.predict(Input[1:2])"
   ]
  },
  {
   "cell_type": "code",
   "execution_count": 78,
   "id": "7b1fa654",
   "metadata": {
    "ExecuteTime": {
     "end_time": "2021-09-16T07:37:28.930823Z",
     "start_time": "2021-09-16T07:37:28.521282Z"
    }
   },
   "outputs": [
    {
     "name": "stdout",
     "output_type": "stream",
     "text": [
      "149/149 [==============================] - 0s 829us/step - loss: 0.5605 - accuracy: 0.7495 - recall: 0.0186 - precision: 0.4314 \n"
     ]
    }
   ],
   "source": [
    "score = model.evaluate(X_test,Y_test)"
   ]
  },
  {
   "cell_type": "code",
   "execution_count": 79,
   "id": "91000983",
   "metadata": {
    "ExecuteTime": {
     "end_time": "2021-09-16T07:37:31.554012Z",
     "start_time": "2021-09-16T07:37:31.396926Z"
    }
   },
   "outputs": [
    {
     "name": "stdout",
     "output_type": "stream",
     "text": [
      "f1_score :  0.035627530364372474\n"
     ]
    },
    {
     "data": {
      "text/html": [
       "<div>\n",
       "<style scoped>\n",
       "    .dataframe tbody tr th:only-of-type {\n",
       "        vertical-align: middle;\n",
       "    }\n",
       "\n",
       "    .dataframe tbody tr th {\n",
       "        vertical-align: top;\n",
       "    }\n",
       "\n",
       "    .dataframe thead th {\n",
       "        text-align: right;\n",
       "    }\n",
       "</style>\n",
       "<table border=\"1\" class=\"dataframe\">\n",
       "  <thead>\n",
       "    <tr style=\"text-align: right;\">\n",
       "      <th></th>\n",
       "      <th>실제-중상해X</th>\n",
       "      <th>실제-중상해O</th>\n",
       "    </tr>\n",
       "  </thead>\n",
       "  <tbody>\n",
       "    <tr>\n",
       "      <th>예측-중상해X</th>\n",
       "      <td>3542</td>\n",
       "      <td>1162</td>\n",
       "    </tr>\n",
       "    <tr>\n",
       "      <th>예측-중상해O</th>\n",
       "      <td>29</td>\n",
       "      <td>22</td>\n",
       "    </tr>\n",
       "  </tbody>\n",
       "</table>\n",
       "</div>"
      ],
      "text/plain": [
       "         실제-중상해X  실제-중상해O\n",
       "예측-중상해X     3542     1162\n",
       "예측-중상해O       29       22"
      ]
     },
     "execution_count": 79,
     "metadata": {},
     "output_type": "execute_result"
    }
   ],
   "source": [
    "from sklearn.metrics import confusion_matrix\n",
    "from sklearn.metrics import f1_score\n",
    "pred = model.predict(X_test)\n",
    "pred = (pred>0.5)\n",
    "print('f1_score : ', f1_score(Y_test, pred))\n",
    "pd.DataFrame(confusion_matrix(pred, Y_test), index=['예측-중상해X','예측-중상해O'], columns=['실제-중상해X','실제-중상해O'])"
   ]
  },
  {
   "cell_type": "code",
   "execution_count": 76,
   "id": "5456b12f",
   "metadata": {
    "ExecuteTime": {
     "end_time": "2021-09-16T07:37:23.840644Z",
     "start_time": "2021-09-16T07:37:23.773823Z"
    }
   },
   "outputs": [],
   "source": [
    "model.save('dnnmodel2.h5')"
   ]
  },
  {
   "cell_type": "code",
   "execution_count": 77,
   "id": "8e4bb75b",
   "metadata": {
    "ExecuteTime": {
     "end_time": "2021-09-16T07:37:26.493055Z",
     "start_time": "2021-09-16T07:37:26.407255Z"
    }
   },
   "outputs": [],
   "source": [
    "model=models.load_model('dnnmodel.h5')"
   ]
  },
  {
   "cell_type": "code",
   "execution_count": null,
   "id": "c4508de6",
   "metadata": {
    "ExecuteTime": {
     "end_time": "2021-09-16T03:06:32.289737Z",
     "start_time": "2021-09-16T03:06:32.223917Z"
    }
   },
   "outputs": [],
   "source": [
    "pd.DataFrame(pred).value_counts()"
   ]
  },
  {
   "cell_type": "code",
   "execution_count": null,
   "id": "c40f9cf8",
   "metadata": {
    "ExecuteTime": {
     "end_time": "2021-09-16T03:09:51.072280Z",
     "start_time": "2021-09-16T03:09:51.064274Z"
    }
   },
   "outputs": [],
   "source": [
    "(3556+17)/(4712+43)"
   ]
  },
  {
   "cell_type": "code",
   "execution_count": null,
   "id": "7a8f6443",
   "metadata": {
    "ExecuteTime": {
     "end_time": "2021-09-13T06:19:25.814732Z",
     "start_time": "2021-09-13T06:19:25.799662Z"
    }
   },
   "outputs": [],
   "source": [
    "suwon_cp['사고내용'].value_counts()"
   ]
  },
  {
   "cell_type": "code",
   "execution_count": null,
   "id": "0b7bf66e",
   "metadata": {
    "ExecuteTime": {
     "end_time": "2021-09-13T06:19:26.337091Z",
     "start_time": "2021-09-13T06:19:26.322130Z"
    }
   },
   "outputs": [],
   "source": [
    "Y_test.value_counts()"
   ]
  },
  {
   "cell_type": "code",
   "execution_count": null,
   "id": "9d193e1d",
   "metadata": {
    "ExecuteTime": {
     "end_time": "2021-09-13T06:19:26.838437Z",
     "start_time": "2021-09-13T06:19:26.824004Z"
    }
   },
   "outputs": [],
   "source": [
    "Y_train.value_counts()"
   ]
  },
  {
   "cell_type": "code",
   "execution_count": null,
   "id": "3a0c3b57",
   "metadata": {},
   "outputs": [],
   "source": []
  },
  {
   "cell_type": "markdown",
   "id": "f13e2f78",
   "metadata": {},
   "source": [
    "# 2. RNN형 문장으로 인식"
   ]
  },
  {
   "cell_type": "code",
   "execution_count": null,
   "id": "95c9761d",
   "metadata": {
    "ExecuteTime": {
     "end_time": "2021-09-15T08:40:23.300523Z",
     "start_time": "2021-09-15T08:40:23.294511Z"
    }
   },
   "outputs": [],
   "source": [
    "suwon_cp2=suwon.copy()"
   ]
  },
  {
   "cell_type": "code",
   "execution_count": null,
   "id": "b6ccbc7d",
   "metadata": {
    "ExecuteTime": {
     "end_time": "2021-09-15T08:40:23.473358Z",
     "start_time": "2021-09-15T08:40:23.450418Z"
    }
   },
   "outputs": [],
   "source": [
    "suwon_cp2"
   ]
  },
  {
   "cell_type": "code",
   "execution_count": null,
   "id": "7c3efec6",
   "metadata": {
    "ExecuteTime": {
     "end_time": "2021-09-15T08:40:23.630377Z",
     "start_time": "2021-09-15T08:40:23.621372Z"
    }
   },
   "outputs": [],
   "source": [
    "suwon_cp2['요일']=suwon_cp2['요일'].map(yoil2idx)"
   ]
  },
  {
   "cell_type": "code",
   "execution_count": null,
   "id": "21c4de3b",
   "metadata": {
    "ExecuteTime": {
     "end_time": "2021-09-15T08:40:23.836706Z",
     "start_time": "2021-09-15T08:40:23.805790Z"
    }
   },
   "outputs": [],
   "source": [
    "#suwon_cp2['요일']=suwon_cp2['요일'].map(yoil2idx)\n",
    "suwon_cp2['노면상태']=suwon_cp2['노면상태'].map(nom2idx)\n",
    "suwon_cp2['기상상태']=suwon_cp2['기상상태'].map(gs2idx)\n",
    "suwon_cp2['도로형태']=suwon_cp2['도로형태'].map(doro2idx)\n",
    "suwon_cp2['가해운전자_차종']=suwon_cp2['가해운전자_차종'].map(gacha2idx)\n",
    "suwon_cp2['가해운전자_성별']=suwon_cp2['가해운전자_성별'].map(gasung2idx)\n",
    "suwon_cp2['행정동']=suwon_cp2['행정동'].map(dong2idx)"
   ]
  },
  {
   "cell_type": "code",
   "execution_count": null,
   "id": "8f9ad855",
   "metadata": {
    "ExecuteTime": {
     "end_time": "2021-09-15T08:40:24.245043Z",
     "start_time": "2021-09-15T08:40:24.221107Z"
    }
   },
   "outputs": [],
   "source": [
    "suwon_cp2"
   ]
  },
  {
   "cell_type": "code",
   "execution_count": null,
   "id": "58369486",
   "metadata": {
    "ExecuteTime": {
     "end_time": "2021-09-15T08:40:24.401890Z",
     "start_time": "2021-09-15T08:40:24.385940Z"
    }
   },
   "outputs": [],
   "source": [
    "dataset=suwon_cp2.to_numpy()"
   ]
  },
  {
   "cell_type": "code",
   "execution_count": null,
   "id": "c081735c",
   "metadata": {
    "ExecuteTime": {
     "end_time": "2021-09-15T08:40:24.561309Z",
     "start_time": "2021-09-15T08:40:24.553333Z"
    }
   },
   "outputs": [],
   "source": [
    "vocab_size=dataset.max()+1"
   ]
  },
  {
   "cell_type": "code",
   "execution_count": null,
   "id": "483a11c6",
   "metadata": {
    "ExecuteTime": {
     "end_time": "2021-09-15T08:40:24.813036Z",
     "start_time": "2021-09-15T08:40:24.808056Z"
    }
   },
   "outputs": [],
   "source": [
    "X = dataset[:,:-1]\n",
    "Y = dataset[:,-1]"
   ]
  },
  {
   "cell_type": "code",
   "execution_count": null,
   "id": "3a2c9f48",
   "metadata": {
    "ExecuteTime": {
     "end_time": "2021-09-15T08:40:24.984854Z",
     "start_time": "2021-09-15T08:40:24.969869Z"
    }
   },
   "outputs": [],
   "source": [
    "X_train=X[:-3800]\n",
    "X_val=X[-3800:-200]\n",
    "X_test=X[-200:]\n",
    "Y_train=Y[:-3800]\n",
    "Y_val=Y[-3800:-200]\n",
    "Y_test=Y[-200:]"
   ]
  },
  {
   "cell_type": "code",
   "execution_count": null,
   "id": "ad47638a",
   "metadata": {
    "ExecuteTime": {
     "end_time": "2021-09-15T08:40:25.296646Z",
     "start_time": "2021-09-15T08:40:25.286672Z"
    }
   },
   "outputs": [],
   "source": [
    "X_train.shape, Y_train.shape, X_val.shape, Y_val.shape, X_test.shape, Y_test.shape"
   ]
  },
  {
   "cell_type": "markdown",
   "id": "cc29f56e",
   "metadata": {},
   "source": [
    "## 2.1 순환 컨볼루션 신경망 모델"
   ]
  },
  {
   "cell_type": "code",
   "execution_count": null,
   "id": "b6b1ea51",
   "metadata": {
    "ExecuteTime": {
     "end_time": "2021-09-15T08:29:08.483690Z",
     "start_time": "2021-09-15T08:09:54.029491Z"
    }
   },
   "outputs": [],
   "source": [
    "model = Sequential()\n",
    "model.add(Embedding(input_dim=vocab_size, output_dim=vocab_size-1, input_length=X.shape[1]))\n",
    "model.add(Dropout(0.2))\n",
    "model.add(Conv1D(256,\n",
    "                 3,\n",
    "                 padding='valid',\n",
    "                 activation='relu',\n",
    "                 strides=1))\n",
    "model.add(MaxPooling1D(pool_size=4))\n",
    "model.add(LSTM(128))\n",
    "model.add(Dense(1, activation='sigmoid'))\n",
    "\n",
    "model.compile(loss='binary_crossentropy', optimizer='adam', metrics=['accuracy'])\n",
    "\n",
    "class LossHistory(Callback):\n",
    "    def __init__(self):\n",
    "        self.epoch = 0\n",
    "        self.losses = []\n",
    "        self.accuracy=[]\n",
    "        self.val_loss = []\n",
    "        self.val_accuracy = []\n",
    "    def on_epoch_end(self, batch, logs={}):\n",
    "        self.losses.append(logs.get('loss'))\n",
    "        self.accuracy.append(logs.get('accuracy'))\n",
    "        self.val_loss.append(logs.get('val_loss'))\n",
    "        self.val_accuracy.append(logs.get('val_accuracy'))\n",
    "        if self.epoch % 100 == 0:\n",
    "            print(\"epoch: {0} - loss: {1:8.6f} - acc: {2:8.6f} - val_loss: {3:8.6f} - val_acc: {4:8.6f}\".format(self.epoch, logs.get('loss'), logs.get('accuracy'), logs.get('val_loss'), logs.get('val_accuracy')))\n",
    "        self.epoch += 1\n",
    "history = LossHistory()\n",
    "for epoch in range(2000):\n",
    "    model.fit(X_train, Y_train, epochs=1, batch_size=50, verbose=0, shuffle=False, validation_data=(X_val,Y_val),\n",
    "             callbacks=[history])\n",
    "    if (history.losses[-1] < 1e-5):\n",
    "        print(\"epoch:{} - loss:{} - 종료\".\\\n",
    "              format(epoch, history.losses[-1]))\n",
    "        break;\n",
    "    model.reset_states() "
   ]
  },
  {
   "cell_type": "markdown",
   "id": "4b733058",
   "metadata": {},
   "source": [
    "## 2.2 다중 퍼셉트론 신경망 모델"
   ]
  },
  {
   "cell_type": "code",
   "execution_count": null,
   "id": "89deea0f",
   "metadata": {
    "ExecuteTime": {
     "end_time": "2021-09-15T08:40:36.282577Z",
     "start_time": "2021-09-15T08:40:36.197823Z"
    }
   },
   "outputs": [],
   "source": [
    "model = Sequential()\n",
    "model.add(Embedding(input_dim=vocab_size, output_dim=vocab_size-1, input_length=X.shape[1]))\n",
    "model.add(Flatten())\n",
    "model.add(Dense(256, activation='relu'))\n",
    "model.add(Dense(1, activation='sigmoid'))\n",
    "model.summary()"
   ]
  },
  {
   "cell_type": "code",
   "execution_count": null,
   "id": "cb1cb4ec",
   "metadata": {
    "ExecuteTime": {
     "end_time": "2021-09-15T08:40:37.349144Z",
     "start_time": "2021-09-15T08:40:37.338165Z"
    }
   },
   "outputs": [],
   "source": [
    "model.compile(loss='binary_crossentropy', optimizer='adam', metrics=['accuracy'])"
   ]
  },
  {
   "cell_type": "code",
   "execution_count": null,
   "id": "361cb52e",
   "metadata": {
    "ExecuteTime": {
     "end_time": "2021-09-15T08:41:12.507360Z",
     "start_time": "2021-09-15T08:40:37.929256Z"
    }
   },
   "outputs": [],
   "source": [
    "hist = model.fit(X_train, Y_train, epochs=50, batch_size=64, validation_data=(X_val, Y_val))"
   ]
  },
  {
   "cell_type": "code",
   "execution_count": null,
   "id": "7b4aeb0a",
   "metadata": {},
   "outputs": [],
   "source": []
  },
  {
   "cell_type": "code",
   "execution_count": null,
   "id": "cd7b986f",
   "metadata": {},
   "outputs": [],
   "source": []
  },
  {
   "cell_type": "code",
   "execution_count": null,
   "id": "db2c30b1",
   "metadata": {},
   "outputs": [],
   "source": []
  }
 ],
 "metadata": {
  "kernelspec": {
   "display_name": "Python 3",
   "language": "python",
   "name": "python3"
  },
  "language_info": {
   "codemirror_mode": {
    "name": "ipython",
    "version": 3
   },
   "file_extension": ".py",
   "mimetype": "text/x-python",
   "name": "python",
   "nbconvert_exporter": "python",
   "pygments_lexer": "ipython3",
   "version": "3.8.8"
  },
  "toc": {
   "base_numbering": 1,
   "nav_menu": {},
   "number_sections": false,
   "sideBar": true,
   "skip_h1_title": false,
   "title_cell": "Table of Contents",
   "title_sidebar": "Contents",
   "toc_cell": false,
   "toc_position": {},
   "toc_section_display": true,
   "toc_window_display": true
  },
  "varInspector": {
   "cols": {
    "lenName": 16,
    "lenType": 16,
    "lenVar": 40
   },
   "kernels_config": {
    "python": {
     "delete_cmd_postfix": "",
     "delete_cmd_prefix": "del ",
     "library": "var_list.py",
     "varRefreshCmd": "print(var_dic_list())"
    },
    "r": {
     "delete_cmd_postfix": ") ",
     "delete_cmd_prefix": "rm(",
     "library": "var_list.r",
     "varRefreshCmd": "cat(var_dic_list()) "
    }
   },
   "types_to_exclude": [
    "module",
    "function",
    "builtin_function_or_method",
    "instance",
    "_Feature"
   ],
   "window_display": false
  }
 },
 "nbformat": 4,
 "nbformat_minor": 5
}
