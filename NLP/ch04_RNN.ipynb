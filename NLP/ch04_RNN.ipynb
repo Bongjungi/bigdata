{
 "cells": [
  {
   "cell_type": "markdown",
   "id": "ffb1168b",
   "metadata": {},
   "source": [
    "# ch04. RNN(순환신경망)"
   ]
  },
  {
   "cell_type": "markdown",
   "id": "b371e8a9",
   "metadata": {},
   "source": [
    "## 1. 문맥을 이용하여 모델 만들기"
   ]
  },
  {
   "cell_type": "code",
   "execution_count": 17,
   "id": "cba22004",
   "metadata": {
    "ExecuteTime": {
     "end_time": "2021-08-20T02:53:16.618947Z",
     "start_time": "2021-08-20T02:53:16.601993Z"
    }
   },
   "outputs": [],
   "source": [
    "text = \"\"\"경마장에 말이 뛰고 있다.\n",
    "그의 말이 법이다.\n",
    "가는 말이 고와야 오는 말이 곱다.\"\"\""
   ]
  },
  {
   "cell_type": "code",
   "execution_count": 18,
   "id": "abb81076",
   "metadata": {
    "ExecuteTime": {
     "end_time": "2021-08-20T02:53:17.021531Z",
     "start_time": "2021-08-20T02:53:17.010561Z"
    }
   },
   "outputs": [
    {
     "name": "stdout",
     "output_type": "stream",
     "text": [
      "[2, 1, 3, 4, 5, 1, 6, 7, 1, 8, 9, 1, 10]\n",
      "{'말이': 1, '경마장에': 2, '뛰고': 3, '있다': 4, '그의': 5, '법이다': 6, '가는': 7, '고와야': 8, '오는': 9, '곱다': 10}\n"
     ]
    }
   ],
   "source": [
    "from keras_preprocessing.text import Tokenizer\n",
    "t = Tokenizer()\n",
    "t.fit_on_texts([text])\n",
    "encoded = t.texts_to_sequences([text])[0]\n",
    "print(encoded)\n",
    "print(t.word_index)"
   ]
  },
  {
   "cell_type": "code",
   "execution_count": 19,
   "id": "ea74baf0",
   "metadata": {
    "ExecuteTime": {
     "end_time": "2021-08-20T02:53:17.811359Z",
     "start_time": "2021-08-20T02:53:17.794392Z"
    }
   },
   "outputs": [
    {
     "data": {
      "text/plain": [
       "[2, 1, 4]"
      ]
     },
     "execution_count": 19,
     "metadata": {},
     "output_type": "execute_result"
    }
   ],
   "source": [
    "t.texts_to_sequences(['경마장에 말이 있다'])[0]"
   ]
  },
  {
   "cell_type": "code",
   "execution_count": 32,
   "id": "b16c4b33",
   "metadata": {
    "ExecuteTime": {
     "end_time": "2021-08-20T03:06:41.785373Z",
     "start_time": "2021-08-20T03:06:41.772407Z"
    }
   },
   "outputs": [
    {
     "name": "stdout",
     "output_type": "stream",
     "text": [
      "원래 문장 :  경마장에 말이 뛰고 있다.\n",
      "encoded된 문장 :  [2, 1, 3, 4]\n",
      "원래 문장 :  그의 말이 법이다.\n",
      "encoded된 문장 :  [5, 1, 6]\n",
      "원래 문장 :  가는 말이 고와야 오는 말이 곱다.\n",
      "encoded된 문장 :  [7, 1, 8, 9, 1, 10]\n",
      "sequences와 해석 출력\n",
      "[2:경마장에 1:말이 ]\n",
      "[2:경마장에 1:말이 3:뛰고 ]\n",
      "[2:경마장에 1:말이 3:뛰고 4:있다 ]\n",
      "[1:말이 3:뛰고 ]\n",
      "[1:말이 3:뛰고 4:있다 ]\n",
      "[3:뛰고 4:있다 ]\n",
      "[5:그의 1:말이 ]\n",
      "[5:그의 1:말이 6:법이다 ]\n",
      "[1:말이 6:법이다 ]\n",
      "[7:가는 1:말이 ]\n",
      "[7:가는 1:말이 8:고와야 ]\n",
      "[7:가는 1:말이 8:고와야 9:오는 ]\n",
      "[7:가는 1:말이 8:고와야 9:오는 1:말이 ]\n",
      "[7:가는 1:말이 8:고와야 9:오는 1:말이 10:곱다 ]\n",
      "[1:말이 8:고와야 ]\n",
      "[1:말이 8:고와야 9:오는 ]\n",
      "[1:말이 8:고와야 9:오는 1:말이 ]\n",
      "[1:말이 8:고와야 9:오는 1:말이 10:곱다 ]\n",
      "[8:고와야 9:오는 ]\n",
      "[8:고와야 9:오는 1:말이 ]\n",
      "[8:고와야 9:오는 1:말이 10:곱다 ]\n",
      "[9:오는 1:말이 ]\n",
      "[9:오는 1:말이 10:곱다 ]\n",
      "[1:말이 10:곱다 ]\n"
     ]
    }
   ],
   "source": [
    "sequences=[]\n",
    "for line in text.split('\\n'):\n",
    "    encoded = t.texts_to_sequences([line])[0]\n",
    "    print('원래 문장 : ', line)\n",
    "    print('encoded된 문장 : ', encoded)\n",
    "    for i in range(0, len(encoded)-1): # 시작 index\n",
    "        for j in range(i+2,len(encoded)+1):\n",
    "            sequences.append(encoded[i:j])\n",
    "print('sequences와 해석 출력')\n",
    "for sequence in sequences:\n",
    "    print('[',end='')\n",
    "    for word_seq in sequence:\n",
    "        for key, value in t.word_index.items():\n",
    "            if word_seq==value:\n",
    "                print(\"{}:{}\".format(word_seq,key),end=' ')\n",
    "    print(']')\n",
    "        "
   ]
  },
  {
   "cell_type": "code",
   "execution_count": 33,
   "id": "68b3b28e",
   "metadata": {
    "ExecuteTime": {
     "end_time": "2021-08-20T03:06:45.129906Z",
     "start_time": "2021-08-20T03:06:45.119895Z"
    }
   },
   "outputs": [
    {
     "name": "stdout",
     "output_type": "stream",
     "text": [
      "[2, 3, 4, 2, 3, 2, 2, 3, 2, 2, 3, 4, 5, 6, 2, 3, 4, 5, 2, 3, 4, 2, 3, 2]\n"
     ]
    }
   ],
   "source": [
    "print([len(s) for s in sequences])"
   ]
  },
  {
   "cell_type": "code",
   "execution_count": 34,
   "id": "2cf7ccef",
   "metadata": {
    "ExecuteTime": {
     "end_time": "2021-08-20T03:06:45.688428Z",
     "start_time": "2021-08-20T03:06:45.672790Z"
    }
   },
   "outputs": [
    {
     "data": {
      "text/plain": [
       "6"
      ]
     },
     "execution_count": 34,
     "metadata": {},
     "output_type": "execute_result"
    }
   ],
   "source": [
    "maxlen = max([len(s) for s in sequences])\n",
    "maxlen"
   ]
  },
  {
   "cell_type": "code",
   "execution_count": 35,
   "id": "61162a70",
   "metadata": {
    "ExecuteTime": {
     "end_time": "2021-08-20T03:08:27.337609Z",
     "start_time": "2021-08-20T03:08:10.046765Z"
    }
   },
   "outputs": [
    {
     "data": {
      "text/plain": [
       "(numpy.ndarray,\n",
       " (24, 6),\n",
       " array([[ 0,  0,  0,  0,  2,  1],\n",
       "        [ 0,  0,  0,  2,  1,  3],\n",
       "        [ 0,  0,  2,  1,  3,  4],\n",
       "        [ 0,  0,  0,  0,  1,  3],\n",
       "        [ 0,  0,  0,  1,  3,  4],\n",
       "        [ 0,  0,  0,  0,  3,  4],\n",
       "        [ 0,  0,  0,  0,  5,  1],\n",
       "        [ 0,  0,  0,  5,  1,  6],\n",
       "        [ 0,  0,  0,  0,  1,  6],\n",
       "        [ 0,  0,  0,  0,  7,  1],\n",
       "        [ 0,  0,  0,  7,  1,  8],\n",
       "        [ 0,  0,  7,  1,  8,  9],\n",
       "        [ 0,  7,  1,  8,  9,  1],\n",
       "        [ 7,  1,  8,  9,  1, 10],\n",
       "        [ 0,  0,  0,  0,  1,  8],\n",
       "        [ 0,  0,  0,  1,  8,  9],\n",
       "        [ 0,  0,  1,  8,  9,  1],\n",
       "        [ 0,  1,  8,  9,  1, 10],\n",
       "        [ 0,  0,  0,  0,  8,  9],\n",
       "        [ 0,  0,  0,  8,  9,  1],\n",
       "        [ 0,  0,  8,  9,  1, 10],\n",
       "        [ 0,  0,  0,  0,  9,  1],\n",
       "        [ 0,  0,  0,  9,  1, 10],\n",
       "        [ 0,  0,  0,  0,  1, 10]]))"
      ]
     },
     "execution_count": 35,
     "metadata": {},
     "output_type": "execute_result"
    }
   ],
   "source": [
    "# sequences를 훈련이 가능하도록 6개열로 조정\n",
    "from tensorflow.keras.preprocessing.sequence import pad_sequences\n",
    "sequences = pad_sequences(sequences=sequences,\n",
    "                         maxlen=maxlen,\n",
    "                         padding='pre')\n",
    "type(sequences), sequences.shape, sequences"
   ]
  },
  {
   "cell_type": "code",
   "execution_count": 36,
   "id": "4060e012",
   "metadata": {
    "ExecuteTime": {
     "end_time": "2021-08-20T03:13:01.971492Z",
     "start_time": "2021-08-20T03:13:01.959525Z"
    }
   },
   "outputs": [
    {
     "data": {
      "text/plain": [
       "array([ 1,  3,  4,  3,  4,  4,  1,  6,  6,  1,  8,  9,  1, 10,  8,  9,  1,\n",
       "       10,  9,  1, 10,  1, 10, 10])"
      ]
     },
     "execution_count": 36,
     "metadata": {},
     "output_type": "execute_result"
    }
   ],
   "source": [
    "# 독립변수(X), 타겟변수(Y)로 분리\n",
    "X = sequences[:,:-1]\n",
    "Y = sequences[:,-1]\n",
    "Y"
   ]
  },
  {
   "cell_type": "code",
   "execution_count": 37,
   "id": "f697e9b1",
   "metadata": {
    "ExecuteTime": {
     "end_time": "2021-08-20T03:13:42.076369Z",
     "start_time": "2021-08-20T03:13:42.060389Z"
    }
   },
   "outputs": [
    {
     "data": {
      "text/plain": [
       "10"
      ]
     },
     "execution_count": 37,
     "metadata": {},
     "output_type": "execute_result"
    }
   ],
   "source": [
    "len(t.word_index)"
   ]
  },
  {
   "cell_type": "code",
   "execution_count": 38,
   "id": "91c94b18",
   "metadata": {
    "ExecuteTime": {
     "end_time": "2021-08-20T03:15:14.880552Z",
     "start_time": "2021-08-20T03:15:14.865737Z"
    }
   },
   "outputs": [
    {
     "data": {
      "text/plain": [
       "array([[0., 1., 0., 0., 0., 0., 0., 0., 0., 0., 0.],\n",
       "       [0., 0., 0., 1., 0., 0., 0., 0., 0., 0., 0.],\n",
       "       [0., 0., 0., 0., 1., 0., 0., 0., 0., 0., 0.],\n",
       "       [0., 0., 0., 1., 0., 0., 0., 0., 0., 0., 0.],\n",
       "       [0., 0., 0., 0., 1., 0., 0., 0., 0., 0., 0.],\n",
       "       [0., 0., 0., 0., 1., 0., 0., 0., 0., 0., 0.],\n",
       "       [0., 1., 0., 0., 0., 0., 0., 0., 0., 0., 0.],\n",
       "       [0., 0., 0., 0., 0., 0., 1., 0., 0., 0., 0.],\n",
       "       [0., 0., 0., 0., 0., 0., 1., 0., 0., 0., 0.],\n",
       "       [0., 1., 0., 0., 0., 0., 0., 0., 0., 0., 0.],\n",
       "       [0., 0., 0., 0., 0., 0., 0., 0., 1., 0., 0.],\n",
       "       [0., 0., 0., 0., 0., 0., 0., 0., 0., 1., 0.],\n",
       "       [0., 1., 0., 0., 0., 0., 0., 0., 0., 0., 0.],\n",
       "       [0., 0., 0., 0., 0., 0., 0., 0., 0., 0., 1.],\n",
       "       [0., 0., 0., 0., 0., 0., 0., 0., 1., 0., 0.],\n",
       "       [0., 0., 0., 0., 0., 0., 0., 0., 0., 1., 0.],\n",
       "       [0., 1., 0., 0., 0., 0., 0., 0., 0., 0., 0.],\n",
       "       [0., 0., 0., 0., 0., 0., 0., 0., 0., 0., 1.],\n",
       "       [0., 0., 0., 0., 0., 0., 0., 0., 0., 1., 0.],\n",
       "       [0., 1., 0., 0., 0., 0., 0., 0., 0., 0., 0.],\n",
       "       [0., 0., 0., 0., 0., 0., 0., 0., 0., 0., 1.],\n",
       "       [0., 1., 0., 0., 0., 0., 0., 0., 0., 0., 0.],\n",
       "       [0., 0., 0., 0., 0., 0., 0., 0., 0., 0., 1.],\n",
       "       [0., 0., 0., 0., 0., 0., 0., 0., 0., 0., 1.]], dtype=float32)"
      ]
     },
     "execution_count": 38,
     "metadata": {},
     "output_type": "execute_result"
    }
   ],
   "source": [
    "# 원핫인코딩\n",
    "from tensorflow.keras.utils import to_categorical\n",
    "Y = to_categorical(Y,len(t.word_index)+1)\n",
    "Y"
   ]
  },
  {
   "cell_type": "code",
   "execution_count": 40,
   "id": "62cc86c1",
   "metadata": {
    "ExecuteTime": {
     "end_time": "2021-08-20T03:41:20.142444Z",
     "start_time": "2021-08-20T03:41:20.125459Z"
    }
   },
   "outputs": [
    {
     "data": {
      "text/plain": [
       "((24, 5), (24, 11))"
      ]
     },
     "execution_count": 40,
     "metadata": {},
     "output_type": "execute_result"
    }
   ],
   "source": [
    "X.shape, Y.shape"
   ]
  },
  {
   "cell_type": "code",
   "execution_count": 47,
   "id": "b724f2f6",
   "metadata": {
    "ExecuteTime": {
     "end_time": "2021-08-20T03:48:52.686326Z",
     "start_time": "2021-08-20T03:48:52.678327Z"
    }
   },
   "outputs": [
    {
     "data": {
      "text/plain": [
       "11"
      ]
     },
     "execution_count": 47,
     "metadata": {},
     "output_type": "execute_result"
    }
   ],
   "source": [
    "vocab_size=len(t.word_index)+1 # 원핫인코딩의 배열인덱스가 단어 집합의 크기보다 1 크다.\n",
    "vocab_size"
   ]
  },
  {
   "cell_type": "code",
   "execution_count": 50,
   "id": "2221807c",
   "metadata": {
    "ExecuteTime": {
     "end_time": "2021-08-20T03:53:35.234036Z",
     "start_time": "2021-08-20T03:53:33.489651Z"
    }
   },
   "outputs": [
    {
     "name": "stdout",
     "output_type": "stream",
     "text": [
      "Epoch 1/300\n",
      "1/1 - 1s - loss: 2.3997 - accuracy: 0.0000e+00\n",
      "Epoch 2/300\n",
      "1/1 - 0s - loss: 2.3897 - accuracy: 0.0417\n",
      "Epoch 3/300\n",
      "1/1 - 0s - loss: 2.3797 - accuracy: 0.0833\n",
      "Epoch 4/300\n",
      "1/1 - 0s - loss: 2.3696 - accuracy: 0.1667\n",
      "Epoch 5/300\n",
      "1/1 - 0s - loss: 2.3593 - accuracy: 0.2500\n",
      "Epoch 6/300\n",
      "1/1 - 0s - loss: 2.3488 - accuracy: 0.2917\n",
      "Epoch 7/300\n",
      "1/1 - 0s - loss: 2.3379 - accuracy: 0.3333\n",
      "Epoch 8/300\n",
      "1/1 - 0s - loss: 2.3268 - accuracy: 0.3333\n",
      "Epoch 9/300\n",
      "1/1 - 0s - loss: 2.3152 - accuracy: 0.4167\n",
      "Epoch 10/300\n",
      "1/1 - 0s - loss: 2.3031 - accuracy: 0.4167\n",
      "Epoch 11/300\n",
      "1/1 - 0s - loss: 2.2904 - accuracy: 0.4167\n",
      "Epoch 12/300\n",
      "1/1 - 0s - loss: 2.2772 - accuracy: 0.4167\n",
      "Epoch 13/300\n",
      "1/1 - 0s - loss: 2.2633 - accuracy: 0.4167\n",
      "Epoch 14/300\n",
      "1/1 - 0s - loss: 2.2488 - accuracy: 0.4167\n",
      "Epoch 15/300\n",
      "1/1 - 0s - loss: 2.2336 - accuracy: 0.4167\n",
      "Epoch 16/300\n",
      "1/1 - 0s - loss: 2.2177 - accuracy: 0.4167\n",
      "Epoch 17/300\n",
      "1/1 - 0s - loss: 2.2011 - accuracy: 0.4167\n",
      "Epoch 18/300\n",
      "1/1 - 0s - loss: 2.1838 - accuracy: 0.4167\n",
      "Epoch 19/300\n",
      "1/1 - 0s - loss: 2.1659 - accuracy: 0.3750\n",
      "Epoch 20/300\n",
      "1/1 - 0s - loss: 2.1476 - accuracy: 0.3750\n",
      "Epoch 21/300\n",
      "1/1 - 0s - loss: 2.1287 - accuracy: 0.3750\n",
      "Epoch 22/300\n",
      "1/1 - 0s - loss: 2.1096 - accuracy: 0.3750\n",
      "Epoch 23/300\n",
      "1/1 - 0s - loss: 2.0903 - accuracy: 0.3750\n",
      "Epoch 24/300\n",
      "1/1 - 0s - loss: 2.0710 - accuracy: 0.3750\n",
      "Epoch 25/300\n",
      "1/1 - 0s - loss: 2.0518 - accuracy: 0.3750\n",
      "Epoch 26/300\n",
      "1/1 - 0s - loss: 2.0329 - accuracy: 0.3750\n",
      "Epoch 27/300\n",
      "1/1 - 0s - loss: 2.0145 - accuracy: 0.3750\n",
      "Epoch 28/300\n",
      "1/1 - 0s - loss: 1.9966 - accuracy: 0.3750\n",
      "Epoch 29/300\n",
      "1/1 - 0s - loss: 1.9792 - accuracy: 0.3750\n",
      "Epoch 30/300\n",
      "1/1 - 0s - loss: 1.9624 - accuracy: 0.3750\n",
      "Epoch 31/300\n",
      "1/1 - 0s - loss: 1.9461 - accuracy: 0.3750\n",
      "Epoch 32/300\n",
      "1/1 - 0s - loss: 1.9304 - accuracy: 0.3750\n",
      "Epoch 33/300\n",
      "1/1 - 0s - loss: 1.9150 - accuracy: 0.3750\n",
      "Epoch 34/300\n",
      "1/1 - 0s - loss: 1.9000 - accuracy: 0.3750\n",
      "Epoch 35/300\n",
      "1/1 - 0s - loss: 1.8853 - accuracy: 0.3750\n",
      "Epoch 36/300\n",
      "1/1 - 0s - loss: 1.8710 - accuracy: 0.3750\n",
      "Epoch 37/300\n",
      "1/1 - 0s - loss: 1.8570 - accuracy: 0.4167\n",
      "Epoch 38/300\n",
      "1/1 - 0s - loss: 1.8435 - accuracy: 0.4167\n",
      "Epoch 39/300\n",
      "1/1 - 0s - loss: 1.8304 - accuracy: 0.4167\n",
      "Epoch 40/300\n",
      "1/1 - 0s - loss: 1.8179 - accuracy: 0.4167\n",
      "Epoch 41/300\n",
      "1/1 - 0s - loss: 1.8058 - accuracy: 0.4167\n",
      "Epoch 42/300\n",
      "1/1 - 0s - loss: 1.7944 - accuracy: 0.4167\n",
      "Epoch 43/300\n",
      "1/1 - 0s - loss: 1.7834 - accuracy: 0.4167\n",
      "Epoch 44/300\n",
      "1/1 - 0s - loss: 1.7728 - accuracy: 0.4167\n",
      "Epoch 45/300\n",
      "1/1 - 0s - loss: 1.7626 - accuracy: 0.4167\n",
      "Epoch 46/300\n",
      "1/1 - 0s - loss: 1.7527 - accuracy: 0.4167\n",
      "Epoch 47/300\n",
      "1/1 - 0s - loss: 1.7431 - accuracy: 0.4167\n",
      "Epoch 48/300\n",
      "1/1 - 0s - loss: 1.7337 - accuracy: 0.4167\n",
      "Epoch 49/300\n",
      "1/1 - 0s - loss: 1.7245 - accuracy: 0.4167\n",
      "Epoch 50/300\n",
      "1/1 - 0s - loss: 1.7154 - accuracy: 0.4167\n",
      "Epoch 51/300\n",
      "1/1 - 0s - loss: 1.7064 - accuracy: 0.4167\n",
      "Epoch 52/300\n",
      "1/1 - 0s - loss: 1.6973 - accuracy: 0.4167\n",
      "Epoch 53/300\n",
      "1/1 - 0s - loss: 1.6882 - accuracy: 0.4167\n",
      "Epoch 54/300\n",
      "1/1 - 0s - loss: 1.6790 - accuracy: 0.4167\n",
      "Epoch 55/300\n",
      "1/1 - 0s - loss: 1.6697 - accuracy: 0.4167\n",
      "Epoch 56/300\n",
      "1/1 - 0s - loss: 1.6603 - accuracy: 0.4167\n",
      "Epoch 57/300\n",
      "1/1 - 0s - loss: 1.6507 - accuracy: 0.4167\n",
      "Epoch 58/300\n",
      "1/1 - 0s - loss: 1.6410 - accuracy: 0.4167\n",
      "Epoch 59/300\n",
      "1/1 - 0s - loss: 1.6312 - accuracy: 0.4167\n",
      "Epoch 60/300\n",
      "1/1 - 0s - loss: 1.6213 - accuracy: 0.4167\n",
      "Epoch 61/300\n",
      "1/1 - 0s - loss: 1.6113 - accuracy: 0.4167\n",
      "Epoch 62/300\n",
      "1/1 - 0s - loss: 1.6012 - accuracy: 0.4167\n",
      "Epoch 63/300\n",
      "1/1 - 0s - loss: 1.5910 - accuracy: 0.4167\n",
      "Epoch 64/300\n",
      "1/1 - 0s - loss: 1.5807 - accuracy: 0.4167\n",
      "Epoch 65/300\n",
      "1/1 - 0s - loss: 1.5702 - accuracy: 0.4167\n",
      "Epoch 66/300\n",
      "1/1 - 0s - loss: 1.5596 - accuracy: 0.4167\n",
      "Epoch 67/300\n",
      "1/1 - 0s - loss: 1.5489 - accuracy: 0.4167\n",
      "Epoch 68/300\n",
      "1/1 - 0s - loss: 1.5380 - accuracy: 0.4167\n",
      "Epoch 69/300\n",
      "1/1 - 0s - loss: 1.5271 - accuracy: 0.4167\n",
      "Epoch 70/300\n",
      "1/1 - 0s - loss: 1.5160 - accuracy: 0.4167\n",
      "Epoch 71/300\n",
      "1/1 - 0s - loss: 1.5048 - accuracy: 0.4167\n",
      "Epoch 72/300\n",
      "1/1 - 0s - loss: 1.4936 - accuracy: 0.4167\n",
      "Epoch 73/300\n",
      "1/1 - 0s - loss: 1.4822 - accuracy: 0.4167\n",
      "Epoch 74/300\n",
      "1/1 - 0s - loss: 1.4708 - accuracy: 0.4167\n",
      "Epoch 75/300\n",
      "1/1 - 0s - loss: 1.4593 - accuracy: 0.4167\n",
      "Epoch 76/300\n",
      "1/1 - 0s - loss: 1.4478 - accuracy: 0.4167\n",
      "Epoch 77/300\n",
      "1/1 - 0s - loss: 1.4361 - accuracy: 0.4167\n",
      "Epoch 78/300\n",
      "1/1 - 0s - loss: 1.4244 - accuracy: 0.4167\n",
      "Epoch 79/300\n",
      "1/1 - 0s - loss: 1.4127 - accuracy: 0.4167\n",
      "Epoch 80/300\n",
      "1/1 - 0s - loss: 1.4009 - accuracy: 0.4167\n",
      "Epoch 81/300\n",
      "1/1 - 0s - loss: 1.3890 - accuracy: 0.4167\n",
      "Epoch 82/300\n",
      "1/1 - 0s - loss: 1.3770 - accuracy: 0.4583\n",
      "Epoch 83/300\n",
      "1/1 - 0s - loss: 1.3649 - accuracy: 0.4583\n",
      "Epoch 84/300\n",
      "1/1 - 0s - loss: 1.3528 - accuracy: 0.5000\n",
      "Epoch 85/300\n",
      "1/1 - 0s - loss: 1.3405 - accuracy: 0.5417\n",
      "Epoch 86/300\n",
      "1/1 - 0s - loss: 1.3282 - accuracy: 0.5417\n",
      "Epoch 87/300\n",
      "1/1 - 0s - loss: 1.3157 - accuracy: 0.5417\n",
      "Epoch 88/300\n",
      "1/1 - 0s - loss: 1.3032 - accuracy: 0.5417\n",
      "Epoch 89/300\n",
      "1/1 - 0s - loss: 1.2906 - accuracy: 0.5417\n",
      "Epoch 90/300\n",
      "1/1 - 0s - loss: 1.2779 - accuracy: 0.5417\n",
      "Epoch 91/300\n",
      "1/1 - 0s - loss: 1.2651 - accuracy: 0.5417\n",
      "Epoch 92/300\n",
      "1/1 - 0s - loss: 1.2523 - accuracy: 0.5417\n",
      "Epoch 93/300\n",
      "1/1 - 0s - loss: 1.2394 - accuracy: 0.5417\n",
      "Epoch 94/300\n",
      "1/1 - 0s - loss: 1.2264 - accuracy: 0.6250\n",
      "Epoch 95/300\n",
      "1/1 - 0s - loss: 1.2134 - accuracy: 0.6250\n",
      "Epoch 96/300\n",
      "1/1 - 0s - loss: 1.2003 - accuracy: 0.6250\n",
      "Epoch 97/300\n",
      "1/1 - 0s - loss: 1.1873 - accuracy: 0.6250\n",
      "Epoch 98/300\n",
      "1/1 - 0s - loss: 1.1742 - accuracy: 0.6250\n",
      "Epoch 99/300\n",
      "1/1 - 0s - loss: 1.1611 - accuracy: 0.6250\n",
      "Epoch 100/300\n",
      "1/1 - 0s - loss: 1.1481 - accuracy: 0.6667\n",
      "Epoch 101/300\n",
      "1/1 - 0s - loss: 1.1351 - accuracy: 0.6667\n",
      "Epoch 102/300\n",
      "1/1 - 0s - loss: 1.1221 - accuracy: 0.6667\n",
      "Epoch 103/300\n",
      "1/1 - 0s - loss: 1.1093 - accuracy: 0.6667\n",
      "Epoch 104/300\n",
      "1/1 - 0s - loss: 1.0965 - accuracy: 0.6667\n",
      "Epoch 105/300\n",
      "1/1 - 0s - loss: 1.0838 - accuracy: 0.6667\n",
      "Epoch 106/300\n",
      "1/1 - 0s - loss: 1.0712 - accuracy: 0.7083\n",
      "Epoch 107/300\n",
      "1/1 - 0s - loss: 1.0587 - accuracy: 0.7083\n",
      "Epoch 108/300\n",
      "1/1 - 0s - loss: 1.0464 - accuracy: 0.7083\n",
      "Epoch 109/300\n",
      "1/1 - 0s - loss: 1.0343 - accuracy: 0.7083\n",
      "Epoch 110/300\n",
      "1/1 - 0s - loss: 1.0223 - accuracy: 0.7083\n",
      "Epoch 111/300\n",
      "1/1 - 0s - loss: 1.0104 - accuracy: 0.7083\n",
      "Epoch 112/300\n",
      "1/1 - 0s - loss: 0.9988 - accuracy: 0.7083\n",
      "Epoch 113/300\n",
      "1/1 - 0s - loss: 0.9873 - accuracy: 0.7083\n",
      "Epoch 114/300\n",
      "1/1 - 0s - loss: 0.9760 - accuracy: 0.7083\n",
      "Epoch 115/300\n",
      "1/1 - 0s - loss: 0.9649 - accuracy: 0.7083\n",
      "Epoch 116/300\n",
      "1/1 - 0s - loss: 0.9541 - accuracy: 0.7083\n",
      "Epoch 117/300\n",
      "1/1 - 0s - loss: 0.9434 - accuracy: 0.7083\n",
      "Epoch 118/300\n",
      "1/1 - 0s - loss: 0.9329 - accuracy: 0.7083\n",
      "Epoch 119/300\n",
      "1/1 - 0s - loss: 0.9226 - accuracy: 0.7083\n",
      "Epoch 120/300\n",
      "1/1 - 0s - loss: 0.9125 - accuracy: 0.7083\n",
      "Epoch 121/300\n",
      "1/1 - 0s - loss: 0.9026 - accuracy: 0.7500\n",
      "Epoch 122/300\n",
      "1/1 - 0s - loss: 0.8929 - accuracy: 0.7500\n",
      "Epoch 123/300\n",
      "1/1 - 0s - loss: 0.8834 - accuracy: 0.7500\n",
      "Epoch 124/300\n",
      "1/1 - 0s - loss: 0.8741 - accuracy: 0.7500\n",
      "Epoch 125/300\n",
      "1/1 - 0s - loss: 0.8650 - accuracy: 0.7917\n",
      "Epoch 126/300\n",
      "1/1 - 0s - loss: 0.8561 - accuracy: 0.7917\n",
      "Epoch 127/300\n",
      "1/1 - 0s - loss: 0.8473 - accuracy: 0.7917\n",
      "Epoch 128/300\n",
      "1/1 - 0s - loss: 0.8388 - accuracy: 0.7917\n",
      "Epoch 129/300\n",
      "1/1 - 0s - loss: 0.8304 - accuracy: 0.7917\n",
      "Epoch 130/300\n",
      "1/1 - 0s - loss: 0.8222 - accuracy: 0.7917\n",
      "Epoch 131/300\n",
      "1/1 - 0s - loss: 0.8141 - accuracy: 0.7917\n",
      "Epoch 132/300\n",
      "1/1 - 0s - loss: 0.8062 - accuracy: 0.7917\n",
      "Epoch 133/300\n",
      "1/1 - 0s - loss: 0.7985 - accuracy: 0.7917\n",
      "Epoch 134/300\n",
      "1/1 - 0s - loss: 0.7909 - accuracy: 0.7917\n",
      "Epoch 135/300\n",
      "1/1 - 0s - loss: 0.7835 - accuracy: 0.7917\n",
      "Epoch 136/300\n",
      "1/1 - 0s - loss: 0.7762 - accuracy: 0.7917\n",
      "Epoch 137/300\n",
      "1/1 - 0s - loss: 0.7690 - accuracy: 0.7917\n",
      "Epoch 138/300\n",
      "1/1 - 0s - loss: 0.7620 - accuracy: 0.7917\n",
      "Epoch 139/300\n",
      "1/1 - 0s - loss: 0.7551 - accuracy: 0.7917\n",
      "Epoch 140/300\n",
      "1/1 - 0s - loss: 0.7483 - accuracy: 0.7917\n",
      "Epoch 141/300\n",
      "1/1 - 0s - loss: 0.7417 - accuracy: 0.7917\n",
      "Epoch 142/300\n",
      "1/1 - 0s - loss: 0.7352 - accuracy: 0.7917\n",
      "Epoch 143/300\n",
      "1/1 - 0s - loss: 0.7288 - accuracy: 0.7917\n",
      "Epoch 144/300\n",
      "1/1 - 0s - loss: 0.7225 - accuracy: 0.7917\n",
      "Epoch 145/300\n",
      "1/1 - 0s - loss: 0.7163 - accuracy: 0.7917\n",
      "Epoch 146/300\n",
      "1/1 - 0s - loss: 0.7102 - accuracy: 0.7917\n"
     ]
    },
    {
     "name": "stdout",
     "output_type": "stream",
     "text": [
      "Epoch 147/300\n",
      "1/1 - 0s - loss: 0.7042 - accuracy: 0.7917\n",
      "Epoch 148/300\n",
      "1/1 - 0s - loss: 0.6983 - accuracy: 0.7917\n",
      "Epoch 149/300\n",
      "1/1 - 0s - loss: 0.6925 - accuracy: 0.7917\n",
      "Epoch 150/300\n",
      "1/1 - 0s - loss: 0.6868 - accuracy: 0.7917\n",
      "Epoch 151/300\n",
      "1/1 - 0s - loss: 0.6812 - accuracy: 0.7917\n",
      "Epoch 152/300\n",
      "1/1 - 0s - loss: 0.6756 - accuracy: 0.7917\n",
      "Epoch 153/300\n",
      "1/1 - 0s - loss: 0.6702 - accuracy: 0.7917\n",
      "Epoch 154/300\n",
      "1/1 - 0s - loss: 0.6648 - accuracy: 0.7917\n",
      "Epoch 155/300\n",
      "1/1 - 0s - loss: 0.6595 - accuracy: 0.7917\n",
      "Epoch 156/300\n",
      "1/1 - 0s - loss: 0.6543 - accuracy: 0.7917\n",
      "Epoch 157/300\n",
      "1/1 - 0s - loss: 0.6491 - accuracy: 0.7917\n",
      "Epoch 158/300\n",
      "1/1 - 0s - loss: 0.6440 - accuracy: 0.7917\n",
      "Epoch 159/300\n",
      "1/1 - 0s - loss: 0.6390 - accuracy: 0.7917\n",
      "Epoch 160/300\n",
      "1/1 - 0s - loss: 0.6341 - accuracy: 0.7917\n",
      "Epoch 161/300\n",
      "1/1 - 0s - loss: 0.6292 - accuracy: 0.7917\n",
      "Epoch 162/300\n",
      "1/1 - 0s - loss: 0.6244 - accuracy: 0.8333\n",
      "Epoch 163/300\n",
      "1/1 - 0s - loss: 0.6197 - accuracy: 0.8333\n",
      "Epoch 164/300\n",
      "1/1 - 0s - loss: 0.6150 - accuracy: 0.8333\n",
      "Epoch 165/300\n",
      "1/1 - 0s - loss: 0.6104 - accuracy: 0.8333\n",
      "Epoch 166/300\n",
      "1/1 - 0s - loss: 0.6058 - accuracy: 0.8333\n",
      "Epoch 167/300\n",
      "1/1 - 0s - loss: 0.6013 - accuracy: 0.8333\n",
      "Epoch 168/300\n",
      "1/1 - 0s - loss: 0.5968 - accuracy: 0.8333\n",
      "Epoch 169/300\n",
      "1/1 - 0s - loss: 0.5924 - accuracy: 0.8333\n",
      "Epoch 170/300\n",
      "1/1 - 0s - loss: 0.5881 - accuracy: 0.8333\n",
      "Epoch 171/300\n",
      "1/1 - 0s - loss: 0.5838 - accuracy: 0.8333\n",
      "Epoch 172/300\n",
      "1/1 - 0s - loss: 0.5796 - accuracy: 0.8333\n",
      "Epoch 173/300\n",
      "1/1 - 0s - loss: 0.5754 - accuracy: 0.8333\n",
      "Epoch 174/300\n",
      "1/1 - 0s - loss: 0.5712 - accuracy: 0.8333\n",
      "Epoch 175/300\n",
      "1/1 - 0s - loss: 0.5671 - accuracy: 0.8333\n",
      "Epoch 176/300\n",
      "1/1 - 0s - loss: 0.5631 - accuracy: 0.8333\n",
      "Epoch 177/300\n",
      "1/1 - 0s - loss: 0.5591 - accuracy: 0.8333\n",
      "Epoch 178/300\n",
      "1/1 - 0s - loss: 0.5552 - accuracy: 0.8333\n",
      "Epoch 179/300\n",
      "1/1 - 0s - loss: 0.5513 - accuracy: 0.8333\n",
      "Epoch 180/300\n",
      "1/1 - 0s - loss: 0.5474 - accuracy: 0.8333\n",
      "Epoch 181/300\n",
      "1/1 - 0s - loss: 0.5436 - accuracy: 0.8333\n",
      "Epoch 182/300\n",
      "1/1 - 0s - loss: 0.5398 - accuracy: 0.8333\n",
      "Epoch 183/300\n",
      "1/1 - 0s - loss: 0.5361 - accuracy: 0.8333\n",
      "Epoch 184/300\n",
      "1/1 - 0s - loss: 0.5324 - accuracy: 0.8333\n",
      "Epoch 185/300\n",
      "1/1 - 0s - loss: 0.5288 - accuracy: 0.8333\n",
      "Epoch 186/300\n",
      "1/1 - 0s - loss: 0.5252 - accuracy: 0.8333\n",
      "Epoch 187/300\n",
      "1/1 - 0s - loss: 0.5216 - accuracy: 0.8333\n",
      "Epoch 188/300\n",
      "1/1 - 0s - loss: 0.5181 - accuracy: 0.8333\n",
      "Epoch 189/300\n",
      "1/1 - 0s - loss: 0.5146 - accuracy: 0.8333\n",
      "Epoch 190/300\n",
      "1/1 - 0s - loss: 0.5111 - accuracy: 0.8333\n",
      "Epoch 191/300\n",
      "1/1 - 0s - loss: 0.5077 - accuracy: 0.8333\n",
      "Epoch 192/300\n",
      "1/1 - 0s - loss: 0.5044 - accuracy: 0.8333\n",
      "Epoch 193/300\n",
      "1/1 - 0s - loss: 0.5010 - accuracy: 0.8333\n",
      "Epoch 194/300\n",
      "1/1 - 0s - loss: 0.4977 - accuracy: 0.8333\n",
      "Epoch 195/300\n",
      "1/1 - 0s - loss: 0.4944 - accuracy: 0.8333\n",
      "Epoch 196/300\n",
      "1/1 - 0s - loss: 0.4912 - accuracy: 0.8333\n",
      "Epoch 197/300\n",
      "1/1 - 0s - loss: 0.4880 - accuracy: 0.8333\n",
      "Epoch 198/300\n",
      "1/1 - 0s - loss: 0.4848 - accuracy: 0.8333\n",
      "Epoch 199/300\n",
      "1/1 - 0s - loss: 0.4817 - accuracy: 0.8333\n",
      "Epoch 200/300\n",
      "1/1 - 0s - loss: 0.4786 - accuracy: 0.8333\n",
      "Epoch 201/300\n",
      "1/1 - 0s - loss: 0.4755 - accuracy: 0.8333\n",
      "Epoch 202/300\n",
      "1/1 - 0s - loss: 0.4725 - accuracy: 0.8333\n",
      "Epoch 203/300\n",
      "1/1 - 0s - loss: 0.4695 - accuracy: 0.8333\n",
      "Epoch 204/300\n",
      "1/1 - 0s - loss: 0.4665 - accuracy: 0.8333\n",
      "Epoch 205/300\n",
      "1/1 - 0s - loss: 0.4636 - accuracy: 0.8750\n",
      "Epoch 206/300\n",
      "1/1 - 0s - loss: 0.4606 - accuracy: 0.8750\n",
      "Epoch 207/300\n",
      "1/1 - 0s - loss: 0.4578 - accuracy: 0.8750\n",
      "Epoch 208/300\n",
      "1/1 - 0s - loss: 0.4549 - accuracy: 0.8750\n",
      "Epoch 209/300\n",
      "1/1 - 0s - loss: 0.4521 - accuracy: 0.8750\n",
      "Epoch 210/300\n",
      "1/1 - 0s - loss: 0.4493 - accuracy: 0.8750\n",
      "Epoch 211/300\n",
      "1/1 - 0s - loss: 0.4465 - accuracy: 0.8750\n",
      "Epoch 212/300\n",
      "1/1 - 0s - loss: 0.4438 - accuracy: 0.8750\n",
      "Epoch 213/300\n",
      "1/1 - 0s - loss: 0.4411 - accuracy: 0.8750\n",
      "Epoch 214/300\n",
      "1/1 - 0s - loss: 0.4384 - accuracy: 0.8750\n",
      "Epoch 215/300\n",
      "1/1 - 0s - loss: 0.4357 - accuracy: 0.8750\n",
      "Epoch 216/300\n",
      "1/1 - 0s - loss: 0.4331 - accuracy: 0.8750\n",
      "Epoch 217/300\n",
      "1/1 - 0s - loss: 0.4305 - accuracy: 0.8750\n",
      "Epoch 218/300\n",
      "1/1 - 0s - loss: 0.4279 - accuracy: 0.8750\n",
      "Epoch 219/300\n",
      "1/1 - 0s - loss: 0.4253 - accuracy: 0.8750\n",
      "Epoch 220/300\n",
      "1/1 - 0s - loss: 0.4228 - accuracy: 0.8750\n",
      "Epoch 221/300\n",
      "1/1 - 0s - loss: 0.4203 - accuracy: 0.8750\n",
      "Epoch 222/300\n",
      "1/1 - 0s - loss: 0.4179 - accuracy: 0.8750\n",
      "Epoch 223/300\n",
      "1/1 - 0s - loss: 0.4154 - accuracy: 0.8750\n",
      "Epoch 224/300\n",
      "1/1 - 0s - loss: 0.4130 - accuracy: 0.8750\n",
      "Epoch 225/300\n",
      "1/1 - 0s - loss: 0.4106 - accuracy: 0.8750\n",
      "Epoch 226/300\n",
      "1/1 - 0s - loss: 0.4083 - accuracy: 0.8750\n",
      "Epoch 227/300\n",
      "1/1 - 0s - loss: 0.4059 - accuracy: 0.8750\n",
      "Epoch 228/300\n",
      "1/1 - 0s - loss: 0.4036 - accuracy: 0.8750\n",
      "Epoch 229/300\n",
      "1/1 - 0s - loss: 0.4013 - accuracy: 0.8750\n",
      "Epoch 230/300\n",
      "1/1 - 0s - loss: 0.3991 - accuracy: 0.8750\n",
      "Epoch 231/300\n",
      "1/1 - 0s - loss: 0.3968 - accuracy: 0.8750\n",
      "Epoch 232/300\n",
      "1/1 - 0s - loss: 0.3946 - accuracy: 0.8750\n",
      "Epoch 233/300\n",
      "1/1 - 0s - loss: 0.3924 - accuracy: 0.8750\n",
      "Epoch 234/300\n",
      "1/1 - 0s - loss: 0.3903 - accuracy: 0.8750\n",
      "Epoch 235/300\n",
      "1/1 - 0s - loss: 0.3882 - accuracy: 0.8750\n",
      "Epoch 236/300\n",
      "1/1 - 0s - loss: 0.3861 - accuracy: 0.8750\n",
      "Epoch 237/300\n",
      "1/1 - 0s - loss: 0.3840 - accuracy: 0.8750\n",
      "Epoch 238/300\n",
      "1/1 - 0s - loss: 0.3819 - accuracy: 0.8750\n",
      "Epoch 239/300\n",
      "1/1 - 0s - loss: 0.3799 - accuracy: 0.8750\n",
      "Epoch 240/300\n",
      "1/1 - 0s - loss: 0.3779 - accuracy: 0.8750\n",
      "Epoch 241/300\n",
      "1/1 - 0s - loss: 0.3759 - accuracy: 0.8750\n",
      "Epoch 242/300\n",
      "1/1 - 0s - loss: 0.3740 - accuracy: 0.8750\n",
      "Epoch 243/300\n",
      "1/1 - 0s - loss: 0.3721 - accuracy: 0.8750\n",
      "Epoch 244/300\n",
      "1/1 - 0s - loss: 0.3702 - accuracy: 0.8750\n",
      "Epoch 245/300\n",
      "1/1 - 0s - loss: 0.3683 - accuracy: 0.8750\n",
      "Epoch 246/300\n",
      "1/1 - 0s - loss: 0.3665 - accuracy: 0.8750\n",
      "Epoch 247/300\n",
      "1/1 - 0s - loss: 0.3646 - accuracy: 0.8750\n",
      "Epoch 248/300\n",
      "1/1 - 0s - loss: 0.3628 - accuracy: 0.8750\n",
      "Epoch 249/300\n",
      "1/1 - 0s - loss: 0.3611 - accuracy: 0.8750\n",
      "Epoch 250/300\n",
      "1/1 - 0s - loss: 0.3593 - accuracy: 0.8750\n",
      "Epoch 251/300\n",
      "1/1 - 0s - loss: 0.3576 - accuracy: 0.8750\n",
      "Epoch 252/300\n",
      "1/1 - 0s - loss: 0.3559 - accuracy: 0.8750\n",
      "Epoch 253/300\n",
      "1/1 - 0s - loss: 0.3542 - accuracy: 0.8750\n",
      "Epoch 254/300\n",
      "1/1 - 0s - loss: 0.3526 - accuracy: 0.8750\n",
      "Epoch 255/300\n",
      "1/1 - 0s - loss: 0.3510 - accuracy: 0.8750\n",
      "Epoch 256/300\n",
      "1/1 - 0s - loss: 0.3494 - accuracy: 0.8750\n",
      "Epoch 257/300\n",
      "1/1 - 0s - loss: 0.3478 - accuracy: 0.8750\n",
      "Epoch 258/300\n",
      "1/1 - 0s - loss: 0.3462 - accuracy: 0.8750\n",
      "Epoch 259/300\n",
      "1/1 - 0s - loss: 0.3447 - accuracy: 0.8750\n",
      "Epoch 260/300\n",
      "1/1 - 0s - loss: 0.3432 - accuracy: 0.8750\n",
      "Epoch 261/300\n",
      "1/1 - 0s - loss: 0.3417 - accuracy: 0.8750\n",
      "Epoch 262/300\n",
      "1/1 - 0s - loss: 0.3403 - accuracy: 0.8750\n",
      "Epoch 263/300\n",
      "1/1 - 0s - loss: 0.3388 - accuracy: 0.8750\n",
      "Epoch 264/300\n",
      "1/1 - 0s - loss: 0.3374 - accuracy: 0.8750\n",
      "Epoch 265/300\n",
      "1/1 - 0s - loss: 0.3360 - accuracy: 0.8750\n",
      "Epoch 266/300\n",
      "1/1 - 0s - loss: 0.3347 - accuracy: 0.8750\n",
      "Epoch 267/300\n",
      "1/1 - 0s - loss: 0.3333 - accuracy: 0.8750\n",
      "Epoch 268/300\n",
      "1/1 - 0s - loss: 0.3320 - accuracy: 0.8750\n",
      "Epoch 269/300\n",
      "1/1 - 0s - loss: 0.3307 - accuracy: 0.8750\n",
      "Epoch 270/300\n",
      "1/1 - 0s - loss: 0.3294 - accuracy: 0.8750\n",
      "Epoch 271/300\n",
      "1/1 - 0s - loss: 0.3281 - accuracy: 0.8750\n",
      "Epoch 272/300\n",
      "1/1 - 0s - loss: 0.3269 - accuracy: 0.8750\n",
      "Epoch 273/300\n",
      "1/1 - 0s - loss: 0.3257 - accuracy: 0.8750\n",
      "Epoch 274/300\n",
      "1/1 - 0s - loss: 0.3244 - accuracy: 0.8750\n",
      "Epoch 275/300\n",
      "1/1 - 0s - loss: 0.3233 - accuracy: 0.8750\n",
      "Epoch 276/300\n",
      "1/1 - 0s - loss: 0.3221 - accuracy: 0.8750\n",
      "Epoch 277/300\n",
      "1/1 - 0s - loss: 0.3210 - accuracy: 0.8750\n",
      "Epoch 278/300\n",
      "1/1 - 0s - loss: 0.3198 - accuracy: 0.8750\n",
      "Epoch 279/300\n",
      "1/1 - 0s - loss: 0.3187 - accuracy: 0.8750\n",
      "Epoch 280/300\n",
      "1/1 - 0s - loss: 0.3176 - accuracy: 0.8750\n",
      "Epoch 281/300\n",
      "1/1 - 0s - loss: 0.3165 - accuracy: 0.8750\n",
      "Epoch 282/300\n",
      "1/1 - 0s - loss: 0.3155 - accuracy: 0.8750\n",
      "Epoch 283/300\n",
      "1/1 - 0s - loss: 0.3145 - accuracy: 0.8750\n",
      "Epoch 284/300\n",
      "1/1 - 0s - loss: 0.3134 - accuracy: 0.8750\n",
      "Epoch 285/300\n",
      "1/1 - 0s - loss: 0.3124 - accuracy: 0.8750\n",
      "Epoch 286/300\n",
      "1/1 - 0s - loss: 0.3114 - accuracy: 0.8750\n",
      "Epoch 287/300\n",
      "1/1 - 0s - loss: 0.3105 - accuracy: 0.8750\n",
      "Epoch 288/300\n",
      "1/1 - 0s - loss: 0.3095 - accuracy: 0.8750\n",
      "Epoch 289/300\n",
      "1/1 - 0s - loss: 0.3086 - accuracy: 0.8750\n",
      "Epoch 290/300\n",
      "1/1 - 0s - loss: 0.3076 - accuracy: 0.8750\n"
     ]
    },
    {
     "name": "stdout",
     "output_type": "stream",
     "text": [
      "Epoch 291/300\n",
      "1/1 - 0s - loss: 0.3067 - accuracy: 0.8750\n",
      "Epoch 292/300\n",
      "1/1 - 0s - loss: 0.3058 - accuracy: 0.8750\n",
      "Epoch 293/300\n",
      "1/1 - 0s - loss: 0.3050 - accuracy: 0.8750\n",
      "Epoch 294/300\n",
      "1/1 - 0s - loss: 0.3041 - accuracy: 0.8750\n",
      "Epoch 295/300\n",
      "1/1 - 0s - loss: 0.3032 - accuracy: 0.8750\n",
      "Epoch 296/300\n",
      "1/1 - 0s - loss: 0.3024 - accuracy: 0.8750\n",
      "Epoch 297/300\n",
      "1/1 - 0s - loss: 0.3016 - accuracy: 0.8750\n",
      "Epoch 298/300\n",
      "1/1 - 0s - loss: 0.3008 - accuracy: 0.8750\n",
      "Epoch 299/300\n",
      "1/1 - 0s - loss: 0.3000 - accuracy: 0.8750\n",
      "Epoch 300/300\n",
      "1/1 - 0s - loss: 0.2992 - accuracy: 0.8750\n"
     ]
    }
   ],
   "source": [
    "from tensorflow.keras.models import Sequential\n",
    "from tensorflow.keras.layers import Embedding, SimpleRNN\n",
    "from tensorflow.keras.layers import Dense\n",
    "\n",
    "model = Sequential()\n",
    "# 희소행렬로 변환\n",
    "\n",
    "model.add(Embedding(input_dim=vocab_size, output_dim=vocab_size-1, input_length=X.shape[1]))\n",
    "model.add(SimpleRNN(32))\n",
    "model.add(Dense(vocab_size, activation='softmax'))\n",
    "# 모델 학습과정 설정\n",
    "model.compile(loss='categorical_crossentropy', optimizer='adam', metrics=['accuracy'])\n",
    "# 모델 학습시키기\n",
    "hist=model.fit(X,Y,epochs=300, verbose=2)\n"
   ]
  },
  {
   "cell_type": "code",
   "execution_count": 57,
   "id": "af608ca8",
   "metadata": {
    "ExecuteTime": {
     "end_time": "2021-08-20T04:11:53.031748Z",
     "start_time": "2021-08-20T04:11:51.354326Z"
    }
   },
   "outputs": [
    {
     "data": {
      "image/png": "[encoded data removed]",
      "text/plain": [
       "<Figure size 720x576 with 2 Axes>"
      ]
     },
     "metadata": {
      "needs_background": "light"
     },
     "output_type": "display_data"
    }
   ],
   "source": [
    "# 5. 모델의 학습과정 표시하기\n",
    "import matplotlib.pyplot as plt\n",
    "fig, loss_ax = plt.subplots(figsize=(10,8))\n",
    "loss_ax.plot(hist.history['loss'], 'y', label='train loss')\n",
    "\n",
    "acc_ax = loss_ax.twinx() #loss_ax와 x축을 공유하는 acc_ax 생성\n",
    "acc_ax.plot(hist.history['accuracy'], 'g', label='train accuracy')\n",
    "loss_ax.set_xlabel('epoch')\n",
    "loss_ax.set_ylabel('loss')\n",
    "acc_ax.set_ylabel('accuracy')\n",
    "loss_ax.legend(loc='upper left')\n",
    "acc_ax.legend(loc='center right')\n",
    "plt.show()"
   ]
  },
  {
   "cell_type": "code",
   "execution_count": 53,
   "id": "d1c210cd",
   "metadata": {
    "ExecuteTime": {
     "end_time": "2021-08-20T03:59:11.504096Z",
     "start_time": "2021-08-20T03:59:07.299443Z"
    }
   },
   "outputs": [
    {
     "name": "stdout",
     "output_type": "stream",
     "text": [
      "입력 단어 : 경마장에\n",
      "1\n",
      "예측된 단어 :  말이\n"
     ]
    }
   ],
   "source": [
    "word = input(\"입력 단어 : \")\n",
    "encoded = t.texts_to_sequences([word])[0]\n",
    "input_data = pad_sequences([encoded], maxlen=5, padding='pre')\n",
    "result = model.predict(input_data).argmax()\n",
    "print(result)\n",
    "for key, value in t.word_index.items():\n",
    "    if value==result:\n",
    "        print('예측된 단어 : ', key)\n",
    "        break"
   ]
  },
  {
   "cell_type": "markdown",
   "id": "c8cca882",
   "metadata": {},
   "source": [
    "## 2. 다음 문맥 예측해 보기"
   ]
  },
  {
   "cell_type": "code",
   "execution_count": 66,
   "id": "ab4a51ba",
   "metadata": {
    "ExecuteTime": {
     "end_time": "2021-08-20T04:13:43.832466Z",
     "start_time": "2021-08-20T04:13:43.821496Z"
    }
   },
   "outputs": [],
   "source": [
    "# \"경마장에\"이후에 올 단어 \"4\"개 예측 -> 경마장에 있는 말이 뛰고\n",
    "def sentence_generation(model, t, current_word, n):\n",
    "    init_word = current_word\n",
    "    print('입력된 단어 :', init_word)\n",
    "    for i in range(1, n+1):\n",
    "        encoded = t.texts_to_sequences([current_word])[0]\n",
    "        input_data = pad_sequences([encoded], maxlen=5, padding='pre')\n",
    "        result = np.argmax(model.predict(input_data))\n",
    "        for word, value in t.word_index.items():\n",
    "            if result == value:\n",
    "                print(\"{}번째 {}:{}\".format(i, word, result))\n",
    "                current_word = current_word + ' ' + word\n",
    "                break\n",
    "    return current_word"
   ]
  },
  {
   "cell_type": "code",
   "execution_count": 68,
   "id": "4207c1f9",
   "metadata": {
    "ExecuteTime": {
     "end_time": "2021-08-20T04:13:49.852688Z",
     "start_time": "2021-08-20T04:13:49.745818Z"
    }
   },
   "outputs": [
    {
     "name": "stdout",
     "output_type": "stream",
     "text": [
      "입력된 단어 : 경마장에\n",
      "1번째 말이:1\n",
      "2번째 뛰고:3\n",
      "3번째 있다:4\n"
     ]
    },
    {
     "data": {
      "text/plain": [
       "'경마장에 말이 뛰고 있다'"
      ]
     },
     "execution_count": 68,
     "metadata": {},
     "output_type": "execute_result"
    }
   ],
   "source": [
    "sentence_generation(model, t, '경마장에', 3)"
   ]
  }
 ],
 "metadata": {
  "kernelspec": {
   "display_name": "Python 3",
   "language": "python",
   "name": "python3"
  },
  "language_info": {
   "codemirror_mode": {
    "name": "ipython",
    "version": 3
   },
   "file_extension": ".py",
   "mimetype": "text/x-python",
   "name": "python",
   "nbconvert_exporter": "python",
   "pygments_lexer": "ipython3",
   "version": "3.8.8"
  },
  "toc": {
   "base_numbering": 1,
   "nav_menu": {},
   "number_sections": false,
   "sideBar": true,
   "skip_h1_title": false,
   "title_cell": "Table of Contents",
   "title_sidebar": "Contents",
   "toc_cell": false,
   "toc_position": {},
   "toc_section_display": true,
   "toc_window_display": true
  },
  "varInspector": {
   "cols": {
    "lenName": 16,
    "lenType": 16,
    "lenVar": 40
   },
   "kernels_config": {
    "python": {
     "delete_cmd_postfix": "",
     "delete_cmd_prefix": "del ",
     "library": "var_list.py",
     "varRefreshCmd": "print(var_dic_list())"
    },
    "r": {
     "delete_cmd_postfix": ") ",
     "delete_cmd_prefix": "rm(",
     "library": "var_list.r",
     "varRefreshCmd": "cat(var_dic_list()) "
    }
   },
   "types_to_exclude": [
    "module",
    "function",
    "builtin_function_or_method",
    "instance",
    "_Feature"
   ],
   "window_display": false
  }
 },
 "nbformat": 4,
 "nbformat_minor": 5
}
