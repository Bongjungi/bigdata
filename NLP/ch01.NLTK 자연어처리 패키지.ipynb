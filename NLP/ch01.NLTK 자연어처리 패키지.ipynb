{
 "cells": [
  {
   "cell_type": "markdown",
   "id": "ab7a9943",
   "metadata": {},
   "source": [
    "# 1. NLTK 자연어 처리 패키지"
   ]
  },
  {
   "cell_type": "markdown",
   "id": "0ccaa124",
   "metadata": {},
   "source": [
    "## 1. NLTK 패키지"
   ]
  },
  {
   "cell_type": "code",
   "execution_count": 1,
   "id": "0c3d9247",
   "metadata": {
    "ExecuteTime": {
     "end_time": "2021-08-19T00:46:14.891943Z",
     "start_time": "2021-08-19T00:46:00.453556Z"
    }
   },
   "outputs": [],
   "source": [
    "import nltk"
   ]
  },
  {
   "cell_type": "code",
   "execution_count": 2,
   "id": "4dd27704",
   "metadata": {
    "ExecuteTime": {
     "end_time": "2021-08-18T07:56:09.173709Z",
     "start_time": "2021-08-18T07:53:23.008653Z"
    }
   },
   "outputs": [
    {
     "name": "stdout",
     "output_type": "stream",
     "text": [
      "showing info https://raw.githubusercontent.com/nltk/nltk_data/gh-pages/index.xml\n",
      "showing info https://raw.githubusercontent.com/nltk/nltk_data/gh-pages/index.xml\n"
     ]
    },
    {
     "data": {
      "text/plain": [
       "True"
      ]
     },
     "execution_count": 2,
     "metadata": {},
     "output_type": "execute_result"
    }
   ],
   "source": [
    "# c:/nltk_data\n",
    "# d:/nltk_data\n",
    "# e:/nltk_data\n",
    "# c:/Users/컴퓨터이름/nltk_data\n",
    "# c:/Users/컴퓨터이름/anaconda3/nltk_data\n",
    "# c:/Users/컴퓨터이름/anaconda3/share/nltk_data\n",
    "# c:/Users/컴퓨터이름/anaconda3/lib/nltk_data\n",
    "# c:/Users/컴퓨터이름/anaconda3/Roaming/nltk_data\n",
    "nltk.download()"
   ]
  },
  {
   "cell_type": "code",
   "execution_count": 2,
   "id": "e9e21eb0",
   "metadata": {
    "ExecuteTime": {
     "end_time": "2021-08-19T00:54:21.775512Z",
     "start_time": "2021-08-19T00:54:14.649762Z"
    }
   },
   "outputs": [
    {
     "name": "stdout",
     "output_type": "stream",
     "text": [
      "*** Introductory Examples for the NLTK Book ***\n",
      "Loading text1, ..., text9 and sent1, ..., sent9\n",
      "Type the name of the text or sentence to view it.\n",
      "Type: 'texts()' or 'sents()' to list the materials.\n",
      "text1: Moby Dick by Herman Melville 1851\n",
      "text2: Sense and Sensibility by Jane Austen 1811\n",
      "text3: The Book of Genesis\n",
      "text4: Inaugural Address Corpus\n",
      "text5: Chat Corpus\n",
      "text6: Monty Python and the Holy Grail\n",
      "text7: Wall Street Journal\n",
      "text8: Personals Corpus\n",
      "text9: The Man Who Was Thursday by G . K . Chesterton 1908\n"
     ]
    }
   ],
   "source": [
    "from nltk.book import *"
   ]
  },
  {
   "cell_type": "code",
   "execution_count": 58,
   "id": "105b48ac",
   "metadata": {
    "ExecuteTime": {
     "end_time": "2021-08-19T01:55:07.690834Z",
     "start_time": "2021-08-19T01:55:07.681836Z"
    }
   },
   "outputs": [
    {
     "data": {
      "text/plain": [
       "['austen-emma.txt',\n",
       " 'austen-persuasion.txt',\n",
       " 'austen-sense.txt',\n",
       " 'bible-kjv.txt',\n",
       " 'blake-poems.txt',\n",
       " 'bryant-stories.txt',\n",
       " 'burgess-busterbrown.txt',\n",
       " 'carroll-alice.txt',\n",
       " 'chesterton-ball.txt',\n",
       " 'chesterton-brown.txt',\n",
       " 'chesterton-thursday.txt',\n",
       " 'edgeworth-parents.txt',\n",
       " 'melville-moby_dick.txt',\n",
       " 'milton-paradise.txt',\n",
       " 'shakespeare-caesar.txt',\n",
       " 'shakespeare-hamlet.txt',\n",
       " 'shakespeare-macbeth.txt',\n",
       " 'whitman-leaves.txt']"
      ]
     },
     "execution_count": 58,
     "metadata": {},
     "output_type": "execute_result"
    }
   ],
   "source": [
    "nltk.corpus.gutenberg.fileids()"
   ]
  },
  {
   "cell_type": "code",
   "execution_count": 7,
   "id": "48b2d529",
   "metadata": {
    "ExecuteTime": {
     "end_time": "2021-08-19T00:54:46.502944Z",
     "start_time": "2021-08-19T00:54:46.473025Z"
    }
   },
   "outputs": [
    {
     "name": "stdout",
     "output_type": "stream",
     "text": [
      "[Emma by Jane Austen 1816]\n",
      "\n",
      "VOLUME I\n",
      "\n",
      "CHAPTER I\n",
      "\n",
      "\n",
      "\n"
     ]
    }
   ],
   "source": [
    "emma = nltk.corpus.gutenberg.raw('austen-emma.txt')\n",
    "print(emma[:50])"
   ]
  },
  {
   "cell_type": "code",
   "execution_count": 59,
   "id": "afd76b82",
   "metadata": {
    "ExecuteTime": {
     "end_time": "2021-08-19T01:55:11.462227Z",
     "start_time": "2021-08-19T01:55:11.443147Z"
    }
   },
   "outputs": [
    {
     "data": {
      "text/plain": [
       "887071"
      ]
     },
     "execution_count": 59,
     "metadata": {},
     "output_type": "execute_result"
    }
   ],
   "source": [
    "len(emma)"
   ]
  },
  {
   "cell_type": "code",
   "execution_count": 9,
   "id": "edbca56b",
   "metadata": {
    "ExecuteTime": {
     "end_time": "2021-08-19T00:54:48.033728Z",
     "start_time": "2021-08-19T00:54:47.659970Z"
    }
   },
   "outputs": [
    {
     "name": "stdout",
     "output_type": "stream",
     "text": [
      "문장 수 :  7493\n",
      "'It was on the wedding-day\\nof this beloved friend that Emma first sat in mournful thought\\nof any continuance.'\n"
     ]
    }
   ],
   "source": [
    "# sent_tokenize() : 문장 단위로 쪼갠 list 반환\n",
    "from nltk.tokenize import sent_tokenize\n",
    "sent_tokens = sent_tokenize(emma)\n",
    "print(\"문장 수 : \", len(sent_tokens))\n",
    "print(\"%r\"%(sent_tokens[10]))"
   ]
  },
  {
   "cell_type": "code",
   "execution_count": 10,
   "id": "8454163b",
   "metadata": {
    "ExecuteTime": {
     "end_time": "2021-08-19T00:54:48.454612Z",
     "start_time": "2021-08-19T00:54:48.447651Z"
    }
   },
   "outputs": [
    {
     "name": "stdout",
     "output_type": "stream",
     "text": [
      "['It', 'was', 'on', 'the', 'wedding-day', 'of', 'this', 'beloved', 'friend', 'that', 'Emma', 'first', 'sat', 'in', 'mournful', 'thought', 'of', 'any', 'continuance', '.']\n"
     ]
    }
   ],
   "source": [
    "# word_tokenize() 단어 단위로 쪼갠 list 반환\n",
    "from nltk.tokenize import word_tokenize\n",
    "print(word_tokenize(sent_tokens[10]))"
   ]
  },
  {
   "cell_type": "code",
   "execution_count": 11,
   "id": "ff40b314",
   "metadata": {
    "ExecuteTime": {
     "end_time": "2021-08-19T00:54:48.954950Z",
     "start_time": "2021-08-19T00:54:48.940988Z"
    }
   },
   "outputs": [
    {
     "name": "stdout",
     "output_type": "stream",
     "text": [
      "['It', 'was', 'on', 'the', 'wedding', 'day', 'of', 'this', 'beloved', 'friend', 'that', 'Emma', 'first', 'sat', 'in', 'mournful', 'thought', 'of', 'any', 'continuance']\n"
     ]
    }
   ],
   "source": [
    "# regexpTokenizer 클래스 : 토큰화할 때 정규표현식 이용\n",
    "from nltk.tokenize import RegexpTokenizer\n",
    "ret = RegexpTokenizer('[\\w]+')\n",
    "print(ret.tokenize(sent_tokens[10]))"
   ]
  },
  {
   "cell_type": "markdown",
   "id": "1a6c6c32",
   "metadata": {
    "ExecuteTime": {
     "end_time": "2021-08-18T08:15:52.604674Z",
     "start_time": "2021-08-18T08:15:52.597671Z"
    }
   },
   "source": [
    "## 2. 형태소(의미가 있는 가장 작은 말의 단위) 분석\n",
    "- cf. 자연어 처리의 기본은 형태소 분석과 품사태깅\n",
    "    - 어간 추출(Stemming)\n",
    "    - 원형 복원(Lemmatizing)\n",
    "    - 품사 태깅(Part of Speech Tagging)"
   ]
  },
  {
   "cell_type": "code",
   "execution_count": 71,
   "id": "b0155347",
   "metadata": {
    "ExecuteTime": {
     "end_time": "2021-08-19T01:57:31.830106Z",
     "start_time": "2021-08-19T01:57:31.813154Z"
    }
   },
   "outputs": [
    {
     "data": {
      "text/plain": [
       "('send', 'cook', 'file')"
      ]
     },
     "execution_count": 71,
     "metadata": {},
     "output_type": "execute_result"
    }
   ],
   "source": [
    "words = ['sending', 'cooking', 'files', 'lives', 'crying','dying','add','카이트']\n",
    "# 어간 추출(1) : PorterStemmer\n",
    "from nltk.stem import PorterStemmer\n",
    "pst = PorterStemmer()\n",
    "pst.stem(words[0]), pst.stem(words[1]), pst.stem(words[2])"
   ]
  },
  {
   "cell_type": "code",
   "execution_count": 64,
   "id": "3c07023a",
   "metadata": {
    "ExecuteTime": {
     "end_time": "2021-08-19T01:56:09.863924Z",
     "start_time": "2021-08-19T01:56:09.856914Z"
    }
   },
   "outputs": [
    {
     "data": {
      "text/plain": [
       "['send', 'cook', 'file', 'live', 'cri', 'die']"
      ]
     },
     "execution_count": 64,
     "metadata": {},
     "output_type": "execute_result"
    }
   ],
   "source": [
    "[pst.stem(w) for w in words]"
   ]
  },
  {
   "cell_type": "code",
   "execution_count": 65,
   "id": "12eed458",
   "metadata": {
    "ExecuteTime": {
     "end_time": "2021-08-19T01:56:10.776930Z",
     "start_time": "2021-08-19T01:56:10.768951Z"
    }
   },
   "outputs": [
    {
     "data": {
      "text/plain": [
       "['send', 'cook', 'fil', 'liv', 'cry', 'dying']"
      ]
     },
     "execution_count": 65,
     "metadata": {},
     "output_type": "execute_result"
    }
   ],
   "source": [
    "# 어간 추출(2) : LancasterStemmer - 어간 추출하는 것 중 제일 많이 쓴다\n",
    "from nltk.stem import LancasterStemmer\n",
    "lst = LancasterStemmer()\n",
    "[lst.stem(w) for w in words]"
   ]
  },
  {
   "cell_type": "code",
   "execution_count": 15,
   "id": "3a06eb49",
   "metadata": {
    "ExecuteTime": {
     "end_time": "2021-08-19T00:54:50.528615Z",
     "start_time": "2021-08-19T00:54:50.508662Z"
    }
   },
   "outputs": [
    {
     "data": {
      "text/plain": [
       "['send', 'cook', 'files', 'lives', 'cry', 'dy']"
      ]
     },
     "execution_count": 15,
     "metadata": {},
     "output_type": "execute_result"
    }
   ],
   "source": [
    "# 어간 추출(3) : RegexpStemmer\n",
    "from nltk.stem import RegexpStemmer\n",
    "rst = RegexpStemmer(\"ing\")\n",
    "[rst.stem(w) for w in words]"
   ]
  },
  {
   "cell_type": "code",
   "execution_count": 16,
   "id": "974bc4be",
   "metadata": {
    "ExecuteTime": {
     "end_time": "2021-08-19T00:54:50.763392Z",
     "start_time": "2021-08-19T00:54:50.755395Z"
    }
   },
   "outputs": [
    {
     "data": {
      "text/plain": [
       "['bel', 'cook']"
      ]
     },
     "execution_count": 16,
     "metadata": {},
     "output_type": "execute_result"
    }
   ],
   "source": [
    "# 어간 추출을 할 경우 의미가 달라질 수 있어 원형복원을 한다.\n",
    "word2 = ['belives', 'cooking']\n",
    "[lst.stem(w) for w in word2]"
   ]
  },
  {
   "cell_type": "code",
   "execution_count": 17,
   "id": "be3baba2",
   "metadata": {
    "ExecuteTime": {
     "end_time": "2021-08-19T00:54:51.015312Z",
     "start_time": "2021-08-19T00:54:51.007333Z"
    }
   },
   "outputs": [
    {
     "data": {
      "text/plain": [
       "['belives', 'cooking']"
      ]
     },
     "execution_count": 17,
     "metadata": {},
     "output_type": "execute_result"
    }
   ],
   "source": [
    "# 원형복원\n",
    "from nltk.stem.wordnet import WordNetLemmatizer\n",
    "wl = WordNetLemmatizer()\n",
    "[wl.lemmatize(w) for w in word2]"
   ]
  },
  {
   "cell_type": "code",
   "execution_count": 18,
   "id": "0394225a",
   "metadata": {
    "ExecuteTime": {
     "end_time": "2021-08-19T00:54:51.518994Z",
     "start_time": "2021-08-19T00:54:51.296305Z"
    }
   },
   "outputs": [
    {
     "name": "stdout",
     "output_type": "stream",
     "text": [
      "['It', 'was', 'on', 'the', 'wedding-day', 'of', 'this', 'beloved', 'friend', 'that', 'Emma', 'first', 'sat', 'in', 'mournful', 'thought', 'of', 'any', 'continuance', '.']\n",
      "\n",
      "품사태깅결과\n",
      " [('It', 'PRP'), ('was', 'VBD'), ('on', 'IN'), ('the', 'DT'), ('wedding-day', 'NN'), ('of', 'IN'), ('this', 'DT'), ('beloved', 'VBN'), ('friend', 'NN'), ('that', 'WDT'), ('Emma', 'NNP'), ('first', 'RB'), ('sat', 'VBD'), ('in', 'IN'), ('mournful', 'JJ'), ('thought', 'NN'), ('of', 'IN'), ('any', 'DT'), ('continuance', 'NN'), ('.', '.')]\n"
     ]
    }
   ],
   "source": [
    "# 품사 태깅\n",
    "# dbrang.tistory.com/1139\n",
    "from nltk.tag import pos_tag\n",
    "tagged_list = pos_tag(word_tokenize(sent_tokens[10]))\n",
    "print(word_tokenize(sent_tokens[10]))\n",
    "print(\"\\n품사태깅결과\\n\", tagged_list)"
   ]
  },
  {
   "cell_type": "markdown",
   "id": "6f04ec83",
   "metadata": {},
   "source": [
    "퀴즈 : emma 소설안에서\n",
    "1. 특수문자 들어가지 않은 3글자 이상의 단어만 추출해서 품사태깅을 하시오.\n",
    "2. \"Emma\" 단어가 몇 번 등장하며, 품사 태깅이 어떤 품사들로 되어 있는지 모두 출력하시오.\n",
    "3. 내가 원하는 품사(명사)의 단어만 뽑아 등장하는 명사의 종류 개수를 출력하시오."
   ]
  },
  {
   "cell_type": "code",
   "execution_count": 19,
   "id": "6d829425",
   "metadata": {
    "ExecuteTime": {
     "end_time": "2021-08-19T00:54:52.532627Z",
     "start_time": "2021-08-19T00:54:52.522660Z"
    }
   },
   "outputs": [],
   "source": [
    "emma = nltk.corpus.gutenberg.raw('austen-emma.txt')"
   ]
  },
  {
   "cell_type": "code",
   "execution_count": 33,
   "id": "2213011d",
   "metadata": {
    "ExecuteTime": {
     "end_time": "2021-08-19T01:10:14.831859Z",
     "start_time": "2021-08-19T01:10:09.081073Z"
    }
   },
   "outputs": [
    {
     "data": {
      "text/plain": [
       "[('Emma', 'NNP'),\n",
       " ('Jane', 'NNP'),\n",
       " ('Austen', 'NNP'),\n",
       " ('1816', 'CD'),\n",
       " ('VOLUME', 'NNP'),\n",
       " ('CHAPTER', 'NNP'),\n",
       " ('Emma', 'NNP'),\n",
       " ('Woodhouse', 'NNP'),\n",
       " ('handsome', 'VBD'),\n",
       " ('clever', 'NN'),\n",
       " ('and', 'CC'),\n",
       " ('rich', 'JJ'),\n",
       " ('with', 'IN'),\n",
       " ('comfortable', 'JJ'),\n",
       " ('home', 'NN'),\n",
       " ('and', 'CC'),\n",
       " ('happy', 'JJ'),\n",
       " ('disposition', 'NN'),\n",
       " ('seemed', 'VBD'),\n",
       " ('unite', 'JJ'),\n",
       " ('some', 'DT'),\n",
       " ('the', 'DT'),\n",
       " ('best', 'JJS'),\n",
       " ('blessings', 'NNS'),\n",
       " ('existence', 'NN'),\n",
       " ('and', 'CC'),\n",
       " ('had', 'VBD'),\n",
       " ('lived', 'VBN'),\n",
       " ('nearly', 'RB'),\n",
       " ('twenty', 'JJ'),\n",
       " ('one', 'CD'),\n",
       " ('years', 'NNS'),\n",
       " ('the', 'DT'),\n",
       " ('world', 'NN'),\n",
       " ('with', 'IN'),\n",
       " ('very', 'RB'),\n",
       " ('little', 'JJ'),\n",
       " ('distress', 'NN'),\n",
       " ('vex', 'IN'),\n",
       " ('her', 'PRP$'),\n",
       " ('She', 'PRP'),\n",
       " ('was', 'VBD'),\n",
       " ('the', 'DT'),\n",
       " ('youngest', 'JJS'),\n",
       " ('the', 'DT'),\n",
       " ('two', 'CD'),\n",
       " ('daughters', 'NNS'),\n",
       " ('most', 'RBS'),\n",
       " ('affectionate', 'JJ'),\n",
       " ('indulgent', 'NN'),\n",
       " ('father', 'NN'),\n",
       " ('and', 'CC'),\n",
       " ('had', 'VBD'),\n",
       " ('consequence', 'NN'),\n",
       " ('her', 'PRP$'),\n",
       " ('sister', 'JJ'),\n",
       " ('marriage', 'NN'),\n",
       " ('been', 'VBN'),\n",
       " ('mistress', 'RB'),\n",
       " ('his', 'PRP$'),\n",
       " ('house', 'NN'),\n",
       " ('from', 'IN'),\n",
       " ('very', 'RB'),\n",
       " ('early', 'JJ'),\n",
       " ('period', 'NN'),\n",
       " ('Her', 'PRP$'),\n",
       " ('mother', 'NN'),\n",
       " ('had', 'VBD'),\n",
       " ('died', 'VBN'),\n",
       " ('too', 'RB'),\n",
       " ('long', 'RB'),\n",
       " ('ago', 'RB'),\n",
       " ('for', 'IN'),\n",
       " ('her', 'PRP$'),\n",
       " ('have', 'VBP'),\n",
       " ('more', 'JJR'),\n",
       " ('than', 'IN'),\n",
       " ('indistinct', 'JJ'),\n",
       " ('remembrance', 'NN'),\n",
       " ('her', 'PRP$'),\n",
       " ('caresses', 'NNS'),\n",
       " ('and', 'CC'),\n",
       " ('her', 'PRP$'),\n",
       " ('place', 'NN'),\n",
       " ('had', 'VBD'),\n",
       " ('been', 'VBN'),\n",
       " ('supplied', 'VBN'),\n",
       " ('excellent', 'JJ'),\n",
       " ('woman', 'NN'),\n",
       " ('governess', 'NN'),\n",
       " ('who', 'WP'),\n",
       " ('had', 'VBD'),\n",
       " ('fallen', 'VBN'),\n",
       " ('little', 'JJ'),\n",
       " ('short', 'JJ'),\n",
       " ('mother', 'NN'),\n",
       " ('affection', 'NN'),\n",
       " ('Sixteen', 'NNP'),\n",
       " ('years', 'NNS'),\n",
       " ('had', 'VBD'),\n",
       " ('Miss', 'NNP'),\n",
       " ('Taylor', 'NNP'),\n",
       " ('been', 'VBN'),\n",
       " ('Woodhouse', 'NNP'),\n",
       " ('family', 'NN'),\n",
       " ('less', 'JJR'),\n",
       " ('governess', 'JJ'),\n",
       " ('than', 'IN'),\n",
       " ('friend', 'VBP'),\n",
       " ('very', 'RB'),\n",
       " ('fond', 'JJ'),\n",
       " ('both', 'DT'),\n",
       " ('daughters', 'NNS'),\n",
       " ('but', 'CC'),\n",
       " ('particularly', 'RB'),\n",
       " ('Emma', 'NNP'),\n",
       " ('Between', 'NNP'),\n",
       " ('_them_', 'NNP'),\n",
       " ('was', 'VBD'),\n",
       " ('more', 'RBR'),\n",
       " ('the', 'DT'),\n",
       " ('intimacy', 'NN'),\n",
       " ('sisters', 'NNS'),\n",
       " ('Even', 'RB'),\n",
       " ('before', 'IN'),\n",
       " ('Miss', 'NNP'),\n",
       " ('Taylor', 'NNP'),\n",
       " ('had', 'VBD'),\n",
       " ('ceased', 'VBN'),\n",
       " ('hold', 'VB'),\n",
       " ('the', 'DT'),\n",
       " ('nominal', 'JJ'),\n",
       " ('office', 'NN'),\n",
       " ('governess', 'NN'),\n",
       " ('the', 'DT'),\n",
       " ('mildness', 'NN'),\n",
       " ('her', 'PRP$'),\n",
       " ('temper', 'NN'),\n",
       " ('had', 'VBD'),\n",
       " ('hardly', 'RB'),\n",
       " ('allowed', 'VBN'),\n",
       " ('her', 'PRP$'),\n",
       " ('impose', 'JJ'),\n",
       " ('any', 'DT'),\n",
       " ('restraint', 'NN'),\n",
       " ('and', 'CC'),\n",
       " ('the', 'DT'),\n",
       " ('shadow', 'JJ'),\n",
       " ('authority', 'NN'),\n",
       " ('being', 'VBG'),\n",
       " ('now', 'RB'),\n",
       " ('long', 'RB'),\n",
       " ('passed', 'VBN'),\n",
       " ('away', 'RB'),\n",
       " ('they', 'PRP'),\n",
       " ('had', 'VBD'),\n",
       " ('been', 'VBN'),\n",
       " ('living', 'VBG'),\n",
       " ('together', 'RB'),\n",
       " ('friend', 'NN'),\n",
       " ('and', 'CC'),\n",
       " ('friend', 'VB'),\n",
       " ('very', 'RB'),\n",
       " ('mutually', 'RB'),\n",
       " ('attached', 'VBN'),\n",
       " ('and', 'CC'),\n",
       " ('Emma', 'NNP'),\n",
       " ('doing', 'VBG'),\n",
       " ('just', 'RB'),\n",
       " ('what', 'WP'),\n",
       " ('she', 'PRP'),\n",
       " ('liked', 'VBD'),\n",
       " ('highly', 'RB'),\n",
       " ('esteeming', 'VBG'),\n",
       " ('Miss', 'NNP'),\n",
       " ('Taylor', 'NNP'),\n",
       " ('judgment', 'NN'),\n",
       " ('but', 'CC'),\n",
       " ('directed', 'VBD'),\n",
       " ('chiefly', 'NN'),\n",
       " ('her', 'PRP$'),\n",
       " ('own', 'JJ'),\n",
       " ('The', 'DT'),\n",
       " ('real', 'JJ'),\n",
       " ('evils', 'NNS'),\n",
       " ('indeed', 'RB'),\n",
       " ('Emma', 'NNP'),\n",
       " ('situation', 'NN'),\n",
       " ('were', 'VBD'),\n",
       " ('the', 'DT'),\n",
       " ('power', 'NN'),\n",
       " ('having', 'VBG'),\n",
       " ('rather', 'RB'),\n",
       " ('too', 'RB'),\n",
       " ('much', 'JJ'),\n",
       " ('her', 'PRP$'),\n",
       " ('own', 'JJ'),\n",
       " ('way', 'NN'),\n",
       " ('and', 'CC'),\n",
       " ('disposition', 'NN'),\n",
       " ('think', 'VBP'),\n",
       " ('little', 'RB'),\n",
       " ('too', 'RB'),\n",
       " ('well', 'RB'),\n",
       " ('herself', 'PRP'),\n",
       " ('these', 'DT'),\n",
       " ('were', 'VBD'),\n",
       " ('the', 'DT'),\n",
       " ('disadvantages', 'NNS'),\n",
       " ('which', 'WDT'),\n",
       " ('threatened', 'VBD'),\n",
       " ('alloy', 'RP'),\n",
       " ('her', 'PRP$'),\n",
       " ('many', 'JJ'),\n",
       " ('enjoyments', 'NNS'),\n",
       " ('The', 'DT'),\n",
       " ('danger', 'NN'),\n",
       " ('however', 'RB'),\n",
       " ('was', 'VBD'),\n",
       " ('present', 'JJ'),\n",
       " ('unperceived', 'JJ'),\n",
       " ('that', 'IN'),\n",
       " ('they', 'PRP'),\n",
       " ('did', 'VBD'),\n",
       " ('not', 'RB'),\n",
       " ('any', 'DT'),\n",
       " ('means', 'NNS'),\n",
       " ('rank', 'VBP'),\n",
       " ('misfortunes', 'NNS'),\n",
       " ('with', 'IN'),\n",
       " ('her', 'PRP$'),\n",
       " ('Sorrow', 'NNP'),\n",
       " ('came', 'VBD'),\n",
       " ('gentle', 'JJ'),\n",
       " ('sorrow', 'NN'),\n",
       " ('but', 'CC'),\n",
       " ('not', 'RB'),\n",
       " ('all', 'PDT'),\n",
       " ('the', 'DT'),\n",
       " ('shape', 'NN'),\n",
       " ('any', 'DT'),\n",
       " ('disagreeable', 'JJ'),\n",
       " ('consciousness', 'NN'),\n",
       " ('Miss', 'NNP'),\n",
       " ('Taylor', 'NNP'),\n",
       " ('married', 'VBD'),\n",
       " ('was', 'VBD'),\n",
       " ('Miss', 'NNP'),\n",
       " ('Taylor', 'NNP'),\n",
       " ('loss', 'NN'),\n",
       " ('which', 'WDT'),\n",
       " ('first', 'RB'),\n",
       " ('brought', 'VBD'),\n",
       " ('grief', 'NN'),\n",
       " ('was', 'VBD'),\n",
       " ('the', 'DT'),\n",
       " ('wedding', 'NN'),\n",
       " ('day', 'NN'),\n",
       " ('this', 'DT'),\n",
       " ('beloved', 'VBD'),\n",
       " ('friend', 'NN'),\n",
       " ('that', 'IN'),\n",
       " ('Emma', 'NNP'),\n",
       " ('first', 'RB'),\n",
       " ('sat', 'VBD'),\n",
       " ('mournful', 'JJ'),\n",
       " ('thought', 'VBD'),\n",
       " ('any', 'DT'),\n",
       " ('continuance', 'NN'),\n",
       " ('The', 'DT'),\n",
       " ('wedding', 'NN'),\n",
       " ('over', 'IN'),\n",
       " ('and', 'CC'),\n",
       " ('the', 'DT'),\n",
       " ('bride', 'JJ'),\n",
       " ('people', 'NNS'),\n",
       " ('gone', 'VBN'),\n",
       " ('her', 'PRP$'),\n",
       " ('father', 'NN'),\n",
       " ('and', 'CC'),\n",
       " ('herself', 'PRP'),\n",
       " ('were', 'VBD'),\n",
       " ('left', 'VBN'),\n",
       " ('dine', 'NN'),\n",
       " ('together', 'RB'),\n",
       " ('with', 'IN'),\n",
       " ('prospect', 'JJ'),\n",
       " ('third', 'JJ'),\n",
       " ('cheer', 'NN'),\n",
       " ('long', 'RB'),\n",
       " ('evening', 'VBG'),\n",
       " ('Her', 'PRP$'),\n",
       " ('father', 'NN'),\n",
       " ('composed', 'VBD'),\n",
       " ('himself', 'PRP'),\n",
       " ('sleep', 'VBP'),\n",
       " ('after', 'IN'),\n",
       " ('dinner', 'NN'),\n",
       " ('usual', 'JJ'),\n",
       " ('and', 'CC'),\n",
       " ('she', 'PRP'),\n",
       " ('had', 'VBD'),\n",
       " ('then', 'RB'),\n",
       " ('only', 'RB'),\n",
       " ('sit', 'NN'),\n",
       " ('and', 'CC'),\n",
       " ('think', 'VB'),\n",
       " ('what', 'WP'),\n",
       " ('she', 'PRP'),\n",
       " ('had', 'VBD'),\n",
       " ('lost', 'VBN'),\n",
       " ('The', 'DT'),\n",
       " ('event', 'NN'),\n",
       " ('had', 'VBD'),\n",
       " ('every', 'DT'),\n",
       " ('promise', 'NN'),\n",
       " ('happiness', 'NN'),\n",
       " ('for', 'IN'),\n",
       " ('her', 'PRP$'),\n",
       " ('friend', 'NN'),\n",
       " ('Weston', 'NNP'),\n",
       " ('was', 'VBD'),\n",
       " ('man', 'NN'),\n",
       " ('unexceptionable', 'JJ'),\n",
       " ('character', 'NN'),\n",
       " ('easy', 'JJ'),\n",
       " ('fortune', 'NN'),\n",
       " ('suitable', 'JJ'),\n",
       " ('age', 'NN'),\n",
       " ('and', 'CC'),\n",
       " ('pleasant', 'JJ'),\n",
       " ('manners', 'NNS'),\n",
       " ('and', 'CC'),\n",
       " ('there', 'EX'),\n",
       " ('was', 'VBD'),\n",
       " ('some', 'DT'),\n",
       " ('satisfaction', 'NN'),\n",
       " ('considering', 'VBG'),\n",
       " ('with', 'IN'),\n",
       " ('what', 'WP'),\n",
       " ('self', 'VBD'),\n",
       " ('denying', 'VBG'),\n",
       " ('generous', 'JJ'),\n",
       " ('friendship', 'NN'),\n",
       " ('she', 'PRP'),\n",
       " ('had', 'VBD'),\n",
       " ('always', 'RB'),\n",
       " ('wished', 'VBN'),\n",
       " ('and', 'CC'),\n",
       " ('promoted', 'VBN'),\n",
       " ('the', 'DT'),\n",
       " ('match', 'NN'),\n",
       " ('but', 'CC'),\n",
       " ('was', 'VBD'),\n",
       " ('black', 'JJ'),\n",
       " ('morning', 'NN'),\n",
       " ('work', 'NN'),\n",
       " ('for', 'IN'),\n",
       " ('her', 'PRP$'),\n",
       " ('The', 'DT'),\n",
       " ('want', 'NN'),\n",
       " ('Miss', 'NNP'),\n",
       " ('Taylor', 'NNP'),\n",
       " ('would', 'MD'),\n",
       " ('felt', 'VB'),\n",
       " ('every', 'DT'),\n",
       " ('hour', 'NN'),\n",
       " ('every', 'DT'),\n",
       " ('day', 'NN'),\n",
       " ('She', 'PRP'),\n",
       " ('recalled', 'VBD'),\n",
       " ('her', 'PRP'),\n",
       " ('past', 'JJ'),\n",
       " ('kindness', 'NN'),\n",
       " ('the', 'DT'),\n",
       " ('kindness', 'NN'),\n",
       " ('the', 'DT'),\n",
       " ('affection', 'NN'),\n",
       " ('sixteen', 'JJ'),\n",
       " ('years', 'NNS'),\n",
       " ('how', 'WRB'),\n",
       " ('she', 'PRP'),\n",
       " ('had', 'VBD'),\n",
       " ('taught', 'VBN'),\n",
       " ('and', 'CC'),\n",
       " ('how', 'WRB'),\n",
       " ('she', 'PRP'),\n",
       " ('had', 'VBD'),\n",
       " ('played', 'VBN'),\n",
       " ('with', 'IN'),\n",
       " ('her', 'PRP'),\n",
       " ('from', 'IN'),\n",
       " ('five', 'CD'),\n",
       " ('years', 'NNS'),\n",
       " ('old', 'JJ'),\n",
       " ('how', 'WRB'),\n",
       " ('she', 'PRP'),\n",
       " ('had', 'VBD'),\n",
       " ('devoted', 'VBN'),\n",
       " ('all', 'DT'),\n",
       " ('her', 'PRP$'),\n",
       " ('powers', 'NNS'),\n",
       " ('attach', 'VBP'),\n",
       " ('and', 'CC'),\n",
       " ('amuse', 'VBP'),\n",
       " ('her', 'PRP$'),\n",
       " ('health', 'NN'),\n",
       " ('and', 'CC'),\n",
       " ('how', 'WRB'),\n",
       " ('nursed', 'JJ'),\n",
       " ('her', 'PRP$'),\n",
       " ('through', 'IN'),\n",
       " ('the', 'DT'),\n",
       " ('various', 'JJ'),\n",
       " ('illnesses', 'NNS'),\n",
       " ('childhood', 'VBD'),\n",
       " ('large', 'JJ'),\n",
       " ('debt', 'NN'),\n",
       " ('gratitude', 'NN'),\n",
       " ('was', 'VBD'),\n",
       " ('owing', 'VBG'),\n",
       " ('here', 'RB'),\n",
       " ('but', 'CC'),\n",
       " ('the', 'DT'),\n",
       " ('intercourse', 'NN'),\n",
       " ('the', 'DT'),\n",
       " ('last', 'JJ'),\n",
       " ('seven', 'CD'),\n",
       " ('years', 'NNS'),\n",
       " ('the', 'DT'),\n",
       " ('equal', 'JJ'),\n",
       " ('footing', 'NN'),\n",
       " ('and', 'CC'),\n",
       " ('perfect', 'NN'),\n",
       " ('unreserve', 'NN'),\n",
       " ('which', 'WDT'),\n",
       " ('had', 'VBD'),\n",
       " ('soon', 'RB'),\n",
       " ('followed', 'VBN'),\n",
       " ('Isabella', 'NNP'),\n",
       " ('marriage', 'VB'),\n",
       " ('their', 'PRP$'),\n",
       " ('being', 'VBG'),\n",
       " ('left', 'VBN'),\n",
       " ('each', 'DT'),\n",
       " ('other', 'JJ'),\n",
       " ('was', 'VBD'),\n",
       " ('yet', 'RB'),\n",
       " ('dearer', 'JJ'),\n",
       " ('tenderer', 'NN'),\n",
       " ('recollection', 'NN'),\n",
       " ('She', 'PRP'),\n",
       " ('had', 'VBD'),\n",
       " ('been', 'VBN'),\n",
       " ('friend', 'VBN'),\n",
       " ('and', 'CC'),\n",
       " ('companion', 'NN'),\n",
       " ('such', 'JJ'),\n",
       " ('few', 'JJ'),\n",
       " ('possessed', 'VBN'),\n",
       " ('intelligent', 'NN'),\n",
       " ('well', 'RB'),\n",
       " ('informed', 'VBN'),\n",
       " ('useful', 'JJ'),\n",
       " ('gentle', 'JJ'),\n",
       " ('knowing', 'VBG'),\n",
       " ('all', 'PDT'),\n",
       " ('the', 'DT'),\n",
       " ('ways', 'NNS'),\n",
       " ('the', 'DT'),\n",
       " ('family', 'NN'),\n",
       " ('interested', 'VBD'),\n",
       " ('all', 'PDT'),\n",
       " ('its', 'PRP$'),\n",
       " ('concerns', 'NNS'),\n",
       " ('and', 'CC'),\n",
       " ('peculiarly', 'RB'),\n",
       " ('interested', 'JJ'),\n",
       " ('herself', 'PRP'),\n",
       " ('every', 'DT'),\n",
       " ('pleasure', 'NN'),\n",
       " ('every', 'DT'),\n",
       " ('scheme', 'NN'),\n",
       " ('hers', 'VBZ'),\n",
       " ('one', 'CD'),\n",
       " ('whom', 'WP'),\n",
       " ('she', 'PRP'),\n",
       " ('could', 'MD'),\n",
       " ('speak', 'VB'),\n",
       " ('every', 'DT'),\n",
       " ('thought', 'NN'),\n",
       " ('arose', 'RB'),\n",
       " ('and', 'CC'),\n",
       " ('who', 'WP'),\n",
       " ('had', 'VBD'),\n",
       " ('such', 'JJ'),\n",
       " ('affection', 'NN'),\n",
       " ('for', 'IN'),\n",
       " ('her', 'PRP$'),\n",
       " ('could', 'MD'),\n",
       " ('never', 'RB'),\n",
       " ('find', 'VB'),\n",
       " ('fault', 'NN'),\n",
       " ('How', 'NNP'),\n",
       " ('was', 'VBD'),\n",
       " ('she', 'PRP'),\n",
       " ('bear', 'IN'),\n",
       " ('the', 'DT'),\n",
       " ('change', 'NN'),\n",
       " ('was', 'VBD'),\n",
       " ('true', 'JJ'),\n",
       " ('that', 'IN'),\n",
       " ('her', 'PRP$'),\n",
       " ('friend', 'NN'),\n",
       " ('was', 'VBD'),\n",
       " ('going', 'VBG'),\n",
       " ('only', 'RB'),\n",
       " ('half', 'RB'),\n",
       " ('mile', 'JJ'),\n",
       " ('from', 'IN'),\n",
       " ('them', 'PRP'),\n",
       " ('but', 'CC'),\n",
       " ('Emma', 'NNP'),\n",
       " ('was', 'VBD'),\n",
       " ('aware', 'JJ'),\n",
       " ('that', 'IN'),\n",
       " ('great', 'JJ'),\n",
       " ('must', 'MD'),\n",
       " ('the', 'DT'),\n",
       " ('difference', 'NN'),\n",
       " ('between', 'IN'),\n",
       " ('Mrs', 'NNP'),\n",
       " ('Weston', 'NNP'),\n",
       " ('only', 'RB'),\n",
       " ('half', 'RB'),\n",
       " ('mile', 'JJ'),\n",
       " ('from', 'IN'),\n",
       " ('them', 'PRP'),\n",
       " ('and', 'CC'),\n",
       " ('Miss', 'NNP'),\n",
       " ('Taylor', 'NNP'),\n",
       " ('the', 'DT'),\n",
       " ('house', 'NN'),\n",
       " ('and', 'CC'),\n",
       " ('with', 'IN'),\n",
       " ('all', 'DT'),\n",
       " ('her', 'PRP$'),\n",
       " ('advantages', 'NNS'),\n",
       " ('natural', 'JJ'),\n",
       " ('and', 'CC'),\n",
       " ('domestic', 'JJ'),\n",
       " ('she', 'PRP'),\n",
       " ('was', 'VBD'),\n",
       " ('now', 'RB'),\n",
       " ('great', 'JJ'),\n",
       " ('danger', 'NN'),\n",
       " ('suffering', 'VBG'),\n",
       " ('from', 'IN'),\n",
       " ('intellectual', 'JJ'),\n",
       " ('solitude', 'NN'),\n",
       " ('She', 'PRP'),\n",
       " ('dearly', 'RB'),\n",
       " ('loved', 'VBD'),\n",
       " ('her', 'PRP'),\n",
       " ('father', 'NN'),\n",
       " ('but', 'CC'),\n",
       " ('was', 'VBD'),\n",
       " ('companion', 'NN'),\n",
       " ('for', 'IN'),\n",
       " ('her', 'PRP$'),\n",
       " ('could', 'MD'),\n",
       " ('not', 'RB'),\n",
       " ('meet', 'VB'),\n",
       " ('her', 'PRP$'),\n",
       " ('conversation', 'NN'),\n",
       " ('rational', 'JJ'),\n",
       " ('playful', 'NN'),\n",
       " ('The', 'DT'),\n",
       " ('evil', 'JJ'),\n",
       " ('the', 'DT'),\n",
       " ('actual', 'JJ'),\n",
       " ('disparity', 'NN'),\n",
       " ('their', 'PRP$'),\n",
       " ('ages', 'NNS'),\n",
       " ('and', 'CC'),\n",
       " ('Woodhouse', 'NNP'),\n",
       " ('had', 'VBD'),\n",
       " ('not', 'RB'),\n",
       " ('married', 'VBN'),\n",
       " ('early', 'RB'),\n",
       " ('was', 'VBD'),\n",
       " ('much', 'RB'),\n",
       " ('increased', 'VBN'),\n",
       " ('his', 'PRP$'),\n",
       " ('constitution', 'NN'),\n",
       " ('and', 'CC'),\n",
       " ('habits', 'NNS'),\n",
       " ('for', 'IN'),\n",
       " ('having', 'VBG'),\n",
       " ('been', 'VBN'),\n",
       " ('valetudinarian', 'JJ'),\n",
       " ('all', 'DT'),\n",
       " ('his', 'PRP$'),\n",
       " ('life', 'NN'),\n",
       " ('without', 'IN'),\n",
       " ('activity', 'NN'),\n",
       " ('mind', 'NN'),\n",
       " ('body', 'NN'),\n",
       " ('was', 'VBD'),\n",
       " ('much', 'JJ'),\n",
       " ('older', 'JJR'),\n",
       " ('man', 'NN'),\n",
       " ('ways', 'NNS'),\n",
       " ('than', 'IN'),\n",
       " ('years', 'NNS'),\n",
       " ('and', 'CC'),\n",
       " ('though', 'IN'),\n",
       " ('everywhere', 'RB'),\n",
       " ('beloved', 'VBN'),\n",
       " ('for', 'IN'),\n",
       " ('the', 'DT'),\n",
       " ('friendliness', 'NN'),\n",
       " ('his', 'PRP$'),\n",
       " ('heart', 'NN'),\n",
       " ('and', 'CC'),\n",
       " ('his', 'PRP$'),\n",
       " ('amiable', 'JJ'),\n",
       " ('temper', 'IN'),\n",
       " ('his', 'PRP$'),\n",
       " ('talents', 'NNS'),\n",
       " ('could', 'MD'),\n",
       " ('not', 'RB'),\n",
       " ('have', 'VB'),\n",
       " ('recommended', 'VBN'),\n",
       " ('him', 'PRP'),\n",
       " ('any', 'DT'),\n",
       " ('time', 'NN'),\n",
       " ('Her', 'NNP'),\n",
       " ('sister', 'NN'),\n",
       " ('though', 'IN'),\n",
       " ('comparatively', 'RB'),\n",
       " ('but', 'CC'),\n",
       " ('little', 'JJ'),\n",
       " ('removed', 'JJ'),\n",
       " ('matrimony', 'NN'),\n",
       " ('being', 'VBG'),\n",
       " ('settled', 'VBN'),\n",
       " ('London', 'NNP'),\n",
       " ('only', 'RB'),\n",
       " ('sixteen', 'VBD'),\n",
       " ('miles', 'NNS'),\n",
       " ('off', 'RP'),\n",
       " ('was', 'VBD'),\n",
       " ('much', 'JJ'),\n",
       " ('beyond', 'IN'),\n",
       " ('her', 'PRP$'),\n",
       " ('daily', 'JJ'),\n",
       " ('reach', 'NN'),\n",
       " ('and', 'CC'),\n",
       " ('many', 'JJ'),\n",
       " ('long', 'JJ'),\n",
       " ('October', 'NNP'),\n",
       " ('and', 'CC'),\n",
       " ('November', 'NNP'),\n",
       " ('evening', 'NN'),\n",
       " ('must', 'MD'),\n",
       " ('struggled', 'VB'),\n",
       " ('through', 'IN'),\n",
       " ('Hartfield', 'NNP'),\n",
       " ('before', 'IN'),\n",
       " ('Christmas', 'NNP'),\n",
       " ('brought', 'VBD'),\n",
       " ('the', 'DT'),\n",
       " ('next', 'JJ'),\n",
       " ('visit', 'NN'),\n",
       " ('from', 'IN'),\n",
       " ('Isabella', 'NNP'),\n",
       " ('and', 'CC'),\n",
       " ('her', 'PRP$'),\n",
       " ('husband', 'NN'),\n",
       " ('and', 'CC'),\n",
       " ('their', 'PRP$'),\n",
       " ('little', 'JJ'),\n",
       " ('children', 'NNS'),\n",
       " ('fill', 'VBP'),\n",
       " ('the', 'DT'),\n",
       " ('house', 'NN'),\n",
       " ('and', 'CC'),\n",
       " ('give', 'VB'),\n",
       " ('her', 'PRP$'),\n",
       " ('pleasant', 'JJ'),\n",
       " ('society', 'NN'),\n",
       " ('again', 'RB'),\n",
       " ('Highbury', 'NNP'),\n",
       " ('the', 'DT'),\n",
       " ('large', 'JJ'),\n",
       " ('and', 'CC'),\n",
       " ('populous', 'JJ'),\n",
       " ('village', 'NN'),\n",
       " ('almost', 'RB'),\n",
       " ('amounting', 'VBG'),\n",
       " ('town', 'NN'),\n",
       " ('which', 'WDT'),\n",
       " ('Hartfield', 'NNP'),\n",
       " ('spite', 'VBD'),\n",
       " ('its', 'PRP$'),\n",
       " ('separate', 'JJ'),\n",
       " ('lawn', 'NN'),\n",
       " ('and', 'CC'),\n",
       " ('shrubberies', 'NNS'),\n",
       " ('and', 'CC'),\n",
       " ('name', 'NN'),\n",
       " ('did', 'VBD'),\n",
       " ('really', 'RB'),\n",
       " ('belong', 'VB'),\n",
       " ('afforded', 'VBD'),\n",
       " ('her', 'PRP'),\n",
       " ('equals', 'VBZ'),\n",
       " ('The', 'DT'),\n",
       " ('Woodhouses', 'NNS'),\n",
       " ('were', 'VBD'),\n",
       " ('first', 'JJ'),\n",
       " ('consequence', 'NN'),\n",
       " ('there', 'RB'),\n",
       " ('All', 'DT'),\n",
       " ('looked', 'VBD'),\n",
       " ('them', 'PRP'),\n",
       " ('She', 'PRP'),\n",
       " ('had', 'VBD'),\n",
       " ('many', 'JJ'),\n",
       " ('acquaintance', 'RB'),\n",
       " ('the', 'DT'),\n",
       " ('place', 'NN'),\n",
       " ('for', 'IN'),\n",
       " ('her', 'PRP$'),\n",
       " ('father', 'NN'),\n",
       " ('was', 'VBD'),\n",
       " ('universally', 'RB'),\n",
       " ('civil', 'JJ'),\n",
       " ('but', 'CC'),\n",
       " ('not', 'RB'),\n",
       " ('one', 'CD'),\n",
       " ('among', 'IN'),\n",
       " ('them', 'PRP'),\n",
       " ('who', 'WP'),\n",
       " ('could', 'MD'),\n",
       " ('accepted', 'VB'),\n",
       " ('lieu', 'JJ'),\n",
       " ('Miss', 'NNP'),\n",
       " ('Taylor', 'NNP'),\n",
       " ('for', 'IN'),\n",
       " ('even', 'RB'),\n",
       " ('half', 'DT'),\n",
       " ('day', 'NN'),\n",
       " ('was', 'VBD'),\n",
       " ('melancholy', 'JJ'),\n",
       " ('change', 'NN'),\n",
       " ('and', 'CC'),\n",
       " ('Emma', 'NNP'),\n",
       " ('could', 'MD'),\n",
       " ('not', 'RB'),\n",
       " ('but', 'CC'),\n",
       " ('sigh', 'RB'),\n",
       " ('over', 'IN'),\n",
       " ('and', 'CC'),\n",
       " ('wish', 'VB'),\n",
       " ('for', 'IN'),\n",
       " ('impossible', 'JJ'),\n",
       " ('things', 'NNS'),\n",
       " ('till', 'IN'),\n",
       " ('her', 'PRP$'),\n",
       " ('father', 'NN'),\n",
       " ('awoke', 'NN'),\n",
       " ('and', 'CC'),\n",
       " ('made', 'VBD'),\n",
       " ('necessary', 'JJ'),\n",
       " ('cheerful', 'JJ'),\n",
       " ('His', 'PRP$'),\n",
       " ('spirits', 'NNS'),\n",
       " ('required', 'VBN'),\n",
       " ('support', 'NN'),\n",
       " ('was', 'VBD'),\n",
       " ('nervous', 'JJ'),\n",
       " ('man', 'NN'),\n",
       " ('easily', 'RB'),\n",
       " ('depressed', 'VBD'),\n",
       " ('fond', 'NN'),\n",
       " ('every', 'DT'),\n",
       " ('body', 'NN'),\n",
       " ('that', 'WDT'),\n",
       " ('was', 'VBD'),\n",
       " ('used', 'VBN'),\n",
       " ('and', 'CC'),\n",
       " ('hating', 'VBG'),\n",
       " ('part', 'NN'),\n",
       " ('with', 'IN'),\n",
       " ('them', 'PRP'),\n",
       " ('hating', 'VBG'),\n",
       " ('change', 'NN'),\n",
       " ('every', 'DT'),\n",
       " ('kind', 'NN'),\n",
       " ('Matrimony', 'NNP'),\n",
       " ('the', 'DT'),\n",
       " ('origin', 'NN'),\n",
       " ('change', 'NN'),\n",
       " ('was', 'VBD'),\n",
       " ('always', 'RB'),\n",
       " ('disagreeable', 'JJ'),\n",
       " ('and', 'CC'),\n",
       " ('was', 'VBD'),\n",
       " ('means', 'NNS'),\n",
       " ('yet', 'RB'),\n",
       " ('reconciled', 'VBN'),\n",
       " ('his', 'PRP$'),\n",
       " ('own', 'JJ'),\n",
       " ('daughter', 'NN'),\n",
       " ('marrying', 'VBG'),\n",
       " ('nor', 'CC'),\n",
       " ('could', 'MD'),\n",
       " ('ever', 'RB'),\n",
       " ('speak', 'VB'),\n",
       " ('her', 'PRP$'),\n",
       " ('but', 'CC'),\n",
       " ('with', 'IN'),\n",
       " ('compassion', 'NN'),\n",
       " ('though', 'IN'),\n",
       " ('had', 'VBD'),\n",
       " ('been', 'VBN'),\n",
       " ('entirely', 'RB'),\n",
       " ('match', 'JJ'),\n",
       " ('affection', 'NN'),\n",
       " ('when', 'WRB'),\n",
       " ('was', 'VBD'),\n",
       " ('now', 'RB'),\n",
       " ('obliged', 'VBN'),\n",
       " ('part', 'NN'),\n",
       " ('with', 'IN'),\n",
       " ('Miss', 'NNP'),\n",
       " ('Taylor', 'NNP'),\n",
       " ('too', 'RB'),\n",
       " ('and', 'CC'),\n",
       " ('from', 'IN'),\n",
       " ('his', 'PRP$'),\n",
       " ('habits', 'NNS'),\n",
       " ('gentle', 'JJ'),\n",
       " ('selfishness', 'NN'),\n",
       " ('and', 'CC'),\n",
       " ('being', 'VBG'),\n",
       " ('never', 'RB'),\n",
       " ('able', 'JJ'),\n",
       " ('suppose', 'NN'),\n",
       " ('that', 'IN'),\n",
       " ('other', 'JJ'),\n",
       " ('people', 'NNS'),\n",
       " ('could', 'MD'),\n",
       " ('feel', 'VB'),\n",
       " ('differently', 'RB'),\n",
       " ('from', 'IN'),\n",
       " ('himself', 'PRP'),\n",
       " ('was', 'VBD'),\n",
       " ('very', 'RB'),\n",
       " ('much', 'JJ'),\n",
       " ('disposed', 'VBN'),\n",
       " ('think', 'VBP'),\n",
       " ('Miss', 'NNP'),\n",
       " ('Taylor', 'NNP'),\n",
       " ('had', 'VBD'),\n",
       " ('done', 'VBN'),\n",
       " ('sad', 'JJ'),\n",
       " ('thing', 'NN'),\n",
       " ('for', 'IN'),\n",
       " ('herself', 'NN'),\n",
       " ('for', 'IN'),\n",
       " ('them', 'PRP'),\n",
       " ('and', 'CC'),\n",
       " ('would', 'MD'),\n",
       " ('have', 'VB'),\n",
       " ('been', 'VBN'),\n",
       " ('great', 'JJ'),\n",
       " ('deal', 'NN'),\n",
       " ('happier', 'NN'),\n",
       " ('she', 'PRP'),\n",
       " ('had', 'VBD'),\n",
       " ('spent', 'VBN'),\n",
       " ('all', 'PDT'),\n",
       " ('the', 'DT'),\n",
       " ('rest', 'NN'),\n",
       " ('her', 'PRP$'),\n",
       " ('life', 'NN'),\n",
       " ('Hartfield', 'NNP'),\n",
       " ('Emma', 'NNP'),\n",
       " ('smiled', 'VBD'),\n",
       " ('and', 'CC'),\n",
       " ('chatted', 'VBD'),\n",
       " ('cheerfully', 'RB'),\n",
       " ('she', 'PRP'),\n",
       " ('could', 'MD'),\n",
       " ('keep', 'VB'),\n",
       " ('him', 'PRP'),\n",
       " ('from', 'IN'),\n",
       " ('such', 'JJ'),\n",
       " ('thoughts', 'NNS'),\n",
       " ('but', 'CC'),\n",
       " ('when', 'WRB'),\n",
       " ('tea', 'NN'),\n",
       " ('came', 'VBD'),\n",
       " ('was', 'VBD'),\n",
       " ('impossible', 'JJ'),\n",
       " ('for', 'IN'),\n",
       " ('him', 'PRP'),\n",
       " ('not', 'RB'),\n",
       " ('say', 'VB'),\n",
       " ('exactly', 'RB'),\n",
       " ('had', 'VBD'),\n",
       " ('said', 'VBD'),\n",
       " ('dinner', 'NN'),\n",
       " ('Poor', 'NNP'),\n",
       " ('Miss', 'NNP'),\n",
       " ('Taylor', 'NNP'),\n",
       " ('wish', 'JJ'),\n",
       " ('she', 'PRP'),\n",
       " ('were', 'VBD'),\n",
       " ('here', 'RB'),\n",
       " ('again', 'RB'),\n",
       " ('What', 'WP'),\n",
       " ('pity', 'NN'),\n",
       " ('that', 'IN'),\n",
       " ('Weston', 'NNP'),\n",
       " ('ever', 'RB'),\n",
       " ('thought', 'VBD'),\n",
       " ('her', 'PRP'),\n",
       " ('cannot', 'NN'),\n",
       " ('agree', 'VB'),\n",
       " ('with', 'IN'),\n",
       " ('you', 'PRP'),\n",
       " ('papa', 'VBP'),\n",
       " ('you', 'PRP'),\n",
       " ('know', 'VBP'),\n",
       " ('cannot', 'JJ'),\n",
       " ('Weston', 'NNP'),\n",
       " ('such', 'JJ'),\n",
       " ('good', 'JJ'),\n",
       " ('humoured', 'VBN'),\n",
       " ('pleasant', 'JJ'),\n",
       " ('excellent', 'JJ'),\n",
       " ('man', 'NN'),\n",
       " ('that', 'WDT'),\n",
       " ('thoroughly', 'RB'),\n",
       " ('deserves', 'VBZ'),\n",
       " ('good', 'JJ'),\n",
       " ('wife', 'NN'),\n",
       " ('and', 'CC'),\n",
       " ('you', 'PRP'),\n",
       " ('would', 'MD'),\n",
       " ('not', 'RB'),\n",
       " ('have', 'VB'),\n",
       " ('had', 'VBN'),\n",
       " ('Miss', 'NNP'),\n",
       " ('Taylor', 'NNP'),\n",
       " ('live', 'VBP'),\n",
       " ('with', 'IN'),\n",
       " ('for', 'IN'),\n",
       " ('ever', 'RB'),\n",
       " ('and', 'CC'),\n",
       " ('bear', 'VB'),\n",
       " ('all', 'DT'),\n",
       " ('odd', 'JJ'),\n",
       " ('humours', 'NNS'),\n",
       " ('when', 'WRB'),\n",
       " ('she', 'PRP'),\n",
       " ('might', 'MD'),\n",
       " ('have', 'VB'),\n",
       " ('house', 'NN'),\n",
       " ('her', 'PRP$'),\n",
       " ('own', 'JJ'),\n",
       " ('house', 'NN'),\n",
       " ('her', 'PRP$'),\n",
       " ('own', 'JJ'),\n",
       " ('But', 'CC'),\n",
       " ('where', 'WRB'),\n",
       " ('the', 'DT'),\n",
       " ('advantage', 'NN'),\n",
       " ('house', 'NN'),\n",
       " ('her', 'PRP$'),\n",
       " ('own', 'JJ'),\n",
       " ('This', 'DT'),\n",
       " ('three', 'CD'),\n",
       " ('times', 'NNS'),\n",
       " ('large', 'JJ'),\n",
       " ('And', 'CC'),\n",
       " ('you', 'PRP'),\n",
       " ('have', 'VBP'),\n",
       " ('never', 'RB'),\n",
       " ('any', 'DT'),\n",
       " ('odd', 'JJ'),\n",
       " ('humours', 'NNS'),\n",
       " ('dear', 'VBP'),\n",
       " ('How', 'WRB'),\n",
       " ('often', 'RB'),\n",
       " ('shall', 'MD'),\n",
       " ...]"
      ]
     },
     "execution_count": 33,
     "metadata": {},
     "output_type": "execute_result"
    }
   ],
   "source": [
    "#1\n",
    "from nltk.tokenize import RegexpTokenizer\n",
    "ret = RegexpTokenizer('[\\w]{3,}')\n",
    "words=ret.tokenize(emma)\n",
    "pos_tag(words)"
   ]
  },
  {
   "cell_type": "code",
   "execution_count": 38,
   "id": "f4eaca27",
   "metadata": {
    "ExecuteTime": {
     "end_time": "2021-08-19T01:13:31.725886Z",
     "start_time": "2021-08-19T01:13:20.441779Z"
    }
   },
   "outputs": [
    {
     "name": "stdout",
     "output_type": "stream",
     "text": [
      "{('Emma', 'NNS'), ('Emma', 'VB'), ('Emma', 'VBD'), ('Emma', 'NNP'), ('Emma', 'RB'), ('Emma', 'NN'), ('Emma', 'VBP'), ('Emma', 'VBN'), ('Emma', 'JJ'), ('Emma', 'NNPS')}\n",
      "865\n"
     ]
    }
   ],
   "source": [
    "#2\n",
    "from nltk.tokenize import RegexpTokenizer\n",
    "ret = RegexpTokenizer('[\\w]{3,}')\n",
    "words=ret.tokenize(emma)\n",
    "print(set([i for i in pos_tag(words) if i[0]=='Emma']))\n",
    "print(len([i for i in pos_tag(words) if i[0]=='Emma']))"
   ]
  },
  {
   "cell_type": "code",
   "execution_count": 39,
   "id": "768f67c2",
   "metadata": {
    "ExecuteTime": {
     "end_time": "2021-08-19T01:13:31.900253Z",
     "start_time": "2021-08-19T01:13:31.759492Z"
    }
   },
   "outputs": [
    {
     "name": "stdout",
     "output_type": "stream",
     "text": [
      "{('Emma', 'NNP')}\n",
      "865\n"
     ]
    }
   ],
   "source": [
    "from nltk.tokenize import RegexpTokenizer\n",
    "ret = RegexpTokenizer('[Emma]{4}')\n",
    "words=ret.tokenize(emma)\n",
    "print(set([i for i in pos_tag(words) if i[0]=='Emma']))\n",
    "print(len([i for i in pos_tag(words) if i[0]=='Emma']))"
   ]
  },
  {
   "cell_type": "code",
   "execution_count": 43,
   "id": "7dc994ea",
   "metadata": {
    "ExecuteTime": {
     "end_time": "2021-08-19T01:17:17.025030Z",
     "start_time": "2021-08-19T01:17:16.862201Z"
    }
   },
   "outputs": [
    {
     "name": "stdout",
     "output_type": "stream",
     "text": [
      "{('Emma', 'NNP')}\n",
      "865\n"
     ]
    }
   ],
   "source": [
    "from nltk.tokenize import RegexpTokenizer\n",
    "ret = RegexpTokenizer('(\\W|^)(Emma)(\\W|$)')\n",
    "words = [i[1] for i in ret.tokenize(emma)]\n",
    "print(set([i for i in pos_tag(words) if i[0]=='Emma']))\n",
    "print(len([i for i in pos_tag(words) if i[0]=='Emma']))"
   ]
  },
  {
   "cell_type": "code",
   "execution_count": 48,
   "id": "9e9682b0",
   "metadata": {
    "ExecuteTime": {
     "end_time": "2021-08-19T01:43:32.442587Z",
     "start_time": "2021-08-19T01:43:24.555303Z"
    }
   },
   "outputs": [
    {
     "data": {
      "text/plain": [
       "19118"
      ]
     },
     "execution_count": 48,
     "metadata": {},
     "output_type": "execute_result"
    }
   ],
   "source": [
    "#3\n",
    "words=word_tokenize(emma)\n",
    "len([i for i in pos_tag(words) if i[1]=='NN'])"
   ]
  },
  {
   "cell_type": "code",
   "execution_count": 50,
   "id": "42cb735a",
   "metadata": {
    "ExecuteTime": {
     "end_time": "2021-08-19T01:44:23.680341Z",
     "start_time": "2021-08-19T01:44:17.040273Z"
    }
   },
   "outputs": [],
   "source": [
    "n_text=[i[0] for i in pos_tag(words) if i[1]=='NN']"
   ]
  },
  {
   "cell_type": "code",
   "execution_count": 47,
   "id": "0db6e13b",
   "metadata": {
    "ExecuteTime": {
     "end_time": "2021-08-19T01:42:08.146184Z",
     "start_time": "2021-08-19T01:42:06.731075Z"
    }
   },
   "outputs": [
    {
     "data": {
      "image/png": "[encoded data removed]",
      "text/plain": [
       "<Figure size 1080x720 with 1 Axes>"
      ]
     },
     "metadata": {
      "needs_background": "light"
     },
     "output_type": "display_data"
    }
   ],
   "source": [
    "import matplotlib.pyplot as plt \n",
    "words=word_tokenize(emma)\n",
    "e_text=Text(words)\n",
    "plt.figure(figsize=(15,10))\n",
    "e_text.plot(20)"
   ]
  },
  {
   "cell_type": "code",
   "execution_count": 52,
   "id": "8ae5b99a",
   "metadata": {
    "ExecuteTime": {
     "end_time": "2021-08-19T01:44:42.322243Z",
     "start_time": "2021-08-19T01:44:42.102251Z"
    }
   },
   "outputs": [
    {
     "data": {
      "image/png": "[encoded data removed]",
      "text/plain": [
       "<Figure size 432x288 with 1 Axes>"
      ]
     },
     "metadata": {
      "needs_background": "light"
     },
     "output_type": "display_data"
    }
   ],
   "source": [
    "Text(n_text).plot(20)"
   ]
  },
  {
   "cell_type": "code",
   "execution_count": 55,
   "id": "bac4bdec",
   "metadata": {
    "ExecuteTime": {
     "end_time": "2021-08-19T01:46:59.488702Z",
     "start_time": "2021-08-19T01:46:59.457132Z"
    }
   },
   "outputs": [
    {
     "data": {
      "text/plain": [
       "FreqDist({'thing': 394, 'time': 268, 'nothing': 233, 'man': 230, 'father': 193, 'body': 192, 'friend': 173, 'day': 158, 'way': 152, 'woman': 127, ...})"
      ]
     },
     "execution_count": 55,
     "metadata": {},
     "output_type": "execute_result"
    }
   ],
   "source": [
    "FreqDist(n_text)"
   ]
  },
  {
   "cell_type": "code",
   "execution_count": 57,
   "id": "820107d5",
   "metadata": {
    "ExecuteTime": {
     "end_time": "2021-08-19T01:50:30.709153Z",
     "start_time": "2021-08-19T01:50:30.686575Z"
    }
   },
   "outputs": [
    {
     "data": {
      "text/plain": [
       "['father', 'friend', 'way', 'man', 'day', 'body', 'time', 'thing', 'nothing']"
      ]
     },
     "execution_count": 57,
     "metadata": {},
     "output_type": "execute_result"
    }
   ],
   "source": [
    "[i for i,  j in FreqDist(n_text).items() if j>150]"
   ]
  },
  {
   "cell_type": "code",
   "execution_count": null,
   "id": "eef33cc7",
   "metadata": {},
   "outputs": [],
   "source": []
  }
 ],
 "metadata": {
  "kernelspec": {
   "display_name": "Python 3",
   "language": "python",
   "name": "python3"
  },
  "language_info": {
   "codemirror_mode": {
    "name": "ipython",
    "version": 3
   },
   "file_extension": ".py",
   "mimetype": "text/x-python",
   "name": "python",
   "nbconvert_exporter": "python",
   "pygments_lexer": "ipython3",
   "version": "3.8.8"
  },
  "toc": {
   "base_numbering": 1,
   "nav_menu": {},
   "number_sections": false,
   "sideBar": true,
   "skip_h1_title": false,
   "title_cell": "Table of Contents",
   "title_sidebar": "Contents",
   "toc_cell": false,
   "toc_position": {},
   "toc_section_display": true,
   "toc_window_display": true
  },
  "varInspector": {
   "cols": {
    "lenName": 16,
    "lenType": 16,
    "lenVar": 40
   },
   "kernels_config": {
    "python": {
     "delete_cmd_postfix": "",
     "delete_cmd_prefix": "del ",
     "library": "var_list.py",
     "varRefreshCmd": "print(var_dic_list())"
    },
    "r": {
     "delete_cmd_postfix": ") ",
     "delete_cmd_prefix": "rm(",
     "library": "var_list.r",
     "varRefreshCmd": "cat(var_dic_list()) "
    }
   },
   "types_to_exclude": [
    "module",
    "function",
    "builtin_function_or_method",
    "instance",
    "_Feature"
   ],
   "window_display": false
  }
 },
 "nbformat": 4,
 "nbformat_minor": 5
}
