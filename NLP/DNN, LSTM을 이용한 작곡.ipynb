{
 "cells": [
  {
   "cell_type": "markdown",
   "id": "143cfff7",
   "metadata": {},
   "source": [
    "# 0.코딩준비"
   ]
  },
  {
   "cell_type": "markdown",
   "id": "3b9f3696",
   "metadata": {},
   "source": [
    "```\n",
    "참조 예제 : https://tykimos.github.io/2017/04/09/RNN_Layer_Talk/ (LSTM 설명)\n",
    "참조 예제 : https://bit.ly/2HQ9Q4J (수업시간 참조 예제)\n",
    "악보 처리용 프로그램 추가 : https://musescore.org (MuseScore3인스톨)\n",
    "악보를 보기 위한 setting :\n",
    "us=music21.environment.UserSettings()\n",
    "us[\"musescoreDirectPNGPath\"]=\"C:/Program Files/MuseScore 3/bin/MuseScore3.exe”\n",
    "pip install music21\n",
    "```"
   ]
  },
  {
   "cell_type": "code",
   "execution_count": null,
   "id": "411affb8",
   "metadata": {
    "ExecuteTime": {
     "end_time": "2021-08-27T09:47:53.440076Z",
     "start_time": "2021-08-27T09:47:48.107069Z"
    }
   },
   "outputs": [],
   "source": [
    "import numpy as np\n",
    "from tensorflow.keras.models import Sequential\n",
    "from tensorflow.keras.layers import Dense, LSTM\n",
    "import tensorflow.keras.utils as utils\n",
    "import os\n",
    "from tensorflow.keras.callbacks import Callback #콜백객체\n",
    "import matplotlib.pyplot as plt\n",
    "import music21\n",
    "us=music21.environment.UserSettings()\n",
    "us[\"musescoreDirectPNGPath\"]=\"C:/Program Files/MuseScore 3/bin/MuseScore3.exe\""
   ]
  },
  {
   "cell_type": "markdown",
   "id": "d066765b",
   "metadata": {},
   "source": [
    "# 1. 데이터 준비하기"
   ]
  },
  {
   "cell_type": "code",
   "execution_count": null,
   "id": "65e99525",
   "metadata": {
    "ExecuteTime": {
     "end_time": "2021-08-27T10:35:51.163772Z",
     "start_time": "2021-08-27T10:35:51.142820Z"
    }
   },
   "outputs": [],
   "source": [
    "seq = ['g8', 'e8', 'e4', 'f8', 'd8', 'd4', 'c8', 'd8', 'e8', 'f8', 'g8', 'g8', 'g4',\n",
    "       'g8', 'e8', 'e8', 'e8', 'f8', 'd8', 'd4', 'c8', 'e8', 'g8', 'g8', 'e8', 'e8', 'e4',\n",
    "       'd8', 'd8', 'd8', 'd8', 'd8', 'e8', 'f4', 'e8', 'e8', 'e8', 'e8', 'e8', 'f8', 'g4',\n",
    "       'g8', 'e8', 'e4', 'f8', 'd8', 'd4', 'c8', 'e8', 'g8', 'g8', 'e8', 'e8', 'e4']\n",
    "\n",
    "print(\"length of seq: {0}\".format(len(seq)))"
   ]
  },
  {
   "cell_type": "code",
   "execution_count": null,
   "id": "546fd833",
   "metadata": {
    "ExecuteTime": {
     "end_time": "2021-08-27T10:35:51.635018Z",
     "start_time": "2021-08-27T10:35:51.563253Z"
    }
   },
   "outputs": [],
   "source": [
    "note_seq = ' '.join(seq)\n",
    "\n",
    "m = music21.converter.parse(\"2/4 \" + note_seq, format='tinyNotation')\n",
    "\n",
    "m.show(\"midi\")"
   ]
  },
  {
   "cell_type": "code",
   "execution_count": null,
   "id": "b373b85a",
   "metadata": {
    "ExecuteTime": {
     "end_time": "2021-08-27T10:35:54.083247Z",
     "start_time": "2021-08-27T10:35:52.470841Z"
    }
   },
   "outputs": [],
   "source": [
    "m.show()"
   ]
  },
  {
   "cell_type": "code",
   "execution_count": null,
   "id": "51ae8507",
   "metadata": {
    "ExecuteTime": {
     "end_time": "2021-08-27T10:35:54.115190Z",
     "start_time": "2021-08-27T10:35:54.101199Z"
    }
   },
   "outputs": [],
   "source": [
    "code2idx = {'c4': 0, 'd4': 1, 'e4': 2, 'f4': 3, 'g4': 4, 'a4': 5, 'b4': 6,\n",
    "            'c8': 7, 'd8': 8, 'e8': 9, 'f8': 10, 'g8': 11, 'a8': 12, 'b8': 13}\n",
    "\n",
    "idx2code = {0: 'c4', 1: 'd4', 2: 'e4', 3: 'f4', 4: 'g4', 5: 'a4', 6: 'b4',\n",
    "            7: 'c8', 8: 'd8', 9: 'e8', 10: 'f8', 11: 'g8', 12: 'a8', 13: 'b8'}"
   ]
  },
  {
   "cell_type": "markdown",
   "id": "909cb6f0",
   "metadata": {},
   "source": [
    "# 2. 데이터 셋 생성"
   ]
  },
  {
   "cell_type": "code",
   "execution_count": null,
   "id": "33b2830d",
   "metadata": {
    "ExecuteTime": {
     "end_time": "2021-08-27T10:35:56.155602Z",
     "start_time": "2021-08-27T10:35:56.144600Z"
    }
   },
   "outputs": [],
   "source": [
    "def seq2dataset(seq, window_size):\n",
    "    dataset = []\n",
    "    \n",
    "    for i in range(len(seq) - window_size):\n",
    "        subset = seq[i: (i + window_size + 1)]\n",
    "        dataset.append([code2idx[item] for item in subset])\n",
    "    return np.array(dataset)"
   ]
  },
  {
   "cell_type": "code",
   "execution_count": null,
   "id": "4a4efd9e",
   "metadata": {
    "ExecuteTime": {
     "end_time": "2021-08-27T10:35:56.738243Z",
     "start_time": "2021-08-27T10:35:56.732269Z"
    }
   },
   "outputs": [],
   "source": [
    "print(seq[:10])"
   ]
  },
  {
   "cell_type": "code",
   "execution_count": null,
   "id": "0855ccd1",
   "metadata": {
    "ExecuteTime": {
     "end_time": "2021-08-27T10:35:57.162782Z",
     "start_time": "2021-08-27T10:35:57.153820Z"
    }
   },
   "outputs": [],
   "source": [
    "print(seq2dataset(seq[:10],4))"
   ]
  },
  {
   "cell_type": "code",
   "execution_count": null,
   "id": "a2fcca25",
   "metadata": {
    "ExecuteTime": {
     "end_time": "2021-08-27T10:35:57.540415Z",
     "start_time": "2021-08-27T10:35:57.536426Z"
    }
   },
   "outputs": [],
   "source": [
    "dataset=seq2dataset(seq,4)"
   ]
  },
  {
   "cell_type": "markdown",
   "id": "ebde67d4",
   "metadata": {},
   "source": [
    "## 독립(입력)변수, 종속(출력)변수로 분리"
   ]
  },
  {
   "cell_type": "code",
   "execution_count": null,
   "id": "b505f17f",
   "metadata": {
    "ExecuteTime": {
     "end_time": "2021-08-27T10:35:58.398050Z",
     "start_time": "2021-08-27T10:35:58.383063Z"
    }
   },
   "outputs": [],
   "source": [
    "x_train = dataset[:,:-1]\n",
    "y_train = dataset[:,-1]\n",
    "x_train.shape, y_train.shape"
   ]
  },
  {
   "cell_type": "code",
   "execution_count": null,
   "id": "f55a89f4",
   "metadata": {
    "ExecuteTime": {
     "end_time": "2021-08-27T10:35:58.773815Z",
     "start_time": "2021-08-27T10:35:58.767828Z"
    }
   },
   "outputs": [],
   "source": [
    "# 독립변수는 정규화\n",
    "max_idx_value = max(code2idx.values())\n",
    "max_idx_value"
   ]
  },
  {
   "cell_type": "code",
   "execution_count": null,
   "id": "201cddc3",
   "metadata": {
    "ExecuteTime": {
     "end_time": "2021-08-27T10:35:59.240974Z",
     "start_time": "2021-08-27T10:35:59.233991Z"
    }
   },
   "outputs": [],
   "source": [
    "x_train = x_train/max_idx_value\n",
    "x_train[:2]"
   ]
  },
  {
   "cell_type": "code",
   "execution_count": null,
   "id": "46809a2e",
   "metadata": {
    "ExecuteTime": {
     "end_time": "2021-08-27T10:35:59.679001Z",
     "start_time": "2021-08-27T10:35:59.668997Z"
    }
   },
   "outputs": [],
   "source": [
    "#종속변수의 원핫인코딩\n",
    "y_train = utils.to_categorical(y_train)\n",
    "y_train.shape"
   ]
  },
  {
   "cell_type": "code",
   "execution_count": null,
   "id": "dff59120",
   "metadata": {
    "ExecuteTime": {
     "end_time": "2021-08-27T10:36:00.101648Z",
     "start_time": "2021-08-27T10:36:00.085664Z"
    }
   },
   "outputs": [],
   "source": [
    "one_hot_vec_size = y_train.shape[1] # 종속변수 갯수\n",
    "one_hot_vec_size"
   ]
  },
  {
   "cell_type": "markdown",
   "id": "94315e7a",
   "metadata": {},
   "source": [
    "# 3. DNN"
   ]
  },
  {
   "cell_type": "code",
   "execution_count": null,
   "id": "4a84ccf9",
   "metadata": {
    "ExecuteTime": {
     "end_time": "2021-08-27T10:39:34.767868Z",
     "start_time": "2021-08-27T10:38:33.531699Z"
    }
   },
   "outputs": [],
   "source": [
    "# 1. 모델 생성\n",
    "model = Sequential()\n",
    "model.add(Dense(units=128, input_dim=4, activation='relu'))\n",
    "model.add(Dense(\n",
    "    units=one_hot_vec_size, \n",
    "    activation='softmax'\n",
    "))\n",
    "# 2. 모델 학습과정 설정\n",
    "model.compile(\n",
    "    loss='categorical_crossentropy',\n",
    "    optimizer='adam',\n",
    "    metrics=['accuracy']\n",
    ")\n",
    "# 3. 모델 학습시키기\n",
    "class LossHistory(Callback):\n",
    "    def __init__(self):\n",
    "        self.epoch = 0\n",
    "        self.losses = []\n",
    "        self.accuracy = []\n",
    "    def on_epoch_end(self, batch, logs={}):\n",
    "        self.losses.append(logs.get('loss'))\n",
    "        self.accuracy.append(logs.get('accuracy'))\n",
    "        if self.epoch % 100 == 0:\n",
    "            print(\"epoch: {0} - loss: {1:8.6f}, acc : {2:8.6f}\".\\\n",
    "                  format(self.epoch, logs.get('loss'), logs.get('accuracy')))\n",
    "        self.epoch += 1\n",
    "history = LossHistory()\n",
    "for epoch in range(1000):\n",
    "    model.fit(x_train, y_train, epochs=1, batch_size=1, verbose=0,\n",
    "             callbacks=[history])\n",
    "    if (history.losses[-1] < 1e-4) & (history.accuracy[-1] > 0.99):\n",
    "        print(\"epoch:{} - loss:{}, acc:{} - 종료\".\\\n",
    "              format(epoch, history.losses[-1], history.accuracy[-1]))"
   ]
  },
  {
   "cell_type": "markdown",
   "id": "5b209fe7",
   "metadata": {},
   "source": [
    "# 4. LSTM"
   ]
  },
  {
   "cell_type": "code",
   "execution_count": null,
   "id": "c4ce952e",
   "metadata": {
    "ExecuteTime": {
     "end_time": "2021-08-27T10:20:42.142082Z",
     "start_time": "2021-08-27T10:20:42.138102Z"
    }
   },
   "outputs": [],
   "source": [
    "del model, history"
   ]
  },
  {
   "cell_type": "code",
   "execution_count": null,
   "id": "76cb47cc",
   "metadata": {
    "ExecuteTime": {
     "end_time": "2021-08-27T10:42:05.700088Z",
     "start_time": "2021-08-27T10:42:05.686120Z"
    }
   },
   "outputs": [],
   "source": [
    "x_train.shape"
   ]
  },
  {
   "cell_type": "code",
   "execution_count": null,
   "id": "d80a3073",
   "metadata": {
    "ExecuteTime": {
     "end_time": "2021-08-27T10:42:06.123369Z",
     "start_time": "2021-08-27T10:42:06.106415Z"
    }
   },
   "outputs": [],
   "source": [
    "x_train=x_train.reshape(50,4,1)"
   ]
  },
  {
   "cell_type": "code",
   "execution_count": null,
   "id": "f7b8c38c",
   "metadata": {
    "ExecuteTime": {
     "end_time": "2021-08-27T10:42:13.769062Z",
     "start_time": "2021-08-27T10:42:06.786851Z"
    }
   },
   "outputs": [],
   "source": [
    "# 1. 모델 생성\n",
    "model = Sequential()\n",
    "model.add(LSTM(\n",
    "    units=128,\n",
    "    kernel_initializer='glorot_normal',\n",
    "    bias_initializer='zero',\n",
    "    batch_input_shape=(1, 4, 1), \n",
    "    stateful=True\n",
    "))\n",
    "model.add(Dense(\n",
    "    units=one_hot_vec_size, \n",
    "    kernel_initializer='glorot_normal',\n",
    "    bias_initializer='zero',    \n",
    "    activation='softmax'\n",
    "))\n",
    "# 2. 모델 학습과정 설정\n",
    "model.compile(\n",
    "    loss='categorical_crossentropy',\n",
    "    optimizer='adam',\n",
    "    metrics=['accuracy']\n",
    ")\n",
    "# 3. 모델 학습시키기\n",
    "class LossHistory(Callback):\n",
    "    def __init__(self):\n",
    "        self.epoch = 0\n",
    "        self.losses = []\n",
    "        self.accuracy = []\n",
    "    def on_epoch_end(self, batch, logs={}):\n",
    "        self.losses.append(logs.get('loss'))\n",
    "        self.accuracy.append(logs.get('accuracy'))\n",
    "        if self.epoch % 100 == 0:\n",
    "            print(\"epoch: {0} - loss: {1:8.6f}, acc : {2:8.6f}\".\\\n",
    "                  format(self.epoch, logs.get('loss'), logs.get('accuracy')))\n",
    "        self.epoch += 1\n",
    "history = LossHistory()\n",
    "for epoch in range(1000):\n",
    "    model.fit(x_train, y_train, epochs=1, batch_size=1, verbose=0, shuffle=False,\n",
    "             callbacks=[history])\n",
    "    if (history.losses[-1] < 1e-5) & (history.accuracy[-1] > 0.99):\n",
    "        print(\"epoch:{} - loss:{}, acc:{} - 종료\".\\\n",
    "              format(epoch, history.losses[-1], history.accuracy[-1]))\n",
    "        break;\n",
    "    model.reset_states() # 훈련할 때마다 이전 데이터와 상관없이 다른 데이터라고 판단"
   ]
  },
  {
   "cell_type": "markdown",
   "id": "ca429b19",
   "metadata": {},
   "source": [
    "# 5. 모델 사용하기"
   ]
  },
  {
   "cell_type": "code",
   "execution_count": null,
   "id": "4c60af80",
   "metadata": {
    "ExecuteTime": {
     "end_time": "2021-08-27T10:29:53.951738Z",
     "start_time": "2021-08-27T10:29:53.554900Z"
    }
   },
   "outputs": [],
   "source": [
    "# 한 스텝 예측\n",
    "seq_out = ['g8', 'e8', 'e4', 'f8']\n",
    "sample = [code2idx[item] for item in seq_out]\n",
    "sample = np.array(sample).reshape(1,4,1)\n",
    "idx = model.predict(sample).argmax()\n",
    "idx2code[idx]"
   ]
  },
  {
   "cell_type": "code",
   "execution_count": null,
   "id": "7fbb7b73",
   "metadata": {
    "ExecuteTime": {
     "end_time": "2021-08-27T10:32:14.677718Z",
     "start_time": "2021-08-27T10:32:12.713598Z"
    }
   },
   "outputs": [],
   "source": [
    "pred_count=50\n",
    "seq_in = ['g8', 'c8', 'f4', 'e8']\n",
    "seq_out = seq_in\n",
    "seq_in = [code2idx[note] / float(max_idx_value) for note in seq_in]  # 코드를 인덱스값으로 변환\n",
    "\n",
    "for i in range(pred_count):\n",
    "    sample_in = np.array(seq_in)\n",
    "    sample_in = np.reshape(sample_in, (1,4,1))  # 샘플 수, 타입스텝 수, 속성 수\n",
    "    pred_out = model.predict(sample_in)\n",
    "    idx = np.argmax(pred_out)\n",
    "    seq_out.append(idx2code[idx])\n",
    "    seq_in.append(idx / float(max_idx_value))\n",
    "    seq_in.pop(0)\n",
    "\n",
    "model.reset_states()\n",
    "\n",
    "print(\"full song prediction : \")\n",
    "\n",
    "for note in seq_out:\n",
    "    print(note, end=\" \")"
   ]
  },
  {
   "cell_type": "code",
   "execution_count": null,
   "id": "07d61493",
   "metadata": {
    "ExecuteTime": {
     "end_time": "2021-08-27T10:33:05.061048Z",
     "start_time": "2021-08-27T10:33:05.043108Z"
    }
   },
   "outputs": [],
   "source": [
    "note_seq = ' '.join(seq_out)\n",
    "note_seq"
   ]
  },
  {
   "cell_type": "code",
   "execution_count": null,
   "id": "2d3c5960",
   "metadata": {},
   "outputs": [],
   "source": [
    "m = music21.converter.parse(\"2/4 \" + note_seq, format='tinyNotation')\n",
    "\n",
    "m.show(\"midi\")"
   ]
  }
 ],
 "metadata": {
  "kernelspec": {
   "display_name": "Python 3",
   "language": "python",
   "name": "python3"
  },
  "language_info": {
   "codemirror_mode": {
    "name": "ipython",
    "version": 3
   },
   "file_extension": ".py",
   "mimetype": "text/x-python",
   "name": "python",
   "nbconvert_exporter": "python",
   "pygments_lexer": "ipython3",
   "version": "3.8.8"
  },
  "toc": {
   "base_numbering": 1,
   "nav_menu": {},
   "number_sections": false,
   "sideBar": true,
   "skip_h1_title": false,
   "title_cell": "Table of Contents",
   "title_sidebar": "Contents",
   "toc_cell": false,
   "toc_position": {},
   "toc_section_display": true,
   "toc_window_display": true
  },
  "varInspector": {
   "cols": {
    "lenName": 16,
    "lenType": 16,
    "lenVar": 40
   },
   "kernels_config": {
    "python": {
     "delete_cmd_postfix": "",
     "delete_cmd_prefix": "del ",
     "library": "var_list.py",
     "varRefreshCmd": "print(var_dic_list())"
    },
    "r": {
     "delete_cmd_postfix": ") ",
     "delete_cmd_prefix": "rm(",
     "library": "var_list.r",
     "varRefreshCmd": "cat(var_dic_list()) "
    }
   },
   "types_to_exclude": [
    "module",
    "function",
    "builtin_function_or_method",
    "instance",
    "_Feature"
   ],
   "window_display": false
  }
 },
 "nbformat": 4,
 "nbformat_minor": 5
}
