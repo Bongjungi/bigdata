{
 "cells": [
  {
   "cell_type": "markdown",
   "id": "8c2606ae",
   "metadata": {},
   "source": [
    "# ch2 한글 형태소 분석"
   ]
  },
  {
   "cell_type": "markdown",
   "id": "18ca6437",
   "metadata": {},
   "source": [
    "## 1. 자연어 처리\n",
    "- 자연어(사람들이 일상적으로 사용 언어) 처리\n",
    "- 자연어 처리 분야\n",
    "    - 자연어 이해 : 형태소 분석 -> 의미 분석\n",
    "    - 자연어 생성 : 대화분석 -> 다음 문장이나 단어 출력\n",
    "- 활용분야 : 맞춤법검사, 번역기, 키워드 분석, 챗봇"
   ]
  },
  {
   "cell_type": "markdown",
   "id": "a6800c45",
   "metadata": {},
   "source": [
    "## 2. 자연어 처리 절차\n",
    "- 전처리 : 단어, 어절 추출\n",
    "- 분석 후보 생성 : 형태소 분리, 원형 복원, 품사 태깅\n",
    "- 제약조건(불용어 처리) 규칙 확인\n",
    "- 분석(현상시각화=워드클라우드, 연관분석, 거리계산, RNN, ...)"
   ]
  },
  {
   "cell_type": "markdown",
   "id": "d98bd751",
   "metadata": {},
   "source": [
    "## 3. 한글 형태소 분석 엔진\n",
    "- KoNLPy : Python용 (JPype1 패키지를 의존)\n",
    "     https://www.lfd.uci.edu/~gohlke/pythonlibs/#jpype\n",
    "    * KOMORAN : 자바로 만든 형태소 분석기\n",
    "    * HanNanum : 자바\n",
    "    * Kkma : 서울대학교 형태소 분석\n",
    "- KoNLP : R용\n",
    "\n",
    "\n",
    "- 위의 사이트에서 jpype설치 후에 pip install konlpy"
   ]
  },
  {
   "cell_type": "code",
   "execution_count": null,
   "id": "3c52e409",
   "metadata": {
    "ExecuteTime": {
     "end_time": "2021-08-19T02:45:43.066269Z",
     "start_time": "2021-08-19T02:45:43.050556Z"
    }
   },
   "outputs": [],
   "source": [
    "text = \"\"\"가노라 삼각산아 다시보자 한강수야. 태산이 높다하되 하늘아래 뫼이로다. \n",
    "많고 많은 마법사들 중 내가 제일 잘났지\"\"\""
   ]
  },
  {
   "cell_type": "markdown",
   "id": "51b125b0",
   "metadata": {},
   "source": [
    "### 3.1 HanNanum"
   ]
  },
  {
   "cell_type": "code",
   "execution_count": null,
   "id": "429e5695",
   "metadata": {
    "ExecuteTime": {
     "end_time": "2021-08-19T02:39:56.959513Z",
     "start_time": "2021-08-19T02:39:56.917583Z"
    }
   },
   "outputs": [],
   "source": [
    "%ls"
   ]
  },
  {
   "cell_type": "code",
   "execution_count": null,
   "id": "44fadf8c",
   "metadata": {
    "ExecuteTime": {
     "end_time": "2021-08-19T02:41:16.193979Z",
     "start_time": "2021-08-19T02:40:48.905913Z"
    }
   },
   "outputs": [],
   "source": [
    "! pip install JPype1-1.2.0-cp38-cp38-win_amd64.whl"
   ]
  },
  {
   "cell_type": "code",
   "execution_count": null,
   "id": "81903fea",
   "metadata": {
    "ExecuteTime": {
     "end_time": "2021-08-19T02:45:47.760444Z",
     "start_time": "2021-08-19T02:45:46.396550Z"
    }
   },
   "outputs": [],
   "source": [
    "from konlpy.tag import Hannanum\n",
    "han = Hannanum()\n",
    "han.analyze(text) #형태소 후보 반환"
   ]
  },
  {
   "cell_type": "markdown",
   "id": "40294f93",
   "metadata": {},
   "source": [
    "https://konlpy.org 접속 후\n",
    "user guide -> Comparison between POS tagging classes -> Korean POS tags comparison chart "
   ]
  },
  {
   "cell_type": "code",
   "execution_count": null,
   "id": "bbf87dba",
   "metadata": {
    "ExecuteTime": {
     "end_time": "2021-08-19T02:54:05.179065Z",
     "start_time": "2021-08-19T02:54:02.800707Z"
    }
   },
   "outputs": [],
   "source": [
    "# 형태소 분석만\n",
    "print(han.morphs(text))"
   ]
  },
  {
   "cell_type": "code",
   "execution_count": null,
   "id": "f5d9b2e9",
   "metadata": {
    "ExecuteTime": {
     "end_time": "2021-08-19T02:54:50.826918Z",
     "start_time": "2021-08-19T02:54:50.811967Z"
    }
   },
   "outputs": [],
   "source": [
    "print(han.nouns(text))"
   ]
  },
  {
   "cell_type": "code",
   "execution_count": null,
   "id": "08747481",
   "metadata": {
    "ExecuteTime": {
     "end_time": "2021-08-19T02:55:02.810200Z",
     "start_time": "2021-08-19T02:55:02.793219Z"
    }
   },
   "outputs": [],
   "source": [
    "print(han.pos(text,ntags=9)) # 디폴트가 종류를 9가지로 분류하는 ntags-9"
   ]
  },
  {
   "cell_type": "code",
   "execution_count": null,
   "id": "140c6b0e",
   "metadata": {
    "ExecuteTime": {
     "end_time": "2021-08-19T02:58:37.527262Z",
     "start_time": "2021-08-19T02:58:34.390236Z"
    }
   },
   "outputs": [],
   "source": [
    "print(han.pos(text,ntags=22)) "
   ]
  },
  {
   "cell_type": "code",
   "execution_count": null,
   "id": "5d7ee978",
   "metadata": {
    "ExecuteTime": {
     "end_time": "2021-08-19T03:00:13.709871Z",
     "start_time": "2021-08-19T03:00:13.694910Z"
    }
   },
   "outputs": [],
   "source": [
    "#퀴즈 : text 중에서 형용사만 추출\n",
    "[i[0] for i in han.pos(text,ntags=22) if i[1]=='PA']"
   ]
  },
  {
   "cell_type": "code",
   "execution_count": null,
   "id": "aff5534f",
   "metadata": {
    "ExecuteTime": {
     "end_time": "2021-08-19T03:01:05.518087Z",
     "start_time": "2021-08-19T03:01:05.506112Z"
    }
   },
   "outputs": [],
   "source": [
    "# 퀴즈 : text 중에서 일반명사만 추출\n",
    "[i[0] for i in han.pos(text,ntags=22) if i[1]=='NC']"
   ]
  },
  {
   "cell_type": "markdown",
   "id": "082b4b0e",
   "metadata": {},
   "source": [
    "### 3.2 Kkma"
   ]
  },
  {
   "cell_type": "code",
   "execution_count": null,
   "id": "f1db3c6f",
   "metadata": {
    "ExecuteTime": {
     "end_time": "2021-08-19T03:05:15.827839Z",
     "start_time": "2021-08-19T03:05:15.812196Z"
    }
   },
   "outputs": [],
   "source": [
    "text = \"\"\"가노라 삼각산아 다시보자 한강수야. 태산이 높다하되 하늘아래 뫼이로다. \n",
    "많고 많은 마법사들 중 내가 제일 잘났지. 까마귀 검다하되 백로야 웃지마라.\"\"\""
   ]
  },
  {
   "cell_type": "code",
   "execution_count": null,
   "id": "512edef5",
   "metadata": {
    "ExecuteTime": {
     "end_time": "2021-08-19T03:06:53.625846Z",
     "start_time": "2021-08-19T03:06:37.610773Z"
    }
   },
   "outputs": [],
   "source": [
    "from konlpy.tag import Kkma\n",
    "kkma = Kkma(max_heap_size=1024) # 힙메모리 사이즈 늘릴 때 사용\n",
    "print(kkma.morphs(text))"
   ]
  },
  {
   "cell_type": "code",
   "execution_count": null,
   "id": "db31e4fd",
   "metadata": {
    "ExecuteTime": {
     "end_time": "2021-08-19T03:07:16.240025Z",
     "start_time": "2021-08-19T03:07:16.120359Z"
    }
   },
   "outputs": [],
   "source": [
    "print(kkma.nouns(text))"
   ]
  },
  {
   "cell_type": "code",
   "execution_count": null,
   "id": "10655edb",
   "metadata": {
    "ExecuteTime": {
     "end_time": "2021-08-19T03:09:19.311288Z",
     "start_time": "2021-08-19T03:09:19.249454Z"
    }
   },
   "outputs": [],
   "source": [
    "# pos tagging\n",
    "print(kkma.pos(text)) # ntags 디폴트값은 56"
   ]
  },
  {
   "cell_type": "code",
   "execution_count": null,
   "id": "c00d1ebb",
   "metadata": {
    "ExecuteTime": {
     "end_time": "2021-08-19T03:12:50.769293Z",
     "start_time": "2021-08-19T03:12:50.714100Z"
    }
   },
   "outputs": [],
   "source": [
    "# 보통명사만 추출\n",
    "tagged_text = kkma.pos(text)\n",
    "[t[0] for t in tagged_text if t[1]=='NNG']"
   ]
  },
  {
   "cell_type": "code",
   "execution_count": null,
   "id": "dfc8a559",
   "metadata": {
    "ExecuteTime": {
     "end_time": "2021-08-19T03:15:19.118265Z",
     "start_time": "2021-08-19T03:15:12.505163Z"
    }
   },
   "outputs": [],
   "source": [
    "from konlpy.tag import Komoran\n",
    "komoran = Komoran(max_heap_size=1024) # heap memory 늘리기\n",
    "print(komoran.morphs(text))"
   ]
  },
  {
   "cell_type": "code",
   "execution_count": null,
   "id": "efe77787",
   "metadata": {
    "ExecuteTime": {
     "end_time": "2021-08-19T03:15:43.601131Z",
     "start_time": "2021-08-19T03:15:43.585477Z"
    }
   },
   "outputs": [],
   "source": [
    "print(komoran.nouns(text))"
   ]
  },
  {
   "cell_type": "code",
   "execution_count": null,
   "id": "8b3f4916",
   "metadata": {
    "ExecuteTime": {
     "end_time": "2021-08-19T03:16:31.018720Z",
     "start_time": "2021-08-19T03:16:31.007750Z"
    }
   },
   "outputs": [],
   "source": [
    "print(komoran.pos(text))"
   ]
  },
  {
   "cell_type": "markdown",
   "id": "9c28aa30",
   "metadata": {},
   "source": [
    "## 4. 워드클라우드"
   ]
  },
  {
   "cell_type": "code",
   "execution_count": null,
   "id": "0d1d2022",
   "metadata": {
    "ExecuteTime": {
     "end_time": "2021-08-19T03:44:55.536832Z",
     "start_time": "2021-08-19T03:44:55.520996Z"
    }
   },
   "outputs": [],
   "source": [
    "from konlpy.corpus import kolaw\n",
    "data = kolaw.open('constitution.txt').read()\n",
    "print(data[:20])\n",
    "print(\"%r\"%data[:20])"
   ]
  },
  {
   "cell_type": "code",
   "execution_count": null,
   "id": "e54fae47",
   "metadata": {
    "ExecuteTime": {
     "end_time": "2021-08-19T03:51:24.874444Z",
     "start_time": "2021-08-19T03:51:20.382453Z"
    }
   },
   "outputs": [],
   "source": [
    "# 명사들 추출\n",
    "word_list = komoran.nouns('%r'%data)\n",
    "print(\"명사 출현수 : \", len(word_list))\n",
    "print(\"출현 명사 갯수 : \", len(set(word_list)))\n",
    "print('한 단어당 평균 반복 횟수 : ', len(word_list)/len(set(word_list)))\n",
    "print(type(word_list))\n",
    "print(word_list[:10])"
   ]
  },
  {
   "cell_type": "code",
   "execution_count": null,
   "id": "908b2d57",
   "metadata": {
    "ExecuteTime": {
     "end_time": "2021-08-19T03:56:26.835291Z",
     "start_time": "2021-08-19T03:56:26.815318Z"
    }
   },
   "outputs": [],
   "source": [
    "# 워드 클라우드 할 text는 리스트를 하나의 연결된 문자로 만들어야 됨. '대한민국 헌법 유구 대한민국'\n",
    "text = ' '.join(word_list)\n",
    "text"
   ]
  },
  {
   "cell_type": "markdown",
   "id": "6d07fbdc",
   "metadata": {},
   "source": [
    "## 아나콘다 프롬프트에서 pip install WordCloud"
   ]
  },
  {
   "cell_type": "code",
   "execution_count": null,
   "id": "d115abec",
   "metadata": {
    "ExecuteTime": {
     "end_time": "2021-08-19T04:03:52.517120Z",
     "start_time": "2021-08-19T04:03:40.117669Z"
    }
   },
   "outputs": [],
   "source": [
    "import nltk\n",
    "from nltk.tokenize import RegexpTokenizer\n",
    "from nltk.tag import pos_tag\n",
    "emma = nltk.corpus.gutenberg.raw('austen-emma.txt')\n",
    "ret = RegexpTokenizer('[\\w]{3,}')\n",
    "emma_tags = pos_tag(ret.tokenize(emma))\n",
    "nouns_list = [i[0] for i in emma_tags if i[1]=='NN']\n",
    "wc_emma=' '.join(nouns_list)\n",
    "wc_emma"
   ]
  },
  {
   "cell_type": "code",
   "execution_count": null,
   "id": "28510e3b",
   "metadata": {
    "ExecuteTime": {
     "end_time": "2021-08-19T04:07:25.978146Z",
     "start_time": "2021-08-19T04:07:25.126761Z"
    }
   },
   "outputs": [],
   "source": [
    "from wordcloud import WordCloud\n",
    "import matplotlib.pyplot as plt\n",
    "wordc=WordCloud()\n",
    "wordc.generate(wc_emma) #워드클라우드 생성\n",
    "plt.figure(figsize=(12,10))\n",
    "plt.imshow(wordc)\n",
    "plt.axis('off')\n",
    "plt.show()"
   ]
  },
  {
   "cell_type": "code",
   "execution_count": null,
   "id": "67a62199",
   "metadata": {
    "ExecuteTime": {
     "end_time": "2021-08-19T04:09:46.998754Z",
     "start_time": "2021-08-19T04:09:46.380945Z"
    }
   },
   "outputs": [],
   "source": [
    "wordc = WordCloud(background_color='white')\n",
    "wordc.generate(text)\n",
    "plt.imshow(wordc)"
   ]
  },
  {
   "cell_type": "code",
   "execution_count": null,
   "id": "37b8347e",
   "metadata": {
    "ExecuteTime": {
     "end_time": "2021-08-19T04:15:57.701016Z",
     "start_time": "2021-08-19T04:15:57.042815Z"
    }
   },
   "outputs": [],
   "source": [
    "wordc = WordCloud(background_color='white', max_words=300, font_path='c:/Windows/Fonts/H2PORM.TTF', relative_scaling=0.2)\n",
    "wordc.generate(text)\n",
    "plt.figure(figsize=(10,10))\n",
    "plt.imshow(wordc, interpolation='bilinear') #보간법 이용\n",
    "plt.axis('off')"
   ]
  },
  {
   "cell_type": "code",
   "execution_count": null,
   "id": "30b58209",
   "metadata": {
    "ExecuteTime": {
     "end_time": "2021-08-19T04:18:40.227127Z",
     "start_time": "2021-08-19T04:18:35.582161Z"
    }
   },
   "outputs": [],
   "source": [
    "# 일반명사\n",
    "tagged_data=komoran.pos(data)\n",
    "noun_list=[i[0] for i in tagged_data if i[1]=='NNG']\n",
    "text=' '.join(noun_list)"
   ]
  },
  {
   "cell_type": "code",
   "execution_count": null,
   "id": "3539f0be",
   "metadata": {
    "ExecuteTime": {
     "end_time": "2021-08-19T04:18:41.097918Z",
     "start_time": "2021-08-19T04:18:40.468315Z"
    }
   },
   "outputs": [],
   "source": [
    "wordc = WordCloud(background_color='white', max_words=300, font_path='c:/Windows/Fonts/H2PORM.TTF', relative_scaling=0.2)\n",
    "wordc.generate(text)\n",
    "plt.figure(figsize=(10,10))\n",
    "plt.imshow(wordc, interpolation='bilinear') #보간법 이용\n",
    "plt.axis('off')"
   ]
  },
  {
   "cell_type": "code",
   "execution_count": null,
   "id": "a2d1be92",
   "metadata": {
    "ExecuteTime": {
     "end_time": "2021-08-19T05:36:01.725860Z",
     "start_time": "2021-08-19T05:36:01.702937Z"
    }
   },
   "outputs": [],
   "source": [
    "# 불용어 처리 (불용어 지정 + 불용어 사전)\n",
    "from wordcloud import STOPWORDS\n",
    "불용어= STOPWORDS | set(['대통령','때'])\n",
    "불용어 = set(['대통령','때'])"
   ]
  },
  {
   "cell_type": "code",
   "execution_count": null,
   "id": "1747612b",
   "metadata": {
    "ExecuteTime": {
     "end_time": "2021-08-19T05:40:15.161535Z",
     "start_time": "2021-08-19T05:40:14.547744Z"
    }
   },
   "outputs": [],
   "source": [
    "wordcloud = WordCloud(background_color='white',\n",
    "                      max_words=200,\n",
    "                      font_path='c:/Windows/Fonts/H2PORM.TTF',\n",
    "                      relative_scaling=0.2,\n",
    "                      stopwords=불용어)\n",
    "wordcloud.generate(text)\n",
    "plt.figure(figsize=(10,10))\n",
    "plt.imshow(wordcloud, interpolation='bilinear')\n",
    "plt.axis('off')"
   ]
  },
  {
   "cell_type": "code",
   "execution_count": null,
   "id": "58b7b1a5",
   "metadata": {
    "ExecuteTime": {
     "end_time": "2021-08-19T05:49:55.130266Z",
     "start_time": "2021-08-19T05:49:54.934682Z"
    }
   },
   "outputs": [],
   "source": [
    "# 마스킹 : 워드클라우드를 지정된 마스크 이미지에 맞도록 생성\n",
    "from PIL import Image\n",
    "import numpy as np\n",
    "img = Image.open('data/south_korea.png').convert('RGBA')\n",
    "mask = Image.new('RGB', img.size, (0,0,0))\n",
    "mask.paste(img)\n",
    "plt.imshow(mask)\n",
    "mask = np.array(mask)"
   ]
  },
  {
   "cell_type": "code",
   "execution_count": null,
   "id": "8ebbafc6",
   "metadata": {
    "ExecuteTime": {
     "end_time": "2021-08-19T05:51:13.413384Z",
     "start_time": "2021-08-19T05:51:08.290766Z"
    }
   },
   "outputs": [],
   "source": [
    "wordcloud = WordCloud(background_color='white',\n",
    "                      max_words=700,\n",
    "                      font_path='c:/Windows/Fonts/H2PORM.TTF',\n",
    "                      relative_scaling=0.1,\n",
    "                      mask=mask,\n",
    "                      stopwords=불용어\n",
    "                      )\n",
    "wordcloud.generate(text)\n",
    "plt.figure(figsize=(10,10))\n",
    "plt.imshow(wordcloud, interpolation='bilinear')\n",
    "plt.axis('off')"
   ]
  },
  {
   "cell_type": "code",
   "execution_count": null,
   "id": "bc5faf65",
   "metadata": {
    "ExecuteTime": {
     "end_time": "2021-08-19T05:54:21.193364Z",
     "start_time": "2021-08-19T05:54:19.482842Z"
    }
   },
   "outputs": [],
   "source": [
    "# 생성된 wordcloud 저장\n",
    "wordcloud.to_file('test3_wc.png')"
   ]
  },
  {
   "cell_type": "markdown",
   "id": "79ecb54d",
   "metadata": {},
   "source": [
    "## 5. 단어 빈도수 시각화"
   ]
  },
  {
   "cell_type": "code",
   "execution_count": 2,
   "id": "7b12997e",
   "metadata": {
    "ExecuteTime": {
     "end_time": "2021-08-19T06:04:10.303373Z",
     "start_time": "2021-08-19T06:03:55.614656Z"
    }
   },
   "outputs": [
    {
     "data": {
      "image/png": "[encoded data removed]",
      "text/plain": [
       "<Figure size 432x288 with 1 Axes>"
      ]
     },
     "metadata": {
      "needs_background": "light"
     },
     "output_type": "display_data"
    }
   ],
   "source": [
    "from wordcloud import WordCloud\n",
    "from konlpy.tag import Kkma\n",
    "import nltk\n",
    "import matplotlib.pyplot as plt\n",
    "from konlpy.tag import Kkma\n",
    "from konlpy.corpus import kolaw\n",
    "data = kolaw.open('constitution.txt').read()\n",
    "kkma = Kkma()\n",
    "tagged_data=kkma.pos(data)\n",
    "noun_list = [t[0] for t in tagged_data if t[1]=='NNG']\n",
    "plt.rc(\"font\",family=\"Malgun Gothic\")\n",
    "nltk.Text(noun_list).plot(10)"
   ]
  },
  {
   "cell_type": "markdown",
   "id": "52492503",
   "metadata": {},
   "source": [
    "## 6. 워드 임베딩\n",
    "- 단어간 유사성 도출\n"
   ]
  },
  {
   "cell_type": "code",
   "execution_count": 3,
   "id": "34412c17",
   "metadata": {
    "ExecuteTime": {
     "end_time": "2021-08-19T06:16:41.206971Z",
     "start_time": "2021-08-19T06:16:40.981780Z"
    }
   },
   "outputs": [
    {
     "data": {
      "text/plain": [
       "['https://news.jtbc.joins.com/article/article.aspx?news_id=NB12020546',\n",
       " 'https://news.jtbc.joins.com/article/article.aspx?news_id=NB12020508',\n",
       " 'https://news.jtbc.joins.com/article/article.aspx?news_id=NB12020509',\n",
       " 'https://news.jtbc.joins.com/article/article.aspx?news_id=NB12020387',\n",
       " 'https://news.jtbc.joins.com/article/article.aspx?news_id=NB12020390',\n",
       " 'https://news.jtbc.joins.com/article/article.aspx?news_id=NB12020349',\n",
       " 'https://news.jtbc.joins.com/article/article.aspx?news_id=NB12020351',\n",
       " 'https://news.jtbc.joins.com/article/article.aspx?news_id=NB12020353',\n",
       " 'https://news.jtbc.joins.com/article/article.aspx?news_id=NB12020247',\n",
       " 'https://news.jtbc.joins.com/article/article.aspx?news_id=NB12020214',\n",
       " 'https://news.jtbc.joins.com/article/article.aspx?news_id=NB12020215',\n",
       " 'https://news.jtbc.joins.com/article/article.aspx?news_id=NB12020233',\n",
       " 'https://news.jtbc.joins.com/article/article.aspx?news_id=NB12020149',\n",
       " 'https://news.jtbc.joins.com/article/article.aspx?news_id=NB12020111',\n",
       " 'https://news.jtbc.joins.com/article/article.aspx?news_id=NB12019998',\n",
       " 'https://news.jtbc.joins.com/article/article.aspx?news_id=NB12019984',\n",
       " 'https://news.jtbc.joins.com/article/article.aspx?news_id=NB12019997',\n",
       " 'https://news.jtbc.joins.com/article/article.aspx?news_id=NB12019990',\n",
       " 'https://news.jtbc.joins.com/article/article.aspx?news_id=NB12019883',\n",
       " 'https://news.jtbc.joins.com/article/article.aspx?news_id=NB12019880']"
      ]
     },
     "execution_count": 3,
     "metadata": {},
     "output_type": "execute_result"
    }
   ],
   "source": [
    "# 뉴스 기사 link를 가져와서 웹크롤링 -> 명사 추출 -> 단어간 거리 유사성 출력\n",
    "import requests\n",
    "from bs4 import BeautifulSoup\n",
    "rss_url = 'https://fs.jtbc.joins.com//RSS/economy.xml'\n",
    "jtbc_economy = requests.get(rss_url)\n",
    "soup = BeautifulSoup(jtbc_economy.content, 'xml')\n",
    "link_el = soup.select('item > link')\n",
    "link_list = [link.text for link in link_el]\n",
    "link_list"
   ]
  },
  {
   "cell_type": "code",
   "execution_count": 10,
   "id": "146bfc5c",
   "metadata": {
    "ExecuteTime": {
     "end_time": "2021-08-19T06:45:20.237672Z",
     "start_time": "2021-08-19T06:45:10.010439Z"
    }
   },
   "outputs": [],
   "source": [
    "# 각 link들의 뉴스 기사들 명사만 뽑아라\n",
    "from konlpy.tag import Kkma\n",
    "kkma = Kkma()\n",
    "news=[]\n",
    "for link in link_list:\n",
    "    response = requests.get(link)\n",
    "    news_soup = BeautifulSoup(response.content, 'html.parser')\n",
    "    title = news_soup.select_one('div.title > h3#jtbcBody').text\n",
    "    content = news_soup.select_one('div#articlebody').text\n",
    "    noun_list = kkma.nouns(title+content)\n",
    "    news.append(noun_list)"
   ]
  },
  {
   "cell_type": "code",
   "execution_count": 13,
   "id": "d6b58232",
   "metadata": {
    "ExecuteTime": {
     "end_time": "2021-08-19T06:47:34.289672Z",
     "start_time": "2021-08-19T06:47:34.284685Z"
    }
   },
   "outputs": [
    {
     "name": "stdout",
     "output_type": "stream",
     "text": [
      "뉴스당 명사 개수 :  [117, 142, 161, 141, 186, 154, 192, 156, 108, 236, 191, 159, 113, 228, 166, 171, 140, 217, 127, 212]\n"
     ]
    }
   ],
   "source": [
    "print('뉴스당 명사 개수 : ',[len(n) for n in news])"
   ]
  },
  {
   "cell_type": "markdown",
   "id": "ad828549",
   "metadata": {},
   "source": [
    "### 워드 임베딩하기(단어간 거리 계산)\n",
    "- pip install gensim 하기\n"
   ]
  },
  {
   "cell_type": "code",
   "execution_count": 14,
   "id": "1fd5a3d5",
   "metadata": {
    "ExecuteTime": {
     "end_time": "2021-08-19T06:53:03.677737Z",
     "start_time": "2021-08-19T06:53:03.073419Z"
    }
   },
   "outputs": [
    {
     "name": "stderr",
     "output_type": "stream",
     "text": [
      "C:\\Users\\tjoeun\\anaconda3\\lib\\site-packages\\gensim\\similarities\\__init__.py:15: UserWarning: The gensim.similarities.levenshtein submodule is disabled, because the optional Levenshtein package <https://pypi.org/project/python-Levenshtein/> is unavailable. Install Levenhstein (e.g. `pip install python-Levenshtein`) to suppress this warning.\n",
      "  warnings.warn(msg)\n"
     ]
    }
   ],
   "source": [
    "from gensim.models import Word2Vec\n",
    "model = Word2Vec(news, window=5, min_count=2, workers=1)"
   ]
  },
  {
   "cell_type": "code",
   "execution_count": 15,
   "id": "f80e4f1d",
   "metadata": {
    "ExecuteTime": {
     "end_time": "2021-08-19T06:54:43.014545Z",
     "start_time": "2021-08-19T06:54:42.869981Z"
    }
   },
   "outputs": [
    {
     "data": {
      "text/plain": [
       "[('실현', 0.3122883141040802),\n",
       " ('공정위', 0.23871801793575287),\n",
       " ('황', 0.2285536825656891),\n",
       " ('소비자', 0.22080081701278687),\n",
       " ('가지', 0.21957911550998688),\n",
       " ('집', 0.21919037401676178),\n",
       " ('지급', 0.2085629254579544),\n",
       " ('이하', 0.2041962742805481),\n",
       " ('기업', 0.20380844175815582),\n",
       " ('증가세', 0.19367653131484985)]"
      ]
     },
     "execution_count": 15,
     "metadata": {},
     "output_type": "execute_result"
    }
   ],
   "source": [
    "model.wv.most_similar('코로나')"
   ]
  },
  {
   "cell_type": "code",
   "execution_count": 17,
   "id": "f5645086",
   "metadata": {
    "ExecuteTime": {
     "end_time": "2021-08-19T06:56:21.738605Z",
     "start_time": "2021-08-19T06:56:21.724628Z"
    }
   },
   "outputs": [
    {
     "data": {
      "text/plain": [
       "[('보수', 0.29536038637161255),\n",
       " ('백만', 0.25872573256492615),\n",
       " ('노총', 0.2429419308900833),\n",
       " ('국민', 0.22248700261116028),\n",
       " ('코로나', 0.21919037401676178)]"
      ]
     },
     "execution_count": 17,
     "metadata": {},
     "output_type": "execute_result"
    }
   ],
   "source": [
    "model.wv.most_similar('집',topn=5)"
   ]
  },
  {
   "cell_type": "code",
   "execution_count": null,
   "id": "c7ebac74",
   "metadata": {},
   "outputs": [],
   "source": []
  }
 ],
 "metadata": {
  "kernelspec": {
   "display_name": "Python 3",
   "language": "python",
   "name": "python3"
  },
  "language_info": {
   "codemirror_mode": {
    "name": "ipython",
    "version": 3
   },
   "file_extension": ".py",
   "mimetype": "text/x-python",
   "name": "python",
   "nbconvert_exporter": "python",
   "pygments_lexer": "ipython3",
   "version": "3.8.8"
  },
  "toc": {
   "base_numbering": 1,
   "nav_menu": {},
   "number_sections": false,
   "sideBar": true,
   "skip_h1_title": false,
   "title_cell": "Table of Contents",
   "title_sidebar": "Contents",
   "toc_cell": false,
   "toc_position": {
    "height": "calc(100% - 180px)",
    "left": "10px",
    "top": "150px",
    "width": "278.889px"
   },
   "toc_section_display": true,
   "toc_window_display": true
  },
  "varInspector": {
   "cols": {
    "lenName": 16,
    "lenType": 16,
    "lenVar": 40
   },
   "kernels_config": {
    "python": {
     "delete_cmd_postfix": "",
     "delete_cmd_prefix": "del ",
     "library": "var_list.py",
     "varRefreshCmd": "print(var_dic_list())"
    },
    "r": {
     "delete_cmd_postfix": ") ",
     "delete_cmd_prefix": "rm(",
     "library": "var_list.r",
     "varRefreshCmd": "cat(var_dic_list()) "
    }
   },
   "types_to_exclude": [
    "module",
    "function",
    "builtin_function_or_method",
    "instance",
    "_Feature"
   ],
   "window_display": false
  }
 },
 "nbformat": 4,
 "nbformat_minor": 5
}
